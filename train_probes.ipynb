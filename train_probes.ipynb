{
 "cells": [
  {
   "cell_type": "code",
   "execution_count": 31,
   "metadata": {},
   "outputs": [],
   "source": [
    "import torch as t\n",
    "import os\n",
    "import numpy as np\n",
    "import sys\n",
    "from pathlib import Path\n",
    "\n",
    "# import OthelloBoardState\n",
    "section_dir = Path.cwd()\n",
    "assert section_dir.name == \"interpretability\"\n",
    "\n",
    "OTHELLO_ROOT = (section_dir / \"othello_world\").resolve()\n",
    "OTHELLO_MECHINT_ROOT = (OTHELLO_ROOT / \"mechanistic_interpretability\").resolve()\n",
    "\n",
    "sys.path.append(str(OTHELLO_MECHINT_ROOT))\n",
    "\n",
    "from mech_interp_othello_utils import (\n",
    "    OthelloBoardState,\n",
    "    to_string,\n",
    "    to_int,\n",
    ")\n",
    "\n",
    "from training_utils import (\n",
    "    get_state_stack_one_hot_general,\n",
    ")"
   ]
  },
  {
   "cell_type": "code",
   "execution_count": 32,
   "metadata": {},
   "outputs": [],
   "source": [
    "board_seqs_string = t.load(\n",
    "    os.path.join(\n",
    "        section_dir,\n",
    "        \"data/board_seqs_string_train.pth\",\n",
    "    )\n",
    ")"
   ]
  },
  {
   "cell_type": "code",
   "execution_count": 52,
   "metadata": {},
   "outputs": [],
   "source": [
    "WHITE = -1\n",
    "BLACK = 1\n",
    "BLANK = 0\n",
    "ACCESIBLE = 2\n",
    "LEGAL = 3\n",
    "\n",
    "def is_legal_or_accesible(_state, row, col, player):\n",
    "    is_accesible = False\n",
    "    for dr in [-1, 0, 1]:\n",
    "        for dc in [-1, 0, 1]:\n",
    "            if dr == 0 and dc == 0:\n",
    "                continue\n",
    "            r, c = row + dr, col + dc\n",
    "            if r < 0 or r >= 8 or c < 0 or c >= 8:\n",
    "                continue\n",
    "            if _state[r, c] == -player or _state[r, c] == player:\n",
    "                is_accesible = True\n",
    "            if _state[r, c] == player:\n",
    "                while True:\n",
    "                    r += dr\n",
    "                    c += dc\n",
    "                    if r < 0 or r >= 8 or c < 0 or c >= 8:\n",
    "                        break\n",
    "                    if _state[r, c] == BLANK:\n",
    "                        break\n",
    "                    if _state[r, c] == -player:\n",
    "                        return LEGAL\n",
    "    if is_accesible:\n",
    "        return ACCESIBLE\n",
    "    return BLANK\n",
    "                    \n",
    "\n",
    "def seq_to_state_stack_legal(str_moves):\n",
    "    \"\"\"\n",
    "    0: blank\n",
    "    1: unaffected\n",
    "    2: accesible\n",
    "    3: legal\n",
    "    \"\"\"\n",
    "    if isinstance(str_moves, t.Tensor):\n",
    "        str_moves = str_moves.tolist()\n",
    "    board = OthelloBoardState()\n",
    "    states = []\n",
    "    for move_idx, move in enumerate(str_moves):\n",
    "        # The Player who just played\n",
    "        player = BLACK if move_idx % 2 == 0 else WHITE\n",
    "        try:\n",
    "            board.umpire(move)\n",
    "        except RuntimeError:\n",
    "            breakpoint()\n",
    "        _state = np.copy(board.state)\n",
    "        # Do Accessible\n",
    "        for row in range(8):\n",
    "            for col in range(8):\n",
    "                if _state[row, col] != BLANK:\n",
    "                    continue\n",
    "                _state[row, col] = is_legal_or_accesible(_state, row, col, player)\n",
    "        # _state = np.abs(_state)\n",
    "        states.append(_state)\n",
    "    states = np.stack(states, axis=0)\n",
    "    return t.tensor(states)\n",
    "\n",
    "def build_state_stack_legal(board_seqs_string):\n",
    "    \"\"\"\n",
    "    Construct stack of board-states.\n",
    "    This function will also filter out corrputed game-sequences.\n",
    "    \"\"\"\n",
    "    state_stack = []\n",
    "    for idx, seq in enumerate(board_seqs_string):\n",
    "        _stack = seq_to_state_stack_legal(seq)\n",
    "        state_stack.append(_stack)\n",
    "    return t.tensor(np.stack(state_stack))\n",
    "\n",
    "def state_stack_to_one_hot_accesible(state_stack):\n",
    "    one_hot = t.zeros(\n",
    "        state_stack.shape[0],\n",
    "        state_stack.shape[1],\n",
    "        8,  # rows\n",
    "        8,  # cols\n",
    "        2,  # options\n",
    "        device=state_stack.device,\n",
    "        dtype=t.int,\n",
    "    )  # [batch_size, 59, 8, 8, 4]\n",
    "\n",
    "    # Accesible\n",
    "    one_hot[..., 0] = state_stack >= ACCESIBLE\n",
    "    one_hot[..., 1] = 1 - one_hot[..., 0]\n",
    "    return one_hot\n",
    "\n",
    "def state_stack_to_one_hot_legal(state_stack):\n",
    "    one_hot = t.zeros(\n",
    "        state_stack.shape[0],\n",
    "        state_stack.shape[1],\n",
    "        8,  # rows\n",
    "        8,  # cols\n",
    "        2,  # options\n",
    "        device=state_stack.device,\n",
    "        dtype=t.int,\n",
    "    )  # [batch_size, 59, 8, 8, 4]\n",
    "\n",
    "    # Accesible\n",
    "    one_hot[..., 0] = state_stack == LEGAL\n",
    "    one_hot[..., 1] = 1 - one_hot[..., 0]\n",
    "    return one_hot\n",
    "\n",
    "\n",
    "get_state_stack_one_hot_accesible = get_state_stack_one_hot_general(seq_to_state_stack_legal, state_stack_to_one_hot_accesible)\n",
    "get_state_stack_one_hot_legal = get_state_stack_one_hot_general(seq_to_state_stack_legal, state_stack_to_one_hot_legal)"
   ]
  },
  {
   "cell_type": "code",
   "execution_count": 53,
   "metadata": {},
   "outputs": [
    {
     "name": "stdout",
     "output_type": "stream",
     "text": [
      "torch.Size([10, 60])\n"
     ]
    },
    {
     "data": {
      "text/plain": [
       "torch.Size([10, 60, 8, 8, 2])"
      ]
     },
     "execution_count": 53,
     "metadata": {},
     "output_type": "execute_result"
    }
   ],
   "source": [
    "games_str = board_seqs_string[:10]\n",
    "assert games_str.shape == (10, 60)\n",
    "\n",
    "print(games_str.shape)\n",
    "\n",
    "one_hot = get_state_stack_one_hot_accesible(games_str)\n",
    "one_hot.shape"
   ]
  },
  {
   "cell_type": "code",
   "execution_count": 54,
   "metadata": {},
   "outputs": [
    {
     "data": {
      "text/plain": [
       "tensor([[1, 1, 1, 1, 1, 1, 1, 1],\n",
       "        [1, 1, 1, 1, 1, 0, 0, 0],\n",
       "        [1, 1, 0, 0, 0, 0, 1, 0],\n",
       "        [1, 1, 0, 1, 1, 1, 0, 0],\n",
       "        [1, 1, 0, 1, 1, 0, 0, 1],\n",
       "        [1, 1, 0, 0, 1, 0, 1, 1],\n",
       "        [1, 1, 1, 0, 0, 0, 1, 1],\n",
       "        [1, 1, 1, 1, 1, 1, 1, 1]], device='cuda:0', dtype=torch.int32)"
      ]
     },
     "execution_count": 54,
     "metadata": {},
     "output_type": "execute_result"
    }
   ],
   "source": [
    "one_hot[0, 2, :, :, 1]"
   ]
  },
  {
   "cell_type": "code",
   "execution_count": 55,
   "metadata": {},
   "outputs": [],
   "source": [
    "one_hot_legal = get_state_stack_one_hot_legal(games_str)"
   ]
  },
  {
   "cell_type": "code",
   "execution_count": 58,
   "metadata": {},
   "outputs": [
    {
     "data": {
      "text/plain": [
       "tensor([[0, 0, 0, 0, 0, 0, 0, 0],\n",
       "        [0, 0, 0, 0, 0, 0, 0, 0],\n",
       "        [0, 0, 0, 0, 0, 0, 0, 0],\n",
       "        [0, 0, 0, 0, 0, 0, 1, 0],\n",
       "        [0, 0, 0, 0, 0, 0, 0, 0],\n",
       "        [0, 0, 1, 1, 0, 1, 0, 0],\n",
       "        [0, 0, 0, 0, 1, 0, 0, 0],\n",
       "        [0, 0, 0, 0, 0, 0, 0, 0]], device='cuda:0', dtype=torch.int32)"
      ]
     },
     "execution_count": 58,
     "metadata": {},
     "output_type": "execute_result"
    }
   ],
   "source": []
  }
 ],
 "metadata": {
  "kernelspec": {
   "display_name": "othello-env",
   "language": "python",
   "name": "python3"
  },
  "language_info": {
   "codemirror_mode": {
    "name": "ipython",
    "version": 3
   },
   "file_extension": ".py",
   "mimetype": "text/x-python",
   "name": "python",
   "nbconvert_exporter": "python",
   "pygments_lexer": "ipython3",
   "version": "3.11.9"
  }
 },
 "nbformat": 4,
 "nbformat_minor": 2
}
