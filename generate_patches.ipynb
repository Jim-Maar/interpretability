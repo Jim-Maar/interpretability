{
 "cells": [
  {
   "cell_type": "markdown",
   "metadata": {},
   "source": [
    "# Setup"
   ]
  },
  {
   "cell_type": "code",
   "execution_count": 19,
   "metadata": {},
   "outputs": [
    {
     "name": "stdout",
     "output_type": "stream",
     "text": [
      "interpretability\n"
     ]
    }
   ],
   "source": [
    "from pathlib import Path\n",
    "import sys\n",
    "\n",
    "section_dir = Path.cwd()\n",
    "sys.path.append(str(section_dir))\n",
    "print(section_dir.name)\n",
    "\n",
    "OTHELLO_ROOT = (section_dir / \"othello_world\").resolve()\n",
    "OTHELLO_MECHINT_ROOT = (OTHELLO_ROOT / \"mechanistic_interpretability\").resolve()\n",
    "\n",
    "# if not OTHELLO_ROOT.exists():\n",
    "#     !git clone https://github.com/likenneth/othello_world\n",
    "\n",
    "sys.path.append(str(OTHELLO_MECHINT_ROOT))\n",
    "\n",
    "from mech_interp_othello_utils import (\n",
    "    plot_board,\n",
    "    plot_single_board,\n",
    "    plot_board_log_probs,\n",
    "    to_string,\n",
    "    to_int,\n",
    "    int_to_label,\n",
    "    string_to_label,\n",
    "    OthelloBoardState\n",
    ")\n",
    "\n",
    "# import deepcopy\n",
    "from copy import deepcopy"
   ]
  },
  {
   "cell_type": "markdown",
   "metadata": {},
   "source": [
    "# The Tactic\n",
    "- Two Games\n",
    "- Play the same random stones in the two games\n",
    "- Before each, search for a way to place two stones such that the stone has a different color... in the corrupt patch\n",
    "- In the Clean Patch do a random move\n",
    "- After that play the same move as long as possible"
   ]
  },
  {
   "cell_type": "code",
   "execution_count": 21,
   "metadata": {},
   "outputs": [
    {
     "name": "stdout",
     "output_type": "stream",
     "text": [
      "[[ 0.  0.  0.  0.  0.  0.  0.  0.]\n",
      " [ 0.  0.  0.  0.  0.  0.  0.  0.]\n",
      " [ 0.  0.  0.  0.  0.  0.  0.  0.]\n",
      " [ 0.  0.  0. -1.  1.  0.  0.  0.]\n",
      " [ 0.  0.  0.  1. -1.  0.  0.  0.]\n",
      " [ 0.  0.  0.  0.  0.  0.  0.  0.]\n",
      " [ 0.  0.  0.  0.  0.  0.  0.  0.]\n",
      " [ 0.  0.  0.  0.  0.  0.  0.  0.]]\n",
      "[[ 0.  0.  0.  0.  0.  0.  0.  0.]\n",
      " [ 0.  0.  0.  0.  0.  0.  0.  0.]\n",
      " [ 0.  0.  0.  1.  0.  0.  0.  0.]\n",
      " [ 0.  0.  0.  1.  1.  0.  0.  0.]\n",
      " [ 0.  0.  0.  1. -1.  0.  0.  0.]\n",
      " [ 0.  0.  0.  0.  0.  0.  0.  0.]\n",
      " [ 0.  0.  0.  0.  0.  0.  0.  0.]\n",
      " [ 0.  0.  0.  0.  0.  0.  0.  0.]]\n",
      "[18, 20, 34]\n"
     ]
    }
   ],
   "source": [
    "board = OthelloBoardState()\n",
    "# board.get_state()\n",
    "# board.initial_state\n",
    "print(board.state)\n",
    "board.umpire(19)\n",
    "print(board.state)\n",
    "print(board.get_valid_moves())\n",
    "board.history\n",
    "\n",
    "history = deepcopy(board.history)"
   ]
  },
  {
   "cell_type": "code",
   "execution_count": 23,
   "metadata": {},
   "outputs": [
    {
     "name": "stdout",
     "output_type": "stream",
     "text": [
      "board_history_clean:   [44, 29, 21, 45, 37, 43, 53, 22, 18, 38, 30, 9, 47, 14, 42, 49, 20, 13, 26, 34, 25, 41, 7, 32, 12, 17, 0, 19, 48, 46, 33, 24, 10, 6, 50, 60, 16, 11, 2, 56, 40, 52, 57, 8, 61, 62, 4, 59, 5, 58, 55, 54, 63, 1, 3, 39, 31, 15, 23]\n",
      "board_history_corrupt: [44, 29, 21, 45, 37, 43, 51, 53, 18, 38, 30, 9, 47, 14, 42, 49, 20, 13, 26, 34, 25, 41, 7, 32, 12, 17, 0, 19, 48, 46, 33, 24, 10, 6, 50, 60, 16, 11, 2, 56, 40, 52, 57, 8, 61, 62, 4, 59, 5, 58, 55, 54, 63, 1, 3, 39, 31, 15, 23]\n",
      "corrupted_square: 53\n",
      "corrupted_move: 7\n",
      "length: 59\n",
      "board_history_clean:   [44, 43, 34, 25, 26, 19, 33, 37, 42, 52, 38, 18, 53, 54, 11, 29, 21, 39, 45, 4, 61, 50, 55, 22, 24, 63, 60, 51, 30, 47, 15, 32, 41, 16, 57, 40, 58, 59, 46, 62, 17, 8, 49, 12, 10, 23, 14, 1, 48, 13, 2, 5, 7, 9, 3, 6, 0, 56, 31]\n",
      "board_history_corrupt: [44, 43, 34, 25, 26, 20, 19, 37, 42, 52, 38, 18, 53, 54, 11, 29, 21, 39, 45, 4, 61, 50, 55, 22, 24, 63, 60, 51, 30, 47, 15, 32, 41, 16, 57, 40, 58, 59, 46, 62, 17, 8, 49, 12, 10, 23, 14, 1, 48, 13, 2, 5, 7, 9, 3, 6, 0, 56, 31]\n",
      "corrupted_square: 19\n",
      "corrupted_move: 6\n",
      "length: 59\n",
      "board_history_clean:   [37, 43, 42, 29, 19, 41, 44, 21, 30, 39, 14, 38, 51, 26, 45, 10, 1, 22, 46, 12, 23, 7, 18, 15, 3, 47, 20, 31]\n",
      "board_history_corrupt: [37, 43, 42, 29, 19, 34, 41, 21, 30, 39, 14, 38, 51, 26, 45, 10, 1, 22, 46, 12, 23, 7, 18, 15, 3, 47, 20, 31]\n",
      "corrupted_square: 41\n",
      "corrupted_move: 6\n",
      "length: 28\n",
      "board_history_clean:   [44, 29, 18, 43, 21, 52, 45, 26, 34, 9, 19, 25, 59, 20, 33, 60, 10, 17, 8, 1, 53, 38, 11, 3, 30, 46, 16, 24, 51, 50, 2, 22, 12, 58, 47, 4, 57, 41, 5, 56, 14, 37, 0, 31, 49, 39, 32, 55, 54, 40, 13, 62, 48, 23, 61, 6, 63]\n",
      "board_history_corrupt: [44, 29, 18, 42, 43, 52, 45, 26, 34, 9, 19, 25, 59, 20, 33, 60, 10, 17, 8, 1, 53, 38, 11, 3, 30, 46, 16, 24, 51, 50, 2, 22, 12, 58, 47, 4, 57, 41, 5, 56, 14, 37, 0, 31, 49, 39, 32, 55, 54, 40, 13, 62, 48, 23, 61, 6, 63]\n",
      "corrupted_square: 43\n",
      "corrupted_move: 4\n",
      "length: 57\n",
      "board_history_clean:   [26, 20, 21, 18, 19, 34, 45, 37, 25, 32, 43, 50, 51, 13, 10, 9, 49, 11, 42, 33, 29, 56, 24, 53, 2, 40, 6, 59, 0, 41, 54, 55, 60, 16, 17, 3, 63, 61, 12, 5, 48, 4, 52, 38, 30, 58, 46, 22, 14, 7, 15, 31, 39, 47, 8, 23, 57, 1, 62]\n",
      "board_history_corrupt: [26, 20, 21, 18, 19, 34, 44, 45, 25, 32, 43, 50, 51, 13, 10, 9, 49, 11, 42, 33, 29, 56, 24, 53, 2, 40, 6, 59, 0, 41, 54, 55, 60, 16, 17, 3, 63, 61, 12, 5, 48, 4, 52, 38, 30, 58, 46, 22, 14, 7, 15, 31, 39, 47, 8, 23, 57, 1, 62]\n",
      "corrupted_square: 45\n",
      "corrupted_move: 7\n",
      "length: 59\n"
     ]
    }
   ],
   "source": [
    "import random\n",
    "\n",
    "# This function test all possibilities of two moves to see if they can play move_clean on the second move\n",
    "def get_corrupt_move(board_corrupt, move_clean):\n",
    "    # board_state_initial = board_corrupt.state.copy()\n",
    "    valid_moves_corrupt_initial = board_corrupt.get_valid_moves().copy()\n",
    "    for move1 in valid_moves_corrupt_initial:\n",
    "        board_corrupt_copy = deepcopy(board_corrupt)\n",
    "        # board_corrupt_copy = board_corrupt.copy()\n",
    "        board_corrupt_copy.umpire(move1)\n",
    "        valid_moves_corrupt = board_corrupt_copy.get_valid_moves().copy()\n",
    "        # board_corrupt.state = board_state_initial\n",
    "        if move_clean in valid_moves_corrupt:\n",
    "            return move1\n",
    "    return move_clean\n",
    "\n",
    "def calculate_next_board(board_clean, board_corrupt):\n",
    "    valid_moves_clean = board_clean.get_valid_moves()\n",
    "    move_clean = random.choice(valid_moves_clean)\n",
    "    move_corrupt = get_corrupt_move(board_corrupt, move_clean)\n",
    "    board_clean.umpire(move_clean)\n",
    "    board_corrupt.umpire(move_corrupt)\n",
    "    if move_clean == move_corrupt:\n",
    "        did_corruption_occur = False\n",
    "        return did_corruption_occur\n",
    "    valid_moves_clean = board_clean.get_valid_moves()\n",
    "    move_clean_new = random.choice(valid_moves_clean)\n",
    "    move_corrupt_new = move_clean\n",
    "    board_clean.umpire(move_clean_new)\n",
    "    board_corrupt.umpire(move_corrupt_new)\n",
    "    did_corruption_occur = True\n",
    "    return did_corruption_occur\n",
    "\n",
    "def play_same_move(board_clean, board_corrupt):\n",
    "    valid_moves_clean = board_clean.get_valid_moves()\n",
    "    valid_moves_corrupt = board_corrupt.get_valid_moves()\n",
    "    valid_moves_both = list(set(valid_moves_clean) & set(valid_moves_corrupt))\n",
    "    if len(valid_moves_both) == 0:\n",
    "        was_move_possible = False\n",
    "        return was_move_possible\n",
    "    move = random.choice(valid_moves_both)\n",
    "    board_clean.umpire(move)\n",
    "    board_corrupt.umpire(move)\n",
    "    was_move_possible = True\n",
    "    return was_move_possible\n",
    "    \n",
    "def get_patch():\n",
    "    move = 0\n",
    "    board_clean = OthelloBoardState()\n",
    "    board_corrupt = OthelloBoardState()\n",
    "    did_corruption_occur = False\n",
    "    while not did_corruption_occur:\n",
    "        did_corruption_occur = calculate_next_board(board_clean, board_corrupt)\n",
    "        if did_corruption_occur:\n",
    "            move += 2\n",
    "        else:\n",
    "            move += 1\n",
    "    corrupted_square = board_corrupt.history[-1]\n",
    "    corrupted_move = move-1\n",
    "    was_move_possible = True\n",
    "    while was_move_possible:\n",
    "        was_move_possible = play_same_move(board_clean, board_corrupt)\n",
    "        move += 1\n",
    "    assert len(board_clean.history) == len(board_corrupt.history)\n",
    "    length = len(board_clean.history)\n",
    "    return board_clean.history, board_corrupt.history, corrupted_square, corrupted_move, length\n",
    "\n",
    "for i in range(5):\n",
    "    board_history_clean, board_history_corrupt, corrupted_square, corrupted_move, length = get_patch()\n",
    "    if length >= 20:\n",
    "        print(f\"board_history_clean:   {board_history_clean}\")\n",
    "        print(f\"board_history_corrupt: {board_history_corrupt}\")\n",
    "        print(f\"corrupted_square: {corrupted_square}\")\n",
    "        print(f\"corrupted_move: {corrupted_move}\")\n",
    "        print(f\"length: {length}\")"
   ]
  }
 ],
 "metadata": {
  "kernelspec": {
   "display_name": "othello-env",
   "language": "python",
   "name": "python3"
  },
  "language_info": {
   "codemirror_mode": {
    "name": "ipython",
    "version": 3
   },
   "file_extension": ".py",
   "mimetype": "text/x-python",
   "name": "python",
   "nbconvert_exporter": "python",
   "pygments_lexer": "ipython3",
   "version": "3.11.9"
  }
 },
 "nbformat": 4,
 "nbformat_minor": 2
}
