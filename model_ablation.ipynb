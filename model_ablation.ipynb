{
 "cells": [
  {
   "cell_type": "code",
   "execution_count": 1,
   "metadata": {},
   "outputs": [
    {
     "name": "stderr",
     "output_type": "stream",
     "text": [
      "/hpi/fs00/home/jim.maar/miniconda3/envs/othello-env/lib/python3.11/site-packages/accelerate/utils/imports.py:274: UserWarning: `ACCELERATE_DISABLE_RICH` is deprecated and will be removed in v0.22.0 and deactivated by default. Please use `ACCELERATE_ENABLE_RICH` if you wish to use `rich`.\n",
      "  warnings.warn(\n"
     ]
    }
   ],
   "source": [
    "from utils import *"
   ]
  },
  {
   "cell_type": "code",
   "execution_count": 2,
   "metadata": {},
   "outputs": [
    {
     "data": {
      "text/plain": [
       "device(type='cuda')"
      ]
     },
     "execution_count": 2,
     "metadata": {},
     "output_type": "execute_result"
    }
   ],
   "source": [
    "device"
   ]
  },
  {
   "cell_type": "markdown",
   "metadata": {},
   "source": [
    "## TODOS\n",
    "- normal evaluation!\n",
    "- mean ablation\n",
    "- and final evaluation "
   ]
  },
  {
   "cell_type": "code",
   "execution_count": 3,
   "metadata": {},
   "outputs": [
    {
     "data": {
      "text/plain": [
       "torch.Size([100000, 60])"
      ]
     },
     "execution_count": 3,
     "metadata": {},
     "output_type": "execute_result"
    }
   ],
   "source": [
    "board_seqs_int.shape"
   ]
  },
  {
   "cell_type": "code",
   "execution_count": 4,
   "metadata": {},
   "outputs": [
    {
     "name": "stdout",
     "output_type": "stream",
     "text": [
      "[[ 0.  0.  0.  0.  0.  0.  0.  0.]\n",
      " [ 0.  0.  0.  0.  0.  0.  0.  0.]\n",
      " [ 0.  0.  0.  0.  0.  0.  0.  0.]\n",
      " [ 0.  0.  0. -1.  1.  0.  0.  0.]\n",
      " [ 0.  0.  0.  1. -1.  0.  0.  0.]\n",
      " [ 0.  0.  0.  0.  0.  0.  0.  0.]\n",
      " [ 0.  0.  0.  0.  0.  0.  0.  0.]\n",
      " [ 0.  0.  0.  0.  0.  0.  0.  0.]]\n",
      "[[ 0.  0.  0.  0.  0.  0.  0.  0.]\n",
      " [ 0.  0.  0.  0.  0.  0.  0.  0.]\n",
      " [ 0.  0.  0.  1.  0.  0.  0.  0.]\n",
      " [ 0.  0.  0.  1.  1.  0.  0.  0.]\n",
      " [ 0.  0.  0.  1. -1.  0.  0.  0.]\n",
      " [ 0.  0.  0.  0.  0.  0.  0.  0.]\n",
      " [ 0.  0.  0.  0.  0.  0.  0.  0.]\n",
      " [ 0.  0.  0.  0.  0.  0.  0.  0.]]\n",
      "[[ 0.  0.  0.  0.  0.  0.  0.  0.]\n",
      " [ 0.  0.  0.  0.  0.  0.  0.  0.]\n",
      " [ 0.  0.  0.  1. -1.  0.  0.  0.]\n",
      " [ 0.  0.  0.  1. -1.  0.  0.  0.]\n",
      " [ 0.  0.  0.  1. -1.  0.  0.  0.]\n",
      " [ 0.  0.  0.  0.  0.  0.  0.  0.]\n",
      " [ 0.  0.  0.  0.  0.  0.  0.  0.]\n",
      " [ 0.  0.  0.  0.  0.  0.  0.  0.]]\n",
      "[[ 0.  0.  0.  0.  0.  0.  0.  0.]\n",
      " [ 0.  0.  0.  0.  0.  0.  0.  0.]\n",
      " [ 0.  0.  0.  1.  1.  1.  0.  0.]\n",
      " [ 0.  0.  0.  1.  1.  0.  0.  0.]\n",
      " [ 0.  0.  0.  1. -1.  0.  0.  0.]\n",
      " [ 0.  0.  0.  0.  0.  0.  0.  0.]\n",
      " [ 0.  0.  0.  0.  0.  0.  0.  0.]\n",
      " [ 0.  0.  0.  0.  0.  0.  0.  0.]]\n",
      "[12, 18, 34]\n"
     ]
    }
   ],
   "source": [
    "board = OthelloBoardState()\n",
    "print(board.state)\n",
    "board.umpire(19)\n",
    "print(board.state)\n",
    "board.umpire(20)\n",
    "print(board.state)\n",
    "board.umpire(21)\n",
    "print(board.state)\n",
    "print(board.get_valid_moves())"
   ]
  },
  {
   "cell_type": "code",
   "execution_count": 5,
   "metadata": {},
   "outputs": [],
   "source": [
    "import functools"
   ]
  },
  {
   "cell_type": "code",
   "execution_count": 6,
   "metadata": {},
   "outputs": [
    {
     "name": "stdout",
     "output_type": "stream",
     "text": [
      "Getting activations ...\n"
     ]
    }
   ],
   "source": [
    "act_names = [utils.get_act_name(\"resid_post\", layer) for layer in range(8)]\n",
    "num_games = 200\n",
    "fake_cache = get_activation(board_seqs_int, act_names, num_games)\n",
    "resids = [fake_cache[utils.get_act_name(\"resid_post\", layer)].to(device) for layer in range(8)]\n",
    "mean_resids = [resid.mean(dim=0) for resid in resids]"
   ]
  },
  {
   "cell_type": "code",
   "execution_count": 7,
   "metadata": {},
   "outputs": [
    {
     "name": "stdout",
     "output_type": "stream",
     "text": [
      "Getting activations ...\n"
     ]
    }
   ],
   "source": [
    "act_names = [utils.get_act_name(\"attn_out\", layer) for layer in range(8)]\n",
    "num_games = 200\n",
    "fake_cache = get_activation(board_seqs_int, act_names, num_games)\n",
    "attn_outs = [fake_cache[utils.get_act_name(\"attn_out\", layer)].to(device) for layer in range(8)]\n",
    "mean_attn_out = t.stack([attn_out.mean(dim=0) for attn_out in attn_outs], dim=0)"
   ]
  },
  {
   "cell_type": "code",
   "execution_count": 8,
   "metadata": {},
   "outputs": [
    {
     "data": {
      "text/plain": [
       "torch.Size([59, 512])"
      ]
     },
     "execution_count": 8,
     "metadata": {},
     "output_type": "execute_result"
    }
   ],
   "source": [
    "mean_resids[0].shape"
   ]
  },
  {
   "cell_type": "code",
   "execution_count": 9,
   "metadata": {},
   "outputs": [],
   "source": [
    "indeces_soft = {\n",
    "    0 : list(range(0, 59)),\n",
    "    1 : list(range(5, 20)),\n",
    "    2 : list(range(10, 30)),\n",
    "    3 : list(range(20, 40)),\n",
    "    4 : list(range(30, 50)),\n",
    "    5 : list(range(0, 59)),\n",
    "    6 : list(range(0, 59)),\n",
    "    7 : list(range(0, 59)),\n",
    "}\n",
    "\n",
    "indeces_soft = {\n",
    "    0 : list(range(0, 59)),\n",
    "    1 : list(range(0, 30)),\n",
    "    2 : list(range(10, 40)),\n",
    "    3 : list(range(20, 50)),\n",
    "    4 : list(range(30, 59)),\n",
    "    5 : list(range(40, 59)),\n",
    "    6 : list(range(0, 59)),\n",
    "    7 : list(range(0, 59)),\n",
    "}\n",
    "indeces_soft = {\n",
    "    0 : list(range(0, 59)),\n",
    "    1 : list(range(0, 59)),\n",
    "    2 : list(range(10, 59)),\n",
    "    3 : list(range(20, 59)),\n",
    "    4 : list(range(30, 59)),\n",
    "    5 : list(range(40, 59)),\n",
    "    6 : list(range(0, 59)),\n",
    "    7 : list(range(0, 59)),\n",
    "}\n",
    "\n",
    "indeces_hard = {\n",
    "    0 : list(range(0, 59)),\n",
    "    1 : list(range(0, 59)),\n",
    "    2 : [],\n",
    "    3 : [],\n",
    "    4 : [],\n",
    "    5 : [],\n",
    "    6 : list(range(0, 59)),\n",
    "    7 : list(range(0, 59)),\n",
    "}"
   ]
  },
  {
   "cell_type": "code",
   "execution_count": 10,
   "metadata": {},
   "outputs": [
    {
     "data": {
      "text/plain": [
       "'indeces_bottum_right = {\\n    0 : list(range(0, 30)),\\n    1 : list(range(0, 30)),\\n    2 : list(range(0, 30)),\\n    3 : list(range(0, 30)),\\n    4 : list(range(0, 30)),\\n    5 : list(range(0, 30)),\\n    6 : list(range(0, 30)),\\n    7 : list(range(0, 30)),\\n}'"
      ]
     },
     "execution_count": 10,
     "metadata": {},
     "output_type": "execute_result"
    }
   ],
   "source": [
    "# maybe I could actually ablate the attn layers in the upper layers ...\n",
    "indeces_top_left = {\n",
    "    0 : [],\n",
    "    1 : [],\n",
    "    2 : list(range(0, 10)),\n",
    "    3 : list(range(0, 20)),\n",
    "    4 : list(range(0, 30)),\n",
    "    5 : [],\n",
    "    6 : [],\n",
    "    7 : [],\n",
    "}\n",
    "\n",
    "indeces_bottum_right = {\n",
    "    0 : [],\n",
    "    1 : [],\n",
    "    2 : list(range(10, 20)),\n",
    "    3 : list(range(20, 30)),\n",
    "    4 : list(range(30, 59)),\n",
    "    5 : [],\n",
    "    6 : [],\n",
    "    7 : [],\n",
    "}\n",
    "\n",
    "\"\"\"indeces_bottum_right = {\n",
    "    0 : [],\n",
    "    1 : [],\n",
    "    2 : [],\n",
    "    3 : [],\n",
    "    4 : [],\n",
    "    5 : [],\n",
    "    6 : [],\n",
    "    7 : list(range(59)),\n",
    "}\"\"\"\n",
    "\n",
    "\"\"\"indeces_bottum_right = {\n",
    "    0 : list(range(0, 30)),\n",
    "    1 : list(range(0, 30)),\n",
    "    2 : list(range(0, 30)),\n",
    "    3 : list(range(0, 30)),\n",
    "    4 : list(range(0, 30)),\n",
    "    5 : list(range(0, 30)),\n",
    "    6 : list(range(0, 30)),\n",
    "    7 : list(range(0, 30)),\n",
    "}\"\"\""
   ]
  },
  {
   "cell_type": "code",
   "execution_count": 11,
   "metadata": {},
   "outputs": [],
   "source": [
    "indeces_bottum_right = {\n",
    "    0 : [],\n",
    "    1 : [],\n",
    "    2 : [],\n",
    "    3 : [],\n",
    "    4 : [],\n",
    "    5 : [],\n",
    "    6 : [],\n",
    "    7 : list(range(0, 59)),\n",
    "}"
   ]
  },
  {
   "cell_type": "code",
   "execution_count": 12,
   "metadata": {},
   "outputs": [],
   "source": [
    "indeces_top_left = {\n",
    "    0 : [],\n",
    "    1 : [],\n",
    "    2 : list(range(0, 10)),\n",
    "    3 : list(range(10, 20)),\n",
    "    4 : list(range(20, 30)),\n",
    "    5 : [],\n",
    "    6 : [],\n",
    "    7 : [],\n",
    "}"
   ]
  },
  {
   "cell_type": "code",
   "execution_count": 13,
   "metadata": {},
   "outputs": [],
   "source": [
    "indeces = indeces_top_left\n",
    "using_mlp = True # False\n",
    "using_attn = True # True\n",
    "\n",
    "def ablation_hook_attn_out(\n",
    "    attn_out: Float[Tensor, \"batch seq d_model\"],\n",
    "    hook: HookPoint,\n",
    "    pos : int,\n",
    ") -> Float[Tensor, \"batch seq n_heads d_head\"]:\n",
    "    attn_out[:, pos] = t.zeros_like(attn_out[:, pos])\n",
    "    return attn_out\n",
    "\n",
    "def ablation_hook_mlp_out(\n",
    "    mlp_out: Float[Tensor, \"batch seq d_model\"],\n",
    "    hook: HookPoint,\n",
    "    pos : int,\n",
    ") -> Float[Tensor, \"batch seq n_heads d_head\"]:\n",
    "    mlp_out[:, pos] = t.zeros_like(mlp_out[:, pos])\n",
    "    return mlp_out\n",
    "\n",
    "def ablation_hook_resid_mid(\n",
    "    resid_mid: Float[Tensor, \"batch seq d_model\"],\n",
    "    hook: HookPoint,\n",
    "    pos : int,\n",
    "    layer : int,\n",
    "    layer0_resid_post: Float[Tensor, \"batch seq d_model\"],\n",
    "    attn_out: Float[Tensor, \"batch seq d_model\"],\n",
    "    mlp_out_all: Float[Tensor, \"batch seq d_model\"],\n",
    ") -> Float[Tensor, \"batch seq d_model\"]:\n",
    "    resid_mid[:, pos] = layer0_resid_post[:, pos] + attn_out[:, pos] # + mlp_out_all[:, pos] - mean_attn_out[:layer].sum(dim=0)[pos] # -mean_resids[0][pos] + mean_resids[layer-1][pos]\n",
    "    return resid_mid\n",
    "\n",
    "hook_functions = []\n",
    "for layer in range(0, 7):\n",
    "    name_attn = utils.get_act_name(\"attn_out\", layer)\n",
    "    name_mlp = utils.get_act_name(\"mlp_out\", layer)\n",
    "    for pos in range(0, 59):\n",
    "        if pos not in indeces[layer]:\n",
    "            continue\n",
    "        hook_function_attn = functools.partial(ablation_hook_attn_out, pos=pos)\n",
    "        hook_function_mlp = functools.partial(ablation_hook_mlp_out, pos=pos)\n",
    "        if using_attn:\n",
    "            hook_functions.append((name_attn, hook_function_attn))\n",
    "        if using_mlp:\n",
    "            hook_functions.append((name_mlp, hook_function_mlp))"
   ]
  },
  {
   "cell_type": "code",
   "execution_count": 14,
   "metadata": {},
   "outputs": [],
   "source": [
    "def get_f1_score(legal_moves, logits):\n",
    "    # overkill tactic would be using k-means to find the best threshold\n",
    "    preds: Float[Tensor, \"batch pos pred\"] = logits > 4.0\n",
    "    batch_size = preds.shape[0]\n",
    "    tp = 0\n",
    "    fp = 0\n",
    "    fn = 0\n",
    "    for batch in range(batch_size):\n",
    "        for pos in range(59):\n",
    "            # indeces where preds[batch, pos] is true\n",
    "            preds_batch_pos = preds[batch, pos].to(t.int) # .nonzero().squeeue()\n",
    "            legal_moves_batch_pos = t.zeros(61).to(t.int).to(device)\n",
    "            legal_moves_batch_pos[legal_moves[batch][pos]] = 1\n",
    "            tp += (preds_batch_pos * legal_moves_batch_pos).sum()\n",
    "            fp += (preds_batch_pos * (1 - legal_moves_batch_pos)).sum()\n",
    "            fn += ((1 - preds_batch_pos) * legal_moves_batch_pos).sum()\n",
    "    precision = tp / (tp + fp)\n",
    "    recall = tp / (tp + fn)\n",
    "    f1 = 2 * precision * recall / (precision + recall)\n",
    "    return f1\n"
   ]
  },
  {
   "cell_type": "code",
   "execution_count": 15,
   "metadata": {},
   "outputs": [
    {
     "data": {
      "text/plain": [
       "tensor([2, 3])"
      ]
     },
     "execution_count": 15,
     "metadata": {},
     "output_type": "execute_result"
    }
   ],
   "source": [
    "test_t = t.Tensor([-1, -1, 1, 1, -1])\n",
    "(test_t > 0).nonzero().squeeze()"
   ]
  },
  {
   "cell_type": "code",
   "execution_count": 16,
   "metadata": {},
   "outputs": [
    {
     "name": "stdout",
     "output_type": "stream",
     "text": [
      "[1.0, 2.0, 3.0]\n"
     ]
    },
    {
     "data": {
      "text/plain": [
       "tensor([0., 1., 1., 1., 0., 0., 0., 0., 0., 0., 0., 0., 0., 0., 0., 0., 0., 0.,\n",
       "        0., 0., 0., 0., 0., 0., 0., 0., 0., 0., 0., 0., 0., 0., 0., 0., 0., 0.,\n",
       "        0., 0., 0., 0., 0., 0., 0., 0., 0., 0., 0., 0., 0., 0., 0., 0., 0., 0.,\n",
       "        0., 0., 0., 0., 0., 0.])"
      ]
     },
     "execution_count": 16,
     "metadata": {},
     "output_type": "execute_result"
    }
   ],
   "source": [
    "legal_moves_batch_pos = t.zeros(60)\n",
    "legal_moves = t.Tensor([1, 2, 3]).tolist()\n",
    "print(legal_moves)\n",
    "legal_moves_batch_pos[legal_moves] = 1\n",
    "legal_moves_batch_pos"
   ]
  },
  {
   "cell_type": "code",
   "execution_count": 21,
   "metadata": {},
   "outputs": [
    {
     "name": "stderr",
     "output_type": "stream",
     "text": [
      "100%|██████████| 16/16 [01:08<00:00,  4.31s/it]\n"
     ]
    }
   ],
   "source": [
    "use_top_left_hooks = False\n",
    "use_ablation_hook_resid_mid = True\n",
    "\n",
    "batch_size = 64\n",
    "num_games = 1024\n",
    "\n",
    "all_correct_count = 0\n",
    "all_correct_count_ablated = 0\n",
    "all_count = 0\n",
    "\n",
    "# hook_functions = []\n",
    "\n",
    "# Ich will gleich into meta shit gehen?\n",
    "for batch in tqdm(range(0, num_games, batch_size)):\n",
    "    indeces = t.arange(batch, batch + batch_size)\n",
    "    games = board_seqs_int[indeces].to(device)\n",
    "\n",
    "    legal_moves = []\n",
    "    for i in range(batch, batch+batch_size):\n",
    "        moves = board_seqs_int[i]\n",
    "        board = OthelloBoardState()\n",
    "        legal_moves_board = []\n",
    "        for move in moves:\n",
    "            move = to_string(move.item())\n",
    "            board.umpire(move)\n",
    "            legal_moves_board_position = board.get_valid_moves()\n",
    "            legal_moves_board += [legal_moves_board_position]\n",
    "        legal_moves += [to_int(legal_moves_board)]\n",
    "\n",
    "    logits = model(games[:, :-1])\n",
    "    logits, cache = model.run_with_cache(games[:, :-1])\n",
    "    preds = logits.argmax(dim=-1).to(\"cpu\")\n",
    "\n",
    "    layer0_resid_post = cache[\"resid_post\", 0]\n",
    "    new_hooks = []\n",
    "    mlp_out_all = t.zeros(batch_size, 59, 512).to(device)\n",
    "    for layer in range(8):\n",
    "        attn_out = cache[\"attn_out\", layer]\n",
    "        mlp_out = cache[\"mlp_out\", layer]\n",
    "        for pos in range(59):\n",
    "            if pos not in indeces_bottum_right[layer]:\n",
    "                continue\n",
    "            temp_hook_fn = functools.partial(ablation_hook_resid_mid, pos=pos, layer=layer, layer0_resid_post=layer0_resid_post, attn_out=attn_out, mlp_out_all=mlp_out_all)\n",
    "            new_hooks.append((utils.get_act_name(\"resid_mid\", layer), temp_hook_fn))\n",
    "        mlp_out_all += mlp_out\n",
    "    \n",
    "    hooks = []\n",
    "    if use_top_left_hooks:\n",
    "        hooks += hook_functions\n",
    "    if use_ablation_hook_resid_mid:\n",
    "        hooks += new_hooks\n",
    "\n",
    "    model.reset_hooks()\n",
    "    cache_ablated = model.add_caching_hooks()\n",
    "    logits_ablated = model.run_with_hooks(games[:, :-1], fwd_hooks=hooks)\n",
    "    cache_ablated = ActivationCache(cache_ablated, model)\n",
    "    preds_ablated = logits_ablated.argmax(dim=-1).to(\"cpu\")\n",
    "\n",
    "    batch_count = batch_size * 59\n",
    "    batch_correct_count = 0\n",
    "    batch_correct_count_ablated = 0\n",
    "    for game in range(0, batch_size):\n",
    "        for pos in range(0, 59):\n",
    "            if preds[game, pos].item() in legal_moves[game][pos]:\n",
    "                batch_correct_count += 1\n",
    "            if preds_ablated[game, pos].item() in legal_moves[game][pos]:\n",
    "                batch_correct_count_ablated += 1\n",
    "    all_correct_count += batch_correct_count\n",
    "    all_correct_count_ablated += batch_correct_count_ablated\n",
    "    all_count += batch_count\n",
    "\n",
    "    f1 = get_f1_score(legal_moves, logits)\n",
    "    f1_ablated = get_f1_score(legal_moves, logits_ablated)"
   ]
  },
  {
   "cell_type": "code",
   "execution_count": 22,
   "metadata": {},
   "outputs": [
    {
     "name": "stdout",
     "output_type": "stream",
     "text": [
      "0.9993544756355932\n",
      "0.9938592425847458\n",
      "tensor(0.9928, device='cuda:0')\n",
      "tensor(0.9610, device='cuda:0')\n"
     ]
    }
   ],
   "source": [
    "print(all_correct_count / all_count) # 99.8\n",
    "print(all_correct_count_ablated / all_count) # 72 -> 90 Das ist schon nicht so gut wie ich dachte (Mean ablation might be better) Or reconstucting the same boardstate in the new layer using the probes ... # Visualize the things ... \n",
    "print(f1)\n",
    "print(f1_ablated)"
   ]
  },
  {
   "cell_type": "code",
   "execution_count": null,
   "metadata": {},
   "outputs": [],
   "source": [
    "# Bei Layer 7: 0.99\n",
    "# Bei Layer 6: 0.61\n",
    "# Bei Layer 5: 0.87\n",
    "# Bei Layer 4: 0.93\n",
    "\n",
    "# layer 7 attn + resid0_post\n",
    "# 0.9989406779661016\n",
    "# 0.9941737288135594\n",
    "# tensor(0.9927, device='cuda:0')\n",
    "# tensor(0.9659, device='cuda:0')\n",
    "\n",
    "# layer7 attn\n",
    "# 0.9989406779661016\n",
    "# 0.9748411016949152\n",
    "# tensor(0.9927, device='cuda:0')\n",
    "# tensor(0.9688, device='cuda:0')\n",
    "\n",
    "# layer0 resid post\n",
    "# 0.9989406779661016\n",
    "# 0.6308262711864406\n",
    "# tensor(0.9927, device='cuda:0')\n",
    "# tensor(0.3792, device='cuda:0')"
   ]
  },
  {
   "cell_type": "code",
   "execution_count": 157,
   "metadata": {},
   "outputs": [
    {
     "name": "stdout",
     "output_type": "stream",
     "text": [
      "torch.Size([7, 2, 59, 8, 8])\n"
     ]
    },
    {
     "data": {
      "application/vnd.plotly.v1+json": {
       "config": {
        "plotlyServerURL": "https://plot.ly"
       },
       "data": [
        {
         "colorscale": [
          [
           0,
           "rgb(103,0,31)"
          ],
          [
           0.1,
           "rgb(178,24,43)"
          ],
          [
           0.2,
           "rgb(214,96,77)"
          ],
          [
           0.3,
           "rgb(244,165,130)"
          ],
          [
           0.4,
           "rgb(253,219,199)"
          ],
          [
           0.5,
           "rgb(247,247,247)"
          ],
          [
           0.6,
           "rgb(209,229,240)"
          ],
          [
           0.7,
           "rgb(146,197,222)"
          ],
          [
           0.8,
           "rgb(67,147,195)"
          ],
          [
           0.9,
           "rgb(33,102,172)"
          ],
          [
           1,
           "rgb(5,48,97)"
          ]
         ],
         "hoverongaps": false,
         "showscale": false,
         "text": [
          [
           " ",
           " ",
           " ",
           " ",
           " ",
           " ",
           " ",
           " "
          ],
          [
           " ",
           " ",
           " ",
           " ",
           " ",
           " ",
           " ",
           " "
          ],
          [
           " ",
           " ",
           " ",
           " ",
           "█",
           " ",
           " ",
           " "
          ],
          [
           " ",
           " ",
           " ",
           " ",
           "█",
           " ",
           " ",
           " "
          ],
          [
           " ",
           " ",
           " ",
           " ",
           " ",
           " ",
           " ",
           " "
          ],
          [
           " ",
           " ",
           " ",
           " ",
           " ",
           " ",
           " ",
           " "
          ],
          [
           " ",
           " ",
           " ",
           " ",
           " ",
           " ",
           " ",
           " "
          ],
          [
           " ",
           " ",
           " ",
           " ",
           " ",
           " ",
           " ",
           " "
          ]
         ],
         "texttemplate": "%{text}",
         "type": "heatmap",
         "x": [
          0,
          1,
          2,
          3,
          4,
          5,
          6,
          7
         ],
         "xaxis": "x",
         "y": [
          "H",
          "G",
          "F",
          "E",
          "D",
          "C",
          "B",
          "A"
         ],
         "yaxis": "y",
         "z": [
          [
           0.5,
           0.5,
           0.5,
           0.5,
           0.5,
           0.49999797,
           0.5,
           0.5
          ],
          [
           0.5,
           0.5,
           0.5,
           0.07030848,
           0,
           0.5,
           0.5,
           0.5
          ],
          [
           0.5,
           0.5697873,
           0.96422875,
           0.00019046664,
           0.0000045001507,
           0.000085920095,
           0.6070072,
           0.998983
          ],
          [
           0.5,
           0.98257613,
           0.10759783,
           0.9887045,
           0.00030755997,
           0.97689146,
           0.5012578,
           0.500001
          ],
          [
           0.646691,
           0.5,
           0.9051142,
           0.47610912,
           0.13932389,
           0.7184045,
           0.5,
           0.5
          ],
          [
           0.5,
           0.5002942,
           0.53208643,
           0.4812743,
           0.69352436,
           0.43872148,
           0.50005674,
           0.5
          ],
          [
           0.49999866,
           0.49999928,
           0.5648935,
           0.07981187,
           0.50011355,
           0.46305162,
           0.49996117,
           0.5
          ],
          [
           0.5,
           0.5,
           0.49999976,
           0.5,
           0.9987099,
           0.5,
           0.4998797,
           0.5
          ]
         ],
         "zmax": 1,
         "zmin": 0
        },
        {
         "colorscale": [
          [
           0,
           "rgb(103,0,31)"
          ],
          [
           0.1,
           "rgb(178,24,43)"
          ],
          [
           0.2,
           "rgb(214,96,77)"
          ],
          [
           0.3,
           "rgb(244,165,130)"
          ],
          [
           0.4,
           "rgb(253,219,199)"
          ],
          [
           0.5,
           "rgb(247,247,247)"
          ],
          [
           0.6,
           "rgb(209,229,240)"
          ],
          [
           0.7,
           "rgb(146,197,222)"
          ],
          [
           0.8,
           "rgb(67,147,195)"
          ],
          [
           0.9,
           "rgb(33,102,172)"
          ],
          [
           1,
           "rgb(5,48,97)"
          ]
         ],
         "hoverongaps": false,
         "showscale": false,
         "text": [
          [
           " ",
           " ",
           " ",
           " ",
           " ",
           " ",
           " ",
           " "
          ],
          [
           " ",
           " ",
           " ",
           " ",
           " ",
           " ",
           " ",
           " "
          ],
          [
           " ",
           " ",
           " ",
           " ",
           "█",
           " ",
           " ",
           " "
          ],
          [
           " ",
           " ",
           " ",
           " ",
           " ",
           " ",
           " ",
           " "
          ],
          [
           " ",
           " ",
           " ",
           " ",
           " ",
           " ",
           " ",
           " "
          ],
          [
           " ",
           " ",
           " ",
           " ",
           " ",
           " ",
           " ",
           " "
          ],
          [
           " ",
           " ",
           " ",
           " ",
           " ",
           " ",
           " ",
           " "
          ],
          [
           " ",
           " ",
           " ",
           " ",
           " ",
           " ",
           " ",
           " "
          ]
         ],
         "texttemplate": "%{text}",
         "type": "heatmap",
         "x": [
          0,
          1,
          2,
          3,
          4,
          5,
          6,
          7
         ],
         "xaxis": "x2",
         "y": [
          "H",
          "G",
          "F",
          "E",
          "D",
          "C",
          "B",
          "A"
         ],
         "yaxis": "y2",
         "z": [
          [
           0.5,
           0,
           0.5,
           0.5,
           0.5,
           0.5,
           0.5,
           0.5
          ],
          [
           0.5,
           0.5,
           2.0861626e-7,
           0,
           0,
           0.5,
           0.5,
           1
          ],
          [
           0.5,
           0.5,
           0.5,
           2.9802322e-8,
           0.0004400313,
           0,
           0.9998503,
           0.5
          ],
          [
           0.5,
           0.5,
           0.82927084,
           0.9994215,
           0.0014843047,
           0.99715626,
           0.5,
           0.5
          ],
          [
           0.5,
           0.5,
           0.5,
           0.000629127,
           0.99656653,
           0.5598097,
           0.5,
           0
          ],
          [
           0.5,
           0.5,
           0.0012380779,
           0.8176166,
           0.9922644,
           0.9671277,
           0.020171344,
           0.5
          ],
          [
           0.5,
           0.5,
           0.5,
           0.5,
           0.90890837,
           0.3869617,
           0.5,
           1
          ],
          [
           0.5,
           0.5,
           0.5,
           0.5,
           5.9604645e-7,
           0.5,
           0.5,
           0.5
          ]
         ],
         "zmax": 1,
         "zmin": 0
        },
        {
         "colorscale": [
          [
           0,
           "rgb(103,0,31)"
          ],
          [
           0.1,
           "rgb(178,24,43)"
          ],
          [
           0.2,
           "rgb(214,96,77)"
          ],
          [
           0.3,
           "rgb(244,165,130)"
          ],
          [
           0.4,
           "rgb(253,219,199)"
          ],
          [
           0.5,
           "rgb(247,247,247)"
          ],
          [
           0.6,
           "rgb(209,229,240)"
          ],
          [
           0.7,
           "rgb(146,197,222)"
          ],
          [
           0.8,
           "rgb(67,147,195)"
          ],
          [
           0.9,
           "rgb(33,102,172)"
          ],
          [
           1,
           "rgb(5,48,97)"
          ]
         ],
         "hoverongaps": false,
         "showscale": false,
         "text": [
          [
           " ",
           " ",
           " ",
           " ",
           " ",
           " ",
           " ",
           " "
          ],
          [
           " ",
           " ",
           " ",
           "░",
           " ",
           " ",
           " ",
           " "
          ],
          [
           " ",
           " ",
           " ",
           " ",
           "█",
           " ",
           " ",
           " "
          ],
          [
           " ",
           " ",
           " ",
           " ",
           "█",
           " ",
           " ",
           " "
          ],
          [
           " ",
           " ",
           " ",
           " ",
           "░",
           " ",
           " ",
           " "
          ],
          [
           " ",
           " ",
           " ",
           " ",
           " ",
           " ",
           " ",
           " "
          ],
          [
           " ",
           " ",
           " ",
           " ",
           " ",
           " ",
           " ",
           " "
          ],
          [
           " ",
           " ",
           " ",
           " ",
           " ",
           " ",
           " ",
           " "
          ]
         ],
         "texttemplate": "%{text}",
         "type": "heatmap",
         "x": [
          0,
          1,
          2,
          3,
          4,
          5,
          6,
          7
         ],
         "xaxis": "x3",
         "y": [
          "H",
          "G",
          "F",
          "E",
          "D",
          "C",
          "B",
          "A"
         ],
         "yaxis": "y3",
         "z": [
          [
           0.5,
           0.00021463633,
           0.5,
           0.5,
           0.5,
           0.5,
           0.5,
           0.5
          ],
          [
           0.5,
           0.5,
           8.940697e-8,
           7.4505806e-7,
           0,
           0.5,
           0.5,
           1
          ],
          [
           0.5,
           0.5,
           0.5,
           5.662441e-7,
           0.0000132620335,
           0.0004055202,
           0.99862194,
           0.5
          ],
          [
           0.5,
           0.5,
           0.9999378,
           0.9937738,
           0.07535601,
           0.9996842,
           0.5,
           0.5
          ],
          [
           0.5,
           0.5,
           0.5,
           0.0076366365,
           0.14373729,
           0.9351543,
           0.4999989,
           0
          ],
          [
           0.5,
           0.5,
           0.13868597,
           0.22273195,
           0.068793,
           0.097222924,
           0.0028308332,
           0.5
          ],
          [
           0.5,
           0.5,
           0.49999496,
           0.49999946,
           0.009910136,
           0.004970461,
           0.5,
           0.9999449
          ],
          [
           0.5,
           0.5,
           0.5,
           0.5,
           2.9802322e-8,
           0.5,
           0.5,
           0.5
          ]
         ],
         "zmax": 1,
         "zmin": 0
        },
        {
         "colorscale": [
          [
           0,
           "rgb(103,0,31)"
          ],
          [
           0.1,
           "rgb(178,24,43)"
          ],
          [
           0.2,
           "rgb(214,96,77)"
          ],
          [
           0.3,
           "rgb(244,165,130)"
          ],
          [
           0.4,
           "rgb(253,219,199)"
          ],
          [
           0.5,
           "rgb(247,247,247)"
          ],
          [
           0.6,
           "rgb(209,229,240)"
          ],
          [
           0.7,
           "rgb(146,197,222)"
          ],
          [
           0.8,
           "rgb(67,147,195)"
          ],
          [
           0.9,
           "rgb(33,102,172)"
          ],
          [
           1,
           "rgb(5,48,97)"
          ]
         ],
         "hoverongaps": false,
         "showscale": false,
         "text": [
          [
           " ",
           " ",
           " ",
           " ",
           " ",
           " ",
           " ",
           " "
          ],
          [
           " ",
           " ",
           " ",
           " ",
           " ",
           " ",
           " ",
           " "
          ],
          [
           " ",
           " ",
           " ",
           " ",
           "█",
           " ",
           " ",
           " "
          ],
          [
           " ",
           " ",
           " ",
           " ",
           "▓",
           " ",
           " ",
           " "
          ],
          [
           " ",
           " ",
           " ",
           " ",
           "▒",
           " ",
           " ",
           " "
          ],
          [
           " ",
           " ",
           " ",
           " ",
           " ",
           " ",
           " ",
           " "
          ],
          [
           " ",
           " ",
           " ",
           " ",
           " ",
           " ",
           " ",
           " "
          ],
          [
           " ",
           " ",
           " ",
           " ",
           " ",
           " ",
           " ",
           " "
          ]
         ],
         "texttemplate": "%{text}",
         "type": "heatmap",
         "x": [
          0,
          1,
          2,
          3,
          4,
          5,
          6,
          7
         ],
         "xaxis": "x4",
         "y": [
          "H",
          "G",
          "F",
          "E",
          "D",
          "C",
          "B",
          "A"
         ],
         "yaxis": "y4",
         "z": [
          [
           0.5,
           2.682209e-7,
           0.5,
           0.5,
           0.5,
           0.5,
           0.5,
           0.5
          ],
          [
           0.5,
           0.5,
           0,
           0,
           0,
           0.5,
           0.5,
           1
          ],
          [
           0.5,
           0.5,
           0.5,
           0,
           0.9734117,
           0.99996626,
           1,
           0.5
          ],
          [
           0.5,
           0.5,
           1,
           0.9998909,
           0.5334653,
           0.13168365,
           0.5,
           0.5
          ],
          [
           0.5,
           0.5,
           0.5,
           0.20585865,
           0.9976047,
           0.049128443,
           0.5,
           0
          ],
          [
           0.5,
           0.5,
           3.2782555e-7,
           4.7683716e-7,
           0.59438103,
           0.28375724,
           0.000011116266,
           0.5
          ],
          [
           0.5,
           0.5,
           0.5,
           0.5,
           0.0000030100346,
           0.0000047385693,
           0.5,
           0.99999964
          ],
          [
           0.5,
           0.5,
           0.5,
           0.5,
           0,
           0.5,
           0.5,
           0.5
          ]
         ],
         "zmax": 1,
         "zmin": 0
        },
        {
         "colorscale": [
          [
           0,
           "rgb(103,0,31)"
          ],
          [
           0.1,
           "rgb(178,24,43)"
          ],
          [
           0.2,
           "rgb(214,96,77)"
          ],
          [
           0.3,
           "rgb(244,165,130)"
          ],
          [
           0.4,
           "rgb(253,219,199)"
          ],
          [
           0.5,
           "rgb(247,247,247)"
          ],
          [
           0.6,
           "rgb(209,229,240)"
          ],
          [
           0.7,
           "rgb(146,197,222)"
          ],
          [
           0.8,
           "rgb(67,147,195)"
          ],
          [
           0.9,
           "rgb(33,102,172)"
          ],
          [
           1,
           "rgb(5,48,97)"
          ]
         ],
         "hoverongaps": false,
         "showscale": false,
         "text": [
          [
           " ",
           " ",
           " ",
           " ",
           " ",
           " ",
           " ",
           " "
          ],
          [
           " ",
           " ",
           " ",
           " ",
           " ",
           " ",
           " ",
           " "
          ],
          [
           " ",
           " ",
           " ",
           " ",
           "█",
           " ",
           " ",
           " "
          ],
          [
           " ",
           " ",
           " ",
           " ",
           "█",
           " ",
           " ",
           " "
          ],
          [
           " ",
           " ",
           " ",
           " ",
           "█",
           " ",
           " ",
           " "
          ],
          [
           " ",
           " ",
           " ",
           " ",
           "█",
           " ",
           " ",
           " "
          ],
          [
           " ",
           " ",
           " ",
           " ",
           "▓",
           " ",
           " ",
           " "
          ],
          [
           " ",
           " ",
           " ",
           " ",
           " ",
           " ",
           " ",
           " "
          ]
         ],
         "texttemplate": "%{text}",
         "type": "heatmap",
         "x": [
          0,
          1,
          2,
          3,
          4,
          5,
          6,
          7
         ],
         "xaxis": "x5",
         "y": [
          "H",
          "G",
          "F",
          "E",
          "D",
          "C",
          "B",
          "A"
         ],
         "yaxis": "y5",
         "z": [
          [
           0.49999997,
           0.000024676323,
           0.5,
           0.5,
           0.5,
           0.5,
           0.5,
           0.49999997
          ],
          [
           0.5,
           0.5,
           0.000004172325,
           0.000009655952,
           0.000048041344,
           0.5,
           0.50000036,
           1
          ],
          [
           0.5,
           0.49999997,
           0.5,
           2.0861626e-7,
           0.4374792,
           0.99532866,
           0.99996114,
           0.50048
          ],
          [
           0.49999842,
           0.5,
           0.99596584,
           0.94403887,
           0.00010636449,
           0.30983037,
           0.5,
           0.5000001
          ],
          [
           0.49999964,
           0.5,
           0.5000007,
           0.021009475,
           0.019849867,
           0.15027976,
           0.5,
           0.000012129545
          ],
          [
           0.49999952,
           0.50000405,
           0.0047209263,
           0.039112926,
           0.0038885176,
           0.4842349,
           0.014210314,
           0.50000006
          ],
          [
           0.5,
           0.5000002,
           0.5,
           0.49999925,
           0.000022411346,
           0.0064721704,
           0.50000286,
           0.98777795
          ],
          [
           0.50000006,
           0.5000159,
           0.5000008,
           0.5,
           4.7683716e-7,
           0.50000805,
           0.500026,
           0.50000006
          ]
         ],
         "zmax": 1,
         "zmin": 0
        },
        {
         "colorscale": [
          [
           0,
           "rgb(103,0,31)"
          ],
          [
           0.1,
           "rgb(178,24,43)"
          ],
          [
           0.2,
           "rgb(214,96,77)"
          ],
          [
           0.3,
           "rgb(244,165,130)"
          ],
          [
           0.4,
           "rgb(253,219,199)"
          ],
          [
           0.5,
           "rgb(247,247,247)"
          ],
          [
           0.6,
           "rgb(209,229,240)"
          ],
          [
           0.7,
           "rgb(146,197,222)"
          ],
          [
           0.8,
           "rgb(67,147,195)"
          ],
          [
           0.9,
           "rgb(33,102,172)"
          ],
          [
           1,
           "rgb(5,48,97)"
          ]
         ],
         "hoverongaps": false,
         "showscale": false,
         "text": [
          [
           " ",
           " ",
           " ",
           " ",
           " ",
           " ",
           " ",
           " "
          ],
          [
           " ",
           " ",
           " ",
           " ",
           " ",
           " ",
           " ",
           " "
          ],
          [
           " ",
           " ",
           " ",
           " ",
           "█",
           " ",
           " ",
           " "
          ],
          [
           " ",
           " ",
           " ",
           " ",
           "█",
           " ",
           " ",
           " "
          ],
          [
           " ",
           " ",
           " ",
           " ",
           "█",
           " ",
           " ",
           " "
          ],
          [
           " ",
           " ",
           " ",
           " ",
           "█",
           " ",
           " ",
           " "
          ],
          [
           " ",
           " ",
           " ",
           " ",
           " ",
           " ",
           " ",
           " "
          ],
          [
           " ",
           " ",
           " ",
           " ",
           " ",
           " ",
           " ",
           " "
          ]
         ],
         "texttemplate": "%{text}",
         "type": "heatmap",
         "x": [
          0,
          1,
          2,
          3,
          4,
          5,
          6,
          7
         ],
         "xaxis": "x6",
         "y": [
          "H",
          "G",
          "F",
          "E",
          "D",
          "C",
          "B",
          "A"
         ],
         "yaxis": "y6",
         "z": [
          [
           0.5,
           0.000004053116,
           0.5,
           0.5,
           0.5,
           0.5,
           0.5,
           0.49999997
          ],
          [
           0.5,
           0.5,
           8.940697e-8,
           1.1920929e-7,
           0.00006189942,
           0.5,
           0.5000017,
           1
          ],
          [
           0.5,
           0.5,
           0.5,
           0,
           0.9855568,
           0.9999939,
           0.9999987,
           0.50001365
          ],
          [
           0.5,
           0.5,
           0.9999993,
           0.99991393,
           0.0010577738,
           0.000102728605,
           0.5,
           0.5
          ],
          [
           0.49999982,
           0.5,
           0.50000525,
           0.0018760562,
           0.91222167,
           5.9604645e-7,
           0.5,
           0.0000011622906
          ],
          [
           0.4999999,
           0.49999976,
           0.000021517277,
           0.00002104044,
           0.005708337,
           0.009405613,
           0.000019907951,
           0.5
          ],
          [
           0.5,
           0.5,
           0.5,
           0.5,
           2.9802322e-8,
           0.000022560358,
           0.5,
           0.9999206
          ],
          [
           0.5,
           0.5,
           0.5,
           0.5,
           0,
           0.50000006,
           0.5000037,
           0.5
          ]
         ],
         "zmax": 1,
         "zmin": 0
        },
        {
         "colorscale": [
          [
           0,
           "rgb(103,0,31)"
          ],
          [
           0.1,
           "rgb(178,24,43)"
          ],
          [
           0.2,
           "rgb(214,96,77)"
          ],
          [
           0.3,
           "rgb(244,165,130)"
          ],
          [
           0.4,
           "rgb(253,219,199)"
          ],
          [
           0.5,
           "rgb(247,247,247)"
          ],
          [
           0.6,
           "rgb(209,229,240)"
          ],
          [
           0.7,
           "rgb(146,197,222)"
          ],
          [
           0.8,
           "rgb(67,147,195)"
          ],
          [
           0.9,
           "rgb(33,102,172)"
          ],
          [
           1,
           "rgb(5,48,97)"
          ]
         ],
         "hoverongaps": false,
         "showscale": false,
         "text": [
          [
           " ",
           " ",
           " ",
           " ",
           " ",
           " ",
           " ",
           " "
          ],
          [
           " ",
           " ",
           " ",
           " ",
           " ",
           " ",
           " ",
           " "
          ],
          [
           " ",
           " ",
           " ",
           " ",
           "█",
           " ",
           " ",
           " "
          ],
          [
           " ",
           " ",
           " ",
           " ",
           "█",
           " ",
           " ",
           " "
          ],
          [
           " ",
           " ",
           " ",
           " ",
           "█",
           " ",
           " ",
           " "
          ],
          [
           " ",
           " ",
           " ",
           " ",
           "█",
           " ",
           " ",
           " "
          ],
          [
           " ",
           " ",
           " ",
           " ",
           " ",
           " ",
           " ",
           " "
          ],
          [
           " ",
           " ",
           " ",
           " ",
           " ",
           " ",
           " ",
           " "
          ]
         ],
         "texttemplate": "%{text}",
         "type": "heatmap",
         "x": [
          0,
          1,
          2,
          3,
          4,
          5,
          6,
          7
         ],
         "xaxis": "x7",
         "y": [
          "H",
          "G",
          "F",
          "E",
          "D",
          "C",
          "B",
          "A"
         ],
         "yaxis": "y7",
         "z": [
          [
           0.49998605,
           0.00007581711,
           0.4999999,
           0.49999937,
           0.5,
           0.49999884,
           0.50000024,
           0.50000054
          ],
          [
           0.49999896,
           0.5000015,
           0.0006376803,
           0.0007889271,
           0.000017046928,
           0.5000003,
           0.5000141,
           0.9999678
          ],
          [
           0.500056,
           0.5000142,
           0.4999936,
           0.00006785989,
           0.0062624216,
           0.9976175,
           0.99992526,
           0.50001544
          ],
          [
           0.49999687,
           0.5002313,
           0.9999774,
           0.99142694,
           0.000014334917,
           0.6446881,
           0.5000159,
           0.5
          ],
          [
           0.49988526,
           0.5000094,
           0.5002927,
           0.07262102,
           0.0021401644,
           0.014652073,
           0.50000215,
           0.000086694956
          ],
          [
           0.49999255,
           0.49996832,
           0.0022531152,
           0.06413028,
           0.00010192394,
           0.01889807,
           0.03688571,
           0.50000054
          ],
          [
           0.49998847,
           0.49999744,
           0.49998114,
           0.49999434,
           5.066395e-7,
           0.0021650791,
           0.49998343,
           0.99876297
          ],
          [
           0.4999868,
           0.49997497,
           0.49999905,
           0.49999893,
           0.0000015497208,
           0.4999959,
           0.4997982,
           0.4999565
          ]
         ],
         "zmax": 1,
         "zmin": 0
        },
        {
         "colorscale": [
          [
           0,
           "rgb(103,0,31)"
          ],
          [
           0.1,
           "rgb(178,24,43)"
          ],
          [
           0.2,
           "rgb(214,96,77)"
          ],
          [
           0.3,
           "rgb(244,165,130)"
          ],
          [
           0.4,
           "rgb(253,219,199)"
          ],
          [
           0.5,
           "rgb(247,247,247)"
          ],
          [
           0.6,
           "rgb(209,229,240)"
          ],
          [
           0.7,
           "rgb(146,197,222)"
          ],
          [
           0.8,
           "rgb(67,147,195)"
          ],
          [
           0.9,
           "rgb(33,102,172)"
          ],
          [
           1,
           "rgb(5,48,97)"
          ]
         ],
         "hoverongaps": false,
         "showscale": false,
         "text": [
          [
           " ",
           " ",
           " ",
           " ",
           " ",
           " ",
           " ",
           " "
          ],
          [
           " ",
           "▓",
           " ",
           "█",
           " ",
           " ",
           " ",
           " "
          ],
          [
           " ",
           " ",
           " ",
           " ",
           "█",
           " ",
           " ",
           " "
          ],
          [
           " ",
           " ",
           " ",
           " ",
           "█",
           " ",
           " ",
           " "
          ],
          [
           " ",
           "▓",
           "▒",
           "▓",
           "█",
           "░",
           "░",
           " "
          ],
          [
           " ",
           " ",
           "░",
           " ",
           "█",
           " ",
           " ",
           " "
          ],
          [
           " ",
           " ",
           " ",
           " ",
           " ",
           " ",
           " ",
           " "
          ],
          [
           " ",
           " ",
           " ",
           " ",
           "░",
           " ",
           " ",
           " "
          ]
         ],
         "texttemplate": "%{text}",
         "type": "heatmap",
         "x": [
          0,
          1,
          2,
          3,
          4,
          5,
          6,
          7
         ],
         "xaxis": "x8",
         "y": [
          "H",
          "G",
          "F",
          "E",
          "D",
          "C",
          "B",
          "A"
         ],
         "yaxis": "y8",
         "z": [
          [
           0.60910153,
           0.19961458,
           0.032225877,
           0.5,
           0.49999988,
           0.5,
           0.06361866,
           0.73088104
          ],
          [
           0.2874492,
           0.9919109,
           0.6446499,
           0.91353536,
           0.000001937151,
           0.5,
           0.9980624,
           0.59152067
          ],
          [
           0.83601356,
           0.9967462,
           0.5,
           0.6291468,
           2.9802322e-8,
           0.9844316,
           0.38937777,
           0.0014459193
          ],
          [
           0.5704349,
           0.9994574,
           0.9938289,
           0.7899388,
           0.024019241,
           0.24854508,
           0.5,
           0.02131921
          ],
          [
           0.10311553,
           0.99995804,
           0.8984343,
           0.986285,
           0.0003105998,
           0.9988837,
           0.282783,
           0.032857627
          ],
          [
           0.25691658,
           0.5,
           0.0031745732,
           0.01408419,
           0.0014330447,
           0.9905849,
           0.48242068,
           0.26577038
          ],
          [
           0.5010409,
           0.5,
           0.5,
           0.5,
           0.20158362,
           0.00020176172,
           0.49999994,
           0.21361715
          ],
          [
           0.5021698,
           0.5010472,
           0.33455303,
           0.9208863,
           0.0017317533,
           0.49999997,
           0.5,
           0.49563307
          ]
         ],
         "zmax": 1,
         "zmin": 0
        },
        {
         "colorscale": [
          [
           0,
           "rgb(103,0,31)"
          ],
          [
           0.1,
           "rgb(178,24,43)"
          ],
          [
           0.2,
           "rgb(214,96,77)"
          ],
          [
           0.3,
           "rgb(244,165,130)"
          ],
          [
           0.4,
           "rgb(253,219,199)"
          ],
          [
           0.5,
           "rgb(247,247,247)"
          ],
          [
           0.6,
           "rgb(209,229,240)"
          ],
          [
           0.7,
           "rgb(146,197,222)"
          ],
          [
           0.8,
           "rgb(67,147,195)"
          ],
          [
           0.9,
           "rgb(33,102,172)"
          ],
          [
           1,
           "rgb(5,48,97)"
          ]
         ],
         "hoverongaps": false,
         "showscale": false,
         "text": [
          [
           " ",
           " ",
           " ",
           " ",
           " ",
           " ",
           " ",
           " "
          ],
          [
           " ",
           " ",
           " ",
           "▒",
           " ",
           " ",
           " ",
           " "
          ],
          [
           " ",
           " ",
           " ",
           " ",
           "█",
           " ",
           " ",
           " "
          ],
          [
           " ",
           " ",
           " ",
           " ",
           "█",
           " ",
           " ",
           " "
          ],
          [
           " ",
           " ",
           " ",
           " ",
           "█",
           " ",
           "░",
           " "
          ],
          [
           " ",
           " ",
           " ",
           " ",
           "█",
           " ",
           " ",
           " "
          ],
          [
           " ",
           " ",
           " ",
           " ",
           " ",
           " ",
           " ",
           " "
          ],
          [
           " ",
           " ",
           " ",
           " ",
           " ",
           " ",
           " ",
           " "
          ]
         ],
         "texttemplate": "%{text}",
         "type": "heatmap",
         "x": [
          0,
          1,
          2,
          3,
          4,
          5,
          6,
          7
         ],
         "xaxis": "x9",
         "y": [
          "H",
          "G",
          "F",
          "E",
          "D",
          "C",
          "B",
          "A"
         ],
         "yaxis": "y9",
         "z": [
          [
           0.6123119,
           0.63917875,
           0.029514521,
           0.49999994,
           0.49999726,
           0.5000002,
           0.0068636537,
           0.4358608
          ],
          [
           0.37656915,
           0.9961107,
           0.96083534,
           0.96644616,
           0.00013014674,
           0.49999848,
           0.9974343,
           0.34713095
          ],
          [
           0.44972,
           0.9996171,
           0.5000023,
           0.9918858,
           0.000005364418,
           0.96382284,
           0.26192796,
           0.0008493066
          ],
          [
           0.025355369,
           0.97255015,
           0.9966992,
           0.70741105,
           0.016010433,
           0.16285068,
           0.500004,
           0.0051399767
          ],
          [
           0.003648281,
           0.9880414,
           0.6710811,
           0.99492747,
           0.030571878,
           0.99952793,
           0.60275555,
           0.004150629
          ],
          [
           0.13781077,
           0.49999988,
           0.0031288862,
           0.0367606,
           0.001552105,
           0.95109475,
           0.01864636,
           0.026586115
          ],
          [
           0.502002,
           0.50000095,
           0.5,
           0.50000036,
           0.034288377,
           0.029567182,
           0.49999997,
           0.018499374
          ],
          [
           0.5105142,
           0.5026136,
           0.094625205,
           0.9061619,
           0.0018906593,
           0.49999997,
           0.5,
           0.5001026
          ]
         ],
         "zmax": 1,
         "zmin": 0
        },
        {
         "colorscale": [
          [
           0,
           "rgb(103,0,31)"
          ],
          [
           0.1,
           "rgb(178,24,43)"
          ],
          [
           0.2,
           "rgb(214,96,77)"
          ],
          [
           0.3,
           "rgb(244,165,130)"
          ],
          [
           0.4,
           "rgb(253,219,199)"
          ],
          [
           0.5,
           "rgb(247,247,247)"
          ],
          [
           0.6,
           "rgb(209,229,240)"
          ],
          [
           0.7,
           "rgb(146,197,222)"
          ],
          [
           0.8,
           "rgb(67,147,195)"
          ],
          [
           0.9,
           "rgb(33,102,172)"
          ],
          [
           1,
           "rgb(5,48,97)"
          ]
         ],
         "hoverongaps": false,
         "showscale": false,
         "text": [
          [
           " ",
           " ",
           " ",
           " ",
           " ",
           " ",
           " ",
           " "
          ],
          [
           " ",
           " ",
           " ",
           " ",
           " ",
           " ",
           " ",
           " "
          ],
          [
           " ",
           " ",
           " ",
           " ",
           "█",
           " ",
           " ",
           " "
          ],
          [
           " ",
           " ",
           " ",
           " ",
           "█",
           " ",
           " ",
           " "
          ],
          [
           " ",
           " ",
           " ",
           " ",
           "█",
           " ",
           " ",
           " "
          ],
          [
           " ",
           " ",
           " ",
           " ",
           "█",
           " ",
           " ",
           " "
          ],
          [
           " ",
           " ",
           " ",
           " ",
           " ",
           " ",
           " ",
           " "
          ],
          [
           " ",
           " ",
           " ",
           " ",
           " ",
           " ",
           " ",
           " "
          ]
         ],
         "texttemplate": "%{text}",
         "type": "heatmap",
         "x": [
          0,
          1,
          2,
          3,
          4,
          5,
          6,
          7
         ],
         "xaxis": "x10",
         "y": [
          "H",
          "G",
          "F",
          "E",
          "D",
          "C",
          "B",
          "A"
         ],
         "yaxis": "y10",
         "z": [
          [
           0.5190518,
           0.7114024,
           0.032868445,
           0.4999999,
           0.4999981,
           0.5000002,
           0.008917034,
           0.5814096
          ],
          [
           0.37404805,
           0.9906732,
           0.9549379,
           0.9329008,
           0.000046163797,
           0.49999896,
           0.9947144,
           0.46553108
          ],
          [
           0.42812568,
           0.9984356,
           0.50000095,
           0.9945903,
           0.000033974648,
           0.9760641,
           0.45580533,
           0.0012251139
          ],
          [
           0.019127458,
           0.96324974,
           0.9981793,
           0.71797323,
           0.092332006,
           0.34199017,
           0.5000018,
           0.009591103
          ],
          [
           0.003750652,
           0.97952026,
           0.7520662,
           0.9910772,
           0.026382774,
           0.9997304,
           0.5833606,
           0.0019377768
          ],
          [
           0.12149763,
           0.49999994,
           0.0072599947,
           0.061006546,
           0.005075842,
           0.91678786,
           0.0081471205,
           0.035975575
          ],
          [
           0.5005299,
           0.50000083,
           0.5,
           0.50000024,
           0.018920064,
           0.009449154,
           0.49999994,
           0.02102533
          ],
          [
           0.50600946,
           0.50080305,
           0.09639901,
           0.8867481,
           0.0022301674,
           0.5,
           0.5,
           0.50007355
          ]
         ],
         "zmax": 1,
         "zmin": 0
        },
        {
         "colorscale": [
          [
           0,
           "rgb(103,0,31)"
          ],
          [
           0.1,
           "rgb(178,24,43)"
          ],
          [
           0.2,
           "rgb(214,96,77)"
          ],
          [
           0.3,
           "rgb(244,165,130)"
          ],
          [
           0.4,
           "rgb(253,219,199)"
          ],
          [
           0.5,
           "rgb(247,247,247)"
          ],
          [
           0.6,
           "rgb(209,229,240)"
          ],
          [
           0.7,
           "rgb(146,197,222)"
          ],
          [
           0.8,
           "rgb(67,147,195)"
          ],
          [
           0.9,
           "rgb(33,102,172)"
          ],
          [
           1,
           "rgb(5,48,97)"
          ]
         ],
         "hoverongaps": false,
         "showscale": false,
         "text": [
          [
           " ",
           " ",
           " ",
           " ",
           " ",
           " ",
           " ",
           " "
          ],
          [
           " ",
           " ",
           " ",
           " ",
           " ",
           " ",
           " ",
           " "
          ],
          [
           " ",
           " ",
           " ",
           " ",
           "█",
           " ",
           " ",
           " "
          ],
          [
           " ",
           " ",
           " ",
           " ",
           "█",
           " ",
           " ",
           " "
          ],
          [
           " ",
           " ",
           " ",
           " ",
           "█",
           " ",
           " ",
           " "
          ],
          [
           " ",
           " ",
           " ",
           " ",
           "█",
           " ",
           " ",
           " "
          ],
          [
           " ",
           " ",
           " ",
           " ",
           " ",
           " ",
           " ",
           " "
          ],
          [
           " ",
           " ",
           " ",
           " ",
           " ",
           " ",
           " ",
           " "
          ]
         ],
         "texttemplate": "%{text}",
         "type": "heatmap",
         "x": [
          0,
          1,
          2,
          3,
          4,
          5,
          6,
          7
         ],
         "xaxis": "x11",
         "y": [
          "H",
          "G",
          "F",
          "E",
          "D",
          "C",
          "B",
          "A"
         ],
         "yaxis": "y11",
         "z": [
          [
           0.49999532,
           0.0039652884,
           0.33913916,
           0.4999917,
           0.5,
           0.49999985,
           0.001893729,
           0.01666516
          ],
          [
           0.4972621,
           0.94893956,
           0.9751762,
           0.939409,
           0.00027650595,
           0.50000024,
           0.82584715,
           0.01732999
          ],
          [
           0.49900043,
           0.8620249,
           0.50000054,
           0.67318344,
           0.00023302436,
           0.7762304,
           0.29066902,
           0.0033362508
          ],
          [
           0.031629115,
           0.98734736,
           0.9735753,
           0.6031951,
           0.042860776,
           0.5810776,
           0.50000006,
           0.013341367
          ],
          [
           0.008187681,
           0.97234434,
           0.9762958,
           0.9852876,
           0.0032313764,
           0.96806276,
           0.06670198,
           0.0003989339
          ],
          [
           0.013474852,
           0.5000002,
           0.15360361,
           0.35262498,
           0.0011893809,
           0.7915027,
           0.02412653,
           0.013177723
          ],
          [
           0.5001476,
           0.50001323,
           0.50000083,
           0.5000014,
           0.6491754,
           0.015747786,
           0.5,
           0.3887391
          ],
          [
           0.50002116,
           0.49999613,
           0.17813817,
           0.0017452538,
           0.013605267,
           0.49999997,
           0.5,
           0.49985328
          ]
         ],
         "zmax": 1,
         "zmin": 0
        },
        {
         "colorscale": [
          [
           0,
           "rgb(103,0,31)"
          ],
          [
           0.1,
           "rgb(178,24,43)"
          ],
          [
           0.2,
           "rgb(214,96,77)"
          ],
          [
           0.3,
           "rgb(244,165,130)"
          ],
          [
           0.4,
           "rgb(253,219,199)"
          ],
          [
           0.5,
           "rgb(247,247,247)"
          ],
          [
           0.6,
           "rgb(209,229,240)"
          ],
          [
           0.7,
           "rgb(146,197,222)"
          ],
          [
           0.8,
           "rgb(67,147,195)"
          ],
          [
           0.9,
           "rgb(33,102,172)"
          ],
          [
           1,
           "rgb(5,48,97)"
          ]
         ],
         "hoverongaps": false,
         "showscale": false,
         "text": [
          [
           " ",
           " ",
           " ",
           " ",
           " ",
           " ",
           " ",
           " "
          ],
          [
           " ",
           " ",
           " ",
           " ",
           " ",
           " ",
           " ",
           " "
          ],
          [
           " ",
           " ",
           " ",
           " ",
           "█",
           " ",
           " ",
           " "
          ],
          [
           " ",
           " ",
           " ",
           " ",
           "█",
           " ",
           " ",
           " "
          ],
          [
           " ",
           " ",
           " ",
           " ",
           "█",
           " ",
           " ",
           " "
          ],
          [
           " ",
           " ",
           " ",
           " ",
           "█",
           " ",
           " ",
           " "
          ],
          [
           " ",
           " ",
           " ",
           " ",
           " ",
           " ",
           " ",
           " "
          ],
          [
           " ",
           " ",
           " ",
           " ",
           " ",
           " ",
           " ",
           " "
          ]
         ],
         "texttemplate": "%{text}",
         "type": "heatmap",
         "x": [
          0,
          1,
          2,
          3,
          4,
          5,
          6,
          7
         ],
         "xaxis": "x12",
         "y": [
          "H",
          "G",
          "F",
          "E",
          "D",
          "C",
          "B",
          "A"
         ],
         "yaxis": "y12",
         "z": [
          [
           0.49999905,
           0.0027424693,
           0.14102533,
           0.49998638,
           0.49999997,
           0.49999985,
           0.0024591684,
           0.010926783
          ],
          [
           0.49927703,
           0.9449661,
           0.9586381,
           0.6995356,
           0.0005082786,
           0.5,
           0.7277835,
           0.043691814
          ],
          [
           0.49958473,
           0.89581865,
           0.5000004,
           0.30913135,
           0.00077188015,
           0.7667265,
           0.20644176,
           0.014537245
          ],
          [
           0.038065404,
           0.98648655,
           0.96600324,
           0.60349715,
           0.12875122,
           0.42913774,
           0.50000006,
           0.03731686
          ],
          [
           0.008993447,
           0.96224797,
           0.9750142,
           0.9857012,
           0.010773122,
           0.93922603,
           0.09082806,
           0.00059878826
          ],
          [
           0.0058297217,
           0.5000002,
           0.093569756,
           0.20056447,
           0.0021425784,
           0.85400724,
           0.04152906,
           0.0119197965
          ],
          [
           0.50001085,
           0.5000178,
           0.50000006,
           0.500001,
           0.5796088,
           0.016051978,
           0.5,
           0.44965157
          ],
          [
           0.50029206,
           0.4999983,
           0.23235542,
           0.0011559725,
           0.012080938,
           0.49999997,
           0.5,
           0.49963975
          ]
         ],
         "zmax": 1,
         "zmin": 0
        },
        {
         "colorscale": [
          [
           0,
           "rgb(103,0,31)"
          ],
          [
           0.1,
           "rgb(178,24,43)"
          ],
          [
           0.2,
           "rgb(214,96,77)"
          ],
          [
           0.3,
           "rgb(244,165,130)"
          ],
          [
           0.4,
           "rgb(253,219,199)"
          ],
          [
           0.5,
           "rgb(247,247,247)"
          ],
          [
           0.6,
           "rgb(209,229,240)"
          ],
          [
           0.7,
           "rgb(146,197,222)"
          ],
          [
           0.8,
           "rgb(67,147,195)"
          ],
          [
           0.9,
           "rgb(33,102,172)"
          ],
          [
           1,
           "rgb(5,48,97)"
          ]
         ],
         "hoverongaps": false,
         "showscale": false,
         "text": [
          [
           " ",
           " ",
           "▒",
           " ",
           " ",
           " ",
           "▒",
           " "
          ],
          [
           " ",
           " ",
           " ",
           "█",
           " ",
           " ",
           " ",
           " "
          ],
          [
           " ",
           " ",
           " ",
           " ",
           "█",
           " ",
           " ",
           "░"
          ],
          [
           " ",
           " ",
           " ",
           " ",
           "█",
           " ",
           " ",
           " "
          ],
          [
           " ",
           " ",
           " ",
           " ",
           "█",
           " ",
           " ",
           " "
          ],
          [
           " ",
           " ",
           " ",
           " ",
           "█",
           " ",
           " ",
           " "
          ],
          [
           "▒",
           " ",
           " ",
           " ",
           "█",
           " ",
           " ",
           " "
          ],
          [
           " ",
           " ",
           " ",
           " ",
           " ",
           " ",
           " ",
           "▒"
          ]
         ],
         "texttemplate": "%{text}",
         "type": "heatmap",
         "x": [
          0,
          1,
          2,
          3,
          4,
          5,
          6,
          7
         ],
         "xaxis": "x13",
         "y": [
          "H",
          "G",
          "F",
          "E",
          "D",
          "C",
          "B",
          "A"
         ],
         "yaxis": "y13",
         "z": [
          [
           0.49992603,
           0.006026268,
           0.4976063,
           0.49999344,
           0.5,
           0.49999982,
           0.002300769,
           0.024306566
          ],
          [
           0.50000215,
           0.9899439,
           0.9461258,
           0.911903,
           0.0017479062,
           0.5,
           0.56011593,
           0.682963
          ],
          [
           0.50843585,
           0.8404392,
           0.49999994,
           0.41156876,
           0.0012022257,
           0.930787,
           0.030338317,
           0.4987564
          ],
          [
           0.45718488,
           0.9865967,
           0.9672477,
           0.91179734,
           0.38515818,
           0.64517754,
           0.5,
           0.253593
          ],
          [
           0.4714382,
           0.9733114,
           0.9452944,
           0.98857284,
           0.009563953,
           0.9901299,
           0.5535491,
           0.018707752
          ],
          [
           0.11694515,
           0.5,
           0.047721595,
           0.67622215,
           0.0057268143,
           0.9790362,
           0.12841615,
           0.017110974
          ],
          [
           0.50139236,
           0.5,
           0.4999997,
           0.50006783,
           0.49935102,
           0.06293517,
           0.5,
           0.9317112
          ],
          [
           0.49427462,
           0.32285735,
           0.11375898,
           0.11718017,
           0.011630297,
           0.49792388,
           0.49999997,
           0.4993002
          ]
         ],
         "zmax": 1,
         "zmin": 0
        },
        {
         "colorscale": [
          [
           0,
           "rgb(103,0,31)"
          ],
          [
           0.1,
           "rgb(178,24,43)"
          ],
          [
           0.2,
           "rgb(214,96,77)"
          ],
          [
           0.3,
           "rgb(244,165,130)"
          ],
          [
           0.4,
           "rgb(253,219,199)"
          ],
          [
           0.5,
           "rgb(247,247,247)"
          ],
          [
           0.6,
           "rgb(209,229,240)"
          ],
          [
           0.7,
           "rgb(146,197,222)"
          ],
          [
           0.8,
           "rgb(67,147,195)"
          ],
          [
           0.9,
           "rgb(33,102,172)"
          ],
          [
           1,
           "rgb(5,48,97)"
          ]
         ],
         "hoverongaps": false,
         "showscale": false,
         "text": [
          [
           " ",
           " ",
           "░",
           " ",
           " ",
           " ",
           "░",
           " "
          ],
          [
           " ",
           " ",
           " ",
           "▓",
           " ",
           " ",
           " ",
           " "
          ],
          [
           " ",
           " ",
           " ",
           " ",
           "█",
           " ",
           " ",
           " "
          ],
          [
           " ",
           " ",
           " ",
           " ",
           "█",
           " ",
           " ",
           " "
          ],
          [
           " ",
           " ",
           " ",
           " ",
           "█",
           " ",
           " ",
           " "
          ],
          [
           " ",
           " ",
           " ",
           " ",
           "█",
           " ",
           " ",
           " "
          ],
          [
           " ",
           " ",
           " ",
           " ",
           "▓",
           " ",
           " ",
           " "
          ],
          [
           " ",
           " ",
           " ",
           " ",
           " ",
           " ",
           " ",
           "░"
          ]
         ],
         "texttemplate": "%{text}",
         "type": "heatmap",
         "x": [
          0,
          1,
          2,
          3,
          4,
          5,
          6,
          7
         ],
         "xaxis": "x14",
         "y": [
          "H",
          "G",
          "F",
          "E",
          "D",
          "C",
          "B",
          "A"
         ],
         "yaxis": "y14",
         "z": [
          [
           0.49999124,
           0.0033385456,
           0.49861395,
           0.49988467,
           0.5,
           0.49999928,
           0.0031981766,
           0.029244155
          ],
          [
           0.5000003,
           0.948087,
           0.78406286,
           0.72254854,
           0.0016692579,
           0.5,
           0.4730723,
           0.7962097
          ],
          [
           0.50027317,
           0.74645036,
           0.49999726,
           0.20367378,
           0.0106236935,
           0.95913756,
           0.092212945,
           0.5722134
          ],
          [
           0.49224484,
           0.98230255,
           0.9638334,
           0.8550633,
           0.6338282,
           0.66238236,
           0.5,
           0.41352147
          ],
          [
           0.48949876,
           0.99039644,
           0.96691966,
           0.9823016,
           0.022084862,
           0.97498566,
           0.5990871,
           0.014474481
          ],
          [
           0.15476885,
           0.5,
           0.013395697,
           0.30433407,
           0.0045612156,
           0.96259904,
           0.10032165,
           0.046732277
          ],
          [
           0.50012517,
           0.5,
           0.49999937,
           0.50012624,
           0.45714235,
           0.07660782,
           0.49999997,
           0.83844197
          ],
          [
           0.4900086,
           0.3896652,
           0.11983743,
           0.096425176,
           0.010086566,
           0.4994989,
           0.5,
           0.49975345
          ]
         ],
         "zmax": 1,
         "zmin": 0
        }
       ],
       "layout": {
        "annotations": [
         {
          "font": {
           "size": 16
          },
          "showarrow": false,
          "text": "P: 21, T: G1, L: 0, Attn",
          "x": 0.031071428571428573,
          "xanchor": "center",
          "xref": "paper",
          "y": 1,
          "yanchor": "bottom",
          "yref": "paper"
         },
         {
          "font": {
           "size": 16
          },
          "showarrow": false,
          "text": "P: 21, T: G1, L: 0, MLP",
          "x": 0.10321428571428572,
          "xanchor": "center",
          "xref": "paper",
          "y": 1,
          "yanchor": "bottom",
          "yref": "paper"
         },
         {
          "font": {
           "size": 16
          },
          "showarrow": false,
          "text": "P: 21, T: G1, L: 1, Attn",
          "x": 0.17535714285714288,
          "xanchor": "center",
          "xref": "paper",
          "y": 1,
          "yanchor": "bottom",
          "yref": "paper"
         },
         {
          "font": {
           "size": 16
          },
          "showarrow": false,
          "text": "P: 21, T: G1, L: 1, MLP",
          "x": 0.2475,
          "xanchor": "center",
          "xref": "paper",
          "y": 1,
          "yanchor": "bottom",
          "yref": "paper"
         },
         {
          "font": {
           "size": 16
          },
          "showarrow": false,
          "text": "P: 21, T: G1, L: 2, Attn",
          "x": 0.3196428571428572,
          "xanchor": "center",
          "xref": "paper",
          "y": 1,
          "yanchor": "bottom",
          "yref": "paper"
         },
         {
          "font": {
           "size": 16
          },
          "showarrow": false,
          "text": "P: 21, T: G1, L: 2, MLP",
          "x": 0.3917857142857143,
          "xanchor": "center",
          "xref": "paper",
          "y": 1,
          "yanchor": "bottom",
          "yref": "paper"
         },
         {
          "font": {
           "size": 16
          },
          "showarrow": false,
          "text": "P: 21, T: G1, L: 3, Attn",
          "x": 0.46392857142857147,
          "xanchor": "center",
          "xref": "paper",
          "y": 1,
          "yanchor": "bottom",
          "yref": "paper"
         },
         {
          "font": {
           "size": 16
          },
          "showarrow": false,
          "text": "P: 21, T: G1, L: 3, MLP",
          "x": 0.5360714285714288,
          "xanchor": "center",
          "xref": "paper",
          "y": 1,
          "yanchor": "bottom",
          "yref": "paper"
         },
         {
          "font": {
           "size": 16
          },
          "showarrow": false,
          "text": "P: 21, T: G1, L: 4, Attn",
          "x": 0.6082142857142858,
          "xanchor": "center",
          "xref": "paper",
          "y": 1,
          "yanchor": "bottom",
          "yref": "paper"
         },
         {
          "font": {
           "size": 16
          },
          "showarrow": false,
          "text": "P: 21, T: G1, L: 4, MLP",
          "x": 0.6803571428571429,
          "xanchor": "center",
          "xref": "paper",
          "y": 1,
          "yanchor": "bottom",
          "yref": "paper"
         },
         {
          "font": {
           "size": 16
          },
          "showarrow": false,
          "text": "P: 21, T: G1, L: 5, Attn",
          "x": 0.7525000000000002,
          "xanchor": "center",
          "xref": "paper",
          "y": 1,
          "yanchor": "bottom",
          "yref": "paper"
         },
         {
          "font": {
           "size": 16
          },
          "showarrow": false,
          "text": "P: 21, T: G1, L: 5, MLP",
          "x": 0.8246428571428572,
          "xanchor": "center",
          "xref": "paper",
          "y": 1,
          "yanchor": "bottom",
          "yref": "paper"
         },
         {
          "font": {
           "size": 16
          },
          "showarrow": false,
          "text": "P: 21, T: G1, L: 6, Attn",
          "x": 0.8967857142857145,
          "xanchor": "center",
          "xref": "paper",
          "y": 1,
          "yanchor": "bottom",
          "yref": "paper"
         },
         {
          "font": {
           "size": 16
          },
          "showarrow": false,
          "text": "P: 21, T: G1, L: 6, MLP",
          "x": 0.9689285714285716,
          "xanchor": "center",
          "xref": "paper",
          "y": 1,
          "yanchor": "bottom",
          "yref": "paper"
         }
        ],
        "height": 325,
        "margin": {
         "l": 100,
         "t": 100
        },
        "template": {
         "data": {
          "bar": [
           {
            "error_x": {
             "color": "#2a3f5f"
            },
            "error_y": {
             "color": "#2a3f5f"
            },
            "marker": {
             "line": {
              "color": "#E5ECF6",
              "width": 0.5
             },
             "pattern": {
              "fillmode": "overlay",
              "size": 10,
              "solidity": 0.2
             }
            },
            "type": "bar"
           }
          ],
          "barpolar": [
           {
            "marker": {
             "line": {
              "color": "#E5ECF6",
              "width": 0.5
             },
             "pattern": {
              "fillmode": "overlay",
              "size": 10,
              "solidity": 0.2
             }
            },
            "type": "barpolar"
           }
          ],
          "carpet": [
           {
            "aaxis": {
             "endlinecolor": "#2a3f5f",
             "gridcolor": "white",
             "linecolor": "white",
             "minorgridcolor": "white",
             "startlinecolor": "#2a3f5f"
            },
            "baxis": {
             "endlinecolor": "#2a3f5f",
             "gridcolor": "white",
             "linecolor": "white",
             "minorgridcolor": "white",
             "startlinecolor": "#2a3f5f"
            },
            "type": "carpet"
           }
          ],
          "choropleth": [
           {
            "colorbar": {
             "outlinewidth": 0,
             "ticks": ""
            },
            "type": "choropleth"
           }
          ],
          "contour": [
           {
            "colorbar": {
             "outlinewidth": 0,
             "ticks": ""
            },
            "colorscale": [
             [
              0,
              "#0d0887"
             ],
             [
              0.1111111111111111,
              "#46039f"
             ],
             [
              0.2222222222222222,
              "#7201a8"
             ],
             [
              0.3333333333333333,
              "#9c179e"
             ],
             [
              0.4444444444444444,
              "#bd3786"
             ],
             [
              0.5555555555555556,
              "#d8576b"
             ],
             [
              0.6666666666666666,
              "#ed7953"
             ],
             [
              0.7777777777777778,
              "#fb9f3a"
             ],
             [
              0.8888888888888888,
              "#fdca26"
             ],
             [
              1,
              "#f0f921"
             ]
            ],
            "type": "contour"
           }
          ],
          "contourcarpet": [
           {
            "colorbar": {
             "outlinewidth": 0,
             "ticks": ""
            },
            "type": "contourcarpet"
           }
          ],
          "heatmap": [
           {
            "colorbar": {
             "outlinewidth": 0,
             "ticks": ""
            },
            "colorscale": [
             [
              0,
              "#0d0887"
             ],
             [
              0.1111111111111111,
              "#46039f"
             ],
             [
              0.2222222222222222,
              "#7201a8"
             ],
             [
              0.3333333333333333,
              "#9c179e"
             ],
             [
              0.4444444444444444,
              "#bd3786"
             ],
             [
              0.5555555555555556,
              "#d8576b"
             ],
             [
              0.6666666666666666,
              "#ed7953"
             ],
             [
              0.7777777777777778,
              "#fb9f3a"
             ],
             [
              0.8888888888888888,
              "#fdca26"
             ],
             [
              1,
              "#f0f921"
             ]
            ],
            "type": "heatmap"
           }
          ],
          "heatmapgl": [
           {
            "colorbar": {
             "outlinewidth": 0,
             "ticks": ""
            },
            "colorscale": [
             [
              0,
              "#0d0887"
             ],
             [
              0.1111111111111111,
              "#46039f"
             ],
             [
              0.2222222222222222,
              "#7201a8"
             ],
             [
              0.3333333333333333,
              "#9c179e"
             ],
             [
              0.4444444444444444,
              "#bd3786"
             ],
             [
              0.5555555555555556,
              "#d8576b"
             ],
             [
              0.6666666666666666,
              "#ed7953"
             ],
             [
              0.7777777777777778,
              "#fb9f3a"
             ],
             [
              0.8888888888888888,
              "#fdca26"
             ],
             [
              1,
              "#f0f921"
             ]
            ],
            "type": "heatmapgl"
           }
          ],
          "histogram": [
           {
            "marker": {
             "pattern": {
              "fillmode": "overlay",
              "size": 10,
              "solidity": 0.2
             }
            },
            "type": "histogram"
           }
          ],
          "histogram2d": [
           {
            "colorbar": {
             "outlinewidth": 0,
             "ticks": ""
            },
            "colorscale": [
             [
              0,
              "#0d0887"
             ],
             [
              0.1111111111111111,
              "#46039f"
             ],
             [
              0.2222222222222222,
              "#7201a8"
             ],
             [
              0.3333333333333333,
              "#9c179e"
             ],
             [
              0.4444444444444444,
              "#bd3786"
             ],
             [
              0.5555555555555556,
              "#d8576b"
             ],
             [
              0.6666666666666666,
              "#ed7953"
             ],
             [
              0.7777777777777778,
              "#fb9f3a"
             ],
             [
              0.8888888888888888,
              "#fdca26"
             ],
             [
              1,
              "#f0f921"
             ]
            ],
            "type": "histogram2d"
           }
          ],
          "histogram2dcontour": [
           {
            "colorbar": {
             "outlinewidth": 0,
             "ticks": ""
            },
            "colorscale": [
             [
              0,
              "#0d0887"
             ],
             [
              0.1111111111111111,
              "#46039f"
             ],
             [
              0.2222222222222222,
              "#7201a8"
             ],
             [
              0.3333333333333333,
              "#9c179e"
             ],
             [
              0.4444444444444444,
              "#bd3786"
             ],
             [
              0.5555555555555556,
              "#d8576b"
             ],
             [
              0.6666666666666666,
              "#ed7953"
             ],
             [
              0.7777777777777778,
              "#fb9f3a"
             ],
             [
              0.8888888888888888,
              "#fdca26"
             ],
             [
              1,
              "#f0f921"
             ]
            ],
            "type": "histogram2dcontour"
           }
          ],
          "mesh3d": [
           {
            "colorbar": {
             "outlinewidth": 0,
             "ticks": ""
            },
            "type": "mesh3d"
           }
          ],
          "parcoords": [
           {
            "line": {
             "colorbar": {
              "outlinewidth": 0,
              "ticks": ""
             }
            },
            "type": "parcoords"
           }
          ],
          "pie": [
           {
            "automargin": true,
            "type": "pie"
           }
          ],
          "scatter": [
           {
            "fillpattern": {
             "fillmode": "overlay",
             "size": 10,
             "solidity": 0.2
            },
            "type": "scatter"
           }
          ],
          "scatter3d": [
           {
            "line": {
             "colorbar": {
              "outlinewidth": 0,
              "ticks": ""
             }
            },
            "marker": {
             "colorbar": {
              "outlinewidth": 0,
              "ticks": ""
             }
            },
            "type": "scatter3d"
           }
          ],
          "scattercarpet": [
           {
            "marker": {
             "colorbar": {
              "outlinewidth": 0,
              "ticks": ""
             }
            },
            "type": "scattercarpet"
           }
          ],
          "scattergeo": [
           {
            "marker": {
             "colorbar": {
              "outlinewidth": 0,
              "ticks": ""
             }
            },
            "type": "scattergeo"
           }
          ],
          "scattergl": [
           {
            "marker": {
             "colorbar": {
              "outlinewidth": 0,
              "ticks": ""
             }
            },
            "type": "scattergl"
           }
          ],
          "scattermapbox": [
           {
            "marker": {
             "colorbar": {
              "outlinewidth": 0,
              "ticks": ""
             }
            },
            "type": "scattermapbox"
           }
          ],
          "scatterpolar": [
           {
            "marker": {
             "colorbar": {
              "outlinewidth": 0,
              "ticks": ""
             }
            },
            "type": "scatterpolar"
           }
          ],
          "scatterpolargl": [
           {
            "marker": {
             "colorbar": {
              "outlinewidth": 0,
              "ticks": ""
             }
            },
            "type": "scatterpolargl"
           }
          ],
          "scatterternary": [
           {
            "marker": {
             "colorbar": {
              "outlinewidth": 0,
              "ticks": ""
             }
            },
            "type": "scatterternary"
           }
          ],
          "surface": [
           {
            "colorbar": {
             "outlinewidth": 0,
             "ticks": ""
            },
            "colorscale": [
             [
              0,
              "#0d0887"
             ],
             [
              0.1111111111111111,
              "#46039f"
             ],
             [
              0.2222222222222222,
              "#7201a8"
             ],
             [
              0.3333333333333333,
              "#9c179e"
             ],
             [
              0.4444444444444444,
              "#bd3786"
             ],
             [
              0.5555555555555556,
              "#d8576b"
             ],
             [
              0.6666666666666666,
              "#ed7953"
             ],
             [
              0.7777777777777778,
              "#fb9f3a"
             ],
             [
              0.8888888888888888,
              "#fdca26"
             ],
             [
              1,
              "#f0f921"
             ]
            ],
            "type": "surface"
           }
          ],
          "table": [
           {
            "cells": {
             "fill": {
              "color": "#EBF0F8"
             },
             "line": {
              "color": "white"
             }
            },
            "header": {
             "fill": {
              "color": "#C8D4E3"
             },
             "line": {
              "color": "white"
             }
            },
            "type": "table"
           }
          ]
         },
         "layout": {
          "annotationdefaults": {
           "arrowcolor": "#2a3f5f",
           "arrowhead": 0,
           "arrowwidth": 1
          },
          "autotypenumbers": "strict",
          "coloraxis": {
           "colorbar": {
            "outlinewidth": 0,
            "ticks": ""
           }
          },
          "colorscale": {
           "diverging": [
            [
             0,
             "#8e0152"
            ],
            [
             0.1,
             "#c51b7d"
            ],
            [
             0.2,
             "#de77ae"
            ],
            [
             0.3,
             "#f1b6da"
            ],
            [
             0.4,
             "#fde0ef"
            ],
            [
             0.5,
             "#f7f7f7"
            ],
            [
             0.6,
             "#e6f5d0"
            ],
            [
             0.7,
             "#b8e186"
            ],
            [
             0.8,
             "#7fbc41"
            ],
            [
             0.9,
             "#4d9221"
            ],
            [
             1,
             "#276419"
            ]
           ],
           "sequential": [
            [
             0,
             "#0d0887"
            ],
            [
             0.1111111111111111,
             "#46039f"
            ],
            [
             0.2222222222222222,
             "#7201a8"
            ],
            [
             0.3333333333333333,
             "#9c179e"
            ],
            [
             0.4444444444444444,
             "#bd3786"
            ],
            [
             0.5555555555555556,
             "#d8576b"
            ],
            [
             0.6666666666666666,
             "#ed7953"
            ],
            [
             0.7777777777777778,
             "#fb9f3a"
            ],
            [
             0.8888888888888888,
             "#fdca26"
            ],
            [
             1,
             "#f0f921"
            ]
           ],
           "sequentialminus": [
            [
             0,
             "#0d0887"
            ],
            [
             0.1111111111111111,
             "#46039f"
            ],
            [
             0.2222222222222222,
             "#7201a8"
            ],
            [
             0.3333333333333333,
             "#9c179e"
            ],
            [
             0.4444444444444444,
             "#bd3786"
            ],
            [
             0.5555555555555556,
             "#d8576b"
            ],
            [
             0.6666666666666666,
             "#ed7953"
            ],
            [
             0.7777777777777778,
             "#fb9f3a"
            ],
            [
             0.8888888888888888,
             "#fdca26"
            ],
            [
             1,
             "#f0f921"
            ]
           ]
          },
          "colorway": [
           "#636efa",
           "#EF553B",
           "#00cc96",
           "#ab63fa",
           "#FFA15A",
           "#19d3f3",
           "#FF6692",
           "#B6E880",
           "#FF97FF",
           "#FECB52"
          ],
          "font": {
           "color": "#2a3f5f"
          },
          "geo": {
           "bgcolor": "white",
           "lakecolor": "white",
           "landcolor": "#E5ECF6",
           "showlakes": true,
           "showland": true,
           "subunitcolor": "white"
          },
          "hoverlabel": {
           "align": "left"
          },
          "hovermode": "closest",
          "mapbox": {
           "style": "light"
          },
          "paper_bgcolor": "white",
          "plot_bgcolor": "#E5ECF6",
          "polar": {
           "angularaxis": {
            "gridcolor": "white",
            "linecolor": "white",
            "ticks": ""
           },
           "bgcolor": "#E5ECF6",
           "radialaxis": {
            "gridcolor": "white",
            "linecolor": "white",
            "ticks": ""
           }
          },
          "scene": {
           "xaxis": {
            "backgroundcolor": "#E5ECF6",
            "gridcolor": "white",
            "gridwidth": 2,
            "linecolor": "white",
            "showbackground": true,
            "ticks": "",
            "zerolinecolor": "white"
           },
           "yaxis": {
            "backgroundcolor": "#E5ECF6",
            "gridcolor": "white",
            "gridwidth": 2,
            "linecolor": "white",
            "showbackground": true,
            "ticks": "",
            "zerolinecolor": "white"
           },
           "zaxis": {
            "backgroundcolor": "#E5ECF6",
            "gridcolor": "white",
            "gridwidth": 2,
            "linecolor": "white",
            "showbackground": true,
            "ticks": "",
            "zerolinecolor": "white"
           }
          },
          "shapedefaults": {
           "line": {
            "color": "#2a3f5f"
           }
          },
          "ternary": {
           "aaxis": {
            "gridcolor": "white",
            "linecolor": "white",
            "ticks": ""
           },
           "baxis": {
            "gridcolor": "white",
            "linecolor": "white",
            "ticks": ""
           },
           "bgcolor": "#E5ECF6",
           "caxis": {
            "gridcolor": "white",
            "linecolor": "white",
            "ticks": ""
           }
          },
          "title": {
           "x": 0.05
          },
          "xaxis": {
           "automargin": true,
           "gridcolor": "white",
           "linecolor": "white",
           "ticks": "",
           "title": {
            "standoff": 15
           },
           "zerolinecolor": "white",
           "zerolinewidth": 2
          },
          "yaxis": {
           "automargin": true,
           "gridcolor": "white",
           "linecolor": "white",
           "ticks": "",
           "title": {
            "standoff": 15
           },
           "zerolinecolor": "white",
           "zerolinewidth": 2
          }
         }
        },
        "title": {
         "text": "Probe Results per Position per Layer"
        },
        "width": 3213,
        "xaxis": {
         "anchor": "y",
         "domain": [
          0,
          0.062142857142857146
         ]
        },
        "xaxis10": {
         "anchor": "y10",
         "domain": [
          0.6492857142857144,
          0.7114285714285715
         ]
        },
        "xaxis11": {
         "anchor": "y11",
         "domain": [
          0.7214285714285715,
          0.7835714285714287
         ]
        },
        "xaxis12": {
         "anchor": "y12",
         "domain": [
          0.7935714285714287,
          0.8557142857142859
         ]
        },
        "xaxis13": {
         "anchor": "y13",
         "domain": [
          0.8657142857142859,
          0.927857142857143
         ]
        },
        "xaxis14": {
         "anchor": "y14",
         "domain": [
          0.9378571428571431,
          1
         ]
        },
        "xaxis2": {
         "anchor": "y2",
         "domain": [
          0.07214285714285715,
          0.13428571428571429
         ]
        },
        "xaxis3": {
         "anchor": "y3",
         "domain": [
          0.1442857142857143,
          0.20642857142857143
         ]
        },
        "xaxis4": {
         "anchor": "y4",
         "domain": [
          0.21642857142857144,
          0.2785714285714286
         ]
        },
        "xaxis5": {
         "anchor": "y5",
         "domain": [
          0.2885714285714286,
          0.35071428571428576
         ]
        },
        "xaxis6": {
         "anchor": "y6",
         "domain": [
          0.3607142857142857,
          0.4228571428571429
         ]
        },
        "xaxis7": {
         "anchor": "y7",
         "domain": [
          0.4328571428571429,
          0.49500000000000005
         ]
        },
        "xaxis8": {
         "anchor": "y8",
         "domain": [
          0.5050000000000001,
          0.5671428571428573
         ]
        },
        "xaxis9": {
         "anchor": "y9",
         "domain": [
          0.5771428571428572,
          0.6392857142857143
         ]
        },
        "yaxis": {
         "anchor": "x",
         "domain": [
          0,
          1
         ]
        },
        "yaxis10": {
         "anchor": "x10",
         "domain": [
          0,
          1
         ]
        },
        "yaxis11": {
         "anchor": "x11",
         "domain": [
          0,
          1
         ]
        },
        "yaxis12": {
         "anchor": "x12",
         "domain": [
          0,
          1
         ]
        },
        "yaxis13": {
         "anchor": "x13",
         "domain": [
          0,
          1
         ]
        },
        "yaxis14": {
         "anchor": "x14",
         "domain": [
          0,
          1
         ]
        },
        "yaxis2": {
         "anchor": "x2",
         "domain": [
          0,
          1
         ]
        },
        "yaxis3": {
         "anchor": "x3",
         "domain": [
          0,
          1
         ]
        },
        "yaxis4": {
         "anchor": "x4",
         "domain": [
          0,
          1
         ]
        },
        "yaxis5": {
         "anchor": "x5",
         "domain": [
          0,
          1
         ]
        },
        "yaxis6": {
         "anchor": "x6",
         "domain": [
          0,
          1
         ]
        },
        "yaxis7": {
         "anchor": "x7",
         "domain": [
          0,
          1
         ]
        },
        "yaxis8": {
         "anchor": "x8",
         "domain": [
          0,
          1
         ]
        },
        "yaxis9": {
         "anchor": "x9",
         "domain": [
          0,
          1
         ]
        }
       }
      },
      "text/html": [
       "<div>                            <div id=\"4d3952c5-0e74-4430-bb1b-e4ae57caca3f\" class=\"plotly-graph-div\" style=\"height:325px; width:3213.0px;\"></div>            <script type=\"text/javascript\">                require([\"plotly\"], function(Plotly) {                    window.PLOTLYENV=window.PLOTLYENV || {};                                    if (document.getElementById(\"4d3952c5-0e74-4430-bb1b-e4ae57caca3f\")) {                    Plotly.newPlot(                        \"4d3952c5-0e74-4430-bb1b-e4ae57caca3f\",                        [{\"colorscale\":[[0.0,\"rgb(103,0,31)\"],[0.1,\"rgb(178,24,43)\"],[0.2,\"rgb(214,96,77)\"],[0.3,\"rgb(244,165,130)\"],[0.4,\"rgb(253,219,199)\"],[0.5,\"rgb(247,247,247)\"],[0.6,\"rgb(209,229,240)\"],[0.7,\"rgb(146,197,222)\"],[0.8,\"rgb(67,147,195)\"],[0.9,\"rgb(33,102,172)\"],[1.0,\"rgb(5,48,97)\"]],\"hoverongaps\":false,\"showscale\":false,\"text\":[[\" \",\" \",\" \",\" \",\" \",\" \",\" \",\" \"],[\" \",\" \",\" \",\" \",\" \",\" \",\" \",\" \"],[\" \",\" \",\" \",\" \",\"█\",\" \",\" \",\" \"],[\" \",\" \",\" \",\" \",\"█\",\" \",\" \",\" \"],[\" \",\" \",\" \",\" \",\" \",\" \",\" \",\" \"],[\" \",\" \",\" \",\" \",\" \",\" \",\" \",\" \"],[\" \",\" \",\" \",\" \",\" \",\" \",\" \",\" \"],[\" \",\" \",\" \",\" \",\" \",\" \",\" \",\" \"]],\"texttemplate\":\"%{text}\",\"x\":[0,1,2,3,4,5,6,7],\"y\":[\"H\",\"G\",\"F\",\"E\",\"D\",\"C\",\"B\",\"A\"],\"z\":[[0.5,0.5,0.5,0.5,0.5,0.49999797,0.5,0.5],[0.5,0.5,0.5,0.07030848,0.0,0.5,0.5,0.5],[0.5,0.5697873,0.96422875,0.00019046664,0.0000045001507,0.000085920095,0.6070072,0.998983],[0.5,0.98257613,0.10759783,0.9887045,0.00030755997,0.97689146,0.5012578,0.500001],[0.646691,0.5,0.9051142,0.47610912,0.13932389,0.7184045,0.5,0.5],[0.5,0.5002942,0.53208643,0.4812743,0.69352436,0.43872148,0.50005674,0.5],[0.49999866,0.49999928,0.5648935,0.07981187,0.50011355,0.46305162,0.49996117,0.5],[0.5,0.5,0.49999976,0.5,0.9987099,0.5,0.4998797,0.5]],\"zmax\":1.0,\"zmin\":0.0,\"type\":\"heatmap\",\"xaxis\":\"x\",\"yaxis\":\"y\"},{\"colorscale\":[[0.0,\"rgb(103,0,31)\"],[0.1,\"rgb(178,24,43)\"],[0.2,\"rgb(214,96,77)\"],[0.3,\"rgb(244,165,130)\"],[0.4,\"rgb(253,219,199)\"],[0.5,\"rgb(247,247,247)\"],[0.6,\"rgb(209,229,240)\"],[0.7,\"rgb(146,197,222)\"],[0.8,\"rgb(67,147,195)\"],[0.9,\"rgb(33,102,172)\"],[1.0,\"rgb(5,48,97)\"]],\"hoverongaps\":false,\"showscale\":false,\"text\":[[\" \",\" \",\" \",\" \",\" \",\" \",\" \",\" \"],[\" \",\" \",\" \",\" \",\" \",\" \",\" \",\" \"],[\" \",\" \",\" \",\" \",\"█\",\" \",\" \",\" \"],[\" \",\" \",\" \",\" \",\" \",\" \",\" \",\" \"],[\" \",\" \",\" \",\" \",\" \",\" \",\" \",\" \"],[\" \",\" \",\" \",\" \",\" \",\" \",\" \",\" \"],[\" \",\" \",\" \",\" \",\" \",\" \",\" \",\" \"],[\" \",\" \",\" \",\" \",\" \",\" \",\" \",\" \"]],\"texttemplate\":\"%{text}\",\"x\":[0,1,2,3,4,5,6,7],\"y\":[\"H\",\"G\",\"F\",\"E\",\"D\",\"C\",\"B\",\"A\"],\"z\":[[0.5,0.0,0.5,0.5,0.5,0.5,0.5,0.5],[0.5,0.5,2.0861626e-7,0.0,0.0,0.5,0.5,1.0],[0.5,0.5,0.5,2.9802322e-8,0.0004400313,0.0,0.9998503,0.5],[0.5,0.5,0.82927084,0.9994215,0.0014843047,0.99715626,0.5,0.5],[0.5,0.5,0.5,0.000629127,0.99656653,0.5598097,0.5,0.0],[0.5,0.5,0.0012380779,0.8176166,0.9922644,0.9671277,0.020171344,0.5],[0.5,0.5,0.5,0.5,0.90890837,0.3869617,0.5,1.0],[0.5,0.5,0.5,0.5,5.9604645e-7,0.5,0.5,0.5]],\"zmax\":1.0,\"zmin\":0.0,\"type\":\"heatmap\",\"xaxis\":\"x2\",\"yaxis\":\"y2\"},{\"colorscale\":[[0.0,\"rgb(103,0,31)\"],[0.1,\"rgb(178,24,43)\"],[0.2,\"rgb(214,96,77)\"],[0.3,\"rgb(244,165,130)\"],[0.4,\"rgb(253,219,199)\"],[0.5,\"rgb(247,247,247)\"],[0.6,\"rgb(209,229,240)\"],[0.7,\"rgb(146,197,222)\"],[0.8,\"rgb(67,147,195)\"],[0.9,\"rgb(33,102,172)\"],[1.0,\"rgb(5,48,97)\"]],\"hoverongaps\":false,\"showscale\":false,\"text\":[[\" \",\" \",\" \",\" \",\" \",\" \",\" \",\" \"],[\" \",\" \",\" \",\"░\",\" \",\" \",\" \",\" \"],[\" \",\" \",\" \",\" \",\"█\",\" \",\" \",\" \"],[\" \",\" \",\" \",\" \",\"█\",\" \",\" \",\" \"],[\" \",\" \",\" \",\" \",\"░\",\" \",\" \",\" \"],[\" \",\" \",\" \",\" \",\" \",\" \",\" \",\" \"],[\" \",\" \",\" \",\" \",\" \",\" \",\" \",\" \"],[\" \",\" \",\" \",\" \",\" \",\" \",\" \",\" \"]],\"texttemplate\":\"%{text}\",\"x\":[0,1,2,3,4,5,6,7],\"y\":[\"H\",\"G\",\"F\",\"E\",\"D\",\"C\",\"B\",\"A\"],\"z\":[[0.5,0.00021463633,0.5,0.5,0.5,0.5,0.5,0.5],[0.5,0.5,8.940697e-8,7.4505806e-7,0.0,0.5,0.5,1.0],[0.5,0.5,0.5,5.662441e-7,0.0000132620335,0.0004055202,0.99862194,0.5],[0.5,0.5,0.9999378,0.9937738,0.07535601,0.9996842,0.5,0.5],[0.5,0.5,0.5,0.0076366365,0.14373729,0.9351543,0.4999989,0.0],[0.5,0.5,0.13868597,0.22273195,0.068793,0.097222924,0.0028308332,0.5],[0.5,0.5,0.49999496,0.49999946,0.009910136,0.004970461,0.5,0.9999449],[0.5,0.5,0.5,0.5,2.9802322e-8,0.5,0.5,0.5]],\"zmax\":1.0,\"zmin\":0.0,\"type\":\"heatmap\",\"xaxis\":\"x3\",\"yaxis\":\"y3\"},{\"colorscale\":[[0.0,\"rgb(103,0,31)\"],[0.1,\"rgb(178,24,43)\"],[0.2,\"rgb(214,96,77)\"],[0.3,\"rgb(244,165,130)\"],[0.4,\"rgb(253,219,199)\"],[0.5,\"rgb(247,247,247)\"],[0.6,\"rgb(209,229,240)\"],[0.7,\"rgb(146,197,222)\"],[0.8,\"rgb(67,147,195)\"],[0.9,\"rgb(33,102,172)\"],[1.0,\"rgb(5,48,97)\"]],\"hoverongaps\":false,\"showscale\":false,\"text\":[[\" \",\" \",\" \",\" \",\" \",\" \",\" \",\" \"],[\" \",\" \",\" \",\" \",\" \",\" \",\" \",\" \"],[\" \",\" \",\" \",\" \",\"█\",\" \",\" \",\" \"],[\" \",\" \",\" \",\" \",\"▓\",\" \",\" \",\" \"],[\" \",\" \",\" \",\" \",\"▒\",\" \",\" \",\" \"],[\" \",\" \",\" \",\" \",\" \",\" \",\" \",\" \"],[\" \",\" \",\" \",\" \",\" \",\" \",\" \",\" \"],[\" \",\" \",\" \",\" \",\" \",\" \",\" \",\" \"]],\"texttemplate\":\"%{text}\",\"x\":[0,1,2,3,4,5,6,7],\"y\":[\"H\",\"G\",\"F\",\"E\",\"D\",\"C\",\"B\",\"A\"],\"z\":[[0.5,2.682209e-7,0.5,0.5,0.5,0.5,0.5,0.5],[0.5,0.5,0.0,0.0,0.0,0.5,0.5,1.0],[0.5,0.5,0.5,0.0,0.9734117,0.99996626,1.0,0.5],[0.5,0.5,1.0,0.9998909,0.5334653,0.13168365,0.5,0.5],[0.5,0.5,0.5,0.20585865,0.9976047,0.049128443,0.5,0.0],[0.5,0.5,3.2782555e-7,4.7683716e-7,0.59438103,0.28375724,0.000011116266,0.5],[0.5,0.5,0.5,0.5,0.0000030100346,0.0000047385693,0.5,0.99999964],[0.5,0.5,0.5,0.5,0.0,0.5,0.5,0.5]],\"zmax\":1.0,\"zmin\":0.0,\"type\":\"heatmap\",\"xaxis\":\"x4\",\"yaxis\":\"y4\"},{\"colorscale\":[[0.0,\"rgb(103,0,31)\"],[0.1,\"rgb(178,24,43)\"],[0.2,\"rgb(214,96,77)\"],[0.3,\"rgb(244,165,130)\"],[0.4,\"rgb(253,219,199)\"],[0.5,\"rgb(247,247,247)\"],[0.6,\"rgb(209,229,240)\"],[0.7,\"rgb(146,197,222)\"],[0.8,\"rgb(67,147,195)\"],[0.9,\"rgb(33,102,172)\"],[1.0,\"rgb(5,48,97)\"]],\"hoverongaps\":false,\"showscale\":false,\"text\":[[\" \",\" \",\" \",\" \",\" \",\" \",\" \",\" \"],[\" \",\" \",\" \",\" \",\" \",\" \",\" \",\" \"],[\" \",\" \",\" \",\" \",\"█\",\" \",\" \",\" \"],[\" \",\" \",\" \",\" \",\"█\",\" \",\" \",\" \"],[\" \",\" \",\" \",\" \",\"█\",\" \",\" \",\" \"],[\" \",\" \",\" \",\" \",\"█\",\" \",\" \",\" \"],[\" \",\" \",\" \",\" \",\"▓\",\" \",\" \",\" \"],[\" \",\" \",\" \",\" \",\" \",\" \",\" \",\" \"]],\"texttemplate\":\"%{text}\",\"x\":[0,1,2,3,4,5,6,7],\"y\":[\"H\",\"G\",\"F\",\"E\",\"D\",\"C\",\"B\",\"A\"],\"z\":[[0.49999997,0.000024676323,0.5,0.5,0.5,0.5,0.5,0.49999997],[0.5,0.5,0.000004172325,0.000009655952,0.000048041344,0.5,0.50000036,1.0],[0.5,0.49999997,0.5,2.0861626e-7,0.4374792,0.99532866,0.99996114,0.50048],[0.49999842,0.5,0.99596584,0.94403887,0.00010636449,0.30983037,0.5,0.5000001],[0.49999964,0.5,0.5000007,0.021009475,0.019849867,0.15027976,0.5,0.000012129545],[0.49999952,0.50000405,0.0047209263,0.039112926,0.0038885176,0.4842349,0.014210314,0.50000006],[0.5,0.5000002,0.5,0.49999925,0.000022411346,0.0064721704,0.50000286,0.98777795],[0.50000006,0.5000159,0.5000008,0.5,4.7683716e-7,0.50000805,0.500026,0.50000006]],\"zmax\":1.0,\"zmin\":0.0,\"type\":\"heatmap\",\"xaxis\":\"x5\",\"yaxis\":\"y5\"},{\"colorscale\":[[0.0,\"rgb(103,0,31)\"],[0.1,\"rgb(178,24,43)\"],[0.2,\"rgb(214,96,77)\"],[0.3,\"rgb(244,165,130)\"],[0.4,\"rgb(253,219,199)\"],[0.5,\"rgb(247,247,247)\"],[0.6,\"rgb(209,229,240)\"],[0.7,\"rgb(146,197,222)\"],[0.8,\"rgb(67,147,195)\"],[0.9,\"rgb(33,102,172)\"],[1.0,\"rgb(5,48,97)\"]],\"hoverongaps\":false,\"showscale\":false,\"text\":[[\" \",\" \",\" \",\" \",\" \",\" \",\" \",\" \"],[\" \",\" \",\" \",\" \",\" \",\" \",\" \",\" \"],[\" \",\" \",\" \",\" \",\"█\",\" \",\" \",\" \"],[\" \",\" \",\" \",\" \",\"█\",\" \",\" \",\" \"],[\" \",\" \",\" \",\" \",\"█\",\" \",\" \",\" \"],[\" \",\" \",\" \",\" \",\"█\",\" \",\" \",\" \"],[\" \",\" \",\" \",\" \",\" \",\" \",\" \",\" \"],[\" \",\" \",\" \",\" \",\" \",\" \",\" \",\" \"]],\"texttemplate\":\"%{text}\",\"x\":[0,1,2,3,4,5,6,7],\"y\":[\"H\",\"G\",\"F\",\"E\",\"D\",\"C\",\"B\",\"A\"],\"z\":[[0.5,0.000004053116,0.5,0.5,0.5,0.5,0.5,0.49999997],[0.5,0.5,8.940697e-8,1.1920929e-7,0.00006189942,0.5,0.5000017,1.0],[0.5,0.5,0.5,0.0,0.9855568,0.9999939,0.9999987,0.50001365],[0.5,0.5,0.9999993,0.99991393,0.0010577738,0.000102728605,0.5,0.5],[0.49999982,0.5,0.50000525,0.0018760562,0.91222167,5.9604645e-7,0.5,0.0000011622906],[0.4999999,0.49999976,0.000021517277,0.00002104044,0.005708337,0.009405613,0.000019907951,0.5],[0.5,0.5,0.5,0.5,2.9802322e-8,0.000022560358,0.5,0.9999206],[0.5,0.5,0.5,0.5,0.0,0.50000006,0.5000037,0.5]],\"zmax\":1.0,\"zmin\":0.0,\"type\":\"heatmap\",\"xaxis\":\"x6\",\"yaxis\":\"y6\"},{\"colorscale\":[[0.0,\"rgb(103,0,31)\"],[0.1,\"rgb(178,24,43)\"],[0.2,\"rgb(214,96,77)\"],[0.3,\"rgb(244,165,130)\"],[0.4,\"rgb(253,219,199)\"],[0.5,\"rgb(247,247,247)\"],[0.6,\"rgb(209,229,240)\"],[0.7,\"rgb(146,197,222)\"],[0.8,\"rgb(67,147,195)\"],[0.9,\"rgb(33,102,172)\"],[1.0,\"rgb(5,48,97)\"]],\"hoverongaps\":false,\"showscale\":false,\"text\":[[\" \",\" \",\" \",\" \",\" \",\" \",\" \",\" \"],[\" \",\" \",\" \",\" \",\" \",\" \",\" \",\" \"],[\" \",\" \",\" \",\" \",\"█\",\" \",\" \",\" \"],[\" \",\" \",\" \",\" \",\"█\",\" \",\" \",\" \"],[\" \",\" \",\" \",\" \",\"█\",\" \",\" \",\" \"],[\" \",\" \",\" \",\" \",\"█\",\" \",\" \",\" \"],[\" \",\" \",\" \",\" \",\" \",\" \",\" \",\" \"],[\" \",\" \",\" \",\" \",\" \",\" \",\" \",\" \"]],\"texttemplate\":\"%{text}\",\"x\":[0,1,2,3,4,5,6,7],\"y\":[\"H\",\"G\",\"F\",\"E\",\"D\",\"C\",\"B\",\"A\"],\"z\":[[0.49998605,0.00007581711,0.4999999,0.49999937,0.5,0.49999884,0.50000024,0.50000054],[0.49999896,0.5000015,0.0006376803,0.0007889271,0.000017046928,0.5000003,0.5000141,0.9999678],[0.500056,0.5000142,0.4999936,0.00006785989,0.0062624216,0.9976175,0.99992526,0.50001544],[0.49999687,0.5002313,0.9999774,0.99142694,0.000014334917,0.6446881,0.5000159,0.5],[0.49988526,0.5000094,0.5002927,0.07262102,0.0021401644,0.014652073,0.50000215,0.000086694956],[0.49999255,0.49996832,0.0022531152,0.06413028,0.00010192394,0.01889807,0.03688571,0.50000054],[0.49998847,0.49999744,0.49998114,0.49999434,5.066395e-7,0.0021650791,0.49998343,0.99876297],[0.4999868,0.49997497,0.49999905,0.49999893,0.0000015497208,0.4999959,0.4997982,0.4999565]],\"zmax\":1.0,\"zmin\":0.0,\"type\":\"heatmap\",\"xaxis\":\"x7\",\"yaxis\":\"y7\"},{\"colorscale\":[[0.0,\"rgb(103,0,31)\"],[0.1,\"rgb(178,24,43)\"],[0.2,\"rgb(214,96,77)\"],[0.3,\"rgb(244,165,130)\"],[0.4,\"rgb(253,219,199)\"],[0.5,\"rgb(247,247,247)\"],[0.6,\"rgb(209,229,240)\"],[0.7,\"rgb(146,197,222)\"],[0.8,\"rgb(67,147,195)\"],[0.9,\"rgb(33,102,172)\"],[1.0,\"rgb(5,48,97)\"]],\"hoverongaps\":false,\"showscale\":false,\"text\":[[\" \",\" \",\" \",\" \",\" \",\" \",\" \",\" \"],[\" \",\"▓\",\" \",\"█\",\" \",\" \",\" \",\" \"],[\" \",\" \",\" \",\" \",\"█\",\" \",\" \",\" \"],[\" \",\" \",\" \",\" \",\"█\",\" \",\" \",\" \"],[\" \",\"▓\",\"▒\",\"▓\",\"█\",\"░\",\"░\",\" \"],[\" \",\" \",\"░\",\" \",\"█\",\" \",\" \",\" \"],[\" \",\" \",\" \",\" \",\" \",\" \",\" \",\" \"],[\" \",\" \",\" \",\" \",\"░\",\" \",\" \",\" \"]],\"texttemplate\":\"%{text}\",\"x\":[0,1,2,3,4,5,6,7],\"y\":[\"H\",\"G\",\"F\",\"E\",\"D\",\"C\",\"B\",\"A\"],\"z\":[[0.60910153,0.19961458,0.032225877,0.5,0.49999988,0.5,0.06361866,0.73088104],[0.2874492,0.9919109,0.6446499,0.91353536,0.000001937151,0.5,0.9980624,0.59152067],[0.83601356,0.9967462,0.5,0.6291468,2.9802322e-8,0.9844316,0.38937777,0.0014459193],[0.5704349,0.9994574,0.9938289,0.7899388,0.024019241,0.24854508,0.5,0.02131921],[0.10311553,0.99995804,0.8984343,0.986285,0.0003105998,0.9988837,0.282783,0.032857627],[0.25691658,0.5,0.0031745732,0.01408419,0.0014330447,0.9905849,0.48242068,0.26577038],[0.5010409,0.5,0.5,0.5,0.20158362,0.00020176172,0.49999994,0.21361715],[0.5021698,0.5010472,0.33455303,0.9208863,0.0017317533,0.49999997,0.5,0.49563307]],\"zmax\":1.0,\"zmin\":0.0,\"type\":\"heatmap\",\"xaxis\":\"x8\",\"yaxis\":\"y8\"},{\"colorscale\":[[0.0,\"rgb(103,0,31)\"],[0.1,\"rgb(178,24,43)\"],[0.2,\"rgb(214,96,77)\"],[0.3,\"rgb(244,165,130)\"],[0.4,\"rgb(253,219,199)\"],[0.5,\"rgb(247,247,247)\"],[0.6,\"rgb(209,229,240)\"],[0.7,\"rgb(146,197,222)\"],[0.8,\"rgb(67,147,195)\"],[0.9,\"rgb(33,102,172)\"],[1.0,\"rgb(5,48,97)\"]],\"hoverongaps\":false,\"showscale\":false,\"text\":[[\" \",\" \",\" \",\" \",\" \",\" \",\" \",\" \"],[\" \",\" \",\" \",\"▒\",\" \",\" \",\" \",\" \"],[\" \",\" \",\" \",\" \",\"█\",\" \",\" \",\" \"],[\" \",\" \",\" \",\" \",\"█\",\" \",\" \",\" \"],[\" \",\" \",\" \",\" \",\"█\",\" \",\"░\",\" \"],[\" \",\" \",\" \",\" \",\"█\",\" \",\" \",\" \"],[\" \",\" \",\" \",\" \",\" \",\" \",\" \",\" \"],[\" \",\" \",\" \",\" \",\" \",\" \",\" \",\" \"]],\"texttemplate\":\"%{text}\",\"x\":[0,1,2,3,4,5,6,7],\"y\":[\"H\",\"G\",\"F\",\"E\",\"D\",\"C\",\"B\",\"A\"],\"z\":[[0.6123119,0.63917875,0.029514521,0.49999994,0.49999726,0.5000002,0.0068636537,0.4358608],[0.37656915,0.9961107,0.96083534,0.96644616,0.00013014674,0.49999848,0.9974343,0.34713095],[0.44972,0.9996171,0.5000023,0.9918858,0.000005364418,0.96382284,0.26192796,0.0008493066],[0.025355369,0.97255015,0.9966992,0.70741105,0.016010433,0.16285068,0.500004,0.0051399767],[0.003648281,0.9880414,0.6710811,0.99492747,0.030571878,0.99952793,0.60275555,0.004150629],[0.13781077,0.49999988,0.0031288862,0.0367606,0.001552105,0.95109475,0.01864636,0.026586115],[0.502002,0.50000095,0.5,0.50000036,0.034288377,0.029567182,0.49999997,0.018499374],[0.5105142,0.5026136,0.094625205,0.9061619,0.0018906593,0.49999997,0.5,0.5001026]],\"zmax\":1.0,\"zmin\":0.0,\"type\":\"heatmap\",\"xaxis\":\"x9\",\"yaxis\":\"y9\"},{\"colorscale\":[[0.0,\"rgb(103,0,31)\"],[0.1,\"rgb(178,24,43)\"],[0.2,\"rgb(214,96,77)\"],[0.3,\"rgb(244,165,130)\"],[0.4,\"rgb(253,219,199)\"],[0.5,\"rgb(247,247,247)\"],[0.6,\"rgb(209,229,240)\"],[0.7,\"rgb(146,197,222)\"],[0.8,\"rgb(67,147,195)\"],[0.9,\"rgb(33,102,172)\"],[1.0,\"rgb(5,48,97)\"]],\"hoverongaps\":false,\"showscale\":false,\"text\":[[\" \",\" \",\" \",\" \",\" \",\" \",\" \",\" \"],[\" \",\" \",\" \",\" \",\" \",\" \",\" \",\" \"],[\" \",\" \",\" \",\" \",\"█\",\" \",\" \",\" \"],[\" \",\" \",\" \",\" \",\"█\",\" \",\" \",\" \"],[\" \",\" \",\" \",\" \",\"█\",\" \",\" \",\" \"],[\" \",\" \",\" \",\" \",\"█\",\" \",\" \",\" \"],[\" \",\" \",\" \",\" \",\" \",\" \",\" \",\" \"],[\" \",\" \",\" \",\" \",\" \",\" \",\" \",\" \"]],\"texttemplate\":\"%{text}\",\"x\":[0,1,2,3,4,5,6,7],\"y\":[\"H\",\"G\",\"F\",\"E\",\"D\",\"C\",\"B\",\"A\"],\"z\":[[0.5190518,0.7114024,0.032868445,0.4999999,0.4999981,0.5000002,0.008917034,0.5814096],[0.37404805,0.9906732,0.9549379,0.9329008,0.000046163797,0.49999896,0.9947144,0.46553108],[0.42812568,0.9984356,0.50000095,0.9945903,0.000033974648,0.9760641,0.45580533,0.0012251139],[0.019127458,0.96324974,0.9981793,0.71797323,0.092332006,0.34199017,0.5000018,0.009591103],[0.003750652,0.97952026,0.7520662,0.9910772,0.026382774,0.9997304,0.5833606,0.0019377768],[0.12149763,0.49999994,0.0072599947,0.061006546,0.005075842,0.91678786,0.0081471205,0.035975575],[0.5005299,0.50000083,0.5,0.50000024,0.018920064,0.009449154,0.49999994,0.02102533],[0.50600946,0.50080305,0.09639901,0.8867481,0.0022301674,0.5,0.5,0.50007355]],\"zmax\":1.0,\"zmin\":0.0,\"type\":\"heatmap\",\"xaxis\":\"x10\",\"yaxis\":\"y10\"},{\"colorscale\":[[0.0,\"rgb(103,0,31)\"],[0.1,\"rgb(178,24,43)\"],[0.2,\"rgb(214,96,77)\"],[0.3,\"rgb(244,165,130)\"],[0.4,\"rgb(253,219,199)\"],[0.5,\"rgb(247,247,247)\"],[0.6,\"rgb(209,229,240)\"],[0.7,\"rgb(146,197,222)\"],[0.8,\"rgb(67,147,195)\"],[0.9,\"rgb(33,102,172)\"],[1.0,\"rgb(5,48,97)\"]],\"hoverongaps\":false,\"showscale\":false,\"text\":[[\" \",\" \",\" \",\" \",\" \",\" \",\" \",\" \"],[\" \",\" \",\" \",\" \",\" \",\" \",\" \",\" \"],[\" \",\" \",\" \",\" \",\"█\",\" \",\" \",\" \"],[\" \",\" \",\" \",\" \",\"█\",\" \",\" \",\" \"],[\" \",\" \",\" \",\" \",\"█\",\" \",\" \",\" \"],[\" \",\" \",\" \",\" \",\"█\",\" \",\" \",\" \"],[\" \",\" \",\" \",\" \",\" \",\" \",\" \",\" \"],[\" \",\" \",\" \",\" \",\" \",\" \",\" \",\" \"]],\"texttemplate\":\"%{text}\",\"x\":[0,1,2,3,4,5,6,7],\"y\":[\"H\",\"G\",\"F\",\"E\",\"D\",\"C\",\"B\",\"A\"],\"z\":[[0.49999532,0.0039652884,0.33913916,0.4999917,0.5,0.49999985,0.001893729,0.01666516],[0.4972621,0.94893956,0.9751762,0.939409,0.00027650595,0.50000024,0.82584715,0.01732999],[0.49900043,0.8620249,0.50000054,0.67318344,0.00023302436,0.7762304,0.29066902,0.0033362508],[0.031629115,0.98734736,0.9735753,0.6031951,0.042860776,0.5810776,0.50000006,0.013341367],[0.008187681,0.97234434,0.9762958,0.9852876,0.0032313764,0.96806276,0.06670198,0.0003989339],[0.013474852,0.5000002,0.15360361,0.35262498,0.0011893809,0.7915027,0.02412653,0.013177723],[0.5001476,0.50001323,0.50000083,0.5000014,0.6491754,0.015747786,0.5,0.3887391],[0.50002116,0.49999613,0.17813817,0.0017452538,0.013605267,0.49999997,0.5,0.49985328]],\"zmax\":1.0,\"zmin\":0.0,\"type\":\"heatmap\",\"xaxis\":\"x11\",\"yaxis\":\"y11\"},{\"colorscale\":[[0.0,\"rgb(103,0,31)\"],[0.1,\"rgb(178,24,43)\"],[0.2,\"rgb(214,96,77)\"],[0.3,\"rgb(244,165,130)\"],[0.4,\"rgb(253,219,199)\"],[0.5,\"rgb(247,247,247)\"],[0.6,\"rgb(209,229,240)\"],[0.7,\"rgb(146,197,222)\"],[0.8,\"rgb(67,147,195)\"],[0.9,\"rgb(33,102,172)\"],[1.0,\"rgb(5,48,97)\"]],\"hoverongaps\":false,\"showscale\":false,\"text\":[[\" \",\" \",\" \",\" \",\" \",\" \",\" \",\" \"],[\" \",\" \",\" \",\" \",\" \",\" \",\" \",\" \"],[\" \",\" \",\" \",\" \",\"█\",\" \",\" \",\" \"],[\" \",\" \",\" \",\" \",\"█\",\" \",\" \",\" \"],[\" \",\" \",\" \",\" \",\"█\",\" \",\" \",\" \"],[\" \",\" \",\" \",\" \",\"█\",\" \",\" \",\" \"],[\" \",\" \",\" \",\" \",\" \",\" \",\" \",\" \"],[\" \",\" \",\" \",\" \",\" \",\" \",\" \",\" \"]],\"texttemplate\":\"%{text}\",\"x\":[0,1,2,3,4,5,6,7],\"y\":[\"H\",\"G\",\"F\",\"E\",\"D\",\"C\",\"B\",\"A\"],\"z\":[[0.49999905,0.0027424693,0.14102533,0.49998638,0.49999997,0.49999985,0.0024591684,0.010926783],[0.49927703,0.9449661,0.9586381,0.6995356,0.0005082786,0.5,0.7277835,0.043691814],[0.49958473,0.89581865,0.5000004,0.30913135,0.00077188015,0.7667265,0.20644176,0.014537245],[0.038065404,0.98648655,0.96600324,0.60349715,0.12875122,0.42913774,0.50000006,0.03731686],[0.008993447,0.96224797,0.9750142,0.9857012,0.010773122,0.93922603,0.09082806,0.00059878826],[0.0058297217,0.5000002,0.093569756,0.20056447,0.0021425784,0.85400724,0.04152906,0.0119197965],[0.50001085,0.5000178,0.50000006,0.500001,0.5796088,0.016051978,0.5,0.44965157],[0.50029206,0.4999983,0.23235542,0.0011559725,0.012080938,0.49999997,0.5,0.49963975]],\"zmax\":1.0,\"zmin\":0.0,\"type\":\"heatmap\",\"xaxis\":\"x12\",\"yaxis\":\"y12\"},{\"colorscale\":[[0.0,\"rgb(103,0,31)\"],[0.1,\"rgb(178,24,43)\"],[0.2,\"rgb(214,96,77)\"],[0.3,\"rgb(244,165,130)\"],[0.4,\"rgb(253,219,199)\"],[0.5,\"rgb(247,247,247)\"],[0.6,\"rgb(209,229,240)\"],[0.7,\"rgb(146,197,222)\"],[0.8,\"rgb(67,147,195)\"],[0.9,\"rgb(33,102,172)\"],[1.0,\"rgb(5,48,97)\"]],\"hoverongaps\":false,\"showscale\":false,\"text\":[[\" \",\" \",\"▒\",\" \",\" \",\" \",\"▒\",\" \"],[\" \",\" \",\" \",\"█\",\" \",\" \",\" \",\" \"],[\" \",\" \",\" \",\" \",\"█\",\" \",\" \",\"░\"],[\" \",\" \",\" \",\" \",\"█\",\" \",\" \",\" \"],[\" \",\" \",\" \",\" \",\"█\",\" \",\" \",\" \"],[\" \",\" \",\" \",\" \",\"█\",\" \",\" \",\" \"],[\"▒\",\" \",\" \",\" \",\"█\",\" \",\" \",\" \"],[\" \",\" \",\" \",\" \",\" \",\" \",\" \",\"▒\"]],\"texttemplate\":\"%{text}\",\"x\":[0,1,2,3,4,5,6,7],\"y\":[\"H\",\"G\",\"F\",\"E\",\"D\",\"C\",\"B\",\"A\"],\"z\":[[0.49992603,0.006026268,0.4976063,0.49999344,0.5,0.49999982,0.002300769,0.024306566],[0.50000215,0.9899439,0.9461258,0.911903,0.0017479062,0.5,0.56011593,0.682963],[0.50843585,0.8404392,0.49999994,0.41156876,0.0012022257,0.930787,0.030338317,0.4987564],[0.45718488,0.9865967,0.9672477,0.91179734,0.38515818,0.64517754,0.5,0.253593],[0.4714382,0.9733114,0.9452944,0.98857284,0.009563953,0.9901299,0.5535491,0.018707752],[0.11694515,0.5,0.047721595,0.67622215,0.0057268143,0.9790362,0.12841615,0.017110974],[0.50139236,0.5,0.4999997,0.50006783,0.49935102,0.06293517,0.5,0.9317112],[0.49427462,0.32285735,0.11375898,0.11718017,0.011630297,0.49792388,0.49999997,0.4993002]],\"zmax\":1.0,\"zmin\":0.0,\"type\":\"heatmap\",\"xaxis\":\"x13\",\"yaxis\":\"y13\"},{\"colorscale\":[[0.0,\"rgb(103,0,31)\"],[0.1,\"rgb(178,24,43)\"],[0.2,\"rgb(214,96,77)\"],[0.3,\"rgb(244,165,130)\"],[0.4,\"rgb(253,219,199)\"],[0.5,\"rgb(247,247,247)\"],[0.6,\"rgb(209,229,240)\"],[0.7,\"rgb(146,197,222)\"],[0.8,\"rgb(67,147,195)\"],[0.9,\"rgb(33,102,172)\"],[1.0,\"rgb(5,48,97)\"]],\"hoverongaps\":false,\"showscale\":false,\"text\":[[\" \",\" \",\"░\",\" \",\" \",\" \",\"░\",\" \"],[\" \",\" \",\" \",\"▓\",\" \",\" \",\" \",\" \"],[\" \",\" \",\" \",\" \",\"█\",\" \",\" \",\" \"],[\" \",\" \",\" \",\" \",\"█\",\" \",\" \",\" \"],[\" \",\" \",\" \",\" \",\"█\",\" \",\" \",\" \"],[\" \",\" \",\" \",\" \",\"█\",\" \",\" \",\" \"],[\" \",\" \",\" \",\" \",\"▓\",\" \",\" \",\" \"],[\" \",\" \",\" \",\" \",\" \",\" \",\" \",\"░\"]],\"texttemplate\":\"%{text}\",\"x\":[0,1,2,3,4,5,6,7],\"y\":[\"H\",\"G\",\"F\",\"E\",\"D\",\"C\",\"B\",\"A\"],\"z\":[[0.49999124,0.0033385456,0.49861395,0.49988467,0.5,0.49999928,0.0031981766,0.029244155],[0.5000003,0.948087,0.78406286,0.72254854,0.0016692579,0.5,0.4730723,0.7962097],[0.50027317,0.74645036,0.49999726,0.20367378,0.0106236935,0.95913756,0.092212945,0.5722134],[0.49224484,0.98230255,0.9638334,0.8550633,0.6338282,0.66238236,0.5,0.41352147],[0.48949876,0.99039644,0.96691966,0.9823016,0.022084862,0.97498566,0.5990871,0.014474481],[0.15476885,0.5,0.013395697,0.30433407,0.0045612156,0.96259904,0.10032165,0.046732277],[0.50012517,0.5,0.49999937,0.50012624,0.45714235,0.07660782,0.49999997,0.83844197],[0.4900086,0.3896652,0.11983743,0.096425176,0.010086566,0.4994989,0.5,0.49975345]],\"zmax\":1.0,\"zmin\":0.0,\"type\":\"heatmap\",\"xaxis\":\"x14\",\"yaxis\":\"y14\"}],                        {\"template\":{\"data\":{\"histogram2dcontour\":[{\"type\":\"histogram2dcontour\",\"colorbar\":{\"outlinewidth\":0,\"ticks\":\"\"},\"colorscale\":[[0.0,\"#0d0887\"],[0.1111111111111111,\"#46039f\"],[0.2222222222222222,\"#7201a8\"],[0.3333333333333333,\"#9c179e\"],[0.4444444444444444,\"#bd3786\"],[0.5555555555555556,\"#d8576b\"],[0.6666666666666666,\"#ed7953\"],[0.7777777777777778,\"#fb9f3a\"],[0.8888888888888888,\"#fdca26\"],[1.0,\"#f0f921\"]]}],\"choropleth\":[{\"type\":\"choropleth\",\"colorbar\":{\"outlinewidth\":0,\"ticks\":\"\"}}],\"histogram2d\":[{\"type\":\"histogram2d\",\"colorbar\":{\"outlinewidth\":0,\"ticks\":\"\"},\"colorscale\":[[0.0,\"#0d0887\"],[0.1111111111111111,\"#46039f\"],[0.2222222222222222,\"#7201a8\"],[0.3333333333333333,\"#9c179e\"],[0.4444444444444444,\"#bd3786\"],[0.5555555555555556,\"#d8576b\"],[0.6666666666666666,\"#ed7953\"],[0.7777777777777778,\"#fb9f3a\"],[0.8888888888888888,\"#fdca26\"],[1.0,\"#f0f921\"]]}],\"heatmap\":[{\"type\":\"heatmap\",\"colorbar\":{\"outlinewidth\":0,\"ticks\":\"\"},\"colorscale\":[[0.0,\"#0d0887\"],[0.1111111111111111,\"#46039f\"],[0.2222222222222222,\"#7201a8\"],[0.3333333333333333,\"#9c179e\"],[0.4444444444444444,\"#bd3786\"],[0.5555555555555556,\"#d8576b\"],[0.6666666666666666,\"#ed7953\"],[0.7777777777777778,\"#fb9f3a\"],[0.8888888888888888,\"#fdca26\"],[1.0,\"#f0f921\"]]}],\"heatmapgl\":[{\"type\":\"heatmapgl\",\"colorbar\":{\"outlinewidth\":0,\"ticks\":\"\"},\"colorscale\":[[0.0,\"#0d0887\"],[0.1111111111111111,\"#46039f\"],[0.2222222222222222,\"#7201a8\"],[0.3333333333333333,\"#9c179e\"],[0.4444444444444444,\"#bd3786\"],[0.5555555555555556,\"#d8576b\"],[0.6666666666666666,\"#ed7953\"],[0.7777777777777778,\"#fb9f3a\"],[0.8888888888888888,\"#fdca26\"],[1.0,\"#f0f921\"]]}],\"contourcarpet\":[{\"type\":\"contourcarpet\",\"colorbar\":{\"outlinewidth\":0,\"ticks\":\"\"}}],\"contour\":[{\"type\":\"contour\",\"colorbar\":{\"outlinewidth\":0,\"ticks\":\"\"},\"colorscale\":[[0.0,\"#0d0887\"],[0.1111111111111111,\"#46039f\"],[0.2222222222222222,\"#7201a8\"],[0.3333333333333333,\"#9c179e\"],[0.4444444444444444,\"#bd3786\"],[0.5555555555555556,\"#d8576b\"],[0.6666666666666666,\"#ed7953\"],[0.7777777777777778,\"#fb9f3a\"],[0.8888888888888888,\"#fdca26\"],[1.0,\"#f0f921\"]]}],\"surface\":[{\"type\":\"surface\",\"colorbar\":{\"outlinewidth\":0,\"ticks\":\"\"},\"colorscale\":[[0.0,\"#0d0887\"],[0.1111111111111111,\"#46039f\"],[0.2222222222222222,\"#7201a8\"],[0.3333333333333333,\"#9c179e\"],[0.4444444444444444,\"#bd3786\"],[0.5555555555555556,\"#d8576b\"],[0.6666666666666666,\"#ed7953\"],[0.7777777777777778,\"#fb9f3a\"],[0.8888888888888888,\"#fdca26\"],[1.0,\"#f0f921\"]]}],\"mesh3d\":[{\"type\":\"mesh3d\",\"colorbar\":{\"outlinewidth\":0,\"ticks\":\"\"}}],\"scatter\":[{\"fillpattern\":{\"fillmode\":\"overlay\",\"size\":10,\"solidity\":0.2},\"type\":\"scatter\"}],\"parcoords\":[{\"type\":\"parcoords\",\"line\":{\"colorbar\":{\"outlinewidth\":0,\"ticks\":\"\"}}}],\"scatterpolargl\":[{\"type\":\"scatterpolargl\",\"marker\":{\"colorbar\":{\"outlinewidth\":0,\"ticks\":\"\"}}}],\"bar\":[{\"error_x\":{\"color\":\"#2a3f5f\"},\"error_y\":{\"color\":\"#2a3f5f\"},\"marker\":{\"line\":{\"color\":\"#E5ECF6\",\"width\":0.5},\"pattern\":{\"fillmode\":\"overlay\",\"size\":10,\"solidity\":0.2}},\"type\":\"bar\"}],\"scattergeo\":[{\"type\":\"scattergeo\",\"marker\":{\"colorbar\":{\"outlinewidth\":0,\"ticks\":\"\"}}}],\"scatterpolar\":[{\"type\":\"scatterpolar\",\"marker\":{\"colorbar\":{\"outlinewidth\":0,\"ticks\":\"\"}}}],\"histogram\":[{\"marker\":{\"pattern\":{\"fillmode\":\"overlay\",\"size\":10,\"solidity\":0.2}},\"type\":\"histogram\"}],\"scattergl\":[{\"type\":\"scattergl\",\"marker\":{\"colorbar\":{\"outlinewidth\":0,\"ticks\":\"\"}}}],\"scatter3d\":[{\"type\":\"scatter3d\",\"line\":{\"colorbar\":{\"outlinewidth\":0,\"ticks\":\"\"}},\"marker\":{\"colorbar\":{\"outlinewidth\":0,\"ticks\":\"\"}}}],\"scattermapbox\":[{\"type\":\"scattermapbox\",\"marker\":{\"colorbar\":{\"outlinewidth\":0,\"ticks\":\"\"}}}],\"scatterternary\":[{\"type\":\"scatterternary\",\"marker\":{\"colorbar\":{\"outlinewidth\":0,\"ticks\":\"\"}}}],\"scattercarpet\":[{\"type\":\"scattercarpet\",\"marker\":{\"colorbar\":{\"outlinewidth\":0,\"ticks\":\"\"}}}],\"carpet\":[{\"aaxis\":{\"endlinecolor\":\"#2a3f5f\",\"gridcolor\":\"white\",\"linecolor\":\"white\",\"minorgridcolor\":\"white\",\"startlinecolor\":\"#2a3f5f\"},\"baxis\":{\"endlinecolor\":\"#2a3f5f\",\"gridcolor\":\"white\",\"linecolor\":\"white\",\"minorgridcolor\":\"white\",\"startlinecolor\":\"#2a3f5f\"},\"type\":\"carpet\"}],\"table\":[{\"cells\":{\"fill\":{\"color\":\"#EBF0F8\"},\"line\":{\"color\":\"white\"}},\"header\":{\"fill\":{\"color\":\"#C8D4E3\"},\"line\":{\"color\":\"white\"}},\"type\":\"table\"}],\"barpolar\":[{\"marker\":{\"line\":{\"color\":\"#E5ECF6\",\"width\":0.5},\"pattern\":{\"fillmode\":\"overlay\",\"size\":10,\"solidity\":0.2}},\"type\":\"barpolar\"}],\"pie\":[{\"automargin\":true,\"type\":\"pie\"}]},\"layout\":{\"autotypenumbers\":\"strict\",\"colorway\":[\"#636efa\",\"#EF553B\",\"#00cc96\",\"#ab63fa\",\"#FFA15A\",\"#19d3f3\",\"#FF6692\",\"#B6E880\",\"#FF97FF\",\"#FECB52\"],\"font\":{\"color\":\"#2a3f5f\"},\"hovermode\":\"closest\",\"hoverlabel\":{\"align\":\"left\"},\"paper_bgcolor\":\"white\",\"plot_bgcolor\":\"#E5ECF6\",\"polar\":{\"bgcolor\":\"#E5ECF6\",\"angularaxis\":{\"gridcolor\":\"white\",\"linecolor\":\"white\",\"ticks\":\"\"},\"radialaxis\":{\"gridcolor\":\"white\",\"linecolor\":\"white\",\"ticks\":\"\"}},\"ternary\":{\"bgcolor\":\"#E5ECF6\",\"aaxis\":{\"gridcolor\":\"white\",\"linecolor\":\"white\",\"ticks\":\"\"},\"baxis\":{\"gridcolor\":\"white\",\"linecolor\":\"white\",\"ticks\":\"\"},\"caxis\":{\"gridcolor\":\"white\",\"linecolor\":\"white\",\"ticks\":\"\"}},\"coloraxis\":{\"colorbar\":{\"outlinewidth\":0,\"ticks\":\"\"}},\"colorscale\":{\"sequential\":[[0.0,\"#0d0887\"],[0.1111111111111111,\"#46039f\"],[0.2222222222222222,\"#7201a8\"],[0.3333333333333333,\"#9c179e\"],[0.4444444444444444,\"#bd3786\"],[0.5555555555555556,\"#d8576b\"],[0.6666666666666666,\"#ed7953\"],[0.7777777777777778,\"#fb9f3a\"],[0.8888888888888888,\"#fdca26\"],[1.0,\"#f0f921\"]],\"sequentialminus\":[[0.0,\"#0d0887\"],[0.1111111111111111,\"#46039f\"],[0.2222222222222222,\"#7201a8\"],[0.3333333333333333,\"#9c179e\"],[0.4444444444444444,\"#bd3786\"],[0.5555555555555556,\"#d8576b\"],[0.6666666666666666,\"#ed7953\"],[0.7777777777777778,\"#fb9f3a\"],[0.8888888888888888,\"#fdca26\"],[1.0,\"#f0f921\"]],\"diverging\":[[0,\"#8e0152\"],[0.1,\"#c51b7d\"],[0.2,\"#de77ae\"],[0.3,\"#f1b6da\"],[0.4,\"#fde0ef\"],[0.5,\"#f7f7f7\"],[0.6,\"#e6f5d0\"],[0.7,\"#b8e186\"],[0.8,\"#7fbc41\"],[0.9,\"#4d9221\"],[1,\"#276419\"]]},\"xaxis\":{\"gridcolor\":\"white\",\"linecolor\":\"white\",\"ticks\":\"\",\"title\":{\"standoff\":15},\"zerolinecolor\":\"white\",\"automargin\":true,\"zerolinewidth\":2},\"yaxis\":{\"gridcolor\":\"white\",\"linecolor\":\"white\",\"ticks\":\"\",\"title\":{\"standoff\":15},\"zerolinecolor\":\"white\",\"automargin\":true,\"zerolinewidth\":2},\"scene\":{\"xaxis\":{\"backgroundcolor\":\"#E5ECF6\",\"gridcolor\":\"white\",\"linecolor\":\"white\",\"showbackground\":true,\"ticks\":\"\",\"zerolinecolor\":\"white\",\"gridwidth\":2},\"yaxis\":{\"backgroundcolor\":\"#E5ECF6\",\"gridcolor\":\"white\",\"linecolor\":\"white\",\"showbackground\":true,\"ticks\":\"\",\"zerolinecolor\":\"white\",\"gridwidth\":2},\"zaxis\":{\"backgroundcolor\":\"#E5ECF6\",\"gridcolor\":\"white\",\"linecolor\":\"white\",\"showbackground\":true,\"ticks\":\"\",\"zerolinecolor\":\"white\",\"gridwidth\":2}},\"shapedefaults\":{\"line\":{\"color\":\"#2a3f5f\"}},\"annotationdefaults\":{\"arrowcolor\":\"#2a3f5f\",\"arrowhead\":0,\"arrowwidth\":1},\"geo\":{\"bgcolor\":\"white\",\"landcolor\":\"#E5ECF6\",\"subunitcolor\":\"white\",\"showland\":true,\"showlakes\":true,\"lakecolor\":\"white\"},\"title\":{\"x\":0.05},\"mapbox\":{\"style\":\"light\"}}},\"xaxis\":{\"anchor\":\"y\",\"domain\":[0.0,0.062142857142857146]},\"yaxis\":{\"anchor\":\"x\",\"domain\":[0.0,1.0]},\"xaxis2\":{\"anchor\":\"y2\",\"domain\":[0.07214285714285715,0.13428571428571429]},\"yaxis2\":{\"anchor\":\"x2\",\"domain\":[0.0,1.0]},\"xaxis3\":{\"anchor\":\"y3\",\"domain\":[0.1442857142857143,0.20642857142857143]},\"yaxis3\":{\"anchor\":\"x3\",\"domain\":[0.0,1.0]},\"xaxis4\":{\"anchor\":\"y4\",\"domain\":[0.21642857142857144,0.2785714285714286]},\"yaxis4\":{\"anchor\":\"x4\",\"domain\":[0.0,1.0]},\"xaxis5\":{\"anchor\":\"y5\",\"domain\":[0.2885714285714286,0.35071428571428576]},\"yaxis5\":{\"anchor\":\"x5\",\"domain\":[0.0,1.0]},\"xaxis6\":{\"anchor\":\"y6\",\"domain\":[0.3607142857142857,0.4228571428571429]},\"yaxis6\":{\"anchor\":\"x6\",\"domain\":[0.0,1.0]},\"xaxis7\":{\"anchor\":\"y7\",\"domain\":[0.4328571428571429,0.49500000000000005]},\"yaxis7\":{\"anchor\":\"x7\",\"domain\":[0.0,1.0]},\"xaxis8\":{\"anchor\":\"y8\",\"domain\":[0.5050000000000001,0.5671428571428573]},\"yaxis8\":{\"anchor\":\"x8\",\"domain\":[0.0,1.0]},\"xaxis9\":{\"anchor\":\"y9\",\"domain\":[0.5771428571428572,0.6392857142857143]},\"yaxis9\":{\"anchor\":\"x9\",\"domain\":[0.0,1.0]},\"xaxis10\":{\"anchor\":\"y10\",\"domain\":[0.6492857142857144,0.7114285714285715]},\"yaxis10\":{\"anchor\":\"x10\",\"domain\":[0.0,1.0]},\"xaxis11\":{\"anchor\":\"y11\",\"domain\":[0.7214285714285715,0.7835714285714287]},\"yaxis11\":{\"anchor\":\"x11\",\"domain\":[0.0,1.0]},\"xaxis12\":{\"anchor\":\"y12\",\"domain\":[0.7935714285714287,0.8557142857142859]},\"yaxis12\":{\"anchor\":\"x12\",\"domain\":[0.0,1.0]},\"xaxis13\":{\"anchor\":\"y13\",\"domain\":[0.8657142857142859,0.927857142857143]},\"yaxis13\":{\"anchor\":\"x13\",\"domain\":[0.0,1.0]},\"xaxis14\":{\"anchor\":\"y14\",\"domain\":[0.9378571428571431,1.0]},\"yaxis14\":{\"anchor\":\"x14\",\"domain\":[0.0,1.0]},\"annotations\":[{\"font\":{\"size\":16},\"showarrow\":false,\"text\":\"P: 21, T: G1, L: 0, Attn\",\"x\":0.031071428571428573,\"xanchor\":\"center\",\"xref\":\"paper\",\"y\":1.0,\"yanchor\":\"bottom\",\"yref\":\"paper\"},{\"font\":{\"size\":16},\"showarrow\":false,\"text\":\"P: 21, T: G1, L: 0, MLP\",\"x\":0.10321428571428572,\"xanchor\":\"center\",\"xref\":\"paper\",\"y\":1.0,\"yanchor\":\"bottom\",\"yref\":\"paper\"},{\"font\":{\"size\":16},\"showarrow\":false,\"text\":\"P: 21, T: G1, L: 1, Attn\",\"x\":0.17535714285714288,\"xanchor\":\"center\",\"xref\":\"paper\",\"y\":1.0,\"yanchor\":\"bottom\",\"yref\":\"paper\"},{\"font\":{\"size\":16},\"showarrow\":false,\"text\":\"P: 21, T: G1, L: 1, MLP\",\"x\":0.2475,\"xanchor\":\"center\",\"xref\":\"paper\",\"y\":1.0,\"yanchor\":\"bottom\",\"yref\":\"paper\"},{\"font\":{\"size\":16},\"showarrow\":false,\"text\":\"P: 21, T: G1, L: 2, Attn\",\"x\":0.3196428571428572,\"xanchor\":\"center\",\"xref\":\"paper\",\"y\":1.0,\"yanchor\":\"bottom\",\"yref\":\"paper\"},{\"font\":{\"size\":16},\"showarrow\":false,\"text\":\"P: 21, T: G1, L: 2, MLP\",\"x\":0.3917857142857143,\"xanchor\":\"center\",\"xref\":\"paper\",\"y\":1.0,\"yanchor\":\"bottom\",\"yref\":\"paper\"},{\"font\":{\"size\":16},\"showarrow\":false,\"text\":\"P: 21, T: G1, L: 3, Attn\",\"x\":0.46392857142857147,\"xanchor\":\"center\",\"xref\":\"paper\",\"y\":1.0,\"yanchor\":\"bottom\",\"yref\":\"paper\"},{\"font\":{\"size\":16},\"showarrow\":false,\"text\":\"P: 21, T: G1, L: 3, MLP\",\"x\":0.5360714285714288,\"xanchor\":\"center\",\"xref\":\"paper\",\"y\":1.0,\"yanchor\":\"bottom\",\"yref\":\"paper\"},{\"font\":{\"size\":16},\"showarrow\":false,\"text\":\"P: 21, T: G1, L: 4, Attn\",\"x\":0.6082142857142858,\"xanchor\":\"center\",\"xref\":\"paper\",\"y\":1.0,\"yanchor\":\"bottom\",\"yref\":\"paper\"},{\"font\":{\"size\":16},\"showarrow\":false,\"text\":\"P: 21, T: G1, L: 4, MLP\",\"x\":0.6803571428571429,\"xanchor\":\"center\",\"xref\":\"paper\",\"y\":1.0,\"yanchor\":\"bottom\",\"yref\":\"paper\"},{\"font\":{\"size\":16},\"showarrow\":false,\"text\":\"P: 21, T: G1, L: 5, Attn\",\"x\":0.7525000000000002,\"xanchor\":\"center\",\"xref\":\"paper\",\"y\":1.0,\"yanchor\":\"bottom\",\"yref\":\"paper\"},{\"font\":{\"size\":16},\"showarrow\":false,\"text\":\"P: 21, T: G1, L: 5, MLP\",\"x\":0.8246428571428572,\"xanchor\":\"center\",\"xref\":\"paper\",\"y\":1.0,\"yanchor\":\"bottom\",\"yref\":\"paper\"},{\"font\":{\"size\":16},\"showarrow\":false,\"text\":\"P: 21, T: G1, L: 6, Attn\",\"x\":0.8967857142857145,\"xanchor\":\"center\",\"xref\":\"paper\",\"y\":1.0,\"yanchor\":\"bottom\",\"yref\":\"paper\"},{\"font\":{\"size\":16},\"showarrow\":false,\"text\":\"P: 21, T: G1, L: 6, MLP\",\"x\":0.9689285714285716,\"xanchor\":\"center\",\"xref\":\"paper\",\"y\":1.0,\"yanchor\":\"bottom\",\"yref\":\"paper\"}],\"margin\":{\"t\":100,\"l\":100},\"title\":{\"text\":\"Probe Results per Position per Layer\"},\"width\":3213.0,\"height\":325},                        {\"responsive\": true}                    ).then(function(){\n",
       "                            \n",
       "var gd = document.getElementById('4d3952c5-0e74-4430-bb1b-e4ae57caca3f');\n",
       "var x = new MutationObserver(function (mutations, observer) {{\n",
       "        var display = window.getComputedStyle(gd).display;\n",
       "        if (!display || display === 'none') {{\n",
       "            console.log([gd, 'removed!']);\n",
       "            Plotly.purge(gd);\n",
       "            observer.disconnect();\n",
       "        }}\n",
       "}});\n",
       "\n",
       "// Listen for the removal of the full notebook cells\n",
       "var notebookContainer = gd.closest('#notebook-container');\n",
       "if (notebookContainer) {{\n",
       "    x.observe(notebookContainer, {childList: true});\n",
       "}}\n",
       "\n",
       "// Listen for the clearing of the current output cell\n",
       "var outputEl = gd.closest('.output');\n",
       "if (outputEl) {{\n",
       "    x.observe(outputEl, {childList: true});\n",
       "}}\n",
       "\n",
       "                        })                };                });            </script>        </div>"
      ]
     },
     "metadata": {},
     "output_type": "display_data"
    },
    {
     "name": "stdout",
     "output_type": "stream",
     "text": [
      "torch.Size([7, 2, 59, 8, 8])\n"
     ]
    },
    {
     "data": {
      "application/vnd.plotly.v1+json": {
       "config": {
        "plotlyServerURL": "https://plot.ly"
       },
       "data": [
        {
         "colorscale": [
          [
           0,
           "rgb(103,0,31)"
          ],
          [
           0.1,
           "rgb(178,24,43)"
          ],
          [
           0.2,
           "rgb(214,96,77)"
          ],
          [
           0.3,
           "rgb(244,165,130)"
          ],
          [
           0.4,
           "rgb(253,219,199)"
          ],
          [
           0.5,
           "rgb(247,247,247)"
          ],
          [
           0.6,
           "rgb(209,229,240)"
          ],
          [
           0.7,
           "rgb(146,197,222)"
          ],
          [
           0.8,
           "rgb(67,147,195)"
          ],
          [
           0.9,
           "rgb(33,102,172)"
          ],
          [
           1,
           "rgb(5,48,97)"
          ]
         ],
         "hoverongaps": false,
         "showscale": false,
         "text": [
          [
           " ",
           " ",
           " ",
           " ",
           " ",
           " ",
           " ",
           " "
          ],
          [
           " ",
           " ",
           " ",
           " ",
           " ",
           " ",
           " ",
           " "
          ],
          [
           " ",
           " ",
           " ",
           " ",
           "█",
           " ",
           " ",
           " "
          ],
          [
           " ",
           " ",
           " ",
           " ",
           "█",
           " ",
           " ",
           " "
          ],
          [
           " ",
           " ",
           " ",
           " ",
           " ",
           " ",
           " ",
           " "
          ],
          [
           " ",
           " ",
           " ",
           " ",
           " ",
           " ",
           " ",
           " "
          ],
          [
           " ",
           " ",
           " ",
           " ",
           " ",
           " ",
           " ",
           " "
          ],
          [
           " ",
           " ",
           " ",
           " ",
           " ",
           " ",
           " ",
           " "
          ]
         ],
         "texttemplate": "%{text}",
         "type": "heatmap",
         "x": [
          0,
          1,
          2,
          3,
          4,
          5,
          6,
          7
         ],
         "xaxis": "x",
         "y": [
          "H",
          "G",
          "F",
          "E",
          "D",
          "C",
          "B",
          "A"
         ],
         "yaxis": "y",
         "z": [
          [
           0.5,
           0.5,
           0.5,
           0.5,
           0.5,
           0.49999797,
           0.5,
           0.5
          ],
          [
           0.5,
           0.5,
           0.5,
           0.07030848,
           0,
           0.5,
           0.5,
           0.5
          ],
          [
           0.5,
           0.5697873,
           0.96422875,
           0.00019046664,
           0.0000045001507,
           0.000085920095,
           0.6070072,
           0.998983
          ],
          [
           0.5,
           0.98257613,
           0.10759783,
           0.9887045,
           0.00030755997,
           0.97689146,
           0.5012578,
           0.500001
          ],
          [
           0.646691,
           0.5,
           0.9051142,
           0.47610912,
           0.13932389,
           0.7184045,
           0.5,
           0.5
          ],
          [
           0.5,
           0.5002942,
           0.53208643,
           0.4812743,
           0.69352436,
           0.43872148,
           0.50005674,
           0.5
          ],
          [
           0.49999866,
           0.49999928,
           0.5648935,
           0.07981187,
           0.50011355,
           0.46305162,
           0.49996117,
           0.5
          ],
          [
           0.5,
           0.5,
           0.49999976,
           0.5,
           0.9987099,
           0.5,
           0.4998797,
           0.5
          ]
         ],
         "zmax": 1,
         "zmin": 0
        },
        {
         "colorscale": [
          [
           0,
           "rgb(103,0,31)"
          ],
          [
           0.1,
           "rgb(178,24,43)"
          ],
          [
           0.2,
           "rgb(214,96,77)"
          ],
          [
           0.3,
           "rgb(244,165,130)"
          ],
          [
           0.4,
           "rgb(253,219,199)"
          ],
          [
           0.5,
           "rgb(247,247,247)"
          ],
          [
           0.6,
           "rgb(209,229,240)"
          ],
          [
           0.7,
           "rgb(146,197,222)"
          ],
          [
           0.8,
           "rgb(67,147,195)"
          ],
          [
           0.9,
           "rgb(33,102,172)"
          ],
          [
           1,
           "rgb(5,48,97)"
          ]
         ],
         "hoverongaps": false,
         "showscale": false,
         "text": [
          [
           " ",
           " ",
           " ",
           " ",
           " ",
           " ",
           " ",
           " "
          ],
          [
           " ",
           " ",
           " ",
           " ",
           " ",
           " ",
           " ",
           " "
          ],
          [
           " ",
           " ",
           " ",
           " ",
           "█",
           " ",
           " ",
           " "
          ],
          [
           " ",
           " ",
           " ",
           " ",
           " ",
           " ",
           " ",
           " "
          ],
          [
           " ",
           " ",
           " ",
           " ",
           " ",
           " ",
           " ",
           " "
          ],
          [
           " ",
           " ",
           " ",
           " ",
           " ",
           " ",
           " ",
           " "
          ],
          [
           " ",
           " ",
           " ",
           " ",
           " ",
           " ",
           " ",
           " "
          ],
          [
           " ",
           " ",
           " ",
           " ",
           " ",
           " ",
           " ",
           " "
          ]
         ],
         "texttemplate": "%{text}",
         "type": "heatmap",
         "x": [
          0,
          1,
          2,
          3,
          4,
          5,
          6,
          7
         ],
         "xaxis": "x2",
         "y": [
          "H",
          "G",
          "F",
          "E",
          "D",
          "C",
          "B",
          "A"
         ],
         "yaxis": "y2",
         "z": [
          [
           0.5,
           0,
           0.5,
           0.5,
           0.5,
           0.5,
           0.5,
           0.5
          ],
          [
           0.5,
           0.5,
           2.0861626e-7,
           0,
           0,
           0.5,
           0.5,
           1
          ],
          [
           0.5,
           0.5,
           0.5,
           2.9802322e-8,
           0.0004400313,
           0,
           0.9998503,
           0.5
          ],
          [
           0.5,
           0.5,
           0.82927084,
           0.9994215,
           0.0014843047,
           0.99715626,
           0.5,
           0.5
          ],
          [
           0.5,
           0.5,
           0.5,
           0.000629127,
           0.99656653,
           0.5598097,
           0.5,
           0
          ],
          [
           0.5,
           0.5,
           0.0012380779,
           0.8176166,
           0.9922644,
           0.9671277,
           0.020171344,
           0.5
          ],
          [
           0.5,
           0.5,
           0.5,
           0.5,
           0.90890837,
           0.3869617,
           0.5,
           1
          ],
          [
           0.5,
           0.5,
           0.5,
           0.5,
           5.9604645e-7,
           0.5,
           0.5,
           0.5
          ]
         ],
         "zmax": 1,
         "zmin": 0
        },
        {
         "colorscale": [
          [
           0,
           "rgb(103,0,31)"
          ],
          [
           0.1,
           "rgb(178,24,43)"
          ],
          [
           0.2,
           "rgb(214,96,77)"
          ],
          [
           0.3,
           "rgb(244,165,130)"
          ],
          [
           0.4,
           "rgb(253,219,199)"
          ],
          [
           0.5,
           "rgb(247,247,247)"
          ],
          [
           0.6,
           "rgb(209,229,240)"
          ],
          [
           0.7,
           "rgb(146,197,222)"
          ],
          [
           0.8,
           "rgb(67,147,195)"
          ],
          [
           0.9,
           "rgb(33,102,172)"
          ],
          [
           1,
           "rgb(5,48,97)"
          ]
         ],
         "hoverongaps": false,
         "showscale": false,
         "text": [
          [
           " ",
           " ",
           " ",
           " ",
           " ",
           " ",
           " ",
           " "
          ],
          [
           " ",
           " ",
           " ",
           "░",
           " ",
           " ",
           " ",
           " "
          ],
          [
           " ",
           " ",
           " ",
           " ",
           "█",
           " ",
           " ",
           " "
          ],
          [
           " ",
           " ",
           " ",
           " ",
           "█",
           " ",
           " ",
           " "
          ],
          [
           " ",
           " ",
           " ",
           " ",
           "░",
           " ",
           " ",
           " "
          ],
          [
           " ",
           " ",
           " ",
           " ",
           " ",
           " ",
           " ",
           " "
          ],
          [
           " ",
           " ",
           " ",
           " ",
           " ",
           " ",
           " ",
           " "
          ],
          [
           " ",
           " ",
           " ",
           " ",
           " ",
           " ",
           " ",
           " "
          ]
         ],
         "texttemplate": "%{text}",
         "type": "heatmap",
         "x": [
          0,
          1,
          2,
          3,
          4,
          5,
          6,
          7
         ],
         "xaxis": "x3",
         "y": [
          "H",
          "G",
          "F",
          "E",
          "D",
          "C",
          "B",
          "A"
         ],
         "yaxis": "y3",
         "z": [
          [
           0.5,
           0.00021463633,
           0.5,
           0.5,
           0.5,
           0.5,
           0.5,
           0.5
          ],
          [
           0.5,
           0.5,
           8.940697e-8,
           7.4505806e-7,
           0,
           0.5,
           0.5,
           1
          ],
          [
           0.5,
           0.5,
           0.5,
           5.662441e-7,
           0.0000132620335,
           0.0004055202,
           0.99862194,
           0.5
          ],
          [
           0.5,
           0.5,
           0.9999378,
           0.9937738,
           0.07535601,
           0.9996842,
           0.5,
           0.5
          ],
          [
           0.5,
           0.5,
           0.5,
           0.0076366365,
           0.14373729,
           0.9351543,
           0.4999989,
           0
          ],
          [
           0.5,
           0.5,
           0.13868597,
           0.22273195,
           0.068793,
           0.097222924,
           0.0028308332,
           0.5
          ],
          [
           0.5,
           0.5,
           0.49999496,
           0.49999946,
           0.009910136,
           0.004970461,
           0.5,
           0.9999449
          ],
          [
           0.5,
           0.5,
           0.5,
           0.5,
           2.9802322e-8,
           0.5,
           0.5,
           0.5
          ]
         ],
         "zmax": 1,
         "zmin": 0
        },
        {
         "colorscale": [
          [
           0,
           "rgb(103,0,31)"
          ],
          [
           0.1,
           "rgb(178,24,43)"
          ],
          [
           0.2,
           "rgb(214,96,77)"
          ],
          [
           0.3,
           "rgb(244,165,130)"
          ],
          [
           0.4,
           "rgb(253,219,199)"
          ],
          [
           0.5,
           "rgb(247,247,247)"
          ],
          [
           0.6,
           "rgb(209,229,240)"
          ],
          [
           0.7,
           "rgb(146,197,222)"
          ],
          [
           0.8,
           "rgb(67,147,195)"
          ],
          [
           0.9,
           "rgb(33,102,172)"
          ],
          [
           1,
           "rgb(5,48,97)"
          ]
         ],
         "hoverongaps": false,
         "showscale": false,
         "text": [
          [
           " ",
           " ",
           " ",
           " ",
           " ",
           " ",
           " ",
           " "
          ],
          [
           " ",
           " ",
           " ",
           " ",
           " ",
           " ",
           " ",
           " "
          ],
          [
           " ",
           " ",
           " ",
           " ",
           "█",
           " ",
           " ",
           " "
          ],
          [
           " ",
           " ",
           " ",
           " ",
           "▓",
           " ",
           " ",
           " "
          ],
          [
           " ",
           " ",
           " ",
           " ",
           "▒",
           " ",
           " ",
           " "
          ],
          [
           " ",
           " ",
           " ",
           " ",
           " ",
           " ",
           " ",
           " "
          ],
          [
           " ",
           " ",
           " ",
           " ",
           " ",
           " ",
           " ",
           " "
          ],
          [
           " ",
           " ",
           " ",
           " ",
           " ",
           " ",
           " ",
           " "
          ]
         ],
         "texttemplate": "%{text}",
         "type": "heatmap",
         "x": [
          0,
          1,
          2,
          3,
          4,
          5,
          6,
          7
         ],
         "xaxis": "x4",
         "y": [
          "H",
          "G",
          "F",
          "E",
          "D",
          "C",
          "B",
          "A"
         ],
         "yaxis": "y4",
         "z": [
          [
           0.5,
           2.682209e-7,
           0.5,
           0.5,
           0.5,
           0.5,
           0.5,
           0.5
          ],
          [
           0.5,
           0.5,
           0,
           0,
           0,
           0.5,
           0.5,
           1
          ],
          [
           0.5,
           0.5,
           0.5,
           0,
           0.9734117,
           0.99996626,
           1,
           0.5
          ],
          [
           0.5,
           0.5,
           1,
           0.9998909,
           0.5334653,
           0.13168365,
           0.5,
           0.5
          ],
          [
           0.5,
           0.5,
           0.5,
           0.20585865,
           0.9976047,
           0.049128443,
           0.5,
           0
          ],
          [
           0.5,
           0.5,
           3.2782555e-7,
           4.7683716e-7,
           0.59438103,
           0.28375724,
           0.000011116266,
           0.5
          ],
          [
           0.5,
           0.5,
           0.5,
           0.5,
           0.0000030100346,
           0.0000047385693,
           0.5,
           0.99999964
          ],
          [
           0.5,
           0.5,
           0.5,
           0.5,
           0,
           0.5,
           0.5,
           0.5
          ]
         ],
         "zmax": 1,
         "zmin": 0
        },
        {
         "colorscale": [
          [
           0,
           "rgb(103,0,31)"
          ],
          [
           0.1,
           "rgb(178,24,43)"
          ],
          [
           0.2,
           "rgb(214,96,77)"
          ],
          [
           0.3,
           "rgb(244,165,130)"
          ],
          [
           0.4,
           "rgb(253,219,199)"
          ],
          [
           0.5,
           "rgb(247,247,247)"
          ],
          [
           0.6,
           "rgb(209,229,240)"
          ],
          [
           0.7,
           "rgb(146,197,222)"
          ],
          [
           0.8,
           "rgb(67,147,195)"
          ],
          [
           0.9,
           "rgb(33,102,172)"
          ],
          [
           1,
           "rgb(5,48,97)"
          ]
         ],
         "hoverongaps": false,
         "showscale": false,
         "text": [
          [
           " ",
           " ",
           " ",
           " ",
           " ",
           " ",
           " ",
           " "
          ],
          [
           " ",
           " ",
           " ",
           " ",
           " ",
           " ",
           " ",
           " "
          ],
          [
           " ",
           " ",
           " ",
           " ",
           "█",
           " ",
           " ",
           " "
          ],
          [
           " ",
           " ",
           " ",
           " ",
           "█",
           " ",
           " ",
           " "
          ],
          [
           " ",
           " ",
           " ",
           " ",
           "█",
           " ",
           " ",
           " "
          ],
          [
           " ",
           " ",
           " ",
           " ",
           "█",
           " ",
           " ",
           " "
          ],
          [
           " ",
           " ",
           " ",
           " ",
           "▓",
           " ",
           " ",
           " "
          ],
          [
           " ",
           " ",
           " ",
           " ",
           " ",
           " ",
           " ",
           " "
          ]
         ],
         "texttemplate": "%{text}",
         "type": "heatmap",
         "x": [
          0,
          1,
          2,
          3,
          4,
          5,
          6,
          7
         ],
         "xaxis": "x5",
         "y": [
          "H",
          "G",
          "F",
          "E",
          "D",
          "C",
          "B",
          "A"
         ],
         "yaxis": "y5",
         "z": [
          [
           0.49999997,
           0.000024676323,
           0.5,
           0.5,
           0.5,
           0.5,
           0.5,
           0.49999997
          ],
          [
           0.5,
           0.5,
           0.000004172325,
           0.000009655952,
           0.000048041344,
           0.5,
           0.50000036,
           1
          ],
          [
           0.5,
           0.49999997,
           0.5,
           2.0861626e-7,
           0.4374792,
           0.99532866,
           0.99996114,
           0.50048
          ],
          [
           0.49999842,
           0.5,
           0.99596584,
           0.94403887,
           0.00010636449,
           0.30983037,
           0.5,
           0.5000001
          ],
          [
           0.49999964,
           0.5,
           0.5000007,
           0.021009475,
           0.019849867,
           0.15027976,
           0.5,
           0.000012129545
          ],
          [
           0.49999952,
           0.50000405,
           0.0047209263,
           0.039112926,
           0.0038885176,
           0.4842349,
           0.014210314,
           0.50000006
          ],
          [
           0.5,
           0.5000002,
           0.5,
           0.49999925,
           0.000022411346,
           0.0064721704,
           0.50000286,
           0.98777795
          ],
          [
           0.50000006,
           0.5000159,
           0.5000008,
           0.5,
           4.7683716e-7,
           0.50000805,
           0.500026,
           0.50000006
          ]
         ],
         "zmax": 1,
         "zmin": 0
        },
        {
         "colorscale": [
          [
           0,
           "rgb(103,0,31)"
          ],
          [
           0.1,
           "rgb(178,24,43)"
          ],
          [
           0.2,
           "rgb(214,96,77)"
          ],
          [
           0.3,
           "rgb(244,165,130)"
          ],
          [
           0.4,
           "rgb(253,219,199)"
          ],
          [
           0.5,
           "rgb(247,247,247)"
          ],
          [
           0.6,
           "rgb(209,229,240)"
          ],
          [
           0.7,
           "rgb(146,197,222)"
          ],
          [
           0.8,
           "rgb(67,147,195)"
          ],
          [
           0.9,
           "rgb(33,102,172)"
          ],
          [
           1,
           "rgb(5,48,97)"
          ]
         ],
         "hoverongaps": false,
         "showscale": false,
         "text": [
          [
           " ",
           " ",
           " ",
           " ",
           " ",
           " ",
           " ",
           " "
          ],
          [
           " ",
           " ",
           " ",
           " ",
           " ",
           " ",
           " ",
           " "
          ],
          [
           " ",
           " ",
           " ",
           " ",
           "█",
           " ",
           " ",
           " "
          ],
          [
           " ",
           " ",
           " ",
           " ",
           "█",
           " ",
           " ",
           " "
          ],
          [
           " ",
           " ",
           " ",
           " ",
           "█",
           " ",
           " ",
           " "
          ],
          [
           " ",
           " ",
           " ",
           " ",
           "█",
           " ",
           " ",
           " "
          ],
          [
           " ",
           " ",
           " ",
           " ",
           " ",
           " ",
           " ",
           " "
          ],
          [
           " ",
           " ",
           " ",
           " ",
           " ",
           " ",
           " ",
           " "
          ]
         ],
         "texttemplate": "%{text}",
         "type": "heatmap",
         "x": [
          0,
          1,
          2,
          3,
          4,
          5,
          6,
          7
         ],
         "xaxis": "x6",
         "y": [
          "H",
          "G",
          "F",
          "E",
          "D",
          "C",
          "B",
          "A"
         ],
         "yaxis": "y6",
         "z": [
          [
           0.5,
           0.000004053116,
           0.5,
           0.5,
           0.5,
           0.5,
           0.5,
           0.49999997
          ],
          [
           0.5,
           0.5,
           8.940697e-8,
           1.1920929e-7,
           0.00006189942,
           0.5,
           0.5000017,
           1
          ],
          [
           0.5,
           0.5,
           0.5,
           0,
           0.9855568,
           0.9999939,
           0.9999987,
           0.50001365
          ],
          [
           0.5,
           0.5,
           0.9999993,
           0.99991393,
           0.0010577738,
           0.000102728605,
           0.5,
           0.5
          ],
          [
           0.49999982,
           0.5,
           0.50000525,
           0.0018760562,
           0.91222167,
           5.9604645e-7,
           0.5,
           0.0000011622906
          ],
          [
           0.4999999,
           0.49999976,
           0.000021517277,
           0.00002104044,
           0.005708337,
           0.009405613,
           0.000019907951,
           0.5
          ],
          [
           0.5,
           0.5,
           0.5,
           0.5,
           2.9802322e-8,
           0.000022560358,
           0.5,
           0.9999206
          ],
          [
           0.5,
           0.5,
           0.5,
           0.5,
           0,
           0.50000006,
           0.5000037,
           0.5
          ]
         ],
         "zmax": 1,
         "zmin": 0
        },
        {
         "colorscale": [
          [
           0,
           "rgb(103,0,31)"
          ],
          [
           0.1,
           "rgb(178,24,43)"
          ],
          [
           0.2,
           "rgb(214,96,77)"
          ],
          [
           0.3,
           "rgb(244,165,130)"
          ],
          [
           0.4,
           "rgb(253,219,199)"
          ],
          [
           0.5,
           "rgb(247,247,247)"
          ],
          [
           0.6,
           "rgb(209,229,240)"
          ],
          [
           0.7,
           "rgb(146,197,222)"
          ],
          [
           0.8,
           "rgb(67,147,195)"
          ],
          [
           0.9,
           "rgb(33,102,172)"
          ],
          [
           1,
           "rgb(5,48,97)"
          ]
         ],
         "hoverongaps": false,
         "showscale": false,
         "text": [
          [
           " ",
           " ",
           " ",
           " ",
           " ",
           " ",
           " ",
           " "
          ],
          [
           " ",
           " ",
           " ",
           " ",
           " ",
           " ",
           " ",
           " "
          ],
          [
           " ",
           " ",
           " ",
           " ",
           "█",
           " ",
           " ",
           " "
          ],
          [
           " ",
           " ",
           " ",
           " ",
           "█",
           " ",
           " ",
           " "
          ],
          [
           " ",
           " ",
           " ",
           " ",
           "█",
           " ",
           " ",
           " "
          ],
          [
           " ",
           " ",
           " ",
           " ",
           "█",
           " ",
           " ",
           " "
          ],
          [
           " ",
           " ",
           " ",
           " ",
           " ",
           " ",
           " ",
           " "
          ],
          [
           " ",
           " ",
           " ",
           " ",
           " ",
           " ",
           " ",
           " "
          ]
         ],
         "texttemplate": "%{text}",
         "type": "heatmap",
         "x": [
          0,
          1,
          2,
          3,
          4,
          5,
          6,
          7
         ],
         "xaxis": "x7",
         "y": [
          "H",
          "G",
          "F",
          "E",
          "D",
          "C",
          "B",
          "A"
         ],
         "yaxis": "y7",
         "z": [
          [
           0.49998605,
           0.00007581711,
           0.4999999,
           0.49999937,
           0.5,
           0.49999884,
           0.50000024,
           0.50000054
          ],
          [
           0.49999896,
           0.5000015,
           0.0006376803,
           0.0007889271,
           0.000017046928,
           0.5000003,
           0.5000141,
           0.9999678
          ],
          [
           0.500056,
           0.5000142,
           0.4999936,
           0.00006785989,
           0.0062624216,
           0.9976175,
           0.99992526,
           0.50001544
          ],
          [
           0.49999687,
           0.5002313,
           0.9999774,
           0.99142694,
           0.000014334917,
           0.6446881,
           0.5000159,
           0.5
          ],
          [
           0.49988526,
           0.5000094,
           0.5002927,
           0.07262102,
           0.0021401644,
           0.014652073,
           0.50000215,
           0.000086694956
          ],
          [
           0.49999255,
           0.49996832,
           0.0022531152,
           0.06413028,
           0.00010192394,
           0.01889807,
           0.03688571,
           0.50000054
          ],
          [
           0.49998847,
           0.49999744,
           0.49998114,
           0.49999434,
           5.066395e-7,
           0.0021650791,
           0.49998343,
           0.99876297
          ],
          [
           0.4999868,
           0.49997497,
           0.49999905,
           0.49999893,
           0.0000015497208,
           0.4999959,
           0.4997982,
           0.4999565
          ]
         ],
         "zmax": 1,
         "zmin": 0
        },
        {
         "colorscale": [
          [
           0,
           "rgb(103,0,31)"
          ],
          [
           0.1,
           "rgb(178,24,43)"
          ],
          [
           0.2,
           "rgb(214,96,77)"
          ],
          [
           0.3,
           "rgb(244,165,130)"
          ],
          [
           0.4,
           "rgb(253,219,199)"
          ],
          [
           0.5,
           "rgb(247,247,247)"
          ],
          [
           0.6,
           "rgb(209,229,240)"
          ],
          [
           0.7,
           "rgb(146,197,222)"
          ],
          [
           0.8,
           "rgb(67,147,195)"
          ],
          [
           0.9,
           "rgb(33,102,172)"
          ],
          [
           1,
           "rgb(5,48,97)"
          ]
         ],
         "hoverongaps": false,
         "showscale": false,
         "text": [
          [
           " ",
           " ",
           " ",
           " ",
           " ",
           " ",
           " ",
           " "
          ],
          [
           " ",
           " ",
           " ",
           " ",
           " ",
           " ",
           " ",
           " "
          ],
          [
           " ",
           " ",
           " ",
           " ",
           "█",
           " ",
           " ",
           " "
          ],
          [
           " ",
           " ",
           " ",
           " ",
           "█",
           " ",
           " ",
           " "
          ],
          [
           " ",
           " ",
           " ",
           " ",
           "█",
           " ",
           " ",
           " "
          ],
          [
           " ",
           " ",
           " ",
           " ",
           "█",
           " ",
           " ",
           " "
          ],
          [
           " ",
           " ",
           " ",
           " ",
           " ",
           " ",
           " ",
           " "
          ],
          [
           " ",
           " ",
           " ",
           " ",
           " ",
           " ",
           " ",
           " "
          ]
         ],
         "texttemplate": "%{text}",
         "type": "heatmap",
         "x": [
          0,
          1,
          2,
          3,
          4,
          5,
          6,
          7
         ],
         "xaxis": "x8",
         "y": [
          "H",
          "G",
          "F",
          "E",
          "D",
          "C",
          "B",
          "A"
         ],
         "yaxis": "y8",
         "z": [
          [
           0.49999627,
           0.000007212162,
           0.49999994,
           0.49999964,
           0.5,
           0.49999595,
           0.5000001,
           0.5000003
          ],
          [
           0.49999988,
           0.50000083,
           0.000020444393,
           0.000289917,
           0.00014466047,
           0.5000001,
           0.50000006,
           0.99999124
          ],
          [
           0.5000171,
           0.50000834,
           0.49998677,
           0.0000052452087,
           0.61029583,
           0.99976206,
           0.99999875,
           0.5000008
          ],
          [
           0.4999991,
           0.5000213,
           0.9999951,
           0.999941,
           0.7758121,
           0.000025838614,
           0.500003,
           0.5
          ],
          [
           0.49997,
           0.5000033,
           0.4999908,
           0.022879303,
           0.052674234,
           0.009533644,
           0.50000054,
           0.0001334548
          ],
          [
           0.49999833,
           0.49987277,
           0.0001192987,
           0.00024861097,
           0.0008443594,
           0.37488502,
           0.6693725,
           0.5000002
          ],
          [
           0.49999443,
           0.49999908,
           0.49997953,
           0.49998823,
           0,
           0.0027727783,
           0.49999616,
           0.99977887
          ],
          [
           0.49999833,
           0.4999935,
           0.5000002,
           0.49999943,
           0.000004887581,
           0.49999785,
           0.49995625,
           0.4999962
          ]
         ],
         "zmax": 1,
         "zmin": 0
        },
        {
         "colorscale": [
          [
           0,
           "rgb(103,0,31)"
          ],
          [
           0.1,
           "rgb(178,24,43)"
          ],
          [
           0.2,
           "rgb(214,96,77)"
          ],
          [
           0.3,
           "rgb(244,165,130)"
          ],
          [
           0.4,
           "rgb(253,219,199)"
          ],
          [
           0.5,
           "rgb(247,247,247)"
          ],
          [
           0.6,
           "rgb(209,229,240)"
          ],
          [
           0.7,
           "rgb(146,197,222)"
          ],
          [
           0.8,
           "rgb(67,147,195)"
          ],
          [
           0.9,
           "rgb(33,102,172)"
          ],
          [
           1,
           "rgb(5,48,97)"
          ]
         ],
         "hoverongaps": false,
         "showscale": false,
         "text": [
          [
           " ",
           " ",
           " ",
           " ",
           " ",
           " ",
           " ",
           " "
          ],
          [
           " ",
           " ",
           " ",
           " ",
           " ",
           " ",
           " ",
           " "
          ],
          [
           " ",
           " ",
           " ",
           " ",
           "█",
           " ",
           " ",
           " "
          ],
          [
           " ",
           " ",
           " ",
           " ",
           "█",
           " ",
           " ",
           " "
          ],
          [
           " ",
           " ",
           " ",
           " ",
           "█",
           " ",
           " ",
           " "
          ],
          [
           " ",
           " ",
           " ",
           " ",
           "█",
           " ",
           " ",
           " "
          ],
          [
           " ",
           " ",
           " ",
           " ",
           " ",
           " ",
           " ",
           " "
          ],
          [
           " ",
           " ",
           " ",
           " ",
           " ",
           " ",
           " ",
           " "
          ]
         ],
         "texttemplate": "%{text}",
         "type": "heatmap",
         "x": [
          0,
          1,
          2,
          3,
          4,
          5,
          6,
          7
         ],
         "xaxis": "x9",
         "y": [
          "H",
          "G",
          "F",
          "E",
          "D",
          "C",
          "B",
          "A"
         ],
         "yaxis": "y9",
         "z": [
          [
           0.49999732,
           0.000036418438,
           0.4999991,
           0.49997774,
           0.49999678,
           0.49998555,
           0.4999998,
           0.5000163
          ],
          [
           0.49999592,
           0.50000066,
           0.0063949525,
           0.004039377,
           0.0013052225,
           0.49999434,
           0.5000074,
           0.9993354
          ],
          [
           0.5000182,
           0.50003266,
           0.5000391,
           0.0009287894,
           0.0019413829,
           0.9829246,
           0.9990014,
           0.50000143
          ],
          [
           0.49999133,
           0.500044,
           0.9995346,
           0.9828918,
           0.013956606,
           0.0101745725,
           0.5000127,
           0.49999946
          ],
          [
           0.49999467,
           0.50004184,
           0.5000066,
           0.07267633,
           0.0014580488,
           0.02949369,
           0.5000005,
           0.00031664968
          ],
          [
           0.49999562,
           0.49995375,
           0.03468305,
           0.0141966045,
           0.0033473969,
           0.1535514,
           0.1203661,
           0.4999928
          ],
          [
           0.49999836,
           0.5000136,
           0.5000254,
           0.5000299,
           0.00029301643,
           0.052090704,
           0.50000334,
           0.9901744
          ],
          [
           0.499999,
           0.500001,
           0.5000053,
           0.49999976,
           0.000016331673,
           0.49999776,
           0.49999812,
           0.49996504
          ]
         ],
         "zmax": 1,
         "zmin": 0
        },
        {
         "colorscale": [
          [
           0,
           "rgb(103,0,31)"
          ],
          [
           0.1,
           "rgb(178,24,43)"
          ],
          [
           0.2,
           "rgb(214,96,77)"
          ],
          [
           0.3,
           "rgb(244,165,130)"
          ],
          [
           0.4,
           "rgb(253,219,199)"
          ],
          [
           0.5,
           "rgb(247,247,247)"
          ],
          [
           0.6,
           "rgb(209,229,240)"
          ],
          [
           0.7,
           "rgb(146,197,222)"
          ],
          [
           0.8,
           "rgb(67,147,195)"
          ],
          [
           0.9,
           "rgb(33,102,172)"
          ],
          [
           1,
           "rgb(5,48,97)"
          ]
         ],
         "hoverongaps": false,
         "showscale": false,
         "text": [
          [
           " ",
           " ",
           " ",
           " ",
           " ",
           " ",
           " ",
           " "
          ],
          [
           " ",
           " ",
           " ",
           " ",
           " ",
           " ",
           " ",
           " "
          ],
          [
           " ",
           " ",
           " ",
           " ",
           "█",
           " ",
           " ",
           " "
          ],
          [
           " ",
           " ",
           " ",
           " ",
           "█",
           " ",
           " ",
           " "
          ],
          [
           " ",
           " ",
           " ",
           " ",
           "█",
           " ",
           " ",
           " "
          ],
          [
           " ",
           " ",
           " ",
           " ",
           "█",
           " ",
           " ",
           " "
          ],
          [
           " ",
           " ",
           " ",
           " ",
           " ",
           " ",
           " ",
           " "
          ],
          [
           " ",
           " ",
           " ",
           " ",
           " ",
           " ",
           " ",
           " "
          ]
         ],
         "texttemplate": "%{text}",
         "type": "heatmap",
         "x": [
          0,
          1,
          2,
          3,
          4,
          5,
          6,
          7
         ],
         "xaxis": "x10",
         "y": [
          "H",
          "G",
          "F",
          "E",
          "D",
          "C",
          "B",
          "A"
         ],
         "yaxis": "y10",
         "z": [
          [
           0.49999845,
           0.000072449446,
           0.49999848,
           0.49999067,
           0.49999774,
           0.4999834,
           0.49999994,
           0.50000334
          ],
          [
           0.49999502,
           0.5000007,
           0.0019762218,
           0.000040471554,
           0.00044491887,
           0.49999788,
           0.500002,
           0.99985945
          ],
          [
           0.5000118,
           0.50000226,
           0.49999055,
           0.000042051077,
           0.020165741,
           0.9996799,
           0.99980235,
           0.50000364
          ],
          [
           0.49999538,
           0.50001246,
           0.9999186,
           0.99954444,
           0.16256452,
           0.00028514862,
           0.5000225,
           0.49999943
          ],
          [
           0.49999407,
           0.49999732,
           0.4999798,
           0.000021666288,
           0.014026493,
           0.0023465753,
           0.49999973,
           0.00017440319
          ],
          [
           0.4999897,
           0.4999653,
           0.0010540485,
           0.00038811564,
           0.07374111,
           0.00052794814,
           0.9982079,
           0.4999939
          ],
          [
           0.49999872,
           0.5000033,
           0.5000109,
           0.5000044,
           0.000018924475,
           0.00040489435,
           0.5000016,
           0.998899
          ],
          [
           0.49999937,
           0.49999973,
           0.50000304,
           0.49999964,
           0.000023394823,
           0.49999496,
           0.49999866,
           0.49987522
          ]
         ],
         "zmax": 1,
         "zmin": 0
        },
        {
         "colorscale": [
          [
           0,
           "rgb(103,0,31)"
          ],
          [
           0.1,
           "rgb(178,24,43)"
          ],
          [
           0.2,
           "rgb(214,96,77)"
          ],
          [
           0.3,
           "rgb(244,165,130)"
          ],
          [
           0.4,
           "rgb(253,219,199)"
          ],
          [
           0.5,
           "rgb(247,247,247)"
          ],
          [
           0.6,
           "rgb(209,229,240)"
          ],
          [
           0.7,
           "rgb(146,197,222)"
          ],
          [
           0.8,
           "rgb(67,147,195)"
          ],
          [
           0.9,
           "rgb(33,102,172)"
          ],
          [
           1,
           "rgb(5,48,97)"
          ]
         ],
         "hoverongaps": false,
         "showscale": false,
         "text": [
          [
           " ",
           " ",
           " ",
           " ",
           " ",
           " ",
           " ",
           " "
          ],
          [
           " ",
           " ",
           " ",
           " ",
           "░",
           " ",
           " ",
           " "
          ],
          [
           " ",
           " ",
           " ",
           " ",
           "█",
           " ",
           " ",
           " "
          ],
          [
           " ",
           " ",
           " ",
           " ",
           "█",
           " ",
           " ",
           " "
          ],
          [
           " ",
           " ",
           " ",
           " ",
           "█",
           " ",
           " ",
           " "
          ],
          [
           " ",
           " ",
           " ",
           " ",
           "█",
           " ",
           " ",
           " "
          ],
          [
           " ",
           " ",
           " ",
           " ",
           " ",
           " ",
           " ",
           " "
          ],
          [
           " ",
           " ",
           " ",
           " ",
           " ",
           " ",
           " ",
           " "
          ]
         ],
         "texttemplate": "%{text}",
         "type": "heatmap",
         "x": [
          0,
          1,
          2,
          3,
          4,
          5,
          6,
          7
         ],
         "xaxis": "x11",
         "y": [
          "H",
          "G",
          "F",
          "E",
          "D",
          "C",
          "B",
          "A"
         ],
         "yaxis": "y11",
         "z": [
          [
           0.49999937,
           0.000012695789,
           0.5,
           0.49999744,
           0.5,
           0.5,
           0.49999994,
           0.5
          ],
          [
           0.49999988,
           0.49999538,
           0.0007324815,
           0.0046100616,
           0.00006878376,
           0.50000036,
           0.5,
           0.9997953
          ],
          [
           0.49999946,
           0.50000066,
           0.5000021,
           0.0032489896,
           0.00040611625,
           0.99938715,
           0.99979633,
           0.50000054
          ],
          [
           0.49999776,
           0.50000525,
           0.99953854,
           0.99870694,
           0.0057716668,
           0.0029981732,
           0.5000004,
           0.50000036
          ],
          [
           0.49999854,
           0.5000003,
           0.5000006,
           0.093511045,
           0.00030452013,
           0.020383269,
           0.5,
           0.00072035193
          ],
          [
           0.49999967,
           0.49999982,
           0.018911839,
           0.051210314,
           0.0004401803,
           0.056753814,
           0.9947123,
           0.49999985
          ],
          [
           0.49998805,
           0.5,
           0.50000024,
           0.5000002,
           0.00015541911,
           0.0035423934,
           0.49999988,
           0.99979013
          ],
          [
           0.500001,
           0.5,
           0.50000024,
           0.49999988,
           0.00024706125,
           0.4999945,
           0.5,
           0.49999487
          ]
         ],
         "zmax": 1,
         "zmin": 0
        },
        {
         "colorscale": [
          [
           0,
           "rgb(103,0,31)"
          ],
          [
           0.1,
           "rgb(178,24,43)"
          ],
          [
           0.2,
           "rgb(214,96,77)"
          ],
          [
           0.3,
           "rgb(244,165,130)"
          ],
          [
           0.4,
           "rgb(253,219,199)"
          ],
          [
           0.5,
           "rgb(247,247,247)"
          ],
          [
           0.6,
           "rgb(209,229,240)"
          ],
          [
           0.7,
           "rgb(146,197,222)"
          ],
          [
           0.8,
           "rgb(67,147,195)"
          ],
          [
           0.9,
           "rgb(33,102,172)"
          ],
          [
           1,
           "rgb(5,48,97)"
          ]
         ],
         "hoverongaps": false,
         "showscale": false,
         "text": [
          [
           " ",
           " ",
           " ",
           " ",
           " ",
           " ",
           " ",
           " "
          ],
          [
           " ",
           " ",
           " ",
           " ",
           " ",
           " ",
           " ",
           " "
          ],
          [
           " ",
           " ",
           " ",
           " ",
           "█",
           " ",
           " ",
           " "
          ],
          [
           " ",
           " ",
           " ",
           " ",
           "█",
           " ",
           " ",
           " "
          ],
          [
           " ",
           " ",
           " ",
           " ",
           "█",
           " ",
           " ",
           " "
          ],
          [
           " ",
           " ",
           " ",
           " ",
           "█",
           " ",
           " ",
           " "
          ],
          [
           " ",
           " ",
           " ",
           " ",
           " ",
           " ",
           " ",
           " "
          ],
          [
           " ",
           " ",
           " ",
           " ",
           " ",
           " ",
           " ",
           " "
          ]
         ],
         "texttemplate": "%{text}",
         "type": "heatmap",
         "x": [
          0,
          1,
          2,
          3,
          4,
          5,
          6,
          7
         ],
         "xaxis": "x12",
         "y": [
          "H",
          "G",
          "F",
          "E",
          "D",
          "C",
          "B",
          "A"
         ],
         "yaxis": "y12",
         "z": [
          [
           0.49999925,
           0.000044196844,
           0.5,
           0.4999988,
           0.5,
           0.5,
           0.49999997,
           0.5
          ],
          [
           0.50000006,
           0.49999335,
           0.00006580353,
           0.00033962727,
           0.0000577271,
           0.5000001,
           0.5,
           0.99955404
          ],
          [
           0.50000393,
           0.50000066,
           0.5000042,
           0.00037193298,
           0.007691622,
           0.99971116,
           0.9999622,
           0.50000006
          ],
          [
           0.4999993,
           0.50000423,
           0.9998754,
           0.99989337,
           0.002480477,
           0.00026276708,
           0.5000007,
           0.50000024
          ],
          [
           0.49999577,
           0.50000024,
           0.5000001,
           0.0127905905,
           0.005083859,
           0.00062838197,
           0.5,
           0.00028648973
          ],
          [
           0.49999967,
           0.4999993,
           0.0021492243,
           0.003962755,
           0.021499336,
           0.00019735098,
           0.99955595,
           0.49999997
          ],
          [
           0.49989757,
           0.5,
           0.5000001,
           0.5000001,
           0.000008404255,
           0.00007456541,
           0.4999999,
           0.9990449
          ],
          [
           0.500001,
           0.5,
           0.50000006,
           0.49999994,
           0.0004864335,
           0.4999988,
           0.5,
           0.49998692
          ]
         ],
         "zmax": 1,
         "zmin": 0
        },
        {
         "colorscale": [
          [
           0,
           "rgb(103,0,31)"
          ],
          [
           0.1,
           "rgb(178,24,43)"
          ],
          [
           0.2,
           "rgb(214,96,77)"
          ],
          [
           0.3,
           "rgb(244,165,130)"
          ],
          [
           0.4,
           "rgb(253,219,199)"
          ],
          [
           0.5,
           "rgb(247,247,247)"
          ],
          [
           0.6,
           "rgb(209,229,240)"
          ],
          [
           0.7,
           "rgb(146,197,222)"
          ],
          [
           0.8,
           "rgb(67,147,195)"
          ],
          [
           0.9,
           "rgb(33,102,172)"
          ],
          [
           1,
           "rgb(5,48,97)"
          ]
         ],
         "hoverongaps": false,
         "showscale": false,
         "text": [
          [
           " ",
           " ",
           " ",
           " ",
           " ",
           " ",
           " ",
           " "
          ],
          [
           " ",
           " ",
           " ",
           "▒",
           " ",
           " ",
           " ",
           " "
          ],
          [
           " ",
           " ",
           " ",
           " ",
           "█",
           " ",
           " ",
           " "
          ],
          [
           " ",
           " ",
           " ",
           " ",
           "█",
           " ",
           " ",
           " "
          ],
          [
           " ",
           " ",
           " ",
           " ",
           "█",
           " ",
           " ",
           " "
          ],
          [
           " ",
           " ",
           " ",
           " ",
           "█",
           " ",
           " ",
           " "
          ],
          [
           " ",
           " ",
           " ",
           " ",
           " ",
           " ",
           " ",
           " "
          ],
          [
           " ",
           " ",
           " ",
           " ",
           " ",
           " ",
           " ",
           " "
          ]
         ],
         "texttemplate": "%{text}",
         "type": "heatmap",
         "x": [
          0,
          1,
          2,
          3,
          4,
          5,
          6,
          7
         ],
         "xaxis": "x13",
         "y": [
          "H",
          "G",
          "F",
          "E",
          "D",
          "C",
          "B",
          "A"
         ],
         "yaxis": "y13",
         "z": [
          [
           0.49999848,
           0.0000055730343,
           0.5,
           0.49999902,
           0.5,
           0.5,
           0.49999496,
           0.5000003
          ],
          [
           0.4999996,
           0.5000006,
           0.00056245923,
           0.0033534765,
           0.00087457895,
           0.5,
           0.5,
           0.9999689
          ],
          [
           0.49998572,
           0.5,
           0.5000053,
           0.00022095442,
           0.002344817,
           0.9999964,
           0.9997541,
           0.50000584
          ],
          [
           0.5,
           0.5,
           0.99999094,
           0.99995655,
           0.005469084,
           0.00090548396,
           0.5,
           0.50000006
          ],
          [
           0.49999827,
           0.5,
           0.5,
           0.01243332,
           0.000043600798,
           0.006504327,
           0.5,
           0.008456618
          ],
          [
           0.49999827,
           0.5,
           0.00042411685,
           0.0014484227,
           0.00013291836,
           0.0019446611,
           0.998836,
           0.5
          ],
          [
           0.4999814,
           0.5,
           0.5,
           0.5,
           0.038671136,
           0.010947555,
           0.5,
           0.9999686
          ],
          [
           0.499654,
           0.49998805,
           0.49999908,
           0.49999997,
           0.00019130111,
           0.49996135,
           0.5,
           0.4978031
          ]
         ],
         "zmax": 1,
         "zmin": 0
        },
        {
         "colorscale": [
          [
           0,
           "rgb(103,0,31)"
          ],
          [
           0.1,
           "rgb(178,24,43)"
          ],
          [
           0.2,
           "rgb(214,96,77)"
          ],
          [
           0.3,
           "rgb(244,165,130)"
          ],
          [
           0.4,
           "rgb(253,219,199)"
          ],
          [
           0.5,
           "rgb(247,247,247)"
          ],
          [
           0.6,
           "rgb(209,229,240)"
          ],
          [
           0.7,
           "rgb(146,197,222)"
          ],
          [
           0.8,
           "rgb(67,147,195)"
          ],
          [
           0.9,
           "rgb(33,102,172)"
          ],
          [
           1,
           "rgb(5,48,97)"
          ]
         ],
         "hoverongaps": false,
         "showscale": false,
         "text": [
          [
           " ",
           " ",
           " ",
           " ",
           " ",
           " ",
           " ",
           " "
          ],
          [
           " ",
           " ",
           " ",
           "░",
           " ",
           " ",
           " ",
           " "
          ],
          [
           " ",
           " ",
           " ",
           " ",
           "█",
           " ",
           " ",
           " "
          ],
          [
           " ",
           " ",
           " ",
           " ",
           "█",
           " ",
           " ",
           " "
          ],
          [
           " ",
           " ",
           " ",
           " ",
           "█",
           " ",
           " ",
           " "
          ],
          [
           " ",
           " ",
           " ",
           " ",
           "█",
           " ",
           " ",
           " "
          ],
          [
           " ",
           " ",
           " ",
           " ",
           " ",
           " ",
           " ",
           " "
          ],
          [
           " ",
           " ",
           " ",
           " ",
           " ",
           " ",
           " ",
           " "
          ]
         ],
         "texttemplate": "%{text}",
         "type": "heatmap",
         "x": [
          0,
          1,
          2,
          3,
          4,
          5,
          6,
          7
         ],
         "xaxis": "x14",
         "y": [
          "H",
          "G",
          "F",
          "E",
          "D",
          "C",
          "B",
          "A"
         ],
         "yaxis": "y14",
         "z": [
          [
           0.4999992,
           0.000008791685,
           0.5,
           0.4999987,
           0.5,
           0.5,
           0.49999797,
           0.5000003
          ],
          [
           0.4999997,
           0.5000002,
           0.0006952286,
           0.0021246672,
           0.00083461404,
           0.5,
           0.5,
           0.9999214
          ],
          [
           0.49999312,
           0.5,
           0.5000052,
           0.00017154217,
           0.00291422,
           0.9999964,
           0.99990803,
           0.500006
          ],
          [
           0.5,
           0.5,
           0.999991,
           0.99998546,
           0.005544454,
           0.00026401877,
           0.5,
           0.5
          ],
          [
           0.49999413,
           0.5,
           0.5,
           0.0053750873,
           0.0003168285,
           0.0011252463,
           0.5,
           0.007884473
          ],
          [
           0.4999987,
           0.5,
           0.00032532215,
           0.00029805303,
           0.00008234382,
           0.00015425682,
           0.9999269,
           0.5
          ],
          [
           0.49998719,
           0.5,
           0.5,
           0.5,
           0.0018236637,
           0.0059121847,
           0.5,
           0.99990773
          ],
          [
           0.49985892,
           0.49998942,
           0.49999866,
           0.49999997,
           0.0003398955,
           0.49995664,
           0.5,
           0.4985009
          ]
         ],
         "zmax": 1,
         "zmin": 0
        }
       ],
       "layout": {
        "annotations": [
         {
          "font": {
           "size": 16
          },
          "showarrow": false,
          "text": "P: 21, T: G1, L: 0, Attn",
          "x": 0.031071428571428573,
          "xanchor": "center",
          "xref": "paper",
          "y": 1,
          "yanchor": "bottom",
          "yref": "paper"
         },
         {
          "font": {
           "size": 16
          },
          "showarrow": false,
          "text": "P: 21, T: G1, L: 0, MLP",
          "x": 0.10321428571428572,
          "xanchor": "center",
          "xref": "paper",
          "y": 1,
          "yanchor": "bottom",
          "yref": "paper"
         },
         {
          "font": {
           "size": 16
          },
          "showarrow": false,
          "text": "P: 21, T: G1, L: 1, Attn",
          "x": 0.17535714285714288,
          "xanchor": "center",
          "xref": "paper",
          "y": 1,
          "yanchor": "bottom",
          "yref": "paper"
         },
         {
          "font": {
           "size": 16
          },
          "showarrow": false,
          "text": "P: 21, T: G1, L: 1, MLP",
          "x": 0.2475,
          "xanchor": "center",
          "xref": "paper",
          "y": 1,
          "yanchor": "bottom",
          "yref": "paper"
         },
         {
          "font": {
           "size": 16
          },
          "showarrow": false,
          "text": "P: 21, T: G1, L: 2, Attn",
          "x": 0.3196428571428572,
          "xanchor": "center",
          "xref": "paper",
          "y": 1,
          "yanchor": "bottom",
          "yref": "paper"
         },
         {
          "font": {
           "size": 16
          },
          "showarrow": false,
          "text": "P: 21, T: G1, L: 2, MLP",
          "x": 0.3917857142857143,
          "xanchor": "center",
          "xref": "paper",
          "y": 1,
          "yanchor": "bottom",
          "yref": "paper"
         },
         {
          "font": {
           "size": 16
          },
          "showarrow": false,
          "text": "P: 21, T: G1, L: 3, Attn",
          "x": 0.46392857142857147,
          "xanchor": "center",
          "xref": "paper",
          "y": 1,
          "yanchor": "bottom",
          "yref": "paper"
         },
         {
          "font": {
           "size": 16
          },
          "showarrow": false,
          "text": "P: 21, T: G1, L: 3, MLP",
          "x": 0.5360714285714288,
          "xanchor": "center",
          "xref": "paper",
          "y": 1,
          "yanchor": "bottom",
          "yref": "paper"
         },
         {
          "font": {
           "size": 16
          },
          "showarrow": false,
          "text": "P: 21, T: G1, L: 4, Attn",
          "x": 0.6082142857142858,
          "xanchor": "center",
          "xref": "paper",
          "y": 1,
          "yanchor": "bottom",
          "yref": "paper"
         },
         {
          "font": {
           "size": 16
          },
          "showarrow": false,
          "text": "P: 21, T: G1, L: 4, MLP",
          "x": 0.6803571428571429,
          "xanchor": "center",
          "xref": "paper",
          "y": 1,
          "yanchor": "bottom",
          "yref": "paper"
         },
         {
          "font": {
           "size": 16
          },
          "showarrow": false,
          "text": "P: 21, T: G1, L: 5, Attn",
          "x": 0.7525000000000002,
          "xanchor": "center",
          "xref": "paper",
          "y": 1,
          "yanchor": "bottom",
          "yref": "paper"
         },
         {
          "font": {
           "size": 16
          },
          "showarrow": false,
          "text": "P: 21, T: G1, L: 5, MLP",
          "x": 0.8246428571428572,
          "xanchor": "center",
          "xref": "paper",
          "y": 1,
          "yanchor": "bottom",
          "yref": "paper"
         },
         {
          "font": {
           "size": 16
          },
          "showarrow": false,
          "text": "P: 21, T: G1, L: 6, Attn",
          "x": 0.8967857142857145,
          "xanchor": "center",
          "xref": "paper",
          "y": 1,
          "yanchor": "bottom",
          "yref": "paper"
         },
         {
          "font": {
           "size": 16
          },
          "showarrow": false,
          "text": "P: 21, T: G1, L: 6, MLP",
          "x": 0.9689285714285716,
          "xanchor": "center",
          "xref": "paper",
          "y": 1,
          "yanchor": "bottom",
          "yref": "paper"
         }
        ],
        "height": 325,
        "margin": {
         "l": 100,
         "t": 100
        },
        "template": {
         "data": {
          "bar": [
           {
            "error_x": {
             "color": "#2a3f5f"
            },
            "error_y": {
             "color": "#2a3f5f"
            },
            "marker": {
             "line": {
              "color": "#E5ECF6",
              "width": 0.5
             },
             "pattern": {
              "fillmode": "overlay",
              "size": 10,
              "solidity": 0.2
             }
            },
            "type": "bar"
           }
          ],
          "barpolar": [
           {
            "marker": {
             "line": {
              "color": "#E5ECF6",
              "width": 0.5
             },
             "pattern": {
              "fillmode": "overlay",
              "size": 10,
              "solidity": 0.2
             }
            },
            "type": "barpolar"
           }
          ],
          "carpet": [
           {
            "aaxis": {
             "endlinecolor": "#2a3f5f",
             "gridcolor": "white",
             "linecolor": "white",
             "minorgridcolor": "white",
             "startlinecolor": "#2a3f5f"
            },
            "baxis": {
             "endlinecolor": "#2a3f5f",
             "gridcolor": "white",
             "linecolor": "white",
             "minorgridcolor": "white",
             "startlinecolor": "#2a3f5f"
            },
            "type": "carpet"
           }
          ],
          "choropleth": [
           {
            "colorbar": {
             "outlinewidth": 0,
             "ticks": ""
            },
            "type": "choropleth"
           }
          ],
          "contour": [
           {
            "colorbar": {
             "outlinewidth": 0,
             "ticks": ""
            },
            "colorscale": [
             [
              0,
              "#0d0887"
             ],
             [
              0.1111111111111111,
              "#46039f"
             ],
             [
              0.2222222222222222,
              "#7201a8"
             ],
             [
              0.3333333333333333,
              "#9c179e"
             ],
             [
              0.4444444444444444,
              "#bd3786"
             ],
             [
              0.5555555555555556,
              "#d8576b"
             ],
             [
              0.6666666666666666,
              "#ed7953"
             ],
             [
              0.7777777777777778,
              "#fb9f3a"
             ],
             [
              0.8888888888888888,
              "#fdca26"
             ],
             [
              1,
              "#f0f921"
             ]
            ],
            "type": "contour"
           }
          ],
          "contourcarpet": [
           {
            "colorbar": {
             "outlinewidth": 0,
             "ticks": ""
            },
            "type": "contourcarpet"
           }
          ],
          "heatmap": [
           {
            "colorbar": {
             "outlinewidth": 0,
             "ticks": ""
            },
            "colorscale": [
             [
              0,
              "#0d0887"
             ],
             [
              0.1111111111111111,
              "#46039f"
             ],
             [
              0.2222222222222222,
              "#7201a8"
             ],
             [
              0.3333333333333333,
              "#9c179e"
             ],
             [
              0.4444444444444444,
              "#bd3786"
             ],
             [
              0.5555555555555556,
              "#d8576b"
             ],
             [
              0.6666666666666666,
              "#ed7953"
             ],
             [
              0.7777777777777778,
              "#fb9f3a"
             ],
             [
              0.8888888888888888,
              "#fdca26"
             ],
             [
              1,
              "#f0f921"
             ]
            ],
            "type": "heatmap"
           }
          ],
          "heatmapgl": [
           {
            "colorbar": {
             "outlinewidth": 0,
             "ticks": ""
            },
            "colorscale": [
             [
              0,
              "#0d0887"
             ],
             [
              0.1111111111111111,
              "#46039f"
             ],
             [
              0.2222222222222222,
              "#7201a8"
             ],
             [
              0.3333333333333333,
              "#9c179e"
             ],
             [
              0.4444444444444444,
              "#bd3786"
             ],
             [
              0.5555555555555556,
              "#d8576b"
             ],
             [
              0.6666666666666666,
              "#ed7953"
             ],
             [
              0.7777777777777778,
              "#fb9f3a"
             ],
             [
              0.8888888888888888,
              "#fdca26"
             ],
             [
              1,
              "#f0f921"
             ]
            ],
            "type": "heatmapgl"
           }
          ],
          "histogram": [
           {
            "marker": {
             "pattern": {
              "fillmode": "overlay",
              "size": 10,
              "solidity": 0.2
             }
            },
            "type": "histogram"
           }
          ],
          "histogram2d": [
           {
            "colorbar": {
             "outlinewidth": 0,
             "ticks": ""
            },
            "colorscale": [
             [
              0,
              "#0d0887"
             ],
             [
              0.1111111111111111,
              "#46039f"
             ],
             [
              0.2222222222222222,
              "#7201a8"
             ],
             [
              0.3333333333333333,
              "#9c179e"
             ],
             [
              0.4444444444444444,
              "#bd3786"
             ],
             [
              0.5555555555555556,
              "#d8576b"
             ],
             [
              0.6666666666666666,
              "#ed7953"
             ],
             [
              0.7777777777777778,
              "#fb9f3a"
             ],
             [
              0.8888888888888888,
              "#fdca26"
             ],
             [
              1,
              "#f0f921"
             ]
            ],
            "type": "histogram2d"
           }
          ],
          "histogram2dcontour": [
           {
            "colorbar": {
             "outlinewidth": 0,
             "ticks": ""
            },
            "colorscale": [
             [
              0,
              "#0d0887"
             ],
             [
              0.1111111111111111,
              "#46039f"
             ],
             [
              0.2222222222222222,
              "#7201a8"
             ],
             [
              0.3333333333333333,
              "#9c179e"
             ],
             [
              0.4444444444444444,
              "#bd3786"
             ],
             [
              0.5555555555555556,
              "#d8576b"
             ],
             [
              0.6666666666666666,
              "#ed7953"
             ],
             [
              0.7777777777777778,
              "#fb9f3a"
             ],
             [
              0.8888888888888888,
              "#fdca26"
             ],
             [
              1,
              "#f0f921"
             ]
            ],
            "type": "histogram2dcontour"
           }
          ],
          "mesh3d": [
           {
            "colorbar": {
             "outlinewidth": 0,
             "ticks": ""
            },
            "type": "mesh3d"
           }
          ],
          "parcoords": [
           {
            "line": {
             "colorbar": {
              "outlinewidth": 0,
              "ticks": ""
             }
            },
            "type": "parcoords"
           }
          ],
          "pie": [
           {
            "automargin": true,
            "type": "pie"
           }
          ],
          "scatter": [
           {
            "fillpattern": {
             "fillmode": "overlay",
             "size": 10,
             "solidity": 0.2
            },
            "type": "scatter"
           }
          ],
          "scatter3d": [
           {
            "line": {
             "colorbar": {
              "outlinewidth": 0,
              "ticks": ""
             }
            },
            "marker": {
             "colorbar": {
              "outlinewidth": 0,
              "ticks": ""
             }
            },
            "type": "scatter3d"
           }
          ],
          "scattercarpet": [
           {
            "marker": {
             "colorbar": {
              "outlinewidth": 0,
              "ticks": ""
             }
            },
            "type": "scattercarpet"
           }
          ],
          "scattergeo": [
           {
            "marker": {
             "colorbar": {
              "outlinewidth": 0,
              "ticks": ""
             }
            },
            "type": "scattergeo"
           }
          ],
          "scattergl": [
           {
            "marker": {
             "colorbar": {
              "outlinewidth": 0,
              "ticks": ""
             }
            },
            "type": "scattergl"
           }
          ],
          "scattermapbox": [
           {
            "marker": {
             "colorbar": {
              "outlinewidth": 0,
              "ticks": ""
             }
            },
            "type": "scattermapbox"
           }
          ],
          "scatterpolar": [
           {
            "marker": {
             "colorbar": {
              "outlinewidth": 0,
              "ticks": ""
             }
            },
            "type": "scatterpolar"
           }
          ],
          "scatterpolargl": [
           {
            "marker": {
             "colorbar": {
              "outlinewidth": 0,
              "ticks": ""
             }
            },
            "type": "scatterpolargl"
           }
          ],
          "scatterternary": [
           {
            "marker": {
             "colorbar": {
              "outlinewidth": 0,
              "ticks": ""
             }
            },
            "type": "scatterternary"
           }
          ],
          "surface": [
           {
            "colorbar": {
             "outlinewidth": 0,
             "ticks": ""
            },
            "colorscale": [
             [
              0,
              "#0d0887"
             ],
             [
              0.1111111111111111,
              "#46039f"
             ],
             [
              0.2222222222222222,
              "#7201a8"
             ],
             [
              0.3333333333333333,
              "#9c179e"
             ],
             [
              0.4444444444444444,
              "#bd3786"
             ],
             [
              0.5555555555555556,
              "#d8576b"
             ],
             [
              0.6666666666666666,
              "#ed7953"
             ],
             [
              0.7777777777777778,
              "#fb9f3a"
             ],
             [
              0.8888888888888888,
              "#fdca26"
             ],
             [
              1,
              "#f0f921"
             ]
            ],
            "type": "surface"
           }
          ],
          "table": [
           {
            "cells": {
             "fill": {
              "color": "#EBF0F8"
             },
             "line": {
              "color": "white"
             }
            },
            "header": {
             "fill": {
              "color": "#C8D4E3"
             },
             "line": {
              "color": "white"
             }
            },
            "type": "table"
           }
          ]
         },
         "layout": {
          "annotationdefaults": {
           "arrowcolor": "#2a3f5f",
           "arrowhead": 0,
           "arrowwidth": 1
          },
          "autotypenumbers": "strict",
          "coloraxis": {
           "colorbar": {
            "outlinewidth": 0,
            "ticks": ""
           }
          },
          "colorscale": {
           "diverging": [
            [
             0,
             "#8e0152"
            ],
            [
             0.1,
             "#c51b7d"
            ],
            [
             0.2,
             "#de77ae"
            ],
            [
             0.3,
             "#f1b6da"
            ],
            [
             0.4,
             "#fde0ef"
            ],
            [
             0.5,
             "#f7f7f7"
            ],
            [
             0.6,
             "#e6f5d0"
            ],
            [
             0.7,
             "#b8e186"
            ],
            [
             0.8,
             "#7fbc41"
            ],
            [
             0.9,
             "#4d9221"
            ],
            [
             1,
             "#276419"
            ]
           ],
           "sequential": [
            [
             0,
             "#0d0887"
            ],
            [
             0.1111111111111111,
             "#46039f"
            ],
            [
             0.2222222222222222,
             "#7201a8"
            ],
            [
             0.3333333333333333,
             "#9c179e"
            ],
            [
             0.4444444444444444,
             "#bd3786"
            ],
            [
             0.5555555555555556,
             "#d8576b"
            ],
            [
             0.6666666666666666,
             "#ed7953"
            ],
            [
             0.7777777777777778,
             "#fb9f3a"
            ],
            [
             0.8888888888888888,
             "#fdca26"
            ],
            [
             1,
             "#f0f921"
            ]
           ],
           "sequentialminus": [
            [
             0,
             "#0d0887"
            ],
            [
             0.1111111111111111,
             "#46039f"
            ],
            [
             0.2222222222222222,
             "#7201a8"
            ],
            [
             0.3333333333333333,
             "#9c179e"
            ],
            [
             0.4444444444444444,
             "#bd3786"
            ],
            [
             0.5555555555555556,
             "#d8576b"
            ],
            [
             0.6666666666666666,
             "#ed7953"
            ],
            [
             0.7777777777777778,
             "#fb9f3a"
            ],
            [
             0.8888888888888888,
             "#fdca26"
            ],
            [
             1,
             "#f0f921"
            ]
           ]
          },
          "colorway": [
           "#636efa",
           "#EF553B",
           "#00cc96",
           "#ab63fa",
           "#FFA15A",
           "#19d3f3",
           "#FF6692",
           "#B6E880",
           "#FF97FF",
           "#FECB52"
          ],
          "font": {
           "color": "#2a3f5f"
          },
          "geo": {
           "bgcolor": "white",
           "lakecolor": "white",
           "landcolor": "#E5ECF6",
           "showlakes": true,
           "showland": true,
           "subunitcolor": "white"
          },
          "hoverlabel": {
           "align": "left"
          },
          "hovermode": "closest",
          "mapbox": {
           "style": "light"
          },
          "paper_bgcolor": "white",
          "plot_bgcolor": "#E5ECF6",
          "polar": {
           "angularaxis": {
            "gridcolor": "white",
            "linecolor": "white",
            "ticks": ""
           },
           "bgcolor": "#E5ECF6",
           "radialaxis": {
            "gridcolor": "white",
            "linecolor": "white",
            "ticks": ""
           }
          },
          "scene": {
           "xaxis": {
            "backgroundcolor": "#E5ECF6",
            "gridcolor": "white",
            "gridwidth": 2,
            "linecolor": "white",
            "showbackground": true,
            "ticks": "",
            "zerolinecolor": "white"
           },
           "yaxis": {
            "backgroundcolor": "#E5ECF6",
            "gridcolor": "white",
            "gridwidth": 2,
            "linecolor": "white",
            "showbackground": true,
            "ticks": "",
            "zerolinecolor": "white"
           },
           "zaxis": {
            "backgroundcolor": "#E5ECF6",
            "gridcolor": "white",
            "gridwidth": 2,
            "linecolor": "white",
            "showbackground": true,
            "ticks": "",
            "zerolinecolor": "white"
           }
          },
          "shapedefaults": {
           "line": {
            "color": "#2a3f5f"
           }
          },
          "ternary": {
           "aaxis": {
            "gridcolor": "white",
            "linecolor": "white",
            "ticks": ""
           },
           "baxis": {
            "gridcolor": "white",
            "linecolor": "white",
            "ticks": ""
           },
           "bgcolor": "#E5ECF6",
           "caxis": {
            "gridcolor": "white",
            "linecolor": "white",
            "ticks": ""
           }
          },
          "title": {
           "x": 0.05
          },
          "xaxis": {
           "automargin": true,
           "gridcolor": "white",
           "linecolor": "white",
           "ticks": "",
           "title": {
            "standoff": 15
           },
           "zerolinecolor": "white",
           "zerolinewidth": 2
          },
          "yaxis": {
           "automargin": true,
           "gridcolor": "white",
           "linecolor": "white",
           "ticks": "",
           "title": {
            "standoff": 15
           },
           "zerolinecolor": "white",
           "zerolinewidth": 2
          }
         }
        },
        "title": {
         "text": "Probe Results per Position per Layer"
        },
        "width": 3213,
        "xaxis": {
         "anchor": "y",
         "domain": [
          0,
          0.062142857142857146
         ]
        },
        "xaxis10": {
         "anchor": "y10",
         "domain": [
          0.6492857142857144,
          0.7114285714285715
         ]
        },
        "xaxis11": {
         "anchor": "y11",
         "domain": [
          0.7214285714285715,
          0.7835714285714287
         ]
        },
        "xaxis12": {
         "anchor": "y12",
         "domain": [
          0.7935714285714287,
          0.8557142857142859
         ]
        },
        "xaxis13": {
         "anchor": "y13",
         "domain": [
          0.8657142857142859,
          0.927857142857143
         ]
        },
        "xaxis14": {
         "anchor": "y14",
         "domain": [
          0.9378571428571431,
          1
         ]
        },
        "xaxis2": {
         "anchor": "y2",
         "domain": [
          0.07214285714285715,
          0.13428571428571429
         ]
        },
        "xaxis3": {
         "anchor": "y3",
         "domain": [
          0.1442857142857143,
          0.20642857142857143
         ]
        },
        "xaxis4": {
         "anchor": "y4",
         "domain": [
          0.21642857142857144,
          0.2785714285714286
         ]
        },
        "xaxis5": {
         "anchor": "y5",
         "domain": [
          0.2885714285714286,
          0.35071428571428576
         ]
        },
        "xaxis6": {
         "anchor": "y6",
         "domain": [
          0.3607142857142857,
          0.4228571428571429
         ]
        },
        "xaxis7": {
         "anchor": "y7",
         "domain": [
          0.4328571428571429,
          0.49500000000000005
         ]
        },
        "xaxis8": {
         "anchor": "y8",
         "domain": [
          0.5050000000000001,
          0.5671428571428573
         ]
        },
        "xaxis9": {
         "anchor": "y9",
         "domain": [
          0.5771428571428572,
          0.6392857142857143
         ]
        },
        "yaxis": {
         "anchor": "x",
         "domain": [
          0,
          1
         ]
        },
        "yaxis10": {
         "anchor": "x10",
         "domain": [
          0,
          1
         ]
        },
        "yaxis11": {
         "anchor": "x11",
         "domain": [
          0,
          1
         ]
        },
        "yaxis12": {
         "anchor": "x12",
         "domain": [
          0,
          1
         ]
        },
        "yaxis13": {
         "anchor": "x13",
         "domain": [
          0,
          1
         ]
        },
        "yaxis14": {
         "anchor": "x14",
         "domain": [
          0,
          1
         ]
        },
        "yaxis2": {
         "anchor": "x2",
         "domain": [
          0,
          1
         ]
        },
        "yaxis3": {
         "anchor": "x3",
         "domain": [
          0,
          1
         ]
        },
        "yaxis4": {
         "anchor": "x4",
         "domain": [
          0,
          1
         ]
        },
        "yaxis5": {
         "anchor": "x5",
         "domain": [
          0,
          1
         ]
        },
        "yaxis6": {
         "anchor": "x6",
         "domain": [
          0,
          1
         ]
        },
        "yaxis7": {
         "anchor": "x7",
         "domain": [
          0,
          1
         ]
        },
        "yaxis8": {
         "anchor": "x8",
         "domain": [
          0,
          1
         ]
        },
        "yaxis9": {
         "anchor": "x9",
         "domain": [
          0,
          1
         ]
        }
       }
      },
      "text/html": [
       "<div>                            <div id=\"f05ac553-5ee4-454f-8ef7-7816e9f9d216\" class=\"plotly-graph-div\" style=\"height:325px; width:3213.0px;\"></div>            <script type=\"text/javascript\">                require([\"plotly\"], function(Plotly) {                    window.PLOTLYENV=window.PLOTLYENV || {};                                    if (document.getElementById(\"f05ac553-5ee4-454f-8ef7-7816e9f9d216\")) {                    Plotly.newPlot(                        \"f05ac553-5ee4-454f-8ef7-7816e9f9d216\",                        [{\"colorscale\":[[0.0,\"rgb(103,0,31)\"],[0.1,\"rgb(178,24,43)\"],[0.2,\"rgb(214,96,77)\"],[0.3,\"rgb(244,165,130)\"],[0.4,\"rgb(253,219,199)\"],[0.5,\"rgb(247,247,247)\"],[0.6,\"rgb(209,229,240)\"],[0.7,\"rgb(146,197,222)\"],[0.8,\"rgb(67,147,195)\"],[0.9,\"rgb(33,102,172)\"],[1.0,\"rgb(5,48,97)\"]],\"hoverongaps\":false,\"showscale\":false,\"text\":[[\" \",\" \",\" \",\" \",\" \",\" \",\" \",\" \"],[\" \",\" \",\" \",\" \",\" \",\" \",\" \",\" \"],[\" \",\" \",\" \",\" \",\"█\",\" \",\" \",\" \"],[\" \",\" \",\" \",\" \",\"█\",\" \",\" \",\" \"],[\" \",\" \",\" \",\" \",\" \",\" \",\" \",\" \"],[\" \",\" \",\" \",\" \",\" \",\" \",\" \",\" \"],[\" \",\" \",\" \",\" \",\" \",\" \",\" \",\" \"],[\" \",\" \",\" \",\" \",\" \",\" \",\" \",\" \"]],\"texttemplate\":\"%{text}\",\"x\":[0,1,2,3,4,5,6,7],\"y\":[\"H\",\"G\",\"F\",\"E\",\"D\",\"C\",\"B\",\"A\"],\"z\":[[0.5,0.5,0.5,0.5,0.5,0.49999797,0.5,0.5],[0.5,0.5,0.5,0.07030848,0.0,0.5,0.5,0.5],[0.5,0.5697873,0.96422875,0.00019046664,0.0000045001507,0.000085920095,0.6070072,0.998983],[0.5,0.98257613,0.10759783,0.9887045,0.00030755997,0.97689146,0.5012578,0.500001],[0.646691,0.5,0.9051142,0.47610912,0.13932389,0.7184045,0.5,0.5],[0.5,0.5002942,0.53208643,0.4812743,0.69352436,0.43872148,0.50005674,0.5],[0.49999866,0.49999928,0.5648935,0.07981187,0.50011355,0.46305162,0.49996117,0.5],[0.5,0.5,0.49999976,0.5,0.9987099,0.5,0.4998797,0.5]],\"zmax\":1.0,\"zmin\":0.0,\"type\":\"heatmap\",\"xaxis\":\"x\",\"yaxis\":\"y\"},{\"colorscale\":[[0.0,\"rgb(103,0,31)\"],[0.1,\"rgb(178,24,43)\"],[0.2,\"rgb(214,96,77)\"],[0.3,\"rgb(244,165,130)\"],[0.4,\"rgb(253,219,199)\"],[0.5,\"rgb(247,247,247)\"],[0.6,\"rgb(209,229,240)\"],[0.7,\"rgb(146,197,222)\"],[0.8,\"rgb(67,147,195)\"],[0.9,\"rgb(33,102,172)\"],[1.0,\"rgb(5,48,97)\"]],\"hoverongaps\":false,\"showscale\":false,\"text\":[[\" \",\" \",\" \",\" \",\" \",\" \",\" \",\" \"],[\" \",\" \",\" \",\" \",\" \",\" \",\" \",\" \"],[\" \",\" \",\" \",\" \",\"█\",\" \",\" \",\" \"],[\" \",\" \",\" \",\" \",\" \",\" \",\" \",\" \"],[\" \",\" \",\" \",\" \",\" \",\" \",\" \",\" \"],[\" \",\" \",\" \",\" \",\" \",\" \",\" \",\" \"],[\" \",\" \",\" \",\" \",\" \",\" \",\" \",\" \"],[\" \",\" \",\" \",\" \",\" \",\" \",\" \",\" \"]],\"texttemplate\":\"%{text}\",\"x\":[0,1,2,3,4,5,6,7],\"y\":[\"H\",\"G\",\"F\",\"E\",\"D\",\"C\",\"B\",\"A\"],\"z\":[[0.5,0.0,0.5,0.5,0.5,0.5,0.5,0.5],[0.5,0.5,2.0861626e-7,0.0,0.0,0.5,0.5,1.0],[0.5,0.5,0.5,2.9802322e-8,0.0004400313,0.0,0.9998503,0.5],[0.5,0.5,0.82927084,0.9994215,0.0014843047,0.99715626,0.5,0.5],[0.5,0.5,0.5,0.000629127,0.99656653,0.5598097,0.5,0.0],[0.5,0.5,0.0012380779,0.8176166,0.9922644,0.9671277,0.020171344,0.5],[0.5,0.5,0.5,0.5,0.90890837,0.3869617,0.5,1.0],[0.5,0.5,0.5,0.5,5.9604645e-7,0.5,0.5,0.5]],\"zmax\":1.0,\"zmin\":0.0,\"type\":\"heatmap\",\"xaxis\":\"x2\",\"yaxis\":\"y2\"},{\"colorscale\":[[0.0,\"rgb(103,0,31)\"],[0.1,\"rgb(178,24,43)\"],[0.2,\"rgb(214,96,77)\"],[0.3,\"rgb(244,165,130)\"],[0.4,\"rgb(253,219,199)\"],[0.5,\"rgb(247,247,247)\"],[0.6,\"rgb(209,229,240)\"],[0.7,\"rgb(146,197,222)\"],[0.8,\"rgb(67,147,195)\"],[0.9,\"rgb(33,102,172)\"],[1.0,\"rgb(5,48,97)\"]],\"hoverongaps\":false,\"showscale\":false,\"text\":[[\" \",\" \",\" \",\" \",\" \",\" \",\" \",\" \"],[\" \",\" \",\" \",\"░\",\" \",\" \",\" \",\" \"],[\" \",\" \",\" \",\" \",\"█\",\" \",\" \",\" \"],[\" \",\" \",\" \",\" \",\"█\",\" \",\" \",\" \"],[\" \",\" \",\" \",\" \",\"░\",\" \",\" \",\" \"],[\" \",\" \",\" \",\" \",\" \",\" \",\" \",\" \"],[\" \",\" \",\" \",\" \",\" \",\" \",\" \",\" \"],[\" \",\" \",\" \",\" \",\" \",\" \",\" \",\" \"]],\"texttemplate\":\"%{text}\",\"x\":[0,1,2,3,4,5,6,7],\"y\":[\"H\",\"G\",\"F\",\"E\",\"D\",\"C\",\"B\",\"A\"],\"z\":[[0.5,0.00021463633,0.5,0.5,0.5,0.5,0.5,0.5],[0.5,0.5,8.940697e-8,7.4505806e-7,0.0,0.5,0.5,1.0],[0.5,0.5,0.5,5.662441e-7,0.0000132620335,0.0004055202,0.99862194,0.5],[0.5,0.5,0.9999378,0.9937738,0.07535601,0.9996842,0.5,0.5],[0.5,0.5,0.5,0.0076366365,0.14373729,0.9351543,0.4999989,0.0],[0.5,0.5,0.13868597,0.22273195,0.068793,0.097222924,0.0028308332,0.5],[0.5,0.5,0.49999496,0.49999946,0.009910136,0.004970461,0.5,0.9999449],[0.5,0.5,0.5,0.5,2.9802322e-8,0.5,0.5,0.5]],\"zmax\":1.0,\"zmin\":0.0,\"type\":\"heatmap\",\"xaxis\":\"x3\",\"yaxis\":\"y3\"},{\"colorscale\":[[0.0,\"rgb(103,0,31)\"],[0.1,\"rgb(178,24,43)\"],[0.2,\"rgb(214,96,77)\"],[0.3,\"rgb(244,165,130)\"],[0.4,\"rgb(253,219,199)\"],[0.5,\"rgb(247,247,247)\"],[0.6,\"rgb(209,229,240)\"],[0.7,\"rgb(146,197,222)\"],[0.8,\"rgb(67,147,195)\"],[0.9,\"rgb(33,102,172)\"],[1.0,\"rgb(5,48,97)\"]],\"hoverongaps\":false,\"showscale\":false,\"text\":[[\" \",\" \",\" \",\" \",\" \",\" \",\" \",\" \"],[\" \",\" \",\" \",\" \",\" \",\" \",\" \",\" \"],[\" \",\" \",\" \",\" \",\"█\",\" \",\" \",\" \"],[\" \",\" \",\" \",\" \",\"▓\",\" \",\" \",\" \"],[\" \",\" \",\" \",\" \",\"▒\",\" \",\" \",\" \"],[\" \",\" \",\" \",\" \",\" \",\" \",\" \",\" \"],[\" \",\" \",\" \",\" \",\" \",\" \",\" \",\" \"],[\" \",\" \",\" \",\" \",\" \",\" \",\" \",\" \"]],\"texttemplate\":\"%{text}\",\"x\":[0,1,2,3,4,5,6,7],\"y\":[\"H\",\"G\",\"F\",\"E\",\"D\",\"C\",\"B\",\"A\"],\"z\":[[0.5,2.682209e-7,0.5,0.5,0.5,0.5,0.5,0.5],[0.5,0.5,0.0,0.0,0.0,0.5,0.5,1.0],[0.5,0.5,0.5,0.0,0.9734117,0.99996626,1.0,0.5],[0.5,0.5,1.0,0.9998909,0.5334653,0.13168365,0.5,0.5],[0.5,0.5,0.5,0.20585865,0.9976047,0.049128443,0.5,0.0],[0.5,0.5,3.2782555e-7,4.7683716e-7,0.59438103,0.28375724,0.000011116266,0.5],[0.5,0.5,0.5,0.5,0.0000030100346,0.0000047385693,0.5,0.99999964],[0.5,0.5,0.5,0.5,0.0,0.5,0.5,0.5]],\"zmax\":1.0,\"zmin\":0.0,\"type\":\"heatmap\",\"xaxis\":\"x4\",\"yaxis\":\"y4\"},{\"colorscale\":[[0.0,\"rgb(103,0,31)\"],[0.1,\"rgb(178,24,43)\"],[0.2,\"rgb(214,96,77)\"],[0.3,\"rgb(244,165,130)\"],[0.4,\"rgb(253,219,199)\"],[0.5,\"rgb(247,247,247)\"],[0.6,\"rgb(209,229,240)\"],[0.7,\"rgb(146,197,222)\"],[0.8,\"rgb(67,147,195)\"],[0.9,\"rgb(33,102,172)\"],[1.0,\"rgb(5,48,97)\"]],\"hoverongaps\":false,\"showscale\":false,\"text\":[[\" \",\" \",\" \",\" \",\" \",\" \",\" \",\" \"],[\" \",\" \",\" \",\" \",\" \",\" \",\" \",\" \"],[\" \",\" \",\" \",\" \",\"█\",\" \",\" \",\" \"],[\" \",\" \",\" \",\" \",\"█\",\" \",\" \",\" \"],[\" \",\" \",\" \",\" \",\"█\",\" \",\" \",\" \"],[\" \",\" \",\" \",\" \",\"█\",\" \",\" \",\" \"],[\" \",\" \",\" \",\" \",\"▓\",\" \",\" \",\" \"],[\" \",\" \",\" \",\" \",\" \",\" \",\" \",\" \"]],\"texttemplate\":\"%{text}\",\"x\":[0,1,2,3,4,5,6,7],\"y\":[\"H\",\"G\",\"F\",\"E\",\"D\",\"C\",\"B\",\"A\"],\"z\":[[0.49999997,0.000024676323,0.5,0.5,0.5,0.5,0.5,0.49999997],[0.5,0.5,0.000004172325,0.000009655952,0.000048041344,0.5,0.50000036,1.0],[0.5,0.49999997,0.5,2.0861626e-7,0.4374792,0.99532866,0.99996114,0.50048],[0.49999842,0.5,0.99596584,0.94403887,0.00010636449,0.30983037,0.5,0.5000001],[0.49999964,0.5,0.5000007,0.021009475,0.019849867,0.15027976,0.5,0.000012129545],[0.49999952,0.50000405,0.0047209263,0.039112926,0.0038885176,0.4842349,0.014210314,0.50000006],[0.5,0.5000002,0.5,0.49999925,0.000022411346,0.0064721704,0.50000286,0.98777795],[0.50000006,0.5000159,0.5000008,0.5,4.7683716e-7,0.50000805,0.500026,0.50000006]],\"zmax\":1.0,\"zmin\":0.0,\"type\":\"heatmap\",\"xaxis\":\"x5\",\"yaxis\":\"y5\"},{\"colorscale\":[[0.0,\"rgb(103,0,31)\"],[0.1,\"rgb(178,24,43)\"],[0.2,\"rgb(214,96,77)\"],[0.3,\"rgb(244,165,130)\"],[0.4,\"rgb(253,219,199)\"],[0.5,\"rgb(247,247,247)\"],[0.6,\"rgb(209,229,240)\"],[0.7,\"rgb(146,197,222)\"],[0.8,\"rgb(67,147,195)\"],[0.9,\"rgb(33,102,172)\"],[1.0,\"rgb(5,48,97)\"]],\"hoverongaps\":false,\"showscale\":false,\"text\":[[\" \",\" \",\" \",\" \",\" \",\" \",\" \",\" \"],[\" \",\" \",\" \",\" \",\" \",\" \",\" \",\" \"],[\" \",\" \",\" \",\" \",\"█\",\" \",\" \",\" \"],[\" \",\" \",\" \",\" \",\"█\",\" \",\" \",\" \"],[\" \",\" \",\" \",\" \",\"█\",\" \",\" \",\" \"],[\" \",\" \",\" \",\" \",\"█\",\" \",\" \",\" \"],[\" \",\" \",\" \",\" \",\" \",\" \",\" \",\" \"],[\" \",\" \",\" \",\" \",\" \",\" \",\" \",\" \"]],\"texttemplate\":\"%{text}\",\"x\":[0,1,2,3,4,5,6,7],\"y\":[\"H\",\"G\",\"F\",\"E\",\"D\",\"C\",\"B\",\"A\"],\"z\":[[0.5,0.000004053116,0.5,0.5,0.5,0.5,0.5,0.49999997],[0.5,0.5,8.940697e-8,1.1920929e-7,0.00006189942,0.5,0.5000017,1.0],[0.5,0.5,0.5,0.0,0.9855568,0.9999939,0.9999987,0.50001365],[0.5,0.5,0.9999993,0.99991393,0.0010577738,0.000102728605,0.5,0.5],[0.49999982,0.5,0.50000525,0.0018760562,0.91222167,5.9604645e-7,0.5,0.0000011622906],[0.4999999,0.49999976,0.000021517277,0.00002104044,0.005708337,0.009405613,0.000019907951,0.5],[0.5,0.5,0.5,0.5,2.9802322e-8,0.000022560358,0.5,0.9999206],[0.5,0.5,0.5,0.5,0.0,0.50000006,0.5000037,0.5]],\"zmax\":1.0,\"zmin\":0.0,\"type\":\"heatmap\",\"xaxis\":\"x6\",\"yaxis\":\"y6\"},{\"colorscale\":[[0.0,\"rgb(103,0,31)\"],[0.1,\"rgb(178,24,43)\"],[0.2,\"rgb(214,96,77)\"],[0.3,\"rgb(244,165,130)\"],[0.4,\"rgb(253,219,199)\"],[0.5,\"rgb(247,247,247)\"],[0.6,\"rgb(209,229,240)\"],[0.7,\"rgb(146,197,222)\"],[0.8,\"rgb(67,147,195)\"],[0.9,\"rgb(33,102,172)\"],[1.0,\"rgb(5,48,97)\"]],\"hoverongaps\":false,\"showscale\":false,\"text\":[[\" \",\" \",\" \",\" \",\" \",\" \",\" \",\" \"],[\" \",\" \",\" \",\" \",\" \",\" \",\" \",\" \"],[\" \",\" \",\" \",\" \",\"█\",\" \",\" \",\" \"],[\" \",\" \",\" \",\" \",\"█\",\" \",\" \",\" \"],[\" \",\" \",\" \",\" \",\"█\",\" \",\" \",\" \"],[\" \",\" \",\" \",\" \",\"█\",\" \",\" \",\" \"],[\" \",\" \",\" \",\" \",\" \",\" \",\" \",\" \"],[\" \",\" \",\" \",\" \",\" \",\" \",\" \",\" \"]],\"texttemplate\":\"%{text}\",\"x\":[0,1,2,3,4,5,6,7],\"y\":[\"H\",\"G\",\"F\",\"E\",\"D\",\"C\",\"B\",\"A\"],\"z\":[[0.49998605,0.00007581711,0.4999999,0.49999937,0.5,0.49999884,0.50000024,0.50000054],[0.49999896,0.5000015,0.0006376803,0.0007889271,0.000017046928,0.5000003,0.5000141,0.9999678],[0.500056,0.5000142,0.4999936,0.00006785989,0.0062624216,0.9976175,0.99992526,0.50001544],[0.49999687,0.5002313,0.9999774,0.99142694,0.000014334917,0.6446881,0.5000159,0.5],[0.49988526,0.5000094,0.5002927,0.07262102,0.0021401644,0.014652073,0.50000215,0.000086694956],[0.49999255,0.49996832,0.0022531152,0.06413028,0.00010192394,0.01889807,0.03688571,0.50000054],[0.49998847,0.49999744,0.49998114,0.49999434,5.066395e-7,0.0021650791,0.49998343,0.99876297],[0.4999868,0.49997497,0.49999905,0.49999893,0.0000015497208,0.4999959,0.4997982,0.4999565]],\"zmax\":1.0,\"zmin\":0.0,\"type\":\"heatmap\",\"xaxis\":\"x7\",\"yaxis\":\"y7\"},{\"colorscale\":[[0.0,\"rgb(103,0,31)\"],[0.1,\"rgb(178,24,43)\"],[0.2,\"rgb(214,96,77)\"],[0.3,\"rgb(244,165,130)\"],[0.4,\"rgb(253,219,199)\"],[0.5,\"rgb(247,247,247)\"],[0.6,\"rgb(209,229,240)\"],[0.7,\"rgb(146,197,222)\"],[0.8,\"rgb(67,147,195)\"],[0.9,\"rgb(33,102,172)\"],[1.0,\"rgb(5,48,97)\"]],\"hoverongaps\":false,\"showscale\":false,\"text\":[[\" \",\" \",\" \",\" \",\" \",\" \",\" \",\" \"],[\" \",\" \",\" \",\" \",\" \",\" \",\" \",\" \"],[\" \",\" \",\" \",\" \",\"█\",\" \",\" \",\" \"],[\" \",\" \",\" \",\" \",\"█\",\" \",\" \",\" \"],[\" \",\" \",\" \",\" \",\"█\",\" \",\" \",\" \"],[\" \",\" \",\" \",\" \",\"█\",\" \",\" \",\" \"],[\" \",\" \",\" \",\" \",\" \",\" \",\" \",\" \"],[\" \",\" \",\" \",\" \",\" \",\" \",\" \",\" \"]],\"texttemplate\":\"%{text}\",\"x\":[0,1,2,3,4,5,6,7],\"y\":[\"H\",\"G\",\"F\",\"E\",\"D\",\"C\",\"B\",\"A\"],\"z\":[[0.49999627,0.000007212162,0.49999994,0.49999964,0.5,0.49999595,0.5000001,0.5000003],[0.49999988,0.50000083,0.000020444393,0.000289917,0.00014466047,0.5000001,0.50000006,0.99999124],[0.5000171,0.50000834,0.49998677,0.0000052452087,0.61029583,0.99976206,0.99999875,0.5000008],[0.4999991,0.5000213,0.9999951,0.999941,0.7758121,0.000025838614,0.500003,0.5],[0.49997,0.5000033,0.4999908,0.022879303,0.052674234,0.009533644,0.50000054,0.0001334548],[0.49999833,0.49987277,0.0001192987,0.00024861097,0.0008443594,0.37488502,0.6693725,0.5000002],[0.49999443,0.49999908,0.49997953,0.49998823,0.0,0.0027727783,0.49999616,0.99977887],[0.49999833,0.4999935,0.5000002,0.49999943,0.000004887581,0.49999785,0.49995625,0.4999962]],\"zmax\":1.0,\"zmin\":0.0,\"type\":\"heatmap\",\"xaxis\":\"x8\",\"yaxis\":\"y8\"},{\"colorscale\":[[0.0,\"rgb(103,0,31)\"],[0.1,\"rgb(178,24,43)\"],[0.2,\"rgb(214,96,77)\"],[0.3,\"rgb(244,165,130)\"],[0.4,\"rgb(253,219,199)\"],[0.5,\"rgb(247,247,247)\"],[0.6,\"rgb(209,229,240)\"],[0.7,\"rgb(146,197,222)\"],[0.8,\"rgb(67,147,195)\"],[0.9,\"rgb(33,102,172)\"],[1.0,\"rgb(5,48,97)\"]],\"hoverongaps\":false,\"showscale\":false,\"text\":[[\" \",\" \",\" \",\" \",\" \",\" \",\" \",\" \"],[\" \",\" \",\" \",\" \",\" \",\" \",\" \",\" \"],[\" \",\" \",\" \",\" \",\"█\",\" \",\" \",\" \"],[\" \",\" \",\" \",\" \",\"█\",\" \",\" \",\" \"],[\" \",\" \",\" \",\" \",\"█\",\" \",\" \",\" \"],[\" \",\" \",\" \",\" \",\"█\",\" \",\" \",\" \"],[\" \",\" \",\" \",\" \",\" \",\" \",\" \",\" \"],[\" \",\" \",\" \",\" \",\" \",\" \",\" \",\" \"]],\"texttemplate\":\"%{text}\",\"x\":[0,1,2,3,4,5,6,7],\"y\":[\"H\",\"G\",\"F\",\"E\",\"D\",\"C\",\"B\",\"A\"],\"z\":[[0.49999732,0.000036418438,0.4999991,0.49997774,0.49999678,0.49998555,0.4999998,0.5000163],[0.49999592,0.50000066,0.0063949525,0.004039377,0.0013052225,0.49999434,0.5000074,0.9993354],[0.5000182,0.50003266,0.5000391,0.0009287894,0.0019413829,0.9829246,0.9990014,0.50000143],[0.49999133,0.500044,0.9995346,0.9828918,0.013956606,0.0101745725,0.5000127,0.49999946],[0.49999467,0.50004184,0.5000066,0.07267633,0.0014580488,0.02949369,0.5000005,0.00031664968],[0.49999562,0.49995375,0.03468305,0.0141966045,0.0033473969,0.1535514,0.1203661,0.4999928],[0.49999836,0.5000136,0.5000254,0.5000299,0.00029301643,0.052090704,0.50000334,0.9901744],[0.499999,0.500001,0.5000053,0.49999976,0.000016331673,0.49999776,0.49999812,0.49996504]],\"zmax\":1.0,\"zmin\":0.0,\"type\":\"heatmap\",\"xaxis\":\"x9\",\"yaxis\":\"y9\"},{\"colorscale\":[[0.0,\"rgb(103,0,31)\"],[0.1,\"rgb(178,24,43)\"],[0.2,\"rgb(214,96,77)\"],[0.3,\"rgb(244,165,130)\"],[0.4,\"rgb(253,219,199)\"],[0.5,\"rgb(247,247,247)\"],[0.6,\"rgb(209,229,240)\"],[0.7,\"rgb(146,197,222)\"],[0.8,\"rgb(67,147,195)\"],[0.9,\"rgb(33,102,172)\"],[1.0,\"rgb(5,48,97)\"]],\"hoverongaps\":false,\"showscale\":false,\"text\":[[\" \",\" \",\" \",\" \",\" \",\" \",\" \",\" \"],[\" \",\" \",\" \",\" \",\" \",\" \",\" \",\" \"],[\" \",\" \",\" \",\" \",\"█\",\" \",\" \",\" \"],[\" \",\" \",\" \",\" \",\"█\",\" \",\" \",\" \"],[\" \",\" \",\" \",\" \",\"█\",\" \",\" \",\" \"],[\" \",\" \",\" \",\" \",\"█\",\" \",\" \",\" \"],[\" \",\" \",\" \",\" \",\" \",\" \",\" \",\" \"],[\" \",\" \",\" \",\" \",\" \",\" \",\" \",\" \"]],\"texttemplate\":\"%{text}\",\"x\":[0,1,2,3,4,5,6,7],\"y\":[\"H\",\"G\",\"F\",\"E\",\"D\",\"C\",\"B\",\"A\"],\"z\":[[0.49999845,0.000072449446,0.49999848,0.49999067,0.49999774,0.4999834,0.49999994,0.50000334],[0.49999502,0.5000007,0.0019762218,0.000040471554,0.00044491887,0.49999788,0.500002,0.99985945],[0.5000118,0.50000226,0.49999055,0.000042051077,0.020165741,0.9996799,0.99980235,0.50000364],[0.49999538,0.50001246,0.9999186,0.99954444,0.16256452,0.00028514862,0.5000225,0.49999943],[0.49999407,0.49999732,0.4999798,0.000021666288,0.014026493,0.0023465753,0.49999973,0.00017440319],[0.4999897,0.4999653,0.0010540485,0.00038811564,0.07374111,0.00052794814,0.9982079,0.4999939],[0.49999872,0.5000033,0.5000109,0.5000044,0.000018924475,0.00040489435,0.5000016,0.998899],[0.49999937,0.49999973,0.50000304,0.49999964,0.000023394823,0.49999496,0.49999866,0.49987522]],\"zmax\":1.0,\"zmin\":0.0,\"type\":\"heatmap\",\"xaxis\":\"x10\",\"yaxis\":\"y10\"},{\"colorscale\":[[0.0,\"rgb(103,0,31)\"],[0.1,\"rgb(178,24,43)\"],[0.2,\"rgb(214,96,77)\"],[0.3,\"rgb(244,165,130)\"],[0.4,\"rgb(253,219,199)\"],[0.5,\"rgb(247,247,247)\"],[0.6,\"rgb(209,229,240)\"],[0.7,\"rgb(146,197,222)\"],[0.8,\"rgb(67,147,195)\"],[0.9,\"rgb(33,102,172)\"],[1.0,\"rgb(5,48,97)\"]],\"hoverongaps\":false,\"showscale\":false,\"text\":[[\" \",\" \",\" \",\" \",\" \",\" \",\" \",\" \"],[\" \",\" \",\" \",\" \",\"░\",\" \",\" \",\" \"],[\" \",\" \",\" \",\" \",\"█\",\" \",\" \",\" \"],[\" \",\" \",\" \",\" \",\"█\",\" \",\" \",\" \"],[\" \",\" \",\" \",\" \",\"█\",\" \",\" \",\" \"],[\" \",\" \",\" \",\" \",\"█\",\" \",\" \",\" \"],[\" \",\" \",\" \",\" \",\" \",\" \",\" \",\" \"],[\" \",\" \",\" \",\" \",\" \",\" \",\" \",\" \"]],\"texttemplate\":\"%{text}\",\"x\":[0,1,2,3,4,5,6,7],\"y\":[\"H\",\"G\",\"F\",\"E\",\"D\",\"C\",\"B\",\"A\"],\"z\":[[0.49999937,0.000012695789,0.5,0.49999744,0.5,0.5,0.49999994,0.5],[0.49999988,0.49999538,0.0007324815,0.0046100616,0.00006878376,0.50000036,0.5,0.9997953],[0.49999946,0.50000066,0.5000021,0.0032489896,0.00040611625,0.99938715,0.99979633,0.50000054],[0.49999776,0.50000525,0.99953854,0.99870694,0.0057716668,0.0029981732,0.5000004,0.50000036],[0.49999854,0.5000003,0.5000006,0.093511045,0.00030452013,0.020383269,0.5,0.00072035193],[0.49999967,0.49999982,0.018911839,0.051210314,0.0004401803,0.056753814,0.9947123,0.49999985],[0.49998805,0.5,0.50000024,0.5000002,0.00015541911,0.0035423934,0.49999988,0.99979013],[0.500001,0.5,0.50000024,0.49999988,0.00024706125,0.4999945,0.5,0.49999487]],\"zmax\":1.0,\"zmin\":0.0,\"type\":\"heatmap\",\"xaxis\":\"x11\",\"yaxis\":\"y11\"},{\"colorscale\":[[0.0,\"rgb(103,0,31)\"],[0.1,\"rgb(178,24,43)\"],[0.2,\"rgb(214,96,77)\"],[0.3,\"rgb(244,165,130)\"],[0.4,\"rgb(253,219,199)\"],[0.5,\"rgb(247,247,247)\"],[0.6,\"rgb(209,229,240)\"],[0.7,\"rgb(146,197,222)\"],[0.8,\"rgb(67,147,195)\"],[0.9,\"rgb(33,102,172)\"],[1.0,\"rgb(5,48,97)\"]],\"hoverongaps\":false,\"showscale\":false,\"text\":[[\" \",\" \",\" \",\" \",\" \",\" \",\" \",\" \"],[\" \",\" \",\" \",\" \",\" \",\" \",\" \",\" \"],[\" \",\" \",\" \",\" \",\"█\",\" \",\" \",\" \"],[\" \",\" \",\" \",\" \",\"█\",\" \",\" \",\" \"],[\" \",\" \",\" \",\" \",\"█\",\" \",\" \",\" \"],[\" \",\" \",\" \",\" \",\"█\",\" \",\" \",\" \"],[\" \",\" \",\" \",\" \",\" \",\" \",\" \",\" \"],[\" \",\" \",\" \",\" \",\" \",\" \",\" \",\" \"]],\"texttemplate\":\"%{text}\",\"x\":[0,1,2,3,4,5,6,7],\"y\":[\"H\",\"G\",\"F\",\"E\",\"D\",\"C\",\"B\",\"A\"],\"z\":[[0.49999925,0.000044196844,0.5,0.4999988,0.5,0.5,0.49999997,0.5],[0.50000006,0.49999335,0.00006580353,0.00033962727,0.0000577271,0.5000001,0.5,0.99955404],[0.50000393,0.50000066,0.5000042,0.00037193298,0.007691622,0.99971116,0.9999622,0.50000006],[0.4999993,0.50000423,0.9998754,0.99989337,0.002480477,0.00026276708,0.5000007,0.50000024],[0.49999577,0.50000024,0.5000001,0.0127905905,0.005083859,0.00062838197,0.5,0.00028648973],[0.49999967,0.4999993,0.0021492243,0.003962755,0.021499336,0.00019735098,0.99955595,0.49999997],[0.49989757,0.5,0.5000001,0.5000001,0.000008404255,0.00007456541,0.4999999,0.9990449],[0.500001,0.5,0.50000006,0.49999994,0.0004864335,0.4999988,0.5,0.49998692]],\"zmax\":1.0,\"zmin\":0.0,\"type\":\"heatmap\",\"xaxis\":\"x12\",\"yaxis\":\"y12\"},{\"colorscale\":[[0.0,\"rgb(103,0,31)\"],[0.1,\"rgb(178,24,43)\"],[0.2,\"rgb(214,96,77)\"],[0.3,\"rgb(244,165,130)\"],[0.4,\"rgb(253,219,199)\"],[0.5,\"rgb(247,247,247)\"],[0.6,\"rgb(209,229,240)\"],[0.7,\"rgb(146,197,222)\"],[0.8,\"rgb(67,147,195)\"],[0.9,\"rgb(33,102,172)\"],[1.0,\"rgb(5,48,97)\"]],\"hoverongaps\":false,\"showscale\":false,\"text\":[[\" \",\" \",\" \",\" \",\" \",\" \",\" \",\" \"],[\" \",\" \",\" \",\"▒\",\" \",\" \",\" \",\" \"],[\" \",\" \",\" \",\" \",\"█\",\" \",\" \",\" \"],[\" \",\" \",\" \",\" \",\"█\",\" \",\" \",\" \"],[\" \",\" \",\" \",\" \",\"█\",\" \",\" \",\" \"],[\" \",\" \",\" \",\" \",\"█\",\" \",\" \",\" \"],[\" \",\" \",\" \",\" \",\" \",\" \",\" \",\" \"],[\" \",\" \",\" \",\" \",\" \",\" \",\" \",\" \"]],\"texttemplate\":\"%{text}\",\"x\":[0,1,2,3,4,5,6,7],\"y\":[\"H\",\"G\",\"F\",\"E\",\"D\",\"C\",\"B\",\"A\"],\"z\":[[0.49999848,0.0000055730343,0.5,0.49999902,0.5,0.5,0.49999496,0.5000003],[0.4999996,0.5000006,0.00056245923,0.0033534765,0.00087457895,0.5,0.5,0.9999689],[0.49998572,0.5,0.5000053,0.00022095442,0.002344817,0.9999964,0.9997541,0.50000584],[0.5,0.5,0.99999094,0.99995655,0.005469084,0.00090548396,0.5,0.50000006],[0.49999827,0.5,0.5,0.01243332,0.000043600798,0.006504327,0.5,0.008456618],[0.49999827,0.5,0.00042411685,0.0014484227,0.00013291836,0.0019446611,0.998836,0.5],[0.4999814,0.5,0.5,0.5,0.038671136,0.010947555,0.5,0.9999686],[0.499654,0.49998805,0.49999908,0.49999997,0.00019130111,0.49996135,0.5,0.4978031]],\"zmax\":1.0,\"zmin\":0.0,\"type\":\"heatmap\",\"xaxis\":\"x13\",\"yaxis\":\"y13\"},{\"colorscale\":[[0.0,\"rgb(103,0,31)\"],[0.1,\"rgb(178,24,43)\"],[0.2,\"rgb(214,96,77)\"],[0.3,\"rgb(244,165,130)\"],[0.4,\"rgb(253,219,199)\"],[0.5,\"rgb(247,247,247)\"],[0.6,\"rgb(209,229,240)\"],[0.7,\"rgb(146,197,222)\"],[0.8,\"rgb(67,147,195)\"],[0.9,\"rgb(33,102,172)\"],[1.0,\"rgb(5,48,97)\"]],\"hoverongaps\":false,\"showscale\":false,\"text\":[[\" \",\" \",\" \",\" \",\" \",\" \",\" \",\" \"],[\" \",\" \",\" \",\"░\",\" \",\" \",\" \",\" \"],[\" \",\" \",\" \",\" \",\"█\",\" \",\" \",\" \"],[\" \",\" \",\" \",\" \",\"█\",\" \",\" \",\" \"],[\" \",\" \",\" \",\" \",\"█\",\" \",\" \",\" \"],[\" \",\" \",\" \",\" \",\"█\",\" \",\" \",\" \"],[\" \",\" \",\" \",\" \",\" \",\" \",\" \",\" \"],[\" \",\" \",\" \",\" \",\" \",\" \",\" \",\" \"]],\"texttemplate\":\"%{text}\",\"x\":[0,1,2,3,4,5,6,7],\"y\":[\"H\",\"G\",\"F\",\"E\",\"D\",\"C\",\"B\",\"A\"],\"z\":[[0.4999992,0.000008791685,0.5,0.4999987,0.5,0.5,0.49999797,0.5000003],[0.4999997,0.5000002,0.0006952286,0.0021246672,0.00083461404,0.5,0.5,0.9999214],[0.49999312,0.5,0.5000052,0.00017154217,0.00291422,0.9999964,0.99990803,0.500006],[0.5,0.5,0.999991,0.99998546,0.005544454,0.00026401877,0.5,0.5],[0.49999413,0.5,0.5,0.0053750873,0.0003168285,0.0011252463,0.5,0.007884473],[0.4999987,0.5,0.00032532215,0.00029805303,0.00008234382,0.00015425682,0.9999269,0.5],[0.49998719,0.5,0.5,0.5,0.0018236637,0.0059121847,0.5,0.99990773],[0.49985892,0.49998942,0.49999866,0.49999997,0.0003398955,0.49995664,0.5,0.4985009]],\"zmax\":1.0,\"zmin\":0.0,\"type\":\"heatmap\",\"xaxis\":\"x14\",\"yaxis\":\"y14\"}],                        {\"template\":{\"data\":{\"histogram2dcontour\":[{\"type\":\"histogram2dcontour\",\"colorbar\":{\"outlinewidth\":0,\"ticks\":\"\"},\"colorscale\":[[0.0,\"#0d0887\"],[0.1111111111111111,\"#46039f\"],[0.2222222222222222,\"#7201a8\"],[0.3333333333333333,\"#9c179e\"],[0.4444444444444444,\"#bd3786\"],[0.5555555555555556,\"#d8576b\"],[0.6666666666666666,\"#ed7953\"],[0.7777777777777778,\"#fb9f3a\"],[0.8888888888888888,\"#fdca26\"],[1.0,\"#f0f921\"]]}],\"choropleth\":[{\"type\":\"choropleth\",\"colorbar\":{\"outlinewidth\":0,\"ticks\":\"\"}}],\"histogram2d\":[{\"type\":\"histogram2d\",\"colorbar\":{\"outlinewidth\":0,\"ticks\":\"\"},\"colorscale\":[[0.0,\"#0d0887\"],[0.1111111111111111,\"#46039f\"],[0.2222222222222222,\"#7201a8\"],[0.3333333333333333,\"#9c179e\"],[0.4444444444444444,\"#bd3786\"],[0.5555555555555556,\"#d8576b\"],[0.6666666666666666,\"#ed7953\"],[0.7777777777777778,\"#fb9f3a\"],[0.8888888888888888,\"#fdca26\"],[1.0,\"#f0f921\"]]}],\"heatmap\":[{\"type\":\"heatmap\",\"colorbar\":{\"outlinewidth\":0,\"ticks\":\"\"},\"colorscale\":[[0.0,\"#0d0887\"],[0.1111111111111111,\"#46039f\"],[0.2222222222222222,\"#7201a8\"],[0.3333333333333333,\"#9c179e\"],[0.4444444444444444,\"#bd3786\"],[0.5555555555555556,\"#d8576b\"],[0.6666666666666666,\"#ed7953\"],[0.7777777777777778,\"#fb9f3a\"],[0.8888888888888888,\"#fdca26\"],[1.0,\"#f0f921\"]]}],\"heatmapgl\":[{\"type\":\"heatmapgl\",\"colorbar\":{\"outlinewidth\":0,\"ticks\":\"\"},\"colorscale\":[[0.0,\"#0d0887\"],[0.1111111111111111,\"#46039f\"],[0.2222222222222222,\"#7201a8\"],[0.3333333333333333,\"#9c179e\"],[0.4444444444444444,\"#bd3786\"],[0.5555555555555556,\"#d8576b\"],[0.6666666666666666,\"#ed7953\"],[0.7777777777777778,\"#fb9f3a\"],[0.8888888888888888,\"#fdca26\"],[1.0,\"#f0f921\"]]}],\"contourcarpet\":[{\"type\":\"contourcarpet\",\"colorbar\":{\"outlinewidth\":0,\"ticks\":\"\"}}],\"contour\":[{\"type\":\"contour\",\"colorbar\":{\"outlinewidth\":0,\"ticks\":\"\"},\"colorscale\":[[0.0,\"#0d0887\"],[0.1111111111111111,\"#46039f\"],[0.2222222222222222,\"#7201a8\"],[0.3333333333333333,\"#9c179e\"],[0.4444444444444444,\"#bd3786\"],[0.5555555555555556,\"#d8576b\"],[0.6666666666666666,\"#ed7953\"],[0.7777777777777778,\"#fb9f3a\"],[0.8888888888888888,\"#fdca26\"],[1.0,\"#f0f921\"]]}],\"surface\":[{\"type\":\"surface\",\"colorbar\":{\"outlinewidth\":0,\"ticks\":\"\"},\"colorscale\":[[0.0,\"#0d0887\"],[0.1111111111111111,\"#46039f\"],[0.2222222222222222,\"#7201a8\"],[0.3333333333333333,\"#9c179e\"],[0.4444444444444444,\"#bd3786\"],[0.5555555555555556,\"#d8576b\"],[0.6666666666666666,\"#ed7953\"],[0.7777777777777778,\"#fb9f3a\"],[0.8888888888888888,\"#fdca26\"],[1.0,\"#f0f921\"]]}],\"mesh3d\":[{\"type\":\"mesh3d\",\"colorbar\":{\"outlinewidth\":0,\"ticks\":\"\"}}],\"scatter\":[{\"fillpattern\":{\"fillmode\":\"overlay\",\"size\":10,\"solidity\":0.2},\"type\":\"scatter\"}],\"parcoords\":[{\"type\":\"parcoords\",\"line\":{\"colorbar\":{\"outlinewidth\":0,\"ticks\":\"\"}}}],\"scatterpolargl\":[{\"type\":\"scatterpolargl\",\"marker\":{\"colorbar\":{\"outlinewidth\":0,\"ticks\":\"\"}}}],\"bar\":[{\"error_x\":{\"color\":\"#2a3f5f\"},\"error_y\":{\"color\":\"#2a3f5f\"},\"marker\":{\"line\":{\"color\":\"#E5ECF6\",\"width\":0.5},\"pattern\":{\"fillmode\":\"overlay\",\"size\":10,\"solidity\":0.2}},\"type\":\"bar\"}],\"scattergeo\":[{\"type\":\"scattergeo\",\"marker\":{\"colorbar\":{\"outlinewidth\":0,\"ticks\":\"\"}}}],\"scatterpolar\":[{\"type\":\"scatterpolar\",\"marker\":{\"colorbar\":{\"outlinewidth\":0,\"ticks\":\"\"}}}],\"histogram\":[{\"marker\":{\"pattern\":{\"fillmode\":\"overlay\",\"size\":10,\"solidity\":0.2}},\"type\":\"histogram\"}],\"scattergl\":[{\"type\":\"scattergl\",\"marker\":{\"colorbar\":{\"outlinewidth\":0,\"ticks\":\"\"}}}],\"scatter3d\":[{\"type\":\"scatter3d\",\"line\":{\"colorbar\":{\"outlinewidth\":0,\"ticks\":\"\"}},\"marker\":{\"colorbar\":{\"outlinewidth\":0,\"ticks\":\"\"}}}],\"scattermapbox\":[{\"type\":\"scattermapbox\",\"marker\":{\"colorbar\":{\"outlinewidth\":0,\"ticks\":\"\"}}}],\"scatterternary\":[{\"type\":\"scatterternary\",\"marker\":{\"colorbar\":{\"outlinewidth\":0,\"ticks\":\"\"}}}],\"scattercarpet\":[{\"type\":\"scattercarpet\",\"marker\":{\"colorbar\":{\"outlinewidth\":0,\"ticks\":\"\"}}}],\"carpet\":[{\"aaxis\":{\"endlinecolor\":\"#2a3f5f\",\"gridcolor\":\"white\",\"linecolor\":\"white\",\"minorgridcolor\":\"white\",\"startlinecolor\":\"#2a3f5f\"},\"baxis\":{\"endlinecolor\":\"#2a3f5f\",\"gridcolor\":\"white\",\"linecolor\":\"white\",\"minorgridcolor\":\"white\",\"startlinecolor\":\"#2a3f5f\"},\"type\":\"carpet\"}],\"table\":[{\"cells\":{\"fill\":{\"color\":\"#EBF0F8\"},\"line\":{\"color\":\"white\"}},\"header\":{\"fill\":{\"color\":\"#C8D4E3\"},\"line\":{\"color\":\"white\"}},\"type\":\"table\"}],\"barpolar\":[{\"marker\":{\"line\":{\"color\":\"#E5ECF6\",\"width\":0.5},\"pattern\":{\"fillmode\":\"overlay\",\"size\":10,\"solidity\":0.2}},\"type\":\"barpolar\"}],\"pie\":[{\"automargin\":true,\"type\":\"pie\"}]},\"layout\":{\"autotypenumbers\":\"strict\",\"colorway\":[\"#636efa\",\"#EF553B\",\"#00cc96\",\"#ab63fa\",\"#FFA15A\",\"#19d3f3\",\"#FF6692\",\"#B6E880\",\"#FF97FF\",\"#FECB52\"],\"font\":{\"color\":\"#2a3f5f\"},\"hovermode\":\"closest\",\"hoverlabel\":{\"align\":\"left\"},\"paper_bgcolor\":\"white\",\"plot_bgcolor\":\"#E5ECF6\",\"polar\":{\"bgcolor\":\"#E5ECF6\",\"angularaxis\":{\"gridcolor\":\"white\",\"linecolor\":\"white\",\"ticks\":\"\"},\"radialaxis\":{\"gridcolor\":\"white\",\"linecolor\":\"white\",\"ticks\":\"\"}},\"ternary\":{\"bgcolor\":\"#E5ECF6\",\"aaxis\":{\"gridcolor\":\"white\",\"linecolor\":\"white\",\"ticks\":\"\"},\"baxis\":{\"gridcolor\":\"white\",\"linecolor\":\"white\",\"ticks\":\"\"},\"caxis\":{\"gridcolor\":\"white\",\"linecolor\":\"white\",\"ticks\":\"\"}},\"coloraxis\":{\"colorbar\":{\"outlinewidth\":0,\"ticks\":\"\"}},\"colorscale\":{\"sequential\":[[0.0,\"#0d0887\"],[0.1111111111111111,\"#46039f\"],[0.2222222222222222,\"#7201a8\"],[0.3333333333333333,\"#9c179e\"],[0.4444444444444444,\"#bd3786\"],[0.5555555555555556,\"#d8576b\"],[0.6666666666666666,\"#ed7953\"],[0.7777777777777778,\"#fb9f3a\"],[0.8888888888888888,\"#fdca26\"],[1.0,\"#f0f921\"]],\"sequentialminus\":[[0.0,\"#0d0887\"],[0.1111111111111111,\"#46039f\"],[0.2222222222222222,\"#7201a8\"],[0.3333333333333333,\"#9c179e\"],[0.4444444444444444,\"#bd3786\"],[0.5555555555555556,\"#d8576b\"],[0.6666666666666666,\"#ed7953\"],[0.7777777777777778,\"#fb9f3a\"],[0.8888888888888888,\"#fdca26\"],[1.0,\"#f0f921\"]],\"diverging\":[[0,\"#8e0152\"],[0.1,\"#c51b7d\"],[0.2,\"#de77ae\"],[0.3,\"#f1b6da\"],[0.4,\"#fde0ef\"],[0.5,\"#f7f7f7\"],[0.6,\"#e6f5d0\"],[0.7,\"#b8e186\"],[0.8,\"#7fbc41\"],[0.9,\"#4d9221\"],[1,\"#276419\"]]},\"xaxis\":{\"gridcolor\":\"white\",\"linecolor\":\"white\",\"ticks\":\"\",\"title\":{\"standoff\":15},\"zerolinecolor\":\"white\",\"automargin\":true,\"zerolinewidth\":2},\"yaxis\":{\"gridcolor\":\"white\",\"linecolor\":\"white\",\"ticks\":\"\",\"title\":{\"standoff\":15},\"zerolinecolor\":\"white\",\"automargin\":true,\"zerolinewidth\":2},\"scene\":{\"xaxis\":{\"backgroundcolor\":\"#E5ECF6\",\"gridcolor\":\"white\",\"linecolor\":\"white\",\"showbackground\":true,\"ticks\":\"\",\"zerolinecolor\":\"white\",\"gridwidth\":2},\"yaxis\":{\"backgroundcolor\":\"#E5ECF6\",\"gridcolor\":\"white\",\"linecolor\":\"white\",\"showbackground\":true,\"ticks\":\"\",\"zerolinecolor\":\"white\",\"gridwidth\":2},\"zaxis\":{\"backgroundcolor\":\"#E5ECF6\",\"gridcolor\":\"white\",\"linecolor\":\"white\",\"showbackground\":true,\"ticks\":\"\",\"zerolinecolor\":\"white\",\"gridwidth\":2}},\"shapedefaults\":{\"line\":{\"color\":\"#2a3f5f\"}},\"annotationdefaults\":{\"arrowcolor\":\"#2a3f5f\",\"arrowhead\":0,\"arrowwidth\":1},\"geo\":{\"bgcolor\":\"white\",\"landcolor\":\"#E5ECF6\",\"subunitcolor\":\"white\",\"showland\":true,\"showlakes\":true,\"lakecolor\":\"white\"},\"title\":{\"x\":0.05},\"mapbox\":{\"style\":\"light\"}}},\"xaxis\":{\"anchor\":\"y\",\"domain\":[0.0,0.062142857142857146]},\"yaxis\":{\"anchor\":\"x\",\"domain\":[0.0,1.0]},\"xaxis2\":{\"anchor\":\"y2\",\"domain\":[0.07214285714285715,0.13428571428571429]},\"yaxis2\":{\"anchor\":\"x2\",\"domain\":[0.0,1.0]},\"xaxis3\":{\"anchor\":\"y3\",\"domain\":[0.1442857142857143,0.20642857142857143]},\"yaxis3\":{\"anchor\":\"x3\",\"domain\":[0.0,1.0]},\"xaxis4\":{\"anchor\":\"y4\",\"domain\":[0.21642857142857144,0.2785714285714286]},\"yaxis4\":{\"anchor\":\"x4\",\"domain\":[0.0,1.0]},\"xaxis5\":{\"anchor\":\"y5\",\"domain\":[0.2885714285714286,0.35071428571428576]},\"yaxis5\":{\"anchor\":\"x5\",\"domain\":[0.0,1.0]},\"xaxis6\":{\"anchor\":\"y6\",\"domain\":[0.3607142857142857,0.4228571428571429]},\"yaxis6\":{\"anchor\":\"x6\",\"domain\":[0.0,1.0]},\"xaxis7\":{\"anchor\":\"y7\",\"domain\":[0.4328571428571429,0.49500000000000005]},\"yaxis7\":{\"anchor\":\"x7\",\"domain\":[0.0,1.0]},\"xaxis8\":{\"anchor\":\"y8\",\"domain\":[0.5050000000000001,0.5671428571428573]},\"yaxis8\":{\"anchor\":\"x8\",\"domain\":[0.0,1.0]},\"xaxis9\":{\"anchor\":\"y9\",\"domain\":[0.5771428571428572,0.6392857142857143]},\"yaxis9\":{\"anchor\":\"x9\",\"domain\":[0.0,1.0]},\"xaxis10\":{\"anchor\":\"y10\",\"domain\":[0.6492857142857144,0.7114285714285715]},\"yaxis10\":{\"anchor\":\"x10\",\"domain\":[0.0,1.0]},\"xaxis11\":{\"anchor\":\"y11\",\"domain\":[0.7214285714285715,0.7835714285714287]},\"yaxis11\":{\"anchor\":\"x11\",\"domain\":[0.0,1.0]},\"xaxis12\":{\"anchor\":\"y12\",\"domain\":[0.7935714285714287,0.8557142857142859]},\"yaxis12\":{\"anchor\":\"x12\",\"domain\":[0.0,1.0]},\"xaxis13\":{\"anchor\":\"y13\",\"domain\":[0.8657142857142859,0.927857142857143]},\"yaxis13\":{\"anchor\":\"x13\",\"domain\":[0.0,1.0]},\"xaxis14\":{\"anchor\":\"y14\",\"domain\":[0.9378571428571431,1.0]},\"yaxis14\":{\"anchor\":\"x14\",\"domain\":[0.0,1.0]},\"annotations\":[{\"font\":{\"size\":16},\"showarrow\":false,\"text\":\"P: 21, T: G1, L: 0, Attn\",\"x\":0.031071428571428573,\"xanchor\":\"center\",\"xref\":\"paper\",\"y\":1.0,\"yanchor\":\"bottom\",\"yref\":\"paper\"},{\"font\":{\"size\":16},\"showarrow\":false,\"text\":\"P: 21, T: G1, L: 0, MLP\",\"x\":0.10321428571428572,\"xanchor\":\"center\",\"xref\":\"paper\",\"y\":1.0,\"yanchor\":\"bottom\",\"yref\":\"paper\"},{\"font\":{\"size\":16},\"showarrow\":false,\"text\":\"P: 21, T: G1, L: 1, Attn\",\"x\":0.17535714285714288,\"xanchor\":\"center\",\"xref\":\"paper\",\"y\":1.0,\"yanchor\":\"bottom\",\"yref\":\"paper\"},{\"font\":{\"size\":16},\"showarrow\":false,\"text\":\"P: 21, T: G1, L: 1, MLP\",\"x\":0.2475,\"xanchor\":\"center\",\"xref\":\"paper\",\"y\":1.0,\"yanchor\":\"bottom\",\"yref\":\"paper\"},{\"font\":{\"size\":16},\"showarrow\":false,\"text\":\"P: 21, T: G1, L: 2, Attn\",\"x\":0.3196428571428572,\"xanchor\":\"center\",\"xref\":\"paper\",\"y\":1.0,\"yanchor\":\"bottom\",\"yref\":\"paper\"},{\"font\":{\"size\":16},\"showarrow\":false,\"text\":\"P: 21, T: G1, L: 2, MLP\",\"x\":0.3917857142857143,\"xanchor\":\"center\",\"xref\":\"paper\",\"y\":1.0,\"yanchor\":\"bottom\",\"yref\":\"paper\"},{\"font\":{\"size\":16},\"showarrow\":false,\"text\":\"P: 21, T: G1, L: 3, Attn\",\"x\":0.46392857142857147,\"xanchor\":\"center\",\"xref\":\"paper\",\"y\":1.0,\"yanchor\":\"bottom\",\"yref\":\"paper\"},{\"font\":{\"size\":16},\"showarrow\":false,\"text\":\"P: 21, T: G1, L: 3, MLP\",\"x\":0.5360714285714288,\"xanchor\":\"center\",\"xref\":\"paper\",\"y\":1.0,\"yanchor\":\"bottom\",\"yref\":\"paper\"},{\"font\":{\"size\":16},\"showarrow\":false,\"text\":\"P: 21, T: G1, L: 4, Attn\",\"x\":0.6082142857142858,\"xanchor\":\"center\",\"xref\":\"paper\",\"y\":1.0,\"yanchor\":\"bottom\",\"yref\":\"paper\"},{\"font\":{\"size\":16},\"showarrow\":false,\"text\":\"P: 21, T: G1, L: 4, MLP\",\"x\":0.6803571428571429,\"xanchor\":\"center\",\"xref\":\"paper\",\"y\":1.0,\"yanchor\":\"bottom\",\"yref\":\"paper\"},{\"font\":{\"size\":16},\"showarrow\":false,\"text\":\"P: 21, T: G1, L: 5, Attn\",\"x\":0.7525000000000002,\"xanchor\":\"center\",\"xref\":\"paper\",\"y\":1.0,\"yanchor\":\"bottom\",\"yref\":\"paper\"},{\"font\":{\"size\":16},\"showarrow\":false,\"text\":\"P: 21, T: G1, L: 5, MLP\",\"x\":0.8246428571428572,\"xanchor\":\"center\",\"xref\":\"paper\",\"y\":1.0,\"yanchor\":\"bottom\",\"yref\":\"paper\"},{\"font\":{\"size\":16},\"showarrow\":false,\"text\":\"P: 21, T: G1, L: 6, Attn\",\"x\":0.8967857142857145,\"xanchor\":\"center\",\"xref\":\"paper\",\"y\":1.0,\"yanchor\":\"bottom\",\"yref\":\"paper\"},{\"font\":{\"size\":16},\"showarrow\":false,\"text\":\"P: 21, T: G1, L: 6, MLP\",\"x\":0.9689285714285716,\"xanchor\":\"center\",\"xref\":\"paper\",\"y\":1.0,\"yanchor\":\"bottom\",\"yref\":\"paper\"}],\"margin\":{\"t\":100,\"l\":100},\"title\":{\"text\":\"Probe Results per Position per Layer\"},\"width\":3213.0,\"height\":325},                        {\"responsive\": true}                    ).then(function(){\n",
       "                            \n",
       "var gd = document.getElementById('f05ac553-5ee4-454f-8ef7-7816e9f9d216');\n",
       "var x = new MutationObserver(function (mutations, observer) {{\n",
       "        var display = window.getComputedStyle(gd).display;\n",
       "        if (!display || display === 'none') {{\n",
       "            console.log([gd, 'removed!']);\n",
       "            Plotly.purge(gd);\n",
       "            observer.disconnect();\n",
       "        }}\n",
       "}});\n",
       "\n",
       "// Listen for the removal of the full notebook cells\n",
       "var notebookContainer = gd.closest('#notebook-container');\n",
       "if (notebookContainer) {{\n",
       "    x.observe(notebookContainer, {childList: true});\n",
       "}}\n",
       "\n",
       "// Listen for the clearing of the current output cell\n",
       "var outputEl = gd.closest('.output');\n",
       "if (outputEl) {{\n",
       "    x.observe(outputEl, {childList: true});\n",
       "}}\n",
       "\n",
       "                        })                };                });            </script>        </div>"
      ]
     },
     "metadata": {},
     "output_type": "display_data"
    }
   ],
   "source": [
    "# game = 0\n",
    "vis_args = VisualzeBoardArguments()\n",
    "pos = 21\n",
    "vis_args.start_pos = pos-0\n",
    "vis_args.end_pos = pos+1\n",
    "vis_args.layer_start = 0\n",
    "vis_args.layers = 7\n",
    "# vis_args.static_image = True\n",
    "vis_args.include_resid_post = False\n",
    "vis_args.include_layer_norm = True\n",
    "vis_args.horizontal_spacing = 0.01\n",
    "# vis_args.static_image = True\n",
    "\n",
    "visualize_game(board_seqs_int[0], vis_args, None, cache_ablated)\n",
    "visualize_game(board_seqs_int[0], vis_args, None, cache)"
   ]
  },
  {
   "cell_type": "markdown",
   "metadata": {},
   "source": [
    "## Direct Logit Attribution\n",
    "- Let's take game 0 position 9 where B3 is a legal move and see how the ablated model computes this ...\n",
    "- First wee see the ablated model does give lower logits (7 rather then 10) and for the non-legal B2 it gives (2.6 rather then -0.1) So it's more indecicive"
   ]
  },
  {
   "cell_type": "code",
   "execution_count": 17,
   "metadata": {},
   "outputs": [],
   "source": [
    "label = \"B6\"\n",
    "tile_int = to_int(label)\n",
    "pos = 10"
   ]
  },
  {
   "cell_type": "code",
   "execution_count": 18,
   "metadata": {},
   "outputs": [
    {
     "name": "stdout",
     "output_type": "stream",
     "text": [
      "Score for B3: tensor(9.4986, device='cuda:0', grad_fn=<SelectBackward0>) tensor(8.5900, device='cuda:0', grad_fn=<SelectBackward0>)\n",
      "Score for B2: tensor(0.9015, device='cuda:0', grad_fn=<SelectBackward0>) tensor(-1.2559, device='cuda:0', grad_fn=<SelectBackward0>)\n"
     ]
    }
   ],
   "source": [
    "print(\"Score for B3:\", logits_ablated[0, pos, tile_int], logits[0, pos, tile_int])\n",
    "print(\"Score for B2:\", logits_ablated[0, pos, 11], logits[0, pos, 11])"
   ]
  },
  {
   "cell_type": "code",
   "execution_count": 19,
   "metadata": {},
   "outputs": [
    {
     "data": {
      "text/plain": [
       "torch.Size([512])"
      ]
     },
     "execution_count": 19,
     "metadata": {},
     "output_type": "execute_result"
    }
   ],
   "source": [
    "tile_legal_dir = model.W_U[:, tile_int]\n",
    "tile_legal_dir.shape"
   ]
  },
  {
   "cell_type": "code",
   "execution_count": 20,
   "metadata": {},
   "outputs": [
    {
     "name": "stdout",
     "output_type": "stream",
     "text": [
      "tensor(-0.0001, device='cuda:0')\n",
      "tensor(0.2692, device='cuda:0', grad_fn=<DotBackward0>)\n"
     ]
    },
    {
     "ename": "NameError",
     "evalue": "name 'direction' is not defined",
     "output_type": "error",
     "traceback": [
      "\u001b[0;31m---------------------------------------------------------------------------\u001b[0m",
      "\u001b[0;31mNameError\u001b[0m                                 Traceback (most recent call last)",
      "Cell \u001b[0;32mIn[20], line 4\u001b[0m\n\u001b[1;32m      2\u001b[0m \u001b[38;5;28mprint\u001b[39m(cache_ablated[\u001b[38;5;124m\"\u001b[39m\u001b[38;5;124mmlp_post\u001b[39m\u001b[38;5;124m\"\u001b[39m, \u001b[38;5;241m7\u001b[39m][\u001b[38;5;241m0\u001b[39m, pos, neuron])\n\u001b[1;32m      3\u001b[0m \u001b[38;5;28mprint\u001b[39m(model\u001b[38;5;241m.\u001b[39mW_out[\u001b[38;5;241m7\u001b[39m, neuron] \u001b[38;5;241m@\u001b[39m tile_legal_dir)\n\u001b[0;32m----> 4\u001b[0m \u001b[38;5;28mprint\u001b[39m(model\u001b[38;5;241m.\u001b[39mW_out[\u001b[38;5;241m7\u001b[39m, neuron] \u001b[38;5;241m@\u001b[39m \u001b[43mdirection\u001b[49m)\n",
      "\u001b[0;31mNameError\u001b[0m: name 'direction' is not defined"
     ]
    }
   ],
   "source": [
    "neuron = 644\n",
    "print(cache_ablated[\"mlp_post\", 7][0, pos, neuron])\n",
    "print(model.W_out[7, neuron] @ tile_legal_dir)\n",
    "print(model.W_out[7, neuron] @ direction)"
   ]
  },
  {
   "cell_type": "code",
   "execution_count": 52,
   "metadata": {},
   "outputs": [
    {
     "data": {
      "text/plain": [
       "(tensor([ 0.2749,  0.2674, -0.4987, -0.1209,  0.7342,  0.2653, -0.3397,  0.0605,\n",
       "          0.2941,  0.1413], device='cuda:0'),\n",
       " tensor([ 0.2573,  0.5321, -0.4156, -0.1945,  0.8401,  0.2988, -0.2451,  0.3665,\n",
       "          0.2834,  0.0162], device='cuda:0'))"
      ]
     },
     "execution_count": 52,
     "metadata": {},
     "output_type": "execute_result"
    }
   ],
   "source": [
    "resid_mid = cache_ablated[\"resid_mid\", 3]\n",
    "resid_post_0 = cache_ablated[\"resid_post\", 0]\n",
    "attn_out = cache_ablated[\"attn_out\", 3]\n",
    "resid_mid[0, pos, :10], resid_post_0[0, pos, :10] + attn_out[0, pos, :10]"
   ]
  },
  {
   "cell_type": "code",
   "execution_count": 53,
   "metadata": {},
   "outputs": [
    {
     "data": {
      "text/plain": [
       "(tensor([ 0.3842,  0.1986,  0.4793,  0.0716,  0.0481,  0.5681, -0.7169,  0.0637,\n",
       "         -0.3523,  0.2360], device='cuda:0'),\n",
       " tensor([ 0.3842,  0.1986,  0.4793,  0.0716,  0.0481,  0.5681, -0.7169,  0.0637,\n",
       "         -0.3523,  0.2360], device='cuda:0'))"
      ]
     },
     "execution_count": 53,
     "metadata": {},
     "output_type": "execute_result"
    }
   ],
   "source": [
    "resid_0_post = cache_ablated[\"resid_post\", 0]\n",
    "resid_0_post_clean = cache[\"resid_post\", 0]\n",
    "lay = 7\n",
    "attn_out_7 = cache[\"attn_out\", lay]\n",
    "mlp_out_7 = cache_ablated[\"mlp_out\", lay]\n",
    "resid_post_7 = cache_ablated[\"resid_post\", lay]\n",
    "# cache_ablated[\"resid_post\", 2][0, pos][:10], cache[\"resid_post\", 2][0, pos][:10]\n",
    "(resid_0_post[0, pos] + attn_out_7[0, pos] + mlp_out_7[0, pos])[:10], resid_post_7[0, pos][:10]"
   ]
  },
  {
   "cell_type": "code",
   "execution_count": 54,
   "metadata": {},
   "outputs": [
    {
     "name": "stdout",
     "output_type": "stream",
     "text": [
      "tensor(5.3270, device='cuda:0', grad_fn=<DotBackward0>)\n"
     ]
    }
   ],
   "source": [
    "resid_post = cache_ablated[\"resid_post\", 7] # Theres still a diff between resid post and the output logits\n",
    "print(resid_post[0, pos+0] @ tile_legal_dir)"
   ]
  },
  {
   "cell_type": "code",
   "execution_count": 55,
   "metadata": {},
   "outputs": [
    {
     "data": {
      "application/vnd.plotly.v1+json": {
       "config": {
        "plotlyServerURL": "https://plot.ly"
       },
       "data": [
        {
         "colorscale": [
          [
           0,
           "rgb(103,0,31)"
          ],
          [
           0.1,
           "rgb(178,24,43)"
          ],
          [
           0.2,
           "rgb(214,96,77)"
          ],
          [
           0.3,
           "rgb(244,165,130)"
          ],
          [
           0.4,
           "rgb(253,219,199)"
          ],
          [
           0.5,
           "rgb(247,247,247)"
          ],
          [
           0.6,
           "rgb(209,229,240)"
          ],
          [
           0.7,
           "rgb(146,197,222)"
          ],
          [
           0.8,
           "rgb(67,147,195)"
          ],
          [
           0.9,
           "rgb(33,102,172)"
          ],
          [
           1,
           "rgb(5,48,97)"
          ]
         ],
         "type": "heatmap",
         "xaxis": "x",
         "yaxis": "y",
         "z": [
          [
           -0.35497284,
           -0.13167197,
           -0.21204305,
           0.17548583,
           -0.41559047,
           0.36591578,
           -0.13978744,
           -0.17302716,
           0.3354604,
           -0.2372349,
           0.91769767,
           0.6261784,
           1.0239918,
           0.71753883,
           1.2439724,
           0.3916319,
           0.16661784,
           0.912435,
           0.052288033,
           0.71451056,
           0.6155219,
           0.61211824,
           0.3840652,
           0.5993595,
           1.022383,
           0.29576445,
           0.47121137,
           0.84372103,
           0.86241496,
           0.27315792,
           0.51715344,
           0.21508226,
           0.28957006,
           1.4809003,
           0.4760332,
           1.0019243,
           0.8023211,
           0.8736721,
           0.6129348,
           0.41326725,
           0.84134483,
           0.53561187,
           0.43068177,
           0.5788383,
           0.7104059,
           0.5977782,
           0.9613879,
           0.8006362,
           1.0360767,
           0.7651639,
           0.6806775,
           0.6034375,
           1.7223222,
           1.150717,
           0.8526476,
           0.8250129,
           -0.1747287,
           -0.3061155,
           -0.2990488
          ]
         ],
         "zmax": 8.552993774414062,
         "zmin": -8.552993774414062
        },
        {
         "colorscale": [
          [
           0,
           "rgb(103,0,31)"
          ],
          [
           0.1,
           "rgb(178,24,43)"
          ],
          [
           0.2,
           "rgb(214,96,77)"
          ],
          [
           0.3,
           "rgb(244,165,130)"
          ],
          [
           0.4,
           "rgb(253,219,199)"
          ],
          [
           0.5,
           "rgb(247,247,247)"
          ],
          [
           0.6,
           "rgb(209,229,240)"
          ],
          [
           0.7,
           "rgb(146,197,222)"
          ],
          [
           0.8,
           "rgb(67,147,195)"
          ],
          [
           0.9,
           "rgb(33,102,172)"
          ],
          [
           1,
           "rgb(5,48,97)"
          ]
         ],
         "type": "heatmap",
         "xaxis": "x2",
         "yaxis": "y2",
         "z": [
          [
           -0.23921715,
           0.15239209,
           0.2601506,
           -0.18253948,
           0.102703385,
           -0.30505824,
           -0.5480925,
           -0.040212214,
           -0.35194623,
           -0.22064817,
           1.6822209,
           -0.28540426,
           -0.0128418505,
           -1.461492,
           2.7346082,
           -1.0990393,
           0.41466704,
           -0.88823336,
           0.29541892,
           2.2269306,
           -0.5317312,
           1.8308184,
           -0.41558307,
           -0.91154134,
           -0.67632335,
           -0.6111407,
           -0.4393248,
           1.5215123,
           2.4296527,
           -0.34200007,
           2.2724974,
           -0.33473074,
           3.2281404,
           2.2823303,
           0.2702754,
           1.942245,
           -0.17024627,
           2.6826243,
           0.48972073,
           2.6723151,
           0.37530532,
           2.7209094,
           0.12595138,
           2.501814,
           0.6399691,
           2.962284,
           0.57546717,
           3.0686705,
           1.152437,
           3.8184881,
           0.63558006,
           4.5181355,
           2.160135,
           4.81015,
           2.1538992,
           5.080732,
           0.03717342,
           -1.586531,
           -0.3560465
          ]
         ],
         "zmax": 8.552993774414062,
         "zmin": -8.552993774414062
        },
        {
         "colorscale": [
          [
           0,
           "rgb(103,0,31)"
          ],
          [
           0.1,
           "rgb(178,24,43)"
          ],
          [
           0.2,
           "rgb(214,96,77)"
          ],
          [
           0.3,
           "rgb(244,165,130)"
          ],
          [
           0.4,
           "rgb(253,219,199)"
          ],
          [
           0.5,
           "rgb(247,247,247)"
          ],
          [
           0.6,
           "rgb(209,229,240)"
          ],
          [
           0.7,
           "rgb(146,197,222)"
          ],
          [
           0.8,
           "rgb(67,147,195)"
          ],
          [
           0.9,
           "rgb(33,102,172)"
          ],
          [
           1,
           "rgb(5,48,97)"
          ]
         ],
         "type": "heatmap",
         "xaxis": "x3",
         "yaxis": "y3",
         "z": [
          [
           -16.685453,
           0.3824529,
           0.40420854,
           0.03692853,
           -0.11826885,
           0.06221007,
           -0.3021101,
           -0.40573144,
           0.3097,
           -0.18559545,
           2.7270665,
           0.42629993,
           0.6946409,
           -0.42685446,
           2.104517,
           -0.25374144,
           0.3789891,
           0.1898553,
           0.20331143,
           2.6018755,
           0.21679698,
           2.583778,
           0.07196564,
           -0.22706771,
           0.21646413,
           -0.21608743,
           -0.15616664,
           2.1182094,
           2.746491,
           -0.12013226,
           2.6453176,
           -0.16470681,
           2.5341053,
           2.0955057,
           0.5718887,
           2.601408,
           0.52695906,
           2.526824,
           0.7885661,
           2.3508534,
           0.6847086,
           2.5962546,
           0.33940098,
           2.5670514,
           0.70338154,
           2.6386347,
           0.83622974,
           2.7166657,
           0.944124,
           2.7526095,
           0.9984684,
           1.9444276,
           2.8563573,
           2.4169314,
           1.9201012,
           2.6472497,
           -0.16985194,
           -1.0069835,
           -0.32870376
          ]
         ],
         "zmax": 8.552993774414062,
         "zmin": -8.552993774414062
        },
        {
         "colorscale": [
          [
           0,
           "rgb(103,0,31)"
          ],
          [
           0.1,
           "rgb(178,24,43)"
          ],
          [
           0.2,
           "rgb(214,96,77)"
          ],
          [
           0.3,
           "rgb(244,165,130)"
          ],
          [
           0.4,
           "rgb(253,219,199)"
          ],
          [
           0.5,
           "rgb(247,247,247)"
          ],
          [
           0.6,
           "rgb(209,229,240)"
          ],
          [
           0.7,
           "rgb(146,197,222)"
          ],
          [
           0.8,
           "rgb(67,147,195)"
          ],
          [
           0.9,
           "rgb(33,102,172)"
          ],
          [
           1,
           "rgb(5,48,97)"
          ]
         ],
         "type": "heatmap",
         "xaxis": "x4",
         "yaxis": "y4",
         "z": [
          [
           -17.27964,
           0.40317315,
           0.45231616,
           0.029874876,
           -0.43115598,
           0.12306759,
           -0.9899899,
           -0.6189708,
           0.2932141,
           -0.6434785,
           5.326985,
           0.76707387,
           1.7057908,
           -1.1708076,
           6.0830975,
           -0.9611489,
           0.96027386,
           0.21405688,
           0.55101836,
           5.5433164,
           0.30058736,
           5.0267143,
           0.040447786,
           -0.5392495,
           0.56252396,
           -0.53146374,
           -0.12427993,
           4.483443,
           6.038559,
           -0.18897441,
           5.434968,
           -0.28435537,
           6.051816,
           5.8587365,
           1.3181973,
           5.545577,
           1.159034,
           6.0831203,
           1.8912218,
           5.4364357,
           1.9013586,
           5.8527756,
           0.89603406,
           5.6477036,
           2.0537565,
           6.198697,
           2.3730845,
           6.585973,
           3.1326375,
           7.3362613,
           2.3147259,
           7.066001,
           6.7388144,
           8.377798,
           4.926648,
           8.552994,
           -0.3074071,
           -2.8996298,
           -0.98379904
          ]
         ],
         "zmax": 8.552993774414062,
         "zmin": -8.552993774414062
        },
        {
         "colorscale": [
          [
           0,
           "rgb(103,0,31)"
          ],
          [
           0.1,
           "rgb(178,24,43)"
          ],
          [
           0.2,
           "rgb(214,96,77)"
          ],
          [
           0.3,
           "rgb(244,165,130)"
          ],
          [
           0.4,
           "rgb(253,219,199)"
          ],
          [
           0.5,
           "rgb(247,247,247)"
          ],
          [
           0.6,
           "rgb(209,229,240)"
          ],
          [
           0.7,
           "rgb(146,197,222)"
          ],
          [
           0.8,
           "rgb(67,147,195)"
          ],
          [
           0.9,
           "rgb(33,102,172)"
          ],
          [
           1,
           "rgb(5,48,97)"
          ]
         ],
         "type": "heatmap",
         "xaxis": "x5",
         "yaxis": "y5",
         "z": [
          [
           -0.16825897,
           -0.07783042,
           -0.10129217,
           -0.10697662,
           -0.21576412,
           -0.1874146,
           -0.16612062,
           -0.16140741,
           -0.15834036,
           -0.16634849,
           -0.080988355,
           -0.12361789,
           0.015911996,
           -0.03803032,
           -0.010132916,
           -0.15583591,
           0.11842416,
           -0.11039549,
           0.02931793,
           0.02037388,
           0.058948357,
           0.12917967,
           0.14517462,
           0.17774075,
           0.13306779,
           0.08633433,
           0.12357942,
           0.09607881,
           0.10473012,
           0.0171815,
           -0.08524002,
           0.033576414,
           -0.15087634,
           0.12796323,
           0.08331534,
           0.11434901,
           -0.14912671,
           0.012335042,
           0.04416822,
           -0.013445251,
           0.018920343,
           0.0774248,
           0.042996913,
           0.06402254,
           0.31619856,
           0.12698254,
           0.09051887,
           0.11474499,
           0.14695308,
           0.18917373,
           0.3068827,
           0.18987332,
           -0.12570667,
           0.19640817,
           -0.13747968,
           -0.069345504,
           0.14255886,
           -0.31504798,
           0.031015344
          ]
         ],
         "zmax": 8.552993774414062,
         "zmin": -8.552993774414062
        },
        {
         "colorscale": [
          [
           0,
           "rgb(103,0,31)"
          ],
          [
           0.1,
           "rgb(178,24,43)"
          ],
          [
           0.2,
           "rgb(214,96,77)"
          ],
          [
           0.3,
           "rgb(244,165,130)"
          ],
          [
           0.4,
           "rgb(253,219,199)"
          ],
          [
           0.5,
           "rgb(247,247,247)"
          ],
          [
           0.6,
           "rgb(209,229,240)"
          ],
          [
           0.7,
           "rgb(146,197,222)"
          ],
          [
           0.8,
           "rgb(67,147,195)"
          ],
          [
           0.9,
           "rgb(33,102,172)"
          ],
          [
           1,
           "rgb(5,48,97)"
          ]
         ],
         "type": "heatmap",
         "xaxis": "x6",
         "yaxis": "y6",
         "z": [
          [
           -0.09878265,
           -0.12988001,
           -0.21498498,
           -0.14069387,
           -0.12238301,
           -0.18306781,
           -0.37891993,
           -0.14502347,
           -0.1407844,
           -0.13682418,
           -0.16882825,
           -0.12911323,
           -0.10632001,
           -0.21456969,
           -0.12413254,
           -0.10695739,
           -0.20602897,
           -0.11741384,
           -0.116328895,
           -0.12491085,
           -0.09936997,
           0.03224166,
           -0.009871319,
           0.025247112,
           0.091549605,
           -0.15155426,
           -0.078339376,
           0.16718479,
           0.13351576,
           -0.08446287,
           -0.14686,
           0.022624772,
           -0.1293222,
           -0.0501724,
           -0.103051044,
           0.038609758,
           -0.14586732,
           0.22110644,
           0.14864853,
           0.19376275,
           0.2233485,
           -0.02495095,
           0.09562452,
           0.06151401,
           0.11029599,
           0.16528146,
           0.1574813,
           0.23767443,
           0.35776705,
           0.41542792,
           0.047331847,
           1.0132825,
           -0.70253783,
           0.8419286,
           -0.97585005,
           -0.16992776,
           0.30193403,
           0.44559276,
           0.22864634
          ]
         ],
         "zmax": 8.552993774414062,
         "zmin": -8.552993774414062
        },
        {
         "colorscale": [
          [
           0,
           "rgb(103,0,31)"
          ],
          [
           0.1,
           "rgb(178,24,43)"
          ],
          [
           0.2,
           "rgb(214,96,77)"
          ],
          [
           0.3,
           "rgb(244,165,130)"
          ],
          [
           0.4,
           "rgb(253,219,199)"
          ],
          [
           0.5,
           "rgb(247,247,247)"
          ],
          [
           0.6,
           "rgb(209,229,240)"
          ],
          [
           0.7,
           "rgb(146,197,222)"
          ],
          [
           0.8,
           "rgb(67,147,195)"
          ],
          [
           0.9,
           "rgb(33,102,172)"
          ],
          [
           1,
           "rgb(5,48,97)"
          ]
         ],
         "type": "heatmap",
         "xaxis": "x7",
         "yaxis": "y7",
         "z": [
          [
           0.059216447,
           0.12537771,
           -0.89730763,
           -0.27822882,
           -0.7402632,
           -0.785638,
           -0.8000033,
           -0.7687179,
           -1.4047787,
           -1.2589618,
           0.8099572,
           0.93932986,
           0.50490755,
           0.4890486,
           1.2172768,
           0.70031726,
           1.2106531,
           0.80160767,
           0.88375807,
           1.1820153,
           0.9697881,
           0.94884956,
           0.76820356,
           0.9416931,
           1.1288977,
           1.1787045,
           0.71954787,
           1.5920565,
           1.5717473,
           -0.9030942,
           -0.52493584,
           -0.4130026,
           0.20866147,
           1.8367054,
           0.9157619,
           1.6871189,
           0.4785213,
           1.8092124,
           0.862882,
           0.79073524,
           1.0146816,
           0.6388632,
           0.9144114,
           0.6761315,
           0.87643844,
           1.5521002,
           0.76591426,
           0.8668475,
           0.6067692,
           1.6614146,
           0.7014251,
           1.8286109,
           0.352641,
           1.8209698,
           0.46682838,
           1.5734764,
           0.080053546,
           -0.261711,
           -0.12811641
          ]
         ],
         "zmax": 8.552993774414062,
         "zmin": -8.552993774414062
        },
        {
         "colorscale": [
          [
           0,
           "rgb(103,0,31)"
          ],
          [
           0.1,
           "rgb(178,24,43)"
          ],
          [
           0.2,
           "rgb(214,96,77)"
          ],
          [
           0.3,
           "rgb(244,165,130)"
          ],
          [
           0.4,
           "rgb(253,219,199)"
          ],
          [
           0.5,
           "rgb(247,247,247)"
          ],
          [
           0.6,
           "rgb(209,229,240)"
          ],
          [
           0.7,
           "rgb(146,197,222)"
          ],
          [
           0.8,
           "rgb(67,147,195)"
          ],
          [
           0.9,
           "rgb(33,102,172)"
          ],
          [
           1,
           "rgb(5,48,97)"
          ]
         ],
         "type": "heatmap",
         "xaxis": "x8",
         "yaxis": "y8",
         "z": [
          [
           -0.20320249,
           -0.19955045,
           -0.18135598,
           -0.18999115,
           -0.17148292,
           -0.1321517,
           -0.071262404,
           -0.20081827,
           -0.16339253,
           -0.19980174,
           -0.052768327,
           -0.19102877,
           0.10822788,
           -0.15129308,
           -0.089639515,
           -0.13086325,
           0.22027919,
           -0.19313422,
           -0.0871747,
           -0.1486012,
           0.06317827,
           -0.19358742,
           -0.040089145,
           -0.0820643,
           0.16894542,
           -0.20052794,
           0.112479374,
           -0.13772717,
           0.09050774,
           -0.1867632,
           0.28750527,
           -0.17331335,
           0.32072735,
           0.0461178,
           0.22666557,
           0.038625136,
           -0.16195996,
           -0.15056193,
           0.080914475,
           0.20139937,
           0.263637,
           0.26156,
           -0.027287543,
           0.21392477,
           0.27271992,
           0.20354956,
           -0.027869973,
           -0.12612857,
           0.09960891,
           -0.029976826,
           0.14030817,
           0.35486293,
           0.11903328,
           0.43761694,
           0.15509398,
           0.20387559,
           0.20470007,
           -0.08427744,
           -0.066626206
          ]
         ],
         "zmax": 8.552993774414062,
         "zmin": -8.552993774414062
        },
        {
         "colorscale": [
          [
           0,
           "rgb(103,0,31)"
          ],
          [
           0.1,
           "rgb(178,24,43)"
          ],
          [
           0.2,
           "rgb(214,96,77)"
          ],
          [
           0.3,
           "rgb(244,165,130)"
          ],
          [
           0.4,
           "rgb(253,219,199)"
          ],
          [
           0.5,
           "rgb(247,247,247)"
          ],
          [
           0.6,
           "rgb(209,229,240)"
          ],
          [
           0.7,
           "rgb(146,197,222)"
          ],
          [
           0.8,
           "rgb(67,147,195)"
          ],
          [
           0.9,
           "rgb(33,102,172)"
          ],
          [
           1,
           "rgb(5,48,97)"
          ]
         ],
         "type": "heatmap",
         "xaxis": "x9",
         "yaxis": "y9",
         "z": [
          [
           0.11479073,
           0.110607214,
           0.10977899,
           0.11413446,
           0.11018871,
           0.113697596,
           0.102727056,
           0.112730145,
           0.11152938,
           0.112650074,
           0.066223554,
           0.08927755,
           0.10429081,
           0.10835299,
           0.08737731,
           0.14058328,
           -0.07348024,
           0.12875293,
           0.0978981,
           0.20702513,
           0.1450671,
           0.14080803,
           0.1822564,
           0.16072723,
           0.29227728,
           0.16251917,
           0.27709204,
           0.26173654,
           0.9509185,
           0.2031954,
           0.8361916,
           0.1530799,
           0.54974514,
           0.32134777,
           1.0827644,
           0.38312113,
           0.76144457,
           0.37589747,
           0.9716021,
           0.39412874,
           0.56694704,
           0.32440394,
           0.99450415,
           0.3574385,
           1.1045405,
           0.62000656,
           0.95225286,
           0.589668,
           0.8836237,
           0.55298334,
           0.039396383,
           0.43874705,
           0.37214223,
           0.22532815,
           0.14177585,
           0.62352884,
           0.16098142,
           0.19466546,
           0.13573876
          ]
         ],
         "zmax": 8.552993774414062,
         "zmin": -8.552993774414062
        },
        {
         "colorscale": [
          [
           0,
           "rgb(103,0,31)"
          ],
          [
           0.1,
           "rgb(178,24,43)"
          ],
          [
           0.2,
           "rgb(214,96,77)"
          ],
          [
           0.3,
           "rgb(244,165,130)"
          ],
          [
           0.4,
           "rgb(253,219,199)"
          ],
          [
           0.5,
           "rgb(247,247,247)"
          ],
          [
           0.6,
           "rgb(209,229,240)"
          ],
          [
           0.7,
           "rgb(146,197,222)"
          ],
          [
           0.8,
           "rgb(67,147,195)"
          ],
          [
           0.9,
           "rgb(33,102,172)"
          ],
          [
           1,
           "rgb(5,48,97)"
          ]
         ],
         "type": "heatmap",
         "xaxis": "x10",
         "yaxis": "y10",
         "z": [
          [
           0.017884193,
           0.019330055,
           0.034158222,
           0.019831652,
           0.039148442,
           0.025522834,
           0.058911134,
           0.034052998,
           0.13899063,
           0.028997492,
           0.33649185,
           0.15709536,
           -0.014690252,
           -0.15147717,
           -0.04269828,
           -0.08246681,
           -0.44265968,
           -0.033932768,
           -0.46950203,
           -0.053663325,
           -0.05827152,
           -0.010576386,
           -0.23623708,
           -0.015456796,
           -0.46865588,
           -0.007018851,
           -0.4275107,
           -0.123772494,
           -0.4472928,
           -0.006195143,
           -0.095634684,
           0.002709819,
           -0.043439668,
           -0.23697424,
           -2.6303082,
           -0.38738462,
           -0.76432097,
           -0.14845036,
           -1.0033228,
           -0.14504577,
           -1.1415877,
           -0.31203806,
           -0.5825602,
           -0.6826638,
           -1.1433921,
           -0.62263995,
           -0.7759304,
           -0.30361885,
           0.59691066,
           -0.039629787,
           0.1080154,
           -0.48209316,
           0.2480325,
           -0.65273815,
           -0.0690494,
           0.11032708,
           0.10008195,
           0.0011663251,
           -0.1144512
          ]
         ],
         "zmax": 8.552993774414062,
         "zmin": -8.552993774414062
        },
        {
         "colorscale": [
          [
           0,
           "rgb(103,0,31)"
          ],
          [
           0.1,
           "rgb(178,24,43)"
          ],
          [
           0.2,
           "rgb(214,96,77)"
          ],
          [
           0.3,
           "rgb(244,165,130)"
          ],
          [
           0.4,
           "rgb(253,219,199)"
          ],
          [
           0.5,
           "rgb(247,247,247)"
          ],
          [
           0.6,
           "rgb(209,229,240)"
          ],
          [
           0.7,
           "rgb(146,197,222)"
          ],
          [
           0.8,
           "rgb(67,147,195)"
          ],
          [
           0.9,
           "rgb(33,102,172)"
          ],
          [
           1,
           "rgb(5,48,97)"
          ]
         ],
         "type": "heatmap",
         "xaxis": "x11",
         "yaxis": "y11",
         "z": [
          [
           -0.009647096,
           -0.008545008,
           -0.009280488,
           -0.006623868,
           -0.00091716275,
           0.05135229,
           0.24019909,
           0.02117329,
           0.1341852,
           0.034162246,
           0.5034537,
           0.4739458,
           0.4632779,
           0.3884133,
           0.28545564,
           0.08090904,
           0.45092386,
           0.18785723,
           0.4282364,
           0.30267775,
           0.24157438,
           0.14086427,
           0.6225611,
           0.09221808,
           0.3072359,
           0.09184477,
           0.28181395,
           0.13319671,
           0.31574076,
           0.11969345,
           0.6647383,
           0.7033511,
           0.42141682,
           0.48315504,
           0.49677312,
           0.5123074,
           0.46321857,
           0.38030672,
           0.44658753,
           0.45117295,
           0.47723228,
           0.40111813,
           0.34126657,
           0.43966147,
           0.680802,
           0.49627763,
           0.59560037,
           0.30563763,
           0.44082412,
           0.3288157,
           0.43886626,
           0.59072816,
           0.2898605,
           0.8919549,
           0.50145084,
           0.922056,
           0.64298993,
           0.03583934,
           0.3511108
          ]
         ],
         "zmax": 8.552993774414062,
         "zmin": -8.552993774414062
        },
        {
         "colorscale": [
          [
           0,
           "rgb(103,0,31)"
          ],
          [
           0.1,
           "rgb(178,24,43)"
          ],
          [
           0.2,
           "rgb(214,96,77)"
          ],
          [
           0.3,
           "rgb(244,165,130)"
          ],
          [
           0.4,
           "rgb(253,219,199)"
          ],
          [
           0.5,
           "rgb(247,247,247)"
          ],
          [
           0.6,
           "rgb(209,229,240)"
          ],
          [
           0.7,
           "rgb(146,197,222)"
          ],
          [
           0.8,
           "rgb(67,147,195)"
          ],
          [
           0.9,
           "rgb(33,102,172)"
          ],
          [
           1,
           "rgb(5,48,97)"
          ]
         ],
         "type": "heatmap",
         "xaxis": "x12",
         "yaxis": "y12",
         "z": [
          [
           -0.16755469,
           0.048850607,
           -0.059020326,
           -0.024751484,
           -0.14261849,
           -0.060246807,
           -0.18088016,
           -0.15212408,
           -0.17155915,
           -0.14254189,
           -0.09884482,
           0.016206607,
           -0.13825016,
           -0.031779073,
           0.43217173,
           0.41500396,
           0.029180765,
           0.44069412,
           0.10806535,
           0.20043851,
           0.19189154,
           0.22756203,
           0.18746042,
           0.1287562,
           0.20545761,
           0.1543217,
           0.1621021,
           0.1722888,
           0.18656051,
           0.14721645,
           0.2412742,
           -0.024464592,
           0.4319253,
           0.27095786,
           0.58058465,
           0.24390054,
           0.4369677,
           0.21741088,
           0.048224095,
           0.07147763,
           0.32894504,
           0.1343977,
           0.002229482,
           0.16790245,
           0.050137274,
           0.034733005,
           0.051382232,
           -0.11997406,
           0.3724324,
           -0.08005425,
           0.35922444,
           -0.14044413,
           -0.4517308,
           -0.00059372187,
           0.024004236,
           0.11517605,
           -0.0832843,
           -0.18336166,
           0.3442921
          ]
         ],
         "zmax": 8.552993774414062,
         "zmin": -8.552993774414062
        }
       ],
       "layout": {
        "annotations": [
         {
          "font": {
           "size": 16
          },
          "showarrow": false,
          "text": "resid_pre (7)",
          "x": 0.5,
          "xanchor": "center",
          "xref": "paper",
          "y": 1,
          "yanchor": "bottom",
          "yref": "paper"
         },
         {
          "font": {
           "size": 16
          },
          "showarrow": false,
          "text": "attn_out (7)",
          "x": 0.5,
          "xanchor": "center",
          "xref": "paper",
          "y": 0.9131944444444444,
          "yanchor": "bottom",
          "yref": "paper"
         },
         {
          "font": {
           "size": 16
          },
          "showarrow": false,
          "text": "mlp_out (7)",
          "x": 0.5,
          "xanchor": "center",
          "xref": "paper",
          "y": 0.8263888888888888,
          "yanchor": "bottom",
          "yref": "paper"
         },
         {
          "font": {
           "size": 16
          },
          "showarrow": false,
          "text": "resid_post (7)",
          "x": 0.5,
          "xanchor": "center",
          "xref": "paper",
          "y": 0.7395833333333333,
          "yanchor": "bottom",
          "yref": "paper"
         },
         {
          "font": {
           "size": 16
          },
          "showarrow": false,
          "text": "head_0 (7)",
          "x": 0.5,
          "xanchor": "center",
          "xref": "paper",
          "y": 0.6527777777777777,
          "yanchor": "bottom",
          "yref": "paper"
         },
         {
          "font": {
           "size": 16
          },
          "showarrow": false,
          "text": "head_1 (7)",
          "x": 0.5,
          "xanchor": "center",
          "xref": "paper",
          "y": 0.5659722222222223,
          "yanchor": "bottom",
          "yref": "paper"
         },
         {
          "font": {
           "size": 16
          },
          "showarrow": false,
          "text": "head_2 (7)",
          "x": 0.5,
          "xanchor": "center",
          "xref": "paper",
          "y": 0.4791666666666667,
          "yanchor": "bottom",
          "yref": "paper"
         },
         {
          "font": {
           "size": 16
          },
          "showarrow": false,
          "text": "head_3 (7)",
          "x": 0.5,
          "xanchor": "center",
          "xref": "paper",
          "y": 0.3923611111111111,
          "yanchor": "bottom",
          "yref": "paper"
         },
         {
          "font": {
           "size": 16
          },
          "showarrow": false,
          "text": "head_4 (7)",
          "x": 0.5,
          "xanchor": "center",
          "xref": "paper",
          "y": 0.3055555555555556,
          "yanchor": "bottom",
          "yref": "paper"
         },
         {
          "font": {
           "size": 16
          },
          "showarrow": false,
          "text": "head_5 (7)",
          "x": 0.5,
          "xanchor": "center",
          "xref": "paper",
          "y": 0.21875,
          "yanchor": "bottom",
          "yref": "paper"
         },
         {
          "font": {
           "size": 16
          },
          "showarrow": false,
          "text": "head_6 (7)",
          "x": 0.5,
          "xanchor": "center",
          "xref": "paper",
          "y": 0.13194444444444445,
          "yanchor": "bottom",
          "yref": "paper"
         },
         {
          "font": {
           "size": 16
          },
          "showarrow": false,
          "text": "head_7 (7)",
          "x": 0.5,
          "xanchor": "center",
          "xref": "paper",
          "y": 0.045138888888888895,
          "yanchor": "bottom",
          "yref": "paper"
         }
        ],
        "height": 1000,
        "template": {
         "data": {
          "bar": [
           {
            "error_x": {
             "color": "#2a3f5f"
            },
            "error_y": {
             "color": "#2a3f5f"
            },
            "marker": {
             "line": {
              "color": "#E5ECF6",
              "width": 0.5
             },
             "pattern": {
              "fillmode": "overlay",
              "size": 10,
              "solidity": 0.2
             }
            },
            "type": "bar"
           }
          ],
          "barpolar": [
           {
            "marker": {
             "line": {
              "color": "#E5ECF6",
              "width": 0.5
             },
             "pattern": {
              "fillmode": "overlay",
              "size": 10,
              "solidity": 0.2
             }
            },
            "type": "barpolar"
           }
          ],
          "carpet": [
           {
            "aaxis": {
             "endlinecolor": "#2a3f5f",
             "gridcolor": "white",
             "linecolor": "white",
             "minorgridcolor": "white",
             "startlinecolor": "#2a3f5f"
            },
            "baxis": {
             "endlinecolor": "#2a3f5f",
             "gridcolor": "white",
             "linecolor": "white",
             "minorgridcolor": "white",
             "startlinecolor": "#2a3f5f"
            },
            "type": "carpet"
           }
          ],
          "choropleth": [
           {
            "colorbar": {
             "outlinewidth": 0,
             "ticks": ""
            },
            "type": "choropleth"
           }
          ],
          "contour": [
           {
            "colorbar": {
             "outlinewidth": 0,
             "ticks": ""
            },
            "colorscale": [
             [
              0,
              "#0d0887"
             ],
             [
              0.1111111111111111,
              "#46039f"
             ],
             [
              0.2222222222222222,
              "#7201a8"
             ],
             [
              0.3333333333333333,
              "#9c179e"
             ],
             [
              0.4444444444444444,
              "#bd3786"
             ],
             [
              0.5555555555555556,
              "#d8576b"
             ],
             [
              0.6666666666666666,
              "#ed7953"
             ],
             [
              0.7777777777777778,
              "#fb9f3a"
             ],
             [
              0.8888888888888888,
              "#fdca26"
             ],
             [
              1,
              "#f0f921"
             ]
            ],
            "type": "contour"
           }
          ],
          "contourcarpet": [
           {
            "colorbar": {
             "outlinewidth": 0,
             "ticks": ""
            },
            "type": "contourcarpet"
           }
          ],
          "heatmap": [
           {
            "colorbar": {
             "outlinewidth": 0,
             "ticks": ""
            },
            "colorscale": [
             [
              0,
              "#0d0887"
             ],
             [
              0.1111111111111111,
              "#46039f"
             ],
             [
              0.2222222222222222,
              "#7201a8"
             ],
             [
              0.3333333333333333,
              "#9c179e"
             ],
             [
              0.4444444444444444,
              "#bd3786"
             ],
             [
              0.5555555555555556,
              "#d8576b"
             ],
             [
              0.6666666666666666,
              "#ed7953"
             ],
             [
              0.7777777777777778,
              "#fb9f3a"
             ],
             [
              0.8888888888888888,
              "#fdca26"
             ],
             [
              1,
              "#f0f921"
             ]
            ],
            "type": "heatmap"
           }
          ],
          "heatmapgl": [
           {
            "colorbar": {
             "outlinewidth": 0,
             "ticks": ""
            },
            "colorscale": [
             [
              0,
              "#0d0887"
             ],
             [
              0.1111111111111111,
              "#46039f"
             ],
             [
              0.2222222222222222,
              "#7201a8"
             ],
             [
              0.3333333333333333,
              "#9c179e"
             ],
             [
              0.4444444444444444,
              "#bd3786"
             ],
             [
              0.5555555555555556,
              "#d8576b"
             ],
             [
              0.6666666666666666,
              "#ed7953"
             ],
             [
              0.7777777777777778,
              "#fb9f3a"
             ],
             [
              0.8888888888888888,
              "#fdca26"
             ],
             [
              1,
              "#f0f921"
             ]
            ],
            "type": "heatmapgl"
           }
          ],
          "histogram": [
           {
            "marker": {
             "pattern": {
              "fillmode": "overlay",
              "size": 10,
              "solidity": 0.2
             }
            },
            "type": "histogram"
           }
          ],
          "histogram2d": [
           {
            "colorbar": {
             "outlinewidth": 0,
             "ticks": ""
            },
            "colorscale": [
             [
              0,
              "#0d0887"
             ],
             [
              0.1111111111111111,
              "#46039f"
             ],
             [
              0.2222222222222222,
              "#7201a8"
             ],
             [
              0.3333333333333333,
              "#9c179e"
             ],
             [
              0.4444444444444444,
              "#bd3786"
             ],
             [
              0.5555555555555556,
              "#d8576b"
             ],
             [
              0.6666666666666666,
              "#ed7953"
             ],
             [
              0.7777777777777778,
              "#fb9f3a"
             ],
             [
              0.8888888888888888,
              "#fdca26"
             ],
             [
              1,
              "#f0f921"
             ]
            ],
            "type": "histogram2d"
           }
          ],
          "histogram2dcontour": [
           {
            "colorbar": {
             "outlinewidth": 0,
             "ticks": ""
            },
            "colorscale": [
             [
              0,
              "#0d0887"
             ],
             [
              0.1111111111111111,
              "#46039f"
             ],
             [
              0.2222222222222222,
              "#7201a8"
             ],
             [
              0.3333333333333333,
              "#9c179e"
             ],
             [
              0.4444444444444444,
              "#bd3786"
             ],
             [
              0.5555555555555556,
              "#d8576b"
             ],
             [
              0.6666666666666666,
              "#ed7953"
             ],
             [
              0.7777777777777778,
              "#fb9f3a"
             ],
             [
              0.8888888888888888,
              "#fdca26"
             ],
             [
              1,
              "#f0f921"
             ]
            ],
            "type": "histogram2dcontour"
           }
          ],
          "mesh3d": [
           {
            "colorbar": {
             "outlinewidth": 0,
             "ticks": ""
            },
            "type": "mesh3d"
           }
          ],
          "parcoords": [
           {
            "line": {
             "colorbar": {
              "outlinewidth": 0,
              "ticks": ""
             }
            },
            "type": "parcoords"
           }
          ],
          "pie": [
           {
            "automargin": true,
            "type": "pie"
           }
          ],
          "scatter": [
           {
            "fillpattern": {
             "fillmode": "overlay",
             "size": 10,
             "solidity": 0.2
            },
            "type": "scatter"
           }
          ],
          "scatter3d": [
           {
            "line": {
             "colorbar": {
              "outlinewidth": 0,
              "ticks": ""
             }
            },
            "marker": {
             "colorbar": {
              "outlinewidth": 0,
              "ticks": ""
             }
            },
            "type": "scatter3d"
           }
          ],
          "scattercarpet": [
           {
            "marker": {
             "colorbar": {
              "outlinewidth": 0,
              "ticks": ""
             }
            },
            "type": "scattercarpet"
           }
          ],
          "scattergeo": [
           {
            "marker": {
             "colorbar": {
              "outlinewidth": 0,
              "ticks": ""
             }
            },
            "type": "scattergeo"
           }
          ],
          "scattergl": [
           {
            "marker": {
             "colorbar": {
              "outlinewidth": 0,
              "ticks": ""
             }
            },
            "type": "scattergl"
           }
          ],
          "scattermapbox": [
           {
            "marker": {
             "colorbar": {
              "outlinewidth": 0,
              "ticks": ""
             }
            },
            "type": "scattermapbox"
           }
          ],
          "scatterpolar": [
           {
            "marker": {
             "colorbar": {
              "outlinewidth": 0,
              "ticks": ""
             }
            },
            "type": "scatterpolar"
           }
          ],
          "scatterpolargl": [
           {
            "marker": {
             "colorbar": {
              "outlinewidth": 0,
              "ticks": ""
             }
            },
            "type": "scatterpolargl"
           }
          ],
          "scatterternary": [
           {
            "marker": {
             "colorbar": {
              "outlinewidth": 0,
              "ticks": ""
             }
            },
            "type": "scatterternary"
           }
          ],
          "surface": [
           {
            "colorbar": {
             "outlinewidth": 0,
             "ticks": ""
            },
            "colorscale": [
             [
              0,
              "#0d0887"
             ],
             [
              0.1111111111111111,
              "#46039f"
             ],
             [
              0.2222222222222222,
              "#7201a8"
             ],
             [
              0.3333333333333333,
              "#9c179e"
             ],
             [
              0.4444444444444444,
              "#bd3786"
             ],
             [
              0.5555555555555556,
              "#d8576b"
             ],
             [
              0.6666666666666666,
              "#ed7953"
             ],
             [
              0.7777777777777778,
              "#fb9f3a"
             ],
             [
              0.8888888888888888,
              "#fdca26"
             ],
             [
              1,
              "#f0f921"
             ]
            ],
            "type": "surface"
           }
          ],
          "table": [
           {
            "cells": {
             "fill": {
              "color": "#EBF0F8"
             },
             "line": {
              "color": "white"
             }
            },
            "header": {
             "fill": {
              "color": "#C8D4E3"
             },
             "line": {
              "color": "white"
             }
            },
            "type": "table"
           }
          ]
         },
         "layout": {
          "annotationdefaults": {
           "arrowcolor": "#2a3f5f",
           "arrowhead": 0,
           "arrowwidth": 1
          },
          "autotypenumbers": "strict",
          "coloraxis": {
           "colorbar": {
            "outlinewidth": 0,
            "ticks": ""
           }
          },
          "colorscale": {
           "diverging": [
            [
             0,
             "#8e0152"
            ],
            [
             0.1,
             "#c51b7d"
            ],
            [
             0.2,
             "#de77ae"
            ],
            [
             0.3,
             "#f1b6da"
            ],
            [
             0.4,
             "#fde0ef"
            ],
            [
             0.5,
             "#f7f7f7"
            ],
            [
             0.6,
             "#e6f5d0"
            ],
            [
             0.7,
             "#b8e186"
            ],
            [
             0.8,
             "#7fbc41"
            ],
            [
             0.9,
             "#4d9221"
            ],
            [
             1,
             "#276419"
            ]
           ],
           "sequential": [
            [
             0,
             "#0d0887"
            ],
            [
             0.1111111111111111,
             "#46039f"
            ],
            [
             0.2222222222222222,
             "#7201a8"
            ],
            [
             0.3333333333333333,
             "#9c179e"
            ],
            [
             0.4444444444444444,
             "#bd3786"
            ],
            [
             0.5555555555555556,
             "#d8576b"
            ],
            [
             0.6666666666666666,
             "#ed7953"
            ],
            [
             0.7777777777777778,
             "#fb9f3a"
            ],
            [
             0.8888888888888888,
             "#fdca26"
            ],
            [
             1,
             "#f0f921"
            ]
           ],
           "sequentialminus": [
            [
             0,
             "#0d0887"
            ],
            [
             0.1111111111111111,
             "#46039f"
            ],
            [
             0.2222222222222222,
             "#7201a8"
            ],
            [
             0.3333333333333333,
             "#9c179e"
            ],
            [
             0.4444444444444444,
             "#bd3786"
            ],
            [
             0.5555555555555556,
             "#d8576b"
            ],
            [
             0.6666666666666666,
             "#ed7953"
            ],
            [
             0.7777777777777778,
             "#fb9f3a"
            ],
            [
             0.8888888888888888,
             "#fdca26"
            ],
            [
             1,
             "#f0f921"
            ]
           ]
          },
          "colorway": [
           "#636efa",
           "#EF553B",
           "#00cc96",
           "#ab63fa",
           "#FFA15A",
           "#19d3f3",
           "#FF6692",
           "#B6E880",
           "#FF97FF",
           "#FECB52"
          ],
          "font": {
           "color": "#2a3f5f"
          },
          "geo": {
           "bgcolor": "white",
           "lakecolor": "white",
           "landcolor": "#E5ECF6",
           "showlakes": true,
           "showland": true,
           "subunitcolor": "white"
          },
          "hoverlabel": {
           "align": "left"
          },
          "hovermode": "closest",
          "mapbox": {
           "style": "light"
          },
          "paper_bgcolor": "white",
          "plot_bgcolor": "#E5ECF6",
          "polar": {
           "angularaxis": {
            "gridcolor": "white",
            "linecolor": "white",
            "ticks": ""
           },
           "bgcolor": "#E5ECF6",
           "radialaxis": {
            "gridcolor": "white",
            "linecolor": "white",
            "ticks": ""
           }
          },
          "scene": {
           "xaxis": {
            "backgroundcolor": "#E5ECF6",
            "gridcolor": "white",
            "gridwidth": 2,
            "linecolor": "white",
            "showbackground": true,
            "ticks": "",
            "zerolinecolor": "white"
           },
           "yaxis": {
            "backgroundcolor": "#E5ECF6",
            "gridcolor": "white",
            "gridwidth": 2,
            "linecolor": "white",
            "showbackground": true,
            "ticks": "",
            "zerolinecolor": "white"
           },
           "zaxis": {
            "backgroundcolor": "#E5ECF6",
            "gridcolor": "white",
            "gridwidth": 2,
            "linecolor": "white",
            "showbackground": true,
            "ticks": "",
            "zerolinecolor": "white"
           }
          },
          "shapedefaults": {
           "line": {
            "color": "#2a3f5f"
           }
          },
          "ternary": {
           "aaxis": {
            "gridcolor": "white",
            "linecolor": "white",
            "ticks": ""
           },
           "baxis": {
            "gridcolor": "white",
            "linecolor": "white",
            "ticks": ""
           },
           "bgcolor": "#E5ECF6",
           "caxis": {
            "gridcolor": "white",
            "linecolor": "white",
            "ticks": ""
           }
          },
          "title": {
           "x": 0.05
          },
          "xaxis": {
           "automargin": true,
           "gridcolor": "white",
           "linecolor": "white",
           "ticks": "",
           "title": {
            "standoff": 15
           },
           "zerolinecolor": "white",
           "zerolinewidth": 2
          },
          "yaxis": {
           "automargin": true,
           "gridcolor": "white",
           "linecolor": "white",
           "ticks": "",
           "title": {
            "standoff": 15
           },
           "zerolinecolor": "white",
           "zerolinewidth": 2
          }
         }
        },
        "title": {
         "text": "Attributions of Layer 7 to the legal direction of B6 (We are looking at Position 12) Game 0"
        },
        "width": 1500,
        "xaxis": {
         "anchor": "y",
         "domain": [
          0,
          1
         ],
         "matches": "x12",
         "showticklabels": false
        },
        "xaxis10": {
         "anchor": "y10",
         "domain": [
          0,
          1
         ],
         "matches": "x12",
         "showticklabels": false
        },
        "xaxis11": {
         "anchor": "y11",
         "domain": [
          0,
          1
         ],
         "matches": "x12",
         "showticklabels": false
        },
        "xaxis12": {
         "anchor": "y12",
         "domain": [
          0,
          1
         ]
        },
        "xaxis2": {
         "anchor": "y2",
         "domain": [
          0,
          1
         ],
         "matches": "x12",
         "showticklabels": false
        },
        "xaxis3": {
         "anchor": "y3",
         "domain": [
          0,
          1
         ],
         "matches": "x12",
         "showticklabels": false
        },
        "xaxis4": {
         "anchor": "y4",
         "domain": [
          0,
          1
         ],
         "matches": "x12",
         "showticklabels": false
        },
        "xaxis5": {
         "anchor": "y5",
         "domain": [
          0,
          1
         ],
         "matches": "x12",
         "showticklabels": false
        },
        "xaxis6": {
         "anchor": "y6",
         "domain": [
          0,
          1
         ],
         "matches": "x12",
         "showticklabels": false
        },
        "xaxis7": {
         "anchor": "y7",
         "domain": [
          0,
          1
         ],
         "matches": "x12",
         "showticklabels": false
        },
        "xaxis8": {
         "anchor": "y8",
         "domain": [
          0,
          1
         ],
         "matches": "x12",
         "showticklabels": false
        },
        "xaxis9": {
         "anchor": "y9",
         "domain": [
          0,
          1
         ],
         "matches": "x12",
         "showticklabels": false
        },
        "yaxis": {
         "anchor": "x",
         "domain": [
          0.9548611111111112,
          1
         ],
         "showticklabels": false
        },
        "yaxis10": {
         "anchor": "x10",
         "domain": [
          0.1736111111111111,
          0.21875
         ],
         "showticklabels": false
        },
        "yaxis11": {
         "anchor": "x11",
         "domain": [
          0.08680555555555555,
          0.13194444444444445
         ],
         "showticklabels": false
        },
        "yaxis12": {
         "anchor": "x12",
         "domain": [
          0,
          0.045138888888888895
         ],
         "showticklabels": false
        },
        "yaxis2": {
         "anchor": "x2",
         "domain": [
          0.8680555555555556,
          0.9131944444444444
         ],
         "showticklabels": false
        },
        "yaxis3": {
         "anchor": "x3",
         "domain": [
          0.78125,
          0.8263888888888888
         ],
         "showticklabels": false
        },
        "yaxis4": {
         "anchor": "x4",
         "domain": [
          0.6944444444444444,
          0.7395833333333333
         ],
         "showticklabels": false
        },
        "yaxis5": {
         "anchor": "x5",
         "domain": [
          0.6076388888888888,
          0.6527777777777777
         ],
         "showticklabels": false
        },
        "yaxis6": {
         "anchor": "x6",
         "domain": [
          0.5208333333333334,
          0.5659722222222223
         ],
         "showticklabels": false
        },
        "yaxis7": {
         "anchor": "x7",
         "domain": [
          0.4340277777777778,
          0.4791666666666667
         ],
         "showticklabels": false
        },
        "yaxis8": {
         "anchor": "x8",
         "domain": [
          0.3472222222222222,
          0.3923611111111111
         ],
         "showticklabels": false
        },
        "yaxis9": {
         "anchor": "x9",
         "domain": [
          0.2604166666666667,
          0.3055555555555556
         ],
         "showticklabels": false
        }
       }
      },
      "text/html": [
       "<div>                            <div id=\"941b2d78-36b5-4367-b390-f9a356481904\" class=\"plotly-graph-div\" style=\"height:1000px; width:1500px;\"></div>            <script type=\"text/javascript\">                require([\"plotly\"], function(Plotly) {                    window.PLOTLYENV=window.PLOTLYENV || {};                                    if (document.getElementById(\"941b2d78-36b5-4367-b390-f9a356481904\")) {                    Plotly.newPlot(                        \"941b2d78-36b5-4367-b390-f9a356481904\",                        [{\"colorscale\":[[0.0,\"rgb(103,0,31)\"],[0.1,\"rgb(178,24,43)\"],[0.2,\"rgb(214,96,77)\"],[0.3,\"rgb(244,165,130)\"],[0.4,\"rgb(253,219,199)\"],[0.5,\"rgb(247,247,247)\"],[0.6,\"rgb(209,229,240)\"],[0.7,\"rgb(146,197,222)\"],[0.8,\"rgb(67,147,195)\"],[0.9,\"rgb(33,102,172)\"],[1.0,\"rgb(5,48,97)\"]],\"z\":[[-0.35497284,-0.13167197,-0.21204305,0.17548583,-0.41559047,0.36591578,-0.13978744,-0.17302716,0.3354604,-0.2372349,0.91769767,0.6261784,1.0239918,0.71753883,1.2439724,0.3916319,0.16661784,0.912435,0.052288033,0.71451056,0.6155219,0.61211824,0.3840652,0.5993595,1.022383,0.29576445,0.47121137,0.84372103,0.86241496,0.27315792,0.51715344,0.21508226,0.28957006,1.4809003,0.4760332,1.0019243,0.8023211,0.8736721,0.6129348,0.41326725,0.84134483,0.53561187,0.43068177,0.5788383,0.7104059,0.5977782,0.9613879,0.8006362,1.0360767,0.7651639,0.6806775,0.6034375,1.7223222,1.150717,0.8526476,0.8250129,-0.1747287,-0.3061155,-0.2990488]],\"zmax\":8.552993774414062,\"zmin\":-8.552993774414062,\"type\":\"heatmap\",\"xaxis\":\"x\",\"yaxis\":\"y\"},{\"colorscale\":[[0.0,\"rgb(103,0,31)\"],[0.1,\"rgb(178,24,43)\"],[0.2,\"rgb(214,96,77)\"],[0.3,\"rgb(244,165,130)\"],[0.4,\"rgb(253,219,199)\"],[0.5,\"rgb(247,247,247)\"],[0.6,\"rgb(209,229,240)\"],[0.7,\"rgb(146,197,222)\"],[0.8,\"rgb(67,147,195)\"],[0.9,\"rgb(33,102,172)\"],[1.0,\"rgb(5,48,97)\"]],\"z\":[[-0.23921715,0.15239209,0.2601506,-0.18253948,0.102703385,-0.30505824,-0.5480925,-0.040212214,-0.35194623,-0.22064817,1.6822209,-0.28540426,-0.0128418505,-1.461492,2.7346082,-1.0990393,0.41466704,-0.88823336,0.29541892,2.2269306,-0.5317312,1.8308184,-0.41558307,-0.91154134,-0.67632335,-0.6111407,-0.4393248,1.5215123,2.4296527,-0.34200007,2.2724974,-0.33473074,3.2281404,2.2823303,0.2702754,1.942245,-0.17024627,2.6826243,0.48972073,2.6723151,0.37530532,2.7209094,0.12595138,2.501814,0.6399691,2.962284,0.57546717,3.0686705,1.152437,3.8184881,0.63558006,4.5181355,2.160135,4.81015,2.1538992,5.080732,0.03717342,-1.586531,-0.3560465]],\"zmax\":8.552993774414062,\"zmin\":-8.552993774414062,\"type\":\"heatmap\",\"xaxis\":\"x2\",\"yaxis\":\"y2\"},{\"colorscale\":[[0.0,\"rgb(103,0,31)\"],[0.1,\"rgb(178,24,43)\"],[0.2,\"rgb(214,96,77)\"],[0.3,\"rgb(244,165,130)\"],[0.4,\"rgb(253,219,199)\"],[0.5,\"rgb(247,247,247)\"],[0.6,\"rgb(209,229,240)\"],[0.7,\"rgb(146,197,222)\"],[0.8,\"rgb(67,147,195)\"],[0.9,\"rgb(33,102,172)\"],[1.0,\"rgb(5,48,97)\"]],\"z\":[[-16.685453,0.3824529,0.40420854,0.03692853,-0.11826885,0.06221007,-0.3021101,-0.40573144,0.3097,-0.18559545,2.7270665,0.42629993,0.6946409,-0.42685446,2.104517,-0.25374144,0.3789891,0.1898553,0.20331143,2.6018755,0.21679698,2.583778,0.07196564,-0.22706771,0.21646413,-0.21608743,-0.15616664,2.1182094,2.746491,-0.12013226,2.6453176,-0.16470681,2.5341053,2.0955057,0.5718887,2.601408,0.52695906,2.526824,0.7885661,2.3508534,0.6847086,2.5962546,0.33940098,2.5670514,0.70338154,2.6386347,0.83622974,2.7166657,0.944124,2.7526095,0.9984684,1.9444276,2.8563573,2.4169314,1.9201012,2.6472497,-0.16985194,-1.0069835,-0.32870376]],\"zmax\":8.552993774414062,\"zmin\":-8.552993774414062,\"type\":\"heatmap\",\"xaxis\":\"x3\",\"yaxis\":\"y3\"},{\"colorscale\":[[0.0,\"rgb(103,0,31)\"],[0.1,\"rgb(178,24,43)\"],[0.2,\"rgb(214,96,77)\"],[0.3,\"rgb(244,165,130)\"],[0.4,\"rgb(253,219,199)\"],[0.5,\"rgb(247,247,247)\"],[0.6,\"rgb(209,229,240)\"],[0.7,\"rgb(146,197,222)\"],[0.8,\"rgb(67,147,195)\"],[0.9,\"rgb(33,102,172)\"],[1.0,\"rgb(5,48,97)\"]],\"z\":[[-17.27964,0.40317315,0.45231616,0.029874876,-0.43115598,0.12306759,-0.9899899,-0.6189708,0.2932141,-0.6434785,5.326985,0.76707387,1.7057908,-1.1708076,6.0830975,-0.9611489,0.96027386,0.21405688,0.55101836,5.5433164,0.30058736,5.0267143,0.040447786,-0.5392495,0.56252396,-0.53146374,-0.12427993,4.483443,6.038559,-0.18897441,5.434968,-0.28435537,6.051816,5.8587365,1.3181973,5.545577,1.159034,6.0831203,1.8912218,5.4364357,1.9013586,5.8527756,0.89603406,5.6477036,2.0537565,6.198697,2.3730845,6.585973,3.1326375,7.3362613,2.3147259,7.066001,6.7388144,8.377798,4.926648,8.552994,-0.3074071,-2.8996298,-0.98379904]],\"zmax\":8.552993774414062,\"zmin\":-8.552993774414062,\"type\":\"heatmap\",\"xaxis\":\"x4\",\"yaxis\":\"y4\"},{\"colorscale\":[[0.0,\"rgb(103,0,31)\"],[0.1,\"rgb(178,24,43)\"],[0.2,\"rgb(214,96,77)\"],[0.3,\"rgb(244,165,130)\"],[0.4,\"rgb(253,219,199)\"],[0.5,\"rgb(247,247,247)\"],[0.6,\"rgb(209,229,240)\"],[0.7,\"rgb(146,197,222)\"],[0.8,\"rgb(67,147,195)\"],[0.9,\"rgb(33,102,172)\"],[1.0,\"rgb(5,48,97)\"]],\"z\":[[-0.16825897,-0.07783042,-0.10129217,-0.10697662,-0.21576412,-0.1874146,-0.16612062,-0.16140741,-0.15834036,-0.16634849,-0.080988355,-0.12361789,0.015911996,-0.03803032,-0.010132916,-0.15583591,0.11842416,-0.11039549,0.02931793,0.02037388,0.058948357,0.12917967,0.14517462,0.17774075,0.13306779,0.08633433,0.12357942,0.09607881,0.10473012,0.0171815,-0.08524002,0.033576414,-0.15087634,0.12796323,0.08331534,0.11434901,-0.14912671,0.012335042,0.04416822,-0.013445251,0.018920343,0.0774248,0.042996913,0.06402254,0.31619856,0.12698254,0.09051887,0.11474499,0.14695308,0.18917373,0.3068827,0.18987332,-0.12570667,0.19640817,-0.13747968,-0.069345504,0.14255886,-0.31504798,0.031015344]],\"zmax\":8.552993774414062,\"zmin\":-8.552993774414062,\"type\":\"heatmap\",\"xaxis\":\"x5\",\"yaxis\":\"y5\"},{\"colorscale\":[[0.0,\"rgb(103,0,31)\"],[0.1,\"rgb(178,24,43)\"],[0.2,\"rgb(214,96,77)\"],[0.3,\"rgb(244,165,130)\"],[0.4,\"rgb(253,219,199)\"],[0.5,\"rgb(247,247,247)\"],[0.6,\"rgb(209,229,240)\"],[0.7,\"rgb(146,197,222)\"],[0.8,\"rgb(67,147,195)\"],[0.9,\"rgb(33,102,172)\"],[1.0,\"rgb(5,48,97)\"]],\"z\":[[-0.09878265,-0.12988001,-0.21498498,-0.14069387,-0.12238301,-0.18306781,-0.37891993,-0.14502347,-0.1407844,-0.13682418,-0.16882825,-0.12911323,-0.10632001,-0.21456969,-0.12413254,-0.10695739,-0.20602897,-0.11741384,-0.116328895,-0.12491085,-0.09936997,0.03224166,-0.009871319,0.025247112,0.091549605,-0.15155426,-0.078339376,0.16718479,0.13351576,-0.08446287,-0.14686,0.022624772,-0.1293222,-0.0501724,-0.103051044,0.038609758,-0.14586732,0.22110644,0.14864853,0.19376275,0.2233485,-0.02495095,0.09562452,0.06151401,0.11029599,0.16528146,0.1574813,0.23767443,0.35776705,0.41542792,0.047331847,1.0132825,-0.70253783,0.8419286,-0.97585005,-0.16992776,0.30193403,0.44559276,0.22864634]],\"zmax\":8.552993774414062,\"zmin\":-8.552993774414062,\"type\":\"heatmap\",\"xaxis\":\"x6\",\"yaxis\":\"y6\"},{\"colorscale\":[[0.0,\"rgb(103,0,31)\"],[0.1,\"rgb(178,24,43)\"],[0.2,\"rgb(214,96,77)\"],[0.3,\"rgb(244,165,130)\"],[0.4,\"rgb(253,219,199)\"],[0.5,\"rgb(247,247,247)\"],[0.6,\"rgb(209,229,240)\"],[0.7,\"rgb(146,197,222)\"],[0.8,\"rgb(67,147,195)\"],[0.9,\"rgb(33,102,172)\"],[1.0,\"rgb(5,48,97)\"]],\"z\":[[0.059216447,0.12537771,-0.89730763,-0.27822882,-0.7402632,-0.785638,-0.8000033,-0.7687179,-1.4047787,-1.2589618,0.8099572,0.93932986,0.50490755,0.4890486,1.2172768,0.70031726,1.2106531,0.80160767,0.88375807,1.1820153,0.9697881,0.94884956,0.76820356,0.9416931,1.1288977,1.1787045,0.71954787,1.5920565,1.5717473,-0.9030942,-0.52493584,-0.4130026,0.20866147,1.8367054,0.9157619,1.6871189,0.4785213,1.8092124,0.862882,0.79073524,1.0146816,0.6388632,0.9144114,0.6761315,0.87643844,1.5521002,0.76591426,0.8668475,0.6067692,1.6614146,0.7014251,1.8286109,0.352641,1.8209698,0.46682838,1.5734764,0.080053546,-0.261711,-0.12811641]],\"zmax\":8.552993774414062,\"zmin\":-8.552993774414062,\"type\":\"heatmap\",\"xaxis\":\"x7\",\"yaxis\":\"y7\"},{\"colorscale\":[[0.0,\"rgb(103,0,31)\"],[0.1,\"rgb(178,24,43)\"],[0.2,\"rgb(214,96,77)\"],[0.3,\"rgb(244,165,130)\"],[0.4,\"rgb(253,219,199)\"],[0.5,\"rgb(247,247,247)\"],[0.6,\"rgb(209,229,240)\"],[0.7,\"rgb(146,197,222)\"],[0.8,\"rgb(67,147,195)\"],[0.9,\"rgb(33,102,172)\"],[1.0,\"rgb(5,48,97)\"]],\"z\":[[-0.20320249,-0.19955045,-0.18135598,-0.18999115,-0.17148292,-0.1321517,-0.071262404,-0.20081827,-0.16339253,-0.19980174,-0.052768327,-0.19102877,0.10822788,-0.15129308,-0.089639515,-0.13086325,0.22027919,-0.19313422,-0.0871747,-0.1486012,0.06317827,-0.19358742,-0.040089145,-0.0820643,0.16894542,-0.20052794,0.112479374,-0.13772717,0.09050774,-0.1867632,0.28750527,-0.17331335,0.32072735,0.0461178,0.22666557,0.038625136,-0.16195996,-0.15056193,0.080914475,0.20139937,0.263637,0.26156,-0.027287543,0.21392477,0.27271992,0.20354956,-0.027869973,-0.12612857,0.09960891,-0.029976826,0.14030817,0.35486293,0.11903328,0.43761694,0.15509398,0.20387559,0.20470007,-0.08427744,-0.066626206]],\"zmax\":8.552993774414062,\"zmin\":-8.552993774414062,\"type\":\"heatmap\",\"xaxis\":\"x8\",\"yaxis\":\"y8\"},{\"colorscale\":[[0.0,\"rgb(103,0,31)\"],[0.1,\"rgb(178,24,43)\"],[0.2,\"rgb(214,96,77)\"],[0.3,\"rgb(244,165,130)\"],[0.4,\"rgb(253,219,199)\"],[0.5,\"rgb(247,247,247)\"],[0.6,\"rgb(209,229,240)\"],[0.7,\"rgb(146,197,222)\"],[0.8,\"rgb(67,147,195)\"],[0.9,\"rgb(33,102,172)\"],[1.0,\"rgb(5,48,97)\"]],\"z\":[[0.11479073,0.110607214,0.10977899,0.11413446,0.11018871,0.113697596,0.102727056,0.112730145,0.11152938,0.112650074,0.066223554,0.08927755,0.10429081,0.10835299,0.08737731,0.14058328,-0.07348024,0.12875293,0.0978981,0.20702513,0.1450671,0.14080803,0.1822564,0.16072723,0.29227728,0.16251917,0.27709204,0.26173654,0.9509185,0.2031954,0.8361916,0.1530799,0.54974514,0.32134777,1.0827644,0.38312113,0.76144457,0.37589747,0.9716021,0.39412874,0.56694704,0.32440394,0.99450415,0.3574385,1.1045405,0.62000656,0.95225286,0.589668,0.8836237,0.55298334,0.039396383,0.43874705,0.37214223,0.22532815,0.14177585,0.62352884,0.16098142,0.19466546,0.13573876]],\"zmax\":8.552993774414062,\"zmin\":-8.552993774414062,\"type\":\"heatmap\",\"xaxis\":\"x9\",\"yaxis\":\"y9\"},{\"colorscale\":[[0.0,\"rgb(103,0,31)\"],[0.1,\"rgb(178,24,43)\"],[0.2,\"rgb(214,96,77)\"],[0.3,\"rgb(244,165,130)\"],[0.4,\"rgb(253,219,199)\"],[0.5,\"rgb(247,247,247)\"],[0.6,\"rgb(209,229,240)\"],[0.7,\"rgb(146,197,222)\"],[0.8,\"rgb(67,147,195)\"],[0.9,\"rgb(33,102,172)\"],[1.0,\"rgb(5,48,97)\"]],\"z\":[[0.017884193,0.019330055,0.034158222,0.019831652,0.039148442,0.025522834,0.058911134,0.034052998,0.13899063,0.028997492,0.33649185,0.15709536,-0.014690252,-0.15147717,-0.04269828,-0.08246681,-0.44265968,-0.033932768,-0.46950203,-0.053663325,-0.05827152,-0.010576386,-0.23623708,-0.015456796,-0.46865588,-0.007018851,-0.4275107,-0.123772494,-0.4472928,-0.006195143,-0.095634684,0.002709819,-0.043439668,-0.23697424,-2.6303082,-0.38738462,-0.76432097,-0.14845036,-1.0033228,-0.14504577,-1.1415877,-0.31203806,-0.5825602,-0.6826638,-1.1433921,-0.62263995,-0.7759304,-0.30361885,0.59691066,-0.039629787,0.1080154,-0.48209316,0.2480325,-0.65273815,-0.0690494,0.11032708,0.10008195,0.0011663251,-0.1144512]],\"zmax\":8.552993774414062,\"zmin\":-8.552993774414062,\"type\":\"heatmap\",\"xaxis\":\"x10\",\"yaxis\":\"y10\"},{\"colorscale\":[[0.0,\"rgb(103,0,31)\"],[0.1,\"rgb(178,24,43)\"],[0.2,\"rgb(214,96,77)\"],[0.3,\"rgb(244,165,130)\"],[0.4,\"rgb(253,219,199)\"],[0.5,\"rgb(247,247,247)\"],[0.6,\"rgb(209,229,240)\"],[0.7,\"rgb(146,197,222)\"],[0.8,\"rgb(67,147,195)\"],[0.9,\"rgb(33,102,172)\"],[1.0,\"rgb(5,48,97)\"]],\"z\":[[-0.009647096,-0.008545008,-0.009280488,-0.006623868,-0.00091716275,0.05135229,0.24019909,0.02117329,0.1341852,0.034162246,0.5034537,0.4739458,0.4632779,0.3884133,0.28545564,0.08090904,0.45092386,0.18785723,0.4282364,0.30267775,0.24157438,0.14086427,0.6225611,0.09221808,0.3072359,0.09184477,0.28181395,0.13319671,0.31574076,0.11969345,0.6647383,0.7033511,0.42141682,0.48315504,0.49677312,0.5123074,0.46321857,0.38030672,0.44658753,0.45117295,0.47723228,0.40111813,0.34126657,0.43966147,0.680802,0.49627763,0.59560037,0.30563763,0.44082412,0.3288157,0.43886626,0.59072816,0.2898605,0.8919549,0.50145084,0.922056,0.64298993,0.03583934,0.3511108]],\"zmax\":8.552993774414062,\"zmin\":-8.552993774414062,\"type\":\"heatmap\",\"xaxis\":\"x11\",\"yaxis\":\"y11\"},{\"colorscale\":[[0.0,\"rgb(103,0,31)\"],[0.1,\"rgb(178,24,43)\"],[0.2,\"rgb(214,96,77)\"],[0.3,\"rgb(244,165,130)\"],[0.4,\"rgb(253,219,199)\"],[0.5,\"rgb(247,247,247)\"],[0.6,\"rgb(209,229,240)\"],[0.7,\"rgb(146,197,222)\"],[0.8,\"rgb(67,147,195)\"],[0.9,\"rgb(33,102,172)\"],[1.0,\"rgb(5,48,97)\"]],\"z\":[[-0.16755469,0.048850607,-0.059020326,-0.024751484,-0.14261849,-0.060246807,-0.18088016,-0.15212408,-0.17155915,-0.14254189,-0.09884482,0.016206607,-0.13825016,-0.031779073,0.43217173,0.41500396,0.029180765,0.44069412,0.10806535,0.20043851,0.19189154,0.22756203,0.18746042,0.1287562,0.20545761,0.1543217,0.1621021,0.1722888,0.18656051,0.14721645,0.2412742,-0.024464592,0.4319253,0.27095786,0.58058465,0.24390054,0.4369677,0.21741088,0.048224095,0.07147763,0.32894504,0.1343977,0.002229482,0.16790245,0.050137274,0.034733005,0.051382232,-0.11997406,0.3724324,-0.08005425,0.35922444,-0.14044413,-0.4517308,-0.00059372187,0.024004236,0.11517605,-0.0832843,-0.18336166,0.3442921]],\"zmax\":8.552993774414062,\"zmin\":-8.552993774414062,\"type\":\"heatmap\",\"xaxis\":\"x12\",\"yaxis\":\"y12\"}],                        {\"template\":{\"data\":{\"histogram2dcontour\":[{\"type\":\"histogram2dcontour\",\"colorbar\":{\"outlinewidth\":0,\"ticks\":\"\"},\"colorscale\":[[0.0,\"#0d0887\"],[0.1111111111111111,\"#46039f\"],[0.2222222222222222,\"#7201a8\"],[0.3333333333333333,\"#9c179e\"],[0.4444444444444444,\"#bd3786\"],[0.5555555555555556,\"#d8576b\"],[0.6666666666666666,\"#ed7953\"],[0.7777777777777778,\"#fb9f3a\"],[0.8888888888888888,\"#fdca26\"],[1.0,\"#f0f921\"]]}],\"choropleth\":[{\"type\":\"choropleth\",\"colorbar\":{\"outlinewidth\":0,\"ticks\":\"\"}}],\"histogram2d\":[{\"type\":\"histogram2d\",\"colorbar\":{\"outlinewidth\":0,\"ticks\":\"\"},\"colorscale\":[[0.0,\"#0d0887\"],[0.1111111111111111,\"#46039f\"],[0.2222222222222222,\"#7201a8\"],[0.3333333333333333,\"#9c179e\"],[0.4444444444444444,\"#bd3786\"],[0.5555555555555556,\"#d8576b\"],[0.6666666666666666,\"#ed7953\"],[0.7777777777777778,\"#fb9f3a\"],[0.8888888888888888,\"#fdca26\"],[1.0,\"#f0f921\"]]}],\"heatmap\":[{\"type\":\"heatmap\",\"colorbar\":{\"outlinewidth\":0,\"ticks\":\"\"},\"colorscale\":[[0.0,\"#0d0887\"],[0.1111111111111111,\"#46039f\"],[0.2222222222222222,\"#7201a8\"],[0.3333333333333333,\"#9c179e\"],[0.4444444444444444,\"#bd3786\"],[0.5555555555555556,\"#d8576b\"],[0.6666666666666666,\"#ed7953\"],[0.7777777777777778,\"#fb9f3a\"],[0.8888888888888888,\"#fdca26\"],[1.0,\"#f0f921\"]]}],\"heatmapgl\":[{\"type\":\"heatmapgl\",\"colorbar\":{\"outlinewidth\":0,\"ticks\":\"\"},\"colorscale\":[[0.0,\"#0d0887\"],[0.1111111111111111,\"#46039f\"],[0.2222222222222222,\"#7201a8\"],[0.3333333333333333,\"#9c179e\"],[0.4444444444444444,\"#bd3786\"],[0.5555555555555556,\"#d8576b\"],[0.6666666666666666,\"#ed7953\"],[0.7777777777777778,\"#fb9f3a\"],[0.8888888888888888,\"#fdca26\"],[1.0,\"#f0f921\"]]}],\"contourcarpet\":[{\"type\":\"contourcarpet\",\"colorbar\":{\"outlinewidth\":0,\"ticks\":\"\"}}],\"contour\":[{\"type\":\"contour\",\"colorbar\":{\"outlinewidth\":0,\"ticks\":\"\"},\"colorscale\":[[0.0,\"#0d0887\"],[0.1111111111111111,\"#46039f\"],[0.2222222222222222,\"#7201a8\"],[0.3333333333333333,\"#9c179e\"],[0.4444444444444444,\"#bd3786\"],[0.5555555555555556,\"#d8576b\"],[0.6666666666666666,\"#ed7953\"],[0.7777777777777778,\"#fb9f3a\"],[0.8888888888888888,\"#fdca26\"],[1.0,\"#f0f921\"]]}],\"surface\":[{\"type\":\"surface\",\"colorbar\":{\"outlinewidth\":0,\"ticks\":\"\"},\"colorscale\":[[0.0,\"#0d0887\"],[0.1111111111111111,\"#46039f\"],[0.2222222222222222,\"#7201a8\"],[0.3333333333333333,\"#9c179e\"],[0.4444444444444444,\"#bd3786\"],[0.5555555555555556,\"#d8576b\"],[0.6666666666666666,\"#ed7953\"],[0.7777777777777778,\"#fb9f3a\"],[0.8888888888888888,\"#fdca26\"],[1.0,\"#f0f921\"]]}],\"mesh3d\":[{\"type\":\"mesh3d\",\"colorbar\":{\"outlinewidth\":0,\"ticks\":\"\"}}],\"scatter\":[{\"fillpattern\":{\"fillmode\":\"overlay\",\"size\":10,\"solidity\":0.2},\"type\":\"scatter\"}],\"parcoords\":[{\"type\":\"parcoords\",\"line\":{\"colorbar\":{\"outlinewidth\":0,\"ticks\":\"\"}}}],\"scatterpolargl\":[{\"type\":\"scatterpolargl\",\"marker\":{\"colorbar\":{\"outlinewidth\":0,\"ticks\":\"\"}}}],\"bar\":[{\"error_x\":{\"color\":\"#2a3f5f\"},\"error_y\":{\"color\":\"#2a3f5f\"},\"marker\":{\"line\":{\"color\":\"#E5ECF6\",\"width\":0.5},\"pattern\":{\"fillmode\":\"overlay\",\"size\":10,\"solidity\":0.2}},\"type\":\"bar\"}],\"scattergeo\":[{\"type\":\"scattergeo\",\"marker\":{\"colorbar\":{\"outlinewidth\":0,\"ticks\":\"\"}}}],\"scatterpolar\":[{\"type\":\"scatterpolar\",\"marker\":{\"colorbar\":{\"outlinewidth\":0,\"ticks\":\"\"}}}],\"histogram\":[{\"marker\":{\"pattern\":{\"fillmode\":\"overlay\",\"size\":10,\"solidity\":0.2}},\"type\":\"histogram\"}],\"scattergl\":[{\"type\":\"scattergl\",\"marker\":{\"colorbar\":{\"outlinewidth\":0,\"ticks\":\"\"}}}],\"scatter3d\":[{\"type\":\"scatter3d\",\"line\":{\"colorbar\":{\"outlinewidth\":0,\"ticks\":\"\"}},\"marker\":{\"colorbar\":{\"outlinewidth\":0,\"ticks\":\"\"}}}],\"scattermapbox\":[{\"type\":\"scattermapbox\",\"marker\":{\"colorbar\":{\"outlinewidth\":0,\"ticks\":\"\"}}}],\"scatterternary\":[{\"type\":\"scatterternary\",\"marker\":{\"colorbar\":{\"outlinewidth\":0,\"ticks\":\"\"}}}],\"scattercarpet\":[{\"type\":\"scattercarpet\",\"marker\":{\"colorbar\":{\"outlinewidth\":0,\"ticks\":\"\"}}}],\"carpet\":[{\"aaxis\":{\"endlinecolor\":\"#2a3f5f\",\"gridcolor\":\"white\",\"linecolor\":\"white\",\"minorgridcolor\":\"white\",\"startlinecolor\":\"#2a3f5f\"},\"baxis\":{\"endlinecolor\":\"#2a3f5f\",\"gridcolor\":\"white\",\"linecolor\":\"white\",\"minorgridcolor\":\"white\",\"startlinecolor\":\"#2a3f5f\"},\"type\":\"carpet\"}],\"table\":[{\"cells\":{\"fill\":{\"color\":\"#EBF0F8\"},\"line\":{\"color\":\"white\"}},\"header\":{\"fill\":{\"color\":\"#C8D4E3\"},\"line\":{\"color\":\"white\"}},\"type\":\"table\"}],\"barpolar\":[{\"marker\":{\"line\":{\"color\":\"#E5ECF6\",\"width\":0.5},\"pattern\":{\"fillmode\":\"overlay\",\"size\":10,\"solidity\":0.2}},\"type\":\"barpolar\"}],\"pie\":[{\"automargin\":true,\"type\":\"pie\"}]},\"layout\":{\"autotypenumbers\":\"strict\",\"colorway\":[\"#636efa\",\"#EF553B\",\"#00cc96\",\"#ab63fa\",\"#FFA15A\",\"#19d3f3\",\"#FF6692\",\"#B6E880\",\"#FF97FF\",\"#FECB52\"],\"font\":{\"color\":\"#2a3f5f\"},\"hovermode\":\"closest\",\"hoverlabel\":{\"align\":\"left\"},\"paper_bgcolor\":\"white\",\"plot_bgcolor\":\"#E5ECF6\",\"polar\":{\"bgcolor\":\"#E5ECF6\",\"angularaxis\":{\"gridcolor\":\"white\",\"linecolor\":\"white\",\"ticks\":\"\"},\"radialaxis\":{\"gridcolor\":\"white\",\"linecolor\":\"white\",\"ticks\":\"\"}},\"ternary\":{\"bgcolor\":\"#E5ECF6\",\"aaxis\":{\"gridcolor\":\"white\",\"linecolor\":\"white\",\"ticks\":\"\"},\"baxis\":{\"gridcolor\":\"white\",\"linecolor\":\"white\",\"ticks\":\"\"},\"caxis\":{\"gridcolor\":\"white\",\"linecolor\":\"white\",\"ticks\":\"\"}},\"coloraxis\":{\"colorbar\":{\"outlinewidth\":0,\"ticks\":\"\"}},\"colorscale\":{\"sequential\":[[0.0,\"#0d0887\"],[0.1111111111111111,\"#46039f\"],[0.2222222222222222,\"#7201a8\"],[0.3333333333333333,\"#9c179e\"],[0.4444444444444444,\"#bd3786\"],[0.5555555555555556,\"#d8576b\"],[0.6666666666666666,\"#ed7953\"],[0.7777777777777778,\"#fb9f3a\"],[0.8888888888888888,\"#fdca26\"],[1.0,\"#f0f921\"]],\"sequentialminus\":[[0.0,\"#0d0887\"],[0.1111111111111111,\"#46039f\"],[0.2222222222222222,\"#7201a8\"],[0.3333333333333333,\"#9c179e\"],[0.4444444444444444,\"#bd3786\"],[0.5555555555555556,\"#d8576b\"],[0.6666666666666666,\"#ed7953\"],[0.7777777777777778,\"#fb9f3a\"],[0.8888888888888888,\"#fdca26\"],[1.0,\"#f0f921\"]],\"diverging\":[[0,\"#8e0152\"],[0.1,\"#c51b7d\"],[0.2,\"#de77ae\"],[0.3,\"#f1b6da\"],[0.4,\"#fde0ef\"],[0.5,\"#f7f7f7\"],[0.6,\"#e6f5d0\"],[0.7,\"#b8e186\"],[0.8,\"#7fbc41\"],[0.9,\"#4d9221\"],[1,\"#276419\"]]},\"xaxis\":{\"gridcolor\":\"white\",\"linecolor\":\"white\",\"ticks\":\"\",\"title\":{\"standoff\":15},\"zerolinecolor\":\"white\",\"automargin\":true,\"zerolinewidth\":2},\"yaxis\":{\"gridcolor\":\"white\",\"linecolor\":\"white\",\"ticks\":\"\",\"title\":{\"standoff\":15},\"zerolinecolor\":\"white\",\"automargin\":true,\"zerolinewidth\":2},\"scene\":{\"xaxis\":{\"backgroundcolor\":\"#E5ECF6\",\"gridcolor\":\"white\",\"linecolor\":\"white\",\"showbackground\":true,\"ticks\":\"\",\"zerolinecolor\":\"white\",\"gridwidth\":2},\"yaxis\":{\"backgroundcolor\":\"#E5ECF6\",\"gridcolor\":\"white\",\"linecolor\":\"white\",\"showbackground\":true,\"ticks\":\"\",\"zerolinecolor\":\"white\",\"gridwidth\":2},\"zaxis\":{\"backgroundcolor\":\"#E5ECF6\",\"gridcolor\":\"white\",\"linecolor\":\"white\",\"showbackground\":true,\"ticks\":\"\",\"zerolinecolor\":\"white\",\"gridwidth\":2}},\"shapedefaults\":{\"line\":{\"color\":\"#2a3f5f\"}},\"annotationdefaults\":{\"arrowcolor\":\"#2a3f5f\",\"arrowhead\":0,\"arrowwidth\":1},\"geo\":{\"bgcolor\":\"white\",\"landcolor\":\"#E5ECF6\",\"subunitcolor\":\"white\",\"showland\":true,\"showlakes\":true,\"lakecolor\":\"white\"},\"title\":{\"x\":0.05},\"mapbox\":{\"style\":\"light\"}}},\"xaxis\":{\"anchor\":\"y\",\"domain\":[0.0,1.0],\"matches\":\"x12\",\"showticklabels\":false},\"yaxis\":{\"anchor\":\"x\",\"domain\":[0.9548611111111112,1.0],\"showticklabels\":false},\"xaxis2\":{\"anchor\":\"y2\",\"domain\":[0.0,1.0],\"matches\":\"x12\",\"showticklabels\":false},\"yaxis2\":{\"anchor\":\"x2\",\"domain\":[0.8680555555555556,0.9131944444444444],\"showticklabels\":false},\"xaxis3\":{\"anchor\":\"y3\",\"domain\":[0.0,1.0],\"matches\":\"x12\",\"showticklabels\":false},\"yaxis3\":{\"anchor\":\"x3\",\"domain\":[0.78125,0.8263888888888888],\"showticklabels\":false},\"xaxis4\":{\"anchor\":\"y4\",\"domain\":[0.0,1.0],\"matches\":\"x12\",\"showticklabels\":false},\"yaxis4\":{\"anchor\":\"x4\",\"domain\":[0.6944444444444444,0.7395833333333333],\"showticklabels\":false},\"xaxis5\":{\"anchor\":\"y5\",\"domain\":[0.0,1.0],\"matches\":\"x12\",\"showticklabels\":false},\"yaxis5\":{\"anchor\":\"x5\",\"domain\":[0.6076388888888888,0.6527777777777777],\"showticklabels\":false},\"xaxis6\":{\"anchor\":\"y6\",\"domain\":[0.0,1.0],\"matches\":\"x12\",\"showticklabels\":false},\"yaxis6\":{\"anchor\":\"x6\",\"domain\":[0.5208333333333334,0.5659722222222223],\"showticklabels\":false},\"xaxis7\":{\"anchor\":\"y7\",\"domain\":[0.0,1.0],\"matches\":\"x12\",\"showticklabels\":false},\"yaxis7\":{\"anchor\":\"x7\",\"domain\":[0.4340277777777778,0.4791666666666667],\"showticklabels\":false},\"xaxis8\":{\"anchor\":\"y8\",\"domain\":[0.0,1.0],\"matches\":\"x12\",\"showticklabels\":false},\"yaxis8\":{\"anchor\":\"x8\",\"domain\":[0.3472222222222222,0.3923611111111111],\"showticklabels\":false},\"xaxis9\":{\"anchor\":\"y9\",\"domain\":[0.0,1.0],\"matches\":\"x12\",\"showticklabels\":false},\"yaxis9\":{\"anchor\":\"x9\",\"domain\":[0.2604166666666667,0.3055555555555556],\"showticklabels\":false},\"xaxis10\":{\"anchor\":\"y10\",\"domain\":[0.0,1.0],\"matches\":\"x12\",\"showticklabels\":false},\"yaxis10\":{\"anchor\":\"x10\",\"domain\":[0.1736111111111111,0.21875],\"showticklabels\":false},\"xaxis11\":{\"anchor\":\"y11\",\"domain\":[0.0,1.0],\"matches\":\"x12\",\"showticklabels\":false},\"yaxis11\":{\"anchor\":\"x11\",\"domain\":[0.08680555555555555,0.13194444444444445],\"showticklabels\":false},\"xaxis12\":{\"anchor\":\"y12\",\"domain\":[0.0,1.0]},\"yaxis12\":{\"anchor\":\"x12\",\"domain\":[0.0,0.045138888888888895],\"showticklabels\":false},\"annotations\":[{\"font\":{\"size\":16},\"showarrow\":false,\"text\":\"resid_pre (7)\",\"x\":0.5,\"xanchor\":\"center\",\"xref\":\"paper\",\"y\":1.0,\"yanchor\":\"bottom\",\"yref\":\"paper\"},{\"font\":{\"size\":16},\"showarrow\":false,\"text\":\"attn_out (7)\",\"x\":0.5,\"xanchor\":\"center\",\"xref\":\"paper\",\"y\":0.9131944444444444,\"yanchor\":\"bottom\",\"yref\":\"paper\"},{\"font\":{\"size\":16},\"showarrow\":false,\"text\":\"mlp_out (7)\",\"x\":0.5,\"xanchor\":\"center\",\"xref\":\"paper\",\"y\":0.8263888888888888,\"yanchor\":\"bottom\",\"yref\":\"paper\"},{\"font\":{\"size\":16},\"showarrow\":false,\"text\":\"resid_post (7)\",\"x\":0.5,\"xanchor\":\"center\",\"xref\":\"paper\",\"y\":0.7395833333333333,\"yanchor\":\"bottom\",\"yref\":\"paper\"},{\"font\":{\"size\":16},\"showarrow\":false,\"text\":\"head_0 (7)\",\"x\":0.5,\"xanchor\":\"center\",\"xref\":\"paper\",\"y\":0.6527777777777777,\"yanchor\":\"bottom\",\"yref\":\"paper\"},{\"font\":{\"size\":16},\"showarrow\":false,\"text\":\"head_1 (7)\",\"x\":0.5,\"xanchor\":\"center\",\"xref\":\"paper\",\"y\":0.5659722222222223,\"yanchor\":\"bottom\",\"yref\":\"paper\"},{\"font\":{\"size\":16},\"showarrow\":false,\"text\":\"head_2 (7)\",\"x\":0.5,\"xanchor\":\"center\",\"xref\":\"paper\",\"y\":0.4791666666666667,\"yanchor\":\"bottom\",\"yref\":\"paper\"},{\"font\":{\"size\":16},\"showarrow\":false,\"text\":\"head_3 (7)\",\"x\":0.5,\"xanchor\":\"center\",\"xref\":\"paper\",\"y\":0.3923611111111111,\"yanchor\":\"bottom\",\"yref\":\"paper\"},{\"font\":{\"size\":16},\"showarrow\":false,\"text\":\"head_4 (7)\",\"x\":0.5,\"xanchor\":\"center\",\"xref\":\"paper\",\"y\":0.3055555555555556,\"yanchor\":\"bottom\",\"yref\":\"paper\"},{\"font\":{\"size\":16},\"showarrow\":false,\"text\":\"head_5 (7)\",\"x\":0.5,\"xanchor\":\"center\",\"xref\":\"paper\",\"y\":0.21875,\"yanchor\":\"bottom\",\"yref\":\"paper\"},{\"font\":{\"size\":16},\"showarrow\":false,\"text\":\"head_6 (7)\",\"x\":0.5,\"xanchor\":\"center\",\"xref\":\"paper\",\"y\":0.13194444444444445,\"yanchor\":\"bottom\",\"yref\":\"paper\"},{\"font\":{\"size\":16},\"showarrow\":false,\"text\":\"head_7 (7)\",\"x\":0.5,\"xanchor\":\"center\",\"xref\":\"paper\",\"y\":0.045138888888888895,\"yanchor\":\"bottom\",\"yref\":\"paper\"}],\"title\":{\"text\":\"Attributions of Layer 7 to the legal direction of B6 (We are looking at Position 12) Game 0\"},\"height\":1000,\"width\":1500},                        {\"responsive\": true}                    ).then(function(){\n",
       "                            \n",
       "var gd = document.getElementById('941b2d78-36b5-4367-b390-f9a356481904');\n",
       "var x = new MutationObserver(function (mutations, observer) {{\n",
       "        var display = window.getComputedStyle(gd).display;\n",
       "        if (!display || display === 'none') {{\n",
       "            console.log([gd, 'removed!']);\n",
       "            Plotly.purge(gd);\n",
       "            observer.disconnect();\n",
       "        }}\n",
       "}});\n",
       "\n",
       "// Listen for the removal of the full notebook cells\n",
       "var notebookContainer = gd.closest('#notebook-container');\n",
       "if (notebookContainer) {{\n",
       "    x.observe(notebookContainer, {childList: true});\n",
       "}}\n",
       "\n",
       "// Listen for the clearing of the current output cell\n",
       "var outputEl = gd.closest('.output');\n",
       "if (outputEl) {{\n",
       "    x.observe(outputEl, {childList: true});\n",
       "}}\n",
       "\n",
       "                        })                };                });            </script>        </div>"
      ]
     },
     "metadata": {},
     "output_type": "display_data"
    },
    {
     "name": "stdout",
     "output_type": "stream",
     "text": [
      "10\n",
      "torch.Size([2048])\n"
     ]
    },
    {
     "data": {
      "application/vnd.plotly.v1+json": {
       "config": {
        "plotlyServerURL": "https://plot.ly"
       },
       "data": [
        {
         "hovertemplate": "Neuron Index=%{x}<br>Attribution=%{y}<extra></extra>",
         "legendgroup": "",
         "marker": {
          "color": "#636efa",
          "symbol": "circle"
         },
         "mode": "markers",
         "name": "",
         "showlegend": false,
         "type": "scattergl",
         "x": [
          0,
          1,
          2,
          3,
          4,
          5,
          6,
          7,
          8,
          9,
          10,
          11,
          12,
          13,
          14,
          15,
          16,
          17,
          18,
          19,
          20,
          21,
          22,
          23,
          24,
          25,
          26,
          27,
          28,
          29,
          30,
          31,
          32,
          33,
          34,
          35,
          36,
          37,
          38,
          39,
          40,
          41,
          42,
          43,
          44,
          45,
          46,
          47,
          48,
          49,
          50,
          51,
          52,
          53,
          54,
          55,
          56,
          57,
          58,
          59,
          60,
          61,
          62,
          63,
          64,
          65,
          66,
          67,
          68,
          69,
          70,
          71,
          72,
          73,
          74,
          75,
          76,
          77,
          78,
          79,
          80,
          81,
          82,
          83,
          84,
          85,
          86,
          87,
          88,
          89,
          90,
          91,
          92,
          93,
          94,
          95,
          96,
          97,
          98,
          99,
          100,
          101,
          102,
          103,
          104,
          105,
          106,
          107,
          108,
          109,
          110,
          111,
          112,
          113,
          114,
          115,
          116,
          117,
          118,
          119,
          120,
          121,
          122,
          123,
          124,
          125,
          126,
          127,
          128,
          129,
          130,
          131,
          132,
          133,
          134,
          135,
          136,
          137,
          138,
          139,
          140,
          141,
          142,
          143,
          144,
          145,
          146,
          147,
          148,
          149,
          150,
          151,
          152,
          153,
          154,
          155,
          156,
          157,
          158,
          159,
          160,
          161,
          162,
          163,
          164,
          165,
          166,
          167,
          168,
          169,
          170,
          171,
          172,
          173,
          174,
          175,
          176,
          177,
          178,
          179,
          180,
          181,
          182,
          183,
          184,
          185,
          186,
          187,
          188,
          189,
          190,
          191,
          192,
          193,
          194,
          195,
          196,
          197,
          198,
          199,
          200,
          201,
          202,
          203,
          204,
          205,
          206,
          207,
          208,
          209,
          210,
          211,
          212,
          213,
          214,
          215,
          216,
          217,
          218,
          219,
          220,
          221,
          222,
          223,
          224,
          225,
          226,
          227,
          228,
          229,
          230,
          231,
          232,
          233,
          234,
          235,
          236,
          237,
          238,
          239,
          240,
          241,
          242,
          243,
          244,
          245,
          246,
          247,
          248,
          249,
          250,
          251,
          252,
          253,
          254,
          255,
          256,
          257,
          258,
          259,
          260,
          261,
          262,
          263,
          264,
          265,
          266,
          267,
          268,
          269,
          270,
          271,
          272,
          273,
          274,
          275,
          276,
          277,
          278,
          279,
          280,
          281,
          282,
          283,
          284,
          285,
          286,
          287,
          288,
          289,
          290,
          291,
          292,
          293,
          294,
          295,
          296,
          297,
          298,
          299,
          300,
          301,
          302,
          303,
          304,
          305,
          306,
          307,
          308,
          309,
          310,
          311,
          312,
          313,
          314,
          315,
          316,
          317,
          318,
          319,
          320,
          321,
          322,
          323,
          324,
          325,
          326,
          327,
          328,
          329,
          330,
          331,
          332,
          333,
          334,
          335,
          336,
          337,
          338,
          339,
          340,
          341,
          342,
          343,
          344,
          345,
          346,
          347,
          348,
          349,
          350,
          351,
          352,
          353,
          354,
          355,
          356,
          357,
          358,
          359,
          360,
          361,
          362,
          363,
          364,
          365,
          366,
          367,
          368,
          369,
          370,
          371,
          372,
          373,
          374,
          375,
          376,
          377,
          378,
          379,
          380,
          381,
          382,
          383,
          384,
          385,
          386,
          387,
          388,
          389,
          390,
          391,
          392,
          393,
          394,
          395,
          396,
          397,
          398,
          399,
          400,
          401,
          402,
          403,
          404,
          405,
          406,
          407,
          408,
          409,
          410,
          411,
          412,
          413,
          414,
          415,
          416,
          417,
          418,
          419,
          420,
          421,
          422,
          423,
          424,
          425,
          426,
          427,
          428,
          429,
          430,
          431,
          432,
          433,
          434,
          435,
          436,
          437,
          438,
          439,
          440,
          441,
          442,
          443,
          444,
          445,
          446,
          447,
          448,
          449,
          450,
          451,
          452,
          453,
          454,
          455,
          456,
          457,
          458,
          459,
          460,
          461,
          462,
          463,
          464,
          465,
          466,
          467,
          468,
          469,
          470,
          471,
          472,
          473,
          474,
          475,
          476,
          477,
          478,
          479,
          480,
          481,
          482,
          483,
          484,
          485,
          486,
          487,
          488,
          489,
          490,
          491,
          492,
          493,
          494,
          495,
          496,
          497,
          498,
          499,
          500,
          501,
          502,
          503,
          504,
          505,
          506,
          507,
          508,
          509,
          510,
          511,
          512,
          513,
          514,
          515,
          516,
          517,
          518,
          519,
          520,
          521,
          522,
          523,
          524,
          525,
          526,
          527,
          528,
          529,
          530,
          531,
          532,
          533,
          534,
          535,
          536,
          537,
          538,
          539,
          540,
          541,
          542,
          543,
          544,
          545,
          546,
          547,
          548,
          549,
          550,
          551,
          552,
          553,
          554,
          555,
          556,
          557,
          558,
          559,
          560,
          561,
          562,
          563,
          564,
          565,
          566,
          567,
          568,
          569,
          570,
          571,
          572,
          573,
          574,
          575,
          576,
          577,
          578,
          579,
          580,
          581,
          582,
          583,
          584,
          585,
          586,
          587,
          588,
          589,
          590,
          591,
          592,
          593,
          594,
          595,
          596,
          597,
          598,
          599,
          600,
          601,
          602,
          603,
          604,
          605,
          606,
          607,
          608,
          609,
          610,
          611,
          612,
          613,
          614,
          615,
          616,
          617,
          618,
          619,
          620,
          621,
          622,
          623,
          624,
          625,
          626,
          627,
          628,
          629,
          630,
          631,
          632,
          633,
          634,
          635,
          636,
          637,
          638,
          639,
          640,
          641,
          642,
          643,
          644,
          645,
          646,
          647,
          648,
          649,
          650,
          651,
          652,
          653,
          654,
          655,
          656,
          657,
          658,
          659,
          660,
          661,
          662,
          663,
          664,
          665,
          666,
          667,
          668,
          669,
          670,
          671,
          672,
          673,
          674,
          675,
          676,
          677,
          678,
          679,
          680,
          681,
          682,
          683,
          684,
          685,
          686,
          687,
          688,
          689,
          690,
          691,
          692,
          693,
          694,
          695,
          696,
          697,
          698,
          699,
          700,
          701,
          702,
          703,
          704,
          705,
          706,
          707,
          708,
          709,
          710,
          711,
          712,
          713,
          714,
          715,
          716,
          717,
          718,
          719,
          720,
          721,
          722,
          723,
          724,
          725,
          726,
          727,
          728,
          729,
          730,
          731,
          732,
          733,
          734,
          735,
          736,
          737,
          738,
          739,
          740,
          741,
          742,
          743,
          744,
          745,
          746,
          747,
          748,
          749,
          750,
          751,
          752,
          753,
          754,
          755,
          756,
          757,
          758,
          759,
          760,
          761,
          762,
          763,
          764,
          765,
          766,
          767,
          768,
          769,
          770,
          771,
          772,
          773,
          774,
          775,
          776,
          777,
          778,
          779,
          780,
          781,
          782,
          783,
          784,
          785,
          786,
          787,
          788,
          789,
          790,
          791,
          792,
          793,
          794,
          795,
          796,
          797,
          798,
          799,
          800,
          801,
          802,
          803,
          804,
          805,
          806,
          807,
          808,
          809,
          810,
          811,
          812,
          813,
          814,
          815,
          816,
          817,
          818,
          819,
          820,
          821,
          822,
          823,
          824,
          825,
          826,
          827,
          828,
          829,
          830,
          831,
          832,
          833,
          834,
          835,
          836,
          837,
          838,
          839,
          840,
          841,
          842,
          843,
          844,
          845,
          846,
          847,
          848,
          849,
          850,
          851,
          852,
          853,
          854,
          855,
          856,
          857,
          858,
          859,
          860,
          861,
          862,
          863,
          864,
          865,
          866,
          867,
          868,
          869,
          870,
          871,
          872,
          873,
          874,
          875,
          876,
          877,
          878,
          879,
          880,
          881,
          882,
          883,
          884,
          885,
          886,
          887,
          888,
          889,
          890,
          891,
          892,
          893,
          894,
          895,
          896,
          897,
          898,
          899,
          900,
          901,
          902,
          903,
          904,
          905,
          906,
          907,
          908,
          909,
          910,
          911,
          912,
          913,
          914,
          915,
          916,
          917,
          918,
          919,
          920,
          921,
          922,
          923,
          924,
          925,
          926,
          927,
          928,
          929,
          930,
          931,
          932,
          933,
          934,
          935,
          936,
          937,
          938,
          939,
          940,
          941,
          942,
          943,
          944,
          945,
          946,
          947,
          948,
          949,
          950,
          951,
          952,
          953,
          954,
          955,
          956,
          957,
          958,
          959,
          960,
          961,
          962,
          963,
          964,
          965,
          966,
          967,
          968,
          969,
          970,
          971,
          972,
          973,
          974,
          975,
          976,
          977,
          978,
          979,
          980,
          981,
          982,
          983,
          984,
          985,
          986,
          987,
          988,
          989,
          990,
          991,
          992,
          993,
          994,
          995,
          996,
          997,
          998,
          999,
          1000,
          1001,
          1002,
          1003,
          1004,
          1005,
          1006,
          1007,
          1008,
          1009,
          1010,
          1011,
          1012,
          1013,
          1014,
          1015,
          1016,
          1017,
          1018,
          1019,
          1020,
          1021,
          1022,
          1023,
          1024,
          1025,
          1026,
          1027,
          1028,
          1029,
          1030,
          1031,
          1032,
          1033,
          1034,
          1035,
          1036,
          1037,
          1038,
          1039,
          1040,
          1041,
          1042,
          1043,
          1044,
          1045,
          1046,
          1047,
          1048,
          1049,
          1050,
          1051,
          1052,
          1053,
          1054,
          1055,
          1056,
          1057,
          1058,
          1059,
          1060,
          1061,
          1062,
          1063,
          1064,
          1065,
          1066,
          1067,
          1068,
          1069,
          1070,
          1071,
          1072,
          1073,
          1074,
          1075,
          1076,
          1077,
          1078,
          1079,
          1080,
          1081,
          1082,
          1083,
          1084,
          1085,
          1086,
          1087,
          1088,
          1089,
          1090,
          1091,
          1092,
          1093,
          1094,
          1095,
          1096,
          1097,
          1098,
          1099,
          1100,
          1101,
          1102,
          1103,
          1104,
          1105,
          1106,
          1107,
          1108,
          1109,
          1110,
          1111,
          1112,
          1113,
          1114,
          1115,
          1116,
          1117,
          1118,
          1119,
          1120,
          1121,
          1122,
          1123,
          1124,
          1125,
          1126,
          1127,
          1128,
          1129,
          1130,
          1131,
          1132,
          1133,
          1134,
          1135,
          1136,
          1137,
          1138,
          1139,
          1140,
          1141,
          1142,
          1143,
          1144,
          1145,
          1146,
          1147,
          1148,
          1149,
          1150,
          1151,
          1152,
          1153,
          1154,
          1155,
          1156,
          1157,
          1158,
          1159,
          1160,
          1161,
          1162,
          1163,
          1164,
          1165,
          1166,
          1167,
          1168,
          1169,
          1170,
          1171,
          1172,
          1173,
          1174,
          1175,
          1176,
          1177,
          1178,
          1179,
          1180,
          1181,
          1182,
          1183,
          1184,
          1185,
          1186,
          1187,
          1188,
          1189,
          1190,
          1191,
          1192,
          1193,
          1194,
          1195,
          1196,
          1197,
          1198,
          1199,
          1200,
          1201,
          1202,
          1203,
          1204,
          1205,
          1206,
          1207,
          1208,
          1209,
          1210,
          1211,
          1212,
          1213,
          1214,
          1215,
          1216,
          1217,
          1218,
          1219,
          1220,
          1221,
          1222,
          1223,
          1224,
          1225,
          1226,
          1227,
          1228,
          1229,
          1230,
          1231,
          1232,
          1233,
          1234,
          1235,
          1236,
          1237,
          1238,
          1239,
          1240,
          1241,
          1242,
          1243,
          1244,
          1245,
          1246,
          1247,
          1248,
          1249,
          1250,
          1251,
          1252,
          1253,
          1254,
          1255,
          1256,
          1257,
          1258,
          1259,
          1260,
          1261,
          1262,
          1263,
          1264,
          1265,
          1266,
          1267,
          1268,
          1269,
          1270,
          1271,
          1272,
          1273,
          1274,
          1275,
          1276,
          1277,
          1278,
          1279,
          1280,
          1281,
          1282,
          1283,
          1284,
          1285,
          1286,
          1287,
          1288,
          1289,
          1290,
          1291,
          1292,
          1293,
          1294,
          1295,
          1296,
          1297,
          1298,
          1299,
          1300,
          1301,
          1302,
          1303,
          1304,
          1305,
          1306,
          1307,
          1308,
          1309,
          1310,
          1311,
          1312,
          1313,
          1314,
          1315,
          1316,
          1317,
          1318,
          1319,
          1320,
          1321,
          1322,
          1323,
          1324,
          1325,
          1326,
          1327,
          1328,
          1329,
          1330,
          1331,
          1332,
          1333,
          1334,
          1335,
          1336,
          1337,
          1338,
          1339,
          1340,
          1341,
          1342,
          1343,
          1344,
          1345,
          1346,
          1347,
          1348,
          1349,
          1350,
          1351,
          1352,
          1353,
          1354,
          1355,
          1356,
          1357,
          1358,
          1359,
          1360,
          1361,
          1362,
          1363,
          1364,
          1365,
          1366,
          1367,
          1368,
          1369,
          1370,
          1371,
          1372,
          1373,
          1374,
          1375,
          1376,
          1377,
          1378,
          1379,
          1380,
          1381,
          1382,
          1383,
          1384,
          1385,
          1386,
          1387,
          1388,
          1389,
          1390,
          1391,
          1392,
          1393,
          1394,
          1395,
          1396,
          1397,
          1398,
          1399,
          1400,
          1401,
          1402,
          1403,
          1404,
          1405,
          1406,
          1407,
          1408,
          1409,
          1410,
          1411,
          1412,
          1413,
          1414,
          1415,
          1416,
          1417,
          1418,
          1419,
          1420,
          1421,
          1422,
          1423,
          1424,
          1425,
          1426,
          1427,
          1428,
          1429,
          1430,
          1431,
          1432,
          1433,
          1434,
          1435,
          1436,
          1437,
          1438,
          1439,
          1440,
          1441,
          1442,
          1443,
          1444,
          1445,
          1446,
          1447,
          1448,
          1449,
          1450,
          1451,
          1452,
          1453,
          1454,
          1455,
          1456,
          1457,
          1458,
          1459,
          1460,
          1461,
          1462,
          1463,
          1464,
          1465,
          1466,
          1467,
          1468,
          1469,
          1470,
          1471,
          1472,
          1473,
          1474,
          1475,
          1476,
          1477,
          1478,
          1479,
          1480,
          1481,
          1482,
          1483,
          1484,
          1485,
          1486,
          1487,
          1488,
          1489,
          1490,
          1491,
          1492,
          1493,
          1494,
          1495,
          1496,
          1497,
          1498,
          1499,
          1500,
          1501,
          1502,
          1503,
          1504,
          1505,
          1506,
          1507,
          1508,
          1509,
          1510,
          1511,
          1512,
          1513,
          1514,
          1515,
          1516,
          1517,
          1518,
          1519,
          1520,
          1521,
          1522,
          1523,
          1524,
          1525,
          1526,
          1527,
          1528,
          1529,
          1530,
          1531,
          1532,
          1533,
          1534,
          1535,
          1536,
          1537,
          1538,
          1539,
          1540,
          1541,
          1542,
          1543,
          1544,
          1545,
          1546,
          1547,
          1548,
          1549,
          1550,
          1551,
          1552,
          1553,
          1554,
          1555,
          1556,
          1557,
          1558,
          1559,
          1560,
          1561,
          1562,
          1563,
          1564,
          1565,
          1566,
          1567,
          1568,
          1569,
          1570,
          1571,
          1572,
          1573,
          1574,
          1575,
          1576,
          1577,
          1578,
          1579,
          1580,
          1581,
          1582,
          1583,
          1584,
          1585,
          1586,
          1587,
          1588,
          1589,
          1590,
          1591,
          1592,
          1593,
          1594,
          1595,
          1596,
          1597,
          1598,
          1599,
          1600,
          1601,
          1602,
          1603,
          1604,
          1605,
          1606,
          1607,
          1608,
          1609,
          1610,
          1611,
          1612,
          1613,
          1614,
          1615,
          1616,
          1617,
          1618,
          1619,
          1620,
          1621,
          1622,
          1623,
          1624,
          1625,
          1626,
          1627,
          1628,
          1629,
          1630,
          1631,
          1632,
          1633,
          1634,
          1635,
          1636,
          1637,
          1638,
          1639,
          1640,
          1641,
          1642,
          1643,
          1644,
          1645,
          1646,
          1647,
          1648,
          1649,
          1650,
          1651,
          1652,
          1653,
          1654,
          1655,
          1656,
          1657,
          1658,
          1659,
          1660,
          1661,
          1662,
          1663,
          1664,
          1665,
          1666,
          1667,
          1668,
          1669,
          1670,
          1671,
          1672,
          1673,
          1674,
          1675,
          1676,
          1677,
          1678,
          1679,
          1680,
          1681,
          1682,
          1683,
          1684,
          1685,
          1686,
          1687,
          1688,
          1689,
          1690,
          1691,
          1692,
          1693,
          1694,
          1695,
          1696,
          1697,
          1698,
          1699,
          1700,
          1701,
          1702,
          1703,
          1704,
          1705,
          1706,
          1707,
          1708,
          1709,
          1710,
          1711,
          1712,
          1713,
          1714,
          1715,
          1716,
          1717,
          1718,
          1719,
          1720,
          1721,
          1722,
          1723,
          1724,
          1725,
          1726,
          1727,
          1728,
          1729,
          1730,
          1731,
          1732,
          1733,
          1734,
          1735,
          1736,
          1737,
          1738,
          1739,
          1740,
          1741,
          1742,
          1743,
          1744,
          1745,
          1746,
          1747,
          1748,
          1749,
          1750,
          1751,
          1752,
          1753,
          1754,
          1755,
          1756,
          1757,
          1758,
          1759,
          1760,
          1761,
          1762,
          1763,
          1764,
          1765,
          1766,
          1767,
          1768,
          1769,
          1770,
          1771,
          1772,
          1773,
          1774,
          1775,
          1776,
          1777,
          1778,
          1779,
          1780,
          1781,
          1782,
          1783,
          1784,
          1785,
          1786,
          1787,
          1788,
          1789,
          1790,
          1791,
          1792,
          1793,
          1794,
          1795,
          1796,
          1797,
          1798,
          1799,
          1800,
          1801,
          1802,
          1803,
          1804,
          1805,
          1806,
          1807,
          1808,
          1809,
          1810,
          1811,
          1812,
          1813,
          1814,
          1815,
          1816,
          1817,
          1818,
          1819,
          1820,
          1821,
          1822,
          1823,
          1824,
          1825,
          1826,
          1827,
          1828,
          1829,
          1830,
          1831,
          1832,
          1833,
          1834,
          1835,
          1836,
          1837,
          1838,
          1839,
          1840,
          1841,
          1842,
          1843,
          1844,
          1845,
          1846,
          1847,
          1848,
          1849,
          1850,
          1851,
          1852,
          1853,
          1854,
          1855,
          1856,
          1857,
          1858,
          1859,
          1860,
          1861,
          1862,
          1863,
          1864,
          1865,
          1866,
          1867,
          1868,
          1869,
          1870,
          1871,
          1872,
          1873,
          1874,
          1875,
          1876,
          1877,
          1878,
          1879,
          1880,
          1881,
          1882,
          1883,
          1884,
          1885,
          1886,
          1887,
          1888,
          1889,
          1890,
          1891,
          1892,
          1893,
          1894,
          1895,
          1896,
          1897,
          1898,
          1899,
          1900,
          1901,
          1902,
          1903,
          1904,
          1905,
          1906,
          1907,
          1908,
          1909,
          1910,
          1911,
          1912,
          1913,
          1914,
          1915,
          1916,
          1917,
          1918,
          1919,
          1920,
          1921,
          1922,
          1923,
          1924,
          1925,
          1926,
          1927,
          1928,
          1929,
          1930,
          1931,
          1932,
          1933,
          1934,
          1935,
          1936,
          1937,
          1938,
          1939,
          1940,
          1941,
          1942,
          1943,
          1944,
          1945,
          1946,
          1947,
          1948,
          1949,
          1950,
          1951,
          1952,
          1953,
          1954,
          1955,
          1956,
          1957,
          1958,
          1959,
          1960,
          1961,
          1962,
          1963,
          1964,
          1965,
          1966,
          1967,
          1968,
          1969,
          1970,
          1971,
          1972,
          1973,
          1974,
          1975,
          1976,
          1977,
          1978,
          1979,
          1980,
          1981,
          1982,
          1983,
          1984,
          1985,
          1986,
          1987,
          1988,
          1989,
          1990,
          1991,
          1992,
          1993,
          1994,
          1995,
          1996,
          1997,
          1998,
          1999,
          2000,
          2001,
          2002,
          2003,
          2004,
          2005,
          2006,
          2007,
          2008,
          2009,
          2010,
          2011,
          2012,
          2013,
          2014,
          2015,
          2016,
          2017,
          2018,
          2019,
          2020,
          2021,
          2022,
          2023,
          2024,
          2025,
          2026,
          2027,
          2028,
          2029,
          2030,
          2031,
          2032,
          2033,
          2034,
          2035,
          2036,
          2037,
          2038,
          2039,
          2040,
          2041,
          2042,
          2043,
          2044,
          2045,
          2046,
          2047
         ],
         "xaxis": "x",
         "y": [
          0,
          0,
          0,
          0,
          -2.1763674e-8,
          0.050435048,
          0,
          -7.424593e-7,
          0,
          -0.00008350011,
          0.051157366,
          -0.000024125105,
          0,
          0,
          -0.0003589817,
          0.000045837318,
          -3.3062776e-7,
          0,
          0,
          0,
          -0.000015532514,
          -0.0003924935,
          0,
          0,
          -1.5946252e-7,
          0,
          0,
          0,
          0.000638417,
          0,
          0.00021002068,
          0,
          0,
          0,
          0,
          0,
          0,
          0.001602664,
          0,
          0.0002597939,
          0,
          0,
          0,
          0.000038057296,
          -0.0009858808,
          -0.00013055166,
          0.051830754,
          0,
          1.3223271e-7,
          0,
          -0.0005037203,
          -0.0000017807735,
          0,
          0,
          -0.00020523106,
          -4.4434238e-8,
          0,
          0,
          0.048628304,
          0,
          0,
          0,
          0,
          0,
          0.00041459035,
          -0.000023990997,
          0,
          -5.4949605e-9,
          0,
          0,
          0,
          0,
          0,
          0.0000044526532,
          -2.517805e-8,
          0,
          -0.0000046716277,
          0,
          2.661587e-7,
          0.0000033971085,
          0,
          0,
          0,
          0,
          -0.0005170323,
          0.00010700634,
          0,
          0,
          0,
          0,
          0,
          0,
          0,
          4.5889422e-8,
          -0.00028661135,
          0,
          0,
          -0.00001975529,
          0,
          0,
          0,
          0,
          -0.000038445283,
          0,
          0,
          0,
          0,
          0,
          0,
          0,
          0,
          -0.0014724922,
          -0.000064213826,
          0,
          7.592015e-8,
          0,
          0,
          0.00008900347,
          -0.00036887795,
          -0.0000012450306,
          0.0000075131056,
          0,
          0,
          0,
          -0.00015439466,
          -2.6681595e-9,
          0,
          0,
          0,
          0,
          -0.000057251065,
          0.0000127615485,
          0,
          0,
          0,
          0,
          0,
          -0.00013886853,
          0,
          0,
          0,
          2.688876e-8,
          0.0000051804623,
          0,
          4.4241208e-8,
          0,
          6.7809077e-7,
          0.0017846893,
          0.0000024030523,
          0,
          0.059732355,
          0,
          0,
          0,
          0,
          0,
          0,
          -0.0010005904,
          0,
          0,
          -7.357404e-8,
          0,
          0,
          -0.0002298572,
          0,
          0,
          0,
          0,
          0,
          7.791643e-9,
          1.432192e-7,
          0,
          1.806866e-8,
          0,
          -0.00026929157,
          -0.00047347933,
          0,
          0,
          -0.0006451999,
          -3.928196e-7,
          0,
          0,
          -3.2805513e-8,
          0,
          1.3896444e-7,
          0,
          0,
          0,
          0,
          -0.0005234674,
          0,
          -2.6938213e-8,
          0.000003847817,
          0,
          0,
          0,
          0,
          0,
          0,
          0.000115691146,
          1.18151846e-7,
          0.12676182,
          -1.9302806e-7,
          0,
          0,
          0,
          0,
          0,
          0,
          0.000005021063,
          0,
          0,
          0,
          0,
          0,
          -0.000050351515,
          0.00027773262,
          0,
          0,
          0.036858756,
          -5.8111166e-8,
          0,
          1.8370706e-8,
          -0.000022221162,
          0,
          0,
          0,
          0,
          0,
          -0.0011351448,
          0,
          2.8584e-7,
          0,
          0,
          -2.263829e-8,
          -2.649385e-8,
          0,
          -0.00088346424,
          0,
          0,
          0,
          0,
          0,
          -2.78575e-8,
          0,
          0,
          0.000090444664,
          -6.2118595e-9,
          0,
          0,
          0,
          -0.00020487542,
          0,
          0,
          0,
          0,
          0,
          -1.3583838e-7,
          0.011338397,
          0,
          0,
          0.000016025826,
          0,
          0,
          -0.00017201545,
          0,
          9.0697534e-7,
          0,
          0,
          0.0006677464,
          0.08107539,
          0.000013068046,
          -0.0009815636,
          0,
          0,
          0.000009094578,
          0,
          7.004847e-8,
          0,
          -0.0000026797095,
          0,
          0,
          0,
          0,
          0,
          0,
          0,
          0.000037593843,
          -1.8182654e-7,
          0,
          0,
          0,
          1.2687805e-8,
          0,
          0,
          -0.004320388,
          0,
          -0.00024876674,
          0,
          0,
          0,
          0,
          0,
          0,
          0,
          0,
          0,
          0,
          -4.3125173e-8,
          0.0000014027155,
          0,
          0.00025316057,
          0.00023816366,
          0,
          0,
          0,
          0,
          1.7717136e-7,
          0,
          0.0027318066,
          0,
          0,
          0,
          0.006483954,
          0,
          0.000020891222,
          0,
          0,
          0,
          0,
          0.00015881464,
          -0.000009575545,
          -5.502984e-9,
          0,
          -0.000140036,
          0,
          0,
          0,
          0,
          0,
          0,
          0,
          0,
          0,
          1.4325e-7,
          0,
          0,
          0,
          0,
          -0.00006744444,
          0,
          0,
          -0.0000022230934,
          -4.012345e-8,
          -0.000214595,
          0.0348865,
          0,
          -0.00005202402,
          0,
          0,
          0,
          0.039620716,
          0,
          0,
          0,
          0,
          -6.3447294e-7,
          0,
          0,
          0.000106978376,
          0,
          0,
          0,
          0,
          -2.6709608e-9,
          -0.00046238638,
          0,
          0,
          0,
          0,
          0,
          0,
          -0.0036414734,
          0,
          0,
          0,
          0,
          0,
          0,
          0,
          4.429066e-9,
          -0.000013059719,
          -0.000048031678,
          0,
          0,
          0,
          1.2925586e-8,
          0,
          -1.6345656e-9,
          0,
          0,
          0,
          0,
          0.00013448206,
          0.00016074002,
          -8.904888e-7,
          0,
          1.8091814e-8,
          0,
          0,
          1.0909444e-7,
          0,
          0,
          -0.00018763359,
          0,
          0,
          0,
          0,
          0,
          0,
          0.046821672,
          0,
          0,
          0,
          0,
          8.130739e-9,
          0,
          0,
          0,
          0,
          0,
          0,
          -3.8020356e-9,
          0,
          0,
          0,
          0,
          -1.5799698e-8,
          0.00045968086,
          0.053603858,
          8.466951e-9,
          0,
          0,
          9.418298e-7,
          0,
          0,
          0,
          0,
          -0.0010051489,
          -7.5726106e-8,
          0,
          0.00010069125,
          0,
          0.021906562,
          0.0005602876,
          0,
          -0.00020254677,
          0,
          0.0000036856432,
          0,
          0,
          -0.0010490618,
          0,
          0,
          0,
          0,
          -0.0008152148,
          0,
          -0.0000011025832,
          0.000032361768,
          -0.0003434437,
          -5.9658296e-9,
          0,
          0,
          -0.0000018468033,
          -0.0003478762,
          -0.0000012861859,
          0,
          0,
          0,
          0,
          0,
          0,
          0,
          0,
          0,
          0,
          0.04302463,
          0,
          -0.00037813638,
          0.00090216496,
          0,
          -0.00040407156,
          0,
          -0.00042083373,
          0,
          0,
          0,
          0,
          0,
          -0.00039742986,
          0,
          0,
          0,
          0.038284663,
          0,
          -0.00036763298,
          0,
          0.0008305931,
          0,
          0,
          -0.00011321364,
          0,
          0,
          -0.0002433053,
          0,
          -0.00044708463,
          0,
          -0.00046725862,
          0.0002673788,
          0,
          0,
          0,
          0,
          0.00005957052,
          0.00044547528,
          0,
          -0.0016036911,
          0.00018087281,
          0,
          0,
          0,
          0,
          -0.000629527,
          0,
          0,
          -5.043404e-8,
          -0.002770712,
          -0.0002045356,
          -0.0000040136956,
          0,
          0.037230793,
          -3.9241291e-7,
          -0.0000010385728,
          0.060941648,
          0,
          0,
          -0.00029230092,
          0,
          0,
          0,
          -0.000013811439,
          0.00020340318,
          -0.000010648176,
          -0.00006005687,
          0.0000048884,
          3.987977e-8,
          0,
          -0.00019253709,
          -1.1085915e-8,
          0,
          0,
          0.000004621321,
          0,
          -2.3157622e-9,
          0,
          0,
          0,
          0,
          -0.0009455646,
          -0.0000010579314,
          0,
          0,
          0,
          0.016756536,
          -0.0005824329,
          -0.0006196848,
          0,
          0,
          0,
          -0.00019082449,
          0,
          0,
          0,
          0,
          0,
          0,
          0,
          0,
          -1.9658049e-9,
          0,
          0,
          0,
          0.00013978599,
          0,
          0,
          -0.0006329183,
          0,
          0,
          -2.8272e-9,
          0,
          0,
          0.00005621181,
          0,
          -2.8277508e-8,
          0,
          0,
          0.0005789475,
          0,
          0.000043715852,
          0,
          0,
          0.00035916176,
          0,
          0,
          0,
          0.00023366848,
          0,
          -0.000012006565,
          0,
          0,
          0,
          0,
          0,
          0,
          6.7735835e-9,
          0,
          -0.00044604158,
          0,
          0,
          -0.00021586781,
          0,
          0,
          0,
          2.0768853e-7,
          0,
          0,
          -0.00040420127,
          0,
          1.6057818e-8,
          0,
          0,
          0.000059770966,
          0,
          -0.000037698763,
          0,
          0,
          0,
          0,
          1.4544489e-7,
          0.00013164121,
          0,
          0,
          0,
          -0.000015855243,
          0,
          0,
          0,
          -1.106012e-7,
          0,
          0,
          0.0009930936,
          0,
          0,
          2.9109995e-7,
          0,
          0,
          -0.0025113104,
          0,
          0,
          -0.00021325618,
          1.8650486e-8,
          0,
          0,
          -0.00005602446,
          0,
          -0.000001326452,
          0,
          -0.0000016792558,
          0.0003887003,
          0,
          -0.000056701767,
          -8.527659e-9,
          0,
          0,
          0,
          0,
          0,
          0,
          0,
          0.011930407,
          -0.0005771713,
          0,
          -0.000041193078,
          -1.3413643e-8,
          0,
          -2.2519044e-8,
          0,
          0,
          -0.000049532588,
          0.0005634057,
          0,
          0,
          0.061189413,
          -0.0008229936,
          -1.441579e-8,
          0,
          0,
          0,
          0,
          0,
          0,
          0.0011763726,
          -0.000004609154,
          0.00019953508,
          -0.00042567024,
          0.00010627752,
          0.00031567222,
          0,
          0,
          0,
          0,
          0,
          0,
          0,
          -8.576133e-9,
          0,
          0,
          0,
          0,
          0,
          -4.0426076e-7,
          -7.89404e-9,
          0.0004674384,
          0,
          0,
          0,
          0,
          0,
          0,
          0,
          0,
          -0.00012757021,
          0,
          0.00026956532,
          -1.0620041e-7,
          -0.00000808575,
          0,
          -0.00003906751,
          0,
          0,
          0,
          0,
          0,
          0,
          0,
          -0.0008178492,
          -6.131107e-8,
          0,
          0,
          0,
          0,
          0,
          0,
          0.0030022287,
          -0.000005128579,
          0,
          0,
          -0.00024037944,
          0,
          0,
          0.00020480274,
          0,
          6.2770226e-8,
          0,
          0,
          0,
          0,
          0,
          0,
          0,
          0,
          0,
          0.0010632657,
          -3.9038355e-7,
          0,
          0,
          7.633253e-8,
          0,
          0,
          0,
          0,
          -0.00012719978,
          0.000003237331,
          0,
          0.0003655595,
          -0.00020234873,
          0,
          0,
          -0.00011571376,
          0,
          0,
          0,
          0,
          0,
          0.000026340018,
          0.00025256153,
          0,
          0,
          0,
          0,
          0,
          0,
          0,
          0.046220448,
          -1.06225926e-7,
          0,
          0,
          -1.4218813e-8,
          0,
          0,
          0,
          0,
          9.392428e-9,
          0,
          -0.00040734513,
          0,
          0,
          0,
          0.000001774993,
          -1.15810316e-7,
          0.00042619268,
          -0.00043552544,
          3.010435e-8,
          0,
          0,
          -0.00030077036,
          0,
          0,
          0,
          0,
          0,
          -0.000070965485,
          0,
          0.000027409273,
          0,
          0,
          0,
          0,
          0,
          0,
          0,
          0,
          -0.0002698948,
          0,
          -0.00032517337,
          0,
          -0.000029244195,
          0,
          0,
          0,
          0,
          0.0002171953,
          4.0509146e-8,
          -0.00018172753,
          0,
          0.00089865626,
          0,
          0,
          0,
          0,
          0,
          5.6635974e-7,
          0,
          -1.08410084e-7,
          0,
          -7.6420387e-10,
          0,
          0,
          0.05790914,
          0,
          0.000042211497,
          -0.0004735543,
          0,
          0,
          0,
          0,
          0,
          1.0191583e-7,
          0,
          0,
          0,
          -0.00006883346,
          0.0003204836,
          -0.000013030679,
          -0.00002816227,
          -0.000008519852,
          -0.000025074543,
          -9.2021764e-8,
          -0.0003044689,
          0,
          0.00032452642,
          0,
          0,
          0,
          0,
          0,
          -0.0008296332,
          0.00006772548,
          -0.00042328826,
          0,
          0,
          0,
          0,
          0,
          -0.0000018347317,
          0,
          0,
          0,
          -0.000009578139,
          0,
          0,
          0.0012815519,
          0,
          0,
          0,
          0,
          0,
          -6.9933233e-9,
          0,
          0,
          0,
          -0.000009340898,
          0,
          0,
          0,
          0,
          0,
          0,
          -1.962684e-9,
          0,
          0,
          0,
          0,
          0,
          0,
          0,
          0,
          0.0006862859,
          0,
          0,
          0.00035027094,
          0,
          0,
          -4.250149e-7,
          0,
          0,
          0.00011795775,
          0,
          0,
          0,
          0.0004751124,
          0,
          -0.000444649,
          0.000004664665,
          0,
          0,
          0.037525926,
          0,
          1.7312263e-7,
          0,
          0.00048919127,
          0,
          -2.0084563e-8,
          0,
          0,
          0,
          -0.000682301,
          0,
          0,
          0.060230173,
          -0.0008728872,
          -0.0013944387,
          0,
          0,
          0.03683074,
          0,
          -0.00097150565,
          0,
          0,
          0,
          0,
          0,
          0,
          0,
          0,
          -0.0010972474,
          0,
          0,
          0,
          0,
          0,
          0,
          -0.00004046553,
          0,
          0,
          0,
          0,
          0.00048633764,
          0,
          1.4420624e-7,
          -0.00022950832,
          -0.0000317852,
          0,
          0,
          0,
          0,
          0.000005208743,
          -1.5827331e-7,
          0,
          0,
          0,
          0,
          0,
          0.05989687,
          0.0003016836,
          2.276026e-8,
          0,
          0.00039829258,
          0,
          0.031600665,
          0,
          0,
          0,
          -3.7236713e-8,
          0,
          0,
          -0.000080635575,
          0,
          0,
          0,
          0,
          0.000015681886,
          1.8126529e-7,
          0,
          -0.000074594675,
          -0.00038730117,
          0,
          0,
          0,
          1.3163611e-7,
          0,
          0,
          -0.00021071576,
          0,
          0.05090595,
          0,
          0,
          0,
          -1.3854234e-8,
          0,
          -0.0004303529,
          0,
          0,
          0,
          0,
          0,
          0,
          2.20561e-8,
          0,
          -4.654748e-7,
          0.034188736,
          0,
          0,
          -0.0006572569,
          -0.000008805477,
          0.000016951706,
          0,
          0,
          0,
          0,
          -0.000002353271,
          0,
          0,
          0,
          0,
          -0.00062393403,
          0,
          0,
          0.0014154395,
          0,
          -0.000024323232,
          0,
          0,
          -0.00035175183,
          0.018703803,
          -6.3290045e-8,
          0,
          0.00051324844,
          1.9545249e-8,
          0,
          0,
          0.00013659093,
          -7.074218e-8,
          0.0011600596,
          0.0006550933,
          0,
          0,
          0,
          0,
          0,
          0,
          0,
          -1.6616355e-7,
          0,
          -5.370932e-8,
          0,
          0,
          0.002162875,
          -0.00010426511,
          0,
          0,
          0,
          0,
          0,
          0,
          0.000100117926,
          0.000052927528,
          -0.00024175836,
          0,
          0,
          7.743253e-9,
          0,
          0.0003192772,
          -0.00082270004,
          0,
          0,
          1.21841195e-8,
          -0.0004017034,
          0.0041425023,
          0,
          -9.4233684e-8,
          3.216785e-8,
          0,
          0,
          0,
          -0.00047728932,
          -0.0014526749,
          0,
          -0.0009370116,
          0,
          0,
          0,
          0,
          0.002079529,
          0,
          6.626185e-8,
          -0.00015266861,
          0,
          0.0001537128,
          0.0017271758,
          0.00016341916,
          0,
          0,
          0,
          0,
          0,
          -2.4916819e-8,
          0,
          0,
          0,
          0,
          0,
          0.000099546036,
          0,
          0.0033549147,
          0,
          -3.9709743e-8,
          0,
          0,
          -0.00016210962,
          0,
          0,
          0,
          0,
          0,
          0,
          0,
          0,
          0,
          0,
          0.13383406,
          0.0000019398678,
          0,
          0,
          -0.000501874,
          0,
          0,
          0,
          -3.7074233e-7,
          0.036046147,
          0,
          8.453402e-9,
          0,
          0,
          0,
          0,
          2.9290547e-7,
          0,
          2.4836015e-7,
          0,
          0,
          0,
          0,
          0.0001360322,
          0,
          0.000043865166,
          -0.00049169053,
          0,
          0,
          0,
          0,
          0,
          -3.864e-8,
          0,
          0,
          0,
          0,
          -0.00034738102,
          0,
          0,
          0,
          0,
          -0.000014208149,
          -0.00012981019,
          0.00004878377,
          1.4668271e-8,
          0,
          0,
          -0.000008853789,
          -0.0000022133675,
          0,
          0,
          -4.3356803e-8,
          0,
          0.000022133958,
          0,
          0,
          0,
          0,
          0.000018292185,
          -2.059305e-8,
          0,
          -5.976877e-8,
          0,
          0,
          0,
          0,
          0,
          0,
          0,
          -0.00020937626,
          1.13833266e-7,
          -7.769054e-8,
          0,
          -0.000004561518,
          0.00020980273,
          -0.0000017229885,
          0.040514983,
          0,
          0,
          0,
          -0.00123858,
          0,
          -3.788816e-8,
          0,
          -0.0010948445,
          0,
          -0.00028376066,
          0,
          0,
          0.00007661773,
          0,
          -0.00016773363,
          0,
          0.002553408,
          0,
          0,
          0,
          0,
          0,
          -0.000086196975,
          0,
          0,
          0,
          7.2783746e-10,
          0,
          0.059705786,
          0,
          0,
          0,
          0,
          0,
          -1.396009e-8,
          0,
          -0.000004320765,
          0,
          -0.0000011285233,
          0,
          0,
          0,
          0,
          0,
          0.0011443887,
          2.0588338e-9,
          0,
          0,
          0,
          0.0011764781,
          0,
          -0.00010362018,
          0.00015235282,
          0,
          0,
          0,
          0,
          -0.000026235006,
          -0.0000011824735,
          0,
          0.036928,
          -1.4661296e-7,
          0.00013133466,
          0,
          0.000114625116,
          0,
          0,
          0,
          0,
          0,
          0.000028849077,
          0,
          0,
          -0.000114038325,
          0,
          0,
          0,
          0,
          0,
          -3.2773656e-7,
          0,
          -1.1417332e-7,
          0,
          0,
          0,
          0,
          0,
          0,
          0.00003545385,
          0,
          -0.00001089746,
          0,
          -0.00040282166,
          0,
          0,
          0.010121245,
          0.00007218999,
          2.2913362e-7,
          0.000003171846,
          3.667348e-8,
          0,
          0,
          0,
          0,
          0,
          -0.00014413668,
          -0.00004732675,
          0.04447499,
          0,
          0,
          0,
          0.0000014085314,
          0,
          -0.0000028171855,
          0,
          0,
          -0.00022585067,
          0,
          0,
          0,
          0,
          0,
          0.0000019057459,
          0,
          0,
          0,
          0.00008331071,
          0,
          0.0030959984,
          0.000040888583,
          0,
          0,
          0,
          0,
          0,
          -2.6853982e-7,
          0,
          -0.00013691782,
          0,
          0,
          0,
          -0.00004167581,
          -0.000030912302,
          0,
          0,
          0,
          -1.2594793e-7,
          0,
          0,
          0,
          3.8717634e-8,
          0,
          -0.0000012006715,
          0,
          -1.00742e-7,
          2.0207397e-8,
          0,
          -0.0016994114,
          0,
          2.226113e-7,
          0,
          0,
          0,
          0,
          0.0009019989,
          0.0000010952288,
          0,
          0.000022344799,
          8.038953e-8,
          0,
          0,
          -1.0618681e-7,
          0,
          7.2008115e-9,
          0,
          -0.0000011686692,
          -0.000019838606,
          -0.0000014670237,
          0,
          0.00022954086,
          0,
          0,
          0.000009146315,
          -0.0002390084,
          0,
          0,
          -0.0000038417884,
          -0.0002386604,
          0,
          0.045083933,
          0,
          0,
          -0.0009110732,
          -0.0000053243507,
          0,
          -1.096927e-7,
          0.00023873581,
          0,
          0.050491814,
          0,
          0,
          3.3013865e-7,
          -0.0000010100115,
          0,
          0.000048927905,
          0.000039250783,
          0,
          -0.0002836626,
          -0.00028607916,
          0,
          0,
          0,
          0,
          0,
          -1.154221e-7,
          0,
          0,
          0.045140557,
          0,
          -1.0084732e-7,
          0,
          0,
          0,
          0,
          -0.0006094912,
          0,
          0,
          -0.00007197127,
          -0.0006375078,
          0,
          0,
          0,
          -0.00005861984,
          0,
          0,
          0,
          -0.00012445293,
          0.0000029936998,
          0,
          -2.914463e-7,
          -1.013475e-7,
          0,
          0,
          0.00094588427,
          0,
          0.00072060735,
          0,
          0,
          0.04234528,
          0,
          0,
          0,
          0,
          0,
          0,
          0,
          0,
          0.0000016643648,
          0.019884234,
          0,
          0,
          0,
          0,
          0,
          0,
          0,
          0.048810977,
          1.2912652e-7,
          -6.180186e-8,
          0,
          0,
          0,
          -0.00045601517,
          0,
          0,
          0,
          0,
          0,
          0,
          0,
          0,
          0,
          0,
          0,
          0,
          0,
          0,
          0,
          0,
          0,
          0,
          0,
          0,
          0.00008638265,
          0,
          0,
          0,
          0,
          -0.000002052698,
          0,
          -4.3616905e-7,
          0,
          0,
          0,
          0.000004679077,
          -0.00015532806,
          0,
          0,
          0,
          0,
          0,
          0,
          0,
          0.00072969263,
          0,
          0,
          0,
          0.014716618,
          0,
          0,
          -3.4489398e-9,
          -0.000004030963,
          -0.0005605882,
          0,
          0,
          0,
          0,
          0,
          0,
          0,
          0,
          0,
          0,
          0,
          0,
          0.0568814,
          0,
          0,
          0,
          -9.981063e-7,
          0.0003536632,
          0,
          0,
          0,
          0,
          0,
          0,
          0,
          0,
          0,
          -8.351008e-7,
          1.7806943e-7,
          0.0009045552,
          -0.00007230017,
          -3.1400978e-7,
          0,
          0.000016663156,
          0,
          0,
          0,
          0,
          -1.0317639e-7,
          -3.3976153e-9,
          0,
          0.003323374,
          5.6818537e-9,
          0,
          0,
          0.000120015604,
          0,
          1.57932e-7,
          0,
          0,
          4.61015e-8,
          0.000037423622,
          0,
          1.3254927e-8,
          0,
          0,
          0,
          -2.114134e-8,
          0.0001109942,
          -4.6083684e-8,
          0.00044174952,
          -0.000090867026,
          0.000056356123,
          -0.000063535655,
          8.960122e-7,
          0.00012551858,
          0.03332724,
          0,
          -0.0008089353,
          0,
          0,
          0,
          0,
          0,
          -0.000008441368,
          0,
          0,
          -0.00015268174,
          -0.00007445527,
          0,
          0,
          -0.000086440166,
          -9.971129e-9,
          2.693089e-7,
          7.400049e-8,
          -0.0000035648895,
          0.04684154,
          0.0007340888,
          -0.000008992579,
          0,
          6.455786e-8,
          0,
          0.03076067,
          9.884875e-7,
          -0.000016427653,
          0.0010428135,
          0,
          -0.00015494632,
          1.2346845e-8,
          0,
          6.8695623e-9,
          0,
          0,
          0,
          -0.00050366134,
          0,
          0,
          0.03442897,
          -0.000060499846,
          -0.00029114942,
          -0.0005291233,
          -0.00037987556,
          -0.0000036954323,
          0.00006303273,
          0,
          0,
          0,
          0,
          -9.742718e-7,
          0,
          0,
          0,
          0,
          0,
          -0.00036834582,
          0,
          0,
          0,
          0,
          0,
          0.013916647,
          0,
          0,
          6.1391137e-9,
          0,
          0.062470563,
          0,
          0,
          0,
          0,
          -2.8967438e-7,
          2.423039e-8,
          0,
          0.00021954987,
          0.000001597453,
          0,
          0,
          -0.00039111183,
          0.081075005,
          6.608813e-7,
          0,
          0,
          -3.543706e-8,
          0,
          0,
          0,
          0,
          0,
          0.00058331894,
          0.049233034,
          0.000008022753,
          0,
          -1.5283993e-7,
          -2.5961464e-7,
          0,
          0,
          0,
          0,
          0.00051846687,
          0,
          0,
          0.00035722402,
          0,
          0,
          0,
          0,
          0,
          0,
          0,
          0,
          0,
          0,
          0,
          0.00019476654,
          0,
          0.0000023721477,
          0,
          0,
          -3.6013862e-8,
          0,
          0,
          2.8798103e-8,
          0,
          0.0000045675774,
          -1.8397623e-8,
          -5.0526756e-9,
          0,
          0.00028722503,
          0,
          0,
          -1.1887973e-8,
          0,
          0,
          0,
          0.0010629515,
          0,
          0,
          0,
          0,
          0,
          0,
          0,
          0,
          0.042134266,
          5.6311585e-8,
          0,
          0,
          0,
          0.0002343232,
          0,
          0,
          0,
          0,
          0,
          0.00006419253,
          0.000034496818,
          -9.468713e-7,
          0,
          0,
          0,
          0,
          0.0000106531725,
          0,
          -2.1334662e-7,
          -0.0003856156,
          0,
          0,
          -0.00008958677,
          0,
          0,
          0,
          0.00012356223,
          0,
          0,
          0.056976523,
          0,
          0,
          0,
          0,
          0,
          0,
          0,
          -0.00004085962,
          0,
          0,
          -3.6068016e-7,
          0,
          0,
          0,
          0,
          0,
          -1.2097355e-9,
          -0.0013054579,
          -4.7733682e-8,
          0,
          -2.7397222e-8,
          -0.00018681778,
          0,
          0,
          0,
          0,
          0.000004739527,
          0,
          0,
          0,
          -9.6501715e-8,
          0,
          -0.00024349528,
          0,
          0,
          -1.4848703e-7,
          0,
          -0.000087541455,
          0,
          0,
          0.0000011352462,
          0,
          0,
          0,
          -1.7882996e-8,
          -0.000007231037,
          0,
          0,
          0,
          -2.204847e-8,
          -1.4589463e-8,
          0,
          -1.1073872e-7,
          0,
          0,
          0,
          0,
          0,
          0.0000065954628,
          8.2930924e-8,
          0,
          5.3864375e-9,
          0.00004626633,
          -0.00018458258,
          4.6814066e-8,
          0,
          0,
          -0.0004658673,
          -0.0000105536765,
          0,
          1.2641166e-7,
          -0.00002278962,
          0.0002659635,
          0,
          0,
          0,
          -2.4813183e-8,
          0,
          0,
          0,
          1.2003319e-7,
          0,
          0,
          0,
          0,
          0,
          0.00024272523,
          -0.0000029590708,
          0,
          0,
          0,
          0,
          0,
          0,
          0,
          0,
          0,
          0,
          0,
          0,
          0,
          0,
          0,
          -0.000031944925,
          0,
          0,
          -0.000021045693,
          0.048305087,
          0.000011702278,
          0.000022184862,
          0,
          -1.5336205e-7,
          0,
          0,
          -0.000045983175,
          -2.7218777e-8,
          0,
          0,
          -0.00071055425,
          0.00058889,
          0,
          0,
          0,
          0,
          0,
          0.0036084787,
          0,
          0,
          0,
          -1.001776e-7,
          0,
          0.0000015393776,
          0,
          0,
          -3.1826477e-8,
          0,
          0,
          0,
          0,
          0,
          0,
          4.7562374e-8,
          -5.1318363e-8,
          -0.0004841999,
          0,
          0.000002765669,
          0,
          0,
          -0.00052870286,
          -6.587124e-7,
          0,
          0,
          -0.00037605246,
          0,
          0,
          0,
          -0.00014367298,
          0.000104748935,
          0.00010943122,
          -0.00003150077,
          8.200131e-8,
          0.00015377275,
          0,
          0.000021462687,
          -8.8264315e-8,
          -0.000006880327,
          0.001007738,
          0,
          0,
          2.7537537e-8,
          -1.3858238e-7,
          0,
          0,
          0,
          0,
          -0.0011074068,
          0,
          0,
          0,
          0,
          0,
          0,
          0,
          0,
          4.0758755e-7,
          0,
          -0.000033531815,
          -3.4859195e-7,
          0,
          0,
          0,
          0,
          0,
          -6.275924e-8,
          0,
          0,
          0,
          0,
          0,
          0,
          0,
          -0.0064476077,
          0,
          6.441457e-7,
          0,
          0,
          0.00023427088,
          0,
          0,
          0,
          0
         ],
         "yaxis": "y"
        }
       ],
       "layout": {
        "legend": {
         "tracegroupgap": 0
        },
        "margin": {
         "t": 60
        },
        "template": {
         "data": {
          "bar": [
           {
            "error_x": {
             "color": "#2a3f5f"
            },
            "error_y": {
             "color": "#2a3f5f"
            },
            "marker": {
             "line": {
              "color": "#E5ECF6",
              "width": 0.5
             },
             "pattern": {
              "fillmode": "overlay",
              "size": 10,
              "solidity": 0.2
             }
            },
            "type": "bar"
           }
          ],
          "barpolar": [
           {
            "marker": {
             "line": {
              "color": "#E5ECF6",
              "width": 0.5
             },
             "pattern": {
              "fillmode": "overlay",
              "size": 10,
              "solidity": 0.2
             }
            },
            "type": "barpolar"
           }
          ],
          "carpet": [
           {
            "aaxis": {
             "endlinecolor": "#2a3f5f",
             "gridcolor": "white",
             "linecolor": "white",
             "minorgridcolor": "white",
             "startlinecolor": "#2a3f5f"
            },
            "baxis": {
             "endlinecolor": "#2a3f5f",
             "gridcolor": "white",
             "linecolor": "white",
             "minorgridcolor": "white",
             "startlinecolor": "#2a3f5f"
            },
            "type": "carpet"
           }
          ],
          "choropleth": [
           {
            "colorbar": {
             "outlinewidth": 0,
             "ticks": ""
            },
            "type": "choropleth"
           }
          ],
          "contour": [
           {
            "colorbar": {
             "outlinewidth": 0,
             "ticks": ""
            },
            "colorscale": [
             [
              0,
              "#0d0887"
             ],
             [
              0.1111111111111111,
              "#46039f"
             ],
             [
              0.2222222222222222,
              "#7201a8"
             ],
             [
              0.3333333333333333,
              "#9c179e"
             ],
             [
              0.4444444444444444,
              "#bd3786"
             ],
             [
              0.5555555555555556,
              "#d8576b"
             ],
             [
              0.6666666666666666,
              "#ed7953"
             ],
             [
              0.7777777777777778,
              "#fb9f3a"
             ],
             [
              0.8888888888888888,
              "#fdca26"
             ],
             [
              1,
              "#f0f921"
             ]
            ],
            "type": "contour"
           }
          ],
          "contourcarpet": [
           {
            "colorbar": {
             "outlinewidth": 0,
             "ticks": ""
            },
            "type": "contourcarpet"
           }
          ],
          "heatmap": [
           {
            "colorbar": {
             "outlinewidth": 0,
             "ticks": ""
            },
            "colorscale": [
             [
              0,
              "#0d0887"
             ],
             [
              0.1111111111111111,
              "#46039f"
             ],
             [
              0.2222222222222222,
              "#7201a8"
             ],
             [
              0.3333333333333333,
              "#9c179e"
             ],
             [
              0.4444444444444444,
              "#bd3786"
             ],
             [
              0.5555555555555556,
              "#d8576b"
             ],
             [
              0.6666666666666666,
              "#ed7953"
             ],
             [
              0.7777777777777778,
              "#fb9f3a"
             ],
             [
              0.8888888888888888,
              "#fdca26"
             ],
             [
              1,
              "#f0f921"
             ]
            ],
            "type": "heatmap"
           }
          ],
          "heatmapgl": [
           {
            "colorbar": {
             "outlinewidth": 0,
             "ticks": ""
            },
            "colorscale": [
             [
              0,
              "#0d0887"
             ],
             [
              0.1111111111111111,
              "#46039f"
             ],
             [
              0.2222222222222222,
              "#7201a8"
             ],
             [
              0.3333333333333333,
              "#9c179e"
             ],
             [
              0.4444444444444444,
              "#bd3786"
             ],
             [
              0.5555555555555556,
              "#d8576b"
             ],
             [
              0.6666666666666666,
              "#ed7953"
             ],
             [
              0.7777777777777778,
              "#fb9f3a"
             ],
             [
              0.8888888888888888,
              "#fdca26"
             ],
             [
              1,
              "#f0f921"
             ]
            ],
            "type": "heatmapgl"
           }
          ],
          "histogram": [
           {
            "marker": {
             "pattern": {
              "fillmode": "overlay",
              "size": 10,
              "solidity": 0.2
             }
            },
            "type": "histogram"
           }
          ],
          "histogram2d": [
           {
            "colorbar": {
             "outlinewidth": 0,
             "ticks": ""
            },
            "colorscale": [
             [
              0,
              "#0d0887"
             ],
             [
              0.1111111111111111,
              "#46039f"
             ],
             [
              0.2222222222222222,
              "#7201a8"
             ],
             [
              0.3333333333333333,
              "#9c179e"
             ],
             [
              0.4444444444444444,
              "#bd3786"
             ],
             [
              0.5555555555555556,
              "#d8576b"
             ],
             [
              0.6666666666666666,
              "#ed7953"
             ],
             [
              0.7777777777777778,
              "#fb9f3a"
             ],
             [
              0.8888888888888888,
              "#fdca26"
             ],
             [
              1,
              "#f0f921"
             ]
            ],
            "type": "histogram2d"
           }
          ],
          "histogram2dcontour": [
           {
            "colorbar": {
             "outlinewidth": 0,
             "ticks": ""
            },
            "colorscale": [
             [
              0,
              "#0d0887"
             ],
             [
              0.1111111111111111,
              "#46039f"
             ],
             [
              0.2222222222222222,
              "#7201a8"
             ],
             [
              0.3333333333333333,
              "#9c179e"
             ],
             [
              0.4444444444444444,
              "#bd3786"
             ],
             [
              0.5555555555555556,
              "#d8576b"
             ],
             [
              0.6666666666666666,
              "#ed7953"
             ],
             [
              0.7777777777777778,
              "#fb9f3a"
             ],
             [
              0.8888888888888888,
              "#fdca26"
             ],
             [
              1,
              "#f0f921"
             ]
            ],
            "type": "histogram2dcontour"
           }
          ],
          "mesh3d": [
           {
            "colorbar": {
             "outlinewidth": 0,
             "ticks": ""
            },
            "type": "mesh3d"
           }
          ],
          "parcoords": [
           {
            "line": {
             "colorbar": {
              "outlinewidth": 0,
              "ticks": ""
             }
            },
            "type": "parcoords"
           }
          ],
          "pie": [
           {
            "automargin": true,
            "type": "pie"
           }
          ],
          "scatter": [
           {
            "fillpattern": {
             "fillmode": "overlay",
             "size": 10,
             "solidity": 0.2
            },
            "type": "scatter"
           }
          ],
          "scatter3d": [
           {
            "line": {
             "colorbar": {
              "outlinewidth": 0,
              "ticks": ""
             }
            },
            "marker": {
             "colorbar": {
              "outlinewidth": 0,
              "ticks": ""
             }
            },
            "type": "scatter3d"
           }
          ],
          "scattercarpet": [
           {
            "marker": {
             "colorbar": {
              "outlinewidth": 0,
              "ticks": ""
             }
            },
            "type": "scattercarpet"
           }
          ],
          "scattergeo": [
           {
            "marker": {
             "colorbar": {
              "outlinewidth": 0,
              "ticks": ""
             }
            },
            "type": "scattergeo"
           }
          ],
          "scattergl": [
           {
            "marker": {
             "colorbar": {
              "outlinewidth": 0,
              "ticks": ""
             }
            },
            "type": "scattergl"
           }
          ],
          "scattermapbox": [
           {
            "marker": {
             "colorbar": {
              "outlinewidth": 0,
              "ticks": ""
             }
            },
            "type": "scattermapbox"
           }
          ],
          "scatterpolar": [
           {
            "marker": {
             "colorbar": {
              "outlinewidth": 0,
              "ticks": ""
             }
            },
            "type": "scatterpolar"
           }
          ],
          "scatterpolargl": [
           {
            "marker": {
             "colorbar": {
              "outlinewidth": 0,
              "ticks": ""
             }
            },
            "type": "scatterpolargl"
           }
          ],
          "scatterternary": [
           {
            "marker": {
             "colorbar": {
              "outlinewidth": 0,
              "ticks": ""
             }
            },
            "type": "scatterternary"
           }
          ],
          "surface": [
           {
            "colorbar": {
             "outlinewidth": 0,
             "ticks": ""
            },
            "colorscale": [
             [
              0,
              "#0d0887"
             ],
             [
              0.1111111111111111,
              "#46039f"
             ],
             [
              0.2222222222222222,
              "#7201a8"
             ],
             [
              0.3333333333333333,
              "#9c179e"
             ],
             [
              0.4444444444444444,
              "#bd3786"
             ],
             [
              0.5555555555555556,
              "#d8576b"
             ],
             [
              0.6666666666666666,
              "#ed7953"
             ],
             [
              0.7777777777777778,
              "#fb9f3a"
             ],
             [
              0.8888888888888888,
              "#fdca26"
             ],
             [
              1,
              "#f0f921"
             ]
            ],
            "type": "surface"
           }
          ],
          "table": [
           {
            "cells": {
             "fill": {
              "color": "#EBF0F8"
             },
             "line": {
              "color": "white"
             }
            },
            "header": {
             "fill": {
              "color": "#C8D4E3"
             },
             "line": {
              "color": "white"
             }
            },
            "type": "table"
           }
          ]
         },
         "layout": {
          "annotationdefaults": {
           "arrowcolor": "#2a3f5f",
           "arrowhead": 0,
           "arrowwidth": 1
          },
          "autotypenumbers": "strict",
          "coloraxis": {
           "colorbar": {
            "outlinewidth": 0,
            "ticks": ""
           }
          },
          "colorscale": {
           "diverging": [
            [
             0,
             "#8e0152"
            ],
            [
             0.1,
             "#c51b7d"
            ],
            [
             0.2,
             "#de77ae"
            ],
            [
             0.3,
             "#f1b6da"
            ],
            [
             0.4,
             "#fde0ef"
            ],
            [
             0.5,
             "#f7f7f7"
            ],
            [
             0.6,
             "#e6f5d0"
            ],
            [
             0.7,
             "#b8e186"
            ],
            [
             0.8,
             "#7fbc41"
            ],
            [
             0.9,
             "#4d9221"
            ],
            [
             1,
             "#276419"
            ]
           ],
           "sequential": [
            [
             0,
             "#0d0887"
            ],
            [
             0.1111111111111111,
             "#46039f"
            ],
            [
             0.2222222222222222,
             "#7201a8"
            ],
            [
             0.3333333333333333,
             "#9c179e"
            ],
            [
             0.4444444444444444,
             "#bd3786"
            ],
            [
             0.5555555555555556,
             "#d8576b"
            ],
            [
             0.6666666666666666,
             "#ed7953"
            ],
            [
             0.7777777777777778,
             "#fb9f3a"
            ],
            [
             0.8888888888888888,
             "#fdca26"
            ],
            [
             1,
             "#f0f921"
            ]
           ],
           "sequentialminus": [
            [
             0,
             "#0d0887"
            ],
            [
             0.1111111111111111,
             "#46039f"
            ],
            [
             0.2222222222222222,
             "#7201a8"
            ],
            [
             0.3333333333333333,
             "#9c179e"
            ],
            [
             0.4444444444444444,
             "#bd3786"
            ],
            [
             0.5555555555555556,
             "#d8576b"
            ],
            [
             0.6666666666666666,
             "#ed7953"
            ],
            [
             0.7777777777777778,
             "#fb9f3a"
            ],
            [
             0.8888888888888888,
             "#fdca26"
            ],
            [
             1,
             "#f0f921"
            ]
           ]
          },
          "colorway": [
           "#636efa",
           "#EF553B",
           "#00cc96",
           "#ab63fa",
           "#FFA15A",
           "#19d3f3",
           "#FF6692",
           "#B6E880",
           "#FF97FF",
           "#FECB52"
          ],
          "font": {
           "color": "#2a3f5f"
          },
          "geo": {
           "bgcolor": "white",
           "lakecolor": "white",
           "landcolor": "#E5ECF6",
           "showlakes": true,
           "showland": true,
           "subunitcolor": "white"
          },
          "hoverlabel": {
           "align": "left"
          },
          "hovermode": "closest",
          "mapbox": {
           "style": "light"
          },
          "paper_bgcolor": "white",
          "plot_bgcolor": "#E5ECF6",
          "polar": {
           "angularaxis": {
            "gridcolor": "white",
            "linecolor": "white",
            "ticks": ""
           },
           "bgcolor": "#E5ECF6",
           "radialaxis": {
            "gridcolor": "white",
            "linecolor": "white",
            "ticks": ""
           }
          },
          "scene": {
           "xaxis": {
            "backgroundcolor": "#E5ECF6",
            "gridcolor": "white",
            "gridwidth": 2,
            "linecolor": "white",
            "showbackground": true,
            "ticks": "",
            "zerolinecolor": "white"
           },
           "yaxis": {
            "backgroundcolor": "#E5ECF6",
            "gridcolor": "white",
            "gridwidth": 2,
            "linecolor": "white",
            "showbackground": true,
            "ticks": "",
            "zerolinecolor": "white"
           },
           "zaxis": {
            "backgroundcolor": "#E5ECF6",
            "gridcolor": "white",
            "gridwidth": 2,
            "linecolor": "white",
            "showbackground": true,
            "ticks": "",
            "zerolinecolor": "white"
           }
          },
          "shapedefaults": {
           "line": {
            "color": "#2a3f5f"
           }
          },
          "ternary": {
           "aaxis": {
            "gridcolor": "white",
            "linecolor": "white",
            "ticks": ""
           },
           "baxis": {
            "gridcolor": "white",
            "linecolor": "white",
            "ticks": ""
           },
           "bgcolor": "#E5ECF6",
           "caxis": {
            "gridcolor": "white",
            "linecolor": "white",
            "ticks": ""
           }
          },
          "title": {
           "x": 0.05
          },
          "xaxis": {
           "automargin": true,
           "gridcolor": "white",
           "linecolor": "white",
           "ticks": "",
           "title": {
            "standoff": 15
           },
           "zerolinecolor": "white",
           "zerolinewidth": 2
          },
          "yaxis": {
           "automargin": true,
           "gridcolor": "white",
           "linecolor": "white",
           "ticks": "",
           "title": {
            "standoff": 15
           },
           "zerolinecolor": "white",
           "zerolinewidth": 2
          }
         }
        },
        "title": {
         "text": "Attributions of Layer 7 Neurons to the legal direction of B6 in game 0 (Posiiton 10)"
        },
        "xaxis": {
         "anchor": "y",
         "domain": [
          0,
          1
         ],
         "title": {
          "text": "Neuron Index"
         }
        },
        "yaxis": {
         "anchor": "x",
         "domain": [
          0,
          1
         ],
         "exponentformat": "E",
         "title": {
          "text": "Attribution"
         }
        }
       }
      },
      "text/html": [
       "<div>                            <div id=\"1e70c02a-d3ff-408e-a961-33d07da8dc76\" class=\"plotly-graph-div\" style=\"height:525px; width:100%;\"></div>            <script type=\"text/javascript\">                require([\"plotly\"], function(Plotly) {                    window.PLOTLYENV=window.PLOTLYENV || {};                                    if (document.getElementById(\"1e70c02a-d3ff-408e-a961-33d07da8dc76\")) {                    Plotly.newPlot(                        \"1e70c02a-d3ff-408e-a961-33d07da8dc76\",                        [{\"hovertemplate\":\"Neuron Index=%{x}\\u003cbr\\u003eAttribution=%{y}\\u003cextra\\u003e\\u003c\\u002fextra\\u003e\",\"legendgroup\":\"\",\"marker\":{\"color\":\"#636efa\",\"symbol\":\"circle\"},\"mode\":\"markers\",\"name\":\"\",\"showlegend\":false,\"x\":[0,1,2,3,4,5,6,7,8,9,10,11,12,13,14,15,16,17,18,19,20,21,22,23,24,25,26,27,28,29,30,31,32,33,34,35,36,37,38,39,40,41,42,43,44,45,46,47,48,49,50,51,52,53,54,55,56,57,58,59,60,61,62,63,64,65,66,67,68,69,70,71,72,73,74,75,76,77,78,79,80,81,82,83,84,85,86,87,88,89,90,91,92,93,94,95,96,97,98,99,100,101,102,103,104,105,106,107,108,109,110,111,112,113,114,115,116,117,118,119,120,121,122,123,124,125,126,127,128,129,130,131,132,133,134,135,136,137,138,139,140,141,142,143,144,145,146,147,148,149,150,151,152,153,154,155,156,157,158,159,160,161,162,163,164,165,166,167,168,169,170,171,172,173,174,175,176,177,178,179,180,181,182,183,184,185,186,187,188,189,190,191,192,193,194,195,196,197,198,199,200,201,202,203,204,205,206,207,208,209,210,211,212,213,214,215,216,217,218,219,220,221,222,223,224,225,226,227,228,229,230,231,232,233,234,235,236,237,238,239,240,241,242,243,244,245,246,247,248,249,250,251,252,253,254,255,256,257,258,259,260,261,262,263,264,265,266,267,268,269,270,271,272,273,274,275,276,277,278,279,280,281,282,283,284,285,286,287,288,289,290,291,292,293,294,295,296,297,298,299,300,301,302,303,304,305,306,307,308,309,310,311,312,313,314,315,316,317,318,319,320,321,322,323,324,325,326,327,328,329,330,331,332,333,334,335,336,337,338,339,340,341,342,343,344,345,346,347,348,349,350,351,352,353,354,355,356,357,358,359,360,361,362,363,364,365,366,367,368,369,370,371,372,373,374,375,376,377,378,379,380,381,382,383,384,385,386,387,388,389,390,391,392,393,394,395,396,397,398,399,400,401,402,403,404,405,406,407,408,409,410,411,412,413,414,415,416,417,418,419,420,421,422,423,424,425,426,427,428,429,430,431,432,433,434,435,436,437,438,439,440,441,442,443,444,445,446,447,448,449,450,451,452,453,454,455,456,457,458,459,460,461,462,463,464,465,466,467,468,469,470,471,472,473,474,475,476,477,478,479,480,481,482,483,484,485,486,487,488,489,490,491,492,493,494,495,496,497,498,499,500,501,502,503,504,505,506,507,508,509,510,511,512,513,514,515,516,517,518,519,520,521,522,523,524,525,526,527,528,529,530,531,532,533,534,535,536,537,538,539,540,541,542,543,544,545,546,547,548,549,550,551,552,553,554,555,556,557,558,559,560,561,562,563,564,565,566,567,568,569,570,571,572,573,574,575,576,577,578,579,580,581,582,583,584,585,586,587,588,589,590,591,592,593,594,595,596,597,598,599,600,601,602,603,604,605,606,607,608,609,610,611,612,613,614,615,616,617,618,619,620,621,622,623,624,625,626,627,628,629,630,631,632,633,634,635,636,637,638,639,640,641,642,643,644,645,646,647,648,649,650,651,652,653,654,655,656,657,658,659,660,661,662,663,664,665,666,667,668,669,670,671,672,673,674,675,676,677,678,679,680,681,682,683,684,685,686,687,688,689,690,691,692,693,694,695,696,697,698,699,700,701,702,703,704,705,706,707,708,709,710,711,712,713,714,715,716,717,718,719,720,721,722,723,724,725,726,727,728,729,730,731,732,733,734,735,736,737,738,739,740,741,742,743,744,745,746,747,748,749,750,751,752,753,754,755,756,757,758,759,760,761,762,763,764,765,766,767,768,769,770,771,772,773,774,775,776,777,778,779,780,781,782,783,784,785,786,787,788,789,790,791,792,793,794,795,796,797,798,799,800,801,802,803,804,805,806,807,808,809,810,811,812,813,814,815,816,817,818,819,820,821,822,823,824,825,826,827,828,829,830,831,832,833,834,835,836,837,838,839,840,841,842,843,844,845,846,847,848,849,850,851,852,853,854,855,856,857,858,859,860,861,862,863,864,865,866,867,868,869,870,871,872,873,874,875,876,877,878,879,880,881,882,883,884,885,886,887,888,889,890,891,892,893,894,895,896,897,898,899,900,901,902,903,904,905,906,907,908,909,910,911,912,913,914,915,916,917,918,919,920,921,922,923,924,925,926,927,928,929,930,931,932,933,934,935,936,937,938,939,940,941,942,943,944,945,946,947,948,949,950,951,952,953,954,955,956,957,958,959,960,961,962,963,964,965,966,967,968,969,970,971,972,973,974,975,976,977,978,979,980,981,982,983,984,985,986,987,988,989,990,991,992,993,994,995,996,997,998,999,1000,1001,1002,1003,1004,1005,1006,1007,1008,1009,1010,1011,1012,1013,1014,1015,1016,1017,1018,1019,1020,1021,1022,1023,1024,1025,1026,1027,1028,1029,1030,1031,1032,1033,1034,1035,1036,1037,1038,1039,1040,1041,1042,1043,1044,1045,1046,1047,1048,1049,1050,1051,1052,1053,1054,1055,1056,1057,1058,1059,1060,1061,1062,1063,1064,1065,1066,1067,1068,1069,1070,1071,1072,1073,1074,1075,1076,1077,1078,1079,1080,1081,1082,1083,1084,1085,1086,1087,1088,1089,1090,1091,1092,1093,1094,1095,1096,1097,1098,1099,1100,1101,1102,1103,1104,1105,1106,1107,1108,1109,1110,1111,1112,1113,1114,1115,1116,1117,1118,1119,1120,1121,1122,1123,1124,1125,1126,1127,1128,1129,1130,1131,1132,1133,1134,1135,1136,1137,1138,1139,1140,1141,1142,1143,1144,1145,1146,1147,1148,1149,1150,1151,1152,1153,1154,1155,1156,1157,1158,1159,1160,1161,1162,1163,1164,1165,1166,1167,1168,1169,1170,1171,1172,1173,1174,1175,1176,1177,1178,1179,1180,1181,1182,1183,1184,1185,1186,1187,1188,1189,1190,1191,1192,1193,1194,1195,1196,1197,1198,1199,1200,1201,1202,1203,1204,1205,1206,1207,1208,1209,1210,1211,1212,1213,1214,1215,1216,1217,1218,1219,1220,1221,1222,1223,1224,1225,1226,1227,1228,1229,1230,1231,1232,1233,1234,1235,1236,1237,1238,1239,1240,1241,1242,1243,1244,1245,1246,1247,1248,1249,1250,1251,1252,1253,1254,1255,1256,1257,1258,1259,1260,1261,1262,1263,1264,1265,1266,1267,1268,1269,1270,1271,1272,1273,1274,1275,1276,1277,1278,1279,1280,1281,1282,1283,1284,1285,1286,1287,1288,1289,1290,1291,1292,1293,1294,1295,1296,1297,1298,1299,1300,1301,1302,1303,1304,1305,1306,1307,1308,1309,1310,1311,1312,1313,1314,1315,1316,1317,1318,1319,1320,1321,1322,1323,1324,1325,1326,1327,1328,1329,1330,1331,1332,1333,1334,1335,1336,1337,1338,1339,1340,1341,1342,1343,1344,1345,1346,1347,1348,1349,1350,1351,1352,1353,1354,1355,1356,1357,1358,1359,1360,1361,1362,1363,1364,1365,1366,1367,1368,1369,1370,1371,1372,1373,1374,1375,1376,1377,1378,1379,1380,1381,1382,1383,1384,1385,1386,1387,1388,1389,1390,1391,1392,1393,1394,1395,1396,1397,1398,1399,1400,1401,1402,1403,1404,1405,1406,1407,1408,1409,1410,1411,1412,1413,1414,1415,1416,1417,1418,1419,1420,1421,1422,1423,1424,1425,1426,1427,1428,1429,1430,1431,1432,1433,1434,1435,1436,1437,1438,1439,1440,1441,1442,1443,1444,1445,1446,1447,1448,1449,1450,1451,1452,1453,1454,1455,1456,1457,1458,1459,1460,1461,1462,1463,1464,1465,1466,1467,1468,1469,1470,1471,1472,1473,1474,1475,1476,1477,1478,1479,1480,1481,1482,1483,1484,1485,1486,1487,1488,1489,1490,1491,1492,1493,1494,1495,1496,1497,1498,1499,1500,1501,1502,1503,1504,1505,1506,1507,1508,1509,1510,1511,1512,1513,1514,1515,1516,1517,1518,1519,1520,1521,1522,1523,1524,1525,1526,1527,1528,1529,1530,1531,1532,1533,1534,1535,1536,1537,1538,1539,1540,1541,1542,1543,1544,1545,1546,1547,1548,1549,1550,1551,1552,1553,1554,1555,1556,1557,1558,1559,1560,1561,1562,1563,1564,1565,1566,1567,1568,1569,1570,1571,1572,1573,1574,1575,1576,1577,1578,1579,1580,1581,1582,1583,1584,1585,1586,1587,1588,1589,1590,1591,1592,1593,1594,1595,1596,1597,1598,1599,1600,1601,1602,1603,1604,1605,1606,1607,1608,1609,1610,1611,1612,1613,1614,1615,1616,1617,1618,1619,1620,1621,1622,1623,1624,1625,1626,1627,1628,1629,1630,1631,1632,1633,1634,1635,1636,1637,1638,1639,1640,1641,1642,1643,1644,1645,1646,1647,1648,1649,1650,1651,1652,1653,1654,1655,1656,1657,1658,1659,1660,1661,1662,1663,1664,1665,1666,1667,1668,1669,1670,1671,1672,1673,1674,1675,1676,1677,1678,1679,1680,1681,1682,1683,1684,1685,1686,1687,1688,1689,1690,1691,1692,1693,1694,1695,1696,1697,1698,1699,1700,1701,1702,1703,1704,1705,1706,1707,1708,1709,1710,1711,1712,1713,1714,1715,1716,1717,1718,1719,1720,1721,1722,1723,1724,1725,1726,1727,1728,1729,1730,1731,1732,1733,1734,1735,1736,1737,1738,1739,1740,1741,1742,1743,1744,1745,1746,1747,1748,1749,1750,1751,1752,1753,1754,1755,1756,1757,1758,1759,1760,1761,1762,1763,1764,1765,1766,1767,1768,1769,1770,1771,1772,1773,1774,1775,1776,1777,1778,1779,1780,1781,1782,1783,1784,1785,1786,1787,1788,1789,1790,1791,1792,1793,1794,1795,1796,1797,1798,1799,1800,1801,1802,1803,1804,1805,1806,1807,1808,1809,1810,1811,1812,1813,1814,1815,1816,1817,1818,1819,1820,1821,1822,1823,1824,1825,1826,1827,1828,1829,1830,1831,1832,1833,1834,1835,1836,1837,1838,1839,1840,1841,1842,1843,1844,1845,1846,1847,1848,1849,1850,1851,1852,1853,1854,1855,1856,1857,1858,1859,1860,1861,1862,1863,1864,1865,1866,1867,1868,1869,1870,1871,1872,1873,1874,1875,1876,1877,1878,1879,1880,1881,1882,1883,1884,1885,1886,1887,1888,1889,1890,1891,1892,1893,1894,1895,1896,1897,1898,1899,1900,1901,1902,1903,1904,1905,1906,1907,1908,1909,1910,1911,1912,1913,1914,1915,1916,1917,1918,1919,1920,1921,1922,1923,1924,1925,1926,1927,1928,1929,1930,1931,1932,1933,1934,1935,1936,1937,1938,1939,1940,1941,1942,1943,1944,1945,1946,1947,1948,1949,1950,1951,1952,1953,1954,1955,1956,1957,1958,1959,1960,1961,1962,1963,1964,1965,1966,1967,1968,1969,1970,1971,1972,1973,1974,1975,1976,1977,1978,1979,1980,1981,1982,1983,1984,1985,1986,1987,1988,1989,1990,1991,1992,1993,1994,1995,1996,1997,1998,1999,2000,2001,2002,2003,2004,2005,2006,2007,2008,2009,2010,2011,2012,2013,2014,2015,2016,2017,2018,2019,2020,2021,2022,2023,2024,2025,2026,2027,2028,2029,2030,2031,2032,2033,2034,2035,2036,2037,2038,2039,2040,2041,2042,2043,2044,2045,2046,2047],\"xaxis\":\"x\",\"y\":[-0.0,0.0,-0.0,0.0,-2.1763674e-8,0.050435048,-0.0,-7.424593e-7,-0.0,-0.00008350011,0.051157366,-0.000024125105,0.0,-0.0,-0.0003589817,0.000045837318,-3.3062776e-7,0.0,-0.0,-0.0,-0.000015532514,-0.0003924935,0.0,0.0,-1.5946252e-7,-0.0,-0.0,0.0,0.000638417,0.0,0.00021002068,0.0,-0.0,0.0,0.0,-0.0,-0.0,0.001602664,-0.0,0.0002597939,-0.0,0.0,0.0,0.000038057296,-0.0009858808,-0.00013055166,0.051830754,0.0,1.3223271e-7,0.0,-0.0005037203,-0.0000017807735,0.0,-0.0,-0.00020523106,-4.4434238e-8,0.0,0.0,0.048628304,-0.0,-0.0,-0.0,0.0,-0.0,0.00041459035,-0.000023990997,0.0,-5.4949605e-9,0.0,-0.0,-0.0,0.0,0.0,0.0000044526532,-2.517805e-8,0.0,-0.0000046716277,-0.0,2.661587e-7,0.0000033971085,-0.0,-0.0,-0.0,-0.0,-0.0005170323,0.00010700634,-0.0,0.0,-0.0,0.0,-0.0,0.0,-0.0,4.5889422e-8,-0.00028661135,0.0,-0.0,-0.00001975529,-0.0,-0.0,0.0,-0.0,-0.000038445283,-0.0,0.0,-0.0,0.0,-0.0,0.0,0.0,0.0,-0.0014724922,-0.000064213826,0.0,7.592015e-8,0.0,0.0,0.00008900347,-0.00036887795,-0.0000012450306,0.0000075131056,0.0,-0.0,0.0,-0.00015439466,-2.6681595e-9,-0.0,0.0,-0.0,0.0,-0.000057251065,0.0000127615485,-0.0,-0.0,0.0,-0.0,0.0,-0.00013886853,0.0,-0.0,0.0,2.688876e-8,0.0000051804623,0.0,4.4241208e-8,-0.0,6.7809077e-7,0.0017846893,0.0000024030523,-0.0,0.059732355,-0.0,-0.0,0.0,0.0,0.0,0.0,-0.0010005904,-0.0,-0.0,-7.357404e-8,-0.0,-0.0,-0.0002298572,0.0,-0.0,0.0,0.0,-0.0,7.791643e-9,1.432192e-7,0.0,1.806866e-8,-0.0,-0.00026929157,-0.00047347933,-0.0,0.0,-0.0006451999,-3.928196e-7,0.0,-0.0,-3.2805513e-8,-0.0,1.3896444e-7,0.0,0.0,-0.0,-0.0,-0.0005234674,0.0,-2.6938213e-8,0.000003847817,-0.0,-0.0,0.0,0.0,-0.0,-0.0,0.000115691146,1.18151846e-7,0.12676182,-1.9302806e-7,0.0,-0.0,-0.0,-0.0,-0.0,-0.0,0.000005021063,0.0,-0.0,0.0,0.0,0.0,-0.000050351515,0.00027773262,-0.0,0.0,0.036858756,-5.8111166e-8,-0.0,1.8370706e-8,-0.000022221162,-0.0,0.0,-0.0,-0.0,-0.0,-0.0011351448,-0.0,2.8584e-7,0.0,0.0,-2.263829e-8,-2.649385e-8,0.0,-0.00088346424,0.0,0.0,0.0,-0.0,-0.0,-2.78575e-8,0.0,-0.0,0.000090444664,-6.2118595e-9,0.0,0.0,-0.0,-0.00020487542,0.0,-0.0,-0.0,-0.0,-0.0,-1.3583838e-7,0.011338397,0.0,0.0,0.000016025826,-0.0,0.0,-0.00017201545,0.0,9.0697534e-7,-0.0,-0.0,0.0006677464,0.08107539,0.000013068046,-0.0009815636,0.0,-0.0,0.000009094578,-0.0,7.004847e-8,0.0,-0.0000026797095,-0.0,0.0,-0.0,0.0,-0.0,-0.0,0.0,0.000037593843,-1.8182654e-7,0.0,-0.0,-0.0,1.2687805e-8,-0.0,0.0,-0.004320388,0.0,-0.00024876674,-0.0,0.0,0.0,0.0,0.0,-0.0,0.0,0.0,0.0,-0.0,-4.3125173e-8,0.0000014027155,-0.0,0.00025316057,0.00023816366,-0.0,-0.0,-0.0,-0.0,1.7717136e-7,-0.0,0.0027318066,-0.0,0.0,0.0,0.006483954,-0.0,0.000020891222,-0.0,0.0,-0.0,-0.0,0.00015881464,-0.000009575545,-5.502984e-9,-0.0,-0.000140036,-0.0,-0.0,0.0,-0.0,0.0,-0.0,-0.0,-0.0,0.0,1.4325e-7,0.0,0.0,-0.0,-0.0,-0.00006744444,0.0,0.0,-0.0000022230934,-4.012345e-8,-0.000214595,0.0348865,0.0,-0.00005202402,0.0,0.0,-0.0,0.039620716,0.0,0.0,0.0,0.0,-6.3447294e-7,-0.0,-0.0,0.000106978376,-0.0,0.0,-0.0,0.0,-2.6709608e-9,-0.00046238638,-0.0,-0.0,-0.0,-0.0,0.0,0.0,-0.0036414734,0.0,-0.0,-0.0,0.0,-0.0,-0.0,-0.0,4.429066e-9,-0.000013059719,-0.000048031678,-0.0,-0.0,0.0,1.2925586e-8,-0.0,-1.6345656e-9,-0.0,0.0,0.0,0.0,0.00013448206,0.00016074002,-8.904888e-7,-0.0,1.8091814e-8,0.0,0.0,1.0909444e-7,-0.0,0.0,-0.00018763359,-0.0,0.0,0.0,0.0,-0.0,0.0,0.046821672,0.0,-0.0,0.0,-0.0,8.130739e-9,-0.0,-0.0,-0.0,0.0,-0.0,0.0,-3.8020356e-9,0.0,0.0,-0.0,-0.0,-1.5799698e-8,0.00045968086,0.053603858,8.466951e-9,0.0,-0.0,9.418298e-7,-0.0,0.0,0.0,-0.0,-0.0010051489,-7.5726106e-8,-0.0,0.00010069125,0.0,0.021906562,0.0005602876,-0.0,-0.00020254677,0.0,0.0000036856432,-0.0,-0.0,-0.0010490618,0.0,-0.0,-0.0,0.0,-0.0008152148,-0.0,-0.0000011025832,0.000032361768,-0.0003434437,-5.9658296e-9,-0.0,0.0,-0.0000018468033,-0.0003478762,-0.0000012861859,0.0,0.0,-0.0,0.0,0.0,0.0,-0.0,-0.0,-0.0,-0.0,0.04302463,0.0,-0.00037813638,0.00090216496,0.0,-0.00040407156,-0.0,-0.00042083373,-0.0,0.0,-0.0,-0.0,-0.0,-0.00039742986,-0.0,0.0,-0.0,0.038284663,-0.0,-0.00036763298,-0.0,0.0008305931,-0.0,-0.0,-0.00011321364,0.0,-0.0,-0.0002433053,0.0,-0.00044708463,0.0,-0.00046725862,0.0002673788,0.0,-0.0,0.0,-0.0,0.00005957052,0.00044547528,0.0,-0.0016036911,0.00018087281,0.0,-0.0,-0.0,-0.0,-0.000629527,-0.0,-0.0,-5.043404e-8,-0.002770712,-0.0002045356,-0.0000040136956,-0.0,0.037230793,-3.9241291e-7,-0.0000010385728,0.060941648,0.0,-0.0,-0.00029230092,-0.0,-0.0,-0.0,-0.000013811439,0.00020340318,-0.000010648176,-0.00006005687,0.0000048884,3.987977e-8,-0.0,-0.00019253709,-1.1085915e-8,0.0,-0.0,0.000004621321,-0.0,-2.3157622e-9,-0.0,-0.0,-0.0,0.0,-0.0009455646,-0.0000010579314,0.0,-0.0,0.0,0.016756536,-0.0005824329,-0.0006196848,0.0,0.0,-0.0,-0.00019082449,-0.0,0.0,-0.0,0.0,0.0,-0.0,0.0,0.0,-1.9658049e-9,-0.0,-0.0,0.0,0.00013978599,0.0,0.0,-0.0006329183,-0.0,-0.0,-2.8272e-9,0.0,0.0,0.00005621181,0.0,-2.8277508e-8,0.0,0.0,0.0005789475,-0.0,0.000043715852,-0.0,0.0,0.00035916176,0.0,-0.0,0.0,0.00023366848,-0.0,-0.000012006565,-0.0,0.0,-0.0,0.0,-0.0,0.0,6.7735835e-9,0.0,-0.00044604158,0.0,0.0,-0.00021586781,-0.0,0.0,-0.0,2.0768853e-7,-0.0,0.0,-0.00040420127,-0.0,1.6057818e-8,0.0,0.0,0.000059770966,-0.0,-0.000037698763,-0.0,-0.0,-0.0,0.0,1.4544489e-7,0.00013164121,-0.0,-0.0,-0.0,-0.000015855243,-0.0,0.0,-0.0,-1.106012e-7,0.0,0.0,0.0009930936,-0.0,0.0,2.9109995e-7,0.0,-0.0,-0.0025113104,0.0,-0.0,-0.00021325618,1.8650486e-8,-0.0,-0.0,-0.00005602446,-0.0,-0.000001326452,-0.0,-0.0000016792558,0.0003887003,0.0,-0.000056701767,-8.527659e-9,-0.0,-0.0,0.0,-0.0,0.0,0.0,0.0,0.011930407,-0.0005771713,-0.0,-0.000041193078,-1.3413643e-8,0.0,-2.2519044e-8,-0.0,0.0,-0.000049532588,0.0005634057,0.0,-0.0,0.061189413,-0.0008229936,-1.441579e-8,-0.0,-0.0,0.0,0.0,-0.0,-0.0,0.0011763726,-0.000004609154,0.00019953508,-0.00042567024,0.00010627752,0.00031567222,-0.0,0.0,-0.0,-0.0,0.0,0.0,0.0,-8.576133e-9,0.0,-0.0,-0.0,-0.0,-0.0,-4.0426076e-7,-7.89404e-9,0.0004674384,-0.0,0.0,-0.0,-0.0,-0.0,0.0,0.0,-0.0,-0.00012757021,0.0,0.00026956532,-1.0620041e-7,-0.00000808575,-0.0,-0.00003906751,-0.0,0.0,-0.0,-0.0,0.0,0.0,0.0,-0.0008178492,-6.131107e-8,0.0,-0.0,-0.0,-0.0,-0.0,-0.0,0.0030022287,-0.000005128579,-0.0,0.0,-0.00024037944,0.0,-0.0,0.00020480274,0.0,6.2770226e-8,-0.0,0.0,-0.0,-0.0,0.0,-0.0,-0.0,-0.0,-0.0,0.0010632657,-3.9038355e-7,-0.0,-0.0,7.633253e-8,-0.0,0.0,0.0,0.0,-0.00012719978,0.000003237331,0.0,0.0003655595,-0.00020234873,-0.0,-0.0,-0.00011571376,-0.0,-0.0,-0.0,-0.0,-0.0,0.000026340018,0.00025256153,0.0,-0.0,-0.0,-0.0,-0.0,-0.0,-0.0,0.046220448,-1.06225926e-7,-0.0,-0.0,-1.4218813e-8,0.0,0.0,0.0,0.0,9.392428e-9,0.0,-0.00040734513,-0.0,0.0,-0.0,0.000001774993,-1.15810316e-7,0.00042619268,-0.00043552544,3.010435e-8,-0.0,-0.0,-0.00030077036,-0.0,0.0,0.0,-0.0,-0.0,-0.000070965485,-0.0,0.000027409273,-0.0,-0.0,-0.0,-0.0,0.0,0.0,-0.0,-0.0,-0.0002698948,-0.0,-0.00032517337,0.0,-0.000029244195,-0.0,-0.0,-0.0,-0.0,0.0002171953,4.0509146e-8,-0.00018172753,-0.0,0.00089865626,-0.0,-0.0,-0.0,0.0,-0.0,5.6635974e-7,0.0,-1.08410084e-7,0.0,-7.6420387e-10,-0.0,0.0,0.05790914,-0.0,0.000042211497,-0.0004735543,-0.0,0.0,0.0,0.0,-0.0,1.0191583e-7,0.0,0.0,0.0,-0.00006883346,0.0003204836,-0.000013030679,-0.00002816227,-0.000008519852,-0.000025074543,-9.2021764e-8,-0.0003044689,0.0,0.00032452642,-0.0,-0.0,-0.0,0.0,0.0,-0.0008296332,0.00006772548,-0.00042328826,-0.0,0.0,-0.0,0.0,-0.0,-0.0000018347317,-0.0,-0.0,-0.0,-0.000009578139,-0.0,-0.0,0.0012815519,0.0,-0.0,-0.0,-0.0,0.0,-6.9933233e-9,-0.0,-0.0,-0.0,-0.000009340898,0.0,0.0,-0.0,0.0,0.0,-0.0,-1.962684e-9,0.0,-0.0,0.0,0.0,-0.0,-0.0,0.0,-0.0,0.0006862859,-0.0,-0.0,0.00035027094,0.0,-0.0,-4.250149e-7,0.0,-0.0,0.00011795775,-0.0,0.0,-0.0,0.0004751124,-0.0,-0.000444649,0.000004664665,0.0,0.0,0.037525926,-0.0,1.7312263e-7,-0.0,0.00048919127,-0.0,-2.0084563e-8,0.0,0.0,-0.0,-0.000682301,0.0,-0.0,0.060230173,-0.0008728872,-0.0013944387,0.0,-0.0,0.03683074,0.0,-0.00097150565,0.0,0.0,0.0,-0.0,-0.0,-0.0,0.0,0.0,-0.0010972474,0.0,0.0,0.0,-0.0,0.0,-0.0,-0.00004046553,0.0,0.0,-0.0,-0.0,0.00048633764,0.0,1.4420624e-7,-0.00022950832,-0.0000317852,-0.0,-0.0,-0.0,0.0,0.000005208743,-1.5827331e-7,0.0,-0.0,-0.0,-0.0,-0.0,0.05989687,0.0003016836,2.276026e-8,0.0,0.00039829258,0.0,0.031600665,0.0,-0.0,-0.0,-3.7236713e-8,0.0,0.0,-0.000080635575,-0.0,-0.0,0.0,-0.0,0.000015681886,1.8126529e-7,0.0,-0.000074594675,-0.00038730117,0.0,-0.0,-0.0,1.3163611e-7,0.0,-0.0,-0.00021071576,0.0,0.05090595,-0.0,-0.0,-0.0,-1.3854234e-8,0.0,-0.0004303529,0.0,-0.0,0.0,-0.0,-0.0,-0.0,2.20561e-8,0.0,-4.654748e-7,0.034188736,0.0,0.0,-0.0006572569,-0.000008805477,0.000016951706,0.0,0.0,-0.0,-0.0,-0.000002353271,0.0,-0.0,0.0,0.0,-0.00062393403,0.0,0.0,0.0014154395,-0.0,-0.000024323232,-0.0,-0.0,-0.00035175183,0.018703803,-6.3290045e-8,-0.0,0.00051324844,1.9545249e-8,0.0,-0.0,0.00013659093,-7.074218e-8,0.0011600596,0.0006550933,-0.0,-0.0,0.0,0.0,-0.0,0.0,-0.0,-1.6616355e-7,0.0,-5.370932e-8,0.0,0.0,0.002162875,-0.00010426511,-0.0,-0.0,0.0,-0.0,-0.0,0.0,0.000100117926,0.000052927528,-0.00024175836,-0.0,0.0,7.743253e-9,-0.0,0.0003192772,-0.00082270004,-0.0,0.0,1.21841195e-8,-0.0004017034,0.0041425023,0.0,-9.4233684e-8,3.216785e-8,-0.0,0.0,0.0,-0.00047728932,-0.0014526749,0.0,-0.0009370116,-0.0,0.0,0.0,0.0,0.002079529,-0.0,6.626185e-8,-0.00015266861,-0.0,0.0001537128,0.0017271758,0.00016341916,-0.0,-0.0,-0.0,0.0,0.0,-2.4916819e-8,0.0,-0.0,0.0,0.0,0.0,0.000099546036,0.0,0.0033549147,-0.0,-3.9709743e-8,0.0,0.0,-0.00016210962,-0.0,-0.0,-0.0,0.0,0.0,0.0,-0.0,-0.0,-0.0,-0.0,0.13383406,0.0000019398678,-0.0,0.0,-0.000501874,0.0,0.0,0.0,-3.7074233e-7,0.036046147,0.0,8.453402e-9,-0.0,-0.0,0.0,0.0,2.9290547e-7,0.0,2.4836015e-7,-0.0,0.0,0.0,-0.0,0.0001360322,-0.0,0.000043865166,-0.00049169053,0.0,-0.0,-0.0,0.0,0.0,-3.864e-8,-0.0,-0.0,0.0,-0.0,-0.00034738102,0.0,0.0,0.0,-0.0,-0.000014208149,-0.00012981019,0.00004878377,1.4668271e-8,0.0,-0.0,-0.000008853789,-0.0000022133675,0.0,0.0,-4.3356803e-8,-0.0,0.000022133958,-0.0,-0.0,-0.0,-0.0,0.000018292185,-2.059305e-8,0.0,-5.976877e-8,-0.0,-0.0,0.0,0.0,0.0,-0.0,0.0,-0.00020937626,1.13833266e-7,-7.769054e-8,-0.0,-0.000004561518,0.00020980273,-0.0000017229885,0.040514983,0.0,-0.0,0.0,-0.00123858,0.0,-3.788816e-8,-0.0,-0.0010948445,0.0,-0.00028376066,0.0,-0.0,0.00007661773,-0.0,-0.00016773363,0.0,0.002553408,0.0,0.0,0.0,-0.0,-0.0,-0.000086196975,-0.0,-0.0,-0.0,7.2783746e-10,0.0,0.059705786,0.0,-0.0,0.0,0.0,-0.0,-1.396009e-8,-0.0,-0.000004320765,0.0,-0.0000011285233,0.0,-0.0,-0.0,-0.0,0.0,0.0011443887,2.0588338e-9,0.0,-0.0,-0.0,0.0011764781,0.0,-0.00010362018,0.00015235282,-0.0,0.0,-0.0,-0.0,-0.000026235006,-0.0000011824735,-0.0,0.036928,-1.4661296e-7,0.00013133466,-0.0,0.000114625116,-0.0,-0.0,-0.0,-0.0,-0.0,0.000028849077,0.0,0.0,-0.000114038325,-0.0,0.0,-0.0,-0.0,-0.0,-3.2773656e-7,0.0,-1.1417332e-7,0.0,0.0,-0.0,0.0,0.0,-0.0,0.00003545385,-0.0,-0.00001089746,0.0,-0.00040282166,0.0,-0.0,0.010121245,0.00007218999,2.2913362e-7,0.000003171846,3.667348e-8,0.0,-0.0,-0.0,-0.0,0.0,-0.00014413668,-0.00004732675,0.04447499,-0.0,0.0,0.0,0.0000014085314,-0.0,-0.0000028171855,-0.0,0.0,-0.00022585067,0.0,0.0,0.0,-0.0,-0.0,0.0000019057459,0.0,-0.0,0.0,0.00008331071,0.0,0.0030959984,0.000040888583,-0.0,-0.0,-0.0,-0.0,0.0,-2.6853982e-7,-0.0,-0.00013691782,0.0,0.0,-0.0,-0.00004167581,-0.000030912302,0.0,-0.0,-0.0,-1.2594793e-7,0.0,0.0,-0.0,3.8717634e-8,0.0,-0.0000012006715,-0.0,-1.00742e-7,2.0207397e-8,-0.0,-0.0016994114,-0.0,2.226113e-7,-0.0,0.0,-0.0,-0.0,0.0009019989,0.0000010952288,0.0,0.000022344799,8.038953e-8,-0.0,-0.0,-1.0618681e-7,0.0,7.2008115e-9,0.0,-0.0000011686692,-0.000019838606,-0.0000014670237,0.0,0.00022954086,-0.0,-0.0,0.000009146315,-0.0002390084,0.0,-0.0,-0.0000038417884,-0.0002386604,-0.0,0.045083933,0.0,-0.0,-0.0009110732,-0.0000053243507,0.0,-1.096927e-7,0.00023873581,0.0,0.050491814,-0.0,0.0,3.3013865e-7,-0.0000010100115,-0.0,0.000048927905,0.000039250783,-0.0,-0.0002836626,-0.00028607916,-0.0,0.0,0.0,0.0,0.0,-1.154221e-7,0.0,-0.0,0.045140557,0.0,-1.0084732e-7,-0.0,-0.0,-0.0,0.0,-0.0006094912,0.0,-0.0,-0.00007197127,-0.0006375078,-0.0,-0.0,0.0,-0.00005861984,0.0,-0.0,-0.0,-0.00012445293,0.0000029936998,-0.0,-2.914463e-7,-1.013475e-7,-0.0,-0.0,0.00094588427,-0.0,0.00072060735,-0.0,-0.0,0.04234528,0.0,0.0,0.0,-0.0,-0.0,-0.0,0.0,-0.0,0.0000016643648,0.019884234,0.0,-0.0,-0.0,0.0,-0.0,0.0,-0.0,0.048810977,1.2912652e-7,-6.180186e-8,-0.0,-0.0,-0.0,-0.00045601517,0.0,-0.0,0.0,0.0,0.0,-0.0,0.0,0.0,-0.0,0.0,0.0,0.0,-0.0,0.0,-0.0,0.0,-0.0,0.0,-0.0,0.0,0.00008638265,-0.0,0.0,-0.0,-0.0,-0.000002052698,0.0,-4.3616905e-7,0.0,-0.0,-0.0,0.000004679077,-0.00015532806,-0.0,-0.0,-0.0,-0.0,-0.0,-0.0,0.0,0.00072969263,0.0,-0.0,-0.0,0.014716618,-0.0,-0.0,-3.4489398e-9,-0.000004030963,-0.0005605882,-0.0,-0.0,0.0,0.0,-0.0,-0.0,0.0,-0.0,-0.0,-0.0,0.0,0.0,0.0568814,0.0,-0.0,-0.0,-9.981063e-7,0.0003536632,0.0,0.0,0.0,-0.0,0.0,-0.0,-0.0,0.0,0.0,-8.351008e-7,1.7806943e-7,0.0009045552,-0.00007230017,-3.1400978e-7,-0.0,0.000016663156,-0.0,-0.0,-0.0,0.0,-1.0317639e-7,-3.3976153e-9,-0.0,0.003323374,5.6818537e-9,-0.0,-0.0,0.000120015604,0.0,1.57932e-7,-0.0,-0.0,4.61015e-8,0.000037423622,0.0,1.3254927e-8,0.0,-0.0,-0.0,-2.114134e-8,0.0001109942,-4.6083684e-8,0.00044174952,-0.000090867026,0.000056356123,-0.000063535655,8.960122e-7,0.00012551858,0.03332724,0.0,-0.0008089353,0.0,-0.0,-0.0,-0.0,-0.0,-0.000008441368,-0.0,0.0,-0.00015268174,-0.00007445527,-0.0,-0.0,-0.000086440166,-9.971129e-9,2.693089e-7,7.400049e-8,-0.0000035648895,0.04684154,0.0007340888,-0.000008992579,0.0,6.455786e-8,0.0,0.03076067,9.884875e-7,-0.000016427653,0.0010428135,-0.0,-0.00015494632,1.2346845e-8,0.0,6.8695623e-9,0.0,0.0,0.0,-0.00050366134,0.0,-0.0,0.03442897,-0.000060499846,-0.00029114942,-0.0005291233,-0.00037987556,-0.0000036954323,0.00006303273,-0.0,0.0,0.0,-0.0,-9.742718e-7,0.0,-0.0,0.0,0.0,-0.0,-0.00036834582,0.0,-0.0,0.0,-0.0,-0.0,0.013916647,0.0,0.0,6.1391137e-9,-0.0,0.062470563,0.0,0.0,-0.0,-0.0,-2.8967438e-7,2.423039e-8,-0.0,0.00021954987,0.000001597453,0.0,0.0,-0.00039111183,0.081075005,6.608813e-7,0.0,-0.0,-3.543706e-8,0.0,0.0,-0.0,-0.0,-0.0,0.00058331894,0.049233034,0.000008022753,-0.0,-1.5283993e-7,-2.5961464e-7,0.0,-0.0,0.0,-0.0,0.00051846687,-0.0,0.0,0.00035722402,0.0,-0.0,-0.0,-0.0,-0.0,0.0,0.0,0.0,0.0,-0.0,0.0,0.00019476654,-0.0,0.0000023721477,-0.0,0.0,-3.6013862e-8,0.0,0.0,2.8798103e-8,0.0,0.0000045675774,-1.8397623e-8,-5.0526756e-9,-0.0,0.00028722503,0.0,-0.0,-1.1887973e-8,0.0,0.0,0.0,0.0010629515,0.0,0.0,-0.0,0.0,-0.0,-0.0,-0.0,-0.0,0.042134266,5.6311585e-8,0.0,-0.0,0.0,0.0002343232,-0.0,-0.0,0.0,0.0,-0.0,0.00006419253,0.000034496818,-9.468713e-7,0.0,0.0,0.0,0.0,0.0000106531725,0.0,-2.1334662e-7,-0.0003856156,0.0,-0.0,-0.00008958677,-0.0,0.0,0.0,0.00012356223,0.0,0.0,0.056976523,0.0,-0.0,0.0,0.0,0.0,-0.0,0.0,-0.00004085962,0.0,0.0,-3.6068016e-7,0.0,-0.0,-0.0,0.0,0.0,-1.2097355e-9,-0.0013054579,-4.7733682e-8,0.0,-2.7397222e-8,-0.00018681778,-0.0,-0.0,0.0,0.0,0.000004739527,-0.0,0.0,-0.0,-9.6501715e-8,-0.0,-0.00024349528,-0.0,-0.0,-1.4848703e-7,-0.0,-0.000087541455,-0.0,-0.0,0.0000011352462,0.0,0.0,0.0,-1.7882996e-8,-0.000007231037,-0.0,0.0,-0.0,-2.204847e-8,-1.4589463e-8,-0.0,-1.1073872e-7,0.0,0.0,-0.0,0.0,-0.0,0.0000065954628,8.2930924e-8,0.0,5.3864375e-9,0.00004626633,-0.00018458258,4.6814066e-8,0.0,-0.0,-0.0004658673,-0.0000105536765,-0.0,1.2641166e-7,-0.00002278962,0.0002659635,0.0,0.0,0.0,-2.4813183e-8,0.0,0.0,-0.0,1.2003319e-7,-0.0,-0.0,-0.0,-0.0,-0.0,0.00024272523,-0.0000029590708,0.0,-0.0,-0.0,-0.0,0.0,-0.0,-0.0,-0.0,-0.0,0.0,-0.0,0.0,0.0,-0.0,0.0,-0.000031944925,-0.0,0.0,-0.000021045693,0.048305087,0.000011702278,0.000022184862,0.0,-1.5336205e-7,0.0,-0.0,-0.000045983175,-2.7218777e-8,-0.0,-0.0,-0.00071055425,0.00058889,-0.0,0.0,-0.0,0.0,0.0,0.0036084787,-0.0,-0.0,0.0,-1.001776e-7,-0.0,0.0000015393776,-0.0,0.0,-3.1826477e-8,0.0,0.0,0.0,-0.0,0.0,-0.0,4.7562374e-8,-5.1318363e-8,-0.0004841999,0.0,0.000002765669,0.0,0.0,-0.00052870286,-6.587124e-7,-0.0,-0.0,-0.00037605246,0.0,0.0,-0.0,-0.00014367298,0.000104748935,0.00010943122,-0.00003150077,8.200131e-8,0.00015377275,-0.0,0.000021462687,-8.8264315e-8,-0.000006880327,0.001007738,0.0,0.0,2.7537537e-8,-1.3858238e-7,0.0,-0.0,0.0,0.0,-0.0011074068,0.0,0.0,-0.0,0.0,-0.0,-0.0,-0.0,-0.0,4.0758755e-7,0.0,-0.000033531815,-3.4859195e-7,-0.0,0.0,0.0,0.0,0.0,-6.275924e-8,0.0,-0.0,0.0,0.0,0.0,0.0,0.0,-0.0064476077,0.0,6.441457e-7,-0.0,0.0,0.00023427088,-0.0,-0.0,0.0,0.0],\"yaxis\":\"y\",\"type\":\"scattergl\"}],                        {\"template\":{\"data\":{\"histogram2dcontour\":[{\"type\":\"histogram2dcontour\",\"colorbar\":{\"outlinewidth\":0,\"ticks\":\"\"},\"colorscale\":[[0.0,\"#0d0887\"],[0.1111111111111111,\"#46039f\"],[0.2222222222222222,\"#7201a8\"],[0.3333333333333333,\"#9c179e\"],[0.4444444444444444,\"#bd3786\"],[0.5555555555555556,\"#d8576b\"],[0.6666666666666666,\"#ed7953\"],[0.7777777777777778,\"#fb9f3a\"],[0.8888888888888888,\"#fdca26\"],[1.0,\"#f0f921\"]]}],\"choropleth\":[{\"type\":\"choropleth\",\"colorbar\":{\"outlinewidth\":0,\"ticks\":\"\"}}],\"histogram2d\":[{\"type\":\"histogram2d\",\"colorbar\":{\"outlinewidth\":0,\"ticks\":\"\"},\"colorscale\":[[0.0,\"#0d0887\"],[0.1111111111111111,\"#46039f\"],[0.2222222222222222,\"#7201a8\"],[0.3333333333333333,\"#9c179e\"],[0.4444444444444444,\"#bd3786\"],[0.5555555555555556,\"#d8576b\"],[0.6666666666666666,\"#ed7953\"],[0.7777777777777778,\"#fb9f3a\"],[0.8888888888888888,\"#fdca26\"],[1.0,\"#f0f921\"]]}],\"heatmap\":[{\"type\":\"heatmap\",\"colorbar\":{\"outlinewidth\":0,\"ticks\":\"\"},\"colorscale\":[[0.0,\"#0d0887\"],[0.1111111111111111,\"#46039f\"],[0.2222222222222222,\"#7201a8\"],[0.3333333333333333,\"#9c179e\"],[0.4444444444444444,\"#bd3786\"],[0.5555555555555556,\"#d8576b\"],[0.6666666666666666,\"#ed7953\"],[0.7777777777777778,\"#fb9f3a\"],[0.8888888888888888,\"#fdca26\"],[1.0,\"#f0f921\"]]}],\"heatmapgl\":[{\"type\":\"heatmapgl\",\"colorbar\":{\"outlinewidth\":0,\"ticks\":\"\"},\"colorscale\":[[0.0,\"#0d0887\"],[0.1111111111111111,\"#46039f\"],[0.2222222222222222,\"#7201a8\"],[0.3333333333333333,\"#9c179e\"],[0.4444444444444444,\"#bd3786\"],[0.5555555555555556,\"#d8576b\"],[0.6666666666666666,\"#ed7953\"],[0.7777777777777778,\"#fb9f3a\"],[0.8888888888888888,\"#fdca26\"],[1.0,\"#f0f921\"]]}],\"contourcarpet\":[{\"type\":\"contourcarpet\",\"colorbar\":{\"outlinewidth\":0,\"ticks\":\"\"}}],\"contour\":[{\"type\":\"contour\",\"colorbar\":{\"outlinewidth\":0,\"ticks\":\"\"},\"colorscale\":[[0.0,\"#0d0887\"],[0.1111111111111111,\"#46039f\"],[0.2222222222222222,\"#7201a8\"],[0.3333333333333333,\"#9c179e\"],[0.4444444444444444,\"#bd3786\"],[0.5555555555555556,\"#d8576b\"],[0.6666666666666666,\"#ed7953\"],[0.7777777777777778,\"#fb9f3a\"],[0.8888888888888888,\"#fdca26\"],[1.0,\"#f0f921\"]]}],\"surface\":[{\"type\":\"surface\",\"colorbar\":{\"outlinewidth\":0,\"ticks\":\"\"},\"colorscale\":[[0.0,\"#0d0887\"],[0.1111111111111111,\"#46039f\"],[0.2222222222222222,\"#7201a8\"],[0.3333333333333333,\"#9c179e\"],[0.4444444444444444,\"#bd3786\"],[0.5555555555555556,\"#d8576b\"],[0.6666666666666666,\"#ed7953\"],[0.7777777777777778,\"#fb9f3a\"],[0.8888888888888888,\"#fdca26\"],[1.0,\"#f0f921\"]]}],\"mesh3d\":[{\"type\":\"mesh3d\",\"colorbar\":{\"outlinewidth\":0,\"ticks\":\"\"}}],\"scatter\":[{\"fillpattern\":{\"fillmode\":\"overlay\",\"size\":10,\"solidity\":0.2},\"type\":\"scatter\"}],\"parcoords\":[{\"type\":\"parcoords\",\"line\":{\"colorbar\":{\"outlinewidth\":0,\"ticks\":\"\"}}}],\"scatterpolargl\":[{\"type\":\"scatterpolargl\",\"marker\":{\"colorbar\":{\"outlinewidth\":0,\"ticks\":\"\"}}}],\"bar\":[{\"error_x\":{\"color\":\"#2a3f5f\"},\"error_y\":{\"color\":\"#2a3f5f\"},\"marker\":{\"line\":{\"color\":\"#E5ECF6\",\"width\":0.5},\"pattern\":{\"fillmode\":\"overlay\",\"size\":10,\"solidity\":0.2}},\"type\":\"bar\"}],\"scattergeo\":[{\"type\":\"scattergeo\",\"marker\":{\"colorbar\":{\"outlinewidth\":0,\"ticks\":\"\"}}}],\"scatterpolar\":[{\"type\":\"scatterpolar\",\"marker\":{\"colorbar\":{\"outlinewidth\":0,\"ticks\":\"\"}}}],\"histogram\":[{\"marker\":{\"pattern\":{\"fillmode\":\"overlay\",\"size\":10,\"solidity\":0.2}},\"type\":\"histogram\"}],\"scattergl\":[{\"type\":\"scattergl\",\"marker\":{\"colorbar\":{\"outlinewidth\":0,\"ticks\":\"\"}}}],\"scatter3d\":[{\"type\":\"scatter3d\",\"line\":{\"colorbar\":{\"outlinewidth\":0,\"ticks\":\"\"}},\"marker\":{\"colorbar\":{\"outlinewidth\":0,\"ticks\":\"\"}}}],\"scattermapbox\":[{\"type\":\"scattermapbox\",\"marker\":{\"colorbar\":{\"outlinewidth\":0,\"ticks\":\"\"}}}],\"scatterternary\":[{\"type\":\"scatterternary\",\"marker\":{\"colorbar\":{\"outlinewidth\":0,\"ticks\":\"\"}}}],\"scattercarpet\":[{\"type\":\"scattercarpet\",\"marker\":{\"colorbar\":{\"outlinewidth\":0,\"ticks\":\"\"}}}],\"carpet\":[{\"aaxis\":{\"endlinecolor\":\"#2a3f5f\",\"gridcolor\":\"white\",\"linecolor\":\"white\",\"minorgridcolor\":\"white\",\"startlinecolor\":\"#2a3f5f\"},\"baxis\":{\"endlinecolor\":\"#2a3f5f\",\"gridcolor\":\"white\",\"linecolor\":\"white\",\"minorgridcolor\":\"white\",\"startlinecolor\":\"#2a3f5f\"},\"type\":\"carpet\"}],\"table\":[{\"cells\":{\"fill\":{\"color\":\"#EBF0F8\"},\"line\":{\"color\":\"white\"}},\"header\":{\"fill\":{\"color\":\"#C8D4E3\"},\"line\":{\"color\":\"white\"}},\"type\":\"table\"}],\"barpolar\":[{\"marker\":{\"line\":{\"color\":\"#E5ECF6\",\"width\":0.5},\"pattern\":{\"fillmode\":\"overlay\",\"size\":10,\"solidity\":0.2}},\"type\":\"barpolar\"}],\"pie\":[{\"automargin\":true,\"type\":\"pie\"}]},\"layout\":{\"autotypenumbers\":\"strict\",\"colorway\":[\"#636efa\",\"#EF553B\",\"#00cc96\",\"#ab63fa\",\"#FFA15A\",\"#19d3f3\",\"#FF6692\",\"#B6E880\",\"#FF97FF\",\"#FECB52\"],\"font\":{\"color\":\"#2a3f5f\"},\"hovermode\":\"closest\",\"hoverlabel\":{\"align\":\"left\"},\"paper_bgcolor\":\"white\",\"plot_bgcolor\":\"#E5ECF6\",\"polar\":{\"bgcolor\":\"#E5ECF6\",\"angularaxis\":{\"gridcolor\":\"white\",\"linecolor\":\"white\",\"ticks\":\"\"},\"radialaxis\":{\"gridcolor\":\"white\",\"linecolor\":\"white\",\"ticks\":\"\"}},\"ternary\":{\"bgcolor\":\"#E5ECF6\",\"aaxis\":{\"gridcolor\":\"white\",\"linecolor\":\"white\",\"ticks\":\"\"},\"baxis\":{\"gridcolor\":\"white\",\"linecolor\":\"white\",\"ticks\":\"\"},\"caxis\":{\"gridcolor\":\"white\",\"linecolor\":\"white\",\"ticks\":\"\"}},\"coloraxis\":{\"colorbar\":{\"outlinewidth\":0,\"ticks\":\"\"}},\"colorscale\":{\"sequential\":[[0.0,\"#0d0887\"],[0.1111111111111111,\"#46039f\"],[0.2222222222222222,\"#7201a8\"],[0.3333333333333333,\"#9c179e\"],[0.4444444444444444,\"#bd3786\"],[0.5555555555555556,\"#d8576b\"],[0.6666666666666666,\"#ed7953\"],[0.7777777777777778,\"#fb9f3a\"],[0.8888888888888888,\"#fdca26\"],[1.0,\"#f0f921\"]],\"sequentialminus\":[[0.0,\"#0d0887\"],[0.1111111111111111,\"#46039f\"],[0.2222222222222222,\"#7201a8\"],[0.3333333333333333,\"#9c179e\"],[0.4444444444444444,\"#bd3786\"],[0.5555555555555556,\"#d8576b\"],[0.6666666666666666,\"#ed7953\"],[0.7777777777777778,\"#fb9f3a\"],[0.8888888888888888,\"#fdca26\"],[1.0,\"#f0f921\"]],\"diverging\":[[0,\"#8e0152\"],[0.1,\"#c51b7d\"],[0.2,\"#de77ae\"],[0.3,\"#f1b6da\"],[0.4,\"#fde0ef\"],[0.5,\"#f7f7f7\"],[0.6,\"#e6f5d0\"],[0.7,\"#b8e186\"],[0.8,\"#7fbc41\"],[0.9,\"#4d9221\"],[1,\"#276419\"]]},\"xaxis\":{\"gridcolor\":\"white\",\"linecolor\":\"white\",\"ticks\":\"\",\"title\":{\"standoff\":15},\"zerolinecolor\":\"white\",\"automargin\":true,\"zerolinewidth\":2},\"yaxis\":{\"gridcolor\":\"white\",\"linecolor\":\"white\",\"ticks\":\"\",\"title\":{\"standoff\":15},\"zerolinecolor\":\"white\",\"automargin\":true,\"zerolinewidth\":2},\"scene\":{\"xaxis\":{\"backgroundcolor\":\"#E5ECF6\",\"gridcolor\":\"white\",\"linecolor\":\"white\",\"showbackground\":true,\"ticks\":\"\",\"zerolinecolor\":\"white\",\"gridwidth\":2},\"yaxis\":{\"backgroundcolor\":\"#E5ECF6\",\"gridcolor\":\"white\",\"linecolor\":\"white\",\"showbackground\":true,\"ticks\":\"\",\"zerolinecolor\":\"white\",\"gridwidth\":2},\"zaxis\":{\"backgroundcolor\":\"#E5ECF6\",\"gridcolor\":\"white\",\"linecolor\":\"white\",\"showbackground\":true,\"ticks\":\"\",\"zerolinecolor\":\"white\",\"gridwidth\":2}},\"shapedefaults\":{\"line\":{\"color\":\"#2a3f5f\"}},\"annotationdefaults\":{\"arrowcolor\":\"#2a3f5f\",\"arrowhead\":0,\"arrowwidth\":1},\"geo\":{\"bgcolor\":\"white\",\"landcolor\":\"#E5ECF6\",\"subunitcolor\":\"white\",\"showland\":true,\"showlakes\":true,\"lakecolor\":\"white\"},\"title\":{\"x\":0.05},\"mapbox\":{\"style\":\"light\"}}},\"xaxis\":{\"anchor\":\"y\",\"domain\":[0.0,1.0],\"title\":{\"text\":\"Neuron Index\"}},\"yaxis\":{\"anchor\":\"x\",\"domain\":[0.0,1.0],\"title\":{\"text\":\"Attribution\"},\"exponentformat\":\"E\"},\"legend\":{\"tracegroupgap\":0},\"margin\":{\"t\":60},\"title\":{\"text\":\"Attributions of Layer 7 Neurons to the legal direction of B6 in game 0 (Posiiton 10)\"}},                        {\"responsive\": true}                    ).then(function(){\n",
       "                            \n",
       "var gd = document.getElementById('1e70c02a-d3ff-408e-a961-33d07da8dc76');\n",
       "var x = new MutationObserver(function (mutations, observer) {{\n",
       "        var display = window.getComputedStyle(gd).display;\n",
       "        if (!display || display === 'none') {{\n",
       "            console.log([gd, 'removed!']);\n",
       "            Plotly.purge(gd);\n",
       "            observer.disconnect();\n",
       "        }}\n",
       "}});\n",
       "\n",
       "// Listen for the removal of the full notebook cells\n",
       "var notebookContainer = gd.closest('#notebook-container');\n",
       "if (notebookContainer) {{\n",
       "    x.observe(notebookContainer, {childList: true});\n",
       "}}\n",
       "\n",
       "// Listen for the clearing of the current output cell\n",
       "var outputEl = gd.closest('.output');\n",
       "if (outputEl) {{\n",
       "    x.observe(outputEl, {childList: true});\n",
       "}}\n",
       "\n",
       "                        })                };                });            </script>        </div>"
      ]
     },
     "metadata": {},
     "output_type": "display_data"
    }
   ],
   "source": [
    "def direciton_attribution(game_idx, layer, direction):\n",
    "    attributions = {}\n",
    "    for module_name2 in [\"resid_pre\", \"attn_out\", \"mlp_out\", \"resid_post\"]:\n",
    "        if module_name2 == \"resid_pre\" and layer != 0:\n",
    "            resid : Float[Tensor, \"pos d_model\"] = cache_ablated[module_name2, 1][game_idx]\n",
    "        elif module_name2 == \"attn_out\":\n",
    "            resid : Float[Tensor, \"pos d_model\"] = cache[module_name2, layer][game_idx]\n",
    "        else:\n",
    "            resid : Float[Tensor, \"pos d_model\"] = cache_ablated[module_name2, layer][game_idx]\n",
    "        attribution = einops.einsum(resid, direction, \"pos d_model, d_model -> pos\")\n",
    "        attributions[f\"{module_name2} ({layer})\"] = attribution[:].unsqueeze(0)\n",
    "    for head in range(8):\n",
    "        # print(focus_cache.keys())\n",
    "        resid : Float[Tensor, \"pos d_model\"] = cache_ablated[\"z\", layer][game_idx, :, head, :]\n",
    "        resid = einops.einsum(resid, model.W_O[layer, head], \"pos d_head, d_head d_model -> pos d_model\").detach()\n",
    "        # print(resid.shape)\n",
    "        attribution = einops.einsum(resid, direction, \"pos d_model, d_model -> pos\")\n",
    "        attributions[f\"head_{head} ({layer})\"] = attribution[:].unsqueeze(0)\n",
    "    return attributions\n",
    "\n",
    "def plot_direction_attribution(game_idx, layer, direction, title_text, save=False):\n",
    "    attributions = direciton_attribution(game_idx, layer, direction)\n",
    "    fig = make_subplots(rows=len(attributions), cols=1, subplot_titles=list(attributions.keys()), shared_xaxes=True)\n",
    "    abs_max = max([t.abs(attributions[module_name][:, 1:]).max().item() for module_name in attributions])\n",
    "    for i, module_name in enumerate(attributions):\n",
    "        # print(attributions[module_name].shape)\n",
    "        fig.add_trace(go.Heatmap(z=attributions[module_name].cpu().numpy(), colorscale=\"RdBu\", zmin=-abs_max, zmax=abs_max), row=i+1, col=1)\n",
    "        fig.update_yaxes(showticklabels=False, row=i+1, col=1)\n",
    "    fig.update_layout(title_text=title_text, height = 1000, width = 1500)\n",
    "    if save:\n",
    "        save_plotly(fig, title_text)\n",
    "    fig.show()\n",
    "\n",
    "def plot_neuron_attribution(game_idx, layer, position, direction : Float[Tensor, \"d_model\"], title_text, cache=cache_ablated):\n",
    "    W_out : Float[Tensor, \"d_mlp d_model\"] = model.W_out[layer].detach()\n",
    "    activations = cache[\"post\", layer][game_idx]\n",
    "    attributions = activations[position] * einops.einsum(W_out, direction, \"d_mlp d_model, d_model -> d_mlp\")\n",
    "    print(attributions.shape)\n",
    "    # Make a plotly scatter plot. y axis is the attribution, x axis is the neuron index\n",
    "    fig = px.scatter(x=list(range(attributions.shape[0])), y=attributions.cpu().numpy().flatten(), labels={\"x\": \"Neuron Index\", \"y\": \"Attribution\"})\n",
    "    fig.update_layout(title_text=title_text)\n",
    "    fig.update_yaxes(exponentformat = 'E')\n",
    "    fig.show()\n",
    "\n",
    "tile_label = label\n",
    "direction_label = \"legal\"\n",
    "game = 0\n",
    "layer = 7\n",
    "tile = label_to_tuple(tile_label)\n",
    "direction = get_probe(layer, \"legal\", \"post\")[0, :, *tile, get_direction_int(direction_label)]\n",
    "direction = tile_legal_dir.detach()\n",
    "\n",
    "plot_direction_attribution(game, layer, direction, title_text=f\"Attributions of Layer {layer} to the {direction_label} direction of {tile_label} (We are looking at Position 12) Game {game}\", save=False)\n",
    "\n",
    "position = pos\n",
    "print(pos)\n",
    "\n",
    "# direction_label = \"legal\"\n",
    "# direction = get_probe(layer, \"legal\", \"post\")[0, :, *tile, get_direction_int(direction_label)]\n",
    "plot_neuron_attribution(game, layer, position, direction, title_text=f\"Attributions of Layer {layer} Neurons to the {direction_label} direction of {tile_label} in game 0 (Posiiton {position})\")"
   ]
  },
  {
   "cell_type": "code",
   "execution_count": 81,
   "metadata": {},
   "outputs": [],
   "source": [
    "# Wenn ich die obere linke hälfte ablate.\n",
    "#     Nur die Attn layer: 0.990\n",
    "#     MLP und Attn layer: 0.90\n",
    "\n",
    "# Also haben die späteren layer nicht unbedingt die capacity zum flippen\n",
    "\n",
    "# Top Accuracy Embedding: 30%\n",
    "# Top Accuracy Layer 0: 79%\n",
    "# Top Accuracy Layer 1: 87%"
   ]
  },
  {
   "cell_type": "markdown",
   "metadata": {},
   "source": [
    "## Old"
   ]
  },
  {
   "cell_type": "code",
   "execution_count": null,
   "metadata": {},
   "outputs": [],
   "source": [
    "'''def head_ablation_hook(\n",
    "    v: Float[Tensor, \"batch seq n_heads d_head\"],\n",
    "    hook: HookPoint,\n",
    "    head_index_to_ablate: int,\n",
    ") -> Float[Tensor, \"batch seq n_heads d_head\"]:\n",
    "    v[:, :, head_index_to_ablate, :] = 0.0\n",
    "    return v\n",
    "\n",
    "def cross_entropy_loss(logits, tokens):\n",
    "    '''\n",
    "    # Computes the mean cross entropy between logits (the model's prediction) and tokens (the true values).\n",
    "    '''\n",
    "    log_probs = F.log_softmax(logits, dim=-1)\n",
    "    pred_log_probs = t.gather(log_probs[:, :-1], -1, tokens[:, 1:, None])[..., 0]\n",
    "    return -pred_log_probs.mean()\n",
    "\n",
    "def get_ablation_scores(\n",
    "    model: HookedTransformer,\n",
    "    tokens: Int[Tensor, \"batch seq\"],\n",
    ") -> Float[Tensor, \"n_layers n_heads\"]:\n",
    "    \"\"\"\n",
    "    Returns a tensor of shape (n_layers, n_heads) containing the increase in cross entropy loss from ablating the output of each head.\n",
    "    \"\"\"\n",
    "    # Initialize an object to store the ablation scores\n",
    "    ablation_scores = t.zeros((model.cfg.n_layers, model.cfg.n_heads), device=model.cfg.device)\n",
    "\n",
    "    # Calculating loss without any ablation, to act as a baseline\n",
    "    model.reset_hooks()\n",
    "    seq_len = (tokens.shape[1] - 1) // 2\n",
    "    logits = model(tokens, return_type=\"logits\")\n",
    "    loss_no_ablation = cross_entropy_loss(logits[:, -seq_len:], tokens[:, -seq_len:])\n",
    "\n",
    "    for layer in tqdm(range(model.cfg.n_layers)):\n",
    "        for head in range(model.cfg.n_heads):\n",
    "            # Use functools.partial to create a temporary hook function with the head number fixed\n",
    "            temp_hook_fn = functools.partial(head_ablation_hook, head_index_to_ablate=head)\n",
    "            # Run the model with the ablation hook\n",
    "            ablated_logits = model.run_with_hooks(\n",
    "                tokens, fwd_hooks=[(utils.get_act_name(\"v\", layer), temp_hook_fn)]\n",
    "            )\n",
    "            # Calculate the loss difference\n",
    "            loss = cross_entropy_loss(ablated_logits[:, -seq_len:], tokens[:, -seq_len:])\n",
    "            # Store the result, subtracting the clean loss so that a value of zero means no change in loss\n",
    "            ablation_scores[layer, head] = loss - loss_no_ablation\n",
    "\n",
    "    return ablation_scores\n",
    "\n",
    "\n",
    "ablation_scores = get_ablation_scores(model, rep_tokens)\n",
    "tests.test_get_ablation_scores(ablation_scores, model, rep_tokens)'''"
   ]
  },
  {
   "cell_type": "code",
   "execution_count": null,
   "metadata": {},
   "outputs": [],
   "source": []
  }
 ],
 "metadata": {
  "kernelspec": {
   "display_name": "othello-env",
   "language": "python",
   "name": "python3"
  },
  "language_info": {
   "codemirror_mode": {
    "name": "ipython",
    "version": 3
   },
   "file_extension": ".py",
   "mimetype": "text/x-python",
   "name": "python",
   "nbconvert_exporter": "python",
   "pygments_lexer": "ipython3",
   "version": "3.11.9"
  }
 },
 "nbformat": 4,
 "nbformat_minor": 2
}
