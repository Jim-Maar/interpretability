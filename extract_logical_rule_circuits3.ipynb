{
 "cells": [
  {
   "cell_type": "code",
   "execution_count": 107,
   "metadata": {},
   "outputs": [],
   "source": [
    "from interpreting_neurons_utils import *\n",
    "import wandb\n",
    "import pickle"
   ]
  },
  {
   "cell_type": "markdown",
   "metadata": {},
   "source": [
    "- Look at python fuzzy logic libraries\n",
    "- Experiment 1\n",
    "    - Make the general setup, works for\n",
    "        - different kinds of membership functions of output neurons\n",
    "        - different kind of cost functions\n",
    "        - different kind of input (Input are the fuzzy variables)\n",
    "    - Define single fuzzy membership functions for all neurons\n",
    "        - Look at histogram and do shit\n",
    "        - Just do Negative, Positive\n",
    "    - Use softmax for fuzzy input variables\n",
    "    - use L1 sparcity constraint, extra for > 1\n",
    "- ⇒\n",
    "    - How good is MSE of neuron activations\n",
    "    - Histogram of the weights\n",
    "    - How realistic are the rules learned (are they the same that I would come up with)"
   ]
  },
  {
   "cell_type": "markdown",
   "metadata": {},
   "source": [
    "- I think I need to do all the Fuzzy Logic shit by hand ...\n",
    "- I think it makes sense to initialize all the fuzzy weights near 0.5"
   ]
  },
  {
   "cell_type": "markdown",
   "metadata": {},
   "source": [
    "- First: not general?!\n",
    "- Training Loop\n",
    "    - Residual Stream\n",
    "    - Proberesults (Softmax)\n",
    "    - Fuzzy Inference -> Neuron Activation Pred (This is the step where things are learned)\n",
    "    - Loss\n",
    "    - Update"
   ]
  },
  {
   "cell_type": "code",
   "execution_count": 108,
   "metadata": {},
   "outputs": [],
   "source": [
    "debug = False\n",
    "EPSILON = 1e-6"
   ]
  },
  {
   "cell_type": "code",
   "execution_count": 148,
   "metadata": {},
   "outputs": [],
   "source": [
    "@dataclass\n",
    "class FuzzyTrainingArgs():\n",
    "    # Which layer, and which positions in a game sequence to probe\n",
    "    def __init__(self, run_number : int, layer : int, single_neuron=None):\n",
    "        self.undersampling = True\n",
    "        self.undersampling_factor = 1\n",
    "        self.debug = False\n",
    "        self.run_number = run_number\n",
    "        self.layer: int = layer\n",
    "        self.pos_start: int = 0\n",
    "        self.pos_end: int = 59\n",
    "        self.length: int = self.pos_end - self.pos_start\n",
    "        self.max_epochs = 1\n",
    "        self.single_neuron = single_neuron\n",
    "        self.rules_count = 10\n",
    "        self.neurons_count = 2048 if single_neuron is None else 1\n",
    "        self.variables_count = 64 * (3 + 2 + 2)\n",
    "        self.manual = False\n",
    "        self.fuzzy_and = \"mul\"\n",
    "        self.spacity_factor = 0.1\n",
    "        self.only_0_1_factor = 0.1\n",
    "        self.initialization = \"ones\"\n",
    "\n",
    "        self.num_games_train: int = 250\n",
    "        self.batch_size: int = 2\n",
    "\n",
    "        self.lr: float = 1e-2\n",
    "        self.betas: Tuple[float, float] = (0.9, 0.99)\n",
    "        self.wd: float = 0.1\n",
    "\n",
    "        self.run_name: str = f\"Fuzzy_{self.run_number}\"\n",
    "        self.full_run_name: str = f\"Fuzzy_L{self.layer}_{self.run_number}\"\n",
    "\n",
    "        # wnadb\n",
    "        self.wandb_project: str = f\"Train Fuzzy Logic Gates Test\""
   ]
  },
  {
   "cell_type": "code",
   "execution_count": 110,
   "metadata": {},
   "outputs": [],
   "source": [
    "def get_centroid(trapezoid_metadata : List[Tuple[float, float, float, float]], trapezoid_heights : Float[Tensor, \"tropezoid batch neurons\"]):\n",
    "    # This is the Center of Sums Method. Theres also the center of Gravity Method\n",
    "    # TODO: get rid of the for loop, vectorize this\n",
    "    trapezoids, batches, neurons = trapezoid_heights.shape\n",
    "    member_ship_funcs = []\n",
    "    numerrator = t.zeros((batches, neurons)).to(device)\n",
    "    denomenator = t.zeros((batches, neurons)).to(device)\n",
    "    for i, (a, b, c, d) in enumerate(trapezoid_metadata):\n",
    "        trapezoid_height = trapezoid_heights[i]\n",
    "        trapezoid_height = t.max(trapezoid_height, t.tensor(EPSILON).to(device))\n",
    "        # b_new = a + trapezoid_height * (b-a)\n",
    "        # c_new = d - trapezoid_height * (d-c)\n",
    "        b_new = a + trapezoid_height * (b-a)\n",
    "        c_new = d - trapezoid_height * (d-c)\n",
    "        long_base = d - a\n",
    "        short_base = c_new - b_new\n",
    "        # individual_centroid = ((long_base + 2 * short_base) * trapezoid_height) / (3*(long_base + short_base)) + a\n",
    "        # individual_centroid = a + ((b_new - a)**2 + 3*(c_new - b_new)**2 + (d - c_new)**2) / (3 * (- a - b_new + c_new + d))\n",
    "        d_1 = b_new-a\n",
    "        d_2 = c_new - b_new\n",
    "        d_3 = d - c_new\n",
    "        individual_centroid = ((a * d_1 / 2) + (d_1**2 / 6) + (b_new * d_2) + (d_2**2 / 2) + (d * d_3 / 2) - (d_3**2 / 6)) / ((d_1 / 2) + d_2 + (d_3 / 2))\n",
    "        # individual_centroid = ((a + d_1/3) * (d_1 * trapezoid_height)/2 + (b_new + d_2/2) * (d_2 * trapezoid_height) + (d - d_3/3) * (d_3 * trapezoid_height)/2) / ((d_1 * trapezoid_height)/2 + d_2 * trapezoid_height + (d_3 * trapezoid_height)/2)\n",
    "        individual_area = (long_base + short_base) / 2 * trapezoid_height\n",
    "        numerrator += individual_centroid * individual_area\n",
    "        denomenator += individual_area\n",
    "    return numerrator / denomenator"
   ]
  },
  {
   "cell_type": "code",
   "execution_count": 111,
   "metadata": {},
   "outputs": [],
   "source": [
    "import collections, gc, resource, torch\n",
    "def debug_memory():\n",
    "    print('maxrss = {}'.format(\n",
    "        resource.getrusage(resource.RUSAGE_SELF).ru_maxrss))\n",
    "    tensors = collections.Counter(\n",
    "        (str(o.device), str(o.dtype), tuple(o.shape))\n",
    "        for o in gc.get_objects()\n",
    "        if torch.is_tensor(o)\n",
    "    )\n",
    "    for line in sorted(tensors.items()):\n",
    "        print('{}\\t{}'.format(*line))"
   ]
  },
  {
   "cell_type": "code",
   "execution_count": 112,
   "metadata": {},
   "outputs": [
    {
     "data": {
      "application/vnd.plotly.v1+json": {
       "config": {
        "plotlyServerURL": "https://plot.ly",
        "staticPlot": false
       },
       "data": [
        {
         "coloraxis": "coloraxis",
         "hovertemplate": "x: %{x}<br>y: %{y}<br>color: %{z}<extra></extra>",
         "name": "0",
         "type": "heatmap",
         "xaxis": "x9",
         "y": [
          "A",
          "B",
          "C",
          "D",
          "E",
          "F",
          "G",
          "H"
         ],
         "yaxis": "y9",
         "z": [
          [
           0,
           0,
           0,
           0,
           0,
           0,
           0,
           0
          ],
          [
           0,
           0,
           0,
           0,
           0,
           0,
           0,
           0
          ],
          [
           0,
           0,
           0,
           0,
           0,
           0,
           0,
           0
          ],
          [
           0,
           0,
           0,
           -1,
           1,
           0,
           0,
           0
          ],
          [
           0,
           0,
           0,
           1,
           1,
           1,
           0,
           0
          ],
          [
           0,
           0,
           0,
           0,
           0,
           0,
           0,
           0
          ],
          [
           0,
           0,
           0,
           0,
           0,
           0,
           0,
           0
          ],
          [
           0,
           0,
           0,
           0,
           0,
           0,
           0,
           0
          ]
         ]
        },
        {
         "coloraxis": "coloraxis",
         "hovertemplate": "x: %{x}<br>y: %{y}<br>color: %{z}<extra></extra>",
         "name": "1",
         "type": "heatmap",
         "xaxis": "x10",
         "y": [
          "A",
          "B",
          "C",
          "D",
          "E",
          "F",
          "G",
          "H"
         ],
         "yaxis": "y10",
         "z": [
          [
           0,
           0,
           0,
           0,
           0,
           0,
           0,
           0
          ],
          [
           0,
           0,
           0,
           0,
           0,
           0,
           0,
           0
          ],
          [
           0,
           0,
           0,
           0,
           0,
           0,
           0,
           0
          ],
          [
           0,
           0,
           0,
           -1,
           1,
           0,
           0,
           0
          ],
          [
           0,
           0,
           0,
           -1,
           1,
           1,
           0,
           0
          ],
          [
           0,
           0,
           0,
           -1,
           0,
           0,
           0,
           0
          ],
          [
           0,
           0,
           0,
           0,
           0,
           0,
           0,
           0
          ],
          [
           0,
           0,
           0,
           0,
           0,
           0,
           0,
           0
          ]
         ]
        },
        {
         "coloraxis": "coloraxis",
         "hovertemplate": "x: %{x}<br>y: %{y}<br>color: %{z}<extra></extra>",
         "name": "2",
         "type": "heatmap",
         "xaxis": "x11",
         "y": [
          "A",
          "B",
          "C",
          "D",
          "E",
          "F",
          "G",
          "H"
         ],
         "yaxis": "y11",
         "z": [
          [
           0,
           0,
           0,
           0,
           0,
           0,
           0,
           0
          ],
          [
           0,
           0,
           0,
           0,
           0,
           0,
           0,
           0
          ],
          [
           0,
           0,
           0,
           0,
           0,
           0,
           0,
           0
          ],
          [
           0,
           0,
           0,
           -1,
           1,
           0,
           0,
           0
          ],
          [
           0,
           0,
           1,
           1,
           1,
           1,
           0,
           0
          ],
          [
           0,
           0,
           0,
           -1,
           0,
           0,
           0,
           0
          ],
          [
           0,
           0,
           0,
           0,
           0,
           0,
           0,
           0
          ],
          [
           0,
           0,
           0,
           0,
           0,
           0,
           0,
           0
          ]
         ]
        },
        {
         "coloraxis": "coloraxis",
         "hovertemplate": "x: %{x}<br>y: %{y}<br>color: %{z}<extra></extra>",
         "name": "3",
         "type": "heatmap",
         "xaxis": "x12",
         "y": [
          "A",
          "B",
          "C",
          "D",
          "E",
          "F",
          "G",
          "H"
         ],
         "yaxis": "y12",
         "z": [
          [
           0,
           0,
           0,
           0,
           0,
           0,
           0,
           0
          ],
          [
           0,
           0,
           0,
           0,
           0,
           0,
           0,
           0
          ],
          [
           0,
           0,
           0,
           0,
           0,
           0,
           0,
           0
          ],
          [
           0,
           0,
           0,
           -1,
           1,
           0,
           0,
           0
          ],
          [
           0,
           0,
           -1,
           1,
           1,
           1,
           0,
           0
          ],
          [
           0,
           -1,
           0,
           -1,
           0,
           0,
           0,
           0
          ],
          [
           0,
           0,
           0,
           0,
           0,
           0,
           0,
           0
          ],
          [
           0,
           0,
           0,
           0,
           0,
           0,
           0,
           0
          ]
         ]
        },
        {
         "coloraxis": "coloraxis",
         "hovertemplate": "x: %{x}<br>y: %{y}<br>color: %{z}<extra></extra>",
         "name": "4",
         "type": "heatmap",
         "xaxis": "x13",
         "y": [
          "A",
          "B",
          "C",
          "D",
          "E",
          "F",
          "G",
          "H"
         ],
         "yaxis": "y13",
         "z": [
          [
           0,
           0,
           0,
           0,
           0,
           0,
           0,
           0
          ],
          [
           0,
           0,
           0,
           0,
           0,
           0,
           0,
           0
          ],
          [
           0,
           0,
           0,
           0,
           0,
           0,
           0,
           0
          ],
          [
           0,
           0,
           1,
           1,
           1,
           0,
           0,
           0
          ],
          [
           0,
           0,
           -1,
           1,
           1,
           1,
           0,
           0
          ],
          [
           0,
           -1,
           0,
           -1,
           0,
           0,
           0,
           0
          ],
          [
           0,
           0,
           0,
           0,
           0,
           0,
           0,
           0
          ],
          [
           0,
           0,
           0,
           0,
           0,
           0,
           0,
           0
          ]
         ]
        },
        {
         "coloraxis": "coloraxis",
         "hovertemplate": "x: %{x}<br>y: %{y}<br>color: %{z}<extra></extra>",
         "name": "5",
         "type": "heatmap",
         "xaxis": "x14",
         "y": [
          "A",
          "B",
          "C",
          "D",
          "E",
          "F",
          "G",
          "H"
         ],
         "yaxis": "y14",
         "z": [
          [
           0,
           0,
           0,
           0,
           0,
           0,
           0,
           0
          ],
          [
           0,
           0,
           0,
           0,
           0,
           0,
           0,
           0
          ],
          [
           0,
           0,
           -1,
           0,
           0,
           0,
           0,
           0
          ],
          [
           0,
           0,
           -1,
           1,
           1,
           0,
           0,
           0
          ],
          [
           0,
           0,
           -1,
           1,
           1,
           1,
           0,
           0
          ],
          [
           0,
           -1,
           0,
           -1,
           0,
           0,
           0,
           0
          ],
          [
           0,
           0,
           0,
           0,
           0,
           0,
           0,
           0
          ],
          [
           0,
           0,
           0,
           0,
           0,
           0,
           0,
           0
          ]
         ]
        },
        {
         "coloraxis": "coloraxis",
         "hovertemplate": "x: %{x}<br>y: %{y}<br>color: %{z}<extra></extra>",
         "name": "6",
         "type": "heatmap",
         "xaxis": "x15",
         "y": [
          "A",
          "B",
          "C",
          "D",
          "E",
          "F",
          "G",
          "H"
         ],
         "yaxis": "y15",
         "z": [
          [
           0,
           0,
           0,
           0,
           0,
           0,
           0,
           0
          ],
          [
           0,
           1,
           0,
           0,
           0,
           0,
           0,
           0
          ],
          [
           0,
           0,
           1,
           0,
           0,
           0,
           0,
           0
          ],
          [
           0,
           0,
           -1,
           1,
           1,
           0,
           0,
           0
          ],
          [
           0,
           0,
           -1,
           1,
           1,
           1,
           0,
           0
          ],
          [
           0,
           -1,
           0,
           -1,
           0,
           0,
           0,
           0
          ],
          [
           0,
           0,
           0,
           0,
           0,
           0,
           0,
           0
          ],
          [
           0,
           0,
           0,
           0,
           0,
           0,
           0,
           0
          ]
         ]
        },
        {
         "coloraxis": "coloraxis",
         "hovertemplate": "x: %{x}<br>y: %{y}<br>color: %{z}<extra></extra>",
         "name": "7",
         "type": "heatmap",
         "xaxis": "x16",
         "y": [
          "A",
          "B",
          "C",
          "D",
          "E",
          "F",
          "G",
          "H"
         ],
         "yaxis": "y16",
         "z": [
          [
           0,
           0,
           0,
           0,
           0,
           0,
           0,
           0
          ],
          [
           0,
           1,
           0,
           0,
           0,
           0,
           0,
           0
          ],
          [
           0,
           0,
           1,
           0,
           0,
           0,
           0,
           0
          ],
          [
           0,
           0,
           -1,
           1,
           1,
           0,
           0,
           0
          ],
          [
           0,
           0,
           -1,
           -1,
           1,
           1,
           0,
           0
          ],
          [
           0,
           -1,
           0,
           -1,
           -1,
           0,
           0,
           0
          ],
          [
           0,
           0,
           0,
           0,
           0,
           0,
           0,
           0
          ],
          [
           0,
           0,
           0,
           0,
           0,
           0,
           0,
           0
          ]
         ]
        },
        {
         "coloraxis": "coloraxis",
         "hovertemplate": "x: %{x}<br>y: %{y}<br>color: %{z}<extra></extra>",
         "name": "8",
         "type": "heatmap",
         "xaxis": "x",
         "y": [
          "A",
          "B",
          "C",
          "D",
          "E",
          "F",
          "G",
          "H"
         ],
         "yaxis": "y",
         "z": [
          [
           0,
           0,
           0,
           0,
           0,
           0,
           0,
           0
          ],
          [
           0,
           1,
           0,
           0,
           0,
           0,
           0,
           0
          ],
          [
           0,
           0,
           1,
           0,
           0,
           0,
           0,
           0
          ],
          [
           0,
           0,
           -1,
           1,
           1,
           0,
           0,
           0
          ],
          [
           0,
           0,
           -1,
           -1,
           1,
           1,
           0,
           0
          ],
          [
           0,
           -1,
           0,
           -1,
           1,
           0,
           0,
           0
          ],
          [
           0,
           0,
           0,
           0,
           1,
           0,
           0,
           0
          ],
          [
           0,
           0,
           0,
           0,
           0,
           0,
           0,
           0
          ]
         ]
        },
        {
         "coloraxis": "coloraxis",
         "hovertemplate": "x: %{x}<br>y: %{y}<br>color: %{z}<extra></extra>",
         "name": "9",
         "type": "heatmap",
         "xaxis": "x2",
         "y": [
          "A",
          "B",
          "C",
          "D",
          "E",
          "F",
          "G",
          "H"
         ],
         "yaxis": "y2",
         "z": [
          [
           0,
           0,
           0,
           0,
           0,
           0,
           0,
           0
          ],
          [
           0,
           1,
           0,
           0,
           0,
           0,
           0,
           0
          ],
          [
           0,
           0,
           1,
           0,
           0,
           0,
           0,
           0
          ],
          [
           0,
           0,
           -1,
           1,
           1,
           0,
           0,
           0
          ],
          [
           0,
           0,
           -1,
           -1,
           -1,
           -1,
           -1,
           0
          ],
          [
           0,
           -1,
           0,
           -1,
           1,
           0,
           0,
           0
          ],
          [
           0,
           0,
           0,
           0,
           1,
           0,
           0,
           0
          ],
          [
           0,
           0,
           0,
           0,
           0,
           0,
           0,
           0
          ]
         ]
        },
        {
         "coloraxis": "coloraxis",
         "hovertemplate": "x: %{x}<br>y: %{y}<br>color: %{z}<extra></extra>",
         "name": "10",
         "type": "heatmap",
         "xaxis": "x3",
         "y": [
          "A",
          "B",
          "C",
          "D",
          "E",
          "F",
          "G",
          "H"
         ],
         "yaxis": "y3",
         "z": [
          [
           0,
           0,
           0,
           0,
           0,
           0,
           0,
           0
          ],
          [
           0,
           1,
           0,
           0,
           0,
           0,
           0,
           0
          ],
          [
           0,
           0,
           1,
           0,
           0,
           0,
           0,
           0
          ],
          [
           0,
           0,
           1,
           1,
           1,
           0,
           0,
           0
          ],
          [
           0,
           0,
           1,
           1,
           -1,
           -1,
           -1,
           0
          ],
          [
           0,
           -1,
           1,
           1,
           1,
           0,
           0,
           0
          ],
          [
           0,
           0,
           0,
           0,
           1,
           0,
           0,
           0
          ],
          [
           0,
           0,
           0,
           0,
           0,
           0,
           0,
           0
          ]
         ]
        },
        {
         "coloraxis": "coloraxis",
         "hovertemplate": "x: %{x}<br>y: %{y}<br>color: %{z}<extra></extra>",
         "name": "11",
         "type": "heatmap",
         "xaxis": "x4",
         "y": [
          "A",
          "B",
          "C",
          "D",
          "E",
          "F",
          "G",
          "H"
         ],
         "yaxis": "y4",
         "z": [
          [
           0,
           0,
           0,
           0,
           0,
           0,
           0,
           0
          ],
          [
           0,
           1,
           0,
           0,
           0,
           0,
           0,
           0
          ],
          [
           0,
           0,
           1,
           0,
           -1,
           0,
           0,
           0
          ],
          [
           0,
           0,
           1,
           -1,
           -1,
           0,
           0,
           0
          ],
          [
           0,
           0,
           -1,
           1,
           -1,
           -1,
           -1,
           0
          ],
          [
           0,
           -1,
           1,
           1,
           1,
           0,
           0,
           0
          ],
          [
           0,
           0,
           0,
           0,
           1,
           0,
           0,
           0
          ],
          [
           0,
           0,
           0,
           0,
           0,
           0,
           0,
           0
          ]
         ]
        },
        {
         "coloraxis": "coloraxis",
         "hovertemplate": "x: %{x}<br>y: %{y}<br>color: %{z}<extra></extra>",
         "name": "12",
         "type": "heatmap",
         "xaxis": "x5",
         "y": [
          "A",
          "B",
          "C",
          "D",
          "E",
          "F",
          "G",
          "H"
         ],
         "yaxis": "y5",
         "z": [
          [
           0,
           0,
           0,
           0,
           0,
           0,
           0,
           0
          ],
          [
           0,
           1,
           0,
           0,
           0,
           0,
           0,
           0
          ],
          [
           0,
           0,
           1,
           0,
           -1,
           0,
           0,
           0
          ],
          [
           0,
           1,
           1,
           -1,
           -1,
           0,
           0,
           0
          ],
          [
           0,
           0,
           1,
           1,
           -1,
           -1,
           -1,
           0
          ],
          [
           0,
           -1,
           1,
           1,
           1,
           0,
           0,
           0
          ],
          [
           0,
           0,
           0,
           0,
           1,
           0,
           0,
           0
          ],
          [
           0,
           0,
           0,
           0,
           0,
           0,
           0,
           0
          ]
         ]
        },
        {
         "coloraxis": "coloraxis",
         "hovertemplate": "x: %{x}<br>y: %{y}<br>color: %{z}<extra></extra>",
         "name": "13",
         "type": "heatmap",
         "xaxis": "x6",
         "y": [
          "A",
          "B",
          "C",
          "D",
          "E",
          "F",
          "G",
          "H"
         ],
         "yaxis": "y6",
         "z": [
          [
           0,
           0,
           0,
           0,
           0,
           0,
           0,
           0
          ],
          [
           0,
           1,
           0,
           0,
           0,
           0,
           0,
           0
          ],
          [
           0,
           0,
           1,
           0,
           -1,
           0,
           0,
           0
          ],
          [
           -1,
           -1,
           -1,
           -1,
           -1,
           0,
           0,
           0
          ],
          [
           0,
           0,
           1,
           1,
           -1,
           -1,
           -1,
           0
          ],
          [
           0,
           -1,
           1,
           1,
           1,
           0,
           0,
           0
          ],
          [
           0,
           0,
           0,
           0,
           1,
           0,
           0,
           0
          ],
          [
           0,
           0,
           0,
           0,
           0,
           0,
           0,
           0
          ]
         ]
        },
        {
         "coloraxis": "coloraxis",
         "hovertemplate": "x: %{x}<br>y: %{y}<br>color: %{z}<extra></extra>",
         "name": "14",
         "type": "heatmap",
         "xaxis": "x7",
         "y": [
          "A",
          "B",
          "C",
          "D",
          "E",
          "F",
          "G",
          "H"
         ],
         "yaxis": "y7",
         "z": [
          [
           0,
           0,
           0,
           0,
           0,
           0,
           0,
           0
          ],
          [
           0,
           1,
           0,
           0,
           1,
           0,
           0,
           0
          ],
          [
           0,
           0,
           1,
           0,
           1,
           0,
           0,
           0
          ],
          [
           -1,
           -1,
           -1,
           -1,
           1,
           0,
           0,
           0
          ],
          [
           0,
           0,
           1,
           1,
           1,
           -1,
           -1,
           0
          ],
          [
           0,
           -1,
           1,
           1,
           1,
           0,
           0,
           0
          ],
          [
           0,
           0,
           0,
           0,
           1,
           0,
           0,
           0
          ],
          [
           0,
           0,
           0,
           0,
           0,
           0,
           0,
           0
          ]
         ]
        },
        {
         "coloraxis": "coloraxis",
         "hovertemplate": "x: %{x}<br>y: %{y}<br>color: %{z}<extra></extra>",
         "name": "15",
         "type": "heatmap",
         "xaxis": "x8",
         "y": [
          "A",
          "B",
          "C",
          "D",
          "E",
          "F",
          "G",
          "H"
         ],
         "yaxis": "y8",
         "z": [
          [
           0,
           0,
           0,
           0,
           0,
           0,
           0,
           0
          ],
          [
           0,
           1,
           0,
           -1,
           1,
           0,
           0,
           0
          ],
          [
           0,
           0,
           -1,
           0,
           1,
           0,
           0,
           0
          ],
          [
           -1,
           -1,
           -1,
           -1,
           1,
           0,
           0,
           0
          ],
          [
           0,
           0,
           1,
           1,
           1,
           -1,
           -1,
           0
          ],
          [
           0,
           -1,
           1,
           1,
           1,
           0,
           0,
           0
          ],
          [
           0,
           0,
           0,
           0,
           1,
           0,
           0,
           0
          ],
          [
           0,
           0,
           0,
           0,
           0,
           0,
           0,
           0
          ]
         ]
        }
       ],
       "layout": {
        "annotations": [
         {
          "font": {},
          "showarrow": false,
          "text": "Move 8",
          "x": 0.05375,
          "xanchor": "center",
          "xref": "paper",
          "y": 0.46499999999999997,
          "yanchor": "bottom",
          "yref": "paper"
         },
         {
          "font": {},
          "showarrow": false,
          "text": "Move 9",
          "x": 0.18125,
          "xanchor": "center",
          "xref": "paper",
          "y": 0.46499999999999997,
          "yanchor": "bottom",
          "yref": "paper"
         },
         {
          "font": {},
          "showarrow": false,
          "text": "Move 10",
          "x": 0.30874999999999997,
          "xanchor": "center",
          "xref": "paper",
          "y": 0.46499999999999997,
          "yanchor": "bottom",
          "yref": "paper"
         },
         {
          "font": {},
          "showarrow": false,
          "text": "Move 11",
          "x": 0.43625,
          "xanchor": "center",
          "xref": "paper",
          "y": 0.46499999999999997,
          "yanchor": "bottom",
          "yref": "paper"
         },
         {
          "font": {},
          "showarrow": false,
          "text": "Move 12",
          "x": 0.56375,
          "xanchor": "center",
          "xref": "paper",
          "y": 0.46499999999999997,
          "yanchor": "bottom",
          "yref": "paper"
         },
         {
          "font": {},
          "showarrow": false,
          "text": "Move 13",
          "x": 0.6912499999999999,
          "xanchor": "center",
          "xref": "paper",
          "y": 0.46499999999999997,
          "yanchor": "bottom",
          "yref": "paper"
         },
         {
          "font": {},
          "showarrow": false,
          "text": "Move 14",
          "x": 0.8187500000000001,
          "xanchor": "center",
          "xref": "paper",
          "y": 0.46499999999999997,
          "yanchor": "bottom",
          "yref": "paper"
         },
         {
          "font": {},
          "showarrow": false,
          "text": "Move 15",
          "x": 0.94625,
          "xanchor": "center",
          "xref": "paper",
          "y": 0.46499999999999997,
          "yanchor": "bottom",
          "yref": "paper"
         },
         {
          "font": {},
          "showarrow": false,
          "text": "Move 0",
          "x": 0.05375,
          "xanchor": "center",
          "xref": "paper",
          "y": 0.9999999999999999,
          "yanchor": "bottom",
          "yref": "paper"
         },
         {
          "font": {},
          "showarrow": false,
          "text": "Move 1",
          "x": 0.18125,
          "xanchor": "center",
          "xref": "paper",
          "y": 0.9999999999999999,
          "yanchor": "bottom",
          "yref": "paper"
         },
         {
          "font": {},
          "showarrow": false,
          "text": "Move 2",
          "x": 0.30874999999999997,
          "xanchor": "center",
          "xref": "paper",
          "y": 0.9999999999999999,
          "yanchor": "bottom",
          "yref": "paper"
         },
         {
          "font": {},
          "showarrow": false,
          "text": "Move 3",
          "x": 0.43625,
          "xanchor": "center",
          "xref": "paper",
          "y": 0.9999999999999999,
          "yanchor": "bottom",
          "yref": "paper"
         },
         {
          "font": {},
          "showarrow": false,
          "text": "Move 4",
          "x": 0.56375,
          "xanchor": "center",
          "xref": "paper",
          "y": 0.9999999999999999,
          "yanchor": "bottom",
          "yref": "paper"
         },
         {
          "font": {},
          "showarrow": false,
          "text": "Move 5",
          "x": 0.6912499999999999,
          "xanchor": "center",
          "xref": "paper",
          "y": 0.9999999999999999,
          "yanchor": "bottom",
          "yref": "paper"
         },
         {
          "font": {},
          "showarrow": false,
          "text": "Move 6",
          "x": 0.8187500000000001,
          "xanchor": "center",
          "xref": "paper",
          "y": 0.9999999999999999,
          "yanchor": "bottom",
          "yref": "paper"
         },
         {
          "font": {},
          "showarrow": false,
          "text": "Move 7",
          "x": 0.94625,
          "xanchor": "center",
          "xref": "paper",
          "y": 0.9999999999999999,
          "yanchor": "bottom",
          "yref": "paper"
         }
        ],
        "coloraxis": {
         "cmid": 0,
         "colorscale": [
          [
           0,
           "rgb(255,255,255)"
          ],
          [
           0.125,
           "rgb(240,240,240)"
          ],
          [
           0.25,
           "rgb(217,217,217)"
          ],
          [
           0.375,
           "rgb(189,189,189)"
          ],
          [
           0.5,
           "rgb(150,150,150)"
          ],
          [
           0.625,
           "rgb(115,115,115)"
          ],
          [
           0.75,
           "rgb(82,82,82)"
          ],
          [
           0.875,
           "rgb(37,37,37)"
          ],
          [
           1,
           "rgb(0,0,0)"
          ]
         ]
        },
        "template": {
         "data": {
          "bar": [
           {
            "error_x": {
             "color": "#2a3f5f"
            },
            "error_y": {
             "color": "#2a3f5f"
            },
            "marker": {
             "line": {
              "color": "#E5ECF6",
              "width": 0.5
             },
             "pattern": {
              "fillmode": "overlay",
              "size": 10,
              "solidity": 0.2
             }
            },
            "type": "bar"
           }
          ],
          "barpolar": [
           {
            "marker": {
             "line": {
              "color": "#E5ECF6",
              "width": 0.5
             },
             "pattern": {
              "fillmode": "overlay",
              "size": 10,
              "solidity": 0.2
             }
            },
            "type": "barpolar"
           }
          ],
          "carpet": [
           {
            "aaxis": {
             "endlinecolor": "#2a3f5f",
             "gridcolor": "white",
             "linecolor": "white",
             "minorgridcolor": "white",
             "startlinecolor": "#2a3f5f"
            },
            "baxis": {
             "endlinecolor": "#2a3f5f",
             "gridcolor": "white",
             "linecolor": "white",
             "minorgridcolor": "white",
             "startlinecolor": "#2a3f5f"
            },
            "type": "carpet"
           }
          ],
          "choropleth": [
           {
            "colorbar": {
             "outlinewidth": 0,
             "ticks": ""
            },
            "type": "choropleth"
           }
          ],
          "contour": [
           {
            "colorbar": {
             "outlinewidth": 0,
             "ticks": ""
            },
            "colorscale": [
             [
              0,
              "#0d0887"
             ],
             [
              0.1111111111111111,
              "#46039f"
             ],
             [
              0.2222222222222222,
              "#7201a8"
             ],
             [
              0.3333333333333333,
              "#9c179e"
             ],
             [
              0.4444444444444444,
              "#bd3786"
             ],
             [
              0.5555555555555556,
              "#d8576b"
             ],
             [
              0.6666666666666666,
              "#ed7953"
             ],
             [
              0.7777777777777778,
              "#fb9f3a"
             ],
             [
              0.8888888888888888,
              "#fdca26"
             ],
             [
              1,
              "#f0f921"
             ]
            ],
            "type": "contour"
           }
          ],
          "contourcarpet": [
           {
            "colorbar": {
             "outlinewidth": 0,
             "ticks": ""
            },
            "type": "contourcarpet"
           }
          ],
          "heatmap": [
           {
            "colorbar": {
             "outlinewidth": 0,
             "ticks": ""
            },
            "colorscale": [
             [
              0,
              "#0d0887"
             ],
             [
              0.1111111111111111,
              "#46039f"
             ],
             [
              0.2222222222222222,
              "#7201a8"
             ],
             [
              0.3333333333333333,
              "#9c179e"
             ],
             [
              0.4444444444444444,
              "#bd3786"
             ],
             [
              0.5555555555555556,
              "#d8576b"
             ],
             [
              0.6666666666666666,
              "#ed7953"
             ],
             [
              0.7777777777777778,
              "#fb9f3a"
             ],
             [
              0.8888888888888888,
              "#fdca26"
             ],
             [
              1,
              "#f0f921"
             ]
            ],
            "type": "heatmap"
           }
          ],
          "heatmapgl": [
           {
            "colorbar": {
             "outlinewidth": 0,
             "ticks": ""
            },
            "colorscale": [
             [
              0,
              "#0d0887"
             ],
             [
              0.1111111111111111,
              "#46039f"
             ],
             [
              0.2222222222222222,
              "#7201a8"
             ],
             [
              0.3333333333333333,
              "#9c179e"
             ],
             [
              0.4444444444444444,
              "#bd3786"
             ],
             [
              0.5555555555555556,
              "#d8576b"
             ],
             [
              0.6666666666666666,
              "#ed7953"
             ],
             [
              0.7777777777777778,
              "#fb9f3a"
             ],
             [
              0.8888888888888888,
              "#fdca26"
             ],
             [
              1,
              "#f0f921"
             ]
            ],
            "type": "heatmapgl"
           }
          ],
          "histogram": [
           {
            "marker": {
             "pattern": {
              "fillmode": "overlay",
              "size": 10,
              "solidity": 0.2
             }
            },
            "type": "histogram"
           }
          ],
          "histogram2d": [
           {
            "colorbar": {
             "outlinewidth": 0,
             "ticks": ""
            },
            "colorscale": [
             [
              0,
              "#0d0887"
             ],
             [
              0.1111111111111111,
              "#46039f"
             ],
             [
              0.2222222222222222,
              "#7201a8"
             ],
             [
              0.3333333333333333,
              "#9c179e"
             ],
             [
              0.4444444444444444,
              "#bd3786"
             ],
             [
              0.5555555555555556,
              "#d8576b"
             ],
             [
              0.6666666666666666,
              "#ed7953"
             ],
             [
              0.7777777777777778,
              "#fb9f3a"
             ],
             [
              0.8888888888888888,
              "#fdca26"
             ],
             [
              1,
              "#f0f921"
             ]
            ],
            "type": "histogram2d"
           }
          ],
          "histogram2dcontour": [
           {
            "colorbar": {
             "outlinewidth": 0,
             "ticks": ""
            },
            "colorscale": [
             [
              0,
              "#0d0887"
             ],
             [
              0.1111111111111111,
              "#46039f"
             ],
             [
              0.2222222222222222,
              "#7201a8"
             ],
             [
              0.3333333333333333,
              "#9c179e"
             ],
             [
              0.4444444444444444,
              "#bd3786"
             ],
             [
              0.5555555555555556,
              "#d8576b"
             ],
             [
              0.6666666666666666,
              "#ed7953"
             ],
             [
              0.7777777777777778,
              "#fb9f3a"
             ],
             [
              0.8888888888888888,
              "#fdca26"
             ],
             [
              1,
              "#f0f921"
             ]
            ],
            "type": "histogram2dcontour"
           }
          ],
          "mesh3d": [
           {
            "colorbar": {
             "outlinewidth": 0,
             "ticks": ""
            },
            "type": "mesh3d"
           }
          ],
          "parcoords": [
           {
            "line": {
             "colorbar": {
              "outlinewidth": 0,
              "ticks": ""
             }
            },
            "type": "parcoords"
           }
          ],
          "pie": [
           {
            "automargin": true,
            "type": "pie"
           }
          ],
          "scatter": [
           {
            "fillpattern": {
             "fillmode": "overlay",
             "size": 10,
             "solidity": 0.2
            },
            "type": "scatter"
           }
          ],
          "scatter3d": [
           {
            "line": {
             "colorbar": {
              "outlinewidth": 0,
              "ticks": ""
             }
            },
            "marker": {
             "colorbar": {
              "outlinewidth": 0,
              "ticks": ""
             }
            },
            "type": "scatter3d"
           }
          ],
          "scattercarpet": [
           {
            "marker": {
             "colorbar": {
              "outlinewidth": 0,
              "ticks": ""
             }
            },
            "type": "scattercarpet"
           }
          ],
          "scattergeo": [
           {
            "marker": {
             "colorbar": {
              "outlinewidth": 0,
              "ticks": ""
             }
            },
            "type": "scattergeo"
           }
          ],
          "scattergl": [
           {
            "marker": {
             "colorbar": {
              "outlinewidth": 0,
              "ticks": ""
             }
            },
            "type": "scattergl"
           }
          ],
          "scattermapbox": [
           {
            "marker": {
             "colorbar": {
              "outlinewidth": 0,
              "ticks": ""
             }
            },
            "type": "scattermapbox"
           }
          ],
          "scatterpolar": [
           {
            "marker": {
             "colorbar": {
              "outlinewidth": 0,
              "ticks": ""
             }
            },
            "type": "scatterpolar"
           }
          ],
          "scatterpolargl": [
           {
            "marker": {
             "colorbar": {
              "outlinewidth": 0,
              "ticks": ""
             }
            },
            "type": "scatterpolargl"
           }
          ],
          "scatterternary": [
           {
            "marker": {
             "colorbar": {
              "outlinewidth": 0,
              "ticks": ""
             }
            },
            "type": "scatterternary"
           }
          ],
          "surface": [
           {
            "colorbar": {
             "outlinewidth": 0,
             "ticks": ""
            },
            "colorscale": [
             [
              0,
              "#0d0887"
             ],
             [
              0.1111111111111111,
              "#46039f"
             ],
             [
              0.2222222222222222,
              "#7201a8"
             ],
             [
              0.3333333333333333,
              "#9c179e"
             ],
             [
              0.4444444444444444,
              "#bd3786"
             ],
             [
              0.5555555555555556,
              "#d8576b"
             ],
             [
              0.6666666666666666,
              "#ed7953"
             ],
             [
              0.7777777777777778,
              "#fb9f3a"
             ],
             [
              0.8888888888888888,
              "#fdca26"
             ],
             [
              1,
              "#f0f921"
             ]
            ],
            "type": "surface"
           }
          ],
          "table": [
           {
            "cells": {
             "fill": {
              "color": "#EBF0F8"
             },
             "line": {
              "color": "white"
             }
            },
            "header": {
             "fill": {
              "color": "#C8D4E3"
             },
             "line": {
              "color": "white"
             }
            },
            "type": "table"
           }
          ]
         },
         "layout": {
          "annotationdefaults": {
           "arrowcolor": "#2a3f5f",
           "arrowhead": 0,
           "arrowwidth": 1
          },
          "autotypenumbers": "strict",
          "coloraxis": {
           "colorbar": {
            "outlinewidth": 0,
            "ticks": ""
           }
          },
          "colorscale": {
           "diverging": [
            [
             0,
             "#8e0152"
            ],
            [
             0.1,
             "#c51b7d"
            ],
            [
             0.2,
             "#de77ae"
            ],
            [
             0.3,
             "#f1b6da"
            ],
            [
             0.4,
             "#fde0ef"
            ],
            [
             0.5,
             "#f7f7f7"
            ],
            [
             0.6,
             "#e6f5d0"
            ],
            [
             0.7,
             "#b8e186"
            ],
            [
             0.8,
             "#7fbc41"
            ],
            [
             0.9,
             "#4d9221"
            ],
            [
             1,
             "#276419"
            ]
           ],
           "sequential": [
            [
             0,
             "#0d0887"
            ],
            [
             0.1111111111111111,
             "#46039f"
            ],
            [
             0.2222222222222222,
             "#7201a8"
            ],
            [
             0.3333333333333333,
             "#9c179e"
            ],
            [
             0.4444444444444444,
             "#bd3786"
            ],
            [
             0.5555555555555556,
             "#d8576b"
            ],
            [
             0.6666666666666666,
             "#ed7953"
            ],
            [
             0.7777777777777778,
             "#fb9f3a"
            ],
            [
             0.8888888888888888,
             "#fdca26"
            ],
            [
             1,
             "#f0f921"
            ]
           ],
           "sequentialminus": [
            [
             0,
             "#0d0887"
            ],
            [
             0.1111111111111111,
             "#46039f"
            ],
            [
             0.2222222222222222,
             "#7201a8"
            ],
            [
             0.3333333333333333,
             "#9c179e"
            ],
            [
             0.4444444444444444,
             "#bd3786"
            ],
            [
             0.5555555555555556,
             "#d8576b"
            ],
            [
             0.6666666666666666,
             "#ed7953"
            ],
            [
             0.7777777777777778,
             "#fb9f3a"
            ],
            [
             0.8888888888888888,
             "#fdca26"
            ],
            [
             1,
             "#f0f921"
            ]
           ]
          },
          "colorway": [
           "#636efa",
           "#EF553B",
           "#00cc96",
           "#ab63fa",
           "#FFA15A",
           "#19d3f3",
           "#FF6692",
           "#B6E880",
           "#FF97FF",
           "#FECB52"
          ],
          "font": {
           "color": "#2a3f5f"
          },
          "geo": {
           "bgcolor": "white",
           "lakecolor": "white",
           "landcolor": "#E5ECF6",
           "showlakes": true,
           "showland": true,
           "subunitcolor": "white"
          },
          "hoverlabel": {
           "align": "left"
          },
          "hovermode": "closest",
          "mapbox": {
           "style": "light"
          },
          "paper_bgcolor": "white",
          "plot_bgcolor": "#E5ECF6",
          "polar": {
           "angularaxis": {
            "gridcolor": "white",
            "linecolor": "white",
            "ticks": ""
           },
           "bgcolor": "#E5ECF6",
           "radialaxis": {
            "gridcolor": "white",
            "linecolor": "white",
            "ticks": ""
           }
          },
          "scene": {
           "xaxis": {
            "backgroundcolor": "#E5ECF6",
            "gridcolor": "white",
            "gridwidth": 2,
            "linecolor": "white",
            "showbackground": true,
            "ticks": "",
            "zerolinecolor": "white"
           },
           "yaxis": {
            "backgroundcolor": "#E5ECF6",
            "gridcolor": "white",
            "gridwidth": 2,
            "linecolor": "white",
            "showbackground": true,
            "ticks": "",
            "zerolinecolor": "white"
           },
           "zaxis": {
            "backgroundcolor": "#E5ECF6",
            "gridcolor": "white",
            "gridwidth": 2,
            "linecolor": "white",
            "showbackground": true,
            "ticks": "",
            "zerolinecolor": "white"
           }
          },
          "shapedefaults": {
           "line": {
            "color": "#2a3f5f"
           }
          },
          "ternary": {
           "aaxis": {
            "gridcolor": "white",
            "linecolor": "white",
            "ticks": ""
           },
           "baxis": {
            "gridcolor": "white",
            "linecolor": "white",
            "ticks": ""
           },
           "bgcolor": "#E5ECF6",
           "caxis": {
            "gridcolor": "white",
            "linecolor": "white",
            "ticks": ""
           }
          },
          "title": {
           "x": 0.05
          },
          "xaxis": {
           "automargin": true,
           "gridcolor": "white",
           "linecolor": "white",
           "ticks": "",
           "title": {
            "standoff": 15
           },
           "zerolinecolor": "white",
           "zerolinewidth": 2
          },
          "yaxis": {
           "automargin": true,
           "gridcolor": "white",
           "linecolor": "white",
           "ticks": "",
           "title": {
            "standoff": 15
           },
           "zerolinecolor": "white",
           "zerolinewidth": 2
          }
         }
        },
        "title": {
         "text": "First 16 moves of first game"
        },
        "xaxis": {
         "anchor": "y",
         "constrain": "domain",
         "domain": [
          0,
          0.1075
         ],
         "scaleanchor": "y"
        },
        "xaxis10": {
         "anchor": "y10",
         "domain": [
          0.1275,
          0.235
         ],
         "matches": "x",
         "showticklabels": false
        },
        "xaxis11": {
         "anchor": "y11",
         "domain": [
          0.255,
          0.3625
         ],
         "matches": "x",
         "showticklabels": false
        },
        "xaxis12": {
         "anchor": "y12",
         "domain": [
          0.3825,
          0.49
         ],
         "matches": "x",
         "showticklabels": false
        },
        "xaxis13": {
         "anchor": "y13",
         "domain": [
          0.51,
          0.6175
         ],
         "matches": "x",
         "showticklabels": false
        },
        "xaxis14": {
         "anchor": "y14",
         "domain": [
          0.6375,
          0.745
         ],
         "matches": "x",
         "showticklabels": false
        },
        "xaxis15": {
         "anchor": "y15",
         "domain": [
          0.765,
          0.8725
         ],
         "matches": "x",
         "showticklabels": false
        },
        "xaxis16": {
         "anchor": "y16",
         "domain": [
          0.8925000000000001,
          1
         ],
         "matches": "x",
         "showticklabels": false
        },
        "xaxis2": {
         "anchor": "y2",
         "domain": [
          0.1275,
          0.235
         ],
         "matches": "x"
        },
        "xaxis3": {
         "anchor": "y3",
         "domain": [
          0.255,
          0.3625
         ],
         "matches": "x"
        },
        "xaxis4": {
         "anchor": "y4",
         "domain": [
          0.3825,
          0.49
         ],
         "matches": "x"
        },
        "xaxis5": {
         "anchor": "y5",
         "domain": [
          0.51,
          0.6175
         ],
         "matches": "x"
        },
        "xaxis6": {
         "anchor": "y6",
         "domain": [
          0.6375,
          0.745
         ],
         "matches": "x"
        },
        "xaxis7": {
         "anchor": "y7",
         "domain": [
          0.765,
          0.8725
         ],
         "matches": "x"
        },
        "xaxis8": {
         "anchor": "y8",
         "domain": [
          0.8925000000000001,
          1
         ],
         "matches": "x"
        },
        "xaxis9": {
         "anchor": "y9",
         "domain": [
          0,
          0.1075
         ],
         "matches": "x",
         "showticklabels": false
        },
        "yaxis": {
         "anchor": "x",
         "autorange": "reversed",
         "constrain": "domain",
         "domain": [
          0,
          0.46499999999999997
         ]
        },
        "yaxis10": {
         "anchor": "x10",
         "domain": [
          0.5349999999999999,
          0.9999999999999999
         ],
         "matches": "y",
         "showticklabels": false
        },
        "yaxis11": {
         "anchor": "x11",
         "domain": [
          0.5349999999999999,
          0.9999999999999999
         ],
         "matches": "y",
         "showticklabels": false
        },
        "yaxis12": {
         "anchor": "x12",
         "domain": [
          0.5349999999999999,
          0.9999999999999999
         ],
         "matches": "y",
         "showticklabels": false
        },
        "yaxis13": {
         "anchor": "x13",
         "domain": [
          0.5349999999999999,
          0.9999999999999999
         ],
         "matches": "y",
         "showticklabels": false
        },
        "yaxis14": {
         "anchor": "x14",
         "domain": [
          0.5349999999999999,
          0.9999999999999999
         ],
         "matches": "y",
         "showticklabels": false
        },
        "yaxis15": {
         "anchor": "x15",
         "domain": [
          0.5349999999999999,
          0.9999999999999999
         ],
         "matches": "y",
         "showticklabels": false
        },
        "yaxis16": {
         "anchor": "x16",
         "domain": [
          0.5349999999999999,
          0.9999999999999999
         ],
         "matches": "y",
         "showticklabels": false
        },
        "yaxis2": {
         "anchor": "x2",
         "domain": [
          0,
          0.46499999999999997
         ],
         "matches": "y",
         "showticklabels": false
        },
        "yaxis3": {
         "anchor": "x3",
         "domain": [
          0,
          0.46499999999999997
         ],
         "matches": "y",
         "showticklabels": false
        },
        "yaxis4": {
         "anchor": "x4",
         "domain": [
          0,
          0.46499999999999997
         ],
         "matches": "y",
         "showticklabels": false
        },
        "yaxis5": {
         "anchor": "x5",
         "domain": [
          0,
          0.46499999999999997
         ],
         "matches": "y",
         "showticklabels": false
        },
        "yaxis6": {
         "anchor": "x6",
         "domain": [
          0,
          0.46499999999999997
         ],
         "matches": "y",
         "showticklabels": false
        },
        "yaxis7": {
         "anchor": "x7",
         "domain": [
          0,
          0.46499999999999997
         ],
         "matches": "y",
         "showticklabels": false
        },
        "yaxis8": {
         "anchor": "x8",
         "domain": [
          0,
          0.46499999999999997
         ],
         "matches": "y",
         "showticklabels": false
        },
        "yaxis9": {
         "anchor": "x9",
         "domain": [
          0.5349999999999999,
          0.9999999999999999
         ],
         "matches": "y"
        }
       }
      },
      "text/html": [
       "<div>                            <div id=\"d7d99f5b-8f6a-46c3-9982-77602bd62d4b\" class=\"plotly-graph-div\" style=\"height:525px; width:100%;\"></div>            <script type=\"text/javascript\">                require([\"plotly\"], function(Plotly) {                    window.PLOTLYENV=window.PLOTLYENV || {};                                    if (document.getElementById(\"d7d99f5b-8f6a-46c3-9982-77602bd62d4b\")) {                    Plotly.newPlot(                        \"d7d99f5b-8f6a-46c3-9982-77602bd62d4b\",                        [{\"coloraxis\":\"coloraxis\",\"name\":\"0\",\"y\":[\"A\",\"B\",\"C\",\"D\",\"E\",\"F\",\"G\",\"H\"],\"z\":[[0.0,0.0,0.0,0.0,0.0,0.0,0.0,0.0],[0.0,0.0,0.0,0.0,0.0,0.0,0.0,0.0],[0.0,0.0,0.0,0.0,0.0,0.0,0.0,0.0],[0.0,0.0,0.0,-1.0,1.0,0.0,0.0,0.0],[0.0,0.0,0.0,1.0,1.0,1.0,0.0,0.0],[0.0,0.0,0.0,0.0,0.0,0.0,0.0,0.0],[0.0,0.0,0.0,0.0,0.0,0.0,0.0,0.0],[0.0,0.0,0.0,0.0,0.0,0.0,0.0,0.0]],\"type\":\"heatmap\",\"xaxis\":\"x9\",\"yaxis\":\"y9\",\"hovertemplate\":\"x: %{x}\\u003cbr\\u003ey: %{y}\\u003cbr\\u003ecolor: %{z}\\u003cextra\\u003e\\u003c\\u002fextra\\u003e\"},{\"coloraxis\":\"coloraxis\",\"name\":\"1\",\"y\":[\"A\",\"B\",\"C\",\"D\",\"E\",\"F\",\"G\",\"H\"],\"z\":[[0.0,0.0,0.0,0.0,0.0,0.0,0.0,0.0],[0.0,0.0,0.0,0.0,0.0,0.0,0.0,0.0],[0.0,0.0,0.0,0.0,0.0,0.0,0.0,0.0],[0.0,0.0,0.0,-1.0,1.0,0.0,0.0,0.0],[0.0,0.0,0.0,-1.0,1.0,1.0,0.0,0.0],[0.0,0.0,0.0,-1.0,0.0,0.0,0.0,0.0],[0.0,0.0,0.0,0.0,0.0,0.0,0.0,0.0],[0.0,0.0,0.0,0.0,0.0,0.0,0.0,0.0]],\"type\":\"heatmap\",\"xaxis\":\"x10\",\"yaxis\":\"y10\",\"hovertemplate\":\"x: %{x}\\u003cbr\\u003ey: %{y}\\u003cbr\\u003ecolor: %{z}\\u003cextra\\u003e\\u003c\\u002fextra\\u003e\"},{\"coloraxis\":\"coloraxis\",\"name\":\"2\",\"y\":[\"A\",\"B\",\"C\",\"D\",\"E\",\"F\",\"G\",\"H\"],\"z\":[[0.0,0.0,0.0,0.0,0.0,0.0,0.0,0.0],[0.0,0.0,0.0,0.0,0.0,0.0,0.0,0.0],[0.0,0.0,0.0,0.0,0.0,0.0,0.0,0.0],[0.0,0.0,0.0,-1.0,1.0,0.0,0.0,0.0],[0.0,0.0,1.0,1.0,1.0,1.0,0.0,0.0],[0.0,0.0,0.0,-1.0,0.0,0.0,0.0,0.0],[0.0,0.0,0.0,0.0,0.0,0.0,0.0,0.0],[0.0,0.0,0.0,0.0,0.0,0.0,0.0,0.0]],\"type\":\"heatmap\",\"xaxis\":\"x11\",\"yaxis\":\"y11\",\"hovertemplate\":\"x: %{x}\\u003cbr\\u003ey: %{y}\\u003cbr\\u003ecolor: %{z}\\u003cextra\\u003e\\u003c\\u002fextra\\u003e\"},{\"coloraxis\":\"coloraxis\",\"name\":\"3\",\"y\":[\"A\",\"B\",\"C\",\"D\",\"E\",\"F\",\"G\",\"H\"],\"z\":[[0.0,0.0,0.0,0.0,0.0,0.0,0.0,0.0],[0.0,0.0,0.0,0.0,0.0,0.0,0.0,0.0],[0.0,0.0,0.0,0.0,0.0,0.0,0.0,0.0],[0.0,0.0,0.0,-1.0,1.0,0.0,0.0,0.0],[0.0,0.0,-1.0,1.0,1.0,1.0,0.0,0.0],[0.0,-1.0,0.0,-1.0,0.0,0.0,0.0,0.0],[0.0,0.0,0.0,0.0,0.0,0.0,0.0,0.0],[0.0,0.0,0.0,0.0,0.0,0.0,0.0,0.0]],\"type\":\"heatmap\",\"xaxis\":\"x12\",\"yaxis\":\"y12\",\"hovertemplate\":\"x: %{x}\\u003cbr\\u003ey: %{y}\\u003cbr\\u003ecolor: %{z}\\u003cextra\\u003e\\u003c\\u002fextra\\u003e\"},{\"coloraxis\":\"coloraxis\",\"name\":\"4\",\"y\":[\"A\",\"B\",\"C\",\"D\",\"E\",\"F\",\"G\",\"H\"],\"z\":[[0.0,0.0,0.0,0.0,0.0,0.0,0.0,0.0],[0.0,0.0,0.0,0.0,0.0,0.0,0.0,0.0],[0.0,0.0,0.0,0.0,0.0,0.0,0.0,0.0],[0.0,0.0,1.0,1.0,1.0,0.0,0.0,0.0],[0.0,0.0,-1.0,1.0,1.0,1.0,0.0,0.0],[0.0,-1.0,0.0,-1.0,0.0,0.0,0.0,0.0],[0.0,0.0,0.0,0.0,0.0,0.0,0.0,0.0],[0.0,0.0,0.0,0.0,0.0,0.0,0.0,0.0]],\"type\":\"heatmap\",\"xaxis\":\"x13\",\"yaxis\":\"y13\",\"hovertemplate\":\"x: %{x}\\u003cbr\\u003ey: %{y}\\u003cbr\\u003ecolor: %{z}\\u003cextra\\u003e\\u003c\\u002fextra\\u003e\"},{\"coloraxis\":\"coloraxis\",\"name\":\"5\",\"y\":[\"A\",\"B\",\"C\",\"D\",\"E\",\"F\",\"G\",\"H\"],\"z\":[[0.0,0.0,0.0,0.0,0.0,0.0,0.0,0.0],[0.0,0.0,0.0,0.0,0.0,0.0,0.0,0.0],[0.0,0.0,-1.0,0.0,0.0,0.0,0.0,0.0],[0.0,0.0,-1.0,1.0,1.0,0.0,0.0,0.0],[0.0,0.0,-1.0,1.0,1.0,1.0,0.0,0.0],[0.0,-1.0,0.0,-1.0,0.0,0.0,0.0,0.0],[0.0,0.0,0.0,0.0,0.0,0.0,0.0,0.0],[0.0,0.0,0.0,0.0,0.0,0.0,0.0,0.0]],\"type\":\"heatmap\",\"xaxis\":\"x14\",\"yaxis\":\"y14\",\"hovertemplate\":\"x: %{x}\\u003cbr\\u003ey: %{y}\\u003cbr\\u003ecolor: %{z}\\u003cextra\\u003e\\u003c\\u002fextra\\u003e\"},{\"coloraxis\":\"coloraxis\",\"name\":\"6\",\"y\":[\"A\",\"B\",\"C\",\"D\",\"E\",\"F\",\"G\",\"H\"],\"z\":[[0.0,0.0,0.0,0.0,0.0,0.0,0.0,0.0],[0.0,1.0,0.0,0.0,0.0,0.0,0.0,0.0],[0.0,0.0,1.0,0.0,0.0,0.0,0.0,0.0],[0.0,0.0,-1.0,1.0,1.0,0.0,0.0,0.0],[0.0,0.0,-1.0,1.0,1.0,1.0,0.0,0.0],[0.0,-1.0,0.0,-1.0,0.0,0.0,0.0,0.0],[0.0,0.0,0.0,0.0,0.0,0.0,0.0,0.0],[0.0,0.0,0.0,0.0,0.0,0.0,0.0,0.0]],\"type\":\"heatmap\",\"xaxis\":\"x15\",\"yaxis\":\"y15\",\"hovertemplate\":\"x: %{x}\\u003cbr\\u003ey: %{y}\\u003cbr\\u003ecolor: %{z}\\u003cextra\\u003e\\u003c\\u002fextra\\u003e\"},{\"coloraxis\":\"coloraxis\",\"name\":\"7\",\"y\":[\"A\",\"B\",\"C\",\"D\",\"E\",\"F\",\"G\",\"H\"],\"z\":[[0.0,0.0,0.0,0.0,0.0,0.0,0.0,0.0],[0.0,1.0,0.0,0.0,0.0,0.0,0.0,0.0],[0.0,0.0,1.0,0.0,0.0,0.0,0.0,0.0],[0.0,0.0,-1.0,1.0,1.0,0.0,0.0,0.0],[0.0,0.0,-1.0,-1.0,1.0,1.0,0.0,0.0],[0.0,-1.0,0.0,-1.0,-1.0,0.0,0.0,0.0],[0.0,0.0,0.0,0.0,0.0,0.0,0.0,0.0],[0.0,0.0,0.0,0.0,0.0,0.0,0.0,0.0]],\"type\":\"heatmap\",\"xaxis\":\"x16\",\"yaxis\":\"y16\",\"hovertemplate\":\"x: %{x}\\u003cbr\\u003ey: %{y}\\u003cbr\\u003ecolor: %{z}\\u003cextra\\u003e\\u003c\\u002fextra\\u003e\"},{\"coloraxis\":\"coloraxis\",\"name\":\"8\",\"y\":[\"A\",\"B\",\"C\",\"D\",\"E\",\"F\",\"G\",\"H\"],\"z\":[[0.0,0.0,0.0,0.0,0.0,0.0,0.0,0.0],[0.0,1.0,0.0,0.0,0.0,0.0,0.0,0.0],[0.0,0.0,1.0,0.0,0.0,0.0,0.0,0.0],[0.0,0.0,-1.0,1.0,1.0,0.0,0.0,0.0],[0.0,0.0,-1.0,-1.0,1.0,1.0,0.0,0.0],[0.0,-1.0,0.0,-1.0,1.0,0.0,0.0,0.0],[0.0,0.0,0.0,0.0,1.0,0.0,0.0,0.0],[0.0,0.0,0.0,0.0,0.0,0.0,0.0,0.0]],\"type\":\"heatmap\",\"xaxis\":\"x\",\"yaxis\":\"y\",\"hovertemplate\":\"x: %{x}\\u003cbr\\u003ey: %{y}\\u003cbr\\u003ecolor: %{z}\\u003cextra\\u003e\\u003c\\u002fextra\\u003e\"},{\"coloraxis\":\"coloraxis\",\"name\":\"9\",\"y\":[\"A\",\"B\",\"C\",\"D\",\"E\",\"F\",\"G\",\"H\"],\"z\":[[0.0,0.0,0.0,0.0,0.0,0.0,0.0,0.0],[0.0,1.0,0.0,0.0,0.0,0.0,0.0,0.0],[0.0,0.0,1.0,0.0,0.0,0.0,0.0,0.0],[0.0,0.0,-1.0,1.0,1.0,0.0,0.0,0.0],[0.0,0.0,-1.0,-1.0,-1.0,-1.0,-1.0,0.0],[0.0,-1.0,0.0,-1.0,1.0,0.0,0.0,0.0],[0.0,0.0,0.0,0.0,1.0,0.0,0.0,0.0],[0.0,0.0,0.0,0.0,0.0,0.0,0.0,0.0]],\"type\":\"heatmap\",\"xaxis\":\"x2\",\"yaxis\":\"y2\",\"hovertemplate\":\"x: %{x}\\u003cbr\\u003ey: %{y}\\u003cbr\\u003ecolor: %{z}\\u003cextra\\u003e\\u003c\\u002fextra\\u003e\"},{\"coloraxis\":\"coloraxis\",\"name\":\"10\",\"y\":[\"A\",\"B\",\"C\",\"D\",\"E\",\"F\",\"G\",\"H\"],\"z\":[[0.0,0.0,0.0,0.0,0.0,0.0,0.0,0.0],[0.0,1.0,0.0,0.0,0.0,0.0,0.0,0.0],[0.0,0.0,1.0,0.0,0.0,0.0,0.0,0.0],[0.0,0.0,1.0,1.0,1.0,0.0,0.0,0.0],[0.0,0.0,1.0,1.0,-1.0,-1.0,-1.0,0.0],[0.0,-1.0,1.0,1.0,1.0,0.0,0.0,0.0],[0.0,0.0,0.0,0.0,1.0,0.0,0.0,0.0],[0.0,0.0,0.0,0.0,0.0,0.0,0.0,0.0]],\"type\":\"heatmap\",\"xaxis\":\"x3\",\"yaxis\":\"y3\",\"hovertemplate\":\"x: %{x}\\u003cbr\\u003ey: %{y}\\u003cbr\\u003ecolor: %{z}\\u003cextra\\u003e\\u003c\\u002fextra\\u003e\"},{\"coloraxis\":\"coloraxis\",\"name\":\"11\",\"y\":[\"A\",\"B\",\"C\",\"D\",\"E\",\"F\",\"G\",\"H\"],\"z\":[[0.0,0.0,0.0,0.0,0.0,0.0,0.0,0.0],[0.0,1.0,0.0,0.0,0.0,0.0,0.0,0.0],[0.0,0.0,1.0,0.0,-1.0,0.0,0.0,0.0],[0.0,0.0,1.0,-1.0,-1.0,0.0,0.0,0.0],[0.0,0.0,-1.0,1.0,-1.0,-1.0,-1.0,0.0],[0.0,-1.0,1.0,1.0,1.0,0.0,0.0,0.0],[0.0,0.0,0.0,0.0,1.0,0.0,0.0,0.0],[0.0,0.0,0.0,0.0,0.0,0.0,0.0,0.0]],\"type\":\"heatmap\",\"xaxis\":\"x4\",\"yaxis\":\"y4\",\"hovertemplate\":\"x: %{x}\\u003cbr\\u003ey: %{y}\\u003cbr\\u003ecolor: %{z}\\u003cextra\\u003e\\u003c\\u002fextra\\u003e\"},{\"coloraxis\":\"coloraxis\",\"name\":\"12\",\"y\":[\"A\",\"B\",\"C\",\"D\",\"E\",\"F\",\"G\",\"H\"],\"z\":[[0.0,0.0,0.0,0.0,0.0,0.0,0.0,0.0],[0.0,1.0,0.0,0.0,0.0,0.0,0.0,0.0],[0.0,0.0,1.0,0.0,-1.0,0.0,0.0,0.0],[0.0,1.0,1.0,-1.0,-1.0,0.0,0.0,0.0],[0.0,0.0,1.0,1.0,-1.0,-1.0,-1.0,0.0],[0.0,-1.0,1.0,1.0,1.0,0.0,0.0,0.0],[0.0,0.0,0.0,0.0,1.0,0.0,0.0,0.0],[0.0,0.0,0.0,0.0,0.0,0.0,0.0,0.0]],\"type\":\"heatmap\",\"xaxis\":\"x5\",\"yaxis\":\"y5\",\"hovertemplate\":\"x: %{x}\\u003cbr\\u003ey: %{y}\\u003cbr\\u003ecolor: %{z}\\u003cextra\\u003e\\u003c\\u002fextra\\u003e\"},{\"coloraxis\":\"coloraxis\",\"name\":\"13\",\"y\":[\"A\",\"B\",\"C\",\"D\",\"E\",\"F\",\"G\",\"H\"],\"z\":[[0.0,0.0,0.0,0.0,0.0,0.0,0.0,0.0],[0.0,1.0,0.0,0.0,0.0,0.0,0.0,0.0],[0.0,0.0,1.0,0.0,-1.0,0.0,0.0,0.0],[-1.0,-1.0,-1.0,-1.0,-1.0,0.0,0.0,0.0],[0.0,0.0,1.0,1.0,-1.0,-1.0,-1.0,0.0],[0.0,-1.0,1.0,1.0,1.0,0.0,0.0,0.0],[0.0,0.0,0.0,0.0,1.0,0.0,0.0,0.0],[0.0,0.0,0.0,0.0,0.0,0.0,0.0,0.0]],\"type\":\"heatmap\",\"xaxis\":\"x6\",\"yaxis\":\"y6\",\"hovertemplate\":\"x: %{x}\\u003cbr\\u003ey: %{y}\\u003cbr\\u003ecolor: %{z}\\u003cextra\\u003e\\u003c\\u002fextra\\u003e\"},{\"coloraxis\":\"coloraxis\",\"name\":\"14\",\"y\":[\"A\",\"B\",\"C\",\"D\",\"E\",\"F\",\"G\",\"H\"],\"z\":[[0.0,0.0,0.0,0.0,0.0,0.0,0.0,0.0],[0.0,1.0,0.0,0.0,1.0,0.0,0.0,0.0],[0.0,0.0,1.0,0.0,1.0,0.0,0.0,0.0],[-1.0,-1.0,-1.0,-1.0,1.0,0.0,0.0,0.0],[0.0,0.0,1.0,1.0,1.0,-1.0,-1.0,0.0],[0.0,-1.0,1.0,1.0,1.0,0.0,0.0,0.0],[0.0,0.0,0.0,0.0,1.0,0.0,0.0,0.0],[0.0,0.0,0.0,0.0,0.0,0.0,0.0,0.0]],\"type\":\"heatmap\",\"xaxis\":\"x7\",\"yaxis\":\"y7\",\"hovertemplate\":\"x: %{x}\\u003cbr\\u003ey: %{y}\\u003cbr\\u003ecolor: %{z}\\u003cextra\\u003e\\u003c\\u002fextra\\u003e\"},{\"coloraxis\":\"coloraxis\",\"name\":\"15\",\"y\":[\"A\",\"B\",\"C\",\"D\",\"E\",\"F\",\"G\",\"H\"],\"z\":[[0.0,0.0,0.0,0.0,0.0,0.0,0.0,0.0],[0.0,1.0,0.0,-1.0,1.0,0.0,0.0,0.0],[0.0,0.0,-1.0,0.0,1.0,0.0,0.0,0.0],[-1.0,-1.0,-1.0,-1.0,1.0,0.0,0.0,0.0],[0.0,0.0,1.0,1.0,1.0,-1.0,-1.0,0.0],[0.0,-1.0,1.0,1.0,1.0,0.0,0.0,0.0],[0.0,0.0,0.0,0.0,1.0,0.0,0.0,0.0],[0.0,0.0,0.0,0.0,0.0,0.0,0.0,0.0]],\"type\":\"heatmap\",\"xaxis\":\"x8\",\"yaxis\":\"y8\",\"hovertemplate\":\"x: %{x}\\u003cbr\\u003ey: %{y}\\u003cbr\\u003ecolor: %{z}\\u003cextra\\u003e\\u003c\\u002fextra\\u003e\"}],                        {\"template\":{\"data\":{\"histogram2dcontour\":[{\"type\":\"histogram2dcontour\",\"colorbar\":{\"outlinewidth\":0,\"ticks\":\"\"},\"colorscale\":[[0.0,\"#0d0887\"],[0.1111111111111111,\"#46039f\"],[0.2222222222222222,\"#7201a8\"],[0.3333333333333333,\"#9c179e\"],[0.4444444444444444,\"#bd3786\"],[0.5555555555555556,\"#d8576b\"],[0.6666666666666666,\"#ed7953\"],[0.7777777777777778,\"#fb9f3a\"],[0.8888888888888888,\"#fdca26\"],[1.0,\"#f0f921\"]]}],\"choropleth\":[{\"type\":\"choropleth\",\"colorbar\":{\"outlinewidth\":0,\"ticks\":\"\"}}],\"histogram2d\":[{\"type\":\"histogram2d\",\"colorbar\":{\"outlinewidth\":0,\"ticks\":\"\"},\"colorscale\":[[0.0,\"#0d0887\"],[0.1111111111111111,\"#46039f\"],[0.2222222222222222,\"#7201a8\"],[0.3333333333333333,\"#9c179e\"],[0.4444444444444444,\"#bd3786\"],[0.5555555555555556,\"#d8576b\"],[0.6666666666666666,\"#ed7953\"],[0.7777777777777778,\"#fb9f3a\"],[0.8888888888888888,\"#fdca26\"],[1.0,\"#f0f921\"]]}],\"heatmap\":[{\"type\":\"heatmap\",\"colorbar\":{\"outlinewidth\":0,\"ticks\":\"\"},\"colorscale\":[[0.0,\"#0d0887\"],[0.1111111111111111,\"#46039f\"],[0.2222222222222222,\"#7201a8\"],[0.3333333333333333,\"#9c179e\"],[0.4444444444444444,\"#bd3786\"],[0.5555555555555556,\"#d8576b\"],[0.6666666666666666,\"#ed7953\"],[0.7777777777777778,\"#fb9f3a\"],[0.8888888888888888,\"#fdca26\"],[1.0,\"#f0f921\"]]}],\"heatmapgl\":[{\"type\":\"heatmapgl\",\"colorbar\":{\"outlinewidth\":0,\"ticks\":\"\"},\"colorscale\":[[0.0,\"#0d0887\"],[0.1111111111111111,\"#46039f\"],[0.2222222222222222,\"#7201a8\"],[0.3333333333333333,\"#9c179e\"],[0.4444444444444444,\"#bd3786\"],[0.5555555555555556,\"#d8576b\"],[0.6666666666666666,\"#ed7953\"],[0.7777777777777778,\"#fb9f3a\"],[0.8888888888888888,\"#fdca26\"],[1.0,\"#f0f921\"]]}],\"contourcarpet\":[{\"type\":\"contourcarpet\",\"colorbar\":{\"outlinewidth\":0,\"ticks\":\"\"}}],\"contour\":[{\"type\":\"contour\",\"colorbar\":{\"outlinewidth\":0,\"ticks\":\"\"},\"colorscale\":[[0.0,\"#0d0887\"],[0.1111111111111111,\"#46039f\"],[0.2222222222222222,\"#7201a8\"],[0.3333333333333333,\"#9c179e\"],[0.4444444444444444,\"#bd3786\"],[0.5555555555555556,\"#d8576b\"],[0.6666666666666666,\"#ed7953\"],[0.7777777777777778,\"#fb9f3a\"],[0.8888888888888888,\"#fdca26\"],[1.0,\"#f0f921\"]]}],\"surface\":[{\"type\":\"surface\",\"colorbar\":{\"outlinewidth\":0,\"ticks\":\"\"},\"colorscale\":[[0.0,\"#0d0887\"],[0.1111111111111111,\"#46039f\"],[0.2222222222222222,\"#7201a8\"],[0.3333333333333333,\"#9c179e\"],[0.4444444444444444,\"#bd3786\"],[0.5555555555555556,\"#d8576b\"],[0.6666666666666666,\"#ed7953\"],[0.7777777777777778,\"#fb9f3a\"],[0.8888888888888888,\"#fdca26\"],[1.0,\"#f0f921\"]]}],\"mesh3d\":[{\"type\":\"mesh3d\",\"colorbar\":{\"outlinewidth\":0,\"ticks\":\"\"}}],\"scatter\":[{\"fillpattern\":{\"fillmode\":\"overlay\",\"size\":10,\"solidity\":0.2},\"type\":\"scatter\"}],\"parcoords\":[{\"type\":\"parcoords\",\"line\":{\"colorbar\":{\"outlinewidth\":0,\"ticks\":\"\"}}}],\"scatterpolargl\":[{\"type\":\"scatterpolargl\",\"marker\":{\"colorbar\":{\"outlinewidth\":0,\"ticks\":\"\"}}}],\"bar\":[{\"error_x\":{\"color\":\"#2a3f5f\"},\"error_y\":{\"color\":\"#2a3f5f\"},\"marker\":{\"line\":{\"color\":\"#E5ECF6\",\"width\":0.5},\"pattern\":{\"fillmode\":\"overlay\",\"size\":10,\"solidity\":0.2}},\"type\":\"bar\"}],\"scattergeo\":[{\"type\":\"scattergeo\",\"marker\":{\"colorbar\":{\"outlinewidth\":0,\"ticks\":\"\"}}}],\"scatterpolar\":[{\"type\":\"scatterpolar\",\"marker\":{\"colorbar\":{\"outlinewidth\":0,\"ticks\":\"\"}}}],\"histogram\":[{\"marker\":{\"pattern\":{\"fillmode\":\"overlay\",\"size\":10,\"solidity\":0.2}},\"type\":\"histogram\"}],\"scattergl\":[{\"type\":\"scattergl\",\"marker\":{\"colorbar\":{\"outlinewidth\":0,\"ticks\":\"\"}}}],\"scatter3d\":[{\"type\":\"scatter3d\",\"line\":{\"colorbar\":{\"outlinewidth\":0,\"ticks\":\"\"}},\"marker\":{\"colorbar\":{\"outlinewidth\":0,\"ticks\":\"\"}}}],\"scattermapbox\":[{\"type\":\"scattermapbox\",\"marker\":{\"colorbar\":{\"outlinewidth\":0,\"ticks\":\"\"}}}],\"scatterternary\":[{\"type\":\"scatterternary\",\"marker\":{\"colorbar\":{\"outlinewidth\":0,\"ticks\":\"\"}}}],\"scattercarpet\":[{\"type\":\"scattercarpet\",\"marker\":{\"colorbar\":{\"outlinewidth\":0,\"ticks\":\"\"}}}],\"carpet\":[{\"aaxis\":{\"endlinecolor\":\"#2a3f5f\",\"gridcolor\":\"white\",\"linecolor\":\"white\",\"minorgridcolor\":\"white\",\"startlinecolor\":\"#2a3f5f\"},\"baxis\":{\"endlinecolor\":\"#2a3f5f\",\"gridcolor\":\"white\",\"linecolor\":\"white\",\"minorgridcolor\":\"white\",\"startlinecolor\":\"#2a3f5f\"},\"type\":\"carpet\"}],\"table\":[{\"cells\":{\"fill\":{\"color\":\"#EBF0F8\"},\"line\":{\"color\":\"white\"}},\"header\":{\"fill\":{\"color\":\"#C8D4E3\"},\"line\":{\"color\":\"white\"}},\"type\":\"table\"}],\"barpolar\":[{\"marker\":{\"line\":{\"color\":\"#E5ECF6\",\"width\":0.5},\"pattern\":{\"fillmode\":\"overlay\",\"size\":10,\"solidity\":0.2}},\"type\":\"barpolar\"}],\"pie\":[{\"automargin\":true,\"type\":\"pie\"}]},\"layout\":{\"autotypenumbers\":\"strict\",\"colorway\":[\"#636efa\",\"#EF553B\",\"#00cc96\",\"#ab63fa\",\"#FFA15A\",\"#19d3f3\",\"#FF6692\",\"#B6E880\",\"#FF97FF\",\"#FECB52\"],\"font\":{\"color\":\"#2a3f5f\"},\"hovermode\":\"closest\",\"hoverlabel\":{\"align\":\"left\"},\"paper_bgcolor\":\"white\",\"plot_bgcolor\":\"#E5ECF6\",\"polar\":{\"bgcolor\":\"#E5ECF6\",\"angularaxis\":{\"gridcolor\":\"white\",\"linecolor\":\"white\",\"ticks\":\"\"},\"radialaxis\":{\"gridcolor\":\"white\",\"linecolor\":\"white\",\"ticks\":\"\"}},\"ternary\":{\"bgcolor\":\"#E5ECF6\",\"aaxis\":{\"gridcolor\":\"white\",\"linecolor\":\"white\",\"ticks\":\"\"},\"baxis\":{\"gridcolor\":\"white\",\"linecolor\":\"white\",\"ticks\":\"\"},\"caxis\":{\"gridcolor\":\"white\",\"linecolor\":\"white\",\"ticks\":\"\"}},\"coloraxis\":{\"colorbar\":{\"outlinewidth\":0,\"ticks\":\"\"}},\"colorscale\":{\"sequential\":[[0.0,\"#0d0887\"],[0.1111111111111111,\"#46039f\"],[0.2222222222222222,\"#7201a8\"],[0.3333333333333333,\"#9c179e\"],[0.4444444444444444,\"#bd3786\"],[0.5555555555555556,\"#d8576b\"],[0.6666666666666666,\"#ed7953\"],[0.7777777777777778,\"#fb9f3a\"],[0.8888888888888888,\"#fdca26\"],[1.0,\"#f0f921\"]],\"sequentialminus\":[[0.0,\"#0d0887\"],[0.1111111111111111,\"#46039f\"],[0.2222222222222222,\"#7201a8\"],[0.3333333333333333,\"#9c179e\"],[0.4444444444444444,\"#bd3786\"],[0.5555555555555556,\"#d8576b\"],[0.6666666666666666,\"#ed7953\"],[0.7777777777777778,\"#fb9f3a\"],[0.8888888888888888,\"#fdca26\"],[1.0,\"#f0f921\"]],\"diverging\":[[0,\"#8e0152\"],[0.1,\"#c51b7d\"],[0.2,\"#de77ae\"],[0.3,\"#f1b6da\"],[0.4,\"#fde0ef\"],[0.5,\"#f7f7f7\"],[0.6,\"#e6f5d0\"],[0.7,\"#b8e186\"],[0.8,\"#7fbc41\"],[0.9,\"#4d9221\"],[1,\"#276419\"]]},\"xaxis\":{\"gridcolor\":\"white\",\"linecolor\":\"white\",\"ticks\":\"\",\"title\":{\"standoff\":15},\"zerolinecolor\":\"white\",\"automargin\":true,\"zerolinewidth\":2},\"yaxis\":{\"gridcolor\":\"white\",\"linecolor\":\"white\",\"ticks\":\"\",\"title\":{\"standoff\":15},\"zerolinecolor\":\"white\",\"automargin\":true,\"zerolinewidth\":2},\"scene\":{\"xaxis\":{\"backgroundcolor\":\"#E5ECF6\",\"gridcolor\":\"white\",\"linecolor\":\"white\",\"showbackground\":true,\"ticks\":\"\",\"zerolinecolor\":\"white\",\"gridwidth\":2},\"yaxis\":{\"backgroundcolor\":\"#E5ECF6\",\"gridcolor\":\"white\",\"linecolor\":\"white\",\"showbackground\":true,\"ticks\":\"\",\"zerolinecolor\":\"white\",\"gridwidth\":2},\"zaxis\":{\"backgroundcolor\":\"#E5ECF6\",\"gridcolor\":\"white\",\"linecolor\":\"white\",\"showbackground\":true,\"ticks\":\"\",\"zerolinecolor\":\"white\",\"gridwidth\":2}},\"shapedefaults\":{\"line\":{\"color\":\"#2a3f5f\"}},\"annotationdefaults\":{\"arrowcolor\":\"#2a3f5f\",\"arrowhead\":0,\"arrowwidth\":1},\"geo\":{\"bgcolor\":\"white\",\"landcolor\":\"#E5ECF6\",\"subunitcolor\":\"white\",\"showland\":true,\"showlakes\":true,\"lakecolor\":\"white\"},\"title\":{\"x\":0.05},\"mapbox\":{\"style\":\"light\"}}},\"xaxis\":{\"anchor\":\"y\",\"domain\":[0.0,0.1075],\"scaleanchor\":\"y\",\"constrain\":\"domain\"},\"yaxis\":{\"anchor\":\"x\",\"domain\":[0.0,0.46499999999999997],\"autorange\":\"reversed\",\"constrain\":\"domain\"},\"xaxis2\":{\"anchor\":\"y2\",\"domain\":[0.1275,0.235],\"matches\":\"x\"},\"yaxis2\":{\"anchor\":\"x2\",\"domain\":[0.0,0.46499999999999997],\"matches\":\"y\",\"showticklabels\":false},\"xaxis3\":{\"anchor\":\"y3\",\"domain\":[0.255,0.3625],\"matches\":\"x\"},\"yaxis3\":{\"anchor\":\"x3\",\"domain\":[0.0,0.46499999999999997],\"matches\":\"y\",\"showticklabels\":false},\"xaxis4\":{\"anchor\":\"y4\",\"domain\":[0.3825,0.49],\"matches\":\"x\"},\"yaxis4\":{\"anchor\":\"x4\",\"domain\":[0.0,0.46499999999999997],\"matches\":\"y\",\"showticklabels\":false},\"xaxis5\":{\"anchor\":\"y5\",\"domain\":[0.51,0.6175],\"matches\":\"x\"},\"yaxis5\":{\"anchor\":\"x5\",\"domain\":[0.0,0.46499999999999997],\"matches\":\"y\",\"showticklabels\":false},\"xaxis6\":{\"anchor\":\"y6\",\"domain\":[0.6375,0.745],\"matches\":\"x\"},\"yaxis6\":{\"anchor\":\"x6\",\"domain\":[0.0,0.46499999999999997],\"matches\":\"y\",\"showticklabels\":false},\"xaxis7\":{\"anchor\":\"y7\",\"domain\":[0.765,0.8725],\"matches\":\"x\"},\"yaxis7\":{\"anchor\":\"x7\",\"domain\":[0.0,0.46499999999999997],\"matches\":\"y\",\"showticklabels\":false},\"xaxis8\":{\"anchor\":\"y8\",\"domain\":[0.8925000000000001,1.0],\"matches\":\"x\"},\"yaxis8\":{\"anchor\":\"x8\",\"domain\":[0.0,0.46499999999999997],\"matches\":\"y\",\"showticklabels\":false},\"xaxis9\":{\"anchor\":\"y9\",\"domain\":[0.0,0.1075],\"matches\":\"x\",\"showticklabels\":false},\"yaxis9\":{\"anchor\":\"x9\",\"domain\":[0.5349999999999999,0.9999999999999999],\"matches\":\"y\"},\"xaxis10\":{\"anchor\":\"y10\",\"domain\":[0.1275,0.235],\"matches\":\"x\",\"showticklabels\":false},\"yaxis10\":{\"anchor\":\"x10\",\"domain\":[0.5349999999999999,0.9999999999999999],\"matches\":\"y\",\"showticklabels\":false},\"xaxis11\":{\"anchor\":\"y11\",\"domain\":[0.255,0.3625],\"matches\":\"x\",\"showticklabels\":false},\"yaxis11\":{\"anchor\":\"x11\",\"domain\":[0.5349999999999999,0.9999999999999999],\"matches\":\"y\",\"showticklabels\":false},\"xaxis12\":{\"anchor\":\"y12\",\"domain\":[0.3825,0.49],\"matches\":\"x\",\"showticklabels\":false},\"yaxis12\":{\"anchor\":\"x12\",\"domain\":[0.5349999999999999,0.9999999999999999],\"matches\":\"y\",\"showticklabels\":false},\"xaxis13\":{\"anchor\":\"y13\",\"domain\":[0.51,0.6175],\"matches\":\"x\",\"showticklabels\":false},\"yaxis13\":{\"anchor\":\"x13\",\"domain\":[0.5349999999999999,0.9999999999999999],\"matches\":\"y\",\"showticklabels\":false},\"xaxis14\":{\"anchor\":\"y14\",\"domain\":[0.6375,0.745],\"matches\":\"x\",\"showticklabels\":false},\"yaxis14\":{\"anchor\":\"x14\",\"domain\":[0.5349999999999999,0.9999999999999999],\"matches\":\"y\",\"showticklabels\":false},\"xaxis15\":{\"anchor\":\"y15\",\"domain\":[0.765,0.8725],\"matches\":\"x\",\"showticklabels\":false},\"yaxis15\":{\"anchor\":\"x15\",\"domain\":[0.5349999999999999,0.9999999999999999],\"matches\":\"y\",\"showticklabels\":false},\"xaxis16\":{\"anchor\":\"y16\",\"domain\":[0.8925000000000001,1.0],\"matches\":\"x\",\"showticklabels\":false},\"yaxis16\":{\"anchor\":\"x16\",\"domain\":[0.5349999999999999,0.9999999999999999],\"matches\":\"y\",\"showticklabels\":false},\"annotations\":[{\"font\":{},\"showarrow\":false,\"text\":\"Move 8\",\"x\":0.05375,\"xanchor\":\"center\",\"xref\":\"paper\",\"y\":0.46499999999999997,\"yanchor\":\"bottom\",\"yref\":\"paper\"},{\"font\":{},\"showarrow\":false,\"text\":\"Move 9\",\"x\":0.18125,\"xanchor\":\"center\",\"xref\":\"paper\",\"y\":0.46499999999999997,\"yanchor\":\"bottom\",\"yref\":\"paper\"},{\"font\":{},\"showarrow\":false,\"text\":\"Move 10\",\"x\":0.30874999999999997,\"xanchor\":\"center\",\"xref\":\"paper\",\"y\":0.46499999999999997,\"yanchor\":\"bottom\",\"yref\":\"paper\"},{\"font\":{},\"showarrow\":false,\"text\":\"Move 11\",\"x\":0.43625,\"xanchor\":\"center\",\"xref\":\"paper\",\"y\":0.46499999999999997,\"yanchor\":\"bottom\",\"yref\":\"paper\"},{\"font\":{},\"showarrow\":false,\"text\":\"Move 12\",\"x\":0.56375,\"xanchor\":\"center\",\"xref\":\"paper\",\"y\":0.46499999999999997,\"yanchor\":\"bottom\",\"yref\":\"paper\"},{\"font\":{},\"showarrow\":false,\"text\":\"Move 13\",\"x\":0.6912499999999999,\"xanchor\":\"center\",\"xref\":\"paper\",\"y\":0.46499999999999997,\"yanchor\":\"bottom\",\"yref\":\"paper\"},{\"font\":{},\"showarrow\":false,\"text\":\"Move 14\",\"x\":0.8187500000000001,\"xanchor\":\"center\",\"xref\":\"paper\",\"y\":0.46499999999999997,\"yanchor\":\"bottom\",\"yref\":\"paper\"},{\"font\":{},\"showarrow\":false,\"text\":\"Move 15\",\"x\":0.94625,\"xanchor\":\"center\",\"xref\":\"paper\",\"y\":0.46499999999999997,\"yanchor\":\"bottom\",\"yref\":\"paper\"},{\"font\":{},\"showarrow\":false,\"text\":\"Move 0\",\"x\":0.05375,\"xanchor\":\"center\",\"xref\":\"paper\",\"y\":0.9999999999999999,\"yanchor\":\"bottom\",\"yref\":\"paper\"},{\"font\":{},\"showarrow\":false,\"text\":\"Move 1\",\"x\":0.18125,\"xanchor\":\"center\",\"xref\":\"paper\",\"y\":0.9999999999999999,\"yanchor\":\"bottom\",\"yref\":\"paper\"},{\"font\":{},\"showarrow\":false,\"text\":\"Move 2\",\"x\":0.30874999999999997,\"xanchor\":\"center\",\"xref\":\"paper\",\"y\":0.9999999999999999,\"yanchor\":\"bottom\",\"yref\":\"paper\"},{\"font\":{},\"showarrow\":false,\"text\":\"Move 3\",\"x\":0.43625,\"xanchor\":\"center\",\"xref\":\"paper\",\"y\":0.9999999999999999,\"yanchor\":\"bottom\",\"yref\":\"paper\"},{\"font\":{},\"showarrow\":false,\"text\":\"Move 4\",\"x\":0.56375,\"xanchor\":\"center\",\"xref\":\"paper\",\"y\":0.9999999999999999,\"yanchor\":\"bottom\",\"yref\":\"paper\"},{\"font\":{},\"showarrow\":false,\"text\":\"Move 5\",\"x\":0.6912499999999999,\"xanchor\":\"center\",\"xref\":\"paper\",\"y\":0.9999999999999999,\"yanchor\":\"bottom\",\"yref\":\"paper\"},{\"font\":{},\"showarrow\":false,\"text\":\"Move 6\",\"x\":0.8187500000000001,\"xanchor\":\"center\",\"xref\":\"paper\",\"y\":0.9999999999999999,\"yanchor\":\"bottom\",\"yref\":\"paper\"},{\"font\":{},\"showarrow\":false,\"text\":\"Move 7\",\"x\":0.94625,\"xanchor\":\"center\",\"xref\":\"paper\",\"y\":0.9999999999999999,\"yanchor\":\"bottom\",\"yref\":\"paper\"}],\"coloraxis\":{\"colorscale\":[[0.0,\"rgb(255,255,255)\"],[0.125,\"rgb(240,240,240)\"],[0.25,\"rgb(217,217,217)\"],[0.375,\"rgb(189,189,189)\"],[0.5,\"rgb(150,150,150)\"],[0.625,\"rgb(115,115,115)\"],[0.75,\"rgb(82,82,82)\"],[0.875,\"rgb(37,37,37)\"],[1.0,\"rgb(0,0,0)\"]],\"cmid\":0.0},\"title\":{\"text\":\"First 16 moves of first game\"}},                        {\"staticPlot\": false, \"responsive\": true}                    ).then(function(){\n",
       "                            \n",
       "var gd = document.getElementById('d7d99f5b-8f6a-46c3-9982-77602bd62d4b');\n",
       "var x = new MutationObserver(function (mutations, observer) {{\n",
       "        var display = window.getComputedStyle(gd).display;\n",
       "        if (!display || display === 'none') {{\n",
       "            console.log([gd, 'removed!']);\n",
       "            Plotly.purge(gd);\n",
       "            observer.disconnect();\n",
       "        }}\n",
       "}});\n",
       "\n",
       "// Listen for the removal of the full notebook cells\n",
       "var notebookContainer = gd.closest('#notebook-container');\n",
       "if (notebookContainer) {{\n",
       "    x.observe(notebookContainer, {childList: true});\n",
       "}}\n",
       "\n",
       "// Listen for the clearing of the current output cell\n",
       "var outputEl = gd.closest('.output');\n",
       "if (outputEl) {{\n",
       "    x.observe(outputEl, {childList: true});\n",
       "}}\n",
       "\n",
       "                        })                };                });            </script>        </div>"
      ]
     },
     "metadata": {},
     "output_type": "display_data"
    }
   ],
   "source": [
    "plot_game(focus_games_string, 13, end_move=16)"
   ]
  },
  {
   "cell_type": "code",
   "execution_count": 161,
   "metadata": {},
   "outputs": [
    {
     "data": {
      "text/plain": [
       "'variables = get_variables(focus_cache[module])\\nvariables = variables[:2, :]\\nweights = init_weights()\\nneuron_activations = full_fuzzy_inference(variables, weights)\\nprint(neuron_activations[0, 0, neuron])'"
      ]
     },
     "execution_count": 161,
     "metadata": {},
     "output_type": "execute_result"
    }
   ],
   "source": [
    "\"\"\"layer = 1\n",
    "module = f\"blocks.{layer}.ln2.hook_normalized\"\n",
    "neuron = 426\n",
    "neurons_count = 2048\n",
    "variables_count = 64 * (3 + 2 + 2)\n",
    "rules_count = 10\n",
    "\n",
    "neuron_negative_func = MemberShipFunc(-5, -3, 0, 0.5)\n",
    "neuron_positive_func = MemberShipFunc(0, 0.5, 3, 5)\"\"\"\n",
    "\n",
    "# neuron_membership_funcs = [(-0.3, 0, 0, 0.1), (0, 0.1, 1, 3)]\n",
    "# neuron_membership_funcs = [(-0.2, -0.13, -0.13, -0.04), (2.7, 2.7, 3.7, 3.7)]\n",
    "neuron_membership_funcs = [(-0.26, -0.26, 0.04, 0.04), (2.7, 3.2, 3.2, 3.7)]\n",
    "\n",
    "# TODO: First make funcitons narrow, then gerenerell\n",
    "def variables_to_tensor(input_variables : Dict[str, Tuple]) -> Float[Tensor, \"variables\"]:\n",
    "    out = t.Tensor((64 * (3 + 2 + 2)))\n",
    "    i = 0\n",
    "    for _, value in input_variables.items():\n",
    "        for j in range(len(value)):\n",
    "            out[i] = value[j]\n",
    "            i += 1\n",
    "    return out\n",
    "\n",
    "def tensor_to_variables(input_tensor : Float[Tensor, \"variables\"]) -> Dict[str, Tuple]:\n",
    "    pass\n",
    "\n",
    "def compute_fuzzy_out(fuzzy_weights, input_variables, neurons, rules):\n",
    "    fuzzy_weights_r = einops.repeat(fuzzy_weights, \"neurons rules variables -> neurons rules variables\")\n",
    "    input_variables_r = einops.repeat(input_variables, \"variables -> neurons rules variables\", neurons=neurons, rules=rules)\n",
    "    updated_variables : Float[Tensor, \"neuron rules variables\"] = 1 - fuzzy_weights_r * (1 - input_variables_r)\n",
    "    # fuzzy_mid = einops.reduce(updated_variables, \"pos neurons rules variables -> pos neurons rules\", \"min\")  # AND Gate\n",
    "    # fuzzy_out = einops.reduce(fuzzy_mid, \"pos neurons rules -> pos neurons\", \"max\")  # OR Gate\n",
    "    updated_variables = updated_variables.min(dim=-1).values  # AND Gate\n",
    "    updated_variables = updated_variables.max(dim=-1).values  # OR Gate\n",
    "    return updated_variables\n",
    "\n",
    "def compute_fuzzy_mid(fuzzy_weights, input_variables, v, batch, neurons, rules):\n",
    "    return 1 - einops.repeat(fuzzy_weights[:, :, v], \"neurons rules -> batch neurons rules\", batch=batch) * (1 - einops.repeat(input_variables[:, :, v], \"batch -> batch neurons rules\", neurons=neurons, rules=rules))\n",
    "\n",
    "def compute_fuzzy_out_new(fuzzy_weights, input_variables):\n",
    "    neurons, rules, variables = fuzzy_weights.shape\n",
    "    batch, variables = input_variables.shape\n",
    "    # fuzzy_weights_r = einops.repeat(fuzzy_weights, \"neurons rules variables -> pos neurons rules variables\")\n",
    "    # input_variables_r = einops.repeat(input_variables, \"batch pos variables -> pos neurons rules variables\")\n",
    "    fuzzy_mid = t.zeros((batch, neurons, rules)).to(device)\n",
    "    for v in range(variables):\n",
    "        if debug:\n",
    "            print(f\"Fuzzy Logic started for variable {v}\")\n",
    "            debug_memory()\n",
    "        fuzzy_mid = t.min(fuzzy_mid, compute_fuzzy_mid(fuzzy_weights, input_variables, v, batch, neurons, rules))\n",
    "    # fuzzy_mid = einops.reduce(updated_variables, \"pos neurons rules variables -> pos neurons rules\", \"min\")  # AND Gate\n",
    "    # fuzzy_out = einops.reduce(fuzzy_mid, \"pos neurons rules -> pos neurons\", \"max\")  # OR Gate\n",
    "    updated_variables = updated_variables.min(dim=-1).values  # AND Gate\n",
    "    updated_variables = updated_variables.max(dim=-1).values  # OR Gate\n",
    "    return updated_variables\n",
    "\n",
    "\n",
    "def perform_fuzzy_logic(args : FuzzyTrainingArgs, input_variables : Float[Tensor, \"batch variables\"], fuzzy_weights : Float[Tensor, \"neuron rules variables\"]) -> Dict[str, Tuple]:\n",
    "    batch, variables = input_variables.shape\n",
    "    neurons, rules, _ = fuzzy_weights.shape\n",
    "    if neurons == 1:\n",
    "        fuzzy_weights_r = einops.repeat(fuzzy_weights, \"neurons rules variables -> batch neurons rules variables\", batch=batch)\n",
    "        input_variables_r = einops.repeat(input_variables, \"batch variables -> batch neurons rules variables\", neurons=neurons, rules=rules)\n",
    "        updated_variables : Float[Tensor, \"batch neuron rules variables\"] = 1 - fuzzy_weights_r * (1 - input_variables_r)\n",
    "        if args.fuzzy_and == \"mul\":\n",
    "            fuzzy_mid = updated_variables.prod(dim=-1) # AND Gate\n",
    "        else:\n",
    "            fuzzy_mid = einops.reduce(updated_variables, \"batch neurons rules variables -> batch neurons rules\", \"min\")  # AND Gate\n",
    "        if args.rules_count == 1:\n",
    "            fuzzy_out = fuzzy_mid.squeeze(dim=-1)\n",
    "        else:\n",
    "            fuzzy_out = einops.reduce(fuzzy_mid, \"batch neurons rules -> batch neurons\", \"max\")  # OR Gate\n",
    "        return fuzzy_out\n",
    "    fuzzy_out_complete = []\n",
    "    for b in range(batch):\n",
    "        if debug:\n",
    "            print(f\"Fuzzy Logic started for batch {b}\")\n",
    "            debug_memory()\n",
    "        fuzzy_out = compute_fuzzy_out(fuzzy_weights, input_variables[b], neurons, rules)\n",
    "        fuzzy_out_complete.append(fuzzy_out)\n",
    "    fuzzy_out_complete = t.stack(fuzzy_out_complete, dim=0)\n",
    "    # fuzzy_out_complete = compute_fuzzy_out_new(fuzzy_weights, input_variables)\n",
    "    return fuzzy_out_complete\n",
    "\n",
    "def perform_defuzzification(neuron_positive : Float[Tensor, \"batch neurons\"]) -> Float[Tensor, \"batch neurons\"]:\n",
    "    # I need the fuzzy membership funcitions for the neurons and some algorithm\n",
    "    if debug:\n",
    "        print(\"Defuzzification started\")\n",
    "    neuron_negative = 1 - neuron_positive\n",
    "    # batch, neurons = neuron_positive.shape\n",
    "    neuron_activation = get_centroid(neuron_membership_funcs, t.stack([neuron_negative, neuron_positive], dim=0))\n",
    "    if debug:\n",
    "        print(\"Defuzzification ended\")\n",
    "    return neuron_activation\n",
    "\n",
    "def full_fuzzy_inference(args : FuzzyTrainingArgs, input_variables : Float[Tensor, \"batch variables\"], fuzzy_weights : Float[Tensor, \"neuron rules variables\"]) -> Dict[str, float]: # Probe Results -> Neuron Activations\n",
    "    \"\"\"\n",
    "    Perform fuzzy inference on the input variables.\n",
    "    \"\"\"\n",
    "    # input_variables = input_variables_to_tensor(input_variables)\n",
    "    # 1. Turn Fuzzy Variable into another Fuzzy Variable using the learned logical rules\n",
    "    # The shape here will change with better neuron membership functions\n",
    "    fuzzy_out : Float[Tensor, \"batch neurons\"] = perform_fuzzy_logic(args, input_variables, fuzzy_weights)\n",
    "    # 2. Turn the Fuzzy Variable into a crisp value using defuzzification\n",
    "    neuron_activations : Float[Tensor, \"batch neurons\"] = perform_defuzzification(fuzzy_out)\n",
    "    return neuron_activations\n",
    "\n",
    "def get_variables(resid_mid : Float[Tensor, \"batch d_model\"], layer) -> Float[Tensor, \"batch variables\"]:\n",
    "    probe_results_all = []\n",
    "    for probe_name in [\"linear\", \"flipped\", \"placed\"]:\n",
    "        probe = get_probe(layer, probe_name, \"mid\")[0]\n",
    "        probe_result = einops.einsum(resid_mid, probe, \"batch d_model, d_model rows cols options -> batch rows cols options\").softmax(dim=-1)\n",
    "        probe_result = einops.rearrange(probe_result, \"batch rows cols options -> batch (rows cols options)\")\n",
    "        probe_results_all.append(probe_result)\n",
    "    probe_results_all = t.cat(probe_results_all, dim=-1)\n",
    "    return probe_results_all\n",
    "\n",
    "def init_weights(args : FuzzyTrainingArgs) -> Float[Tensor, \"neurons rules variables\"]:\n",
    "    if args.manual:\n",
    "        fuzzy_weights = t.zeros(size=(args.neurons_count, args.rules_count, 8, 8, 2), requires_grad=False).to(device)\n",
    "        \"\"\"fuzzy_weights[0, 0, *label_to_tuple(\"E2\"), 5] = 1\n",
    "        # fuzzy_weights[0, 0, *label_to_tuple(\"E3\"), 3] = 1\n",
    "        # fuzzy_weights[0, 0, *label_to_tuple(\"F2\"), 3] = 1\n",
    "\n",
    "        fuzzy_weights[0, 1, *label_to_tuple(\"F3\"), 5] = 1\n",
    "        # fuzzy_weights[0, 1, *label_to_tuple(\"E3\"), 3] = 1\n",
    "        # fuzzy_weights[0, 1, *label_to_tuple(\"F2\"), 3] = 1\n",
    "\n",
    "        fuzzy_weights[0, 2, *label_to_tuple(\"C5\"), 5] = 1\n",
    "        # fuzzy_weights[0, 2, *label_to_tuple(\"E3\"), 3] = 1\n",
    "        # fuzzy_weights[0, 2, *label_to_tuple(\"F2\"), 3] = 1\n",
    "\n",
    "        fuzzy_weights[0, 3, *label_to_tuple(\"B6\"), 5] = 1\n",
    "        # fuzzy_weights[0, 3, *label_to_tuple(\"E3\"), 3] = 1\n",
    "        # fuzzy_weights[0, 3, *label_to_tuple(\"F2\"), 3] = 1\n",
    "\n",
    "        fuzzy_weights[0, 4, *label_to_tuple(\"F5\"), 5] = 1\n",
    "        fuzzy_weights[0, 4, *label_to_tuple(\"E4\"), YOURS] = 1\n",
    "        fuzzy_weights[0, 4, *label_to_tuple(\"F3\"), YOURS] = 1\n",
    "        fuzzy_weights[0, 4, *label_to_tuple(\"E2\"), YOURS] = 1\n",
    "        fuzzy_weights[0, 4, *label_to_tuple(\"F1\"), YOURS] = 1\"\"\"\n",
    "        fuzzy_weights[0, 0, *label_to_tuple(\"B4\"), PLACED] = 1\n",
    "\n",
    "        fuzzy_weights = einops.rearrange(fuzzy_weights, \"neurons rules rows cols options -> neurons rules (rows cols options)\")\n",
    "        fuzzy_weights = t.cat([t.zeros(size=(args.neurons_count, args.rules_count, 64 * (3 + 2)), requires_grad=False).to(device), fuzzy_weights], dim=-1)\n",
    "        print(fuzzy_weights.shape)\n",
    "        fuzzy_weights.requires_grad = True\n",
    "        return fuzzy_weights\n",
    "    \n",
    "    # fuzzy_weights = t.randn(size=(neurons_count, rules_count, variables_count), requires_grad=False).to(device)\n",
    "    # fuzzy_weights = fuzzy_weights.uniform_(-1, 1)\n",
    "    if args.initialization == \"ones\":\n",
    "        fuzzy_weights = t.ones(size=(args.neurons_count, args.rules_count, args.variables_count), requires_grad=False).to(device)\n",
    "    elif args.initialization == \"zeros\":\n",
    "        fuzzy_weights = t.zeros(size=(args.neurons_count, args.rules_count, args.variables_count), requires_grad=False).to(device)\n",
    "    elif args.initialization == \"uniform\":\n",
    "        fuzzy_weights = t.randn(size=(args.neurons_count, args.rules_count, args.variables_count), requires_grad=False).to(device)\n",
    "        # fuzzy_weights = fuzzy_weights.uniform_(-1, 1) + EPSILON\n",
    "    else:\n",
    "        raise NotImplementedError\n",
    "    fuzzy_weights.requires_grad = True\n",
    "    return fuzzy_weights\n",
    "\n",
    "# Try one inference\n",
    "\"\"\"variables = get_variables(focus_cache[module])\n",
    "variables = variables[:2, :]\n",
    "weights = init_weights()\n",
    "neuron_activations = full_fuzzy_inference(variables, weights)\n",
    "print(neuron_activations[0, 0, neuron])\"\"\""
   ]
  },
  {
   "cell_type": "code",
   "execution_count": 114,
   "metadata": {},
   "outputs": [],
   "source": [
    "# TODO: Make undersampling good so that the batchsize is constant ..."
   ]
  },
  {
   "cell_type": "code",
   "execution_count": 172,
   "metadata": {},
   "outputs": [],
   "source": [
    "def get_rules_dict(weights : Float[Tensor, \"neurons rules variables\"], neuron : int = 0, thresh : float = 0.1):\n",
    "    # TODO: Why did I put all these dimensions together in the first place? I guess it is easier to understand this way\n",
    "    weights = t.sigmoid(weights)\n",
    "    variables_expanded = {\n",
    "        \"linear\" : einops.rearrange(weights[:, :, :64*3], \"neurons rules (rows cols options) -> neurons rules rows cols options\", rows=8, cols=8, options=3)[neuron],\n",
    "        \"flipped\" : einops.rearrange(weights[:, :, 64*3:64*5], \"neurons rules (rows cols options) -> neurons rules rows cols options\", rows=8, cols=8, options=2)[neuron],\n",
    "        \"placed\" : einops.rearrange(weights[:, :, 64*5:], \"neurons rules (rows cols options) -> neurons rules rows cols options\", rows=8, cols=8, options=2)[neuron],\n",
    "    }\n",
    "    out_dict = {}\n",
    "    for probe_name, variables in variables_expanded.items():\n",
    "        rules, rows, cols, options = variables.shape\n",
    "        for rule in range(rules):\n",
    "            for row in range(rows):\n",
    "                for col in range(cols):\n",
    "                    for option in range(options):\n",
    "                        weight = variables[rule, row, col, option]\n",
    "                        if weight > thresh or thresh == -1:\n",
    "                            label = tuple_to_label((row, col))\n",
    "                            option_str = get_direction_str(probe_name, option)\n",
    "                            out_dict[(rule,label,probe_name, option_str)] = weight.item()\n",
    "                            # print(f\"Rule {rule}, {tuple_to_label((row, col))} is {probe_name} {option}: {weight}\")\n",
    "    return out_dict"
   ]
  },
  {
   "cell_type": "code",
   "execution_count": 186,
   "metadata": {},
   "outputs": [],
   "source": [
    "EPSILON = 1e-6\n",
    "class FuzzyTrainer:\n",
    "    def __init__(self, model: HookedTransformer, args: FuzzyTrainingArgs, train_base_resid):\n",
    "        self.model = model\n",
    "        self.args = args\n",
    "        self.probe_names = {\n",
    "            \"linear\" : [\"empty\", \"yours\", \"mine\"],\n",
    "            \"flipped\" : [\"flipped\", \"not_flipped\"],\n",
    "            \"placed\" : [\"placed\", \"not_placed\"],\n",
    "        }\n",
    "        self.weights : Float[Tensor, \"neurons rules variables\"] = init_weights(self.args)\n",
    "\n",
    "    def training_step(self, indices: Int[Tensor, \"game_idx\"], train_or_val=\"train\") -> t.Tensor:\n",
    "        # Get the game sequences and convert them to state stacks\n",
    "        games_int = board_seqs_int[indices.cpu()]\n",
    "        games_str = board_seqs_string[indices.cpu()]\n",
    "        batch_size = self.args.batch_size\n",
    "        game_len = self.args.length\n",
    "        # options = self.args.options\n",
    "        d_model = 512\n",
    "\n",
    "        # games_int = tensor of game sequences, each of length 60\n",
    "        # This is the input to our model\n",
    "        assert isinstance(games_int, Int[Tensor, f\"batch={batch_size} full_game_len=60\"])\n",
    "\n",
    "        # SOLUTION\n",
    "        with t.inference_mode():\n",
    "            _, cache = model.run_with_cache(\n",
    "                games_int[:, :-1].to(device),\n",
    "                return_type=None,\n",
    "                names_filter=lambda name: name == f\"blocks.{self.args.layer}.ln2.hook_normalized\" or name == f\"blocks.{self.args.layer}.mlp.hook_post\"\n",
    "            )\n",
    "            # TODO: Make undersampling work for generell case\n",
    "            resid_layer_norm = cache[f\"blocks.{self.args.layer}.ln2.hook_normalized\"][:, self.args.pos_start: self.args.pos_end]\n",
    "            neuron_activations : Float[Tensor, \"batch pos neurons\"] = cache[\"mlp_post\", self.args.layer][:, self.args.pos_start: self.args.pos_end]\n",
    "            resid_layer_norm = einops.rearrange(resid_layer_norm, \"batch pos d_model -> (batch pos) d_model\")\n",
    "            neuron_activations = einops.rearrange(neuron_activations, \"batch pos neurons -> (batch pos) neurons\")\n",
    "            if self.args.single_neuron is not None:\n",
    "                neuron_activations = neuron_activations[:, self.args.single_neuron]\n",
    "                # neuron_activations = einops.rearrange(neuron_activations, \"batch pos neurons -> (batch pos neurons)\")\n",
    "                if self.args.undersampling:\n",
    "                    count_positive = (neuron_activations > 0).sum()\n",
    "                    count_all = len(neuron_activations)\n",
    "                    neuron_activations_ideces = neuron_activations.argsort(descending=True)\n",
    "                    positive_indeces = neuron_activations_ideces[:count_positive]\n",
    "                    negative_indeces = neuron_activations_ideces[t.randperm(count_all - count_positive).to(device)[:int(count_positive * self.args.undersampling_factor)] + count_positive]\n",
    "                    indeces = t.cat([positive_indeces, negative_indeces])\n",
    "                    neuron_activations = neuron_activations[indeces]\n",
    "                    resid_layer_norm = resid_layer_norm[indeces]\n",
    "            # resid = cache[\"resid_mid\", layer][:, self.args.pos_start: self.args.pos_end]\n",
    "        resid_layer_norm = resid_layer_norm.clone().detach().to(device)\n",
    "        variables : Float[Tensor, \"batch variables\"] = get_variables(resid_layer_norm, self.args.layer)\n",
    "        sigmoid_weights = t.sigmoid(self.weights)\n",
    "        neuron_activations_pred : Float[Tensor, \"batch neurons\"] = full_fuzzy_inference(self.args, variables, sigmoid_weights)\n",
    "        if self.args.single_neuron is not None:\n",
    "            neuron_activations_pred = neuron_activations_pred[:, 0]\n",
    "\n",
    "        mse : Float[Tensor, \"batch neurons\"] = (neuron_activations - neuron_activations_pred)**2\n",
    "        mse_loss = mse.mean()\n",
    "\n",
    "        # TODO: Create a fancy loss function that everything at ones (Forces the weights to be either 0 or 1, but allowing transitions between these two)\n",
    "        # This is currently a placeholder\n",
    "        sparcity_loss = 1 * sigmoid_weights.abs().mean()\n",
    "        spacity_loss2 = 2 * (sigmoid_weights.clamp(max=0).abs() + (sigmoid_weights.clamp(min=0, max=0.5) - 0).abs() + ((sigmoid_weights - 1).clamp(min=-0.5, max=0)).abs() + ((sigmoid_weights - 1).clamp(min=0)).abs()).mean()\n",
    "        loss = mse_loss + self.args.sparcity_factor * sparcity_loss + self.args.only_0_1_factor * spacity_loss2\n",
    "        \n",
    "        if train_or_val == \"train\" and self.step % 10 == 0 and not self.args.debug:\n",
    "            wandb.log({f\"{train_or_val}_loss\": loss.item()}, step=self.step)\n",
    "        if self.step % 50 == 0 and self.args.debug: \n",
    "            rules_dict = get_rules_dict(self.weights, thresh=0.05)\n",
    "            print(self.step)\n",
    "            print(rules_dict)\n",
    "        self.step += 1\n",
    "\n",
    "        return loss\n",
    "        \n",
    "    def save_weights(self, object, path):\n",
    "        folder_path = \"/\".join(path.split(\"/\")[:-1])\n",
    "        if not os.path.exists(folder_path):\n",
    "            os.makedirs(folder_path)\n",
    "        with open(path, \"wb\") as f:\n",
    "            pickle.dump(object, f)\n",
    "\n",
    "    def shuffle_indices(self, start, num_games):\n",
    "        '''\n",
    "        Helper function\n",
    "        '''\n",
    "        n_indices = num_games - (num_games % self.args.batch_size)\n",
    "        full_train_indices = t.randperm(num_games)[:n_indices] + start\n",
    "        full_train_indices = einops.rearrange(full_train_indices, \"(batch_idx game_idx) -> batch_idx game_idx\", game_idx=self.args.batch_size)\n",
    "        return full_train_indices\n",
    "    \n",
    "    def shuffle_training_indices(self):\n",
    "        '''\n",
    "        Returns the tensors you'll use to index into the training data.\n",
    "        '''\n",
    "        return self.shuffle_indices(0, self.args.num_games_train)\n",
    "\n",
    "    def train(self):\n",
    "        print(f\"Training Probe: {self.args.full_run_name}\")\n",
    "        self.step = 0\n",
    "        if not self.args.debug:\n",
    "            wandb.login()\n",
    "            wandb.init(project=self.args.wandb_project, name=self.args.full_run_name, config=self.args)\n",
    "\n",
    "        optimizer = t.optim.AdamW([self.weights], lr=self.args.lr, betas=self.args.betas)\n",
    "\n",
    "        for epoch in range(self.args.max_epochs):\n",
    "            full_train_indices = self.shuffle_training_indices()\n",
    "            progress_bar_train = tqdm(full_train_indices)\n",
    "            for indices in progress_bar_train:\n",
    "                loss = self.training_step(indices)\n",
    "                loss.backward()\n",
    "                optimizer.step()\n",
    "                optimizer.zero_grad()\n",
    "                progress_bar_train.set_description(f\"Train_Loss = {loss:.4f}\")\n",
    "\n",
    "        if not self.args.debug:\n",
    "            wandb.finish()\n",
    "            self.save_weights(self.weights, f\"fuzzy_weights/_{self.args.full_run_name}.pth\")\n",
    "        print(\"Probe Trained and Saved\")"
   ]
  },
  {
   "cell_type": "code",
   "execution_count": 203,
   "metadata": {},
   "outputs": [
    {
     "name": "stdout",
     "output_type": "stream",
     "text": [
      "Training Probe: Fuzzy_L0_0\n"
     ]
    },
    {
     "data": {
      "application/vnd.jupyter.widget-view+json": {
       "model_id": "feaeadfc1e5a4286a94352a875400e63",
       "version_major": 2,
       "version_minor": 0
      },
      "text/plain": [
       "  0%|          | 0/1000 [00:00<?, ?it/s]"
      ]
     },
     "metadata": {},
     "output_type": "display_data"
    },
    {
     "name": "stdout",
     "output_type": "stream",
     "text": [
      "0\n",
      "{(0, 'A0', 'linear', 'empty'): 0.8729075789451599, (0, 'A0', 'linear', 'yours'): 0.8156703114509583, (0, 'A0', 'linear', 'mine'): 0.7110968828201294, (0, 'A1', 'linear', 'empty'): 0.10856136679649353, (0, 'A1', 'linear', 'yours'): 0.6633856296539307, (0, 'A1', 'linear', 'mine'): 0.22538696229457855, (0, 'A2', 'linear', 'empty'): 0.4892348051071167, (0, 'A2', 'linear', 'yours'): 0.16733035445213318, (0, 'A2', 'linear', 'mine'): 0.32035622000694275, (0, 'A3', 'linear', 'empty'): 0.8387184143066406, (0, 'A3', 'linear', 'yours'): 0.4031207859516144, (0, 'A3', 'linear', 'mine'): 0.19724434614181519, (0, 'A4', 'linear', 'empty'): 0.325659841299057, (0, 'A4', 'linear', 'yours'): 0.36367931962013245, (0, 'A4', 'linear', 'mine'): 0.3167303502559662, (0, 'A5', 'linear', 'empty'): 0.6818844079971313, (0, 'A5', 'linear', 'yours'): 0.8378499150276184, (0, 'A5', 'linear', 'mine'): 0.46018514037132263, (0, 'A6', 'linear', 'empty'): 0.378152459859848, (0, 'A6', 'linear', 'yours'): 0.6081611514091492, (0, 'A6', 'linear', 'mine'): 0.31905215978622437, (0, 'A7', 'linear', 'empty'): 0.7461755275726318, (0, 'A7', 'linear', 'yours'): 0.69014573097229, (0, 'A7', 'linear', 'mine'): 0.8429867029190063, (0, 'B0', 'linear', 'empty'): 0.7823007106781006, (0, 'B0', 'linear', 'yours'): 0.7852323651313782, (0, 'B0', 'linear', 'mine'): 0.6480472087860107, (0, 'B1', 'linear', 'empty'): 0.7916232347488403, (0, 'B1', 'linear', 'yours'): 0.44235146045684814, (0, 'B1', 'linear', 'mine'): 0.5104383230209351, (0, 'B2', 'linear', 'empty'): 0.4374357759952545, (0, 'B2', 'linear', 'yours'): 0.7026311159133911, (0, 'B2', 'linear', 'mine'): 0.20025943219661713, (0, 'B3', 'linear', 'empty'): 0.2949971556663513, (0, 'B3', 'linear', 'yours'): 0.44438955187797546, (0, 'B3', 'linear', 'mine'): 0.8477886915206909, (0, 'B4', 'linear', 'empty'): 0.5790513753890991, (0, 'B4', 'linear', 'yours'): 0.3954358994960785, (0, 'B4', 'linear', 'mine'): 0.575840413570404, (0, 'B5', 'linear', 'empty'): 0.31548646092414856, (0, 'B5', 'linear', 'yours'): 0.1739952564239502, (0, 'B5', 'linear', 'mine'): 0.7301996946334839, (0, 'B6', 'linear', 'empty'): 0.2932221591472626, (0, 'B6', 'linear', 'yours'): 0.3540824353694916, (0, 'B6', 'linear', 'mine'): 0.21854746341705322, (0, 'B7', 'linear', 'empty'): 0.8930981159210205, (0, 'B7', 'linear', 'yours'): 0.22536805272102356, (0, 'B7', 'linear', 'mine'): 0.3803851306438446, (0, 'C0', 'linear', 'empty'): 0.28621816635131836, (0, 'C0', 'linear', 'yours'): 0.3411582112312317, (0, 'C0', 'linear', 'mine'): 0.5194960832595825, (0, 'C1', 'linear', 'empty'): 0.6285050511360168, (0, 'C1', 'linear', 'yours'): 0.3803667724132538, (0, 'C1', 'linear', 'mine'): 0.7669857740402222, (0, 'C2', 'linear', 'empty'): 0.3070371448993683, (0, 'C2', 'linear', 'yours'): 0.32388103008270264, (0, 'C2', 'linear', 'mine'): 0.1973012387752533, (0, 'C3', 'linear', 'empty'): 0.5089999437332153, (0, 'C3', 'linear', 'yours'): 0.4841359853744507, (0, 'C3', 'linear', 'mine'): 0.6627593040466309, (0, 'C4', 'linear', 'empty'): 0.4755677580833435, (0, 'C4', 'linear', 'yours'): 0.8634911179542542, (0, 'C4', 'linear', 'mine'): 0.23423734307289124, (0, 'C5', 'linear', 'empty'): 0.7995604872703552, (0, 'C5', 'linear', 'yours'): 0.8092483878135681, (0, 'C5', 'linear', 'mine'): 0.7019106149673462, (0, 'C6', 'linear', 'empty'): 0.9018610119819641, (0, 'C6', 'linear', 'yours'): 0.6278876662254333, (0, 'C6', 'linear', 'mine'): 0.5858041644096375, (0, 'C7', 'linear', 'empty'): 0.45082658529281616, (0, 'C7', 'linear', 'yours'): 0.2583448886871338, (0, 'C7', 'linear', 'mine'): 0.7821083664894104, (0, 'D0', 'linear', 'empty'): 0.45705851912498474, (0, 'D0', 'linear', 'yours'): 0.6280332207679749, (0, 'D0', 'linear', 'mine'): 0.5141516923904419, (0, 'D1', 'linear', 'empty'): 0.6049889326095581, (0, 'D1', 'linear', 'yours'): 0.639917254447937, (0, 'D1', 'linear', 'mine'): 0.3448569178581238, (0, 'D2', 'linear', 'empty'): 0.09917737543582916, (0, 'D2', 'linear', 'yours'): 0.3206463158130646, (0, 'D2', 'linear', 'mine'): 0.5027170181274414, (0, 'D3', 'linear', 'empty'): 0.41611504554748535, (0, 'D3', 'linear', 'yours'): 0.20739832520484924, (0, 'D3', 'linear', 'mine'): 0.3576977849006653, (0, 'D4', 'linear', 'empty'): 0.6309252381324768, (0, 'D4', 'linear', 'yours'): 0.6282280683517456, (0, 'D4', 'linear', 'mine'): 0.7579001784324646, (0, 'D5', 'linear', 'empty'): 0.5129080414772034, (0, 'D5', 'linear', 'yours'): 0.6778594255447388, (0, 'D5', 'linear', 'mine'): 0.3818780481815338, (0, 'D6', 'linear', 'empty'): 0.25932762026786804, (0, 'D6', 'linear', 'yours'): 0.646547794342041, (0, 'D6', 'linear', 'mine'): 0.15157578885555267, (0, 'D7', 'linear', 'empty'): 0.3041170537471771, (0, 'D7', 'linear', 'yours'): 0.7916175127029419, (0, 'D7', 'linear', 'mine'): 0.6185832619667053, (0, 'E0', 'linear', 'empty'): 0.07519178092479706, (0, 'E0', 'linear', 'yours'): 0.6196354031562805, (0, 'E0', 'linear', 'mine'): 0.6866678595542908, (0, 'E1', 'linear', 'empty'): 0.5071613192558289, (0, 'E1', 'linear', 'yours'): 0.6549241542816162, (0, 'E1', 'linear', 'mine'): 0.6418142914772034, (0, 'E2', 'linear', 'empty'): 0.7440120577812195, (0, 'E2', 'linear', 'yours'): 0.3893243074417114, (0, 'E2', 'linear', 'mine'): 0.45381516218185425, (0, 'E3', 'linear', 'empty'): 0.6797795295715332, (0, 'E3', 'linear', 'yours'): 0.5998302698135376, (0, 'E3', 'linear', 'mine'): 0.5444984436035156, (0, 'E4', 'linear', 'empty'): 0.5658428072929382, (0, 'E4', 'linear', 'yours'): 0.7812846302986145, (0, 'E4', 'linear', 'mine'): 0.4996722638607025, (0, 'E5', 'linear', 'empty'): 0.424676775932312, (0, 'E5', 'linear', 'yours'): 0.18892212212085724, (0, 'E5', 'linear', 'mine'): 0.47443851828575134, (0, 'E6', 'linear', 'empty'): 0.3545374870300293, (0, 'E6', 'linear', 'yours'): 0.6170524954795837, (0, 'E6', 'linear', 'mine'): 0.6739658117294312, (0, 'E7', 'linear', 'empty'): 0.5227721929550171, (0, 'E7', 'linear', 'yours'): 0.403942346572876, (0, 'E7', 'linear', 'mine'): 0.6289970874786377, (0, 'F0', 'linear', 'empty'): 0.4968286454677582, (0, 'F0', 'linear', 'yours'): 0.5599197745323181, (0, 'F0', 'linear', 'mine'): 0.5330854058265686, (0, 'F1', 'linear', 'empty'): 0.6822736859321594, (0, 'F1', 'linear', 'yours'): 0.7493239045143127, (0, 'F1', 'linear', 'mine'): 0.584164023399353, (0, 'F2', 'linear', 'empty'): 0.6725999116897583, (0, 'F2', 'linear', 'yours'): 0.6014253497123718, (0, 'F2', 'linear', 'mine'): 0.873377799987793, (0, 'F3', 'linear', 'empty'): 0.7333847284317017, (0, 'F3', 'linear', 'yours'): 0.19210244715213776, (0, 'F3', 'linear', 'mine'): 0.24418698251247406, (0, 'F4', 'linear', 'empty'): 0.46604371070861816, (0, 'F4', 'linear', 'yours'): 0.8369093537330627, (0, 'F4', 'linear', 'mine'): 0.6580779552459717, (0, 'F5', 'linear', 'empty'): 0.6401475667953491, (0, 'F5', 'linear', 'yours'): 0.7579563856124878, (0, 'F5', 'linear', 'mine'): 0.5046409964561462, (0, 'F6', 'linear', 'empty'): 0.14114588499069214, (0, 'F6', 'linear', 'yours'): 0.7161482572555542, (0, 'F6', 'linear', 'mine'): 0.4072502851486206, (0, 'F7', 'linear', 'empty'): 0.7375139594078064, (0, 'F7', 'linear', 'yours'): 0.3347785174846649, (0, 'F7', 'linear', 'mine'): 0.654032826423645, (0, 'G0', 'linear', 'empty'): 0.27434784173965454, (0, 'G0', 'linear', 'yours'): 0.7228128910064697, (0, 'G0', 'linear', 'mine'): 0.8346848487854004, (0, 'G1', 'linear', 'empty'): 0.8100922107696533, (0, 'G1', 'linear', 'yours'): 0.566965639591217, (0, 'G1', 'linear', 'mine'): 0.4475991725921631, (0, 'G2', 'linear', 'empty'): 0.32457998394966125, (0, 'G2', 'linear', 'yours'): 0.526050865650177, (0, 'G2', 'linear', 'mine'): 0.586314857006073, (0, 'G3', 'linear', 'empty'): 0.7246397137641907, (0, 'G3', 'linear', 'yours'): 0.3856372535228729, (0, 'G3', 'linear', 'mine'): 0.8326878547668457, (0, 'G4', 'linear', 'empty'): 0.07726363092660904, (0, 'G4', 'linear', 'yours'): 0.3971046507358551, (0, 'G4', 'linear', 'mine'): 0.23228493332862854, (0, 'G5', 'linear', 'empty'): 0.6926072835922241, (0, 'G5', 'linear', 'yours'): 0.13004587590694427, (0, 'G5', 'linear', 'mine'): 0.5568966269493103, (0, 'G6', 'linear', 'empty'): 0.5062145590782166, (0, 'G6', 'linear', 'yours'): 0.4143647849559784, (0, 'G6', 'linear', 'mine'): 0.5712205767631531, (0, 'G7', 'linear', 'empty'): 0.32500988245010376, (0, 'G7', 'linear', 'yours'): 0.5435940623283386, (0, 'G7', 'linear', 'mine'): 0.25087907910346985, (0, 'H0', 'linear', 'empty'): 0.16767989099025726, (0, 'H0', 'linear', 'yours'): 0.7946028709411621, (0, 'H0', 'linear', 'mine'): 0.7839487195014954, (0, 'H1', 'linear', 'empty'): 0.5130708813667297, (0, 'H1', 'linear', 'yours'): 0.17554163932800293, (0, 'H1', 'linear', 'mine'): 0.6806381344795227, (0, 'H2', 'linear', 'empty'): 0.6847136616706848, (0, 'H2', 'linear', 'yours'): 0.8835550546646118, (0, 'H2', 'linear', 'mine'): 0.5089534521102905, (0, 'H3', 'linear', 'empty'): 0.5301107168197632, (0, 'H3', 'linear', 'yours'): 0.3088153302669525, (0, 'H3', 'linear', 'mine'): 0.4482913017272949, (0, 'H4', 'linear', 'empty'): 0.28252971172332764, (0, 'H4', 'linear', 'yours'): 0.16924799978733063, (0, 'H4', 'linear', 'mine'): 0.24305999279022217, (0, 'H5', 'linear', 'empty'): 0.37224504351615906, (0, 'H5', 'linear', 'yours'): 0.3731391429901123, (0, 'H5', 'linear', 'mine'): 0.1822352409362793, (0, 'H6', 'linear', 'empty'): 0.12712135910987854, (0, 'H6', 'linear', 'yours'): 0.5319193601608276, (0, 'H6', 'linear', 'mine'): 0.7355396747589111, (0, 'H7', 'linear', 'empty'): 0.36452093720436096, (0, 'H7', 'linear', 'yours'): 0.6691343784332275, (0, 'H7', 'linear', 'mine'): 0.6703737378120422, (1, 'A0', 'linear', 'empty'): 0.20038585364818573, (1, 'A0', 'linear', 'yours'): 0.6193692088127136, (1, 'A0', 'linear', 'mine'): 0.2685425579547882, (1, 'A1', 'linear', 'empty'): 0.5082364678382874, (1, 'A1', 'linear', 'yours'): 0.3943183422088623, (1, 'A1', 'linear', 'mine'): 0.27253517508506775, (1, 'A2', 'linear', 'empty'): 0.3447813391685486, (1, 'A2', 'linear', 'yours'): 0.6956331133842468, (1, 'A2', 'linear', 'mine'): 0.830812394618988, (1, 'A3', 'linear', 'empty'): 0.4698333740234375, (1, 'A3', 'linear', 'yours'): 0.38153907656669617, (1, 'A3', 'linear', 'mine'): 0.5282942056655884, (1, 'A4', 'linear', 'empty'): 0.5192781090736389, (1, 'A4', 'linear', 'yours'): 0.284385085105896, (1, 'A4', 'linear', 'mine'): 0.22062994539737701, (1, 'A5', 'linear', 'empty'): 0.7476377487182617, (1, 'A5', 'linear', 'yours'): 0.7496302127838135, (1, 'A5', 'linear', 'mine'): 0.33543747663497925, (1, 'A6', 'linear', 'empty'): 0.5165048241615295, (1, 'A6', 'linear', 'yours'): 0.49980655312538147, (1, 'A6', 'linear', 'mine'): 0.5404266715049744, (1, 'A7', 'linear', 'empty'): 0.7678049802780151, (1, 'A7', 'linear', 'yours'): 0.21313121914863586, (1, 'A7', 'linear', 'mine'): 0.19718657433986664, (1, 'B0', 'linear', 'empty'): 0.2573629319667816, (1, 'B0', 'linear', 'yours'): 0.5758426785469055, (1, 'B0', 'linear', 'mine'): 0.6023001074790955, (1, 'B1', 'linear', 'empty'): 0.32796257734298706, (1, 'B1', 'linear', 'yours'): 0.9444840550422668, (1, 'B1', 'linear', 'mine'): 0.8758249878883362, (1, 'B2', 'linear', 'empty'): 0.8858142495155334, (1, 'B2', 'linear', 'yours'): 0.25198787450790405, (1, 'B2', 'linear', 'mine'): 0.8350287079811096, (1, 'B3', 'linear', 'empty'): 0.7008326053619385, (1, 'B3', 'linear', 'yours'): 0.40119948983192444, (1, 'B3', 'linear', 'mine'): 0.35232681035995483, (1, 'B4', 'linear', 'empty'): 0.3756401240825653, (1, 'B4', 'linear', 'yours'): 0.35012492537498474, (1, 'B4', 'linear', 'mine'): 0.16150932013988495, (1, 'B5', 'linear', 'empty'): 0.2618819773197174, (1, 'B5', 'linear', 'yours'): 0.389288067817688, (1, 'B5', 'linear', 'mine'): 0.48176655173301697, (1, 'B6', 'linear', 'empty'): 0.3663389980792999, (1, 'B6', 'linear', 'yours'): 0.24185189604759216, (1, 'B6', 'linear', 'mine'): 0.38965752720832825, (1, 'B7', 'linear', 'empty'): 0.49238699674606323, (1, 'B7', 'linear', 'yours'): 0.594603955745697, (1, 'B7', 'linear', 'mine'): 0.48880940675735474, (1, 'C0', 'linear', 'empty'): 0.7649374008178711, (1, 'C0', 'linear', 'yours'): 0.41789326071739197, (1, 'C0', 'linear', 'mine'): 0.6568987369537354, (1, 'C1', 'linear', 'empty'): 0.5237218141555786, (1, 'C1', 'linear', 'yours'): 0.3202577531337738, (1, 'C1', 'linear', 'mine'): 0.3436140716075897, (1, 'C2', 'linear', 'empty'): 0.2171654999256134, (1, 'C2', 'linear', 'yours'): 0.8771045804023743, (1, 'C2', 'linear', 'mine'): 0.2761083245277405, (1, 'C3', 'linear', 'empty'): 0.07130631059408188, (1, 'C3', 'linear', 'yours'): 0.6703155636787415, (1, 'C3', 'linear', 'mine'): 0.6942029595375061, (1, 'C4', 'linear', 'empty'): 0.6505473852157593, (1, 'C4', 'linear', 'yours'): 0.6042453646659851, (1, 'C4', 'linear', 'mine'): 0.4160771071910858, (1, 'C5', 'linear', 'empty'): 0.626673698425293, (1, 'C5', 'linear', 'yours'): 0.2036283016204834, (1, 'C5', 'linear', 'mine'): 0.5480903387069702, (1, 'C6', 'linear', 'empty'): 0.3519829511642456, (1, 'C6', 'linear', 'yours'): 0.5407182574272156, (1, 'C6', 'linear', 'mine'): 0.8190866708755493, (1, 'C7', 'linear', 'empty'): 0.5528776049613953, (1, 'C7', 'linear', 'yours'): 0.3262486755847931, (1, 'C7', 'linear', 'mine'): 0.27832743525505066, (1, 'D0', 'linear', 'empty'): 0.6275438666343689, (1, 'D0', 'linear', 'yours'): 0.38606879115104675, (1, 'D0', 'linear', 'mine'): 0.5454683899879456, (1, 'D1', 'linear', 'empty'): 0.4045214056968689, (1, 'D1', 'linear', 'yours'): 0.14298975467681885, (1, 'D1', 'linear', 'mine'): 0.5233063697814941, (1, 'D2', 'linear', 'empty'): 0.12839141488075256, (1, 'D2', 'linear', 'yours'): 0.34475499391555786, (1, 'D2', 'linear', 'mine'): 0.7931225299835205, (1, 'D3', 'linear', 'empty'): 0.21547546982765198, (1, 'D3', 'linear', 'yours'): 0.6827079057693481, (1, 'D3', 'linear', 'mine'): 0.6559732556343079, (1, 'D4', 'linear', 'empty'): 0.5874214768409729, (1, 'D4', 'linear', 'yours'): 0.06614399701356888, (1, 'D4', 'linear', 'mine'): 0.18884436786174774, (1, 'D5', 'linear', 'empty'): 0.27463382482528687, (1, 'D5', 'linear', 'yours'): 0.563168466091156, (1, 'D5', 'linear', 'mine'): 0.45535439252853394, (1, 'D6', 'linear', 'empty'): 0.7683974504470825, (1, 'D6', 'linear', 'yours'): 0.3943132758140564, (1, 'D6', 'linear', 'mine'): 0.733075737953186, (1, 'D7', 'linear', 'empty'): 0.648177981376648, (1, 'D7', 'linear', 'yours'): 0.7722111344337463, (1, 'D7', 'linear', 'mine'): 0.35259678959846497, (1, 'E0', 'linear', 'empty'): 0.14961767196655273, (1, 'E0', 'linear', 'yours'): 0.46870309114456177, (1, 'E0', 'linear', 'mine'): 0.20329686999320984, (1, 'E1', 'linear', 'empty'): 0.7524545192718506, (1, 'E1', 'linear', 'yours'): 0.34914568066596985, (1, 'E1', 'linear', 'mine'): 0.31234458088874817, (1, 'E2', 'linear', 'empty'): 0.4581422209739685, (1, 'E2', 'linear', 'yours'): 0.8379854559898376, (1, 'E2', 'linear', 'mine'): 0.8815392851829529, (1, 'E3', 'linear', 'empty'): 0.22216364741325378, (1, 'E3', 'linear', 'yours'): 0.7537789940834045, (1, 'E3', 'linear', 'mine'): 0.8548648357391357, (1, 'E4', 'linear', 'empty'): 0.11188194900751114, (1, 'E4', 'linear', 'yours'): 0.3983066976070404, (1, 'E4', 'linear', 'mine'): 0.27349627017974854, (1, 'E5', 'linear', 'empty'): 0.49159231781959534, (1, 'E5', 'linear', 'yours'): 0.8652383685112, (1, 'E5', 'linear', 'mine'): 0.9322733879089355, (1, 'E6', 'linear', 'empty'): 0.591230034828186, (1, 'E6', 'linear', 'yours'): 0.593944787979126, (1, 'E6', 'linear', 'mine'): 0.5495815873146057, (1, 'E7', 'linear', 'empty'): 0.44124993681907654, (1, 'E7', 'linear', 'yours'): 0.5752755403518677, (1, 'E7', 'linear', 'mine'): 0.3893425166606903, (1, 'F0', 'linear', 'empty'): 0.6163073778152466, (1, 'F0', 'linear', 'yours'): 0.6570863127708435, (1, 'F0', 'linear', 'mine'): 0.7624643445014954, (1, 'F1', 'linear', 'empty'): 0.5042338967323303, (1, 'F1', 'linear', 'yours'): 0.6300862431526184, (1, 'F1', 'linear', 'mine'): 0.3535352945327759, (1, 'F2', 'linear', 'empty'): 0.4565449357032776, (1, 'F2', 'linear', 'yours'): 0.647759735584259, (1, 'F2', 'linear', 'mine'): 0.30933815240859985, (1, 'F3', 'linear', 'empty'): 0.2458442747592926, (1, 'F3', 'linear', 'yours'): 0.5487547516822815, (1, 'F3', 'linear', 'mine'): 0.31399279832839966, (1, 'F4', 'linear', 'empty'): 0.14308756589889526, (1, 'F4', 'linear', 'yours'): 0.4349769055843353, (1, 'F4', 'linear', 'mine'): 0.3916813135147095, (1, 'F5', 'linear', 'empty'): 0.8988789319992065, (1, 'F5', 'linear', 'yours'): 0.38222917914390564, (1, 'F5', 'linear', 'mine'): 0.2163316309452057, (1, 'F6', 'linear', 'empty'): 0.676751434803009, (1, 'F6', 'linear', 'yours'): 0.5084728598594666, (1, 'F6', 'linear', 'mine'): 0.4225549101829529, (1, 'F7', 'linear', 'empty'): 0.436796098947525, (1, 'F7', 'linear', 'yours'): 0.23049183189868927, (1, 'F7', 'linear', 'mine'): 0.2780388593673706, (1, 'G0', 'linear', 'empty'): 0.5153143405914307, (1, 'G0', 'linear', 'yours'): 0.521302342414856, (1, 'G0', 'linear', 'mine'): 0.6787700653076172, (1, 'G1', 'linear', 'empty'): 0.4592004120349884, (1, 'G1', 'linear', 'yours'): 0.28729525208473206, (1, 'G1', 'linear', 'mine'): 0.5776163339614868, (1, 'G2', 'linear', 'empty'): 0.6910532116889954, (1, 'G2', 'linear', 'yours'): 0.2472449541091919, (1, 'G2', 'linear', 'mine'): 0.6220274567604065, (1, 'G3', 'linear', 'empty'): 0.23148319125175476, (1, 'G3', 'linear', 'yours'): 0.5317355394363403, (1, 'G3', 'linear', 'mine'): 0.6083462238311768, (1, 'G4', 'linear', 'empty'): 0.6542496085166931, (1, 'G4', 'linear', 'yours'): 0.5398623943328857, (1, 'G4', 'linear', 'mine'): 0.8544324040412903, (1, 'G5', 'linear', 'empty'): 0.6517675518989563, (1, 'G5', 'linear', 'yours'): 0.1331196129322052, (1, 'G5', 'linear', 'mine'): 0.9109999537467957, (1, 'G6', 'linear', 'empty'): 0.2848782539367676, (1, 'G6', 'linear', 'yours'): 0.6606326699256897, (1, 'G6', 'linear', 'mine'): 0.3916778266429901, (1, 'G7', 'linear', 'empty'): 0.08964669704437256, (1, 'G7', 'linear', 'yours'): 0.7849218845367432, (1, 'G7', 'linear', 'mine'): 0.5554394125938416, (1, 'H0', 'linear', 'empty'): 0.2997809648513794, (1, 'H0', 'linear', 'yours'): 0.8387479782104492, (1, 'H0', 'linear', 'mine'): 0.8320978283882141, (1, 'H1', 'linear', 'empty'): 0.48036277294158936, (1, 'H1', 'linear', 'yours'): 0.6061233878135681, (1, 'H1', 'linear', 'mine'): 0.591060996055603, (1, 'H2', 'linear', 'empty'): 0.6821776628494263, (1, 'H2', 'linear', 'yours'): 0.764807939529419, (1, 'H2', 'linear', 'mine'): 0.3980046212673187, (1, 'H3', 'linear', 'empty'): 0.6267756223678589, (1, 'H3', 'linear', 'yours'): 0.33147159218788147, (1, 'H3', 'linear', 'mine'): 0.3935675024986267, (1, 'H4', 'linear', 'empty'): 0.5353103876113892, (1, 'H4', 'linear', 'yours'): 0.5177684426307678, (1, 'H4', 'linear', 'mine'): 0.6372280120849609, (1, 'H5', 'linear', 'empty'): 0.35924655199050903, (1, 'H5', 'linear', 'yours'): 0.2527853846549988, (1, 'H5', 'linear', 'mine'): 0.4039759039878845, (1, 'H6', 'linear', 'empty'): 0.6926655173301697, (1, 'H6', 'linear', 'yours'): 0.8172937035560608, (1, 'H6', 'linear', 'mine'): 0.510972261428833, (1, 'H7', 'linear', 'empty'): 0.8091232776641846, (1, 'H7', 'linear', 'yours'): 0.5577483773231506, (1, 'H7', 'linear', 'mine'): 0.623985230922699, (0, 'A0', 'flipped', 'flipped'): 0.8550025820732117, (0, 'A0', 'flipped', 'not_flipped'): 0.28464198112487793, (0, 'A1', 'flipped', 'flipped'): 0.7236120700836182, (0, 'A1', 'flipped', 'not_flipped'): 0.4165347218513489, (0, 'A2', 'flipped', 'flipped'): 0.23589225113391876, (0, 'A2', 'flipped', 'not_flipped'): 0.5885700583457947, (0, 'A3', 'flipped', 'flipped'): 0.61745685338974, (0, 'A3', 'flipped', 'not_flipped'): 0.7947338223457336, (0, 'A4', 'flipped', 'flipped'): 0.6285642385482788, (0, 'A4', 'flipped', 'not_flipped'): 0.8920677304267883, (0, 'A5', 'flipped', 'flipped'): 0.37267524003982544, (0, 'A5', 'flipped', 'not_flipped'): 0.2825179100036621, (0, 'A6', 'flipped', 'flipped'): 0.546158492565155, (0, 'A6', 'flipped', 'not_flipped'): 0.7443481087684631, (0, 'A7', 'flipped', 'flipped'): 0.7869327068328857, (0, 'A7', 'flipped', 'not_flipped'): 0.6129748821258545, (0, 'B0', 'flipped', 'flipped'): 0.3069054186344147, (0, 'B0', 'flipped', 'not_flipped'): 0.2647860646247864, (0, 'B1', 'flipped', 'flipped'): 0.37873440980911255, (0, 'B1', 'flipped', 'not_flipped'): 0.356118381023407, (0, 'B2', 'flipped', 'flipped'): 0.53850257396698, (0, 'B2', 'flipped', 'not_flipped'): 0.6084418296813965, (0, 'B3', 'flipped', 'flipped'): 0.46299469470977783, (0, 'B3', 'flipped', 'not_flipped'): 0.08960697799921036, (0, 'B4', 'flipped', 'flipped'): 0.40179404616355896, (0, 'B4', 'flipped', 'not_flipped'): 0.7465859651565552, (0, 'B5', 'flipped', 'flipped'): 0.14419643580913544, (0, 'B5', 'flipped', 'not_flipped'): 0.8187713623046875, (0, 'B6', 'flipped', 'flipped'): 0.5767457485198975, (0, 'B6', 'flipped', 'not_flipped'): 0.3774680197238922, (0, 'B7', 'flipped', 'flipped'): 0.7378847002983093, (0, 'B7', 'flipped', 'not_flipped'): 0.844177782535553, (0, 'C0', 'flipped', 'flipped'): 0.4988737404346466, (0, 'C0', 'flipped', 'not_flipped'): 0.8411477208137512, (0, 'C1', 'flipped', 'flipped'): 0.5384042263031006, (0, 'C1', 'flipped', 'not_flipped'): 0.25726109743118286, (0, 'C2', 'flipped', 'flipped'): 0.360623836517334, (0, 'C2', 'flipped', 'not_flipped'): 0.520879864692688, (0, 'C3', 'flipped', 'flipped'): 0.5986649394035339, (0, 'C3', 'flipped', 'not_flipped'): 0.8796592354774475, (0, 'C4', 'flipped', 'flipped'): 0.4820108711719513, (0, 'C4', 'flipped', 'not_flipped'): 0.2877996861934662, (0, 'C5', 'flipped', 'flipped'): 0.11418256908655167, (0, 'C5', 'flipped', 'not_flipped'): 0.2533063292503357, (0, 'C6', 'flipped', 'flipped'): 0.504405677318573, (0, 'C6', 'flipped', 'not_flipped'): 0.5195465087890625, (0, 'C7', 'flipped', 'flipped'): 0.5481399893760681, (0, 'C7', 'flipped', 'not_flipped'): 0.6010095477104187, (0, 'D0', 'flipped', 'flipped'): 0.2831011712551117, (0, 'D0', 'flipped', 'not_flipped'): 0.5686120986938477, (0, 'D1', 'flipped', 'flipped'): 0.36844924092292786, (0, 'D1', 'flipped', 'not_flipped'): 0.6136265993118286, (0, 'D2', 'flipped', 'flipped'): 0.294861376285553, (0, 'D2', 'flipped', 'not_flipped'): 0.49322083592414856, (0, 'D3', 'flipped', 'flipped'): 0.4125955402851105, (0, 'D3', 'flipped', 'not_flipped'): 0.8121218681335449, (0, 'D4', 'flipped', 'flipped'): 0.7782391309738159, (0, 'D4', 'flipped', 'not_flipped'): 0.3285047113895416, (0, 'D5', 'flipped', 'flipped'): 0.7013886570930481, (0, 'D5', 'flipped', 'not_flipped'): 0.6255074143409729, (0, 'D6', 'flipped', 'flipped'): 0.6317498087882996, (0, 'D6', 'flipped', 'not_flipped'): 0.637725293636322, (0, 'D7', 'flipped', 'flipped'): 0.6238194108009338, (0, 'D7', 'flipped', 'not_flipped'): 0.555385172367096, (0, 'E0', 'flipped', 'flipped'): 0.335038959980011, (0, 'E0', 'flipped', 'not_flipped'): 0.6372756361961365, (0, 'E1', 'flipped', 'flipped'): 0.18135781586170197, (0, 'E1', 'flipped', 'not_flipped'): 0.1664961576461792, (0, 'E2', 'flipped', 'flipped'): 0.18557147681713104, (0, 'E2', 'flipped', 'not_flipped'): 0.6064165830612183, (0, 'E3', 'flipped', 'flipped'): 0.46878430247306824, (0, 'E3', 'flipped', 'not_flipped'): 0.6861364841461182, (0, 'E4', 'flipped', 'flipped'): 0.16815392673015594, (0, 'E4', 'flipped', 'not_flipped'): 0.47274455428123474, (0, 'E5', 'flipped', 'flipped'): 0.6715490818023682, (0, 'E5', 'flipped', 'not_flipped'): 0.5097835659980774, (0, 'E6', 'flipped', 'flipped'): 0.786819577217102, (0, 'E6', 'flipped', 'not_flipped'): 0.5613377094268799, (0, 'E7', 'flipped', 'flipped'): 0.12157587707042694, (0, 'E7', 'flipped', 'not_flipped'): 0.5044739246368408, (0, 'F0', 'flipped', 'flipped'): 0.20112110674381256, (0, 'F0', 'flipped', 'not_flipped'): 0.6515371799468994, (0, 'F1', 'flipped', 'flipped'): 0.07011330127716064, (0, 'F1', 'flipped', 'not_flipped'): 0.4940004050731659, (0, 'F2', 'flipped', 'flipped'): 0.4694897532463074, (0, 'F2', 'flipped', 'not_flipped'): 0.3214763402938843, (0, 'F3', 'flipped', 'flipped'): 0.8467466235160828, (0, 'F3', 'flipped', 'not_flipped'): 0.5144765973091125, (0, 'F4', 'flipped', 'flipped'): 0.7672737240791321, (0, 'F4', 'flipped', 'not_flipped'): 0.8740544319152832, (0, 'F5', 'flipped', 'flipped'): 0.674522876739502, (0, 'F5', 'flipped', 'not_flipped'): 0.7272855043411255, (0, 'F6', 'flipped', 'flipped'): 0.6021884679794312, (0, 'F6', 'flipped', 'not_flipped'): 0.760707676410675, (0, 'F7', 'flipped', 'flipped'): 0.5668607950210571, (0, 'F7', 'flipped', 'not_flipped'): 0.49084368348121643, (0, 'G0', 'flipped', 'flipped'): 0.7257755398750305, (0, 'G0', 'flipped', 'not_flipped'): 0.2659870982170105, (0, 'G1', 'flipped', 'flipped'): 0.3677416145801544, (0, 'G1', 'flipped', 'not_flipped'): 0.39149677753448486, (0, 'G2', 'flipped', 'flipped'): 0.42223191261291504, (0, 'G2', 'flipped', 'not_flipped'): 0.4677313268184662, (0, 'G3', 'flipped', 'flipped'): 0.32850325107574463, (0, 'G3', 'flipped', 'not_flipped'): 0.4881117343902588, (0, 'G4', 'flipped', 'flipped'): 0.8829578161239624, (0, 'G4', 'flipped', 'not_flipped'): 0.563140869140625, (0, 'G5', 'flipped', 'flipped'): 0.7183796763420105, (0, 'G5', 'flipped', 'not_flipped'): 0.6708950996398926, (0, 'G6', 'flipped', 'flipped'): 0.49205929040908813, (0, 'G6', 'flipped', 'not_flipped'): 0.5253883600234985, (0, 'G7', 'flipped', 'flipped'): 0.7930327653884888, (0, 'G7', 'flipped', 'not_flipped'): 0.671123206615448, (0, 'H0', 'flipped', 'flipped'): 0.5996010303497314, (0, 'H0', 'flipped', 'not_flipped'): 0.328720360994339, (0, 'H1', 'flipped', 'flipped'): 0.6971428990364075, (0, 'H1', 'flipped', 'not_flipped'): 0.2771695554256439, (0, 'H2', 'flipped', 'flipped'): 0.6115029454231262, (0, 'H2', 'flipped', 'not_flipped'): 0.7766226530075073, (0, 'H3', 'flipped', 'flipped'): 0.09058535844087601, (0, 'H3', 'flipped', 'not_flipped'): 0.21637938916683197, (0, 'H4', 'flipped', 'flipped'): 0.5448507070541382, (0, 'H4', 'flipped', 'not_flipped'): 0.10652272403240204, (0, 'H5', 'flipped', 'flipped'): 0.46652933955192566, (0, 'H5', 'flipped', 'not_flipped'): 0.26100173592567444, (0, 'H6', 'flipped', 'flipped'): 0.31762176752090454, (0, 'H6', 'flipped', 'not_flipped'): 0.4861828684806824, (0, 'H7', 'flipped', 'flipped'): 0.7693865895271301, (0, 'H7', 'flipped', 'not_flipped'): 0.27240124344825745, (1, 'A0', 'flipped', 'flipped'): 0.21777215600013733, (1, 'A0', 'flipped', 'not_flipped'): 0.49039426445961, (1, 'A1', 'flipped', 'flipped'): 0.8714455366134644, (1, 'A1', 'flipped', 'not_flipped'): 0.5836668610572815, (1, 'A2', 'flipped', 'flipped'): 0.5312233567237854, (1, 'A2', 'flipped', 'not_flipped'): 0.31817933917045593, (1, 'A3', 'flipped', 'flipped'): 0.23315881192684174, (1, 'A3', 'flipped', 'not_flipped'): 0.6847326159477234, (1, 'A4', 'flipped', 'flipped'): 0.6119983196258545, (1, 'A4', 'flipped', 'not_flipped'): 0.5622577667236328, (1, 'A5', 'flipped', 'flipped'): 0.2040620744228363, (1, 'A5', 'flipped', 'not_flipped'): 0.8583720326423645, (1, 'A6', 'flipped', 'flipped'): 0.4814230501651764, (1, 'A6', 'flipped', 'not_flipped'): 0.4609195291996002, (1, 'A7', 'flipped', 'flipped'): 0.2950783967971802, (1, 'A7', 'flipped', 'not_flipped'): 0.3449985384941101, (1, 'B0', 'flipped', 'flipped'): 0.39781850576400757, (1, 'B0', 'flipped', 'not_flipped'): 0.33398011326789856, (1, 'B1', 'flipped', 'flipped'): 0.44276294112205505, (1, 'B1', 'flipped', 'not_flipped'): 0.10226716101169586, (1, 'B2', 'flipped', 'flipped'): 0.5219067931175232, (1, 'B2', 'flipped', 'not_flipped'): 0.749093770980835, (1, 'B3', 'flipped', 'flipped'): 0.4706037640571594, (1, 'B3', 'flipped', 'not_flipped'): 0.42588919401168823, (1, 'B4', 'flipped', 'flipped'): 0.2781572639942169, (1, 'B4', 'flipped', 'not_flipped'): 0.4768982529640198, (1, 'B5', 'flipped', 'flipped'): 0.26567956805229187, (1, 'B5', 'flipped', 'not_flipped'): 0.4980810880661011, (1, 'B6', 'flipped', 'flipped'): 0.37326833605766296, (1, 'B6', 'flipped', 'not_flipped'): 0.6983689069747925, (1, 'B7', 'flipped', 'flipped'): 0.5146264433860779, (1, 'B7', 'flipped', 'not_flipped'): 0.15865789353847504, (1, 'C0', 'flipped', 'flipped'): 0.8937493562698364, (1, 'C0', 'flipped', 'not_flipped'): 0.17973452806472778, (1, 'C1', 'flipped', 'flipped'): 0.5346265435218811, (1, 'C1', 'flipped', 'not_flipped'): 0.23509591817855835, (1, 'C2', 'flipped', 'flipped'): 0.37057727575302124, (1, 'C2', 'flipped', 'not_flipped'): 0.7236252427101135, (1, 'C3', 'flipped', 'flipped'): 0.5694084763526917, (1, 'C3', 'flipped', 'not_flipped'): 0.36081716418266296, (1, 'C4', 'flipped', 'flipped'): 0.05766942724585533, (1, 'C4', 'flipped', 'not_flipped'): 0.3293437659740448, (1, 'C5', 'flipped', 'flipped'): 0.6279709339141846, (1, 'C5', 'flipped', 'not_flipped'): 0.1530923843383789, (1, 'C6', 'flipped', 'flipped'): 0.6981461048126221, (1, 'C6', 'flipped', 'not_flipped'): 0.43294504284858704, (1, 'C7', 'flipped', 'flipped'): 0.5307266712188721, (1, 'C7', 'flipped', 'not_flipped'): 0.7059410214424133, (1, 'D0', 'flipped', 'flipped'): 0.5377604365348816, (1, 'D0', 'flipped', 'not_flipped'): 0.6768631935119629, (1, 'D1', 'flipped', 'flipped'): 0.5678545832633972, (1, 'D1', 'flipped', 'not_flipped'): 0.9388445615768433, (1, 'D2', 'flipped', 'flipped'): 0.6063523888587952, (1, 'D2', 'flipped', 'not_flipped'): 0.4233143925666809, (1, 'D3', 'flipped', 'flipped'): 0.4758734703063965, (1, 'D3', 'flipped', 'not_flipped'): 0.8237444162368774, (1, 'D4', 'flipped', 'flipped'): 0.4728405773639679, (1, 'D4', 'flipped', 'not_flipped'): 0.39677897095680237, (1, 'D5', 'flipped', 'flipped'): 0.8082126975059509, (1, 'D5', 'flipped', 'not_flipped'): 0.3302968740463257, (1, 'D6', 'flipped', 'flipped'): 0.22236251831054688, (1, 'D6', 'flipped', 'not_flipped'): 0.9536929726600647, (1, 'D7', 'flipped', 'flipped'): 0.7935172915458679, (1, 'D7', 'flipped', 'not_flipped'): 0.7017419934272766, (1, 'E0', 'flipped', 'flipped'): 0.5798187851905823, (1, 'E0', 'flipped', 'not_flipped'): 0.6097012162208557, (1, 'E1', 'flipped', 'flipped'): 0.820973813533783, (1, 'E1', 'flipped', 'not_flipped'): 0.7825331091880798, (1, 'E2', 'flipped', 'flipped'): 0.4709925055503845, (1, 'E2', 'flipped', 'not_flipped'): 0.7974668741226196, (1, 'E3', 'flipped', 'flipped'): 0.3820306062698364, (1, 'E3', 'flipped', 'not_flipped'): 0.27084052562713623, (1, 'E4', 'flipped', 'flipped'): 0.20356157422065735, (1, 'E4', 'flipped', 'not_flipped'): 0.5020514130592346, (1, 'E5', 'flipped', 'flipped'): 0.39990517497062683, (1, 'E5', 'flipped', 'not_flipped'): 0.32935893535614014, (1, 'E6', 'flipped', 'flipped'): 0.4134844243526459, (1, 'E6', 'flipped', 'not_flipped'): 0.5938125252723694, (1, 'E7', 'flipped', 'flipped'): 0.730921745300293, (1, 'E7', 'flipped', 'not_flipped'): 0.7816291451454163, (1, 'F0', 'flipped', 'flipped'): 0.7230202555656433, (1, 'F0', 'flipped', 'not_flipped'): 0.5258544087409973, (1, 'F1', 'flipped', 'flipped'): 0.6961508393287659, (1, 'F1', 'flipped', 'not_flipped'): 0.8901358246803284, (1, 'F2', 'flipped', 'flipped'): 0.6889702081680298, (1, 'F2', 'flipped', 'not_flipped'): 0.5693708658218384, (1, 'F3', 'flipped', 'flipped'): 0.5464773774147034, (1, 'F3', 'flipped', 'not_flipped'): 0.5877600908279419, (1, 'F4', 'flipped', 'flipped'): 0.5226441025733948, (1, 'F4', 'flipped', 'not_flipped'): 0.8509733080863953, (1, 'F5', 'flipped', 'flipped'): 0.21994252502918243, (1, 'F5', 'flipped', 'not_flipped'): 0.5960807204246521, (1, 'F6', 'flipped', 'flipped'): 0.584888756275177, (1, 'F6', 'flipped', 'not_flipped'): 0.18861055374145508, (1, 'F7', 'flipped', 'flipped'): 0.1833735853433609, (1, 'F7', 'flipped', 'not_flipped'): 0.4448786675930023, (1, 'G0', 'flipped', 'flipped'): 0.556071937084198, (1, 'G0', 'flipped', 'not_flipped'): 0.48069828748703003, (1, 'G1', 'flipped', 'flipped'): 0.7282366752624512, (1, 'G1', 'flipped', 'not_flipped'): 0.7821664810180664, (1, 'G2', 'flipped', 'flipped'): 0.5715436339378357, (1, 'G2', 'flipped', 'not_flipped'): 0.7045478820800781, (1, 'G3', 'flipped', 'flipped'): 0.3079531788825989, (1, 'G3', 'flipped', 'not_flipped'): 0.19312041997909546, (1, 'G4', 'flipped', 'flipped'): 0.612780749797821, (1, 'G4', 'flipped', 'not_flipped'): 0.6297006607055664, (1, 'G5', 'flipped', 'flipped'): 0.2039998322725296, (1, 'G5', 'flipped', 'not_flipped'): 0.8761264681816101, (1, 'G6', 'flipped', 'flipped'): 0.854269802570343, (1, 'G6', 'flipped', 'not_flipped'): 0.27174273133277893, (1, 'G7', 'flipped', 'flipped'): 0.22494539618492126, (1, 'G7', 'flipped', 'not_flipped'): 0.09096778184175491, (1, 'H0', 'flipped', 'flipped'): 0.4997478127479553, (1, 'H0', 'flipped', 'not_flipped'): 0.2995533347129822, (1, 'H1', 'flipped', 'flipped'): 0.15984362363815308, (1, 'H1', 'flipped', 'not_flipped'): 0.5759795904159546, (1, 'H2', 'flipped', 'flipped'): 0.7653152346611023, (1, 'H2', 'flipped', 'not_flipped'): 0.5807923674583435, (1, 'H3', 'flipped', 'flipped'): 0.40385040640830994, (1, 'H3', 'flipped', 'not_flipped'): 0.9455447196960449, (1, 'H4', 'flipped', 'flipped'): 0.6951621770858765, (1, 'H4', 'flipped', 'not_flipped'): 0.6896207928657532, (1, 'H5', 'flipped', 'flipped'): 0.8686439990997314, (1, 'H5', 'flipped', 'not_flipped'): 0.6441592574119568, (1, 'H6', 'flipped', 'flipped'): 0.5174065828323364, (1, 'H6', 'flipped', 'not_flipped'): 0.16750222444534302, (1, 'H7', 'flipped', 'flipped'): 0.3941688537597656, (1, 'H7', 'flipped', 'not_flipped'): 0.6401830315589905, (0, 'A0', 'placed', 'placed'): 0.6066942811012268, (0, 'A0', 'placed', 'not_placed'): 0.32801195979118347, (0, 'A1', 'placed', 'placed'): 0.7418046593666077, (0, 'A1', 'placed', 'not_placed'): 0.18947933614253998, (0, 'A2', 'placed', 'placed'): 0.6142353415489197, (0, 'A2', 'placed', 'not_placed'): 0.5917952060699463, (0, 'A3', 'placed', 'placed'): 0.4988357722759247, (0, 'A3', 'placed', 'not_placed'): 0.5198768973350525, (0, 'A4', 'placed', 'placed'): 0.5934337377548218, (0, 'A4', 'placed', 'not_placed'): 0.6693206429481506, (0, 'A5', 'placed', 'placed'): 0.1513955295085907, (0, 'A5', 'placed', 'not_placed'): 0.3008021414279938, (0, 'A6', 'placed', 'placed'): 0.6071012616157532, (0, 'A6', 'placed', 'not_placed'): 0.5660829544067383, (0, 'A7', 'placed', 'placed'): 0.35730084776878357, (0, 'A7', 'placed', 'not_placed'): 0.520660400390625, (0, 'B0', 'placed', 'placed'): 0.7079359889030457, (0, 'B0', 'placed', 'not_placed'): 0.5454849004745483, (0, 'B1', 'placed', 'placed'): 0.6870537400245667, (0, 'B1', 'placed', 'not_placed'): 0.48552393913269043, (0, 'B2', 'placed', 'placed'): 0.637993335723877, (0, 'B2', 'placed', 'not_placed'): 0.3296513557434082, (0, 'B3', 'placed', 'placed'): 0.38048142194747925, (0, 'B3', 'placed', 'not_placed'): 0.5125213861465454, (0, 'B4', 'placed', 'placed'): 0.6475776433944702, (0, 'B4', 'placed', 'not_placed'): 0.836288571357727, (0, 'B5', 'placed', 'placed'): 0.4788318872451782, (0, 'B5', 'placed', 'not_placed'): 0.7473280429840088, (0, 'B6', 'placed', 'placed'): 0.7206655740737915, (0, 'B6', 'placed', 'not_placed'): 0.33701401948928833, (0, 'B7', 'placed', 'placed'): 0.3605410158634186, (0, 'B7', 'placed', 'not_placed'): 0.4181634187698364, (0, 'C0', 'placed', 'placed'): 0.3113226592540741, (0, 'C0', 'placed', 'not_placed'): 0.5927225947380066, (0, 'C1', 'placed', 'placed'): 0.5219632983207703, (0, 'C1', 'placed', 'not_placed'): 0.22417788207530975, (0, 'C2', 'placed', 'placed'): 0.42061400413513184, (0, 'C2', 'placed', 'not_placed'): 0.30061355233192444, (0, 'C3', 'placed', 'placed'): 0.36555203795433044, (0, 'C3', 'placed', 'not_placed'): 0.8796331882476807, (0, 'C4', 'placed', 'placed'): 0.8699268698692322, (0, 'C4', 'placed', 'not_placed'): 0.8448911309242249, (0, 'C5', 'placed', 'placed'): 0.5070219039916992, (0, 'C5', 'placed', 'not_placed'): 0.45626962184906006, (0, 'C6', 'placed', 'placed'): 0.14510810375213623, (0, 'C6', 'placed', 'not_placed'): 0.3307839632034302, (0, 'C7', 'placed', 'placed'): 0.40259793400764465, (0, 'C7', 'placed', 'not_placed'): 0.8683915138244629, (0, 'D0', 'placed', 'placed'): 0.4456053376197815, (0, 'D0', 'placed', 'not_placed'): 0.5414794087409973, (0, 'D1', 'placed', 'placed'): 0.8951225876808167, (0, 'D1', 'placed', 'not_placed'): 0.8461303114891052, (0, 'D2', 'placed', 'placed'): 0.5856232643127441, (0, 'D2', 'placed', 'not_placed'): 0.655312716960907, (0, 'D3', 'placed', 'placed'): 0.4491874575614929, (0, 'D3', 'placed', 'not_placed'): 0.6649355888366699, (0, 'D4', 'placed', 'placed'): 0.4651346802711487, (0, 'D4', 'placed', 'not_placed'): 0.2349173128604889, (0, 'D5', 'placed', 'placed'): 0.21705196797847748, (0, 'D5', 'placed', 'not_placed'): 0.6102791428565979, (0, 'D6', 'placed', 'placed'): 0.3564656674861908, (0, 'D6', 'placed', 'not_placed'): 0.7014187574386597, (0, 'D7', 'placed', 'placed'): 0.3798775374889374, (0, 'D7', 'placed', 'not_placed'): 0.4110909402370453, (0, 'E0', 'placed', 'placed'): 0.6606907248497009, (0, 'E0', 'placed', 'not_placed'): 0.481442391872406, (0, 'E1', 'placed', 'placed'): 0.4477898180484772, (0, 'E1', 'placed', 'not_placed'): 0.5414847135543823, (0, 'E2', 'placed', 'placed'): 0.8131035566329956, (0, 'E2', 'placed', 'not_placed'): 0.2810848653316498, (0, 'E3', 'placed', 'placed'): 0.3540419936180115, (0, 'E3', 'placed', 'not_placed'): 0.4751105010509491, (0, 'E4', 'placed', 'placed'): 0.27187076210975647, (0, 'E4', 'placed', 'not_placed'): 0.07667119055986404, (0, 'E5', 'placed', 'placed'): 0.41791975498199463, (0, 'E5', 'placed', 'not_placed'): 0.6992186307907104, (0, 'E6', 'placed', 'placed'): 0.7285834550857544, (0, 'E6', 'placed', 'not_placed'): 0.4177602231502533, (0, 'E7', 'placed', 'placed'): 0.3083980977535248, (0, 'E7', 'placed', 'not_placed'): 0.6951619386672974, (0, 'F0', 'placed', 'placed'): 0.5061746835708618, (0, 'F0', 'placed', 'not_placed'): 0.2565174400806427, (0, 'F1', 'placed', 'placed'): 0.3186042904853821, (0, 'F1', 'placed', 'not_placed'): 0.3995102643966675, (0, 'F2', 'placed', 'placed'): 0.7235950231552124, (0, 'F2', 'placed', 'not_placed'): 0.46439987421035767, (0, 'F3', 'placed', 'placed'): 0.5381044149398804, (0, 'F3', 'placed', 'not_placed'): 0.49030059576034546, (0, 'F4', 'placed', 'placed'): 0.7200290560722351, (0, 'F4', 'placed', 'not_placed'): 0.17045511305332184, (0, 'F5', 'placed', 'placed'): 0.7285204529762268, (0, 'F5', 'placed', 'not_placed'): 0.7587198615074158, (0, 'F6', 'placed', 'placed'): 0.4646064043045044, (0, 'F6', 'placed', 'not_placed'): 0.4313509464263916, (0, 'F7', 'placed', 'placed'): 0.45184630155563354, (0, 'F7', 'placed', 'not_placed'): 0.6849859356880188, (0, 'G0', 'placed', 'placed'): 0.664603054523468, (0, 'G0', 'placed', 'not_placed'): 0.21005573868751526, (0, 'G1', 'placed', 'placed'): 0.3737689256668091, (0, 'G1', 'placed', 'not_placed'): 0.6456984281539917, (0, 'G2', 'placed', 'placed'): 0.38456398248672485, (0, 'G2', 'placed', 'not_placed'): 0.35236871242523193, (0, 'G3', 'placed', 'placed'): 0.48845404386520386, (0, 'G3', 'placed', 'not_placed'): 0.16168557107448578, (0, 'G4', 'placed', 'placed'): 0.38146671652793884, (0, 'G4', 'placed', 'not_placed'): 0.32293978333473206, (0, 'G5', 'placed', 'placed'): 0.5779298543930054, (0, 'G5', 'placed', 'not_placed'): 0.5353298187255859, (0, 'G6', 'placed', 'placed'): 0.7378488779067993, (0, 'G6', 'placed', 'not_placed'): 0.3483186960220337, (0, 'G7', 'placed', 'placed'): 0.37400054931640625, (0, 'G7', 'placed', 'not_placed'): 0.6660314202308655, (0, 'H0', 'placed', 'placed'): 0.37895190715789795, (0, 'H0', 'placed', 'not_placed'): 0.7570571303367615, (0, 'H1', 'placed', 'placed'): 0.3865493834018707, (0, 'H1', 'placed', 'not_placed'): 0.8053351640701294, (0, 'H2', 'placed', 'placed'): 0.7002564072608948, (0, 'H2', 'placed', 'not_placed'): 0.48802947998046875, (0, 'H3', 'placed', 'placed'): 0.6611806750297546, (0, 'H3', 'placed', 'not_placed'): 0.7394245862960815, (0, 'H4', 'placed', 'placed'): 0.6659451127052307, (0, 'H4', 'placed', 'not_placed'): 0.2119961529970169, (0, 'H5', 'placed', 'placed'): 0.5094497799873352, (0, 'H5', 'placed', 'not_placed'): 0.23681677877902985, (0, 'H6', 'placed', 'placed'): 0.4742264747619629, (0, 'H6', 'placed', 'not_placed'): 0.7666469216346741, (0, 'H7', 'placed', 'placed'): 0.681504487991333, (0, 'H7', 'placed', 'not_placed'): 0.3216269910335541, (1, 'A0', 'placed', 'placed'): 0.5852499604225159, (1, 'A1', 'placed', 'placed'): 0.18866276741027832, (1, 'A1', 'placed', 'not_placed'): 0.19281436502933502, (1, 'A2', 'placed', 'placed'): 0.352714866399765, (1, 'A2', 'placed', 'not_placed'): 0.4354281723499298, (1, 'A3', 'placed', 'placed'): 0.3276091516017914, (1, 'A3', 'placed', 'not_placed'): 0.40472128987312317, (1, 'A4', 'placed', 'placed'): 0.6279313564300537, (1, 'A4', 'placed', 'not_placed'): 0.3055139183998108, (1, 'A5', 'placed', 'placed'): 0.3844105899333954, (1, 'A5', 'placed', 'not_placed'): 0.6460319757461548, (1, 'A6', 'placed', 'placed'): 0.42983824014663696, (1, 'A6', 'placed', 'not_placed'): 0.6833624839782715, (1, 'A7', 'placed', 'placed'): 0.3171516954898834, (1, 'A7', 'placed', 'not_placed'): 0.2789880633354187, (1, 'B0', 'placed', 'placed'): 0.5042292475700378, (1, 'B0', 'placed', 'not_placed'): 0.5200585722923279, (1, 'B1', 'placed', 'placed'): 0.678053617477417, (1, 'B1', 'placed', 'not_placed'): 0.7933904528617859, (1, 'B2', 'placed', 'placed'): 0.5316630601882935, (1, 'B2', 'placed', 'not_placed'): 0.07928717881441116, (1, 'B3', 'placed', 'placed'): 0.6025199294090271, (1, 'B3', 'placed', 'not_placed'): 0.8701782822608948, (1, 'B4', 'placed', 'placed'): 0.3241707682609558, (1, 'B4', 'placed', 'not_placed'): 0.5111624598503113, (1, 'B5', 'placed', 'placed'): 0.17929667234420776, (1, 'B5', 'placed', 'not_placed'): 0.5860931277275085, (1, 'B6', 'placed', 'placed'): 0.6770346164703369, (1, 'B6', 'placed', 'not_placed'): 0.8047419190406799, (1, 'B7', 'placed', 'placed'): 0.6644966006278992, (1, 'B7', 'placed', 'not_placed'): 0.46549201011657715, (1, 'C0', 'placed', 'placed'): 0.7153068780899048, (1, 'C0', 'placed', 'not_placed'): 0.6290735602378845, (1, 'C1', 'placed', 'placed'): 0.49794289469718933, (1, 'C1', 'placed', 'not_placed'): 0.1901043951511383, (1, 'C2', 'placed', 'placed'): 0.3531589210033417, (1, 'C2', 'placed', 'not_placed'): 0.45530831813812256, (1, 'C3', 'placed', 'placed'): 0.5497247576713562, (1, 'C3', 'placed', 'not_placed'): 0.22335956990718842, (1, 'C4', 'placed', 'placed'): 0.39780980348587036, (1, 'C4', 'placed', 'not_placed'): 0.8109001517295837, (1, 'C5', 'placed', 'placed'): 0.5821616053581238, (1, 'C5', 'placed', 'not_placed'): 0.2689215838909149, (1, 'C6', 'placed', 'placed'): 0.33359888195991516, (1, 'C6', 'placed', 'not_placed'): 0.3841451406478882, (1, 'C7', 'placed', 'placed'): 0.21594855189323425, (1, 'C7', 'placed', 'not_placed'): 0.7457895278930664, (1, 'D0', 'placed', 'placed'): 0.25602301955223083, (1, 'D0', 'placed', 'not_placed'): 0.12032642960548401, (1, 'D1', 'placed', 'placed'): 0.5737855434417725, (1, 'D1', 'placed', 'not_placed'): 0.6069377660751343, (1, 'D2', 'placed', 'placed'): 0.5008483529090881, (1, 'D2', 'placed', 'not_placed'): 0.2642461657524109, (1, 'D3', 'placed', 'placed'): 0.5557788014411926, (1, 'D3', 'placed', 'not_placed'): 0.3196287155151367, (1, 'D4', 'placed', 'placed'): 0.7969890832901001, (1, 'D4', 'placed', 'not_placed'): 0.42074015736579895, (1, 'D5', 'placed', 'placed'): 0.2863674461841583, (1, 'D5', 'placed', 'not_placed'): 0.8720502257347107, (1, 'D6', 'placed', 'placed'): 0.1609080731868744, (1, 'D6', 'placed', 'not_placed'): 0.8954560160636902, (1, 'D7', 'placed', 'placed'): 0.34064677357673645, (1, 'D7', 'placed', 'not_placed'): 0.5283510088920593, (1, 'E0', 'placed', 'placed'): 0.44508105516433716, (1, 'E0', 'placed', 'not_placed'): 0.67080157995224, (1, 'E1', 'placed', 'placed'): 0.5845759510993958, (1, 'E1', 'placed', 'not_placed'): 0.8304176330566406, (1, 'E2', 'placed', 'placed'): 0.41365450620651245, (1, 'E2', 'placed', 'not_placed'): 0.3874794542789459, (1, 'E3', 'placed', 'placed'): 0.22579535841941833, (1, 'E3', 'placed', 'not_placed'): 0.3547837734222412, (1, 'E4', 'placed', 'placed'): 0.4300745725631714, (1, 'E4', 'placed', 'not_placed'): 0.5132017731666565, (1, 'E5', 'placed', 'placed'): 0.6046736836433411, (1, 'E5', 'placed', 'not_placed'): 0.61835777759552, (1, 'E6', 'placed', 'placed'): 0.6196666955947876, (1, 'E6', 'placed', 'not_placed'): 0.7326754927635193, (1, 'E7', 'placed', 'placed'): 0.35548752546310425, (1, 'E7', 'placed', 'not_placed'): 0.5969163775444031, (1, 'F0', 'placed', 'placed'): 0.6948657035827637, (1, 'F0', 'placed', 'not_placed'): 0.29192936420440674, (1, 'F1', 'placed', 'placed'): 0.8145882487297058, (1, 'F1', 'placed', 'not_placed'): 0.6982864737510681, (1, 'F2', 'placed', 'placed'): 0.450153648853302, (1, 'F2', 'placed', 'not_placed'): 0.7300652265548706, (1, 'F3', 'placed', 'placed'): 0.6726481318473816, (1, 'F3', 'placed', 'not_placed'): 0.46651750802993774, (1, 'F4', 'placed', 'placed'): 0.1967392861843109, (1, 'F4', 'placed', 'not_placed'): 0.08619832247495651, (1, 'F5', 'placed', 'placed'): 0.4278830587863922, (1, 'F5', 'placed', 'not_placed'): 0.4666847884654999, (1, 'F6', 'placed', 'placed'): 0.46084699034690857, (1, 'F6', 'placed', 'not_placed'): 0.7573755979537964, (1, 'F7', 'placed', 'placed'): 0.43769514560699463, (1, 'F7', 'placed', 'not_placed'): 0.8416365385055542, (1, 'G0', 'placed', 'placed'): 0.3669622540473938, (1, 'G0', 'placed', 'not_placed'): 0.103570856153965, (1, 'G1', 'placed', 'placed'): 0.15965496003627777, (1, 'G1', 'placed', 'not_placed'): 0.33989906311035156, (1, 'G2', 'placed', 'placed'): 0.5904415249824524, (1, 'G2', 'placed', 'not_placed'): 0.40150418877601624, (1, 'G3', 'placed', 'placed'): 0.6216930747032166, (1, 'G3', 'placed', 'not_placed'): 0.0855541080236435, (1, 'G4', 'placed', 'placed'): 0.36320722103118896, (1, 'G4', 'placed', 'not_placed'): 0.35550835728645325, (1, 'G5', 'placed', 'placed'): 0.7805249094963074, (1, 'G5', 'placed', 'not_placed'): 0.7842222452163696, (1, 'G6', 'placed', 'placed'): 0.23584997653961182, (1, 'G6', 'placed', 'not_placed'): 0.48042935132980347, (1, 'G7', 'placed', 'placed'): 0.2747657001018524, (1, 'G7', 'placed', 'not_placed'): 0.8134172558784485, (1, 'H0', 'placed', 'placed'): 0.8039008975028992, (1, 'H0', 'placed', 'not_placed'): 0.21175691485404968, (1, 'H1', 'placed', 'placed'): 0.21144868433475494, (1, 'H1', 'placed', 'not_placed'): 0.2222767174243927, (1, 'H2', 'placed', 'placed'): 0.1701718121767044, (1, 'H2', 'placed', 'not_placed'): 0.07278557866811752, (1, 'H3', 'placed', 'placed'): 0.7976881265640259, (1, 'H3', 'placed', 'not_placed'): 0.368665486574173, (1, 'H4', 'placed', 'placed'): 0.6765233278274536, (1, 'H4', 'placed', 'not_placed'): 0.29932066798210144, (1, 'H5', 'placed', 'placed'): 0.5090241432189941, (1, 'H5', 'placed', 'not_placed'): 0.7926002740859985, (1, 'H6', 'placed', 'placed'): 0.7150415778160095, (1, 'H6', 'placed', 'not_placed'): 0.4064270853996277, (1, 'H7', 'placed', 'placed'): 0.17367881536483765, (1, 'H7', 'placed', 'not_placed'): 0.3098214864730835}\n",
      "50\n",
      "{(0, 'A0', 'linear', 'empty'): 0.05676186457276344, (0, 'A3', 'linear', 'empty'): 0.052011214196681976, (0, 'A5', 'linear', 'yours'): 0.05190753936767578, (0, 'A7', 'linear', 'mine'): 0.05253076180815697, (0, 'B3', 'linear', 'mine'): 0.05313640087842941, (0, 'B7', 'linear', 'empty'): 0.0604793019592762, (0, 'C4', 'linear', 'yours'): 0.05529981851577759, (0, 'C6', 'linear', 'empty'): 0.062431082129478455, (0, 'F2', 'linear', 'mine'): 0.05683869123458862, (0, 'F4', 'linear', 'yours'): 0.05179598182439804, (0, 'G0', 'linear', 'mine'): 0.051535215228796005, (0, 'G3', 'linear', 'mine'): 0.05130457133054733, (0, 'H2', 'linear', 'yours'): 0.05860703065991402, (1, 'B1', 'linear', 'yours'): 0.07557735592126846, (1, 'B1', 'linear', 'mine'): 0.05514487996697426, (1, 'B2', 'linear', 'empty'): 0.05647335946559906, (1, 'B2', 'linear', 'mine'): 0.05030997470021248, (1, 'C2', 'linear', 'yours'): 0.055252913385629654, (1, 'E2', 'linear', 'yours'): 0.05081374943256378, (1, 'E2', 'linear', 'mine'): 0.05655989050865173, (1, 'E3', 'linear', 'mine'): 0.053299956023693085, (1, 'E5', 'linear', 'yours'): 0.053965259343385696, (1, 'E5', 'linear', 'mine'): 0.07021388411521912, (1, 'F5', 'linear', 'empty'): 0.05875182896852493, (1, 'G4', 'linear', 'mine'): 0.05210944637656212, (1, 'G5', 'linear', 'mine'): 0.06197333708405495, (1, 'H0', 'linear', 'yours'): 0.05007287114858627, (1, 'H0', 'linear', 'mine'): 0.050107333809137344, (0, 'A0', 'flipped', 'flipped'): 0.054092708975076675, (0, 'A4', 'flipped', 'not_flipped'): 0.060265522450208664, (0, 'B7', 'flipped', 'not_flipped'): 0.052678849548101425, (0, 'C0', 'flipped', 'not_flipped'): 0.052304863929748535, (0, 'C3', 'flipped', 'not_flipped'): 0.057905182242393494, (0, 'F3', 'flipped', 'flipped'): 0.053002987056970596, (0, 'F4', 'flipped', 'not_flipped'): 0.056949980556964874, (0, 'G4', 'flipped', 'flipped'): 0.05849722772836685, (1, 'A1', 'flipped', 'flipped'): 0.0539696179330349, (1, 'A5', 'flipped', 'not_flipped'): 0.054560545831918716, (1, 'C0', 'flipped', 'flipped'): 0.05771808698773384, (1, 'D1', 'flipped', 'not_flipped'): 0.07515661418437958, (1, 'D3', 'flipped', 'not_flipped'): 0.05030953139066696, (1, 'D6', 'flipped', 'not_flipped'): 0.08476295322179794, (1, 'F1', 'flipped', 'not_flipped'): 0.05987335741519928, (1, 'F4', 'flipped', 'not_flipped'): 0.05355268716812134, (1, 'G5', 'flipped', 'not_flipped'): 0.05729604884982109, (1, 'G6', 'flipped', 'flipped'): 0.0516391359269619, (1, 'H3', 'flipped', 'not_flipped'): 0.07893616706132889, (1, 'H5', 'flipped', 'flipped'): 0.0535624660551548, (0, 'B4', 'placed', 'not_placed'): 0.051722753793001175, (0, 'C3', 'placed', 'not_placed'): 0.05790064111351967, (0, 'C4', 'placed', 'placed'): 0.056283462792634964, (0, 'C4', 'placed', 'not_placed'): 0.05276820436120033, (0, 'C7', 'placed', 'not_placed'): 0.05604294314980507, (0, 'D1', 'placed', 'placed'): 0.06090838089585304, (0, 'D1', 'placed', 'not_placed'): 0.05292464420199394, (1, 'B3', 'placed', 'not_placed'): 0.05632323771715164, (1, 'D5', 'placed', 'not_placed'): 0.05662268400192261, (1, 'D6', 'placed', 'not_placed'): 0.06098022684454918, (1, 'E1', 'placed', 'not_placed'): 0.05104628950357437, (1, 'F7', 'placed', 'not_placed'): 0.05236461013555527}\n",
      "100\n",
      "{(1, 'A1', 'linear', 'empty'): 0.10915073752403259, (1, 'A5', 'linear', 'empty'): 0.18179261684417725, (1, 'A6', 'linear', 'empty'): 0.06214821711182594, (1, 'B4', 'linear', 'yours'): 0.631423830986023, (1, 'B7', 'linear', 'empty'): 0.05420205369591713, (1, 'C3', 'linear', 'yours'): 0.07799220830202103, (1, 'C4', 'linear', 'yours'): 0.0849997028708458, (1, 'E3', 'linear', 'mine'): 0.08380011469125748, (1, 'H4', 'linear', 'empty'): 0.052911773324012756, (1, 'A3', 'flipped', 'not_flipped'): 0.0528985969722271, (1, 'B6', 'flipped', 'not_flipped'): 0.05400378257036209, (1, 'C7', 'flipped', 'not_flipped'): 0.0800953134894371, (1, 'D1', 'flipped', 'not_flipped'): 0.07494505494832993, (1, 'D3', 'flipped', 'not_flipped'): 0.05875341221690178, (1, 'F3', 'flipped', 'not_flipped'): 0.11431701481342316, (1, 'F4', 'flipped', 'not_flipped'): 0.06488406658172607, (1, 'B4', 'placed', 'placed'): 0.8330568075180054}\n",
      "150\n",
      "{(1, 'A5', 'linear', 'empty'): 0.050259362906217575, (1, 'B4', 'linear', 'yours'): 0.7998014092445374, (1, 'C7', 'flipped', 'not_flipped'): 0.05992434546351433, (1, 'D1', 'flipped', 'not_flipped'): 0.06309777498245239, (1, 'D3', 'flipped', 'not_flipped'): 0.054379627108573914, (1, 'F3', 'flipped', 'not_flipped'): 0.09692209959030151, (1, 'B4', 'placed', 'placed'): 0.9692248106002808}\n",
      "200\n",
      "{(1, 'B4', 'linear', 'yours'): 0.757664680480957, (1, 'F3', 'flipped', 'not_flipped'): 0.06374546885490417, (1, 'B4', 'placed', 'placed'): 0.9807595610618591}\n",
      "250\n",
      "{(1, 'B4', 'linear', 'yours'): 0.6856435537338257, (1, 'B4', 'placed', 'placed'): 0.9843177795410156}\n",
      "300\n",
      "{(1, 'B4', 'linear', 'yours'): 0.5659733414649963, (1, 'B4', 'placed', 'placed'): 0.9862793684005737}\n",
      "350\n",
      "{(1, 'B4', 'linear', 'yours'): 0.3974460959434509, (0, 'A0', 'flipped', 'flipped'): 0.05560721457004547, (0, 'A7', 'flipped', 'flipped'): 0.05273553729057312, (0, 'H7', 'flipped', 'flipped'): 0.051893774420022964, (1, 'B4', 'placed', 'placed'): 0.987525224685669}\n",
      "400\n",
      "{(0, 'D4', 'linear', 'empty'): 0.055678561329841614, (0, 'E3', 'linear', 'empty'): 0.06054091826081276, (1, 'B4', 'linear', 'yours'): 0.2398182451725006, (0, 'A0', 'flipped', 'flipped'): 0.0766034722328186, (0, 'A4', 'flipped', 'flipped'): 0.051307421177625656, (0, 'A7', 'flipped', 'flipped'): 0.07086781412363052, (0, 'B7', 'flipped', 'flipped'): 0.06293459236621857, (0, 'G0', 'flipped', 'flipped'): 0.06154359132051468, (0, 'H0', 'flipped', 'flipped'): 0.052579768002033234, (0, 'H7', 'flipped', 'flipped'): 0.06925081461668015, (0, 'A6', 'placed', 'placed'): 0.053318265825510025, (0, 'B4', 'placed', 'placed'): 0.05733564868569374, (0, 'B6', 'placed', 'placed'): 0.06457661837339401, (0, 'D1', 'placed', 'placed'): 0.05487392097711563, (0, 'E2', 'placed', 'placed'): 0.05508571118116379, (0, 'G6', 'placed', 'placed'): 0.05083120986819267, (1, 'B4', 'placed', 'placed'): 0.9883902072906494}\n",
      "450\n",
      "{(0, 'D4', 'linear', 'empty'): 0.06448734551668167, (0, 'E3', 'linear', 'empty'): 0.07321176677942276, (0, 'E4', 'linear', 'empty'): 0.054253287613391876, (1, 'B4', 'linear', 'yours'): 0.14132250845432281, (0, 'A0', 'flipped', 'flipped'): 0.1106628030538559, (0, 'A4', 'flipped', 'flipped'): 0.05565306171774864, (0, 'A7', 'flipped', 'flipped'): 0.09542607516050339, (0, 'B7', 'flipped', 'flipped'): 0.07017948478460312, (0, 'G0', 'flipped', 'flipped'): 0.0752015933394432, (0, 'H0', 'flipped', 'flipped'): 0.059379637241363525, (0, 'H7', 'flipped', 'flipped'): 0.09155119955539703, (0, 'A6', 'placed', 'placed'): 0.06056784838438034, (0, 'B4', 'placed', 'placed'): 0.06735843420028687, (0, 'B6', 'placed', 'placed'): 0.05995474383234978, (0, 'D1', 'placed', 'placed'): 0.06393361836671829, (0, 'E2', 'placed', 'placed'): 0.06386412680149078, (0, 'E6', 'placed', 'placed'): 0.05110245570540428, (0, 'G6', 'placed', 'placed'): 0.052380986511707306, (1, 'B4', 'placed', 'placed'): 0.9892091155052185}\n",
      "500\n",
      "{(0, 'D4', 'linear', 'empty'): 0.07748547196388245, (0, 'E3', 'linear', 'empty'): 0.0991809144616127, (0, 'E4', 'linear', 'empty'): 0.05833674967288971, (1, 'B4', 'linear', 'yours'): 0.09174184501171112, (0, 'A0', 'flipped', 'flipped'): 0.367719441652298, (0, 'A4', 'flipped', 'flipped'): 0.060782983899116516, (0, 'A7', 'flipped', 'flipped'): 0.20262274146080017, (0, 'B7', 'flipped', 'flipped'): 0.08007863163948059, (0, 'G0', 'flipped', 'flipped'): 0.10502482950687408, (0, 'G7', 'flipped', 'flipped'): 0.051969487220048904, (0, 'H0', 'flipped', 'flipped'): 0.06725895404815674, (0, 'H7', 'flipped', 'flipped'): 0.17657969892024994, (0, 'A6', 'placed', 'placed'): 0.05054406821727753, (0, 'B4', 'placed', 'placed'): 0.08395642787218094, (0, 'B6', 'placed', 'placed'): 0.06659707427024841, (0, 'E2', 'placed', 'placed'): 0.06489503383636475, (0, 'G6', 'placed', 'placed'): 0.05610073357820511, (1, 'B4', 'placed', 'placed'): 0.9904948472976685}\n",
      "550\n",
      "{(1, 'B4', 'linear', 'yours'): 0.06496183574199677, (0, 'A0', 'flipped', 'flipped'): 0.9866565465927124, (1, 'B4', 'placed', 'placed'): 0.9943152070045471}\n",
      "600\n",
      "{(0, 'A0', 'flipped', 'flipped'): 0.9954509139060974, (1, 'B4', 'placed', 'placed'): 0.9964998960494995}\n",
      "650\n",
      "{(0, 'A0', 'flipped', 'flipped'): 0.9969698786735535, (1, 'B4', 'placed', 'placed'): 0.9972553849220276}\n",
      "700\n",
      "{(0, 'A0', 'flipped', 'flipped'): 0.9975219368934631, (1, 'B4', 'placed', 'placed'): 0.9977688789367676}\n",
      "750\n",
      "{(1, 'C4', 'linear', 'yours'): 0.06084631755948067, (0, 'A0', 'flipped', 'flipped'): 0.9980536699295044, (1, 'B4', 'placed', 'placed'): 0.9980140924453735}\n",
      "800\n",
      "{(1, 'C4', 'linear', 'yours'): 0.056901317089796066, (0, 'A0', 'flipped', 'flipped'): 0.9982512593269348, (1, 'B4', 'placed', 'placed'): 0.9982495903968811}\n",
      "850\n",
      "{(1, 'C4', 'linear', 'yours'): 0.07802681624889374, (0, 'A0', 'flipped', 'flipped'): 0.998551070690155, (1, 'B4', 'placed', 'placed'): 0.9984777569770813}\n",
      "900\n",
      "{(1, 'C4', 'linear', 'yours'): 0.10739456862211227, (0, 'A0', 'flipped', 'flipped'): 0.9987192153930664, (1, 'B4', 'placed', 'placed'): 0.9986758828163147}\n",
      "950\n",
      "{(0, 'A0', 'flipped', 'flipped'): 0.9987859129905701, (1, 'B4', 'placed', 'placed'): 0.9988119602203369}\n",
      "Probe Trained and Saved\n"
     ]
    }
   ],
   "source": [
    "# set torch to random seed and print the seed\n",
    "# It's the same every time because of the seed (What happens at 60000?)\n",
    "\n",
    "t.manual_seed(42)\n",
    "run_number = 0\n",
    "neuron = 485 # 368\n",
    "manual = False\n",
    "\n",
    "if manual:\n",
    "    args = FuzzyTrainingArgs(run_number, layer=0, single_neuron=neuron)\n",
    "    args.num_games_train = 12800\n",
    "    args.fuzzy_and = \"min\"\n",
    "    args.batch_size = 128\n",
    "    args.undersampling_factor = 1\n",
    "    args.rules_count = 1\n",
    "    args.manual = True\n",
    "    args.debug = True\n",
    "    trainer = FuzzyTrainer(model, args, train_base_resid=False)\n",
    "    trainer.train()\n",
    "else:\n",
    "    args = FuzzyTrainingArgs(run_number, layer=0, single_neuron=neuron)\n",
    "    args.num_games_train = 1000\n",
    "    args.batch_size = 1\n",
    "    args.rules_count = 2\n",
    "    args.undersampling_factor = 1 # ONlY Positive counts ...\n",
    "    args.sparcity_factor = 10 # 0.2\n",
    "    args.only_0_1_factor = 0 # 0.1\n",
    "    args.lr = 1e-1\n",
    "    args.fuzzy_and = \"mul\"\n",
    "    args.initialization = \"uniform\"\n",
    "    args.manual = False\n",
    "    args.debug = True\n",
    "    trainer = FuzzyTrainer(model, args, train_base_resid=False)\n",
    "    trainer.train()"
   ]
  },
  {
   "cell_type": "code",
   "execution_count": null,
   "metadata": {},
   "outputs": [
    {
     "name": "stdout",
     "output_type": "stream",
     "text": [
      "Tensor x: tensor([1.0000, 2.0000, 3.0000, 0.5000, 4.0000], requires_grad=True)\n",
      "Minimum value: 0.5\n",
      "Gradients: tensor([0., 0., 0., 1., 0.])\n"
     ]
    }
   ],
   "source": [
    "x = t.tensor([1.0, 2.0, 3.0, 0.5, 4.0], requires_grad=True)\n",
    "\n",
    "# Compute the minimum value\n",
    "min_value = x.min()\n",
    "\n",
    "# Perform the backward pass\n",
    "min_value.backward()\n",
    "\n",
    "# Print the gradients\n",
    "print(f\"Tensor x: {x}\")\n",
    "print(f\"Minimum value: {min_value.item()}\")\n",
    "print(f\"Gradients: {x.grad}\")"
   ]
  },
  {
   "cell_type": "code",
   "execution_count": null,
   "metadata": {},
   "outputs": [],
   "source": [
    "# TODO: Iterate until the manual weights get to the minimum loss\n",
    "# TODO: Add a constraint, that weights aren't between 0 and 1\n",
    "# TODO: Add Very Positive: I think this could make everything nicer\n",
    "# TODO: Try setting 20 random weights to one and see if the loss is greater then my current manual weights ..."
   ]
  },
  {
   "cell_type": "code",
   "execution_count": 193,
   "metadata": {},
   "outputs": [
    {
     "name": "stdout",
     "output_type": "stream",
     "text": [
      "{(0, 'B4', 'placed', 'placed'): 0.9966287016868591}\n",
      "0.9966287016868591\n",
      "0.9966287016868591\n",
      "0.9966287016868591\n"
     ]
    }
   ],
   "source": [
    "rules_dict2 = get_rules_dict(trainer.weights, neuron=0)\n",
    "print(rules_dict2)\n",
    "print(rules_dict2[(0, \"B4\", \"placed\", \"placed\")])\n",
    "print(min(rules_dict2.values()))\n",
    "print(max(rules_dict2.values()))"
   ]
  }
 ],
 "metadata": {
  "kernelspec": {
   "display_name": "othello-env",
   "language": "python",
   "name": "python3"
  },
  "language_info": {
   "codemirror_mode": {
    "name": "ipython",
    "version": 3
   },
   "file_extension": ".py",
   "mimetype": "text/x-python",
   "name": "python",
   "nbconvert_exporter": "python",
   "pygments_lexer": "ipython3",
   "version": "3.11.9"
  }
 },
 "nbformat": 4,
 "nbformat_minor": 2
}
