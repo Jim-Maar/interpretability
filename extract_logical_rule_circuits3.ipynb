{
 "cells": [
  {
   "cell_type": "code",
   "execution_count": 26,
   "metadata": {},
   "outputs": [],
   "source": [
    "from interpreting_neurons_utils import *"
   ]
  },
  {
   "cell_type": "markdown",
   "metadata": {},
   "source": [
    "- Look at python fuzzy logic libraries\n",
    "- Experiment 1\n",
    "    - Make the general setup, works for\n",
    "        - different kinds of membership functions of output neurons\n",
    "        - different kind of cost functions\n",
    "        - different kind of input (Input are the fuzzy variables)\n",
    "    - Define single fuzzy membership functions for all neurons\n",
    "        - Look at histogram and do shit\n",
    "        - Just do Negative, Positive\n",
    "    - Use softmax for fuzzy input variables\n",
    "    - use L1 sparcity constraint, extra for > 1\n",
    "- ⇒\n",
    "    - How good is MSE of neuron activations\n",
    "    - Histogram of the weights\n",
    "    - How realistic are the rules learned (are they the same that I would come up with)"
   ]
  },
  {
   "cell_type": "markdown",
   "metadata": {},
   "source": [
    "- I think I need to do all the Fuzzy Logic shit by hand ...\n",
    "- I think it makes sense to initialize all the fuzzy weights near 0.5"
   ]
  },
  {
   "cell_type": "markdown",
   "metadata": {},
   "source": [
    "- First: not general?!\n",
    "- Training Loop\n",
    "    - Residual Stream\n",
    "    - Proberesults (Softmax)\n",
    "    - Fuzzy Inference -> Neuron Activation Pred (This is the step where things are learned)\n",
    "    - Loss\n",
    "    - Update"
   ]
  },
  {
   "cell_type": "code",
   "execution_count": 27,
   "metadata": {},
   "outputs": [],
   "source": [
    "from shapely.geometry import Polygon\n",
    "from shapely.ops import unary_union\n",
    "import pickle\n",
    "import wandb"
   ]
  },
  {
   "cell_type": "code",
   "execution_count": 28,
   "metadata": {},
   "outputs": [],
   "source": [
    "class MemberShipFunc:\n",
    "    def __init__(self, a : float, b : float, c : float, d : float, height = 1):\n",
    "        self.a = a\n",
    "        self.b = b\n",
    "        self.c = c\n",
    "        self.d = d\n",
    "        self.height = height\n",
    "        self.trapezoid = Polygon([(a, 0), (b, height), (c, height), (d, 0)])\n",
    "    \n",
    "    def __call__(self, x):\n",
    "        if x <= self.a or x >= self.d:\n",
    "            return 0\n",
    "        elif x < self.b:\n",
    "            return (x - self.a) / (self.b - self.a) * self.height\n",
    "        elif x < self.c:\n",
    "            return self.height\n",
    "        else:\n",
    "            return (self.d - x) / (self.d - self.c) * self.height\n",
    "        \n",
    "    def __str__(self):\n",
    "        return f\"MemberShipFunc({self.a}, {self.b}, {self.c}, {self.d})\"\n",
    "    \n",
    "    def __mul__(self, scalar : Float[Tensor, \"\"] | float):\n",
    "        if type(scalar) == t.Tensor:\n",
    "            scalar = scalar.item()\n",
    "        return MemberShipFunc(\n",
    "            self.a,\n",
    "            self.b,\n",
    "            self.c,\n",
    "            self.d,\n",
    "            height = scalar,\n",
    "        )\n",
    "    \n",
    "def union(member_ship_funcs : List[MemberShipFunc]):\n",
    "    return unary_union([member_ship_func.trapezoid for member_ship_func in member_ship_funcs])\n",
    "\n",
    "def defuzz(member_ship_funcs : List[MemberShipFunc]):\n",
    "    unioned = union(member_ship_funcs)\n",
    "    return unioned.centroid.x"
   ]
  },
  {
   "cell_type": "code",
   "execution_count": 29,
   "metadata": {},
   "outputs": [],
   "source": [
    "debug = False"
   ]
  },
  {
   "cell_type": "code",
   "execution_count": 30,
   "metadata": {},
   "outputs": [],
   "source": [
    "def get_centroid(trapezoid_metadata : List[Tuple[float, float, float, float]], trapezoid_heights : Float[Tensor, \"tropezoid batch pos neurons\"]):\n",
    "    # This is the Center of Sums Method. Theres also the center of Gravity Method\n",
    "    # TODO: get rid of the for loop, vectorize this\n",
    "    trapezoids, batches, positions, neurons = trapezoid_heights.shape\n",
    "    member_ship_funcs = []\n",
    "    numerrator = t.zeros((batches, positions, neurons)).to(device)\n",
    "    denomenator = t.zeros((batches, positions, neurons)).to(device)\n",
    "    for i, (a, b, c, d) in enumerate(trapezoid_metadata):\n",
    "        trapezoid_height = trapezoid_heights[i]\n",
    "        b_new = a + trapezoid_height * (b-a)\n",
    "        c_new = d - trapezoid_height * (d-c)\n",
    "        long_base = d - a\n",
    "        short_base = c_new - b_new \n",
    "        individual_centroid = ((long_base + 2 * short_base) * trapezoid_height) / (3*(long_base + short_base))\n",
    "        individual_area = (long_base + short_base) / 2 * trapezoid_height\n",
    "        numerrator += individual_centroid * individual_area\n",
    "        denomenator += individual_area\n",
    "    return numerrator / denomenator"
   ]
  },
  {
   "cell_type": "code",
   "execution_count": 31,
   "metadata": {},
   "outputs": [],
   "source": [
    "import collections, gc, resource, torch\n",
    "def debug_memory():\n",
    "    print('maxrss = {}'.format(\n",
    "        resource.getrusage(resource.RUSAGE_SELF).ru_maxrss))\n",
    "    tensors = collections.Counter(\n",
    "        (str(o.device), str(o.dtype), tuple(o.shape))\n",
    "        for o in gc.get_objects()\n",
    "        if torch.is_tensor(o)\n",
    "    )\n",
    "    for line in sorted(tensors.items()):\n",
    "        print('{}\\t{}'.format(*line))"
   ]
  },
  {
   "cell_type": "code",
   "execution_count": 32,
   "metadata": {},
   "outputs": [
    {
     "data": {
      "application/vnd.plotly.v1+json": {
       "config": {
        "plotlyServerURL": "https://plot.ly",
        "staticPlot": false
       },
       "data": [
        {
         "coloraxis": "coloraxis",
         "hovertemplate": "x: %{x}<br>y: %{y}<br>color: %{z}<extra></extra>",
         "name": "0",
         "type": "heatmap",
         "xaxis": "x9",
         "y": [
          "A",
          "B",
          "C",
          "D",
          "E",
          "F",
          "G",
          "H"
         ],
         "yaxis": "y9",
         "z": [
          [
           0,
           0,
           0,
           0,
           0,
           0,
           0,
           0
          ],
          [
           0,
           0,
           0,
           0,
           0,
           0,
           0,
           0
          ],
          [
           0,
           0,
           0,
           0,
           0,
           0,
           0,
           0
          ],
          [
           0,
           0,
           0,
           -1,
           1,
           0,
           0,
           0
          ],
          [
           0,
           0,
           0,
           1,
           1,
           1,
           0,
           0
          ],
          [
           0,
           0,
           0,
           0,
           0,
           0,
           0,
           0
          ],
          [
           0,
           0,
           0,
           0,
           0,
           0,
           0,
           0
          ],
          [
           0,
           0,
           0,
           0,
           0,
           0,
           0,
           0
          ]
         ]
        },
        {
         "coloraxis": "coloraxis",
         "hovertemplate": "x: %{x}<br>y: %{y}<br>color: %{z}<extra></extra>",
         "name": "1",
         "type": "heatmap",
         "xaxis": "x10",
         "y": [
          "A",
          "B",
          "C",
          "D",
          "E",
          "F",
          "G",
          "H"
         ],
         "yaxis": "y10",
         "z": [
          [
           0,
           0,
           0,
           0,
           0,
           0,
           0,
           0
          ],
          [
           0,
           0,
           0,
           0,
           0,
           0,
           0,
           0
          ],
          [
           0,
           0,
           0,
           0,
           0,
           0,
           0,
           0
          ],
          [
           0,
           0,
           0,
           -1,
           1,
           0,
           0,
           0
          ],
          [
           0,
           0,
           0,
           -1,
           1,
           1,
           0,
           0
          ],
          [
           0,
           0,
           0,
           -1,
           0,
           0,
           0,
           0
          ],
          [
           0,
           0,
           0,
           0,
           0,
           0,
           0,
           0
          ],
          [
           0,
           0,
           0,
           0,
           0,
           0,
           0,
           0
          ]
         ]
        },
        {
         "coloraxis": "coloraxis",
         "hovertemplate": "x: %{x}<br>y: %{y}<br>color: %{z}<extra></extra>",
         "name": "2",
         "type": "heatmap",
         "xaxis": "x11",
         "y": [
          "A",
          "B",
          "C",
          "D",
          "E",
          "F",
          "G",
          "H"
         ],
         "yaxis": "y11",
         "z": [
          [
           0,
           0,
           0,
           0,
           0,
           0,
           0,
           0
          ],
          [
           0,
           0,
           0,
           0,
           0,
           0,
           0,
           0
          ],
          [
           0,
           0,
           0,
           0,
           0,
           0,
           0,
           0
          ],
          [
           0,
           0,
           0,
           -1,
           1,
           0,
           0,
           0
          ],
          [
           0,
           0,
           1,
           1,
           1,
           1,
           0,
           0
          ],
          [
           0,
           0,
           0,
           -1,
           0,
           0,
           0,
           0
          ],
          [
           0,
           0,
           0,
           0,
           0,
           0,
           0,
           0
          ],
          [
           0,
           0,
           0,
           0,
           0,
           0,
           0,
           0
          ]
         ]
        },
        {
         "coloraxis": "coloraxis",
         "hovertemplate": "x: %{x}<br>y: %{y}<br>color: %{z}<extra></extra>",
         "name": "3",
         "type": "heatmap",
         "xaxis": "x12",
         "y": [
          "A",
          "B",
          "C",
          "D",
          "E",
          "F",
          "G",
          "H"
         ],
         "yaxis": "y12",
         "z": [
          [
           0,
           0,
           0,
           0,
           0,
           0,
           0,
           0
          ],
          [
           0,
           0,
           0,
           0,
           0,
           0,
           0,
           0
          ],
          [
           0,
           0,
           0,
           0,
           0,
           0,
           0,
           0
          ],
          [
           0,
           0,
           0,
           -1,
           1,
           0,
           0,
           0
          ],
          [
           0,
           0,
           -1,
           1,
           1,
           1,
           0,
           0
          ],
          [
           0,
           -1,
           0,
           -1,
           0,
           0,
           0,
           0
          ],
          [
           0,
           0,
           0,
           0,
           0,
           0,
           0,
           0
          ],
          [
           0,
           0,
           0,
           0,
           0,
           0,
           0,
           0
          ]
         ]
        },
        {
         "coloraxis": "coloraxis",
         "hovertemplate": "x: %{x}<br>y: %{y}<br>color: %{z}<extra></extra>",
         "name": "4",
         "type": "heatmap",
         "xaxis": "x13",
         "y": [
          "A",
          "B",
          "C",
          "D",
          "E",
          "F",
          "G",
          "H"
         ],
         "yaxis": "y13",
         "z": [
          [
           0,
           0,
           0,
           0,
           0,
           0,
           0,
           0
          ],
          [
           0,
           0,
           0,
           0,
           0,
           0,
           0,
           0
          ],
          [
           0,
           0,
           0,
           0,
           0,
           0,
           0,
           0
          ],
          [
           0,
           0,
           1,
           1,
           1,
           0,
           0,
           0
          ],
          [
           0,
           0,
           -1,
           1,
           1,
           1,
           0,
           0
          ],
          [
           0,
           -1,
           0,
           -1,
           0,
           0,
           0,
           0
          ],
          [
           0,
           0,
           0,
           0,
           0,
           0,
           0,
           0
          ],
          [
           0,
           0,
           0,
           0,
           0,
           0,
           0,
           0
          ]
         ]
        },
        {
         "coloraxis": "coloraxis",
         "hovertemplate": "x: %{x}<br>y: %{y}<br>color: %{z}<extra></extra>",
         "name": "5",
         "type": "heatmap",
         "xaxis": "x14",
         "y": [
          "A",
          "B",
          "C",
          "D",
          "E",
          "F",
          "G",
          "H"
         ],
         "yaxis": "y14",
         "z": [
          [
           0,
           0,
           0,
           0,
           0,
           0,
           0,
           0
          ],
          [
           0,
           0,
           0,
           0,
           0,
           0,
           0,
           0
          ],
          [
           0,
           0,
           -1,
           0,
           0,
           0,
           0,
           0
          ],
          [
           0,
           0,
           -1,
           1,
           1,
           0,
           0,
           0
          ],
          [
           0,
           0,
           -1,
           1,
           1,
           1,
           0,
           0
          ],
          [
           0,
           -1,
           0,
           -1,
           0,
           0,
           0,
           0
          ],
          [
           0,
           0,
           0,
           0,
           0,
           0,
           0,
           0
          ],
          [
           0,
           0,
           0,
           0,
           0,
           0,
           0,
           0
          ]
         ]
        },
        {
         "coloraxis": "coloraxis",
         "hovertemplate": "x: %{x}<br>y: %{y}<br>color: %{z}<extra></extra>",
         "name": "6",
         "type": "heatmap",
         "xaxis": "x15",
         "y": [
          "A",
          "B",
          "C",
          "D",
          "E",
          "F",
          "G",
          "H"
         ],
         "yaxis": "y15",
         "z": [
          [
           0,
           0,
           0,
           0,
           0,
           0,
           0,
           0
          ],
          [
           0,
           1,
           0,
           0,
           0,
           0,
           0,
           0
          ],
          [
           0,
           0,
           1,
           0,
           0,
           0,
           0,
           0
          ],
          [
           0,
           0,
           -1,
           1,
           1,
           0,
           0,
           0
          ],
          [
           0,
           0,
           -1,
           1,
           1,
           1,
           0,
           0
          ],
          [
           0,
           -1,
           0,
           -1,
           0,
           0,
           0,
           0
          ],
          [
           0,
           0,
           0,
           0,
           0,
           0,
           0,
           0
          ],
          [
           0,
           0,
           0,
           0,
           0,
           0,
           0,
           0
          ]
         ]
        },
        {
         "coloraxis": "coloraxis",
         "hovertemplate": "x: %{x}<br>y: %{y}<br>color: %{z}<extra></extra>",
         "name": "7",
         "type": "heatmap",
         "xaxis": "x16",
         "y": [
          "A",
          "B",
          "C",
          "D",
          "E",
          "F",
          "G",
          "H"
         ],
         "yaxis": "y16",
         "z": [
          [
           0,
           0,
           0,
           0,
           0,
           0,
           0,
           0
          ],
          [
           0,
           1,
           0,
           0,
           0,
           0,
           0,
           0
          ],
          [
           0,
           0,
           1,
           0,
           0,
           0,
           0,
           0
          ],
          [
           0,
           0,
           -1,
           1,
           1,
           0,
           0,
           0
          ],
          [
           0,
           0,
           -1,
           -1,
           1,
           1,
           0,
           0
          ],
          [
           0,
           -1,
           0,
           -1,
           -1,
           0,
           0,
           0
          ],
          [
           0,
           0,
           0,
           0,
           0,
           0,
           0,
           0
          ],
          [
           0,
           0,
           0,
           0,
           0,
           0,
           0,
           0
          ]
         ]
        },
        {
         "coloraxis": "coloraxis",
         "hovertemplate": "x: %{x}<br>y: %{y}<br>color: %{z}<extra></extra>",
         "name": "8",
         "type": "heatmap",
         "xaxis": "x",
         "y": [
          "A",
          "B",
          "C",
          "D",
          "E",
          "F",
          "G",
          "H"
         ],
         "yaxis": "y",
         "z": [
          [
           0,
           0,
           0,
           0,
           0,
           0,
           0,
           0
          ],
          [
           0,
           1,
           0,
           0,
           0,
           0,
           0,
           0
          ],
          [
           0,
           0,
           1,
           0,
           0,
           0,
           0,
           0
          ],
          [
           0,
           0,
           -1,
           1,
           1,
           0,
           0,
           0
          ],
          [
           0,
           0,
           -1,
           -1,
           1,
           1,
           0,
           0
          ],
          [
           0,
           -1,
           0,
           -1,
           1,
           0,
           0,
           0
          ],
          [
           0,
           0,
           0,
           0,
           1,
           0,
           0,
           0
          ],
          [
           0,
           0,
           0,
           0,
           0,
           0,
           0,
           0
          ]
         ]
        },
        {
         "coloraxis": "coloraxis",
         "hovertemplate": "x: %{x}<br>y: %{y}<br>color: %{z}<extra></extra>",
         "name": "9",
         "type": "heatmap",
         "xaxis": "x2",
         "y": [
          "A",
          "B",
          "C",
          "D",
          "E",
          "F",
          "G",
          "H"
         ],
         "yaxis": "y2",
         "z": [
          [
           0,
           0,
           0,
           0,
           0,
           0,
           0,
           0
          ],
          [
           0,
           1,
           0,
           0,
           0,
           0,
           0,
           0
          ],
          [
           0,
           0,
           1,
           0,
           0,
           0,
           0,
           0
          ],
          [
           0,
           0,
           -1,
           1,
           1,
           0,
           0,
           0
          ],
          [
           0,
           0,
           -1,
           -1,
           -1,
           -1,
           -1,
           0
          ],
          [
           0,
           -1,
           0,
           -1,
           1,
           0,
           0,
           0
          ],
          [
           0,
           0,
           0,
           0,
           1,
           0,
           0,
           0
          ],
          [
           0,
           0,
           0,
           0,
           0,
           0,
           0,
           0
          ]
         ]
        },
        {
         "coloraxis": "coloraxis",
         "hovertemplate": "x: %{x}<br>y: %{y}<br>color: %{z}<extra></extra>",
         "name": "10",
         "type": "heatmap",
         "xaxis": "x3",
         "y": [
          "A",
          "B",
          "C",
          "D",
          "E",
          "F",
          "G",
          "H"
         ],
         "yaxis": "y3",
         "z": [
          [
           0,
           0,
           0,
           0,
           0,
           0,
           0,
           0
          ],
          [
           0,
           1,
           0,
           0,
           0,
           0,
           0,
           0
          ],
          [
           0,
           0,
           1,
           0,
           0,
           0,
           0,
           0
          ],
          [
           0,
           0,
           1,
           1,
           1,
           0,
           0,
           0
          ],
          [
           0,
           0,
           1,
           1,
           -1,
           -1,
           -1,
           0
          ],
          [
           0,
           -1,
           1,
           1,
           1,
           0,
           0,
           0
          ],
          [
           0,
           0,
           0,
           0,
           1,
           0,
           0,
           0
          ],
          [
           0,
           0,
           0,
           0,
           0,
           0,
           0,
           0
          ]
         ]
        },
        {
         "coloraxis": "coloraxis",
         "hovertemplate": "x: %{x}<br>y: %{y}<br>color: %{z}<extra></extra>",
         "name": "11",
         "type": "heatmap",
         "xaxis": "x4",
         "y": [
          "A",
          "B",
          "C",
          "D",
          "E",
          "F",
          "G",
          "H"
         ],
         "yaxis": "y4",
         "z": [
          [
           0,
           0,
           0,
           0,
           0,
           0,
           0,
           0
          ],
          [
           0,
           1,
           0,
           0,
           0,
           0,
           0,
           0
          ],
          [
           0,
           0,
           1,
           0,
           -1,
           0,
           0,
           0
          ],
          [
           0,
           0,
           1,
           -1,
           -1,
           0,
           0,
           0
          ],
          [
           0,
           0,
           -1,
           1,
           -1,
           -1,
           -1,
           0
          ],
          [
           0,
           -1,
           1,
           1,
           1,
           0,
           0,
           0
          ],
          [
           0,
           0,
           0,
           0,
           1,
           0,
           0,
           0
          ],
          [
           0,
           0,
           0,
           0,
           0,
           0,
           0,
           0
          ]
         ]
        },
        {
         "coloraxis": "coloraxis",
         "hovertemplate": "x: %{x}<br>y: %{y}<br>color: %{z}<extra></extra>",
         "name": "12",
         "type": "heatmap",
         "xaxis": "x5",
         "y": [
          "A",
          "B",
          "C",
          "D",
          "E",
          "F",
          "G",
          "H"
         ],
         "yaxis": "y5",
         "z": [
          [
           0,
           0,
           0,
           0,
           0,
           0,
           0,
           0
          ],
          [
           0,
           1,
           0,
           0,
           0,
           0,
           0,
           0
          ],
          [
           0,
           0,
           1,
           0,
           -1,
           0,
           0,
           0
          ],
          [
           0,
           1,
           1,
           -1,
           -1,
           0,
           0,
           0
          ],
          [
           0,
           0,
           1,
           1,
           -1,
           -1,
           -1,
           0
          ],
          [
           0,
           -1,
           1,
           1,
           1,
           0,
           0,
           0
          ],
          [
           0,
           0,
           0,
           0,
           1,
           0,
           0,
           0
          ],
          [
           0,
           0,
           0,
           0,
           0,
           0,
           0,
           0
          ]
         ]
        },
        {
         "coloraxis": "coloraxis",
         "hovertemplate": "x: %{x}<br>y: %{y}<br>color: %{z}<extra></extra>",
         "name": "13",
         "type": "heatmap",
         "xaxis": "x6",
         "y": [
          "A",
          "B",
          "C",
          "D",
          "E",
          "F",
          "G",
          "H"
         ],
         "yaxis": "y6",
         "z": [
          [
           0,
           0,
           0,
           0,
           0,
           0,
           0,
           0
          ],
          [
           0,
           1,
           0,
           0,
           0,
           0,
           0,
           0
          ],
          [
           0,
           0,
           1,
           0,
           -1,
           0,
           0,
           0
          ],
          [
           -1,
           -1,
           -1,
           -1,
           -1,
           0,
           0,
           0
          ],
          [
           0,
           0,
           1,
           1,
           -1,
           -1,
           -1,
           0
          ],
          [
           0,
           -1,
           1,
           1,
           1,
           0,
           0,
           0
          ],
          [
           0,
           0,
           0,
           0,
           1,
           0,
           0,
           0
          ],
          [
           0,
           0,
           0,
           0,
           0,
           0,
           0,
           0
          ]
         ]
        },
        {
         "coloraxis": "coloraxis",
         "hovertemplate": "x: %{x}<br>y: %{y}<br>color: %{z}<extra></extra>",
         "name": "14",
         "type": "heatmap",
         "xaxis": "x7",
         "y": [
          "A",
          "B",
          "C",
          "D",
          "E",
          "F",
          "G",
          "H"
         ],
         "yaxis": "y7",
         "z": [
          [
           0,
           0,
           0,
           0,
           0,
           0,
           0,
           0
          ],
          [
           0,
           1,
           0,
           0,
           1,
           0,
           0,
           0
          ],
          [
           0,
           0,
           1,
           0,
           1,
           0,
           0,
           0
          ],
          [
           -1,
           -1,
           -1,
           -1,
           1,
           0,
           0,
           0
          ],
          [
           0,
           0,
           1,
           1,
           1,
           -1,
           -1,
           0
          ],
          [
           0,
           -1,
           1,
           1,
           1,
           0,
           0,
           0
          ],
          [
           0,
           0,
           0,
           0,
           1,
           0,
           0,
           0
          ],
          [
           0,
           0,
           0,
           0,
           0,
           0,
           0,
           0
          ]
         ]
        },
        {
         "coloraxis": "coloraxis",
         "hovertemplate": "x: %{x}<br>y: %{y}<br>color: %{z}<extra></extra>",
         "name": "15",
         "type": "heatmap",
         "xaxis": "x8",
         "y": [
          "A",
          "B",
          "C",
          "D",
          "E",
          "F",
          "G",
          "H"
         ],
         "yaxis": "y8",
         "z": [
          [
           0,
           0,
           0,
           0,
           0,
           0,
           0,
           0
          ],
          [
           0,
           1,
           0,
           -1,
           1,
           0,
           0,
           0
          ],
          [
           0,
           0,
           -1,
           0,
           1,
           0,
           0,
           0
          ],
          [
           -1,
           -1,
           -1,
           -1,
           1,
           0,
           0,
           0
          ],
          [
           0,
           0,
           1,
           1,
           1,
           -1,
           -1,
           0
          ],
          [
           0,
           -1,
           1,
           1,
           1,
           0,
           0,
           0
          ],
          [
           0,
           0,
           0,
           0,
           1,
           0,
           0,
           0
          ],
          [
           0,
           0,
           0,
           0,
           0,
           0,
           0,
           0
          ]
         ]
        }
       ],
       "layout": {
        "annotations": [
         {
          "font": {},
          "showarrow": false,
          "text": "Move 8",
          "x": 0.05375,
          "xanchor": "center",
          "xref": "paper",
          "y": 0.46499999999999997,
          "yanchor": "bottom",
          "yref": "paper"
         },
         {
          "font": {},
          "showarrow": false,
          "text": "Move 9",
          "x": 0.18125,
          "xanchor": "center",
          "xref": "paper",
          "y": 0.46499999999999997,
          "yanchor": "bottom",
          "yref": "paper"
         },
         {
          "font": {},
          "showarrow": false,
          "text": "Move 10",
          "x": 0.30874999999999997,
          "xanchor": "center",
          "xref": "paper",
          "y": 0.46499999999999997,
          "yanchor": "bottom",
          "yref": "paper"
         },
         {
          "font": {},
          "showarrow": false,
          "text": "Move 11",
          "x": 0.43625,
          "xanchor": "center",
          "xref": "paper",
          "y": 0.46499999999999997,
          "yanchor": "bottom",
          "yref": "paper"
         },
         {
          "font": {},
          "showarrow": false,
          "text": "Move 12",
          "x": 0.56375,
          "xanchor": "center",
          "xref": "paper",
          "y": 0.46499999999999997,
          "yanchor": "bottom",
          "yref": "paper"
         },
         {
          "font": {},
          "showarrow": false,
          "text": "Move 13",
          "x": 0.6912499999999999,
          "xanchor": "center",
          "xref": "paper",
          "y": 0.46499999999999997,
          "yanchor": "bottom",
          "yref": "paper"
         },
         {
          "font": {},
          "showarrow": false,
          "text": "Move 14",
          "x": 0.8187500000000001,
          "xanchor": "center",
          "xref": "paper",
          "y": 0.46499999999999997,
          "yanchor": "bottom",
          "yref": "paper"
         },
         {
          "font": {},
          "showarrow": false,
          "text": "Move 15",
          "x": 0.94625,
          "xanchor": "center",
          "xref": "paper",
          "y": 0.46499999999999997,
          "yanchor": "bottom",
          "yref": "paper"
         },
         {
          "font": {},
          "showarrow": false,
          "text": "Move 0",
          "x": 0.05375,
          "xanchor": "center",
          "xref": "paper",
          "y": 0.9999999999999999,
          "yanchor": "bottom",
          "yref": "paper"
         },
         {
          "font": {},
          "showarrow": false,
          "text": "Move 1",
          "x": 0.18125,
          "xanchor": "center",
          "xref": "paper",
          "y": 0.9999999999999999,
          "yanchor": "bottom",
          "yref": "paper"
         },
         {
          "font": {},
          "showarrow": false,
          "text": "Move 2",
          "x": 0.30874999999999997,
          "xanchor": "center",
          "xref": "paper",
          "y": 0.9999999999999999,
          "yanchor": "bottom",
          "yref": "paper"
         },
         {
          "font": {},
          "showarrow": false,
          "text": "Move 3",
          "x": 0.43625,
          "xanchor": "center",
          "xref": "paper",
          "y": 0.9999999999999999,
          "yanchor": "bottom",
          "yref": "paper"
         },
         {
          "font": {},
          "showarrow": false,
          "text": "Move 4",
          "x": 0.56375,
          "xanchor": "center",
          "xref": "paper",
          "y": 0.9999999999999999,
          "yanchor": "bottom",
          "yref": "paper"
         },
         {
          "font": {},
          "showarrow": false,
          "text": "Move 5",
          "x": 0.6912499999999999,
          "xanchor": "center",
          "xref": "paper",
          "y": 0.9999999999999999,
          "yanchor": "bottom",
          "yref": "paper"
         },
         {
          "font": {},
          "showarrow": false,
          "text": "Move 6",
          "x": 0.8187500000000001,
          "xanchor": "center",
          "xref": "paper",
          "y": 0.9999999999999999,
          "yanchor": "bottom",
          "yref": "paper"
         },
         {
          "font": {},
          "showarrow": false,
          "text": "Move 7",
          "x": 0.94625,
          "xanchor": "center",
          "xref": "paper",
          "y": 0.9999999999999999,
          "yanchor": "bottom",
          "yref": "paper"
         }
        ],
        "coloraxis": {
         "cmid": 0,
         "colorscale": [
          [
           0,
           "rgb(255,255,255)"
          ],
          [
           0.125,
           "rgb(240,240,240)"
          ],
          [
           0.25,
           "rgb(217,217,217)"
          ],
          [
           0.375,
           "rgb(189,189,189)"
          ],
          [
           0.5,
           "rgb(150,150,150)"
          ],
          [
           0.625,
           "rgb(115,115,115)"
          ],
          [
           0.75,
           "rgb(82,82,82)"
          ],
          [
           0.875,
           "rgb(37,37,37)"
          ],
          [
           1,
           "rgb(0,0,0)"
          ]
         ]
        },
        "template": {
         "data": {
          "bar": [
           {
            "error_x": {
             "color": "#2a3f5f"
            },
            "error_y": {
             "color": "#2a3f5f"
            },
            "marker": {
             "line": {
              "color": "#E5ECF6",
              "width": 0.5
             },
             "pattern": {
              "fillmode": "overlay",
              "size": 10,
              "solidity": 0.2
             }
            },
            "type": "bar"
           }
          ],
          "barpolar": [
           {
            "marker": {
             "line": {
              "color": "#E5ECF6",
              "width": 0.5
             },
             "pattern": {
              "fillmode": "overlay",
              "size": 10,
              "solidity": 0.2
             }
            },
            "type": "barpolar"
           }
          ],
          "carpet": [
           {
            "aaxis": {
             "endlinecolor": "#2a3f5f",
             "gridcolor": "white",
             "linecolor": "white",
             "minorgridcolor": "white",
             "startlinecolor": "#2a3f5f"
            },
            "baxis": {
             "endlinecolor": "#2a3f5f",
             "gridcolor": "white",
             "linecolor": "white",
             "minorgridcolor": "white",
             "startlinecolor": "#2a3f5f"
            },
            "type": "carpet"
           }
          ],
          "choropleth": [
           {
            "colorbar": {
             "outlinewidth": 0,
             "ticks": ""
            },
            "type": "choropleth"
           }
          ],
          "contour": [
           {
            "colorbar": {
             "outlinewidth": 0,
             "ticks": ""
            },
            "colorscale": [
             [
              0,
              "#0d0887"
             ],
             [
              0.1111111111111111,
              "#46039f"
             ],
             [
              0.2222222222222222,
              "#7201a8"
             ],
             [
              0.3333333333333333,
              "#9c179e"
             ],
             [
              0.4444444444444444,
              "#bd3786"
             ],
             [
              0.5555555555555556,
              "#d8576b"
             ],
             [
              0.6666666666666666,
              "#ed7953"
             ],
             [
              0.7777777777777778,
              "#fb9f3a"
             ],
             [
              0.8888888888888888,
              "#fdca26"
             ],
             [
              1,
              "#f0f921"
             ]
            ],
            "type": "contour"
           }
          ],
          "contourcarpet": [
           {
            "colorbar": {
             "outlinewidth": 0,
             "ticks": ""
            },
            "type": "contourcarpet"
           }
          ],
          "heatmap": [
           {
            "colorbar": {
             "outlinewidth": 0,
             "ticks": ""
            },
            "colorscale": [
             [
              0,
              "#0d0887"
             ],
             [
              0.1111111111111111,
              "#46039f"
             ],
             [
              0.2222222222222222,
              "#7201a8"
             ],
             [
              0.3333333333333333,
              "#9c179e"
             ],
             [
              0.4444444444444444,
              "#bd3786"
             ],
             [
              0.5555555555555556,
              "#d8576b"
             ],
             [
              0.6666666666666666,
              "#ed7953"
             ],
             [
              0.7777777777777778,
              "#fb9f3a"
             ],
             [
              0.8888888888888888,
              "#fdca26"
             ],
             [
              1,
              "#f0f921"
             ]
            ],
            "type": "heatmap"
           }
          ],
          "heatmapgl": [
           {
            "colorbar": {
             "outlinewidth": 0,
             "ticks": ""
            },
            "colorscale": [
             [
              0,
              "#0d0887"
             ],
             [
              0.1111111111111111,
              "#46039f"
             ],
             [
              0.2222222222222222,
              "#7201a8"
             ],
             [
              0.3333333333333333,
              "#9c179e"
             ],
             [
              0.4444444444444444,
              "#bd3786"
             ],
             [
              0.5555555555555556,
              "#d8576b"
             ],
             [
              0.6666666666666666,
              "#ed7953"
             ],
             [
              0.7777777777777778,
              "#fb9f3a"
             ],
             [
              0.8888888888888888,
              "#fdca26"
             ],
             [
              1,
              "#f0f921"
             ]
            ],
            "type": "heatmapgl"
           }
          ],
          "histogram": [
           {
            "marker": {
             "pattern": {
              "fillmode": "overlay",
              "size": 10,
              "solidity": 0.2
             }
            },
            "type": "histogram"
           }
          ],
          "histogram2d": [
           {
            "colorbar": {
             "outlinewidth": 0,
             "ticks": ""
            },
            "colorscale": [
             [
              0,
              "#0d0887"
             ],
             [
              0.1111111111111111,
              "#46039f"
             ],
             [
              0.2222222222222222,
              "#7201a8"
             ],
             [
              0.3333333333333333,
              "#9c179e"
             ],
             [
              0.4444444444444444,
              "#bd3786"
             ],
             [
              0.5555555555555556,
              "#d8576b"
             ],
             [
              0.6666666666666666,
              "#ed7953"
             ],
             [
              0.7777777777777778,
              "#fb9f3a"
             ],
             [
              0.8888888888888888,
              "#fdca26"
             ],
             [
              1,
              "#f0f921"
             ]
            ],
            "type": "histogram2d"
           }
          ],
          "histogram2dcontour": [
           {
            "colorbar": {
             "outlinewidth": 0,
             "ticks": ""
            },
            "colorscale": [
             [
              0,
              "#0d0887"
             ],
             [
              0.1111111111111111,
              "#46039f"
             ],
             [
              0.2222222222222222,
              "#7201a8"
             ],
             [
              0.3333333333333333,
              "#9c179e"
             ],
             [
              0.4444444444444444,
              "#bd3786"
             ],
             [
              0.5555555555555556,
              "#d8576b"
             ],
             [
              0.6666666666666666,
              "#ed7953"
             ],
             [
              0.7777777777777778,
              "#fb9f3a"
             ],
             [
              0.8888888888888888,
              "#fdca26"
             ],
             [
              1,
              "#f0f921"
             ]
            ],
            "type": "histogram2dcontour"
           }
          ],
          "mesh3d": [
           {
            "colorbar": {
             "outlinewidth": 0,
             "ticks": ""
            },
            "type": "mesh3d"
           }
          ],
          "parcoords": [
           {
            "line": {
             "colorbar": {
              "outlinewidth": 0,
              "ticks": ""
             }
            },
            "type": "parcoords"
           }
          ],
          "pie": [
           {
            "automargin": true,
            "type": "pie"
           }
          ],
          "scatter": [
           {
            "fillpattern": {
             "fillmode": "overlay",
             "size": 10,
             "solidity": 0.2
            },
            "type": "scatter"
           }
          ],
          "scatter3d": [
           {
            "line": {
             "colorbar": {
              "outlinewidth": 0,
              "ticks": ""
             }
            },
            "marker": {
             "colorbar": {
              "outlinewidth": 0,
              "ticks": ""
             }
            },
            "type": "scatter3d"
           }
          ],
          "scattercarpet": [
           {
            "marker": {
             "colorbar": {
              "outlinewidth": 0,
              "ticks": ""
             }
            },
            "type": "scattercarpet"
           }
          ],
          "scattergeo": [
           {
            "marker": {
             "colorbar": {
              "outlinewidth": 0,
              "ticks": ""
             }
            },
            "type": "scattergeo"
           }
          ],
          "scattergl": [
           {
            "marker": {
             "colorbar": {
              "outlinewidth": 0,
              "ticks": ""
             }
            },
            "type": "scattergl"
           }
          ],
          "scattermapbox": [
           {
            "marker": {
             "colorbar": {
              "outlinewidth": 0,
              "ticks": ""
             }
            },
            "type": "scattermapbox"
           }
          ],
          "scatterpolar": [
           {
            "marker": {
             "colorbar": {
              "outlinewidth": 0,
              "ticks": ""
             }
            },
            "type": "scatterpolar"
           }
          ],
          "scatterpolargl": [
           {
            "marker": {
             "colorbar": {
              "outlinewidth": 0,
              "ticks": ""
             }
            },
            "type": "scatterpolargl"
           }
          ],
          "scatterternary": [
           {
            "marker": {
             "colorbar": {
              "outlinewidth": 0,
              "ticks": ""
             }
            },
            "type": "scatterternary"
           }
          ],
          "surface": [
           {
            "colorbar": {
             "outlinewidth": 0,
             "ticks": ""
            },
            "colorscale": [
             [
              0,
              "#0d0887"
             ],
             [
              0.1111111111111111,
              "#46039f"
             ],
             [
              0.2222222222222222,
              "#7201a8"
             ],
             [
              0.3333333333333333,
              "#9c179e"
             ],
             [
              0.4444444444444444,
              "#bd3786"
             ],
             [
              0.5555555555555556,
              "#d8576b"
             ],
             [
              0.6666666666666666,
              "#ed7953"
             ],
             [
              0.7777777777777778,
              "#fb9f3a"
             ],
             [
              0.8888888888888888,
              "#fdca26"
             ],
             [
              1,
              "#f0f921"
             ]
            ],
            "type": "surface"
           }
          ],
          "table": [
           {
            "cells": {
             "fill": {
              "color": "#EBF0F8"
             },
             "line": {
              "color": "white"
             }
            },
            "header": {
             "fill": {
              "color": "#C8D4E3"
             },
             "line": {
              "color": "white"
             }
            },
            "type": "table"
           }
          ]
         },
         "layout": {
          "annotationdefaults": {
           "arrowcolor": "#2a3f5f",
           "arrowhead": 0,
           "arrowwidth": 1
          },
          "autotypenumbers": "strict",
          "coloraxis": {
           "colorbar": {
            "outlinewidth": 0,
            "ticks": ""
           }
          },
          "colorscale": {
           "diverging": [
            [
             0,
             "#8e0152"
            ],
            [
             0.1,
             "#c51b7d"
            ],
            [
             0.2,
             "#de77ae"
            ],
            [
             0.3,
             "#f1b6da"
            ],
            [
             0.4,
             "#fde0ef"
            ],
            [
             0.5,
             "#f7f7f7"
            ],
            [
             0.6,
             "#e6f5d0"
            ],
            [
             0.7,
             "#b8e186"
            ],
            [
             0.8,
             "#7fbc41"
            ],
            [
             0.9,
             "#4d9221"
            ],
            [
             1,
             "#276419"
            ]
           ],
           "sequential": [
            [
             0,
             "#0d0887"
            ],
            [
             0.1111111111111111,
             "#46039f"
            ],
            [
             0.2222222222222222,
             "#7201a8"
            ],
            [
             0.3333333333333333,
             "#9c179e"
            ],
            [
             0.4444444444444444,
             "#bd3786"
            ],
            [
             0.5555555555555556,
             "#d8576b"
            ],
            [
             0.6666666666666666,
             "#ed7953"
            ],
            [
             0.7777777777777778,
             "#fb9f3a"
            ],
            [
             0.8888888888888888,
             "#fdca26"
            ],
            [
             1,
             "#f0f921"
            ]
           ],
           "sequentialminus": [
            [
             0,
             "#0d0887"
            ],
            [
             0.1111111111111111,
             "#46039f"
            ],
            [
             0.2222222222222222,
             "#7201a8"
            ],
            [
             0.3333333333333333,
             "#9c179e"
            ],
            [
             0.4444444444444444,
             "#bd3786"
            ],
            [
             0.5555555555555556,
             "#d8576b"
            ],
            [
             0.6666666666666666,
             "#ed7953"
            ],
            [
             0.7777777777777778,
             "#fb9f3a"
            ],
            [
             0.8888888888888888,
             "#fdca26"
            ],
            [
             1,
             "#f0f921"
            ]
           ]
          },
          "colorway": [
           "#636efa",
           "#EF553B",
           "#00cc96",
           "#ab63fa",
           "#FFA15A",
           "#19d3f3",
           "#FF6692",
           "#B6E880",
           "#FF97FF",
           "#FECB52"
          ],
          "font": {
           "color": "#2a3f5f"
          },
          "geo": {
           "bgcolor": "white",
           "lakecolor": "white",
           "landcolor": "#E5ECF6",
           "showlakes": true,
           "showland": true,
           "subunitcolor": "white"
          },
          "hoverlabel": {
           "align": "left"
          },
          "hovermode": "closest",
          "mapbox": {
           "style": "light"
          },
          "paper_bgcolor": "white",
          "plot_bgcolor": "#E5ECF6",
          "polar": {
           "angularaxis": {
            "gridcolor": "white",
            "linecolor": "white",
            "ticks": ""
           },
           "bgcolor": "#E5ECF6",
           "radialaxis": {
            "gridcolor": "white",
            "linecolor": "white",
            "ticks": ""
           }
          },
          "scene": {
           "xaxis": {
            "backgroundcolor": "#E5ECF6",
            "gridcolor": "white",
            "gridwidth": 2,
            "linecolor": "white",
            "showbackground": true,
            "ticks": "",
            "zerolinecolor": "white"
           },
           "yaxis": {
            "backgroundcolor": "#E5ECF6",
            "gridcolor": "white",
            "gridwidth": 2,
            "linecolor": "white",
            "showbackground": true,
            "ticks": "",
            "zerolinecolor": "white"
           },
           "zaxis": {
            "backgroundcolor": "#E5ECF6",
            "gridcolor": "white",
            "gridwidth": 2,
            "linecolor": "white",
            "showbackground": true,
            "ticks": "",
            "zerolinecolor": "white"
           }
          },
          "shapedefaults": {
           "line": {
            "color": "#2a3f5f"
           }
          },
          "ternary": {
           "aaxis": {
            "gridcolor": "white",
            "linecolor": "white",
            "ticks": ""
           },
           "baxis": {
            "gridcolor": "white",
            "linecolor": "white",
            "ticks": ""
           },
           "bgcolor": "#E5ECF6",
           "caxis": {
            "gridcolor": "white",
            "linecolor": "white",
            "ticks": ""
           }
          },
          "title": {
           "x": 0.05
          },
          "xaxis": {
           "automargin": true,
           "gridcolor": "white",
           "linecolor": "white",
           "ticks": "",
           "title": {
            "standoff": 15
           },
           "zerolinecolor": "white",
           "zerolinewidth": 2
          },
          "yaxis": {
           "automargin": true,
           "gridcolor": "white",
           "linecolor": "white",
           "ticks": "",
           "title": {
            "standoff": 15
           },
           "zerolinecolor": "white",
           "zerolinewidth": 2
          }
         }
        },
        "title": {
         "text": "First 16 moves of first game"
        },
        "xaxis": {
         "anchor": "y",
         "constrain": "domain",
         "domain": [
          0,
          0.1075
         ],
         "scaleanchor": "y"
        },
        "xaxis10": {
         "anchor": "y10",
         "domain": [
          0.1275,
          0.235
         ],
         "matches": "x",
         "showticklabels": false
        },
        "xaxis11": {
         "anchor": "y11",
         "domain": [
          0.255,
          0.3625
         ],
         "matches": "x",
         "showticklabels": false
        },
        "xaxis12": {
         "anchor": "y12",
         "domain": [
          0.3825,
          0.49
         ],
         "matches": "x",
         "showticklabels": false
        },
        "xaxis13": {
         "anchor": "y13",
         "domain": [
          0.51,
          0.6175
         ],
         "matches": "x",
         "showticklabels": false
        },
        "xaxis14": {
         "anchor": "y14",
         "domain": [
          0.6375,
          0.745
         ],
         "matches": "x",
         "showticklabels": false
        },
        "xaxis15": {
         "anchor": "y15",
         "domain": [
          0.765,
          0.8725
         ],
         "matches": "x",
         "showticklabels": false
        },
        "xaxis16": {
         "anchor": "y16",
         "domain": [
          0.8925000000000001,
          1
         ],
         "matches": "x",
         "showticklabels": false
        },
        "xaxis2": {
         "anchor": "y2",
         "domain": [
          0.1275,
          0.235
         ],
         "matches": "x"
        },
        "xaxis3": {
         "anchor": "y3",
         "domain": [
          0.255,
          0.3625
         ],
         "matches": "x"
        },
        "xaxis4": {
         "anchor": "y4",
         "domain": [
          0.3825,
          0.49
         ],
         "matches": "x"
        },
        "xaxis5": {
         "anchor": "y5",
         "domain": [
          0.51,
          0.6175
         ],
         "matches": "x"
        },
        "xaxis6": {
         "anchor": "y6",
         "domain": [
          0.6375,
          0.745
         ],
         "matches": "x"
        },
        "xaxis7": {
         "anchor": "y7",
         "domain": [
          0.765,
          0.8725
         ],
         "matches": "x"
        },
        "xaxis8": {
         "anchor": "y8",
         "domain": [
          0.8925000000000001,
          1
         ],
         "matches": "x"
        },
        "xaxis9": {
         "anchor": "y9",
         "domain": [
          0,
          0.1075
         ],
         "matches": "x",
         "showticklabels": false
        },
        "yaxis": {
         "anchor": "x",
         "autorange": "reversed",
         "constrain": "domain",
         "domain": [
          0,
          0.46499999999999997
         ]
        },
        "yaxis10": {
         "anchor": "x10",
         "domain": [
          0.5349999999999999,
          0.9999999999999999
         ],
         "matches": "y",
         "showticklabels": false
        },
        "yaxis11": {
         "anchor": "x11",
         "domain": [
          0.5349999999999999,
          0.9999999999999999
         ],
         "matches": "y",
         "showticklabels": false
        },
        "yaxis12": {
         "anchor": "x12",
         "domain": [
          0.5349999999999999,
          0.9999999999999999
         ],
         "matches": "y",
         "showticklabels": false
        },
        "yaxis13": {
         "anchor": "x13",
         "domain": [
          0.5349999999999999,
          0.9999999999999999
         ],
         "matches": "y",
         "showticklabels": false
        },
        "yaxis14": {
         "anchor": "x14",
         "domain": [
          0.5349999999999999,
          0.9999999999999999
         ],
         "matches": "y",
         "showticklabels": false
        },
        "yaxis15": {
         "anchor": "x15",
         "domain": [
          0.5349999999999999,
          0.9999999999999999
         ],
         "matches": "y",
         "showticklabels": false
        },
        "yaxis16": {
         "anchor": "x16",
         "domain": [
          0.5349999999999999,
          0.9999999999999999
         ],
         "matches": "y",
         "showticklabels": false
        },
        "yaxis2": {
         "anchor": "x2",
         "domain": [
          0,
          0.46499999999999997
         ],
         "matches": "y",
         "showticklabels": false
        },
        "yaxis3": {
         "anchor": "x3",
         "domain": [
          0,
          0.46499999999999997
         ],
         "matches": "y",
         "showticklabels": false
        },
        "yaxis4": {
         "anchor": "x4",
         "domain": [
          0,
          0.46499999999999997
         ],
         "matches": "y",
         "showticklabels": false
        },
        "yaxis5": {
         "anchor": "x5",
         "domain": [
          0,
          0.46499999999999997
         ],
         "matches": "y",
         "showticklabels": false
        },
        "yaxis6": {
         "anchor": "x6",
         "domain": [
          0,
          0.46499999999999997
         ],
         "matches": "y",
         "showticklabels": false
        },
        "yaxis7": {
         "anchor": "x7",
         "domain": [
          0,
          0.46499999999999997
         ],
         "matches": "y",
         "showticklabels": false
        },
        "yaxis8": {
         "anchor": "x8",
         "domain": [
          0,
          0.46499999999999997
         ],
         "matches": "y",
         "showticklabels": false
        },
        "yaxis9": {
         "anchor": "x9",
         "domain": [
          0.5349999999999999,
          0.9999999999999999
         ],
         "matches": "y"
        }
       }
      },
      "text/html": [
       "<div>                            <div id=\"7c1952f9-05ee-49cc-8fbc-074e6a15a0b4\" class=\"plotly-graph-div\" style=\"height:525px; width:100%;\"></div>            <script type=\"text/javascript\">                require([\"plotly\"], function(Plotly) {                    window.PLOTLYENV=window.PLOTLYENV || {};                                    if (document.getElementById(\"7c1952f9-05ee-49cc-8fbc-074e6a15a0b4\")) {                    Plotly.newPlot(                        \"7c1952f9-05ee-49cc-8fbc-074e6a15a0b4\",                        [{\"coloraxis\":\"coloraxis\",\"name\":\"0\",\"y\":[\"A\",\"B\",\"C\",\"D\",\"E\",\"F\",\"G\",\"H\"],\"z\":[[0.0,0.0,0.0,0.0,0.0,0.0,0.0,0.0],[0.0,0.0,0.0,0.0,0.0,0.0,0.0,0.0],[0.0,0.0,0.0,0.0,0.0,0.0,0.0,0.0],[0.0,0.0,0.0,-1.0,1.0,0.0,0.0,0.0],[0.0,0.0,0.0,1.0,1.0,1.0,0.0,0.0],[0.0,0.0,0.0,0.0,0.0,0.0,0.0,0.0],[0.0,0.0,0.0,0.0,0.0,0.0,0.0,0.0],[0.0,0.0,0.0,0.0,0.0,0.0,0.0,0.0]],\"type\":\"heatmap\",\"xaxis\":\"x9\",\"yaxis\":\"y9\",\"hovertemplate\":\"x: %{x}\\u003cbr\\u003ey: %{y}\\u003cbr\\u003ecolor: %{z}\\u003cextra\\u003e\\u003c\\u002fextra\\u003e\"},{\"coloraxis\":\"coloraxis\",\"name\":\"1\",\"y\":[\"A\",\"B\",\"C\",\"D\",\"E\",\"F\",\"G\",\"H\"],\"z\":[[0.0,0.0,0.0,0.0,0.0,0.0,0.0,0.0],[0.0,0.0,0.0,0.0,0.0,0.0,0.0,0.0],[0.0,0.0,0.0,0.0,0.0,0.0,0.0,0.0],[0.0,0.0,0.0,-1.0,1.0,0.0,0.0,0.0],[0.0,0.0,0.0,-1.0,1.0,1.0,0.0,0.0],[0.0,0.0,0.0,-1.0,0.0,0.0,0.0,0.0],[0.0,0.0,0.0,0.0,0.0,0.0,0.0,0.0],[0.0,0.0,0.0,0.0,0.0,0.0,0.0,0.0]],\"type\":\"heatmap\",\"xaxis\":\"x10\",\"yaxis\":\"y10\",\"hovertemplate\":\"x: %{x}\\u003cbr\\u003ey: %{y}\\u003cbr\\u003ecolor: %{z}\\u003cextra\\u003e\\u003c\\u002fextra\\u003e\"},{\"coloraxis\":\"coloraxis\",\"name\":\"2\",\"y\":[\"A\",\"B\",\"C\",\"D\",\"E\",\"F\",\"G\",\"H\"],\"z\":[[0.0,0.0,0.0,0.0,0.0,0.0,0.0,0.0],[0.0,0.0,0.0,0.0,0.0,0.0,0.0,0.0],[0.0,0.0,0.0,0.0,0.0,0.0,0.0,0.0],[0.0,0.0,0.0,-1.0,1.0,0.0,0.0,0.0],[0.0,0.0,1.0,1.0,1.0,1.0,0.0,0.0],[0.0,0.0,0.0,-1.0,0.0,0.0,0.0,0.0],[0.0,0.0,0.0,0.0,0.0,0.0,0.0,0.0],[0.0,0.0,0.0,0.0,0.0,0.0,0.0,0.0]],\"type\":\"heatmap\",\"xaxis\":\"x11\",\"yaxis\":\"y11\",\"hovertemplate\":\"x: %{x}\\u003cbr\\u003ey: %{y}\\u003cbr\\u003ecolor: %{z}\\u003cextra\\u003e\\u003c\\u002fextra\\u003e\"},{\"coloraxis\":\"coloraxis\",\"name\":\"3\",\"y\":[\"A\",\"B\",\"C\",\"D\",\"E\",\"F\",\"G\",\"H\"],\"z\":[[0.0,0.0,0.0,0.0,0.0,0.0,0.0,0.0],[0.0,0.0,0.0,0.0,0.0,0.0,0.0,0.0],[0.0,0.0,0.0,0.0,0.0,0.0,0.0,0.0],[0.0,0.0,0.0,-1.0,1.0,0.0,0.0,0.0],[0.0,0.0,-1.0,1.0,1.0,1.0,0.0,0.0],[0.0,-1.0,0.0,-1.0,0.0,0.0,0.0,0.0],[0.0,0.0,0.0,0.0,0.0,0.0,0.0,0.0],[0.0,0.0,0.0,0.0,0.0,0.0,0.0,0.0]],\"type\":\"heatmap\",\"xaxis\":\"x12\",\"yaxis\":\"y12\",\"hovertemplate\":\"x: %{x}\\u003cbr\\u003ey: %{y}\\u003cbr\\u003ecolor: %{z}\\u003cextra\\u003e\\u003c\\u002fextra\\u003e\"},{\"coloraxis\":\"coloraxis\",\"name\":\"4\",\"y\":[\"A\",\"B\",\"C\",\"D\",\"E\",\"F\",\"G\",\"H\"],\"z\":[[0.0,0.0,0.0,0.0,0.0,0.0,0.0,0.0],[0.0,0.0,0.0,0.0,0.0,0.0,0.0,0.0],[0.0,0.0,0.0,0.0,0.0,0.0,0.0,0.0],[0.0,0.0,1.0,1.0,1.0,0.0,0.0,0.0],[0.0,0.0,-1.0,1.0,1.0,1.0,0.0,0.0],[0.0,-1.0,0.0,-1.0,0.0,0.0,0.0,0.0],[0.0,0.0,0.0,0.0,0.0,0.0,0.0,0.0],[0.0,0.0,0.0,0.0,0.0,0.0,0.0,0.0]],\"type\":\"heatmap\",\"xaxis\":\"x13\",\"yaxis\":\"y13\",\"hovertemplate\":\"x: %{x}\\u003cbr\\u003ey: %{y}\\u003cbr\\u003ecolor: %{z}\\u003cextra\\u003e\\u003c\\u002fextra\\u003e\"},{\"coloraxis\":\"coloraxis\",\"name\":\"5\",\"y\":[\"A\",\"B\",\"C\",\"D\",\"E\",\"F\",\"G\",\"H\"],\"z\":[[0.0,0.0,0.0,0.0,0.0,0.0,0.0,0.0],[0.0,0.0,0.0,0.0,0.0,0.0,0.0,0.0],[0.0,0.0,-1.0,0.0,0.0,0.0,0.0,0.0],[0.0,0.0,-1.0,1.0,1.0,0.0,0.0,0.0],[0.0,0.0,-1.0,1.0,1.0,1.0,0.0,0.0],[0.0,-1.0,0.0,-1.0,0.0,0.0,0.0,0.0],[0.0,0.0,0.0,0.0,0.0,0.0,0.0,0.0],[0.0,0.0,0.0,0.0,0.0,0.0,0.0,0.0]],\"type\":\"heatmap\",\"xaxis\":\"x14\",\"yaxis\":\"y14\",\"hovertemplate\":\"x: %{x}\\u003cbr\\u003ey: %{y}\\u003cbr\\u003ecolor: %{z}\\u003cextra\\u003e\\u003c\\u002fextra\\u003e\"},{\"coloraxis\":\"coloraxis\",\"name\":\"6\",\"y\":[\"A\",\"B\",\"C\",\"D\",\"E\",\"F\",\"G\",\"H\"],\"z\":[[0.0,0.0,0.0,0.0,0.0,0.0,0.0,0.0],[0.0,1.0,0.0,0.0,0.0,0.0,0.0,0.0],[0.0,0.0,1.0,0.0,0.0,0.0,0.0,0.0],[0.0,0.0,-1.0,1.0,1.0,0.0,0.0,0.0],[0.0,0.0,-1.0,1.0,1.0,1.0,0.0,0.0],[0.0,-1.0,0.0,-1.0,0.0,0.0,0.0,0.0],[0.0,0.0,0.0,0.0,0.0,0.0,0.0,0.0],[0.0,0.0,0.0,0.0,0.0,0.0,0.0,0.0]],\"type\":\"heatmap\",\"xaxis\":\"x15\",\"yaxis\":\"y15\",\"hovertemplate\":\"x: %{x}\\u003cbr\\u003ey: %{y}\\u003cbr\\u003ecolor: %{z}\\u003cextra\\u003e\\u003c\\u002fextra\\u003e\"},{\"coloraxis\":\"coloraxis\",\"name\":\"7\",\"y\":[\"A\",\"B\",\"C\",\"D\",\"E\",\"F\",\"G\",\"H\"],\"z\":[[0.0,0.0,0.0,0.0,0.0,0.0,0.0,0.0],[0.0,1.0,0.0,0.0,0.0,0.0,0.0,0.0],[0.0,0.0,1.0,0.0,0.0,0.0,0.0,0.0],[0.0,0.0,-1.0,1.0,1.0,0.0,0.0,0.0],[0.0,0.0,-1.0,-1.0,1.0,1.0,0.0,0.0],[0.0,-1.0,0.0,-1.0,-1.0,0.0,0.0,0.0],[0.0,0.0,0.0,0.0,0.0,0.0,0.0,0.0],[0.0,0.0,0.0,0.0,0.0,0.0,0.0,0.0]],\"type\":\"heatmap\",\"xaxis\":\"x16\",\"yaxis\":\"y16\",\"hovertemplate\":\"x: %{x}\\u003cbr\\u003ey: %{y}\\u003cbr\\u003ecolor: %{z}\\u003cextra\\u003e\\u003c\\u002fextra\\u003e\"},{\"coloraxis\":\"coloraxis\",\"name\":\"8\",\"y\":[\"A\",\"B\",\"C\",\"D\",\"E\",\"F\",\"G\",\"H\"],\"z\":[[0.0,0.0,0.0,0.0,0.0,0.0,0.0,0.0],[0.0,1.0,0.0,0.0,0.0,0.0,0.0,0.0],[0.0,0.0,1.0,0.0,0.0,0.0,0.0,0.0],[0.0,0.0,-1.0,1.0,1.0,0.0,0.0,0.0],[0.0,0.0,-1.0,-1.0,1.0,1.0,0.0,0.0],[0.0,-1.0,0.0,-1.0,1.0,0.0,0.0,0.0],[0.0,0.0,0.0,0.0,1.0,0.0,0.0,0.0],[0.0,0.0,0.0,0.0,0.0,0.0,0.0,0.0]],\"type\":\"heatmap\",\"xaxis\":\"x\",\"yaxis\":\"y\",\"hovertemplate\":\"x: %{x}\\u003cbr\\u003ey: %{y}\\u003cbr\\u003ecolor: %{z}\\u003cextra\\u003e\\u003c\\u002fextra\\u003e\"},{\"coloraxis\":\"coloraxis\",\"name\":\"9\",\"y\":[\"A\",\"B\",\"C\",\"D\",\"E\",\"F\",\"G\",\"H\"],\"z\":[[0.0,0.0,0.0,0.0,0.0,0.0,0.0,0.0],[0.0,1.0,0.0,0.0,0.0,0.0,0.0,0.0],[0.0,0.0,1.0,0.0,0.0,0.0,0.0,0.0],[0.0,0.0,-1.0,1.0,1.0,0.0,0.0,0.0],[0.0,0.0,-1.0,-1.0,-1.0,-1.0,-1.0,0.0],[0.0,-1.0,0.0,-1.0,1.0,0.0,0.0,0.0],[0.0,0.0,0.0,0.0,1.0,0.0,0.0,0.0],[0.0,0.0,0.0,0.0,0.0,0.0,0.0,0.0]],\"type\":\"heatmap\",\"xaxis\":\"x2\",\"yaxis\":\"y2\",\"hovertemplate\":\"x: %{x}\\u003cbr\\u003ey: %{y}\\u003cbr\\u003ecolor: %{z}\\u003cextra\\u003e\\u003c\\u002fextra\\u003e\"},{\"coloraxis\":\"coloraxis\",\"name\":\"10\",\"y\":[\"A\",\"B\",\"C\",\"D\",\"E\",\"F\",\"G\",\"H\"],\"z\":[[0.0,0.0,0.0,0.0,0.0,0.0,0.0,0.0],[0.0,1.0,0.0,0.0,0.0,0.0,0.0,0.0],[0.0,0.0,1.0,0.0,0.0,0.0,0.0,0.0],[0.0,0.0,1.0,1.0,1.0,0.0,0.0,0.0],[0.0,0.0,1.0,1.0,-1.0,-1.0,-1.0,0.0],[0.0,-1.0,1.0,1.0,1.0,0.0,0.0,0.0],[0.0,0.0,0.0,0.0,1.0,0.0,0.0,0.0],[0.0,0.0,0.0,0.0,0.0,0.0,0.0,0.0]],\"type\":\"heatmap\",\"xaxis\":\"x3\",\"yaxis\":\"y3\",\"hovertemplate\":\"x: %{x}\\u003cbr\\u003ey: %{y}\\u003cbr\\u003ecolor: %{z}\\u003cextra\\u003e\\u003c\\u002fextra\\u003e\"},{\"coloraxis\":\"coloraxis\",\"name\":\"11\",\"y\":[\"A\",\"B\",\"C\",\"D\",\"E\",\"F\",\"G\",\"H\"],\"z\":[[0.0,0.0,0.0,0.0,0.0,0.0,0.0,0.0],[0.0,1.0,0.0,0.0,0.0,0.0,0.0,0.0],[0.0,0.0,1.0,0.0,-1.0,0.0,0.0,0.0],[0.0,0.0,1.0,-1.0,-1.0,0.0,0.0,0.0],[0.0,0.0,-1.0,1.0,-1.0,-1.0,-1.0,0.0],[0.0,-1.0,1.0,1.0,1.0,0.0,0.0,0.0],[0.0,0.0,0.0,0.0,1.0,0.0,0.0,0.0],[0.0,0.0,0.0,0.0,0.0,0.0,0.0,0.0]],\"type\":\"heatmap\",\"xaxis\":\"x4\",\"yaxis\":\"y4\",\"hovertemplate\":\"x: %{x}\\u003cbr\\u003ey: %{y}\\u003cbr\\u003ecolor: %{z}\\u003cextra\\u003e\\u003c\\u002fextra\\u003e\"},{\"coloraxis\":\"coloraxis\",\"name\":\"12\",\"y\":[\"A\",\"B\",\"C\",\"D\",\"E\",\"F\",\"G\",\"H\"],\"z\":[[0.0,0.0,0.0,0.0,0.0,0.0,0.0,0.0],[0.0,1.0,0.0,0.0,0.0,0.0,0.0,0.0],[0.0,0.0,1.0,0.0,-1.0,0.0,0.0,0.0],[0.0,1.0,1.0,-1.0,-1.0,0.0,0.0,0.0],[0.0,0.0,1.0,1.0,-1.0,-1.0,-1.0,0.0],[0.0,-1.0,1.0,1.0,1.0,0.0,0.0,0.0],[0.0,0.0,0.0,0.0,1.0,0.0,0.0,0.0],[0.0,0.0,0.0,0.0,0.0,0.0,0.0,0.0]],\"type\":\"heatmap\",\"xaxis\":\"x5\",\"yaxis\":\"y5\",\"hovertemplate\":\"x: %{x}\\u003cbr\\u003ey: %{y}\\u003cbr\\u003ecolor: %{z}\\u003cextra\\u003e\\u003c\\u002fextra\\u003e\"},{\"coloraxis\":\"coloraxis\",\"name\":\"13\",\"y\":[\"A\",\"B\",\"C\",\"D\",\"E\",\"F\",\"G\",\"H\"],\"z\":[[0.0,0.0,0.0,0.0,0.0,0.0,0.0,0.0],[0.0,1.0,0.0,0.0,0.0,0.0,0.0,0.0],[0.0,0.0,1.0,0.0,-1.0,0.0,0.0,0.0],[-1.0,-1.0,-1.0,-1.0,-1.0,0.0,0.0,0.0],[0.0,0.0,1.0,1.0,-1.0,-1.0,-1.0,0.0],[0.0,-1.0,1.0,1.0,1.0,0.0,0.0,0.0],[0.0,0.0,0.0,0.0,1.0,0.0,0.0,0.0],[0.0,0.0,0.0,0.0,0.0,0.0,0.0,0.0]],\"type\":\"heatmap\",\"xaxis\":\"x6\",\"yaxis\":\"y6\",\"hovertemplate\":\"x: %{x}\\u003cbr\\u003ey: %{y}\\u003cbr\\u003ecolor: %{z}\\u003cextra\\u003e\\u003c\\u002fextra\\u003e\"},{\"coloraxis\":\"coloraxis\",\"name\":\"14\",\"y\":[\"A\",\"B\",\"C\",\"D\",\"E\",\"F\",\"G\",\"H\"],\"z\":[[0.0,0.0,0.0,0.0,0.0,0.0,0.0,0.0],[0.0,1.0,0.0,0.0,1.0,0.0,0.0,0.0],[0.0,0.0,1.0,0.0,1.0,0.0,0.0,0.0],[-1.0,-1.0,-1.0,-1.0,1.0,0.0,0.0,0.0],[0.0,0.0,1.0,1.0,1.0,-1.0,-1.0,0.0],[0.0,-1.0,1.0,1.0,1.0,0.0,0.0,0.0],[0.0,0.0,0.0,0.0,1.0,0.0,0.0,0.0],[0.0,0.0,0.0,0.0,0.0,0.0,0.0,0.0]],\"type\":\"heatmap\",\"xaxis\":\"x7\",\"yaxis\":\"y7\",\"hovertemplate\":\"x: %{x}\\u003cbr\\u003ey: %{y}\\u003cbr\\u003ecolor: %{z}\\u003cextra\\u003e\\u003c\\u002fextra\\u003e\"},{\"coloraxis\":\"coloraxis\",\"name\":\"15\",\"y\":[\"A\",\"B\",\"C\",\"D\",\"E\",\"F\",\"G\",\"H\"],\"z\":[[0.0,0.0,0.0,0.0,0.0,0.0,0.0,0.0],[0.0,1.0,0.0,-1.0,1.0,0.0,0.0,0.0],[0.0,0.0,-1.0,0.0,1.0,0.0,0.0,0.0],[-1.0,-1.0,-1.0,-1.0,1.0,0.0,0.0,0.0],[0.0,0.0,1.0,1.0,1.0,-1.0,-1.0,0.0],[0.0,-1.0,1.0,1.0,1.0,0.0,0.0,0.0],[0.0,0.0,0.0,0.0,1.0,0.0,0.0,0.0],[0.0,0.0,0.0,0.0,0.0,0.0,0.0,0.0]],\"type\":\"heatmap\",\"xaxis\":\"x8\",\"yaxis\":\"y8\",\"hovertemplate\":\"x: %{x}\\u003cbr\\u003ey: %{y}\\u003cbr\\u003ecolor: %{z}\\u003cextra\\u003e\\u003c\\u002fextra\\u003e\"}],                        {\"template\":{\"data\":{\"histogram2dcontour\":[{\"type\":\"histogram2dcontour\",\"colorbar\":{\"outlinewidth\":0,\"ticks\":\"\"},\"colorscale\":[[0.0,\"#0d0887\"],[0.1111111111111111,\"#46039f\"],[0.2222222222222222,\"#7201a8\"],[0.3333333333333333,\"#9c179e\"],[0.4444444444444444,\"#bd3786\"],[0.5555555555555556,\"#d8576b\"],[0.6666666666666666,\"#ed7953\"],[0.7777777777777778,\"#fb9f3a\"],[0.8888888888888888,\"#fdca26\"],[1.0,\"#f0f921\"]]}],\"choropleth\":[{\"type\":\"choropleth\",\"colorbar\":{\"outlinewidth\":0,\"ticks\":\"\"}}],\"histogram2d\":[{\"type\":\"histogram2d\",\"colorbar\":{\"outlinewidth\":0,\"ticks\":\"\"},\"colorscale\":[[0.0,\"#0d0887\"],[0.1111111111111111,\"#46039f\"],[0.2222222222222222,\"#7201a8\"],[0.3333333333333333,\"#9c179e\"],[0.4444444444444444,\"#bd3786\"],[0.5555555555555556,\"#d8576b\"],[0.6666666666666666,\"#ed7953\"],[0.7777777777777778,\"#fb9f3a\"],[0.8888888888888888,\"#fdca26\"],[1.0,\"#f0f921\"]]}],\"heatmap\":[{\"type\":\"heatmap\",\"colorbar\":{\"outlinewidth\":0,\"ticks\":\"\"},\"colorscale\":[[0.0,\"#0d0887\"],[0.1111111111111111,\"#46039f\"],[0.2222222222222222,\"#7201a8\"],[0.3333333333333333,\"#9c179e\"],[0.4444444444444444,\"#bd3786\"],[0.5555555555555556,\"#d8576b\"],[0.6666666666666666,\"#ed7953\"],[0.7777777777777778,\"#fb9f3a\"],[0.8888888888888888,\"#fdca26\"],[1.0,\"#f0f921\"]]}],\"heatmapgl\":[{\"type\":\"heatmapgl\",\"colorbar\":{\"outlinewidth\":0,\"ticks\":\"\"},\"colorscale\":[[0.0,\"#0d0887\"],[0.1111111111111111,\"#46039f\"],[0.2222222222222222,\"#7201a8\"],[0.3333333333333333,\"#9c179e\"],[0.4444444444444444,\"#bd3786\"],[0.5555555555555556,\"#d8576b\"],[0.6666666666666666,\"#ed7953\"],[0.7777777777777778,\"#fb9f3a\"],[0.8888888888888888,\"#fdca26\"],[1.0,\"#f0f921\"]]}],\"contourcarpet\":[{\"type\":\"contourcarpet\",\"colorbar\":{\"outlinewidth\":0,\"ticks\":\"\"}}],\"contour\":[{\"type\":\"contour\",\"colorbar\":{\"outlinewidth\":0,\"ticks\":\"\"},\"colorscale\":[[0.0,\"#0d0887\"],[0.1111111111111111,\"#46039f\"],[0.2222222222222222,\"#7201a8\"],[0.3333333333333333,\"#9c179e\"],[0.4444444444444444,\"#bd3786\"],[0.5555555555555556,\"#d8576b\"],[0.6666666666666666,\"#ed7953\"],[0.7777777777777778,\"#fb9f3a\"],[0.8888888888888888,\"#fdca26\"],[1.0,\"#f0f921\"]]}],\"surface\":[{\"type\":\"surface\",\"colorbar\":{\"outlinewidth\":0,\"ticks\":\"\"},\"colorscale\":[[0.0,\"#0d0887\"],[0.1111111111111111,\"#46039f\"],[0.2222222222222222,\"#7201a8\"],[0.3333333333333333,\"#9c179e\"],[0.4444444444444444,\"#bd3786\"],[0.5555555555555556,\"#d8576b\"],[0.6666666666666666,\"#ed7953\"],[0.7777777777777778,\"#fb9f3a\"],[0.8888888888888888,\"#fdca26\"],[1.0,\"#f0f921\"]]}],\"mesh3d\":[{\"type\":\"mesh3d\",\"colorbar\":{\"outlinewidth\":0,\"ticks\":\"\"}}],\"scatter\":[{\"fillpattern\":{\"fillmode\":\"overlay\",\"size\":10,\"solidity\":0.2},\"type\":\"scatter\"}],\"parcoords\":[{\"type\":\"parcoords\",\"line\":{\"colorbar\":{\"outlinewidth\":0,\"ticks\":\"\"}}}],\"scatterpolargl\":[{\"type\":\"scatterpolargl\",\"marker\":{\"colorbar\":{\"outlinewidth\":0,\"ticks\":\"\"}}}],\"bar\":[{\"error_x\":{\"color\":\"#2a3f5f\"},\"error_y\":{\"color\":\"#2a3f5f\"},\"marker\":{\"line\":{\"color\":\"#E5ECF6\",\"width\":0.5},\"pattern\":{\"fillmode\":\"overlay\",\"size\":10,\"solidity\":0.2}},\"type\":\"bar\"}],\"scattergeo\":[{\"type\":\"scattergeo\",\"marker\":{\"colorbar\":{\"outlinewidth\":0,\"ticks\":\"\"}}}],\"scatterpolar\":[{\"type\":\"scatterpolar\",\"marker\":{\"colorbar\":{\"outlinewidth\":0,\"ticks\":\"\"}}}],\"histogram\":[{\"marker\":{\"pattern\":{\"fillmode\":\"overlay\",\"size\":10,\"solidity\":0.2}},\"type\":\"histogram\"}],\"scattergl\":[{\"type\":\"scattergl\",\"marker\":{\"colorbar\":{\"outlinewidth\":0,\"ticks\":\"\"}}}],\"scatter3d\":[{\"type\":\"scatter3d\",\"line\":{\"colorbar\":{\"outlinewidth\":0,\"ticks\":\"\"}},\"marker\":{\"colorbar\":{\"outlinewidth\":0,\"ticks\":\"\"}}}],\"scattermapbox\":[{\"type\":\"scattermapbox\",\"marker\":{\"colorbar\":{\"outlinewidth\":0,\"ticks\":\"\"}}}],\"scatterternary\":[{\"type\":\"scatterternary\",\"marker\":{\"colorbar\":{\"outlinewidth\":0,\"ticks\":\"\"}}}],\"scattercarpet\":[{\"type\":\"scattercarpet\",\"marker\":{\"colorbar\":{\"outlinewidth\":0,\"ticks\":\"\"}}}],\"carpet\":[{\"aaxis\":{\"endlinecolor\":\"#2a3f5f\",\"gridcolor\":\"white\",\"linecolor\":\"white\",\"minorgridcolor\":\"white\",\"startlinecolor\":\"#2a3f5f\"},\"baxis\":{\"endlinecolor\":\"#2a3f5f\",\"gridcolor\":\"white\",\"linecolor\":\"white\",\"minorgridcolor\":\"white\",\"startlinecolor\":\"#2a3f5f\"},\"type\":\"carpet\"}],\"table\":[{\"cells\":{\"fill\":{\"color\":\"#EBF0F8\"},\"line\":{\"color\":\"white\"}},\"header\":{\"fill\":{\"color\":\"#C8D4E3\"},\"line\":{\"color\":\"white\"}},\"type\":\"table\"}],\"barpolar\":[{\"marker\":{\"line\":{\"color\":\"#E5ECF6\",\"width\":0.5},\"pattern\":{\"fillmode\":\"overlay\",\"size\":10,\"solidity\":0.2}},\"type\":\"barpolar\"}],\"pie\":[{\"automargin\":true,\"type\":\"pie\"}]},\"layout\":{\"autotypenumbers\":\"strict\",\"colorway\":[\"#636efa\",\"#EF553B\",\"#00cc96\",\"#ab63fa\",\"#FFA15A\",\"#19d3f3\",\"#FF6692\",\"#B6E880\",\"#FF97FF\",\"#FECB52\"],\"font\":{\"color\":\"#2a3f5f\"},\"hovermode\":\"closest\",\"hoverlabel\":{\"align\":\"left\"},\"paper_bgcolor\":\"white\",\"plot_bgcolor\":\"#E5ECF6\",\"polar\":{\"bgcolor\":\"#E5ECF6\",\"angularaxis\":{\"gridcolor\":\"white\",\"linecolor\":\"white\",\"ticks\":\"\"},\"radialaxis\":{\"gridcolor\":\"white\",\"linecolor\":\"white\",\"ticks\":\"\"}},\"ternary\":{\"bgcolor\":\"#E5ECF6\",\"aaxis\":{\"gridcolor\":\"white\",\"linecolor\":\"white\",\"ticks\":\"\"},\"baxis\":{\"gridcolor\":\"white\",\"linecolor\":\"white\",\"ticks\":\"\"},\"caxis\":{\"gridcolor\":\"white\",\"linecolor\":\"white\",\"ticks\":\"\"}},\"coloraxis\":{\"colorbar\":{\"outlinewidth\":0,\"ticks\":\"\"}},\"colorscale\":{\"sequential\":[[0.0,\"#0d0887\"],[0.1111111111111111,\"#46039f\"],[0.2222222222222222,\"#7201a8\"],[0.3333333333333333,\"#9c179e\"],[0.4444444444444444,\"#bd3786\"],[0.5555555555555556,\"#d8576b\"],[0.6666666666666666,\"#ed7953\"],[0.7777777777777778,\"#fb9f3a\"],[0.8888888888888888,\"#fdca26\"],[1.0,\"#f0f921\"]],\"sequentialminus\":[[0.0,\"#0d0887\"],[0.1111111111111111,\"#46039f\"],[0.2222222222222222,\"#7201a8\"],[0.3333333333333333,\"#9c179e\"],[0.4444444444444444,\"#bd3786\"],[0.5555555555555556,\"#d8576b\"],[0.6666666666666666,\"#ed7953\"],[0.7777777777777778,\"#fb9f3a\"],[0.8888888888888888,\"#fdca26\"],[1.0,\"#f0f921\"]],\"diverging\":[[0,\"#8e0152\"],[0.1,\"#c51b7d\"],[0.2,\"#de77ae\"],[0.3,\"#f1b6da\"],[0.4,\"#fde0ef\"],[0.5,\"#f7f7f7\"],[0.6,\"#e6f5d0\"],[0.7,\"#b8e186\"],[0.8,\"#7fbc41\"],[0.9,\"#4d9221\"],[1,\"#276419\"]]},\"xaxis\":{\"gridcolor\":\"white\",\"linecolor\":\"white\",\"ticks\":\"\",\"title\":{\"standoff\":15},\"zerolinecolor\":\"white\",\"automargin\":true,\"zerolinewidth\":2},\"yaxis\":{\"gridcolor\":\"white\",\"linecolor\":\"white\",\"ticks\":\"\",\"title\":{\"standoff\":15},\"zerolinecolor\":\"white\",\"automargin\":true,\"zerolinewidth\":2},\"scene\":{\"xaxis\":{\"backgroundcolor\":\"#E5ECF6\",\"gridcolor\":\"white\",\"linecolor\":\"white\",\"showbackground\":true,\"ticks\":\"\",\"zerolinecolor\":\"white\",\"gridwidth\":2},\"yaxis\":{\"backgroundcolor\":\"#E5ECF6\",\"gridcolor\":\"white\",\"linecolor\":\"white\",\"showbackground\":true,\"ticks\":\"\",\"zerolinecolor\":\"white\",\"gridwidth\":2},\"zaxis\":{\"backgroundcolor\":\"#E5ECF6\",\"gridcolor\":\"white\",\"linecolor\":\"white\",\"showbackground\":true,\"ticks\":\"\",\"zerolinecolor\":\"white\",\"gridwidth\":2}},\"shapedefaults\":{\"line\":{\"color\":\"#2a3f5f\"}},\"annotationdefaults\":{\"arrowcolor\":\"#2a3f5f\",\"arrowhead\":0,\"arrowwidth\":1},\"geo\":{\"bgcolor\":\"white\",\"landcolor\":\"#E5ECF6\",\"subunitcolor\":\"white\",\"showland\":true,\"showlakes\":true,\"lakecolor\":\"white\"},\"title\":{\"x\":0.05},\"mapbox\":{\"style\":\"light\"}}},\"xaxis\":{\"anchor\":\"y\",\"domain\":[0.0,0.1075],\"scaleanchor\":\"y\",\"constrain\":\"domain\"},\"yaxis\":{\"anchor\":\"x\",\"domain\":[0.0,0.46499999999999997],\"autorange\":\"reversed\",\"constrain\":\"domain\"},\"xaxis2\":{\"anchor\":\"y2\",\"domain\":[0.1275,0.235],\"matches\":\"x\"},\"yaxis2\":{\"anchor\":\"x2\",\"domain\":[0.0,0.46499999999999997],\"matches\":\"y\",\"showticklabels\":false},\"xaxis3\":{\"anchor\":\"y3\",\"domain\":[0.255,0.3625],\"matches\":\"x\"},\"yaxis3\":{\"anchor\":\"x3\",\"domain\":[0.0,0.46499999999999997],\"matches\":\"y\",\"showticklabels\":false},\"xaxis4\":{\"anchor\":\"y4\",\"domain\":[0.3825,0.49],\"matches\":\"x\"},\"yaxis4\":{\"anchor\":\"x4\",\"domain\":[0.0,0.46499999999999997],\"matches\":\"y\",\"showticklabels\":false},\"xaxis5\":{\"anchor\":\"y5\",\"domain\":[0.51,0.6175],\"matches\":\"x\"},\"yaxis5\":{\"anchor\":\"x5\",\"domain\":[0.0,0.46499999999999997],\"matches\":\"y\",\"showticklabels\":false},\"xaxis6\":{\"anchor\":\"y6\",\"domain\":[0.6375,0.745],\"matches\":\"x\"},\"yaxis6\":{\"anchor\":\"x6\",\"domain\":[0.0,0.46499999999999997],\"matches\":\"y\",\"showticklabels\":false},\"xaxis7\":{\"anchor\":\"y7\",\"domain\":[0.765,0.8725],\"matches\":\"x\"},\"yaxis7\":{\"anchor\":\"x7\",\"domain\":[0.0,0.46499999999999997],\"matches\":\"y\",\"showticklabels\":false},\"xaxis8\":{\"anchor\":\"y8\",\"domain\":[0.8925000000000001,1.0],\"matches\":\"x\"},\"yaxis8\":{\"anchor\":\"x8\",\"domain\":[0.0,0.46499999999999997],\"matches\":\"y\",\"showticklabels\":false},\"xaxis9\":{\"anchor\":\"y9\",\"domain\":[0.0,0.1075],\"matches\":\"x\",\"showticklabels\":false},\"yaxis9\":{\"anchor\":\"x9\",\"domain\":[0.5349999999999999,0.9999999999999999],\"matches\":\"y\"},\"xaxis10\":{\"anchor\":\"y10\",\"domain\":[0.1275,0.235],\"matches\":\"x\",\"showticklabels\":false},\"yaxis10\":{\"anchor\":\"x10\",\"domain\":[0.5349999999999999,0.9999999999999999],\"matches\":\"y\",\"showticklabels\":false},\"xaxis11\":{\"anchor\":\"y11\",\"domain\":[0.255,0.3625],\"matches\":\"x\",\"showticklabels\":false},\"yaxis11\":{\"anchor\":\"x11\",\"domain\":[0.5349999999999999,0.9999999999999999],\"matches\":\"y\",\"showticklabels\":false},\"xaxis12\":{\"anchor\":\"y12\",\"domain\":[0.3825,0.49],\"matches\":\"x\",\"showticklabels\":false},\"yaxis12\":{\"anchor\":\"x12\",\"domain\":[0.5349999999999999,0.9999999999999999],\"matches\":\"y\",\"showticklabels\":false},\"xaxis13\":{\"anchor\":\"y13\",\"domain\":[0.51,0.6175],\"matches\":\"x\",\"showticklabels\":false},\"yaxis13\":{\"anchor\":\"x13\",\"domain\":[0.5349999999999999,0.9999999999999999],\"matches\":\"y\",\"showticklabels\":false},\"xaxis14\":{\"anchor\":\"y14\",\"domain\":[0.6375,0.745],\"matches\":\"x\",\"showticklabels\":false},\"yaxis14\":{\"anchor\":\"x14\",\"domain\":[0.5349999999999999,0.9999999999999999],\"matches\":\"y\",\"showticklabels\":false},\"xaxis15\":{\"anchor\":\"y15\",\"domain\":[0.765,0.8725],\"matches\":\"x\",\"showticklabels\":false},\"yaxis15\":{\"anchor\":\"x15\",\"domain\":[0.5349999999999999,0.9999999999999999],\"matches\":\"y\",\"showticklabels\":false},\"xaxis16\":{\"anchor\":\"y16\",\"domain\":[0.8925000000000001,1.0],\"matches\":\"x\",\"showticklabels\":false},\"yaxis16\":{\"anchor\":\"x16\",\"domain\":[0.5349999999999999,0.9999999999999999],\"matches\":\"y\",\"showticklabels\":false},\"annotations\":[{\"font\":{},\"showarrow\":false,\"text\":\"Move 8\",\"x\":0.05375,\"xanchor\":\"center\",\"xref\":\"paper\",\"y\":0.46499999999999997,\"yanchor\":\"bottom\",\"yref\":\"paper\"},{\"font\":{},\"showarrow\":false,\"text\":\"Move 9\",\"x\":0.18125,\"xanchor\":\"center\",\"xref\":\"paper\",\"y\":0.46499999999999997,\"yanchor\":\"bottom\",\"yref\":\"paper\"},{\"font\":{},\"showarrow\":false,\"text\":\"Move 10\",\"x\":0.30874999999999997,\"xanchor\":\"center\",\"xref\":\"paper\",\"y\":0.46499999999999997,\"yanchor\":\"bottom\",\"yref\":\"paper\"},{\"font\":{},\"showarrow\":false,\"text\":\"Move 11\",\"x\":0.43625,\"xanchor\":\"center\",\"xref\":\"paper\",\"y\":0.46499999999999997,\"yanchor\":\"bottom\",\"yref\":\"paper\"},{\"font\":{},\"showarrow\":false,\"text\":\"Move 12\",\"x\":0.56375,\"xanchor\":\"center\",\"xref\":\"paper\",\"y\":0.46499999999999997,\"yanchor\":\"bottom\",\"yref\":\"paper\"},{\"font\":{},\"showarrow\":false,\"text\":\"Move 13\",\"x\":0.6912499999999999,\"xanchor\":\"center\",\"xref\":\"paper\",\"y\":0.46499999999999997,\"yanchor\":\"bottom\",\"yref\":\"paper\"},{\"font\":{},\"showarrow\":false,\"text\":\"Move 14\",\"x\":0.8187500000000001,\"xanchor\":\"center\",\"xref\":\"paper\",\"y\":0.46499999999999997,\"yanchor\":\"bottom\",\"yref\":\"paper\"},{\"font\":{},\"showarrow\":false,\"text\":\"Move 15\",\"x\":0.94625,\"xanchor\":\"center\",\"xref\":\"paper\",\"y\":0.46499999999999997,\"yanchor\":\"bottom\",\"yref\":\"paper\"},{\"font\":{},\"showarrow\":false,\"text\":\"Move 0\",\"x\":0.05375,\"xanchor\":\"center\",\"xref\":\"paper\",\"y\":0.9999999999999999,\"yanchor\":\"bottom\",\"yref\":\"paper\"},{\"font\":{},\"showarrow\":false,\"text\":\"Move 1\",\"x\":0.18125,\"xanchor\":\"center\",\"xref\":\"paper\",\"y\":0.9999999999999999,\"yanchor\":\"bottom\",\"yref\":\"paper\"},{\"font\":{},\"showarrow\":false,\"text\":\"Move 2\",\"x\":0.30874999999999997,\"xanchor\":\"center\",\"xref\":\"paper\",\"y\":0.9999999999999999,\"yanchor\":\"bottom\",\"yref\":\"paper\"},{\"font\":{},\"showarrow\":false,\"text\":\"Move 3\",\"x\":0.43625,\"xanchor\":\"center\",\"xref\":\"paper\",\"y\":0.9999999999999999,\"yanchor\":\"bottom\",\"yref\":\"paper\"},{\"font\":{},\"showarrow\":false,\"text\":\"Move 4\",\"x\":0.56375,\"xanchor\":\"center\",\"xref\":\"paper\",\"y\":0.9999999999999999,\"yanchor\":\"bottom\",\"yref\":\"paper\"},{\"font\":{},\"showarrow\":false,\"text\":\"Move 5\",\"x\":0.6912499999999999,\"xanchor\":\"center\",\"xref\":\"paper\",\"y\":0.9999999999999999,\"yanchor\":\"bottom\",\"yref\":\"paper\"},{\"font\":{},\"showarrow\":false,\"text\":\"Move 6\",\"x\":0.8187500000000001,\"xanchor\":\"center\",\"xref\":\"paper\",\"y\":0.9999999999999999,\"yanchor\":\"bottom\",\"yref\":\"paper\"},{\"font\":{},\"showarrow\":false,\"text\":\"Move 7\",\"x\":0.94625,\"xanchor\":\"center\",\"xref\":\"paper\",\"y\":0.9999999999999999,\"yanchor\":\"bottom\",\"yref\":\"paper\"}],\"coloraxis\":{\"colorscale\":[[0.0,\"rgb(255,255,255)\"],[0.125,\"rgb(240,240,240)\"],[0.25,\"rgb(217,217,217)\"],[0.375,\"rgb(189,189,189)\"],[0.5,\"rgb(150,150,150)\"],[0.625,\"rgb(115,115,115)\"],[0.75,\"rgb(82,82,82)\"],[0.875,\"rgb(37,37,37)\"],[1.0,\"rgb(0,0,0)\"]],\"cmid\":0.0},\"title\":{\"text\":\"First 16 moves of first game\"}},                        {\"staticPlot\": false, \"responsive\": true}                    ).then(function(){\n",
       "                            \n",
       "var gd = document.getElementById('7c1952f9-05ee-49cc-8fbc-074e6a15a0b4');\n",
       "var x = new MutationObserver(function (mutations, observer) {{\n",
       "        var display = window.getComputedStyle(gd).display;\n",
       "        if (!display || display === 'none') {{\n",
       "            console.log([gd, 'removed!']);\n",
       "            Plotly.purge(gd);\n",
       "            observer.disconnect();\n",
       "        }}\n",
       "}});\n",
       "\n",
       "// Listen for the removal of the full notebook cells\n",
       "var notebookContainer = gd.closest('#notebook-container');\n",
       "if (notebookContainer) {{\n",
       "    x.observe(notebookContainer, {childList: true});\n",
       "}}\n",
       "\n",
       "// Listen for the clearing of the current output cell\n",
       "var outputEl = gd.closest('.output');\n",
       "if (outputEl) {{\n",
       "    x.observe(outputEl, {childList: true});\n",
       "}}\n",
       "\n",
       "                        })                };                });            </script>        </div>"
      ]
     },
     "metadata": {},
     "output_type": "display_data"
    }
   ],
   "source": [
    "plot_game(focus_games_string, 13, end_move=16)"
   ]
  },
  {
   "cell_type": "code",
   "execution_count": 33,
   "metadata": {},
   "outputs": [
    {
     "data": {
      "text/plain": [
       "'variables = get_variables(focus_cache[module])\\nvariables = variables[:2, :]\\nweights = init_weights()\\nneuron_activations = full_fuzzy_inference(variables, weights)\\nprint(neuron_activations[0, 0, neuron])'"
      ]
     },
     "execution_count": 33,
     "metadata": {},
     "output_type": "execute_result"
    }
   ],
   "source": [
    "\"\"\"layer = 1\n",
    "module = f\"blocks.{layer}.ln2.hook_normalized\"\n",
    "neuron = 426\n",
    "neurons_count = 2048\n",
    "variables_count = 64 * (3 + 2 + 2)\n",
    "rules_count = 10\n",
    "\n",
    "neuron_negative_func = MemberShipFunc(-5, -3, 0, 0.5)\n",
    "neuron_positive_func = MemberShipFunc(0, 0.5, 3, 5)\"\"\"\n",
    "\n",
    "neuron_membership_funcs = [(-5, -3, 0, 0.5), (0, 0.5, 3, 5)]\n",
    "\n",
    "# TODO: First make funcitons narrow, then gerenerell\n",
    "def variables_to_tensor(input_variables : Dict[str, Tuple]) -> Float[Tensor, \"variables\"]:\n",
    "    out = t.Tensor((64 * (3 + 2 + 2)))\n",
    "    i = 0\n",
    "    for _, value in input_variables.items():\n",
    "        for j in range(len(value)):\n",
    "            out[i] = value[j]\n",
    "            i += 1\n",
    "    return out\n",
    "\n",
    "def tensor_to_variables(input_tensor : Float[Tensor, \"variables\"]) -> Dict[str, Tuple]:\n",
    "    pass\n",
    "\n",
    "def compute_fuzzy_out(fuzzy_weights, input_variables, pos, neurons, rules):\n",
    "    fuzzy_weights_r = einops.repeat(fuzzy_weights, \"neurons rules variables -> pos neurons rules variables\", pos=pos)\n",
    "    input_variables_r = einops.repeat(input_variables, \"pos variables -> pos neurons rules variables\", neurons=neurons, rules=rules)\n",
    "    updated_variables : Float[Tensor, \"pos neuron rules variables\"] = 1 - fuzzy_weights_r * (1 - input_variables_r)\n",
    "    # fuzzy_mid = einops.reduce(updated_variables, \"pos neurons rules variables -> pos neurons rules\", \"min\")  # AND Gate\n",
    "    # fuzzy_out = einops.reduce(fuzzy_mid, \"pos neurons rules -> pos neurons\", \"max\")  # OR Gate\n",
    "    updated_variables = updated_variables.min(dim=-1).values  # AND Gate\n",
    "    updated_variables = updated_variables.max(dim=-1).values  # OR Gate\n",
    "    return updated_variables\n",
    "\n",
    "def compute_fuzzy_mid(fuzzy_weights, input_variables, v, batch, pos, neurons, rules):\n",
    "    return 1 - einops.repeat(fuzzy_weights[:, :, v], \"neurons rules -> batch pos neurons rules\", batch=batch, pos=pos) * (1 - einops.repeat(input_variables[:, :, v], \"batch pos -> batch pos neurons rules\", neurons=neurons, rules=rules))\n",
    "\n",
    "def compute_fuzzy_out_new(fuzzy_weights, input_variables):\n",
    "    neurons, rules, variables = fuzzy_weights.shape\n",
    "    batch, pos, variables = input_variables.shape\n",
    "    # fuzzy_weights_r = einops.repeat(fuzzy_weights, \"neurons rules variables -> pos neurons rules variables\")\n",
    "    # input_variables_r = einops.repeat(input_variables, \"batch pos variables -> pos neurons rules variables\")\n",
    "    fuzzy_mid = t.zeros((batch, pos, neurons, rules)).to(device)\n",
    "    for v in range(variables):\n",
    "        if debug:\n",
    "            print(f\"Fuzzy Logic started for variable {v}\")\n",
    "            debug_memory()\n",
    "        fuzzy_mid = t.min(fuzzy_mid, compute_fuzzy_mid(fuzzy_weights, input_variables, v, batch, pos, neurons, rules))\n",
    "    # fuzzy_mid = einops.reduce(updated_variables, \"pos neurons rules variables -> pos neurons rules\", \"min\")  # AND Gate\n",
    "    # fuzzy_out = einops.reduce(fuzzy_mid, \"pos neurons rules -> pos neurons\", \"max\")  # OR Gate\n",
    "    updated_variables = updated_variables.min(dim=-1).values  # AND Gate\n",
    "    updated_variables = updated_variables.max(dim=-1).values  # OR Gate\n",
    "    return updated_variables\n",
    "\n",
    "\n",
    "def perform_fuzzy_logic(input_variables : Float[Tensor, \"batch pos variables\"], fuzzy_weights : Float[Tensor, \"neuron rules variables\"]) -> Dict[str, Tuple]:\n",
    "    batch, pos, variables = input_variables.shape\n",
    "    neurons, rules, _ = fuzzy_weights.shape\n",
    "    if neurons == 1:\n",
    "        fuzzy_weights_r = einops.repeat(fuzzy_weights, \"neurons rules variables -> batch pos neurons rules variables\", batch=batch, pos=pos)\n",
    "        input_variables_r = einops.repeat(input_variables, \"batch pos variables -> batch pos neurons rules variables\", neurons=neurons, rules=rules)\n",
    "        updated_variables : Float[Tensor, \"batch pos neuron rules variables\"] = 1 - fuzzy_weights_r * (1 - input_variables_r)\n",
    "        fuzzy_mid = einops.reduce(updated_variables, \"batch pos neurons rules variables -> batch pos neurons rules\", \"min\")  # AND Gate\n",
    "        fuzzy_out = einops.reduce(fuzzy_mid, \"batch pos neurons rules -> batch pos neurons\", \"max\")  # OR Gate\n",
    "        return fuzzy_out\n",
    "    fuzzy_out_complete = []\n",
    "    for b in range(batch):\n",
    "        if debug:\n",
    "            print(f\"Fuzzy Logic started for batch {b}\")\n",
    "            debug_memory()\n",
    "        fuzzy_out = compute_fuzzy_out(fuzzy_weights, input_variables[b], pos, neurons, rules)\n",
    "        fuzzy_out_complete.append(fuzzy_out)\n",
    "    fuzzy_out_complete = t.stack(fuzzy_out_complete, dim=0)\n",
    "    # fuzzy_out_complete = compute_fuzzy_out_new(fuzzy_weights, input_variables)\n",
    "    return fuzzy_out_complete\n",
    "\n",
    "def perform_defuzzification(neuron_positive : Float[Tensor, \"batch pos neurons\"]) -> Float[Tensor, \"batch pos neurons\"]:\n",
    "    # I need the fuzzy membership funcitions for the neurons and some algorithm\n",
    "    if debug:\n",
    "        print(\"Defuzzification started\")\n",
    "    neuron_negative = 1 - neuron_positive\n",
    "    batch, pos, neurons = neuron_positive.shape\n",
    "    neuron_activation = get_centroid(neuron_membership_funcs, t.stack([neuron_negative, neuron_positive], dim=0))\n",
    "    if debug:\n",
    "        print(\"Defuzzification ended\")\n",
    "    return neuron_activation\n",
    "\n",
    "def full_fuzzy_inference(input_variables : Float[Tensor, \"batch pos variables\"], fuzzy_weights : Float[Tensor, \"neuron rules variables\"]) -> Dict[str, float]: # Probe Results -> Neuron Activations\n",
    "    \"\"\"\n",
    "    Perform fuzzy inference on the input variables.\n",
    "    \"\"\"\n",
    "    # input_variables = input_variables_to_tensor(input_variables)\n",
    "    # 1. Turn Fuzzy Variable into another Fuzzy Variable using the learned logical rules\n",
    "    # The shape here will change with better neuron membership functions\n",
    "    fuzzy_out : Float[Tensor, \"batch pos neurons\"] = perform_fuzzy_logic(input_variables, fuzzy_weights)\n",
    "    # 2. Turn the Fuzzy Variable into a crisp value using defuzzification\n",
    "    neuron_activations : Float[Tensor, \"batch pos neurons\"] = perform_defuzzification(fuzzy_out)\n",
    "    return neuron_activations\n",
    "\n",
    "def get_variables(resid_mid : Float[Tensor, \"batch pos d_model\"], layer) -> Float[Tensor, \"batch pos variables\"]:\n",
    "    probe_results_all = []\n",
    "    for probe_name in [\"linear\", \"flipped\", \"placed\"]:\n",
    "        probe = get_probe(layer, probe_name, \"mid\")[0]\n",
    "        probe_result = einops.einsum(resid_mid, probe, \"batch pos d_model, d_model rows cols options -> batch pos rows cols options\").softmax(dim=-1)\n",
    "        probe_result = einops.rearrange(probe_result, \"batch pos rows cols options -> batch pos (rows cols options)\")\n",
    "        probe_results_all.append(probe_result)\n",
    "    probe_results_all = t.cat(probe_results_all, dim=-1)\n",
    "    return probe_results_all\n",
    "\n",
    "def init_weights(neurons_count, rules_count, variables_count, manual=False) -> Float[Tensor, \"neurons rules variables\"]:\n",
    "    if manual:\n",
    "        fuzzy_weights = t.zeros(size=(neurons_count, rules_count, 8, 8, 7), requires_grad=False).to(device)\n",
    "        fuzzy_weights[0, 0, *label_to_tuple(\"E2\"), 5] = 1\n",
    "        fuzzy_weights[0, 0, *label_to_tuple(\"E3\"), 3] = 1\n",
    "        fuzzy_weights[0, 0, *label_to_tuple(\"F2\"), 3] = 1\n",
    "\n",
    "        fuzzy_weights[0, 1, *label_to_tuple(\"F3\"), 5] = 1\n",
    "        fuzzy_weights[0, 1, *label_to_tuple(\"E3\"), 3] = 1\n",
    "        fuzzy_weights[0, 1, *label_to_tuple(\"F2\"), 3] = 1\n",
    "\n",
    "        fuzzy_weights[0, 2, *label_to_tuple(\"C5\"), 5] = 1\n",
    "        fuzzy_weights[0, 2, *label_to_tuple(\"E3\"), 3] = 1\n",
    "        fuzzy_weights[0, 2, *label_to_tuple(\"F2\"), 3] = 1\n",
    "\n",
    "        fuzzy_weights[0, 3, *label_to_tuple(\"B6\"), 5] = 1\n",
    "        fuzzy_weights[0, 3, *label_to_tuple(\"E3\"), 3] = 1\n",
    "        fuzzy_weights[0, 3, *label_to_tuple(\"F2\"), 3] = 1\n",
    "\n",
    "        fuzzy_weights[0, 4, *label_to_tuple(\"F5\"), 5] = 1\n",
    "        fuzzy_weights[0, 4, *label_to_tuple(\"E4\"), YOURS] = 1\n",
    "        fuzzy_weights[0, 4, *label_to_tuple(\"F3\"), YOURS] = 1\n",
    "        fuzzy_weights[0, 4, *label_to_tuple(\"E2\"), YOURS] = 1\n",
    "        fuzzy_weights[0, 4, *label_to_tuple(\"F1\"), YOURS] = 1\n",
    "\n",
    "        fuzzy_weights = einops.rearrange(fuzzy_weights, \"neurons rules rows cols option_probes -> neurons rules (rows cols option_probes)\")\n",
    "        fuzzy_weights.requires_grad = True\n",
    "        return fuzzy_weights\n",
    "    \n",
    "    fuzzy_weights = t.randn(size=(neurons_count, rules_count, variables_count), requires_grad=False).to(device)\n",
    "    fuzzy_weights = fuzzy_weights.normal_(0.3, 0.01)\n",
    "    fuzzy_weights.requires_grad = True\n",
    "    return fuzzy_weights\n",
    "\n",
    "# Try one inference\n",
    "\"\"\"variables = get_variables(focus_cache[module])\n",
    "variables = variables[:2, :]\n",
    "weights = init_weights()\n",
    "neuron_activations = full_fuzzy_inference(variables, weights)\n",
    "print(neuron_activations[0, 0, neuron])\"\"\""
   ]
  },
  {
   "cell_type": "code",
   "execution_count": 34,
   "metadata": {},
   "outputs": [],
   "source": [
    "@dataclass\n",
    "class FuzzyTrainingArgs():\n",
    "    # Which layer, and which positions in a game sequence to probe\n",
    "    def __init__(self, run_number : int, layer : int, single_neuron=None):\n",
    "        self.debug = False\n",
    "        self.run_number = run_number\n",
    "        self.layer: int = layer\n",
    "        self.pos_start: int = 0\n",
    "        self.pos_end: int = 59\n",
    "        self.length: int = self.pos_end - self.pos_start\n",
    "        self.max_epochs = 1\n",
    "        self.single_neuron = single_neuron\n",
    "        self.rules_count = 10\n",
    "        self.neurons_count = 2048 if single_neuron is None else 1\n",
    "        self.variables_count = 64 * (3 + 2 + 2)\n",
    "        self.manual = False\n",
    "\n",
    "        self.num_games_train: int = 250\n",
    "        self.batch_size: int = 2\n",
    "\n",
    "        self.lr: float = 1e-2\n",
    "        self.betas: Tuple[float, float] = (0.9, 0.99)\n",
    "        self.wd: float = 0.1\n",
    "\n",
    "        self.run_name: str = f\"Fuzzy_{self.run_number}\"\n",
    "        self.full_run_name: str = f\"Fuzzy_L{self.layer}_{self.run_number}\"\n",
    "\n",
    "        # wnadb\n",
    "        self.wandb_project: str = f\"Train Fuzzy Logic Gates Test\""
   ]
  },
  {
   "cell_type": "code",
   "execution_count": 35,
   "metadata": {},
   "outputs": [],
   "source": [
    "class FuzzyTrainer:\n",
    "    def __init__(self, model: HookedTransformer, args: FuzzyTrainingArgs, train_base_resid):\n",
    "        self.model = model\n",
    "        self.args = args\n",
    "        self.probe_names = {\n",
    "            \"linear\" : [\"empty\", \"yours\", \"mine\"],\n",
    "            \"flipped\" : [\"flipped\", \"not_flipped\"],\n",
    "            \"placed\" : [\"placed\", \"not_placed\"],\n",
    "        }\n",
    "        self.weights : Float[Tensor, \"neurons rules variables\"] = init_weights(self.args.neurons_count, self.args.rules_count, self.args.variables_count, self.args.manual)\n",
    "\n",
    "    def training_step(self, indices: Int[Tensor, \"game_idx\"], train_or_val=\"train\") -> t.Tensor:\n",
    "        # Get the game sequences and convert them to state stacks\n",
    "        games_int = board_seqs_int[indices.cpu()]\n",
    "        games_str = board_seqs_string[indices.cpu()]\n",
    "        batch_size = self.args.batch_size\n",
    "        game_len = self.args.length\n",
    "        # options = self.args.options\n",
    "        d_model = 512\n",
    "\n",
    "        # games_int = tensor of game sequences, each of length 60\n",
    "        # This is the input to our model\n",
    "        assert isinstance(games_int, Int[Tensor, f\"batch={batch_size} full_game_len=60\"])\n",
    "\n",
    "        # SOLUTION\n",
    "        with t.inference_mode():\n",
    "            _, cache = model.run_with_cache(\n",
    "                games_int[:, :-1].to(device),\n",
    "                return_type=None,\n",
    "                names_filter=lambda name: name == f\"blocks.{self.args.layer}.ln2.hook_normalized\" or name == f\"blocks.{layer}.mlp.hook_post\"\n",
    "            )\n",
    "            resid_layer_norm = cache[f\"blocks.{self.args.layer}.ln2.hook_normalized\"][:, self.args.pos_start: self.args.pos_end]\n",
    "            neuron_activations : Float[Tensor, \"batch pos neurons\"] = cache[\"mlp_post\", layer][:, self.args.pos_start: self.args.pos_end]\n",
    "            if self.args.single_neuron is not None:\n",
    "                neuron_activations = neuron_activations[:, :, self.args.single_neuron].unsqueeze(-1)\n",
    "            # resid = cache[\"resid_mid\", layer][:, self.args.pos_start: self.args.pos_end]\n",
    "        resid_layer_norm = resid_layer_norm.clone().detach().to(device)\n",
    "        variables : Float[Tensor, \"batch pos variables\"] = get_variables(resid_layer_norm, self.args.layer)\n",
    "        neuron_activations_pred : Float[Tensor, \"batch pos neurons\"] = full_fuzzy_inference(variables, self.weights)\n",
    "\n",
    "        mse : Float[Tensor, \"batch pos neurons\"] = (neuron_activations - neuron_activations_pred)**2\n",
    "        mse_loss = mse.mean()\n",
    "\n",
    "        # TODO: Create a fancy loss function that everything at ones (Forces the weights to be either 0 or 1, but allowing transitions between these two)\n",
    "        # This is currently a placeholder\n",
    "        sparcity_loss = self.weights.abs().mean()\n",
    "        negative_loss = self.weights.clamp(max=0).mean()\n",
    "        over_one_loss = self.weights.clamp(min=1).mean()\n",
    "        loss = mse_loss + self.args.wd * (sparcity_loss + negative_loss + over_one_loss)\n",
    "        \n",
    "        if train_or_val == \"train\" and self.step % 10 == 0 and not self.args.debug:\n",
    "            wandb.log({f\"{train_or_val}_loss\": loss.item()}, step=self.step)\n",
    "        self.step += 1\n",
    "\n",
    "        return loss\n",
    "        \n",
    "    def save_weights(self, object, path):\n",
    "        folder_path = \"/\".join(path.split(\"/\")[:-1])\n",
    "        if not os.path.exists(folder_path):\n",
    "            os.makedirs(folder_path)\n",
    "        with open(path, \"wb\") as f:\n",
    "            pickle.dump(object, f)\n",
    "\n",
    "    def shuffle_indices(self, start, num_games):\n",
    "        '''\n",
    "        Helper function\n",
    "        '''\n",
    "        n_indices = num_games - (num_games % self.args.batch_size)\n",
    "        full_train_indices = t.randperm(num_games)[:n_indices] + start\n",
    "        full_train_indices = einops.rearrange(full_train_indices, \"(batch_idx game_idx) -> batch_idx game_idx\", game_idx=self.args.batch_size)\n",
    "        return full_train_indices\n",
    "    \n",
    "    def shuffle_training_indices(self):\n",
    "        '''\n",
    "        Returns the tensors you'll use to index into the training data.\n",
    "        '''\n",
    "        return self.shuffle_indices(0, self.args.num_games_train)\n",
    "\n",
    "    def train(self):\n",
    "        print(f\"Training Probe: {self.args.full_run_name}\")\n",
    "        self.step = 0\n",
    "        if not self.args.debug:\n",
    "            wandb.login()\n",
    "            wandb.init(project=self.args.wandb_project, name=self.args.full_run_name, config=self.args)\n",
    "\n",
    "        optimizer = t.optim.AdamW([self.weights], lr=self.args.lr, betas=self.args.betas)\n",
    "\n",
    "        for epoch in range(self.args.max_epochs):\n",
    "            full_train_indices = self.shuffle_training_indices()\n",
    "            progress_bar_train = tqdm(full_train_indices)\n",
    "            for indices in progress_bar_train:\n",
    "                loss = self.training_step(indices)\n",
    "                loss.backward()\n",
    "                optimizer.step()\n",
    "                optimizer.zero_grad()\n",
    "                progress_bar_train.set_description(f\"Train_Loss = {loss:.4f}\")\n",
    "\n",
    "        if not self.args.debug:\n",
    "            wandb.finish()\n",
    "            self.save_weights(self.weights, f\"fuzzy_weights/_{self.args.full_run_name}.pth\")\n",
    "        print(\"Probe Trained and Saved\")"
   ]
  },
  {
   "cell_type": "code",
   "execution_count": 36,
   "metadata": {},
   "outputs": [
    {
     "name": "stdout",
     "output_type": "stream",
     "text": [
      "Training Probe: Fuzzy_L0_0\n"
     ]
    },
    {
     "data": {
      "application/vnd.jupyter.widget-view+json": {
       "model_id": "b209a564fc274b35ac98132e4b5875c9",
       "version_major": 2,
       "version_minor": 0
      },
      "text/plain": [
       "  0%|          | 0/1 [00:00<?, ?it/s]"
      ]
     },
     "metadata": {},
     "output_type": "display_data"
    },
    {
     "name": "stdout",
     "output_type": "stream",
     "text": [
      "Probe Trained and Saved\n"
     ]
    }
   ],
   "source": [
    "# set torch to random seed and print the seed\n",
    "t.manual_seed(42)\n",
    "run_number = 0\n",
    "\n",
    "args = FuzzyTrainingArgs(run_number, layer=0, single_neuron=368)\n",
    "args.num_games_train = 128\n",
    "args.batch_size = 128\n",
    "args.rules_count = 5\n",
    "args.manual = True\n",
    "args.debug = True\n",
    "trainer = FuzzyTrainer(model, args, train_base_resid=False)\n",
    "trainer.train()"
   ]
  },
  {
   "cell_type": "code",
   "execution_count": 37,
   "metadata": {},
   "outputs": [
    {
     "name": "stdout",
     "output_type": "stream",
     "text": [
      "Rule 0, E2 is placed: 0.9899004697799683\n",
      "Rule 0, E3 is flipped: 0.9898999929428101\n",
      "Rule 0, F2 is flipped: 0.9899000525474548\n",
      "Rule 1, E3 is flipped: 0.9898999929428101\n",
      "Rule 1, F2 is flipped: 0.9899011254310608\n",
      "Rule 1, F3 is placed: 0.9898999929428101\n",
      "Rule 2, C5 is placed: 0.9898999929428101\n",
      "Rule 2, E3 is flipped: 0.9898999929428101\n",
      "Rule 2, F2 is flipped: 0.9899002313613892\n",
      "Rule 3, B6 is placed: 0.9898999929428101\n",
      "Rule 3, E3 is flipped: 0.9898999929428101\n",
      "Rule 3, F2 is flipped: 0.9899001717567444\n",
      "Rule 4, E2 is yours: 0.9899011254310608\n",
      "Rule 4, E4 is yours: 0.9899011254310608\n",
      "Rule 4, F1 is yours: 0.9898999929428101\n",
      "Rule 4, F3 is yours: 0.9898999929428101\n",
      "Rule 4, F5 is placed: 0.9898999929428101\n"
     ]
    }
   ],
   "source": [
    "def print_rules(weights : Float[Tensor, \"neurons rules variables\"], neuron : int = 0):\n",
    "    thresh = 0.1\n",
    "    # TODO: Why did I put all these dimensions together in the first place? I guess it is easier to understand this way\n",
    "    variables = einops.rearrange(weights, \"neurons rules (rows cols options_probes) -> neurons rules rows cols options_probes\", rows=8, cols=8, options_probes=7)[neuron]\n",
    "    rules, rows, cols, options_probes = variables.shape\n",
    "    for rule in range(rules):\n",
    "        for row in range(rows):\n",
    "            for col in range(cols):\n",
    "                for options_probe in range(options_probes):\n",
    "                    if options_probe < 3:\n",
    "                        option = options_probe\n",
    "                        probe = 0\n",
    "                    elif options_probe < 5:\n",
    "                        option = options_probe - 3\n",
    "                        probe = 1\n",
    "                    else:\n",
    "                        option = options_probe - 5\n",
    "                        probe = 2\n",
    "                    weight = variables[rule, row, col, options_probe]\n",
    "                    probe_str = [\"linear\", \"flipped\", \"placed\"][probe]\n",
    "                    option_str = get_direction_str(probe_str, option)\n",
    "                    label = tuple_to_label((row, col))\n",
    "                    if weight > thresh:\n",
    "                        print(f\"Rule {rule}, {label} is {option_str}: {weight}\")\n",
    "print_rules(trainer.weights, neuron=0)"
   ]
  },
  {
   "cell_type": "code",
   "execution_count": 38,
   "metadata": {},
   "outputs": [
    {
     "name": "stdout",
     "output_type": "stream",
     "text": [
      "torch.Size([1, 5, 448])\n",
      "tensor(3, device='cuda:0')\n",
      "tensor(3, device='cuda:0')\n",
      "tensor(3, device='cuda:0')\n",
      "tensor(3, device='cuda:0')\n",
      "tensor(3, device='cuda:0')\n",
      "tensor(3, device='cuda:0')\n",
      "tensor(3, device='cuda:0')\n",
      "tensor(3, device='cuda:0')\n",
      "tensor(5, device='cuda:0')\n",
      "tensor(5, device='cuda:0')\n"
     ]
    },
    {
     "ename": "IndexError",
     "evalue": "index 5 is out of bounds for dimension 1 with size 5",
     "output_type": "error",
     "traceback": [
      "\u001b[0;31m---------------------------------------------------------------------------\u001b[0m",
      "\u001b[0;31mIndexError\u001b[0m                                Traceback (most recent call last)",
      "Cell \u001b[0;32mIn[38], line 3\u001b[0m\n\u001b[1;32m      1\u001b[0m \u001b[38;5;28mprint\u001b[39m(trainer\u001b[38;5;241m.\u001b[39mweights\u001b[38;5;241m.\u001b[39mshape)\n\u001b[1;32m      2\u001b[0m \u001b[38;5;28;01mfor\u001b[39;00m i \u001b[38;5;129;01min\u001b[39;00m \u001b[38;5;28mrange\u001b[39m(\u001b[38;5;241m10\u001b[39m):\n\u001b[0;32m----> 3\u001b[0m     \u001b[38;5;28mprint\u001b[39m((\u001b[43mtrainer\u001b[49m\u001b[38;5;241;43m.\u001b[39;49m\u001b[43mweights\u001b[49m\u001b[43m[\u001b[49m\u001b[43m:\u001b[49m\u001b[43m,\u001b[49m\u001b[43m \u001b[49m\u001b[43mi\u001b[49m\u001b[43m,\u001b[49m\u001b[43m \u001b[49m\u001b[43m:\u001b[49m\u001b[43m]\u001b[49m \u001b[38;5;241m>\u001b[39m \u001b[38;5;241m0.1\u001b[39m)\u001b[38;5;241m.\u001b[39msum())\n\u001b[1;32m      4\u001b[0m     \u001b[38;5;28mprint\u001b[39m((trainer\u001b[38;5;241m.\u001b[39mweights[:, i, :] \u001b[38;5;241m>\u001b[39m \u001b[38;5;241m0.3\u001b[39m)\u001b[38;5;241m.\u001b[39msum())\n",
      "\u001b[0;31mIndexError\u001b[0m: index 5 is out of bounds for dimension 1 with size 5"
     ]
    }
   ],
   "source": [
    "print(trainer.weights.shape)\n",
    "for i in range(10):\n",
    "    print((trainer.weights[:, i, :] > 0.1).sum())\n",
    "    print((trainer.weights[:, i, :] > 0.3).sum())"
   ]
  }
 ],
 "metadata": {
  "kernelspec": {
   "display_name": "othello-env",
   "language": "python",
   "name": "python3"
  },
  "language_info": {
   "codemirror_mode": {
    "name": "ipython",
    "version": 3
   },
   "file_extension": ".py",
   "mimetype": "text/x-python",
   "name": "python",
   "nbconvert_exporter": "python",
   "pygments_lexer": "ipython3",
   "version": "3.11.9"
  }
 },
 "nbformat": 4,
 "nbformat_minor": 2
}
