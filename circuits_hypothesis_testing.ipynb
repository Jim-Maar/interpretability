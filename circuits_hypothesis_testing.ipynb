{
 "cells": [
  {
   "cell_type": "markdown",
   "metadata": {},
   "source": [
    "# Setup"
   ]
  },
  {
   "cell_type": "code",
   "execution_count": 1,
   "metadata": {},
   "outputs": [
    {
     "name": "stderr",
     "output_type": "stream",
     "text": [
      "/hpi/fs00/home/jim.maar/miniconda3/envs/othello-env/lib/python3.11/site-packages/accelerate/utils/imports.py:274: UserWarning: `ACCELERATE_DISABLE_RICH` is deprecated and will be removed in v0.22.0 and deactivated by default. Please use `ACCELERATE_ENABLE_RICH` if you wish to use `rich`.\n",
      "  warnings.warn(\n"
     ]
    },
    {
     "name": "stdout",
     "output_type": "stream",
     "text": [
      "interpretability\n",
      "interpretability\n",
      "focus states: (50, 60, 8, 8)\n",
      "focus_valid_moves (50, 60, 64)\n"
     ]
    }
   ],
   "source": [
    "import os, sys\n",
    "chapter = \"chapter1_transformer_interp\"\n",
    "repo = \"ARENA_3.0\"\n",
    "chapter_dir = r\"./\" if chapter in os.listdir() else os.getcwd().split(chapter)[0]\n",
    "sys.path.append(chapter_dir + f\"{chapter}/exercises\")\n",
    "\n",
    "import os\n",
    "os.environ[\"ACCELERATE_DISABLE_RICH\"] = \"1\"\n",
    "import sys\n",
    "import torch as t\n",
    "import torch.nn as nn\n",
    "import torch.nn.functional as F\n",
    "import torch.optim as optim\n",
    "from torch import Tensor\n",
    "from torch.utils.data import DataLoader\n",
    "import numpy as np\n",
    "import einops\n",
    "from ipywidgets import interact\n",
    "import plotly.express as px\n",
    "from ipywidgets import interact\n",
    "from pathlib import Path\n",
    "import itertools\n",
    "import random\n",
    "from IPython.display import display\n",
    "from jaxtyping import Float, Int, Bool, Shaped, jaxtyped\n",
    "from typing import List, Union, Optional, Tuple, Callable, Dict\n",
    "import typeguard\n",
    "from functools import partial\n",
    "# from torcheval.metrics.functional import multiclass_f1_score\n",
    "from sklearn.metrics import f1_score as multiclass_f1_score\n",
    "import copy\n",
    "from transformers import AutoModelForCausalLM, AutoConfig, AutoTokenizer\n",
    "import dataclasses\n",
    "import datasets\n",
    "from IPython.display import HTML\n",
    "import transformer_lens\n",
    "import transformer_lens.utils as utils\n",
    "from transformer_lens.hook_points import HookedRootModule, HookPoint\n",
    "from transformer_lens import HookedTransformer, HookedTransformerConfig, FactoredMatrix, ActivationCache\n",
    "from tqdm.notebook import tqdm\n",
    "from dataclasses import dataclass\n",
    "from rich import print as rprint\n",
    "import pandas as pd\n",
    "\n",
    "# Make sure exercises are in the path\n",
    "# exercises_dir = Path(f\"{os.getcwd().split(chapter)[0]}/{chapter}/exercises\").resolve()\n",
    "# section_dir = exercises_dir / \"part6_othellogpt\"\n",
    "# section_dir = \"interpretability\"\n",
    "# if str(exercises_dir) not in sys.path: sys.path.append(str(exercises_dir))\n",
    "\n",
    "from plotly_utils import imshow\n",
    "from neel_plotly import scatter, line\n",
    "from generate_patches import generate_patch\n",
    "from pprint import pprint\n",
    "from utils import plot_game\n",
    "from training_utils import get_state_stack_num_flipped\n",
    "from utils import plot_probe_outputs\n",
    "from utils import seq_to_state_stack\n",
    "# import part6_othellogpt.tests as tests\n",
    "\n",
    "t.manual_seed(42)\n",
    "\n",
    "device = t.device(\"cuda\" if t.cuda.is_available() else \"cpu\")\n",
    "\n",
    "MAIN = __name__ == \"__main__\"\n",
    "\n",
    "cfg = HookedTransformerConfig(\n",
    "    n_layers = 8,\n",
    "    d_model = 512,\n",
    "    d_head = 64,\n",
    "    n_heads = 8,\n",
    "    d_mlp = 2048,\n",
    "    d_vocab = 61,\n",
    "    n_ctx = 59,\n",
    "    act_fn=\"gelu\",\n",
    "    normalization_type=\"LNPre\",\n",
    "    device=device,\n",
    ")\n",
    "model = HookedTransformer(cfg)\n",
    "\n",
    "sd = utils.download_file_from_hf(\"NeelNanda/Othello-GPT-Transformer-Lens\", \"synthetic_model.pth\")\n",
    "# champion_ship_sd = utils.download_file_from_hf(\"NeelNanda/Othello-GPT-Transformer-Lens\", \"championship_model.pth\")\n",
    "model.load_state_dict(sd)\n",
    "\n",
    "# An example input\n",
    "sample_input = t.tensor([[\n",
    "    20, 19, 18, 10,  2,  1, 27,  3, 41, 42, 34, 12,  4, 40, 11, 29, 43, 13, 48, 56,\n",
    "    33, 39, 22, 44, 24,  5, 46,  6, 32, 36, 51, 58, 52, 60, 21, 53, 26, 31, 37,  9,\n",
    "    25, 38, 23, 50, 45, 17, 47, 28, 35, 30, 54, 16, 59, 49, 57, 14, 15, 55, 7\n",
    "]]).to(device)\n",
    "\n",
    "# The argmax of the output (ie the most likely next move from each position)\n",
    "sample_output = t.tensor([[\n",
    "    21, 41, 40, 34, 40, 41,  3, 11, 21, 43, 40, 21, 28, 50, 33, 50, 33,  5, 33,  5,\n",
    "    52, 46, 14, 46, 14, 47, 38, 57, 36, 50, 38, 15, 28, 26, 28, 59, 50, 28, 14, 28,\n",
    "    28, 28, 28, 45, 28, 35, 15, 14, 30, 59, 49, 59, 15, 15, 14, 15,  8,  7,  8\n",
    "]]).to(device)\n",
    "\n",
    "assert (model(sample_input).argmax(dim=-1) == sample_output.to(device)).all()\n",
    "\n",
    "# os.chdir(section_dir)\n",
    "section_dir = Path.cwd()\n",
    "sys.path.append(str(section_dir))\n",
    "print(section_dir.name)\n",
    "\n",
    "OTHELLO_ROOT = (section_dir / \"othello_world\").resolve()\n",
    "OTHELLO_MECHINT_ROOT = (OTHELLO_ROOT / \"mechanistic_interpretability\").resolve()\n",
    "\n",
    "# if not OTHELLO_ROOT.exists():\n",
    "#     !git clone https://github.com/likenneth/othello_world\n",
    "\n",
    "sys.path.append(str(OTHELLO_MECHINT_ROOT))\n",
    "\n",
    "from mech_interp_othello_utils import (\n",
    "    plot_board,\n",
    "    plot_single_board,\n",
    "    plot_board_log_probs,\n",
    "    to_string,\n",
    "    to_int,\n",
    "    int_to_label,\n",
    "    string_to_label,\n",
    "    OthelloBoardState\n",
    ")\n",
    "\n",
    "# Load board data as ints (i.e. 0 to 60)\n",
    "board_seqs_int = t.tensor(np.load(OTHELLO_MECHINT_ROOT / \"board_seqs_int_small.npy\"), dtype=t.long)\n",
    "# Load board data as \"strings\" (i.e. 0 to 63 with middle squares skipped out)\n",
    "board_seqs_string = t.tensor(np.load(OTHELLO_MECHINT_ROOT / \"board_seqs_string_small.npy\"), dtype=t.long)\n",
    "\n",
    "assert all([middle_sq not in board_seqs_string for middle_sq in [27, 28, 35, 36]])\n",
    "assert board_seqs_int.max() == 60\n",
    "\n",
    "num_games, length_of_game = board_seqs_int.shape\n",
    "\n",
    "# Define possible indices (excluding the four center squares)\n",
    "stoi_indices = [i for i in range(64) if i not in [27, 28, 35, 36]]\n",
    "\n",
    "# Define our rows, and the function that converts an index into a (row, column) label, e.g. `E2`\n",
    "alpha = \"ABCDEFGH\"\n",
    "\n",
    "def to_board_label(i):\n",
    "    return f\"{alpha[i//8]}{i%8}\"\n",
    "\n",
    "# Get our list of board labels\n",
    "board_labels = list(map(to_board_label, stoi_indices))\n",
    "full_board_labels = list(map(to_board_label, range(64)))\n",
    "\n",
    "def plot_square_as_board(state, diverging_scale=True, **kwargs):\n",
    "    \"\"\"Takes a square input (8 by 8) and plot it as a board. Can do a stack of boards via facet_col=0\"\"\"\n",
    "    kwargs = {\n",
    "        \"y\": [i for i in alpha],\n",
    "        \"x\": [str(i) for i in range(8)],\n",
    "        \"color_continuous_scale\": \"RdBu\" if diverging_scale else \"Blues\",\n",
    "        \"color_continuous_midpoint\": 0. if diverging_scale else None,\n",
    "        \"aspect\": \"equal\",\n",
    "        **kwargs\n",
    "    }\n",
    "    imshow(state, **kwargs)\n",
    "\n",
    "start = 30000\n",
    "num_games = 50\n",
    "focus_games_int = board_seqs_int[start : start + num_games]\n",
    "focus_games_string = board_seqs_string[start: start + num_games]\n",
    "\n",
    "focus_logits, focus_cache = model.run_with_cache(focus_games_int[:, :-1].to(device))\n",
    "focus_logits.shape\n",
    "\n",
    "def one_hot(list_of_ints, num_classes=64):\n",
    "    out = t.zeros((num_classes,), dtype=t.float32)\n",
    "    out[list_of_ints] = 1.\n",
    "    return out\n",
    "\n",
    "focus_states = np.zeros((num_games, 60, 8, 8), dtype=np.float32)\n",
    "focus_valid_moves = t.zeros((num_games, 60, 64), dtype=t.float32)\n",
    "\n",
    "for i in (range(num_games)):\n",
    "    board = OthelloBoardState()\n",
    "    for j in range(60):\n",
    "        board.umpire(focus_games_string[i, j].item())\n",
    "        focus_states[i, j] = board.state\n",
    "        focus_valid_moves[i, j] = one_hot(board.get_valid_moves())\n",
    "\n",
    "print(\"focus states:\", focus_states.shape)\n",
    "print(\"focus_valid_moves\", tuple(focus_valid_moves.shape))\n",
    "\n",
    "# full_linear_probe = t.load(OTHELLO_MECHINT_ROOT / \"main_linear_probe.pth\", map_location=device)\n",
    "\n",
    "linear_probe2 = t.load(\"probes/linear/resid_6_linear.pth\")\n",
    "\n",
    "rows = 8\n",
    "cols = 8\n",
    "options = 3\n",
    "assert linear_probe2.shape == (1, cfg.d_model, rows, cols, options)\n",
    "\n",
    "black_to_play_index = 0\n",
    "white_to_play_index = 1\n",
    "blank_index = 0\n",
    "their_index = 1\n",
    "my_index = 2\n",
    "\n",
    "# Creating values for linear probe (converting the \"black/white to play\" notation into \"me/them to play\")\n",
    "\n",
    "'''LAYER = 6\n",
    "game_index = 0\n",
    "move = 29'''\n",
    "\n",
    "BLANK1 = 0\n",
    "BLACK = 1\n",
    "WHITE = -1\n",
    "\n",
    "# MINE = 0\n",
    "# YOURS = 1\n",
    "# BLANK2 = 2\n",
    "\n",
    "EMPTY = 0\n",
    "MINE = 1\n",
    "YOURS = 2"
   ]
  },
  {
   "cell_type": "markdown",
   "metadata": {},
   "source": [
    "## More Imports"
   ]
  },
  {
   "cell_type": "code",
   "execution_count": 2,
   "metadata": {},
   "outputs": [],
   "source": [
    "from utils import visualize_game"
   ]
  },
  {
   "cell_type": "markdown",
   "metadata": {},
   "source": [
    "# Code"
   ]
  },
  {
   "cell_type": "code",
   "execution_count": 3,
   "metadata": {},
   "outputs": [
    {
     "name": "stdout",
     "output_type": "stream",
     "text": [
      "8 8\n"
     ]
    }
   ],
   "source": [
    "# Load Probes\n",
    "linear_probes = []\n",
    "flipped_probes = []\n",
    "for layer in range(8):\n",
    "    linear_probe = t.load(f\"probes/linear/resid_{layer}_linear.pth\").to(device)\n",
    "    flipped_probe = t.load(f\"probes/flipped/resid_{layer}_flipped.pth\").to(device)\n",
    "    linear_probes.append(linear_probe)\n",
    "    flipped_probes.append(flipped_probe)\n",
    "print(len(linear_probes), len(flipped_probes))"
   ]
  },
  {
   "cell_type": "code",
   "execution_count": 4,
   "metadata": {},
   "outputs": [],
   "source": [
    "def get_feature_logits(resid : Float[Tensor, \"batch pos d_model\"], layer : Int, softmax : bool = False) -> Tuple[Float[Tensor, \"model batch seq rows cols options\"], Float[Tensor, \"model batch seq rows cols options\"]]:\n",
    "    \"\"\"\n",
    "    resid: [batch pos d_model]\n",
    "    layer: Int\n",
    "    softmax: bool\n",
    "    output:\n",
    "        Tuple[Float[Tensor, \"model batch seq rows cols options\"], Float[Tensor, \"model batch seq rows cols options\"]]\n",
    "        The first tensor is the logits for the board, the second tensor is the logits for the flipped board\n",
    "    \"\"\"\n",
    "    linear_probe = linear_probes[layer]\n",
    "    flipped_probe = flipped_probes[layer]\n",
    "    board_logits = einops.einsum(resid, linear_probe, 'batch seq d_model, modes d_model rows cols options -> modes batch seq rows cols options')[0]\n",
    "    flipped_logits = einops.einsum(resid, flipped_probe, 'batch seq d_model, modes d_model rows cols options -> modes batch seq rows cols options')[0]\n",
    "    if softmax:\n",
    "        board_logits = F.softmax(board_logits, dim=-1)\n",
    "        flipped_logits = F.softmax(flipped_logits, dim=-1)\n",
    "    return board_logits, flipped_logits"
   ]
  },
  {
   "cell_type": "code",
   "execution_count": 5,
   "metadata": {},
   "outputs": [],
   "source": [
    "# TODO: Print out the Mistakes, so I can visualize them\n",
    "# TODO: Print out the Tiles where the mistake is\n",
    "# TODO: Import shit to visualize\n",
    "# TODO: Visualize\n",
    "# TODO: Different Layers: Different Threshholds, mabe different positions ???\n",
    "# TODO: Add the Flipping Circuit\n",
    "# TODO: For the Future I can add evaluation that distinguishes Tiles that got changed from the previous layer and Tiles that did not\n",
    "# TODO: Add hard eval (everything that's not Empty)\n",
    "\n",
    "@dataclass\n",
    "class Parameters():\n",
    "    flipped_thresh : Float = 0.2\n",
    "    how_far_back : Int = 15\n",
    "    start_pos : Int = 10\n",
    "    end_pos : Int = 20\n",
    "    layers : Int = 7\n",
    "    evaluation_module : str = \"attn_out\"\n",
    "    include_current_pos : bool = False\n",
    "    easy_eval: bool = True\n",
    "    easy_eval_thresh = 0.8\n",
    "    yours_thresh = 0.8"
   ]
  },
  {
   "cell_type": "code",
   "execution_count": 6,
   "metadata": {},
   "outputs": [],
   "source": [
    "def last_flipped_circuit(\n",
    "        params : Parameters,\n",
    "        mine_yours_logits: Float[Tensor, \"batch pos rows cols options\"],\n",
    "        flipped_logits : Float[Tensor, \"batch pos rows cols options\"],\n",
    "        predicted : Bool[Tensor, \"batch pos rows cols\"],\n",
    "    ) -> Tuple[Float[Tensor, \"batch pos rows cols options\"], Bool[Tensor, \"batch pos rows cols\"]]:\n",
    "    last_flipped_values = mine_yours_logits.clone()\n",
    "    last_flipped_values[:, :, :, :, 0] = 1\n",
    "    for pos1 in range(params.start_pos, params.end_pos):\n",
    "        if params.include_current_pos:\n",
    "            local_end_pos = pos1 + 1\n",
    "        else:\n",
    "            local_end_pos = pos1\n",
    "        for pos in range(max([local_end_pos - params.how_far_back, 0]), local_end_pos):\n",
    "            flipped_diff = flipped_logits.softmax(dim=-1)[:, pos, :, :, 0]\n",
    "            was_flipped = flipped_diff > params.flipped_thresh\n",
    "            if pos1 % 2 == pos % 2:\n",
    "                last_flipped_values[:, pos1][was_flipped] = mine_yours_logits[:, pos][was_flipped]\n",
    "            else:\n",
    "                mine_yours_logits_copy = mine_yours_logits.clone()\n",
    "                mine_yours_logits_copy[:, pos, :, :, 1], mine_yours_logits_copy[:, pos, :, :, 2] = mine_yours_logits[:, pos, :, :, 2], mine_yours_logits[:, pos, :, :, 1]\n",
    "                last_flipped_values[:, pos1][was_flipped] = mine_yours_logits_copy[:, pos][was_flipped]\n",
    "            predicted[:, pos1] |= was_flipped\n",
    "    return last_flipped_values, predicted"
   ]
  },
  {
   "cell_type": "code",
   "execution_count": 7,
   "metadata": {},
   "outputs": [],
   "source": [
    "def tile_empty(mine_yours: Float[Tensor, \"batch pos rows cols\"], batch : Int, pos1 : Int, tile : Tuple[Int, Int]):\n",
    "    result = tile[0] < 0 or tile[0] >= 8 or tile[1] < 0 or tile[1] >= 8\n",
    "    if result:\n",
    "        return result\n",
    "    result = (mine_yours[batch, pos1, tile[0], tile[1]] == EMPTY).item()\n",
    "    return result\n",
    "\n",
    "def flipping_circuit(\n",
    "        params : Parameters,\n",
    "        mine_yours_logits: Float[Tensor, \"batch pos rows cols options\"],\n",
    "        flipped_logits : Float[Tensor, \"batch pos rows cols options\"],\n",
    "        predicted: Bool[Tensor, \"batch pos rows cols\"],\n",
    "    ) -> Tuple[Float[Tensor, \"batch pos rows cols options\"], Bool[Tensor, \"batch pos rows cols\"]]:\n",
    "    # TODO: Add the history ...\n",
    "    # TODO: Add Canges to the Flipping Logits\n",
    "    # Get the last played Tile(s) (as input or calculate themselves. I think as input is nice)\n",
    "    # focus_games_str\n",
    "    # Go over each position\n",
    "    mine_yours_logits_clone = mine_yours_logits.clone()\n",
    "    # mine_yours = mine_yours_logits.softmax(dim=-1)\n",
    "    # TODO: This Behaviour does what you want only when yours_thresh > 0.5\n",
    "    # mine_yours[:, :, :, :, YOURS][mine_yours[:, :, :, :, YOURS] < params.yours_thresh] = 0\n",
    "    mine_yours = mine_yours_logits.argmax(dim=-1)\n",
    "    # TODO: Use flipped_thresh\n",
    "    flipped = flipped_logits.argmax(dim=-1)\n",
    "    batch_size, seq_len, rows, cols, options = mine_yours_logits.shape\n",
    "    for batch in range(batch_size):\n",
    "        for pos1 in range(params.start_pos, params.end_pos):\n",
    "            tile_str = focus_games_string[batch, pos1]\n",
    "            tile = (tile_str // 8, tile_str % 8)\n",
    "            flipped_list = []\n",
    "            for x_delta in [-1, 0, 1]:\n",
    "                for y_delta in [-1, 0, 1]:\n",
    "                    potentially_flipped = []\n",
    "                    for dist in range(1, 8):\n",
    "                        this_tile = (tile[0] + x_delta * dist, tile[1] + y_delta * dist)\n",
    "                        if tile_empty(mine_yours, batch, pos1, this_tile):\n",
    "                            break\n",
    "                        next_tile = (this_tile[0] + x_delta, this_tile[1] + y_delta)\n",
    "                        # TODO: turn this into better functions\n",
    "                        if mine_yours[batch, pos1, this_tile[0], this_tile[1]] == MINE and flipped[batch, pos1, this_tile[0], this_tile[1]] == 1:\n",
    "                            flipped_list += potentially_flipped\n",
    "                            break\n",
    "                        if tile_empty(mine_yours, batch, pos1, next_tile):\n",
    "                            break\n",
    "                        if mine_yours[batch, pos1, this_tile[0], this_tile[1]] == YOURS:\n",
    "                            potentially_flipped += [this_tile]\n",
    "            for tile in flipped_list:\n",
    "                mine_yours_logits[batch, pos1, tile[0], tile[1], YOURS] = mine_yours_logits_clone[batch, pos1, tile[0], tile[1], MINE]\n",
    "                mine_yours_logits[batch, pos1, tile[0], tile[1], MINE] = mine_yours_logits_clone[batch, pos1, tile[0], tile[1], YOURS]\n",
    "                predicted[batch, pos1, tile[0], tile[1]] = True\n",
    "    #   Use a YOURS Threshold (in params)\n",
    "    #   create list of tiles (row, col) that should be flipped\n",
    "    #   flip the tiles\n",
    "    #       Option1: Add fixxed amount to the MINE logit\n",
    "    #       Option2: Swap the values for MINE and YOURS? (I think this makes sense but isn't very general)\n",
    "    #           Swap using a weight term (write 0.5 of MINE to YOURS ...) then add a fixxed bias to both logits? (Use different weight and bias for mine and yours)\n",
    "    # pass\n",
    "    return mine_yours_logits, predicted"
   ]
  },
  {
   "cell_type": "code",
   "execution_count": 8,
   "metadata": {},
   "outputs": [],
   "source": [
    "def get_predictions(params : Parameters, resid_pre: Float[Tensor, \"batch pos d_model\"], layer : Int) -> Float[Tensor, \"batch pos rows cols options\"]:\n",
    "    # batch pos rows cols option\n",
    "    # TODO: Maybe remove the inputs and outputs and just use function side effects ...\n",
    "    # TODO: use prev layer as base prediction\n",
    "    batch_size, seq_len, _= resid_pre.shape\n",
    "    rows, cols = 8, 8\n",
    "    predicted : Bool[Tensor, \"batch pos rows cols\"] = t.zeros((batch_size, seq_len, rows, cols), dtype=t.bool).to(device)\n",
    "    mine_yours_logits, flipped_logits = get_feature_logits(resid_pre, layer-1)\n",
    "    # mine_yours_logits_pred, _ = mine_yours_logits.clone()\n",
    "    mine_yours_logits_pred, predicted = last_flipped_circuit(params, mine_yours_logits, flipped_logits, predicted)\n",
    "    mine_yours_logits_pred, predicted = flipping_circuit(params, mine_yours_logits_pred, flipped_logits, predicted)\n",
    "    return mine_yours_logits_pred, predicted"
   ]
  },
  {
   "cell_type": "code",
   "execution_count": 9,
   "metadata": {},
   "outputs": [],
   "source": [
    "def print_first_mistakes(pred : Float[Tensor, \"batch pos rows cols\"], real : Float[Tensor, \"batch pos rows cols\"], mask : Float[Tensor, \"batch pos rows cols\"], num_mistakes : Int):\n",
    "    batch_size, seq_len, rows, cols = pred.shape\n",
    "    mistakes = ((pred != real) & mask)\n",
    "    for i in range(batch_size):\n",
    "        for j in range(seq_len):\n",
    "            for row in range(rows):\n",
    "                for col in range(cols):\n",
    "                    if not mistakes[i, j, row, col]:\n",
    "                        continue\n",
    "                    tile_label = string_to_label(row*8 + col)\n",
    "                    print(f\"Game: {i}, Pos: {j}, Tile: {tile_label}\")\n",
    "                    num_mistakes -= 1\n",
    "                    if num_mistakes == 0:\n",
    "                        return\n",
    "\n",
    "def get_evaluation_mask(params : Parameters, predicted : Float[Tensor, \"batch pos rows cols\"], real_values : Float[Tensor, \"batch pos rows cols options\"]):\n",
    "    batch_size, seq_len, rows, cols = predicted.shape\n",
    "    # create bool tensor of shape [batch_size, seq_len, rows, cols] True\n",
    "    mask = t.ones((batch_size, seq_len, rows, cols), dtype=t.bool).to(device)\n",
    "    # Mask pred values that are 0\n",
    "    # mask = mask & (pred_values.argmax(dim=-1) != 0)\n",
    "    mask = mask & predicted\n",
    "    mask = mask & (real_values.argmax(dim=-1) != 0)\n",
    "    # If easy eval, mask real values that are below 0.7\n",
    "    if params.easy_eval:\n",
    "        real_values = real_values.softmax(dim=-1)\n",
    "        mask = mask & ((real_values[:, :, :, :, 2] > params.easy_eval_thresh) | (real_values[:, :, :, :, 1] > params.easy_eval_thresh))\n",
    "    return mask\n",
    "\n",
    "\n",
    "def get_accuracy(params : Parameters,\n",
    "        pred_values : Float[Tensor, \"batch pos rows cols options\"],\n",
    "        resid_post : Float[Tensor, \"batch pos d_model\"],\n",
    "        predicted: Bool[Tensor, \"batch pos rows cols\"],\n",
    "        layer : Int,\n",
    "    ) -> Float[Tensor, \"\"]:\n",
    "    #   - Create a Mask for what should be evaluated and what not, with a function, then use that mask to calculate the accuracy\n",
    "    batch_size, seq_len, _, _, _ = pred_values.shape\n",
    "    real_values , _ = get_feature_logits(resid_post, layer)\n",
    "    evaluation_mask = get_evaluation_mask(params, predicted, real_values)\n",
    "    pred_values = pred_values.argmax(dim=-1)\n",
    "    real_values = real_values.argmax(dim=-1)\n",
    "    print_first_mistakes(pred_values, real_values, evaluation_mask, 5)\n",
    "    num_labels = evaluation_mask.sum()\n",
    "    num_correct = (pred_values[evaluation_mask] == real_values[evaluation_mask]).float().sum()\n",
    "    acc = num_correct / num_labels\n",
    "    return acc"
   ]
  },
  {
   "cell_type": "code",
   "execution_count": 10,
   "metadata": {},
   "outputs": [],
   "source": [
    "def test_last_flipped_accuracy(params : Parameters):\n",
    "    for layer in range(1, params.layers):\n",
    "        resid_pre = focus_cache[\"resid_pre\", layer]\n",
    "        resid_post = focus_cache[params.evaluation_module, layer]\n",
    "        # shape: [batch pos rows cols options]\n",
    "        mine_yours_logits_pred, predicted = get_predictions(params, resid_pre, layer)\n",
    "        acc = get_accuracy(params, mine_yours_logits_pred, resid_post, predicted, layer)\n",
    "        print(f\"Layer: {layer}, Accuracy: {acc.item()}\")"
   ]
  },
  {
   "cell_type": "code",
   "execution_count": 11,
   "metadata": {},
   "outputs": [
    {
     "name": "stdout",
     "output_type": "stream",
     "text": [
      "Game: 0, Pos: 23, Tile: D5\n",
      "Game: 0, Pos: 24, Tile: E4\n",
      "Game: 1, Pos: 12, Tile: E3\n",
      "Game: 1, Pos: 13, Tile: E3\n",
      "Game: 1, Pos: 18, Tile: C3\n",
      "Layer: 1, Accuracy: 0.9584284424781799\n"
     ]
    }
   ],
   "source": [
    "params = Parameters()\n",
    "params.layers = 2\n",
    "params.start_pos = 0\n",
    "params.end_pos = 30\n",
    "params.easy_eval = True\n",
    "params.easy_eval_thresh = 0.8\n",
    "params.evaluation_module = \"resid_post\"\n",
    "params.include_current_pos = True\n",
    "params.flipped_thresh = 0.1\n",
    "\n",
    "test_last_flipped_accuracy(params)"
   ]
  },
  {
   "cell_type": "code",
   "execution_count": 12,
   "metadata": {},
   "outputs": [],
   "source": [
    "from utils import VisualzeBoardArguments\n",
    "from utils import visualize_game"
   ]
  },
  {
   "cell_type": "code",
   "execution_count": 14,
   "metadata": {},
   "outputs": [
    {
     "name": "stdout",
     "output_type": "stream",
     "text": [
      "torch.Size([8, 1, 59, 8, 8])\n"
     ]
    },
    {
     "data": {
      "application/vnd.plotly.v1+json": {
       "config": {
        "plotlyServerURL": "https://plot.ly"
       },
       "data": [
        {
         "colorscale": [
          [
           0,
           "rgb(103,0,31)"
          ],
          [
           0.1,
           "rgb(178,24,43)"
          ],
          [
           0.2,
           "rgb(214,96,77)"
          ],
          [
           0.3,
           "rgb(244,165,130)"
          ],
          [
           0.4,
           "rgb(253,219,199)"
          ],
          [
           0.5,
           "rgb(247,247,247)"
          ],
          [
           0.6,
           "rgb(209,229,240)"
          ],
          [
           0.7,
           "rgb(146,197,222)"
          ],
          [
           0.8,
           "rgb(67,147,195)"
          ],
          [
           0.9,
           "rgb(33,102,172)"
          ],
          [
           1,
           "rgb(5,48,97)"
          ]
         ],
         "hoverongaps": false,
         "text": [
          [
           " ",
           " ",
           " ",
           " ",
           " ",
           " ",
           " ",
           " "
          ],
          [
           " ",
           " ",
           " ",
           " ",
           " ",
           " ",
           " ",
           " "
          ],
          [
           " ",
           " ",
           " ",
           " ",
           " ",
           " ",
           " ",
           " "
          ],
          [
           " ",
           " ",
           " ",
           " ",
           " ",
           " ",
           " ",
           " "
          ],
          [
           " ",
           " ",
           " ",
           "█",
           " ",
           " ",
           " ",
           " "
          ],
          [
           " ",
           " ",
           " ",
           " ",
           " ",
           " ",
           " ",
           " "
          ],
          [
           " ",
           " ",
           " ",
           " ",
           " ",
           " ",
           " ",
           " "
          ],
          [
           " ",
           " ",
           " ",
           " ",
           " ",
           " ",
           " ",
           " "
          ]
         ],
         "texttemplate": "%{text}",
         "type": "heatmap",
         "x": [
          0,
          1,
          2,
          3,
          4,
          5,
          6,
          7
         ],
         "xaxis": "x",
         "y": [
          "H",
          "G",
          "F",
          "E",
          "D",
          "C",
          "B",
          "A"
         ],
         "yaxis": "y",
         "z": [
          [
           0.5,
           0.5,
           0.5,
           0.5,
           0.5,
           0.5,
           0.5,
           0.5
          ],
          [
           0.5000007152557373,
           0.5,
           0.5,
           0.5,
           0.5,
           0.5,
           0.5,
           0.5
          ],
          [
           0.5,
           0.5000035166740417,
           0.5,
           0.5,
           0.5,
           0.5,
           0.5,
           0.5
          ],
          [
           0.5,
           0.5,
           0.5,
           0.9999991655349731,
           0.009093254804611206,
           0.5000000596046448,
           0.5000000596046448,
           0.5
          ],
          [
           0.5,
           0.5,
           0.500951886177063,
           0.9983929991722107,
           0.9999996423721313,
           0.5,
           0.5,
           0.5
          ],
          [
           0.5,
           0.5,
           0.5,
           0.9996030330657959,
           0.5,
           0.5,
           0.5,
           0.5
          ],
          [
           0.5,
           0.5,
           0.5,
           0.5,
           0.5,
           0.49999916553497314,
           0.4999999701976776,
           0.49999621510505676
          ],
          [
           0.5,
           0.5,
           0.5,
           0.5,
           0.5,
           0.5,
           0.5,
           0.5
          ]
         ],
         "zmax": 1,
         "zmin": 0
        },
        {
         "colorscale": [
          [
           0,
           "rgb(103,0,31)"
          ],
          [
           0.1,
           "rgb(178,24,43)"
          ],
          [
           0.2,
           "rgb(214,96,77)"
          ],
          [
           0.3,
           "rgb(244,165,130)"
          ],
          [
           0.4,
           "rgb(253,219,199)"
          ],
          [
           0.5,
           "rgb(247,247,247)"
          ],
          [
           0.6,
           "rgb(209,229,240)"
          ],
          [
           0.7,
           "rgb(146,197,222)"
          ],
          [
           0.8,
           "rgb(67,147,195)"
          ],
          [
           0.9,
           "rgb(33,102,172)"
          ],
          [
           1,
           "rgb(5,48,97)"
          ]
         ],
         "hoverongaps": false,
         "text": [
          [
           " ",
           " ",
           " ",
           " ",
           " ",
           " ",
           " ",
           " "
          ],
          [
           " ",
           " ",
           " ",
           " ",
           " ",
           " ",
           " ",
           " "
          ],
          [
           " ",
           " ",
           " ",
           " ",
           " ",
           " ",
           " ",
           " "
          ],
          [
           " ",
           " ",
           " ",
           " ",
           " ",
           " ",
           " ",
           " "
          ],
          [
           " ",
           " ",
           " ",
           "█",
           " ",
           " ",
           " ",
           " "
          ],
          [
           " ",
           " ",
           " ",
           " ",
           " ",
           " ",
           " ",
           " "
          ],
          [
           " ",
           " ",
           " ",
           " ",
           " ",
           " ",
           " ",
           " "
          ],
          [
           " ",
           " ",
           " ",
           " ",
           " ",
           " ",
           " ",
           " "
          ]
         ],
         "texttemplate": "%{text}",
         "type": "heatmap",
         "x": [
          0,
          1,
          2,
          3,
          4,
          5,
          6,
          7
         ],
         "xaxis": "x2",
         "y": [
          "H",
          "G",
          "F",
          "E",
          "D",
          "C",
          "B",
          "A"
         ],
         "yaxis": "y2",
         "z": [
          [
           0.4999999701976776,
           0.5,
           0.5000200867652893,
           0.5000157356262207,
           0.5000030994415283,
           0.5000030398368835,
           0.5,
           0.5000016689300537
          ],
          [
           0.5000001788139343,
           0.5,
           0.5,
           0.5,
           0.5000004172325134,
           0.5000003576278687,
           0.5,
           0.500000536441803
          ],
          [
           0.5,
           0.4999943673610687,
           0.5,
           0.5000000596046448,
           0.5000026822090149,
           0.5,
           0.5,
           0.5000031590461731
          ],
          [
           0.5000029802322388,
           0.4999999701976776,
           0.5,
           1,
           0.023816972970962524,
           0.5000077486038208,
           0.5000008940696716,
           0.5000051856040955
          ],
          [
           0.5000002384185791,
           0.5,
           0.5007736086845398,
           0.981154203414917,
           0.9999997019767761,
           0.5,
           0.49999332427978516,
           0.5000014305114746
          ],
          [
           0.5,
           0.5000001192092896,
           0.5,
           0.9992969036102295,
           0.5,
           0.5,
           0.5,
           0.5
          ],
          [
           0.5,
           0.5,
           0.5,
           0.5,
           0.5,
           0.5,
           0.5,
           0.5000000596046448
          ],
          [
           0.5,
           0.5000000596046448,
           0.5000002384185791,
           0.5000006556510925,
           0.5000048875808716,
           0.5,
           0.5,
           0.5
          ]
         ],
         "zmax": 1,
         "zmin": 0
        },
        {
         "colorscale": [
          [
           0,
           "rgb(103,0,31)"
          ],
          [
           0.1,
           "rgb(178,24,43)"
          ],
          [
           0.2,
           "rgb(214,96,77)"
          ],
          [
           0.3,
           "rgb(244,165,130)"
          ],
          [
           0.4,
           "rgb(253,219,199)"
          ],
          [
           0.5,
           "rgb(247,247,247)"
          ],
          [
           0.6,
           "rgb(209,229,240)"
          ],
          [
           0.7,
           "rgb(146,197,222)"
          ],
          [
           0.8,
           "rgb(67,147,195)"
          ],
          [
           0.9,
           "rgb(33,102,172)"
          ],
          [
           1,
           "rgb(5,48,97)"
          ]
         ],
         "hoverongaps": false,
         "text": [
          [
           " ",
           " ",
           " ",
           " ",
           " ",
           " ",
           " ",
           " "
          ],
          [
           " ",
           " ",
           " ",
           " ",
           " ",
           " ",
           " ",
           " "
          ],
          [
           " ",
           " ",
           " ",
           " ",
           " ",
           " ",
           " ",
           " "
          ],
          [
           " ",
           " ",
           " ",
           " ",
           " ",
           " ",
           " ",
           " "
          ],
          [
           " ",
           " ",
           " ",
           "█",
           " ",
           " ",
           " ",
           " "
          ],
          [
           " ",
           " ",
           " ",
           " ",
           " ",
           " ",
           " ",
           " "
          ],
          [
           " ",
           " ",
           " ",
           " ",
           " ",
           " ",
           " ",
           " "
          ],
          [
           " ",
           " ",
           " ",
           " ",
           " ",
           " ",
           " ",
           " "
          ]
         ],
         "texttemplate": "%{text}",
         "type": "heatmap",
         "x": [
          0,
          1,
          2,
          3,
          4,
          5,
          6,
          7
         ],
         "xaxis": "x3",
         "y": [
          "H",
          "G",
          "F",
          "E",
          "D",
          "C",
          "B",
          "A"
         ],
         "yaxis": "y3",
         "z": [
          [
           0.5,
           0.49999991059303284,
           0.5,
           0.5000014901161194,
           0.5,
           0.5,
           0.5,
           0.5000001192092896
          ],
          [
           0.5000274777412415,
           0.5,
           0.5000004172325134,
           0.4999999701976776,
           0.5,
           0.5,
           0.5,
           0.5
          ],
          [
           0.5,
           0.5,
           0.4999999403953552,
           0.5,
           0.5000584721565247,
           0.5,
           0.5000139474868774,
           0.49999988079071045
          ],
          [
           0.5,
           0.5,
           0.5,
           1,
           0.009419500827789307,
           0.5000617504119873,
           0.5,
           0.5000000596046448
          ],
          [
           0.5,
           0.5,
           0.5039536952972412,
           0.9891635179519653,
           1,
           0.5,
           0.499999463558197,
           0.5
          ],
          [
           0.5,
           0.5,
           0.5,
           0.9973454475402832,
           0.5,
           0.5,
           0.49999892711639404,
           0.5000000596046448
          ],
          [
           0.5,
           0.5,
           0.5,
           0.5,
           0.5,
           0.49999386072158813,
           0.500000536441803,
           0.5
          ],
          [
           0.5,
           0.5000096559524536,
           0.5,
           0.5,
           0.5,
           0.4999994933605194,
           0.5,
           0.5
          ]
         ],
         "zmax": 1,
         "zmin": 0
        },
        {
         "colorscale": [
          [
           0,
           "rgb(103,0,31)"
          ],
          [
           0.1,
           "rgb(178,24,43)"
          ],
          [
           0.2,
           "rgb(214,96,77)"
          ],
          [
           0.3,
           "rgb(244,165,130)"
          ],
          [
           0.4,
           "rgb(253,219,199)"
          ],
          [
           0.5,
           "rgb(247,247,247)"
          ],
          [
           0.6,
           "rgb(209,229,240)"
          ],
          [
           0.7,
           "rgb(146,197,222)"
          ],
          [
           0.8,
           "rgb(67,147,195)"
          ],
          [
           0.9,
           "rgb(33,102,172)"
          ],
          [
           1,
           "rgb(5,48,97)"
          ]
         ],
         "hoverongaps": false,
         "text": [
          [
           " ",
           " ",
           " ",
           " ",
           " ",
           " ",
           " ",
           " "
          ],
          [
           " ",
           " ",
           " ",
           " ",
           " ",
           " ",
           " ",
           " "
          ],
          [
           " ",
           " ",
           " ",
           " ",
           " ",
           " ",
           " ",
           " "
          ],
          [
           " ",
           " ",
           " ",
           " ",
           " ",
           " ",
           " ",
           " "
          ],
          [
           " ",
           " ",
           " ",
           "█",
           " ",
           " ",
           " ",
           " "
          ],
          [
           " ",
           " ",
           " ",
           " ",
           " ",
           " ",
           " ",
           " "
          ],
          [
           " ",
           " ",
           " ",
           " ",
           " ",
           " ",
           " ",
           " "
          ],
          [
           " ",
           " ",
           " ",
           " ",
           " ",
           " ",
           " ",
           " "
          ]
         ],
         "texttemplate": "%{text}",
         "type": "heatmap",
         "x": [
          0,
          1,
          2,
          3,
          4,
          5,
          6,
          7
         ],
         "xaxis": "x4",
         "y": [
          "H",
          "G",
          "F",
          "E",
          "D",
          "C",
          "B",
          "A"
         ],
         "yaxis": "y4",
         "z": [
          [
           0.5000002980232239,
           0.4999999701976776,
           0.5000010132789612,
           0.49999988079071045,
           0.5,
           0.5,
           0.5,
           0.5000023245811462
          ],
          [
           0.5000003576278687,
           0.5,
           0.5,
           0.5,
           0.5,
           0.5,
           0.5,
           0.5000002980232239
          ],
          [
           0.500000536441803,
           0.5,
           0.4999999701976776,
           0.5,
           0.5002007484436035,
           0.5,
           0.5,
           0.4999983608722687
          ],
          [
           0.5000001192092896,
           0.5,
           0.5,
           1,
           0.0242098867893219,
           0.5003026723861694,
           0.5,
           0.49999895691871643
          ],
          [
           0.5,
           0.5,
           0.5115997195243835,
           0.956579327583313,
           1,
           0.49999991059303284,
           0.5,
           0.4999924302101135
          ],
          [
           0.5000001192092896,
           0.5,
           0.5,
           0.9866079092025757,
           0.5,
           0.5000001788139343,
           0.5,
           0.49999886751174927
          ],
          [
           0.49999961256980896,
           0.5000003576278687,
           0.5,
           0.5000003576278687,
           0.500026524066925,
           0.5,
           0.5000000596046448,
           0.5
          ],
          [
           0.4999944567680359,
           0.5000036954879761,
           0.5,
           0.5,
           0.49999991059303284,
           0.4999999403953552,
           0.5,
           0.4999997317790985
          ]
         ],
         "zmax": 1,
         "zmin": 0
        },
        {
         "colorscale": [
          [
           0,
           "rgb(103,0,31)"
          ],
          [
           0.1,
           "rgb(178,24,43)"
          ],
          [
           0.2,
           "rgb(214,96,77)"
          ],
          [
           0.3,
           "rgb(244,165,130)"
          ],
          [
           0.4,
           "rgb(253,219,199)"
          ],
          [
           0.5,
           "rgb(247,247,247)"
          ],
          [
           0.6,
           "rgb(209,229,240)"
          ],
          [
           0.7,
           "rgb(146,197,222)"
          ],
          [
           0.8,
           "rgb(67,147,195)"
          ],
          [
           0.9,
           "rgb(33,102,172)"
          ],
          [
           1,
           "rgb(5,48,97)"
          ]
         ],
         "hoverongaps": false,
         "text": [
          [
           " ",
           " ",
           " ",
           " ",
           " ",
           " ",
           " ",
           " "
          ],
          [
           " ",
           " ",
           " ",
           " ",
           " ",
           " ",
           " ",
           " "
          ],
          [
           " ",
           " ",
           " ",
           " ",
           " ",
           " ",
           " ",
           " "
          ],
          [
           " ",
           " ",
           " ",
           " ",
           " ",
           " ",
           " ",
           " "
          ],
          [
           " ",
           " ",
           " ",
           "█",
           " ",
           " ",
           " ",
           " "
          ],
          [
           " ",
           " ",
           " ",
           " ",
           " ",
           " ",
           " ",
           " "
          ],
          [
           " ",
           " ",
           " ",
           " ",
           " ",
           " ",
           " ",
           " "
          ],
          [
           " ",
           " ",
           " ",
           " ",
           " ",
           " ",
           " ",
           " "
          ]
         ],
         "texttemplate": "%{text}",
         "type": "heatmap",
         "x": [
          0,
          1,
          2,
          3,
          4,
          5,
          6,
          7
         ],
         "xaxis": "x5",
         "y": [
          "H",
          "G",
          "F",
          "E",
          "D",
          "C",
          "B",
          "A"
         ],
         "yaxis": "y5",
         "z": [
          [
           0.5000007152557373,
           0.5000162720680237,
           0.5000037550926208,
           0.5,
           0.5,
           0.5,
           0.5,
           0.5000039935112
          ],
          [
           0.5000001192092896,
           0.5,
           0.5,
           0.5,
           0.5,
           0.5,
           0.5,
           0.5000003576278687
          ],
          [
           0.5000035166740417,
           0.5,
           0.4999999701976776,
           0.5,
           0.5001784563064575,
           0.5,
           0.5,
           0.49999991059303284
          ],
          [
           0.5,
           0.5,
           0.5,
           1,
           0.021786987781524658,
           0.5004462003707886,
           0.5,
           0.4999972879886627
          ],
          [
           0.5,
           0.5,
           0.5093122720718384,
           0.9854512214660645,
           0.9999997615814209,
           0.5,
           0.49999889731407166,
           0.4999973177909851
          ],
          [
           0.4999999403953552,
           0.5,
           0.5,
           0.9905314445495605,
           0.5,
           0.5000004768371582,
           0.4999998211860657,
           0.4999985098838806
          ],
          [
           0.5,
           0.5000004172325134,
           0.5,
           0.5000004172325134,
           0.5,
           0.5,
           0.4999999701976776,
           0.5
          ],
          [
           0.49996769428253174,
           0.5000016093254089,
           0.5,
           0.5,
           0.49999886751174927,
           0.4999946057796478,
           0.5,
           0.5
          ]
         ],
         "zmax": 1,
         "zmin": 0
        },
        {
         "colorscale": [
          [
           0,
           "rgb(103,0,31)"
          ],
          [
           0.1,
           "rgb(178,24,43)"
          ],
          [
           0.2,
           "rgb(214,96,77)"
          ],
          [
           0.3,
           "rgb(244,165,130)"
          ],
          [
           0.4,
           "rgb(253,219,199)"
          ],
          [
           0.5,
           "rgb(247,247,247)"
          ],
          [
           0.6,
           "rgb(209,229,240)"
          ],
          [
           0.7,
           "rgb(146,197,222)"
          ],
          [
           0.8,
           "rgb(67,147,195)"
          ],
          [
           0.9,
           "rgb(33,102,172)"
          ],
          [
           1,
           "rgb(5,48,97)"
          ]
         ],
         "hoverongaps": false,
         "text": [
          [
           " ",
           " ",
           " ",
           " ",
           " ",
           " ",
           " ",
           " "
          ],
          [
           " ",
           " ",
           " ",
           " ",
           " ",
           " ",
           " ",
           " "
          ],
          [
           " ",
           " ",
           " ",
           " ",
           " ",
           " ",
           " ",
           " "
          ],
          [
           " ",
           " ",
           " ",
           " ",
           " ",
           " ",
           " ",
           " "
          ],
          [
           " ",
           " ",
           " ",
           "█",
           " ",
           " ",
           " ",
           " "
          ],
          [
           " ",
           " ",
           " ",
           " ",
           " ",
           " ",
           " ",
           " "
          ],
          [
           " ",
           " ",
           " ",
           " ",
           " ",
           " ",
           " ",
           " "
          ],
          [
           " ",
           " ",
           " ",
           " ",
           " ",
           " ",
           " ",
           " "
          ]
         ],
         "texttemplate": "%{text}",
         "type": "heatmap",
         "x": [
          0,
          1,
          2,
          3,
          4,
          5,
          6,
          7
         ],
         "xaxis": "x6",
         "y": [
          "H",
          "G",
          "F",
          "E",
          "D",
          "C",
          "B",
          "A"
         ],
         "yaxis": "y6",
         "z": [
          [
           0.5,
           0.5,
           0.5,
           0.5,
           0.5,
           0.5,
           0.5,
           0.5
          ],
          [
           0.5000000596046448,
           0.4999949634075165,
           0.5000000596046448,
           0.5,
           0.5,
           0.5,
           0.5,
           0.5000002384185791
          ],
          [
           0.5,
           0.5000001788139343,
           0.5,
           0.5,
           0.500006914138794,
           0.5,
           0.5,
           0.4999987483024597
          ],
          [
           0.5,
           0.5000001788139343,
           0.5,
           1,
           0.00302278995513916,
           0.5001558661460876,
           0.5000000596046448,
           0.4999583959579468
          ],
          [
           0.5,
           0.5000206232070923,
           0.5040143728256226,
           0.9950000047683716,
           1,
           0.5,
           0.5,
           0.4999999701976776
          ],
          [
           0.5,
           0.5,
           0.5,
           0.9977774620056152,
           0.5,
           0.5,
           0.4999999403953552,
           0.5
          ],
          [
           0.49999988079071045,
           0.5,
           0.4999982714653015,
           0.5,
           0.5,
           0.5,
           0.4999999403953552,
           0.5
          ],
          [
           0.499977707862854,
           0.5000001192092896,
           0.5,
           0.5,
           0.4999999403953552,
           0.5,
           0.5,
           0.5
          ]
         ],
         "zmax": 1,
         "zmin": 0
        },
        {
         "colorscale": [
          [
           0,
           "rgb(103,0,31)"
          ],
          [
           0.1,
           "rgb(178,24,43)"
          ],
          [
           0.2,
           "rgb(214,96,77)"
          ],
          [
           0.3,
           "rgb(244,165,130)"
          ],
          [
           0.4,
           "rgb(253,219,199)"
          ],
          [
           0.5,
           "rgb(247,247,247)"
          ],
          [
           0.6,
           "rgb(209,229,240)"
          ],
          [
           0.7,
           "rgb(146,197,222)"
          ],
          [
           0.8,
           "rgb(67,147,195)"
          ],
          [
           0.9,
           "rgb(33,102,172)"
          ],
          [
           1,
           "rgb(5,48,97)"
          ]
         ],
         "hoverongaps": false,
         "text": [
          [
           " ",
           " ",
           " ",
           " ",
           " ",
           " ",
           " ",
           " "
          ],
          [
           " ",
           " ",
           " ",
           " ",
           " ",
           " ",
           " ",
           " "
          ],
          [
           " ",
           " ",
           " ",
           " ",
           " ",
           " ",
           " ",
           " "
          ],
          [
           " ",
           " ",
           " ",
           " ",
           " ",
           " ",
           " ",
           " "
          ],
          [
           " ",
           " ",
           " ",
           "█",
           " ",
           " ",
           " ",
           " "
          ],
          [
           " ",
           " ",
           " ",
           " ",
           " ",
           " ",
           " ",
           " "
          ],
          [
           " ",
           " ",
           " ",
           " ",
           " ",
           " ",
           " ",
           " "
          ],
          [
           " ",
           " ",
           " ",
           " ",
           " ",
           " ",
           " ",
           " "
          ]
         ],
         "texttemplate": "%{text}",
         "type": "heatmap",
         "x": [
          0,
          1,
          2,
          3,
          4,
          5,
          6,
          7
         ],
         "xaxis": "x7",
         "y": [
          "H",
          "G",
          "F",
          "E",
          "D",
          "C",
          "B",
          "A"
         ],
         "yaxis": "y7",
         "z": [
          [
           0.4999999403953552,
           0.5,
           0.5000064373016357,
           0.5,
           0.5000015497207642,
           0.5,
           0.49999991059303284,
           0.5
          ],
          [
           0.5,
           0.5000004768371582,
           0.5,
           0.5000010132789612,
           0.5000037550926208,
           0.4999995231628418,
           0.5,
           0.5
          ],
          [
           0.5,
           0.5,
           0.5,
           0.5,
           0.5,
           0.5,
           0.5,
           0.5000000596046448
          ],
          [
           0.5,
           0.5,
           0.5,
           0.9966874122619629,
           0.0043871402740478516,
           0.5,
           0.5000103712081909,
           0.49999746680259705
          ],
          [
           0.5,
           0.5,
           0.5,
           0.04483264684677124,
           0.9924266934394836,
           0.5,
           0.5000000596046448,
           0.5000001192092896
          ],
          [
           0.5000000596046448,
           0.5,
           0.000020295381546020508,
           0.999692440032959,
           0.5,
           0.5,
           0.5,
           0.5000003576278687
          ],
          [
           0.5000000596046448,
           0.5,
           0.5,
           0.5,
           0.5,
           0.5000002384185791,
           0.5,
           0.4999997913837433
          ],
          [
           0.5,
           0.5000007748603821,
           0.5,
           0.5,
           0.5,
           0.5000002980232239,
           0.5,
           0.5
          ]
         ],
         "zmax": 1,
         "zmin": 0
        },
        {
         "colorscale": [
          [
           0,
           "rgb(103,0,31)"
          ],
          [
           0.1,
           "rgb(178,24,43)"
          ],
          [
           0.2,
           "rgb(214,96,77)"
          ],
          [
           0.3,
           "rgb(244,165,130)"
          ],
          [
           0.4,
           "rgb(253,219,199)"
          ],
          [
           0.5,
           "rgb(247,247,247)"
          ],
          [
           0.6,
           "rgb(209,229,240)"
          ],
          [
           0.7,
           "rgb(146,197,222)"
          ],
          [
           0.8,
           "rgb(67,147,195)"
          ],
          [
           0.9,
           "rgb(33,102,172)"
          ],
          [
           1,
           "rgb(5,48,97)"
          ]
         ],
         "hoverongaps": false,
         "text": [
          [
           " ",
           " ",
           " ",
           " ",
           " ",
           " ",
           " ",
           " "
          ],
          [
           " ",
           " ",
           " ",
           " ",
           " ",
           " ",
           " ",
           " "
          ],
          [
           " ",
           " ",
           " ",
           " ",
           " ",
           " ",
           " ",
           " "
          ],
          [
           " ",
           " ",
           " ",
           " ",
           " ",
           " ",
           " ",
           " "
          ],
          [
           " ",
           " ",
           " ",
           "█",
           " ",
           " ",
           " ",
           " "
          ],
          [
           " ",
           " ",
           " ",
           " ",
           " ",
           " ",
           " ",
           " "
          ],
          [
           " ",
           " ",
           " ",
           " ",
           " ",
           " ",
           " ",
           " "
          ],
          [
           " ",
           " ",
           " ",
           " ",
           " ",
           " ",
           " ",
           " "
          ]
         ],
         "texttemplate": "%{text}",
         "type": "heatmap",
         "x": [
          0,
          1,
          2,
          3,
          4,
          5,
          6,
          7
         ],
         "xaxis": "x8",
         "y": [
          "H",
          "G",
          "F",
          "E",
          "D",
          "C",
          "B",
          "A"
         ],
         "yaxis": "y8",
         "z": [
          [
           0.49999767541885376,
           0.5,
           0.5000068545341492,
           0.5000032186508179,
           0.5000168681144714,
           0.5000004172325134,
           0.5000000596046448,
           0.5000017881393433
          ],
          [
           0.5,
           0.500005841255188,
           0.4999999403953552,
           0.5000004768371582,
           0.5000107884407043,
           0.500000536441803,
           0.500000536441803,
           0.5
          ],
          [
           0.5000010132789612,
           0.4999999403953552,
           0.5,
           0.5,
           0.5,
           0.5,
           0.5,
           0.5
          ],
          [
           0.5000030994415283,
           0.5000010132789612,
           0.5,
           0.9963743686676025,
           0.00001341104507446289,
           0.5,
           0.5000055432319641,
           0.49999091029167175
          ],
          [
           0.5000082850456238,
           0.5000000596046448,
           0.5,
           0.011784672737121582,
           0.9983600974082947,
           0.5,
           0.5000000596046448,
           0.4999987781047821
          ],
          [
           0.5000032186508179,
           0.5,
           0.00001189112663269043,
           0.9998134970664978,
           0.5,
           0.5,
           0.5000002384185791,
           0.5000001788139343
          ],
          [
           0.5000015497207642,
           0.5000000596046448,
           0.5,
           0.5000000596046448,
           0.500000536441803,
           0.5000005960464478,
           0.5000003576278687,
           0.5000000596046448
          ],
          [
           0.4999999701976776,
           0.5000008344650269,
           0.4999990165233612,
           0.49999988079071045,
           0.5000000596046448,
           0.5000013709068298,
           0.5000000596046448,
           0.5000002384185791
          ]
         ],
         "zmax": 1,
         "zmin": 0
        },
        {
         "colorscale": [
          [
           0,
           "rgb(103,0,31)"
          ],
          [
           0.1,
           "rgb(178,24,43)"
          ],
          [
           0.2,
           "rgb(214,96,77)"
          ],
          [
           0.3,
           "rgb(244,165,130)"
          ],
          [
           0.4,
           "rgb(253,219,199)"
          ],
          [
           0.5,
           "rgb(247,247,247)"
          ],
          [
           0.6,
           "rgb(209,229,240)"
          ],
          [
           0.7,
           "rgb(146,197,222)"
          ],
          [
           0.8,
           "rgb(67,147,195)"
          ],
          [
           0.9,
           "rgb(33,102,172)"
          ],
          [
           1,
           "rgb(5,48,97)"
          ]
         ],
         "hoverongaps": false,
         "text": [
          [
           " ",
           " ",
           " ",
           " ",
           " ",
           " ",
           " ",
           " "
          ],
          [
           " ",
           " ",
           " ",
           " ",
           " ",
           " ",
           " ",
           " "
          ],
          [
           " ",
           " ",
           " ",
           " ",
           " ",
           " ",
           " ",
           " "
          ],
          [
           " ",
           " ",
           " ",
           " ",
           " ",
           " ",
           " ",
           " "
          ],
          [
           " ",
           " ",
           " ",
           "█",
           " ",
           " ",
           " ",
           " "
          ],
          [
           " ",
           " ",
           " ",
           " ",
           " ",
           " ",
           " ",
           " "
          ],
          [
           " ",
           " ",
           " ",
           " ",
           " ",
           " ",
           " ",
           " "
          ],
          [
           " ",
           " ",
           " ",
           " ",
           " ",
           " ",
           " ",
           " "
          ]
         ],
         "texttemplate": "%{text}",
         "type": "heatmap",
         "x": [
          0,
          1,
          2,
          3,
          4,
          5,
          6,
          7
         ],
         "xaxis": "x9",
         "y": [
          "H",
          "G",
          "F",
          "E",
          "D",
          "C",
          "B",
          "A"
         ],
         "yaxis": "y9",
         "z": [
          [
           0.5000222325325012,
           0.4999985098838806,
           0.49999383091926575,
           0.5000028014183044,
           0.5000031590461731,
           0.5000002980232239,
           0.5000002980232239,
           0.5000008940696716
          ],
          [
           0.49999919533729553,
           0.5000190734863281,
           0.5000000596046448,
           0.5000002980232239,
           0.500001072883606,
           0.5000007152557373,
           0.5000008344650269,
           0.4999985694885254
          ],
          [
           0.5000104308128357,
           0.5000001788139343,
           0.5000000596046448,
           0.5,
           0.5,
           0.4999999403953552,
           0.4999999701976776,
           0.5000014901161194
          ],
          [
           0.500002384185791,
           0.5000032186508179,
           0.5,
           0.9992673397064209,
           0.000021129846572875977,
           0.5,
           0.5000015497207642,
           0.49999985098838806
          ],
          [
           0.500015377998352,
           0.5000001788139343,
           0.5,
           0.0006760656833648682,
           0.9990403056144714,
           0.5,
           0.5000001192092896,
           0.5000007748603821
          ],
          [
           0.49999842047691345,
           0.4999999701976776,
           0.0001125037670135498,
           0.9998131990432739,
           0.5,
           0.5,
           0.5000008344650269,
           0.5000003576278687
          ],
          [
           0.4999994933605194,
           0.5000000596046448,
           0.5000002384185791,
           0.5000013113021851,
           0.5000039339065552,
           0.5000099539756775,
           0.5000002980232239,
           0.5
          ],
          [
           0.499999463558197,
           0.49999162554740906,
           0.49999234080314636,
           0.4999921917915344,
           0.5000000596046448,
           0.5000054240226746,
           0.5000014305114746,
           0.5000066757202148
          ]
         ],
         "zmax": 1,
         "zmin": 0
        },
        {
         "colorscale": [
          [
           0,
           "rgb(103,0,31)"
          ],
          [
           0.1,
           "rgb(178,24,43)"
          ],
          [
           0.2,
           "rgb(214,96,77)"
          ],
          [
           0.3,
           "rgb(244,165,130)"
          ],
          [
           0.4,
           "rgb(253,219,199)"
          ],
          [
           0.5,
           "rgb(247,247,247)"
          ],
          [
           0.6,
           "rgb(209,229,240)"
          ],
          [
           0.7,
           "rgb(146,197,222)"
          ],
          [
           0.8,
           "rgb(67,147,195)"
          ],
          [
           0.9,
           "rgb(33,102,172)"
          ],
          [
           1,
           "rgb(5,48,97)"
          ]
         ],
         "hoverongaps": false,
         "text": [
          [
           " ",
           " ",
           " ",
           " ",
           " ",
           " ",
           " ",
           " "
          ],
          [
           " ",
           " ",
           " ",
           " ",
           " ",
           " ",
           " ",
           " "
          ],
          [
           " ",
           " ",
           " ",
           " ",
           " ",
           " ",
           " ",
           " "
          ],
          [
           " ",
           " ",
           " ",
           " ",
           " ",
           " ",
           " ",
           " "
          ],
          [
           " ",
           " ",
           " ",
           "█",
           " ",
           " ",
           " ",
           " "
          ],
          [
           " ",
           " ",
           " ",
           " ",
           " ",
           " ",
           " ",
           " "
          ],
          [
           " ",
           " ",
           " ",
           " ",
           " ",
           " ",
           " ",
           " "
          ],
          [
           " ",
           " ",
           " ",
           " ",
           " ",
           " ",
           " ",
           " "
          ]
         ],
         "texttemplate": "%{text}",
         "type": "heatmap",
         "x": [
          0,
          1,
          2,
          3,
          4,
          5,
          6,
          7
         ],
         "xaxis": "x10",
         "y": [
          "H",
          "G",
          "F",
          "E",
          "D",
          "C",
          "B",
          "A"
         ],
         "yaxis": "y10",
         "z": [
          [
           0.5000077486038208,
           0.4999951422214508,
           0.5000119209289551,
           0.5000094771385193,
           0.5000101923942566,
           0.5000029802322388,
           0.5000009536743164,
           0.5000200867652893
          ],
          [
           0.4999978542327881,
           0.4999929666519165,
           0.5000043511390686,
           0.5000008940696716,
           0.5000087022781372,
           0.49999359250068665,
           0.49999526143074036,
           0.4999975860118866
          ],
          [
           0.5000118613243103,
           0.5000003576278687,
           0.5000013709068298,
           0.49999991059303284,
           0.5000000596046448,
           0.49999895691871643,
           0.4999992549419403,
           0.5000075101852417
          ],
          [
           0.5000061988830566,
           0.500005304813385,
           0.499999463558197,
           0.9985907077789307,
           0.000008970499038696289,
           0.5000002384185791,
           0.4999953806400299,
           0.5000140070915222
          ],
          [
           0.5000081062316895,
           0.5000021457672119,
           0.5000016689300537,
           0.0006051361560821533,
           0.9996645450592041,
           0.5000002384185791,
           0.5000009536743164,
           0.5000467896461487
          ],
          [
           0.4999827742576599,
           0.4999978244304657,
           0.0007518529891967773,
           0.9999427795410156,
           0.5000008344650269,
           0.5000029802322388,
           0.5000046491622925,
           0.5000126957893372
          ],
          [
           0.4999995827674866,
           0.5,
           0.5000007152557373,
           0.500028669834137,
           0.5000561475753784,
           0.5000534653663635,
           0.49999964237213135,
           0.4999998211860657
          ],
          [
           0.5000026822090149,
           0.4999622702598572,
           0.5000017285346985,
           0.500016987323761,
           0.5,
           0.5000020861625671,
           0.5000062584877014,
           0.5000239014625549
          ]
         ],
         "zmax": 1,
         "zmin": 0
        },
        {
         "colorscale": [
          [
           0,
           "rgb(103,0,31)"
          ],
          [
           0.1,
           "rgb(178,24,43)"
          ],
          [
           0.2,
           "rgb(214,96,77)"
          ],
          [
           0.3,
           "rgb(244,165,130)"
          ],
          [
           0.4,
           "rgb(253,219,199)"
          ],
          [
           0.5,
           "rgb(247,247,247)"
          ],
          [
           0.6,
           "rgb(209,229,240)"
          ],
          [
           0.7,
           "rgb(146,197,222)"
          ],
          [
           0.8,
           "rgb(67,147,195)"
          ],
          [
           0.9,
           "rgb(33,102,172)"
          ],
          [
           1,
           "rgb(5,48,97)"
          ]
         ],
         "hoverongaps": false,
         "text": [
          [
           " ",
           " ",
           " ",
           " ",
           " ",
           " ",
           " ",
           " "
          ],
          [
           " ",
           " ",
           " ",
           " ",
           " ",
           " ",
           " ",
           " "
          ],
          [
           " ",
           " ",
           " ",
           " ",
           " ",
           " ",
           " ",
           " "
          ],
          [
           " ",
           " ",
           " ",
           " ",
           " ",
           " ",
           " ",
           " "
          ],
          [
           " ",
           " ",
           " ",
           "█",
           " ",
           " ",
           " ",
           " "
          ],
          [
           " ",
           " ",
           " ",
           " ",
           " ",
           " ",
           " ",
           " "
          ],
          [
           " ",
           " ",
           " ",
           " ",
           " ",
           " ",
           " ",
           " "
          ],
          [
           " ",
           " ",
           " ",
           " ",
           " ",
           " ",
           " ",
           " "
          ]
         ],
         "texttemplate": "%{text}",
         "type": "heatmap",
         "x": [
          0,
          1,
          2,
          3,
          4,
          5,
          6,
          7
         ],
         "xaxis": "x11",
         "y": [
          "H",
          "G",
          "F",
          "E",
          "D",
          "C",
          "B",
          "A"
         ],
         "yaxis": "y11",
         "z": [
          [
           0.4999995529651642,
           0.4999995827674866,
           0.5000078082084656,
           0.5000138878822327,
           0.5000078678131104,
           0.5000009536743164,
           0.5000027418136597,
           0.5000014305114746
          ],
          [
           0.4999995529651642,
           0.5000097751617432,
           0.500009298324585,
           0.5000190138816833,
           0.500032365322113,
           0.49999305605888367,
           0.5000027418136597,
           0.5000014305114746
          ],
          [
           0.5000098347663879,
           0.5000084042549133,
           0.5000094175338745,
           0.500005841255188,
           0.5000072717666626,
           0.4999992251396179,
           0.5,
           0.5000048279762268
          ],
          [
           0.5000002980232239,
           0.49999871850013733,
           0.49999892711639404,
           0.9998325109481812,
           0.00022920966148376465,
           0.5000085830688477,
           0.5000041723251343,
           0.5000039339065552
          ],
          [
           0.5000082850456238,
           0.5000083446502686,
           0.5000026226043701,
           0.0011150538921356201,
           0.9995136260986328,
           0.5000050663948059,
           0.5000014901161194,
           0.5000155568122864
          ],
          [
           0.4999956786632538,
           0.5000007152557373,
           0.0006209313869476318,
           0.9998894929885864,
           0.500008225440979,
           0.5000162124633789,
           0.5000064373016357,
           0.5000039339065552
          ],
          [
           0.49999940395355225,
           0.49999985098838806,
           0.49999988079071045,
           0.5000364184379578,
           0.5000374913215637,
           0.5000066161155701,
           0.5000011920928955,
           0.49999871850013733
          ],
          [
           0.49999159574508667,
           0.4999942183494568,
           0.5000004768371582,
           0.5000004172325134,
           0.5000001788139343,
           0.5000004172325134,
           0.5000002384185791,
           0.5000360012054443
          ]
         ],
         "zmax": 1,
         "zmin": 0
        },
        {
         "colorscale": [
          [
           0,
           "rgb(103,0,31)"
          ],
          [
           0.1,
           "rgb(178,24,43)"
          ],
          [
           0.2,
           "rgb(214,96,77)"
          ],
          [
           0.3,
           "rgb(244,165,130)"
          ],
          [
           0.4,
           "rgb(253,219,199)"
          ],
          [
           0.5,
           "rgb(247,247,247)"
          ],
          [
           0.6,
           "rgb(209,229,240)"
          ],
          [
           0.7,
           "rgb(146,197,222)"
          ],
          [
           0.8,
           "rgb(67,147,195)"
          ],
          [
           0.9,
           "rgb(33,102,172)"
          ],
          [
           1,
           "rgb(5,48,97)"
          ]
         ],
         "hoverongaps": false,
         "text": [
          [
           " ",
           " ",
           " ",
           " ",
           " ",
           " ",
           " ",
           " "
          ],
          [
           " ",
           " ",
           " ",
           " ",
           " ",
           " ",
           " ",
           " "
          ],
          [
           " ",
           " ",
           " ",
           " ",
           " ",
           " ",
           " ",
           " "
          ],
          [
           " ",
           " ",
           " ",
           " ",
           " ",
           " ",
           " ",
           " "
          ],
          [
           " ",
           " ",
           " ",
           "█",
           " ",
           " ",
           " ",
           " "
          ],
          [
           " ",
           " ",
           " ",
           " ",
           " ",
           " ",
           " ",
           " "
          ],
          [
           " ",
           " ",
           " ",
           " ",
           " ",
           " ",
           " ",
           " "
          ],
          [
           " ",
           " ",
           " ",
           " ",
           " ",
           " ",
           " ",
           " "
          ]
         ],
         "texttemplate": "%{text}",
         "type": "heatmap",
         "x": [
          0,
          1,
          2,
          3,
          4,
          5,
          6,
          7
         ],
         "xaxis": "x12",
         "y": [
          "H",
          "G",
          "F",
          "E",
          "D",
          "C",
          "B",
          "A"
         ],
         "yaxis": "y12",
         "z": [
          [
           0.5000026226043701,
           0.5000100135803223,
           0.500012993812561,
           0.5000020861625671,
           0.5000085234642029,
           0.49999985098838806,
           0.5000000596046448,
           0.5000002980232239
          ],
          [
           0.49999991059303284,
           0.5000063180923462,
           0.5000014305114746,
           0.5000213384628296,
           0.500014066696167,
           0.5000000596046448,
           0.5000030994415283,
           0.5000001192092896
          ],
          [
           0.5000079870223999,
           0.500008225440979,
           0.5000085234642029,
           0.5000012516975403,
           0.5000000596046448,
           0.4999994933605194,
           0.5000008940696716,
           0.4999982416629791
          ],
          [
           0.4999997615814209,
           0.5000051259994507,
           0.5000023245811462,
           0.9997900128364563,
           0.00007933378219604492,
           0.5000000596046448,
           0.5000145435333252,
           0.5000001192092896
          ],
          [
           0.5000103712081909,
           0.5000014305114746,
           0.5000000596046448,
           0.0007745623588562012,
           0.9999362230300903,
           0.5000091195106506,
           0.5000388026237488,
           0.5000067949295044
          ],
          [
           0.4999953508377075,
           0.5,
           0.00041282176971435547,
           0.9999083280563354,
           0.5000079870223999,
           0.5000157356262207,
           0.5000067949295044,
           0.4999997615814209
          ],
          [
           0.4999998211860657,
           0.5000000596046448,
           0.5000001788139343,
           0.500006377696991,
           0.5000081062316895,
           0.5000139474868774,
           0.5000104904174805,
           0.4999997019767761
          ],
          [
           0.5000000596046448,
           0.5000025033950806,
           0.49999645352363586,
           0.4999975860118866,
           0.4999997019767761,
           0.49999794363975525,
           0.5,
           0.5000195503234863
          ]
         ],
         "zmax": 1,
         "zmin": 0
        },
        {
         "colorscale": [
          [
           0,
           "rgb(103,0,31)"
          ],
          [
           0.1,
           "rgb(178,24,43)"
          ],
          [
           0.2,
           "rgb(214,96,77)"
          ],
          [
           0.3,
           "rgb(244,165,130)"
          ],
          [
           0.4,
           "rgb(253,219,199)"
          ],
          [
           0.5,
           "rgb(247,247,247)"
          ],
          [
           0.6,
           "rgb(209,229,240)"
          ],
          [
           0.7,
           "rgb(146,197,222)"
          ],
          [
           0.8,
           "rgb(67,147,195)"
          ],
          [
           0.9,
           "rgb(33,102,172)"
          ],
          [
           1,
           "rgb(5,48,97)"
          ]
         ],
         "hoverongaps": false,
         "text": [
          [
           " ",
           " ",
           " ",
           " ",
           " ",
           " ",
           " ",
           " "
          ],
          [
           " ",
           " ",
           " ",
           " ",
           " ",
           " ",
           " ",
           " "
          ],
          [
           " ",
           " ",
           " ",
           " ",
           " ",
           " ",
           " ",
           " "
          ],
          [
           " ",
           " ",
           " ",
           " ",
           " ",
           " ",
           " ",
           " "
          ],
          [
           " ",
           " ",
           " ",
           " ",
           " ",
           " ",
           " ",
           " "
          ],
          [
           " ",
           " ",
           "█",
           " ",
           " ",
           " ",
           " ",
           " "
          ],
          [
           " ",
           " ",
           " ",
           " ",
           " ",
           " ",
           " ",
           " "
          ],
          [
           " ",
           " ",
           " ",
           " ",
           " ",
           " ",
           " ",
           " "
          ]
         ],
         "texttemplate": "%{text}",
         "type": "heatmap",
         "x": [
          0,
          1,
          2,
          3,
          4,
          5,
          6,
          7
         ],
         "xaxis": "x13",
         "y": [
          "H",
          "G",
          "F",
          "E",
          "D",
          "C",
          "B",
          "A"
         ],
         "yaxis": "y13",
         "z": [
          [
           0.5,
           0.5,
           0.5,
           0.49998825788497925,
           0.49999991059303284,
           0.4999985694885254,
           0.49999430775642395,
           0.4999998211860657
          ],
          [
           0.4999999403953552,
           0.5,
           0.4999999403953552,
           0.49999868869781494,
           0.4999998211860657,
           0.5,
           0.5,
           0.4999999701976776
          ],
          [
           0.5,
           0.5,
           0.5,
           0.5,
           0.5,
           0.5,
           0.4999994933605194,
           0.49999991059303284
          ],
          [
           0.5,
           0.5,
           0.5,
           0.9906994700431824,
           0.060216158628463745,
           0.5,
           0.5,
           0.5
          ],
          [
           0.5,
           0.5,
           0.5,
           0.1609785556793213,
           0.9678995609283447,
           0.5,
           0.5,
           0.5
          ],
          [
           0.5,
           0.9999736547470093,
           0.9987900257110596,
           0.9999022483825684,
           0.5,
           0.5,
           0.5,
           0.4999988377094269
          ],
          [
           0.5,
           0.5,
           0.5,
           0.5,
           0.5,
           0.49999991059303284,
           0.49999985098838806,
           0.4999997913837433
          ],
          [
           0.5,
           0.5,
           0.5,
           0.5,
           0.4999998211860657,
           0.4999999701976776,
           0.49999892711639404,
           0.49999991059303284
          ]
         ],
         "zmax": 1,
         "zmin": 0
        },
        {
         "colorscale": [
          [
           0,
           "rgb(103,0,31)"
          ],
          [
           0.1,
           "rgb(178,24,43)"
          ],
          [
           0.2,
           "rgb(214,96,77)"
          ],
          [
           0.3,
           "rgb(244,165,130)"
          ],
          [
           0.4,
           "rgb(253,219,199)"
          ],
          [
           0.5,
           "rgb(247,247,247)"
          ],
          [
           0.6,
           "rgb(209,229,240)"
          ],
          [
           0.7,
           "rgb(146,197,222)"
          ],
          [
           0.8,
           "rgb(67,147,195)"
          ],
          [
           0.9,
           "rgb(33,102,172)"
          ],
          [
           1,
           "rgb(5,48,97)"
          ]
         ],
         "hoverongaps": false,
         "text": [
          [
           " ",
           " ",
           " ",
           " ",
           " ",
           " ",
           " ",
           " "
          ],
          [
           " ",
           " ",
           " ",
           " ",
           " ",
           " ",
           " ",
           " "
          ],
          [
           " ",
           " ",
           " ",
           " ",
           " ",
           " ",
           " ",
           " "
          ],
          [
           " ",
           " ",
           " ",
           " ",
           " ",
           " ",
           " ",
           " "
          ],
          [
           " ",
           " ",
           " ",
           " ",
           " ",
           " ",
           " ",
           " "
          ],
          [
           " ",
           " ",
           "█",
           " ",
           " ",
           " ",
           " ",
           " "
          ],
          [
           " ",
           " ",
           " ",
           " ",
           " ",
           " ",
           " ",
           " "
          ],
          [
           " ",
           " ",
           " ",
           " ",
           " ",
           " ",
           " ",
           " "
          ]
         ],
         "texttemplate": "%{text}",
         "type": "heatmap",
         "x": [
          0,
          1,
          2,
          3,
          4,
          5,
          6,
          7
         ],
         "xaxis": "x14",
         "y": [
          "H",
          "G",
          "F",
          "E",
          "D",
          "C",
          "B",
          "A"
         ],
         "yaxis": "y14",
         "z": [
          [
           0.5,
           0.5,
           0.5,
           0.49999889731407166,
           0.4999999701976776,
           0.49999940395355225,
           0.5,
           0.4999987781047821
          ],
          [
           0.4999999701976776,
           0.49999725818634033,
           0.5000005960464478,
           0.4999997019767761,
           0.5,
           0.4999999701976776,
           0.4999999403953552,
           0.5000001192092896
          ],
          [
           0.5,
           0.5,
           0.5000008940696716,
           0.5,
           0.5,
           0.5,
           0.5,
           0.5
          ],
          [
           0.5,
           0.5,
           0.5,
           0.9992205500602722,
           0.02772575616836548,
           0.5000002384185791,
           0.5,
           0.5
          ],
          [
           0.5,
           0.5,
           0.5,
           0.006473332643508911,
           0.9976053833961487,
           0.5000000596046448,
           0.5000012516975403,
           0.4999998211860657
          ],
          [
           0.4999999701976776,
           0.9997750520706177,
           0.9999847412109375,
           0.9999520778656006,
           0.5,
           0.5,
           0.49999988079071045,
           0.49999764561653137
          ],
          [
           0.4999999403953552,
           0.5,
           0.5,
           0.5,
           0.4999999701976776,
           0.49999937415122986,
           0.4999985694885254,
           0.5
          ],
          [
           0.49999967217445374,
           0.5,
           0.5,
           0.5,
           0.4999992549419403,
           0.49999991059303284,
           0.4999983608722687,
           0.4999999701976776
          ]
         ],
         "zmax": 1,
         "zmin": 0
        },
        {
         "colorscale": [
          [
           0,
           "rgb(103,0,31)"
          ],
          [
           0.1,
           "rgb(178,24,43)"
          ],
          [
           0.2,
           "rgb(214,96,77)"
          ],
          [
           0.3,
           "rgb(244,165,130)"
          ],
          [
           0.4,
           "rgb(253,219,199)"
          ],
          [
           0.5,
           "rgb(247,247,247)"
          ],
          [
           0.6,
           "rgb(209,229,240)"
          ],
          [
           0.7,
           "rgb(146,197,222)"
          ],
          [
           0.8,
           "rgb(67,147,195)"
          ],
          [
           0.9,
           "rgb(33,102,172)"
          ],
          [
           1,
           "rgb(5,48,97)"
          ]
         ],
         "hoverongaps": false,
         "text": [
          [
           " ",
           " ",
           " ",
           " ",
           " ",
           " ",
           " ",
           " "
          ],
          [
           " ",
           " ",
           " ",
           " ",
           " ",
           " ",
           " ",
           " "
          ],
          [
           " ",
           " ",
           " ",
           " ",
           " ",
           " ",
           " ",
           " "
          ],
          [
           " ",
           " ",
           " ",
           " ",
           " ",
           " ",
           " ",
           " "
          ],
          [
           " ",
           " ",
           " ",
           " ",
           " ",
           " ",
           " ",
           " "
          ],
          [
           " ",
           " ",
           "█",
           " ",
           " ",
           " ",
           " ",
           " "
          ],
          [
           " ",
           " ",
           " ",
           " ",
           " ",
           " ",
           " ",
           " "
          ],
          [
           " ",
           " ",
           " ",
           " ",
           " ",
           " ",
           " ",
           " "
          ]
         ],
         "texttemplate": "%{text}",
         "type": "heatmap",
         "x": [
          0,
          1,
          2,
          3,
          4,
          5,
          6,
          7
         ],
         "xaxis": "x15",
         "y": [
          "H",
          "G",
          "F",
          "E",
          "D",
          "C",
          "B",
          "A"
         ],
         "yaxis": "y15",
         "z": [
          [
           0.500001072883606,
           0.5000031590461731,
           0.5000004768371582,
           0.4999980628490448,
           0.49999409914016724,
           0.4999964237213135,
           0.49999934434890747,
           0.49998706579208374
          ],
          [
           0.5000002980232239,
           0.5000066757202148,
           0.49998417496681213,
           0.49999991059303284,
           0.49999985098838806,
           0.4999973773956299,
           0.4999998211860657,
           0.5
          ],
          [
           0.5,
           0.5,
           0.4999999403953552,
           0.49999991059303284,
           0.5000001788139343,
           0.49999988079071045,
           0.5000000596046448,
           0.4999999403953552
          ],
          [
           0.5000001192092896,
           0.5,
           0.49999985098838806,
           0.9997205138206482,
           0.011988252401351929,
           0.5000003576278687,
           0.5,
           0.49999988079071045
          ],
          [
           0.5000002980232239,
           0.5000000596046448,
           0.5000016093254089,
           0.0003650486469268799,
           0.9990292191505432,
           0.4999999403953552,
           0.5000006556510925,
           0.5000094175338745
          ],
          [
           0.5000003576278687,
           0.999992847442627,
           0.999933123588562,
           0.9999068379402161,
           0.5,
           0.5000000596046448,
           0.4999963045120239,
           0.5000000596046448
          ],
          [
           0.5000003576278687,
           0.49999988079071045,
           0.49999919533729553,
           0.5,
           0.5000001788139343,
           0.49999791383743286,
           0.4999539256095886,
           0.5
          ],
          [
           0.49999892711639404,
           0.5000032186508179,
           0.5,
           0.4999999403953552,
           0.4999994933605194,
           0.49999839067459106,
           0.5000005960464478,
           0.4999937415122986
          ]
         ],
         "zmax": 1,
         "zmin": 0
        },
        {
         "colorscale": [
          [
           0,
           "rgb(103,0,31)"
          ],
          [
           0.1,
           "rgb(178,24,43)"
          ],
          [
           0.2,
           "rgb(214,96,77)"
          ],
          [
           0.3,
           "rgb(244,165,130)"
          ],
          [
           0.4,
           "rgb(253,219,199)"
          ],
          [
           0.5,
           "rgb(247,247,247)"
          ],
          [
           0.6,
           "rgb(209,229,240)"
          ],
          [
           0.7,
           "rgb(146,197,222)"
          ],
          [
           0.8,
           "rgb(67,147,195)"
          ],
          [
           0.9,
           "rgb(33,102,172)"
          ],
          [
           1,
           "rgb(5,48,97)"
          ]
         ],
         "hoverongaps": false,
         "text": [
          [
           " ",
           " ",
           " ",
           " ",
           " ",
           " ",
           " ",
           " "
          ],
          [
           " ",
           " ",
           " ",
           " ",
           " ",
           " ",
           " ",
           " "
          ],
          [
           " ",
           " ",
           " ",
           " ",
           " ",
           " ",
           " ",
           " "
          ],
          [
           " ",
           " ",
           " ",
           " ",
           " ",
           " ",
           " ",
           " "
          ],
          [
           " ",
           " ",
           " ",
           " ",
           " ",
           " ",
           " ",
           " "
          ],
          [
           " ",
           " ",
           "█",
           " ",
           " ",
           " ",
           " ",
           " "
          ],
          [
           " ",
           " ",
           " ",
           " ",
           " ",
           " ",
           " ",
           " "
          ],
          [
           " ",
           " ",
           " ",
           " ",
           " ",
           " ",
           " ",
           " "
          ]
         ],
         "texttemplate": "%{text}",
         "type": "heatmap",
         "x": [
          0,
          1,
          2,
          3,
          4,
          5,
          6,
          7
         ],
         "xaxis": "x16",
         "y": [
          "H",
          "G",
          "F",
          "E",
          "D",
          "C",
          "B",
          "A"
         ],
         "yaxis": "y16",
         "z": [
          [
           0.4999888837337494,
           0.49999839067459106,
           0.5000023245811462,
           0.4999995231628418,
           0.49999764561653137,
           0.4999984800815582,
           0.5000002384185791,
           0.4999922513961792
          ],
          [
           0.5000052452087402,
           0.5000144243240356,
           0.4999896287918091,
           0.5000030994415283,
           0.49999552965164185,
           0.49999427795410156,
           0.5000060796737671,
           0.4999995231628418
          ],
          [
           0.5000001788139343,
           0.4999980032444,
           0.49999988079071045,
           0.49999722838401794,
           0.5000110864639282,
           0.49998781085014343,
           0.5000019669532776,
           0.49999916553497314
          ],
          [
           0.5000011324882507,
           0.500003457069397,
           0.4999992549419403,
           0.9999217391014099,
           0.0028356313705444336,
           0.5001669526100159,
           0.5000007748603821,
           0.49999237060546875
          ],
          [
           0.5000021457672119,
           0.49999910593032837,
           0.500011682510376,
           0.0001920461654663086,
           0.9997280836105347,
           0.4999968111515045,
           0.5000159740447998,
           0.4999810457229614
          ],
          [
           0.5000036358833313,
           0.9995937347412109,
           0.999849796295166,
           0.9999805688858032,
           0.49999967217445374,
           0.500001072883606,
           0.4999934732913971,
           0.4999857246875763
          ],
          [
           0.49999967217445374,
           0.49999967217445374,
           0.5000005960464478,
           0.4999992251396179,
           0.499999076128006,
           0.49999380111694336,
           0.5000025629997253,
           0.5
          ],
          [
           0.49998536705970764,
           0.5000190734863281,
           0.4999999403953552,
           0.4999983608722687,
           0.4999994933605194,
           0.49999845027923584,
           0.49998340010643005,
           0.49998509883880615
          ]
         ],
         "zmax": 1,
         "zmin": 0
        },
        {
         "colorscale": [
          [
           0,
           "rgb(103,0,31)"
          ],
          [
           0.1,
           "rgb(178,24,43)"
          ],
          [
           0.2,
           "rgb(214,96,77)"
          ],
          [
           0.3,
           "rgb(244,165,130)"
          ],
          [
           0.4,
           "rgb(253,219,199)"
          ],
          [
           0.5,
           "rgb(247,247,247)"
          ],
          [
           0.6,
           "rgb(209,229,240)"
          ],
          [
           0.7,
           "rgb(146,197,222)"
          ],
          [
           0.8,
           "rgb(67,147,195)"
          ],
          [
           0.9,
           "rgb(33,102,172)"
          ],
          [
           1,
           "rgb(5,48,97)"
          ]
         ],
         "hoverongaps": false,
         "text": [
          [
           " ",
           " ",
           " ",
           " ",
           " ",
           " ",
           " ",
           " "
          ],
          [
           " ",
           " ",
           " ",
           " ",
           " ",
           " ",
           " ",
           " "
          ],
          [
           " ",
           " ",
           " ",
           " ",
           " ",
           " ",
           " ",
           " "
          ],
          [
           " ",
           " ",
           " ",
           " ",
           " ",
           " ",
           " ",
           " "
          ],
          [
           " ",
           " ",
           " ",
           " ",
           " ",
           " ",
           " ",
           " "
          ],
          [
           " ",
           " ",
           "█",
           " ",
           " ",
           " ",
           " ",
           " "
          ],
          [
           " ",
           " ",
           " ",
           " ",
           " ",
           " ",
           " ",
           " "
          ],
          [
           " ",
           " ",
           " ",
           " ",
           " ",
           " ",
           " ",
           " "
          ]
         ],
         "texttemplate": "%{text}",
         "type": "heatmap",
         "x": [
          0,
          1,
          2,
          3,
          4,
          5,
          6,
          7
         ],
         "xaxis": "x17",
         "y": [
          "H",
          "G",
          "F",
          "E",
          "D",
          "C",
          "B",
          "A"
         ],
         "yaxis": "y17",
         "z": [
          [
           0.5000107288360596,
           0.49997225403785706,
           0.4999981224536896,
           0.5000008344650269,
           0.49999889731407166,
           0.49999895691871643,
           0.49999988079071045,
           0.49999651312828064
          ],
          [
           0.4999762177467346,
           0.5,
           0.49998730421066284,
           0.49999457597732544,
           0.49999746680259705,
           0.5000079870223999,
           0.4999977648258209,
           0.49999937415122986
          ],
          [
           0.49999627470970154,
           0.4999905228614807,
           0.49999678134918213,
           0.49998199939727783,
           0.5000054240226746,
           0.499977171421051,
           0.5000000596046448,
           0.4999952018260956
          ],
          [
           0.5000045895576477,
           0.5000073909759521,
           0.49999967217445374,
           0.9994471669197083,
           0.0001589059829711914,
           0.4999738335609436,
           0.49999773502349854,
           0.49999725818634033
          ],
          [
           0.5000073909759521,
           0.49999934434890747,
           0.5000013113021851,
           0.000133514404296875,
           0.9995883703231812,
           0.49999743700027466,
           0.5000366568565369,
           0.4999951720237732
          ],
          [
           0.5000010132789612,
           0.9990655183792114,
           0.9998797178268433,
           0.9999802112579346,
           0.49999773502349854,
           0.5000007152557373,
           0.5000094771385193,
           0.4999973177909851
          ],
          [
           0.4999997913837433,
           0.4999999701976776,
           0.5000009536743164,
           0.5000000596046448,
           0.49999961256980896,
           0.49999067187309265,
           0.49999743700027466,
           0.4999985992908478
          ],
          [
           0.49999210238456726,
           0.5000092387199402,
           0.4999971389770508,
           0.5000157356262207,
           0.5,
           0.5000001192092896,
           0.49995407462120056,
           0.4999966025352478
          ]
         ],
         "zmax": 1,
         "zmin": 0
        },
        {
         "colorscale": [
          [
           0,
           "rgb(103,0,31)"
          ],
          [
           0.1,
           "rgb(178,24,43)"
          ],
          [
           0.2,
           "rgb(214,96,77)"
          ],
          [
           0.3,
           "rgb(244,165,130)"
          ],
          [
           0.4,
           "rgb(253,219,199)"
          ],
          [
           0.5,
           "rgb(247,247,247)"
          ],
          [
           0.6,
           "rgb(209,229,240)"
          ],
          [
           0.7,
           "rgb(146,197,222)"
          ],
          [
           0.8,
           "rgb(67,147,195)"
          ],
          [
           0.9,
           "rgb(33,102,172)"
          ],
          [
           1,
           "rgb(5,48,97)"
          ]
         ],
         "hoverongaps": false,
         "text": [
          [
           " ",
           " ",
           " ",
           " ",
           " ",
           " ",
           " ",
           " "
          ],
          [
           " ",
           " ",
           " ",
           " ",
           " ",
           " ",
           " ",
           " "
          ],
          [
           " ",
           " ",
           " ",
           " ",
           " ",
           " ",
           " ",
           " "
          ],
          [
           " ",
           " ",
           " ",
           " ",
           " ",
           " ",
           " ",
           " "
          ],
          [
           " ",
           " ",
           " ",
           " ",
           " ",
           " ",
           " ",
           " "
          ],
          [
           " ",
           " ",
           "█",
           " ",
           " ",
           " ",
           " ",
           " "
          ],
          [
           " ",
           " ",
           " ",
           " ",
           " ",
           " ",
           " ",
           " "
          ],
          [
           " ",
           " ",
           " ",
           " ",
           " ",
           " ",
           " ",
           " "
          ]
         ],
         "texttemplate": "%{text}",
         "type": "heatmap",
         "x": [
          0,
          1,
          2,
          3,
          4,
          5,
          6,
          7
         ],
         "xaxis": "x18",
         "y": [
          "H",
          "G",
          "F",
          "E",
          "D",
          "C",
          "B",
          "A"
         ],
         "yaxis": "y18",
         "z": [
          [
           0.49999868869781494,
           0.4999881386756897,
           0.49999693036079407,
           0.4999990165233612,
           0.4999886751174927,
           0.5000004172325134,
           0.49999895691871643,
           0.5000002980232239
          ],
          [
           0.4999992847442627,
           0.499999463558197,
           0.49999621510505676,
           0.499999463558197,
           0.49999967217445374,
           0.5000006556510925,
           0.49999886751174927,
           0.5
          ],
          [
           0.4999978244304657,
           0.4999993145465851,
           0.499999463558197,
           0.4999998211860657,
           0.4999997019767761,
           0.4999953508377075,
           0.5000003576278687,
           0.5000001788139343
          ],
          [
           0.5000019073486328,
           0.49999988079071045,
           0.4999997019767761,
           0.999525785446167,
           0.0006232559680938721,
           0.4999961256980896,
           0.49999991059303284,
           0.49999961256980896
          ],
          [
           0.5000006556510925,
           0.5,
           0.4999992847442627,
           0.0009128749370574951,
           0.9997673034667969,
           0.49999991059303284,
           0.4999905228614807,
           0.4999943673610687
          ],
          [
           0.5,
           0.9981529712677002,
           0.9992358684539795,
           0.999911904335022,
           0.5,
           0.5000006556510925,
           0.5000004768371582,
           0.5000014305114746
          ],
          [
           0.5,
           0.5,
           0.49999988079071045,
           0.5,
           0.4999999701976776,
           0.4999985694885254,
           0.4999985098838806,
           0.49999964237213135
          ],
          [
           0.4999997913837433,
           0.4999687671661377,
           0.49999886751174927,
           0.500006914138794,
           0.5000007152557373,
           0.5000021457672119,
           0.4999999403953552,
           0.5000438690185547
          ]
         ],
         "zmax": 1,
         "zmin": 0
        }
       ],
       "layout": {
        "annotations": [
         {
          "font": {
           "size": 16
          },
          "showarrow": false,
          "text": "P: 0, T: C3, L: 0, M: N",
          "x": 0.06944444444444445,
          "xanchor": "center",
          "xref": "paper",
          "y": 1,
          "yanchor": "bottom",
          "yref": "paper"
         },
         {
          "font": {
           "size": 16
          },
          "showarrow": false,
          "text": "P: 0, T: C3, L: 1, M: N",
          "x": 0.24166666666666667,
          "xanchor": "center",
          "xref": "paper",
          "y": 1,
          "yanchor": "bottom",
          "yref": "paper"
         },
         {
          "font": {
           "size": 16
          },
          "showarrow": false,
          "text": "P: 0, T: C3, L: 2, M: N",
          "x": 0.41388888888888886,
          "xanchor": "center",
          "xref": "paper",
          "y": 1,
          "yanchor": "bottom",
          "yref": "paper"
         },
         {
          "font": {
           "size": 16
          },
          "showarrow": false,
          "text": "P: 0, T: C3, L: 3, M: N",
          "x": 0.5861111111111112,
          "xanchor": "center",
          "xref": "paper",
          "y": 1,
          "yanchor": "bottom",
          "yref": "paper"
         },
         {
          "font": {
           "size": 16
          },
          "showarrow": false,
          "text": "P: 0, T: C3, L: 4, M: N",
          "x": 0.7583333333333333,
          "xanchor": "center",
          "xref": "paper",
          "y": 1,
          "yanchor": "bottom",
          "yref": "paper"
         },
         {
          "font": {
           "size": 16
          },
          "showarrow": false,
          "text": "P: 0, T: C3, L: 5, M: N",
          "x": 0.9305555555555556,
          "xanchor": "center",
          "xref": "paper",
          "y": 1,
          "yanchor": "bottom",
          "yref": "paper"
         },
         {
          "font": {
           "size": 16
          },
          "showarrow": false,
          "text": "P: 1, T: C2, L: 0, M: N",
          "x": 0.06944444444444445,
          "xanchor": "center",
          "xref": "paper",
          "y": 0.6365591397849463,
          "yanchor": "bottom",
          "yref": "paper"
         },
         {
          "font": {
           "size": 16
          },
          "showarrow": false,
          "text": "P: 1, T: C2, L: 1, M: N",
          "x": 0.24166666666666667,
          "xanchor": "center",
          "xref": "paper",
          "y": 0.6365591397849463,
          "yanchor": "bottom",
          "yref": "paper"
         },
         {
          "font": {
           "size": 16
          },
          "showarrow": false,
          "text": "P: 1, T: C2, L: 2, M: N",
          "x": 0.41388888888888886,
          "xanchor": "center",
          "xref": "paper",
          "y": 0.6365591397849463,
          "yanchor": "bottom",
          "yref": "paper"
         },
         {
          "font": {
           "size": 16
          },
          "showarrow": false,
          "text": "P: 1, T: C2, L: 3, M: N",
          "x": 0.5861111111111112,
          "xanchor": "center",
          "xref": "paper",
          "y": 0.6365591397849463,
          "yanchor": "bottom",
          "yref": "paper"
         },
         {
          "font": {
           "size": 16
          },
          "showarrow": false,
          "text": "P: 1, T: C2, L: 4, M: N",
          "x": 0.7583333333333333,
          "xanchor": "center",
          "xref": "paper",
          "y": 0.6365591397849463,
          "yanchor": "bottom",
          "yref": "paper"
         },
         {
          "font": {
           "size": 16
          },
          "showarrow": false,
          "text": "P: 1, T: C2, L: 5, M: N",
          "x": 0.9305555555555556,
          "xanchor": "center",
          "xref": "paper",
          "y": 0.6365591397849463,
          "yanchor": "bottom",
          "yref": "paper"
         },
         {
          "font": {
           "size": 16
          },
          "showarrow": false,
          "text": "P: 2, T: C1, L: 0, M: N",
          "x": 0.06944444444444445,
          "xanchor": "center",
          "xref": "paper",
          "y": 0.2731182795698925,
          "yanchor": "bottom",
          "yref": "paper"
         },
         {
          "font": {
           "size": 16
          },
          "showarrow": false,
          "text": "P: 2, T: C1, L: 1, M: N",
          "x": 0.24166666666666667,
          "xanchor": "center",
          "xref": "paper",
          "y": 0.2731182795698925,
          "yanchor": "bottom",
          "yref": "paper"
         },
         {
          "font": {
           "size": 16
          },
          "showarrow": false,
          "text": "P: 2, T: C1, L: 2, M: N",
          "x": 0.41388888888888886,
          "xanchor": "center",
          "xref": "paper",
          "y": 0.2731182795698925,
          "yanchor": "bottom",
          "yref": "paper"
         },
         {
          "font": {
           "size": 16
          },
          "showarrow": false,
          "text": "P: 2, T: C1, L: 3, M: N",
          "x": 0.5861111111111112,
          "xanchor": "center",
          "xref": "paper",
          "y": 0.2731182795698925,
          "yanchor": "bottom",
          "yref": "paper"
         },
         {
          "font": {
           "size": 16
          },
          "showarrow": false,
          "text": "P: 2, T: C1, L: 4, M: N",
          "x": 0.7583333333333333,
          "xanchor": "center",
          "xref": "paper",
          "y": 0.2731182795698925,
          "yanchor": "bottom",
          "yref": "paper"
         },
         {
          "font": {
           "size": 16
          },
          "showarrow": false,
          "text": "P: 2, T: C1, L: 5, M: N",
          "x": 0.9305555555555556,
          "xanchor": "center",
          "xref": "paper",
          "y": 0.2731182795698925,
          "yanchor": "bottom",
          "yref": "paper"
         }
        ],
        "height": 775,
        "margin": {
         "t": 100
        },
        "template": {
         "data": {
          "bar": [
           {
            "error_x": {
             "color": "#2a3f5f"
            },
            "error_y": {
             "color": "#2a3f5f"
            },
            "marker": {
             "line": {
              "color": "#E5ECF6",
              "width": 0.5
             },
             "pattern": {
              "fillmode": "overlay",
              "size": 10,
              "solidity": 0.2
             }
            },
            "type": "bar"
           }
          ],
          "barpolar": [
           {
            "marker": {
             "line": {
              "color": "#E5ECF6",
              "width": 0.5
             },
             "pattern": {
              "fillmode": "overlay",
              "size": 10,
              "solidity": 0.2
             }
            },
            "type": "barpolar"
           }
          ],
          "carpet": [
           {
            "aaxis": {
             "endlinecolor": "#2a3f5f",
             "gridcolor": "white",
             "linecolor": "white",
             "minorgridcolor": "white",
             "startlinecolor": "#2a3f5f"
            },
            "baxis": {
             "endlinecolor": "#2a3f5f",
             "gridcolor": "white",
             "linecolor": "white",
             "minorgridcolor": "white",
             "startlinecolor": "#2a3f5f"
            },
            "type": "carpet"
           }
          ],
          "choropleth": [
           {
            "colorbar": {
             "outlinewidth": 0,
             "ticks": ""
            },
            "type": "choropleth"
           }
          ],
          "contour": [
           {
            "colorbar": {
             "outlinewidth": 0,
             "ticks": ""
            },
            "colorscale": [
             [
              0,
              "#0d0887"
             ],
             [
              0.1111111111111111,
              "#46039f"
             ],
             [
              0.2222222222222222,
              "#7201a8"
             ],
             [
              0.3333333333333333,
              "#9c179e"
             ],
             [
              0.4444444444444444,
              "#bd3786"
             ],
             [
              0.5555555555555556,
              "#d8576b"
             ],
             [
              0.6666666666666666,
              "#ed7953"
             ],
             [
              0.7777777777777778,
              "#fb9f3a"
             ],
             [
              0.8888888888888888,
              "#fdca26"
             ],
             [
              1,
              "#f0f921"
             ]
            ],
            "type": "contour"
           }
          ],
          "contourcarpet": [
           {
            "colorbar": {
             "outlinewidth": 0,
             "ticks": ""
            },
            "type": "contourcarpet"
           }
          ],
          "heatmap": [
           {
            "colorbar": {
             "outlinewidth": 0,
             "ticks": ""
            },
            "colorscale": [
             [
              0,
              "#0d0887"
             ],
             [
              0.1111111111111111,
              "#46039f"
             ],
             [
              0.2222222222222222,
              "#7201a8"
             ],
             [
              0.3333333333333333,
              "#9c179e"
             ],
             [
              0.4444444444444444,
              "#bd3786"
             ],
             [
              0.5555555555555556,
              "#d8576b"
             ],
             [
              0.6666666666666666,
              "#ed7953"
             ],
             [
              0.7777777777777778,
              "#fb9f3a"
             ],
             [
              0.8888888888888888,
              "#fdca26"
             ],
             [
              1,
              "#f0f921"
             ]
            ],
            "type": "heatmap"
           }
          ],
          "heatmapgl": [
           {
            "colorbar": {
             "outlinewidth": 0,
             "ticks": ""
            },
            "colorscale": [
             [
              0,
              "#0d0887"
             ],
             [
              0.1111111111111111,
              "#46039f"
             ],
             [
              0.2222222222222222,
              "#7201a8"
             ],
             [
              0.3333333333333333,
              "#9c179e"
             ],
             [
              0.4444444444444444,
              "#bd3786"
             ],
             [
              0.5555555555555556,
              "#d8576b"
             ],
             [
              0.6666666666666666,
              "#ed7953"
             ],
             [
              0.7777777777777778,
              "#fb9f3a"
             ],
             [
              0.8888888888888888,
              "#fdca26"
             ],
             [
              1,
              "#f0f921"
             ]
            ],
            "type": "heatmapgl"
           }
          ],
          "histogram": [
           {
            "marker": {
             "pattern": {
              "fillmode": "overlay",
              "size": 10,
              "solidity": 0.2
             }
            },
            "type": "histogram"
           }
          ],
          "histogram2d": [
           {
            "colorbar": {
             "outlinewidth": 0,
             "ticks": ""
            },
            "colorscale": [
             [
              0,
              "#0d0887"
             ],
             [
              0.1111111111111111,
              "#46039f"
             ],
             [
              0.2222222222222222,
              "#7201a8"
             ],
             [
              0.3333333333333333,
              "#9c179e"
             ],
             [
              0.4444444444444444,
              "#bd3786"
             ],
             [
              0.5555555555555556,
              "#d8576b"
             ],
             [
              0.6666666666666666,
              "#ed7953"
             ],
             [
              0.7777777777777778,
              "#fb9f3a"
             ],
             [
              0.8888888888888888,
              "#fdca26"
             ],
             [
              1,
              "#f0f921"
             ]
            ],
            "type": "histogram2d"
           }
          ],
          "histogram2dcontour": [
           {
            "colorbar": {
             "outlinewidth": 0,
             "ticks": ""
            },
            "colorscale": [
             [
              0,
              "#0d0887"
             ],
             [
              0.1111111111111111,
              "#46039f"
             ],
             [
              0.2222222222222222,
              "#7201a8"
             ],
             [
              0.3333333333333333,
              "#9c179e"
             ],
             [
              0.4444444444444444,
              "#bd3786"
             ],
             [
              0.5555555555555556,
              "#d8576b"
             ],
             [
              0.6666666666666666,
              "#ed7953"
             ],
             [
              0.7777777777777778,
              "#fb9f3a"
             ],
             [
              0.8888888888888888,
              "#fdca26"
             ],
             [
              1,
              "#f0f921"
             ]
            ],
            "type": "histogram2dcontour"
           }
          ],
          "mesh3d": [
           {
            "colorbar": {
             "outlinewidth": 0,
             "ticks": ""
            },
            "type": "mesh3d"
           }
          ],
          "parcoords": [
           {
            "line": {
             "colorbar": {
              "outlinewidth": 0,
              "ticks": ""
             }
            },
            "type": "parcoords"
           }
          ],
          "pie": [
           {
            "automargin": true,
            "type": "pie"
           }
          ],
          "scatter": [
           {
            "fillpattern": {
             "fillmode": "overlay",
             "size": 10,
             "solidity": 0.2
            },
            "type": "scatter"
           }
          ],
          "scatter3d": [
           {
            "line": {
             "colorbar": {
              "outlinewidth": 0,
              "ticks": ""
             }
            },
            "marker": {
             "colorbar": {
              "outlinewidth": 0,
              "ticks": ""
             }
            },
            "type": "scatter3d"
           }
          ],
          "scattercarpet": [
           {
            "marker": {
             "colorbar": {
              "outlinewidth": 0,
              "ticks": ""
             }
            },
            "type": "scattercarpet"
           }
          ],
          "scattergeo": [
           {
            "marker": {
             "colorbar": {
              "outlinewidth": 0,
              "ticks": ""
             }
            },
            "type": "scattergeo"
           }
          ],
          "scattergl": [
           {
            "marker": {
             "colorbar": {
              "outlinewidth": 0,
              "ticks": ""
             }
            },
            "type": "scattergl"
           }
          ],
          "scattermapbox": [
           {
            "marker": {
             "colorbar": {
              "outlinewidth": 0,
              "ticks": ""
             }
            },
            "type": "scattermapbox"
           }
          ],
          "scatterpolar": [
           {
            "marker": {
             "colorbar": {
              "outlinewidth": 0,
              "ticks": ""
             }
            },
            "type": "scatterpolar"
           }
          ],
          "scatterpolargl": [
           {
            "marker": {
             "colorbar": {
              "outlinewidth": 0,
              "ticks": ""
             }
            },
            "type": "scatterpolargl"
           }
          ],
          "scatterternary": [
           {
            "marker": {
             "colorbar": {
              "outlinewidth": 0,
              "ticks": ""
             }
            },
            "type": "scatterternary"
           }
          ],
          "surface": [
           {
            "colorbar": {
             "outlinewidth": 0,
             "ticks": ""
            },
            "colorscale": [
             [
              0,
              "#0d0887"
             ],
             [
              0.1111111111111111,
              "#46039f"
             ],
             [
              0.2222222222222222,
              "#7201a8"
             ],
             [
              0.3333333333333333,
              "#9c179e"
             ],
             [
              0.4444444444444444,
              "#bd3786"
             ],
             [
              0.5555555555555556,
              "#d8576b"
             ],
             [
              0.6666666666666666,
              "#ed7953"
             ],
             [
              0.7777777777777778,
              "#fb9f3a"
             ],
             [
              0.8888888888888888,
              "#fdca26"
             ],
             [
              1,
              "#f0f921"
             ]
            ],
            "type": "surface"
           }
          ],
          "table": [
           {
            "cells": {
             "fill": {
              "color": "#EBF0F8"
             },
             "line": {
              "color": "white"
             }
            },
            "header": {
             "fill": {
              "color": "#C8D4E3"
             },
             "line": {
              "color": "white"
             }
            },
            "type": "table"
           }
          ]
         },
         "layout": {
          "annotationdefaults": {
           "arrowcolor": "#2a3f5f",
           "arrowhead": 0,
           "arrowwidth": 1
          },
          "autotypenumbers": "strict",
          "coloraxis": {
           "colorbar": {
            "outlinewidth": 0,
            "ticks": ""
           }
          },
          "colorscale": {
           "diverging": [
            [
             0,
             "#8e0152"
            ],
            [
             0.1,
             "#c51b7d"
            ],
            [
             0.2,
             "#de77ae"
            ],
            [
             0.3,
             "#f1b6da"
            ],
            [
             0.4,
             "#fde0ef"
            ],
            [
             0.5,
             "#f7f7f7"
            ],
            [
             0.6,
             "#e6f5d0"
            ],
            [
             0.7,
             "#b8e186"
            ],
            [
             0.8,
             "#7fbc41"
            ],
            [
             0.9,
             "#4d9221"
            ],
            [
             1,
             "#276419"
            ]
           ],
           "sequential": [
            [
             0,
             "#0d0887"
            ],
            [
             0.1111111111111111,
             "#46039f"
            ],
            [
             0.2222222222222222,
             "#7201a8"
            ],
            [
             0.3333333333333333,
             "#9c179e"
            ],
            [
             0.4444444444444444,
             "#bd3786"
            ],
            [
             0.5555555555555556,
             "#d8576b"
            ],
            [
             0.6666666666666666,
             "#ed7953"
            ],
            [
             0.7777777777777778,
             "#fb9f3a"
            ],
            [
             0.8888888888888888,
             "#fdca26"
            ],
            [
             1,
             "#f0f921"
            ]
           ],
           "sequentialminus": [
            [
             0,
             "#0d0887"
            ],
            [
             0.1111111111111111,
             "#46039f"
            ],
            [
             0.2222222222222222,
             "#7201a8"
            ],
            [
             0.3333333333333333,
             "#9c179e"
            ],
            [
             0.4444444444444444,
             "#bd3786"
            ],
            [
             0.5555555555555556,
             "#d8576b"
            ],
            [
             0.6666666666666666,
             "#ed7953"
            ],
            [
             0.7777777777777778,
             "#fb9f3a"
            ],
            [
             0.8888888888888888,
             "#fdca26"
            ],
            [
             1,
             "#f0f921"
            ]
           ]
          },
          "colorway": [
           "#636efa",
           "#EF553B",
           "#00cc96",
           "#ab63fa",
           "#FFA15A",
           "#19d3f3",
           "#FF6692",
           "#B6E880",
           "#FF97FF",
           "#FECB52"
          ],
          "font": {
           "color": "#2a3f5f"
          },
          "geo": {
           "bgcolor": "white",
           "lakecolor": "white",
           "landcolor": "#E5ECF6",
           "showlakes": true,
           "showland": true,
           "subunitcolor": "white"
          },
          "hoverlabel": {
           "align": "left"
          },
          "hovermode": "closest",
          "mapbox": {
           "style": "light"
          },
          "paper_bgcolor": "white",
          "plot_bgcolor": "#E5ECF6",
          "polar": {
           "angularaxis": {
            "gridcolor": "white",
            "linecolor": "white",
            "ticks": ""
           },
           "bgcolor": "#E5ECF6",
           "radialaxis": {
            "gridcolor": "white",
            "linecolor": "white",
            "ticks": ""
           }
          },
          "scene": {
           "xaxis": {
            "backgroundcolor": "#E5ECF6",
            "gridcolor": "white",
            "gridwidth": 2,
            "linecolor": "white",
            "showbackground": true,
            "ticks": "",
            "zerolinecolor": "white"
           },
           "yaxis": {
            "backgroundcolor": "#E5ECF6",
            "gridcolor": "white",
            "gridwidth": 2,
            "linecolor": "white",
            "showbackground": true,
            "ticks": "",
            "zerolinecolor": "white"
           },
           "zaxis": {
            "backgroundcolor": "#E5ECF6",
            "gridcolor": "white",
            "gridwidth": 2,
            "linecolor": "white",
            "showbackground": true,
            "ticks": "",
            "zerolinecolor": "white"
           }
          },
          "shapedefaults": {
           "line": {
            "color": "#2a3f5f"
           }
          },
          "ternary": {
           "aaxis": {
            "gridcolor": "white",
            "linecolor": "white",
            "ticks": ""
           },
           "baxis": {
            "gridcolor": "white",
            "linecolor": "white",
            "ticks": ""
           },
           "bgcolor": "#E5ECF6",
           "caxis": {
            "gridcolor": "white",
            "linecolor": "white",
            "ticks": ""
           }
          },
          "title": {
           "x": 0.05
          },
          "xaxis": {
           "automargin": true,
           "gridcolor": "white",
           "linecolor": "white",
           "ticks": "",
           "title": {
            "standoff": 15
           },
           "zerolinecolor": "white",
           "zerolinewidth": 2
          },
          "yaxis": {
           "automargin": true,
           "gridcolor": "white",
           "linecolor": "white",
           "ticks": "",
           "title": {
            "standoff": 15
           },
           "zerolinecolor": "white",
           "zerolinewidth": 2
          }
         }
        },
        "title": {
         "text": "Probe Results per Position per Layer, Mode: N"
        },
        "width": 1350,
        "xaxis": {
         "anchor": "y",
         "domain": [
          0,
          0.1388888888888889
         ]
        },
        "xaxis10": {
         "anchor": "y10",
         "domain": [
          0.5166666666666667,
          0.6555555555555557
         ]
        },
        "xaxis11": {
         "anchor": "y11",
         "domain": [
          0.6888888888888889,
          0.8277777777777777
         ]
        },
        "xaxis12": {
         "anchor": "y12",
         "domain": [
          0.861111111111111,
          1
         ]
        },
        "xaxis13": {
         "anchor": "y13",
         "domain": [
          0,
          0.1388888888888889
         ]
        },
        "xaxis14": {
         "anchor": "y14",
         "domain": [
          0.17222222222222222,
          0.3111111111111111
         ]
        },
        "xaxis15": {
         "anchor": "y15",
         "domain": [
          0.34444444444444444,
          0.48333333333333334
         ]
        },
        "xaxis16": {
         "anchor": "y16",
         "domain": [
          0.5166666666666667,
          0.6555555555555557
         ]
        },
        "xaxis17": {
         "anchor": "y17",
         "domain": [
          0.6888888888888889,
          0.8277777777777777
         ]
        },
        "xaxis18": {
         "anchor": "y18",
         "domain": [
          0.861111111111111,
          1
         ]
        },
        "xaxis2": {
         "anchor": "y2",
         "domain": [
          0.17222222222222222,
          0.3111111111111111
         ]
        },
        "xaxis3": {
         "anchor": "y3",
         "domain": [
          0.34444444444444444,
          0.48333333333333334
         ]
        },
        "xaxis4": {
         "anchor": "y4",
         "domain": [
          0.5166666666666667,
          0.6555555555555557
         ]
        },
        "xaxis5": {
         "anchor": "y5",
         "domain": [
          0.6888888888888889,
          0.8277777777777777
         ]
        },
        "xaxis6": {
         "anchor": "y6",
         "domain": [
          0.861111111111111,
          1
         ]
        },
        "xaxis7": {
         "anchor": "y7",
         "domain": [
          0,
          0.1388888888888889
         ]
        },
        "xaxis8": {
         "anchor": "y8",
         "domain": [
          0.17222222222222222,
          0.3111111111111111
         ]
        },
        "xaxis9": {
         "anchor": "y9",
         "domain": [
          0.34444444444444444,
          0.48333333333333334
         ]
        },
        "yaxis": {
         "anchor": "x",
         "domain": [
          0.7268817204301076,
          1
         ]
        },
        "yaxis10": {
         "anchor": "x10",
         "domain": [
          0.3634408602150538,
          0.6365591397849463
         ]
        },
        "yaxis11": {
         "anchor": "x11",
         "domain": [
          0.3634408602150538,
          0.6365591397849463
         ]
        },
        "yaxis12": {
         "anchor": "x12",
         "domain": [
          0.3634408602150538,
          0.6365591397849463
         ]
        },
        "yaxis13": {
         "anchor": "x13",
         "domain": [
          0,
          0.2731182795698925
         ]
        },
        "yaxis14": {
         "anchor": "x14",
         "domain": [
          0,
          0.2731182795698925
         ]
        },
        "yaxis15": {
         "anchor": "x15",
         "domain": [
          0,
          0.2731182795698925
         ]
        },
        "yaxis16": {
         "anchor": "x16",
         "domain": [
          0,
          0.2731182795698925
         ]
        },
        "yaxis17": {
         "anchor": "x17",
         "domain": [
          0,
          0.2731182795698925
         ]
        },
        "yaxis18": {
         "anchor": "x18",
         "domain": [
          0,
          0.2731182795698925
         ]
        },
        "yaxis2": {
         "anchor": "x2",
         "domain": [
          0.7268817204301076,
          1
         ]
        },
        "yaxis3": {
         "anchor": "x3",
         "domain": [
          0.7268817204301076,
          1
         ]
        },
        "yaxis4": {
         "anchor": "x4",
         "domain": [
          0.7268817204301076,
          1
         ]
        },
        "yaxis5": {
         "anchor": "x5",
         "domain": [
          0.7268817204301076,
          1
         ]
        },
        "yaxis6": {
         "anchor": "x6",
         "domain": [
          0.7268817204301076,
          1
         ]
        },
        "yaxis7": {
         "anchor": "x7",
         "domain": [
          0.3634408602150538,
          0.6365591397849463
         ]
        },
        "yaxis8": {
         "anchor": "x8",
         "domain": [
          0.3634408602150538,
          0.6365591397849463
         ]
        },
        "yaxis9": {
         "anchor": "x9",
         "domain": [
          0.3634408602150538,
          0.6365591397849463
         ]
        }
       }
      },
      "text/html": [
       "<div>                            <div id=\"0d2d6711-7806-4c57-ac41-060c2b2170e2\" class=\"plotly-graph-div\" style=\"height:775px; width:1350px;\"></div>            <script type=\"text/javascript\">                require([\"plotly\"], function(Plotly) {                    window.PLOTLYENV=window.PLOTLYENV || {};                                    if (document.getElementById(\"0d2d6711-7806-4c57-ac41-060c2b2170e2\")) {                    Plotly.newPlot(                        \"0d2d6711-7806-4c57-ac41-060c2b2170e2\",                        [{\"colorscale\":[[0.0,\"rgb(103,0,31)\"],[0.1,\"rgb(178,24,43)\"],[0.2,\"rgb(214,96,77)\"],[0.3,\"rgb(244,165,130)\"],[0.4,\"rgb(253,219,199)\"],[0.5,\"rgb(247,247,247)\"],[0.6,\"rgb(209,229,240)\"],[0.7,\"rgb(146,197,222)\"],[0.8,\"rgb(67,147,195)\"],[0.9,\"rgb(33,102,172)\"],[1.0,\"rgb(5,48,97)\"]],\"hoverongaps\":false,\"text\":[[\" \",\" \",\" \",\" \",\" \",\" \",\" \",\" \"],[\" \",\" \",\" \",\" \",\" \",\" \",\" \",\" \"],[\" \",\" \",\" \",\" \",\" \",\" \",\" \",\" \"],[\" \",\" \",\" \",\" \",\" \",\" \",\" \",\" \"],[\" \",\" \",\" \",\"\\u2588\",\" \",\" \",\" \",\" \"],[\" \",\" \",\" \",\" \",\" \",\" \",\" \",\" \"],[\" \",\" \",\" \",\" \",\" \",\" \",\" \",\" \"],[\" \",\" \",\" \",\" \",\" \",\" \",\" \",\" \"]],\"texttemplate\":\"%{text}\",\"x\":[0,1,2,3,4,5,6,7],\"y\":[\"H\",\"G\",\"F\",\"E\",\"D\",\"C\",\"B\",\"A\"],\"z\":[[0.5,0.5,0.5,0.5,0.5,0.5,0.5,0.5],[0.5000007152557373,0.5,0.5,0.5,0.5,0.5,0.5,0.5],[0.5,0.5000035166740417,0.5,0.5,0.5,0.5,0.5,0.5],[0.5,0.5,0.5,0.9999991655349731,0.009093254804611206,0.5000000596046448,0.5000000596046448,0.5],[0.5,0.5,0.500951886177063,0.9983929991722107,0.9999996423721313,0.5,0.5,0.5],[0.5,0.5,0.5,0.9996030330657959,0.5,0.5,0.5,0.5],[0.5,0.5,0.5,0.5,0.5,0.49999916553497314,0.4999999701976776,0.49999621510505676],[0.5,0.5,0.5,0.5,0.5,0.5,0.5,0.5]],\"zmax\":1.0,\"zmin\":0.0,\"type\":\"heatmap\",\"xaxis\":\"x\",\"yaxis\":\"y\"},{\"colorscale\":[[0.0,\"rgb(103,0,31)\"],[0.1,\"rgb(178,24,43)\"],[0.2,\"rgb(214,96,77)\"],[0.3,\"rgb(244,165,130)\"],[0.4,\"rgb(253,219,199)\"],[0.5,\"rgb(247,247,247)\"],[0.6,\"rgb(209,229,240)\"],[0.7,\"rgb(146,197,222)\"],[0.8,\"rgb(67,147,195)\"],[0.9,\"rgb(33,102,172)\"],[1.0,\"rgb(5,48,97)\"]],\"hoverongaps\":false,\"text\":[[\" \",\" \",\" \",\" \",\" \",\" \",\" \",\" \"],[\" \",\" \",\" \",\" \",\" \",\" \",\" \",\" \"],[\" \",\" \",\" \",\" \",\" \",\" \",\" \",\" \"],[\" \",\" \",\" \",\" \",\" \",\" \",\" \",\" \"],[\" \",\" \",\" \",\"\\u2588\",\" \",\" \",\" \",\" \"],[\" \",\" \",\" \",\" \",\" \",\" \",\" \",\" \"],[\" \",\" \",\" \",\" \",\" \",\" \",\" \",\" \"],[\" \",\" \",\" \",\" \",\" \",\" \",\" \",\" \"]],\"texttemplate\":\"%{text}\",\"x\":[0,1,2,3,4,5,6,7],\"y\":[\"H\",\"G\",\"F\",\"E\",\"D\",\"C\",\"B\",\"A\"],\"z\":[[0.4999999701976776,0.5,0.5000200867652893,0.5000157356262207,0.5000030994415283,0.5000030398368835,0.5,0.5000016689300537],[0.5000001788139343,0.5,0.5,0.5,0.5000004172325134,0.5000003576278687,0.5,0.500000536441803],[0.5,0.4999943673610687,0.5,0.5000000596046448,0.5000026822090149,0.5,0.5,0.5000031590461731],[0.5000029802322388,0.4999999701976776,0.5,1.0,0.023816972970962524,0.5000077486038208,0.5000008940696716,0.5000051856040955],[0.5000002384185791,0.5,0.5007736086845398,0.981154203414917,0.9999997019767761,0.5,0.49999332427978516,0.5000014305114746],[0.5,0.5000001192092896,0.5,0.9992969036102295,0.5,0.5,0.5,0.5],[0.5,0.5,0.5,0.5,0.5,0.5,0.5,0.5000000596046448],[0.5,0.5000000596046448,0.5000002384185791,0.5000006556510925,0.5000048875808716,0.5,0.5,0.5]],\"zmax\":1.0,\"zmin\":0.0,\"type\":\"heatmap\",\"xaxis\":\"x2\",\"yaxis\":\"y2\"},{\"colorscale\":[[0.0,\"rgb(103,0,31)\"],[0.1,\"rgb(178,24,43)\"],[0.2,\"rgb(214,96,77)\"],[0.3,\"rgb(244,165,130)\"],[0.4,\"rgb(253,219,199)\"],[0.5,\"rgb(247,247,247)\"],[0.6,\"rgb(209,229,240)\"],[0.7,\"rgb(146,197,222)\"],[0.8,\"rgb(67,147,195)\"],[0.9,\"rgb(33,102,172)\"],[1.0,\"rgb(5,48,97)\"]],\"hoverongaps\":false,\"text\":[[\" \",\" \",\" \",\" \",\" \",\" \",\" \",\" \"],[\" \",\" \",\" \",\" \",\" \",\" \",\" \",\" \"],[\" \",\" \",\" \",\" \",\" \",\" \",\" \",\" \"],[\" \",\" \",\" \",\" \",\" \",\" \",\" \",\" \"],[\" \",\" \",\" \",\"\\u2588\",\" \",\" \",\" \",\" \"],[\" \",\" \",\" \",\" \",\" \",\" \",\" \",\" \"],[\" \",\" \",\" \",\" \",\" \",\" \",\" \",\" \"],[\" \",\" \",\" \",\" \",\" \",\" \",\" \",\" \"]],\"texttemplate\":\"%{text}\",\"x\":[0,1,2,3,4,5,6,7],\"y\":[\"H\",\"G\",\"F\",\"E\",\"D\",\"C\",\"B\",\"A\"],\"z\":[[0.5,0.49999991059303284,0.5,0.5000014901161194,0.5,0.5,0.5,0.5000001192092896],[0.5000274777412415,0.5,0.5000004172325134,0.4999999701976776,0.5,0.5,0.5,0.5],[0.5,0.5,0.4999999403953552,0.5,0.5000584721565247,0.5,0.5000139474868774,0.49999988079071045],[0.5,0.5,0.5,1.0,0.009419500827789307,0.5000617504119873,0.5,0.5000000596046448],[0.5,0.5,0.5039536952972412,0.9891635179519653,1.0,0.5,0.499999463558197,0.5],[0.5,0.5,0.5,0.9973454475402832,0.5,0.5,0.49999892711639404,0.5000000596046448],[0.5,0.5,0.5,0.5,0.5,0.49999386072158813,0.500000536441803,0.5],[0.5,0.5000096559524536,0.5,0.5,0.5,0.4999994933605194,0.5,0.5]],\"zmax\":1.0,\"zmin\":0.0,\"type\":\"heatmap\",\"xaxis\":\"x3\",\"yaxis\":\"y3\"},{\"colorscale\":[[0.0,\"rgb(103,0,31)\"],[0.1,\"rgb(178,24,43)\"],[0.2,\"rgb(214,96,77)\"],[0.3,\"rgb(244,165,130)\"],[0.4,\"rgb(253,219,199)\"],[0.5,\"rgb(247,247,247)\"],[0.6,\"rgb(209,229,240)\"],[0.7,\"rgb(146,197,222)\"],[0.8,\"rgb(67,147,195)\"],[0.9,\"rgb(33,102,172)\"],[1.0,\"rgb(5,48,97)\"]],\"hoverongaps\":false,\"text\":[[\" \",\" \",\" \",\" \",\" \",\" \",\" \",\" \"],[\" \",\" \",\" \",\" \",\" \",\" \",\" \",\" \"],[\" \",\" \",\" \",\" \",\" \",\" \",\" \",\" \"],[\" \",\" \",\" \",\" \",\" \",\" \",\" \",\" \"],[\" \",\" \",\" \",\"\\u2588\",\" \",\" \",\" \",\" \"],[\" \",\" \",\" \",\" \",\" \",\" \",\" \",\" \"],[\" \",\" \",\" \",\" \",\" \",\" \",\" \",\" \"],[\" \",\" \",\" \",\" \",\" \",\" \",\" \",\" \"]],\"texttemplate\":\"%{text}\",\"x\":[0,1,2,3,4,5,6,7],\"y\":[\"H\",\"G\",\"F\",\"E\",\"D\",\"C\",\"B\",\"A\"],\"z\":[[0.5000002980232239,0.4999999701976776,0.5000010132789612,0.49999988079071045,0.5,0.5,0.5,0.5000023245811462],[0.5000003576278687,0.5,0.5,0.5,0.5,0.5,0.5,0.5000002980232239],[0.500000536441803,0.5,0.4999999701976776,0.5,0.5002007484436035,0.5,0.5,0.4999983608722687],[0.5000001192092896,0.5,0.5,1.0,0.0242098867893219,0.5003026723861694,0.5,0.49999895691871643],[0.5,0.5,0.5115997195243835,0.956579327583313,1.0,0.49999991059303284,0.5,0.4999924302101135],[0.5000001192092896,0.5,0.5,0.9866079092025757,0.5,0.5000001788139343,0.5,0.49999886751174927],[0.49999961256980896,0.5000003576278687,0.5,0.5000003576278687,0.500026524066925,0.5,0.5000000596046448,0.5],[0.4999944567680359,0.5000036954879761,0.5,0.5,0.49999991059303284,0.4999999403953552,0.5,0.4999997317790985]],\"zmax\":1.0,\"zmin\":0.0,\"type\":\"heatmap\",\"xaxis\":\"x4\",\"yaxis\":\"y4\"},{\"colorscale\":[[0.0,\"rgb(103,0,31)\"],[0.1,\"rgb(178,24,43)\"],[0.2,\"rgb(214,96,77)\"],[0.3,\"rgb(244,165,130)\"],[0.4,\"rgb(253,219,199)\"],[0.5,\"rgb(247,247,247)\"],[0.6,\"rgb(209,229,240)\"],[0.7,\"rgb(146,197,222)\"],[0.8,\"rgb(67,147,195)\"],[0.9,\"rgb(33,102,172)\"],[1.0,\"rgb(5,48,97)\"]],\"hoverongaps\":false,\"text\":[[\" \",\" \",\" \",\" \",\" \",\" \",\" \",\" \"],[\" \",\" \",\" \",\" \",\" \",\" \",\" \",\" \"],[\" \",\" \",\" \",\" \",\" \",\" \",\" \",\" \"],[\" \",\" \",\" \",\" \",\" \",\" \",\" \",\" \"],[\" \",\" \",\" \",\"\\u2588\",\" \",\" \",\" \",\" \"],[\" \",\" \",\" \",\" \",\" \",\" \",\" \",\" \"],[\" \",\" \",\" \",\" \",\" \",\" \",\" \",\" \"],[\" \",\" \",\" \",\" \",\" \",\" \",\" \",\" \"]],\"texttemplate\":\"%{text}\",\"x\":[0,1,2,3,4,5,6,7],\"y\":[\"H\",\"G\",\"F\",\"E\",\"D\",\"C\",\"B\",\"A\"],\"z\":[[0.5000007152557373,0.5000162720680237,0.5000037550926208,0.5,0.5,0.5,0.5,0.5000039935112],[0.5000001192092896,0.5,0.5,0.5,0.5,0.5,0.5,0.5000003576278687],[0.5000035166740417,0.5,0.4999999701976776,0.5,0.5001784563064575,0.5,0.5,0.49999991059303284],[0.5,0.5,0.5,1.0,0.021786987781524658,0.5004462003707886,0.5,0.4999972879886627],[0.5,0.5,0.5093122720718384,0.9854512214660645,0.9999997615814209,0.5,0.49999889731407166,0.4999973177909851],[0.4999999403953552,0.5,0.5,0.9905314445495605,0.5,0.5000004768371582,0.4999998211860657,0.4999985098838806],[0.5,0.5000004172325134,0.5,0.5000004172325134,0.5,0.5,0.4999999701976776,0.5],[0.49996769428253174,0.5000016093254089,0.5,0.5,0.49999886751174927,0.4999946057796478,0.5,0.5]],\"zmax\":1.0,\"zmin\":0.0,\"type\":\"heatmap\",\"xaxis\":\"x5\",\"yaxis\":\"y5\"},{\"colorscale\":[[0.0,\"rgb(103,0,31)\"],[0.1,\"rgb(178,24,43)\"],[0.2,\"rgb(214,96,77)\"],[0.3,\"rgb(244,165,130)\"],[0.4,\"rgb(253,219,199)\"],[0.5,\"rgb(247,247,247)\"],[0.6,\"rgb(209,229,240)\"],[0.7,\"rgb(146,197,222)\"],[0.8,\"rgb(67,147,195)\"],[0.9,\"rgb(33,102,172)\"],[1.0,\"rgb(5,48,97)\"]],\"hoverongaps\":false,\"text\":[[\" \",\" \",\" \",\" \",\" \",\" \",\" \",\" \"],[\" \",\" \",\" \",\" \",\" \",\" \",\" \",\" \"],[\" \",\" \",\" \",\" \",\" \",\" \",\" \",\" \"],[\" \",\" \",\" \",\" \",\" \",\" \",\" \",\" \"],[\" \",\" \",\" \",\"\\u2588\",\" \",\" \",\" \",\" \"],[\" \",\" \",\" \",\" \",\" \",\" \",\" \",\" \"],[\" \",\" \",\" \",\" \",\" \",\" \",\" \",\" \"],[\" \",\" \",\" \",\" \",\" \",\" \",\" \",\" \"]],\"texttemplate\":\"%{text}\",\"x\":[0,1,2,3,4,5,6,7],\"y\":[\"H\",\"G\",\"F\",\"E\",\"D\",\"C\",\"B\",\"A\"],\"z\":[[0.5,0.5,0.5,0.5,0.5,0.5,0.5,0.5],[0.5000000596046448,0.4999949634075165,0.5000000596046448,0.5,0.5,0.5,0.5,0.5000002384185791],[0.5,0.5000001788139343,0.5,0.5,0.500006914138794,0.5,0.5,0.4999987483024597],[0.5,0.5000001788139343,0.5,1.0,0.00302278995513916,0.5001558661460876,0.5000000596046448,0.4999583959579468],[0.5,0.5000206232070923,0.5040143728256226,0.9950000047683716,1.0,0.5,0.5,0.4999999701976776],[0.5,0.5,0.5,0.9977774620056152,0.5,0.5,0.4999999403953552,0.5],[0.49999988079071045,0.5,0.4999982714653015,0.5,0.5,0.5,0.4999999403953552,0.5],[0.499977707862854,0.5000001192092896,0.5,0.5,0.4999999403953552,0.5,0.5,0.5]],\"zmax\":1.0,\"zmin\":0.0,\"type\":\"heatmap\",\"xaxis\":\"x6\",\"yaxis\":\"y6\"},{\"colorscale\":[[0.0,\"rgb(103,0,31)\"],[0.1,\"rgb(178,24,43)\"],[0.2,\"rgb(214,96,77)\"],[0.3,\"rgb(244,165,130)\"],[0.4,\"rgb(253,219,199)\"],[0.5,\"rgb(247,247,247)\"],[0.6,\"rgb(209,229,240)\"],[0.7,\"rgb(146,197,222)\"],[0.8,\"rgb(67,147,195)\"],[0.9,\"rgb(33,102,172)\"],[1.0,\"rgb(5,48,97)\"]],\"hoverongaps\":false,\"text\":[[\" \",\" \",\" \",\" \",\" \",\" \",\" \",\" \"],[\" \",\" \",\" \",\" \",\" \",\" \",\" \",\" \"],[\" \",\" \",\" \",\" \",\" \",\" \",\" \",\" \"],[\" \",\" \",\" \",\" \",\" \",\" \",\" \",\" \"],[\" \",\" \",\" \",\"\\u2588\",\" \",\" \",\" \",\" \"],[\" \",\" \",\" \",\" \",\" \",\" \",\" \",\" \"],[\" \",\" \",\" \",\" \",\" \",\" \",\" \",\" \"],[\" \",\" \",\" \",\" \",\" \",\" \",\" \",\" \"]],\"texttemplate\":\"%{text}\",\"x\":[0,1,2,3,4,5,6,7],\"y\":[\"H\",\"G\",\"F\",\"E\",\"D\",\"C\",\"B\",\"A\"],\"z\":[[0.4999999403953552,0.5,0.5000064373016357,0.5,0.5000015497207642,0.5,0.49999991059303284,0.5],[0.5,0.5000004768371582,0.5,0.5000010132789612,0.5000037550926208,0.4999995231628418,0.5,0.5],[0.5,0.5,0.5,0.5,0.5,0.5,0.5,0.5000000596046448],[0.5,0.5,0.5,0.9966874122619629,0.0043871402740478516,0.5,0.5000103712081909,0.49999746680259705],[0.5,0.5,0.5,0.04483264684677124,0.9924266934394836,0.5,0.5000000596046448,0.5000001192092896],[0.5000000596046448,0.5,2.0295381546020508e-05,0.999692440032959,0.5,0.5,0.5,0.5000003576278687],[0.5000000596046448,0.5,0.5,0.5,0.5,0.5000002384185791,0.5,0.4999997913837433],[0.5,0.5000007748603821,0.5,0.5,0.5,0.5000002980232239,0.5,0.5]],\"zmax\":1.0,\"zmin\":0.0,\"type\":\"heatmap\",\"xaxis\":\"x7\",\"yaxis\":\"y7\"},{\"colorscale\":[[0.0,\"rgb(103,0,31)\"],[0.1,\"rgb(178,24,43)\"],[0.2,\"rgb(214,96,77)\"],[0.3,\"rgb(244,165,130)\"],[0.4,\"rgb(253,219,199)\"],[0.5,\"rgb(247,247,247)\"],[0.6,\"rgb(209,229,240)\"],[0.7,\"rgb(146,197,222)\"],[0.8,\"rgb(67,147,195)\"],[0.9,\"rgb(33,102,172)\"],[1.0,\"rgb(5,48,97)\"]],\"hoverongaps\":false,\"text\":[[\" \",\" \",\" \",\" \",\" \",\" \",\" \",\" \"],[\" \",\" \",\" \",\" \",\" \",\" \",\" \",\" \"],[\" \",\" \",\" \",\" \",\" \",\" \",\" \",\" \"],[\" \",\" \",\" \",\" \",\" \",\" \",\" \",\" \"],[\" \",\" \",\" \",\"\\u2588\",\" \",\" \",\" \",\" \"],[\" \",\" \",\" \",\" \",\" \",\" \",\" \",\" \"],[\" \",\" \",\" \",\" \",\" \",\" \",\" \",\" \"],[\" \",\" \",\" \",\" \",\" \",\" \",\" \",\" \"]],\"texttemplate\":\"%{text}\",\"x\":[0,1,2,3,4,5,6,7],\"y\":[\"H\",\"G\",\"F\",\"E\",\"D\",\"C\",\"B\",\"A\"],\"z\":[[0.49999767541885376,0.5,0.5000068545341492,0.5000032186508179,0.5000168681144714,0.5000004172325134,0.5000000596046448,0.5000017881393433],[0.5,0.500005841255188,0.4999999403953552,0.5000004768371582,0.5000107884407043,0.500000536441803,0.500000536441803,0.5],[0.5000010132789612,0.4999999403953552,0.5,0.5,0.5,0.5,0.5,0.5],[0.5000030994415283,0.5000010132789612,0.5,0.9963743686676025,1.341104507446289e-05,0.5,0.5000055432319641,0.49999091029167175],[0.5000082850456238,0.5000000596046448,0.5,0.011784672737121582,0.9983600974082947,0.5,0.5000000596046448,0.4999987781047821],[0.5000032186508179,0.5,1.189112663269043e-05,0.9998134970664978,0.5,0.5,0.5000002384185791,0.5000001788139343],[0.5000015497207642,0.5000000596046448,0.5,0.5000000596046448,0.500000536441803,0.5000005960464478,0.5000003576278687,0.5000000596046448],[0.4999999701976776,0.5000008344650269,0.4999990165233612,0.49999988079071045,0.5000000596046448,0.5000013709068298,0.5000000596046448,0.5000002384185791]],\"zmax\":1.0,\"zmin\":0.0,\"type\":\"heatmap\",\"xaxis\":\"x8\",\"yaxis\":\"y8\"},{\"colorscale\":[[0.0,\"rgb(103,0,31)\"],[0.1,\"rgb(178,24,43)\"],[0.2,\"rgb(214,96,77)\"],[0.3,\"rgb(244,165,130)\"],[0.4,\"rgb(253,219,199)\"],[0.5,\"rgb(247,247,247)\"],[0.6,\"rgb(209,229,240)\"],[0.7,\"rgb(146,197,222)\"],[0.8,\"rgb(67,147,195)\"],[0.9,\"rgb(33,102,172)\"],[1.0,\"rgb(5,48,97)\"]],\"hoverongaps\":false,\"text\":[[\" \",\" \",\" \",\" \",\" \",\" \",\" \",\" \"],[\" \",\" \",\" \",\" \",\" \",\" \",\" \",\" \"],[\" \",\" \",\" \",\" \",\" \",\" \",\" \",\" \"],[\" \",\" \",\" \",\" \",\" \",\" \",\" \",\" \"],[\" \",\" \",\" \",\"\\u2588\",\" \",\" \",\" \",\" \"],[\" \",\" \",\" \",\" \",\" \",\" \",\" \",\" \"],[\" \",\" \",\" \",\" \",\" \",\" \",\" \",\" \"],[\" \",\" \",\" \",\" \",\" \",\" \",\" \",\" \"]],\"texttemplate\":\"%{text}\",\"x\":[0,1,2,3,4,5,6,7],\"y\":[\"H\",\"G\",\"F\",\"E\",\"D\",\"C\",\"B\",\"A\"],\"z\":[[0.5000222325325012,0.4999985098838806,0.49999383091926575,0.5000028014183044,0.5000031590461731,0.5000002980232239,0.5000002980232239,0.5000008940696716],[0.49999919533729553,0.5000190734863281,0.5000000596046448,0.5000002980232239,0.500001072883606,0.5000007152557373,0.5000008344650269,0.4999985694885254],[0.5000104308128357,0.5000001788139343,0.5000000596046448,0.5,0.5,0.4999999403953552,0.4999999701976776,0.5000014901161194],[0.500002384185791,0.5000032186508179,0.5,0.9992673397064209,2.1129846572875977e-05,0.5,0.5000015497207642,0.49999985098838806],[0.500015377998352,0.5000001788139343,0.5,0.0006760656833648682,0.9990403056144714,0.5,0.5000001192092896,0.5000007748603821],[0.49999842047691345,0.4999999701976776,0.0001125037670135498,0.9998131990432739,0.5,0.5,0.5000008344650269,0.5000003576278687],[0.4999994933605194,0.5000000596046448,0.5000002384185791,0.5000013113021851,0.5000039339065552,0.5000099539756775,0.5000002980232239,0.5],[0.499999463558197,0.49999162554740906,0.49999234080314636,0.4999921917915344,0.5000000596046448,0.5000054240226746,0.5000014305114746,0.5000066757202148]],\"zmax\":1.0,\"zmin\":0.0,\"type\":\"heatmap\",\"xaxis\":\"x9\",\"yaxis\":\"y9\"},{\"colorscale\":[[0.0,\"rgb(103,0,31)\"],[0.1,\"rgb(178,24,43)\"],[0.2,\"rgb(214,96,77)\"],[0.3,\"rgb(244,165,130)\"],[0.4,\"rgb(253,219,199)\"],[0.5,\"rgb(247,247,247)\"],[0.6,\"rgb(209,229,240)\"],[0.7,\"rgb(146,197,222)\"],[0.8,\"rgb(67,147,195)\"],[0.9,\"rgb(33,102,172)\"],[1.0,\"rgb(5,48,97)\"]],\"hoverongaps\":false,\"text\":[[\" \",\" \",\" \",\" \",\" \",\" \",\" \",\" \"],[\" \",\" \",\" \",\" \",\" \",\" \",\" \",\" \"],[\" \",\" \",\" \",\" \",\" \",\" \",\" \",\" \"],[\" \",\" \",\" \",\" \",\" \",\" \",\" \",\" \"],[\" \",\" \",\" \",\"\\u2588\",\" \",\" \",\" \",\" \"],[\" \",\" \",\" \",\" \",\" \",\" \",\" \",\" \"],[\" \",\" \",\" \",\" \",\" \",\" \",\" \",\" \"],[\" \",\" \",\" \",\" \",\" \",\" \",\" \",\" \"]],\"texttemplate\":\"%{text}\",\"x\":[0,1,2,3,4,5,6,7],\"y\":[\"H\",\"G\",\"F\",\"E\",\"D\",\"C\",\"B\",\"A\"],\"z\":[[0.5000077486038208,0.4999951422214508,0.5000119209289551,0.5000094771385193,0.5000101923942566,0.5000029802322388,0.5000009536743164,0.5000200867652893],[0.4999978542327881,0.4999929666519165,0.5000043511390686,0.5000008940696716,0.5000087022781372,0.49999359250068665,0.49999526143074036,0.4999975860118866],[0.5000118613243103,0.5000003576278687,0.5000013709068298,0.49999991059303284,0.5000000596046448,0.49999895691871643,0.4999992549419403,0.5000075101852417],[0.5000061988830566,0.500005304813385,0.499999463558197,0.9985907077789307,8.970499038696289e-06,0.5000002384185791,0.4999953806400299,0.5000140070915222],[0.5000081062316895,0.5000021457672119,0.5000016689300537,0.0006051361560821533,0.9996645450592041,0.5000002384185791,0.5000009536743164,0.5000467896461487],[0.4999827742576599,0.4999978244304657,0.0007518529891967773,0.9999427795410156,0.5000008344650269,0.5000029802322388,0.5000046491622925,0.5000126957893372],[0.4999995827674866,0.5,0.5000007152557373,0.500028669834137,0.5000561475753784,0.5000534653663635,0.49999964237213135,0.4999998211860657],[0.5000026822090149,0.4999622702598572,0.5000017285346985,0.500016987323761,0.5,0.5000020861625671,0.5000062584877014,0.5000239014625549]],\"zmax\":1.0,\"zmin\":0.0,\"type\":\"heatmap\",\"xaxis\":\"x10\",\"yaxis\":\"y10\"},{\"colorscale\":[[0.0,\"rgb(103,0,31)\"],[0.1,\"rgb(178,24,43)\"],[0.2,\"rgb(214,96,77)\"],[0.3,\"rgb(244,165,130)\"],[0.4,\"rgb(253,219,199)\"],[0.5,\"rgb(247,247,247)\"],[0.6,\"rgb(209,229,240)\"],[0.7,\"rgb(146,197,222)\"],[0.8,\"rgb(67,147,195)\"],[0.9,\"rgb(33,102,172)\"],[1.0,\"rgb(5,48,97)\"]],\"hoverongaps\":false,\"text\":[[\" \",\" \",\" \",\" \",\" \",\" \",\" \",\" \"],[\" \",\" \",\" \",\" \",\" \",\" \",\" \",\" \"],[\" \",\" \",\" \",\" \",\" \",\" \",\" \",\" \"],[\" \",\" \",\" \",\" \",\" \",\" \",\" \",\" \"],[\" \",\" \",\" \",\"\\u2588\",\" \",\" \",\" \",\" \"],[\" \",\" \",\" \",\" \",\" \",\" \",\" \",\" \"],[\" \",\" \",\" \",\" \",\" \",\" \",\" \",\" \"],[\" \",\" \",\" \",\" \",\" \",\" \",\" \",\" \"]],\"texttemplate\":\"%{text}\",\"x\":[0,1,2,3,4,5,6,7],\"y\":[\"H\",\"G\",\"F\",\"E\",\"D\",\"C\",\"B\",\"A\"],\"z\":[[0.4999995529651642,0.4999995827674866,0.5000078082084656,0.5000138878822327,0.5000078678131104,0.5000009536743164,0.5000027418136597,0.5000014305114746],[0.4999995529651642,0.5000097751617432,0.500009298324585,0.5000190138816833,0.500032365322113,0.49999305605888367,0.5000027418136597,0.5000014305114746],[0.5000098347663879,0.5000084042549133,0.5000094175338745,0.500005841255188,0.5000072717666626,0.4999992251396179,0.5,0.5000048279762268],[0.5000002980232239,0.49999871850013733,0.49999892711639404,0.9998325109481812,0.00022920966148376465,0.5000085830688477,0.5000041723251343,0.5000039339065552],[0.5000082850456238,0.5000083446502686,0.5000026226043701,0.0011150538921356201,0.9995136260986328,0.5000050663948059,0.5000014901161194,0.5000155568122864],[0.4999956786632538,0.5000007152557373,0.0006209313869476318,0.9998894929885864,0.500008225440979,0.5000162124633789,0.5000064373016357,0.5000039339065552],[0.49999940395355225,0.49999985098838806,0.49999988079071045,0.5000364184379578,0.5000374913215637,0.5000066161155701,0.5000011920928955,0.49999871850013733],[0.49999159574508667,0.4999942183494568,0.5000004768371582,0.5000004172325134,0.5000001788139343,0.5000004172325134,0.5000002384185791,0.5000360012054443]],\"zmax\":1.0,\"zmin\":0.0,\"type\":\"heatmap\",\"xaxis\":\"x11\",\"yaxis\":\"y11\"},{\"colorscale\":[[0.0,\"rgb(103,0,31)\"],[0.1,\"rgb(178,24,43)\"],[0.2,\"rgb(214,96,77)\"],[0.3,\"rgb(244,165,130)\"],[0.4,\"rgb(253,219,199)\"],[0.5,\"rgb(247,247,247)\"],[0.6,\"rgb(209,229,240)\"],[0.7,\"rgb(146,197,222)\"],[0.8,\"rgb(67,147,195)\"],[0.9,\"rgb(33,102,172)\"],[1.0,\"rgb(5,48,97)\"]],\"hoverongaps\":false,\"text\":[[\" \",\" \",\" \",\" \",\" \",\" \",\" \",\" \"],[\" \",\" \",\" \",\" \",\" \",\" \",\" \",\" \"],[\" \",\" \",\" \",\" \",\" \",\" \",\" \",\" \"],[\" \",\" \",\" \",\" \",\" \",\" \",\" \",\" \"],[\" \",\" \",\" \",\"\\u2588\",\" \",\" \",\" \",\" \"],[\" \",\" \",\" \",\" \",\" \",\" \",\" \",\" \"],[\" \",\" \",\" \",\" \",\" \",\" \",\" \",\" \"],[\" \",\" \",\" \",\" \",\" \",\" \",\" \",\" \"]],\"texttemplate\":\"%{text}\",\"x\":[0,1,2,3,4,5,6,7],\"y\":[\"H\",\"G\",\"F\",\"E\",\"D\",\"C\",\"B\",\"A\"],\"z\":[[0.5000026226043701,0.5000100135803223,0.500012993812561,0.5000020861625671,0.5000085234642029,0.49999985098838806,0.5000000596046448,0.5000002980232239],[0.49999991059303284,0.5000063180923462,0.5000014305114746,0.5000213384628296,0.500014066696167,0.5000000596046448,0.5000030994415283,0.5000001192092896],[0.5000079870223999,0.500008225440979,0.5000085234642029,0.5000012516975403,0.5000000596046448,0.4999994933605194,0.5000008940696716,0.4999982416629791],[0.4999997615814209,0.5000051259994507,0.5000023245811462,0.9997900128364563,7.933378219604492e-05,0.5000000596046448,0.5000145435333252,0.5000001192092896],[0.5000103712081909,0.5000014305114746,0.5000000596046448,0.0007745623588562012,0.9999362230300903,0.5000091195106506,0.5000388026237488,0.5000067949295044],[0.4999953508377075,0.5,0.00041282176971435547,0.9999083280563354,0.5000079870223999,0.5000157356262207,0.5000067949295044,0.4999997615814209],[0.4999998211860657,0.5000000596046448,0.5000001788139343,0.500006377696991,0.5000081062316895,0.5000139474868774,0.5000104904174805,0.4999997019767761],[0.5000000596046448,0.5000025033950806,0.49999645352363586,0.4999975860118866,0.4999997019767761,0.49999794363975525,0.5,0.5000195503234863]],\"zmax\":1.0,\"zmin\":0.0,\"type\":\"heatmap\",\"xaxis\":\"x12\",\"yaxis\":\"y12\"},{\"colorscale\":[[0.0,\"rgb(103,0,31)\"],[0.1,\"rgb(178,24,43)\"],[0.2,\"rgb(214,96,77)\"],[0.3,\"rgb(244,165,130)\"],[0.4,\"rgb(253,219,199)\"],[0.5,\"rgb(247,247,247)\"],[0.6,\"rgb(209,229,240)\"],[0.7,\"rgb(146,197,222)\"],[0.8,\"rgb(67,147,195)\"],[0.9,\"rgb(33,102,172)\"],[1.0,\"rgb(5,48,97)\"]],\"hoverongaps\":false,\"text\":[[\" \",\" \",\" \",\" \",\" \",\" \",\" \",\" \"],[\" \",\" \",\" \",\" \",\" \",\" \",\" \",\" \"],[\" \",\" \",\" \",\" \",\" \",\" \",\" \",\" \"],[\" \",\" \",\" \",\" \",\" \",\" \",\" \",\" \"],[\" \",\" \",\" \",\" \",\" \",\" \",\" \",\" \"],[\" \",\" \",\"\\u2588\",\" \",\" \",\" \",\" \",\" \"],[\" \",\" \",\" \",\" \",\" \",\" \",\" \",\" \"],[\" \",\" \",\" \",\" \",\" \",\" \",\" \",\" \"]],\"texttemplate\":\"%{text}\",\"x\":[0,1,2,3,4,5,6,7],\"y\":[\"H\",\"G\",\"F\",\"E\",\"D\",\"C\",\"B\",\"A\"],\"z\":[[0.5,0.5,0.5,0.49998825788497925,0.49999991059303284,0.4999985694885254,0.49999430775642395,0.4999998211860657],[0.4999999403953552,0.5,0.4999999403953552,0.49999868869781494,0.4999998211860657,0.5,0.5,0.4999999701976776],[0.5,0.5,0.5,0.5,0.5,0.5,0.4999994933605194,0.49999991059303284],[0.5,0.5,0.5,0.9906994700431824,0.060216158628463745,0.5,0.5,0.5],[0.5,0.5,0.5,0.1609785556793213,0.9678995609283447,0.5,0.5,0.5],[0.5,0.9999736547470093,0.9987900257110596,0.9999022483825684,0.5,0.5,0.5,0.4999988377094269],[0.5,0.5,0.5,0.5,0.5,0.49999991059303284,0.49999985098838806,0.4999997913837433],[0.5,0.5,0.5,0.5,0.4999998211860657,0.4999999701976776,0.49999892711639404,0.49999991059303284]],\"zmax\":1.0,\"zmin\":0.0,\"type\":\"heatmap\",\"xaxis\":\"x13\",\"yaxis\":\"y13\"},{\"colorscale\":[[0.0,\"rgb(103,0,31)\"],[0.1,\"rgb(178,24,43)\"],[0.2,\"rgb(214,96,77)\"],[0.3,\"rgb(244,165,130)\"],[0.4,\"rgb(253,219,199)\"],[0.5,\"rgb(247,247,247)\"],[0.6,\"rgb(209,229,240)\"],[0.7,\"rgb(146,197,222)\"],[0.8,\"rgb(67,147,195)\"],[0.9,\"rgb(33,102,172)\"],[1.0,\"rgb(5,48,97)\"]],\"hoverongaps\":false,\"text\":[[\" \",\" \",\" \",\" \",\" \",\" \",\" \",\" \"],[\" \",\" \",\" \",\" \",\" \",\" \",\" \",\" \"],[\" \",\" \",\" \",\" \",\" \",\" \",\" \",\" \"],[\" \",\" \",\" \",\" \",\" \",\" \",\" \",\" \"],[\" \",\" \",\" \",\" \",\" \",\" \",\" \",\" \"],[\" \",\" \",\"\\u2588\",\" \",\" \",\" \",\" \",\" \"],[\" \",\" \",\" \",\" \",\" \",\" \",\" \",\" \"],[\" \",\" \",\" \",\" \",\" \",\" \",\" \",\" \"]],\"texttemplate\":\"%{text}\",\"x\":[0,1,2,3,4,5,6,7],\"y\":[\"H\",\"G\",\"F\",\"E\",\"D\",\"C\",\"B\",\"A\"],\"z\":[[0.5,0.5,0.5,0.49999889731407166,0.4999999701976776,0.49999940395355225,0.5,0.4999987781047821],[0.4999999701976776,0.49999725818634033,0.5000005960464478,0.4999997019767761,0.5,0.4999999701976776,0.4999999403953552,0.5000001192092896],[0.5,0.5,0.5000008940696716,0.5,0.5,0.5,0.5,0.5],[0.5,0.5,0.5,0.9992205500602722,0.02772575616836548,0.5000002384185791,0.5,0.5],[0.5,0.5,0.5,0.006473332643508911,0.9976053833961487,0.5000000596046448,0.5000012516975403,0.4999998211860657],[0.4999999701976776,0.9997750520706177,0.9999847412109375,0.9999520778656006,0.5,0.5,0.49999988079071045,0.49999764561653137],[0.4999999403953552,0.5,0.5,0.5,0.4999999701976776,0.49999937415122986,0.4999985694885254,0.5],[0.49999967217445374,0.5,0.5,0.5,0.4999992549419403,0.49999991059303284,0.4999983608722687,0.4999999701976776]],\"zmax\":1.0,\"zmin\":0.0,\"type\":\"heatmap\",\"xaxis\":\"x14\",\"yaxis\":\"y14\"},{\"colorscale\":[[0.0,\"rgb(103,0,31)\"],[0.1,\"rgb(178,24,43)\"],[0.2,\"rgb(214,96,77)\"],[0.3,\"rgb(244,165,130)\"],[0.4,\"rgb(253,219,199)\"],[0.5,\"rgb(247,247,247)\"],[0.6,\"rgb(209,229,240)\"],[0.7,\"rgb(146,197,222)\"],[0.8,\"rgb(67,147,195)\"],[0.9,\"rgb(33,102,172)\"],[1.0,\"rgb(5,48,97)\"]],\"hoverongaps\":false,\"text\":[[\" \",\" \",\" \",\" \",\" \",\" \",\" \",\" \"],[\" \",\" \",\" \",\" \",\" \",\" \",\" \",\" \"],[\" \",\" \",\" \",\" \",\" \",\" \",\" \",\" \"],[\" \",\" \",\" \",\" \",\" \",\" \",\" \",\" \"],[\" \",\" \",\" \",\" \",\" \",\" \",\" \",\" \"],[\" \",\" \",\"\\u2588\",\" \",\" \",\" \",\" \",\" \"],[\" \",\" \",\" \",\" \",\" \",\" \",\" \",\" \"],[\" \",\" \",\" \",\" \",\" \",\" \",\" \",\" \"]],\"texttemplate\":\"%{text}\",\"x\":[0,1,2,3,4,5,6,7],\"y\":[\"H\",\"G\",\"F\",\"E\",\"D\",\"C\",\"B\",\"A\"],\"z\":[[0.500001072883606,0.5000031590461731,0.5000004768371582,0.4999980628490448,0.49999409914016724,0.4999964237213135,0.49999934434890747,0.49998706579208374],[0.5000002980232239,0.5000066757202148,0.49998417496681213,0.49999991059303284,0.49999985098838806,0.4999973773956299,0.4999998211860657,0.5],[0.5,0.5,0.4999999403953552,0.49999991059303284,0.5000001788139343,0.49999988079071045,0.5000000596046448,0.4999999403953552],[0.5000001192092896,0.5,0.49999985098838806,0.9997205138206482,0.011988252401351929,0.5000003576278687,0.5,0.49999988079071045],[0.5000002980232239,0.5000000596046448,0.5000016093254089,0.0003650486469268799,0.9990292191505432,0.4999999403953552,0.5000006556510925,0.5000094175338745],[0.5000003576278687,0.999992847442627,0.999933123588562,0.9999068379402161,0.5,0.5000000596046448,0.4999963045120239,0.5000000596046448],[0.5000003576278687,0.49999988079071045,0.49999919533729553,0.5,0.5000001788139343,0.49999791383743286,0.4999539256095886,0.5],[0.49999892711639404,0.5000032186508179,0.5,0.4999999403953552,0.4999994933605194,0.49999839067459106,0.5000005960464478,0.4999937415122986]],\"zmax\":1.0,\"zmin\":0.0,\"type\":\"heatmap\",\"xaxis\":\"x15\",\"yaxis\":\"y15\"},{\"colorscale\":[[0.0,\"rgb(103,0,31)\"],[0.1,\"rgb(178,24,43)\"],[0.2,\"rgb(214,96,77)\"],[0.3,\"rgb(244,165,130)\"],[0.4,\"rgb(253,219,199)\"],[0.5,\"rgb(247,247,247)\"],[0.6,\"rgb(209,229,240)\"],[0.7,\"rgb(146,197,222)\"],[0.8,\"rgb(67,147,195)\"],[0.9,\"rgb(33,102,172)\"],[1.0,\"rgb(5,48,97)\"]],\"hoverongaps\":false,\"text\":[[\" \",\" \",\" \",\" \",\" \",\" \",\" \",\" \"],[\" \",\" \",\" \",\" \",\" \",\" \",\" \",\" \"],[\" \",\" \",\" \",\" \",\" \",\" \",\" \",\" \"],[\" \",\" \",\" \",\" \",\" \",\" \",\" \",\" \"],[\" \",\" \",\" \",\" \",\" \",\" \",\" \",\" \"],[\" \",\" \",\"\\u2588\",\" \",\" \",\" \",\" \",\" \"],[\" \",\" \",\" \",\" \",\" \",\" \",\" \",\" \"],[\" \",\" \",\" \",\" \",\" \",\" \",\" \",\" \"]],\"texttemplate\":\"%{text}\",\"x\":[0,1,2,3,4,5,6,7],\"y\":[\"H\",\"G\",\"F\",\"E\",\"D\",\"C\",\"B\",\"A\"],\"z\":[[0.4999888837337494,0.49999839067459106,0.5000023245811462,0.4999995231628418,0.49999764561653137,0.4999984800815582,0.5000002384185791,0.4999922513961792],[0.5000052452087402,0.5000144243240356,0.4999896287918091,0.5000030994415283,0.49999552965164185,0.49999427795410156,0.5000060796737671,0.4999995231628418],[0.5000001788139343,0.4999980032444,0.49999988079071045,0.49999722838401794,0.5000110864639282,0.49998781085014343,0.5000019669532776,0.49999916553497314],[0.5000011324882507,0.500003457069397,0.4999992549419403,0.9999217391014099,0.0028356313705444336,0.5001669526100159,0.5000007748603821,0.49999237060546875],[0.5000021457672119,0.49999910593032837,0.500011682510376,0.0001920461654663086,0.9997280836105347,0.4999968111515045,0.5000159740447998,0.4999810457229614],[0.5000036358833313,0.9995937347412109,0.999849796295166,0.9999805688858032,0.49999967217445374,0.500001072883606,0.4999934732913971,0.4999857246875763],[0.49999967217445374,0.49999967217445374,0.5000005960464478,0.4999992251396179,0.499999076128006,0.49999380111694336,0.5000025629997253,0.5],[0.49998536705970764,0.5000190734863281,0.4999999403953552,0.4999983608722687,0.4999994933605194,0.49999845027923584,0.49998340010643005,0.49998509883880615]],\"zmax\":1.0,\"zmin\":0.0,\"type\":\"heatmap\",\"xaxis\":\"x16\",\"yaxis\":\"y16\"},{\"colorscale\":[[0.0,\"rgb(103,0,31)\"],[0.1,\"rgb(178,24,43)\"],[0.2,\"rgb(214,96,77)\"],[0.3,\"rgb(244,165,130)\"],[0.4,\"rgb(253,219,199)\"],[0.5,\"rgb(247,247,247)\"],[0.6,\"rgb(209,229,240)\"],[0.7,\"rgb(146,197,222)\"],[0.8,\"rgb(67,147,195)\"],[0.9,\"rgb(33,102,172)\"],[1.0,\"rgb(5,48,97)\"]],\"hoverongaps\":false,\"text\":[[\" \",\" \",\" \",\" \",\" \",\" \",\" \",\" \"],[\" \",\" \",\" \",\" \",\" \",\" \",\" \",\" \"],[\" \",\" \",\" \",\" \",\" \",\" \",\" \",\" \"],[\" \",\" \",\" \",\" \",\" \",\" \",\" \",\" \"],[\" \",\" \",\" \",\" \",\" \",\" \",\" \",\" \"],[\" \",\" \",\"\\u2588\",\" \",\" \",\" \",\" \",\" \"],[\" \",\" \",\" \",\" \",\" \",\" \",\" \",\" \"],[\" \",\" \",\" \",\" \",\" \",\" \",\" \",\" \"]],\"texttemplate\":\"%{text}\",\"x\":[0,1,2,3,4,5,6,7],\"y\":[\"H\",\"G\",\"F\",\"E\",\"D\",\"C\",\"B\",\"A\"],\"z\":[[0.5000107288360596,0.49997225403785706,0.4999981224536896,0.5000008344650269,0.49999889731407166,0.49999895691871643,0.49999988079071045,0.49999651312828064],[0.4999762177467346,0.5,0.49998730421066284,0.49999457597732544,0.49999746680259705,0.5000079870223999,0.4999977648258209,0.49999937415122986],[0.49999627470970154,0.4999905228614807,0.49999678134918213,0.49998199939727783,0.5000054240226746,0.499977171421051,0.5000000596046448,0.4999952018260956],[0.5000045895576477,0.5000073909759521,0.49999967217445374,0.9994471669197083,0.0001589059829711914,0.4999738335609436,0.49999773502349854,0.49999725818634033],[0.5000073909759521,0.49999934434890747,0.5000013113021851,0.000133514404296875,0.9995883703231812,0.49999743700027466,0.5000366568565369,0.4999951720237732],[0.5000010132789612,0.9990655183792114,0.9998797178268433,0.9999802112579346,0.49999773502349854,0.5000007152557373,0.5000094771385193,0.4999973177909851],[0.4999997913837433,0.4999999701976776,0.5000009536743164,0.5000000596046448,0.49999961256980896,0.49999067187309265,0.49999743700027466,0.4999985992908478],[0.49999210238456726,0.5000092387199402,0.4999971389770508,0.5000157356262207,0.5,0.5000001192092896,0.49995407462120056,0.4999966025352478]],\"zmax\":1.0,\"zmin\":0.0,\"type\":\"heatmap\",\"xaxis\":\"x17\",\"yaxis\":\"y17\"},{\"colorscale\":[[0.0,\"rgb(103,0,31)\"],[0.1,\"rgb(178,24,43)\"],[0.2,\"rgb(214,96,77)\"],[0.3,\"rgb(244,165,130)\"],[0.4,\"rgb(253,219,199)\"],[0.5,\"rgb(247,247,247)\"],[0.6,\"rgb(209,229,240)\"],[0.7,\"rgb(146,197,222)\"],[0.8,\"rgb(67,147,195)\"],[0.9,\"rgb(33,102,172)\"],[1.0,\"rgb(5,48,97)\"]],\"hoverongaps\":false,\"text\":[[\" \",\" \",\" \",\" \",\" \",\" \",\" \",\" \"],[\" \",\" \",\" \",\" \",\" \",\" \",\" \",\" \"],[\" \",\" \",\" \",\" \",\" \",\" \",\" \",\" \"],[\" \",\" \",\" \",\" \",\" \",\" \",\" \",\" \"],[\" \",\" \",\" \",\" \",\" \",\" \",\" \",\" \"],[\" \",\" \",\"\\u2588\",\" \",\" \",\" \",\" \",\" \"],[\" \",\" \",\" \",\" \",\" \",\" \",\" \",\" \"],[\" \",\" \",\" \",\" \",\" \",\" \",\" \",\" \"]],\"texttemplate\":\"%{text}\",\"x\":[0,1,2,3,4,5,6,7],\"y\":[\"H\",\"G\",\"F\",\"E\",\"D\",\"C\",\"B\",\"A\"],\"z\":[[0.49999868869781494,0.4999881386756897,0.49999693036079407,0.4999990165233612,0.4999886751174927,0.5000004172325134,0.49999895691871643,0.5000002980232239],[0.4999992847442627,0.499999463558197,0.49999621510505676,0.499999463558197,0.49999967217445374,0.5000006556510925,0.49999886751174927,0.5],[0.4999978244304657,0.4999993145465851,0.499999463558197,0.4999998211860657,0.4999997019767761,0.4999953508377075,0.5000003576278687,0.5000001788139343],[0.5000019073486328,0.49999988079071045,0.4999997019767761,0.999525785446167,0.0006232559680938721,0.4999961256980896,0.49999991059303284,0.49999961256980896],[0.5000006556510925,0.5,0.4999992847442627,0.0009128749370574951,0.9997673034667969,0.49999991059303284,0.4999905228614807,0.4999943673610687],[0.5,0.9981529712677002,0.9992358684539795,0.999911904335022,0.5,0.5000006556510925,0.5000004768371582,0.5000014305114746],[0.5,0.5,0.49999988079071045,0.5,0.4999999701976776,0.4999985694885254,0.4999985098838806,0.49999964237213135],[0.4999997913837433,0.4999687671661377,0.49999886751174927,0.500006914138794,0.5000007152557373,0.5000021457672119,0.4999999403953552,0.5000438690185547]],\"zmax\":1.0,\"zmin\":0.0,\"type\":\"heatmap\",\"xaxis\":\"x18\",\"yaxis\":\"y18\"}],                        {\"template\":{\"data\":{\"histogram2dcontour\":[{\"type\":\"histogram2dcontour\",\"colorbar\":{\"outlinewidth\":0,\"ticks\":\"\"},\"colorscale\":[[0.0,\"#0d0887\"],[0.1111111111111111,\"#46039f\"],[0.2222222222222222,\"#7201a8\"],[0.3333333333333333,\"#9c179e\"],[0.4444444444444444,\"#bd3786\"],[0.5555555555555556,\"#d8576b\"],[0.6666666666666666,\"#ed7953\"],[0.7777777777777778,\"#fb9f3a\"],[0.8888888888888888,\"#fdca26\"],[1.0,\"#f0f921\"]]}],\"choropleth\":[{\"type\":\"choropleth\",\"colorbar\":{\"outlinewidth\":0,\"ticks\":\"\"}}],\"histogram2d\":[{\"type\":\"histogram2d\",\"colorbar\":{\"outlinewidth\":0,\"ticks\":\"\"},\"colorscale\":[[0.0,\"#0d0887\"],[0.1111111111111111,\"#46039f\"],[0.2222222222222222,\"#7201a8\"],[0.3333333333333333,\"#9c179e\"],[0.4444444444444444,\"#bd3786\"],[0.5555555555555556,\"#d8576b\"],[0.6666666666666666,\"#ed7953\"],[0.7777777777777778,\"#fb9f3a\"],[0.8888888888888888,\"#fdca26\"],[1.0,\"#f0f921\"]]}],\"heatmap\":[{\"type\":\"heatmap\",\"colorbar\":{\"outlinewidth\":0,\"ticks\":\"\"},\"colorscale\":[[0.0,\"#0d0887\"],[0.1111111111111111,\"#46039f\"],[0.2222222222222222,\"#7201a8\"],[0.3333333333333333,\"#9c179e\"],[0.4444444444444444,\"#bd3786\"],[0.5555555555555556,\"#d8576b\"],[0.6666666666666666,\"#ed7953\"],[0.7777777777777778,\"#fb9f3a\"],[0.8888888888888888,\"#fdca26\"],[1.0,\"#f0f921\"]]}],\"heatmapgl\":[{\"type\":\"heatmapgl\",\"colorbar\":{\"outlinewidth\":0,\"ticks\":\"\"},\"colorscale\":[[0.0,\"#0d0887\"],[0.1111111111111111,\"#46039f\"],[0.2222222222222222,\"#7201a8\"],[0.3333333333333333,\"#9c179e\"],[0.4444444444444444,\"#bd3786\"],[0.5555555555555556,\"#d8576b\"],[0.6666666666666666,\"#ed7953\"],[0.7777777777777778,\"#fb9f3a\"],[0.8888888888888888,\"#fdca26\"],[1.0,\"#f0f921\"]]}],\"contourcarpet\":[{\"type\":\"contourcarpet\",\"colorbar\":{\"outlinewidth\":0,\"ticks\":\"\"}}],\"contour\":[{\"type\":\"contour\",\"colorbar\":{\"outlinewidth\":0,\"ticks\":\"\"},\"colorscale\":[[0.0,\"#0d0887\"],[0.1111111111111111,\"#46039f\"],[0.2222222222222222,\"#7201a8\"],[0.3333333333333333,\"#9c179e\"],[0.4444444444444444,\"#bd3786\"],[0.5555555555555556,\"#d8576b\"],[0.6666666666666666,\"#ed7953\"],[0.7777777777777778,\"#fb9f3a\"],[0.8888888888888888,\"#fdca26\"],[1.0,\"#f0f921\"]]}],\"surface\":[{\"type\":\"surface\",\"colorbar\":{\"outlinewidth\":0,\"ticks\":\"\"},\"colorscale\":[[0.0,\"#0d0887\"],[0.1111111111111111,\"#46039f\"],[0.2222222222222222,\"#7201a8\"],[0.3333333333333333,\"#9c179e\"],[0.4444444444444444,\"#bd3786\"],[0.5555555555555556,\"#d8576b\"],[0.6666666666666666,\"#ed7953\"],[0.7777777777777778,\"#fb9f3a\"],[0.8888888888888888,\"#fdca26\"],[1.0,\"#f0f921\"]]}],\"mesh3d\":[{\"type\":\"mesh3d\",\"colorbar\":{\"outlinewidth\":0,\"ticks\":\"\"}}],\"scatter\":[{\"fillpattern\":{\"fillmode\":\"overlay\",\"size\":10,\"solidity\":0.2},\"type\":\"scatter\"}],\"parcoords\":[{\"type\":\"parcoords\",\"line\":{\"colorbar\":{\"outlinewidth\":0,\"ticks\":\"\"}}}],\"scatterpolargl\":[{\"type\":\"scatterpolargl\",\"marker\":{\"colorbar\":{\"outlinewidth\":0,\"ticks\":\"\"}}}],\"bar\":[{\"error_x\":{\"color\":\"#2a3f5f\"},\"error_y\":{\"color\":\"#2a3f5f\"},\"marker\":{\"line\":{\"color\":\"#E5ECF6\",\"width\":0.5},\"pattern\":{\"fillmode\":\"overlay\",\"size\":10,\"solidity\":0.2}},\"type\":\"bar\"}],\"scattergeo\":[{\"type\":\"scattergeo\",\"marker\":{\"colorbar\":{\"outlinewidth\":0,\"ticks\":\"\"}}}],\"scatterpolar\":[{\"type\":\"scatterpolar\",\"marker\":{\"colorbar\":{\"outlinewidth\":0,\"ticks\":\"\"}}}],\"histogram\":[{\"marker\":{\"pattern\":{\"fillmode\":\"overlay\",\"size\":10,\"solidity\":0.2}},\"type\":\"histogram\"}],\"scattergl\":[{\"type\":\"scattergl\",\"marker\":{\"colorbar\":{\"outlinewidth\":0,\"ticks\":\"\"}}}],\"scatter3d\":[{\"type\":\"scatter3d\",\"line\":{\"colorbar\":{\"outlinewidth\":0,\"ticks\":\"\"}},\"marker\":{\"colorbar\":{\"outlinewidth\":0,\"ticks\":\"\"}}}],\"scattermapbox\":[{\"type\":\"scattermapbox\",\"marker\":{\"colorbar\":{\"outlinewidth\":0,\"ticks\":\"\"}}}],\"scatterternary\":[{\"type\":\"scatterternary\",\"marker\":{\"colorbar\":{\"outlinewidth\":0,\"ticks\":\"\"}}}],\"scattercarpet\":[{\"type\":\"scattercarpet\",\"marker\":{\"colorbar\":{\"outlinewidth\":0,\"ticks\":\"\"}}}],\"carpet\":[{\"aaxis\":{\"endlinecolor\":\"#2a3f5f\",\"gridcolor\":\"white\",\"linecolor\":\"white\",\"minorgridcolor\":\"white\",\"startlinecolor\":\"#2a3f5f\"},\"baxis\":{\"endlinecolor\":\"#2a3f5f\",\"gridcolor\":\"white\",\"linecolor\":\"white\",\"minorgridcolor\":\"white\",\"startlinecolor\":\"#2a3f5f\"},\"type\":\"carpet\"}],\"table\":[{\"cells\":{\"fill\":{\"color\":\"#EBF0F8\"},\"line\":{\"color\":\"white\"}},\"header\":{\"fill\":{\"color\":\"#C8D4E3\"},\"line\":{\"color\":\"white\"}},\"type\":\"table\"}],\"barpolar\":[{\"marker\":{\"line\":{\"color\":\"#E5ECF6\",\"width\":0.5},\"pattern\":{\"fillmode\":\"overlay\",\"size\":10,\"solidity\":0.2}},\"type\":\"barpolar\"}],\"pie\":[{\"automargin\":true,\"type\":\"pie\"}]},\"layout\":{\"autotypenumbers\":\"strict\",\"colorway\":[\"#636efa\",\"#EF553B\",\"#00cc96\",\"#ab63fa\",\"#FFA15A\",\"#19d3f3\",\"#FF6692\",\"#B6E880\",\"#FF97FF\",\"#FECB52\"],\"font\":{\"color\":\"#2a3f5f\"},\"hovermode\":\"closest\",\"hoverlabel\":{\"align\":\"left\"},\"paper_bgcolor\":\"white\",\"plot_bgcolor\":\"#E5ECF6\",\"polar\":{\"bgcolor\":\"#E5ECF6\",\"angularaxis\":{\"gridcolor\":\"white\",\"linecolor\":\"white\",\"ticks\":\"\"},\"radialaxis\":{\"gridcolor\":\"white\",\"linecolor\":\"white\",\"ticks\":\"\"}},\"ternary\":{\"bgcolor\":\"#E5ECF6\",\"aaxis\":{\"gridcolor\":\"white\",\"linecolor\":\"white\",\"ticks\":\"\"},\"baxis\":{\"gridcolor\":\"white\",\"linecolor\":\"white\",\"ticks\":\"\"},\"caxis\":{\"gridcolor\":\"white\",\"linecolor\":\"white\",\"ticks\":\"\"}},\"coloraxis\":{\"colorbar\":{\"outlinewidth\":0,\"ticks\":\"\"}},\"colorscale\":{\"sequential\":[[0.0,\"#0d0887\"],[0.1111111111111111,\"#46039f\"],[0.2222222222222222,\"#7201a8\"],[0.3333333333333333,\"#9c179e\"],[0.4444444444444444,\"#bd3786\"],[0.5555555555555556,\"#d8576b\"],[0.6666666666666666,\"#ed7953\"],[0.7777777777777778,\"#fb9f3a\"],[0.8888888888888888,\"#fdca26\"],[1.0,\"#f0f921\"]],\"sequentialminus\":[[0.0,\"#0d0887\"],[0.1111111111111111,\"#46039f\"],[0.2222222222222222,\"#7201a8\"],[0.3333333333333333,\"#9c179e\"],[0.4444444444444444,\"#bd3786\"],[0.5555555555555556,\"#d8576b\"],[0.6666666666666666,\"#ed7953\"],[0.7777777777777778,\"#fb9f3a\"],[0.8888888888888888,\"#fdca26\"],[1.0,\"#f0f921\"]],\"diverging\":[[0,\"#8e0152\"],[0.1,\"#c51b7d\"],[0.2,\"#de77ae\"],[0.3,\"#f1b6da\"],[0.4,\"#fde0ef\"],[0.5,\"#f7f7f7\"],[0.6,\"#e6f5d0\"],[0.7,\"#b8e186\"],[0.8,\"#7fbc41\"],[0.9,\"#4d9221\"],[1,\"#276419\"]]},\"xaxis\":{\"gridcolor\":\"white\",\"linecolor\":\"white\",\"ticks\":\"\",\"title\":{\"standoff\":15},\"zerolinecolor\":\"white\",\"automargin\":true,\"zerolinewidth\":2},\"yaxis\":{\"gridcolor\":\"white\",\"linecolor\":\"white\",\"ticks\":\"\",\"title\":{\"standoff\":15},\"zerolinecolor\":\"white\",\"automargin\":true,\"zerolinewidth\":2},\"scene\":{\"xaxis\":{\"backgroundcolor\":\"#E5ECF6\",\"gridcolor\":\"white\",\"linecolor\":\"white\",\"showbackground\":true,\"ticks\":\"\",\"zerolinecolor\":\"white\",\"gridwidth\":2},\"yaxis\":{\"backgroundcolor\":\"#E5ECF6\",\"gridcolor\":\"white\",\"linecolor\":\"white\",\"showbackground\":true,\"ticks\":\"\",\"zerolinecolor\":\"white\",\"gridwidth\":2},\"zaxis\":{\"backgroundcolor\":\"#E5ECF6\",\"gridcolor\":\"white\",\"linecolor\":\"white\",\"showbackground\":true,\"ticks\":\"\",\"zerolinecolor\":\"white\",\"gridwidth\":2}},\"shapedefaults\":{\"line\":{\"color\":\"#2a3f5f\"}},\"annotationdefaults\":{\"arrowcolor\":\"#2a3f5f\",\"arrowhead\":0,\"arrowwidth\":1},\"geo\":{\"bgcolor\":\"white\",\"landcolor\":\"#E5ECF6\",\"subunitcolor\":\"white\",\"showland\":true,\"showlakes\":true,\"lakecolor\":\"white\"},\"title\":{\"x\":0.05},\"mapbox\":{\"style\":\"light\"}}},\"xaxis\":{\"anchor\":\"y\",\"domain\":[0.0,0.1388888888888889]},\"yaxis\":{\"anchor\":\"x\",\"domain\":[0.7268817204301076,1.0]},\"xaxis2\":{\"anchor\":\"y2\",\"domain\":[0.17222222222222222,0.3111111111111111]},\"yaxis2\":{\"anchor\":\"x2\",\"domain\":[0.7268817204301076,1.0]},\"xaxis3\":{\"anchor\":\"y3\",\"domain\":[0.34444444444444444,0.48333333333333334]},\"yaxis3\":{\"anchor\":\"x3\",\"domain\":[0.7268817204301076,1.0]},\"xaxis4\":{\"anchor\":\"y4\",\"domain\":[0.5166666666666667,0.6555555555555557]},\"yaxis4\":{\"anchor\":\"x4\",\"domain\":[0.7268817204301076,1.0]},\"xaxis5\":{\"anchor\":\"y5\",\"domain\":[0.6888888888888889,0.8277777777777777]},\"yaxis5\":{\"anchor\":\"x5\",\"domain\":[0.7268817204301076,1.0]},\"xaxis6\":{\"anchor\":\"y6\",\"domain\":[0.861111111111111,1.0]},\"yaxis6\":{\"anchor\":\"x6\",\"domain\":[0.7268817204301076,1.0]},\"xaxis7\":{\"anchor\":\"y7\",\"domain\":[0.0,0.1388888888888889]},\"yaxis7\":{\"anchor\":\"x7\",\"domain\":[0.3634408602150538,0.6365591397849463]},\"xaxis8\":{\"anchor\":\"y8\",\"domain\":[0.17222222222222222,0.3111111111111111]},\"yaxis8\":{\"anchor\":\"x8\",\"domain\":[0.3634408602150538,0.6365591397849463]},\"xaxis9\":{\"anchor\":\"y9\",\"domain\":[0.34444444444444444,0.48333333333333334]},\"yaxis9\":{\"anchor\":\"x9\",\"domain\":[0.3634408602150538,0.6365591397849463]},\"xaxis10\":{\"anchor\":\"y10\",\"domain\":[0.5166666666666667,0.6555555555555557]},\"yaxis10\":{\"anchor\":\"x10\",\"domain\":[0.3634408602150538,0.6365591397849463]},\"xaxis11\":{\"anchor\":\"y11\",\"domain\":[0.6888888888888889,0.8277777777777777]},\"yaxis11\":{\"anchor\":\"x11\",\"domain\":[0.3634408602150538,0.6365591397849463]},\"xaxis12\":{\"anchor\":\"y12\",\"domain\":[0.861111111111111,1.0]},\"yaxis12\":{\"anchor\":\"x12\",\"domain\":[0.3634408602150538,0.6365591397849463]},\"xaxis13\":{\"anchor\":\"y13\",\"domain\":[0.0,0.1388888888888889]},\"yaxis13\":{\"anchor\":\"x13\",\"domain\":[0.0,0.2731182795698925]},\"xaxis14\":{\"anchor\":\"y14\",\"domain\":[0.17222222222222222,0.3111111111111111]},\"yaxis14\":{\"anchor\":\"x14\",\"domain\":[0.0,0.2731182795698925]},\"xaxis15\":{\"anchor\":\"y15\",\"domain\":[0.34444444444444444,0.48333333333333334]},\"yaxis15\":{\"anchor\":\"x15\",\"domain\":[0.0,0.2731182795698925]},\"xaxis16\":{\"anchor\":\"y16\",\"domain\":[0.5166666666666667,0.6555555555555557]},\"yaxis16\":{\"anchor\":\"x16\",\"domain\":[0.0,0.2731182795698925]},\"xaxis17\":{\"anchor\":\"y17\",\"domain\":[0.6888888888888889,0.8277777777777777]},\"yaxis17\":{\"anchor\":\"x17\",\"domain\":[0.0,0.2731182795698925]},\"xaxis18\":{\"anchor\":\"y18\",\"domain\":[0.861111111111111,1.0]},\"yaxis18\":{\"anchor\":\"x18\",\"domain\":[0.0,0.2731182795698925]},\"annotations\":[{\"font\":{\"size\":16},\"showarrow\":false,\"text\":\"P: 0, T: C3, L: 0, M: N\",\"x\":0.06944444444444445,\"xanchor\":\"center\",\"xref\":\"paper\",\"y\":1.0,\"yanchor\":\"bottom\",\"yref\":\"paper\"},{\"font\":{\"size\":16},\"showarrow\":false,\"text\":\"P: 0, T: C3, L: 1, M: N\",\"x\":0.24166666666666667,\"xanchor\":\"center\",\"xref\":\"paper\",\"y\":1.0,\"yanchor\":\"bottom\",\"yref\":\"paper\"},{\"font\":{\"size\":16},\"showarrow\":false,\"text\":\"P: 0, T: C3, L: 2, M: N\",\"x\":0.41388888888888886,\"xanchor\":\"center\",\"xref\":\"paper\",\"y\":1.0,\"yanchor\":\"bottom\",\"yref\":\"paper\"},{\"font\":{\"size\":16},\"showarrow\":false,\"text\":\"P: 0, T: C3, L: 3, M: N\",\"x\":0.5861111111111112,\"xanchor\":\"center\",\"xref\":\"paper\",\"y\":1.0,\"yanchor\":\"bottom\",\"yref\":\"paper\"},{\"font\":{\"size\":16},\"showarrow\":false,\"text\":\"P: 0, T: C3, L: 4, M: N\",\"x\":0.7583333333333333,\"xanchor\":\"center\",\"xref\":\"paper\",\"y\":1.0,\"yanchor\":\"bottom\",\"yref\":\"paper\"},{\"font\":{\"size\":16},\"showarrow\":false,\"text\":\"P: 0, T: C3, L: 5, M: N\",\"x\":0.9305555555555556,\"xanchor\":\"center\",\"xref\":\"paper\",\"y\":1.0,\"yanchor\":\"bottom\",\"yref\":\"paper\"},{\"font\":{\"size\":16},\"showarrow\":false,\"text\":\"P: 1, T: C2, L: 0, M: N\",\"x\":0.06944444444444445,\"xanchor\":\"center\",\"xref\":\"paper\",\"y\":0.6365591397849463,\"yanchor\":\"bottom\",\"yref\":\"paper\"},{\"font\":{\"size\":16},\"showarrow\":false,\"text\":\"P: 1, T: C2, L: 1, M: N\",\"x\":0.24166666666666667,\"xanchor\":\"center\",\"xref\":\"paper\",\"y\":0.6365591397849463,\"yanchor\":\"bottom\",\"yref\":\"paper\"},{\"font\":{\"size\":16},\"showarrow\":false,\"text\":\"P: 1, T: C2, L: 2, M: N\",\"x\":0.41388888888888886,\"xanchor\":\"center\",\"xref\":\"paper\",\"y\":0.6365591397849463,\"yanchor\":\"bottom\",\"yref\":\"paper\"},{\"font\":{\"size\":16},\"showarrow\":false,\"text\":\"P: 1, T: C2, L: 3, M: N\",\"x\":0.5861111111111112,\"xanchor\":\"center\",\"xref\":\"paper\",\"y\":0.6365591397849463,\"yanchor\":\"bottom\",\"yref\":\"paper\"},{\"font\":{\"size\":16},\"showarrow\":false,\"text\":\"P: 1, T: C2, L: 4, M: N\",\"x\":0.7583333333333333,\"xanchor\":\"center\",\"xref\":\"paper\",\"y\":0.6365591397849463,\"yanchor\":\"bottom\",\"yref\":\"paper\"},{\"font\":{\"size\":16},\"showarrow\":false,\"text\":\"P: 1, T: C2, L: 5, M: N\",\"x\":0.9305555555555556,\"xanchor\":\"center\",\"xref\":\"paper\",\"y\":0.6365591397849463,\"yanchor\":\"bottom\",\"yref\":\"paper\"},{\"font\":{\"size\":16},\"showarrow\":false,\"text\":\"P: 2, T: C1, L: 0, M: N\",\"x\":0.06944444444444445,\"xanchor\":\"center\",\"xref\":\"paper\",\"y\":0.2731182795698925,\"yanchor\":\"bottom\",\"yref\":\"paper\"},{\"font\":{\"size\":16},\"showarrow\":false,\"text\":\"P: 2, T: C1, L: 1, M: N\",\"x\":0.24166666666666667,\"xanchor\":\"center\",\"xref\":\"paper\",\"y\":0.2731182795698925,\"yanchor\":\"bottom\",\"yref\":\"paper\"},{\"font\":{\"size\":16},\"showarrow\":false,\"text\":\"P: 2, T: C1, L: 2, M: N\",\"x\":0.41388888888888886,\"xanchor\":\"center\",\"xref\":\"paper\",\"y\":0.2731182795698925,\"yanchor\":\"bottom\",\"yref\":\"paper\"},{\"font\":{\"size\":16},\"showarrow\":false,\"text\":\"P: 2, T: C1, L: 3, M: N\",\"x\":0.5861111111111112,\"xanchor\":\"center\",\"xref\":\"paper\",\"y\":0.2731182795698925,\"yanchor\":\"bottom\",\"yref\":\"paper\"},{\"font\":{\"size\":16},\"showarrow\":false,\"text\":\"P: 2, T: C1, L: 4, M: N\",\"x\":0.7583333333333333,\"xanchor\":\"center\",\"xref\":\"paper\",\"y\":0.2731182795698925,\"yanchor\":\"bottom\",\"yref\":\"paper\"},{\"font\":{\"size\":16},\"showarrow\":false,\"text\":\"P: 2, T: C1, L: 5, M: N\",\"x\":0.9305555555555556,\"xanchor\":\"center\",\"xref\":\"paper\",\"y\":0.2731182795698925,\"yanchor\":\"bottom\",\"yref\":\"paper\"}],\"margin\":{\"t\":100},\"title\":{\"text\":\"Probe Results per Position per Layer, Mode: N\"},\"width\":1350,\"height\":775},                        {\"responsive\": true}                    ).then(function(){\n",
       "                            \n",
       "var gd = document.getElementById('0d2d6711-7806-4c57-ac41-060c2b2170e2');\n",
       "var x = new MutationObserver(function (mutations, observer) {{\n",
       "        var display = window.getComputedStyle(gd).display;\n",
       "        if (!display || display === 'none') {{\n",
       "            console.log([gd, 'removed!']);\n",
       "            Plotly.purge(gd);\n",
       "            observer.disconnect();\n",
       "        }}\n",
       "}});\n",
       "\n",
       "// Listen for the removal of the full notebook cells\n",
       "var notebookContainer = gd.closest('#notebook-container');\n",
       "if (notebookContainer) {{\n",
       "    x.observe(notebookContainer, {childList: true});\n",
       "}}\n",
       "\n",
       "// Listen for the clearing of the current output cell\n",
       "var outputEl = gd.closest('.output');\n",
       "if (outputEl) {{\n",
       "    x.observe(outputEl, {childList: true});\n",
       "}}\n",
       "\n",
       "                        })                };                });            </script>        </div>"
      ]
     },
     "metadata": {},
     "output_type": "display_data"
    }
   ],
   "source": [
    "vis_args = VisualzeBoardArguments()\n",
    "vis_args.start_pos = 0\n",
    "vis_args.end_pos = 3\n",
    "vis_args.layers = 6\n",
    "vis_args.include_attn_only = False\n",
    "vis_args.include_mlp_only = False\n",
    "vis_args.mode = \"linear\"\n",
    "# vis_args.static_image = True\n",
    "\n",
    "clean_input_str = focus_games_string[0, :59]\n",
    "\n",
    "visualize_game(clean_input_str, vis_args, model)"
   ]
  }
 ],
 "metadata": {
  "kernelspec": {
   "display_name": "othello-env",
   "language": "python",
   "name": "python3"
  },
  "language_info": {
   "codemirror_mode": {
    "name": "ipython",
    "version": 3
   },
   "file_extension": ".py",
   "mimetype": "text/x-python",
   "name": "python",
   "nbconvert_exporter": "python",
   "pygments_lexer": "ipython3",
   "version": "3.11.9"
  }
 },
 "nbformat": 4,
 "nbformat_minor": 2
}
