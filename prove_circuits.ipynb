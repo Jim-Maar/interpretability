{
 "cells": [
  {
   "cell_type": "markdown",
   "metadata": {},
   "source": [
    "# Setup"
   ]
  },
  {
   "cell_type": "code",
   "execution_count": 8,
   "metadata": {},
   "outputs": [
    {
     "name": "stdout",
     "output_type": "stream",
     "text": [
      "interpretability\n",
      "focus states: (50, 60, 8, 8)\n",
      "focus_valid_moves (50, 60, 64)\n"
     ]
    }
   ],
   "source": [
    "import os, sys\n",
    "chapter = \"chapter1_transformer_interp\"\n",
    "repo = \"ARENA_3.0\"\n",
    "chapter_dir = r\"./\" if chapter in os.listdir() else os.getcwd().split(chapter)[0]\n",
    "sys.path.append(chapter_dir + f\"{chapter}/exercises\")\n",
    "\n",
    "import os\n",
    "os.environ[\"ACCELERATE_DISABLE_RICH\"] = \"1\"\n",
    "import sys\n",
    "import torch as t\n",
    "import torch.nn as nn\n",
    "import torch.nn.functional as F\n",
    "import torch.optim as optim\n",
    "from torch import Tensor\n",
    "from torch.utils.data import DataLoader\n",
    "import numpy as np\n",
    "import einops\n",
    "from ipywidgets import interact\n",
    "import plotly.express as px\n",
    "from ipywidgets import interact\n",
    "from pathlib import Path\n",
    "import itertools\n",
    "import random\n",
    "from IPython.display import display\n",
    "from jaxtyping import Float, Int, Bool, Shaped, jaxtyped\n",
    "from typing import List, Union, Optional, Tuple, Callable, Dict\n",
    "import typeguard\n",
    "from functools import partial\n",
    "# from torcheval.metrics.functional import multiclass_f1_score\n",
    "from sklearn.metrics import f1_score as multiclass_f1_score\n",
    "import copy\n",
    "from transformers import AutoModelForCausalLM, AutoConfig, AutoTokenizer\n",
    "import dataclasses\n",
    "import datasets\n",
    "from IPython.display import HTML\n",
    "import transformer_lens\n",
    "import transformer_lens.utils as utils\n",
    "from transformer_lens.hook_points import HookedRootModule, HookPoint\n",
    "from transformer_lens import HookedTransformer, HookedTransformerConfig, FactoredMatrix, ActivationCache\n",
    "from tqdm.notebook import tqdm\n",
    "from dataclasses import dataclass\n",
    "from rich import print as rprint\n",
    "import pandas as pd\n",
    "\n",
    "# Make sure exercises are in the path\n",
    "# exercises_dir = Path(f\"{os.getcwd().split(chapter)[0]}/{chapter}/exercises\").resolve()\n",
    "# section_dir = exercises_dir / \"part6_othellogpt\"\n",
    "# section_dir = \"interpretability\"\n",
    "# if str(exercises_dir) not in sys.path: sys.path.append(str(exercises_dir))\n",
    "\n",
    "from plotly_utils import imshow\n",
    "from neel_plotly import scatter, line\n",
    "from generate_patches import generate_patch\n",
    "from pprint import pprint\n",
    "from utils import plot_game\n",
    "from training_utils import get_state_stack_num_flipped\n",
    "from utils import plot_probe_outputs\n",
    "from utils import seq_to_state_stack\n",
    "from utils import VisualzeBoardArguments\n",
    "from utils import visualize_game\n",
    "\n",
    "# import part6_othellogpt.tests as tests\n",
    "\n",
    "t.manual_seed(42)\n",
    "\n",
    "device = t.device(\"cuda\" if t.cuda.is_available() else \"cpu\")\n",
    "\n",
    "MAIN = __name__ == \"__main__\"\n",
    "\n",
    "cfg = HookedTransformerConfig(\n",
    "    n_layers = 8,\n",
    "    d_model = 512,\n",
    "    d_head = 64,\n",
    "    n_heads = 8,\n",
    "    d_mlp = 2048,\n",
    "    d_vocab = 61,\n",
    "    n_ctx = 59,\n",
    "    act_fn=\"gelu\",\n",
    "    normalization_type=\"LNPre\",\n",
    "    device=device,\n",
    ")\n",
    "model = HookedTransformer(cfg)\n",
    "\n",
    "sd = utils.download_file_from_hf(\"NeelNanda/Othello-GPT-Transformer-Lens\", \"synthetic_model.pth\")\n",
    "# champion_ship_sd = utils.download_file_from_hf(\"NeelNanda/Othello-GPT-Transformer-Lens\", \"championship_model.pth\")\n",
    "model.load_state_dict(sd)\n",
    "\n",
    "# An example input\n",
    "sample_input = t.tensor([[\n",
    "    20, 19, 18, 10,  2,  1, 27,  3, 41, 42, 34, 12,  4, 40, 11, 29, 43, 13, 48, 56,\n",
    "    33, 39, 22, 44, 24,  5, 46,  6, 32, 36, 51, 58, 52, 60, 21, 53, 26, 31, 37,  9,\n",
    "    25, 38, 23, 50, 45, 17, 47, 28, 35, 30, 54, 16, 59, 49, 57, 14, 15, 55, 7\n",
    "]]).to(device)\n",
    "\n",
    "# The argmax of the output (ie the most likely next move from each position)\n",
    "sample_output = t.tensor([[\n",
    "    21, 41, 40, 34, 40, 41,  3, 11, 21, 43, 40, 21, 28, 50, 33, 50, 33,  5, 33,  5,\n",
    "    52, 46, 14, 46, 14, 47, 38, 57, 36, 50, 38, 15, 28, 26, 28, 59, 50, 28, 14, 28,\n",
    "    28, 28, 28, 45, 28, 35, 15, 14, 30, 59, 49, 59, 15, 15, 14, 15,  8,  7,  8\n",
    "]]).to(device)\n",
    "\n",
    "assert (model(sample_input).argmax(dim=-1) == sample_output.to(device)).all()\n",
    "\n",
    "# os.chdir(section_dir)\n",
    "section_dir = Path.cwd()\n",
    "sys.path.append(str(section_dir))\n",
    "print(section_dir.name)\n",
    "\n",
    "OTHELLO_ROOT = (section_dir / \"othello_world\").resolve()\n",
    "OTHELLO_MECHINT_ROOT = (OTHELLO_ROOT / \"mechanistic_interpretability\").resolve()\n",
    "\n",
    "# if not OTHELLO_ROOT.exists():\n",
    "#     !git clone https://github.com/likenneth/othello_world\n",
    "\n",
    "sys.path.append(str(OTHELLO_MECHINT_ROOT))\n",
    "\n",
    "from mech_interp_othello_utils import (\n",
    "    plot_board,\n",
    "    plot_single_board,\n",
    "    plot_board_log_probs,\n",
    "    to_string,\n",
    "    to_int,\n",
    "    int_to_label,\n",
    "    string_to_label,\n",
    "    OthelloBoardState\n",
    ")\n",
    "\n",
    "# Load board data as ints (i.e. 0 to 60)\n",
    "board_seqs_int = t.tensor(np.load(OTHELLO_MECHINT_ROOT / \"board_seqs_int_small.npy\"), dtype=t.long)\n",
    "# Load board data as \"strings\" (i.e. 0 to 63 with middle squares skipped out)\n",
    "board_seqs_string = t.tensor(np.load(OTHELLO_MECHINT_ROOT / \"board_seqs_string_small.npy\"), dtype=t.long)\n",
    "\n",
    "assert all([middle_sq not in board_seqs_string for middle_sq in [27, 28, 35, 36]])\n",
    "assert board_seqs_int.max() == 60\n",
    "\n",
    "num_games, length_of_game = board_seqs_int.shape\n",
    "\n",
    "# Define possible indices (excluding the four center squares)\n",
    "stoi_indices = [i for i in range(64) if i not in [27, 28, 35, 36]]\n",
    "\n",
    "# Define our rows, and the function that converts an index into a (row, column) label, e.g. `E2`\n",
    "alpha = \"ABCDEFGH\"\n",
    "\n",
    "def to_board_label(i):\n",
    "    return f\"{alpha[i//8]}{i%8}\"\n",
    "\n",
    "# Get our list of board labels\n",
    "board_labels = list(map(to_board_label, stoi_indices))\n",
    "full_board_labels = list(map(to_board_label, range(64)))\n",
    "\n",
    "def plot_square_as_board(state, diverging_scale=True, **kwargs):\n",
    "    \"\"\"Takes a square input (8 by 8) and plot it as a board. Can do a stack of boards via facet_col=0\"\"\"\n",
    "    kwargs = {\n",
    "        \"y\": [i for i in alpha],\n",
    "        \"x\": [str(i) for i in range(8)],\n",
    "        \"color_continuous_scale\": \"RdBu\" if diverging_scale else \"Blues\",\n",
    "        \"color_continuous_midpoint\": 0. if diverging_scale else None,\n",
    "        \"aspect\": \"equal\",\n",
    "        **kwargs\n",
    "    }\n",
    "    imshow(state, **kwargs)\n",
    "\n",
    "start = 30000\n",
    "num_games = 50\n",
    "focus_games_int = board_seqs_int[start : start + num_games]\n",
    "focus_games_string = board_seqs_string[start: start + num_games]\n",
    "\n",
    "focus_logits, focus_cache = model.run_with_cache(focus_games_int[:, :-1].to(device))\n",
    "focus_logits.shape\n",
    "\n",
    "def one_hot(list_of_ints, num_classes=64):\n",
    "    out = t.zeros((num_classes,), dtype=t.float32)\n",
    "    out[list_of_ints] = 1.\n",
    "    return out\n",
    "\n",
    "focus_states = np.zeros((num_games, 60, 8, 8), dtype=np.float32)\n",
    "focus_valid_moves = t.zeros((num_games, 60, 64), dtype=t.float32)\n",
    "\n",
    "for i in (range(num_games)):\n",
    "    board = OthelloBoardState()\n",
    "    for j in range(60):\n",
    "        board.umpire(focus_games_string[i, j].item())\n",
    "        focus_states[i, j] = board.state\n",
    "        focus_valid_moves[i, j] = one_hot(board.get_valid_moves())\n",
    "\n",
    "print(\"focus states:\", focus_states.shape)\n",
    "print(\"focus_valid_moves\", tuple(focus_valid_moves.shape))\n",
    "\n",
    "# full_linear_probe = t.load(OTHELLO_MECHINT_ROOT / \"main_linear_probe.pth\", map_location=device)\n",
    "\n",
    "linear_probe2 = t.load(\"probes/linear/resid_6_linear.pth\")\n",
    "\n",
    "rows = 8\n",
    "cols = 8\n",
    "options = 3\n",
    "assert linear_probe2.shape == (1, cfg.d_model, rows, cols, options)\n",
    "\n",
    "black_to_play_index = 0\n",
    "white_to_play_index = 1\n",
    "blank_index = 0\n",
    "their_index = 1\n",
    "my_index = 2\n",
    "\n",
    "# Creating values for linear probe (converting the \"black/white to play\" notation into \"me/them to play\")\n",
    "\n",
    "'''LAYER = 6\n",
    "game_index = 0\n",
    "move = 29'''\n",
    "\n",
    "BLANK1 = 0\n",
    "BLACK = 1\n",
    "WHITE = -1\n",
    "\n",
    "# MINE = 0\n",
    "# YOURS = 1\n",
    "# BLANK2 = 2\n",
    "\n",
    "EMPTY = 0\n",
    "MINE = 1\n",
    "YOURS = 2\n",
    "\n",
    "FLIPPED = 0\n",
    "NOT_FLIPPED = 1"
   ]
  },
  {
   "cell_type": "markdown",
   "metadata": {},
   "source": [
    "# Code"
   ]
  },
  {
   "cell_type": "markdown",
   "metadata": {},
   "source": [
    "- First Played Circuit\n",
    "    - Look if in layer 0 Emb @ OV_Mine = Mine and Emb @ OV_Yours = Yours\n",
    "        - Whats the Role of positional Embedding?\n",
    "            - Important for QK Circuit?"
   ]
  },
  {
   "cell_type": "code",
   "execution_count": 3,
   "metadata": {},
   "outputs": [],
   "source": [
    "def string_to_tile(pos_str):\n",
    "    return (pos_str // 8, pos_str % 8)"
   ]
  },
  {
   "cell_type": "code",
   "execution_count": 4,
   "metadata": {},
   "outputs": [
    {
     "name": "stdout",
     "output_type": "stream",
     "text": [
      "torch.Size([61, 512]) torch.Size([8, 8, 512, 512])\n",
      "<class 'transformer_lens.FactoredMatrix.FactoredMatrix'>\n"
     ]
    }
   ],
   "source": [
    "W_E = model.W_E\n",
    "OV = model.OV\n",
    "print(W_E.shape, OV.shape)\n",
    "print(type(OV))"
   ]
  },
  {
   "cell_type": "code",
   "execution_count": 5,
   "metadata": {},
   "outputs": [],
   "source": [
    "import plotly.graph_objects as go\n",
    "from plotly.subplots import make_subplots\n",
    "from utils import plot_boards_general"
   ]
  },
  {
   "cell_type": "markdown",
   "metadata": {},
   "source": [
    "- This Plot shows the Layer 0 Base Cicuit. Predict the Tile that was last played. Heads 0,7 for MINE and Heads 3, 6 for YOURS\n",
    "- This Shows how Corners are done!"
   ]
  },
  {
   "cell_type": "code",
   "execution_count": 24,
   "metadata": {},
   "outputs": [
    {
     "name": "stdout",
     "output_type": "stream",
     "text": [
      "8 8\n"
     ]
    }
   ],
   "source": [
    "# Load Probes\n",
    "linear_probes = []\n",
    "flipped_probes = []\n",
    "for layer in range(8):\n",
    "    linear_probe = t.load(f\"probes/linear/resid_{layer}_linear.pth\").to(device).detach()\n",
    "    flipped_probe = t.load(f\"probes/flipped/resid_{layer}_flipped.pth\").to(device).detach()\n",
    "    linear_probes.append(linear_probe)\n",
    "    flipped_probes.append(flipped_probe)\n",
    "print(len(linear_probes), len(flipped_probes))"
   ]
  },
  {
   "cell_type": "code",
   "execution_count": 18,
   "metadata": {},
   "outputs": [],
   "source": [
    "mine_vs_yours : Float[Tensor, \"layer head rows cols\"] = t.zeros((8, 8, 8, 8))\n",
    "\n",
    "for layer in range(0, 8):\n",
    "    for head in range(8):\n",
    "        positions = list(range(1, 61))\n",
    "        linear_probe : Float[Tensor, \"modes d_model rows cols options\"]= t.load(f\"probes/linear/resid_{layer}_linear.pth\").to(device).detach()\n",
    "        OV_layer_head = OV.AB[layer, head].detach()\n",
    "        # mine_vs_yours = t.zeros((8, 8))\n",
    "        for pos_int in positions:\n",
    "            pos_str = to_string(pos_int)\n",
    "            tile = string_to_tile(pos_str)\n",
    "            pos_empty = linear_probe[0, :, *tile, EMPTY]\n",
    "            pos_mine = linear_probe[0, :, *tile, MINE]\n",
    "            pos_yours = linear_probe[0, :, *tile, YOURS]\n",
    "            pos_emb = W_E[pos_int, :].detach()\n",
    "            result = einops.einsum(pos_emb, OV_layer_head, \"d_model_in, d_model_in d_model_out -> d_model_out\")\n",
    "            mine_vs_yours[head, layer, *tile] = t.dot(result, pos_mine) - t.dot(result, pos_yours)\n",
    "\n",
    "# plot_boards_general(x_labels=[f\"Head {i}\" for i in range(8)], y_labels=[f\"Layer {i}\" for i in range(8)], boards=mine_vs_yours, title_text = \"How much does each Head add to the Mine vs Yours direction\", save=True)\n",
    "# fig.show()\n"
   ]
  },
  {
   "cell_type": "markdown",
   "metadata": {},
   "source": [
    "- Next: Last Flipped Circuit\n",
    "    - Heads with High Attention to the Flip direction?\n",
    "        - I don't know if this makes sense, because there are flips in every move\n",
    "    - I don't know how this would be implemented...\n",
    "        - Maybe all the Flips write, but the last one is the strongest...\n",
    "    - For the Prove I need to distinguish the Heads Attending to MINE and Heads Attending to Yours\n",
    "        - Then I show FLIPPED @ OV_mine = MINE and FLIPPED @ OV_yours = yours"
   ]
  },
  {
   "cell_type": "code",
   "execution_count": 27,
   "metadata": {},
   "outputs": [],
   "source": [
    "def cosine_similiarity(x, y):\n",
    "    return t.dot(x, y) / (t.norm(x) * t.norm(y))"
   ]
  },
  {
   "cell_type": "code",
   "execution_count": 52,
   "metadata": {},
   "outputs": [
    {
     "name": "stdout",
     "output_type": "stream",
     "text": [
      "Layer 1: 0.038735147565603256\n",
      "Layer 2: 0.030931897461414337\n",
      "Layer 3: 0.04385523125529289\n",
      "Layer 4: 0.05066002160310745\n",
      "Layer 5: 0.05888757482171059\n",
      "Layer 6: 0.09640685468912125\n",
      "Layer 7: 0.1551792323589325\n"
     ]
    },
    {
     "data": {
      "application/vnd.plotly.v1+json": {
       "config": {
        "plotlyServerURL": "https://plot.ly"
       },
       "data": [
        {
         "colorscale": [
          [
           0,
           "rgb(103,0,31)"
          ],
          [
           0.1,
           "rgb(178,24,43)"
          ],
          [
           0.2,
           "rgb(214,96,77)"
          ],
          [
           0.3,
           "rgb(244,165,130)"
          ],
          [
           0.4,
           "rgb(253,219,199)"
          ],
          [
           0.5,
           "rgb(247,247,247)"
          ],
          [
           0.6,
           "rgb(209,229,240)"
          ],
          [
           0.7,
           "rgb(146,197,222)"
          ],
          [
           0.8,
           "rgb(67,147,195)"
          ],
          [
           0.9,
           "rgb(33,102,172)"
          ],
          [
           1,
           "rgb(5,48,97)"
          ]
         ],
         "hoverongaps": false,
         "type": "heatmap",
         "x": [
          0,
          1,
          2,
          3,
          4,
          5,
          6,
          7
         ],
         "xaxis": "x",
         "y": [
          "H",
          "G",
          "F",
          "E",
          "D",
          "C",
          "B",
          "A"
         ],
         "yaxis": "y",
         "z": [
          [
           0,
           0,
           0,
           0,
           0,
           0,
           0,
           0
          ],
          [
           0,
           0,
           0,
           0,
           0,
           0,
           0,
           0
          ],
          [
           0,
           0,
           0,
           0,
           0,
           0,
           0,
           0
          ],
          [
           0,
           0,
           0,
           0,
           0,
           0,
           0,
           0
          ],
          [
           0,
           0,
           0,
           0,
           0,
           0,
           0,
           0
          ],
          [
           0,
           0,
           0,
           0,
           0,
           0,
           0,
           0
          ],
          [
           0,
           0,
           0,
           0,
           0,
           0,
           0,
           0
          ],
          [
           0,
           0,
           0,
           0,
           0,
           0,
           0,
           0
          ]
         ],
         "zmax": 0.6861146688461304,
         "zmin": -0.6861146688461304
        },
        {
         "colorscale": [
          [
           0,
           "rgb(103,0,31)"
          ],
          [
           0.1,
           "rgb(178,24,43)"
          ],
          [
           0.2,
           "rgb(214,96,77)"
          ],
          [
           0.3,
           "rgb(244,165,130)"
          ],
          [
           0.4,
           "rgb(253,219,199)"
          ],
          [
           0.5,
           "rgb(247,247,247)"
          ],
          [
           0.6,
           "rgb(209,229,240)"
          ],
          [
           0.7,
           "rgb(146,197,222)"
          ],
          [
           0.8,
           "rgb(67,147,195)"
          ],
          [
           0.9,
           "rgb(33,102,172)"
          ],
          [
           1,
           "rgb(5,48,97)"
          ]
         ],
         "hoverongaps": false,
         "type": "heatmap",
         "x": [
          0,
          1,
          2,
          3,
          4,
          5,
          6,
          7
         ],
         "xaxis": "x9",
         "y": [
          "H",
          "G",
          "F",
          "E",
          "D",
          "C",
          "B",
          "A"
         ],
         "yaxis": "y9",
         "z": [
          [
           0.13940931856632233,
           0.49238115549087524,
           0.41846010088920593,
           0.4337942600250244,
           0.5348332524299622,
           0.540886402130127,
           0.481603741645813,
           -0.03742876276373863
          ],
          [
           0.5525877475738525,
           0.39973095059394836,
           0.5261282324790955,
           0.5509346723556519,
           0.4885668158531189,
           0.3937189280986786,
           0.2349783480167389,
           0.35174453258514404
          ],
          [
           0.5087990760803223,
           0.48311400413513184,
           0.5328013896942139,
           0.394858717918396,
           0.44672253727912903,
           0.2955455482006073,
           0.14748959243297577,
           0.2810753881931305
          ],
          [
           0.5093994736671448,
           0.4563876688480377,
           0.4212222993373871,
           0.3683697283267975,
           0.23676797747612,
           0.1357131153345108,
           0.08499245345592499,
           0.280778169631958
          ],
          [
           0.5225346088409424,
           0.23117561638355255,
           0.17538735270500183,
           0.09991912543773651,
           0.09510836750268936,
           0.047592174261808395,
           0.1107231080532074,
           0.10943140834569931
          ],
          [
           0.4394574463367462,
           0.17662200331687927,
           0.09170033782720566,
           0.08422621339559555,
           0.022749003022909164,
           0.045863308012485504,
           0.09073907136917114,
           0.04079460725188255
          ],
          [
           0.43991461396217346,
           0.21226766705513,
           0.17990131676197052,
           0.19972869753837585,
           0.19572319090366364,
           0.13415822386741638,
           0.056957341730594635,
           0.03707518056035042
          ],
          [
           0.09256547689437866,
           0.2411741018295288,
           0.37526726722717285,
           0.3335105776786804,
           0.28529927134513855,
           0.3032226860523224,
           0.12143674492835999,
           -0.018367858603596687
          ]
         ],
         "zmax": 0.6861146688461304,
         "zmin": -0.6861146688461304
        },
        {
         "colorscale": [
          [
           0,
           "rgb(103,0,31)"
          ],
          [
           0.1,
           "rgb(178,24,43)"
          ],
          [
           0.2,
           "rgb(214,96,77)"
          ],
          [
           0.3,
           "rgb(244,165,130)"
          ],
          [
           0.4,
           "rgb(253,219,199)"
          ],
          [
           0.5,
           "rgb(247,247,247)"
          ],
          [
           0.6,
           "rgb(209,229,240)"
          ],
          [
           0.7,
           "rgb(146,197,222)"
          ],
          [
           0.8,
           "rgb(67,147,195)"
          ],
          [
           0.9,
           "rgb(33,102,172)"
          ],
          [
           1,
           "rgb(5,48,97)"
          ]
         ],
         "hoverongaps": false,
         "type": "heatmap",
         "x": [
          0,
          1,
          2,
          3,
          4,
          5,
          6,
          7
         ],
         "xaxis": "x17",
         "y": [
          "H",
          "G",
          "F",
          "E",
          "D",
          "C",
          "B",
          "A"
         ],
         "yaxis": "y17",
         "z": [
          [
           -0.08787693828344345,
           -0.0428139753639698,
           -0.053744859993457794,
           0.013626541942358017,
           0.24125811457633972,
           0.2812280058860779,
           0.2521291673183441,
           -0.110886350274086
          ],
          [
           0.022690171375870705,
           0.032815564423799515,
           0.07459724694490433,
           -0.0011011100141331553,
           0.08231829851865768,
           0.07834560424089432,
           0.024340132251381874,
           -0.04455534368753433
          ],
          [
           0.09986470639705658,
           0.1876712143421173,
           0.2176251858472824,
           0.18059073388576508,
           0.17327508330345154,
           0.06155581772327423,
           -0.024899188429117203,
           -0.055879540741443634
          ],
          [
           0.23062953352928162,
           0.4355066418647766,
           0.3814413845539093,
           0.5715242624282837,
           0.5299930572509766,
           0.22461460530757904,
           0.18181157112121582,
           -0.036048900336027145
          ],
          [
           0.46569350361824036,
           0.47093674540519714,
           0.46647870540618896,
           0.6406185626983643,
           0.6294705867767334,
           0.4166492223739624,
           0.3431837856769562,
           -0.02462797611951828
          ],
          [
           0.3255264163017273,
           0.5133143067359924,
           0.4494199752807617,
           0.4580373764038086,
           0.42804548144340515,
           0.4880260229110718,
           0.4511021077632904,
           -0.025675373151898384
          ],
          [
           0.2517223656177521,
           0.37552180886268616,
           0.49990177154541016,
           0.4877254366874695,
           0.4809281527996063,
           0.4790179431438446,
           0.4552824795246124,
           -0.042419180274009705
          ],
          [
           -0.10437774658203125,
           -0.08267877250909805,
           0.3087356388568878,
           0.33567726612091064,
           0.3158373236656189,
           0.31391963362693787,
           0.05926075577735901,
           -0.054064054042100906
          ]
         ],
         "zmax": 0.6861146688461304,
         "zmin": -0.6861146688461304
        },
        {
         "colorscale": [
          [
           0,
           "rgb(103,0,31)"
          ],
          [
           0.1,
           "rgb(178,24,43)"
          ],
          [
           0.2,
           "rgb(214,96,77)"
          ],
          [
           0.3,
           "rgb(244,165,130)"
          ],
          [
           0.4,
           "rgb(253,219,199)"
          ],
          [
           0.5,
           "rgb(247,247,247)"
          ],
          [
           0.6,
           "rgb(209,229,240)"
          ],
          [
           0.7,
           "rgb(146,197,222)"
          ],
          [
           0.8,
           "rgb(67,147,195)"
          ],
          [
           0.9,
           "rgb(33,102,172)"
          ],
          [
           1,
           "rgb(5,48,97)"
          ]
         ],
         "hoverongaps": false,
         "type": "heatmap",
         "x": [
          0,
          1,
          2,
          3,
          4,
          5,
          6,
          7
         ],
         "xaxis": "x25",
         "y": [
          "H",
          "G",
          "F",
          "E",
          "D",
          "C",
          "B",
          "A"
         ],
         "yaxis": "y25",
         "z": [
          [
           -0.009647722356021404,
           0.12470431625843048,
           0.2669249176979065,
           0.2971409559249878,
           0.40888309478759766,
           0.12516146898269653,
           0.2335602343082428,
           -0.016542324796319008
          ],
          [
           0.23397821187973022,
           0.5349680185317993,
           0.5555924773216248,
           0.5776851177215576,
           0.592843770980835,
           0.49406105279922485,
           0.5191382169723511,
           0.16486339271068573
          ],
          [
           0.1777763068675995,
           0.5520197153091431,
           0.5790492296218872,
           0.49221548438072205,
           0.5083155632019043,
           0.4774106740951538,
           0.5605106353759766,
           0.25990113615989685
          ],
          [
           0.24476218223571777,
           0.586061954498291,
           0.481198251247406,
           0.6763462424278259,
           0.6612727046012878,
           0.511573851108551,
           0.5300953388214111,
           0.4389321804046631
          ],
          [
           0.24573108553886414,
           0.5338048338890076,
           0.5141006112098694,
           0.6549016237258911,
           0.6861146688461304,
           0.5030539631843567,
           0.542908787727356,
           0.3557675778865814
          ],
          [
           0.3536769151687622,
           0.5512496829032898,
           0.5014040470123291,
           0.5600639581680298,
           0.5213977694511414,
           0.567158579826355,
           0.5172410607337952,
           0.3275933563709259
          ],
          [
           0.16584904491901398,
           0.5133355855941772,
           0.5335829854011536,
           0.5473047494888306,
           0.5460160970687866,
           0.5422285795211792,
           0.4602719843387604,
           0.2464158833026886
          ],
          [
           0.009436562657356262,
           0.16283465921878815,
           0.23896682262420654,
           0.3315207362174988,
           0.2542877793312073,
           0.2736318111419678,
           0.14512325823307037,
           0.016972588375210762
          ]
         ],
         "zmax": 0.6861146688461304,
         "zmin": -0.6861146688461304
        },
        {
         "colorscale": [
          [
           0,
           "rgb(103,0,31)"
          ],
          [
           0.1,
           "rgb(178,24,43)"
          ],
          [
           0.2,
           "rgb(214,96,77)"
          ],
          [
           0.3,
           "rgb(244,165,130)"
          ],
          [
           0.4,
           "rgb(253,219,199)"
          ],
          [
           0.5,
           "rgb(247,247,247)"
          ],
          [
           0.6,
           "rgb(209,229,240)"
          ],
          [
           0.7,
           "rgb(146,197,222)"
          ],
          [
           0.8,
           "rgb(67,147,195)"
          ],
          [
           0.9,
           "rgb(33,102,172)"
          ],
          [
           1,
           "rgb(5,48,97)"
          ]
         ],
         "hoverongaps": false,
         "type": "heatmap",
         "x": [
          0,
          1,
          2,
          3,
          4,
          5,
          6,
          7
         ],
         "xaxis": "x33",
         "y": [
          "H",
          "G",
          "F",
          "E",
          "D",
          "C",
          "B",
          "A"
         ],
         "yaxis": "y33",
         "z": [
          [
           -0.011514529585838318,
           -0.05400115251541138,
           -0.045016102492809296,
           -0.07356350123882294,
           -0.10914236307144165,
           -0.09287276864051819,
           -0.0602058470249176,
           0.016999654471874237
          ],
          [
           -0.02329917810857296,
           0.007617619354277849,
           -0.08509097248315811,
           -0.4417495131492615,
           -0.4963093400001526,
           -0.5059585571289062,
           -0.5164774060249329,
           0.0026470175944268703
          ],
          [
           -0.028771838173270226,
           0.021859632804989815,
           -0.0015777242369949818,
           -0.45088955760002136,
           -0.5068894028663635,
           -0.5712630748748779,
           -0.5912927985191345,
           -0.29578912258148193
          ],
          [
           0.014938585460186005,
           -0.010586312040686607,
           -0.017149491235613823,
           -0.4537040591239929,
           -0.5784544944763184,
           -0.53957599401474,
           -0.5594753623008728,
           -0.09620319306850433
          ],
          [
           -0.02593446522951126,
           -0.020858610048890114,
           -0.16105584800243378,
           -0.503145694732666,
           -0.4999825954437256,
           -0.5319653749465942,
           -0.5375635027885437,
           -0.10865660011768341
          ],
          [
           -0.013681099750101566,
           -0.0012700437800958753,
           -0.17698830366134644,
           -0.08864007890224457,
           -0.2776029109954834,
           -0.2226039469242096,
           -0.44019386172294617,
           -0.07171648740768433
          ],
          [
           -0.0034930172841995955,
           0.04452420398592949,
           -0.04919951781630516,
           -0.028490586206316948,
           -0.036686502397060394,
           -0.04383878782391548,
           -0.020851021632552147,
           -0.0009942501783370972
          ],
          [
           0.03235941007733345,
           -0.004588272422552109,
           -0.009966755285859108,
           -0.015777453780174255,
           -0.02064366452395916,
           -0.0169198140501976,
           0.010221653617918491,
           0.031070340424776077
          ]
         ],
         "zmax": 0.6861146688461304,
         "zmin": -0.6861146688461304
        },
        {
         "colorscale": [
          [
           0,
           "rgb(103,0,31)"
          ],
          [
           0.1,
           "rgb(178,24,43)"
          ],
          [
           0.2,
           "rgb(214,96,77)"
          ],
          [
           0.3,
           "rgb(244,165,130)"
          ],
          [
           0.4,
           "rgb(253,219,199)"
          ],
          [
           0.5,
           "rgb(247,247,247)"
          ],
          [
           0.6,
           "rgb(209,229,240)"
          ],
          [
           0.7,
           "rgb(146,197,222)"
          ],
          [
           0.8,
           "rgb(67,147,195)"
          ],
          [
           0.9,
           "rgb(33,102,172)"
          ],
          [
           1,
           "rgb(5,48,97)"
          ]
         ],
         "hoverongaps": false,
         "type": "heatmap",
         "x": [
          0,
          1,
          2,
          3,
          4,
          5,
          6,
          7
         ],
         "xaxis": "x41",
         "y": [
          "H",
          "G",
          "F",
          "E",
          "D",
          "C",
          "B",
          "A"
         ],
         "yaxis": "y41",
         "z": [
          [
           0.004677455406636,
           -0.00280393217690289,
           0.009006157517433167,
           -0.004011152777820826,
           -0.03755625709891319,
           -0.004915244411677122,
           0.011423863470554352,
           -0.03384725749492645
          ],
          [
           -0.0024274620227515697,
           0.00960660632699728,
           -0.014231368899345398,
           0.03765987232327461,
           -0.021464461460709572,
           -0.04537874460220337,
           -0.14065243303775787,
           0.011717858724296093
          ],
          [
           0.005983577109873295,
           0.022539088502526283,
           -0.009157736785709858,
           0.015571285039186478,
           -0.16981853544712067,
           -0.3554634749889374,
           -0.31700196862220764,
           -0.008639688603579998
          ],
          [
           0.04816212132573128,
           -0.012849624268710613,
           -0.04597826674580574,
           -0.2883794605731964,
           -0.48654410243034363,
           -0.4838699698448181,
           -0.36540406942367554,
           -0.006184713914990425
          ],
          [
           0.012508374638855457,
           -0.1615150272846222,
           -0.335409939289093,
           -0.4265457093715668,
           -0.3938691318035126,
           -0.3799358606338501,
           -0.32679224014282227,
           -0.010467903688549995
          ],
          [
           -0.021630436182022095,
           -0.2935948073863983,
           -0.4168410301208496,
           -0.4393484890460968,
           -0.35593634843826294,
           -0.3686789274215698,
           -0.3263624608516693,
           -0.011229761876165867
          ],
          [
           0.009170670062303543,
           -0.3104444742202759,
           -0.2817966639995575,
           -0.3689936697483063,
           -0.36502933502197266,
           -0.40905725955963135,
           -0.31978100538253784,
           -0.032171767204999924
          ],
          [
           -0.00971180759370327,
           -0.015096500515937805,
           -0.055146411061286926,
           -0.05971693620085716,
           -0.05745546519756317,
           -0.0651070699095726,
           0.007609909400343895,
           -0.01408662274479866
          ]
         ],
         "zmax": 0.6861146688461304,
         "zmin": -0.6861146688461304
        },
        {
         "colorscale": [
          [
           0,
           "rgb(103,0,31)"
          ],
          [
           0.1,
           "rgb(178,24,43)"
          ],
          [
           0.2,
           "rgb(214,96,77)"
          ],
          [
           0.3,
           "rgb(244,165,130)"
          ],
          [
           0.4,
           "rgb(253,219,199)"
          ],
          [
           0.5,
           "rgb(247,247,247)"
          ],
          [
           0.6,
           "rgb(209,229,240)"
          ],
          [
           0.7,
           "rgb(146,197,222)"
          ],
          [
           0.8,
           "rgb(67,147,195)"
          ],
          [
           0.9,
           "rgb(33,102,172)"
          ],
          [
           1,
           "rgb(5,48,97)"
          ]
         ],
         "hoverongaps": false,
         "type": "heatmap",
         "x": [
          0,
          1,
          2,
          3,
          4,
          5,
          6,
          7
         ],
         "xaxis": "x49",
         "y": [
          "H",
          "G",
          "F",
          "E",
          "D",
          "C",
          "B",
          "A"
         ],
         "yaxis": "y49",
         "z": [
          [
           -0.04607688635587692,
           -0.0582059770822525,
           -0.005343856289982796,
           -0.02940582111477852,
           -0.004057155456393957,
           0.011498034931719303,
           0.02764233946800232,
           -0.012380579486489296
          ],
          [
           -0.014403176493942738,
           0.2345670759677887,
           0.1345149129629135,
           0.07679907232522964,
           -0.005290823522955179,
           0.02047637663781643,
           0.03353557735681534,
           -0.01866844855248928
          ],
          [
           0.08286034315824509,
           0.33337315917015076,
           0.44446268677711487,
           0.15324902534484863,
           0.02890024147927761,
           0.0352482795715332,
           0.05434630811214447,
           -0.01964266411960125
          ],
          [
           0.041443534195423126,
           0.40981006622314453,
           0.3848109841346741,
           0.40616318583488464,
           0.12763920426368713,
           0.0625533014535904,
           0.010263776406645775,
           -0.01761927641928196
          ],
          [
           0.06472744047641754,
           0.3443388044834137,
           0.38924440741539,
           0.470255970954895,
           0.1484254002571106,
           0.03144027292728424,
           0.03493089973926544,
           -0.018775062635540962
          ],
          [
           0.13658644258975983,
           0.3795580565929413,
           0.3422130048274994,
           0.30986908078193665,
           0.026352686807513237,
           0.04112591594457626,
           0.026443593204021454,
           0.006939271464943886
          ],
          [
           0.04765261709690094,
           0.2129567563533783,
           0.32490959763526917,
           0.16868522763252258,
           0.07454974204301834,
           0.010963455773890018,
           -0.01474565640091896,
           -0.02653931826353073
          ],
          [
           -0.047444771975278854,
           -0.017919573932886124,
           0.0035334741696715355,
           -0.018992414698004723,
           -0.018276451155543327,
           0.0024901460856199265,
           0.026237955316901207,
           -0.04581233486533165
          ]
         ],
         "zmax": 0.6861146688461304,
         "zmin": -0.6861146688461304
        },
        {
         "colorscale": [
          [
           0,
           "rgb(103,0,31)"
          ],
          [
           0.1,
           "rgb(178,24,43)"
          ],
          [
           0.2,
           "rgb(214,96,77)"
          ],
          [
           0.3,
           "rgb(244,165,130)"
          ],
          [
           0.4,
           "rgb(253,219,199)"
          ],
          [
           0.5,
           "rgb(247,247,247)"
          ],
          [
           0.6,
           "rgb(209,229,240)"
          ],
          [
           0.7,
           "rgb(146,197,222)"
          ],
          [
           0.8,
           "rgb(67,147,195)"
          ],
          [
           0.9,
           "rgb(33,102,172)"
          ],
          [
           1,
           "rgb(5,48,97)"
          ]
         ],
         "hoverongaps": false,
         "type": "heatmap",
         "x": [
          0,
          1,
          2,
          3,
          4,
          5,
          6,
          7
         ],
         "xaxis": "x57",
         "y": [
          "H",
          "G",
          "F",
          "E",
          "D",
          "C",
          "B",
          "A"
         ],
         "yaxis": "y57",
         "z": [
          [
           -0.05155586823821068,
           -0.1166117712855339,
           -0.0413430891931057,
           -0.07428983598947525,
           -0.08505826443433762,
           -0.07047910988330841,
           -0.0434885174036026,
           -0.10685880482196808
          ],
          [
           -0.09065577387809753,
           -0.0042232973501086235,
           -0.08859847486019135,
           -0.023723632097244263,
           0.032108306884765625,
           -0.010662266984581947,
           -0.039238933473825455,
           -0.08762771636247635
          ],
          [
           -0.08377879858016968,
           -0.07517899572849274,
           -0.12143757939338684,
           -0.17318177223205566,
           -0.09994055330753326,
           -0.05808359012007713,
           -0.031272828578948975,
           -0.044076770544052124
          ],
          [
           -0.03109331801533699,
           -0.09939343482255936,
           -0.12529374659061432,
           -0.19572234153747559,
           -0.06917983293533325,
           -0.03779406473040581,
           -0.04882913827896118,
           -0.053937189280986786
          ],
          [
           -0.061199963092803955,
           -0.013925007544457912,
           -0.04970306158065796,
           -0.003689604112878442,
           -0.011044133454561234,
           0.028313830494880676,
           -0.00006916934944456443,
           -0.05356910452246666
          ],
          [
           -0.026887552812695503,
           0.05891179293394089,
           0.03397934511303902,
           0.01764664612710476,
           -0.03428300470113754,
           -0.1166495755314827,
           -0.047045785933732986,
           -0.0657719150185585
          ],
          [
           -0.025666484609246254,
           0.004062609747052193,
           0.03652091696858406,
           -0.01613963209092617,
           -0.0722564160823822,
           -0.06942468136548996,
           -0.09653688967227936,
           -0.07553648948669434
          ],
          [
           -0.04947705194354057,
           -0.031025361269712448,
           -0.022923706099390984,
           -0.032197315245866776,
           -0.05542204901576042,
           -0.06131337210536003,
           -0.08272160589694977,
           -0.07734443247318268
          ]
         ],
         "zmax": 0.6861146688461304,
         "zmin": -0.6861146688461304
        },
        {
         "colorscale": [
          [
           0,
           "rgb(103,0,31)"
          ],
          [
           0.1,
           "rgb(178,24,43)"
          ],
          [
           0.2,
           "rgb(214,96,77)"
          ],
          [
           0.3,
           "rgb(244,165,130)"
          ],
          [
           0.4,
           "rgb(253,219,199)"
          ],
          [
           0.5,
           "rgb(247,247,247)"
          ],
          [
           0.6,
           "rgb(209,229,240)"
          ],
          [
           0.7,
           "rgb(146,197,222)"
          ],
          [
           0.8,
           "rgb(67,147,195)"
          ],
          [
           0.9,
           "rgb(33,102,172)"
          ],
          [
           1,
           "rgb(5,48,97)"
          ]
         ],
         "hoverongaps": false,
         "type": "heatmap",
         "x": [
          0,
          1,
          2,
          3,
          4,
          5,
          6,
          7
         ],
         "xaxis": "x2",
         "y": [
          "H",
          "G",
          "F",
          "E",
          "D",
          "C",
          "B",
          "A"
         ],
         "yaxis": "y2",
         "z": [
          [
           0,
           0,
           0,
           0,
           0,
           0,
           0,
           0
          ],
          [
           0,
           0,
           0,
           0,
           0,
           0,
           0,
           0
          ],
          [
           0,
           0,
           0,
           0,
           0,
           0,
           0,
           0
          ],
          [
           0,
           0,
           0,
           0,
           0,
           0,
           0,
           0
          ],
          [
           0,
           0,
           0,
           0,
           0,
           0,
           0,
           0
          ],
          [
           0,
           0,
           0,
           0,
           0,
           0,
           0,
           0
          ],
          [
           0,
           0,
           0,
           0,
           0,
           0,
           0,
           0
          ],
          [
           0,
           0,
           0,
           0,
           0,
           0,
           0,
           0
          ]
         ],
         "zmax": 0.6861146688461304,
         "zmin": -0.6861146688461304
        },
        {
         "colorscale": [
          [
           0,
           "rgb(103,0,31)"
          ],
          [
           0.1,
           "rgb(178,24,43)"
          ],
          [
           0.2,
           "rgb(214,96,77)"
          ],
          [
           0.3,
           "rgb(244,165,130)"
          ],
          [
           0.4,
           "rgb(253,219,199)"
          ],
          [
           0.5,
           "rgb(247,247,247)"
          ],
          [
           0.6,
           "rgb(209,229,240)"
          ],
          [
           0.7,
           "rgb(146,197,222)"
          ],
          [
           0.8,
           "rgb(67,147,195)"
          ],
          [
           0.9,
           "rgb(33,102,172)"
          ],
          [
           1,
           "rgb(5,48,97)"
          ]
         ],
         "hoverongaps": false,
         "type": "heatmap",
         "x": [
          0,
          1,
          2,
          3,
          4,
          5,
          6,
          7
         ],
         "xaxis": "x10",
         "y": [
          "H",
          "G",
          "F",
          "E",
          "D",
          "C",
          "B",
          "A"
         ],
         "yaxis": "y10",
         "z": [
          [
           0.051662933081388474,
           -0.5146061182022095,
           -0.4717791676521301,
           -0.49708107113838196,
           -0.45832258462905884,
           -0.5070295929908752,
           -0.5022903680801392,
           -0.0059966216795146465
          ],
          [
           -0.5576832890510559,
           -0.26105546951293945,
           -0.2813531458377838,
           -0.2562480866909027,
           -0.2984437942504883,
           -0.2814558446407318,
           -0.035910896956920624,
           -0.09111035615205765
          ],
          [
           -0.5128029584884644,
           -0.3524084687232971,
           -0.3595704138278961,
           -0.24080641567707062,
           -0.3126111328601837,
           -0.2350613921880722,
           -0.008887168020009995,
           0.005551526788622141
          ],
          [
           -0.5066893696784973,
           -0.22920912504196167,
           -0.15003764629364014,
           -0.053805675357580185,
           0.03387368842959404,
           -0.18247564136981964,
           -0.00040531583363190293,
           0.03377775847911835
          ],
          [
           -0.39454057812690735,
           -0.2516317367553711,
           -0.22275684773921967,
           -0.05206402391195297,
           -0.021969767287373543,
           -0.08362598717212677,
           -0.05243842676281929,
           0.012566245160996914
          ],
          [
           -0.5023057460784912,
           -0.18856675922870636,
           -0.3267565369606018,
           -0.2574814260005951,
           0.018373528495430946,
           -0.07112959027290344,
           0.017628788948059082,
           0.001720927655696869
          ],
          [
           -0.5878003835678101,
           -0.31412413716316223,
           -0.06036723405122757,
           -0.008335360325872898,
           -0.03561192750930786,
           -0.012396867386996746,
           0.020725222304463387,
           0.038733772933483124
          ],
          [
           0.05997299402952194,
           -0.08967003226280212,
           -0.08702779561281204,
           -0.08268257975578308,
           -0.03415187448263168,
           -0.009398340247571468,
           0.0038900149520486593,
           0.021580690518021584
          ]
         ],
         "zmax": 0.6861146688461304,
         "zmin": -0.6861146688461304
        },
        {
         "colorscale": [
          [
           0,
           "rgb(103,0,31)"
          ],
          [
           0.1,
           "rgb(178,24,43)"
          ],
          [
           0.2,
           "rgb(214,96,77)"
          ],
          [
           0.3,
           "rgb(244,165,130)"
          ],
          [
           0.4,
           "rgb(253,219,199)"
          ],
          [
           0.5,
           "rgb(247,247,247)"
          ],
          [
           0.6,
           "rgb(209,229,240)"
          ],
          [
           0.7,
           "rgb(146,197,222)"
          ],
          [
           0.8,
           "rgb(67,147,195)"
          ],
          [
           0.9,
           "rgb(33,102,172)"
          ],
          [
           1,
           "rgb(5,48,97)"
          ]
         ],
         "hoverongaps": false,
         "type": "heatmap",
         "x": [
          0,
          1,
          2,
          3,
          4,
          5,
          6,
          7
         ],
         "xaxis": "x18",
         "y": [
          "H",
          "G",
          "F",
          "E",
          "D",
          "C",
          "B",
          "A"
         ],
         "yaxis": "y18",
         "z": [
          [
           -0.016358336433768272,
           -0.4865168631076813,
           -0.4551887810230255,
           -0.5101015567779541,
           -0.49541109800338745,
           -0.4572003185749054,
           -0.4719100296497345,
           -0.0018319361843168736
          ],
          [
           -0.3590944707393646,
           -0.4221056401729584,
           -0.47104936838150024,
           -0.4624980092048645,
           -0.4372723698616028,
           -0.3964671492576599,
           -0.4035937786102295,
           -0.013234022073447704
          ],
          [
           -0.05139254406094551,
           -0.4406934678554535,
           -0.4632137417793274,
           -0.3586665391921997,
           -0.3699934184551239,
           -0.36854615807533264,
           -0.355940043926239,
           -0.0226584579795599
          ],
          [
           -0.0056149628944695,
           -0.31520116329193115,
           -0.17773251235485077,
           -0.06669696420431137,
           -0.3774571716785431,
           -0.3557486832141876,
           -0.42587244510650635,
           -0.029952561482787132
          ],
          [
           -0.019873933866620064,
           0.022938884794712067,
           0.028175916522741318,
           0.016272250562906265,
           -0.46602076292037964,
           -0.38497689366340637,
           -0.4682654142379761,
           -0.044213779270648956
          ],
          [
           0.017592504620552063,
           0.005297068506479263,
           0.02065122500061989,
           -0.2883988320827484,
           -0.342814177274704,
           -0.42678549885749817,
           -0.43178680539131165,
           -0.18376894295215607
          ],
          [
           0.01653435453772545,
           -0.03591127693653107,
           -0.2557893991470337,
           -0.4569149613380432,
           -0.4824103116989136,
           -0.47250425815582275,
           -0.426161527633667,
           -0.05309274420142174
          ],
          [
           -0.009196512401103973,
           -0.31313493847846985,
           -0.3934142291545868,
           -0.41950762271881104,
           -0.4552616477012634,
           -0.5278477072715759,
           -0.2325480878353119,
           -0.018875068053603172
          ]
         ],
         "zmax": 0.6861146688461304,
         "zmin": -0.6861146688461304
        },
        {
         "colorscale": [
          [
           0,
           "rgb(103,0,31)"
          ],
          [
           0.1,
           "rgb(178,24,43)"
          ],
          [
           0.2,
           "rgb(214,96,77)"
          ],
          [
           0.3,
           "rgb(244,165,130)"
          ],
          [
           0.4,
           "rgb(253,219,199)"
          ],
          [
           0.5,
           "rgb(247,247,247)"
          ],
          [
           0.6,
           "rgb(209,229,240)"
          ],
          [
           0.7,
           "rgb(146,197,222)"
          ],
          [
           0.8,
           "rgb(67,147,195)"
          ],
          [
           0.9,
           "rgb(33,102,172)"
          ],
          [
           1,
           "rgb(5,48,97)"
          ]
         ],
         "hoverongaps": false,
         "type": "heatmap",
         "x": [
          0,
          1,
          2,
          3,
          4,
          5,
          6,
          7
         ],
         "xaxis": "x26",
         "y": [
          "H",
          "G",
          "F",
          "E",
          "D",
          "C",
          "B",
          "A"
         ],
         "yaxis": "y26",
         "z": [
          [
           0.019099058583378792,
           -0.0021479479037225246,
           0.0554889515042305,
           0.027942053973674774,
           0.002744469791650772,
           0.010227053426206112,
           0.0034115752205252647,
           -0.018441377207636833
          ],
          [
           -0.1573343575000763,
           -0.05608664080500603,
           -0.004083906300365925,
           -0.06721942871809006,
           -0.04119642451405525,
           -0.026982637122273445,
           0.010674819350242615,
           -0.017871148884296417
          ],
          [
           -0.15215106308460236,
           -0.43757808208465576,
           -0.45954298973083496,
           -0.3672896921634674,
           -0.21938590705394745,
           -0.12506800889968872,
           -0.0051854997873306274,
           0.024931391701102257
          ],
          [
           -0.2422632873058319,
           -0.5391458868980408,
           -0.4595642387866974,
           -0.5882096290588379,
           -0.10552364587783813,
           0.03828383609652519,
           0.0026783400680869818,
           0.026782378554344177
          ],
          [
           -0.4099476933479309,
           -0.4932456314563751,
           -0.413208931684494,
           -0.5663163661956787,
           0.0036199414171278477,
           0.002025103662163019,
           0.026147084310650826,
           -0.008926885202527046
          ],
          [
           -0.469392865896225,
           -0.5576717853546143,
           -0.4880722761154175,
           -0.5196309089660645,
           -0.09270187467336655,
           0.04318730905652046,
           -0.014596429653465748,
           0.01870635338127613
          ],
          [
           -0.431182861328125,
           -0.5339149236679077,
           -0.4868584871292114,
           -0.4474394619464874,
           -0.13671940565109253,
           0.012300563976168633,
           0.019321929663419724,
           0.017894282937049866
          ],
          [
           -0.030240722000598907,
           -0.33093830943107605,
           -0.15904907882213593,
           -0.06117396801710129,
           -0.02850094996392727,
           0.007480781525373459,
           -0.02165077067911625,
           0.0020154172088950872
          ]
         ],
         "zmax": 0.6861146688461304,
         "zmin": -0.6861146688461304
        },
        {
         "colorscale": [
          [
           0,
           "rgb(103,0,31)"
          ],
          [
           0.1,
           "rgb(178,24,43)"
          ],
          [
           0.2,
           "rgb(214,96,77)"
          ],
          [
           0.3,
           "rgb(244,165,130)"
          ],
          [
           0.4,
           "rgb(253,219,199)"
          ],
          [
           0.5,
           "rgb(247,247,247)"
          ],
          [
           0.6,
           "rgb(209,229,240)"
          ],
          [
           0.7,
           "rgb(146,197,222)"
          ],
          [
           0.8,
           "rgb(67,147,195)"
          ],
          [
           0.9,
           "rgb(33,102,172)"
          ],
          [
           1,
           "rgb(5,48,97)"
          ]
         ],
         "hoverongaps": false,
         "type": "heatmap",
         "x": [
          0,
          1,
          2,
          3,
          4,
          5,
          6,
          7
         ],
         "xaxis": "x34",
         "y": [
          "H",
          "G",
          "F",
          "E",
          "D",
          "C",
          "B",
          "A"
         ],
         "yaxis": "y34",
         "z": [
          [
           0.03338971361517906,
           -0.04336507245898247,
           -0.026868239045143127,
           -0.059359509497880936,
           -0.10003753006458282,
           -0.03272148221731186,
           -0.020078906789422035,
           -0.00888143666088581
          ],
          [
           -0.01676168106496334,
           -0.5528566837310791,
           -0.5144256949424744,
           -0.5811847448348999,
           -0.5224355459213257,
           -0.4664054811000824,
           -0.04489606246352196,
           0.028514955192804337
          ],
          [
           0.002420656383037567,
           -0.48535722494125366,
           -0.5244791507720947,
           -0.5073730945587158,
           -0.5242053270339966,
           -0.49298757314682007,
           -0.0018404029542580247,
           0.015024827793240547
          ],
          [
           0.0037645662669092417,
           -0.49287500977516174,
           -0.46612459421157837,
           -0.6400106549263,
           -0.6286863088607788,
           -0.39423230290412903,
           -0.006081672850996256,
           -0.0017915676580742002
          ],
          [
           0.010426145046949387,
           -0.23906630277633667,
           -0.42675676941871643,
           -0.6196351647377014,
           -0.5579482316970825,
           -0.5277417302131653,
           -0.18924039602279663,
           0.017326876521110535
          ],
          [
           -0.0005129848141223192,
           -0.07110629230737686,
           -0.4560364782810211,
           -0.4826829731464386,
           -0.5252850651741028,
           -0.4866715967655182,
           -0.5336346626281738,
           0.004623006097972393
          ],
          [
           0.003005275037139654,
           -0.01428899448364973,
           -0.17836344242095947,
           -0.5260362029075623,
           -0.5084420442581177,
           -0.48501846194267273,
           -0.4985724687576294,
           0.011930345557630062
          ],
          [
           0.011513425037264824,
           0.0015871472423896194,
           0.0031713200733065605,
           -0.012693246826529503,
           -0.04731234908103943,
           0.0009599817567504942,
           -0.015072428621351719,
           0.030376696959137917
          ]
         ],
         "zmax": 0.6861146688461304,
         "zmin": -0.6861146688461304
        },
        {
         "colorscale": [
          [
           0,
           "rgb(103,0,31)"
          ],
          [
           0.1,
           "rgb(178,24,43)"
          ],
          [
           0.2,
           "rgb(214,96,77)"
          ],
          [
           0.3,
           "rgb(244,165,130)"
          ],
          [
           0.4,
           "rgb(253,219,199)"
          ],
          [
           0.5,
           "rgb(247,247,247)"
          ],
          [
           0.6,
           "rgb(209,229,240)"
          ],
          [
           0.7,
           "rgb(146,197,222)"
          ],
          [
           0.8,
           "rgb(67,147,195)"
          ],
          [
           0.9,
           "rgb(33,102,172)"
          ],
          [
           1,
           "rgb(5,48,97)"
          ]
         ],
         "hoverongaps": false,
         "type": "heatmap",
         "x": [
          0,
          1,
          2,
          3,
          4,
          5,
          6,
          7
         ],
         "xaxis": "x42",
         "y": [
          "H",
          "G",
          "F",
          "E",
          "D",
          "C",
          "B",
          "A"
         ],
         "yaxis": "y42",
         "z": [
          [
           -0.021929817274212837,
           -0.00040055703721009195,
           -0.00770067423582077,
           -0.02479654923081398,
           -0.10713627934455872,
           -0.031271107494831085,
           -0.003498249687254429,
           -0.013538477942347527
          ],
          [
           -0.014093239791691303,
           0.4703353941440582,
           0.5965302586555481,
           0.4709746539592743,
           0.4484710097312927,
           0.4452088475227356,
           0.3387521505355835,
           0.029315641149878502
          ],
          [
           0.024211594834923744,
           0.49618053436279297,
           0.5366315245628357,
           0.5140559673309326,
           0.4994527995586395,
           0.48009636998176575,
           0.47597020864486694,
           -0.032498400658369064
          ],
          [
           0.026807792484760284,
           0.45947229862213135,
           0.4484585225582123,
           0.6297269463539124,
           0.6062939167022705,
           0.5487924814224243,
           0.43250054121017456,
           -0.14417903125286102
          ],
          [
           0.00671590119600296,
           0.4824439585208893,
           0.36921417713165283,
           0.5423420667648315,
           0.5914310216903687,
           0.509370744228363,
           0.4560461938381195,
           -0.019002946093678474
          ],
          [
           0.021343335509300232,
           0.35706281661987305,
           0.3044358193874359,
           0.41163772344589233,
           0.46973493695259094,
           0.5186624526977539,
           0.48869991302490234,
           -0.016474077478051186
          ],
          [
           -0.03632199391722679,
           0.15419040620326996,
           0.1638408899307251,
           0.25472983717918396,
           0.40440690517425537,
           0.5187660455703735,
           0.4010387659072876,
           0.016869179904460907
          ],
          [
           0.02388709783554077,
           0.02185104601085186,
           0.029971633106470108,
           0.027114108204841614,
           0.013440214097499847,
           0.019966434687376022,
           0.002054181881248951,
           0.017699893563985825
          ]
         ],
         "zmax": 0.6861146688461304,
         "zmin": -0.6861146688461304
        },
        {
         "colorscale": [
          [
           0,
           "rgb(103,0,31)"
          ],
          [
           0.1,
           "rgb(178,24,43)"
          ],
          [
           0.2,
           "rgb(214,96,77)"
          ],
          [
           0.3,
           "rgb(244,165,130)"
          ],
          [
           0.4,
           "rgb(253,219,199)"
          ],
          [
           0.5,
           "rgb(247,247,247)"
          ],
          [
           0.6,
           "rgb(209,229,240)"
          ],
          [
           0.7,
           "rgb(146,197,222)"
          ],
          [
           0.8,
           "rgb(67,147,195)"
          ],
          [
           0.9,
           "rgb(33,102,172)"
          ],
          [
           1,
           "rgb(5,48,97)"
          ]
         ],
         "hoverongaps": false,
         "type": "heatmap",
         "x": [
          0,
          1,
          2,
          3,
          4,
          5,
          6,
          7
         ],
         "xaxis": "x50",
         "y": [
          "H",
          "G",
          "F",
          "E",
          "D",
          "C",
          "B",
          "A"
         ],
         "yaxis": "y50",
         "z": [
          [
           0.008806651458144188,
           0.008130366913974285,
           0.04617652669548988,
           0.013744456693530083,
           0.014012840576469898,
           -0.012247354723513126,
           0.026248183101415634,
           0.004939318634569645
          ],
          [
           -0.0345563180744648,
           0.012015129439532757,
           0.031876686960458755,
           0.07903634011745453,
           0.047147512435913086,
           0.050260405987501144,
           0.056689128279685974,
           -0.012359573505818844
          ],
          [
           -0.021681737154722214,
           0.061804380267858505,
           0.03879852965474129,
           0.05741759017109871,
           0.18807590007781982,
           0.2930215299129486,
           0.3116084337234497,
           0.03467204049229622
          ],
          [
           -0.01068677008152008,
           0.0622512623667717,
           0.02387661300599575,
           0.23634302616119385,
           0.4022006094455719,
           0.425390362739563,
           0.38954997062683105,
           0.025083068758249283
          ],
          [
           0.006350140552967787,
           0.04011602699756622,
           0.0684131309390068,
           0.27711838483810425,
           0.5499053001403809,
           0.4852738380432129,
           0.3472365140914917,
           -0.010952369309961796
          ],
          [
           0.0188244991004467,
           0.03809957206249237,
           0.04966193437576294,
           0.13828857243061066,
           0.2641119658946991,
           0.41837403178215027,
           0.374386191368103,
           0.007534664589911699
          ],
          [
           -0.006324290297925472,
           0.01516131591051817,
           0.025157297030091286,
           0.08628088235855103,
           0.2739214599132538,
           0.29748788475990295,
           0.26830047369003296,
           0.0021531162783503532
          ],
          [
           -0.02230195701122284,
           0.026243405416607857,
           0.011997807770967484,
           0.023002492263913155,
           -0.04990261420607567,
           -0.021667851135134697,
           -0.01344161108136177,
           -0.024556051939725876
          ]
         ],
         "zmax": 0.6861146688461304,
         "zmin": -0.6861146688461304
        },
        {
         "colorscale": [
          [
           0,
           "rgb(103,0,31)"
          ],
          [
           0.1,
           "rgb(178,24,43)"
          ],
          [
           0.2,
           "rgb(214,96,77)"
          ],
          [
           0.3,
           "rgb(244,165,130)"
          ],
          [
           0.4,
           "rgb(253,219,199)"
          ],
          [
           0.5,
           "rgb(247,247,247)"
          ],
          [
           0.6,
           "rgb(209,229,240)"
          ],
          [
           0.7,
           "rgb(146,197,222)"
          ],
          [
           0.8,
           "rgb(67,147,195)"
          ],
          [
           0.9,
           "rgb(33,102,172)"
          ],
          [
           1,
           "rgb(5,48,97)"
          ]
         ],
         "hoverongaps": false,
         "type": "heatmap",
         "x": [
          0,
          1,
          2,
          3,
          4,
          5,
          6,
          7
         ],
         "xaxis": "x58",
         "y": [
          "H",
          "G",
          "F",
          "E",
          "D",
          "C",
          "B",
          "A"
         ],
         "yaxis": "y58",
         "z": [
          [
           0.03459709510207176,
           -0.06232013180851936,
           -0.061496518552303314,
           -0.06805872917175293,
           0.0029495353810489178,
           0.008761118166148663,
           -0.09605376422405243,
           -0.06080291047692299
          ],
          [
           -0.01730353571474552,
           -0.1758812814950943,
           -0.10908306390047073,
           -0.038034696131944656,
           -0.07288429886102676,
           -0.037045374512672424,
           -0.13517282903194427,
           -0.006127049680799246
          ],
          [
           -0.034387752413749695,
           -0.08727327734231949,
           -0.07265119254589081,
           -0.038563430309295654,
           -0.04021075740456581,
           -0.049251679331064224,
           -0.09202650934457779,
           -0.017249342054128647
          ],
          [
           -0.046019043773412704,
           -0.09276795387268066,
           0.021220309659838676,
           -0.0485517792403698,
           -0.003174099838361144,
           0.01852225884795189,
           -0.07595878094434738,
           -0.04687422513961792
          ],
          [
           -0.014640278182923794,
           -0.023965593427419662,
           0.04902547970414162,
           -0.03564516082406044,
           -0.001205510227009654,
           -0.03105042688548565,
           0.01746990717947483,
           -0.03883267194032669
          ],
          [
           -0.012846376746892929,
           -0.028023527935147285,
           -0.050743795931339264,
           -0.017268164083361626,
           0.015322345308959484,
           -0.08606446534395218,
           -0.08393765240907669,
           0.0016827009385451674
          ],
          [
           -0.014339982531964779,
           -0.13600796461105347,
           -0.013117950409650803,
           -0.009122656658291817,
           0.015698758885264397,
           0.024748368188738823,
           -0.10384178906679153,
           -0.015288020484149456
          ],
          [
           -0.05843531712889671,
           0.03394036367535591,
           -0.021836450323462486,
           -0.018342847004532814,
           -0.030731434002518654,
           -0.02573844976723194,
           -0.03807232156395912,
           -0.023610644042491913
          ]
         ],
         "zmax": 0.6861146688461304,
         "zmin": -0.6861146688461304
        },
        {
         "colorscale": [
          [
           0,
           "rgb(103,0,31)"
          ],
          [
           0.1,
           "rgb(178,24,43)"
          ],
          [
           0.2,
           "rgb(214,96,77)"
          ],
          [
           0.3,
           "rgb(244,165,130)"
          ],
          [
           0.4,
           "rgb(253,219,199)"
          ],
          [
           0.5,
           "rgb(247,247,247)"
          ],
          [
           0.6,
           "rgb(209,229,240)"
          ],
          [
           0.7,
           "rgb(146,197,222)"
          ],
          [
           0.8,
           "rgb(67,147,195)"
          ],
          [
           0.9,
           "rgb(33,102,172)"
          ],
          [
           1,
           "rgb(5,48,97)"
          ]
         ],
         "hoverongaps": false,
         "type": "heatmap",
         "x": [
          0,
          1,
          2,
          3,
          4,
          5,
          6,
          7
         ],
         "xaxis": "x3",
         "y": [
          "H",
          "G",
          "F",
          "E",
          "D",
          "C",
          "B",
          "A"
         ],
         "yaxis": "y3",
         "z": [
          [
           0,
           0,
           0,
           0,
           0,
           0,
           0,
           0
          ],
          [
           0,
           0,
           0,
           0,
           0,
           0,
           0,
           0
          ],
          [
           0,
           0,
           0,
           0,
           0,
           0,
           0,
           0
          ],
          [
           0,
           0,
           0,
           0,
           0,
           0,
           0,
           0
          ],
          [
           0,
           0,
           0,
           0,
           0,
           0,
           0,
           0
          ],
          [
           0,
           0,
           0,
           0,
           0,
           0,
           0,
           0
          ],
          [
           0,
           0,
           0,
           0,
           0,
           0,
           0,
           0
          ],
          [
           0,
           0,
           0,
           0,
           0,
           0,
           0,
           0
          ]
         ],
         "zmax": 0.6861146688461304,
         "zmin": -0.6861146688461304
        },
        {
         "colorscale": [
          [
           0,
           "rgb(103,0,31)"
          ],
          [
           0.1,
           "rgb(178,24,43)"
          ],
          [
           0.2,
           "rgb(214,96,77)"
          ],
          [
           0.3,
           "rgb(244,165,130)"
          ],
          [
           0.4,
           "rgb(253,219,199)"
          ],
          [
           0.5,
           "rgb(247,247,247)"
          ],
          [
           0.6,
           "rgb(209,229,240)"
          ],
          [
           0.7,
           "rgb(146,197,222)"
          ],
          [
           0.8,
           "rgb(67,147,195)"
          ],
          [
           0.9,
           "rgb(33,102,172)"
          ],
          [
           1,
           "rgb(5,48,97)"
          ]
         ],
         "hoverongaps": false,
         "type": "heatmap",
         "x": [
          0,
          1,
          2,
          3,
          4,
          5,
          6,
          7
         ],
         "xaxis": "x11",
         "y": [
          "H",
          "G",
          "F",
          "E",
          "D",
          "C",
          "B",
          "A"
         ],
         "yaxis": "y11",
         "z": [
          [
           -0.05701209977269173,
           -0.09550853818655014,
           -0.04846760258078575,
           -0.01470322348177433,
           -0.058525457978248596,
           -0.11260686069726944,
           -0.04138307645916939,
           0.01269045565277338
          ],
          [
           -0.295091450214386,
           -0.4444708228111267,
           -0.41837969422340393,
           -0.48230981826782227,
           -0.4116867482662201,
           -0.4088703691959381,
           -0.3347627520561218,
           -0.01805725134909153
          ],
          [
           -0.23189620673656464,
           -0.41154924035072327,
           -0.43027451634407043,
           -0.36040109395980835,
           -0.3525232672691345,
           -0.38211047649383545,
           -0.3524266481399536,
           -0.04304228723049164
          ],
          [
           -0.28552722930908203,
           -0.43596842885017395,
           -0.3504634201526642,
           -0.4461918771266937,
           -0.46666619181632996,
           -0.3783736526966095,
           -0.4360879063606262,
           -0.04504983127117157
          ],
          [
           -0.17937679588794708,
           -0.43460339307785034,
           -0.36822617053985596,
           -0.41963812708854675,
           -0.4769916832447052,
           -0.3385006785392761,
           -0.4223034083843231,
           -0.08789878338575363
          ],
          [
           -0.19915328919887543,
           -0.47677144408226013,
           -0.42567887902259827,
           -0.3942911624908447,
           -0.33173444867134094,
           -0.4000149071216583,
           -0.4310210049152374,
           -0.03157510980963707
          ],
          [
           -0.12815918028354645,
           -0.3984585106372833,
           -0.5117716193199158,
           -0.43460676074028015,
           -0.4101356565952301,
           -0.41684505343437195,
           -0.3563593029975891,
           -0.04309165105223656
          ],
          [
           -0.04983364790678024,
           -0.048174723982810974,
           -0.16739368438720703,
           -0.052644647657871246,
           -0.028423527255654335,
           -0.036352697759866714,
           -0.10877634584903717,
           -0.055324144661426544
          ]
         ],
         "zmax": 0.6861146688461304,
         "zmin": -0.6861146688461304
        },
        {
         "colorscale": [
          [
           0,
           "rgb(103,0,31)"
          ],
          [
           0.1,
           "rgb(178,24,43)"
          ],
          [
           0.2,
           "rgb(214,96,77)"
          ],
          [
           0.3,
           "rgb(244,165,130)"
          ],
          [
           0.4,
           "rgb(253,219,199)"
          ],
          [
           0.5,
           "rgb(247,247,247)"
          ],
          [
           0.6,
           "rgb(209,229,240)"
          ],
          [
           0.7,
           "rgb(146,197,222)"
          ],
          [
           0.8,
           "rgb(67,147,195)"
          ],
          [
           0.9,
           "rgb(33,102,172)"
          ],
          [
           1,
           "rgb(5,48,97)"
          ]
         ],
         "hoverongaps": false,
         "type": "heatmap",
         "x": [
          0,
          1,
          2,
          3,
          4,
          5,
          6,
          7
         ],
         "xaxis": "x19",
         "y": [
          "H",
          "G",
          "F",
          "E",
          "D",
          "C",
          "B",
          "A"
         ],
         "yaxis": "y19",
         "z": [
          [
           0.0018890497740358114,
           0.34553128480911255,
           0.4030821621417999,
           0.46756672859191895,
           0.5072410702705383,
           0.4541410505771637,
           0.21801616251468658,
           -0.09795605391263962
          ],
          [
           0.3418172001838684,
           0.025688592344522476,
           0.13212355971336365,
           0.44600123167037964,
           0.423272043466568,
           0.3681860864162445,
           0.42729002237319946,
           0.15730860829353333
          ],
          [
           0.3336426019668579,
           0.011141491122543812,
           0.1157527044415474,
           0.38716432452201843,
           0.4017697870731354,
           0.33681055903434753,
           0.31163230538368225,
           0.339683473110199
          ],
          [
           0.36945948004722595,
           0.01417373027652502,
           0.11921199411153793,
           0.5746179819107056,
           0.606542706489563,
           0.3560486137866974,
           0.44032636284828186,
           0.4457565248012543
          ],
          [
           0.30247974395751953,
           0.022583920508623123,
           0.27567312121391296,
           0.4974559545516968,
           0.6030547618865967,
           0.4021059274673462,
           0.5000640749931335,
           0.4510606527328491
          ],
          [
           0.29538246989250183,
           -0.005575269926339388,
           0.2337692528963089,
           0.3251590430736542,
           0.33067113161087036,
           0.4319539964199066,
           0.3619459569454193,
           0.40139973163604736
          ],
          [
           0.3657413721084595,
           -0.007604311220347881,
           0.09955690056085587,
           0.25943857431411743,
           0.07564232498407364,
           0.11305530369281769,
           0.025576449930667877,
           0.388616681098938
          ],
          [
           -0.03672409802675247,
           0.18299344182014465,
           0.29092326760292053,
           0.2734818160533905,
           0.32663145661354065,
           0.25156521797180176,
           0.3826070725917816,
           -0.05256503075361252
          ]
         ],
         "zmax": 0.6861146688461304,
         "zmin": -0.6861146688461304
        },
        {
         "colorscale": [
          [
           0,
           "rgb(103,0,31)"
          ],
          [
           0.1,
           "rgb(178,24,43)"
          ],
          [
           0.2,
           "rgb(214,96,77)"
          ],
          [
           0.3,
           "rgb(244,165,130)"
          ],
          [
           0.4,
           "rgb(253,219,199)"
          ],
          [
           0.5,
           "rgb(247,247,247)"
          ],
          [
           0.6,
           "rgb(209,229,240)"
          ],
          [
           0.7,
           "rgb(146,197,222)"
          ],
          [
           0.8,
           "rgb(67,147,195)"
          ],
          [
           0.9,
           "rgb(33,102,172)"
          ],
          [
           1,
           "rgb(5,48,97)"
          ]
         ],
         "hoverongaps": false,
         "type": "heatmap",
         "x": [
          0,
          1,
          2,
          3,
          4,
          5,
          6,
          7
         ],
         "xaxis": "x27",
         "y": [
          "H",
          "G",
          "F",
          "E",
          "D",
          "C",
          "B",
          "A"
         ],
         "yaxis": "y27",
         "z": [
          [
           -0.05026118457317352,
           -0.4617812931537628,
           -0.470538854598999,
           -0.5474392771720886,
           -0.47908666729927063,
           -0.338735967874527,
           -0.4409544765949249,
           0.011965916492044926
          ],
          [
           -0.055805008858442307,
           -0.5393502712249756,
           -0.5392211079597473,
           -0.4946935176849365,
           -0.5181261301040649,
           -0.37595438957214355,
           -0.0446423701941967,
           -0.05851832777261734
          ],
          [
           -0.053425949066877365,
           -0.5440097451210022,
           -0.5798772573471069,
           -0.42108362913131714,
           -0.437134712934494,
           -0.19873327016830444,
           -0.04995325952768326,
           -0.018442925065755844
          ],
          [
           0.01799134723842144,
           -0.4209499657154083,
           -0.4786646068096161,
           -0.5857318639755249,
           -0.25677698850631714,
           -0.0543057918548584,
           0.03931938111782074,
           -0.05425642803311348
          ],
          [
           -0.05001123622059822,
           -0.10093289613723755,
           -0.3368605971336365,
           -0.23364153504371643,
           -0.1362089365720749,
           -0.042267780750989914,
           -0.023422405123710632,
           -0.014283052645623684
          ],
          [
           0.0005894057685509324,
           -0.09472281485795975,
           -0.040140584111213684,
           -0.057861849665641785,
           0.013541384600102901,
           0.0010788645595312119,
           -0.008556012995541096,
           0.004962205421179533
          ],
          [
           -0.006674296222627163,
           -0.024541372433304787,
           0.007240794133394957,
           0.03085954859852791,
           -0.0009143447387032211,
           0.04725261405110359,
           0.021507836878299713,
           0.019897913560271263
          ],
          [
           -0.017411552369594574,
           -0.009851347655057907,
           -0.004256867803633213,
           -0.03754957765340805,
           -0.0264520812779665,
           -0.00582284526899457,
           -0.022937672212719917,
           -0.005405569914728403
          ]
         ],
         "zmax": 0.6861146688461304,
         "zmin": -0.6861146688461304
        },
        {
         "colorscale": [
          [
           0,
           "rgb(103,0,31)"
          ],
          [
           0.1,
           "rgb(178,24,43)"
          ],
          [
           0.2,
           "rgb(214,96,77)"
          ],
          [
           0.3,
           "rgb(244,165,130)"
          ],
          [
           0.4,
           "rgb(253,219,199)"
          ],
          [
           0.5,
           "rgb(247,247,247)"
          ],
          [
           0.6,
           "rgb(209,229,240)"
          ],
          [
           0.7,
           "rgb(146,197,222)"
          ],
          [
           0.8,
           "rgb(67,147,195)"
          ],
          [
           0.9,
           "rgb(33,102,172)"
          ],
          [
           1,
           "rgb(5,48,97)"
          ]
         ],
         "hoverongaps": false,
         "type": "heatmap",
         "x": [
          0,
          1,
          2,
          3,
          4,
          5,
          6,
          7
         ],
         "xaxis": "x35",
         "y": [
          "H",
          "G",
          "F",
          "E",
          "D",
          "C",
          "B",
          "A"
         ],
         "yaxis": "y35",
         "z": [
          [
           0.032269857823848724,
           0.045374684035778046,
           -0.02296782284975052,
           -0.013430623337626457,
           -0.025032412260770798,
           0.020747730508446693,
           -0.05873517692089081,
           0.014887895435094833
          ],
          [
           -0.007930158637464046,
           -0.007323935627937317,
           -0.018097516149282455,
           -0.009836592711508274,
           0.04152235761284828,
           -0.007992444559931755,
           -0.052032001316547394,
           -0.04914506897330284
          ],
          [
           -0.0013725851895287633,
           -0.0010044248774647713,
           -0.11147311329841614,
           0.007785005494952202,
           -0.06762202084064484,
           -0.06410373002290726,
           -0.3499743342399597,
           -0.09589574486017227
          ],
          [
           -0.0031935181468725204,
           -0.009280707687139511,
           0.01592099852859974,
           -0.5463342070579529,
           -0.533674418926239,
           -0.542670488357544,
           -0.5730844736099243,
           -0.10026367753744125
          ],
          [
           -0.017281880602240562,
           0.01970892772078514,
           -0.2737581729888916,
           -0.4189181625843048,
           -0.5840654373168945,
           -0.5688472390174866,
           -0.5494371652603149,
           -0.15196935832500458
          ],
          [
           0.005981951020658016,
           -0.014334646053612232,
           -0.042503952980041504,
           -0.5290321707725525,
           -0.4980412721633911,
           -0.5524265766143799,
           -0.543894350528717,
           -0.24891328811645508
          ],
          [
           0.01869567111134529,
           0.006633836310356855,
           -0.24352052807807922,
           -0.4941635727882385,
           -0.5485839247703552,
           -0.4649050831794739,
           -0.4919362962245941,
           -0.0625935047864914
          ],
          [
           -0.0029188417829573154,
           -0.08053091913461685,
           -0.06330249458551407,
           -0.029241176322102547,
           -0.07225379347801208,
           -0.07701213657855988,
           -0.1369558423757553,
           0.05055883899331093
          ]
         ],
         "zmax": 0.6861146688461304,
         "zmin": -0.6861146688461304
        },
        {
         "colorscale": [
          [
           0,
           "rgb(103,0,31)"
          ],
          [
           0.1,
           "rgb(178,24,43)"
          ],
          [
           0.2,
           "rgb(214,96,77)"
          ],
          [
           0.3,
           "rgb(244,165,130)"
          ],
          [
           0.4,
           "rgb(253,219,199)"
          ],
          [
           0.5,
           "rgb(247,247,247)"
          ],
          [
           0.6,
           "rgb(209,229,240)"
          ],
          [
           0.7,
           "rgb(146,197,222)"
          ],
          [
           0.8,
           "rgb(67,147,195)"
          ],
          [
           0.9,
           "rgb(33,102,172)"
          ],
          [
           1,
           "rgb(5,48,97)"
          ]
         ],
         "hoverongaps": false,
         "type": "heatmap",
         "x": [
          0,
          1,
          2,
          3,
          4,
          5,
          6,
          7
         ],
         "xaxis": "x43",
         "y": [
          "H",
          "G",
          "F",
          "E",
          "D",
          "C",
          "B",
          "A"
         ],
         "yaxis": "y43",
         "z": [
          [
           -0.04305177554488182,
           0.10765768587589264,
           0.073419488966465,
           -0.0009378614486195147,
           0.02018178068101406,
           0.019551431760191917,
           0.004373711068183184,
           -0.006097111850976944
          ],
          [
           0.03087477758526802,
           0.39242395758628845,
           0.4717194139957428,
           0.4320961833000183,
           0.46564000844955444,
           0.3598751723766327,
           0.09187375754117966,
           -0.050323087722063065
          ],
          [
           0.020279858261346817,
           0.41043373942375183,
           0.46421653032302856,
           0.45498427748680115,
           0.4591180682182312,
           0.36193108558654785,
           0.067252978682518,
           -0.028994202613830566
          ],
          [
           -0.027493257075548172,
           0.4178406894207001,
           0.4199743866920471,
           0.540009617805481,
           0.566114068031311,
           0.16208714246749878,
           -0.0159612949937582,
           -0.03422935679554939
          ],
          [
           0.015089943073689938,
           0.4852655231952667,
           0.4355430603027344,
           0.5461080074310303,
           0.5513591170310974,
           0.05790027976036072,
           -0.039899952709674835,
           -0.012625101953744888
          ],
          [
           -0.02050483226776123,
           0.42097368836402893,
           0.5221767425537109,
           0.5053379535675049,
           0.40512946248054504,
           -0.016365792602300644,
           -0.010213074274361134,
           -0.025163641199469566
          ],
          [
           -0.0007142741815187037,
           0.4705168604850769,
           0.4207078814506531,
           0.4936887323856354,
           0.33350566029548645,
           0.04742049425840378,
           -0.009796956554055214,
           0.00839773379266262
          ],
          [
           -0.025684645399451256,
           -0.025014445185661316,
           0.008020793087780476,
           0.011730708181858063,
           0.02522810362279415,
           -0.01743871159851551,
           0.016409745439887047,
           0.010935820639133453
          ]
         ],
         "zmax": 0.6861146688461304,
         "zmin": -0.6861146688461304
        },
        {
         "colorscale": [
          [
           0,
           "rgb(103,0,31)"
          ],
          [
           0.1,
           "rgb(178,24,43)"
          ],
          [
           0.2,
           "rgb(214,96,77)"
          ],
          [
           0.3,
           "rgb(244,165,130)"
          ],
          [
           0.4,
           "rgb(253,219,199)"
          ],
          [
           0.5,
           "rgb(247,247,247)"
          ],
          [
           0.6,
           "rgb(209,229,240)"
          ],
          [
           0.7,
           "rgb(146,197,222)"
          ],
          [
           0.8,
           "rgb(67,147,195)"
          ],
          [
           0.9,
           "rgb(33,102,172)"
          ],
          [
           1,
           "rgb(5,48,97)"
          ]
         ],
         "hoverongaps": false,
         "type": "heatmap",
         "x": [
          0,
          1,
          2,
          3,
          4,
          5,
          6,
          7
         ],
         "xaxis": "x51",
         "y": [
          "H",
          "G",
          "F",
          "E",
          "D",
          "C",
          "B",
          "A"
         ],
         "yaxis": "y51",
         "z": [
          [
           -0.017983099445700645,
           -0.04093755781650543,
           -0.016368741169571877,
           0.01642325147986412,
           -0.029388427734375,
           -0.004460182040929794,
           -0.025916481390595436,
           0.00892837718129158
          ],
          [
           -0.020213834941387177,
           -0.20423190295696259,
           -0.41228121519088745,
           -0.3957076966762543,
           -0.30388131737709045,
           -0.14573153853416443,
           -0.03730491176247597,
           -0.017205597832798958
          ],
          [
           -0.028368430212140083,
           -0.3613436222076416,
           -0.48109617829322815,
           -0.3712722659111023,
           -0.366015762090683,
           -0.24063552916049957,
           -0.022724751383066177,
           0.002815896412357688
          ],
          [
           -0.02096785418689251,
           -0.4424198567867279,
           -0.37007325887680054,
           -0.5549166202545166,
           -0.5025707483291626,
           -0.3072807490825653,
           0.0052855359390378,
           0.017824184149503708
          ],
          [
           0.028559334576129913,
           -0.37590643763542175,
           -0.39644473791122437,
           -0.5204246640205383,
           -0.49936333298683167,
           -0.26856109499931335,
           -0.00026704766787588596,
           -0.012696495279669762
          ],
          [
           -0.04613494873046875,
           -0.38147541880607605,
           -0.3992271423339844,
           -0.4258113205432892,
           -0.25987422466278076,
           -0.1096041277050972,
           0.004171670414507389,
           -0.023609032854437828
          ],
          [
           -0.041063737124204636,
           -0.11789942532777786,
           -0.2796328663825989,
           -0.3019789159297943,
           -0.1500939428806305,
           -0.03430403023958206,
           -0.03768192231655121,
           -0.015352885238826275
          ],
          [
           -0.0035520289093255997,
           -0.037216607481241226,
           -0.005885616410523653,
           0.029413528740406036,
           0.009232781827449799,
           -0.004433836787939072,
           -0.005631969776004553,
           -0.00887511670589447
          ]
         ],
         "zmax": 0.6861146688461304,
         "zmin": -0.6861146688461304
        },
        {
         "colorscale": [
          [
           0,
           "rgb(103,0,31)"
          ],
          [
           0.1,
           "rgb(178,24,43)"
          ],
          [
           0.2,
           "rgb(214,96,77)"
          ],
          [
           0.3,
           "rgb(244,165,130)"
          ],
          [
           0.4,
           "rgb(253,219,199)"
          ],
          [
           0.5,
           "rgb(247,247,247)"
          ],
          [
           0.6,
           "rgb(209,229,240)"
          ],
          [
           0.7,
           "rgb(146,197,222)"
          ],
          [
           0.8,
           "rgb(67,147,195)"
          ],
          [
           0.9,
           "rgb(33,102,172)"
          ],
          [
           1,
           "rgb(5,48,97)"
          ]
         ],
         "hoverongaps": false,
         "type": "heatmap",
         "x": [
          0,
          1,
          2,
          3,
          4,
          5,
          6,
          7
         ],
         "xaxis": "x59",
         "y": [
          "H",
          "G",
          "F",
          "E",
          "D",
          "C",
          "B",
          "A"
         ],
         "yaxis": "y59",
         "z": [
          [
           -0.04694606736302376,
           -0.032921236008405685,
           -0.05264829471707344,
           -0.06612800061702728,
           -0.10774742811918259,
           -0.04478517547249794,
           -0.08905702829360962,
           -0.11883198469877243
          ],
          [
           -0.03973189368844032,
           -0.05713643506169319,
           0.02166636660695076,
           0.008747700601816177,
           -0.03481804206967354,
           0.01611989550292492,
           0.0015965171623975039,
           -0.08115970343351364
          ],
          [
           -0.021172551438212395,
           -0.03675103560090065,
           -0.00757230119779706,
           0.025140397250652313,
           -0.17683258652687073,
           -0.13253067433834076,
           0.03806452825665474,
           -0.04599780961871147
          ],
          [
           0.0016821689205244184,
           -0.0015465155011042953,
           -0.04121023789048195,
           0.01206990610808134,
           -0.3055917024612427,
           -0.15592257678508759,
           -0.07494837045669556,
           -0.031722743064165115
          ],
          [
           -0.021312832832336426,
           -0.03797639533877373,
           -0.1234528124332428,
           -0.15340325236320496,
           -0.006660149898380041,
           -0.17423592507839203,
           -0.06670857965946198,
           -0.08750948309898376
          ],
          [
           -0.030130278319120407,
           -0.035623542964458466,
           -0.11773577332496643,
           -0.10829813033342361,
           0.02694849483668804,
           0.046785250306129456,
           -0.07203582674264908,
           -0.09381449967622757
          ],
          [
           -0.053653594106435776,
           -0.08580120652914047,
           -0.04718855395913124,
           -0.044562410563230515,
           -0.03424105420708656,
           -0.026121584698557854,
           -0.10119998455047607,
           -0.07799924910068512
          ],
          [
           -0.078282929956913,
           -0.044708799570798874,
           -0.03870007395744324,
           -0.06842435151338577,
           -0.03817491605877876,
           -0.05788480117917061,
           -0.07220526784658432,
           -0.09957623481750488
          ]
         ],
         "zmax": 0.6861146688461304,
         "zmin": -0.6861146688461304
        },
        {
         "colorscale": [
          [
           0,
           "rgb(103,0,31)"
          ],
          [
           0.1,
           "rgb(178,24,43)"
          ],
          [
           0.2,
           "rgb(214,96,77)"
          ],
          [
           0.3,
           "rgb(244,165,130)"
          ],
          [
           0.4,
           "rgb(253,219,199)"
          ],
          [
           0.5,
           "rgb(247,247,247)"
          ],
          [
           0.6,
           "rgb(209,229,240)"
          ],
          [
           0.7,
           "rgb(146,197,222)"
          ],
          [
           0.8,
           "rgb(67,147,195)"
          ],
          [
           0.9,
           "rgb(33,102,172)"
          ],
          [
           1,
           "rgb(5,48,97)"
          ]
         ],
         "hoverongaps": false,
         "type": "heatmap",
         "x": [
          0,
          1,
          2,
          3,
          4,
          5,
          6,
          7
         ],
         "xaxis": "x4",
         "y": [
          "H",
          "G",
          "F",
          "E",
          "D",
          "C",
          "B",
          "A"
         ],
         "yaxis": "y4",
         "z": [
          [
           0,
           0,
           0,
           0,
           0,
           0,
           0,
           0
          ],
          [
           0,
           0,
           0,
           0,
           0,
           0,
           0,
           0
          ],
          [
           0,
           0,
           0,
           0,
           0,
           0,
           0,
           0
          ],
          [
           0,
           0,
           0,
           0,
           0,
           0,
           0,
           0
          ],
          [
           0,
           0,
           0,
           0,
           0,
           0,
           0,
           0
          ],
          [
           0,
           0,
           0,
           0,
           0,
           0,
           0,
           0
          ],
          [
           0,
           0,
           0,
           0,
           0,
           0,
           0,
           0
          ],
          [
           0,
           0,
           0,
           0,
           0,
           0,
           0,
           0
          ]
         ],
         "zmax": 0.6861146688461304,
         "zmin": -0.6861146688461304
        },
        {
         "colorscale": [
          [
           0,
           "rgb(103,0,31)"
          ],
          [
           0.1,
           "rgb(178,24,43)"
          ],
          [
           0.2,
           "rgb(214,96,77)"
          ],
          [
           0.3,
           "rgb(244,165,130)"
          ],
          [
           0.4,
           "rgb(253,219,199)"
          ],
          [
           0.5,
           "rgb(247,247,247)"
          ],
          [
           0.6,
           "rgb(209,229,240)"
          ],
          [
           0.7,
           "rgb(146,197,222)"
          ],
          [
           0.8,
           "rgb(67,147,195)"
          ],
          [
           0.9,
           "rgb(33,102,172)"
          ],
          [
           1,
           "rgb(5,48,97)"
          ]
         ],
         "hoverongaps": false,
         "type": "heatmap",
         "x": [
          0,
          1,
          2,
          3,
          4,
          5,
          6,
          7
         ],
         "xaxis": "x12",
         "y": [
          "H",
          "G",
          "F",
          "E",
          "D",
          "C",
          "B",
          "A"
         ],
         "yaxis": "y12",
         "z": [
          [
           0.011907152831554413,
           -0.3486359715461731,
           -0.38983550667762756,
           -0.3794562518596649,
           -0.501876950263977,
           -0.3531063497066498,
           -0.44980868697166443,
           -0.05878421664237976
          ],
          [
           -0.06671173870563507,
           -0.20378930866718292,
           -0.27100297808647156,
           -0.33898311853408813,
           -0.358856201171875,
           -0.3879951238632202,
           -0.3975785970687866,
           -0.4188211262226105
          ],
          [
           -0.09917081892490387,
           -0.277737021446228,
           -0.42689406871795654,
           -0.39380118250846863,
           -0.42656171321868896,
           -0.42656344175338745,
           -0.3697143495082855,
           -0.3756061792373657
          ],
          [
           -0.023797035217285156,
           -0.29392850399017334,
           -0.35477590560913086,
           -0.5486709475517273,
           -0.529970109462738,
           -0.4372049570083618,
           -0.30062901973724365,
           -0.3480296730995178
          ],
          [
           -0.011557276360690594,
           -0.33708620071411133,
           -0.4204941689968109,
           -0.5291169881820679,
           -0.5645837783813477,
           -0.35225194692611694,
           -0.30205705761909485,
           -0.3618716895580292
          ],
          [
           -0.17114213109016418,
           -0.3505413830280304,
           -0.4427911043167114,
           -0.4334416091442108,
           -0.3325776159763336,
           -0.3847568929195404,
           -0.309482216835022,
           -0.39676228165626526
          ],
          [
           -0.26371344923973083,
           -0.3429948389530182,
           -0.39895814657211304,
           -0.4033564329147339,
           -0.3735191524028778,
           -0.28747597336769104,
           -0.35867607593536377,
           -0.48520535230636597
          ],
          [
           -0.010824665427207947,
           -0.5292123556137085,
           -0.547870934009552,
           -0.4836629629135132,
           -0.543835461139679,
           -0.5618599057197571,
           -0.5673174858093262,
           -0.006537213455885649
          ]
         ],
         "zmax": 0.6861146688461304,
         "zmin": -0.6861146688461304
        },
        {
         "colorscale": [
          [
           0,
           "rgb(103,0,31)"
          ],
          [
           0.1,
           "rgb(178,24,43)"
          ],
          [
           0.2,
           "rgb(214,96,77)"
          ],
          [
           0.3,
           "rgb(244,165,130)"
          ],
          [
           0.4,
           "rgb(253,219,199)"
          ],
          [
           0.5,
           "rgb(247,247,247)"
          ],
          [
           0.6,
           "rgb(209,229,240)"
          ],
          [
           0.7,
           "rgb(146,197,222)"
          ],
          [
           0.8,
           "rgb(67,147,195)"
          ],
          [
           0.9,
           "rgb(33,102,172)"
          ],
          [
           1,
           "rgb(5,48,97)"
          ]
         ],
         "hoverongaps": false,
         "type": "heatmap",
         "x": [
          0,
          1,
          2,
          3,
          4,
          5,
          6,
          7
         ],
         "xaxis": "x20",
         "y": [
          "H",
          "G",
          "F",
          "E",
          "D",
          "C",
          "B",
          "A"
         ],
         "yaxis": "y20",
         "z": [
          [
           0.01617051102221012,
           -0.0038682185113430023,
           0.00035114833735860884,
           0.0206820759922266,
           0.016748161986470222,
           -0.003645094810053706,
           0.008240241557359695,
           -0.005503578577190638
          ],
          [
           0.037682004272937775,
           0.020170021802186966,
           -0.06198243051767349,
           -0.2867935001850128,
           -0.35374361276626587,
           -0.3055548667907715,
           -0.2925732731819153,
           -0.15599912405014038
          ],
          [
           0.012909578159451485,
           0.02801482565701008,
           -0.04139140248298645,
           -0.33706703782081604,
           -0.35706377029418945,
           -0.36157187819480896,
           -0.3257632553577423,
           -0.3568150997161865
          ],
          [
           0.01573488675057888,
           0.023304354399442673,
           -0.24631904065608978,
           -0.5936594605445862,
           -0.5729655027389526,
           -0.4011024236679077,
           -0.4406292140483856,
           -0.40505731105804443
          ],
          [
           -0.021881667897105217,
           -0.033498361706733704,
           -0.3770417869091034,
           -0.5765995383262634,
           -0.54459547996521,
           -0.3711213171482086,
           -0.528652548789978,
           -0.5069557428359985
          ],
          [
           0.006544990465044975,
           -0.18106709420681,
           -0.45166531205177307,
           -0.48523545265197754,
           -0.3674490451812744,
           -0.4373948276042938,
           -0.4625330865383148,
           -0.41717126965522766
          ],
          [
           0.014388659037649632,
           -0.09494829922914505,
           -0.42838311195373535,
           -0.42248275876045227,
           -0.3965902626514435,
           -0.4183958172798157,
           -0.43347933888435364,
           -0.44806230068206787
          ],
          [
           0.0025886204093694687,
           -0.035439006984233856,
           -0.00963448453694582,
           -0.07250875979661942,
           -0.05381012707948685,
           -0.11987198144197464,
           -0.23278170824050903,
           -0.04569604620337486
          ]
         ],
         "zmax": 0.6861146688461304,
         "zmin": -0.6861146688461304
        },
        {
         "colorscale": [
          [
           0,
           "rgb(103,0,31)"
          ],
          [
           0.1,
           "rgb(178,24,43)"
          ],
          [
           0.2,
           "rgb(214,96,77)"
          ],
          [
           0.3,
           "rgb(244,165,130)"
          ],
          [
           0.4,
           "rgb(253,219,199)"
          ],
          [
           0.5,
           "rgb(247,247,247)"
          ],
          [
           0.6,
           "rgb(209,229,240)"
          ],
          [
           0.7,
           "rgb(146,197,222)"
          ],
          [
           0.8,
           "rgb(67,147,195)"
          ],
          [
           0.9,
           "rgb(33,102,172)"
          ],
          [
           1,
           "rgb(5,48,97)"
          ]
         ],
         "hoverongaps": false,
         "type": "heatmap",
         "x": [
          0,
          1,
          2,
          3,
          4,
          5,
          6,
          7
         ],
         "xaxis": "x28",
         "y": [
          "H",
          "G",
          "F",
          "E",
          "D",
          "C",
          "B",
          "A"
         ],
         "yaxis": "y28",
         "z": [
          [
           -0.015734374523162842,
           -0.03389784321188927,
           -0.09686970710754395,
           -0.1650424748659134,
           -0.12822066247463226,
           -0.09855864197015762,
           -0.31137117743492126,
           -0.02334156446158886
          ],
          [
           0.014382368884980679,
           -0.08455339074134827,
           -0.20963358879089355,
           -0.42424583435058594,
           -0.5178298354148865,
           -0.4405170977115631,
           -0.5061554908752441,
           -0.10623176395893097
          ],
          [
           -0.03427654132246971,
           -0.09314250946044922,
           -0.10251232236623764,
           -0.14324966073036194,
           -0.28185978531837463,
           -0.4529629349708557,
           -0.5207563638687134,
           -0.12158512324094772
          ],
          [
           0.00048394507030025125,
           -0.12215441465377808,
           -0.32931840419769287,
           0.053751859813928604,
           0.08854644745588303,
           -0.06863482296466827,
           -0.3719763159751892,
           -0.18902051448822021
          ],
          [
           -0.033597107976675034,
           -0.3567561209201813,
           -0.375078946352005,
           -0.24956175684928894,
           0.0170820951461792,
           -0.30416712164878845,
           -0.4538428485393524,
           -0.22239843010902405
          ],
          [
           -0.03111923672258854,
           -0.14351345598697662,
           -0.5097633600234985,
           -0.4927695691585541,
           -0.46390455961227417,
           -0.5261774063110352,
           -0.5217430591583252,
           -0.31779277324676514
          ],
          [
           -0.011424384079873562,
           -0.20448698103427887,
           -0.4287749230861664,
           -0.5417963266372681,
           -0.5788239240646362,
           -0.5011053085327148,
           -0.4570126533508301,
           -0.3619178831577301
          ],
          [
           0.006030242890119553,
           -0.23277753591537476,
           -0.4909983277320862,
           -0.3804713189601898,
           -0.46470826864242554,
           -0.4843788743019104,
           -0.6116310358047485,
           -0.06266055256128311
          ]
         ],
         "zmax": 0.6861146688461304,
         "zmin": -0.6861146688461304
        },
        {
         "colorscale": [
          [
           0,
           "rgb(103,0,31)"
          ],
          [
           0.1,
           "rgb(178,24,43)"
          ],
          [
           0.2,
           "rgb(214,96,77)"
          ],
          [
           0.3,
           "rgb(244,165,130)"
          ],
          [
           0.4,
           "rgb(253,219,199)"
          ],
          [
           0.5,
           "rgb(247,247,247)"
          ],
          [
           0.6,
           "rgb(209,229,240)"
          ],
          [
           0.7,
           "rgb(146,197,222)"
          ],
          [
           0.8,
           "rgb(67,147,195)"
          ],
          [
           0.9,
           "rgb(33,102,172)"
          ],
          [
           1,
           "rgb(5,48,97)"
          ]
         ],
         "hoverongaps": false,
         "type": "heatmap",
         "x": [
          0,
          1,
          2,
          3,
          4,
          5,
          6,
          7
         ],
         "xaxis": "x36",
         "y": [
          "H",
          "G",
          "F",
          "E",
          "D",
          "C",
          "B",
          "A"
         ],
         "yaxis": "y36",
         "z": [
          [
           0.014642481692135334,
           -0.006111614406108856,
           0.015491701662540436,
           -0.05283399298787117,
           -0.053586445748806,
           0.0007721083820797503,
           -0.027721652761101723,
           0.03588790073990822
          ],
          [
           -0.0015703904209658504,
           -0.0026768329553306103,
           -0.029353130608797073,
           0.005975572858005762,
           0.016200745478272438,
           0.025191934779286385,
           0.013493443839251995,
           0.027022330090403557
          ],
          [
           -0.019121207296848297,
           -0.31230372190475464,
           -0.04068022221326828,
           -0.03322339057922363,
           0.004422727972269058,
           0.003889829386025667,
           -0.009121312759816647,
           -0.015904774889349937
          ],
          [
           -0.03189224377274513,
           -0.48602330684661865,
           -0.4536745548248291,
           -0.4722750782966614,
           -0.4050036370754242,
           -0.004499335773289204,
           0.014360185712575912,
           0.012343509122729301
          ],
          [
           -0.10397478193044662,
           -0.5735477805137634,
           -0.5399526357650757,
           -0.5675889849662781,
           -0.5786740183830261,
           -0.20575453341007233,
           -0.0016845832578837872,
           0.03585479408502579
          ],
          [
           -0.07669658213853836,
           -0.5976599454879761,
           -0.5030010938644409,
           -0.5457345843315125,
           -0.4926057457923889,
           -0.41084280610084534,
           -0.05026116967201233,
           0.04401634261012077
          ],
          [
           -0.08545656502246857,
           -0.49431610107421875,
           -0.549877405166626,
           -0.5502217411994934,
           -0.510171115398407,
           -0.47934722900390625,
           -0.28734588623046875,
           0.033436425030231476
          ],
          [
           -0.0006849018973298371,
           -0.15783575177192688,
           -0.25862905383110046,
           -0.27786383032798767,
           -0.1629694104194641,
           -0.12570685148239136,
           -0.07030420005321503,
           -0.0034482558257877827
          ]
         ],
         "zmax": 0.6861146688461304,
         "zmin": -0.6861146688461304
        },
        {
         "colorscale": [
          [
           0,
           "rgb(103,0,31)"
          ],
          [
           0.1,
           "rgb(178,24,43)"
          ],
          [
           0.2,
           "rgb(214,96,77)"
          ],
          [
           0.3,
           "rgb(244,165,130)"
          ],
          [
           0.4,
           "rgb(253,219,199)"
          ],
          [
           0.5,
           "rgb(247,247,247)"
          ],
          [
           0.6,
           "rgb(209,229,240)"
          ],
          [
           0.7,
           "rgb(146,197,222)"
          ],
          [
           0.8,
           "rgb(67,147,195)"
          ],
          [
           0.9,
           "rgb(33,102,172)"
          ],
          [
           1,
           "rgb(5,48,97)"
          ]
         ],
         "hoverongaps": false,
         "type": "heatmap",
         "x": [
          0,
          1,
          2,
          3,
          4,
          5,
          6,
          7
         ],
         "xaxis": "x44",
         "y": [
          "H",
          "G",
          "F",
          "E",
          "D",
          "C",
          "B",
          "A"
         ],
         "yaxis": "y44",
         "z": [
          [
           -0.00039023286080919206,
           -0.016405893489718437,
           -0.03948250040411949,
           0.001774243195541203,
           -0.07502393424510956,
           0.005179909057915211,
           -0.05202500522136688,
           -0.038347117602825165
          ],
          [
           -0.022161005064845085,
           -0.3777523338794708,
           -0.4389689862728119,
           -0.37953701615333557,
           -0.40015628933906555,
           -0.38391736149787903,
           -0.264842689037323,
           -0.049789924174547195
          ],
          [
           -0.025274071842432022,
           -0.4071884751319885,
           -0.40033280849456787,
           -0.42988768219947815,
           -0.40203139185905457,
           -0.4204641580581665,
           -0.40206512808799744,
           0.004965061321854591
          ],
          [
           -0.0556882843375206,
           -0.31952208280563354,
           -0.3222944140434265,
           -0.46626055240631104,
           -0.5190873146057129,
           -0.4587486684322357,
           -0.3444158732891083,
           -0.0057164025492966175
          ],
          [
           0.04609129577875137,
           -0.22041918337345123,
           -0.17280299961566925,
           -0.2780439555644989,
           -0.3717326819896698,
           -0.3649641275405884,
           -0.346450537443161,
           -0.04806795343756676
          ],
          [
           0.012809503823518753,
           0.005409877747297287,
           -0.009430713951587677,
           -0.002776344073936343,
           -0.08596871793270111,
           -0.23648452758789062,
           -0.22397084534168243,
           -0.006788283120840788
          ],
          [
           -0.011002833023667336,
           -0.020524943247437477,
           0.030417535454034805,
           0.02121959626674652,
           0.014868450351059437,
           -0.01412161160260439,
           -0.030292067676782608,
           -0.007280527148395777
          ],
          [
           -0.006671982351690531,
           0.0012035639956593513,
           0.012587573379278183,
           0.009658285416662693,
           -0.03555808588862419,
           -0.011198184452950954,
           -0.020967641845345497,
           0.0017325651133432984
          ]
         ],
         "zmax": 0.6861146688461304,
         "zmin": -0.6861146688461304
        },
        {
         "colorscale": [
          [
           0,
           "rgb(103,0,31)"
          ],
          [
           0.1,
           "rgb(178,24,43)"
          ],
          [
           0.2,
           "rgb(214,96,77)"
          ],
          [
           0.3,
           "rgb(244,165,130)"
          ],
          [
           0.4,
           "rgb(253,219,199)"
          ],
          [
           0.5,
           "rgb(247,247,247)"
          ],
          [
           0.6,
           "rgb(209,229,240)"
          ],
          [
           0.7,
           "rgb(146,197,222)"
          ],
          [
           0.8,
           "rgb(67,147,195)"
          ],
          [
           0.9,
           "rgb(33,102,172)"
          ],
          [
           1,
           "rgb(5,48,97)"
          ]
         ],
         "hoverongaps": false,
         "type": "heatmap",
         "x": [
          0,
          1,
          2,
          3,
          4,
          5,
          6,
          7
         ],
         "xaxis": "x52",
         "y": [
          "H",
          "G",
          "F",
          "E",
          "D",
          "C",
          "B",
          "A"
         ],
         "yaxis": "y52",
         "z": [
          [
           -0.0013515137834474444,
           -0.018974358215928078,
           0.010558347217738628,
           -0.029694538563489914,
           -0.0047866180539131165,
           0.0062304227612912655,
           -0.016451315954327583,
           -0.03070721961557865
          ],
          [
           0.0031855532433837652,
           0.05143977329134941,
           0.04931746423244476,
           0.049009039998054504,
           0.05333752557635307,
           0.09121328592300415,
           0.09112793207168579,
           -0.011175617575645447
          ],
          [
           0.014597168192267418,
           0.07330109924077988,
           0.027327315881848335,
           0.025576764717698097,
           0.07653911411762238,
           0.04829198494553566,
           0.030794845893979073,
           -0.005497470032423735
          ],
          [
           0.017452800646424294,
           0.03292463347315788,
           0.04449555650353432,
           0.18341585993766785,
           0.2088356465101242,
           0.010414906777441502,
           -0.014682500623166561,
           0.038576092571020126
          ],
          [
           0.02552252635359764,
           0.05570407956838608,
           0.13087449967861176,
           0.3909863233566284,
           0.3388423025608063,
           0.26246872544288635,
           0.04496026039123535,
           0.01966686360538006
          ],
          [
           0.02397865429520607,
           0.2883972227573395,
           0.3497437834739685,
           0.5264135599136353,
           0.3410055637359619,
           0.3592376410961151,
           0.20415416359901428,
           0.00854137446731329
          ],
          [
           0.018761662766337395,
           0.20806542038917542,
           0.33552658557891846,
           0.37317153811454773,
           0.3600862920284271,
           0.31094783544540405,
           0.24759958684444427,
           0.007957804016768932
          ],
          [
           -0.028064925223588943,
           0.020026789978146553,
           0.10938774049282074,
           0.046430934220552444,
           0.16602596640586853,
           0.048855848610401154,
           0.021669253706932068,
           -0.0034407840576022863
          ]
         ],
         "zmax": 0.6861146688461304,
         "zmin": -0.6861146688461304
        },
        {
         "colorscale": [
          [
           0,
           "rgb(103,0,31)"
          ],
          [
           0.1,
           "rgb(178,24,43)"
          ],
          [
           0.2,
           "rgb(214,96,77)"
          ],
          [
           0.3,
           "rgb(244,165,130)"
          ],
          [
           0.4,
           "rgb(253,219,199)"
          ],
          [
           0.5,
           "rgb(247,247,247)"
          ],
          [
           0.6,
           "rgb(209,229,240)"
          ],
          [
           0.7,
           "rgb(146,197,222)"
          ],
          [
           0.8,
           "rgb(67,147,195)"
          ],
          [
           0.9,
           "rgb(33,102,172)"
          ],
          [
           1,
           "rgb(5,48,97)"
          ]
         ],
         "hoverongaps": false,
         "type": "heatmap",
         "x": [
          0,
          1,
          2,
          3,
          4,
          5,
          6,
          7
         ],
         "xaxis": "x60",
         "y": [
          "H",
          "G",
          "F",
          "E",
          "D",
          "C",
          "B",
          "A"
         ],
         "yaxis": "y60",
         "z": [
          [
           -0.03374414145946503,
           -0.06505417823791504,
           -0.10724169760942459,
           -0.08269906789064407,
           -0.051216889172792435,
           -0.06054725870490074,
           -0.0569036640226841,
           -0.07106448709964752
          ],
          [
           -0.06974233686923981,
           -0.06680327653884888,
           -0.006451144814491272,
           -0.042920783162117004,
           0.0067277331836521626,
           -0.005380275193601847,
           0.021774789318442345,
           -0.07273608446121216
          ],
          [
           -0.02505960874259472,
           -0.11090146005153656,
           -0.08355651795864105,
           -0.030243391171097755,
           0.01783766783773899,
           0.055360015481710434,
           0.034453969448804855,
           -0.0515829473733902
          ],
          [
           -0.0668138712644577,
           -0.0032292024698108435,
           -0.08019781857728958,
           0.03052292764186859,
           -0.06674136966466904,
           0.011492695659399033,
           0.0019870842806994915,
           -0.05671871453523636
          ],
          [
           -0.07739035785198212,
           -0.012897972948849201,
           0.010819122195243835,
           0.044611502438783646,
           -0.14419735968112946,
           -0.14917029440402985,
           -0.031074317172169685,
           -0.08462051302194595
          ],
          [
           -0.0059595853090286255,
           0.02172081358730793,
           0.0010081642540171742,
           0.00635496387258172,
           -0.06759150326251984,
           -0.0825803130865097,
           0.01490511279553175,
           -0.1510840356349945
          ],
          [
           -0.04556947574019432,
           0.010168110951781273,
           0.07088550925254822,
           0.04814161732792854,
           -0.007280897814780474,
           0.020448315888643265,
           0.0864194706082344,
           -0.14567676186561584
          ],
          [
           -0.10292018204927444,
           -0.07736653834581375,
           -0.07653910666704178,
           -0.08727839589118958,
           -0.10861597955226898,
           -0.1514490693807602,
           -0.11338643729686737,
           -0.10260451585054398
          ]
         ],
         "zmax": 0.6861146688461304,
         "zmin": -0.6861146688461304
        },
        {
         "colorscale": [
          [
           0,
           "rgb(103,0,31)"
          ],
          [
           0.1,
           "rgb(178,24,43)"
          ],
          [
           0.2,
           "rgb(214,96,77)"
          ],
          [
           0.3,
           "rgb(244,165,130)"
          ],
          [
           0.4,
           "rgb(253,219,199)"
          ],
          [
           0.5,
           "rgb(247,247,247)"
          ],
          [
           0.6,
           "rgb(209,229,240)"
          ],
          [
           0.7,
           "rgb(146,197,222)"
          ],
          [
           0.8,
           "rgb(67,147,195)"
          ],
          [
           0.9,
           "rgb(33,102,172)"
          ],
          [
           1,
           "rgb(5,48,97)"
          ]
         ],
         "hoverongaps": false,
         "type": "heatmap",
         "x": [
          0,
          1,
          2,
          3,
          4,
          5,
          6,
          7
         ],
         "xaxis": "x5",
         "y": [
          "H",
          "G",
          "F",
          "E",
          "D",
          "C",
          "B",
          "A"
         ],
         "yaxis": "y5",
         "z": [
          [
           0,
           0,
           0,
           0,
           0,
           0,
           0,
           0
          ],
          [
           0,
           0,
           0,
           0,
           0,
           0,
           0,
           0
          ],
          [
           0,
           0,
           0,
           0,
           0,
           0,
           0,
           0
          ],
          [
           0,
           0,
           0,
           0,
           0,
           0,
           0,
           0
          ],
          [
           0,
           0,
           0,
           0,
           0,
           0,
           0,
           0
          ],
          [
           0,
           0,
           0,
           0,
           0,
           0,
           0,
           0
          ],
          [
           0,
           0,
           0,
           0,
           0,
           0,
           0,
           0
          ],
          [
           0,
           0,
           0,
           0,
           0,
           0,
           0,
           0
          ]
         ],
         "zmax": 0.6861146688461304,
         "zmin": -0.6861146688461304
        },
        {
         "colorscale": [
          [
           0,
           "rgb(103,0,31)"
          ],
          [
           0.1,
           "rgb(178,24,43)"
          ],
          [
           0.2,
           "rgb(214,96,77)"
          ],
          [
           0.3,
           "rgb(244,165,130)"
          ],
          [
           0.4,
           "rgb(253,219,199)"
          ],
          [
           0.5,
           "rgb(247,247,247)"
          ],
          [
           0.6,
           "rgb(209,229,240)"
          ],
          [
           0.7,
           "rgb(146,197,222)"
          ],
          [
           0.8,
           "rgb(67,147,195)"
          ],
          [
           0.9,
           "rgb(33,102,172)"
          ],
          [
           1,
           "rgb(5,48,97)"
          ]
         ],
         "hoverongaps": false,
         "type": "heatmap",
         "x": [
          0,
          1,
          2,
          3,
          4,
          5,
          6,
          7
         ],
         "xaxis": "x13",
         "y": [
          "H",
          "G",
          "F",
          "E",
          "D",
          "C",
          "B",
          "A"
         ],
         "yaxis": "y13",
         "z": [
          [
           0.10171937197446823,
           0.42122796177864075,
           0.2825435400009155,
           0.13229379057884216,
           0.14326849579811096,
           0.14937347173690796,
           0.1315392106771469,
           -0.02778703346848488
          ],
          [
           -0.10490506142377853,
           0.10303507000207901,
           0.08861566334962845,
           0.12050633877515793,
           0.24426093697547913,
           0.49062415957450867,
           0.37802496552467346,
           0.519698441028595
          ],
          [
           -0.06842900067567825,
           0.09050945192575455,
           0.04562860354781151,
           0.09094204753637314,
           0.2927732467651367,
           0.5032786726951599,
           0.4135704040527344,
           0.48604586720466614
          ],
          [
           -0.13004054129123688,
           0.1768236756324768,
           0.05764409154653549,
           0.10339312255382538,
           0.5031082630157471,
           0.484424352645874,
           0.4673108756542206,
           0.5039347410202026
          ],
          [
           -0.15783138573169708,
           0.48225778341293335,
           0.17196278274059296,
           0.09749165922403336,
           0.4074685871601105,
           0.43294116854667664,
           0.5654953122138977,
           0.5019946098327637
          ],
          [
           -0.1341036707162857,
           0.536068320274353,
           0.420413076877594,
           0.24085894227027893,
           0.3522128462791443,
           0.55196613073349,
           0.5117860436439514,
           0.5304325222969055
          ],
          [
           -0.05293811485171318,
           0.46520525217056274,
           0.5630718469619751,
           0.5416198968887329,
           0.4689107835292816,
           0.47640568017959595,
           0.48221734166145325,
           0.5076760649681091
          ],
          [
           -0.03870299831032753,
           0.0055569857358932495,
           0.0674520879983902,
           0.050063274800777435,
           0.054236505180597305,
           0.009846935980021954,
           0.3399133086204529,
           -0.06196846812963486
          ]
         ],
         "zmax": 0.6861146688461304,
         "zmin": -0.6861146688461304
        },
        {
         "colorscale": [
          [
           0,
           "rgb(103,0,31)"
          ],
          [
           0.1,
           "rgb(178,24,43)"
          ],
          [
           0.2,
           "rgb(214,96,77)"
          ],
          [
           0.3,
           "rgb(244,165,130)"
          ],
          [
           0.4,
           "rgb(253,219,199)"
          ],
          [
           0.5,
           "rgb(247,247,247)"
          ],
          [
           0.6,
           "rgb(209,229,240)"
          ],
          [
           0.7,
           "rgb(146,197,222)"
          ],
          [
           0.8,
           "rgb(67,147,195)"
          ],
          [
           0.9,
           "rgb(33,102,172)"
          ],
          [
           1,
           "rgb(5,48,97)"
          ]
         ],
         "hoverongaps": false,
         "type": "heatmap",
         "x": [
          0,
          1,
          2,
          3,
          4,
          5,
          6,
          7
         ],
         "xaxis": "x21",
         "y": [
          "H",
          "G",
          "F",
          "E",
          "D",
          "C",
          "B",
          "A"
         ],
         "yaxis": "y21",
         "z": [
          [
           -0.021037496626377106,
           0.05074092000722885,
           -0.015789903700351715,
           0.002624073764309287,
           0.014967809431254864,
           -0.004927642643451691,
           0.02988891303539276,
           -0.0011211046949028969
          ],
          [
           -0.5098830461502075,
           -0.42916396260261536,
           -0.43221303820610046,
           -0.048852238804101944,
           0.012857838533818722,
           0.030956128612160683,
           0.020472699776291847,
           0.029668759554624557
          ],
          [
           -0.4541893005371094,
           -0.4492255449295044,
           -0.46590641140937805,
           -0.21976611018180847,
           0.02989237941801548,
           0.0053895460441708565,
           0.023984935134649277,
           0.016063017770648003
          ],
          [
           -0.48888877034187317,
           -0.5234918594360352,
           -0.4165884852409363,
           -0.5459365248680115,
           -0.07627926766872406,
           0.05531352758407593,
           0.020576978102326393,
           0.0060837147757411
          ],
          [
           -0.5580646991729736,
           -0.5486114025115967,
           -0.4169175624847412,
           -0.5648286938667297,
           -0.5111280679702759,
           -0.1254054605960846,
           0.02728806436061859,
           0.00379985012114048
          ],
          [
           -0.5670501589775085,
           -0.5171026587486267,
           -0.46537724137306213,
           -0.35965004563331604,
           -0.37359723448753357,
           -0.40310126543045044,
           -0.015181819908320904,
           0.01604512892663479
          ],
          [
           -0.4484822452068329,
           -0.46925118565559387,
           -0.5300960540771484,
           -0.5112541317939758,
           -0.5410500168800354,
           -0.4335808753967285,
           -0.28987282514572144,
           -0.00859583169221878
          ],
          [
           -0.06568777561187744,
           -0.5066772103309631,
           -0.4959617853164673,
           -0.537437915802002,
           -0.5656638145446777,
           -0.43229687213897705,
           -0.4440498650074005,
           -0.04864680394530296
          ]
         ],
         "zmax": 0.6861146688461304,
         "zmin": -0.6861146688461304
        },
        {
         "colorscale": [
          [
           0,
           "rgb(103,0,31)"
          ],
          [
           0.1,
           "rgb(178,24,43)"
          ],
          [
           0.2,
           "rgb(214,96,77)"
          ],
          [
           0.3,
           "rgb(244,165,130)"
          ],
          [
           0.4,
           "rgb(253,219,199)"
          ],
          [
           0.5,
           "rgb(247,247,247)"
          ],
          [
           0.6,
           "rgb(209,229,240)"
          ],
          [
           0.7,
           "rgb(146,197,222)"
          ],
          [
           0.8,
           "rgb(67,147,195)"
          ],
          [
           0.9,
           "rgb(33,102,172)"
          ],
          [
           1,
           "rgb(5,48,97)"
          ]
         ],
         "hoverongaps": false,
         "type": "heatmap",
         "x": [
          0,
          1,
          2,
          3,
          4,
          5,
          6,
          7
         ],
         "xaxis": "x29",
         "y": [
          "H",
          "G",
          "F",
          "E",
          "D",
          "C",
          "B",
          "A"
         ],
         "yaxis": "y29",
         "z": [
          [
           -0.016219550743699074,
           0.03043547458946705,
           -0.01018713042140007,
           -0.03715183585882187,
           0.008760870434343815,
           0.015497131273150444,
           -0.03238779306411743,
           0.018967974931001663
          ],
          [
           0.04310910776257515,
           0.015523144975304604,
           0.004303443245589733,
           -0.009680780582129955,
           -0.01013945136219263,
           -0.0068852705880999565,
           0.02742849662899971,
           -0.014002088457345963
          ],
          [
           0.026351481676101685,
           -0.01356238778680563,
           -0.06906893104314804,
           -0.24362336099147797,
           -0.28003624081611633,
           -0.052963074296712875,
           -0.0034367037005722523,
           0.016094323247671127
          ],
          [
           0.007817561738193035,
           0.03410404548048973,
           -0.0067373039200901985,
           -0.5769697427749634,
           -0.5510428547859192,
           -0.3697006106376648,
           0.01185038685798645,
           -0.0039027552120387554
          ],
          [
           0.007260855287313461,
           0.04793296009302139,
           -0.4076341688632965,
           -0.6102453470230103,
           -0.5508185029029846,
           -0.4483003318309784,
           0.011753483675420284,
           -0.032616134732961655
          ],
          [
           -0.030149461701512337,
           -0.32829749584198,
           -0.5025842785835266,
           -0.51905357837677,
           -0.39911267161369324,
           -0.47653788328170776,
           -0.08530665189027786,
           0.0015818316023796797
          ],
          [
           -0.017866836860775948,
           -0.42030438780784607,
           -0.4374091923236847,
           -0.5413641333580017,
           -0.5665770173072815,
           -0.46476179361343384,
           -0.11128014326095581,
           -0.009204615838825703
          ],
          [
           0.000561690831091255,
           -0.51624596118927,
           -0.5369746685028076,
           -0.43020081520080566,
           -0.3066779673099518,
           -0.15216486155986786,
           -0.10765651613473892,
           -0.0012361123226583004
          ]
         ],
         "zmax": 0.6861146688461304,
         "zmin": -0.6861146688461304
        },
        {
         "colorscale": [
          [
           0,
           "rgb(103,0,31)"
          ],
          [
           0.1,
           "rgb(178,24,43)"
          ],
          [
           0.2,
           "rgb(214,96,77)"
          ],
          [
           0.3,
           "rgb(244,165,130)"
          ],
          [
           0.4,
           "rgb(253,219,199)"
          ],
          [
           0.5,
           "rgb(247,247,247)"
          ],
          [
           0.6,
           "rgb(209,229,240)"
          ],
          [
           0.7,
           "rgb(146,197,222)"
          ],
          [
           0.8,
           "rgb(67,147,195)"
          ],
          [
           0.9,
           "rgb(33,102,172)"
          ],
          [
           1,
           "rgb(5,48,97)"
          ]
         ],
         "hoverongaps": false,
         "type": "heatmap",
         "x": [
          0,
          1,
          2,
          3,
          4,
          5,
          6,
          7
         ],
         "xaxis": "x37",
         "y": [
          "H",
          "G",
          "F",
          "E",
          "D",
          "C",
          "B",
          "A"
         ],
         "yaxis": "y37",
         "z": [
          [
           -0.004171655513346195,
           0.022820020094513893,
           0.015877656638622284,
           0.06102306395769119,
           0.021748574450612068,
           0.0017554364167153835,
           0.009866004809737206,
           -0.03075862117111683
          ],
          [
           0.020707566291093826,
           0.507004976272583,
           0.5881327390670776,
           0.5510538816452026,
           0.2906363606452942,
           0.12514355778694153,
           0.1190611869096756,
           -0.00922831054776907
          ],
          [
           -0.004275333136320114,
           0.5079415440559387,
           0.5258708000183105,
           0.5467812418937683,
           0.5339544415473938,
           0.5235572457313538,
           0.1597425639629364,
           -0.010208966210484505
          ],
          [
           0.16637788712978363,
           0.5279304385185242,
           0.4166780412197113,
           0.6541181206703186,
           0.6258656978607178,
           0.5374897122383118,
           0.34045901894569397,
           -0.004398503340780735
          ],
          [
           0.22587786614894867,
           0.536602258682251,
           0.5350385904312134,
           0.6146522164344788,
           0.643997848033905,
           0.5463436245918274,
           0.501632034778595,
           0.006138144060969353
          ],
          [
           0.12266536056995392,
           0.5745114088058472,
           0.4358416497707367,
           0.47280123829841614,
           0.48539090156555176,
           0.506311297416687,
           0.5859484672546387,
           0.011716259643435478
          ],
          [
           0.1531534194946289,
           0.43588462471961975,
           0.49998190999031067,
           0.500224232673645,
           0.47032982110977173,
           0.4489907920360565,
           0.5197492241859436,
           -0.033940475434064865
          ],
          [
           0.024879639968276024,
           0.09095825999975204,
           0.06559827923774719,
           0.237682044506073,
           0.1596301794052124,
           0.11349473148584366,
           0.06506476551294327,
           -0.04016711562871933
          ]
         ],
         "zmax": 0.6861146688461304,
         "zmin": -0.6861146688461304
        },
        {
         "colorscale": [
          [
           0,
           "rgb(103,0,31)"
          ],
          [
           0.1,
           "rgb(178,24,43)"
          ],
          [
           0.2,
           "rgb(214,96,77)"
          ],
          [
           0.3,
           "rgb(244,165,130)"
          ],
          [
           0.4,
           "rgb(253,219,199)"
          ],
          [
           0.5,
           "rgb(247,247,247)"
          ],
          [
           0.6,
           "rgb(209,229,240)"
          ],
          [
           0.7,
           "rgb(146,197,222)"
          ],
          [
           0.8,
           "rgb(67,147,195)"
          ],
          [
           0.9,
           "rgb(33,102,172)"
          ],
          [
           1,
           "rgb(5,48,97)"
          ]
         ],
         "hoverongaps": false,
         "type": "heatmap",
         "x": [
          0,
          1,
          2,
          3,
          4,
          5,
          6,
          7
         ],
         "xaxis": "x45",
         "y": [
          "H",
          "G",
          "F",
          "E",
          "D",
          "C",
          "B",
          "A"
         ],
         "yaxis": "y45",
         "z": [
          [
           0.004002148751169443,
           -0.019139908254146576,
           -0.003467732109129429,
           -0.0020423971582204103,
           -0.01895642839372158,
           0.03987480327486992,
           -0.015935182571411133,
           0.01722707971930504
          ],
          [
           0.05583614483475685,
           -0.4135895073413849,
           -0.4421025216579437,
           -0.3389846086502075,
           -0.14610886573791504,
           -0.024560287594795227,
           -0.009295344352722168,
           0.004586218390613794
          ],
          [
           -0.01934322714805603,
           -0.4208543002605438,
           -0.41781702637672424,
           -0.37844565510749817,
           -0.23039372265338898,
           -0.0221964530646801,
           0.010325504466891289,
           0.018936192616820335
          ],
          [
           0.003209274262189865,
           -0.37926334142684937,
           -0.4002804160118103,
           -0.4702620208263397,
           -0.4328608512878418,
           -0.015878446400165558,
           0.056545715779066086,
           -0.0026106582954525948
          ],
          [
           0.012801874428987503,
           -0.4628014862537384,
           -0.417873352766037,
           -0.4541729986667633,
           -0.4881433844566345,
           -0.06269899010658264,
           0.00679249782115221,
           -0.0012651555007323623
          ],
          [
           -0.00035319552989676595,
           -0.35779687762260437,
           -0.4583600163459778,
           -0.466247022151947,
           -0.3325946033000946,
           -0.15135729312896729,
           -0.032477445900440216,
           0.01386904064565897
          ],
          [
           -0.07113860547542572,
           -0.4131815731525421,
           -0.3285994827747345,
           -0.4363635182380676,
           -0.36996757984161377,
           -0.21624521911144257,
           0.0028412495739758015,
           0.004182555712759495
          ],
          [
           0.017139581963419914,
           -0.018322881311178207,
           -0.016680797562003136,
           -0.020019298419356346,
           -0.00962834246456623,
           0.007969190366566181,
           0.029336636886000633,
           0.021726030856370926
          ]
         ],
         "zmax": 0.6861146688461304,
         "zmin": -0.6861146688461304
        },
        {
         "colorscale": [
          [
           0,
           "rgb(103,0,31)"
          ],
          [
           0.1,
           "rgb(178,24,43)"
          ],
          [
           0.2,
           "rgb(214,96,77)"
          ],
          [
           0.3,
           "rgb(244,165,130)"
          ],
          [
           0.4,
           "rgb(253,219,199)"
          ],
          [
           0.5,
           "rgb(247,247,247)"
          ],
          [
           0.6,
           "rgb(209,229,240)"
          ],
          [
           0.7,
           "rgb(146,197,222)"
          ],
          [
           0.8,
           "rgb(67,147,195)"
          ],
          [
           0.9,
           "rgb(33,102,172)"
          ],
          [
           1,
           "rgb(5,48,97)"
          ]
         ],
         "hoverongaps": false,
         "type": "heatmap",
         "x": [
          0,
          1,
          2,
          3,
          4,
          5,
          6,
          7
         ],
         "xaxis": "x53",
         "y": [
          "H",
          "G",
          "F",
          "E",
          "D",
          "C",
          "B",
          "A"
         ],
         "yaxis": "y53",
         "z": [
          [
           -0.06863038241863251,
           -0.0667622908949852,
           -0.04669967666268349,
           -0.05326307192444801,
           -0.0046347505412995815,
           -0.015104369260370731,
           -0.03902680426836014,
           -0.05855786055326462
          ],
          [
           -0.10612452030181885,
           0.0007419735775329173,
           0.23573362827301025,
           0.2763354480266571,
           0.1541319340467453,
           0.10665497183799744,
           0.04446405544877052,
           -0.04556690901517868
          ],
          [
           -0.014405189082026482,
           0.15070797502994537,
           0.43289992213249207,
           0.3772972524166107,
           0.35512545704841614,
           0.24260453879833221,
           0.11665233224630356,
           -0.05393329635262489
          ],
          [
           0.0531366690993309,
           0.2911156117916107,
           0.39704447984695435,
           0.5561691522598267,
           0.5657952427864075,
           0.2976670563220978,
           0.04596478119492531,
           -0.009839138016104698
          ],
          [
           0.0187638308852911,
           0.33279669284820557,
           0.41625115275382996,
           0.6189582347869873,
           0.5984511971473694,
           0.3669763505458832,
           0.0595875158905983,
           -0.05651849880814552
          ],
          [
           0.0377800315618515,
           0.3114374577999115,
           0.4371677339076996,
           0.4753055274486542,
           0.344833642244339,
           0.25428345799446106,
           0.08063086867332458,
           -0.027333520352840424
          ],
          [
           -0.05690355226397514,
           0.12123213708400726,
           0.2413668930530548,
           0.3024241030216217,
           0.2759186029434204,
           0.05765816196799278,
           0.04005930945277214,
           -0.02310016378760338
          ],
          [
           -0.07227833569049835,
           -0.08899057656526566,
           -0.023706918582320213,
           0.018369819968938828,
           -0.008158722892403603,
           0.01497231051325798,
           -0.0418316125869751,
           -0.045512955635786057
          ]
         ],
         "zmax": 0.6861146688461304,
         "zmin": -0.6861146688461304
        },
        {
         "colorscale": [
          [
           0,
           "rgb(103,0,31)"
          ],
          [
           0.1,
           "rgb(178,24,43)"
          ],
          [
           0.2,
           "rgb(214,96,77)"
          ],
          [
           0.3,
           "rgb(244,165,130)"
          ],
          [
           0.4,
           "rgb(253,219,199)"
          ],
          [
           0.5,
           "rgb(247,247,247)"
          ],
          [
           0.6,
           "rgb(209,229,240)"
          ],
          [
           0.7,
           "rgb(146,197,222)"
          ],
          [
           0.8,
           "rgb(67,147,195)"
          ],
          [
           0.9,
           "rgb(33,102,172)"
          ],
          [
           1,
           "rgb(5,48,97)"
          ]
         ],
         "hoverongaps": false,
         "type": "heatmap",
         "x": [
          0,
          1,
          2,
          3,
          4,
          5,
          6,
          7
         ],
         "xaxis": "x61",
         "y": [
          "H",
          "G",
          "F",
          "E",
          "D",
          "C",
          "B",
          "A"
         ],
         "yaxis": "y61",
         "z": [
          [
           -0.018789323046803474,
           -0.03523292765021324,
           -0.0600537471473217,
           -0.04195398464798927,
           -0.045939017087221146,
           -0.01411404274404049,
           -0.03143168240785599,
           -0.06069929152727127
          ],
          [
           -0.01518081221729517,
           0.12062619626522064,
           0.1417732685804367,
           0.049087509512901306,
           0.05265592038631439,
           0.11922693252563477,
           0.16965685784816742,
           -0.03634374588727951
          ],
          [
           -0.04701600223779678,
           0.09951634705066681,
           0.11743754148483276,
           0.036268413066864014,
           0.0781874805688858,
           0.11814361810684204,
           0.16491280496120453,
           -0.02005009353160858
          ],
          [
           -0.06090270355343819,
           0.10772285610437393,
           0.10037937015295029,
           0.12098590284585953,
           0.09546396136283875,
           0.09667602181434631,
           0.04080510884523392,
           -0.011592179536819458
          ],
          [
           -0.0763494074344635,
           0.11398212611675262,
           0.11606613546609879,
           0.1873699277639389,
           0.13124436140060425,
           0.10880712419748306,
           0.047308601438999176,
           -0.04753955826163292
          ],
          [
           -0.04458628594875336,
           0.103047676384449,
           0.08127019554376602,
           0.1123877763748169,
           0.13019144535064697,
           0.10253196954727173,
           0.009965256787836552,
           -0.03403628617525101
          ],
          [
           -0.07577192038297653,
           0.11669939011335373,
           0.1328967809677124,
           0.09831143170595169,
           0.11196177452802658,
           0.07408890128135681,
           0.04927083104848862,
           -0.051973700523376465
          ],
          [
           -0.05971618741750717,
           -0.03790917992591858,
           -0.018435951322317123,
           -0.024227667599916458,
           -0.03657689318060875,
           -0.02071329951286316,
           -0.04305166378617287,
           -0.04245476797223091
          ]
         ],
         "zmax": 0.6861146688461304,
         "zmin": -0.6861146688461304
        },
        {
         "colorscale": [
          [
           0,
           "rgb(103,0,31)"
          ],
          [
           0.1,
           "rgb(178,24,43)"
          ],
          [
           0.2,
           "rgb(214,96,77)"
          ],
          [
           0.3,
           "rgb(244,165,130)"
          ],
          [
           0.4,
           "rgb(253,219,199)"
          ],
          [
           0.5,
           "rgb(247,247,247)"
          ],
          [
           0.6,
           "rgb(209,229,240)"
          ],
          [
           0.7,
           "rgb(146,197,222)"
          ],
          [
           0.8,
           "rgb(67,147,195)"
          ],
          [
           0.9,
           "rgb(33,102,172)"
          ],
          [
           1,
           "rgb(5,48,97)"
          ]
         ],
         "hoverongaps": false,
         "type": "heatmap",
         "x": [
          0,
          1,
          2,
          3,
          4,
          5,
          6,
          7
         ],
         "xaxis": "x6",
         "y": [
          "H",
          "G",
          "F",
          "E",
          "D",
          "C",
          "B",
          "A"
         ],
         "yaxis": "y6",
         "z": [
          [
           0,
           0,
           0,
           0,
           0,
           0,
           0,
           0
          ],
          [
           0,
           0,
           0,
           0,
           0,
           0,
           0,
           0
          ],
          [
           0,
           0,
           0,
           0,
           0,
           0,
           0,
           0
          ],
          [
           0,
           0,
           0,
           0,
           0,
           0,
           0,
           0
          ],
          [
           0,
           0,
           0,
           0,
           0,
           0,
           0,
           0
          ],
          [
           0,
           0,
           0,
           0,
           0,
           0,
           0,
           0
          ],
          [
           0,
           0,
           0,
           0,
           0,
           0,
           0,
           0
          ],
          [
           0,
           0,
           0,
           0,
           0,
           0,
           0,
           0
          ]
         ],
         "zmax": 0.6861146688461304,
         "zmin": -0.6861146688461304
        },
        {
         "colorscale": [
          [
           0,
           "rgb(103,0,31)"
          ],
          [
           0.1,
           "rgb(178,24,43)"
          ],
          [
           0.2,
           "rgb(214,96,77)"
          ],
          [
           0.3,
           "rgb(244,165,130)"
          ],
          [
           0.4,
           "rgb(253,219,199)"
          ],
          [
           0.5,
           "rgb(247,247,247)"
          ],
          [
           0.6,
           "rgb(209,229,240)"
          ],
          [
           0.7,
           "rgb(146,197,222)"
          ],
          [
           0.8,
           "rgb(67,147,195)"
          ],
          [
           0.9,
           "rgb(33,102,172)"
          ],
          [
           1,
           "rgb(5,48,97)"
          ]
         ],
         "hoverongaps": false,
         "type": "heatmap",
         "x": [
          0,
          1,
          2,
          3,
          4,
          5,
          6,
          7
         ],
         "xaxis": "x14",
         "y": [
          "H",
          "G",
          "F",
          "E",
          "D",
          "C",
          "B",
          "A"
         ],
         "yaxis": "y14",
         "z": [
          [
           -0.044306159019470215,
           0.06646153330802917,
           0.11214423924684525,
           0.1283487230539322,
           0.11679603159427643,
           0.09013329446315765,
           0.12303926795721054,
           -0.08554110676050186
          ],
          [
           0.018204038962721825,
           0.36570116877555847,
           0.4241448640823364,
           0.4343594014644623,
           0.44185641407966614,
           0.40362024307250977,
           0.325944721698761,
           0.03409303352236748
          ],
          [
           -0.0014006077544763684,
           0.3487907350063324,
           0.48256686329841614,
           0.425334095954895,
           0.453375905752182,
           0.4767027199268341,
           0.3696346879005432,
           0.032196104526519775
          ],
          [
           -0.017247838899493217,
           0.3124615550041199,
           0.3926568925380707,
           0.5631996989250183,
           0.5688574910163879,
           0.4927957057952881,
           0.4289226531982422,
           0.010592008009552956
          ],
          [
           0.010824662633240223,
           0.16555406153202057,
           0.4234793782234192,
           0.5055131912231445,
           0.5675815343856812,
           0.3556634485721588,
           0.3912729024887085,
           -0.006248785648494959
          ],
          [
           -0.00024324547848664224,
           0.0968485027551651,
           0.31803786754608154,
           0.4192587733268738,
           0.34137627482414246,
           0.4019677937030792,
           0.37110185623168945,
           -0.001207188586704433
          ],
          [
           -0.02391260676085949,
           0.04093274101614952,
           0.14559993147850037,
           0.16230663657188416,
           0.26948827505111694,
           0.20065878331661224,
           0.20298397541046143,
           0.013285539112985134
          ],
          [
           -0.04511990770697594,
           0.02097805216908455,
           0.048027753829956055,
           -0.014874451793730259,
           -0.028363853693008423,
           0.007109086960554123,
           -0.02826099283993244,
           -0.06111022084951401
          ]
         ],
         "zmax": 0.6861146688461304,
         "zmin": -0.6861146688461304
        },
        {
         "colorscale": [
          [
           0,
           "rgb(103,0,31)"
          ],
          [
           0.1,
           "rgb(178,24,43)"
          ],
          [
           0.2,
           "rgb(214,96,77)"
          ],
          [
           0.3,
           "rgb(244,165,130)"
          ],
          [
           0.4,
           "rgb(253,219,199)"
          ],
          [
           0.5,
           "rgb(247,247,247)"
          ],
          [
           0.6,
           "rgb(209,229,240)"
          ],
          [
           0.7,
           "rgb(146,197,222)"
          ],
          [
           0.8,
           "rgb(67,147,195)"
          ],
          [
           0.9,
           "rgb(33,102,172)"
          ],
          [
           1,
           "rgb(5,48,97)"
          ]
         ],
         "hoverongaps": false,
         "type": "heatmap",
         "x": [
          0,
          1,
          2,
          3,
          4,
          5,
          6,
          7
         ],
         "xaxis": "x22",
         "y": [
          "H",
          "G",
          "F",
          "E",
          "D",
          "C",
          "B",
          "A"
         ],
         "yaxis": "y22",
         "z": [
          [
           0.01972908154129982,
           -0.26888948678970337,
           -0.3861151933670044,
           -0.41232216358184814,
           -0.38728535175323486,
           -0.48350611329078674,
           -0.3714057505130768,
           -0.05007776618003845
          ],
          [
           -0.5399349927902222,
           -0.39023980498313904,
           -0.46123170852661133,
           -0.4820437729358673,
           -0.47609713673591614,
           -0.47464972734451294,
           -0.5334953665733337,
           -0.4675291180610657
          ],
          [
           -0.5158197283744812,
           -0.42024359107017517,
           -0.43313372135162354,
           -0.3805319368839264,
           -0.3928726315498352,
           -0.38981515169143677,
           -0.3923351466655731,
           -0.48793327808380127
          ],
          [
           -0.545112669467926,
           -0.48090705275535583,
           -0.3842718303203583,
           -0.5661482810974121,
           -0.5576630234718323,
           -0.38767209649086,
           -0.40822741389274597,
           -0.4525205194950104
          ],
          [
           -0.48755839467048645,
           -0.4904293715953827,
           -0.4091341197490692,
           -0.4670211672782898,
           -0.28555819392204285,
           -0.2281973659992218,
           -0.33101463317871094,
           -0.37173911929130554
          ],
          [
           -0.41058820486068726,
           -0.47397544980049133,
           -0.4156858026981354,
           -0.015320566482841969,
           0.03618035092949867,
           0.05027107521891594,
           -0.0005432165926322341,
           -0.351241797208786
          ],
          [
           -0.3480947017669678,
           -0.3207792341709137,
           -0.006786806508898735,
           0.05566281080245972,
           0.008550525642931461,
           0.05157900229096413,
           0.01614978536963463,
           -0.22607694566249847
          ],
          [
           -0.013856986537575722,
           0.0006393943913280964,
           0.016110850498080254,
           0.03922918066382408,
           0.020347919315099716,
           0.01762668415904045,
           -0.01832132413983345,
           -0.002987900050356984
          ]
         ],
         "zmax": 0.6861146688461304,
         "zmin": -0.6861146688461304
        },
        {
         "colorscale": [
          [
           0,
           "rgb(103,0,31)"
          ],
          [
           0.1,
           "rgb(178,24,43)"
          ],
          [
           0.2,
           "rgb(214,96,77)"
          ],
          [
           0.3,
           "rgb(244,165,130)"
          ],
          [
           0.4,
           "rgb(253,219,199)"
          ],
          [
           0.5,
           "rgb(247,247,247)"
          ],
          [
           0.6,
           "rgb(209,229,240)"
          ],
          [
           0.7,
           "rgb(146,197,222)"
          ],
          [
           0.8,
           "rgb(67,147,195)"
          ],
          [
           0.9,
           "rgb(33,102,172)"
          ],
          [
           1,
           "rgb(5,48,97)"
          ]
         ],
         "hoverongaps": false,
         "type": "heatmap",
         "x": [
          0,
          1,
          2,
          3,
          4,
          5,
          6,
          7
         ],
         "xaxis": "x30",
         "y": [
          "H",
          "G",
          "F",
          "E",
          "D",
          "C",
          "B",
          "A"
         ],
         "yaxis": "y30",
         "z": [
          [
           0.002696993527933955,
           -0.2059841901063919,
           -0.07465837150812149,
           -0.018841320648789406,
           0.00029192803776822984,
           0.018516628071665764,
           0.007025978062301874,
           0.007567102555185556
          ],
          [
           -0.5056793689727783,
           -0.5708340406417847,
           -0.6036325097084045,
           -0.4750247597694397,
           -0.05009406805038452,
           -0.011398573406040668,
           0.003937907982617617,
           -0.01359809935092926
          ],
          [
           -0.4880097806453705,
           -0.5406650304794312,
           -0.5603362321853638,
           -0.42995113134384155,
           -0.19432073831558228,
           -0.20292843878269196,
           -0.034960560500621796,
           0.011478392407298088
          ],
          [
           -0.42564094066619873,
           -0.5539364814758301,
           -0.5018423199653625,
           -0.4574550986289978,
           -0.5740892291069031,
           -0.32234475016593933,
           -0.39383241534233093,
           -0.050618454813957214
          ],
          [
           -0.4297863841056824,
           -0.5678828954696655,
           -0.4569786489009857,
           -0.5803002119064331,
           -0.5881636142730713,
           -0.49836331605911255,
           -0.5523848533630371,
           -0.026155781000852585
          ],
          [
           -0.3925025463104248,
           -0.3223767876625061,
           -0.11567185074090958,
           -0.3692026138305664,
           -0.4861220121383667,
           -0.5122257471084595,
           -0.49537408351898193,
           -0.03243813291192055
          ],
          [
           -0.16332590579986572,
           -0.01930885575711727,
           0.011539647355675697,
           -0.021588928997516632,
           -0.43494653701782227,
           -0.49991944432258606,
           -0.39262863993644714,
           0.020254656672477722
          ],
          [
           0.051154039800167084,
           -0.02609860710799694,
           0.0008373092277906835,
           0.032293446362018585,
           -0.009869558736681938,
           0.011770449578762054,
           0.034819718450307846,
           0.0009669683640822768
          ]
         ],
         "zmax": 0.6861146688461304,
         "zmin": -0.6861146688461304
        },
        {
         "colorscale": [
          [
           0,
           "rgb(103,0,31)"
          ],
          [
           0.1,
           "rgb(178,24,43)"
          ],
          [
           0.2,
           "rgb(214,96,77)"
          ],
          [
           0.3,
           "rgb(244,165,130)"
          ],
          [
           0.4,
           "rgb(253,219,199)"
          ],
          [
           0.5,
           "rgb(247,247,247)"
          ],
          [
           0.6,
           "rgb(209,229,240)"
          ],
          [
           0.7,
           "rgb(146,197,222)"
          ],
          [
           0.8,
           "rgb(67,147,195)"
          ],
          [
           0.9,
           "rgb(33,102,172)"
          ],
          [
           1,
           "rgb(5,48,97)"
          ]
         ],
         "hoverongaps": false,
         "type": "heatmap",
         "x": [
          0,
          1,
          2,
          3,
          4,
          5,
          6,
          7
         ],
         "xaxis": "x38",
         "y": [
          "H",
          "G",
          "F",
          "E",
          "D",
          "C",
          "B",
          "A"
         ],
         "yaxis": "y38",
         "z": [
          [
           -0.045575980097055435,
           -0.19648967683315277,
           -0.1174665093421936,
           -0.2293148785829544,
           -0.17146815359592438,
           -0.22703714668750763,
           -0.11011701822280884,
           -0.04432779550552368
          ],
          [
           -0.03197648748755455,
           -0.22737860679626465,
           -0.17669975757598877,
           -0.355872243642807,
           -0.3054637014865875,
           -0.22781328856945038,
           -0.18937627971172333,
           -0.040015123784542084
          ],
          [
           -0.06834106147289276,
           -0.19034114480018616,
           -0.43277978897094727,
           -0.3446104824542999,
           -0.31270986795425415,
           -0.37054699659347534,
           -0.25195902585983276,
           -0.22113442420959473
          ],
          [
           -0.07287809252738953,
           -0.32687172293663025,
           -0.3343949615955353,
           -0.34442731738090515,
           -0.36369624733924866,
           -0.33167552947998047,
           -0.22150282561779022,
           -0.09729844331741333
          ],
          [
           -0.2660830616950989,
           -0.3068627715110779,
           -0.4195255637168884,
           -0.48204532265663147,
           -0.37577584385871887,
           -0.29957181215286255,
           -0.2711438834667206,
           -0.22857153415679932
          ],
          [
           -0.06372484564781189,
           -0.324885755777359,
           -0.31302785873413086,
           -0.40609046816825867,
           -0.28090065717697144,
           -0.3268677294254303,
           -0.3338248133659363,
           -0.0817674994468689
          ],
          [
           -0.041217658668756485,
           -0.1687222272157669,
           -0.3002205193042755,
           -0.3015369474887848,
           -0.2881590723991394,
           -0.20271344482898712,
           -0.12852194905281067,
           -0.048350024968385696
          ],
          [
           0.032229963690042496,
           -0.06745066493749619,
           -0.11540433764457703,
           -0.14226093888282776,
           -0.23089593648910522,
           -0.10105786472558975,
           -0.16960199177265167,
           -0.10144001245498657
          ]
         ],
         "zmax": 0.6861146688461304,
         "zmin": -0.6861146688461304
        },
        {
         "colorscale": [
          [
           0,
           "rgb(103,0,31)"
          ],
          [
           0.1,
           "rgb(178,24,43)"
          ],
          [
           0.2,
           "rgb(214,96,77)"
          ],
          [
           0.3,
           "rgb(244,165,130)"
          ],
          [
           0.4,
           "rgb(253,219,199)"
          ],
          [
           0.5,
           "rgb(247,247,247)"
          ],
          [
           0.6,
           "rgb(209,229,240)"
          ],
          [
           0.7,
           "rgb(146,197,222)"
          ],
          [
           0.8,
           "rgb(67,147,195)"
          ],
          [
           0.9,
           "rgb(33,102,172)"
          ],
          [
           1,
           "rgb(5,48,97)"
          ]
         ],
         "hoverongaps": false,
         "type": "heatmap",
         "x": [
          0,
          1,
          2,
          3,
          4,
          5,
          6,
          7
         ],
         "xaxis": "x46",
         "y": [
          "H",
          "G",
          "F",
          "E",
          "D",
          "C",
          "B",
          "A"
         ],
         "yaxis": "y46",
         "z": [
          [
           -0.005957506597042084,
           0.04404423013329506,
           0.018363192677497864,
           -0.1096692681312561,
           -0.04486476629972458,
           -0.07497662305831909,
           -0.000966327846981585,
           -0.06592394411563873
          ],
          [
           0.023002510890364647,
           -0.285385400056839,
           -0.3582606315612793,
           -0.355034738779068,
           -0.36497074365615845,
           -0.3785824179649353,
           -0.2947330176830292,
           -0.1328084021806717
          ],
          [
           -0.06975571066141129,
           -0.22731943428516388,
           -0.29239538311958313,
           -0.1421998143196106,
           -0.09203547239303589,
           -0.2932548224925995,
           -0.2962522506713867,
           -0.027894020080566406
          ],
          [
           -0.05540488660335541,
           -0.23144495487213135,
           -0.2911624610424042,
           -0.17972834408283234,
           0.006678077392280102,
           -0.22922533750534058,
           -0.1934201866388321,
           -0.07818585634231567
          ],
          [
           -0.03156695142388344,
           -0.3123921751976013,
           -0.3788772523403168,
           0.011905786581337452,
           -0.1308223456144333,
           -0.1893419474363327,
           -0.3157868981361389,
           -0.0307778213173151
          ],
          [
           0.006332589779049158,
           -0.26934564113616943,
           -0.3555675446987152,
           -0.3220856189727783,
           -0.13398844003677368,
           -0.2779847979545593,
           -0.2122957408428192,
           -0.01222958229482174
          ],
          [
           0.020048556849360466,
           -0.20241442322731018,
           -0.2456728219985962,
           -0.28757593035697937,
           -0.2852557897567749,
           -0.3454675078392029,
           -0.13816219568252563,
           -0.04208480194211006
          ],
          [
           -0.029187874868512154,
           -0.0752185508608818,
           -0.021287282928824425,
           -0.07116024941205978,
           0.016712838783860207,
           -0.0523429811000824,
           0.0012483926257118583,
           -0.00224322616122663
          ]
         ],
         "zmax": 0.6861146688461304,
         "zmin": -0.6861146688461304
        },
        {
         "colorscale": [
          [
           0,
           "rgb(103,0,31)"
          ],
          [
           0.1,
           "rgb(178,24,43)"
          ],
          [
           0.2,
           "rgb(214,96,77)"
          ],
          [
           0.3,
           "rgb(244,165,130)"
          ],
          [
           0.4,
           "rgb(253,219,199)"
          ],
          [
           0.5,
           "rgb(247,247,247)"
          ],
          [
           0.6,
           "rgb(209,229,240)"
          ],
          [
           0.7,
           "rgb(146,197,222)"
          ],
          [
           0.8,
           "rgb(67,147,195)"
          ],
          [
           0.9,
           "rgb(33,102,172)"
          ],
          [
           1,
           "rgb(5,48,97)"
          ]
         ],
         "hoverongaps": false,
         "type": "heatmap",
         "x": [
          0,
          1,
          2,
          3,
          4,
          5,
          6,
          7
         ],
         "xaxis": "x54",
         "y": [
          "H",
          "G",
          "F",
          "E",
          "D",
          "C",
          "B",
          "A"
         ],
         "yaxis": "y54",
         "z": [
          [
           -0.00033076960244216025,
           -0.02809591218829155,
           -0.021968644112348557,
           0.0006356635130941868,
           0.004498532973229885,
           0.017038151621818542,
           -0.024760913103818893,
           -0.03327060490846634
          ],
          [
           -0.003925084136426449,
           -0.036850105971097946,
           -0.15014035999774933,
           -0.33426785469055176,
           -0.34233805537223816,
           -0.3181861639022827,
           -0.23950812220573425,
           -0.023634586483240128
          ],
          [
           0.02213471010327339,
           -0.1136908009648323,
           -0.315079003572464,
           -0.2993491291999817,
           -0.419980525970459,
           -0.36521822214126587,
           -0.3586466610431671,
           -0.03998654708266258
          ],
          [
           -0.014083681628108025,
           -0.08258716017007828,
           -0.3106320798397064,
           -0.5596609115600586,
           -0.5644135475158691,
           -0.3995088040828705,
           -0.36769968271255493,
           -0.01324534136801958
          ],
          [
           0.011857490986585617,
           -0.06638257950544357,
           -0.34659823775291443,
           -0.495536208152771,
           -0.5160256624221802,
           -0.40561121702194214,
           -0.3200179934501648,
           -0.007884195074439049
          ],
          [
           -0.017051704227924347,
           -0.12301744520664215,
           -0.37008029222488403,
           -0.448915958404541,
           -0.2911127209663391,
           -0.3227354884147644,
           -0.3587009012699127,
           -0.00553444167599082
          ],
          [
           -0.02092263661324978,
           -0.06263068318367004,
           -0.27303287386894226,
           -0.3614811599254608,
           -0.3639238476753235,
           -0.3857293426990509,
           -0.22674325108528137,
           -0.05064539611339569
          ],
          [
           -0.011956177651882172,
           -0.0172584168612957,
           0.009030020795762539,
           0.011491765268146992,
           0.0013754551764577627,
           -0.0008506052545271814,
           -0.013085328973829746,
           -0.003893606597557664
          ]
         ],
         "zmax": 0.6861146688461304,
         "zmin": -0.6861146688461304
        },
        {
         "colorscale": [
          [
           0,
           "rgb(103,0,31)"
          ],
          [
           0.1,
           "rgb(178,24,43)"
          ],
          [
           0.2,
           "rgb(214,96,77)"
          ],
          [
           0.3,
           "rgb(244,165,130)"
          ],
          [
           0.4,
           "rgb(253,219,199)"
          ],
          [
           0.5,
           "rgb(247,247,247)"
          ],
          [
           0.6,
           "rgb(209,229,240)"
          ],
          [
           0.7,
           "rgb(146,197,222)"
          ],
          [
           0.8,
           "rgb(67,147,195)"
          ],
          [
           0.9,
           "rgb(33,102,172)"
          ],
          [
           1,
           "rgb(5,48,97)"
          ]
         ],
         "hoverongaps": false,
         "type": "heatmap",
         "x": [
          0,
          1,
          2,
          3,
          4,
          5,
          6,
          7
         ],
         "xaxis": "x62",
         "y": [
          "H",
          "G",
          "F",
          "E",
          "D",
          "C",
          "B",
          "A"
         ],
         "yaxis": "y62",
         "z": [
          [
           -0.005867926869541407,
           0.00778151024132967,
           -0.02475561387836933,
           0.057179197669029236,
           0.048280298709869385,
           -0.016560398042201996,
           -0.0049362992867827415,
           0.003606199286878109
          ],
          [
           0.019365504384040833,
           -0.10433119535446167,
           -0.1000571995973587,
           -0.06382260471582413,
           -0.08086416870355606,
           -0.12168961018323898,
           -0.16950707137584686,
           0.02916843257844448
          ],
          [
           -0.0019425606587901711,
           -0.10382190346717834,
           -0.05394307151436806,
           0.002496978035196662,
           -0.0723349079489708,
           -0.11178148537874222,
           -0.1604476273059845,
           0.03897290676832199
          ],
          [
           -0.00008434463234152645,
           -0.10413186252117157,
           -0.05959464609622955,
           -0.0453338660299778,
           -0.021602092310786247,
           -0.035073570907115936,
           -0.05760158970952034,
           0.07018278539180756
          ],
          [
           -0.007443839684128761,
           -0.07107354700565338,
           -0.04883408546447754,
           -0.12222103774547577,
           -0.07480765134096146,
           -0.05070193484425545,
           -0.039262618869543076,
           0.0646372139453888
          ],
          [
           0.008805643767118454,
           -0.13307343423366547,
           -0.06690962612628937,
           -0.09014615416526794,
           -0.11120158433914185,
           -0.08593741059303284,
           -0.12647274136543274,
           0.0468498095870018
          ],
          [
           -0.010120161809027195,
           -0.21625356376171112,
           -0.16199487447738647,
           -0.11318470537662506,
           -0.11631792038679123,
           -0.1802457571029663,
           -0.21179203689098358,
           0.03189517557621002
          ],
          [
           -0.010082433000206947,
           -0.03247426450252533,
           -0.009479708969593048,
           0.0027468285989016294,
           -0.01102252583950758,
           -0.039547428488731384,
           0.006049223709851503,
           0.01949855126440525
          ]
         ],
         "zmax": 0.6861146688461304,
         "zmin": -0.6861146688461304
        },
        {
         "colorscale": [
          [
           0,
           "rgb(103,0,31)"
          ],
          [
           0.1,
           "rgb(178,24,43)"
          ],
          [
           0.2,
           "rgb(214,96,77)"
          ],
          [
           0.3,
           "rgb(244,165,130)"
          ],
          [
           0.4,
           "rgb(253,219,199)"
          ],
          [
           0.5,
           "rgb(247,247,247)"
          ],
          [
           0.6,
           "rgb(209,229,240)"
          ],
          [
           0.7,
           "rgb(146,197,222)"
          ],
          [
           0.8,
           "rgb(67,147,195)"
          ],
          [
           0.9,
           "rgb(33,102,172)"
          ],
          [
           1,
           "rgb(5,48,97)"
          ]
         ],
         "hoverongaps": false,
         "type": "heatmap",
         "x": [
          0,
          1,
          2,
          3,
          4,
          5,
          6,
          7
         ],
         "xaxis": "x7",
         "y": [
          "H",
          "G",
          "F",
          "E",
          "D",
          "C",
          "B",
          "A"
         ],
         "yaxis": "y7",
         "z": [
          [
           0,
           0,
           0,
           0,
           0,
           0,
           0,
           0
          ],
          [
           0,
           0,
           0,
           0,
           0,
           0,
           0,
           0
          ],
          [
           0,
           0,
           0,
           0,
           0,
           0,
           0,
           0
          ],
          [
           0,
           0,
           0,
           0,
           0,
           0,
           0,
           0
          ],
          [
           0,
           0,
           0,
           0,
           0,
           0,
           0,
           0
          ],
          [
           0,
           0,
           0,
           0,
           0,
           0,
           0,
           0
          ],
          [
           0,
           0,
           0,
           0,
           0,
           0,
           0,
           0
          ],
          [
           0,
           0,
           0,
           0,
           0,
           0,
           0,
           0
          ]
         ],
         "zmax": 0.6861146688461304,
         "zmin": -0.6861146688461304
        },
        {
         "colorscale": [
          [
           0,
           "rgb(103,0,31)"
          ],
          [
           0.1,
           "rgb(178,24,43)"
          ],
          [
           0.2,
           "rgb(214,96,77)"
          ],
          [
           0.3,
           "rgb(244,165,130)"
          ],
          [
           0.4,
           "rgb(253,219,199)"
          ],
          [
           0.5,
           "rgb(247,247,247)"
          ],
          [
           0.6,
           "rgb(209,229,240)"
          ],
          [
           0.7,
           "rgb(146,197,222)"
          ],
          [
           0.8,
           "rgb(67,147,195)"
          ],
          [
           0.9,
           "rgb(33,102,172)"
          ],
          [
           1,
           "rgb(5,48,97)"
          ]
         ],
         "hoverongaps": false,
         "type": "heatmap",
         "x": [
          0,
          1,
          2,
          3,
          4,
          5,
          6,
          7
         ],
         "xaxis": "x15",
         "y": [
          "H",
          "G",
          "F",
          "E",
          "D",
          "C",
          "B",
          "A"
         ],
         "yaxis": "y15",
         "z": [
          [
           -0.07591716945171356,
           0.0069520375691354275,
           0.006221867632120848,
           -0.015137369744479656,
           -0.025877749547362328,
           0.0004291427612770349,
           -0.009676187299191952,
           -0.04820982739329338
          ],
          [
           0.40077731013298035,
           0.33890509605407715,
           0.12355127185583115,
           0.032728079706430435,
           -0.04578851908445358,
           -0.015551908873021603,
           -0.012268527410924435,
           0.003819246543571353
          ],
          [
           0.3280978798866272,
           0.467107355594635,
           0.4255979359149933,
           0.14171390235424042,
           0.034532997757196426,
           0.012433478608727455,
           0.030773350968956947,
           0.05713686719536781
          ],
          [
           0.31020301580429077,
           0.4590901732444763,
           0.41243743896484375,
           0.5160761475563049,
           0.16991651058197021,
           0.026780875399708748,
           0.022173315286636353,
           0.09702702611684799
          ],
          [
           0.3871718645095825,
           0.4629133641719818,
           0.5159211754798889,
           0.5875294208526611,
           0.5852833986282349,
           0.3007887303829193,
           0.19486218690872192,
           0.1673952341079712
          ],
          [
           0.339434415102005,
           0.4370231330394745,
           0.4566259980201721,
           0.4734540581703186,
           0.4448161721229553,
           0.47144898772239685,
           0.35590073466300964,
           0.2271096557378769
          ],
          [
           0.40915143489837646,
           0.3652614653110504,
           0.5153751969337463,
           0.456918865442276,
           0.49150386452674866,
           0.48918959498405457,
           0.44867265224456787,
           0.21913501620292664
          ],
          [
           -0.044507984071969986,
           0.38573721051216125,
           0.47766822576522827,
           0.4106585383415222,
           0.48305201530456543,
           0.40729930996894836,
           0.4633825123310089,
           -0.02956197038292885
          ]
         ],
         "zmax": 0.6861146688461304,
         "zmin": -0.6861146688461304
        },
        {
         "colorscale": [
          [
           0,
           "rgb(103,0,31)"
          ],
          [
           0.1,
           "rgb(178,24,43)"
          ],
          [
           0.2,
           "rgb(214,96,77)"
          ],
          [
           0.3,
           "rgb(244,165,130)"
          ],
          [
           0.4,
           "rgb(253,219,199)"
          ],
          [
           0.5,
           "rgb(247,247,247)"
          ],
          [
           0.6,
           "rgb(209,229,240)"
          ],
          [
           0.7,
           "rgb(146,197,222)"
          ],
          [
           0.8,
           "rgb(67,147,195)"
          ],
          [
           0.9,
           "rgb(33,102,172)"
          ],
          [
           1,
           "rgb(5,48,97)"
          ]
         ],
         "hoverongaps": false,
         "type": "heatmap",
         "x": [
          0,
          1,
          2,
          3,
          4,
          5,
          6,
          7
         ],
         "xaxis": "x23",
         "y": [
          "H",
          "G",
          "F",
          "E",
          "D",
          "C",
          "B",
          "A"
         ],
         "yaxis": "y23",
         "z": [
          [
           -0.07084733992815018,
           0.2871845066547394,
           0.36070582270622253,
           0.34750017523765564,
           0.34704092144966125,
           0.32672885060310364,
           -0.03498039394617081,
           -0.07328402251005173
          ],
          [
           0.32631272077560425,
           0.40681540966033936,
           0.47684577107429504,
           0.45202064514160156,
           0.4368954300880432,
           0.5077431797981262,
           0.55889493227005,
           -0.028428832069039345
          ],
          [
           0.5262483358383179,
           0.4395391047000885,
           0.45918816328048706,
           0.3904617130756378,
           0.4283609986305237,
           0.4097994863986969,
           0.4629330039024353,
           -0.022004464641213417
          ],
          [
           0.5180338621139526,
           0.4752208888530731,
           0.3335529565811157,
           0.6236783266067505,
           0.5478940010070801,
           0.43885377049446106,
           0.2712767422199249,
           0.029662469401955605
          ],
          [
           0.5292696356773376,
           0.5757315158843994,
           0.4517476260662079,
           0.5535629987716675,
           0.02573108859360218,
           0.05502290278673172,
           0.013801411725580692,
           0.006864091381430626
          ],
          [
           0.42593348026275635,
           0.5355132818222046,
           0.4583602547645569,
           0.32546234130859375,
           0.04823984578251839,
           0.09151194989681244,
           0.023337386548519135,
           -0.0014640861190855503
          ],
          [
           -0.027990877628326416,
           0.4524824321269989,
           0.4812074899673462,
           0.09143126755952835,
           0.037702273577451706,
           0.03497004508972168,
           0.008060271851718426,
           -0.004670273512601852
          ],
          [
           -0.034134458750486374,
           -0.07166202366352081,
           -0.0210434477776289,
           0.011888707987964153,
           -0.01980840228497982,
           -0.0063170986250042915,
           -0.011484586633741856,
           -0.02778731659054756
          ]
         ],
         "zmax": 0.6861146688461304,
         "zmin": -0.6861146688461304
        },
        {
         "colorscale": [
          [
           0,
           "rgb(103,0,31)"
          ],
          [
           0.1,
           "rgb(178,24,43)"
          ],
          [
           0.2,
           "rgb(214,96,77)"
          ],
          [
           0.3,
           "rgb(244,165,130)"
          ],
          [
           0.4,
           "rgb(253,219,199)"
          ],
          [
           0.5,
           "rgb(247,247,247)"
          ],
          [
           0.6,
           "rgb(209,229,240)"
          ],
          [
           0.7,
           "rgb(146,197,222)"
          ],
          [
           0.8,
           "rgb(67,147,195)"
          ],
          [
           0.9,
           "rgb(33,102,172)"
          ],
          [
           1,
           "rgb(5,48,97)"
          ]
         ],
         "hoverongaps": false,
         "type": "heatmap",
         "x": [
          0,
          1,
          2,
          3,
          4,
          5,
          6,
          7
         ],
         "xaxis": "x31",
         "y": [
          "H",
          "G",
          "F",
          "E",
          "D",
          "C",
          "B",
          "A"
         ],
         "yaxis": "y31",
         "z": [
          [
           0.008065659552812576,
           -0.021699227392673492,
           -0.029799405485391617,
           -0.01365059707313776,
           -0.043410081416368484,
           -0.01033091451972723,
           -0.10505641251802444,
           -0.047199804335832596
          ],
          [
           -0.004480170551687479,
           0.0024141757749021053,
           0.026934126392006874,
           -0.04567953944206238,
           -0.009468000382184982,
           -0.039293400943279266,
           -0.3491467237472534,
           -0.38560178875923157
          ],
          [
           -0.05439918860793114,
           0.017451897263526917,
           -0.007789107039570808,
           -0.008001717738807201,
           -0.3067784905433655,
           -0.42308148741722107,
           -0.53396075963974,
           -0.3911166489124298
          ],
          [
           0.0034633141476660967,
           -0.04795970022678375,
           -0.02736332081258297,
           -0.3135022521018982,
           -0.360495001077652,
           -0.4139367640018463,
           -0.4853363335132599,
           -0.5065924525260925
          ],
          [
           -0.12731510400772095,
           -0.41504377126693726,
           -0.13007928431034088,
           -0.08677395433187485,
           -0.5478386282920837,
           -0.4113224148750305,
           -0.4916079640388489,
           -0.45144712924957275
          ],
          [
           -0.06289453059434891,
           -0.48499801754951477,
           -0.43551313877105713,
           -0.15887752175331116,
           -0.1710011065006256,
           -0.49504369497299194,
           -0.4640263617038727,
           -0.49128827452659607
          ],
          [
           -0.16563721001148224,
           -0.4161171019077301,
           -0.42465415596961975,
           -0.10344173014163971,
           -0.0743417739868164,
           -0.29323866963386536,
           -0.4186457395553589,
           -0.3934915065765381
          ],
          [
           0.0031214577611535788,
           -0.4004167914390564,
           -0.03881784901022911,
           -0.014279386028647423,
           -0.06063849478960037,
           -0.02871059812605381,
           -0.051632996648550034,
           -0.03825506940484047
          ]
         ],
         "zmax": 0.6861146688461304,
         "zmin": -0.6861146688461304
        },
        {
         "colorscale": [
          [
           0,
           "rgb(103,0,31)"
          ],
          [
           0.1,
           "rgb(178,24,43)"
          ],
          [
           0.2,
           "rgb(214,96,77)"
          ],
          [
           0.3,
           "rgb(244,165,130)"
          ],
          [
           0.4,
           "rgb(253,219,199)"
          ],
          [
           0.5,
           "rgb(247,247,247)"
          ],
          [
           0.6,
           "rgb(209,229,240)"
          ],
          [
           0.7,
           "rgb(146,197,222)"
          ],
          [
           0.8,
           "rgb(67,147,195)"
          ],
          [
           0.9,
           "rgb(33,102,172)"
          ],
          [
           1,
           "rgb(5,48,97)"
          ]
         ],
         "hoverongaps": false,
         "type": "heatmap",
         "x": [
          0,
          1,
          2,
          3,
          4,
          5,
          6,
          7
         ],
         "xaxis": "x39",
         "y": [
          "H",
          "G",
          "F",
          "E",
          "D",
          "C",
          "B",
          "A"
         ],
         "yaxis": "y39",
         "z": [
          [
           0.0007809748058207333,
           0.014624569565057755,
           0.08579196035861969,
           0.15627339482307434,
           0.25012868642807007,
           0.09216788411140442,
           0.03260660544037819,
           -0.00903073139488697
          ],
          [
           0.07084504514932632,
           0.45949774980545044,
           0.47937649488449097,
           0.5236450433731079,
           0.5263152122497559,
           0.5109005570411682,
           0.4776608943939209,
           0.03630199283361435
          ],
          [
           0.05191066488623619,
           0.48803019523620605,
           0.4740157723426819,
           0.46569889783859253,
           0.5024922490119934,
           0.48556748032569885,
           0.550496518611908,
           0.05846969038248062
          ],
          [
           0.013262256048619747,
           0.5836958885192871,
           0.44892066717147827,
           0.6520763635635376,
           0.6464937925338745,
           0.4549395442008972,
           0.52975994348526,
           0.1653524488210678
          ],
          [
           -0.00508815748617053,
           0.575494647026062,
           0.5758779644966125,
           0.6309759020805359,
           0.6640370488166809,
           0.5116851925849915,
           0.4907993972301483,
           0.10370189696550369
          ],
          [
           -0.01735752262175083,
           0.2757239043712616,
           0.5079841613769531,
           0.5547122359275818,
           0.5448077917098999,
           0.49777883291244507,
           0.5328126549720764,
           0.13392792642116547
          ],
          [
           -0.007711711805313826,
           0.08487442880868912,
           0.2826891243457794,
           0.5864887237548828,
           0.5858131647109985,
           0.5303763151168823,
           0.47084763646125793,
           0.10727573186159134
          ],
          [
           -0.006989665795117617,
           -0.02546880953013897,
           -0.023044433444738388,
           -0.0028238464146852493,
           0.022745585069060326,
           -0.000032325286156265065,
           -0.016013748943805695,
           0.016453398391604424
          ]
         ],
         "zmax": 0.6861146688461304,
         "zmin": -0.6861146688461304
        },
        {
         "colorscale": [
          [
           0,
           "rgb(103,0,31)"
          ],
          [
           0.1,
           "rgb(178,24,43)"
          ],
          [
           0.2,
           "rgb(214,96,77)"
          ],
          [
           0.3,
           "rgb(244,165,130)"
          ],
          [
           0.4,
           "rgb(253,219,199)"
          ],
          [
           0.5,
           "rgb(247,247,247)"
          ],
          [
           0.6,
           "rgb(209,229,240)"
          ],
          [
           0.7,
           "rgb(146,197,222)"
          ],
          [
           0.8,
           "rgb(67,147,195)"
          ],
          [
           0.9,
           "rgb(33,102,172)"
          ],
          [
           1,
           "rgb(5,48,97)"
          ]
         ],
         "hoverongaps": false,
         "type": "heatmap",
         "x": [
          0,
          1,
          2,
          3,
          4,
          5,
          6,
          7
         ],
         "xaxis": "x47",
         "y": [
          "H",
          "G",
          "F",
          "E",
          "D",
          "C",
          "B",
          "A"
         ],
         "yaxis": "y47",
         "z": [
          [
           -0.0030737074557691813,
           0.002089807065203786,
           -0.014147412031888962,
           -0.03438403457403183,
           0.007607356645166874,
           0.02043653093278408,
           -0.0048666237853467464,
           -0.013926737010478973
          ],
          [
           -0.010363147594034672,
           0.0024608334060758352,
           -0.015628114342689514,
           -0.012465971522033215,
           0.04638531431555748,
           0.015592535957694054,
           0.07729855179786682,
           -0.03398026153445244
          ],
          [
           0.010394379496574402,
           -0.00796447042375803,
           0.0037719602696597576,
           0.10902781039476395,
           0.19731049239635468,
           0.418380469083786,
           0.4581676423549652,
           0.016039196401834488
          ],
          [
           -0.006031482480466366,
           0.2548575699329376,
           0.3315265476703644,
           0.4723609387874603,
           0.5746385455131531,
           0.5416368246078491,
           0.4373456537723541,
           0.021697843447327614
          ],
          [
           0.0002512254868634045,
           0.40825334191322327,
           0.4436480700969696,
           0.4939691126346588,
           0.524467408657074,
           0.4555024802684784,
           0.39623889327049255,
           0.004825602285563946
          ],
          [
           0.022404048591852188,
           0.42844220995903015,
           0.49505260586738586,
           0.5063858032226562,
           0.4098668396472931,
           0.4173993170261383,
           0.3843674063682556,
           0.00042971191578544676
          ],
          [
           0.006845338270068169,
           0.398514986038208,
           0.365349143743515,
           0.43560290336608887,
           0.4396802484989166,
           0.44112640619277954,
           0.2940031588077545,
           0.047270502895116806
          ],
          [
           -0.018066897988319397,
           0.03145704045891762,
           0.03530045598745346,
           -0.008235731162130833,
           0.02496146410703659,
           -0.011724342592060566,
           0.026375602930784225,
           -0.028439000248908997
          ]
         ],
         "zmax": 0.6861146688461304,
         "zmin": -0.6861146688461304
        },
        {
         "colorscale": [
          [
           0,
           "rgb(103,0,31)"
          ],
          [
           0.1,
           "rgb(178,24,43)"
          ],
          [
           0.2,
           "rgb(214,96,77)"
          ],
          [
           0.3,
           "rgb(244,165,130)"
          ],
          [
           0.4,
           "rgb(253,219,199)"
          ],
          [
           0.5,
           "rgb(247,247,247)"
          ],
          [
           0.6,
           "rgb(209,229,240)"
          ],
          [
           0.7,
           "rgb(146,197,222)"
          ],
          [
           0.8,
           "rgb(67,147,195)"
          ],
          [
           0.9,
           "rgb(33,102,172)"
          ],
          [
           1,
           "rgb(5,48,97)"
          ]
         ],
         "hoverongaps": false,
         "type": "heatmap",
         "x": [
          0,
          1,
          2,
          3,
          4,
          5,
          6,
          7
         ],
         "xaxis": "x55",
         "y": [
          "H",
          "G",
          "F",
          "E",
          "D",
          "C",
          "B",
          "A"
         ],
         "yaxis": "y55",
         "z": [
          [
           -0.01367036160081625,
           0.0068246894516050816,
           0.038686808198690414,
           0.004532617051154375,
           0.00914385449141264,
           0.002392789348959923,
           0.011733278632164001,
           -0.004233579616993666
          ],
          [
           -0.03530072048306465,
           -0.005651014391332865,
           0.028386898338794708,
           0.29976406693458557,
           0.38695335388183594,
           0.26167377829551697,
           0.28365254402160645,
           0.04384101927280426
          ],
          [
           0.000013449631296680309,
           0.06771820783615112,
           0.08232498168945312,
           0.2769409120082855,
           0.45387566089630127,
           0.39022135734558105,
           0.3283469080924988,
           0.048407237976789474
          ],
          [
           -0.00412759929895401,
           0.037383440881967545,
           0.047301627695560455,
           0.2824832499027252,
           0.5629227757453918,
           0.39742782711982727,
           0.3832193613052368,
           0.02020450122654438
          ],
          [
           0.010281657800078392,
           0.027120521292090416,
           0.03322622552514076,
           0.18544934689998627,
           0.3550357222557068,
           0.3851225972175598,
           0.26665374636650085,
           0.00344259524717927
          ],
          [
           0.023508235812187195,
           0.037797313183546066,
           0.07559619843959808,
           0.05278383195400238,
           0.09638100117444992,
           -0.006449214648455381,
           0.054131876677274704,
           0.025688935071229935
          ],
          [
           0.024317942559719086,
           0.02606147713959217,
           0.08661701530218124,
           0.07846517115831375,
           0.06279731541872025,
           0.016911786049604416,
           0.011828425340354443,
           0.004088527988642454
          ],
          [
           -0.03471048176288605,
           -0.028469126671552658,
           0.04285801202058792,
           0.012796642258763313,
           0.016817212104797363,
           0.04019725322723389,
           -0.03630803897976875,
           -0.0267794132232666
          ]
         ],
         "zmax": 0.6861146688461304,
         "zmin": -0.6861146688461304
        },
        {
         "colorscale": [
          [
           0,
           "rgb(103,0,31)"
          ],
          [
           0.1,
           "rgb(178,24,43)"
          ],
          [
           0.2,
           "rgb(214,96,77)"
          ],
          [
           0.3,
           "rgb(244,165,130)"
          ],
          [
           0.4,
           "rgb(253,219,199)"
          ],
          [
           0.5,
           "rgb(247,247,247)"
          ],
          [
           0.6,
           "rgb(209,229,240)"
          ],
          [
           0.7,
           "rgb(146,197,222)"
          ],
          [
           0.8,
           "rgb(67,147,195)"
          ],
          [
           0.9,
           "rgb(33,102,172)"
          ],
          [
           1,
           "rgb(5,48,97)"
          ]
         ],
         "hoverongaps": false,
         "type": "heatmap",
         "x": [
          0,
          1,
          2,
          3,
          4,
          5,
          6,
          7
         ],
         "xaxis": "x63",
         "y": [
          "H",
          "G",
          "F",
          "E",
          "D",
          "C",
          "B",
          "A"
         ],
         "yaxis": "y63",
         "z": [
          [
           0.04889357089996338,
           -0.00024212140124291182,
           -0.044705670326948166,
           -0.053871963173151016,
           -0.034648340195417404,
           0.043492380529642105,
           0.05745011195540428,
           0.09644776582717896
          ],
          [
           0.018960343673825264,
           0.0030620982870459557,
           -0.015000871382653713,
           -0.047170981764793396,
           -0.021316051483154297,
           -0.08794351667165756,
           0.002588975476101041,
           0.06265460699796677
          ],
          [
           0.023889023810625076,
           -0.000830026576295495,
           0.024417486041784286,
           -0.01754768192768097,
           -0.000081940735981334,
           -0.0594697967171669,
           -0.01425113994628191,
           0.0076896995306015015
          ],
          [
           0.018122270703315735,
           -0.054540958255529404,
           -0.021503517404198647,
           -0.005017662420868874,
           -0.035499583929777145,
           0.0023910580202937126,
           -0.04760738089680672,
           -0.07911382615566254
          ],
          [
           -0.0502917543053627,
           0.0027311628218740225,
           -0.010290613397955894,
           -0.008255365304648876,
           -0.05077314376831055,
           -0.021589763462543488,
           -0.05564563348889351,
           -0.09944026172161102
          ],
          [
           0.011506562121212482,
           -0.004607786424458027,
           0.008997137658298016,
           -0.0007999743102118373,
           0.010455810464918613,
           0.0018332952167838812,
           -0.08452287316322327,
           0.06008902192115784
          ],
          [
           0.008905114606022835,
           0.04000905528664589,
           0.025254789739847183,
           0.05227375030517578,
           0.007969159632921219,
           -0.04190779849886894,
           -0.047236453741788864,
           -0.009054923430085182
          ],
          [
           0.08074984699487686,
           0.03213819861412048,
           0.035101864486932755,
           -0.019355548545718193,
           -0.024263698607683182,
           -0.026274001225829124,
           0.06242338567972183,
           0.04806489869952202
          ]
         ],
         "zmax": 0.6861146688461304,
         "zmin": -0.6861146688461304
        },
        {
         "colorscale": [
          [
           0,
           "rgb(103,0,31)"
          ],
          [
           0.1,
           "rgb(178,24,43)"
          ],
          [
           0.2,
           "rgb(214,96,77)"
          ],
          [
           0.3,
           "rgb(244,165,130)"
          ],
          [
           0.4,
           "rgb(253,219,199)"
          ],
          [
           0.5,
           "rgb(247,247,247)"
          ],
          [
           0.6,
           "rgb(209,229,240)"
          ],
          [
           0.7,
           "rgb(146,197,222)"
          ],
          [
           0.8,
           "rgb(67,147,195)"
          ],
          [
           0.9,
           "rgb(33,102,172)"
          ],
          [
           1,
           "rgb(5,48,97)"
          ]
         ],
         "hoverongaps": false,
         "type": "heatmap",
         "x": [
          0,
          1,
          2,
          3,
          4,
          5,
          6,
          7
         ],
         "xaxis": "x8",
         "y": [
          "H",
          "G",
          "F",
          "E",
          "D",
          "C",
          "B",
          "A"
         ],
         "yaxis": "y8",
         "z": [
          [
           0,
           0,
           0,
           0,
           0,
           0,
           0,
           0
          ],
          [
           0,
           0,
           0,
           0,
           0,
           0,
           0,
           0
          ],
          [
           0,
           0,
           0,
           0,
           0,
           0,
           0,
           0
          ],
          [
           0,
           0,
           0,
           0,
           0,
           0,
           0,
           0
          ],
          [
           0,
           0,
           0,
           0,
           0,
           0,
           0,
           0
          ],
          [
           0,
           0,
           0,
           0,
           0,
           0,
           0,
           0
          ],
          [
           0,
           0,
           0,
           0,
           0,
           0,
           0,
           0
          ],
          [
           0,
           0,
           0,
           0,
           0,
           0,
           0,
           0
          ]
         ],
         "zmax": 0.6861146688461304,
         "zmin": -0.6861146688461304
        },
        {
         "colorscale": [
          [
           0,
           "rgb(103,0,31)"
          ],
          [
           0.1,
           "rgb(178,24,43)"
          ],
          [
           0.2,
           "rgb(214,96,77)"
          ],
          [
           0.3,
           "rgb(244,165,130)"
          ],
          [
           0.4,
           "rgb(253,219,199)"
          ],
          [
           0.5,
           "rgb(247,247,247)"
          ],
          [
           0.6,
           "rgb(209,229,240)"
          ],
          [
           0.7,
           "rgb(146,197,222)"
          ],
          [
           0.8,
           "rgb(67,147,195)"
          ],
          [
           0.9,
           "rgb(33,102,172)"
          ],
          [
           1,
           "rgb(5,48,97)"
          ]
         ],
         "hoverongaps": false,
         "type": "heatmap",
         "x": [
          0,
          1,
          2,
          3,
          4,
          5,
          6,
          7
         ],
         "xaxis": "x16",
         "y": [
          "H",
          "G",
          "F",
          "E",
          "D",
          "C",
          "B",
          "A"
         ],
         "yaxis": "y16",
         "z": [
          [
           -0.049178723245859146,
           -0.033635616302490234,
           0.001450495095923543,
           -0.03040708228945732,
           -0.006008880212903023,
           -0.012515490874648094,
           -0.07031764090061188,
           0.02610970474779606
          ],
          [
           -0.02070295438170433,
           0.0703287348151207,
           -0.11395995318889618,
           0.05810569226741791,
           0.037008434534072876,
           -0.003760149935260415,
           -0.004350312054157257,
           -0.525772750377655
          ],
          [
           -0.0010620900429785252,
           0.023725764825940132,
           -0.07763349264860153,
           0.0085804034024477,
           -0.08104738593101501,
           -0.18888886272907257,
           -0.1541784107685089,
           -0.525199830532074
          ],
          [
           0.004331085830926895,
           0.07459403574466705,
           -0.13064835965633392,
           -0.07028878480195999,
           -0.09068037569522858,
           -0.16587910056114197,
           -0.2656441926956177,
           -0.4856334924697876
          ],
          [
           -0.015969568863511086,
           0.048792764544487,
           -0.2087235450744629,
           -0.12253554165363312,
           -0.08036550879478455,
           -0.15260258316993713,
           -0.17048881947994232,
           -0.49046772718429565
          ],
          [
           -0.032468341290950775,
           0.08510793000459671,
           -0.1415625810623169,
           -0.11440692096948624,
           -0.13671483099460602,
           -0.17013834416866302,
           -0.09927554428577423,
           -0.5082805156707764
          ],
          [
           -0.007866033352911472,
           0.08393537998199463,
           -0.07384344190359116,
           -0.14774766564369202,
           -0.24873138964176178,
           -0.10742025077342987,
           -0.07576712965965271,
           -0.5013200640678406
          ],
          [
           -0.026867056265473366,
           -0.06744533032178879,
           -0.03807428851723671,
           -0.17093607783317566,
           -0.1785130798816681,
           -0.23081205785274506,
           -0.207078218460083,
           0.11151320487260818
          ]
         ],
         "zmax": 0.6861146688461304,
         "zmin": -0.6861146688461304
        },
        {
         "colorscale": [
          [
           0,
           "rgb(103,0,31)"
          ],
          [
           0.1,
           "rgb(178,24,43)"
          ],
          [
           0.2,
           "rgb(214,96,77)"
          ],
          [
           0.3,
           "rgb(244,165,130)"
          ],
          [
           0.4,
           "rgb(253,219,199)"
          ],
          [
           0.5,
           "rgb(247,247,247)"
          ],
          [
           0.6,
           "rgb(209,229,240)"
          ],
          [
           0.7,
           "rgb(146,197,222)"
          ],
          [
           0.8,
           "rgb(67,147,195)"
          ],
          [
           0.9,
           "rgb(33,102,172)"
          ],
          [
           1,
           "rgb(5,48,97)"
          ]
         ],
         "hoverongaps": false,
         "type": "heatmap",
         "x": [
          0,
          1,
          2,
          3,
          4,
          5,
          6,
          7
         ],
         "xaxis": "x24",
         "y": [
          "H",
          "G",
          "F",
          "E",
          "D",
          "C",
          "B",
          "A"
         ],
         "yaxis": "y24",
         "z": [
          [
           -0.028492704033851624,
           0.39061886072158813,
           0.3733539283275604,
           0.4696502983570099,
           0.10592881590127945,
           0.021597906947135925,
           -0.03123999945819378,
           -0.03752861171960831
          ],
          [
           -0.04429952800273895,
           0.5223274230957031,
           0.5763894319534302,
           0.5593777894973755,
           0.42694246768951416,
           0.17779666185379028,
           0.17513912916183472,
           0.3008596897125244
          ],
          [
           -0.03343565762042999,
           0.5245850682258606,
           0.5137038230895996,
           0.40284034609794617,
           0.4182184636592865,
           0.4171355068683624,
           0.4957503080368042,
           0.3627597689628601
          ],
          [
           -0.010724573396146297,
           0.42071473598480225,
           0.3692525029182434,
           0.25407907366752625,
           0.4181632101535797,
           0.4029666781425476,
           0.4664424955844879,
           0.4357123374938965
          ],
          [
           -0.02523355558514595,
           0.10556764900684357,
           0.18801912665367126,
           0.1295584887266159,
           0.5989639759063721,
           0.3950366973876953,
           0.4985637068748474,
           0.38511115312576294
          ],
          [
           -0.04941454902291298,
           0.1462896317243576,
           0.22471877932548523,
           0.415744423866272,
           0.4581870138645172,
           0.5287729501724243,
           0.45210108160972595,
           0.3377307057380676
          ],
          [
           0.2954723536968231,
           0.3125292956829071,
           0.4811924397945404,
           0.5284760594367981,
           0.5802099704742432,
           0.5194166898727417,
           0.4426269829273224,
           0.27369678020477295
          ],
          [
           0.0016867348458617926,
           0.2331080436706543,
           0.41555169224739075,
           0.484870046377182,
           0.5410464406013489,
           0.39215412735939026,
           0.31443753838539124,
           -0.1242479681968689
          ]
         ],
         "zmax": 0.6861146688461304,
         "zmin": -0.6861146688461304
        },
        {
         "colorscale": [
          [
           0,
           "rgb(103,0,31)"
          ],
          [
           0.1,
           "rgb(178,24,43)"
          ],
          [
           0.2,
           "rgb(214,96,77)"
          ],
          [
           0.3,
           "rgb(244,165,130)"
          ],
          [
           0.4,
           "rgb(253,219,199)"
          ],
          [
           0.5,
           "rgb(247,247,247)"
          ],
          [
           0.6,
           "rgb(209,229,240)"
          ],
          [
           0.7,
           "rgb(146,197,222)"
          ],
          [
           0.8,
           "rgb(67,147,195)"
          ],
          [
           0.9,
           "rgb(33,102,172)"
          ],
          [
           1,
           "rgb(5,48,97)"
          ]
         ],
         "hoverongaps": false,
         "type": "heatmap",
         "x": [
          0,
          1,
          2,
          3,
          4,
          5,
          6,
          7
         ],
         "xaxis": "x32",
         "y": [
          "H",
          "G",
          "F",
          "E",
          "D",
          "C",
          "B",
          "A"
         ],
         "yaxis": "y32",
         "z": [
          [
           0.020465416833758354,
           -0.055546846240758896,
           -0.14905592799186707,
           -0.3952888548374176,
           -0.4265228509902954,
           -0.38373860716819763,
           -0.5957970023155212,
           -0.038984011858701706
          ],
          [
           -0.022009756416082382,
           0.01166708767414093,
           -0.33044201135635376,
           -0.5379784107208252,
           -0.5291027426719666,
           -0.4466177523136139,
           -0.4974620044231415,
           -0.19933508336544037
          ],
          [
           -0.0008739578770473599,
           -0.01548038236796856,
           -0.2807370722293854,
           -0.48621034622192383,
           -0.4037627875804901,
           -0.46868935227394104,
           -0.5092142820358276,
           -0.09038522839546204
          ],
          [
           0.015973780304193497,
           -0.015998683869838715,
           -0.12748001515865326,
           -0.5247388482093811,
           -0.5924256443977356,
           -0.46209976077079773,
           -0.5364775061607361,
           -0.08267641067504883
          ],
          [
           -0.020651189610362053,
           0.0028032036498188972,
           -0.10033972561359406,
           -0.4782376289367676,
           -0.5178502798080444,
           -0.3442692160606384,
           -0.2675943970680237,
           -0.06090724468231201
          ],
          [
           0.012376637198030949,
           0.006647295784205198,
           0.010864103212952614,
           -0.0663013830780983,
           -0.003667282173410058,
           0.028774406760931015,
           -0.012387729249894619,
           -0.031208211556077003
          ],
          [
           0.0032161700073629618,
           0.01913660764694214,
           0.034636348485946655,
           0.011233828961849213,
           -0.01409194990992546,
           0.021232908591628075,
           0.005184177774935961,
           -0.01869327761232853
          ],
          [
           0.040072962641716,
           -0.04856456071138382,
           -0.011538505554199219,
           0.01107582077383995,
           -0.007435519713908434,
           0.02812623791396618,
           -0.01128988154232502,
           -0.02619934268295765
          ]
         ],
         "zmax": 0.6861146688461304,
         "zmin": -0.6861146688461304
        },
        {
         "colorscale": [
          [
           0,
           "rgb(103,0,31)"
          ],
          [
           0.1,
           "rgb(178,24,43)"
          ],
          [
           0.2,
           "rgb(214,96,77)"
          ],
          [
           0.3,
           "rgb(244,165,130)"
          ],
          [
           0.4,
           "rgb(253,219,199)"
          ],
          [
           0.5,
           "rgb(247,247,247)"
          ],
          [
           0.6,
           "rgb(209,229,240)"
          ],
          [
           0.7,
           "rgb(146,197,222)"
          ],
          [
           0.8,
           "rgb(67,147,195)"
          ],
          [
           0.9,
           "rgb(33,102,172)"
          ],
          [
           1,
           "rgb(5,48,97)"
          ]
         ],
         "hoverongaps": false,
         "type": "heatmap",
         "x": [
          0,
          1,
          2,
          3,
          4,
          5,
          6,
          7
         ],
         "xaxis": "x40",
         "y": [
          "H",
          "G",
          "F",
          "E",
          "D",
          "C",
          "B",
          "A"
         ],
         "yaxis": "y40",
         "z": [
          [
           -0.011609737761318684,
           -0.1402914673089981,
           -0.19542817771434784,
           -0.19738423824310303,
           -0.18429166078567505,
           -0.15646754205226898,
           -0.12398839741945267,
           0.04402772709727287
          ],
          [
           -0.11831729859113693,
           -0.532674252986908,
           -0.5407633781433105,
           -0.5268236994743347,
           -0.4717820882797241,
           -0.507479727268219,
           -0.48359477519989014,
           -0.010768378153443336
          ],
          [
           -0.2117304503917694,
           -0.5227288007736206,
           -0.5572201609611511,
           -0.5153105854988098,
           -0.42898279428482056,
           -0.5473776459693909,
           -0.5083383917808533,
           -0.13791987299919128
          ],
          [
           -0.21702057123184204,
           -0.5531096458435059,
           -0.49601835012435913,
           -0.6252456903457642,
           -0.5860984325408936,
           -0.5149181485176086,
           -0.4077705442905426,
           -0.028074130415916443
          ],
          [
           -0.20891466736793518,
           -0.5827732086181641,
           -0.5650938749313354,
           -0.6136924028396606,
           -0.6072751879692078,
           -0.0025771844666451216,
           -0.08978669345378876,
           -0.08074728399515152
          ],
          [
           -0.10940632969141006,
           -0.6409667134284973,
           -0.5403903722763062,
           -0.3128528594970703,
           -0.011734017170965672,
           0.009274572134017944,
           0.00855780765414238,
           -0.042923081666231155
          ],
          [
           -0.17944619059562683,
           -0.41713497042655945,
           -0.5161792635917664,
           -0.011943217366933823,
           -0.014341574162244797,
           -0.008764414116740227,
           0.00903458520770073,
           -0.044872984290122986
          ],
          [
           0.03198232501745224,
           -0.07147330790758133,
           -0.0356794074177742,
           -0.03391299769282341,
           -0.053415779024362564,
           -0.010450922884047031,
           -0.01075491402298212,
           0.05433273687958717
          ]
         ],
         "zmax": 0.6861146688461304,
         "zmin": -0.6861146688461304
        },
        {
         "colorscale": [
          [
           0,
           "rgb(103,0,31)"
          ],
          [
           0.1,
           "rgb(178,24,43)"
          ],
          [
           0.2,
           "rgb(214,96,77)"
          ],
          [
           0.3,
           "rgb(244,165,130)"
          ],
          [
           0.4,
           "rgb(253,219,199)"
          ],
          [
           0.5,
           "rgb(247,247,247)"
          ],
          [
           0.6,
           "rgb(209,229,240)"
          ],
          [
           0.7,
           "rgb(146,197,222)"
          ],
          [
           0.8,
           "rgb(67,147,195)"
          ],
          [
           0.9,
           "rgb(33,102,172)"
          ],
          [
           1,
           "rgb(5,48,97)"
          ]
         ],
         "hoverongaps": false,
         "type": "heatmap",
         "x": [
          0,
          1,
          2,
          3,
          4,
          5,
          6,
          7
         ],
         "xaxis": "x48",
         "y": [
          "H",
          "G",
          "F",
          "E",
          "D",
          "C",
          "B",
          "A"
         ],
         "yaxis": "y48",
         "z": [
          [
           -0.0074430289678275585,
           -0.04940858855843544,
           -0.031262412667274475,
           -0.16722986102104187,
           -0.09988407790660858,
           -0.05596259981393814,
           -0.018552113324403763,
           -0.032184991985559464
          ],
          [
           -0.021473856642842293,
           -0.4608166217803955,
           -0.5117811560630798,
           -0.5194533467292786,
           -0.516491174697876,
           -0.48452818393707275,
           -0.35999828577041626,
           0.008987958543002605
          ],
          [
           -0.0012823337456211448,
           -0.5149847269058228,
           -0.6084394454956055,
           -0.5677403211593628,
           -0.5791364908218384,
           -0.601513147354126,
           -0.49828916788101196,
           -0.05024908855557442
          ],
          [
           0.004656904377043247,
           -0.5627867579460144,
           -0.5350919961929321,
           -0.6567655801773071,
           -0.6245834231376648,
           -0.6200276613235474,
           -0.5108492374420166,
           0.003827218897640705
          ],
          [
           -0.0643611028790474,
           -0.49866318702697754,
           -0.5792847275733948,
           -0.6334096789360046,
           -0.6145880222320557,
           -0.6086429953575134,
           -0.5311488509178162,
           -0.03722093626856804
          ],
          [
           0.020406153053045273,
           -0.4854194223880768,
           -0.6348631978034973,
           -0.6189144849777222,
           -0.5284543633460999,
           -0.5943405032157898,
           -0.4700075089931488,
           0.04517430067062378
          ],
          [
           -0.00785956159234047,
           -0.4409031867980957,
           -0.5013689398765564,
           -0.5342252850532532,
           -0.5821235775947571,
           -0.6046105623245239,
           -0.48377880454063416,
           0.11438009887933731
          ],
          [
           0.009904180653393269,
           0.013625835999846458,
           -0.0481564886868,
           -0.044241975992918015,
           -0.06618193536996841,
           -0.026432834565639496,
           0.07891709357500076,
           0.004308829549700022
          ]
         ],
         "zmax": 0.6861146688461304,
         "zmin": -0.6861146688461304
        },
        {
         "colorscale": [
          [
           0,
           "rgb(103,0,31)"
          ],
          [
           0.1,
           "rgb(178,24,43)"
          ],
          [
           0.2,
           "rgb(214,96,77)"
          ],
          [
           0.3,
           "rgb(244,165,130)"
          ],
          [
           0.4,
           "rgb(253,219,199)"
          ],
          [
           0.5,
           "rgb(247,247,247)"
          ],
          [
           0.6,
           "rgb(209,229,240)"
          ],
          [
           0.7,
           "rgb(146,197,222)"
          ],
          [
           0.8,
           "rgb(67,147,195)"
          ],
          [
           0.9,
           "rgb(33,102,172)"
          ],
          [
           1,
           "rgb(5,48,97)"
          ]
         ],
         "hoverongaps": false,
         "type": "heatmap",
         "x": [
          0,
          1,
          2,
          3,
          4,
          5,
          6,
          7
         ],
         "xaxis": "x56",
         "y": [
          "H",
          "G",
          "F",
          "E",
          "D",
          "C",
          "B",
          "A"
         ],
         "yaxis": "y56",
         "z": [
          [
           0.0071759638376533985,
           0.05485052242875099,
           0.06502489745616913,
           0.06938934326171875,
           0.04616016894578934,
           0.06126248836517334,
           0.036931779235601425,
           -0.018525440245866776
          ],
          [
           0.007772243581712246,
           0.25235092639923096,
           0.3983078896999359,
           0.38875335454940796,
           0.3816918432712555,
           0.11880059540271759,
           -0.009859328158199787,
           -0.03847992792725563
          ],
          [
           0.03781767562031746,
           0.3372102975845337,
           0.4977755546569824,
           0.4241410493850708,
           0.368331640958786,
           0.18253639340400696,
           0.07422621548175812,
           -0.026633182540535927
          ],
          [
           0.02225000038743019,
           0.3741777241230011,
           0.36052075028419495,
           0.5483327507972717,
           0.3573467433452606,
           0.07845291495323181,
           0.012957022525370121,
           -0.038049325346946716
          ],
          [
           0.01371658593416214,
           0.11430509388446808,
           0.1616358757019043,
           0.25611820816993713,
           0.17728395760059357,
           0.030215417966246605,
           0.02851235307753086,
           -0.021940620616078377
          ],
          [
           0.041527409106492996,
           0.06459327042102814,
           0.034566234797239304,
           0.06265697628259659,
           0.0520961694419384,
           0.012746377848088741,
           0.036140166223049164,
           -0.0158415324985981
          ],
          [
           0.000379900389816612,
           0.05393632873892784,
           0.01800401695072651,
           0.04653454199433327,
           0.04193650558590889,
           0.048609741032123566,
           0.04465758427977562,
           -0.048109788447618484
          ],
          [
           -0.04685907065868378,
           -0.029394160956144333,
           -0.02736959606409073,
           -0.02499696984887123,
           0.012691603973507881,
           -0.005154137033969164,
           -0.016537250950932503,
           -0.0288081094622612
          ]
         ],
         "zmax": 0.6861146688461304,
         "zmin": -0.6861146688461304
        },
        {
         "colorscale": [
          [
           0,
           "rgb(103,0,31)"
          ],
          [
           0.1,
           "rgb(178,24,43)"
          ],
          [
           0.2,
           "rgb(214,96,77)"
          ],
          [
           0.3,
           "rgb(244,165,130)"
          ],
          [
           0.4,
           "rgb(253,219,199)"
          ],
          [
           0.5,
           "rgb(247,247,247)"
          ],
          [
           0.6,
           "rgb(209,229,240)"
          ],
          [
           0.7,
           "rgb(146,197,222)"
          ],
          [
           0.8,
           "rgb(67,147,195)"
          ],
          [
           0.9,
           "rgb(33,102,172)"
          ],
          [
           1,
           "rgb(5,48,97)"
          ]
         ],
         "hoverongaps": false,
         "type": "heatmap",
         "x": [
          0,
          1,
          2,
          3,
          4,
          5,
          6,
          7
         ],
         "xaxis": "x64",
         "y": [
          "H",
          "G",
          "F",
          "E",
          "D",
          "C",
          "B",
          "A"
         ],
         "yaxis": "y64",
         "z": [
          [
           -0.053142745047807693,
           -0.0669357106089592,
           -0.0418848879635334,
           -0.06696353852748871,
           -0.07809697091579437,
           -0.06993214786052704,
           -0.012053592130541801,
           -0.11465305835008621
          ],
          [
           -0.06560378521680832,
           0.010680186562240124,
           0.05273527279496193,
           -0.04254448786377907,
           -0.029821233823895454,
           -0.007568542379885912,
           -0.04167512059211731,
           -0.10458848625421524
          ],
          [
           -0.05008125305175781,
           0.010165806859731674,
           -0.006110528949648142,
           -0.00878512766212225,
           0.016873352229595184,
           -0.12328319251537323,
           -0.05017494410276413,
           -0.06269490718841553
          ],
          [
           -0.03733612596988678,
           0.050190430134534836,
           -0.01294050645083189,
           -0.09707070142030716,
           -0.026736438274383545,
           -0.08654206991195679,
           -0.007187491282820702,
           -0.04043927043676376
          ],
          [
           -0.05826649069786072,
           -0.0984041690826416,
           -0.10751678049564362,
           -0.021679092198610306,
           -0.03549518063664436,
           0.10012063384056091,
           -0.026348832994699478,
           -0.052757006138563156
          ],
          [
           -0.07223808020353317,
           -0.024596616625785828,
           -0.11076468229293823,
           -0.1054273247718811,
           -0.034657590091228485,
           0.011652416549623013,
           -0.002653722185641527,
           -0.05566282942891121
          ],
          [
           -0.036386631429195404,
           0.037097152322530746,
           0.018610263243317604,
           -0.06288274377584457,
           0.003793298965319991,
           0.0022774450480937958,
           -0.027250487357378006,
           -0.05288496986031532
          ],
          [
           -0.1477370262145996,
           -0.07392971962690353,
           -0.07219312340021133,
           -0.07325897365808487,
           -0.06839274615049362,
           -0.0734952762722969,
           -0.09727287292480469,
           -0.06912337243556976
          ]
         ],
         "zmax": 0.6861146688461304,
         "zmin": -0.6861146688461304
        }
       ],
       "layout": {
        "annotations": [
         {
          "font": {
           "size": 16
          },
          "showarrow": false,
          "text": "Layer 0, Head 0",
          "x": 0.0515625,
          "xanchor": "center",
          "xref": "paper",
          "y": 1,
          "yanchor": "bottom",
          "yref": "paper"
         },
         {
          "font": {
           "size": 16
          },
          "showarrow": false,
          "text": "Layer 0, Head 1",
          "x": 0.1796875,
          "xanchor": "center",
          "xref": "paper",
          "y": 1,
          "yanchor": "bottom",
          "yref": "paper"
         },
         {
          "font": {
           "size": 16
          },
          "showarrow": false,
          "text": "Layer 0, Head 2",
          "x": 0.3078125,
          "xanchor": "center",
          "xref": "paper",
          "y": 1,
          "yanchor": "bottom",
          "yref": "paper"
         },
         {
          "font": {
           "size": 16
          },
          "showarrow": false,
          "text": "Layer 0, Head 3",
          "x": 0.4359375,
          "xanchor": "center",
          "xref": "paper",
          "y": 1,
          "yanchor": "bottom",
          "yref": "paper"
         },
         {
          "font": {
           "size": 16
          },
          "showarrow": false,
          "text": "Layer 0, Head 4",
          "x": 0.5640624999999999,
          "xanchor": "center",
          "xref": "paper",
          "y": 1,
          "yanchor": "bottom",
          "yref": "paper"
         },
         {
          "font": {
           "size": 16
          },
          "showarrow": false,
          "text": "Layer 0, Head 5",
          "x": 0.6921875,
          "xanchor": "center",
          "xref": "paper",
          "y": 1,
          "yanchor": "bottom",
          "yref": "paper"
         },
         {
          "font": {
           "size": 16
          },
          "showarrow": false,
          "text": "Layer 0, Head 6",
          "x": 0.8203125,
          "xanchor": "center",
          "xref": "paper",
          "y": 1,
          "yanchor": "bottom",
          "yref": "paper"
         },
         {
          "font": {
           "size": 16
          },
          "showarrow": false,
          "text": "Layer 0, Head 7",
          "x": 0.9484375,
          "xanchor": "center",
          "xref": "paper",
          "y": 1,
          "yanchor": "bottom",
          "yref": "paper"
         },
         {
          "font": {
           "size": 16
          },
          "showarrow": false,
          "text": "Layer 1, Head 0",
          "x": 0.0515625,
          "xanchor": "center",
          "xref": "paper",
          "y": 0.8695312500000001,
          "yanchor": "bottom",
          "yref": "paper"
         },
         {
          "font": {
           "size": 16
          },
          "showarrow": false,
          "text": "Layer 1, Head 1",
          "x": 0.1796875,
          "xanchor": "center",
          "xref": "paper",
          "y": 0.8695312500000001,
          "yanchor": "bottom",
          "yref": "paper"
         },
         {
          "font": {
           "size": 16
          },
          "showarrow": false,
          "text": "Layer 1, Head 2",
          "x": 0.3078125,
          "xanchor": "center",
          "xref": "paper",
          "y": 0.8695312500000001,
          "yanchor": "bottom",
          "yref": "paper"
         },
         {
          "font": {
           "size": 16
          },
          "showarrow": false,
          "text": "Layer 1, Head 3",
          "x": 0.4359375,
          "xanchor": "center",
          "xref": "paper",
          "y": 0.8695312500000001,
          "yanchor": "bottom",
          "yref": "paper"
         },
         {
          "font": {
           "size": 16
          },
          "showarrow": false,
          "text": "Layer 1, Head 4",
          "x": 0.5640624999999999,
          "xanchor": "center",
          "xref": "paper",
          "y": 0.8695312500000001,
          "yanchor": "bottom",
          "yref": "paper"
         },
         {
          "font": {
           "size": 16
          },
          "showarrow": false,
          "text": "Layer 1, Head 5",
          "x": 0.6921875,
          "xanchor": "center",
          "xref": "paper",
          "y": 0.8695312500000001,
          "yanchor": "bottom",
          "yref": "paper"
         },
         {
          "font": {
           "size": 16
          },
          "showarrow": false,
          "text": "Layer 1, Head 6",
          "x": 0.8203125,
          "xanchor": "center",
          "xref": "paper",
          "y": 0.8695312500000001,
          "yanchor": "bottom",
          "yref": "paper"
         },
         {
          "font": {
           "size": 16
          },
          "showarrow": false,
          "text": "Layer 1, Head 7",
          "x": 0.9484375,
          "xanchor": "center",
          "xref": "paper",
          "y": 0.8695312500000001,
          "yanchor": "bottom",
          "yref": "paper"
         },
         {
          "font": {
           "size": 16
          },
          "showarrow": false,
          "text": "Layer 2, Head 0",
          "x": 0.0515625,
          "xanchor": "center",
          "xref": "paper",
          "y": 0.7390625,
          "yanchor": "bottom",
          "yref": "paper"
         },
         {
          "font": {
           "size": 16
          },
          "showarrow": false,
          "text": "Layer 2, Head 1",
          "x": 0.1796875,
          "xanchor": "center",
          "xref": "paper",
          "y": 0.7390625,
          "yanchor": "bottom",
          "yref": "paper"
         },
         {
          "font": {
           "size": 16
          },
          "showarrow": false,
          "text": "Layer 2, Head 2",
          "x": 0.3078125,
          "xanchor": "center",
          "xref": "paper",
          "y": 0.7390625,
          "yanchor": "bottom",
          "yref": "paper"
         },
         {
          "font": {
           "size": 16
          },
          "showarrow": false,
          "text": "Layer 2, Head 3",
          "x": 0.4359375,
          "xanchor": "center",
          "xref": "paper",
          "y": 0.7390625,
          "yanchor": "bottom",
          "yref": "paper"
         },
         {
          "font": {
           "size": 16
          },
          "showarrow": false,
          "text": "Layer 2, Head 4",
          "x": 0.5640624999999999,
          "xanchor": "center",
          "xref": "paper",
          "y": 0.7390625,
          "yanchor": "bottom",
          "yref": "paper"
         },
         {
          "font": {
           "size": 16
          },
          "showarrow": false,
          "text": "Layer 2, Head 5",
          "x": 0.6921875,
          "xanchor": "center",
          "xref": "paper",
          "y": 0.7390625,
          "yanchor": "bottom",
          "yref": "paper"
         },
         {
          "font": {
           "size": 16
          },
          "showarrow": false,
          "text": "Layer 2, Head 6",
          "x": 0.8203125,
          "xanchor": "center",
          "xref": "paper",
          "y": 0.7390625,
          "yanchor": "bottom",
          "yref": "paper"
         },
         {
          "font": {
           "size": 16
          },
          "showarrow": false,
          "text": "Layer 2, Head 7",
          "x": 0.9484375,
          "xanchor": "center",
          "xref": "paper",
          "y": 0.7390625,
          "yanchor": "bottom",
          "yref": "paper"
         },
         {
          "font": {
           "size": 16
          },
          "showarrow": false,
          "text": "Layer 3, Head 0",
          "x": 0.0515625,
          "xanchor": "center",
          "xref": "paper",
          "y": 0.60859375,
          "yanchor": "bottom",
          "yref": "paper"
         },
         {
          "font": {
           "size": 16
          },
          "showarrow": false,
          "text": "Layer 3, Head 1",
          "x": 0.1796875,
          "xanchor": "center",
          "xref": "paper",
          "y": 0.60859375,
          "yanchor": "bottom",
          "yref": "paper"
         },
         {
          "font": {
           "size": 16
          },
          "showarrow": false,
          "text": "Layer 3, Head 2",
          "x": 0.3078125,
          "xanchor": "center",
          "xref": "paper",
          "y": 0.60859375,
          "yanchor": "bottom",
          "yref": "paper"
         },
         {
          "font": {
           "size": 16
          },
          "showarrow": false,
          "text": "Layer 3, Head 3",
          "x": 0.4359375,
          "xanchor": "center",
          "xref": "paper",
          "y": 0.60859375,
          "yanchor": "bottom",
          "yref": "paper"
         },
         {
          "font": {
           "size": 16
          },
          "showarrow": false,
          "text": "Layer 3, Head 4",
          "x": 0.5640624999999999,
          "xanchor": "center",
          "xref": "paper",
          "y": 0.60859375,
          "yanchor": "bottom",
          "yref": "paper"
         },
         {
          "font": {
           "size": 16
          },
          "showarrow": false,
          "text": "Layer 3, Head 5",
          "x": 0.6921875,
          "xanchor": "center",
          "xref": "paper",
          "y": 0.60859375,
          "yanchor": "bottom",
          "yref": "paper"
         },
         {
          "font": {
           "size": 16
          },
          "showarrow": false,
          "text": "Layer 3, Head 6",
          "x": 0.8203125,
          "xanchor": "center",
          "xref": "paper",
          "y": 0.60859375,
          "yanchor": "bottom",
          "yref": "paper"
         },
         {
          "font": {
           "size": 16
          },
          "showarrow": false,
          "text": "Layer 3, Head 7",
          "x": 0.9484375,
          "xanchor": "center",
          "xref": "paper",
          "y": 0.60859375,
          "yanchor": "bottom",
          "yref": "paper"
         },
         {
          "font": {
           "size": 16
          },
          "showarrow": false,
          "text": "Layer 4, Head 0",
          "x": 0.0515625,
          "xanchor": "center",
          "xref": "paper",
          "y": 0.478125,
          "yanchor": "bottom",
          "yref": "paper"
         },
         {
          "font": {
           "size": 16
          },
          "showarrow": false,
          "text": "Layer 4, Head 1",
          "x": 0.1796875,
          "xanchor": "center",
          "xref": "paper",
          "y": 0.478125,
          "yanchor": "bottom",
          "yref": "paper"
         },
         {
          "font": {
           "size": 16
          },
          "showarrow": false,
          "text": "Layer 4, Head 2",
          "x": 0.3078125,
          "xanchor": "center",
          "xref": "paper",
          "y": 0.478125,
          "yanchor": "bottom",
          "yref": "paper"
         },
         {
          "font": {
           "size": 16
          },
          "showarrow": false,
          "text": "Layer 4, Head 3",
          "x": 0.4359375,
          "xanchor": "center",
          "xref": "paper",
          "y": 0.478125,
          "yanchor": "bottom",
          "yref": "paper"
         },
         {
          "font": {
           "size": 16
          },
          "showarrow": false,
          "text": "Layer 4, Head 4",
          "x": 0.5640624999999999,
          "xanchor": "center",
          "xref": "paper",
          "y": 0.478125,
          "yanchor": "bottom",
          "yref": "paper"
         },
         {
          "font": {
           "size": 16
          },
          "showarrow": false,
          "text": "Layer 4, Head 5",
          "x": 0.6921875,
          "xanchor": "center",
          "xref": "paper",
          "y": 0.478125,
          "yanchor": "bottom",
          "yref": "paper"
         },
         {
          "font": {
           "size": 16
          },
          "showarrow": false,
          "text": "Layer 4, Head 6",
          "x": 0.8203125,
          "xanchor": "center",
          "xref": "paper",
          "y": 0.478125,
          "yanchor": "bottom",
          "yref": "paper"
         },
         {
          "font": {
           "size": 16
          },
          "showarrow": false,
          "text": "Layer 4, Head 7",
          "x": 0.9484375,
          "xanchor": "center",
          "xref": "paper",
          "y": 0.478125,
          "yanchor": "bottom",
          "yref": "paper"
         },
         {
          "font": {
           "size": 16
          },
          "showarrow": false,
          "text": "Layer 5, Head 0",
          "x": 0.0515625,
          "xanchor": "center",
          "xref": "paper",
          "y": 0.34765625000000006,
          "yanchor": "bottom",
          "yref": "paper"
         },
         {
          "font": {
           "size": 16
          },
          "showarrow": false,
          "text": "Layer 5, Head 1",
          "x": 0.1796875,
          "xanchor": "center",
          "xref": "paper",
          "y": 0.34765625000000006,
          "yanchor": "bottom",
          "yref": "paper"
         },
         {
          "font": {
           "size": 16
          },
          "showarrow": false,
          "text": "Layer 5, Head 2",
          "x": 0.3078125,
          "xanchor": "center",
          "xref": "paper",
          "y": 0.34765625000000006,
          "yanchor": "bottom",
          "yref": "paper"
         },
         {
          "font": {
           "size": 16
          },
          "showarrow": false,
          "text": "Layer 5, Head 3",
          "x": 0.4359375,
          "xanchor": "center",
          "xref": "paper",
          "y": 0.34765625000000006,
          "yanchor": "bottom",
          "yref": "paper"
         },
         {
          "font": {
           "size": 16
          },
          "showarrow": false,
          "text": "Layer 5, Head 4",
          "x": 0.5640624999999999,
          "xanchor": "center",
          "xref": "paper",
          "y": 0.34765625000000006,
          "yanchor": "bottom",
          "yref": "paper"
         },
         {
          "font": {
           "size": 16
          },
          "showarrow": false,
          "text": "Layer 5, Head 5",
          "x": 0.6921875,
          "xanchor": "center",
          "xref": "paper",
          "y": 0.34765625000000006,
          "yanchor": "bottom",
          "yref": "paper"
         },
         {
          "font": {
           "size": 16
          },
          "showarrow": false,
          "text": "Layer 5, Head 6",
          "x": 0.8203125,
          "xanchor": "center",
          "xref": "paper",
          "y": 0.34765625000000006,
          "yanchor": "bottom",
          "yref": "paper"
         },
         {
          "font": {
           "size": 16
          },
          "showarrow": false,
          "text": "Layer 5, Head 7",
          "x": 0.9484375,
          "xanchor": "center",
          "xref": "paper",
          "y": 0.34765625000000006,
          "yanchor": "bottom",
          "yref": "paper"
         },
         {
          "font": {
           "size": 16
          },
          "showarrow": false,
          "text": "Layer 6, Head 0",
          "x": 0.0515625,
          "xanchor": "center",
          "xref": "paper",
          "y": 0.21718750000000003,
          "yanchor": "bottom",
          "yref": "paper"
         },
         {
          "font": {
           "size": 16
          },
          "showarrow": false,
          "text": "Layer 6, Head 1",
          "x": 0.1796875,
          "xanchor": "center",
          "xref": "paper",
          "y": 0.21718750000000003,
          "yanchor": "bottom",
          "yref": "paper"
         },
         {
          "font": {
           "size": 16
          },
          "showarrow": false,
          "text": "Layer 6, Head 2",
          "x": 0.3078125,
          "xanchor": "center",
          "xref": "paper",
          "y": 0.21718750000000003,
          "yanchor": "bottom",
          "yref": "paper"
         },
         {
          "font": {
           "size": 16
          },
          "showarrow": false,
          "text": "Layer 6, Head 3",
          "x": 0.4359375,
          "xanchor": "center",
          "xref": "paper",
          "y": 0.21718750000000003,
          "yanchor": "bottom",
          "yref": "paper"
         },
         {
          "font": {
           "size": 16
          },
          "showarrow": false,
          "text": "Layer 6, Head 4",
          "x": 0.5640624999999999,
          "xanchor": "center",
          "xref": "paper",
          "y": 0.21718750000000003,
          "yanchor": "bottom",
          "yref": "paper"
         },
         {
          "font": {
           "size": 16
          },
          "showarrow": false,
          "text": "Layer 6, Head 5",
          "x": 0.6921875,
          "xanchor": "center",
          "xref": "paper",
          "y": 0.21718750000000003,
          "yanchor": "bottom",
          "yref": "paper"
         },
         {
          "font": {
           "size": 16
          },
          "showarrow": false,
          "text": "Layer 6, Head 6",
          "x": 0.8203125,
          "xanchor": "center",
          "xref": "paper",
          "y": 0.21718750000000003,
          "yanchor": "bottom",
          "yref": "paper"
         },
         {
          "font": {
           "size": 16
          },
          "showarrow": false,
          "text": "Layer 6, Head 7",
          "x": 0.9484375,
          "xanchor": "center",
          "xref": "paper",
          "y": 0.21718750000000003,
          "yanchor": "bottom",
          "yref": "paper"
         },
         {
          "font": {
           "size": 16
          },
          "showarrow": false,
          "text": "Layer 7, Head 0",
          "x": 0.0515625,
          "xanchor": "center",
          "xref": "paper",
          "y": 0.08671875000000001,
          "yanchor": "bottom",
          "yref": "paper"
         },
         {
          "font": {
           "size": 16
          },
          "showarrow": false,
          "text": "Layer 7, Head 1",
          "x": 0.1796875,
          "xanchor": "center",
          "xref": "paper",
          "y": 0.08671875000000001,
          "yanchor": "bottom",
          "yref": "paper"
         },
         {
          "font": {
           "size": 16
          },
          "showarrow": false,
          "text": "Layer 7, Head 2",
          "x": 0.3078125,
          "xanchor": "center",
          "xref": "paper",
          "y": 0.08671875000000001,
          "yanchor": "bottom",
          "yref": "paper"
         },
         {
          "font": {
           "size": 16
          },
          "showarrow": false,
          "text": "Layer 7, Head 3",
          "x": 0.4359375,
          "xanchor": "center",
          "xref": "paper",
          "y": 0.08671875000000001,
          "yanchor": "bottom",
          "yref": "paper"
         },
         {
          "font": {
           "size": 16
          },
          "showarrow": false,
          "text": "Layer 7, Head 4",
          "x": 0.5640624999999999,
          "xanchor": "center",
          "xref": "paper",
          "y": 0.08671875000000001,
          "yanchor": "bottom",
          "yref": "paper"
         },
         {
          "font": {
           "size": 16
          },
          "showarrow": false,
          "text": "Layer 7, Head 5",
          "x": 0.6921875,
          "xanchor": "center",
          "xref": "paper",
          "y": 0.08671875000000001,
          "yanchor": "bottom",
          "yref": "paper"
         },
         {
          "font": {
           "size": 16
          },
          "showarrow": false,
          "text": "Layer 7, Head 6",
          "x": 0.8203125,
          "xanchor": "center",
          "xref": "paper",
          "y": 0.08671875000000001,
          "yanchor": "bottom",
          "yref": "paper"
         },
         {
          "font": {
           "size": 16
          },
          "showarrow": false,
          "text": "Layer 7, Head 7",
          "x": 0.9484375,
          "xanchor": "center",
          "xref": "paper",
          "y": 0.08671875000000001,
          "yanchor": "bottom",
          "yref": "paper"
         }
        ],
        "height": 1600,
        "margin": {
         "t": 100
        },
        "template": {
         "data": {
          "bar": [
           {
            "error_x": {
             "color": "#2a3f5f"
            },
            "error_y": {
             "color": "#2a3f5f"
            },
            "marker": {
             "line": {
              "color": "#E5ECF6",
              "width": 0.5
             },
             "pattern": {
              "fillmode": "overlay",
              "size": 10,
              "solidity": 0.2
             }
            },
            "type": "bar"
           }
          ],
          "barpolar": [
           {
            "marker": {
             "line": {
              "color": "#E5ECF6",
              "width": 0.5
             },
             "pattern": {
              "fillmode": "overlay",
              "size": 10,
              "solidity": 0.2
             }
            },
            "type": "barpolar"
           }
          ],
          "carpet": [
           {
            "aaxis": {
             "endlinecolor": "#2a3f5f",
             "gridcolor": "white",
             "linecolor": "white",
             "minorgridcolor": "white",
             "startlinecolor": "#2a3f5f"
            },
            "baxis": {
             "endlinecolor": "#2a3f5f",
             "gridcolor": "white",
             "linecolor": "white",
             "minorgridcolor": "white",
             "startlinecolor": "#2a3f5f"
            },
            "type": "carpet"
           }
          ],
          "choropleth": [
           {
            "colorbar": {
             "outlinewidth": 0,
             "ticks": ""
            },
            "type": "choropleth"
           }
          ],
          "contour": [
           {
            "colorbar": {
             "outlinewidth": 0,
             "ticks": ""
            },
            "colorscale": [
             [
              0,
              "#0d0887"
             ],
             [
              0.1111111111111111,
              "#46039f"
             ],
             [
              0.2222222222222222,
              "#7201a8"
             ],
             [
              0.3333333333333333,
              "#9c179e"
             ],
             [
              0.4444444444444444,
              "#bd3786"
             ],
             [
              0.5555555555555556,
              "#d8576b"
             ],
             [
              0.6666666666666666,
              "#ed7953"
             ],
             [
              0.7777777777777778,
              "#fb9f3a"
             ],
             [
              0.8888888888888888,
              "#fdca26"
             ],
             [
              1,
              "#f0f921"
             ]
            ],
            "type": "contour"
           }
          ],
          "contourcarpet": [
           {
            "colorbar": {
             "outlinewidth": 0,
             "ticks": ""
            },
            "type": "contourcarpet"
           }
          ],
          "heatmap": [
           {
            "colorbar": {
             "outlinewidth": 0,
             "ticks": ""
            },
            "colorscale": [
             [
              0,
              "#0d0887"
             ],
             [
              0.1111111111111111,
              "#46039f"
             ],
             [
              0.2222222222222222,
              "#7201a8"
             ],
             [
              0.3333333333333333,
              "#9c179e"
             ],
             [
              0.4444444444444444,
              "#bd3786"
             ],
             [
              0.5555555555555556,
              "#d8576b"
             ],
             [
              0.6666666666666666,
              "#ed7953"
             ],
             [
              0.7777777777777778,
              "#fb9f3a"
             ],
             [
              0.8888888888888888,
              "#fdca26"
             ],
             [
              1,
              "#f0f921"
             ]
            ],
            "type": "heatmap"
           }
          ],
          "heatmapgl": [
           {
            "colorbar": {
             "outlinewidth": 0,
             "ticks": ""
            },
            "colorscale": [
             [
              0,
              "#0d0887"
             ],
             [
              0.1111111111111111,
              "#46039f"
             ],
             [
              0.2222222222222222,
              "#7201a8"
             ],
             [
              0.3333333333333333,
              "#9c179e"
             ],
             [
              0.4444444444444444,
              "#bd3786"
             ],
             [
              0.5555555555555556,
              "#d8576b"
             ],
             [
              0.6666666666666666,
              "#ed7953"
             ],
             [
              0.7777777777777778,
              "#fb9f3a"
             ],
             [
              0.8888888888888888,
              "#fdca26"
             ],
             [
              1,
              "#f0f921"
             ]
            ],
            "type": "heatmapgl"
           }
          ],
          "histogram": [
           {
            "marker": {
             "pattern": {
              "fillmode": "overlay",
              "size": 10,
              "solidity": 0.2
             }
            },
            "type": "histogram"
           }
          ],
          "histogram2d": [
           {
            "colorbar": {
             "outlinewidth": 0,
             "ticks": ""
            },
            "colorscale": [
             [
              0,
              "#0d0887"
             ],
             [
              0.1111111111111111,
              "#46039f"
             ],
             [
              0.2222222222222222,
              "#7201a8"
             ],
             [
              0.3333333333333333,
              "#9c179e"
             ],
             [
              0.4444444444444444,
              "#bd3786"
             ],
             [
              0.5555555555555556,
              "#d8576b"
             ],
             [
              0.6666666666666666,
              "#ed7953"
             ],
             [
              0.7777777777777778,
              "#fb9f3a"
             ],
             [
              0.8888888888888888,
              "#fdca26"
             ],
             [
              1,
              "#f0f921"
             ]
            ],
            "type": "histogram2d"
           }
          ],
          "histogram2dcontour": [
           {
            "colorbar": {
             "outlinewidth": 0,
             "ticks": ""
            },
            "colorscale": [
             [
              0,
              "#0d0887"
             ],
             [
              0.1111111111111111,
              "#46039f"
             ],
             [
              0.2222222222222222,
              "#7201a8"
             ],
             [
              0.3333333333333333,
              "#9c179e"
             ],
             [
              0.4444444444444444,
              "#bd3786"
             ],
             [
              0.5555555555555556,
              "#d8576b"
             ],
             [
              0.6666666666666666,
              "#ed7953"
             ],
             [
              0.7777777777777778,
              "#fb9f3a"
             ],
             [
              0.8888888888888888,
              "#fdca26"
             ],
             [
              1,
              "#f0f921"
             ]
            ],
            "type": "histogram2dcontour"
           }
          ],
          "mesh3d": [
           {
            "colorbar": {
             "outlinewidth": 0,
             "ticks": ""
            },
            "type": "mesh3d"
           }
          ],
          "parcoords": [
           {
            "line": {
             "colorbar": {
              "outlinewidth": 0,
              "ticks": ""
             }
            },
            "type": "parcoords"
           }
          ],
          "pie": [
           {
            "automargin": true,
            "type": "pie"
           }
          ],
          "scatter": [
           {
            "fillpattern": {
             "fillmode": "overlay",
             "size": 10,
             "solidity": 0.2
            },
            "type": "scatter"
           }
          ],
          "scatter3d": [
           {
            "line": {
             "colorbar": {
              "outlinewidth": 0,
              "ticks": ""
             }
            },
            "marker": {
             "colorbar": {
              "outlinewidth": 0,
              "ticks": ""
             }
            },
            "type": "scatter3d"
           }
          ],
          "scattercarpet": [
           {
            "marker": {
             "colorbar": {
              "outlinewidth": 0,
              "ticks": ""
             }
            },
            "type": "scattercarpet"
           }
          ],
          "scattergeo": [
           {
            "marker": {
             "colorbar": {
              "outlinewidth": 0,
              "ticks": ""
             }
            },
            "type": "scattergeo"
           }
          ],
          "scattergl": [
           {
            "marker": {
             "colorbar": {
              "outlinewidth": 0,
              "ticks": ""
             }
            },
            "type": "scattergl"
           }
          ],
          "scattermapbox": [
           {
            "marker": {
             "colorbar": {
              "outlinewidth": 0,
              "ticks": ""
             }
            },
            "type": "scattermapbox"
           }
          ],
          "scatterpolar": [
           {
            "marker": {
             "colorbar": {
              "outlinewidth": 0,
              "ticks": ""
             }
            },
            "type": "scatterpolar"
           }
          ],
          "scatterpolargl": [
           {
            "marker": {
             "colorbar": {
              "outlinewidth": 0,
              "ticks": ""
             }
            },
            "type": "scatterpolargl"
           }
          ],
          "scatterternary": [
           {
            "marker": {
             "colorbar": {
              "outlinewidth": 0,
              "ticks": ""
             }
            },
            "type": "scatterternary"
           }
          ],
          "surface": [
           {
            "colorbar": {
             "outlinewidth": 0,
             "ticks": ""
            },
            "colorscale": [
             [
              0,
              "#0d0887"
             ],
             [
              0.1111111111111111,
              "#46039f"
             ],
             [
              0.2222222222222222,
              "#7201a8"
             ],
             [
              0.3333333333333333,
              "#9c179e"
             ],
             [
              0.4444444444444444,
              "#bd3786"
             ],
             [
              0.5555555555555556,
              "#d8576b"
             ],
             [
              0.6666666666666666,
              "#ed7953"
             ],
             [
              0.7777777777777778,
              "#fb9f3a"
             ],
             [
              0.8888888888888888,
              "#fdca26"
             ],
             [
              1,
              "#f0f921"
             ]
            ],
            "type": "surface"
           }
          ],
          "table": [
           {
            "cells": {
             "fill": {
              "color": "#EBF0F8"
             },
             "line": {
              "color": "white"
             }
            },
            "header": {
             "fill": {
              "color": "#C8D4E3"
             },
             "line": {
              "color": "white"
             }
            },
            "type": "table"
           }
          ]
         },
         "layout": {
          "annotationdefaults": {
           "arrowcolor": "#2a3f5f",
           "arrowhead": 0,
           "arrowwidth": 1
          },
          "autotypenumbers": "strict",
          "coloraxis": {
           "colorbar": {
            "outlinewidth": 0,
            "ticks": ""
           }
          },
          "colorscale": {
           "diverging": [
            [
             0,
             "#8e0152"
            ],
            [
             0.1,
             "#c51b7d"
            ],
            [
             0.2,
             "#de77ae"
            ],
            [
             0.3,
             "#f1b6da"
            ],
            [
             0.4,
             "#fde0ef"
            ],
            [
             0.5,
             "#f7f7f7"
            ],
            [
             0.6,
             "#e6f5d0"
            ],
            [
             0.7,
             "#b8e186"
            ],
            [
             0.8,
             "#7fbc41"
            ],
            [
             0.9,
             "#4d9221"
            ],
            [
             1,
             "#276419"
            ]
           ],
           "sequential": [
            [
             0,
             "#0d0887"
            ],
            [
             0.1111111111111111,
             "#46039f"
            ],
            [
             0.2222222222222222,
             "#7201a8"
            ],
            [
             0.3333333333333333,
             "#9c179e"
            ],
            [
             0.4444444444444444,
             "#bd3786"
            ],
            [
             0.5555555555555556,
             "#d8576b"
            ],
            [
             0.6666666666666666,
             "#ed7953"
            ],
            [
             0.7777777777777778,
             "#fb9f3a"
            ],
            [
             0.8888888888888888,
             "#fdca26"
            ],
            [
             1,
             "#f0f921"
            ]
           ],
           "sequentialminus": [
            [
             0,
             "#0d0887"
            ],
            [
             0.1111111111111111,
             "#46039f"
            ],
            [
             0.2222222222222222,
             "#7201a8"
            ],
            [
             0.3333333333333333,
             "#9c179e"
            ],
            [
             0.4444444444444444,
             "#bd3786"
            ],
            [
             0.5555555555555556,
             "#d8576b"
            ],
            [
             0.6666666666666666,
             "#ed7953"
            ],
            [
             0.7777777777777778,
             "#fb9f3a"
            ],
            [
             0.8888888888888888,
             "#fdca26"
            ],
            [
             1,
             "#f0f921"
            ]
           ]
          },
          "colorway": [
           "#636efa",
           "#EF553B",
           "#00cc96",
           "#ab63fa",
           "#FFA15A",
           "#19d3f3",
           "#FF6692",
           "#B6E880",
           "#FF97FF",
           "#FECB52"
          ],
          "font": {
           "color": "#2a3f5f"
          },
          "geo": {
           "bgcolor": "white",
           "lakecolor": "white",
           "landcolor": "#E5ECF6",
           "showlakes": true,
           "showland": true,
           "subunitcolor": "white"
          },
          "hoverlabel": {
           "align": "left"
          },
          "hovermode": "closest",
          "mapbox": {
           "style": "light"
          },
          "paper_bgcolor": "white",
          "plot_bgcolor": "#E5ECF6",
          "polar": {
           "angularaxis": {
            "gridcolor": "white",
            "linecolor": "white",
            "ticks": ""
           },
           "bgcolor": "#E5ECF6",
           "radialaxis": {
            "gridcolor": "white",
            "linecolor": "white",
            "ticks": ""
           }
          },
          "scene": {
           "xaxis": {
            "backgroundcolor": "#E5ECF6",
            "gridcolor": "white",
            "gridwidth": 2,
            "linecolor": "white",
            "showbackground": true,
            "ticks": "",
            "zerolinecolor": "white"
           },
           "yaxis": {
            "backgroundcolor": "#E5ECF6",
            "gridcolor": "white",
            "gridwidth": 2,
            "linecolor": "white",
            "showbackground": true,
            "ticks": "",
            "zerolinecolor": "white"
           },
           "zaxis": {
            "backgroundcolor": "#E5ECF6",
            "gridcolor": "white",
            "gridwidth": 2,
            "linecolor": "white",
            "showbackground": true,
            "ticks": "",
            "zerolinecolor": "white"
           }
          },
          "shapedefaults": {
           "line": {
            "color": "#2a3f5f"
           }
          },
          "ternary": {
           "aaxis": {
            "gridcolor": "white",
            "linecolor": "white",
            "ticks": ""
           },
           "baxis": {
            "gridcolor": "white",
            "linecolor": "white",
            "ticks": ""
           },
           "bgcolor": "#E5ECF6",
           "caxis": {
            "gridcolor": "white",
            "linecolor": "white",
            "ticks": ""
           }
          },
          "title": {
           "x": 0.05
          },
          "xaxis": {
           "automargin": true,
           "gridcolor": "white",
           "linecolor": "white",
           "ticks": "",
           "title": {
            "standoff": 15
           },
           "zerolinecolor": "white",
           "zerolinewidth": 2
          },
          "yaxis": {
           "automargin": true,
           "gridcolor": "white",
           "linecolor": "white",
           "ticks": "",
           "title": {
            "standoff": 15
           },
           "zerolinecolor": "white",
           "zerolinewidth": 2
          }
         }
        },
        "title": {
         "text": "How much does each Head add to the Mine vs Yours direction, when Flipped"
        },
        "width": 1600,
        "xaxis": {
         "anchor": "y",
         "domain": [
          0,
          0.103125
         ]
        },
        "xaxis10": {
         "anchor": "y10",
         "domain": [
          0.128125,
          0.23124999999999998
         ]
        },
        "xaxis11": {
         "anchor": "y11",
         "domain": [
          0.25625,
          0.359375
         ]
        },
        "xaxis12": {
         "anchor": "y12",
         "domain": [
          0.38437499999999997,
          0.48749999999999993
         ]
        },
        "xaxis13": {
         "anchor": "y13",
         "domain": [
          0.5125,
          0.615625
         ]
        },
        "xaxis14": {
         "anchor": "y14",
         "domain": [
          0.640625,
          0.74375
         ]
        },
        "xaxis15": {
         "anchor": "y15",
         "domain": [
          0.76875,
          0.8718750000000001
         ]
        },
        "xaxis16": {
         "anchor": "y16",
         "domain": [
          0.8968750000000001,
          1
         ]
        },
        "xaxis17": {
         "anchor": "y17",
         "domain": [
          0,
          0.103125
         ]
        },
        "xaxis18": {
         "anchor": "y18",
         "domain": [
          0.128125,
          0.23124999999999998
         ]
        },
        "xaxis19": {
         "anchor": "y19",
         "domain": [
          0.25625,
          0.359375
         ]
        },
        "xaxis2": {
         "anchor": "y2",
         "domain": [
          0.128125,
          0.23124999999999998
         ]
        },
        "xaxis20": {
         "anchor": "y20",
         "domain": [
          0.38437499999999997,
          0.48749999999999993
         ]
        },
        "xaxis21": {
         "anchor": "y21",
         "domain": [
          0.5125,
          0.615625
         ]
        },
        "xaxis22": {
         "anchor": "y22",
         "domain": [
          0.640625,
          0.74375
         ]
        },
        "xaxis23": {
         "anchor": "y23",
         "domain": [
          0.76875,
          0.8718750000000001
         ]
        },
        "xaxis24": {
         "anchor": "y24",
         "domain": [
          0.8968750000000001,
          1
         ]
        },
        "xaxis25": {
         "anchor": "y25",
         "domain": [
          0,
          0.103125
         ]
        },
        "xaxis26": {
         "anchor": "y26",
         "domain": [
          0.128125,
          0.23124999999999998
         ]
        },
        "xaxis27": {
         "anchor": "y27",
         "domain": [
          0.25625,
          0.359375
         ]
        },
        "xaxis28": {
         "anchor": "y28",
         "domain": [
          0.38437499999999997,
          0.48749999999999993
         ]
        },
        "xaxis29": {
         "anchor": "y29",
         "domain": [
          0.5125,
          0.615625
         ]
        },
        "xaxis3": {
         "anchor": "y3",
         "domain": [
          0.25625,
          0.359375
         ]
        },
        "xaxis30": {
         "anchor": "y30",
         "domain": [
          0.640625,
          0.74375
         ]
        },
        "xaxis31": {
         "anchor": "y31",
         "domain": [
          0.76875,
          0.8718750000000001
         ]
        },
        "xaxis32": {
         "anchor": "y32",
         "domain": [
          0.8968750000000001,
          1
         ]
        },
        "xaxis33": {
         "anchor": "y33",
         "domain": [
          0,
          0.103125
         ]
        },
        "xaxis34": {
         "anchor": "y34",
         "domain": [
          0.128125,
          0.23124999999999998
         ]
        },
        "xaxis35": {
         "anchor": "y35",
         "domain": [
          0.25625,
          0.359375
         ]
        },
        "xaxis36": {
         "anchor": "y36",
         "domain": [
          0.38437499999999997,
          0.48749999999999993
         ]
        },
        "xaxis37": {
         "anchor": "y37",
         "domain": [
          0.5125,
          0.615625
         ]
        },
        "xaxis38": {
         "anchor": "y38",
         "domain": [
          0.640625,
          0.74375
         ]
        },
        "xaxis39": {
         "anchor": "y39",
         "domain": [
          0.76875,
          0.8718750000000001
         ]
        },
        "xaxis4": {
         "anchor": "y4",
         "domain": [
          0.38437499999999997,
          0.48749999999999993
         ]
        },
        "xaxis40": {
         "anchor": "y40",
         "domain": [
          0.8968750000000001,
          1
         ]
        },
        "xaxis41": {
         "anchor": "y41",
         "domain": [
          0,
          0.103125
         ]
        },
        "xaxis42": {
         "anchor": "y42",
         "domain": [
          0.128125,
          0.23124999999999998
         ]
        },
        "xaxis43": {
         "anchor": "y43",
         "domain": [
          0.25625,
          0.359375
         ]
        },
        "xaxis44": {
         "anchor": "y44",
         "domain": [
          0.38437499999999997,
          0.48749999999999993
         ]
        },
        "xaxis45": {
         "anchor": "y45",
         "domain": [
          0.5125,
          0.615625
         ]
        },
        "xaxis46": {
         "anchor": "y46",
         "domain": [
          0.640625,
          0.74375
         ]
        },
        "xaxis47": {
         "anchor": "y47",
         "domain": [
          0.76875,
          0.8718750000000001
         ]
        },
        "xaxis48": {
         "anchor": "y48",
         "domain": [
          0.8968750000000001,
          1
         ]
        },
        "xaxis49": {
         "anchor": "y49",
         "domain": [
          0,
          0.103125
         ]
        },
        "xaxis5": {
         "anchor": "y5",
         "domain": [
          0.5125,
          0.615625
         ]
        },
        "xaxis50": {
         "anchor": "y50",
         "domain": [
          0.128125,
          0.23124999999999998
         ]
        },
        "xaxis51": {
         "anchor": "y51",
         "domain": [
          0.25625,
          0.359375
         ]
        },
        "xaxis52": {
         "anchor": "y52",
         "domain": [
          0.38437499999999997,
          0.48749999999999993
         ]
        },
        "xaxis53": {
         "anchor": "y53",
         "domain": [
          0.5125,
          0.615625
         ]
        },
        "xaxis54": {
         "anchor": "y54",
         "domain": [
          0.640625,
          0.74375
         ]
        },
        "xaxis55": {
         "anchor": "y55",
         "domain": [
          0.76875,
          0.8718750000000001
         ]
        },
        "xaxis56": {
         "anchor": "y56",
         "domain": [
          0.8968750000000001,
          1
         ]
        },
        "xaxis57": {
         "anchor": "y57",
         "domain": [
          0,
          0.103125
         ]
        },
        "xaxis58": {
         "anchor": "y58",
         "domain": [
          0.128125,
          0.23124999999999998
         ]
        },
        "xaxis59": {
         "anchor": "y59",
         "domain": [
          0.25625,
          0.359375
         ]
        },
        "xaxis6": {
         "anchor": "y6",
         "domain": [
          0.640625,
          0.74375
         ]
        },
        "xaxis60": {
         "anchor": "y60",
         "domain": [
          0.38437499999999997,
          0.48749999999999993
         ]
        },
        "xaxis61": {
         "anchor": "y61",
         "domain": [
          0.5125,
          0.615625
         ]
        },
        "xaxis62": {
         "anchor": "y62",
         "domain": [
          0.640625,
          0.74375
         ]
        },
        "xaxis63": {
         "anchor": "y63",
         "domain": [
          0.76875,
          0.8718750000000001
         ]
        },
        "xaxis64": {
         "anchor": "y64",
         "domain": [
          0.8968750000000001,
          1
         ]
        },
        "xaxis7": {
         "anchor": "y7",
         "domain": [
          0.76875,
          0.8718750000000001
         ]
        },
        "xaxis8": {
         "anchor": "y8",
         "domain": [
          0.8968750000000001,
          1
         ]
        },
        "xaxis9": {
         "anchor": "y9",
         "domain": [
          0,
          0.103125
         ]
        },
        "yaxis": {
         "anchor": "x",
         "domain": [
          0.91328125,
          1
         ]
        },
        "yaxis10": {
         "anchor": "x10",
         "domain": [
          0.7828125,
          0.8695312500000001
         ]
        },
        "yaxis11": {
         "anchor": "x11",
         "domain": [
          0.7828125,
          0.8695312500000001
         ]
        },
        "yaxis12": {
         "anchor": "x12",
         "domain": [
          0.7828125,
          0.8695312500000001
         ]
        },
        "yaxis13": {
         "anchor": "x13",
         "domain": [
          0.7828125,
          0.8695312500000001
         ]
        },
        "yaxis14": {
         "anchor": "x14",
         "domain": [
          0.7828125,
          0.8695312500000001
         ]
        },
        "yaxis15": {
         "anchor": "x15",
         "domain": [
          0.7828125,
          0.8695312500000001
         ]
        },
        "yaxis16": {
         "anchor": "x16",
         "domain": [
          0.7828125,
          0.8695312500000001
         ]
        },
        "yaxis17": {
         "anchor": "x17",
         "domain": [
          0.65234375,
          0.7390625
         ]
        },
        "yaxis18": {
         "anchor": "x18",
         "domain": [
          0.65234375,
          0.7390625
         ]
        },
        "yaxis19": {
         "anchor": "x19",
         "domain": [
          0.65234375,
          0.7390625
         ]
        },
        "yaxis2": {
         "anchor": "x2",
         "domain": [
          0.91328125,
          1
         ]
        },
        "yaxis20": {
         "anchor": "x20",
         "domain": [
          0.65234375,
          0.7390625
         ]
        },
        "yaxis21": {
         "anchor": "x21",
         "domain": [
          0.65234375,
          0.7390625
         ]
        },
        "yaxis22": {
         "anchor": "x22",
         "domain": [
          0.65234375,
          0.7390625
         ]
        },
        "yaxis23": {
         "anchor": "x23",
         "domain": [
          0.65234375,
          0.7390625
         ]
        },
        "yaxis24": {
         "anchor": "x24",
         "domain": [
          0.65234375,
          0.7390625
         ]
        },
        "yaxis25": {
         "anchor": "x25",
         "domain": [
          0.5218750000000001,
          0.60859375
         ]
        },
        "yaxis26": {
         "anchor": "x26",
         "domain": [
          0.5218750000000001,
          0.60859375
         ]
        },
        "yaxis27": {
         "anchor": "x27",
         "domain": [
          0.5218750000000001,
          0.60859375
         ]
        },
        "yaxis28": {
         "anchor": "x28",
         "domain": [
          0.5218750000000001,
          0.60859375
         ]
        },
        "yaxis29": {
         "anchor": "x29",
         "domain": [
          0.5218750000000001,
          0.60859375
         ]
        },
        "yaxis3": {
         "anchor": "x3",
         "domain": [
          0.91328125,
          1
         ]
        },
        "yaxis30": {
         "anchor": "x30",
         "domain": [
          0.5218750000000001,
          0.60859375
         ]
        },
        "yaxis31": {
         "anchor": "x31",
         "domain": [
          0.5218750000000001,
          0.60859375
         ]
        },
        "yaxis32": {
         "anchor": "x32",
         "domain": [
          0.5218750000000001,
          0.60859375
         ]
        },
        "yaxis33": {
         "anchor": "x33",
         "domain": [
          0.39140625,
          0.478125
         ]
        },
        "yaxis34": {
         "anchor": "x34",
         "domain": [
          0.39140625,
          0.478125
         ]
        },
        "yaxis35": {
         "anchor": "x35",
         "domain": [
          0.39140625,
          0.478125
         ]
        },
        "yaxis36": {
         "anchor": "x36",
         "domain": [
          0.39140625,
          0.478125
         ]
        },
        "yaxis37": {
         "anchor": "x37",
         "domain": [
          0.39140625,
          0.478125
         ]
        },
        "yaxis38": {
         "anchor": "x38",
         "domain": [
          0.39140625,
          0.478125
         ]
        },
        "yaxis39": {
         "anchor": "x39",
         "domain": [
          0.39140625,
          0.478125
         ]
        },
        "yaxis4": {
         "anchor": "x4",
         "domain": [
          0.91328125,
          1
         ]
        },
        "yaxis40": {
         "anchor": "x40",
         "domain": [
          0.39140625,
          0.478125
         ]
        },
        "yaxis41": {
         "anchor": "x41",
         "domain": [
          0.26093750000000004,
          0.34765625000000006
         ]
        },
        "yaxis42": {
         "anchor": "x42",
         "domain": [
          0.26093750000000004,
          0.34765625000000006
         ]
        },
        "yaxis43": {
         "anchor": "x43",
         "domain": [
          0.26093750000000004,
          0.34765625000000006
         ]
        },
        "yaxis44": {
         "anchor": "x44",
         "domain": [
          0.26093750000000004,
          0.34765625000000006
         ]
        },
        "yaxis45": {
         "anchor": "x45",
         "domain": [
          0.26093750000000004,
          0.34765625000000006
         ]
        },
        "yaxis46": {
         "anchor": "x46",
         "domain": [
          0.26093750000000004,
          0.34765625000000006
         ]
        },
        "yaxis47": {
         "anchor": "x47",
         "domain": [
          0.26093750000000004,
          0.34765625000000006
         ]
        },
        "yaxis48": {
         "anchor": "x48",
         "domain": [
          0.26093750000000004,
          0.34765625000000006
         ]
        },
        "yaxis49": {
         "anchor": "x49",
         "domain": [
          0.13046875000000002,
          0.21718750000000003
         ]
        },
        "yaxis5": {
         "anchor": "x5",
         "domain": [
          0.91328125,
          1
         ]
        },
        "yaxis50": {
         "anchor": "x50",
         "domain": [
          0.13046875000000002,
          0.21718750000000003
         ]
        },
        "yaxis51": {
         "anchor": "x51",
         "domain": [
          0.13046875000000002,
          0.21718750000000003
         ]
        },
        "yaxis52": {
         "anchor": "x52",
         "domain": [
          0.13046875000000002,
          0.21718750000000003
         ]
        },
        "yaxis53": {
         "anchor": "x53",
         "domain": [
          0.13046875000000002,
          0.21718750000000003
         ]
        },
        "yaxis54": {
         "anchor": "x54",
         "domain": [
          0.13046875000000002,
          0.21718750000000003
         ]
        },
        "yaxis55": {
         "anchor": "x55",
         "domain": [
          0.13046875000000002,
          0.21718750000000003
         ]
        },
        "yaxis56": {
         "anchor": "x56",
         "domain": [
          0.13046875000000002,
          0.21718750000000003
         ]
        },
        "yaxis57": {
         "anchor": "x57",
         "domain": [
          0,
          0.08671875000000001
         ]
        },
        "yaxis58": {
         "anchor": "x58",
         "domain": [
          0,
          0.08671875000000001
         ]
        },
        "yaxis59": {
         "anchor": "x59",
         "domain": [
          0,
          0.08671875000000001
         ]
        },
        "yaxis6": {
         "anchor": "x6",
         "domain": [
          0.91328125,
          1
         ]
        },
        "yaxis60": {
         "anchor": "x60",
         "domain": [
          0,
          0.08671875000000001
         ]
        },
        "yaxis61": {
         "anchor": "x61",
         "domain": [
          0,
          0.08671875000000001
         ]
        },
        "yaxis62": {
         "anchor": "x62",
         "domain": [
          0,
          0.08671875000000001
         ]
        },
        "yaxis63": {
         "anchor": "x63",
         "domain": [
          0,
          0.08671875000000001
         ]
        },
        "yaxis64": {
         "anchor": "x64",
         "domain": [
          0,
          0.08671875000000001
         ]
        },
        "yaxis7": {
         "anchor": "x7",
         "domain": [
          0.91328125,
          1
         ]
        },
        "yaxis8": {
         "anchor": "x8",
         "domain": [
          0.91328125,
          1
         ]
        },
        "yaxis9": {
         "anchor": "x9",
         "domain": [
          0.7828125,
          0.8695312500000001
         ]
        }
       }
      },
      "text/html": [
       "<div>                            <div id=\"b9dd6f93-5194-47e6-9d65-31a4dcd7b2b0\" class=\"plotly-graph-div\" style=\"height:1600px; width:1600px;\"></div>            <script type=\"text/javascript\">                require([\"plotly\"], function(Plotly) {                    window.PLOTLYENV=window.PLOTLYENV || {};                                    if (document.getElementById(\"b9dd6f93-5194-47e6-9d65-31a4dcd7b2b0\")) {                    Plotly.newPlot(                        \"b9dd6f93-5194-47e6-9d65-31a4dcd7b2b0\",                        [{\"colorscale\":[[0.0,\"rgb(103,0,31)\"],[0.1,\"rgb(178,24,43)\"],[0.2,\"rgb(214,96,77)\"],[0.3,\"rgb(244,165,130)\"],[0.4,\"rgb(253,219,199)\"],[0.5,\"rgb(247,247,247)\"],[0.6,\"rgb(209,229,240)\"],[0.7,\"rgb(146,197,222)\"],[0.8,\"rgb(67,147,195)\"],[0.9,\"rgb(33,102,172)\"],[1.0,\"rgb(5,48,97)\"]],\"hoverongaps\":false,\"x\":[0,1,2,3,4,5,6,7],\"y\":[\"H\",\"G\",\"F\",\"E\",\"D\",\"C\",\"B\",\"A\"],\"z\":[[0.0,0.0,0.0,0.0,0.0,0.0,0.0,0.0],[0.0,0.0,0.0,0.0,0.0,0.0,0.0,0.0],[0.0,0.0,0.0,0.0,0.0,0.0,0.0,0.0],[0.0,0.0,0.0,0.0,0.0,0.0,0.0,0.0],[0.0,0.0,0.0,0.0,0.0,0.0,0.0,0.0],[0.0,0.0,0.0,0.0,0.0,0.0,0.0,0.0],[0.0,0.0,0.0,0.0,0.0,0.0,0.0,0.0],[0.0,0.0,0.0,0.0,0.0,0.0,0.0,0.0]],\"zmax\":0.6861146688461304,\"zmin\":-0.6861146688461304,\"type\":\"heatmap\",\"xaxis\":\"x\",\"yaxis\":\"y\"},{\"colorscale\":[[0.0,\"rgb(103,0,31)\"],[0.1,\"rgb(178,24,43)\"],[0.2,\"rgb(214,96,77)\"],[0.3,\"rgb(244,165,130)\"],[0.4,\"rgb(253,219,199)\"],[0.5,\"rgb(247,247,247)\"],[0.6,\"rgb(209,229,240)\"],[0.7,\"rgb(146,197,222)\"],[0.8,\"rgb(67,147,195)\"],[0.9,\"rgb(33,102,172)\"],[1.0,\"rgb(5,48,97)\"]],\"hoverongaps\":false,\"x\":[0,1,2,3,4,5,6,7],\"y\":[\"H\",\"G\",\"F\",\"E\",\"D\",\"C\",\"B\",\"A\"],\"z\":[[0.13940931856632233,0.49238115549087524,0.41846010088920593,0.4337942600250244,0.5348332524299622,0.540886402130127,0.481603741645813,-0.03742876276373863],[0.5525877475738525,0.39973095059394836,0.5261282324790955,0.5509346723556519,0.4885668158531189,0.3937189280986786,0.2349783480167389,0.35174453258514404],[0.5087990760803223,0.48311400413513184,0.5328013896942139,0.394858717918396,0.44672253727912903,0.2955455482006073,0.14748959243297577,0.2810753881931305],[0.5093994736671448,0.4563876688480377,0.4212222993373871,0.3683697283267975,0.23676797747612,0.1357131153345108,0.08499245345592499,0.280778169631958],[0.5225346088409424,0.23117561638355255,0.17538735270500183,0.09991912543773651,0.09510836750268936,0.047592174261808395,0.1107231080532074,0.10943140834569931],[0.4394574463367462,0.17662200331687927,0.09170033782720566,0.08422621339559555,0.022749003022909164,0.045863308012485504,0.09073907136917114,0.04079460725188255],[0.43991461396217346,0.21226766705513,0.17990131676197052,0.19972869753837585,0.19572319090366364,0.13415822386741638,0.056957341730594635,0.03707518056035042],[0.09256547689437866,0.2411741018295288,0.37526726722717285,0.3335105776786804,0.28529927134513855,0.3032226860523224,0.12143674492835999,-0.018367858603596687]],\"zmax\":0.6861146688461304,\"zmin\":-0.6861146688461304,\"type\":\"heatmap\",\"xaxis\":\"x9\",\"yaxis\":\"y9\"},{\"colorscale\":[[0.0,\"rgb(103,0,31)\"],[0.1,\"rgb(178,24,43)\"],[0.2,\"rgb(214,96,77)\"],[0.3,\"rgb(244,165,130)\"],[0.4,\"rgb(253,219,199)\"],[0.5,\"rgb(247,247,247)\"],[0.6,\"rgb(209,229,240)\"],[0.7,\"rgb(146,197,222)\"],[0.8,\"rgb(67,147,195)\"],[0.9,\"rgb(33,102,172)\"],[1.0,\"rgb(5,48,97)\"]],\"hoverongaps\":false,\"x\":[0,1,2,3,4,5,6,7],\"y\":[\"H\",\"G\",\"F\",\"E\",\"D\",\"C\",\"B\",\"A\"],\"z\":[[-0.08787693828344345,-0.0428139753639698,-0.053744859993457794,0.013626541942358017,0.24125811457633972,0.2812280058860779,0.2521291673183441,-0.110886350274086],[0.022690171375870705,0.032815564423799515,0.07459724694490433,-0.0011011100141331553,0.08231829851865768,0.07834560424089432,0.024340132251381874,-0.04455534368753433],[0.09986470639705658,0.1876712143421173,0.2176251858472824,0.18059073388576508,0.17327508330345154,0.06155581772327423,-0.024899188429117203,-0.055879540741443634],[0.23062953352928162,0.4355066418647766,0.3814413845539093,0.5715242624282837,0.5299930572509766,0.22461460530757904,0.18181157112121582,-0.036048900336027145],[0.46569350361824036,0.47093674540519714,0.46647870540618896,0.6406185626983643,0.6294705867767334,0.4166492223739624,0.3431837856769562,-0.02462797611951828],[0.3255264163017273,0.5133143067359924,0.4494199752807617,0.4580373764038086,0.42804548144340515,0.4880260229110718,0.4511021077632904,-0.025675373151898384],[0.2517223656177521,0.37552180886268616,0.49990177154541016,0.4877254366874695,0.4809281527996063,0.4790179431438446,0.4552824795246124,-0.042419180274009705],[-0.10437774658203125,-0.08267877250909805,0.3087356388568878,0.33567726612091064,0.3158373236656189,0.31391963362693787,0.05926075577735901,-0.054064054042100906]],\"zmax\":0.6861146688461304,\"zmin\":-0.6861146688461304,\"type\":\"heatmap\",\"xaxis\":\"x17\",\"yaxis\":\"y17\"},{\"colorscale\":[[0.0,\"rgb(103,0,31)\"],[0.1,\"rgb(178,24,43)\"],[0.2,\"rgb(214,96,77)\"],[0.3,\"rgb(244,165,130)\"],[0.4,\"rgb(253,219,199)\"],[0.5,\"rgb(247,247,247)\"],[0.6,\"rgb(209,229,240)\"],[0.7,\"rgb(146,197,222)\"],[0.8,\"rgb(67,147,195)\"],[0.9,\"rgb(33,102,172)\"],[1.0,\"rgb(5,48,97)\"]],\"hoverongaps\":false,\"x\":[0,1,2,3,4,5,6,7],\"y\":[\"H\",\"G\",\"F\",\"E\",\"D\",\"C\",\"B\",\"A\"],\"z\":[[-0.009647722356021404,0.12470431625843048,0.2669249176979065,0.2971409559249878,0.40888309478759766,0.12516146898269653,0.2335602343082428,-0.016542324796319008],[0.23397821187973022,0.5349680185317993,0.5555924773216248,0.5776851177215576,0.592843770980835,0.49406105279922485,0.5191382169723511,0.16486339271068573],[0.1777763068675995,0.5520197153091431,0.5790492296218872,0.49221548438072205,0.5083155632019043,0.4774106740951538,0.5605106353759766,0.25990113615989685],[0.24476218223571777,0.586061954498291,0.481198251247406,0.6763462424278259,0.6612727046012878,0.511573851108551,0.5300953388214111,0.4389321804046631],[0.24573108553886414,0.5338048338890076,0.5141006112098694,0.6549016237258911,0.6861146688461304,0.5030539631843567,0.542908787727356,0.3557675778865814],[0.3536769151687622,0.5512496829032898,0.5014040470123291,0.5600639581680298,0.5213977694511414,0.567158579826355,0.5172410607337952,0.3275933563709259],[0.16584904491901398,0.5133355855941772,0.5335829854011536,0.5473047494888306,0.5460160970687866,0.5422285795211792,0.4602719843387604,0.2464158833026886],[0.009436562657356262,0.16283465921878815,0.23896682262420654,0.3315207362174988,0.2542877793312073,0.2736318111419678,0.14512325823307037,0.016972588375210762]],\"zmax\":0.6861146688461304,\"zmin\":-0.6861146688461304,\"type\":\"heatmap\",\"xaxis\":\"x25\",\"yaxis\":\"y25\"},{\"colorscale\":[[0.0,\"rgb(103,0,31)\"],[0.1,\"rgb(178,24,43)\"],[0.2,\"rgb(214,96,77)\"],[0.3,\"rgb(244,165,130)\"],[0.4,\"rgb(253,219,199)\"],[0.5,\"rgb(247,247,247)\"],[0.6,\"rgb(209,229,240)\"],[0.7,\"rgb(146,197,222)\"],[0.8,\"rgb(67,147,195)\"],[0.9,\"rgb(33,102,172)\"],[1.0,\"rgb(5,48,97)\"]],\"hoverongaps\":false,\"x\":[0,1,2,3,4,5,6,7],\"y\":[\"H\",\"G\",\"F\",\"E\",\"D\",\"C\",\"B\",\"A\"],\"z\":[[-0.011514529585838318,-0.05400115251541138,-0.045016102492809296,-0.07356350123882294,-0.10914236307144165,-0.09287276864051819,-0.0602058470249176,0.016999654471874237],[-0.02329917810857296,0.007617619354277849,-0.08509097248315811,-0.4417495131492615,-0.4963093400001526,-0.5059585571289062,-0.5164774060249329,0.0026470175944268703],[-0.028771838173270226,0.021859632804989815,-0.0015777242369949818,-0.45088955760002136,-0.5068894028663635,-0.5712630748748779,-0.5912927985191345,-0.29578912258148193],[0.014938585460186005,-0.010586312040686607,-0.017149491235613823,-0.4537040591239929,-0.5784544944763184,-0.53957599401474,-0.5594753623008728,-0.09620319306850433],[-0.02593446522951126,-0.020858610048890114,-0.16105584800243378,-0.503145694732666,-0.4999825954437256,-0.5319653749465942,-0.5375635027885437,-0.10865660011768341],[-0.013681099750101566,-0.0012700437800958753,-0.17698830366134644,-0.08864007890224457,-0.2776029109954834,-0.2226039469242096,-0.44019386172294617,-0.07171648740768433],[-0.0034930172841995955,0.04452420398592949,-0.04919951781630516,-0.028490586206316948,-0.036686502397060394,-0.04383878782391548,-0.020851021632552147,-0.0009942501783370972],[0.03235941007733345,-0.004588272422552109,-0.009966755285859108,-0.015777453780174255,-0.02064366452395916,-0.0169198140501976,0.010221653617918491,0.031070340424776077]],\"zmax\":0.6861146688461304,\"zmin\":-0.6861146688461304,\"type\":\"heatmap\",\"xaxis\":\"x33\",\"yaxis\":\"y33\"},{\"colorscale\":[[0.0,\"rgb(103,0,31)\"],[0.1,\"rgb(178,24,43)\"],[0.2,\"rgb(214,96,77)\"],[0.3,\"rgb(244,165,130)\"],[0.4,\"rgb(253,219,199)\"],[0.5,\"rgb(247,247,247)\"],[0.6,\"rgb(209,229,240)\"],[0.7,\"rgb(146,197,222)\"],[0.8,\"rgb(67,147,195)\"],[0.9,\"rgb(33,102,172)\"],[1.0,\"rgb(5,48,97)\"]],\"hoverongaps\":false,\"x\":[0,1,2,3,4,5,6,7],\"y\":[\"H\",\"G\",\"F\",\"E\",\"D\",\"C\",\"B\",\"A\"],\"z\":[[0.004677455406636,-0.00280393217690289,0.009006157517433167,-0.004011152777820826,-0.03755625709891319,-0.004915244411677122,0.011423863470554352,-0.03384725749492645],[-0.0024274620227515697,0.00960660632699728,-0.014231368899345398,0.03765987232327461,-0.021464461460709572,-0.04537874460220337,-0.14065243303775787,0.011717858724296093],[0.005983577109873295,0.022539088502526283,-0.009157736785709858,0.015571285039186478,-0.16981853544712067,-0.3554634749889374,-0.31700196862220764,-0.008639688603579998],[0.04816212132573128,-0.012849624268710613,-0.04597826674580574,-0.2883794605731964,-0.48654410243034363,-0.4838699698448181,-0.36540406942367554,-0.006184713914990425],[0.012508374638855457,-0.1615150272846222,-0.335409939289093,-0.4265457093715668,-0.3938691318035126,-0.3799358606338501,-0.32679224014282227,-0.010467903688549995],[-0.021630436182022095,-0.2935948073863983,-0.4168410301208496,-0.4393484890460968,-0.35593634843826294,-0.3686789274215698,-0.3263624608516693,-0.011229761876165867],[0.009170670062303543,-0.3104444742202759,-0.2817966639995575,-0.3689936697483063,-0.36502933502197266,-0.40905725955963135,-0.31978100538253784,-0.032171767204999924],[-0.00971180759370327,-0.015096500515937805,-0.055146411061286926,-0.05971693620085716,-0.05745546519756317,-0.0651070699095726,0.007609909400343895,-0.01408662274479866]],\"zmax\":0.6861146688461304,\"zmin\":-0.6861146688461304,\"type\":\"heatmap\",\"xaxis\":\"x41\",\"yaxis\":\"y41\"},{\"colorscale\":[[0.0,\"rgb(103,0,31)\"],[0.1,\"rgb(178,24,43)\"],[0.2,\"rgb(214,96,77)\"],[0.3,\"rgb(244,165,130)\"],[0.4,\"rgb(253,219,199)\"],[0.5,\"rgb(247,247,247)\"],[0.6,\"rgb(209,229,240)\"],[0.7,\"rgb(146,197,222)\"],[0.8,\"rgb(67,147,195)\"],[0.9,\"rgb(33,102,172)\"],[1.0,\"rgb(5,48,97)\"]],\"hoverongaps\":false,\"x\":[0,1,2,3,4,5,6,7],\"y\":[\"H\",\"G\",\"F\",\"E\",\"D\",\"C\",\"B\",\"A\"],\"z\":[[-0.04607688635587692,-0.0582059770822525,-0.005343856289982796,-0.02940582111477852,-0.004057155456393957,0.011498034931719303,0.02764233946800232,-0.012380579486489296],[-0.014403176493942738,0.2345670759677887,0.1345149129629135,0.07679907232522964,-0.005290823522955179,0.02047637663781643,0.03353557735681534,-0.01866844855248928],[0.08286034315824509,0.33337315917015076,0.44446268677711487,0.15324902534484863,0.02890024147927761,0.0352482795715332,0.05434630811214447,-0.01964266411960125],[0.041443534195423126,0.40981006622314453,0.3848109841346741,0.40616318583488464,0.12763920426368713,0.0625533014535904,0.010263776406645775,-0.01761927641928196],[0.06472744047641754,0.3443388044834137,0.38924440741539,0.470255970954895,0.1484254002571106,0.03144027292728424,0.03493089973926544,-0.018775062635540962],[0.13658644258975983,0.3795580565929413,0.3422130048274994,0.30986908078193665,0.026352686807513237,0.04112591594457626,0.026443593204021454,0.006939271464943886],[0.04765261709690094,0.2129567563533783,0.32490959763526917,0.16868522763252258,0.07454974204301834,0.010963455773890018,-0.01474565640091896,-0.02653931826353073],[-0.047444771975278854,-0.017919573932886124,0.0035334741696715355,-0.018992414698004723,-0.018276451155543327,0.0024901460856199265,0.026237955316901207,-0.04581233486533165]],\"zmax\":0.6861146688461304,\"zmin\":-0.6861146688461304,\"type\":\"heatmap\",\"xaxis\":\"x49\",\"yaxis\":\"y49\"},{\"colorscale\":[[0.0,\"rgb(103,0,31)\"],[0.1,\"rgb(178,24,43)\"],[0.2,\"rgb(214,96,77)\"],[0.3,\"rgb(244,165,130)\"],[0.4,\"rgb(253,219,199)\"],[0.5,\"rgb(247,247,247)\"],[0.6,\"rgb(209,229,240)\"],[0.7,\"rgb(146,197,222)\"],[0.8,\"rgb(67,147,195)\"],[0.9,\"rgb(33,102,172)\"],[1.0,\"rgb(5,48,97)\"]],\"hoverongaps\":false,\"x\":[0,1,2,3,4,5,6,7],\"y\":[\"H\",\"G\",\"F\",\"E\",\"D\",\"C\",\"B\",\"A\"],\"z\":[[-0.05155586823821068,-0.1166117712855339,-0.0413430891931057,-0.07428983598947525,-0.08505826443433762,-0.07047910988330841,-0.0434885174036026,-0.10685880482196808],[-0.09065577387809753,-0.0042232973501086235,-0.08859847486019135,-0.023723632097244263,0.032108306884765625,-0.010662266984581947,-0.039238933473825455,-0.08762771636247635],[-0.08377879858016968,-0.07517899572849274,-0.12143757939338684,-0.17318177223205566,-0.09994055330753326,-0.05808359012007713,-0.031272828578948975,-0.044076770544052124],[-0.03109331801533699,-0.09939343482255936,-0.12529374659061432,-0.19572234153747559,-0.06917983293533325,-0.03779406473040581,-0.04882913827896118,-0.053937189280986786],[-0.061199963092803955,-0.013925007544457912,-0.04970306158065796,-0.003689604112878442,-0.011044133454561234,0.028313830494880676,-6.916934944456443e-05,-0.05356910452246666],[-0.026887552812695503,0.05891179293394089,0.03397934511303902,0.01764664612710476,-0.03428300470113754,-0.1166495755314827,-0.047045785933732986,-0.0657719150185585],[-0.025666484609246254,0.004062609747052193,0.03652091696858406,-0.01613963209092617,-0.0722564160823822,-0.06942468136548996,-0.09653688967227936,-0.07553648948669434],[-0.04947705194354057,-0.031025361269712448,-0.022923706099390984,-0.032197315245866776,-0.05542204901576042,-0.06131337210536003,-0.08272160589694977,-0.07734443247318268]],\"zmax\":0.6861146688461304,\"zmin\":-0.6861146688461304,\"type\":\"heatmap\",\"xaxis\":\"x57\",\"yaxis\":\"y57\"},{\"colorscale\":[[0.0,\"rgb(103,0,31)\"],[0.1,\"rgb(178,24,43)\"],[0.2,\"rgb(214,96,77)\"],[0.3,\"rgb(244,165,130)\"],[0.4,\"rgb(253,219,199)\"],[0.5,\"rgb(247,247,247)\"],[0.6,\"rgb(209,229,240)\"],[0.7,\"rgb(146,197,222)\"],[0.8,\"rgb(67,147,195)\"],[0.9,\"rgb(33,102,172)\"],[1.0,\"rgb(5,48,97)\"]],\"hoverongaps\":false,\"x\":[0,1,2,3,4,5,6,7],\"y\":[\"H\",\"G\",\"F\",\"E\",\"D\",\"C\",\"B\",\"A\"],\"z\":[[0.0,0.0,0.0,0.0,0.0,0.0,0.0,0.0],[0.0,0.0,0.0,0.0,0.0,0.0,0.0,0.0],[0.0,0.0,0.0,0.0,0.0,0.0,0.0,0.0],[0.0,0.0,0.0,0.0,0.0,0.0,0.0,0.0],[0.0,0.0,0.0,0.0,0.0,0.0,0.0,0.0],[0.0,0.0,0.0,0.0,0.0,0.0,0.0,0.0],[0.0,0.0,0.0,0.0,0.0,0.0,0.0,0.0],[0.0,0.0,0.0,0.0,0.0,0.0,0.0,0.0]],\"zmax\":0.6861146688461304,\"zmin\":-0.6861146688461304,\"type\":\"heatmap\",\"xaxis\":\"x2\",\"yaxis\":\"y2\"},{\"colorscale\":[[0.0,\"rgb(103,0,31)\"],[0.1,\"rgb(178,24,43)\"],[0.2,\"rgb(214,96,77)\"],[0.3,\"rgb(244,165,130)\"],[0.4,\"rgb(253,219,199)\"],[0.5,\"rgb(247,247,247)\"],[0.6,\"rgb(209,229,240)\"],[0.7,\"rgb(146,197,222)\"],[0.8,\"rgb(67,147,195)\"],[0.9,\"rgb(33,102,172)\"],[1.0,\"rgb(5,48,97)\"]],\"hoverongaps\":false,\"x\":[0,1,2,3,4,5,6,7],\"y\":[\"H\",\"G\",\"F\",\"E\",\"D\",\"C\",\"B\",\"A\"],\"z\":[[0.051662933081388474,-0.5146061182022095,-0.4717791676521301,-0.49708107113838196,-0.45832258462905884,-0.5070295929908752,-0.5022903680801392,-0.0059966216795146465],[-0.5576832890510559,-0.26105546951293945,-0.2813531458377838,-0.2562480866909027,-0.2984437942504883,-0.2814558446407318,-0.035910896956920624,-0.09111035615205765],[-0.5128029584884644,-0.3524084687232971,-0.3595704138278961,-0.24080641567707062,-0.3126111328601837,-0.2350613921880722,-0.008887168020009995,0.005551526788622141],[-0.5066893696784973,-0.22920912504196167,-0.15003764629364014,-0.053805675357580185,0.03387368842959404,-0.18247564136981964,-0.00040531583363190293,0.03377775847911835],[-0.39454057812690735,-0.2516317367553711,-0.22275684773921967,-0.05206402391195297,-0.021969767287373543,-0.08362598717212677,-0.05243842676281929,0.012566245160996914],[-0.5023057460784912,-0.18856675922870636,-0.3267565369606018,-0.2574814260005951,0.018373528495430946,-0.07112959027290344,0.017628788948059082,0.001720927655696869],[-0.5878003835678101,-0.31412413716316223,-0.06036723405122757,-0.008335360325872898,-0.03561192750930786,-0.012396867386996746,0.020725222304463387,0.038733772933483124],[0.05997299402952194,-0.08967003226280212,-0.08702779561281204,-0.08268257975578308,-0.03415187448263168,-0.009398340247571468,0.0038900149520486593,0.021580690518021584]],\"zmax\":0.6861146688461304,\"zmin\":-0.6861146688461304,\"type\":\"heatmap\",\"xaxis\":\"x10\",\"yaxis\":\"y10\"},{\"colorscale\":[[0.0,\"rgb(103,0,31)\"],[0.1,\"rgb(178,24,43)\"],[0.2,\"rgb(214,96,77)\"],[0.3,\"rgb(244,165,130)\"],[0.4,\"rgb(253,219,199)\"],[0.5,\"rgb(247,247,247)\"],[0.6,\"rgb(209,229,240)\"],[0.7,\"rgb(146,197,222)\"],[0.8,\"rgb(67,147,195)\"],[0.9,\"rgb(33,102,172)\"],[1.0,\"rgb(5,48,97)\"]],\"hoverongaps\":false,\"x\":[0,1,2,3,4,5,6,7],\"y\":[\"H\",\"G\",\"F\",\"E\",\"D\",\"C\",\"B\",\"A\"],\"z\":[[-0.016358336433768272,-0.4865168631076813,-0.4551887810230255,-0.5101015567779541,-0.49541109800338745,-0.4572003185749054,-0.4719100296497345,-0.0018319361843168736],[-0.3590944707393646,-0.4221056401729584,-0.47104936838150024,-0.4624980092048645,-0.4372723698616028,-0.3964671492576599,-0.4035937786102295,-0.013234022073447704],[-0.05139254406094551,-0.4406934678554535,-0.4632137417793274,-0.3586665391921997,-0.3699934184551239,-0.36854615807533264,-0.355940043926239,-0.0226584579795599],[-0.0056149628944695,-0.31520116329193115,-0.17773251235485077,-0.06669696420431137,-0.3774571716785431,-0.3557486832141876,-0.42587244510650635,-0.029952561482787132],[-0.019873933866620064,0.022938884794712067,0.028175916522741318,0.016272250562906265,-0.46602076292037964,-0.38497689366340637,-0.4682654142379761,-0.044213779270648956],[0.017592504620552063,0.005297068506479263,0.02065122500061989,-0.2883988320827484,-0.342814177274704,-0.42678549885749817,-0.43178680539131165,-0.18376894295215607],[0.01653435453772545,-0.03591127693653107,-0.2557893991470337,-0.4569149613380432,-0.4824103116989136,-0.47250425815582275,-0.426161527633667,-0.05309274420142174],[-0.009196512401103973,-0.31313493847846985,-0.3934142291545868,-0.41950762271881104,-0.4552616477012634,-0.5278477072715759,-0.2325480878353119,-0.018875068053603172]],\"zmax\":0.6861146688461304,\"zmin\":-0.6861146688461304,\"type\":\"heatmap\",\"xaxis\":\"x18\",\"yaxis\":\"y18\"},{\"colorscale\":[[0.0,\"rgb(103,0,31)\"],[0.1,\"rgb(178,24,43)\"],[0.2,\"rgb(214,96,77)\"],[0.3,\"rgb(244,165,130)\"],[0.4,\"rgb(253,219,199)\"],[0.5,\"rgb(247,247,247)\"],[0.6,\"rgb(209,229,240)\"],[0.7,\"rgb(146,197,222)\"],[0.8,\"rgb(67,147,195)\"],[0.9,\"rgb(33,102,172)\"],[1.0,\"rgb(5,48,97)\"]],\"hoverongaps\":false,\"x\":[0,1,2,3,4,5,6,7],\"y\":[\"H\",\"G\",\"F\",\"E\",\"D\",\"C\",\"B\",\"A\"],\"z\":[[0.019099058583378792,-0.0021479479037225246,0.0554889515042305,0.027942053973674774,0.002744469791650772,0.010227053426206112,0.0034115752205252647,-0.018441377207636833],[-0.1573343575000763,-0.05608664080500603,-0.004083906300365925,-0.06721942871809006,-0.04119642451405525,-0.026982637122273445,0.010674819350242615,-0.017871148884296417],[-0.15215106308460236,-0.43757808208465576,-0.45954298973083496,-0.3672896921634674,-0.21938590705394745,-0.12506800889968872,-0.0051854997873306274,0.024931391701102257],[-0.2422632873058319,-0.5391458868980408,-0.4595642387866974,-0.5882096290588379,-0.10552364587783813,0.03828383609652519,0.0026783400680869818,0.026782378554344177],[-0.4099476933479309,-0.4932456314563751,-0.413208931684494,-0.5663163661956787,0.0036199414171278477,0.002025103662163019,0.026147084310650826,-0.008926885202527046],[-0.469392865896225,-0.5576717853546143,-0.4880722761154175,-0.5196309089660645,-0.09270187467336655,0.04318730905652046,-0.014596429653465748,0.01870635338127613],[-0.431182861328125,-0.5339149236679077,-0.4868584871292114,-0.4474394619464874,-0.13671940565109253,0.012300563976168633,0.019321929663419724,0.017894282937049866],[-0.030240722000598907,-0.33093830943107605,-0.15904907882213593,-0.06117396801710129,-0.02850094996392727,0.007480781525373459,-0.02165077067911625,0.0020154172088950872]],\"zmax\":0.6861146688461304,\"zmin\":-0.6861146688461304,\"type\":\"heatmap\",\"xaxis\":\"x26\",\"yaxis\":\"y26\"},{\"colorscale\":[[0.0,\"rgb(103,0,31)\"],[0.1,\"rgb(178,24,43)\"],[0.2,\"rgb(214,96,77)\"],[0.3,\"rgb(244,165,130)\"],[0.4,\"rgb(253,219,199)\"],[0.5,\"rgb(247,247,247)\"],[0.6,\"rgb(209,229,240)\"],[0.7,\"rgb(146,197,222)\"],[0.8,\"rgb(67,147,195)\"],[0.9,\"rgb(33,102,172)\"],[1.0,\"rgb(5,48,97)\"]],\"hoverongaps\":false,\"x\":[0,1,2,3,4,5,6,7],\"y\":[\"H\",\"G\",\"F\",\"E\",\"D\",\"C\",\"B\",\"A\"],\"z\":[[0.03338971361517906,-0.04336507245898247,-0.026868239045143127,-0.059359509497880936,-0.10003753006458282,-0.03272148221731186,-0.020078906789422035,-0.00888143666088581],[-0.01676168106496334,-0.5528566837310791,-0.5144256949424744,-0.5811847448348999,-0.5224355459213257,-0.4664054811000824,-0.04489606246352196,0.028514955192804337],[0.002420656383037567,-0.48535722494125366,-0.5244791507720947,-0.5073730945587158,-0.5242053270339966,-0.49298757314682007,-0.0018404029542580247,0.015024827793240547],[0.0037645662669092417,-0.49287500977516174,-0.46612459421157837,-0.6400106549263,-0.6286863088607788,-0.39423230290412903,-0.006081672850996256,-0.0017915676580742002],[0.010426145046949387,-0.23906630277633667,-0.42675676941871643,-0.6196351647377014,-0.5579482316970825,-0.5277417302131653,-0.18924039602279663,0.017326876521110535],[-0.0005129848141223192,-0.07110629230737686,-0.4560364782810211,-0.4826829731464386,-0.5252850651741028,-0.4866715967655182,-0.5336346626281738,0.004623006097972393],[0.003005275037139654,-0.01428899448364973,-0.17836344242095947,-0.5260362029075623,-0.5084420442581177,-0.48501846194267273,-0.4985724687576294,0.011930345557630062],[0.011513425037264824,0.0015871472423896194,0.0031713200733065605,-0.012693246826529503,-0.04731234908103943,0.0009599817567504942,-0.015072428621351719,0.030376696959137917]],\"zmax\":0.6861146688461304,\"zmin\":-0.6861146688461304,\"type\":\"heatmap\",\"xaxis\":\"x34\",\"yaxis\":\"y34\"},{\"colorscale\":[[0.0,\"rgb(103,0,31)\"],[0.1,\"rgb(178,24,43)\"],[0.2,\"rgb(214,96,77)\"],[0.3,\"rgb(244,165,130)\"],[0.4,\"rgb(253,219,199)\"],[0.5,\"rgb(247,247,247)\"],[0.6,\"rgb(209,229,240)\"],[0.7,\"rgb(146,197,222)\"],[0.8,\"rgb(67,147,195)\"],[0.9,\"rgb(33,102,172)\"],[1.0,\"rgb(5,48,97)\"]],\"hoverongaps\":false,\"x\":[0,1,2,3,4,5,6,7],\"y\":[\"H\",\"G\",\"F\",\"E\",\"D\",\"C\",\"B\",\"A\"],\"z\":[[-0.021929817274212837,-0.00040055703721009195,-0.00770067423582077,-0.02479654923081398,-0.10713627934455872,-0.031271107494831085,-0.003498249687254429,-0.013538477942347527],[-0.014093239791691303,0.4703353941440582,0.5965302586555481,0.4709746539592743,0.4484710097312927,0.4452088475227356,0.3387521505355835,0.029315641149878502],[0.024211594834923744,0.49618053436279297,0.5366315245628357,0.5140559673309326,0.4994527995586395,0.48009636998176575,0.47597020864486694,-0.032498400658369064],[0.026807792484760284,0.45947229862213135,0.4484585225582123,0.6297269463539124,0.6062939167022705,0.5487924814224243,0.43250054121017456,-0.14417903125286102],[0.00671590119600296,0.4824439585208893,0.36921417713165283,0.5423420667648315,0.5914310216903687,0.509370744228363,0.4560461938381195,-0.019002946093678474],[0.021343335509300232,0.35706281661987305,0.3044358193874359,0.41163772344589233,0.46973493695259094,0.5186624526977539,0.48869991302490234,-0.016474077478051186],[-0.03632199391722679,0.15419040620326996,0.1638408899307251,0.25472983717918396,0.40440690517425537,0.5187660455703735,0.4010387659072876,0.016869179904460907],[0.02388709783554077,0.02185104601085186,0.029971633106470108,0.027114108204841614,0.013440214097499847,0.019966434687376022,0.002054181881248951,0.017699893563985825]],\"zmax\":0.6861146688461304,\"zmin\":-0.6861146688461304,\"type\":\"heatmap\",\"xaxis\":\"x42\",\"yaxis\":\"y42\"},{\"colorscale\":[[0.0,\"rgb(103,0,31)\"],[0.1,\"rgb(178,24,43)\"],[0.2,\"rgb(214,96,77)\"],[0.3,\"rgb(244,165,130)\"],[0.4,\"rgb(253,219,199)\"],[0.5,\"rgb(247,247,247)\"],[0.6,\"rgb(209,229,240)\"],[0.7,\"rgb(146,197,222)\"],[0.8,\"rgb(67,147,195)\"],[0.9,\"rgb(33,102,172)\"],[1.0,\"rgb(5,48,97)\"]],\"hoverongaps\":false,\"x\":[0,1,2,3,4,5,6,7],\"y\":[\"H\",\"G\",\"F\",\"E\",\"D\",\"C\",\"B\",\"A\"],\"z\":[[0.008806651458144188,0.008130366913974285,0.04617652669548988,0.013744456693530083,0.014012840576469898,-0.012247354723513126,0.026248183101415634,0.004939318634569645],[-0.0345563180744648,0.012015129439532757,0.031876686960458755,0.07903634011745453,0.047147512435913086,0.050260405987501144,0.056689128279685974,-0.012359573505818844],[-0.021681737154722214,0.061804380267858505,0.03879852965474129,0.05741759017109871,0.18807590007781982,0.2930215299129486,0.3116084337234497,0.03467204049229622],[-0.01068677008152008,0.0622512623667717,0.02387661300599575,0.23634302616119385,0.4022006094455719,0.425390362739563,0.38954997062683105,0.025083068758249283],[0.006350140552967787,0.04011602699756622,0.0684131309390068,0.27711838483810425,0.5499053001403809,0.4852738380432129,0.3472365140914917,-0.010952369309961796],[0.0188244991004467,0.03809957206249237,0.04966193437576294,0.13828857243061066,0.2641119658946991,0.41837403178215027,0.374386191368103,0.007534664589911699],[-0.006324290297925472,0.01516131591051817,0.025157297030091286,0.08628088235855103,0.2739214599132538,0.29748788475990295,0.26830047369003296,0.0021531162783503532],[-0.02230195701122284,0.026243405416607857,0.011997807770967484,0.023002492263913155,-0.04990261420607567,-0.021667851135134697,-0.01344161108136177,-0.024556051939725876]],\"zmax\":0.6861146688461304,\"zmin\":-0.6861146688461304,\"type\":\"heatmap\",\"xaxis\":\"x50\",\"yaxis\":\"y50\"},{\"colorscale\":[[0.0,\"rgb(103,0,31)\"],[0.1,\"rgb(178,24,43)\"],[0.2,\"rgb(214,96,77)\"],[0.3,\"rgb(244,165,130)\"],[0.4,\"rgb(253,219,199)\"],[0.5,\"rgb(247,247,247)\"],[0.6,\"rgb(209,229,240)\"],[0.7,\"rgb(146,197,222)\"],[0.8,\"rgb(67,147,195)\"],[0.9,\"rgb(33,102,172)\"],[1.0,\"rgb(5,48,97)\"]],\"hoverongaps\":false,\"x\":[0,1,2,3,4,5,6,7],\"y\":[\"H\",\"G\",\"F\",\"E\",\"D\",\"C\",\"B\",\"A\"],\"z\":[[0.03459709510207176,-0.06232013180851936,-0.061496518552303314,-0.06805872917175293,0.0029495353810489178,0.008761118166148663,-0.09605376422405243,-0.06080291047692299],[-0.01730353571474552,-0.1758812814950943,-0.10908306390047073,-0.038034696131944656,-0.07288429886102676,-0.037045374512672424,-0.13517282903194427,-0.006127049680799246],[-0.034387752413749695,-0.08727327734231949,-0.07265119254589081,-0.038563430309295654,-0.04021075740456581,-0.049251679331064224,-0.09202650934457779,-0.017249342054128647],[-0.046019043773412704,-0.09276795387268066,0.021220309659838676,-0.0485517792403698,-0.003174099838361144,0.01852225884795189,-0.07595878094434738,-0.04687422513961792],[-0.014640278182923794,-0.023965593427419662,0.04902547970414162,-0.03564516082406044,-0.001205510227009654,-0.03105042688548565,0.01746990717947483,-0.03883267194032669],[-0.012846376746892929,-0.028023527935147285,-0.050743795931339264,-0.017268164083361626,0.015322345308959484,-0.08606446534395218,-0.08393765240907669,0.0016827009385451674],[-0.014339982531964779,-0.13600796461105347,-0.013117950409650803,-0.009122656658291817,0.015698758885264397,0.024748368188738823,-0.10384178906679153,-0.015288020484149456],[-0.05843531712889671,0.03394036367535591,-0.021836450323462486,-0.018342847004532814,-0.030731434002518654,-0.02573844976723194,-0.03807232156395912,-0.023610644042491913]],\"zmax\":0.6861146688461304,\"zmin\":-0.6861146688461304,\"type\":\"heatmap\",\"xaxis\":\"x58\",\"yaxis\":\"y58\"},{\"colorscale\":[[0.0,\"rgb(103,0,31)\"],[0.1,\"rgb(178,24,43)\"],[0.2,\"rgb(214,96,77)\"],[0.3,\"rgb(244,165,130)\"],[0.4,\"rgb(253,219,199)\"],[0.5,\"rgb(247,247,247)\"],[0.6,\"rgb(209,229,240)\"],[0.7,\"rgb(146,197,222)\"],[0.8,\"rgb(67,147,195)\"],[0.9,\"rgb(33,102,172)\"],[1.0,\"rgb(5,48,97)\"]],\"hoverongaps\":false,\"x\":[0,1,2,3,4,5,6,7],\"y\":[\"H\",\"G\",\"F\",\"E\",\"D\",\"C\",\"B\",\"A\"],\"z\":[[0.0,0.0,0.0,0.0,0.0,0.0,0.0,0.0],[0.0,0.0,0.0,0.0,0.0,0.0,0.0,0.0],[0.0,0.0,0.0,0.0,0.0,0.0,0.0,0.0],[0.0,0.0,0.0,0.0,0.0,0.0,0.0,0.0],[0.0,0.0,0.0,0.0,0.0,0.0,0.0,0.0],[0.0,0.0,0.0,0.0,0.0,0.0,0.0,0.0],[0.0,0.0,0.0,0.0,0.0,0.0,0.0,0.0],[0.0,0.0,0.0,0.0,0.0,0.0,0.0,0.0]],\"zmax\":0.6861146688461304,\"zmin\":-0.6861146688461304,\"type\":\"heatmap\",\"xaxis\":\"x3\",\"yaxis\":\"y3\"},{\"colorscale\":[[0.0,\"rgb(103,0,31)\"],[0.1,\"rgb(178,24,43)\"],[0.2,\"rgb(214,96,77)\"],[0.3,\"rgb(244,165,130)\"],[0.4,\"rgb(253,219,199)\"],[0.5,\"rgb(247,247,247)\"],[0.6,\"rgb(209,229,240)\"],[0.7,\"rgb(146,197,222)\"],[0.8,\"rgb(67,147,195)\"],[0.9,\"rgb(33,102,172)\"],[1.0,\"rgb(5,48,97)\"]],\"hoverongaps\":false,\"x\":[0,1,2,3,4,5,6,7],\"y\":[\"H\",\"G\",\"F\",\"E\",\"D\",\"C\",\"B\",\"A\"],\"z\":[[-0.05701209977269173,-0.09550853818655014,-0.04846760258078575,-0.01470322348177433,-0.058525457978248596,-0.11260686069726944,-0.04138307645916939,0.01269045565277338],[-0.295091450214386,-0.4444708228111267,-0.41837969422340393,-0.48230981826782227,-0.4116867482662201,-0.4088703691959381,-0.3347627520561218,-0.01805725134909153],[-0.23189620673656464,-0.41154924035072327,-0.43027451634407043,-0.36040109395980835,-0.3525232672691345,-0.38211047649383545,-0.3524266481399536,-0.04304228723049164],[-0.28552722930908203,-0.43596842885017395,-0.3504634201526642,-0.4461918771266937,-0.46666619181632996,-0.3783736526966095,-0.4360879063606262,-0.04504983127117157],[-0.17937679588794708,-0.43460339307785034,-0.36822617053985596,-0.41963812708854675,-0.4769916832447052,-0.3385006785392761,-0.4223034083843231,-0.08789878338575363],[-0.19915328919887543,-0.47677144408226013,-0.42567887902259827,-0.3942911624908447,-0.33173444867134094,-0.4000149071216583,-0.4310210049152374,-0.03157510980963707],[-0.12815918028354645,-0.3984585106372833,-0.5117716193199158,-0.43460676074028015,-0.4101356565952301,-0.41684505343437195,-0.3563593029975891,-0.04309165105223656],[-0.04983364790678024,-0.048174723982810974,-0.16739368438720703,-0.052644647657871246,-0.028423527255654335,-0.036352697759866714,-0.10877634584903717,-0.055324144661426544]],\"zmax\":0.6861146688461304,\"zmin\":-0.6861146688461304,\"type\":\"heatmap\",\"xaxis\":\"x11\",\"yaxis\":\"y11\"},{\"colorscale\":[[0.0,\"rgb(103,0,31)\"],[0.1,\"rgb(178,24,43)\"],[0.2,\"rgb(214,96,77)\"],[0.3,\"rgb(244,165,130)\"],[0.4,\"rgb(253,219,199)\"],[0.5,\"rgb(247,247,247)\"],[0.6,\"rgb(209,229,240)\"],[0.7,\"rgb(146,197,222)\"],[0.8,\"rgb(67,147,195)\"],[0.9,\"rgb(33,102,172)\"],[1.0,\"rgb(5,48,97)\"]],\"hoverongaps\":false,\"x\":[0,1,2,3,4,5,6,7],\"y\":[\"H\",\"G\",\"F\",\"E\",\"D\",\"C\",\"B\",\"A\"],\"z\":[[0.0018890497740358114,0.34553128480911255,0.4030821621417999,0.46756672859191895,0.5072410702705383,0.4541410505771637,0.21801616251468658,-0.09795605391263962],[0.3418172001838684,0.025688592344522476,0.13212355971336365,0.44600123167037964,0.423272043466568,0.3681860864162445,0.42729002237319946,0.15730860829353333],[0.3336426019668579,0.011141491122543812,0.1157527044415474,0.38716432452201843,0.4017697870731354,0.33681055903434753,0.31163230538368225,0.339683473110199],[0.36945948004722595,0.01417373027652502,0.11921199411153793,0.5746179819107056,0.606542706489563,0.3560486137866974,0.44032636284828186,0.4457565248012543],[0.30247974395751953,0.022583920508623123,0.27567312121391296,0.4974559545516968,0.6030547618865967,0.4021059274673462,0.5000640749931335,0.4510606527328491],[0.29538246989250183,-0.005575269926339388,0.2337692528963089,0.3251590430736542,0.33067113161087036,0.4319539964199066,0.3619459569454193,0.40139973163604736],[0.3657413721084595,-0.007604311220347881,0.09955690056085587,0.25943857431411743,0.07564232498407364,0.11305530369281769,0.025576449930667877,0.388616681098938],[-0.03672409802675247,0.18299344182014465,0.29092326760292053,0.2734818160533905,0.32663145661354065,0.25156521797180176,0.3826070725917816,-0.05256503075361252]],\"zmax\":0.6861146688461304,\"zmin\":-0.6861146688461304,\"type\":\"heatmap\",\"xaxis\":\"x19\",\"yaxis\":\"y19\"},{\"colorscale\":[[0.0,\"rgb(103,0,31)\"],[0.1,\"rgb(178,24,43)\"],[0.2,\"rgb(214,96,77)\"],[0.3,\"rgb(244,165,130)\"],[0.4,\"rgb(253,219,199)\"],[0.5,\"rgb(247,247,247)\"],[0.6,\"rgb(209,229,240)\"],[0.7,\"rgb(146,197,222)\"],[0.8,\"rgb(67,147,195)\"],[0.9,\"rgb(33,102,172)\"],[1.0,\"rgb(5,48,97)\"]],\"hoverongaps\":false,\"x\":[0,1,2,3,4,5,6,7],\"y\":[\"H\",\"G\",\"F\",\"E\",\"D\",\"C\",\"B\",\"A\"],\"z\":[[-0.05026118457317352,-0.4617812931537628,-0.470538854598999,-0.5474392771720886,-0.47908666729927063,-0.338735967874527,-0.4409544765949249,0.011965916492044926],[-0.055805008858442307,-0.5393502712249756,-0.5392211079597473,-0.4946935176849365,-0.5181261301040649,-0.37595438957214355,-0.0446423701941967,-0.05851832777261734],[-0.053425949066877365,-0.5440097451210022,-0.5798772573471069,-0.42108362913131714,-0.437134712934494,-0.19873327016830444,-0.04995325952768326,-0.018442925065755844],[0.01799134723842144,-0.4209499657154083,-0.4786646068096161,-0.5857318639755249,-0.25677698850631714,-0.0543057918548584,0.03931938111782074,-0.05425642803311348],[-0.05001123622059822,-0.10093289613723755,-0.3368605971336365,-0.23364153504371643,-0.1362089365720749,-0.042267780750989914,-0.023422405123710632,-0.014283052645623684],[0.0005894057685509324,-0.09472281485795975,-0.040140584111213684,-0.057861849665641785,0.013541384600102901,0.0010788645595312119,-0.008556012995541096,0.004962205421179533],[-0.006674296222627163,-0.024541372433304787,0.007240794133394957,0.03085954859852791,-0.0009143447387032211,0.04725261405110359,0.021507836878299713,0.019897913560271263],[-0.017411552369594574,-0.009851347655057907,-0.004256867803633213,-0.03754957765340805,-0.0264520812779665,-0.00582284526899457,-0.022937672212719917,-0.005405569914728403]],\"zmax\":0.6861146688461304,\"zmin\":-0.6861146688461304,\"type\":\"heatmap\",\"xaxis\":\"x27\",\"yaxis\":\"y27\"},{\"colorscale\":[[0.0,\"rgb(103,0,31)\"],[0.1,\"rgb(178,24,43)\"],[0.2,\"rgb(214,96,77)\"],[0.3,\"rgb(244,165,130)\"],[0.4,\"rgb(253,219,199)\"],[0.5,\"rgb(247,247,247)\"],[0.6,\"rgb(209,229,240)\"],[0.7,\"rgb(146,197,222)\"],[0.8,\"rgb(67,147,195)\"],[0.9,\"rgb(33,102,172)\"],[1.0,\"rgb(5,48,97)\"]],\"hoverongaps\":false,\"x\":[0,1,2,3,4,5,6,7],\"y\":[\"H\",\"G\",\"F\",\"E\",\"D\",\"C\",\"B\",\"A\"],\"z\":[[0.032269857823848724,0.045374684035778046,-0.02296782284975052,-0.013430623337626457,-0.025032412260770798,0.020747730508446693,-0.05873517692089081,0.014887895435094833],[-0.007930158637464046,-0.007323935627937317,-0.018097516149282455,-0.009836592711508274,0.04152235761284828,-0.007992444559931755,-0.052032001316547394,-0.04914506897330284],[-0.0013725851895287633,-0.0010044248774647713,-0.11147311329841614,0.007785005494952202,-0.06762202084064484,-0.06410373002290726,-0.3499743342399597,-0.09589574486017227],[-0.0031935181468725204,-0.009280707687139511,0.01592099852859974,-0.5463342070579529,-0.533674418926239,-0.542670488357544,-0.5730844736099243,-0.10026367753744125],[-0.017281880602240562,0.01970892772078514,-0.2737581729888916,-0.4189181625843048,-0.5840654373168945,-0.5688472390174866,-0.5494371652603149,-0.15196935832500458],[0.005981951020658016,-0.014334646053612232,-0.042503952980041504,-0.5290321707725525,-0.4980412721633911,-0.5524265766143799,-0.543894350528717,-0.24891328811645508],[0.01869567111134529,0.006633836310356855,-0.24352052807807922,-0.4941635727882385,-0.5485839247703552,-0.4649050831794739,-0.4919362962245941,-0.0625935047864914],[-0.0029188417829573154,-0.08053091913461685,-0.06330249458551407,-0.029241176322102547,-0.07225379347801208,-0.07701213657855988,-0.1369558423757553,0.05055883899331093]],\"zmax\":0.6861146688461304,\"zmin\":-0.6861146688461304,\"type\":\"heatmap\",\"xaxis\":\"x35\",\"yaxis\":\"y35\"},{\"colorscale\":[[0.0,\"rgb(103,0,31)\"],[0.1,\"rgb(178,24,43)\"],[0.2,\"rgb(214,96,77)\"],[0.3,\"rgb(244,165,130)\"],[0.4,\"rgb(253,219,199)\"],[0.5,\"rgb(247,247,247)\"],[0.6,\"rgb(209,229,240)\"],[0.7,\"rgb(146,197,222)\"],[0.8,\"rgb(67,147,195)\"],[0.9,\"rgb(33,102,172)\"],[1.0,\"rgb(5,48,97)\"]],\"hoverongaps\":false,\"x\":[0,1,2,3,4,5,6,7],\"y\":[\"H\",\"G\",\"F\",\"E\",\"D\",\"C\",\"B\",\"A\"],\"z\":[[-0.04305177554488182,0.10765768587589264,0.073419488966465,-0.0009378614486195147,0.02018178068101406,0.019551431760191917,0.004373711068183184,-0.006097111850976944],[0.03087477758526802,0.39242395758628845,0.4717194139957428,0.4320961833000183,0.46564000844955444,0.3598751723766327,0.09187375754117966,-0.050323087722063065],[0.020279858261346817,0.41043373942375183,0.46421653032302856,0.45498427748680115,0.4591180682182312,0.36193108558654785,0.067252978682518,-0.028994202613830566],[-0.027493257075548172,0.4178406894207001,0.4199743866920471,0.540009617805481,0.566114068031311,0.16208714246749878,-0.0159612949937582,-0.03422935679554939],[0.015089943073689938,0.4852655231952667,0.4355430603027344,0.5461080074310303,0.5513591170310974,0.05790027976036072,-0.039899952709674835,-0.012625101953744888],[-0.02050483226776123,0.42097368836402893,0.5221767425537109,0.5053379535675049,0.40512946248054504,-0.016365792602300644,-0.010213074274361134,-0.025163641199469566],[-0.0007142741815187037,0.4705168604850769,0.4207078814506531,0.4936887323856354,0.33350566029548645,0.04742049425840378,-0.009796956554055214,0.00839773379266262],[-0.025684645399451256,-0.025014445185661316,0.008020793087780476,0.011730708181858063,0.02522810362279415,-0.01743871159851551,0.016409745439887047,0.010935820639133453]],\"zmax\":0.6861146688461304,\"zmin\":-0.6861146688461304,\"type\":\"heatmap\",\"xaxis\":\"x43\",\"yaxis\":\"y43\"},{\"colorscale\":[[0.0,\"rgb(103,0,31)\"],[0.1,\"rgb(178,24,43)\"],[0.2,\"rgb(214,96,77)\"],[0.3,\"rgb(244,165,130)\"],[0.4,\"rgb(253,219,199)\"],[0.5,\"rgb(247,247,247)\"],[0.6,\"rgb(209,229,240)\"],[0.7,\"rgb(146,197,222)\"],[0.8,\"rgb(67,147,195)\"],[0.9,\"rgb(33,102,172)\"],[1.0,\"rgb(5,48,97)\"]],\"hoverongaps\":false,\"x\":[0,1,2,3,4,5,6,7],\"y\":[\"H\",\"G\",\"F\",\"E\",\"D\",\"C\",\"B\",\"A\"],\"z\":[[-0.017983099445700645,-0.04093755781650543,-0.016368741169571877,0.01642325147986412,-0.029388427734375,-0.004460182040929794,-0.025916481390595436,0.00892837718129158],[-0.020213834941387177,-0.20423190295696259,-0.41228121519088745,-0.3957076966762543,-0.30388131737709045,-0.14573153853416443,-0.03730491176247597,-0.017205597832798958],[-0.028368430212140083,-0.3613436222076416,-0.48109617829322815,-0.3712722659111023,-0.366015762090683,-0.24063552916049957,-0.022724751383066177,0.002815896412357688],[-0.02096785418689251,-0.4424198567867279,-0.37007325887680054,-0.5549166202545166,-0.5025707483291626,-0.3072807490825653,0.0052855359390378,0.017824184149503708],[0.028559334576129913,-0.37590643763542175,-0.39644473791122437,-0.5204246640205383,-0.49936333298683167,-0.26856109499931335,-0.00026704766787588596,-0.012696495279669762],[-0.04613494873046875,-0.38147541880607605,-0.3992271423339844,-0.4258113205432892,-0.25987422466278076,-0.1096041277050972,0.004171670414507389,-0.023609032854437828],[-0.041063737124204636,-0.11789942532777786,-0.2796328663825989,-0.3019789159297943,-0.1500939428806305,-0.03430403023958206,-0.03768192231655121,-0.015352885238826275],[-0.0035520289093255997,-0.037216607481241226,-0.005885616410523653,0.029413528740406036,0.009232781827449799,-0.004433836787939072,-0.005631969776004553,-0.00887511670589447]],\"zmax\":0.6861146688461304,\"zmin\":-0.6861146688461304,\"type\":\"heatmap\",\"xaxis\":\"x51\",\"yaxis\":\"y51\"},{\"colorscale\":[[0.0,\"rgb(103,0,31)\"],[0.1,\"rgb(178,24,43)\"],[0.2,\"rgb(214,96,77)\"],[0.3,\"rgb(244,165,130)\"],[0.4,\"rgb(253,219,199)\"],[0.5,\"rgb(247,247,247)\"],[0.6,\"rgb(209,229,240)\"],[0.7,\"rgb(146,197,222)\"],[0.8,\"rgb(67,147,195)\"],[0.9,\"rgb(33,102,172)\"],[1.0,\"rgb(5,48,97)\"]],\"hoverongaps\":false,\"x\":[0,1,2,3,4,5,6,7],\"y\":[\"H\",\"G\",\"F\",\"E\",\"D\",\"C\",\"B\",\"A\"],\"z\":[[-0.04694606736302376,-0.032921236008405685,-0.05264829471707344,-0.06612800061702728,-0.10774742811918259,-0.04478517547249794,-0.08905702829360962,-0.11883198469877243],[-0.03973189368844032,-0.05713643506169319,0.02166636660695076,0.008747700601816177,-0.03481804206967354,0.01611989550292492,0.0015965171623975039,-0.08115970343351364],[-0.021172551438212395,-0.03675103560090065,-0.00757230119779706,0.025140397250652313,-0.17683258652687073,-0.13253067433834076,0.03806452825665474,-0.04599780961871147],[0.0016821689205244184,-0.0015465155011042953,-0.04121023789048195,0.01206990610808134,-0.3055917024612427,-0.15592257678508759,-0.07494837045669556,-0.031722743064165115],[-0.021312832832336426,-0.03797639533877373,-0.1234528124332428,-0.15340325236320496,-0.006660149898380041,-0.17423592507839203,-0.06670857965946198,-0.08750948309898376],[-0.030130278319120407,-0.035623542964458466,-0.11773577332496643,-0.10829813033342361,0.02694849483668804,0.046785250306129456,-0.07203582674264908,-0.09381449967622757],[-0.053653594106435776,-0.08580120652914047,-0.04718855395913124,-0.044562410563230515,-0.03424105420708656,-0.026121584698557854,-0.10119998455047607,-0.07799924910068512],[-0.078282929956913,-0.044708799570798874,-0.03870007395744324,-0.06842435151338577,-0.03817491605877876,-0.05788480117917061,-0.07220526784658432,-0.09957623481750488]],\"zmax\":0.6861146688461304,\"zmin\":-0.6861146688461304,\"type\":\"heatmap\",\"xaxis\":\"x59\",\"yaxis\":\"y59\"},{\"colorscale\":[[0.0,\"rgb(103,0,31)\"],[0.1,\"rgb(178,24,43)\"],[0.2,\"rgb(214,96,77)\"],[0.3,\"rgb(244,165,130)\"],[0.4,\"rgb(253,219,199)\"],[0.5,\"rgb(247,247,247)\"],[0.6,\"rgb(209,229,240)\"],[0.7,\"rgb(146,197,222)\"],[0.8,\"rgb(67,147,195)\"],[0.9,\"rgb(33,102,172)\"],[1.0,\"rgb(5,48,97)\"]],\"hoverongaps\":false,\"x\":[0,1,2,3,4,5,6,7],\"y\":[\"H\",\"G\",\"F\",\"E\",\"D\",\"C\",\"B\",\"A\"],\"z\":[[0.0,0.0,0.0,0.0,0.0,0.0,0.0,0.0],[0.0,0.0,0.0,0.0,0.0,0.0,0.0,0.0],[0.0,0.0,0.0,0.0,0.0,0.0,0.0,0.0],[0.0,0.0,0.0,0.0,0.0,0.0,0.0,0.0],[0.0,0.0,0.0,0.0,0.0,0.0,0.0,0.0],[0.0,0.0,0.0,0.0,0.0,0.0,0.0,0.0],[0.0,0.0,0.0,0.0,0.0,0.0,0.0,0.0],[0.0,0.0,0.0,0.0,0.0,0.0,0.0,0.0]],\"zmax\":0.6861146688461304,\"zmin\":-0.6861146688461304,\"type\":\"heatmap\",\"xaxis\":\"x4\",\"yaxis\":\"y4\"},{\"colorscale\":[[0.0,\"rgb(103,0,31)\"],[0.1,\"rgb(178,24,43)\"],[0.2,\"rgb(214,96,77)\"],[0.3,\"rgb(244,165,130)\"],[0.4,\"rgb(253,219,199)\"],[0.5,\"rgb(247,247,247)\"],[0.6,\"rgb(209,229,240)\"],[0.7,\"rgb(146,197,222)\"],[0.8,\"rgb(67,147,195)\"],[0.9,\"rgb(33,102,172)\"],[1.0,\"rgb(5,48,97)\"]],\"hoverongaps\":false,\"x\":[0,1,2,3,4,5,6,7],\"y\":[\"H\",\"G\",\"F\",\"E\",\"D\",\"C\",\"B\",\"A\"],\"z\":[[0.011907152831554413,-0.3486359715461731,-0.38983550667762756,-0.3794562518596649,-0.501876950263977,-0.3531063497066498,-0.44980868697166443,-0.05878421664237976],[-0.06671173870563507,-0.20378930866718292,-0.27100297808647156,-0.33898311853408813,-0.358856201171875,-0.3879951238632202,-0.3975785970687866,-0.4188211262226105],[-0.09917081892490387,-0.277737021446228,-0.42689406871795654,-0.39380118250846863,-0.42656171321868896,-0.42656344175338745,-0.3697143495082855,-0.3756061792373657],[-0.023797035217285156,-0.29392850399017334,-0.35477590560913086,-0.5486709475517273,-0.529970109462738,-0.4372049570083618,-0.30062901973724365,-0.3480296730995178],[-0.011557276360690594,-0.33708620071411133,-0.4204941689968109,-0.5291169881820679,-0.5645837783813477,-0.35225194692611694,-0.30205705761909485,-0.3618716895580292],[-0.17114213109016418,-0.3505413830280304,-0.4427911043167114,-0.4334416091442108,-0.3325776159763336,-0.3847568929195404,-0.309482216835022,-0.39676228165626526],[-0.26371344923973083,-0.3429948389530182,-0.39895814657211304,-0.4033564329147339,-0.3735191524028778,-0.28747597336769104,-0.35867607593536377,-0.48520535230636597],[-0.010824665427207947,-0.5292123556137085,-0.547870934009552,-0.4836629629135132,-0.543835461139679,-0.5618599057197571,-0.5673174858093262,-0.006537213455885649]],\"zmax\":0.6861146688461304,\"zmin\":-0.6861146688461304,\"type\":\"heatmap\",\"xaxis\":\"x12\",\"yaxis\":\"y12\"},{\"colorscale\":[[0.0,\"rgb(103,0,31)\"],[0.1,\"rgb(178,24,43)\"],[0.2,\"rgb(214,96,77)\"],[0.3,\"rgb(244,165,130)\"],[0.4,\"rgb(253,219,199)\"],[0.5,\"rgb(247,247,247)\"],[0.6,\"rgb(209,229,240)\"],[0.7,\"rgb(146,197,222)\"],[0.8,\"rgb(67,147,195)\"],[0.9,\"rgb(33,102,172)\"],[1.0,\"rgb(5,48,97)\"]],\"hoverongaps\":false,\"x\":[0,1,2,3,4,5,6,7],\"y\":[\"H\",\"G\",\"F\",\"E\",\"D\",\"C\",\"B\",\"A\"],\"z\":[[0.01617051102221012,-0.0038682185113430023,0.00035114833735860884,0.0206820759922266,0.016748161986470222,-0.003645094810053706,0.008240241557359695,-0.005503578577190638],[0.037682004272937775,0.020170021802186966,-0.06198243051767349,-0.2867935001850128,-0.35374361276626587,-0.3055548667907715,-0.2925732731819153,-0.15599912405014038],[0.012909578159451485,0.02801482565701008,-0.04139140248298645,-0.33706703782081604,-0.35706377029418945,-0.36157187819480896,-0.3257632553577423,-0.3568150997161865],[0.01573488675057888,0.023304354399442673,-0.24631904065608978,-0.5936594605445862,-0.5729655027389526,-0.4011024236679077,-0.4406292140483856,-0.40505731105804443],[-0.021881667897105217,-0.033498361706733704,-0.3770417869091034,-0.5765995383262634,-0.54459547996521,-0.3711213171482086,-0.528652548789978,-0.5069557428359985],[0.006544990465044975,-0.18106709420681,-0.45166531205177307,-0.48523545265197754,-0.3674490451812744,-0.4373948276042938,-0.4625330865383148,-0.41717126965522766],[0.014388659037649632,-0.09494829922914505,-0.42838311195373535,-0.42248275876045227,-0.3965902626514435,-0.4183958172798157,-0.43347933888435364,-0.44806230068206787],[0.0025886204093694687,-0.035439006984233856,-0.00963448453694582,-0.07250875979661942,-0.05381012707948685,-0.11987198144197464,-0.23278170824050903,-0.04569604620337486]],\"zmax\":0.6861146688461304,\"zmin\":-0.6861146688461304,\"type\":\"heatmap\",\"xaxis\":\"x20\",\"yaxis\":\"y20\"},{\"colorscale\":[[0.0,\"rgb(103,0,31)\"],[0.1,\"rgb(178,24,43)\"],[0.2,\"rgb(214,96,77)\"],[0.3,\"rgb(244,165,130)\"],[0.4,\"rgb(253,219,199)\"],[0.5,\"rgb(247,247,247)\"],[0.6,\"rgb(209,229,240)\"],[0.7,\"rgb(146,197,222)\"],[0.8,\"rgb(67,147,195)\"],[0.9,\"rgb(33,102,172)\"],[1.0,\"rgb(5,48,97)\"]],\"hoverongaps\":false,\"x\":[0,1,2,3,4,5,6,7],\"y\":[\"H\",\"G\",\"F\",\"E\",\"D\",\"C\",\"B\",\"A\"],\"z\":[[-0.015734374523162842,-0.03389784321188927,-0.09686970710754395,-0.1650424748659134,-0.12822066247463226,-0.09855864197015762,-0.31137117743492126,-0.02334156446158886],[0.014382368884980679,-0.08455339074134827,-0.20963358879089355,-0.42424583435058594,-0.5178298354148865,-0.4405170977115631,-0.5061554908752441,-0.10623176395893097],[-0.03427654132246971,-0.09314250946044922,-0.10251232236623764,-0.14324966073036194,-0.28185978531837463,-0.4529629349708557,-0.5207563638687134,-0.12158512324094772],[0.00048394507030025125,-0.12215441465377808,-0.32931840419769287,0.053751859813928604,0.08854644745588303,-0.06863482296466827,-0.3719763159751892,-0.18902051448822021],[-0.033597107976675034,-0.3567561209201813,-0.375078946352005,-0.24956175684928894,0.0170820951461792,-0.30416712164878845,-0.4538428485393524,-0.22239843010902405],[-0.03111923672258854,-0.14351345598697662,-0.5097633600234985,-0.4927695691585541,-0.46390455961227417,-0.5261774063110352,-0.5217430591583252,-0.31779277324676514],[-0.011424384079873562,-0.20448698103427887,-0.4287749230861664,-0.5417963266372681,-0.5788239240646362,-0.5011053085327148,-0.4570126533508301,-0.3619178831577301],[0.006030242890119553,-0.23277753591537476,-0.4909983277320862,-0.3804713189601898,-0.46470826864242554,-0.4843788743019104,-0.6116310358047485,-0.06266055256128311]],\"zmax\":0.6861146688461304,\"zmin\":-0.6861146688461304,\"type\":\"heatmap\",\"xaxis\":\"x28\",\"yaxis\":\"y28\"},{\"colorscale\":[[0.0,\"rgb(103,0,31)\"],[0.1,\"rgb(178,24,43)\"],[0.2,\"rgb(214,96,77)\"],[0.3,\"rgb(244,165,130)\"],[0.4,\"rgb(253,219,199)\"],[0.5,\"rgb(247,247,247)\"],[0.6,\"rgb(209,229,240)\"],[0.7,\"rgb(146,197,222)\"],[0.8,\"rgb(67,147,195)\"],[0.9,\"rgb(33,102,172)\"],[1.0,\"rgb(5,48,97)\"]],\"hoverongaps\":false,\"x\":[0,1,2,3,4,5,6,7],\"y\":[\"H\",\"G\",\"F\",\"E\",\"D\",\"C\",\"B\",\"A\"],\"z\":[[0.014642481692135334,-0.006111614406108856,0.015491701662540436,-0.05283399298787117,-0.053586445748806,0.0007721083820797503,-0.027721652761101723,0.03588790073990822],[-0.0015703904209658504,-0.0026768329553306103,-0.029353130608797073,0.005975572858005762,0.016200745478272438,0.025191934779286385,0.013493443839251995,0.027022330090403557],[-0.019121207296848297,-0.31230372190475464,-0.04068022221326828,-0.03322339057922363,0.004422727972269058,0.003889829386025667,-0.009121312759816647,-0.015904774889349937],[-0.03189224377274513,-0.48602330684661865,-0.4536745548248291,-0.4722750782966614,-0.4050036370754242,-0.004499335773289204,0.014360185712575912,0.012343509122729301],[-0.10397478193044662,-0.5735477805137634,-0.5399526357650757,-0.5675889849662781,-0.5786740183830261,-0.20575453341007233,-0.0016845832578837872,0.03585479408502579],[-0.07669658213853836,-0.5976599454879761,-0.5030010938644409,-0.5457345843315125,-0.4926057457923889,-0.41084280610084534,-0.05026116967201233,0.04401634261012077],[-0.08545656502246857,-0.49431610107421875,-0.549877405166626,-0.5502217411994934,-0.510171115398407,-0.47934722900390625,-0.28734588623046875,0.033436425030231476],[-0.0006849018973298371,-0.15783575177192688,-0.25862905383110046,-0.27786383032798767,-0.1629694104194641,-0.12570685148239136,-0.07030420005321503,-0.0034482558257877827]],\"zmax\":0.6861146688461304,\"zmin\":-0.6861146688461304,\"type\":\"heatmap\",\"xaxis\":\"x36\",\"yaxis\":\"y36\"},{\"colorscale\":[[0.0,\"rgb(103,0,31)\"],[0.1,\"rgb(178,24,43)\"],[0.2,\"rgb(214,96,77)\"],[0.3,\"rgb(244,165,130)\"],[0.4,\"rgb(253,219,199)\"],[0.5,\"rgb(247,247,247)\"],[0.6,\"rgb(209,229,240)\"],[0.7,\"rgb(146,197,222)\"],[0.8,\"rgb(67,147,195)\"],[0.9,\"rgb(33,102,172)\"],[1.0,\"rgb(5,48,97)\"]],\"hoverongaps\":false,\"x\":[0,1,2,3,4,5,6,7],\"y\":[\"H\",\"G\",\"F\",\"E\",\"D\",\"C\",\"B\",\"A\"],\"z\":[[-0.00039023286080919206,-0.016405893489718437,-0.03948250040411949,0.001774243195541203,-0.07502393424510956,0.005179909057915211,-0.05202500522136688,-0.038347117602825165],[-0.022161005064845085,-0.3777523338794708,-0.4389689862728119,-0.37953701615333557,-0.40015628933906555,-0.38391736149787903,-0.264842689037323,-0.049789924174547195],[-0.025274071842432022,-0.4071884751319885,-0.40033280849456787,-0.42988768219947815,-0.40203139185905457,-0.4204641580581665,-0.40206512808799744,0.004965061321854591],[-0.0556882843375206,-0.31952208280563354,-0.3222944140434265,-0.46626055240631104,-0.5190873146057129,-0.4587486684322357,-0.3444158732891083,-0.0057164025492966175],[0.04609129577875137,-0.22041918337345123,-0.17280299961566925,-0.2780439555644989,-0.3717326819896698,-0.3649641275405884,-0.346450537443161,-0.04806795343756676],[0.012809503823518753,0.005409877747297287,-0.009430713951587677,-0.002776344073936343,-0.08596871793270111,-0.23648452758789062,-0.22397084534168243,-0.006788283120840788],[-0.011002833023667336,-0.020524943247437477,0.030417535454034805,0.02121959626674652,0.014868450351059437,-0.01412161160260439,-0.030292067676782608,-0.007280527148395777],[-0.006671982351690531,0.0012035639956593513,0.012587573379278183,0.009658285416662693,-0.03555808588862419,-0.011198184452950954,-0.020967641845345497,0.0017325651133432984]],\"zmax\":0.6861146688461304,\"zmin\":-0.6861146688461304,\"type\":\"heatmap\",\"xaxis\":\"x44\",\"yaxis\":\"y44\"},{\"colorscale\":[[0.0,\"rgb(103,0,31)\"],[0.1,\"rgb(178,24,43)\"],[0.2,\"rgb(214,96,77)\"],[0.3,\"rgb(244,165,130)\"],[0.4,\"rgb(253,219,199)\"],[0.5,\"rgb(247,247,247)\"],[0.6,\"rgb(209,229,240)\"],[0.7,\"rgb(146,197,222)\"],[0.8,\"rgb(67,147,195)\"],[0.9,\"rgb(33,102,172)\"],[1.0,\"rgb(5,48,97)\"]],\"hoverongaps\":false,\"x\":[0,1,2,3,4,5,6,7],\"y\":[\"H\",\"G\",\"F\",\"E\",\"D\",\"C\",\"B\",\"A\"],\"z\":[[-0.0013515137834474444,-0.018974358215928078,0.010558347217738628,-0.029694538563489914,-0.0047866180539131165,0.0062304227612912655,-0.016451315954327583,-0.03070721961557865],[0.0031855532433837652,0.05143977329134941,0.04931746423244476,0.049009039998054504,0.05333752557635307,0.09121328592300415,0.09112793207168579,-0.011175617575645447],[0.014597168192267418,0.07330109924077988,0.027327315881848335,0.025576764717698097,0.07653911411762238,0.04829198494553566,0.030794845893979073,-0.005497470032423735],[0.017452800646424294,0.03292463347315788,0.04449555650353432,0.18341585993766785,0.2088356465101242,0.010414906777441502,-0.014682500623166561,0.038576092571020126],[0.02552252635359764,0.05570407956838608,0.13087449967861176,0.3909863233566284,0.3388423025608063,0.26246872544288635,0.04496026039123535,0.01966686360538006],[0.02397865429520607,0.2883972227573395,0.3497437834739685,0.5264135599136353,0.3410055637359619,0.3592376410961151,0.20415416359901428,0.00854137446731329],[0.018761662766337395,0.20806542038917542,0.33552658557891846,0.37317153811454773,0.3600862920284271,0.31094783544540405,0.24759958684444427,0.007957804016768932],[-0.028064925223588943,0.020026789978146553,0.10938774049282074,0.046430934220552444,0.16602596640586853,0.048855848610401154,0.021669253706932068,-0.0034407840576022863]],\"zmax\":0.6861146688461304,\"zmin\":-0.6861146688461304,\"type\":\"heatmap\",\"xaxis\":\"x52\",\"yaxis\":\"y52\"},{\"colorscale\":[[0.0,\"rgb(103,0,31)\"],[0.1,\"rgb(178,24,43)\"],[0.2,\"rgb(214,96,77)\"],[0.3,\"rgb(244,165,130)\"],[0.4,\"rgb(253,219,199)\"],[0.5,\"rgb(247,247,247)\"],[0.6,\"rgb(209,229,240)\"],[0.7,\"rgb(146,197,222)\"],[0.8,\"rgb(67,147,195)\"],[0.9,\"rgb(33,102,172)\"],[1.0,\"rgb(5,48,97)\"]],\"hoverongaps\":false,\"x\":[0,1,2,3,4,5,6,7],\"y\":[\"H\",\"G\",\"F\",\"E\",\"D\",\"C\",\"B\",\"A\"],\"z\":[[-0.03374414145946503,-0.06505417823791504,-0.10724169760942459,-0.08269906789064407,-0.051216889172792435,-0.06054725870490074,-0.0569036640226841,-0.07106448709964752],[-0.06974233686923981,-0.06680327653884888,-0.006451144814491272,-0.042920783162117004,0.0067277331836521626,-0.005380275193601847,0.021774789318442345,-0.07273608446121216],[-0.02505960874259472,-0.11090146005153656,-0.08355651795864105,-0.030243391171097755,0.01783766783773899,0.055360015481710434,0.034453969448804855,-0.0515829473733902],[-0.0668138712644577,-0.0032292024698108435,-0.08019781857728958,0.03052292764186859,-0.06674136966466904,0.011492695659399033,0.0019870842806994915,-0.05671871453523636],[-0.07739035785198212,-0.012897972948849201,0.010819122195243835,0.044611502438783646,-0.14419735968112946,-0.14917029440402985,-0.031074317172169685,-0.08462051302194595],[-0.0059595853090286255,0.02172081358730793,0.0010081642540171742,0.00635496387258172,-0.06759150326251984,-0.0825803130865097,0.01490511279553175,-0.1510840356349945],[-0.04556947574019432,0.010168110951781273,0.07088550925254822,0.04814161732792854,-0.007280897814780474,0.020448315888643265,0.0864194706082344,-0.14567676186561584],[-0.10292018204927444,-0.07736653834581375,-0.07653910666704178,-0.08727839589118958,-0.10861597955226898,-0.1514490693807602,-0.11338643729686737,-0.10260451585054398]],\"zmax\":0.6861146688461304,\"zmin\":-0.6861146688461304,\"type\":\"heatmap\",\"xaxis\":\"x60\",\"yaxis\":\"y60\"},{\"colorscale\":[[0.0,\"rgb(103,0,31)\"],[0.1,\"rgb(178,24,43)\"],[0.2,\"rgb(214,96,77)\"],[0.3,\"rgb(244,165,130)\"],[0.4,\"rgb(253,219,199)\"],[0.5,\"rgb(247,247,247)\"],[0.6,\"rgb(209,229,240)\"],[0.7,\"rgb(146,197,222)\"],[0.8,\"rgb(67,147,195)\"],[0.9,\"rgb(33,102,172)\"],[1.0,\"rgb(5,48,97)\"]],\"hoverongaps\":false,\"x\":[0,1,2,3,4,5,6,7],\"y\":[\"H\",\"G\",\"F\",\"E\",\"D\",\"C\",\"B\",\"A\"],\"z\":[[0.0,0.0,0.0,0.0,0.0,0.0,0.0,0.0],[0.0,0.0,0.0,0.0,0.0,0.0,0.0,0.0],[0.0,0.0,0.0,0.0,0.0,0.0,0.0,0.0],[0.0,0.0,0.0,0.0,0.0,0.0,0.0,0.0],[0.0,0.0,0.0,0.0,0.0,0.0,0.0,0.0],[0.0,0.0,0.0,0.0,0.0,0.0,0.0,0.0],[0.0,0.0,0.0,0.0,0.0,0.0,0.0,0.0],[0.0,0.0,0.0,0.0,0.0,0.0,0.0,0.0]],\"zmax\":0.6861146688461304,\"zmin\":-0.6861146688461304,\"type\":\"heatmap\",\"xaxis\":\"x5\",\"yaxis\":\"y5\"},{\"colorscale\":[[0.0,\"rgb(103,0,31)\"],[0.1,\"rgb(178,24,43)\"],[0.2,\"rgb(214,96,77)\"],[0.3,\"rgb(244,165,130)\"],[0.4,\"rgb(253,219,199)\"],[0.5,\"rgb(247,247,247)\"],[0.6,\"rgb(209,229,240)\"],[0.7,\"rgb(146,197,222)\"],[0.8,\"rgb(67,147,195)\"],[0.9,\"rgb(33,102,172)\"],[1.0,\"rgb(5,48,97)\"]],\"hoverongaps\":false,\"x\":[0,1,2,3,4,5,6,7],\"y\":[\"H\",\"G\",\"F\",\"E\",\"D\",\"C\",\"B\",\"A\"],\"z\":[[0.10171937197446823,0.42122796177864075,0.2825435400009155,0.13229379057884216,0.14326849579811096,0.14937347173690796,0.1315392106771469,-0.02778703346848488],[-0.10490506142377853,0.10303507000207901,0.08861566334962845,0.12050633877515793,0.24426093697547913,0.49062415957450867,0.37802496552467346,0.519698441028595],[-0.06842900067567825,0.09050945192575455,0.04562860354781151,0.09094204753637314,0.2927732467651367,0.5032786726951599,0.4135704040527344,0.48604586720466614],[-0.13004054129123688,0.1768236756324768,0.05764409154653549,0.10339312255382538,0.5031082630157471,0.484424352645874,0.4673108756542206,0.5039347410202026],[-0.15783138573169708,0.48225778341293335,0.17196278274059296,0.09749165922403336,0.4074685871601105,0.43294116854667664,0.5654953122138977,0.5019946098327637],[-0.1341036707162857,0.536068320274353,0.420413076877594,0.24085894227027893,0.3522128462791443,0.55196613073349,0.5117860436439514,0.5304325222969055],[-0.05293811485171318,0.46520525217056274,0.5630718469619751,0.5416198968887329,0.4689107835292816,0.47640568017959595,0.48221734166145325,0.5076760649681091],[-0.03870299831032753,0.0055569857358932495,0.0674520879983902,0.050063274800777435,0.054236505180597305,0.009846935980021954,0.3399133086204529,-0.06196846812963486]],\"zmax\":0.6861146688461304,\"zmin\":-0.6861146688461304,\"type\":\"heatmap\",\"xaxis\":\"x13\",\"yaxis\":\"y13\"},{\"colorscale\":[[0.0,\"rgb(103,0,31)\"],[0.1,\"rgb(178,24,43)\"],[0.2,\"rgb(214,96,77)\"],[0.3,\"rgb(244,165,130)\"],[0.4,\"rgb(253,219,199)\"],[0.5,\"rgb(247,247,247)\"],[0.6,\"rgb(209,229,240)\"],[0.7,\"rgb(146,197,222)\"],[0.8,\"rgb(67,147,195)\"],[0.9,\"rgb(33,102,172)\"],[1.0,\"rgb(5,48,97)\"]],\"hoverongaps\":false,\"x\":[0,1,2,3,4,5,6,7],\"y\":[\"H\",\"G\",\"F\",\"E\",\"D\",\"C\",\"B\",\"A\"],\"z\":[[-0.021037496626377106,0.05074092000722885,-0.015789903700351715,0.002624073764309287,0.014967809431254864,-0.004927642643451691,0.02988891303539276,-0.0011211046949028969],[-0.5098830461502075,-0.42916396260261536,-0.43221303820610046,-0.048852238804101944,0.012857838533818722,0.030956128612160683,0.020472699776291847,0.029668759554624557],[-0.4541893005371094,-0.4492255449295044,-0.46590641140937805,-0.21976611018180847,0.02989237941801548,0.0053895460441708565,0.023984935134649277,0.016063017770648003],[-0.48888877034187317,-0.5234918594360352,-0.4165884852409363,-0.5459365248680115,-0.07627926766872406,0.05531352758407593,0.020576978102326393,0.0060837147757411],[-0.5580646991729736,-0.5486114025115967,-0.4169175624847412,-0.5648286938667297,-0.5111280679702759,-0.1254054605960846,0.02728806436061859,0.00379985012114048],[-0.5670501589775085,-0.5171026587486267,-0.46537724137306213,-0.35965004563331604,-0.37359723448753357,-0.40310126543045044,-0.015181819908320904,0.01604512892663479],[-0.4484822452068329,-0.46925118565559387,-0.5300960540771484,-0.5112541317939758,-0.5410500168800354,-0.4335808753967285,-0.28987282514572144,-0.00859583169221878],[-0.06568777561187744,-0.5066772103309631,-0.4959617853164673,-0.537437915802002,-0.5656638145446777,-0.43229687213897705,-0.4440498650074005,-0.04864680394530296]],\"zmax\":0.6861146688461304,\"zmin\":-0.6861146688461304,\"type\":\"heatmap\",\"xaxis\":\"x21\",\"yaxis\":\"y21\"},{\"colorscale\":[[0.0,\"rgb(103,0,31)\"],[0.1,\"rgb(178,24,43)\"],[0.2,\"rgb(214,96,77)\"],[0.3,\"rgb(244,165,130)\"],[0.4,\"rgb(253,219,199)\"],[0.5,\"rgb(247,247,247)\"],[0.6,\"rgb(209,229,240)\"],[0.7,\"rgb(146,197,222)\"],[0.8,\"rgb(67,147,195)\"],[0.9,\"rgb(33,102,172)\"],[1.0,\"rgb(5,48,97)\"]],\"hoverongaps\":false,\"x\":[0,1,2,3,4,5,6,7],\"y\":[\"H\",\"G\",\"F\",\"E\",\"D\",\"C\",\"B\",\"A\"],\"z\":[[-0.016219550743699074,0.03043547458946705,-0.01018713042140007,-0.03715183585882187,0.008760870434343815,0.015497131273150444,-0.03238779306411743,0.018967974931001663],[0.04310910776257515,0.015523144975304604,0.004303443245589733,-0.009680780582129955,-0.01013945136219263,-0.0068852705880999565,0.02742849662899971,-0.014002088457345963],[0.026351481676101685,-0.01356238778680563,-0.06906893104314804,-0.24362336099147797,-0.28003624081611633,-0.052963074296712875,-0.0034367037005722523,0.016094323247671127],[0.007817561738193035,0.03410404548048973,-0.0067373039200901985,-0.5769697427749634,-0.5510428547859192,-0.3697006106376648,0.01185038685798645,-0.0039027552120387554],[0.007260855287313461,0.04793296009302139,-0.4076341688632965,-0.6102453470230103,-0.5508185029029846,-0.4483003318309784,0.011753483675420284,-0.032616134732961655],[-0.030149461701512337,-0.32829749584198,-0.5025842785835266,-0.51905357837677,-0.39911267161369324,-0.47653788328170776,-0.08530665189027786,0.0015818316023796797],[-0.017866836860775948,-0.42030438780784607,-0.4374091923236847,-0.5413641333580017,-0.5665770173072815,-0.46476179361343384,-0.11128014326095581,-0.009204615838825703],[0.000561690831091255,-0.51624596118927,-0.5369746685028076,-0.43020081520080566,-0.3066779673099518,-0.15216486155986786,-0.10765651613473892,-0.0012361123226583004]],\"zmax\":0.6861146688461304,\"zmin\":-0.6861146688461304,\"type\":\"heatmap\",\"xaxis\":\"x29\",\"yaxis\":\"y29\"},{\"colorscale\":[[0.0,\"rgb(103,0,31)\"],[0.1,\"rgb(178,24,43)\"],[0.2,\"rgb(214,96,77)\"],[0.3,\"rgb(244,165,130)\"],[0.4,\"rgb(253,219,199)\"],[0.5,\"rgb(247,247,247)\"],[0.6,\"rgb(209,229,240)\"],[0.7,\"rgb(146,197,222)\"],[0.8,\"rgb(67,147,195)\"],[0.9,\"rgb(33,102,172)\"],[1.0,\"rgb(5,48,97)\"]],\"hoverongaps\":false,\"x\":[0,1,2,3,4,5,6,7],\"y\":[\"H\",\"G\",\"F\",\"E\",\"D\",\"C\",\"B\",\"A\"],\"z\":[[-0.004171655513346195,0.022820020094513893,0.015877656638622284,0.06102306395769119,0.021748574450612068,0.0017554364167153835,0.009866004809737206,-0.03075862117111683],[0.020707566291093826,0.507004976272583,0.5881327390670776,0.5510538816452026,0.2906363606452942,0.12514355778694153,0.1190611869096756,-0.00922831054776907],[-0.004275333136320114,0.5079415440559387,0.5258708000183105,0.5467812418937683,0.5339544415473938,0.5235572457313538,0.1597425639629364,-0.010208966210484505],[0.16637788712978363,0.5279304385185242,0.4166780412197113,0.6541181206703186,0.6258656978607178,0.5374897122383118,0.34045901894569397,-0.004398503340780735],[0.22587786614894867,0.536602258682251,0.5350385904312134,0.6146522164344788,0.643997848033905,0.5463436245918274,0.501632034778595,0.006138144060969353],[0.12266536056995392,0.5745114088058472,0.4358416497707367,0.47280123829841614,0.48539090156555176,0.506311297416687,0.5859484672546387,0.011716259643435478],[0.1531534194946289,0.43588462471961975,0.49998190999031067,0.500224232673645,0.47032982110977173,0.4489907920360565,0.5197492241859436,-0.033940475434064865],[0.024879639968276024,0.09095825999975204,0.06559827923774719,0.237682044506073,0.1596301794052124,0.11349473148584366,0.06506476551294327,-0.04016711562871933]],\"zmax\":0.6861146688461304,\"zmin\":-0.6861146688461304,\"type\":\"heatmap\",\"xaxis\":\"x37\",\"yaxis\":\"y37\"},{\"colorscale\":[[0.0,\"rgb(103,0,31)\"],[0.1,\"rgb(178,24,43)\"],[0.2,\"rgb(214,96,77)\"],[0.3,\"rgb(244,165,130)\"],[0.4,\"rgb(253,219,199)\"],[0.5,\"rgb(247,247,247)\"],[0.6,\"rgb(209,229,240)\"],[0.7,\"rgb(146,197,222)\"],[0.8,\"rgb(67,147,195)\"],[0.9,\"rgb(33,102,172)\"],[1.0,\"rgb(5,48,97)\"]],\"hoverongaps\":false,\"x\":[0,1,2,3,4,5,6,7],\"y\":[\"H\",\"G\",\"F\",\"E\",\"D\",\"C\",\"B\",\"A\"],\"z\":[[0.004002148751169443,-0.019139908254146576,-0.003467732109129429,-0.0020423971582204103,-0.01895642839372158,0.03987480327486992,-0.015935182571411133,0.01722707971930504],[0.05583614483475685,-0.4135895073413849,-0.4421025216579437,-0.3389846086502075,-0.14610886573791504,-0.024560287594795227,-0.009295344352722168,0.004586218390613794],[-0.01934322714805603,-0.4208543002605438,-0.41781702637672424,-0.37844565510749817,-0.23039372265338898,-0.0221964530646801,0.010325504466891289,0.018936192616820335],[0.003209274262189865,-0.37926334142684937,-0.4002804160118103,-0.4702620208263397,-0.4328608512878418,-0.015878446400165558,0.056545715779066086,-0.0026106582954525948],[0.012801874428987503,-0.4628014862537384,-0.417873352766037,-0.4541729986667633,-0.4881433844566345,-0.06269899010658264,0.00679249782115221,-0.0012651555007323623],[-0.00035319552989676595,-0.35779687762260437,-0.4583600163459778,-0.466247022151947,-0.3325946033000946,-0.15135729312896729,-0.032477445900440216,0.01386904064565897],[-0.07113860547542572,-0.4131815731525421,-0.3285994827747345,-0.4363635182380676,-0.36996757984161377,-0.21624521911144257,0.0028412495739758015,0.004182555712759495],[0.017139581963419914,-0.018322881311178207,-0.016680797562003136,-0.020019298419356346,-0.00962834246456623,0.007969190366566181,0.029336636886000633,0.021726030856370926]],\"zmax\":0.6861146688461304,\"zmin\":-0.6861146688461304,\"type\":\"heatmap\",\"xaxis\":\"x45\",\"yaxis\":\"y45\"},{\"colorscale\":[[0.0,\"rgb(103,0,31)\"],[0.1,\"rgb(178,24,43)\"],[0.2,\"rgb(214,96,77)\"],[0.3,\"rgb(244,165,130)\"],[0.4,\"rgb(253,219,199)\"],[0.5,\"rgb(247,247,247)\"],[0.6,\"rgb(209,229,240)\"],[0.7,\"rgb(146,197,222)\"],[0.8,\"rgb(67,147,195)\"],[0.9,\"rgb(33,102,172)\"],[1.0,\"rgb(5,48,97)\"]],\"hoverongaps\":false,\"x\":[0,1,2,3,4,5,6,7],\"y\":[\"H\",\"G\",\"F\",\"E\",\"D\",\"C\",\"B\",\"A\"],\"z\":[[-0.06863038241863251,-0.0667622908949852,-0.04669967666268349,-0.05326307192444801,-0.0046347505412995815,-0.015104369260370731,-0.03902680426836014,-0.05855786055326462],[-0.10612452030181885,0.0007419735775329173,0.23573362827301025,0.2763354480266571,0.1541319340467453,0.10665497183799744,0.04446405544877052,-0.04556690901517868],[-0.014405189082026482,0.15070797502994537,0.43289992213249207,0.3772972524166107,0.35512545704841614,0.24260453879833221,0.11665233224630356,-0.05393329635262489],[0.0531366690993309,0.2911156117916107,0.39704447984695435,0.5561691522598267,0.5657952427864075,0.2976670563220978,0.04596478119492531,-0.009839138016104698],[0.0187638308852911,0.33279669284820557,0.41625115275382996,0.6189582347869873,0.5984511971473694,0.3669763505458832,0.0595875158905983,-0.05651849880814552],[0.0377800315618515,0.3114374577999115,0.4371677339076996,0.4753055274486542,0.344833642244339,0.25428345799446106,0.08063086867332458,-0.027333520352840424],[-0.05690355226397514,0.12123213708400726,0.2413668930530548,0.3024241030216217,0.2759186029434204,0.05765816196799278,0.04005930945277214,-0.02310016378760338],[-0.07227833569049835,-0.08899057656526566,-0.023706918582320213,0.018369819968938828,-0.008158722892403603,0.01497231051325798,-0.0418316125869751,-0.045512955635786057]],\"zmax\":0.6861146688461304,\"zmin\":-0.6861146688461304,\"type\":\"heatmap\",\"xaxis\":\"x53\",\"yaxis\":\"y53\"},{\"colorscale\":[[0.0,\"rgb(103,0,31)\"],[0.1,\"rgb(178,24,43)\"],[0.2,\"rgb(214,96,77)\"],[0.3,\"rgb(244,165,130)\"],[0.4,\"rgb(253,219,199)\"],[0.5,\"rgb(247,247,247)\"],[0.6,\"rgb(209,229,240)\"],[0.7,\"rgb(146,197,222)\"],[0.8,\"rgb(67,147,195)\"],[0.9,\"rgb(33,102,172)\"],[1.0,\"rgb(5,48,97)\"]],\"hoverongaps\":false,\"x\":[0,1,2,3,4,5,6,7],\"y\":[\"H\",\"G\",\"F\",\"E\",\"D\",\"C\",\"B\",\"A\"],\"z\":[[-0.018789323046803474,-0.03523292765021324,-0.0600537471473217,-0.04195398464798927,-0.045939017087221146,-0.01411404274404049,-0.03143168240785599,-0.06069929152727127],[-0.01518081221729517,0.12062619626522064,0.1417732685804367,0.049087509512901306,0.05265592038631439,0.11922693252563477,0.16965685784816742,-0.03634374588727951],[-0.04701600223779678,0.09951634705066681,0.11743754148483276,0.036268413066864014,0.0781874805688858,0.11814361810684204,0.16491280496120453,-0.02005009353160858],[-0.06090270355343819,0.10772285610437393,0.10037937015295029,0.12098590284585953,0.09546396136283875,0.09667602181434631,0.04080510884523392,-0.011592179536819458],[-0.0763494074344635,0.11398212611675262,0.11606613546609879,0.1873699277639389,0.13124436140060425,0.10880712419748306,0.047308601438999176,-0.04753955826163292],[-0.04458628594875336,0.103047676384449,0.08127019554376602,0.1123877763748169,0.13019144535064697,0.10253196954727173,0.009965256787836552,-0.03403628617525101],[-0.07577192038297653,0.11669939011335373,0.1328967809677124,0.09831143170595169,0.11196177452802658,0.07408890128135681,0.04927083104848862,-0.051973700523376465],[-0.05971618741750717,-0.03790917992591858,-0.018435951322317123,-0.024227667599916458,-0.03657689318060875,-0.02071329951286316,-0.04305166378617287,-0.04245476797223091]],\"zmax\":0.6861146688461304,\"zmin\":-0.6861146688461304,\"type\":\"heatmap\",\"xaxis\":\"x61\",\"yaxis\":\"y61\"},{\"colorscale\":[[0.0,\"rgb(103,0,31)\"],[0.1,\"rgb(178,24,43)\"],[0.2,\"rgb(214,96,77)\"],[0.3,\"rgb(244,165,130)\"],[0.4,\"rgb(253,219,199)\"],[0.5,\"rgb(247,247,247)\"],[0.6,\"rgb(209,229,240)\"],[0.7,\"rgb(146,197,222)\"],[0.8,\"rgb(67,147,195)\"],[0.9,\"rgb(33,102,172)\"],[1.0,\"rgb(5,48,97)\"]],\"hoverongaps\":false,\"x\":[0,1,2,3,4,5,6,7],\"y\":[\"H\",\"G\",\"F\",\"E\",\"D\",\"C\",\"B\",\"A\"],\"z\":[[0.0,0.0,0.0,0.0,0.0,0.0,0.0,0.0],[0.0,0.0,0.0,0.0,0.0,0.0,0.0,0.0],[0.0,0.0,0.0,0.0,0.0,0.0,0.0,0.0],[0.0,0.0,0.0,0.0,0.0,0.0,0.0,0.0],[0.0,0.0,0.0,0.0,0.0,0.0,0.0,0.0],[0.0,0.0,0.0,0.0,0.0,0.0,0.0,0.0],[0.0,0.0,0.0,0.0,0.0,0.0,0.0,0.0],[0.0,0.0,0.0,0.0,0.0,0.0,0.0,0.0]],\"zmax\":0.6861146688461304,\"zmin\":-0.6861146688461304,\"type\":\"heatmap\",\"xaxis\":\"x6\",\"yaxis\":\"y6\"},{\"colorscale\":[[0.0,\"rgb(103,0,31)\"],[0.1,\"rgb(178,24,43)\"],[0.2,\"rgb(214,96,77)\"],[0.3,\"rgb(244,165,130)\"],[0.4,\"rgb(253,219,199)\"],[0.5,\"rgb(247,247,247)\"],[0.6,\"rgb(209,229,240)\"],[0.7,\"rgb(146,197,222)\"],[0.8,\"rgb(67,147,195)\"],[0.9,\"rgb(33,102,172)\"],[1.0,\"rgb(5,48,97)\"]],\"hoverongaps\":false,\"x\":[0,1,2,3,4,5,6,7],\"y\":[\"H\",\"G\",\"F\",\"E\",\"D\",\"C\",\"B\",\"A\"],\"z\":[[-0.044306159019470215,0.06646153330802917,0.11214423924684525,0.1283487230539322,0.11679603159427643,0.09013329446315765,0.12303926795721054,-0.08554110676050186],[0.018204038962721825,0.36570116877555847,0.4241448640823364,0.4343594014644623,0.44185641407966614,0.40362024307250977,0.325944721698761,0.03409303352236748],[-0.0014006077544763684,0.3487907350063324,0.48256686329841614,0.425334095954895,0.453375905752182,0.4767027199268341,0.3696346879005432,0.032196104526519775],[-0.017247838899493217,0.3124615550041199,0.3926568925380707,0.5631996989250183,0.5688574910163879,0.4927957057952881,0.4289226531982422,0.010592008009552956],[0.010824662633240223,0.16555406153202057,0.4234793782234192,0.5055131912231445,0.5675815343856812,0.3556634485721588,0.3912729024887085,-0.006248785648494959],[-0.00024324547848664224,0.0968485027551651,0.31803786754608154,0.4192587733268738,0.34137627482414246,0.4019677937030792,0.37110185623168945,-0.001207188586704433],[-0.02391260676085949,0.04093274101614952,0.14559993147850037,0.16230663657188416,0.26948827505111694,0.20065878331661224,0.20298397541046143,0.013285539112985134],[-0.04511990770697594,0.02097805216908455,0.048027753829956055,-0.014874451793730259,-0.028363853693008423,0.007109086960554123,-0.02826099283993244,-0.06111022084951401]],\"zmax\":0.6861146688461304,\"zmin\":-0.6861146688461304,\"type\":\"heatmap\",\"xaxis\":\"x14\",\"yaxis\":\"y14\"},{\"colorscale\":[[0.0,\"rgb(103,0,31)\"],[0.1,\"rgb(178,24,43)\"],[0.2,\"rgb(214,96,77)\"],[0.3,\"rgb(244,165,130)\"],[0.4,\"rgb(253,219,199)\"],[0.5,\"rgb(247,247,247)\"],[0.6,\"rgb(209,229,240)\"],[0.7,\"rgb(146,197,222)\"],[0.8,\"rgb(67,147,195)\"],[0.9,\"rgb(33,102,172)\"],[1.0,\"rgb(5,48,97)\"]],\"hoverongaps\":false,\"x\":[0,1,2,3,4,5,6,7],\"y\":[\"H\",\"G\",\"F\",\"E\",\"D\",\"C\",\"B\",\"A\"],\"z\":[[0.01972908154129982,-0.26888948678970337,-0.3861151933670044,-0.41232216358184814,-0.38728535175323486,-0.48350611329078674,-0.3714057505130768,-0.05007776618003845],[-0.5399349927902222,-0.39023980498313904,-0.46123170852661133,-0.4820437729358673,-0.47609713673591614,-0.47464972734451294,-0.5334953665733337,-0.4675291180610657],[-0.5158197283744812,-0.42024359107017517,-0.43313372135162354,-0.3805319368839264,-0.3928726315498352,-0.38981515169143677,-0.3923351466655731,-0.48793327808380127],[-0.545112669467926,-0.48090705275535583,-0.3842718303203583,-0.5661482810974121,-0.5576630234718323,-0.38767209649086,-0.40822741389274597,-0.4525205194950104],[-0.48755839467048645,-0.4904293715953827,-0.4091341197490692,-0.4670211672782898,-0.28555819392204285,-0.2281973659992218,-0.33101463317871094,-0.37173911929130554],[-0.41058820486068726,-0.47397544980049133,-0.4156858026981354,-0.015320566482841969,0.03618035092949867,0.05027107521891594,-0.0005432165926322341,-0.351241797208786],[-0.3480947017669678,-0.3207792341709137,-0.006786806508898735,0.05566281080245972,0.008550525642931461,0.05157900229096413,0.01614978536963463,-0.22607694566249847],[-0.013856986537575722,0.0006393943913280964,0.016110850498080254,0.03922918066382408,0.020347919315099716,0.01762668415904045,-0.01832132413983345,-0.002987900050356984]],\"zmax\":0.6861146688461304,\"zmin\":-0.6861146688461304,\"type\":\"heatmap\",\"xaxis\":\"x22\",\"yaxis\":\"y22\"},{\"colorscale\":[[0.0,\"rgb(103,0,31)\"],[0.1,\"rgb(178,24,43)\"],[0.2,\"rgb(214,96,77)\"],[0.3,\"rgb(244,165,130)\"],[0.4,\"rgb(253,219,199)\"],[0.5,\"rgb(247,247,247)\"],[0.6,\"rgb(209,229,240)\"],[0.7,\"rgb(146,197,222)\"],[0.8,\"rgb(67,147,195)\"],[0.9,\"rgb(33,102,172)\"],[1.0,\"rgb(5,48,97)\"]],\"hoverongaps\":false,\"x\":[0,1,2,3,4,5,6,7],\"y\":[\"H\",\"G\",\"F\",\"E\",\"D\",\"C\",\"B\",\"A\"],\"z\":[[0.002696993527933955,-0.2059841901063919,-0.07465837150812149,-0.018841320648789406,0.00029192803776822984,0.018516628071665764,0.007025978062301874,0.007567102555185556],[-0.5056793689727783,-0.5708340406417847,-0.6036325097084045,-0.4750247597694397,-0.05009406805038452,-0.011398573406040668,0.003937907982617617,-0.01359809935092926],[-0.4880097806453705,-0.5406650304794312,-0.5603362321853638,-0.42995113134384155,-0.19432073831558228,-0.20292843878269196,-0.034960560500621796,0.011478392407298088],[-0.42564094066619873,-0.5539364814758301,-0.5018423199653625,-0.4574550986289978,-0.5740892291069031,-0.32234475016593933,-0.39383241534233093,-0.050618454813957214],[-0.4297863841056824,-0.5678828954696655,-0.4569786489009857,-0.5803002119064331,-0.5881636142730713,-0.49836331605911255,-0.5523848533630371,-0.026155781000852585],[-0.3925025463104248,-0.3223767876625061,-0.11567185074090958,-0.3692026138305664,-0.4861220121383667,-0.5122257471084595,-0.49537408351898193,-0.03243813291192055],[-0.16332590579986572,-0.01930885575711727,0.011539647355675697,-0.021588928997516632,-0.43494653701782227,-0.49991944432258606,-0.39262863993644714,0.020254656672477722],[0.051154039800167084,-0.02609860710799694,0.0008373092277906835,0.032293446362018585,-0.009869558736681938,0.011770449578762054,0.034819718450307846,0.0009669683640822768]],\"zmax\":0.6861146688461304,\"zmin\":-0.6861146688461304,\"type\":\"heatmap\",\"xaxis\":\"x30\",\"yaxis\":\"y30\"},{\"colorscale\":[[0.0,\"rgb(103,0,31)\"],[0.1,\"rgb(178,24,43)\"],[0.2,\"rgb(214,96,77)\"],[0.3,\"rgb(244,165,130)\"],[0.4,\"rgb(253,219,199)\"],[0.5,\"rgb(247,247,247)\"],[0.6,\"rgb(209,229,240)\"],[0.7,\"rgb(146,197,222)\"],[0.8,\"rgb(67,147,195)\"],[0.9,\"rgb(33,102,172)\"],[1.0,\"rgb(5,48,97)\"]],\"hoverongaps\":false,\"x\":[0,1,2,3,4,5,6,7],\"y\":[\"H\",\"G\",\"F\",\"E\",\"D\",\"C\",\"B\",\"A\"],\"z\":[[-0.045575980097055435,-0.19648967683315277,-0.1174665093421936,-0.2293148785829544,-0.17146815359592438,-0.22703714668750763,-0.11011701822280884,-0.04432779550552368],[-0.03197648748755455,-0.22737860679626465,-0.17669975757598877,-0.355872243642807,-0.3054637014865875,-0.22781328856945038,-0.18937627971172333,-0.040015123784542084],[-0.06834106147289276,-0.19034114480018616,-0.43277978897094727,-0.3446104824542999,-0.31270986795425415,-0.37054699659347534,-0.25195902585983276,-0.22113442420959473],[-0.07287809252738953,-0.32687172293663025,-0.3343949615955353,-0.34442731738090515,-0.36369624733924866,-0.33167552947998047,-0.22150282561779022,-0.09729844331741333],[-0.2660830616950989,-0.3068627715110779,-0.4195255637168884,-0.48204532265663147,-0.37577584385871887,-0.29957181215286255,-0.2711438834667206,-0.22857153415679932],[-0.06372484564781189,-0.324885755777359,-0.31302785873413086,-0.40609046816825867,-0.28090065717697144,-0.3268677294254303,-0.3338248133659363,-0.0817674994468689],[-0.041217658668756485,-0.1687222272157669,-0.3002205193042755,-0.3015369474887848,-0.2881590723991394,-0.20271344482898712,-0.12852194905281067,-0.048350024968385696],[0.032229963690042496,-0.06745066493749619,-0.11540433764457703,-0.14226093888282776,-0.23089593648910522,-0.10105786472558975,-0.16960199177265167,-0.10144001245498657]],\"zmax\":0.6861146688461304,\"zmin\":-0.6861146688461304,\"type\":\"heatmap\",\"xaxis\":\"x38\",\"yaxis\":\"y38\"},{\"colorscale\":[[0.0,\"rgb(103,0,31)\"],[0.1,\"rgb(178,24,43)\"],[0.2,\"rgb(214,96,77)\"],[0.3,\"rgb(244,165,130)\"],[0.4,\"rgb(253,219,199)\"],[0.5,\"rgb(247,247,247)\"],[0.6,\"rgb(209,229,240)\"],[0.7,\"rgb(146,197,222)\"],[0.8,\"rgb(67,147,195)\"],[0.9,\"rgb(33,102,172)\"],[1.0,\"rgb(5,48,97)\"]],\"hoverongaps\":false,\"x\":[0,1,2,3,4,5,6,7],\"y\":[\"H\",\"G\",\"F\",\"E\",\"D\",\"C\",\"B\",\"A\"],\"z\":[[-0.005957506597042084,0.04404423013329506,0.018363192677497864,-0.1096692681312561,-0.04486476629972458,-0.07497662305831909,-0.000966327846981585,-0.06592394411563873],[0.023002510890364647,-0.285385400056839,-0.3582606315612793,-0.355034738779068,-0.36497074365615845,-0.3785824179649353,-0.2947330176830292,-0.1328084021806717],[-0.06975571066141129,-0.22731943428516388,-0.29239538311958313,-0.1421998143196106,-0.09203547239303589,-0.2932548224925995,-0.2962522506713867,-0.027894020080566406],[-0.05540488660335541,-0.23144495487213135,-0.2911624610424042,-0.17972834408283234,0.006678077392280102,-0.22922533750534058,-0.1934201866388321,-0.07818585634231567],[-0.03156695142388344,-0.3123921751976013,-0.3788772523403168,0.011905786581337452,-0.1308223456144333,-0.1893419474363327,-0.3157868981361389,-0.0307778213173151],[0.006332589779049158,-0.26934564113616943,-0.3555675446987152,-0.3220856189727783,-0.13398844003677368,-0.2779847979545593,-0.2122957408428192,-0.01222958229482174],[0.020048556849360466,-0.20241442322731018,-0.2456728219985962,-0.28757593035697937,-0.2852557897567749,-0.3454675078392029,-0.13816219568252563,-0.04208480194211006],[-0.029187874868512154,-0.0752185508608818,-0.021287282928824425,-0.07116024941205978,0.016712838783860207,-0.0523429811000824,0.0012483926257118583,-0.00224322616122663]],\"zmax\":0.6861146688461304,\"zmin\":-0.6861146688461304,\"type\":\"heatmap\",\"xaxis\":\"x46\",\"yaxis\":\"y46\"},{\"colorscale\":[[0.0,\"rgb(103,0,31)\"],[0.1,\"rgb(178,24,43)\"],[0.2,\"rgb(214,96,77)\"],[0.3,\"rgb(244,165,130)\"],[0.4,\"rgb(253,219,199)\"],[0.5,\"rgb(247,247,247)\"],[0.6,\"rgb(209,229,240)\"],[0.7,\"rgb(146,197,222)\"],[0.8,\"rgb(67,147,195)\"],[0.9,\"rgb(33,102,172)\"],[1.0,\"rgb(5,48,97)\"]],\"hoverongaps\":false,\"x\":[0,1,2,3,4,5,6,7],\"y\":[\"H\",\"G\",\"F\",\"E\",\"D\",\"C\",\"B\",\"A\"],\"z\":[[-0.00033076960244216025,-0.02809591218829155,-0.021968644112348557,0.0006356635130941868,0.004498532973229885,0.017038151621818542,-0.024760913103818893,-0.03327060490846634],[-0.003925084136426449,-0.036850105971097946,-0.15014035999774933,-0.33426785469055176,-0.34233805537223816,-0.3181861639022827,-0.23950812220573425,-0.023634586483240128],[0.02213471010327339,-0.1136908009648323,-0.315079003572464,-0.2993491291999817,-0.419980525970459,-0.36521822214126587,-0.3586466610431671,-0.03998654708266258],[-0.014083681628108025,-0.08258716017007828,-0.3106320798397064,-0.5596609115600586,-0.5644135475158691,-0.3995088040828705,-0.36769968271255493,-0.01324534136801958],[0.011857490986585617,-0.06638257950544357,-0.34659823775291443,-0.495536208152771,-0.5160256624221802,-0.40561121702194214,-0.3200179934501648,-0.007884195074439049],[-0.017051704227924347,-0.12301744520664215,-0.37008029222488403,-0.448915958404541,-0.2911127209663391,-0.3227354884147644,-0.3587009012699127,-0.00553444167599082],[-0.02092263661324978,-0.06263068318367004,-0.27303287386894226,-0.3614811599254608,-0.3639238476753235,-0.3857293426990509,-0.22674325108528137,-0.05064539611339569],[-0.011956177651882172,-0.0172584168612957,0.009030020795762539,0.011491765268146992,0.0013754551764577627,-0.0008506052545271814,-0.013085328973829746,-0.003893606597557664]],\"zmax\":0.6861146688461304,\"zmin\":-0.6861146688461304,\"type\":\"heatmap\",\"xaxis\":\"x54\",\"yaxis\":\"y54\"},{\"colorscale\":[[0.0,\"rgb(103,0,31)\"],[0.1,\"rgb(178,24,43)\"],[0.2,\"rgb(214,96,77)\"],[0.3,\"rgb(244,165,130)\"],[0.4,\"rgb(253,219,199)\"],[0.5,\"rgb(247,247,247)\"],[0.6,\"rgb(209,229,240)\"],[0.7,\"rgb(146,197,222)\"],[0.8,\"rgb(67,147,195)\"],[0.9,\"rgb(33,102,172)\"],[1.0,\"rgb(5,48,97)\"]],\"hoverongaps\":false,\"x\":[0,1,2,3,4,5,6,7],\"y\":[\"H\",\"G\",\"F\",\"E\",\"D\",\"C\",\"B\",\"A\"],\"z\":[[-0.005867926869541407,0.00778151024132967,-0.02475561387836933,0.057179197669029236,0.048280298709869385,-0.016560398042201996,-0.0049362992867827415,0.003606199286878109],[0.019365504384040833,-0.10433119535446167,-0.1000571995973587,-0.06382260471582413,-0.08086416870355606,-0.12168961018323898,-0.16950707137584686,0.02916843257844448],[-0.0019425606587901711,-0.10382190346717834,-0.05394307151436806,0.002496978035196662,-0.0723349079489708,-0.11178148537874222,-0.1604476273059845,0.03897290676832199],[-8.434463234152645e-05,-0.10413186252117157,-0.05959464609622955,-0.0453338660299778,-0.021602092310786247,-0.035073570907115936,-0.05760158970952034,0.07018278539180756],[-0.007443839684128761,-0.07107354700565338,-0.04883408546447754,-0.12222103774547577,-0.07480765134096146,-0.05070193484425545,-0.039262618869543076,0.0646372139453888],[0.008805643767118454,-0.13307343423366547,-0.06690962612628937,-0.09014615416526794,-0.11120158433914185,-0.08593741059303284,-0.12647274136543274,0.0468498095870018],[-0.010120161809027195,-0.21625356376171112,-0.16199487447738647,-0.11318470537662506,-0.11631792038679123,-0.1802457571029663,-0.21179203689098358,0.03189517557621002],[-0.010082433000206947,-0.03247426450252533,-0.009479708969593048,0.0027468285989016294,-0.01102252583950758,-0.039547428488731384,0.006049223709851503,0.01949855126440525]],\"zmax\":0.6861146688461304,\"zmin\":-0.6861146688461304,\"type\":\"heatmap\",\"xaxis\":\"x62\",\"yaxis\":\"y62\"},{\"colorscale\":[[0.0,\"rgb(103,0,31)\"],[0.1,\"rgb(178,24,43)\"],[0.2,\"rgb(214,96,77)\"],[0.3,\"rgb(244,165,130)\"],[0.4,\"rgb(253,219,199)\"],[0.5,\"rgb(247,247,247)\"],[0.6,\"rgb(209,229,240)\"],[0.7,\"rgb(146,197,222)\"],[0.8,\"rgb(67,147,195)\"],[0.9,\"rgb(33,102,172)\"],[1.0,\"rgb(5,48,97)\"]],\"hoverongaps\":false,\"x\":[0,1,2,3,4,5,6,7],\"y\":[\"H\",\"G\",\"F\",\"E\",\"D\",\"C\",\"B\",\"A\"],\"z\":[[0.0,0.0,0.0,0.0,0.0,0.0,0.0,0.0],[0.0,0.0,0.0,0.0,0.0,0.0,0.0,0.0],[0.0,0.0,0.0,0.0,0.0,0.0,0.0,0.0],[0.0,0.0,0.0,0.0,0.0,0.0,0.0,0.0],[0.0,0.0,0.0,0.0,0.0,0.0,0.0,0.0],[0.0,0.0,0.0,0.0,0.0,0.0,0.0,0.0],[0.0,0.0,0.0,0.0,0.0,0.0,0.0,0.0],[0.0,0.0,0.0,0.0,0.0,0.0,0.0,0.0]],\"zmax\":0.6861146688461304,\"zmin\":-0.6861146688461304,\"type\":\"heatmap\",\"xaxis\":\"x7\",\"yaxis\":\"y7\"},{\"colorscale\":[[0.0,\"rgb(103,0,31)\"],[0.1,\"rgb(178,24,43)\"],[0.2,\"rgb(214,96,77)\"],[0.3,\"rgb(244,165,130)\"],[0.4,\"rgb(253,219,199)\"],[0.5,\"rgb(247,247,247)\"],[0.6,\"rgb(209,229,240)\"],[0.7,\"rgb(146,197,222)\"],[0.8,\"rgb(67,147,195)\"],[0.9,\"rgb(33,102,172)\"],[1.0,\"rgb(5,48,97)\"]],\"hoverongaps\":false,\"x\":[0,1,2,3,4,5,6,7],\"y\":[\"H\",\"G\",\"F\",\"E\",\"D\",\"C\",\"B\",\"A\"],\"z\":[[-0.07591716945171356,0.0069520375691354275,0.006221867632120848,-0.015137369744479656,-0.025877749547362328,0.0004291427612770349,-0.009676187299191952,-0.04820982739329338],[0.40077731013298035,0.33890509605407715,0.12355127185583115,0.032728079706430435,-0.04578851908445358,-0.015551908873021603,-0.012268527410924435,0.003819246543571353],[0.3280978798866272,0.467107355594635,0.4255979359149933,0.14171390235424042,0.034532997757196426,0.012433478608727455,0.030773350968956947,0.05713686719536781],[0.31020301580429077,0.4590901732444763,0.41243743896484375,0.5160761475563049,0.16991651058197021,0.026780875399708748,0.022173315286636353,0.09702702611684799],[0.3871718645095825,0.4629133641719818,0.5159211754798889,0.5875294208526611,0.5852833986282349,0.3007887303829193,0.19486218690872192,0.1673952341079712],[0.339434415102005,0.4370231330394745,0.4566259980201721,0.4734540581703186,0.4448161721229553,0.47144898772239685,0.35590073466300964,0.2271096557378769],[0.40915143489837646,0.3652614653110504,0.5153751969337463,0.456918865442276,0.49150386452674866,0.48918959498405457,0.44867265224456787,0.21913501620292664],[-0.044507984071969986,0.38573721051216125,0.47766822576522827,0.4106585383415222,0.48305201530456543,0.40729930996894836,0.4633825123310089,-0.02956197038292885]],\"zmax\":0.6861146688461304,\"zmin\":-0.6861146688461304,\"type\":\"heatmap\",\"xaxis\":\"x15\",\"yaxis\":\"y15\"},{\"colorscale\":[[0.0,\"rgb(103,0,31)\"],[0.1,\"rgb(178,24,43)\"],[0.2,\"rgb(214,96,77)\"],[0.3,\"rgb(244,165,130)\"],[0.4,\"rgb(253,219,199)\"],[0.5,\"rgb(247,247,247)\"],[0.6,\"rgb(209,229,240)\"],[0.7,\"rgb(146,197,222)\"],[0.8,\"rgb(67,147,195)\"],[0.9,\"rgb(33,102,172)\"],[1.0,\"rgb(5,48,97)\"]],\"hoverongaps\":false,\"x\":[0,1,2,3,4,5,6,7],\"y\":[\"H\",\"G\",\"F\",\"E\",\"D\",\"C\",\"B\",\"A\"],\"z\":[[-0.07084733992815018,0.2871845066547394,0.36070582270622253,0.34750017523765564,0.34704092144966125,0.32672885060310364,-0.03498039394617081,-0.07328402251005173],[0.32631272077560425,0.40681540966033936,0.47684577107429504,0.45202064514160156,0.4368954300880432,0.5077431797981262,0.55889493227005,-0.028428832069039345],[0.5262483358383179,0.4395391047000885,0.45918816328048706,0.3904617130756378,0.4283609986305237,0.4097994863986969,0.4629330039024353,-0.022004464641213417],[0.5180338621139526,0.4752208888530731,0.3335529565811157,0.6236783266067505,0.5478940010070801,0.43885377049446106,0.2712767422199249,0.029662469401955605],[0.5292696356773376,0.5757315158843994,0.4517476260662079,0.5535629987716675,0.02573108859360218,0.05502290278673172,0.013801411725580692,0.006864091381430626],[0.42593348026275635,0.5355132818222046,0.4583602547645569,0.32546234130859375,0.04823984578251839,0.09151194989681244,0.023337386548519135,-0.0014640861190855503],[-0.027990877628326416,0.4524824321269989,0.4812074899673462,0.09143126755952835,0.037702273577451706,0.03497004508972168,0.008060271851718426,-0.004670273512601852],[-0.034134458750486374,-0.07166202366352081,-0.0210434477776289,0.011888707987964153,-0.01980840228497982,-0.0063170986250042915,-0.011484586633741856,-0.02778731659054756]],\"zmax\":0.6861146688461304,\"zmin\":-0.6861146688461304,\"type\":\"heatmap\",\"xaxis\":\"x23\",\"yaxis\":\"y23\"},{\"colorscale\":[[0.0,\"rgb(103,0,31)\"],[0.1,\"rgb(178,24,43)\"],[0.2,\"rgb(214,96,77)\"],[0.3,\"rgb(244,165,130)\"],[0.4,\"rgb(253,219,199)\"],[0.5,\"rgb(247,247,247)\"],[0.6,\"rgb(209,229,240)\"],[0.7,\"rgb(146,197,222)\"],[0.8,\"rgb(67,147,195)\"],[0.9,\"rgb(33,102,172)\"],[1.0,\"rgb(5,48,97)\"]],\"hoverongaps\":false,\"x\":[0,1,2,3,4,5,6,7],\"y\":[\"H\",\"G\",\"F\",\"E\",\"D\",\"C\",\"B\",\"A\"],\"z\":[[0.008065659552812576,-0.021699227392673492,-0.029799405485391617,-0.01365059707313776,-0.043410081416368484,-0.01033091451972723,-0.10505641251802444,-0.047199804335832596],[-0.004480170551687479,0.0024141757749021053,0.026934126392006874,-0.04567953944206238,-0.009468000382184982,-0.039293400943279266,-0.3491467237472534,-0.38560178875923157],[-0.05439918860793114,0.017451897263526917,-0.007789107039570808,-0.008001717738807201,-0.3067784905433655,-0.42308148741722107,-0.53396075963974,-0.3911166489124298],[0.0034633141476660967,-0.04795970022678375,-0.02736332081258297,-0.3135022521018982,-0.360495001077652,-0.4139367640018463,-0.4853363335132599,-0.5065924525260925],[-0.12731510400772095,-0.41504377126693726,-0.13007928431034088,-0.08677395433187485,-0.5478386282920837,-0.4113224148750305,-0.4916079640388489,-0.45144712924957275],[-0.06289453059434891,-0.48499801754951477,-0.43551313877105713,-0.15887752175331116,-0.1710011065006256,-0.49504369497299194,-0.4640263617038727,-0.49128827452659607],[-0.16563721001148224,-0.4161171019077301,-0.42465415596961975,-0.10344173014163971,-0.0743417739868164,-0.29323866963386536,-0.4186457395553589,-0.3934915065765381],[0.0031214577611535788,-0.4004167914390564,-0.03881784901022911,-0.014279386028647423,-0.06063849478960037,-0.02871059812605381,-0.051632996648550034,-0.03825506940484047]],\"zmax\":0.6861146688461304,\"zmin\":-0.6861146688461304,\"type\":\"heatmap\",\"xaxis\":\"x31\",\"yaxis\":\"y31\"},{\"colorscale\":[[0.0,\"rgb(103,0,31)\"],[0.1,\"rgb(178,24,43)\"],[0.2,\"rgb(214,96,77)\"],[0.3,\"rgb(244,165,130)\"],[0.4,\"rgb(253,219,199)\"],[0.5,\"rgb(247,247,247)\"],[0.6,\"rgb(209,229,240)\"],[0.7,\"rgb(146,197,222)\"],[0.8,\"rgb(67,147,195)\"],[0.9,\"rgb(33,102,172)\"],[1.0,\"rgb(5,48,97)\"]],\"hoverongaps\":false,\"x\":[0,1,2,3,4,5,6,7],\"y\":[\"H\",\"G\",\"F\",\"E\",\"D\",\"C\",\"B\",\"A\"],\"z\":[[0.0007809748058207333,0.014624569565057755,0.08579196035861969,0.15627339482307434,0.25012868642807007,0.09216788411140442,0.03260660544037819,-0.00903073139488697],[0.07084504514932632,0.45949774980545044,0.47937649488449097,0.5236450433731079,0.5263152122497559,0.5109005570411682,0.4776608943939209,0.03630199283361435],[0.05191066488623619,0.48803019523620605,0.4740157723426819,0.46569889783859253,0.5024922490119934,0.48556748032569885,0.550496518611908,0.05846969038248062],[0.013262256048619747,0.5836958885192871,0.44892066717147827,0.6520763635635376,0.6464937925338745,0.4549395442008972,0.52975994348526,0.1653524488210678],[-0.00508815748617053,0.575494647026062,0.5758779644966125,0.6309759020805359,0.6640370488166809,0.5116851925849915,0.4907993972301483,0.10370189696550369],[-0.01735752262175083,0.2757239043712616,0.5079841613769531,0.5547122359275818,0.5448077917098999,0.49777883291244507,0.5328126549720764,0.13392792642116547],[-0.007711711805313826,0.08487442880868912,0.2826891243457794,0.5864887237548828,0.5858131647109985,0.5303763151168823,0.47084763646125793,0.10727573186159134],[-0.006989665795117617,-0.02546880953013897,-0.023044433444738388,-0.0028238464146852493,0.022745585069060326,-3.2325286156265065e-05,-0.016013748943805695,0.016453398391604424]],\"zmax\":0.6861146688461304,\"zmin\":-0.6861146688461304,\"type\":\"heatmap\",\"xaxis\":\"x39\",\"yaxis\":\"y39\"},{\"colorscale\":[[0.0,\"rgb(103,0,31)\"],[0.1,\"rgb(178,24,43)\"],[0.2,\"rgb(214,96,77)\"],[0.3,\"rgb(244,165,130)\"],[0.4,\"rgb(253,219,199)\"],[0.5,\"rgb(247,247,247)\"],[0.6,\"rgb(209,229,240)\"],[0.7,\"rgb(146,197,222)\"],[0.8,\"rgb(67,147,195)\"],[0.9,\"rgb(33,102,172)\"],[1.0,\"rgb(5,48,97)\"]],\"hoverongaps\":false,\"x\":[0,1,2,3,4,5,6,7],\"y\":[\"H\",\"G\",\"F\",\"E\",\"D\",\"C\",\"B\",\"A\"],\"z\":[[-0.0030737074557691813,0.002089807065203786,-0.014147412031888962,-0.03438403457403183,0.007607356645166874,0.02043653093278408,-0.0048666237853467464,-0.013926737010478973],[-0.010363147594034672,0.0024608334060758352,-0.015628114342689514,-0.012465971522033215,0.04638531431555748,0.015592535957694054,0.07729855179786682,-0.03398026153445244],[0.010394379496574402,-0.00796447042375803,0.0037719602696597576,0.10902781039476395,0.19731049239635468,0.418380469083786,0.4581676423549652,0.016039196401834488],[-0.006031482480466366,0.2548575699329376,0.3315265476703644,0.4723609387874603,0.5746385455131531,0.5416368246078491,0.4373456537723541,0.021697843447327614],[0.0002512254868634045,0.40825334191322327,0.4436480700969696,0.4939691126346588,0.524467408657074,0.4555024802684784,0.39623889327049255,0.004825602285563946],[0.022404048591852188,0.42844220995903015,0.49505260586738586,0.5063858032226562,0.4098668396472931,0.4173993170261383,0.3843674063682556,0.00042971191578544676],[0.006845338270068169,0.398514986038208,0.365349143743515,0.43560290336608887,0.4396802484989166,0.44112640619277954,0.2940031588077545,0.047270502895116806],[-0.018066897988319397,0.03145704045891762,0.03530045598745346,-0.008235731162130833,0.02496146410703659,-0.011724342592060566,0.026375602930784225,-0.028439000248908997]],\"zmax\":0.6861146688461304,\"zmin\":-0.6861146688461304,\"type\":\"heatmap\",\"xaxis\":\"x47\",\"yaxis\":\"y47\"},{\"colorscale\":[[0.0,\"rgb(103,0,31)\"],[0.1,\"rgb(178,24,43)\"],[0.2,\"rgb(214,96,77)\"],[0.3,\"rgb(244,165,130)\"],[0.4,\"rgb(253,219,199)\"],[0.5,\"rgb(247,247,247)\"],[0.6,\"rgb(209,229,240)\"],[0.7,\"rgb(146,197,222)\"],[0.8,\"rgb(67,147,195)\"],[0.9,\"rgb(33,102,172)\"],[1.0,\"rgb(5,48,97)\"]],\"hoverongaps\":false,\"x\":[0,1,2,3,4,5,6,7],\"y\":[\"H\",\"G\",\"F\",\"E\",\"D\",\"C\",\"B\",\"A\"],\"z\":[[-0.01367036160081625,0.0068246894516050816,0.038686808198690414,0.004532617051154375,0.00914385449141264,0.002392789348959923,0.011733278632164001,-0.004233579616993666],[-0.03530072048306465,-0.005651014391332865,0.028386898338794708,0.29976406693458557,0.38695335388183594,0.26167377829551697,0.28365254402160645,0.04384101927280426],[1.3449631296680309e-05,0.06771820783615112,0.08232498168945312,0.2769409120082855,0.45387566089630127,0.39022135734558105,0.3283469080924988,0.048407237976789474],[-0.00412759929895401,0.037383440881967545,0.047301627695560455,0.2824832499027252,0.5629227757453918,0.39742782711982727,0.3832193613052368,0.02020450122654438],[0.010281657800078392,0.027120521292090416,0.03322622552514076,0.18544934689998627,0.3550357222557068,0.3851225972175598,0.26665374636650085,0.00344259524717927],[0.023508235812187195,0.037797313183546066,0.07559619843959808,0.05278383195400238,0.09638100117444992,-0.006449214648455381,0.054131876677274704,0.025688935071229935],[0.024317942559719086,0.02606147713959217,0.08661701530218124,0.07846517115831375,0.06279731541872025,0.016911786049604416,0.011828425340354443,0.004088527988642454],[-0.03471048176288605,-0.028469126671552658,0.04285801202058792,0.012796642258763313,0.016817212104797363,0.04019725322723389,-0.03630803897976875,-0.0267794132232666]],\"zmax\":0.6861146688461304,\"zmin\":-0.6861146688461304,\"type\":\"heatmap\",\"xaxis\":\"x55\",\"yaxis\":\"y55\"},{\"colorscale\":[[0.0,\"rgb(103,0,31)\"],[0.1,\"rgb(178,24,43)\"],[0.2,\"rgb(214,96,77)\"],[0.3,\"rgb(244,165,130)\"],[0.4,\"rgb(253,219,199)\"],[0.5,\"rgb(247,247,247)\"],[0.6,\"rgb(209,229,240)\"],[0.7,\"rgb(146,197,222)\"],[0.8,\"rgb(67,147,195)\"],[0.9,\"rgb(33,102,172)\"],[1.0,\"rgb(5,48,97)\"]],\"hoverongaps\":false,\"x\":[0,1,2,3,4,5,6,7],\"y\":[\"H\",\"G\",\"F\",\"E\",\"D\",\"C\",\"B\",\"A\"],\"z\":[[0.04889357089996338,-0.00024212140124291182,-0.044705670326948166,-0.053871963173151016,-0.034648340195417404,0.043492380529642105,0.05745011195540428,0.09644776582717896],[0.018960343673825264,0.0030620982870459557,-0.015000871382653713,-0.047170981764793396,-0.021316051483154297,-0.08794351667165756,0.002588975476101041,0.06265460699796677],[0.023889023810625076,-0.000830026576295495,0.024417486041784286,-0.01754768192768097,-8.1940735981334e-05,-0.0594697967171669,-0.01425113994628191,0.0076896995306015015],[0.018122270703315735,-0.054540958255529404,-0.021503517404198647,-0.005017662420868874,-0.035499583929777145,0.0023910580202937126,-0.04760738089680672,-0.07911382615566254],[-0.0502917543053627,0.0027311628218740225,-0.010290613397955894,-0.008255365304648876,-0.05077314376831055,-0.021589763462543488,-0.05564563348889351,-0.09944026172161102],[0.011506562121212482,-0.004607786424458027,0.008997137658298016,-0.0007999743102118373,0.010455810464918613,0.0018332952167838812,-0.08452287316322327,0.06008902192115784],[0.008905114606022835,0.04000905528664589,0.025254789739847183,0.05227375030517578,0.007969159632921219,-0.04190779849886894,-0.047236453741788864,-0.009054923430085182],[0.08074984699487686,0.03213819861412048,0.035101864486932755,-0.019355548545718193,-0.024263698607683182,-0.026274001225829124,0.06242338567972183,0.04806489869952202]],\"zmax\":0.6861146688461304,\"zmin\":-0.6861146688461304,\"type\":\"heatmap\",\"xaxis\":\"x63\",\"yaxis\":\"y63\"},{\"colorscale\":[[0.0,\"rgb(103,0,31)\"],[0.1,\"rgb(178,24,43)\"],[0.2,\"rgb(214,96,77)\"],[0.3,\"rgb(244,165,130)\"],[0.4,\"rgb(253,219,199)\"],[0.5,\"rgb(247,247,247)\"],[0.6,\"rgb(209,229,240)\"],[0.7,\"rgb(146,197,222)\"],[0.8,\"rgb(67,147,195)\"],[0.9,\"rgb(33,102,172)\"],[1.0,\"rgb(5,48,97)\"]],\"hoverongaps\":false,\"x\":[0,1,2,3,4,5,6,7],\"y\":[\"H\",\"G\",\"F\",\"E\",\"D\",\"C\",\"B\",\"A\"],\"z\":[[0.0,0.0,0.0,0.0,0.0,0.0,0.0,0.0],[0.0,0.0,0.0,0.0,0.0,0.0,0.0,0.0],[0.0,0.0,0.0,0.0,0.0,0.0,0.0,0.0],[0.0,0.0,0.0,0.0,0.0,0.0,0.0,0.0],[0.0,0.0,0.0,0.0,0.0,0.0,0.0,0.0],[0.0,0.0,0.0,0.0,0.0,0.0,0.0,0.0],[0.0,0.0,0.0,0.0,0.0,0.0,0.0,0.0],[0.0,0.0,0.0,0.0,0.0,0.0,0.0,0.0]],\"zmax\":0.6861146688461304,\"zmin\":-0.6861146688461304,\"type\":\"heatmap\",\"xaxis\":\"x8\",\"yaxis\":\"y8\"},{\"colorscale\":[[0.0,\"rgb(103,0,31)\"],[0.1,\"rgb(178,24,43)\"],[0.2,\"rgb(214,96,77)\"],[0.3,\"rgb(244,165,130)\"],[0.4,\"rgb(253,219,199)\"],[0.5,\"rgb(247,247,247)\"],[0.6,\"rgb(209,229,240)\"],[0.7,\"rgb(146,197,222)\"],[0.8,\"rgb(67,147,195)\"],[0.9,\"rgb(33,102,172)\"],[1.0,\"rgb(5,48,97)\"]],\"hoverongaps\":false,\"x\":[0,1,2,3,4,5,6,7],\"y\":[\"H\",\"G\",\"F\",\"E\",\"D\",\"C\",\"B\",\"A\"],\"z\":[[-0.049178723245859146,-0.033635616302490234,0.001450495095923543,-0.03040708228945732,-0.006008880212903023,-0.012515490874648094,-0.07031764090061188,0.02610970474779606],[-0.02070295438170433,0.0703287348151207,-0.11395995318889618,0.05810569226741791,0.037008434534072876,-0.003760149935260415,-0.004350312054157257,-0.525772750377655],[-0.0010620900429785252,0.023725764825940132,-0.07763349264860153,0.0085804034024477,-0.08104738593101501,-0.18888886272907257,-0.1541784107685089,-0.525199830532074],[0.004331085830926895,0.07459403574466705,-0.13064835965633392,-0.07028878480195999,-0.09068037569522858,-0.16587910056114197,-0.2656441926956177,-0.4856334924697876],[-0.015969568863511086,0.048792764544487,-0.2087235450744629,-0.12253554165363312,-0.08036550879478455,-0.15260258316993713,-0.17048881947994232,-0.49046772718429565],[-0.032468341290950775,0.08510793000459671,-0.1415625810623169,-0.11440692096948624,-0.13671483099460602,-0.17013834416866302,-0.09927554428577423,-0.5082805156707764],[-0.007866033352911472,0.08393537998199463,-0.07384344190359116,-0.14774766564369202,-0.24873138964176178,-0.10742025077342987,-0.07576712965965271,-0.5013200640678406],[-0.026867056265473366,-0.06744533032178879,-0.03807428851723671,-0.17093607783317566,-0.1785130798816681,-0.23081205785274506,-0.207078218460083,0.11151320487260818]],\"zmax\":0.6861146688461304,\"zmin\":-0.6861146688461304,\"type\":\"heatmap\",\"xaxis\":\"x16\",\"yaxis\":\"y16\"},{\"colorscale\":[[0.0,\"rgb(103,0,31)\"],[0.1,\"rgb(178,24,43)\"],[0.2,\"rgb(214,96,77)\"],[0.3,\"rgb(244,165,130)\"],[0.4,\"rgb(253,219,199)\"],[0.5,\"rgb(247,247,247)\"],[0.6,\"rgb(209,229,240)\"],[0.7,\"rgb(146,197,222)\"],[0.8,\"rgb(67,147,195)\"],[0.9,\"rgb(33,102,172)\"],[1.0,\"rgb(5,48,97)\"]],\"hoverongaps\":false,\"x\":[0,1,2,3,4,5,6,7],\"y\":[\"H\",\"G\",\"F\",\"E\",\"D\",\"C\",\"B\",\"A\"],\"z\":[[-0.028492704033851624,0.39061886072158813,0.3733539283275604,0.4696502983570099,0.10592881590127945,0.021597906947135925,-0.03123999945819378,-0.03752861171960831],[-0.04429952800273895,0.5223274230957031,0.5763894319534302,0.5593777894973755,0.42694246768951416,0.17779666185379028,0.17513912916183472,0.3008596897125244],[-0.03343565762042999,0.5245850682258606,0.5137038230895996,0.40284034609794617,0.4182184636592865,0.4171355068683624,0.4957503080368042,0.3627597689628601],[-0.010724573396146297,0.42071473598480225,0.3692525029182434,0.25407907366752625,0.4181632101535797,0.4029666781425476,0.4664424955844879,0.4357123374938965],[-0.02523355558514595,0.10556764900684357,0.18801912665367126,0.1295584887266159,0.5989639759063721,0.3950366973876953,0.4985637068748474,0.38511115312576294],[-0.04941454902291298,0.1462896317243576,0.22471877932548523,0.415744423866272,0.4581870138645172,0.5287729501724243,0.45210108160972595,0.3377307057380676],[0.2954723536968231,0.3125292956829071,0.4811924397945404,0.5284760594367981,0.5802099704742432,0.5194166898727417,0.4426269829273224,0.27369678020477295],[0.0016867348458617926,0.2331080436706543,0.41555169224739075,0.484870046377182,0.5410464406013489,0.39215412735939026,0.31443753838539124,-0.1242479681968689]],\"zmax\":0.6861146688461304,\"zmin\":-0.6861146688461304,\"type\":\"heatmap\",\"xaxis\":\"x24\",\"yaxis\":\"y24\"},{\"colorscale\":[[0.0,\"rgb(103,0,31)\"],[0.1,\"rgb(178,24,43)\"],[0.2,\"rgb(214,96,77)\"],[0.3,\"rgb(244,165,130)\"],[0.4,\"rgb(253,219,199)\"],[0.5,\"rgb(247,247,247)\"],[0.6,\"rgb(209,229,240)\"],[0.7,\"rgb(146,197,222)\"],[0.8,\"rgb(67,147,195)\"],[0.9,\"rgb(33,102,172)\"],[1.0,\"rgb(5,48,97)\"]],\"hoverongaps\":false,\"x\":[0,1,2,3,4,5,6,7],\"y\":[\"H\",\"G\",\"F\",\"E\",\"D\",\"C\",\"B\",\"A\"],\"z\":[[0.020465416833758354,-0.055546846240758896,-0.14905592799186707,-0.3952888548374176,-0.4265228509902954,-0.38373860716819763,-0.5957970023155212,-0.038984011858701706],[-0.022009756416082382,0.01166708767414093,-0.33044201135635376,-0.5379784107208252,-0.5291027426719666,-0.4466177523136139,-0.4974620044231415,-0.19933508336544037],[-0.0008739578770473599,-0.01548038236796856,-0.2807370722293854,-0.48621034622192383,-0.4037627875804901,-0.46868935227394104,-0.5092142820358276,-0.09038522839546204],[0.015973780304193497,-0.015998683869838715,-0.12748001515865326,-0.5247388482093811,-0.5924256443977356,-0.46209976077079773,-0.5364775061607361,-0.08267641067504883],[-0.020651189610362053,0.0028032036498188972,-0.10033972561359406,-0.4782376289367676,-0.5178502798080444,-0.3442692160606384,-0.2675943970680237,-0.06090724468231201],[0.012376637198030949,0.006647295784205198,0.010864103212952614,-0.0663013830780983,-0.003667282173410058,0.028774406760931015,-0.012387729249894619,-0.031208211556077003],[0.0032161700073629618,0.01913660764694214,0.034636348485946655,0.011233828961849213,-0.01409194990992546,0.021232908591628075,0.005184177774935961,-0.01869327761232853],[0.040072962641716,-0.04856456071138382,-0.011538505554199219,0.01107582077383995,-0.007435519713908434,0.02812623791396618,-0.01128988154232502,-0.02619934268295765]],\"zmax\":0.6861146688461304,\"zmin\":-0.6861146688461304,\"type\":\"heatmap\",\"xaxis\":\"x32\",\"yaxis\":\"y32\"},{\"colorscale\":[[0.0,\"rgb(103,0,31)\"],[0.1,\"rgb(178,24,43)\"],[0.2,\"rgb(214,96,77)\"],[0.3,\"rgb(244,165,130)\"],[0.4,\"rgb(253,219,199)\"],[0.5,\"rgb(247,247,247)\"],[0.6,\"rgb(209,229,240)\"],[0.7,\"rgb(146,197,222)\"],[0.8,\"rgb(67,147,195)\"],[0.9,\"rgb(33,102,172)\"],[1.0,\"rgb(5,48,97)\"]],\"hoverongaps\":false,\"x\":[0,1,2,3,4,5,6,7],\"y\":[\"H\",\"G\",\"F\",\"E\",\"D\",\"C\",\"B\",\"A\"],\"z\":[[-0.011609737761318684,-0.1402914673089981,-0.19542817771434784,-0.19738423824310303,-0.18429166078567505,-0.15646754205226898,-0.12398839741945267,0.04402772709727287],[-0.11831729859113693,-0.532674252986908,-0.5407633781433105,-0.5268236994743347,-0.4717820882797241,-0.507479727268219,-0.48359477519989014,-0.010768378153443336],[-0.2117304503917694,-0.5227288007736206,-0.5572201609611511,-0.5153105854988098,-0.42898279428482056,-0.5473776459693909,-0.5083383917808533,-0.13791987299919128],[-0.21702057123184204,-0.5531096458435059,-0.49601835012435913,-0.6252456903457642,-0.5860984325408936,-0.5149181485176086,-0.4077705442905426,-0.028074130415916443],[-0.20891466736793518,-0.5827732086181641,-0.5650938749313354,-0.6136924028396606,-0.6072751879692078,-0.0025771844666451216,-0.08978669345378876,-0.08074728399515152],[-0.10940632969141006,-0.6409667134284973,-0.5403903722763062,-0.3128528594970703,-0.011734017170965672,0.009274572134017944,0.00855780765414238,-0.042923081666231155],[-0.17944619059562683,-0.41713497042655945,-0.5161792635917664,-0.011943217366933823,-0.014341574162244797,-0.008764414116740227,0.00903458520770073,-0.044872984290122986],[0.03198232501745224,-0.07147330790758133,-0.0356794074177742,-0.03391299769282341,-0.053415779024362564,-0.010450922884047031,-0.01075491402298212,0.05433273687958717]],\"zmax\":0.6861146688461304,\"zmin\":-0.6861146688461304,\"type\":\"heatmap\",\"xaxis\":\"x40\",\"yaxis\":\"y40\"},{\"colorscale\":[[0.0,\"rgb(103,0,31)\"],[0.1,\"rgb(178,24,43)\"],[0.2,\"rgb(214,96,77)\"],[0.3,\"rgb(244,165,130)\"],[0.4,\"rgb(253,219,199)\"],[0.5,\"rgb(247,247,247)\"],[0.6,\"rgb(209,229,240)\"],[0.7,\"rgb(146,197,222)\"],[0.8,\"rgb(67,147,195)\"],[0.9,\"rgb(33,102,172)\"],[1.0,\"rgb(5,48,97)\"]],\"hoverongaps\":false,\"x\":[0,1,2,3,4,5,6,7],\"y\":[\"H\",\"G\",\"F\",\"E\",\"D\",\"C\",\"B\",\"A\"],\"z\":[[-0.0074430289678275585,-0.04940858855843544,-0.031262412667274475,-0.16722986102104187,-0.09988407790660858,-0.05596259981393814,-0.018552113324403763,-0.032184991985559464],[-0.021473856642842293,-0.4608166217803955,-0.5117811560630798,-0.5194533467292786,-0.516491174697876,-0.48452818393707275,-0.35999828577041626,0.008987958543002605],[-0.0012823337456211448,-0.5149847269058228,-0.6084394454956055,-0.5677403211593628,-0.5791364908218384,-0.601513147354126,-0.49828916788101196,-0.05024908855557442],[0.004656904377043247,-0.5627867579460144,-0.5350919961929321,-0.6567655801773071,-0.6245834231376648,-0.6200276613235474,-0.5108492374420166,0.003827218897640705],[-0.0643611028790474,-0.49866318702697754,-0.5792847275733948,-0.6334096789360046,-0.6145880222320557,-0.6086429953575134,-0.5311488509178162,-0.03722093626856804],[0.020406153053045273,-0.4854194223880768,-0.6348631978034973,-0.6189144849777222,-0.5284543633460999,-0.5943405032157898,-0.4700075089931488,0.04517430067062378],[-0.00785956159234047,-0.4409031867980957,-0.5013689398765564,-0.5342252850532532,-0.5821235775947571,-0.6046105623245239,-0.48377880454063416,0.11438009887933731],[0.009904180653393269,0.013625835999846458,-0.0481564886868,-0.044241975992918015,-0.06618193536996841,-0.026432834565639496,0.07891709357500076,0.004308829549700022]],\"zmax\":0.6861146688461304,\"zmin\":-0.6861146688461304,\"type\":\"heatmap\",\"xaxis\":\"x48\",\"yaxis\":\"y48\"},{\"colorscale\":[[0.0,\"rgb(103,0,31)\"],[0.1,\"rgb(178,24,43)\"],[0.2,\"rgb(214,96,77)\"],[0.3,\"rgb(244,165,130)\"],[0.4,\"rgb(253,219,199)\"],[0.5,\"rgb(247,247,247)\"],[0.6,\"rgb(209,229,240)\"],[0.7,\"rgb(146,197,222)\"],[0.8,\"rgb(67,147,195)\"],[0.9,\"rgb(33,102,172)\"],[1.0,\"rgb(5,48,97)\"]],\"hoverongaps\":false,\"x\":[0,1,2,3,4,5,6,7],\"y\":[\"H\",\"G\",\"F\",\"E\",\"D\",\"C\",\"B\",\"A\"],\"z\":[[0.0071759638376533985,0.05485052242875099,0.06502489745616913,0.06938934326171875,0.04616016894578934,0.06126248836517334,0.036931779235601425,-0.018525440245866776],[0.007772243581712246,0.25235092639923096,0.3983078896999359,0.38875335454940796,0.3816918432712555,0.11880059540271759,-0.009859328158199787,-0.03847992792725563],[0.03781767562031746,0.3372102975845337,0.4977755546569824,0.4241410493850708,0.368331640958786,0.18253639340400696,0.07422621548175812,-0.026633182540535927],[0.02225000038743019,0.3741777241230011,0.36052075028419495,0.5483327507972717,0.3573467433452606,0.07845291495323181,0.012957022525370121,-0.038049325346946716],[0.01371658593416214,0.11430509388446808,0.1616358757019043,0.25611820816993713,0.17728395760059357,0.030215417966246605,0.02851235307753086,-0.021940620616078377],[0.041527409106492996,0.06459327042102814,0.034566234797239304,0.06265697628259659,0.0520961694419384,0.012746377848088741,0.036140166223049164,-0.0158415324985981],[0.000379900389816612,0.05393632873892784,0.01800401695072651,0.04653454199433327,0.04193650558590889,0.048609741032123566,0.04465758427977562,-0.048109788447618484],[-0.04685907065868378,-0.029394160956144333,-0.02736959606409073,-0.02499696984887123,0.012691603973507881,-0.005154137033969164,-0.016537250950932503,-0.0288081094622612]],\"zmax\":0.6861146688461304,\"zmin\":-0.6861146688461304,\"type\":\"heatmap\",\"xaxis\":\"x56\",\"yaxis\":\"y56\"},{\"colorscale\":[[0.0,\"rgb(103,0,31)\"],[0.1,\"rgb(178,24,43)\"],[0.2,\"rgb(214,96,77)\"],[0.3,\"rgb(244,165,130)\"],[0.4,\"rgb(253,219,199)\"],[0.5,\"rgb(247,247,247)\"],[0.6,\"rgb(209,229,240)\"],[0.7,\"rgb(146,197,222)\"],[0.8,\"rgb(67,147,195)\"],[0.9,\"rgb(33,102,172)\"],[1.0,\"rgb(5,48,97)\"]],\"hoverongaps\":false,\"x\":[0,1,2,3,4,5,6,7],\"y\":[\"H\",\"G\",\"F\",\"E\",\"D\",\"C\",\"B\",\"A\"],\"z\":[[-0.053142745047807693,-0.0669357106089592,-0.0418848879635334,-0.06696353852748871,-0.07809697091579437,-0.06993214786052704,-0.012053592130541801,-0.11465305835008621],[-0.06560378521680832,0.010680186562240124,0.05273527279496193,-0.04254448786377907,-0.029821233823895454,-0.007568542379885912,-0.04167512059211731,-0.10458848625421524],[-0.05008125305175781,0.010165806859731674,-0.006110528949648142,-0.00878512766212225,0.016873352229595184,-0.12328319251537323,-0.05017494410276413,-0.06269490718841553],[-0.03733612596988678,0.050190430134534836,-0.01294050645083189,-0.09707070142030716,-0.026736438274383545,-0.08654206991195679,-0.007187491282820702,-0.04043927043676376],[-0.05826649069786072,-0.0984041690826416,-0.10751678049564362,-0.021679092198610306,-0.03549518063664436,0.10012063384056091,-0.026348832994699478,-0.052757006138563156],[-0.07223808020353317,-0.024596616625785828,-0.11076468229293823,-0.1054273247718811,-0.034657590091228485,0.011652416549623013,-0.002653722185641527,-0.05566282942891121],[-0.036386631429195404,0.037097152322530746,0.018610263243317604,-0.06288274377584457,0.003793298965319991,0.0022774450480937958,-0.027250487357378006,-0.05288496986031532],[-0.1477370262145996,-0.07392971962690353,-0.07219312340021133,-0.07325897365808487,-0.06839274615049362,-0.0734952762722969,-0.09727287292480469,-0.06912337243556976]],\"zmax\":0.6861146688461304,\"zmin\":-0.6861146688461304,\"type\":\"heatmap\",\"xaxis\":\"x64\",\"yaxis\":\"y64\"}],                        {\"template\":{\"data\":{\"histogram2dcontour\":[{\"type\":\"histogram2dcontour\",\"colorbar\":{\"outlinewidth\":0,\"ticks\":\"\"},\"colorscale\":[[0.0,\"#0d0887\"],[0.1111111111111111,\"#46039f\"],[0.2222222222222222,\"#7201a8\"],[0.3333333333333333,\"#9c179e\"],[0.4444444444444444,\"#bd3786\"],[0.5555555555555556,\"#d8576b\"],[0.6666666666666666,\"#ed7953\"],[0.7777777777777778,\"#fb9f3a\"],[0.8888888888888888,\"#fdca26\"],[1.0,\"#f0f921\"]]}],\"choropleth\":[{\"type\":\"choropleth\",\"colorbar\":{\"outlinewidth\":0,\"ticks\":\"\"}}],\"histogram2d\":[{\"type\":\"histogram2d\",\"colorbar\":{\"outlinewidth\":0,\"ticks\":\"\"},\"colorscale\":[[0.0,\"#0d0887\"],[0.1111111111111111,\"#46039f\"],[0.2222222222222222,\"#7201a8\"],[0.3333333333333333,\"#9c179e\"],[0.4444444444444444,\"#bd3786\"],[0.5555555555555556,\"#d8576b\"],[0.6666666666666666,\"#ed7953\"],[0.7777777777777778,\"#fb9f3a\"],[0.8888888888888888,\"#fdca26\"],[1.0,\"#f0f921\"]]}],\"heatmap\":[{\"type\":\"heatmap\",\"colorbar\":{\"outlinewidth\":0,\"ticks\":\"\"},\"colorscale\":[[0.0,\"#0d0887\"],[0.1111111111111111,\"#46039f\"],[0.2222222222222222,\"#7201a8\"],[0.3333333333333333,\"#9c179e\"],[0.4444444444444444,\"#bd3786\"],[0.5555555555555556,\"#d8576b\"],[0.6666666666666666,\"#ed7953\"],[0.7777777777777778,\"#fb9f3a\"],[0.8888888888888888,\"#fdca26\"],[1.0,\"#f0f921\"]]}],\"heatmapgl\":[{\"type\":\"heatmapgl\",\"colorbar\":{\"outlinewidth\":0,\"ticks\":\"\"},\"colorscale\":[[0.0,\"#0d0887\"],[0.1111111111111111,\"#46039f\"],[0.2222222222222222,\"#7201a8\"],[0.3333333333333333,\"#9c179e\"],[0.4444444444444444,\"#bd3786\"],[0.5555555555555556,\"#d8576b\"],[0.6666666666666666,\"#ed7953\"],[0.7777777777777778,\"#fb9f3a\"],[0.8888888888888888,\"#fdca26\"],[1.0,\"#f0f921\"]]}],\"contourcarpet\":[{\"type\":\"contourcarpet\",\"colorbar\":{\"outlinewidth\":0,\"ticks\":\"\"}}],\"contour\":[{\"type\":\"contour\",\"colorbar\":{\"outlinewidth\":0,\"ticks\":\"\"},\"colorscale\":[[0.0,\"#0d0887\"],[0.1111111111111111,\"#46039f\"],[0.2222222222222222,\"#7201a8\"],[0.3333333333333333,\"#9c179e\"],[0.4444444444444444,\"#bd3786\"],[0.5555555555555556,\"#d8576b\"],[0.6666666666666666,\"#ed7953\"],[0.7777777777777778,\"#fb9f3a\"],[0.8888888888888888,\"#fdca26\"],[1.0,\"#f0f921\"]]}],\"surface\":[{\"type\":\"surface\",\"colorbar\":{\"outlinewidth\":0,\"ticks\":\"\"},\"colorscale\":[[0.0,\"#0d0887\"],[0.1111111111111111,\"#46039f\"],[0.2222222222222222,\"#7201a8\"],[0.3333333333333333,\"#9c179e\"],[0.4444444444444444,\"#bd3786\"],[0.5555555555555556,\"#d8576b\"],[0.6666666666666666,\"#ed7953\"],[0.7777777777777778,\"#fb9f3a\"],[0.8888888888888888,\"#fdca26\"],[1.0,\"#f0f921\"]]}],\"mesh3d\":[{\"type\":\"mesh3d\",\"colorbar\":{\"outlinewidth\":0,\"ticks\":\"\"}}],\"scatter\":[{\"fillpattern\":{\"fillmode\":\"overlay\",\"size\":10,\"solidity\":0.2},\"type\":\"scatter\"}],\"parcoords\":[{\"type\":\"parcoords\",\"line\":{\"colorbar\":{\"outlinewidth\":0,\"ticks\":\"\"}}}],\"scatterpolargl\":[{\"type\":\"scatterpolargl\",\"marker\":{\"colorbar\":{\"outlinewidth\":0,\"ticks\":\"\"}}}],\"bar\":[{\"error_x\":{\"color\":\"#2a3f5f\"},\"error_y\":{\"color\":\"#2a3f5f\"},\"marker\":{\"line\":{\"color\":\"#E5ECF6\",\"width\":0.5},\"pattern\":{\"fillmode\":\"overlay\",\"size\":10,\"solidity\":0.2}},\"type\":\"bar\"}],\"scattergeo\":[{\"type\":\"scattergeo\",\"marker\":{\"colorbar\":{\"outlinewidth\":0,\"ticks\":\"\"}}}],\"scatterpolar\":[{\"type\":\"scatterpolar\",\"marker\":{\"colorbar\":{\"outlinewidth\":0,\"ticks\":\"\"}}}],\"histogram\":[{\"marker\":{\"pattern\":{\"fillmode\":\"overlay\",\"size\":10,\"solidity\":0.2}},\"type\":\"histogram\"}],\"scattergl\":[{\"type\":\"scattergl\",\"marker\":{\"colorbar\":{\"outlinewidth\":0,\"ticks\":\"\"}}}],\"scatter3d\":[{\"type\":\"scatter3d\",\"line\":{\"colorbar\":{\"outlinewidth\":0,\"ticks\":\"\"}},\"marker\":{\"colorbar\":{\"outlinewidth\":0,\"ticks\":\"\"}}}],\"scattermapbox\":[{\"type\":\"scattermapbox\",\"marker\":{\"colorbar\":{\"outlinewidth\":0,\"ticks\":\"\"}}}],\"scatterternary\":[{\"type\":\"scatterternary\",\"marker\":{\"colorbar\":{\"outlinewidth\":0,\"ticks\":\"\"}}}],\"scattercarpet\":[{\"type\":\"scattercarpet\",\"marker\":{\"colorbar\":{\"outlinewidth\":0,\"ticks\":\"\"}}}],\"carpet\":[{\"aaxis\":{\"endlinecolor\":\"#2a3f5f\",\"gridcolor\":\"white\",\"linecolor\":\"white\",\"minorgridcolor\":\"white\",\"startlinecolor\":\"#2a3f5f\"},\"baxis\":{\"endlinecolor\":\"#2a3f5f\",\"gridcolor\":\"white\",\"linecolor\":\"white\",\"minorgridcolor\":\"white\",\"startlinecolor\":\"#2a3f5f\"},\"type\":\"carpet\"}],\"table\":[{\"cells\":{\"fill\":{\"color\":\"#EBF0F8\"},\"line\":{\"color\":\"white\"}},\"header\":{\"fill\":{\"color\":\"#C8D4E3\"},\"line\":{\"color\":\"white\"}},\"type\":\"table\"}],\"barpolar\":[{\"marker\":{\"line\":{\"color\":\"#E5ECF6\",\"width\":0.5},\"pattern\":{\"fillmode\":\"overlay\",\"size\":10,\"solidity\":0.2}},\"type\":\"barpolar\"}],\"pie\":[{\"automargin\":true,\"type\":\"pie\"}]},\"layout\":{\"autotypenumbers\":\"strict\",\"colorway\":[\"#636efa\",\"#EF553B\",\"#00cc96\",\"#ab63fa\",\"#FFA15A\",\"#19d3f3\",\"#FF6692\",\"#B6E880\",\"#FF97FF\",\"#FECB52\"],\"font\":{\"color\":\"#2a3f5f\"},\"hovermode\":\"closest\",\"hoverlabel\":{\"align\":\"left\"},\"paper_bgcolor\":\"white\",\"plot_bgcolor\":\"#E5ECF6\",\"polar\":{\"bgcolor\":\"#E5ECF6\",\"angularaxis\":{\"gridcolor\":\"white\",\"linecolor\":\"white\",\"ticks\":\"\"},\"radialaxis\":{\"gridcolor\":\"white\",\"linecolor\":\"white\",\"ticks\":\"\"}},\"ternary\":{\"bgcolor\":\"#E5ECF6\",\"aaxis\":{\"gridcolor\":\"white\",\"linecolor\":\"white\",\"ticks\":\"\"},\"baxis\":{\"gridcolor\":\"white\",\"linecolor\":\"white\",\"ticks\":\"\"},\"caxis\":{\"gridcolor\":\"white\",\"linecolor\":\"white\",\"ticks\":\"\"}},\"coloraxis\":{\"colorbar\":{\"outlinewidth\":0,\"ticks\":\"\"}},\"colorscale\":{\"sequential\":[[0.0,\"#0d0887\"],[0.1111111111111111,\"#46039f\"],[0.2222222222222222,\"#7201a8\"],[0.3333333333333333,\"#9c179e\"],[0.4444444444444444,\"#bd3786\"],[0.5555555555555556,\"#d8576b\"],[0.6666666666666666,\"#ed7953\"],[0.7777777777777778,\"#fb9f3a\"],[0.8888888888888888,\"#fdca26\"],[1.0,\"#f0f921\"]],\"sequentialminus\":[[0.0,\"#0d0887\"],[0.1111111111111111,\"#46039f\"],[0.2222222222222222,\"#7201a8\"],[0.3333333333333333,\"#9c179e\"],[0.4444444444444444,\"#bd3786\"],[0.5555555555555556,\"#d8576b\"],[0.6666666666666666,\"#ed7953\"],[0.7777777777777778,\"#fb9f3a\"],[0.8888888888888888,\"#fdca26\"],[1.0,\"#f0f921\"]],\"diverging\":[[0,\"#8e0152\"],[0.1,\"#c51b7d\"],[0.2,\"#de77ae\"],[0.3,\"#f1b6da\"],[0.4,\"#fde0ef\"],[0.5,\"#f7f7f7\"],[0.6,\"#e6f5d0\"],[0.7,\"#b8e186\"],[0.8,\"#7fbc41\"],[0.9,\"#4d9221\"],[1,\"#276419\"]]},\"xaxis\":{\"gridcolor\":\"white\",\"linecolor\":\"white\",\"ticks\":\"\",\"title\":{\"standoff\":15},\"zerolinecolor\":\"white\",\"automargin\":true,\"zerolinewidth\":2},\"yaxis\":{\"gridcolor\":\"white\",\"linecolor\":\"white\",\"ticks\":\"\",\"title\":{\"standoff\":15},\"zerolinecolor\":\"white\",\"automargin\":true,\"zerolinewidth\":2},\"scene\":{\"xaxis\":{\"backgroundcolor\":\"#E5ECF6\",\"gridcolor\":\"white\",\"linecolor\":\"white\",\"showbackground\":true,\"ticks\":\"\",\"zerolinecolor\":\"white\",\"gridwidth\":2},\"yaxis\":{\"backgroundcolor\":\"#E5ECF6\",\"gridcolor\":\"white\",\"linecolor\":\"white\",\"showbackground\":true,\"ticks\":\"\",\"zerolinecolor\":\"white\",\"gridwidth\":2},\"zaxis\":{\"backgroundcolor\":\"#E5ECF6\",\"gridcolor\":\"white\",\"linecolor\":\"white\",\"showbackground\":true,\"ticks\":\"\",\"zerolinecolor\":\"white\",\"gridwidth\":2}},\"shapedefaults\":{\"line\":{\"color\":\"#2a3f5f\"}},\"annotationdefaults\":{\"arrowcolor\":\"#2a3f5f\",\"arrowhead\":0,\"arrowwidth\":1},\"geo\":{\"bgcolor\":\"white\",\"landcolor\":\"#E5ECF6\",\"subunitcolor\":\"white\",\"showland\":true,\"showlakes\":true,\"lakecolor\":\"white\"},\"title\":{\"x\":0.05},\"mapbox\":{\"style\":\"light\"}}},\"xaxis\":{\"anchor\":\"y\",\"domain\":[0.0,0.103125]},\"yaxis\":{\"anchor\":\"x\",\"domain\":[0.91328125,1.0]},\"xaxis2\":{\"anchor\":\"y2\",\"domain\":[0.128125,0.23124999999999998]},\"yaxis2\":{\"anchor\":\"x2\",\"domain\":[0.91328125,1.0]},\"xaxis3\":{\"anchor\":\"y3\",\"domain\":[0.25625,0.359375]},\"yaxis3\":{\"anchor\":\"x3\",\"domain\":[0.91328125,1.0]},\"xaxis4\":{\"anchor\":\"y4\",\"domain\":[0.38437499999999997,0.48749999999999993]},\"yaxis4\":{\"anchor\":\"x4\",\"domain\":[0.91328125,1.0]},\"xaxis5\":{\"anchor\":\"y5\",\"domain\":[0.5125,0.615625]},\"yaxis5\":{\"anchor\":\"x5\",\"domain\":[0.91328125,1.0]},\"xaxis6\":{\"anchor\":\"y6\",\"domain\":[0.640625,0.74375]},\"yaxis6\":{\"anchor\":\"x6\",\"domain\":[0.91328125,1.0]},\"xaxis7\":{\"anchor\":\"y7\",\"domain\":[0.76875,0.8718750000000001]},\"yaxis7\":{\"anchor\":\"x7\",\"domain\":[0.91328125,1.0]},\"xaxis8\":{\"anchor\":\"y8\",\"domain\":[0.8968750000000001,1.0]},\"yaxis8\":{\"anchor\":\"x8\",\"domain\":[0.91328125,1.0]},\"xaxis9\":{\"anchor\":\"y9\",\"domain\":[0.0,0.103125]},\"yaxis9\":{\"anchor\":\"x9\",\"domain\":[0.7828125,0.8695312500000001]},\"xaxis10\":{\"anchor\":\"y10\",\"domain\":[0.128125,0.23124999999999998]},\"yaxis10\":{\"anchor\":\"x10\",\"domain\":[0.7828125,0.8695312500000001]},\"xaxis11\":{\"anchor\":\"y11\",\"domain\":[0.25625,0.359375]},\"yaxis11\":{\"anchor\":\"x11\",\"domain\":[0.7828125,0.8695312500000001]},\"xaxis12\":{\"anchor\":\"y12\",\"domain\":[0.38437499999999997,0.48749999999999993]},\"yaxis12\":{\"anchor\":\"x12\",\"domain\":[0.7828125,0.8695312500000001]},\"xaxis13\":{\"anchor\":\"y13\",\"domain\":[0.5125,0.615625]},\"yaxis13\":{\"anchor\":\"x13\",\"domain\":[0.7828125,0.8695312500000001]},\"xaxis14\":{\"anchor\":\"y14\",\"domain\":[0.640625,0.74375]},\"yaxis14\":{\"anchor\":\"x14\",\"domain\":[0.7828125,0.8695312500000001]},\"xaxis15\":{\"anchor\":\"y15\",\"domain\":[0.76875,0.8718750000000001]},\"yaxis15\":{\"anchor\":\"x15\",\"domain\":[0.7828125,0.8695312500000001]},\"xaxis16\":{\"anchor\":\"y16\",\"domain\":[0.8968750000000001,1.0]},\"yaxis16\":{\"anchor\":\"x16\",\"domain\":[0.7828125,0.8695312500000001]},\"xaxis17\":{\"anchor\":\"y17\",\"domain\":[0.0,0.103125]},\"yaxis17\":{\"anchor\":\"x17\",\"domain\":[0.65234375,0.7390625]},\"xaxis18\":{\"anchor\":\"y18\",\"domain\":[0.128125,0.23124999999999998]},\"yaxis18\":{\"anchor\":\"x18\",\"domain\":[0.65234375,0.7390625]},\"xaxis19\":{\"anchor\":\"y19\",\"domain\":[0.25625,0.359375]},\"yaxis19\":{\"anchor\":\"x19\",\"domain\":[0.65234375,0.7390625]},\"xaxis20\":{\"anchor\":\"y20\",\"domain\":[0.38437499999999997,0.48749999999999993]},\"yaxis20\":{\"anchor\":\"x20\",\"domain\":[0.65234375,0.7390625]},\"xaxis21\":{\"anchor\":\"y21\",\"domain\":[0.5125,0.615625]},\"yaxis21\":{\"anchor\":\"x21\",\"domain\":[0.65234375,0.7390625]},\"xaxis22\":{\"anchor\":\"y22\",\"domain\":[0.640625,0.74375]},\"yaxis22\":{\"anchor\":\"x22\",\"domain\":[0.65234375,0.7390625]},\"xaxis23\":{\"anchor\":\"y23\",\"domain\":[0.76875,0.8718750000000001]},\"yaxis23\":{\"anchor\":\"x23\",\"domain\":[0.65234375,0.7390625]},\"xaxis24\":{\"anchor\":\"y24\",\"domain\":[0.8968750000000001,1.0]},\"yaxis24\":{\"anchor\":\"x24\",\"domain\":[0.65234375,0.7390625]},\"xaxis25\":{\"anchor\":\"y25\",\"domain\":[0.0,0.103125]},\"yaxis25\":{\"anchor\":\"x25\",\"domain\":[0.5218750000000001,0.60859375]},\"xaxis26\":{\"anchor\":\"y26\",\"domain\":[0.128125,0.23124999999999998]},\"yaxis26\":{\"anchor\":\"x26\",\"domain\":[0.5218750000000001,0.60859375]},\"xaxis27\":{\"anchor\":\"y27\",\"domain\":[0.25625,0.359375]},\"yaxis27\":{\"anchor\":\"x27\",\"domain\":[0.5218750000000001,0.60859375]},\"xaxis28\":{\"anchor\":\"y28\",\"domain\":[0.38437499999999997,0.48749999999999993]},\"yaxis28\":{\"anchor\":\"x28\",\"domain\":[0.5218750000000001,0.60859375]},\"xaxis29\":{\"anchor\":\"y29\",\"domain\":[0.5125,0.615625]},\"yaxis29\":{\"anchor\":\"x29\",\"domain\":[0.5218750000000001,0.60859375]},\"xaxis30\":{\"anchor\":\"y30\",\"domain\":[0.640625,0.74375]},\"yaxis30\":{\"anchor\":\"x30\",\"domain\":[0.5218750000000001,0.60859375]},\"xaxis31\":{\"anchor\":\"y31\",\"domain\":[0.76875,0.8718750000000001]},\"yaxis31\":{\"anchor\":\"x31\",\"domain\":[0.5218750000000001,0.60859375]},\"xaxis32\":{\"anchor\":\"y32\",\"domain\":[0.8968750000000001,1.0]},\"yaxis32\":{\"anchor\":\"x32\",\"domain\":[0.5218750000000001,0.60859375]},\"xaxis33\":{\"anchor\":\"y33\",\"domain\":[0.0,0.103125]},\"yaxis33\":{\"anchor\":\"x33\",\"domain\":[0.39140625,0.478125]},\"xaxis34\":{\"anchor\":\"y34\",\"domain\":[0.128125,0.23124999999999998]},\"yaxis34\":{\"anchor\":\"x34\",\"domain\":[0.39140625,0.478125]},\"xaxis35\":{\"anchor\":\"y35\",\"domain\":[0.25625,0.359375]},\"yaxis35\":{\"anchor\":\"x35\",\"domain\":[0.39140625,0.478125]},\"xaxis36\":{\"anchor\":\"y36\",\"domain\":[0.38437499999999997,0.48749999999999993]},\"yaxis36\":{\"anchor\":\"x36\",\"domain\":[0.39140625,0.478125]},\"xaxis37\":{\"anchor\":\"y37\",\"domain\":[0.5125,0.615625]},\"yaxis37\":{\"anchor\":\"x37\",\"domain\":[0.39140625,0.478125]},\"xaxis38\":{\"anchor\":\"y38\",\"domain\":[0.640625,0.74375]},\"yaxis38\":{\"anchor\":\"x38\",\"domain\":[0.39140625,0.478125]},\"xaxis39\":{\"anchor\":\"y39\",\"domain\":[0.76875,0.8718750000000001]},\"yaxis39\":{\"anchor\":\"x39\",\"domain\":[0.39140625,0.478125]},\"xaxis40\":{\"anchor\":\"y40\",\"domain\":[0.8968750000000001,1.0]},\"yaxis40\":{\"anchor\":\"x40\",\"domain\":[0.39140625,0.478125]},\"xaxis41\":{\"anchor\":\"y41\",\"domain\":[0.0,0.103125]},\"yaxis41\":{\"anchor\":\"x41\",\"domain\":[0.26093750000000004,0.34765625000000006]},\"xaxis42\":{\"anchor\":\"y42\",\"domain\":[0.128125,0.23124999999999998]},\"yaxis42\":{\"anchor\":\"x42\",\"domain\":[0.26093750000000004,0.34765625000000006]},\"xaxis43\":{\"anchor\":\"y43\",\"domain\":[0.25625,0.359375]},\"yaxis43\":{\"anchor\":\"x43\",\"domain\":[0.26093750000000004,0.34765625000000006]},\"xaxis44\":{\"anchor\":\"y44\",\"domain\":[0.38437499999999997,0.48749999999999993]},\"yaxis44\":{\"anchor\":\"x44\",\"domain\":[0.26093750000000004,0.34765625000000006]},\"xaxis45\":{\"anchor\":\"y45\",\"domain\":[0.5125,0.615625]},\"yaxis45\":{\"anchor\":\"x45\",\"domain\":[0.26093750000000004,0.34765625000000006]},\"xaxis46\":{\"anchor\":\"y46\",\"domain\":[0.640625,0.74375]},\"yaxis46\":{\"anchor\":\"x46\",\"domain\":[0.26093750000000004,0.34765625000000006]},\"xaxis47\":{\"anchor\":\"y47\",\"domain\":[0.76875,0.8718750000000001]},\"yaxis47\":{\"anchor\":\"x47\",\"domain\":[0.26093750000000004,0.34765625000000006]},\"xaxis48\":{\"anchor\":\"y48\",\"domain\":[0.8968750000000001,1.0]},\"yaxis48\":{\"anchor\":\"x48\",\"domain\":[0.26093750000000004,0.34765625000000006]},\"xaxis49\":{\"anchor\":\"y49\",\"domain\":[0.0,0.103125]},\"yaxis49\":{\"anchor\":\"x49\",\"domain\":[0.13046875000000002,0.21718750000000003]},\"xaxis50\":{\"anchor\":\"y50\",\"domain\":[0.128125,0.23124999999999998]},\"yaxis50\":{\"anchor\":\"x50\",\"domain\":[0.13046875000000002,0.21718750000000003]},\"xaxis51\":{\"anchor\":\"y51\",\"domain\":[0.25625,0.359375]},\"yaxis51\":{\"anchor\":\"x51\",\"domain\":[0.13046875000000002,0.21718750000000003]},\"xaxis52\":{\"anchor\":\"y52\",\"domain\":[0.38437499999999997,0.48749999999999993]},\"yaxis52\":{\"anchor\":\"x52\",\"domain\":[0.13046875000000002,0.21718750000000003]},\"xaxis53\":{\"anchor\":\"y53\",\"domain\":[0.5125,0.615625]},\"yaxis53\":{\"anchor\":\"x53\",\"domain\":[0.13046875000000002,0.21718750000000003]},\"xaxis54\":{\"anchor\":\"y54\",\"domain\":[0.640625,0.74375]},\"yaxis54\":{\"anchor\":\"x54\",\"domain\":[0.13046875000000002,0.21718750000000003]},\"xaxis55\":{\"anchor\":\"y55\",\"domain\":[0.76875,0.8718750000000001]},\"yaxis55\":{\"anchor\":\"x55\",\"domain\":[0.13046875000000002,0.21718750000000003]},\"xaxis56\":{\"anchor\":\"y56\",\"domain\":[0.8968750000000001,1.0]},\"yaxis56\":{\"anchor\":\"x56\",\"domain\":[0.13046875000000002,0.21718750000000003]},\"xaxis57\":{\"anchor\":\"y57\",\"domain\":[0.0,0.103125]},\"yaxis57\":{\"anchor\":\"x57\",\"domain\":[0.0,0.08671875000000001]},\"xaxis58\":{\"anchor\":\"y58\",\"domain\":[0.128125,0.23124999999999998]},\"yaxis58\":{\"anchor\":\"x58\",\"domain\":[0.0,0.08671875000000001]},\"xaxis59\":{\"anchor\":\"y59\",\"domain\":[0.25625,0.359375]},\"yaxis59\":{\"anchor\":\"x59\",\"domain\":[0.0,0.08671875000000001]},\"xaxis60\":{\"anchor\":\"y60\",\"domain\":[0.38437499999999997,0.48749999999999993]},\"yaxis60\":{\"anchor\":\"x60\",\"domain\":[0.0,0.08671875000000001]},\"xaxis61\":{\"anchor\":\"y61\",\"domain\":[0.5125,0.615625]},\"yaxis61\":{\"anchor\":\"x61\",\"domain\":[0.0,0.08671875000000001]},\"xaxis62\":{\"anchor\":\"y62\",\"domain\":[0.640625,0.74375]},\"yaxis62\":{\"anchor\":\"x62\",\"domain\":[0.0,0.08671875000000001]},\"xaxis63\":{\"anchor\":\"y63\",\"domain\":[0.76875,0.8718750000000001]},\"yaxis63\":{\"anchor\":\"x63\",\"domain\":[0.0,0.08671875000000001]},\"xaxis64\":{\"anchor\":\"y64\",\"domain\":[0.8968750000000001,1.0]},\"yaxis64\":{\"anchor\":\"x64\",\"domain\":[0.0,0.08671875000000001]},\"annotations\":[{\"font\":{\"size\":16},\"showarrow\":false,\"text\":\"Layer 0, Head 0\",\"x\":0.0515625,\"xanchor\":\"center\",\"xref\":\"paper\",\"y\":1.0,\"yanchor\":\"bottom\",\"yref\":\"paper\"},{\"font\":{\"size\":16},\"showarrow\":false,\"text\":\"Layer 0, Head 1\",\"x\":0.1796875,\"xanchor\":\"center\",\"xref\":\"paper\",\"y\":1.0,\"yanchor\":\"bottom\",\"yref\":\"paper\"},{\"font\":{\"size\":16},\"showarrow\":false,\"text\":\"Layer 0, Head 2\",\"x\":0.3078125,\"xanchor\":\"center\",\"xref\":\"paper\",\"y\":1.0,\"yanchor\":\"bottom\",\"yref\":\"paper\"},{\"font\":{\"size\":16},\"showarrow\":false,\"text\":\"Layer 0, Head 3\",\"x\":0.4359375,\"xanchor\":\"center\",\"xref\":\"paper\",\"y\":1.0,\"yanchor\":\"bottom\",\"yref\":\"paper\"},{\"font\":{\"size\":16},\"showarrow\":false,\"text\":\"Layer 0, Head 4\",\"x\":0.5640624999999999,\"xanchor\":\"center\",\"xref\":\"paper\",\"y\":1.0,\"yanchor\":\"bottom\",\"yref\":\"paper\"},{\"font\":{\"size\":16},\"showarrow\":false,\"text\":\"Layer 0, Head 5\",\"x\":0.6921875,\"xanchor\":\"center\",\"xref\":\"paper\",\"y\":1.0,\"yanchor\":\"bottom\",\"yref\":\"paper\"},{\"font\":{\"size\":16},\"showarrow\":false,\"text\":\"Layer 0, Head 6\",\"x\":0.8203125,\"xanchor\":\"center\",\"xref\":\"paper\",\"y\":1.0,\"yanchor\":\"bottom\",\"yref\":\"paper\"},{\"font\":{\"size\":16},\"showarrow\":false,\"text\":\"Layer 0, Head 7\",\"x\":0.9484375,\"xanchor\":\"center\",\"xref\":\"paper\",\"y\":1.0,\"yanchor\":\"bottom\",\"yref\":\"paper\"},{\"font\":{\"size\":16},\"showarrow\":false,\"text\":\"Layer 1, Head 0\",\"x\":0.0515625,\"xanchor\":\"center\",\"xref\":\"paper\",\"y\":0.8695312500000001,\"yanchor\":\"bottom\",\"yref\":\"paper\"},{\"font\":{\"size\":16},\"showarrow\":false,\"text\":\"Layer 1, Head 1\",\"x\":0.1796875,\"xanchor\":\"center\",\"xref\":\"paper\",\"y\":0.8695312500000001,\"yanchor\":\"bottom\",\"yref\":\"paper\"},{\"font\":{\"size\":16},\"showarrow\":false,\"text\":\"Layer 1, Head 2\",\"x\":0.3078125,\"xanchor\":\"center\",\"xref\":\"paper\",\"y\":0.8695312500000001,\"yanchor\":\"bottom\",\"yref\":\"paper\"},{\"font\":{\"size\":16},\"showarrow\":false,\"text\":\"Layer 1, Head 3\",\"x\":0.4359375,\"xanchor\":\"center\",\"xref\":\"paper\",\"y\":0.8695312500000001,\"yanchor\":\"bottom\",\"yref\":\"paper\"},{\"font\":{\"size\":16},\"showarrow\":false,\"text\":\"Layer 1, Head 4\",\"x\":0.5640624999999999,\"xanchor\":\"center\",\"xref\":\"paper\",\"y\":0.8695312500000001,\"yanchor\":\"bottom\",\"yref\":\"paper\"},{\"font\":{\"size\":16},\"showarrow\":false,\"text\":\"Layer 1, Head 5\",\"x\":0.6921875,\"xanchor\":\"center\",\"xref\":\"paper\",\"y\":0.8695312500000001,\"yanchor\":\"bottom\",\"yref\":\"paper\"},{\"font\":{\"size\":16},\"showarrow\":false,\"text\":\"Layer 1, Head 6\",\"x\":0.8203125,\"xanchor\":\"center\",\"xref\":\"paper\",\"y\":0.8695312500000001,\"yanchor\":\"bottom\",\"yref\":\"paper\"},{\"font\":{\"size\":16},\"showarrow\":false,\"text\":\"Layer 1, Head 7\",\"x\":0.9484375,\"xanchor\":\"center\",\"xref\":\"paper\",\"y\":0.8695312500000001,\"yanchor\":\"bottom\",\"yref\":\"paper\"},{\"font\":{\"size\":16},\"showarrow\":false,\"text\":\"Layer 2, Head 0\",\"x\":0.0515625,\"xanchor\":\"center\",\"xref\":\"paper\",\"y\":0.7390625,\"yanchor\":\"bottom\",\"yref\":\"paper\"},{\"font\":{\"size\":16},\"showarrow\":false,\"text\":\"Layer 2, Head 1\",\"x\":0.1796875,\"xanchor\":\"center\",\"xref\":\"paper\",\"y\":0.7390625,\"yanchor\":\"bottom\",\"yref\":\"paper\"},{\"font\":{\"size\":16},\"showarrow\":false,\"text\":\"Layer 2, Head 2\",\"x\":0.3078125,\"xanchor\":\"center\",\"xref\":\"paper\",\"y\":0.7390625,\"yanchor\":\"bottom\",\"yref\":\"paper\"},{\"font\":{\"size\":16},\"showarrow\":false,\"text\":\"Layer 2, Head 3\",\"x\":0.4359375,\"xanchor\":\"center\",\"xref\":\"paper\",\"y\":0.7390625,\"yanchor\":\"bottom\",\"yref\":\"paper\"},{\"font\":{\"size\":16},\"showarrow\":false,\"text\":\"Layer 2, Head 4\",\"x\":0.5640624999999999,\"xanchor\":\"center\",\"xref\":\"paper\",\"y\":0.7390625,\"yanchor\":\"bottom\",\"yref\":\"paper\"},{\"font\":{\"size\":16},\"showarrow\":false,\"text\":\"Layer 2, Head 5\",\"x\":0.6921875,\"xanchor\":\"center\",\"xref\":\"paper\",\"y\":0.7390625,\"yanchor\":\"bottom\",\"yref\":\"paper\"},{\"font\":{\"size\":16},\"showarrow\":false,\"text\":\"Layer 2, Head 6\",\"x\":0.8203125,\"xanchor\":\"center\",\"xref\":\"paper\",\"y\":0.7390625,\"yanchor\":\"bottom\",\"yref\":\"paper\"},{\"font\":{\"size\":16},\"showarrow\":false,\"text\":\"Layer 2, Head 7\",\"x\":0.9484375,\"xanchor\":\"center\",\"xref\":\"paper\",\"y\":0.7390625,\"yanchor\":\"bottom\",\"yref\":\"paper\"},{\"font\":{\"size\":16},\"showarrow\":false,\"text\":\"Layer 3, Head 0\",\"x\":0.0515625,\"xanchor\":\"center\",\"xref\":\"paper\",\"y\":0.60859375,\"yanchor\":\"bottom\",\"yref\":\"paper\"},{\"font\":{\"size\":16},\"showarrow\":false,\"text\":\"Layer 3, Head 1\",\"x\":0.1796875,\"xanchor\":\"center\",\"xref\":\"paper\",\"y\":0.60859375,\"yanchor\":\"bottom\",\"yref\":\"paper\"},{\"font\":{\"size\":16},\"showarrow\":false,\"text\":\"Layer 3, Head 2\",\"x\":0.3078125,\"xanchor\":\"center\",\"xref\":\"paper\",\"y\":0.60859375,\"yanchor\":\"bottom\",\"yref\":\"paper\"},{\"font\":{\"size\":16},\"showarrow\":false,\"text\":\"Layer 3, Head 3\",\"x\":0.4359375,\"xanchor\":\"center\",\"xref\":\"paper\",\"y\":0.60859375,\"yanchor\":\"bottom\",\"yref\":\"paper\"},{\"font\":{\"size\":16},\"showarrow\":false,\"text\":\"Layer 3, Head 4\",\"x\":0.5640624999999999,\"xanchor\":\"center\",\"xref\":\"paper\",\"y\":0.60859375,\"yanchor\":\"bottom\",\"yref\":\"paper\"},{\"font\":{\"size\":16},\"showarrow\":false,\"text\":\"Layer 3, Head 5\",\"x\":0.6921875,\"xanchor\":\"center\",\"xref\":\"paper\",\"y\":0.60859375,\"yanchor\":\"bottom\",\"yref\":\"paper\"},{\"font\":{\"size\":16},\"showarrow\":false,\"text\":\"Layer 3, Head 6\",\"x\":0.8203125,\"xanchor\":\"center\",\"xref\":\"paper\",\"y\":0.60859375,\"yanchor\":\"bottom\",\"yref\":\"paper\"},{\"font\":{\"size\":16},\"showarrow\":false,\"text\":\"Layer 3, Head 7\",\"x\":0.9484375,\"xanchor\":\"center\",\"xref\":\"paper\",\"y\":0.60859375,\"yanchor\":\"bottom\",\"yref\":\"paper\"},{\"font\":{\"size\":16},\"showarrow\":false,\"text\":\"Layer 4, Head 0\",\"x\":0.0515625,\"xanchor\":\"center\",\"xref\":\"paper\",\"y\":0.478125,\"yanchor\":\"bottom\",\"yref\":\"paper\"},{\"font\":{\"size\":16},\"showarrow\":false,\"text\":\"Layer 4, Head 1\",\"x\":0.1796875,\"xanchor\":\"center\",\"xref\":\"paper\",\"y\":0.478125,\"yanchor\":\"bottom\",\"yref\":\"paper\"},{\"font\":{\"size\":16},\"showarrow\":false,\"text\":\"Layer 4, Head 2\",\"x\":0.3078125,\"xanchor\":\"center\",\"xref\":\"paper\",\"y\":0.478125,\"yanchor\":\"bottom\",\"yref\":\"paper\"},{\"font\":{\"size\":16},\"showarrow\":false,\"text\":\"Layer 4, Head 3\",\"x\":0.4359375,\"xanchor\":\"center\",\"xref\":\"paper\",\"y\":0.478125,\"yanchor\":\"bottom\",\"yref\":\"paper\"},{\"font\":{\"size\":16},\"showarrow\":false,\"text\":\"Layer 4, Head 4\",\"x\":0.5640624999999999,\"xanchor\":\"center\",\"xref\":\"paper\",\"y\":0.478125,\"yanchor\":\"bottom\",\"yref\":\"paper\"},{\"font\":{\"size\":16},\"showarrow\":false,\"text\":\"Layer 4, Head 5\",\"x\":0.6921875,\"xanchor\":\"center\",\"xref\":\"paper\",\"y\":0.478125,\"yanchor\":\"bottom\",\"yref\":\"paper\"},{\"font\":{\"size\":16},\"showarrow\":false,\"text\":\"Layer 4, Head 6\",\"x\":0.8203125,\"xanchor\":\"center\",\"xref\":\"paper\",\"y\":0.478125,\"yanchor\":\"bottom\",\"yref\":\"paper\"},{\"font\":{\"size\":16},\"showarrow\":false,\"text\":\"Layer 4, Head 7\",\"x\":0.9484375,\"xanchor\":\"center\",\"xref\":\"paper\",\"y\":0.478125,\"yanchor\":\"bottom\",\"yref\":\"paper\"},{\"font\":{\"size\":16},\"showarrow\":false,\"text\":\"Layer 5, Head 0\",\"x\":0.0515625,\"xanchor\":\"center\",\"xref\":\"paper\",\"y\":0.34765625000000006,\"yanchor\":\"bottom\",\"yref\":\"paper\"},{\"font\":{\"size\":16},\"showarrow\":false,\"text\":\"Layer 5, Head 1\",\"x\":0.1796875,\"xanchor\":\"center\",\"xref\":\"paper\",\"y\":0.34765625000000006,\"yanchor\":\"bottom\",\"yref\":\"paper\"},{\"font\":{\"size\":16},\"showarrow\":false,\"text\":\"Layer 5, Head 2\",\"x\":0.3078125,\"xanchor\":\"center\",\"xref\":\"paper\",\"y\":0.34765625000000006,\"yanchor\":\"bottom\",\"yref\":\"paper\"},{\"font\":{\"size\":16},\"showarrow\":false,\"text\":\"Layer 5, Head 3\",\"x\":0.4359375,\"xanchor\":\"center\",\"xref\":\"paper\",\"y\":0.34765625000000006,\"yanchor\":\"bottom\",\"yref\":\"paper\"},{\"font\":{\"size\":16},\"showarrow\":false,\"text\":\"Layer 5, Head 4\",\"x\":0.5640624999999999,\"xanchor\":\"center\",\"xref\":\"paper\",\"y\":0.34765625000000006,\"yanchor\":\"bottom\",\"yref\":\"paper\"},{\"font\":{\"size\":16},\"showarrow\":false,\"text\":\"Layer 5, Head 5\",\"x\":0.6921875,\"xanchor\":\"center\",\"xref\":\"paper\",\"y\":0.34765625000000006,\"yanchor\":\"bottom\",\"yref\":\"paper\"},{\"font\":{\"size\":16},\"showarrow\":false,\"text\":\"Layer 5, Head 6\",\"x\":0.8203125,\"xanchor\":\"center\",\"xref\":\"paper\",\"y\":0.34765625000000006,\"yanchor\":\"bottom\",\"yref\":\"paper\"},{\"font\":{\"size\":16},\"showarrow\":false,\"text\":\"Layer 5, Head 7\",\"x\":0.9484375,\"xanchor\":\"center\",\"xref\":\"paper\",\"y\":0.34765625000000006,\"yanchor\":\"bottom\",\"yref\":\"paper\"},{\"font\":{\"size\":16},\"showarrow\":false,\"text\":\"Layer 6, Head 0\",\"x\":0.0515625,\"xanchor\":\"center\",\"xref\":\"paper\",\"y\":0.21718750000000003,\"yanchor\":\"bottom\",\"yref\":\"paper\"},{\"font\":{\"size\":16},\"showarrow\":false,\"text\":\"Layer 6, Head 1\",\"x\":0.1796875,\"xanchor\":\"center\",\"xref\":\"paper\",\"y\":0.21718750000000003,\"yanchor\":\"bottom\",\"yref\":\"paper\"},{\"font\":{\"size\":16},\"showarrow\":false,\"text\":\"Layer 6, Head 2\",\"x\":0.3078125,\"xanchor\":\"center\",\"xref\":\"paper\",\"y\":0.21718750000000003,\"yanchor\":\"bottom\",\"yref\":\"paper\"},{\"font\":{\"size\":16},\"showarrow\":false,\"text\":\"Layer 6, Head 3\",\"x\":0.4359375,\"xanchor\":\"center\",\"xref\":\"paper\",\"y\":0.21718750000000003,\"yanchor\":\"bottom\",\"yref\":\"paper\"},{\"font\":{\"size\":16},\"showarrow\":false,\"text\":\"Layer 6, Head 4\",\"x\":0.5640624999999999,\"xanchor\":\"center\",\"xref\":\"paper\",\"y\":0.21718750000000003,\"yanchor\":\"bottom\",\"yref\":\"paper\"},{\"font\":{\"size\":16},\"showarrow\":false,\"text\":\"Layer 6, Head 5\",\"x\":0.6921875,\"xanchor\":\"center\",\"xref\":\"paper\",\"y\":0.21718750000000003,\"yanchor\":\"bottom\",\"yref\":\"paper\"},{\"font\":{\"size\":16},\"showarrow\":false,\"text\":\"Layer 6, Head 6\",\"x\":0.8203125,\"xanchor\":\"center\",\"xref\":\"paper\",\"y\":0.21718750000000003,\"yanchor\":\"bottom\",\"yref\":\"paper\"},{\"font\":{\"size\":16},\"showarrow\":false,\"text\":\"Layer 6, Head 7\",\"x\":0.9484375,\"xanchor\":\"center\",\"xref\":\"paper\",\"y\":0.21718750000000003,\"yanchor\":\"bottom\",\"yref\":\"paper\"},{\"font\":{\"size\":16},\"showarrow\":false,\"text\":\"Layer 7, Head 0\",\"x\":0.0515625,\"xanchor\":\"center\",\"xref\":\"paper\",\"y\":0.08671875000000001,\"yanchor\":\"bottom\",\"yref\":\"paper\"},{\"font\":{\"size\":16},\"showarrow\":false,\"text\":\"Layer 7, Head 1\",\"x\":0.1796875,\"xanchor\":\"center\",\"xref\":\"paper\",\"y\":0.08671875000000001,\"yanchor\":\"bottom\",\"yref\":\"paper\"},{\"font\":{\"size\":16},\"showarrow\":false,\"text\":\"Layer 7, Head 2\",\"x\":0.3078125,\"xanchor\":\"center\",\"xref\":\"paper\",\"y\":0.08671875000000001,\"yanchor\":\"bottom\",\"yref\":\"paper\"},{\"font\":{\"size\":16},\"showarrow\":false,\"text\":\"Layer 7, Head 3\",\"x\":0.4359375,\"xanchor\":\"center\",\"xref\":\"paper\",\"y\":0.08671875000000001,\"yanchor\":\"bottom\",\"yref\":\"paper\"},{\"font\":{\"size\":16},\"showarrow\":false,\"text\":\"Layer 7, Head 4\",\"x\":0.5640624999999999,\"xanchor\":\"center\",\"xref\":\"paper\",\"y\":0.08671875000000001,\"yanchor\":\"bottom\",\"yref\":\"paper\"},{\"font\":{\"size\":16},\"showarrow\":false,\"text\":\"Layer 7, Head 5\",\"x\":0.6921875,\"xanchor\":\"center\",\"xref\":\"paper\",\"y\":0.08671875000000001,\"yanchor\":\"bottom\",\"yref\":\"paper\"},{\"font\":{\"size\":16},\"showarrow\":false,\"text\":\"Layer 7, Head 6\",\"x\":0.8203125,\"xanchor\":\"center\",\"xref\":\"paper\",\"y\":0.08671875000000001,\"yanchor\":\"bottom\",\"yref\":\"paper\"},{\"font\":{\"size\":16},\"showarrow\":false,\"text\":\"Layer 7, Head 7\",\"x\":0.9484375,\"xanchor\":\"center\",\"xref\":\"paper\",\"y\":0.08671875000000001,\"yanchor\":\"bottom\",\"yref\":\"paper\"}],\"margin\":{\"t\":100},\"title\":{\"text\":\"How much does each Head add to the Mine vs Yours direction, when Flipped\"},\"width\":1600,\"height\":1600},                        {\"responsive\": true}                    ).then(function(){\n",
       "                            \n",
       "var gd = document.getElementById('b9dd6f93-5194-47e6-9d65-31a4dcd7b2b0');\n",
       "var x = new MutationObserver(function (mutations, observer) {{\n",
       "        var display = window.getComputedStyle(gd).display;\n",
       "        if (!display || display === 'none') {{\n",
       "            console.log([gd, 'removed!']);\n",
       "            Plotly.purge(gd);\n",
       "            observer.disconnect();\n",
       "        }}\n",
       "}});\n",
       "\n",
       "// Listen for the removal of the full notebook cells\n",
       "var notebookContainer = gd.closest('#notebook-container');\n",
       "if (notebookContainer) {{\n",
       "    x.observe(notebookContainer, {childList: true});\n",
       "}}\n",
       "\n",
       "// Listen for the clearing of the current output cell\n",
       "var outputEl = gd.closest('.output');\n",
       "if (outputEl) {{\n",
       "    x.observe(outputEl, {childList: true});\n",
       "}}\n",
       "\n",
       "                        })                };                });            </script>        </div>"
      ]
     },
     "metadata": {},
     "output_type": "display_data"
    }
   ],
   "source": [
    "mine_vs_yours : Float[Tensor, \"layer head rows cols\"] = t.zeros((8, 8, 8, 8))\n",
    "\n",
    "for layer in range(1, 8):\n",
    "    similiarity_of_mine_and_flipped = 0\n",
    "    for head in range(8):\n",
    "        positions = list(range(0, 64))\n",
    "        linear_probe_this_layer = linear_probes[layer]\n",
    "        linear_probe_prev_layer = linear_probes[layer - 1]\n",
    "        flipped_probe_prev_layer = flipped_probes[layer - 1]\n",
    "        OV_layer_head = OV.AB[layer, head].detach()\n",
    "        # mine_vs_yours = t.zeros((8, 8))\n",
    "        for pos_str in positions:\n",
    "            # pos_str = to_string(pos_int)\n",
    "            tile = string_to_tile(pos_str)\n",
    "            pos_empty = linear_probe_this_layer[0, :, *tile, EMPTY]\n",
    "            pos_mine = linear_probe_this_layer[0, :, *tile, MINE]\n",
    "            pos_yours = linear_probe_this_layer[0, :, *tile, YOURS]\n",
    "            pos_flipped_prev = flipped_probe_prev_layer[0, :, *tile, FLIPPED]\n",
    "            # pos_emb = W_E[pos_int, :].detach()\n",
    "            random = t.rand(512).to(device)\n",
    "            pos_mine_prev = linear_probe_prev_layer[0, :, *tile, MINE]\n",
    "            result = einops.einsum(pos_mine_prev, OV_layer_head, \"d_model_in, d_model_in d_model_out -> d_model_out\")\n",
    "            result_flipped = einops.einsum(pos_flipped_prev, OV_layer_head, \"d_model_in, d_model_in d_model_out -> d_model_out\")\n",
    "            result_with_flipped = einops.einsum(pos_mine_prev + pos_flipped_prev, OV_layer_head, \"d_model_in, d_model_in d_model_out -> d_model_out\")\n",
    "            result_random = einops.einsum(random, OV_layer_head, \"d_model_in, d_model_in d_model_out -> d_model_out\")\n",
    "            result_flipped_without_mine = einops.einsum(pos_flipped_prev - pos_mine_prev, OV_layer_head, \"d_model_in, d_model_in d_model_out -> d_model_out\")\n",
    "            # mine_vs_yours[head, layer, *tile] = t.dot(result, pos_mine) - t.dot(result, pos_yours)\n",
    "            # use cosine_similiarity\n",
    "            mine_vs_yours[head, layer, *tile] = cosine_similiarity(result_flipped, pos_mine) # - cosine_similiarity(result, pos_mine)\n",
    "\n",
    "            # calculate cosine similiarity between pos_mine_prev and flipped_prev\n",
    "            sim = cosine_similiarity(pos_mine_prev, pos_flipped_prev)\n",
    "            similiarity_of_mine_and_flipped += sim\n",
    "    similiarity_of_mine_and_flipped /= 64 * 8\n",
    "    print(f\"Layer {layer}: {similiarity_of_mine_and_flipped}\")\n",
    "\n",
    "plot_boards_general(x_labels=[f\"Head {i}\" for i in range(8)], y_labels=[f\"Layer {i}\" for i in range(8)], boards=mine_vs_yours, title_text = \"How much does each Head add to the Mine vs Yours direction, when Flipped\", save=False)"
   ]
  }
 ],
 "metadata": {
  "kernelspec": {
   "display_name": "othello-env",
   "language": "python",
   "name": "python3"
  },
  "language_info": {
   "codemirror_mode": {
    "name": "ipython",
    "version": 3
   },
   "file_extension": ".py",
   "mimetype": "text/x-python",
   "name": "python",
   "nbconvert_exporter": "python",
   "pygments_lexer": "ipython3",
   "version": "3.11.9"
  }
 },
 "nbformat": 4,
 "nbformat_minor": 2
}
