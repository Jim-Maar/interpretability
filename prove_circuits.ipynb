{
 "cells": [
  {
   "cell_type": "markdown",
   "metadata": {},
   "source": [
    "# Setup"
   ]
  },
  {
   "cell_type": "code",
   "execution_count": 2,
   "metadata": {},
   "outputs": [
    {
     "name": "stderr",
     "output_type": "stream",
     "text": [
      "/hpi/fs00/home/jim.maar/miniconda3/envs/othello-env/lib/python3.11/site-packages/accelerate/utils/imports.py:274: UserWarning: `ACCELERATE_DISABLE_RICH` is deprecated and will be removed in v0.22.0 and deactivated by default. Please use `ACCELERATE_ENABLE_RICH` if you wish to use `rich`.\n",
      "  warnings.warn(\n"
     ]
    },
    {
     "name": "stdout",
     "output_type": "stream",
     "text": [
      "interpretability\n",
      "interpretability\n",
      "focus states: (50, 60, 8, 8)\n",
      "focus_valid_moves (50, 60, 64)\n"
     ]
    }
   ],
   "source": [
    "import os, sys\n",
    "chapter = \"chapter1_transformer_interp\"\n",
    "repo = \"ARENA_3.0\"\n",
    "chapter_dir = r\"./\" if chapter in os.listdir() else os.getcwd().split(chapter)[0]\n",
    "sys.path.append(chapter_dir + f\"{chapter}/exercises\")\n",
    "\n",
    "import os\n",
    "os.environ[\"ACCELERATE_DISABLE_RICH\"] = \"1\"\n",
    "import sys\n",
    "import torch as t\n",
    "import torch.nn as nn\n",
    "import torch.nn.functional as F\n",
    "import torch.optim as optim\n",
    "from torch import Tensor\n",
    "from torch.utils.data import DataLoader\n",
    "import numpy as np\n",
    "import einops\n",
    "from ipywidgets import interact\n",
    "import plotly.express as px\n",
    "from ipywidgets import interact\n",
    "from pathlib import Path\n",
    "import itertools\n",
    "import random\n",
    "from IPython.display import display\n",
    "from jaxtyping import Float, Int, Bool, Shaped, jaxtyped\n",
    "from typing import List, Union, Optional, Tuple, Callable, Dict\n",
    "import typeguard\n",
    "from functools import partial\n",
    "# from torcheval.metrics.functional import multiclass_f1_score\n",
    "from sklearn.metrics import f1_score as multiclass_f1_score\n",
    "import copy\n",
    "from transformers import AutoModelForCausalLM, AutoConfig, AutoTokenizer\n",
    "import dataclasses\n",
    "import datasets\n",
    "from IPython.display import HTML\n",
    "import transformer_lens\n",
    "import transformer_lens.utils as utils\n",
    "from transformer_lens.hook_points import HookedRootModule, HookPoint\n",
    "from transformer_lens import HookedTransformer, HookedTransformerConfig, FactoredMatrix, ActivationCache\n",
    "from tqdm.notebook import tqdm\n",
    "from dataclasses import dataclass\n",
    "from rich import print as rprint\n",
    "import pandas as pd\n",
    "\n",
    "# Make sure exercises are in the path\n",
    "# exercises_dir = Path(f\"{os.getcwd().split(chapter)[0]}/{chapter}/exercises\").resolve()\n",
    "# section_dir = exercises_dir / \"part6_othellogpt\"\n",
    "# section_dir = \"interpretability\"\n",
    "# if str(exercises_dir) not in sys.path: sys.path.append(str(exercises_dir))\n",
    "\n",
    "from plotly_utils import imshow\n",
    "from neel_plotly import scatter, line\n",
    "from generate_patches import generate_patch\n",
    "from pprint import pprint\n",
    "from utils import plot_game\n",
    "from training_utils import get_state_stack_num_flipped\n",
    "from utils import plot_probe_outputs\n",
    "from utils import seq_to_state_stack\n",
    "from utils import VisualzeBoardArguments\n",
    "from utils import visualize_game\n",
    "\n",
    "import plotly.graph_objects as go\n",
    "from plotly.subplots import make_subplots\n",
    "from utils import plot_boards_general\n",
    "import numpy as np\n",
    "import pickle\n",
    "\n",
    "# import part6_othellogpt.tests as tests\n",
    "\n",
    "t.manual_seed(42)\n",
    "\n",
    "device = t.device(\"cuda\" if t.cuda.is_available() else \"cpu\")\n",
    "\n",
    "MAIN = __name__ == \"__main__\"\n",
    "\n",
    "cfg = HookedTransformerConfig(\n",
    "    n_layers = 8,\n",
    "    d_model = 512,\n",
    "    d_head = 64,\n",
    "    n_heads = 8,\n",
    "    d_mlp = 2048,\n",
    "    d_vocab = 61,\n",
    "    n_ctx = 59,\n",
    "    act_fn=\"gelu\",\n",
    "    normalization_type=\"LNPre\",\n",
    "    device=device,\n",
    ")\n",
    "model = HookedTransformer(cfg)\n",
    "\n",
    "sd = utils.download_file_from_hf(\"NeelNanda/Othello-GPT-Transformer-Lens\", \"synthetic_model.pth\")\n",
    "# champion_ship_sd = utils.download_file_from_hf(\"NeelNanda/Othello-GPT-Transformer-Lens\", \"championship_model.pth\")\n",
    "model.load_state_dict(sd)\n",
    "\n",
    "# An example input\n",
    "sample_input = t.tensor([[\n",
    "    20, 19, 18, 10,  2,  1, 27,  3, 41, 42, 34, 12,  4, 40, 11, 29, 43, 13, 48, 56,\n",
    "    33, 39, 22, 44, 24,  5, 46,  6, 32, 36, 51, 58, 52, 60, 21, 53, 26, 31, 37,  9,\n",
    "    25, 38, 23, 50, 45, 17, 47, 28, 35, 30, 54, 16, 59, 49, 57, 14, 15, 55, 7\n",
    "]]).to(device)\n",
    "\n",
    "# The argmax of the output (ie the most likely next move from each position)\n",
    "sample_output = t.tensor([[\n",
    "    21, 41, 40, 34, 40, 41,  3, 11, 21, 43, 40, 21, 28, 50, 33, 50, 33,  5, 33,  5,\n",
    "    52, 46, 14, 46, 14, 47, 38, 57, 36, 50, 38, 15, 28, 26, 28, 59, 50, 28, 14, 28,\n",
    "    28, 28, 28, 45, 28, 35, 15, 14, 30, 59, 49, 59, 15, 15, 14, 15,  8,  7,  8\n",
    "]]).to(device)\n",
    "\n",
    "assert (model(sample_input).argmax(dim=-1) == sample_output.to(device)).all()\n",
    "\n",
    "# os.chdir(section_dir)\n",
    "section_dir = Path.cwd()\n",
    "sys.path.append(str(section_dir))\n",
    "print(section_dir.name)\n",
    "\n",
    "OTHELLO_ROOT = (section_dir / \"othello_world\").resolve()\n",
    "OTHELLO_MECHINT_ROOT = (OTHELLO_ROOT / \"mechanistic_interpretability\").resolve()\n",
    "\n",
    "# if not OTHELLO_ROOT.exists():\n",
    "#     !git clone https://github.com/likenneth/othello_world\n",
    "\n",
    "sys.path.append(str(OTHELLO_MECHINT_ROOT))\n",
    "\n",
    "from mech_interp_othello_utils import (\n",
    "    plot_board,\n",
    "    plot_single_board,\n",
    "    plot_board_log_probs,\n",
    "    to_string,\n",
    "    to_int,\n",
    "    int_to_label,\n",
    "    string_to_label,\n",
    "    OthelloBoardState\n",
    ")\n",
    "\n",
    "# Load board data as ints (i.e. 0 to 60)\n",
    "board_seqs_int = t.tensor(np.load(OTHELLO_MECHINT_ROOT / \"board_seqs_int_small.npy\"), dtype=t.long)\n",
    "# Load board data as \"strings\" (i.e. 0 to 63 with middle squares skipped out)\n",
    "board_seqs_string = t.tensor(np.load(OTHELLO_MECHINT_ROOT / \"board_seqs_string_small.npy\"), dtype=t.long)\n",
    "\n",
    "assert all([middle_sq not in board_seqs_string for middle_sq in [27, 28, 35, 36]])\n",
    "assert board_seqs_int.max() == 60\n",
    "\n",
    "num_games, length_of_game = board_seqs_int.shape\n",
    "\n",
    "# Define possible indices (excluding the four center squares)\n",
    "stoi_indices = [i for i in range(64) if i not in [27, 28, 35, 36]]\n",
    "\n",
    "# Define our rows, and the function that converts an index into a (row, column) label, e.g. `E2`\n",
    "alpha = \"ABCDEFGH\"\n",
    "\n",
    "def to_board_label(i):\n",
    "    return f\"{alpha[i//8]}{i%8}\"\n",
    "\n",
    "# Get our list of board labels\n",
    "board_labels = list(map(to_board_label, stoi_indices))\n",
    "full_board_labels = list(map(to_board_label, range(64)))\n",
    "\n",
    "def plot_square_as_board(state, diverging_scale=True, **kwargs):\n",
    "    \"\"\"Takes a square input (8 by 8) and plot it as a board. Can do a stack of boards via facet_col=0\"\"\"\n",
    "    kwargs = {\n",
    "        \"y\": [i for i in alpha],\n",
    "        \"x\": [str(i) for i in range(8)],\n",
    "        \"color_continuous_scale\": \"RdBu\" if diverging_scale else \"Blues\",\n",
    "        \"color_continuous_midpoint\": 0. if diverging_scale else None,\n",
    "        \"aspect\": \"equal\",\n",
    "        **kwargs\n",
    "    }\n",
    "    imshow(state, **kwargs)\n",
    "\n",
    "start = 30000\n",
    "num_games = 50\n",
    "focus_games_int = board_seqs_int[start : start + num_games]\n",
    "focus_games_string = board_seqs_string[start: start + num_games]\n",
    "\n",
    "focus_logits, focus_cache = model.run_with_cache(focus_games_int[:, :-1].to(device))\n",
    "focus_logits.shape\n",
    "\n",
    "def one_hot(list_of_ints, num_classes=64):\n",
    "    out = t.zeros((num_classes,), dtype=t.float32)\n",
    "    out[list_of_ints] = 1.\n",
    "    return out\n",
    "\n",
    "focus_states = np.zeros((num_games, 60, 8, 8), dtype=np.float32)\n",
    "focus_valid_moves = t.zeros((num_games, 60, 64), dtype=t.float32)\n",
    "\n",
    "for i in (range(num_games)):\n",
    "    board = OthelloBoardState()\n",
    "    for j in range(60):\n",
    "        board.umpire(focus_games_string[i, j].item())\n",
    "        focus_states[i, j] = board.state\n",
    "        focus_valid_moves[i, j] = one_hot(board.get_valid_moves())\n",
    "\n",
    "print(\"focus states:\", focus_states.shape)\n",
    "print(\"focus_valid_moves\", tuple(focus_valid_moves.shape))\n",
    "\n",
    "# full_linear_probe = t.load(OTHELLO_MECHINT_ROOT / \"main_linear_probe.pth\", map_location=device)\n",
    "\n",
    "rows = 8\n",
    "cols = 8\n",
    "options = 3\n",
    "\n",
    "black_to_play_index = 0\n",
    "white_to_play_index = 1\n",
    "blank_index = 0\n",
    "their_index = 1\n",
    "my_index = 2\n",
    "\n",
    "# Creating values for linear probe (converting the \"black/white to play\" notation into \"me/them to play\")\n",
    "\n",
    "from utils import *"
   ]
  },
  {
   "cell_type": "markdown",
   "metadata": {},
   "source": [
    "# Code"
   ]
  },
  {
   "cell_type": "markdown",
   "metadata": {},
   "source": [
    "- First Played Circuit\n",
    "    - Look if in layer 0 Emb @ OV_Mine = Mine and Emb @ OV_Yours = Yours\n",
    "        - Whats the Role of positional Embedding?\n",
    "            - Important for QK Circuit?"
   ]
  },
  {
   "cell_type": "code",
   "execution_count": 3,
   "metadata": {},
   "outputs": [],
   "source": [
    "def string_to_tile(pos_str):\n",
    "    return (pos_str // 8, pos_str % 8)"
   ]
  },
  {
   "cell_type": "code",
   "execution_count": 4,
   "metadata": {},
   "outputs": [
    {
     "name": "stdout",
     "output_type": "stream",
     "text": [
      "torch.Size([61, 512]) torch.Size([8, 8, 512, 512])\n",
      "<class 'transformer_lens.FactoredMatrix.FactoredMatrix'>\n"
     ]
    }
   ],
   "source": [
    "W_E = model.W_E\n",
    "OV = model.OV\n",
    "print(W_E.shape, OV.shape)\n",
    "print(type(OV))"
   ]
  },
  {
   "cell_type": "markdown",
   "metadata": {},
   "source": [
    "- This Plot shows the Layer 0 Base Cicuit. Predict the Tile that was last played. Heads 0,7 for MINE and Heads 3, 6 for YOURS\n",
    "- This Shows how Corners are done!"
   ]
  },
  {
   "cell_type": "code",
   "execution_count": 5,
   "metadata": {},
   "outputs": [],
   "source": [
    "def cosine_similiarity(x, y):\n",
    "    return t.dot(x, y) / (t.norm(x) * t.norm(y))"
   ]
  },
  {
   "cell_type": "code",
   "execution_count": 27,
   "metadata": {},
   "outputs": [
    {
     "data": {
      "application/vnd.plotly.v1+json": {
       "config": {
        "plotlyServerURL": "https://plot.ly"
       },
       "data": [
        {
         "colorscale": [
          [
           0,
           "rgb(103,0,31)"
          ],
          [
           0.1,
           "rgb(178,24,43)"
          ],
          [
           0.2,
           "rgb(214,96,77)"
          ],
          [
           0.3,
           "rgb(244,165,130)"
          ],
          [
           0.4,
           "rgb(253,219,199)"
          ],
          [
           0.5,
           "rgb(247,247,247)"
          ],
          [
           0.6,
           "rgb(209,229,240)"
          ],
          [
           0.7,
           "rgb(146,197,222)"
          ],
          [
           0.8,
           "rgb(67,147,195)"
          ],
          [
           0.9,
           "rgb(33,102,172)"
          ],
          [
           1,
           "rgb(5,48,97)"
          ]
         ],
         "hoverongaps": false,
         "type": "heatmap",
         "x": [
          0,
          1,
          2,
          3,
          4,
          5,
          6,
          7
         ],
         "xaxis": "x",
         "y": [
          "H",
          "G",
          "F",
          "E",
          "D",
          "C",
          "B",
          "A"
         ],
         "yaxis": "y",
         "z": [
          [
           -0.5109555721282959,
           -0.53268963098526,
           -0.41284194588661194,
           -0.4283037483692169,
           -0.3415353000164032,
           -0.26022952795028687,
           -0.4734058678150177,
           -0.5540622472763062
          ],
          [
           -0.4724953770637512,
           -0.28060320019721985,
           -0.189046248793602,
           -0.24564264714717865,
           -0.13320401310920715,
           -0.2111498862504959,
           -0.2658461928367615,
           -0.49810662865638733
          ],
          [
           -0.4674530327320099,
           -0.1241314709186554,
           -0.07604187726974487,
           -0.048431236296892166,
           -0.020680969581007957,
           -0.1264890432357788,
           -0.2246030569076538,
           -0.47415173053741455
          ],
          [
           -0.465605229139328,
           -0.16450093686580658,
           -0.08198445290327072,
           0,
           0,
           -0.0126462671905756,
           -0.14938940107822418,
           -0.4636804759502411
          ],
          [
           -0.33733317255973816,
           -0.15949149429798126,
           -0.03793344274163246,
           0,
           0,
           -0.02858925797045231,
           -0.14326666295528412,
           -0.3912707269191742
          ],
          [
           -0.5104397535324097,
           -0.20260591804981232,
           -0.10161027312278748,
           -0.016075029969215393,
           -0.048560380935668945,
           -0.11438820511102676,
           -0.17046725749969482,
           -0.3266068398952484
          ],
          [
           -0.5588479042053223,
           -0.18479441106319427,
           -0.2033892273902893,
           -0.20413121581077576,
           -0.1999659389257431,
           -0.19308443367481232,
           -0.2573016285896301,
           -0.5155375599861145
          ],
          [
           -0.5445004105567932,
           -0.5382981300354004,
           -0.4635315239429474,
           -0.3216419517993927,
           -0.38024666905403137,
           -0.3711822032928467,
           -0.4920424520969391,
           -0.5418504476547241
          ]
         ],
         "zmax": 0.6486442685127258,
         "zmin": -0.6486442685127258
        },
        {
         "colorscale": [
          [
           0,
           "rgb(103,0,31)"
          ],
          [
           0.1,
           "rgb(178,24,43)"
          ],
          [
           0.2,
           "rgb(214,96,77)"
          ],
          [
           0.3,
           "rgb(244,165,130)"
          ],
          [
           0.4,
           "rgb(253,219,199)"
          ],
          [
           0.5,
           "rgb(247,247,247)"
          ],
          [
           0.6,
           "rgb(209,229,240)"
          ],
          [
           0.7,
           "rgb(146,197,222)"
          ],
          [
           0.8,
           "rgb(67,147,195)"
          ],
          [
           0.9,
           "rgb(33,102,172)"
          ],
          [
           1,
           "rgb(5,48,97)"
          ]
         ],
         "hoverongaps": false,
         "type": "heatmap",
         "x": [
          0,
          1,
          2,
          3,
          4,
          5,
          6,
          7
         ],
         "xaxis": "x9",
         "y": [
          "H",
          "G",
          "F",
          "E",
          "D",
          "C",
          "B",
          "A"
         ],
         "yaxis": "y9",
         "z": [
          [
           0.48889100551605225,
           0.5284522771835327,
           0.5460953116416931,
           0.6174176931381226,
           0.5695773363113403,
           0.6118380427360535,
           0.17037098109722137,
           0.060909099876880646
          ],
          [
           0.5311378240585327,
           0.48269516229629517,
           0.22660395503044128,
           0.21011285483837128,
           0.14932279288768768,
           0.18837815523147583,
           0.054590146988630295,
           0.04791642725467682
          ],
          [
           0.5388193130493164,
           0.25461313128471375,
           0.1277284175157547,
           0.004217780660837889,
           0.03937464952468872,
           -0.006523788906633854,
           0.07692772895097733,
           0.4023140072822571
          ],
          [
           0.6486442685127258,
           0.34803634881973267,
           0.18307413160800934,
           0,
           0,
           0.01681860163807869,
           0.14241763949394226,
           0.5748164057731628
          ],
          [
           0.5442171096801758,
           0.5496416687965393,
           0.42070472240448,
           0,
           0,
           0.049664441496133804,
           0.29674866795539856,
           0.5756961703300476
          ],
          [
           0.5719577670097351,
           0.5487386584281921,
           0.5631444454193115,
           0.5700070261955261,
           0.5475583672523499,
           0.35957029461860657,
           0.4071051776409149,
           0.5578383207321167
          ],
          [
           0.5506170392036438,
           0.5302883386611938,
           0.6081273555755615,
           0.5829493403434753,
           0.5941370129585266,
           0.5315305590629578,
           0.5264275074005127,
           0.5607372522354126
          ],
          [
           0.49275246262550354,
           0.43101444840431213,
           0.5968281626701355,
           0.6213948130607605,
           0.6451261043548584,
           0.5814440846443176,
           0.5329828858375549,
           0.5183677673339844
          ]
         ],
         "zmax": 0.6486442685127258,
         "zmin": -0.6486442685127258
        },
        {
         "colorscale": [
          [
           0,
           "rgb(103,0,31)"
          ],
          [
           0.1,
           "rgb(178,24,43)"
          ],
          [
           0.2,
           "rgb(214,96,77)"
          ],
          [
           0.3,
           "rgb(244,165,130)"
          ],
          [
           0.4,
           "rgb(253,219,199)"
          ],
          [
           0.5,
           "rgb(247,247,247)"
          ],
          [
           0.6,
           "rgb(209,229,240)"
          ],
          [
           0.7,
           "rgb(146,197,222)"
          ],
          [
           0.8,
           "rgb(67,147,195)"
          ],
          [
           0.9,
           "rgb(33,102,172)"
          ],
          [
           1,
           "rgb(5,48,97)"
          ]
         ],
         "hoverongaps": false,
         "type": "heatmap",
         "x": [
          0,
          1,
          2,
          3,
          4,
          5,
          6,
          7
         ],
         "xaxis": "x2",
         "y": [
          "H",
          "G",
          "F",
          "E",
          "D",
          "C",
          "B",
          "A"
         ],
         "yaxis": "y2",
         "z": [
          [
           0.16861534118652344,
           0.01079266332089901,
           0.1301458179950714,
           0.10750466585159302,
           0.10288828611373901,
           0.1583930104970932,
           0.04108143597841263,
           0.2684498727321625
          ],
          [
           -0.013204565271735191,
           0.0816715806722641,
           0.07485507428646088,
           0.02313682809472084,
           0.13953083753585815,
           0.111970916390419,
           0.07959239929914474,
           0.061239100992679596
          ],
          [
           0.05624709650874138,
           0.20419618487358093,
           0.09023439139127731,
           0.058175522834062576,
           0.04529675468802452,
           0.060918815433979034,
           0.09131709486246109,
           0.14614881575107574
          ],
          [
           0.007773228920996189,
           0.029753778129816055,
           0.03424312174320221,
           0,
           0,
           0.01685277745127678,
           0.0903654545545578,
           0.07623651623725891
          ],
          [
           0.0757087990641594,
           0.10208383947610855,
           -0.01710251159965992,
           0,
           0,
           0.09594564884901047,
           0.12081249058246613,
           0.14604833722114563
          ],
          [
           -0.004682106431573629,
           0.1461397260427475,
           0.08830609172582626,
           0.04249759018421173,
           0.055922284722328186,
           0.07760833948850632,
           0.13073842227458954,
           0.10542917251586914
          ],
          [
           -0.09297306090593338,
           0.1313699632883072,
           0.08810849487781525,
           0.027757784351706505,
           0.08941258490085602,
           0.1328212320804596,
           0.09148428589105606,
           0.01424022763967514
          ],
          [
           0.19940006732940674,
           -0.03335380181670189,
           0.06436359882354736,
           0.13007010519504547,
           0.15657201409339905,
           0.11171355843544006,
           0.10601020604372025,
           0.16488930583000183
          ]
         ],
         "zmax": 0.6486442685127258,
         "zmin": -0.6486442685127258
        },
        {
         "colorscale": [
          [
           0,
           "rgb(103,0,31)"
          ],
          [
           0.1,
           "rgb(178,24,43)"
          ],
          [
           0.2,
           "rgb(214,96,77)"
          ],
          [
           0.3,
           "rgb(244,165,130)"
          ],
          [
           0.4,
           "rgb(253,219,199)"
          ],
          [
           0.5,
           "rgb(247,247,247)"
          ],
          [
           0.6,
           "rgb(209,229,240)"
          ],
          [
           0.7,
           "rgb(146,197,222)"
          ],
          [
           0.8,
           "rgb(67,147,195)"
          ],
          [
           0.9,
           "rgb(33,102,172)"
          ],
          [
           1,
           "rgb(5,48,97)"
          ]
         ],
         "hoverongaps": false,
         "type": "heatmap",
         "x": [
          0,
          1,
          2,
          3,
          4,
          5,
          6,
          7
         ],
         "xaxis": "x10",
         "y": [
          "H",
          "G",
          "F",
          "E",
          "D",
          "C",
          "B",
          "A"
         ],
         "yaxis": "y10",
         "z": [
          [
           -0.1857132464647293,
           -0.13147205114364624,
           -0.11885020136833191,
           -0.11498909443616867,
           -0.06166674569249153,
           -0.09316238015890121,
           -0.0029617154505103827,
           -0.03766047954559326
          ],
          [
           0.010421241633594036,
           0.0334918238222599,
           -0.1353597193956375,
           -0.06604953855276108,
           -0.051525719463825226,
           -0.0743507519364357,
           -0.00600391672924161,
           0.017459766939282417
          ],
          [
           0.12618248164653778,
           -0.2710491418838501,
           0.03489074856042862,
           -0.013199650682508945,
           -0.05510638281702995,
           0.01871844194829464,
           -0.021668635308742523,
           -0.03174717351794243
          ],
          [
           0.12468186765909195,
           -0.28942808508872986,
           -0.07156510651111603,
           0,
           0,
           -0.11664339900016785,
           0.041017111390829086,
           -0.022467399016022682
          ],
          [
           -0.052838657051324844,
           -0.19160670042037964,
           -0.12483565509319305,
           0,
           0,
           -0.061579521745443344,
           -0.07986971735954285,
           -0.09505154937505722
          ],
          [
           -0.024414563551545143,
           0.006815463770180941,
           0.04219431430101395,
           -0.017743615433573723,
           -0.022863076999783516,
           0.02549644745886326,
           -0.11058450490236282,
           -0.0412035770714283
          ],
          [
           -0.021317625418305397,
           -0.03183204308152199,
           -0.05320291966199875,
           -0.05708662047982216,
           -0.0864252820611,
           -0.03800615295767784,
           -0.246054008603096,
           -0.0922616645693779
          ],
          [
           -0.1417745053768158,
           0.018194429576396942,
           -0.003344757715240121,
           0.1272866576910019,
           0.08920766413211823,
           0.20894168317317963,
           0.14031748473644257,
           -0.15685433149337769
          ]
         ],
         "zmax": 0.6486442685127258,
         "zmin": -0.6486442685127258
        },
        {
         "colorscale": [
          [
           0,
           "rgb(103,0,31)"
          ],
          [
           0.1,
           "rgb(178,24,43)"
          ],
          [
           0.2,
           "rgb(214,96,77)"
          ],
          [
           0.3,
           "rgb(244,165,130)"
          ],
          [
           0.4,
           "rgb(253,219,199)"
          ],
          [
           0.5,
           "rgb(247,247,247)"
          ],
          [
           0.6,
           "rgb(209,229,240)"
          ],
          [
           0.7,
           "rgb(146,197,222)"
          ],
          [
           0.8,
           "rgb(67,147,195)"
          ],
          [
           0.9,
           "rgb(33,102,172)"
          ],
          [
           1,
           "rgb(5,48,97)"
          ]
         ],
         "hoverongaps": false,
         "type": "heatmap",
         "x": [
          0,
          1,
          2,
          3,
          4,
          5,
          6,
          7
         ],
         "xaxis": "x3",
         "y": [
          "H",
          "G",
          "F",
          "E",
          "D",
          "C",
          "B",
          "A"
         ],
         "yaxis": "y3",
         "z": [
          [
           -0.09915502369403839,
           -0.35088127851486206,
           -0.3519533574581146,
           -0.35295501351356506,
           -0.3680659830570221,
           -0.33023613691329956,
           -0.3865939974784851,
           -0.09822934120893478
          ],
          [
           -0.3507276177406311,
           -0.291561096906662,
           -0.31822293996810913,
           -0.35061171650886536,
           -0.31856706738471985,
           -0.3350023627281189,
           -0.27315258979797363,
           -0.3473520576953888
          ],
          [
           -0.3369162082672119,
           -0.33469751477241516,
           -0.33537372946739197,
           -0.31501173973083496,
           -0.3239036202430725,
           -0.3140118420124054,
           -0.30529141426086426,
           -0.36405816674232483
          ],
          [
           -0.36852043867111206,
           -0.31623637676239014,
           -0.3187890946865082,
           0,
           0,
           -0.32235515117645264,
           -0.3149789571762085,
           -0.3786369264125824
          ],
          [
           -0.308630108833313,
           -0.2816450297832489,
           -0.3494415879249573,
           0,
           0,
           -0.2941528558731079,
           -0.3402445614337921,
           -0.31989753246307373
          ],
          [
           -0.3562104105949402,
           -0.30193328857421875,
           -0.2786979675292969,
           -0.3167578876018524,
           -0.30910515785217285,
           -0.2540668547153473,
           -0.2500743567943573,
           -0.3263695240020752
          ],
          [
           -0.38164108991622925,
           -0.2992931306362152,
           -0.3244192600250244,
           -0.3631221652030945,
           -0.3094831109046936,
           -0.29780614376068115,
           -0.31801605224609375,
           -0.37370723485946655
          ],
          [
           -0.09749328345060349,
           -0.3471865952014923,
           -0.3703348934650421,
           -0.300475150346756,
           -0.3784332573413849,
           -0.3219051957130432,
           -0.324981689453125,
           -0.18147078156471252
          ]
         ],
         "zmax": 0.6486442685127258,
         "zmin": -0.6486442685127258
        },
        {
         "colorscale": [
          [
           0,
           "rgb(103,0,31)"
          ],
          [
           0.1,
           "rgb(178,24,43)"
          ],
          [
           0.2,
           "rgb(214,96,77)"
          ],
          [
           0.3,
           "rgb(244,165,130)"
          ],
          [
           0.4,
           "rgb(253,219,199)"
          ],
          [
           0.5,
           "rgb(247,247,247)"
          ],
          [
           0.6,
           "rgb(209,229,240)"
          ],
          [
           0.7,
           "rgb(146,197,222)"
          ],
          [
           0.8,
           "rgb(67,147,195)"
          ],
          [
           0.9,
           "rgb(33,102,172)"
          ],
          [
           1,
           "rgb(5,48,97)"
          ]
         ],
         "hoverongaps": false,
         "type": "heatmap",
         "x": [
          0,
          1,
          2,
          3,
          4,
          5,
          6,
          7
         ],
         "xaxis": "x11",
         "y": [
          "H",
          "G",
          "F",
          "E",
          "D",
          "C",
          "B",
          "A"
         ],
         "yaxis": "y11",
         "z": [
          [
           -0.1310558021068573,
           -0.1312209814786911,
           -0.07813413441181183,
           -0.10136682540178299,
           -0.15317445993423462,
           -0.154069721698761,
           -0.1390860676765442,
           -0.26110443472862244
          ],
          [
           -0.11574345082044601,
           -0.37254345417022705,
           -0.37102267146110535,
           -0.4755226969718933,
           -0.3998451232910156,
           -0.3956521451473236,
           -0.29723310470581055,
           -0.2045905739068985
          ],
          [
           -0.22227944433689117,
           -0.2912132441997528,
           -0.4177517890930176,
           -0.4222707748413086,
           -0.3336026072502136,
           -0.37666770815849304,
           -0.48282623291015625,
           -0.12171455472707748
          ],
          [
           -0.2893577516078949,
           -0.4064249098300934,
           -0.3864588439464569,
           0,
           0,
           -0.4085838794708252,
           -0.403105229139328,
           -0.16403692960739136
          ],
          [
           -0.1451450139284134,
           -0.3867585062980652,
           -0.45544278621673584,
           0,
           0,
           -0.4396073520183563,
           -0.42395031452178955,
           -0.1468900889158249
          ],
          [
           -0.226571187376976,
           -0.35751187801361084,
           -0.2740321159362793,
           -0.34827563166618347,
           -0.37805795669555664,
           -0.40213820338249207,
           -0.3362925350666046,
           -0.15864154696464539
          ],
          [
           -0.16042891144752502,
           -0.3261427879333496,
           -0.45723745226860046,
           -0.39672642946243286,
           -0.44349539279937744,
           -0.34112364053726196,
           -0.2954942286014557,
           -0.07123225182294846
          ],
          [
           -0.22435088455677032,
           -0.14371620118618011,
           -0.18524949252605438,
           -0.10526037216186523,
           -0.14776954054832458,
           -0.14518575370311737,
           -0.08032181859016418,
           -0.08486197143793106
          ]
         ],
         "zmax": 0.6486442685127258,
         "zmin": -0.6486442685127258
        },
        {
         "colorscale": [
          [
           0,
           "rgb(103,0,31)"
          ],
          [
           0.1,
           "rgb(178,24,43)"
          ],
          [
           0.2,
           "rgb(214,96,77)"
          ],
          [
           0.3,
           "rgb(244,165,130)"
          ],
          [
           0.4,
           "rgb(253,219,199)"
          ],
          [
           0.5,
           "rgb(247,247,247)"
          ],
          [
           0.6,
           "rgb(209,229,240)"
          ],
          [
           0.7,
           "rgb(146,197,222)"
          ],
          [
           0.8,
           "rgb(67,147,195)"
          ],
          [
           0.9,
           "rgb(33,102,172)"
          ],
          [
           1,
           "rgb(5,48,97)"
          ]
         ],
         "hoverongaps": false,
         "type": "heatmap",
         "x": [
          0,
          1,
          2,
          3,
          4,
          5,
          6,
          7
         ],
         "xaxis": "x4",
         "y": [
          "H",
          "G",
          "F",
          "E",
          "D",
          "C",
          "B",
          "A"
         ],
         "yaxis": "y4",
         "z": [
          [
           0.4740089178085327,
           0.575327455997467,
           0.5025511384010315,
           0.5058525204658508,
           0.4631260335445404,
           0.5259102582931519,
           0.5537115931510925,
           0.48091182112693787
          ],
          [
           0.5308473706245422,
           0.4499202072620392,
           0.4221631586551666,
           0.4218446612358093,
           0.4816305637359619,
           0.4093128442764282,
           0.44158393144607544,
           0.5912160277366638
          ],
          [
           0.5370899438858032,
           0.5010007619857788,
           0.400017648935318,
           0.3170490562915802,
           0.3697805404663086,
           0.35233038663864136,
           0.4040423631668091,
           0.5093209743499756
          ],
          [
           0.4275408089160919,
           0.4137389063835144,
           0.3108559846878052,
           0,
           0,
           0.35533568263053894,
           0.4562295377254486,
           0.4981813430786133
          ],
          [
           0.4238990843296051,
           0.4366634786128998,
           0.3340114951133728,
           0,
           0,
           0.3410865068435669,
           0.4549786448478699,
           0.5771222710609436
          ],
          [
           0.4139808416366577,
           0.48102036118507385,
           0.3863499164581299,
           0.3380984961986542,
           0.32396891713142395,
           0.40740519762039185,
           0.43520593643188477,
           0.5161687731742859
          ],
          [
           0.4895098805427551,
           0.433368444442749,
           0.44761180877685547,
           0.439862996339798,
           0.41799840331077576,
           0.4517657458782196,
           0.4550854563713074,
           0.5485683679580688
          ],
          [
           0.47334301471710205,
           0.5343883037567139,
           0.5331292748451233,
           0.5125074982643127,
           0.439098596572876,
           0.4993767738342285,
           0.5805402994155884,
           0.4548996388912201
          ]
         ],
         "zmax": 0.6486442685127258,
         "zmin": -0.6486442685127258
        },
        {
         "colorscale": [
          [
           0,
           "rgb(103,0,31)"
          ],
          [
           0.1,
           "rgb(178,24,43)"
          ],
          [
           0.2,
           "rgb(214,96,77)"
          ],
          [
           0.3,
           "rgb(244,165,130)"
          ],
          [
           0.4,
           "rgb(253,219,199)"
          ],
          [
           0.5,
           "rgb(247,247,247)"
          ],
          [
           0.6,
           "rgb(209,229,240)"
          ],
          [
           0.7,
           "rgb(146,197,222)"
          ],
          [
           0.8,
           "rgb(67,147,195)"
          ],
          [
           0.9,
           "rgb(33,102,172)"
          ],
          [
           1,
           "rgb(5,48,97)"
          ]
         ],
         "hoverongaps": false,
         "type": "heatmap",
         "x": [
          0,
          1,
          2,
          3,
          4,
          5,
          6,
          7
         ],
         "xaxis": "x12",
         "y": [
          "H",
          "G",
          "F",
          "E",
          "D",
          "C",
          "B",
          "A"
         ],
         "yaxis": "y12",
         "z": [
          [
           -0.3058110773563385,
           -0.4665791988372803,
           -0.2877126932144165,
           -0.3628462255001068,
           -0.33261629939079285,
           -0.41299986839294434,
           -0.3568083941936493,
           -0.2982065677642822
          ],
          [
           -0.3455148935317993,
           -0.3575054407119751,
           -0.31287890672683716,
           -0.299788236618042,
           -0.3019457459449768,
           -0.29486003518104553,
           -0.279832661151886,
           -0.4183616042137146
          ],
          [
           -0.2831220030784607,
           -0.3034006655216217,
           -0.2575753331184387,
           -0.2651435136795044,
           -0.23058275878429413,
           -0.22131113708019257,
           -0.3152855932712555,
           -0.34985509514808655
          ],
          [
           -0.22967906296253204,
           -0.2919800579547882,
           -0.30012938380241394,
           0,
           0,
           -0.276968389749527,
           -0.24420520663261414,
           -0.3455323576927185
          ],
          [
           -0.2585304081439972,
           -0.25164398550987244,
           -0.28224506974220276,
           0,
           0,
           -0.2241307944059372,
           -0.3109152019023895,
           -0.32694199681282043
          ],
          [
           -0.2882094979286194,
           -0.30149468779563904,
           -0.19285114109516144,
           -0.1948762834072113,
           -0.2599816918373108,
           -0.29133889079093933,
           -0.2543148994445801,
           -0.3871622383594513
          ],
          [
           -0.3461991548538208,
           -0.2896357774734497,
           -0.249723881483078,
           -0.2528168857097626,
           -0.33724892139434814,
           -0.22703132033348083,
           -0.27961528301239014,
           -0.41572296619415283
          ],
          [
           -0.312850683927536,
           -0.44268834590911865,
           -0.4061987102031708,
           -0.37346336245536804,
           -0.3157573342323303,
           -0.3851432800292969,
           -0.4493027329444885,
           -0.15932995080947876
          ]
         ],
         "zmax": 0.6486442685127258,
         "zmin": -0.6486442685127258
        },
        {
         "colorscale": [
          [
           0,
           "rgb(103,0,31)"
          ],
          [
           0.1,
           "rgb(178,24,43)"
          ],
          [
           0.2,
           "rgb(214,96,77)"
          ],
          [
           0.3,
           "rgb(244,165,130)"
          ],
          [
           0.4,
           "rgb(253,219,199)"
          ],
          [
           0.5,
           "rgb(247,247,247)"
          ],
          [
           0.6,
           "rgb(209,229,240)"
          ],
          [
           0.7,
           "rgb(146,197,222)"
          ],
          [
           0.8,
           "rgb(67,147,195)"
          ],
          [
           0.9,
           "rgb(33,102,172)"
          ],
          [
           1,
           "rgb(5,48,97)"
          ]
         ],
         "hoverongaps": false,
         "type": "heatmap",
         "x": [
          0,
          1,
          2,
          3,
          4,
          5,
          6,
          7
         ],
         "xaxis": "x5",
         "y": [
          "H",
          "G",
          "F",
          "E",
          "D",
          "C",
          "B",
          "A"
         ],
         "yaxis": "y5",
         "z": [
          [
           0.23795755207538605,
           0.017301443964242935,
           0.12486886978149414,
           0.17043551802635193,
           0.10128351300954819,
           0.18352803587913513,
           0.05801999941468239,
           0.29721277952194214
          ],
          [
           0.004850846715271473,
           0.08368974179029465,
           0.05029601231217384,
           0.000049906411732081324,
           0.12919308245182037,
           0.12651245296001434,
           0.07730470597743988,
           0.09292849153280258
          ],
          [
           0.09327904880046844,
           0.20533756911754608,
           0.09026986360549927,
           0.02163597010076046,
           0.06094641983509064,
           0.03900117799639702,
           0.05480886250734329,
           0.1657475233078003
          ],
          [
           0.09225587546825409,
           0.014418494887650013,
           0.006034392397850752,
           0,
           0,
           0.014195923693478107,
           0.09070006757974625,
           0.1378503143787384
          ],
          [
           0.10323446989059448,
           0.09555868059396744,
           0.009287994354963303,
           0,
           0,
           0.057644519954919815,
           0.13323664665222168,
           0.1560065895318985
          ],
          [
           0.05094686895608902,
           0.13783472776412964,
           0.07614593952894211,
           0.019746074452996254,
           0.04498475417494774,
           0.06142750009894371,
           0.14479054510593414,
           0.11855436861515045
          ],
          [
           -0.012265601195394993,
           0.13610012829303741,
           0.10926013439893723,
           0.028063246980309486,
           0.09508530050516129,
           0.12335062026977539,
           0.14694978296756744,
           0.04825633764266968
          ],
          [
           0.23379255831241608,
           0.0011944181751459837,
           0.11477028578519821,
           0.15721343457698822,
           0.15866531431674957,
           0.15732163190841675,
           0.009432206861674786,
           0.20563825964927673
          ]
         ],
         "zmax": 0.6486442685127258,
         "zmin": -0.6486442685127258
        },
        {
         "colorscale": [
          [
           0,
           "rgb(103,0,31)"
          ],
          [
           0.1,
           "rgb(178,24,43)"
          ],
          [
           0.2,
           "rgb(214,96,77)"
          ],
          [
           0.3,
           "rgb(244,165,130)"
          ],
          [
           0.4,
           "rgb(253,219,199)"
          ],
          [
           0.5,
           "rgb(247,247,247)"
          ],
          [
           0.6,
           "rgb(209,229,240)"
          ],
          [
           0.7,
           "rgb(146,197,222)"
          ],
          [
           0.8,
           "rgb(67,147,195)"
          ],
          [
           0.9,
           "rgb(33,102,172)"
          ],
          [
           1,
           "rgb(5,48,97)"
          ]
         ],
         "hoverongaps": false,
         "type": "heatmap",
         "x": [
          0,
          1,
          2,
          3,
          4,
          5,
          6,
          7
         ],
         "xaxis": "x13",
         "y": [
          "H",
          "G",
          "F",
          "E",
          "D",
          "C",
          "B",
          "A"
         ],
         "yaxis": "y13",
         "z": [
          [
           0.11777181923389435,
           0.11931130290031433,
           0.19771938025951385,
           0.1573028862476349,
           0.1943444311618805,
           0.313092440366745,
           0.5149367451667786,
           0.4661625921726227
          ],
          [
           0.41424617171287537,
           0.6117643117904663,
           0.6020762324333191,
           0.5594368577003479,
           0.49597954750061035,
           0.5161884427070618,
           0.4902893602848053,
           0.5031725168228149
          ],
          [
           0.4453575909137726,
           0.6221467852592468,
           0.4784696698188782,
           0.274265855550766,
           0.3379802405834198,
           0.5665856599807739,
           0.5631921291351318,
           0.5459730625152588
          ],
          [
           0.5170043706893921,
           0.5711876153945923,
           0.0688946396112442,
           0,
           0,
           0.5568975806236267,
           0.5866662263870239,
           0.5659464001655579
          ],
          [
           0.5190669298171997,
           0.2624336779117584,
           0.0015691490843892097,
           0,
           0,
           0.5183412432670593,
           0.5418594479560852,
           0.5843482613563538
          ],
          [
           0.5154178738594055,
           0.11126399785280228,
           0.03696960210800171,
           0.011514746583998203,
           0.2443132847547531,
           0.568111777305603,
           0.568790078163147,
           0.5146424174308777
          ],
          [
           0.3937177062034607,
           0.13139522075653076,
           0.03605005145072937,
           0.08827123790979385,
           0.36931800842285156,
           0.4961404800415039,
           0.4789658188819885,
           0.4466375410556793
          ],
          [
           0.17985358834266663,
           0.5055018067359924,
           0.5287179350852966,
           0.5602786540985107,
           0.5503231287002563,
           0.5062674283981323,
           0.36194995045661926,
           0.08024831861257553
          ]
         ],
         "zmax": 0.6486442685127258,
         "zmin": -0.6486442685127258
        },
        {
         "colorscale": [
          [
           0,
           "rgb(103,0,31)"
          ],
          [
           0.1,
           "rgb(178,24,43)"
          ],
          [
           0.2,
           "rgb(214,96,77)"
          ],
          [
           0.3,
           "rgb(244,165,130)"
          ],
          [
           0.4,
           "rgb(253,219,199)"
          ],
          [
           0.5,
           "rgb(247,247,247)"
          ],
          [
           0.6,
           "rgb(209,229,240)"
          ],
          [
           0.7,
           "rgb(146,197,222)"
          ],
          [
           0.8,
           "rgb(67,147,195)"
          ],
          [
           0.9,
           "rgb(33,102,172)"
          ],
          [
           1,
           "rgb(5,48,97)"
          ]
         ],
         "hoverongaps": false,
         "type": "heatmap",
         "x": [
          0,
          1,
          2,
          3,
          4,
          5,
          6,
          7
         ],
         "xaxis": "x6",
         "y": [
          "H",
          "G",
          "F",
          "E",
          "D",
          "C",
          "B",
          "A"
         ],
         "yaxis": "y6",
         "z": [
          [
           0.23362082242965698,
           0.02357986383140087,
           0.10955970734357834,
           0.15535910427570343,
           0.030699409544467926,
           0.16957031190395355,
           0.05896305292844772,
           0.2718614339828491
          ],
          [
           -0.013709082268178463,
           0.06872539967298508,
           0.06960324198007584,
           0.01957525499165058,
           0.13296322524547577,
           0.13009388744831085,
           0.07185444980859756,
           0.08185790479183197
          ],
          [
           0.11667308956384659,
           0.194112166762352,
           0.10110503435134888,
           0.038640283048152924,
           0.04024793207645416,
           0.0469936728477478,
           0.07871635258197784,
           0.1773739755153656
          ],
          [
           0.05117082595825195,
           0.04407821223139763,
           0.03819580003619194,
           0,
           0,
           0.02674877643585205,
           0.10763852298259735,
           0.10947068780660629
          ],
          [
           0.13155676424503326,
           0.1033857986330986,
           0.03730381652712822,
           0,
           0,
           0.08856291323900223,
           0.10660775005817413,
           0.1602109670639038
          ],
          [
           0.03625456243753433,
           0.15000757575035095,
           0.07432057708501816,
           0.07738695293664932,
           0.06935832649469376,
           0.1095055639743805,
           0.15171147882938385,
           0.1291443109512329
          ],
          [
           -0.08760003745555878,
           0.06427506357431412,
           0.0993368923664093,
           0.04037674888968468,
           0.09851352125406265,
           0.1469060629606247,
           0.10883769392967224,
           0.041721176356077194
          ],
          [
           0.21846529841423035,
           -0.006821765098720789,
           0.10652060806751251,
           0.04143531993031502,
           0.15499097108840942,
           0.0024813010822981596,
           0.12523171305656433,
           0.19477665424346924
          ]
         ],
         "zmax": 0.6486442685127258,
         "zmin": -0.6486442685127258
        },
        {
         "colorscale": [
          [
           0,
           "rgb(103,0,31)"
          ],
          [
           0.1,
           "rgb(178,24,43)"
          ],
          [
           0.2,
           "rgb(214,96,77)"
          ],
          [
           0.3,
           "rgb(244,165,130)"
          ],
          [
           0.4,
           "rgb(253,219,199)"
          ],
          [
           0.5,
           "rgb(247,247,247)"
          ],
          [
           0.6,
           "rgb(209,229,240)"
          ],
          [
           0.7,
           "rgb(146,197,222)"
          ],
          [
           0.8,
           "rgb(67,147,195)"
          ],
          [
           0.9,
           "rgb(33,102,172)"
          ],
          [
           1,
           "rgb(5,48,97)"
          ]
         ],
         "hoverongaps": false,
         "type": "heatmap",
         "x": [
          0,
          1,
          2,
          3,
          4,
          5,
          6,
          7
         ],
         "xaxis": "x14",
         "y": [
          "H",
          "G",
          "F",
          "E",
          "D",
          "C",
          "B",
          "A"
         ],
         "yaxis": "y14",
         "z": [
          [
           0.0557563416659832,
           0.1280076503753662,
           0.11188774555921555,
           0.18254229426383972,
           0.17585767805576324,
           0.18979349732398987,
           0.12964843213558197,
           0.17963090538978577
          ],
          [
           0.08119554072618484,
           0.1603926718235016,
           0.19722718000411987,
           0.21361371874809265,
           0.2635173201560974,
           0.2863973081111908,
           0.2912844121456146,
           0.19840107858181
          ],
          [
           0.048780664801597595,
           0.22437362372875214,
           0.2396206110715866,
           0.23549626767635345,
           0.20014075934886932,
           0.241875559091568,
           0.23726552724838257,
           0.03744171932339668
          ],
          [
           0.04536660760641098,
           0.24995587766170502,
           0.17676392197608948,
           0,
           0,
           0.3334866762161255,
           0.22271180152893066,
           0.06775718927383423
          ],
          [
           0.041968636214733124,
           0.23672372102737427,
           0.24549010396003723,
           0,
           0,
           0.24550487101078033,
           0.29881927371025085,
           0.05209149420261383
          ],
          [
           0.0071327537298202515,
           0.27097535133361816,
           0.25250017642974854,
           0.28441935777664185,
           0.3272600471973419,
           0.35671505331993103,
           0.2990243434906006,
           0.09914780408143997
          ],
          [
           0.06751281023025513,
           0.26924386620521545,
           0.29057610034942627,
           0.3199058473110199,
           0.30096179246902466,
           0.2648595869541168,
           0.2969282865524292,
           0.1345905363559723
          ],
          [
           0.13610100746154785,
           0.14431042969226837,
           0.17598070204257965,
           0.1419287919998169,
           0.06414922326803207,
           0.08771351724863052,
           0.23402389883995056,
           0.1327027529478073
          ]
         ],
         "zmax": 0.6486442685127258,
         "zmin": -0.6486442685127258
        },
        {
         "colorscale": [
          [
           0,
           "rgb(103,0,31)"
          ],
          [
           0.1,
           "rgb(178,24,43)"
          ],
          [
           0.2,
           "rgb(214,96,77)"
          ],
          [
           0.3,
           "rgb(244,165,130)"
          ],
          [
           0.4,
           "rgb(253,219,199)"
          ],
          [
           0.5,
           "rgb(247,247,247)"
          ],
          [
           0.6,
           "rgb(209,229,240)"
          ],
          [
           0.7,
           "rgb(146,197,222)"
          ],
          [
           0.8,
           "rgb(67,147,195)"
          ],
          [
           0.9,
           "rgb(33,102,172)"
          ],
          [
           1,
           "rgb(5,48,97)"
          ]
         ],
         "hoverongaps": false,
         "type": "heatmap",
         "x": [
          0,
          1,
          2,
          3,
          4,
          5,
          6,
          7
         ],
         "xaxis": "x7",
         "y": [
          "H",
          "G",
          "F",
          "E",
          "D",
          "C",
          "B",
          "A"
         ],
         "yaxis": "y7",
         "z": [
          [
           0.5982282161712646,
           0.5394173860549927,
           0.45713239908218384,
           0.47960057854652405,
           0.3919907510280609,
           0.4721090793609619,
           0.5301871299743652,
           0.6352081298828125
          ],
          [
           0.4997957944869995,
           0.3211521506309509,
           0.19646558165550232,
           0.14750047028064728,
           0.2482856810092926,
           0.30193766951560974,
           0.324794739484787,
           0.5603317618370056
          ],
          [
           0.512809157371521,
           0.3664255142211914,
           0.12145712226629257,
           0.011779055930674076,
           -0.004600869957357645,
           0.07963927090167999,
           0.23129509389400482,
           0.4717952609062195
          ],
          [
           0.4053580164909363,
           0.14392350614070892,
           0.008005674928426743,
           0,
           0,
           -0.014686964452266693,
           0.21795542538166046,
           0.485493540763855
          ],
          [
           0.3749414384365082,
           0.19779019057750702,
           -0.023549064993858337,
           0,
           0,
           0.058035094290971756,
           0.2497502863407135,
           0.5332704782485962
          ],
          [
           0.36755627393722534,
           0.36308684945106506,
           0.10154443979263306,
           -0.005129725206643343,
           0.03651915490627289,
           0.14592820405960083,
           0.319139689207077,
           0.4436943531036377
          ],
          [
           0.48384371399879456,
           0.3028828203678131,
           0.2662743031978607,
           0.17573004961013794,
           0.25449225306510925,
           0.2703225612640381,
           0.3362511396408081,
           0.5216432809829712
          ],
          [
           0.6176025867462158,
           0.49473604559898376,
           0.5379387140274048,
           0.48703449964523315,
           0.3958757519721985,
           0.4506780207157135,
           0.5324695706367493,
           0.5825285315513611
          ]
         ],
         "zmax": 0.6486442685127258,
         "zmin": -0.6486442685127258
        },
        {
         "colorscale": [
          [
           0,
           "rgb(103,0,31)"
          ],
          [
           0.1,
           "rgb(178,24,43)"
          ],
          [
           0.2,
           "rgb(214,96,77)"
          ],
          [
           0.3,
           "rgb(244,165,130)"
          ],
          [
           0.4,
           "rgb(253,219,199)"
          ],
          [
           0.5,
           "rgb(247,247,247)"
          ],
          [
           0.6,
           "rgb(209,229,240)"
          ],
          [
           0.7,
           "rgb(146,197,222)"
          ],
          [
           0.8,
           "rgb(67,147,195)"
          ],
          [
           0.9,
           "rgb(33,102,172)"
          ],
          [
           1,
           "rgb(5,48,97)"
          ]
         ],
         "hoverongaps": false,
         "type": "heatmap",
         "x": [
          0,
          1,
          2,
          3,
          4,
          5,
          6,
          7
         ],
         "xaxis": "x15",
         "y": [
          "H",
          "G",
          "F",
          "E",
          "D",
          "C",
          "B",
          "A"
         ],
         "yaxis": "y15",
         "z": [
          [
           0.18778859078884125,
           0.3610943555831909,
           0.3302004635334015,
           0.3233323097229004,
           0.3296125531196594,
           0.4196896553039551,
           0.3271659314632416,
           0.1033930703997612
          ],
          [
           0.2721775770187378,
           0.36378005146980286,
           0.2798289656639099,
           0.39790254831314087,
           0.45479249954223633,
           0.49049463868141174,
           0.40472158789634705,
           0.3031512498855591
          ],
          [
           0.2878822088241577,
           0.2751818001270294,
           0.4592518210411072,
           0.4740045964717865,
           0.4817545413970947,
           0.4103398621082306,
           0.34304651618003845,
           0.3658962547779083
          ],
          [
           0.23949110507965088,
           0.39261648058891296,
           0.4920492172241211,
           0,
           0,
           0.3184996247291565,
           0.21691153943538666,
           0.2674558460712433
          ],
          [
           0.14912298321723938,
           0.41434723138809204,
           0.4578268826007843,
           0,
           0,
           0.12440883368253708,
           0.14551234245300293,
           0.1207452043890953
          ],
          [
           0.2201242446899414,
           0.4894963502883911,
           0.28674858808517456,
           0.17650477588176727,
           0.13345956802368164,
           0.15589040517807007,
           0.09355315566062927,
           0.10240219533443451
          ],
          [
           0.264982134103775,
           0.3777991533279419,
           0.23957951366901398,
           0.13339993357658386,
           0.09864187240600586,
           0.091028593480587,
           0.14996643364429474,
           0.06991454213857651
          ],
          [
           0.15277305245399475,
           0.07953584939241409,
           0.051456402987241745,
           0.07276038080453873,
           0.017174072563648224,
           0.04440303519368172,
           0.05935746803879738,
           0.025228507816791534
          ]
         ],
         "zmax": 0.6486442685127258,
         "zmin": -0.6486442685127258
        },
        {
         "colorscale": [
          [
           0,
           "rgb(103,0,31)"
          ],
          [
           0.1,
           "rgb(178,24,43)"
          ],
          [
           0.2,
           "rgb(214,96,77)"
          ],
          [
           0.3,
           "rgb(244,165,130)"
          ],
          [
           0.4,
           "rgb(253,219,199)"
          ],
          [
           0.5,
           "rgb(247,247,247)"
          ],
          [
           0.6,
           "rgb(209,229,240)"
          ],
          [
           0.7,
           "rgb(146,197,222)"
          ],
          [
           0.8,
           "rgb(67,147,195)"
          ],
          [
           0.9,
           "rgb(33,102,172)"
          ],
          [
           1,
           "rgb(5,48,97)"
          ]
         ],
         "hoverongaps": false,
         "type": "heatmap",
         "x": [
          0,
          1,
          2,
          3,
          4,
          5,
          6,
          7
         ],
         "xaxis": "x8",
         "y": [
          "H",
          "G",
          "F",
          "E",
          "D",
          "C",
          "B",
          "A"
         ],
         "yaxis": "y8",
         "z": [
          [
           -0.5563070178031921,
           -0.5244148969650269,
           -0.38893064856529236,
           -0.39416345953941345,
           -0.3070998191833496,
           -0.25689712166786194,
           -0.4688345491886139,
           -0.5668114423751831
          ],
          [
           -0.493692010641098,
           -0.2324000895023346,
           -0.1302052140235901,
           -0.20817804336547852,
           -0.07016640156507492,
           -0.14591102302074432,
           -0.2569901645183563,
           -0.504408597946167
          ],
          [
           -0.45436862111091614,
           -0.06262356042861938,
           -0.020728152245283127,
           -0.023278353735804558,
           -0.05706687271595001,
           -0.10305710881948471,
           -0.1619863361120224,
           -0.4658083915710449
          ],
          [
           -0.4499847888946533,
           -0.1452297866344452,
           -0.01269669272005558,
           0,
           0,
           -0.10478387773036957,
           -0.11479910463094711,
           -0.45088067650794983
          ],
          [
           -0.33498266339302063,
           -0.10435181111097336,
           -0.058685485273599625,
           0,
           0,
           0.005701529793441296,
           -0.09414029121398926,
           -0.36607685685157776
          ],
          [
           -0.49060145020484924,
           -0.17138759791851044,
           -0.04901939257979393,
           -0.027567634359002113,
           0.0017365679377689958,
           -0.06764733791351318,
           -0.0985870435833931,
           -0.30927011370658875
          ],
          [
           -0.5678830146789551,
           -0.14013907313346863,
           -0.15747198462486267,
           -0.18042218685150146,
           -0.12747329473495483,
           -0.10020656883716583,
           -0.22850124537944794,
           -0.5089494585990906
          ],
          [
           -0.5504288077354431,
           -0.5286223888397217,
           -0.4535031318664551,
           -0.28373441100120544,
           -0.3541213572025299,
           -0.33211517333984375,
           -0.4930381774902344,
           -0.5679996013641357
          ]
         ],
         "zmax": 0.6486442685127258,
         "zmin": -0.6486442685127258
        },
        {
         "colorscale": [
          [
           0,
           "rgb(103,0,31)"
          ],
          [
           0.1,
           "rgb(178,24,43)"
          ],
          [
           0.2,
           "rgb(214,96,77)"
          ],
          [
           0.3,
           "rgb(244,165,130)"
          ],
          [
           0.4,
           "rgb(253,219,199)"
          ],
          [
           0.5,
           "rgb(247,247,247)"
          ],
          [
           0.6,
           "rgb(209,229,240)"
          ],
          [
           0.7,
           "rgb(146,197,222)"
          ],
          [
           0.8,
           "rgb(67,147,195)"
          ],
          [
           0.9,
           "rgb(33,102,172)"
          ],
          [
           1,
           "rgb(5,48,97)"
          ]
         ],
         "hoverongaps": false,
         "type": "heatmap",
         "x": [
          0,
          1,
          2,
          3,
          4,
          5,
          6,
          7
         ],
         "xaxis": "x16",
         "y": [
          "H",
          "G",
          "F",
          "E",
          "D",
          "C",
          "B",
          "A"
         ],
         "yaxis": "y16",
         "z": [
          [
           0.0022930025588721037,
           -0.028376199305057526,
           -0.09328513592481613,
           -0.04078039899468422,
           0.05056255683302879,
           -0.044485535472631454,
           -0.08245986700057983,
           -0.18630988895893097
          ],
          [
           -0.02697005495429039,
           -0.09250412881374359,
           -0.28852587938308716,
           -0.22679361701011658,
           -0.09383920580148697,
           -0.05175834149122238,
           -0.08931692689657211,
           0.1382991224527359
          ],
          [
           -0.05463128536939621,
           -0.1516096442937851,
           -0.18029405176639557,
           -0.1701580286026001,
           -0.009367701597511768,
           -0.13782604038715363,
           -0.12514491379261017,
           0.0795319601893425
          ],
          [
           -0.0786266177892685,
           -0.14865826070308685,
           -0.2506304979324341,
           0,
           0,
           0.04189567267894745,
           -0.21362116932868958,
           0.120692677795887
          ],
          [
           -0.09383227676153183,
           -0.08930715173482895,
           -0.18218892812728882,
           0,
           0,
           -0.23319461941719055,
           -0.15917032957077026,
           0.1193954348564148
          ],
          [
           -0.04955257102847099,
           -0.2080560177564621,
           -0.19105970859527588,
           -0.025718318298459053,
           -0.20268741250038147,
           -0.15310485661029816,
           0.014203207567334175,
           0.14745935797691345
          ],
          [
           -0.06377442181110382,
           -0.1968989074230194,
           -0.21135000884532928,
           -0.1881019026041031,
           -0.21676793694496155,
           -0.21457530558109283,
           -0.09842539578676224,
           0.2848386764526367
          ],
          [
           -0.04350700229406357,
           -0.048838380724191666,
           -0.06966382265090942,
           -0.04967459663748741,
           -0.0728091150522232,
           -0.08286498486995697,
           -0.001524791237898171,
           -0.12492070347070694
          ]
         ],
         "zmax": 0.6486442685127258,
         "zmin": -0.6486442685127258
        }
       ],
       "layout": {
        "annotations": [
         {
          "font": {
           "size": 16
          },
          "showarrow": false,
          "text": "Layer 0, Head 0",
          "x": 0.0515625,
          "xanchor": "center",
          "xref": "paper",
          "y": 1,
          "yanchor": "bottom",
          "yref": "paper"
         },
         {
          "font": {
           "size": 16
          },
          "showarrow": false,
          "text": "Layer 0, Head 1",
          "x": 0.1796875,
          "xanchor": "center",
          "xref": "paper",
          "y": 1,
          "yanchor": "bottom",
          "yref": "paper"
         },
         {
          "font": {
           "size": 16
          },
          "showarrow": false,
          "text": "Layer 0, Head 2",
          "x": 0.3078125,
          "xanchor": "center",
          "xref": "paper",
          "y": 1,
          "yanchor": "bottom",
          "yref": "paper"
         },
         {
          "font": {
           "size": 16
          },
          "showarrow": false,
          "text": "Layer 0, Head 3",
          "x": 0.4359375,
          "xanchor": "center",
          "xref": "paper",
          "y": 1,
          "yanchor": "bottom",
          "yref": "paper"
         },
         {
          "font": {
           "size": 16
          },
          "showarrow": false,
          "text": "Layer 0, Head 4",
          "x": 0.5640624999999999,
          "xanchor": "center",
          "xref": "paper",
          "y": 1,
          "yanchor": "bottom",
          "yref": "paper"
         },
         {
          "font": {
           "size": 16
          },
          "showarrow": false,
          "text": "Layer 0, Head 5",
          "x": 0.6921875,
          "xanchor": "center",
          "xref": "paper",
          "y": 1,
          "yanchor": "bottom",
          "yref": "paper"
         },
         {
          "font": {
           "size": 16
          },
          "showarrow": false,
          "text": "Layer 0, Head 6",
          "x": 0.8203125,
          "xanchor": "center",
          "xref": "paper",
          "y": 1,
          "yanchor": "bottom",
          "yref": "paper"
         },
         {
          "font": {
           "size": 16
          },
          "showarrow": false,
          "text": "Layer 0, Head 7",
          "x": 0.9484375,
          "xanchor": "center",
          "xref": "paper",
          "y": 1,
          "yanchor": "bottom",
          "yref": "paper"
         },
         {
          "font": {
           "size": 16
          },
          "showarrow": false,
          "text": "Layer 1, Head 0",
          "x": 0.0515625,
          "xanchor": "center",
          "xref": "paper",
          "y": 0.43,
          "yanchor": "bottom",
          "yref": "paper"
         },
         {
          "font": {
           "size": 16
          },
          "showarrow": false,
          "text": "Layer 1, Head 1",
          "x": 0.1796875,
          "xanchor": "center",
          "xref": "paper",
          "y": 0.43,
          "yanchor": "bottom",
          "yref": "paper"
         },
         {
          "font": {
           "size": 16
          },
          "showarrow": false,
          "text": "Layer 1, Head 2",
          "x": 0.3078125,
          "xanchor": "center",
          "xref": "paper",
          "y": 0.43,
          "yanchor": "bottom",
          "yref": "paper"
         },
         {
          "font": {
           "size": 16
          },
          "showarrow": false,
          "text": "Layer 1, Head 3",
          "x": 0.4359375,
          "xanchor": "center",
          "xref": "paper",
          "y": 0.43,
          "yanchor": "bottom",
          "yref": "paper"
         },
         {
          "font": {
           "size": 16
          },
          "showarrow": false,
          "text": "Layer 1, Head 4",
          "x": 0.5640624999999999,
          "xanchor": "center",
          "xref": "paper",
          "y": 0.43,
          "yanchor": "bottom",
          "yref": "paper"
         },
         {
          "font": {
           "size": 16
          },
          "showarrow": false,
          "text": "Layer 1, Head 5",
          "x": 0.6921875,
          "xanchor": "center",
          "xref": "paper",
          "y": 0.43,
          "yanchor": "bottom",
          "yref": "paper"
         },
         {
          "font": {
           "size": 16
          },
          "showarrow": false,
          "text": "Layer 1, Head 6",
          "x": 0.8203125,
          "xanchor": "center",
          "xref": "paper",
          "y": 0.43,
          "yanchor": "bottom",
          "yref": "paper"
         },
         {
          "font": {
           "size": 16
          },
          "showarrow": false,
          "text": "Layer 1, Head 7",
          "x": 0.9484375,
          "xanchor": "center",
          "xref": "paper",
          "y": 0.43,
          "yanchor": "bottom",
          "yref": "paper"
         }
        ],
        "height": 500,
        "margin": {
         "t": 100
        },
        "template": {
         "data": {
          "bar": [
           {
            "error_x": {
             "color": "#2a3f5f"
            },
            "error_y": {
             "color": "#2a3f5f"
            },
            "marker": {
             "line": {
              "color": "#E5ECF6",
              "width": 0.5
             },
             "pattern": {
              "fillmode": "overlay",
              "size": 10,
              "solidity": 0.2
             }
            },
            "type": "bar"
           }
          ],
          "barpolar": [
           {
            "marker": {
             "line": {
              "color": "#E5ECF6",
              "width": 0.5
             },
             "pattern": {
              "fillmode": "overlay",
              "size": 10,
              "solidity": 0.2
             }
            },
            "type": "barpolar"
           }
          ],
          "carpet": [
           {
            "aaxis": {
             "endlinecolor": "#2a3f5f",
             "gridcolor": "white",
             "linecolor": "white",
             "minorgridcolor": "white",
             "startlinecolor": "#2a3f5f"
            },
            "baxis": {
             "endlinecolor": "#2a3f5f",
             "gridcolor": "white",
             "linecolor": "white",
             "minorgridcolor": "white",
             "startlinecolor": "#2a3f5f"
            },
            "type": "carpet"
           }
          ],
          "choropleth": [
           {
            "colorbar": {
             "outlinewidth": 0,
             "ticks": ""
            },
            "type": "choropleth"
           }
          ],
          "contour": [
           {
            "colorbar": {
             "outlinewidth": 0,
             "ticks": ""
            },
            "colorscale": [
             [
              0,
              "#0d0887"
             ],
             [
              0.1111111111111111,
              "#46039f"
             ],
             [
              0.2222222222222222,
              "#7201a8"
             ],
             [
              0.3333333333333333,
              "#9c179e"
             ],
             [
              0.4444444444444444,
              "#bd3786"
             ],
             [
              0.5555555555555556,
              "#d8576b"
             ],
             [
              0.6666666666666666,
              "#ed7953"
             ],
             [
              0.7777777777777778,
              "#fb9f3a"
             ],
             [
              0.8888888888888888,
              "#fdca26"
             ],
             [
              1,
              "#f0f921"
             ]
            ],
            "type": "contour"
           }
          ],
          "contourcarpet": [
           {
            "colorbar": {
             "outlinewidth": 0,
             "ticks": ""
            },
            "type": "contourcarpet"
           }
          ],
          "heatmap": [
           {
            "colorbar": {
             "outlinewidth": 0,
             "ticks": ""
            },
            "colorscale": [
             [
              0,
              "#0d0887"
             ],
             [
              0.1111111111111111,
              "#46039f"
             ],
             [
              0.2222222222222222,
              "#7201a8"
             ],
             [
              0.3333333333333333,
              "#9c179e"
             ],
             [
              0.4444444444444444,
              "#bd3786"
             ],
             [
              0.5555555555555556,
              "#d8576b"
             ],
             [
              0.6666666666666666,
              "#ed7953"
             ],
             [
              0.7777777777777778,
              "#fb9f3a"
             ],
             [
              0.8888888888888888,
              "#fdca26"
             ],
             [
              1,
              "#f0f921"
             ]
            ],
            "type": "heatmap"
           }
          ],
          "heatmapgl": [
           {
            "colorbar": {
             "outlinewidth": 0,
             "ticks": ""
            },
            "colorscale": [
             [
              0,
              "#0d0887"
             ],
             [
              0.1111111111111111,
              "#46039f"
             ],
             [
              0.2222222222222222,
              "#7201a8"
             ],
             [
              0.3333333333333333,
              "#9c179e"
             ],
             [
              0.4444444444444444,
              "#bd3786"
             ],
             [
              0.5555555555555556,
              "#d8576b"
             ],
             [
              0.6666666666666666,
              "#ed7953"
             ],
             [
              0.7777777777777778,
              "#fb9f3a"
             ],
             [
              0.8888888888888888,
              "#fdca26"
             ],
             [
              1,
              "#f0f921"
             ]
            ],
            "type": "heatmapgl"
           }
          ],
          "histogram": [
           {
            "marker": {
             "pattern": {
              "fillmode": "overlay",
              "size": 10,
              "solidity": 0.2
             }
            },
            "type": "histogram"
           }
          ],
          "histogram2d": [
           {
            "colorbar": {
             "outlinewidth": 0,
             "ticks": ""
            },
            "colorscale": [
             [
              0,
              "#0d0887"
             ],
             [
              0.1111111111111111,
              "#46039f"
             ],
             [
              0.2222222222222222,
              "#7201a8"
             ],
             [
              0.3333333333333333,
              "#9c179e"
             ],
             [
              0.4444444444444444,
              "#bd3786"
             ],
             [
              0.5555555555555556,
              "#d8576b"
             ],
             [
              0.6666666666666666,
              "#ed7953"
             ],
             [
              0.7777777777777778,
              "#fb9f3a"
             ],
             [
              0.8888888888888888,
              "#fdca26"
             ],
             [
              1,
              "#f0f921"
             ]
            ],
            "type": "histogram2d"
           }
          ],
          "histogram2dcontour": [
           {
            "colorbar": {
             "outlinewidth": 0,
             "ticks": ""
            },
            "colorscale": [
             [
              0,
              "#0d0887"
             ],
             [
              0.1111111111111111,
              "#46039f"
             ],
             [
              0.2222222222222222,
              "#7201a8"
             ],
             [
              0.3333333333333333,
              "#9c179e"
             ],
             [
              0.4444444444444444,
              "#bd3786"
             ],
             [
              0.5555555555555556,
              "#d8576b"
             ],
             [
              0.6666666666666666,
              "#ed7953"
             ],
             [
              0.7777777777777778,
              "#fb9f3a"
             ],
             [
              0.8888888888888888,
              "#fdca26"
             ],
             [
              1,
              "#f0f921"
             ]
            ],
            "type": "histogram2dcontour"
           }
          ],
          "mesh3d": [
           {
            "colorbar": {
             "outlinewidth": 0,
             "ticks": ""
            },
            "type": "mesh3d"
           }
          ],
          "parcoords": [
           {
            "line": {
             "colorbar": {
              "outlinewidth": 0,
              "ticks": ""
             }
            },
            "type": "parcoords"
           }
          ],
          "pie": [
           {
            "automargin": true,
            "type": "pie"
           }
          ],
          "scatter": [
           {
            "fillpattern": {
             "fillmode": "overlay",
             "size": 10,
             "solidity": 0.2
            },
            "type": "scatter"
           }
          ],
          "scatter3d": [
           {
            "line": {
             "colorbar": {
              "outlinewidth": 0,
              "ticks": ""
             }
            },
            "marker": {
             "colorbar": {
              "outlinewidth": 0,
              "ticks": ""
             }
            },
            "type": "scatter3d"
           }
          ],
          "scattercarpet": [
           {
            "marker": {
             "colorbar": {
              "outlinewidth": 0,
              "ticks": ""
             }
            },
            "type": "scattercarpet"
           }
          ],
          "scattergeo": [
           {
            "marker": {
             "colorbar": {
              "outlinewidth": 0,
              "ticks": ""
             }
            },
            "type": "scattergeo"
           }
          ],
          "scattergl": [
           {
            "marker": {
             "colorbar": {
              "outlinewidth": 0,
              "ticks": ""
             }
            },
            "type": "scattergl"
           }
          ],
          "scattermapbox": [
           {
            "marker": {
             "colorbar": {
              "outlinewidth": 0,
              "ticks": ""
             }
            },
            "type": "scattermapbox"
           }
          ],
          "scatterpolar": [
           {
            "marker": {
             "colorbar": {
              "outlinewidth": 0,
              "ticks": ""
             }
            },
            "type": "scatterpolar"
           }
          ],
          "scatterpolargl": [
           {
            "marker": {
             "colorbar": {
              "outlinewidth": 0,
              "ticks": ""
             }
            },
            "type": "scatterpolargl"
           }
          ],
          "scatterternary": [
           {
            "marker": {
             "colorbar": {
              "outlinewidth": 0,
              "ticks": ""
             }
            },
            "type": "scatterternary"
           }
          ],
          "surface": [
           {
            "colorbar": {
             "outlinewidth": 0,
             "ticks": ""
            },
            "colorscale": [
             [
              0,
              "#0d0887"
             ],
             [
              0.1111111111111111,
              "#46039f"
             ],
             [
              0.2222222222222222,
              "#7201a8"
             ],
             [
              0.3333333333333333,
              "#9c179e"
             ],
             [
              0.4444444444444444,
              "#bd3786"
             ],
             [
              0.5555555555555556,
              "#d8576b"
             ],
             [
              0.6666666666666666,
              "#ed7953"
             ],
             [
              0.7777777777777778,
              "#fb9f3a"
             ],
             [
              0.8888888888888888,
              "#fdca26"
             ],
             [
              1,
              "#f0f921"
             ]
            ],
            "type": "surface"
           }
          ],
          "table": [
           {
            "cells": {
             "fill": {
              "color": "#EBF0F8"
             },
             "line": {
              "color": "white"
             }
            },
            "header": {
             "fill": {
              "color": "#C8D4E3"
             },
             "line": {
              "color": "white"
             }
            },
            "type": "table"
           }
          ]
         },
         "layout": {
          "annotationdefaults": {
           "arrowcolor": "#2a3f5f",
           "arrowhead": 0,
           "arrowwidth": 1
          },
          "autotypenumbers": "strict",
          "coloraxis": {
           "colorbar": {
            "outlinewidth": 0,
            "ticks": ""
           }
          },
          "colorscale": {
           "diverging": [
            [
             0,
             "#8e0152"
            ],
            [
             0.1,
             "#c51b7d"
            ],
            [
             0.2,
             "#de77ae"
            ],
            [
             0.3,
             "#f1b6da"
            ],
            [
             0.4,
             "#fde0ef"
            ],
            [
             0.5,
             "#f7f7f7"
            ],
            [
             0.6,
             "#e6f5d0"
            ],
            [
             0.7,
             "#b8e186"
            ],
            [
             0.8,
             "#7fbc41"
            ],
            [
             0.9,
             "#4d9221"
            ],
            [
             1,
             "#276419"
            ]
           ],
           "sequential": [
            [
             0,
             "#0d0887"
            ],
            [
             0.1111111111111111,
             "#46039f"
            ],
            [
             0.2222222222222222,
             "#7201a8"
            ],
            [
             0.3333333333333333,
             "#9c179e"
            ],
            [
             0.4444444444444444,
             "#bd3786"
            ],
            [
             0.5555555555555556,
             "#d8576b"
            ],
            [
             0.6666666666666666,
             "#ed7953"
            ],
            [
             0.7777777777777778,
             "#fb9f3a"
            ],
            [
             0.8888888888888888,
             "#fdca26"
            ],
            [
             1,
             "#f0f921"
            ]
           ],
           "sequentialminus": [
            [
             0,
             "#0d0887"
            ],
            [
             0.1111111111111111,
             "#46039f"
            ],
            [
             0.2222222222222222,
             "#7201a8"
            ],
            [
             0.3333333333333333,
             "#9c179e"
            ],
            [
             0.4444444444444444,
             "#bd3786"
            ],
            [
             0.5555555555555556,
             "#d8576b"
            ],
            [
             0.6666666666666666,
             "#ed7953"
            ],
            [
             0.7777777777777778,
             "#fb9f3a"
            ],
            [
             0.8888888888888888,
             "#fdca26"
            ],
            [
             1,
             "#f0f921"
            ]
           ]
          },
          "colorway": [
           "#636efa",
           "#EF553B",
           "#00cc96",
           "#ab63fa",
           "#FFA15A",
           "#19d3f3",
           "#FF6692",
           "#B6E880",
           "#FF97FF",
           "#FECB52"
          ],
          "font": {
           "color": "#2a3f5f"
          },
          "geo": {
           "bgcolor": "white",
           "lakecolor": "white",
           "landcolor": "#E5ECF6",
           "showlakes": true,
           "showland": true,
           "subunitcolor": "white"
          },
          "hoverlabel": {
           "align": "left"
          },
          "hovermode": "closest",
          "mapbox": {
           "style": "light"
          },
          "paper_bgcolor": "white",
          "plot_bgcolor": "#E5ECF6",
          "polar": {
           "angularaxis": {
            "gridcolor": "white",
            "linecolor": "white",
            "ticks": ""
           },
           "bgcolor": "#E5ECF6",
           "radialaxis": {
            "gridcolor": "white",
            "linecolor": "white",
            "ticks": ""
           }
          },
          "scene": {
           "xaxis": {
            "backgroundcolor": "#E5ECF6",
            "gridcolor": "white",
            "gridwidth": 2,
            "linecolor": "white",
            "showbackground": true,
            "ticks": "",
            "zerolinecolor": "white"
           },
           "yaxis": {
            "backgroundcolor": "#E5ECF6",
            "gridcolor": "white",
            "gridwidth": 2,
            "linecolor": "white",
            "showbackground": true,
            "ticks": "",
            "zerolinecolor": "white"
           },
           "zaxis": {
            "backgroundcolor": "#E5ECF6",
            "gridcolor": "white",
            "gridwidth": 2,
            "linecolor": "white",
            "showbackground": true,
            "ticks": "",
            "zerolinecolor": "white"
           }
          },
          "shapedefaults": {
           "line": {
            "color": "#2a3f5f"
           }
          },
          "ternary": {
           "aaxis": {
            "gridcolor": "white",
            "linecolor": "white",
            "ticks": ""
           },
           "baxis": {
            "gridcolor": "white",
            "linecolor": "white",
            "ticks": ""
           },
           "bgcolor": "#E5ECF6",
           "caxis": {
            "gridcolor": "white",
            "linecolor": "white",
            "ticks": ""
           }
          },
          "title": {
           "x": 0.05
          },
          "xaxis": {
           "automargin": true,
           "gridcolor": "white",
           "linecolor": "white",
           "ticks": "",
           "title": {
            "standoff": 15
           },
           "zerolinecolor": "white",
           "zerolinewidth": 2
          },
          "yaxis": {
           "automargin": true,
           "gridcolor": "white",
           "linecolor": "white",
           "ticks": "",
           "title": {
            "standoff": 15
           },
           "zerolinecolor": "white",
           "zerolinewidth": 2
          }
         }
        },
        "title": {
         "text": "How much does each Head add to the Yours vs Mine direction, when a Tile is played"
        },
        "width": 1600,
        "xaxis": {
         "anchor": "y",
         "domain": [
          0,
          0.103125
         ]
        },
        "xaxis10": {
         "anchor": "y10",
         "domain": [
          0.128125,
          0.23124999999999998
         ]
        },
        "xaxis11": {
         "anchor": "y11",
         "domain": [
          0.25625,
          0.359375
         ]
        },
        "xaxis12": {
         "anchor": "y12",
         "domain": [
          0.38437499999999997,
          0.48749999999999993
         ]
        },
        "xaxis13": {
         "anchor": "y13",
         "domain": [
          0.5125,
          0.615625
         ]
        },
        "xaxis14": {
         "anchor": "y14",
         "domain": [
          0.640625,
          0.74375
         ]
        },
        "xaxis15": {
         "anchor": "y15",
         "domain": [
          0.76875,
          0.8718750000000001
         ]
        },
        "xaxis16": {
         "anchor": "y16",
         "domain": [
          0.8968750000000001,
          1
         ]
        },
        "xaxis2": {
         "anchor": "y2",
         "domain": [
          0.128125,
          0.23124999999999998
         ]
        },
        "xaxis3": {
         "anchor": "y3",
         "domain": [
          0.25625,
          0.359375
         ]
        },
        "xaxis4": {
         "anchor": "y4",
         "domain": [
          0.38437499999999997,
          0.48749999999999993
         ]
        },
        "xaxis5": {
         "anchor": "y5",
         "domain": [
          0.5125,
          0.615625
         ]
        },
        "xaxis6": {
         "anchor": "y6",
         "domain": [
          0.640625,
          0.74375
         ]
        },
        "xaxis7": {
         "anchor": "y7",
         "domain": [
          0.76875,
          0.8718750000000001
         ]
        },
        "xaxis8": {
         "anchor": "y8",
         "domain": [
          0.8968750000000001,
          1
         ]
        },
        "xaxis9": {
         "anchor": "y9",
         "domain": [
          0,
          0.103125
         ]
        },
        "yaxis": {
         "anchor": "x",
         "domain": [
          0.5700000000000001,
          1
         ]
        },
        "yaxis10": {
         "anchor": "x10",
         "domain": [
          0,
          0.43
         ]
        },
        "yaxis11": {
         "anchor": "x11",
         "domain": [
          0,
          0.43
         ]
        },
        "yaxis12": {
         "anchor": "x12",
         "domain": [
          0,
          0.43
         ]
        },
        "yaxis13": {
         "anchor": "x13",
         "domain": [
          0,
          0.43
         ]
        },
        "yaxis14": {
         "anchor": "x14",
         "domain": [
          0,
          0.43
         ]
        },
        "yaxis15": {
         "anchor": "x15",
         "domain": [
          0,
          0.43
         ]
        },
        "yaxis16": {
         "anchor": "x16",
         "domain": [
          0,
          0.43
         ]
        },
        "yaxis2": {
         "anchor": "x2",
         "domain": [
          0.5700000000000001,
          1
         ]
        },
        "yaxis3": {
         "anchor": "x3",
         "domain": [
          0.5700000000000001,
          1
         ]
        },
        "yaxis4": {
         "anchor": "x4",
         "domain": [
          0.5700000000000001,
          1
         ]
        },
        "yaxis5": {
         "anchor": "x5",
         "domain": [
          0.5700000000000001,
          1
         ]
        },
        "yaxis6": {
         "anchor": "x6",
         "domain": [
          0.5700000000000001,
          1
         ]
        },
        "yaxis7": {
         "anchor": "x7",
         "domain": [
          0.5700000000000001,
          1
         ]
        },
        "yaxis8": {
         "anchor": "x8",
         "domain": [
          0.5700000000000001,
          1
         ]
        },
        "yaxis9": {
         "anchor": "x9",
         "domain": [
          0,
          0.43
         ]
        }
       }
      },
      "text/html": [
       "<div>                            <div id=\"0cbe8801-d0c1-4081-a544-c3372516a164\" class=\"plotly-graph-div\" style=\"height:500px; width:1600px;\"></div>            <script type=\"text/javascript\">                require([\"plotly\"], function(Plotly) {                    window.PLOTLYENV=window.PLOTLYENV || {};                                    if (document.getElementById(\"0cbe8801-d0c1-4081-a544-c3372516a164\")) {                    Plotly.newPlot(                        \"0cbe8801-d0c1-4081-a544-c3372516a164\",                        [{\"colorscale\":[[0.0,\"rgb(103,0,31)\"],[0.1,\"rgb(178,24,43)\"],[0.2,\"rgb(214,96,77)\"],[0.3,\"rgb(244,165,130)\"],[0.4,\"rgb(253,219,199)\"],[0.5,\"rgb(247,247,247)\"],[0.6,\"rgb(209,229,240)\"],[0.7,\"rgb(146,197,222)\"],[0.8,\"rgb(67,147,195)\"],[0.9,\"rgb(33,102,172)\"],[1.0,\"rgb(5,48,97)\"]],\"hoverongaps\":false,\"x\":[0,1,2,3,4,5,6,7],\"y\":[\"H\",\"G\",\"F\",\"E\",\"D\",\"C\",\"B\",\"A\"],\"z\":[[-0.5109555721282959,-0.53268963098526,-0.41284194588661194,-0.4283037483692169,-0.3415353000164032,-0.26022952795028687,-0.4734058678150177,-0.5540622472763062],[-0.4724953770637512,-0.28060320019721985,-0.189046248793602,-0.24564264714717865,-0.13320401310920715,-0.2111498862504959,-0.2658461928367615,-0.49810662865638733],[-0.4674530327320099,-0.1241314709186554,-0.07604187726974487,-0.048431236296892166,-0.020680969581007957,-0.1264890432357788,-0.2246030569076538,-0.47415173053741455],[-0.465605229139328,-0.16450093686580658,-0.08198445290327072,0.0,0.0,-0.0126462671905756,-0.14938940107822418,-0.4636804759502411],[-0.33733317255973816,-0.15949149429798126,-0.03793344274163246,0.0,0.0,-0.02858925797045231,-0.14326666295528412,-0.3912707269191742],[-0.5104397535324097,-0.20260591804981232,-0.10161027312278748,-0.016075029969215393,-0.048560380935668945,-0.11438820511102676,-0.17046725749969482,-0.3266068398952484],[-0.5588479042053223,-0.18479441106319427,-0.2033892273902893,-0.20413121581077576,-0.1999659389257431,-0.19308443367481232,-0.2573016285896301,-0.5155375599861145],[-0.5445004105567932,-0.5382981300354004,-0.4635315239429474,-0.3216419517993927,-0.38024666905403137,-0.3711822032928467,-0.4920424520969391,-0.5418504476547241]],\"zmax\":0.6486442685127258,\"zmin\":-0.6486442685127258,\"type\":\"heatmap\",\"xaxis\":\"x\",\"yaxis\":\"y\"},{\"colorscale\":[[0.0,\"rgb(103,0,31)\"],[0.1,\"rgb(178,24,43)\"],[0.2,\"rgb(214,96,77)\"],[0.3,\"rgb(244,165,130)\"],[0.4,\"rgb(253,219,199)\"],[0.5,\"rgb(247,247,247)\"],[0.6,\"rgb(209,229,240)\"],[0.7,\"rgb(146,197,222)\"],[0.8,\"rgb(67,147,195)\"],[0.9,\"rgb(33,102,172)\"],[1.0,\"rgb(5,48,97)\"]],\"hoverongaps\":false,\"x\":[0,1,2,3,4,5,6,7],\"y\":[\"H\",\"G\",\"F\",\"E\",\"D\",\"C\",\"B\",\"A\"],\"z\":[[0.48889100551605225,0.5284522771835327,0.5460953116416931,0.6174176931381226,0.5695773363113403,0.6118380427360535,0.17037098109722137,0.060909099876880646],[0.5311378240585327,0.48269516229629517,0.22660395503044128,0.21011285483837128,0.14932279288768768,0.18837815523147583,0.054590146988630295,0.04791642725467682],[0.5388193130493164,0.25461313128471375,0.1277284175157547,0.004217780660837889,0.03937464952468872,-0.006523788906633854,0.07692772895097733,0.4023140072822571],[0.6486442685127258,0.34803634881973267,0.18307413160800934,0.0,0.0,0.01681860163807869,0.14241763949394226,0.5748164057731628],[0.5442171096801758,0.5496416687965393,0.42070472240448,0.0,0.0,0.049664441496133804,0.29674866795539856,0.5756961703300476],[0.5719577670097351,0.5487386584281921,0.5631444454193115,0.5700070261955261,0.5475583672523499,0.35957029461860657,0.4071051776409149,0.5578383207321167],[0.5506170392036438,0.5302883386611938,0.6081273555755615,0.5829493403434753,0.5941370129585266,0.5315305590629578,0.5264275074005127,0.5607372522354126],[0.49275246262550354,0.43101444840431213,0.5968281626701355,0.6213948130607605,0.6451261043548584,0.5814440846443176,0.5329828858375549,0.5183677673339844]],\"zmax\":0.6486442685127258,\"zmin\":-0.6486442685127258,\"type\":\"heatmap\",\"xaxis\":\"x9\",\"yaxis\":\"y9\"},{\"colorscale\":[[0.0,\"rgb(103,0,31)\"],[0.1,\"rgb(178,24,43)\"],[0.2,\"rgb(214,96,77)\"],[0.3,\"rgb(244,165,130)\"],[0.4,\"rgb(253,219,199)\"],[0.5,\"rgb(247,247,247)\"],[0.6,\"rgb(209,229,240)\"],[0.7,\"rgb(146,197,222)\"],[0.8,\"rgb(67,147,195)\"],[0.9,\"rgb(33,102,172)\"],[1.0,\"rgb(5,48,97)\"]],\"hoverongaps\":false,\"x\":[0,1,2,3,4,5,6,7],\"y\":[\"H\",\"G\",\"F\",\"E\",\"D\",\"C\",\"B\",\"A\"],\"z\":[[0.16861534118652344,0.01079266332089901,0.1301458179950714,0.10750466585159302,0.10288828611373901,0.1583930104970932,0.04108143597841263,0.2684498727321625],[-0.013204565271735191,0.0816715806722641,0.07485507428646088,0.02313682809472084,0.13953083753585815,0.111970916390419,0.07959239929914474,0.061239100992679596],[0.05624709650874138,0.20419618487358093,0.09023439139127731,0.058175522834062576,0.04529675468802452,0.060918815433979034,0.09131709486246109,0.14614881575107574],[0.007773228920996189,0.029753778129816055,0.03424312174320221,0.0,0.0,0.01685277745127678,0.0903654545545578,0.07623651623725891],[0.0757087990641594,0.10208383947610855,-0.01710251159965992,0.0,0.0,0.09594564884901047,0.12081249058246613,0.14604833722114563],[-0.004682106431573629,0.1461397260427475,0.08830609172582626,0.04249759018421173,0.055922284722328186,0.07760833948850632,0.13073842227458954,0.10542917251586914],[-0.09297306090593338,0.1313699632883072,0.08810849487781525,0.027757784351706505,0.08941258490085602,0.1328212320804596,0.09148428589105606,0.01424022763967514],[0.19940006732940674,-0.03335380181670189,0.06436359882354736,0.13007010519504547,0.15657201409339905,0.11171355843544006,0.10601020604372025,0.16488930583000183]],\"zmax\":0.6486442685127258,\"zmin\":-0.6486442685127258,\"type\":\"heatmap\",\"xaxis\":\"x2\",\"yaxis\":\"y2\"},{\"colorscale\":[[0.0,\"rgb(103,0,31)\"],[0.1,\"rgb(178,24,43)\"],[0.2,\"rgb(214,96,77)\"],[0.3,\"rgb(244,165,130)\"],[0.4,\"rgb(253,219,199)\"],[0.5,\"rgb(247,247,247)\"],[0.6,\"rgb(209,229,240)\"],[0.7,\"rgb(146,197,222)\"],[0.8,\"rgb(67,147,195)\"],[0.9,\"rgb(33,102,172)\"],[1.0,\"rgb(5,48,97)\"]],\"hoverongaps\":false,\"x\":[0,1,2,3,4,5,6,7],\"y\":[\"H\",\"G\",\"F\",\"E\",\"D\",\"C\",\"B\",\"A\"],\"z\":[[-0.1857132464647293,-0.13147205114364624,-0.11885020136833191,-0.11498909443616867,-0.06166674569249153,-0.09316238015890121,-0.0029617154505103827,-0.03766047954559326],[0.010421241633594036,0.0334918238222599,-0.1353597193956375,-0.06604953855276108,-0.051525719463825226,-0.0743507519364357,-0.00600391672924161,0.017459766939282417],[0.12618248164653778,-0.2710491418838501,0.03489074856042862,-0.013199650682508945,-0.05510638281702995,0.01871844194829464,-0.021668635308742523,-0.03174717351794243],[0.12468186765909195,-0.28942808508872986,-0.07156510651111603,0.0,0.0,-0.11664339900016785,0.041017111390829086,-0.022467399016022682],[-0.052838657051324844,-0.19160670042037964,-0.12483565509319305,0.0,0.0,-0.061579521745443344,-0.07986971735954285,-0.09505154937505722],[-0.024414563551545143,0.006815463770180941,0.04219431430101395,-0.017743615433573723,-0.022863076999783516,0.02549644745886326,-0.11058450490236282,-0.0412035770714283],[-0.021317625418305397,-0.03183204308152199,-0.05320291966199875,-0.05708662047982216,-0.0864252820611,-0.03800615295767784,-0.246054008603096,-0.0922616645693779],[-0.1417745053768158,0.018194429576396942,-0.003344757715240121,0.1272866576910019,0.08920766413211823,0.20894168317317963,0.14031748473644257,-0.15685433149337769]],\"zmax\":0.6486442685127258,\"zmin\":-0.6486442685127258,\"type\":\"heatmap\",\"xaxis\":\"x10\",\"yaxis\":\"y10\"},{\"colorscale\":[[0.0,\"rgb(103,0,31)\"],[0.1,\"rgb(178,24,43)\"],[0.2,\"rgb(214,96,77)\"],[0.3,\"rgb(244,165,130)\"],[0.4,\"rgb(253,219,199)\"],[0.5,\"rgb(247,247,247)\"],[0.6,\"rgb(209,229,240)\"],[0.7,\"rgb(146,197,222)\"],[0.8,\"rgb(67,147,195)\"],[0.9,\"rgb(33,102,172)\"],[1.0,\"rgb(5,48,97)\"]],\"hoverongaps\":false,\"x\":[0,1,2,3,4,5,6,7],\"y\":[\"H\",\"G\",\"F\",\"E\",\"D\",\"C\",\"B\",\"A\"],\"z\":[[-0.09915502369403839,-0.35088127851486206,-0.3519533574581146,-0.35295501351356506,-0.3680659830570221,-0.33023613691329956,-0.3865939974784851,-0.09822934120893478],[-0.3507276177406311,-0.291561096906662,-0.31822293996810913,-0.35061171650886536,-0.31856706738471985,-0.3350023627281189,-0.27315258979797363,-0.3473520576953888],[-0.3369162082672119,-0.33469751477241516,-0.33537372946739197,-0.31501173973083496,-0.3239036202430725,-0.3140118420124054,-0.30529141426086426,-0.36405816674232483],[-0.36852043867111206,-0.31623637676239014,-0.3187890946865082,0.0,0.0,-0.32235515117645264,-0.3149789571762085,-0.3786369264125824],[-0.308630108833313,-0.2816450297832489,-0.3494415879249573,0.0,0.0,-0.2941528558731079,-0.3402445614337921,-0.31989753246307373],[-0.3562104105949402,-0.30193328857421875,-0.2786979675292969,-0.3167578876018524,-0.30910515785217285,-0.2540668547153473,-0.2500743567943573,-0.3263695240020752],[-0.38164108991622925,-0.2992931306362152,-0.3244192600250244,-0.3631221652030945,-0.3094831109046936,-0.29780614376068115,-0.31801605224609375,-0.37370723485946655],[-0.09749328345060349,-0.3471865952014923,-0.3703348934650421,-0.300475150346756,-0.3784332573413849,-0.3219051957130432,-0.324981689453125,-0.18147078156471252]],\"zmax\":0.6486442685127258,\"zmin\":-0.6486442685127258,\"type\":\"heatmap\",\"xaxis\":\"x3\",\"yaxis\":\"y3\"},{\"colorscale\":[[0.0,\"rgb(103,0,31)\"],[0.1,\"rgb(178,24,43)\"],[0.2,\"rgb(214,96,77)\"],[0.3,\"rgb(244,165,130)\"],[0.4,\"rgb(253,219,199)\"],[0.5,\"rgb(247,247,247)\"],[0.6,\"rgb(209,229,240)\"],[0.7,\"rgb(146,197,222)\"],[0.8,\"rgb(67,147,195)\"],[0.9,\"rgb(33,102,172)\"],[1.0,\"rgb(5,48,97)\"]],\"hoverongaps\":false,\"x\":[0,1,2,3,4,5,6,7],\"y\":[\"H\",\"G\",\"F\",\"E\",\"D\",\"C\",\"B\",\"A\"],\"z\":[[-0.1310558021068573,-0.1312209814786911,-0.07813413441181183,-0.10136682540178299,-0.15317445993423462,-0.154069721698761,-0.1390860676765442,-0.26110443472862244],[-0.11574345082044601,-0.37254345417022705,-0.37102267146110535,-0.4755226969718933,-0.3998451232910156,-0.3956521451473236,-0.29723310470581055,-0.2045905739068985],[-0.22227944433689117,-0.2912132441997528,-0.4177517890930176,-0.4222707748413086,-0.3336026072502136,-0.37666770815849304,-0.48282623291015625,-0.12171455472707748],[-0.2893577516078949,-0.4064249098300934,-0.3864588439464569,0.0,0.0,-0.4085838794708252,-0.403105229139328,-0.16403692960739136],[-0.1451450139284134,-0.3867585062980652,-0.45544278621673584,0.0,0.0,-0.4396073520183563,-0.42395031452178955,-0.1468900889158249],[-0.226571187376976,-0.35751187801361084,-0.2740321159362793,-0.34827563166618347,-0.37805795669555664,-0.40213820338249207,-0.3362925350666046,-0.15864154696464539],[-0.16042891144752502,-0.3261427879333496,-0.45723745226860046,-0.39672642946243286,-0.44349539279937744,-0.34112364053726196,-0.2954942286014557,-0.07123225182294846],[-0.22435088455677032,-0.14371620118618011,-0.18524949252605438,-0.10526037216186523,-0.14776954054832458,-0.14518575370311737,-0.08032181859016418,-0.08486197143793106]],\"zmax\":0.6486442685127258,\"zmin\":-0.6486442685127258,\"type\":\"heatmap\",\"xaxis\":\"x11\",\"yaxis\":\"y11\"},{\"colorscale\":[[0.0,\"rgb(103,0,31)\"],[0.1,\"rgb(178,24,43)\"],[0.2,\"rgb(214,96,77)\"],[0.3,\"rgb(244,165,130)\"],[0.4,\"rgb(253,219,199)\"],[0.5,\"rgb(247,247,247)\"],[0.6,\"rgb(209,229,240)\"],[0.7,\"rgb(146,197,222)\"],[0.8,\"rgb(67,147,195)\"],[0.9,\"rgb(33,102,172)\"],[1.0,\"rgb(5,48,97)\"]],\"hoverongaps\":false,\"x\":[0,1,2,3,4,5,6,7],\"y\":[\"H\",\"G\",\"F\",\"E\",\"D\",\"C\",\"B\",\"A\"],\"z\":[[0.4740089178085327,0.575327455997467,0.5025511384010315,0.5058525204658508,0.4631260335445404,0.5259102582931519,0.5537115931510925,0.48091182112693787],[0.5308473706245422,0.4499202072620392,0.4221631586551666,0.4218446612358093,0.4816305637359619,0.4093128442764282,0.44158393144607544,0.5912160277366638],[0.5370899438858032,0.5010007619857788,0.400017648935318,0.3170490562915802,0.3697805404663086,0.35233038663864136,0.4040423631668091,0.5093209743499756],[0.4275408089160919,0.4137389063835144,0.3108559846878052,0.0,0.0,0.35533568263053894,0.4562295377254486,0.4981813430786133],[0.4238990843296051,0.4366634786128998,0.3340114951133728,0.0,0.0,0.3410865068435669,0.4549786448478699,0.5771222710609436],[0.4139808416366577,0.48102036118507385,0.3863499164581299,0.3380984961986542,0.32396891713142395,0.40740519762039185,0.43520593643188477,0.5161687731742859],[0.4895098805427551,0.433368444442749,0.44761180877685547,0.439862996339798,0.41799840331077576,0.4517657458782196,0.4550854563713074,0.5485683679580688],[0.47334301471710205,0.5343883037567139,0.5331292748451233,0.5125074982643127,0.439098596572876,0.4993767738342285,0.5805402994155884,0.4548996388912201]],\"zmax\":0.6486442685127258,\"zmin\":-0.6486442685127258,\"type\":\"heatmap\",\"xaxis\":\"x4\",\"yaxis\":\"y4\"},{\"colorscale\":[[0.0,\"rgb(103,0,31)\"],[0.1,\"rgb(178,24,43)\"],[0.2,\"rgb(214,96,77)\"],[0.3,\"rgb(244,165,130)\"],[0.4,\"rgb(253,219,199)\"],[0.5,\"rgb(247,247,247)\"],[0.6,\"rgb(209,229,240)\"],[0.7,\"rgb(146,197,222)\"],[0.8,\"rgb(67,147,195)\"],[0.9,\"rgb(33,102,172)\"],[1.0,\"rgb(5,48,97)\"]],\"hoverongaps\":false,\"x\":[0,1,2,3,4,5,6,7],\"y\":[\"H\",\"G\",\"F\",\"E\",\"D\",\"C\",\"B\",\"A\"],\"z\":[[-0.3058110773563385,-0.4665791988372803,-0.2877126932144165,-0.3628462255001068,-0.33261629939079285,-0.41299986839294434,-0.3568083941936493,-0.2982065677642822],[-0.3455148935317993,-0.3575054407119751,-0.31287890672683716,-0.299788236618042,-0.3019457459449768,-0.29486003518104553,-0.279832661151886,-0.4183616042137146],[-0.2831220030784607,-0.3034006655216217,-0.2575753331184387,-0.2651435136795044,-0.23058275878429413,-0.22131113708019257,-0.3152855932712555,-0.34985509514808655],[-0.22967906296253204,-0.2919800579547882,-0.30012938380241394,0.0,0.0,-0.276968389749527,-0.24420520663261414,-0.3455323576927185],[-0.2585304081439972,-0.25164398550987244,-0.28224506974220276,0.0,0.0,-0.2241307944059372,-0.3109152019023895,-0.32694199681282043],[-0.2882094979286194,-0.30149468779563904,-0.19285114109516144,-0.1948762834072113,-0.2599816918373108,-0.29133889079093933,-0.2543148994445801,-0.3871622383594513],[-0.3461991548538208,-0.2896357774734497,-0.249723881483078,-0.2528168857097626,-0.33724892139434814,-0.22703132033348083,-0.27961528301239014,-0.41572296619415283],[-0.312850683927536,-0.44268834590911865,-0.4061987102031708,-0.37346336245536804,-0.3157573342323303,-0.3851432800292969,-0.4493027329444885,-0.15932995080947876]],\"zmax\":0.6486442685127258,\"zmin\":-0.6486442685127258,\"type\":\"heatmap\",\"xaxis\":\"x12\",\"yaxis\":\"y12\"},{\"colorscale\":[[0.0,\"rgb(103,0,31)\"],[0.1,\"rgb(178,24,43)\"],[0.2,\"rgb(214,96,77)\"],[0.3,\"rgb(244,165,130)\"],[0.4,\"rgb(253,219,199)\"],[0.5,\"rgb(247,247,247)\"],[0.6,\"rgb(209,229,240)\"],[0.7,\"rgb(146,197,222)\"],[0.8,\"rgb(67,147,195)\"],[0.9,\"rgb(33,102,172)\"],[1.0,\"rgb(5,48,97)\"]],\"hoverongaps\":false,\"x\":[0,1,2,3,4,5,6,7],\"y\":[\"H\",\"G\",\"F\",\"E\",\"D\",\"C\",\"B\",\"A\"],\"z\":[[0.23795755207538605,0.017301443964242935,0.12486886978149414,0.17043551802635193,0.10128351300954819,0.18352803587913513,0.05801999941468239,0.29721277952194214],[0.004850846715271473,0.08368974179029465,0.05029601231217384,4.9906411732081324e-05,0.12919308245182037,0.12651245296001434,0.07730470597743988,0.09292849153280258],[0.09327904880046844,0.20533756911754608,0.09026986360549927,0.02163597010076046,0.06094641983509064,0.03900117799639702,0.05480886250734329,0.1657475233078003],[0.09225587546825409,0.014418494887650013,0.006034392397850752,0.0,0.0,0.014195923693478107,0.09070006757974625,0.1378503143787384],[0.10323446989059448,0.09555868059396744,0.009287994354963303,0.0,0.0,0.057644519954919815,0.13323664665222168,0.1560065895318985],[0.05094686895608902,0.13783472776412964,0.07614593952894211,0.019746074452996254,0.04498475417494774,0.06142750009894371,0.14479054510593414,0.11855436861515045],[-0.012265601195394993,0.13610012829303741,0.10926013439893723,0.028063246980309486,0.09508530050516129,0.12335062026977539,0.14694978296756744,0.04825633764266968],[0.23379255831241608,0.0011944181751459837,0.11477028578519821,0.15721343457698822,0.15866531431674957,0.15732163190841675,0.009432206861674786,0.20563825964927673]],\"zmax\":0.6486442685127258,\"zmin\":-0.6486442685127258,\"type\":\"heatmap\",\"xaxis\":\"x5\",\"yaxis\":\"y5\"},{\"colorscale\":[[0.0,\"rgb(103,0,31)\"],[0.1,\"rgb(178,24,43)\"],[0.2,\"rgb(214,96,77)\"],[0.3,\"rgb(244,165,130)\"],[0.4,\"rgb(253,219,199)\"],[0.5,\"rgb(247,247,247)\"],[0.6,\"rgb(209,229,240)\"],[0.7,\"rgb(146,197,222)\"],[0.8,\"rgb(67,147,195)\"],[0.9,\"rgb(33,102,172)\"],[1.0,\"rgb(5,48,97)\"]],\"hoverongaps\":false,\"x\":[0,1,2,3,4,5,6,7],\"y\":[\"H\",\"G\",\"F\",\"E\",\"D\",\"C\",\"B\",\"A\"],\"z\":[[0.11777181923389435,0.11931130290031433,0.19771938025951385,0.1573028862476349,0.1943444311618805,0.313092440366745,0.5149367451667786,0.4661625921726227],[0.41424617171287537,0.6117643117904663,0.6020762324333191,0.5594368577003479,0.49597954750061035,0.5161884427070618,0.4902893602848053,0.5031725168228149],[0.4453575909137726,0.6221467852592468,0.4784696698188782,0.274265855550766,0.3379802405834198,0.5665856599807739,0.5631921291351318,0.5459730625152588],[0.5170043706893921,0.5711876153945923,0.0688946396112442,0.0,0.0,0.5568975806236267,0.5866662263870239,0.5659464001655579],[0.5190669298171997,0.2624336779117584,0.0015691490843892097,0.0,0.0,0.5183412432670593,0.5418594479560852,0.5843482613563538],[0.5154178738594055,0.11126399785280228,0.03696960210800171,0.011514746583998203,0.2443132847547531,0.568111777305603,0.568790078163147,0.5146424174308777],[0.3937177062034607,0.13139522075653076,0.03605005145072937,0.08827123790979385,0.36931800842285156,0.4961404800415039,0.4789658188819885,0.4466375410556793],[0.17985358834266663,0.5055018067359924,0.5287179350852966,0.5602786540985107,0.5503231287002563,0.5062674283981323,0.36194995045661926,0.08024831861257553]],\"zmax\":0.6486442685127258,\"zmin\":-0.6486442685127258,\"type\":\"heatmap\",\"xaxis\":\"x13\",\"yaxis\":\"y13\"},{\"colorscale\":[[0.0,\"rgb(103,0,31)\"],[0.1,\"rgb(178,24,43)\"],[0.2,\"rgb(214,96,77)\"],[0.3,\"rgb(244,165,130)\"],[0.4,\"rgb(253,219,199)\"],[0.5,\"rgb(247,247,247)\"],[0.6,\"rgb(209,229,240)\"],[0.7,\"rgb(146,197,222)\"],[0.8,\"rgb(67,147,195)\"],[0.9,\"rgb(33,102,172)\"],[1.0,\"rgb(5,48,97)\"]],\"hoverongaps\":false,\"x\":[0,1,2,3,4,5,6,7],\"y\":[\"H\",\"G\",\"F\",\"E\",\"D\",\"C\",\"B\",\"A\"],\"z\":[[0.23362082242965698,0.02357986383140087,0.10955970734357834,0.15535910427570343,0.030699409544467926,0.16957031190395355,0.05896305292844772,0.2718614339828491],[-0.013709082268178463,0.06872539967298508,0.06960324198007584,0.01957525499165058,0.13296322524547577,0.13009388744831085,0.07185444980859756,0.08185790479183197],[0.11667308956384659,0.194112166762352,0.10110503435134888,0.038640283048152924,0.04024793207645416,0.0469936728477478,0.07871635258197784,0.1773739755153656],[0.05117082595825195,0.04407821223139763,0.03819580003619194,0.0,0.0,0.02674877643585205,0.10763852298259735,0.10947068780660629],[0.13155676424503326,0.1033857986330986,0.03730381652712822,0.0,0.0,0.08856291323900223,0.10660775005817413,0.1602109670639038],[0.03625456243753433,0.15000757575035095,0.07432057708501816,0.07738695293664932,0.06935832649469376,0.1095055639743805,0.15171147882938385,0.1291443109512329],[-0.08760003745555878,0.06427506357431412,0.0993368923664093,0.04037674888968468,0.09851352125406265,0.1469060629606247,0.10883769392967224,0.041721176356077194],[0.21846529841423035,-0.006821765098720789,0.10652060806751251,0.04143531993031502,0.15499097108840942,0.0024813010822981596,0.12523171305656433,0.19477665424346924]],\"zmax\":0.6486442685127258,\"zmin\":-0.6486442685127258,\"type\":\"heatmap\",\"xaxis\":\"x6\",\"yaxis\":\"y6\"},{\"colorscale\":[[0.0,\"rgb(103,0,31)\"],[0.1,\"rgb(178,24,43)\"],[0.2,\"rgb(214,96,77)\"],[0.3,\"rgb(244,165,130)\"],[0.4,\"rgb(253,219,199)\"],[0.5,\"rgb(247,247,247)\"],[0.6,\"rgb(209,229,240)\"],[0.7,\"rgb(146,197,222)\"],[0.8,\"rgb(67,147,195)\"],[0.9,\"rgb(33,102,172)\"],[1.0,\"rgb(5,48,97)\"]],\"hoverongaps\":false,\"x\":[0,1,2,3,4,5,6,7],\"y\":[\"H\",\"G\",\"F\",\"E\",\"D\",\"C\",\"B\",\"A\"],\"z\":[[0.0557563416659832,0.1280076503753662,0.11188774555921555,0.18254229426383972,0.17585767805576324,0.18979349732398987,0.12964843213558197,0.17963090538978577],[0.08119554072618484,0.1603926718235016,0.19722718000411987,0.21361371874809265,0.2635173201560974,0.2863973081111908,0.2912844121456146,0.19840107858181],[0.048780664801597595,0.22437362372875214,0.2396206110715866,0.23549626767635345,0.20014075934886932,0.241875559091568,0.23726552724838257,0.03744171932339668],[0.04536660760641098,0.24995587766170502,0.17676392197608948,0.0,0.0,0.3334866762161255,0.22271180152893066,0.06775718927383423],[0.041968636214733124,0.23672372102737427,0.24549010396003723,0.0,0.0,0.24550487101078033,0.29881927371025085,0.05209149420261383],[0.0071327537298202515,0.27097535133361816,0.25250017642974854,0.28441935777664185,0.3272600471973419,0.35671505331993103,0.2990243434906006,0.09914780408143997],[0.06751281023025513,0.26924386620521545,0.29057610034942627,0.3199058473110199,0.30096179246902466,0.2648595869541168,0.2969282865524292,0.1345905363559723],[0.13610100746154785,0.14431042969226837,0.17598070204257965,0.1419287919998169,0.06414922326803207,0.08771351724863052,0.23402389883995056,0.1327027529478073]],\"zmax\":0.6486442685127258,\"zmin\":-0.6486442685127258,\"type\":\"heatmap\",\"xaxis\":\"x14\",\"yaxis\":\"y14\"},{\"colorscale\":[[0.0,\"rgb(103,0,31)\"],[0.1,\"rgb(178,24,43)\"],[0.2,\"rgb(214,96,77)\"],[0.3,\"rgb(244,165,130)\"],[0.4,\"rgb(253,219,199)\"],[0.5,\"rgb(247,247,247)\"],[0.6,\"rgb(209,229,240)\"],[0.7,\"rgb(146,197,222)\"],[0.8,\"rgb(67,147,195)\"],[0.9,\"rgb(33,102,172)\"],[1.0,\"rgb(5,48,97)\"]],\"hoverongaps\":false,\"x\":[0,1,2,3,4,5,6,7],\"y\":[\"H\",\"G\",\"F\",\"E\",\"D\",\"C\",\"B\",\"A\"],\"z\":[[0.5982282161712646,0.5394173860549927,0.45713239908218384,0.47960057854652405,0.3919907510280609,0.4721090793609619,0.5301871299743652,0.6352081298828125],[0.4997957944869995,0.3211521506309509,0.19646558165550232,0.14750047028064728,0.2482856810092926,0.30193766951560974,0.324794739484787,0.5603317618370056],[0.512809157371521,0.3664255142211914,0.12145712226629257,0.011779055930674076,-0.004600869957357645,0.07963927090167999,0.23129509389400482,0.4717952609062195],[0.4053580164909363,0.14392350614070892,0.008005674928426743,0.0,0.0,-0.014686964452266693,0.21795542538166046,0.485493540763855],[0.3749414384365082,0.19779019057750702,-0.023549064993858337,0.0,0.0,0.058035094290971756,0.2497502863407135,0.5332704782485962],[0.36755627393722534,0.36308684945106506,0.10154443979263306,-0.005129725206643343,0.03651915490627289,0.14592820405960083,0.319139689207077,0.4436943531036377],[0.48384371399879456,0.3028828203678131,0.2662743031978607,0.17573004961013794,0.25449225306510925,0.2703225612640381,0.3362511396408081,0.5216432809829712],[0.6176025867462158,0.49473604559898376,0.5379387140274048,0.48703449964523315,0.3958757519721985,0.4506780207157135,0.5324695706367493,0.5825285315513611]],\"zmax\":0.6486442685127258,\"zmin\":-0.6486442685127258,\"type\":\"heatmap\",\"xaxis\":\"x7\",\"yaxis\":\"y7\"},{\"colorscale\":[[0.0,\"rgb(103,0,31)\"],[0.1,\"rgb(178,24,43)\"],[0.2,\"rgb(214,96,77)\"],[0.3,\"rgb(244,165,130)\"],[0.4,\"rgb(253,219,199)\"],[0.5,\"rgb(247,247,247)\"],[0.6,\"rgb(209,229,240)\"],[0.7,\"rgb(146,197,222)\"],[0.8,\"rgb(67,147,195)\"],[0.9,\"rgb(33,102,172)\"],[1.0,\"rgb(5,48,97)\"]],\"hoverongaps\":false,\"x\":[0,1,2,3,4,5,6,7],\"y\":[\"H\",\"G\",\"F\",\"E\",\"D\",\"C\",\"B\",\"A\"],\"z\":[[0.18778859078884125,0.3610943555831909,0.3302004635334015,0.3233323097229004,0.3296125531196594,0.4196896553039551,0.3271659314632416,0.1033930703997612],[0.2721775770187378,0.36378005146980286,0.2798289656639099,0.39790254831314087,0.45479249954223633,0.49049463868141174,0.40472158789634705,0.3031512498855591],[0.2878822088241577,0.2751818001270294,0.4592518210411072,0.4740045964717865,0.4817545413970947,0.4103398621082306,0.34304651618003845,0.3658962547779083],[0.23949110507965088,0.39261648058891296,0.4920492172241211,0.0,0.0,0.3184996247291565,0.21691153943538666,0.2674558460712433],[0.14912298321723938,0.41434723138809204,0.4578268826007843,0.0,0.0,0.12440883368253708,0.14551234245300293,0.1207452043890953],[0.2201242446899414,0.4894963502883911,0.28674858808517456,0.17650477588176727,0.13345956802368164,0.15589040517807007,0.09355315566062927,0.10240219533443451],[0.264982134103775,0.3777991533279419,0.23957951366901398,0.13339993357658386,0.09864187240600586,0.091028593480587,0.14996643364429474,0.06991454213857651],[0.15277305245399475,0.07953584939241409,0.051456402987241745,0.07276038080453873,0.017174072563648224,0.04440303519368172,0.05935746803879738,0.025228507816791534]],\"zmax\":0.6486442685127258,\"zmin\":-0.6486442685127258,\"type\":\"heatmap\",\"xaxis\":\"x15\",\"yaxis\":\"y15\"},{\"colorscale\":[[0.0,\"rgb(103,0,31)\"],[0.1,\"rgb(178,24,43)\"],[0.2,\"rgb(214,96,77)\"],[0.3,\"rgb(244,165,130)\"],[0.4,\"rgb(253,219,199)\"],[0.5,\"rgb(247,247,247)\"],[0.6,\"rgb(209,229,240)\"],[0.7,\"rgb(146,197,222)\"],[0.8,\"rgb(67,147,195)\"],[0.9,\"rgb(33,102,172)\"],[1.0,\"rgb(5,48,97)\"]],\"hoverongaps\":false,\"x\":[0,1,2,3,4,5,6,7],\"y\":[\"H\",\"G\",\"F\",\"E\",\"D\",\"C\",\"B\",\"A\"],\"z\":[[-0.5563070178031921,-0.5244148969650269,-0.38893064856529236,-0.39416345953941345,-0.3070998191833496,-0.25689712166786194,-0.4688345491886139,-0.5668114423751831],[-0.493692010641098,-0.2324000895023346,-0.1302052140235901,-0.20817804336547852,-0.07016640156507492,-0.14591102302074432,-0.2569901645183563,-0.504408597946167],[-0.45436862111091614,-0.06262356042861938,-0.020728152245283127,-0.023278353735804558,-0.05706687271595001,-0.10305710881948471,-0.1619863361120224,-0.4658083915710449],[-0.4499847888946533,-0.1452297866344452,-0.01269669272005558,0.0,0.0,-0.10478387773036957,-0.11479910463094711,-0.45088067650794983],[-0.33498266339302063,-0.10435181111097336,-0.058685485273599625,0.0,0.0,0.005701529793441296,-0.09414029121398926,-0.36607685685157776],[-0.49060145020484924,-0.17138759791851044,-0.04901939257979393,-0.027567634359002113,0.0017365679377689958,-0.06764733791351318,-0.0985870435833931,-0.30927011370658875],[-0.5678830146789551,-0.14013907313346863,-0.15747198462486267,-0.18042218685150146,-0.12747329473495483,-0.10020656883716583,-0.22850124537944794,-0.5089494585990906],[-0.5504288077354431,-0.5286223888397217,-0.4535031318664551,-0.28373441100120544,-0.3541213572025299,-0.33211517333984375,-0.4930381774902344,-0.5679996013641357]],\"zmax\":0.6486442685127258,\"zmin\":-0.6486442685127258,\"type\":\"heatmap\",\"xaxis\":\"x8\",\"yaxis\":\"y8\"},{\"colorscale\":[[0.0,\"rgb(103,0,31)\"],[0.1,\"rgb(178,24,43)\"],[0.2,\"rgb(214,96,77)\"],[0.3,\"rgb(244,165,130)\"],[0.4,\"rgb(253,219,199)\"],[0.5,\"rgb(247,247,247)\"],[0.6,\"rgb(209,229,240)\"],[0.7,\"rgb(146,197,222)\"],[0.8,\"rgb(67,147,195)\"],[0.9,\"rgb(33,102,172)\"],[1.0,\"rgb(5,48,97)\"]],\"hoverongaps\":false,\"x\":[0,1,2,3,4,5,6,7],\"y\":[\"H\",\"G\",\"F\",\"E\",\"D\",\"C\",\"B\",\"A\"],\"z\":[[0.0022930025588721037,-0.028376199305057526,-0.09328513592481613,-0.04078039899468422,0.05056255683302879,-0.044485535472631454,-0.08245986700057983,-0.18630988895893097],[-0.02697005495429039,-0.09250412881374359,-0.28852587938308716,-0.22679361701011658,-0.09383920580148697,-0.05175834149122238,-0.08931692689657211,0.1382991224527359],[-0.05463128536939621,-0.1516096442937851,-0.18029405176639557,-0.1701580286026001,-0.009367701597511768,-0.13782604038715363,-0.12514491379261017,0.0795319601893425],[-0.0786266177892685,-0.14865826070308685,-0.2506304979324341,0.0,0.0,0.04189567267894745,-0.21362116932868958,0.120692677795887],[-0.09383227676153183,-0.08930715173482895,-0.18218892812728882,0.0,0.0,-0.23319461941719055,-0.15917032957077026,0.1193954348564148],[-0.04955257102847099,-0.2080560177564621,-0.19105970859527588,-0.025718318298459053,-0.20268741250038147,-0.15310485661029816,0.014203207567334175,0.14745935797691345],[-0.06377442181110382,-0.1968989074230194,-0.21135000884532928,-0.1881019026041031,-0.21676793694496155,-0.21457530558109283,-0.09842539578676224,0.2848386764526367],[-0.04350700229406357,-0.048838380724191666,-0.06966382265090942,-0.04967459663748741,-0.0728091150522232,-0.08286498486995697,-0.001524791237898171,-0.12492070347070694]],\"zmax\":0.6486442685127258,\"zmin\":-0.6486442685127258,\"type\":\"heatmap\",\"xaxis\":\"x16\",\"yaxis\":\"y16\"}],                        {\"template\":{\"data\":{\"histogram2dcontour\":[{\"type\":\"histogram2dcontour\",\"colorbar\":{\"outlinewidth\":0,\"ticks\":\"\"},\"colorscale\":[[0.0,\"#0d0887\"],[0.1111111111111111,\"#46039f\"],[0.2222222222222222,\"#7201a8\"],[0.3333333333333333,\"#9c179e\"],[0.4444444444444444,\"#bd3786\"],[0.5555555555555556,\"#d8576b\"],[0.6666666666666666,\"#ed7953\"],[0.7777777777777778,\"#fb9f3a\"],[0.8888888888888888,\"#fdca26\"],[1.0,\"#f0f921\"]]}],\"choropleth\":[{\"type\":\"choropleth\",\"colorbar\":{\"outlinewidth\":0,\"ticks\":\"\"}}],\"histogram2d\":[{\"type\":\"histogram2d\",\"colorbar\":{\"outlinewidth\":0,\"ticks\":\"\"},\"colorscale\":[[0.0,\"#0d0887\"],[0.1111111111111111,\"#46039f\"],[0.2222222222222222,\"#7201a8\"],[0.3333333333333333,\"#9c179e\"],[0.4444444444444444,\"#bd3786\"],[0.5555555555555556,\"#d8576b\"],[0.6666666666666666,\"#ed7953\"],[0.7777777777777778,\"#fb9f3a\"],[0.8888888888888888,\"#fdca26\"],[1.0,\"#f0f921\"]]}],\"heatmap\":[{\"type\":\"heatmap\",\"colorbar\":{\"outlinewidth\":0,\"ticks\":\"\"},\"colorscale\":[[0.0,\"#0d0887\"],[0.1111111111111111,\"#46039f\"],[0.2222222222222222,\"#7201a8\"],[0.3333333333333333,\"#9c179e\"],[0.4444444444444444,\"#bd3786\"],[0.5555555555555556,\"#d8576b\"],[0.6666666666666666,\"#ed7953\"],[0.7777777777777778,\"#fb9f3a\"],[0.8888888888888888,\"#fdca26\"],[1.0,\"#f0f921\"]]}],\"heatmapgl\":[{\"type\":\"heatmapgl\",\"colorbar\":{\"outlinewidth\":0,\"ticks\":\"\"},\"colorscale\":[[0.0,\"#0d0887\"],[0.1111111111111111,\"#46039f\"],[0.2222222222222222,\"#7201a8\"],[0.3333333333333333,\"#9c179e\"],[0.4444444444444444,\"#bd3786\"],[0.5555555555555556,\"#d8576b\"],[0.6666666666666666,\"#ed7953\"],[0.7777777777777778,\"#fb9f3a\"],[0.8888888888888888,\"#fdca26\"],[1.0,\"#f0f921\"]]}],\"contourcarpet\":[{\"type\":\"contourcarpet\",\"colorbar\":{\"outlinewidth\":0,\"ticks\":\"\"}}],\"contour\":[{\"type\":\"contour\",\"colorbar\":{\"outlinewidth\":0,\"ticks\":\"\"},\"colorscale\":[[0.0,\"#0d0887\"],[0.1111111111111111,\"#46039f\"],[0.2222222222222222,\"#7201a8\"],[0.3333333333333333,\"#9c179e\"],[0.4444444444444444,\"#bd3786\"],[0.5555555555555556,\"#d8576b\"],[0.6666666666666666,\"#ed7953\"],[0.7777777777777778,\"#fb9f3a\"],[0.8888888888888888,\"#fdca26\"],[1.0,\"#f0f921\"]]}],\"surface\":[{\"type\":\"surface\",\"colorbar\":{\"outlinewidth\":0,\"ticks\":\"\"},\"colorscale\":[[0.0,\"#0d0887\"],[0.1111111111111111,\"#46039f\"],[0.2222222222222222,\"#7201a8\"],[0.3333333333333333,\"#9c179e\"],[0.4444444444444444,\"#bd3786\"],[0.5555555555555556,\"#d8576b\"],[0.6666666666666666,\"#ed7953\"],[0.7777777777777778,\"#fb9f3a\"],[0.8888888888888888,\"#fdca26\"],[1.0,\"#f0f921\"]]}],\"mesh3d\":[{\"type\":\"mesh3d\",\"colorbar\":{\"outlinewidth\":0,\"ticks\":\"\"}}],\"scatter\":[{\"fillpattern\":{\"fillmode\":\"overlay\",\"size\":10,\"solidity\":0.2},\"type\":\"scatter\"}],\"parcoords\":[{\"type\":\"parcoords\",\"line\":{\"colorbar\":{\"outlinewidth\":0,\"ticks\":\"\"}}}],\"scatterpolargl\":[{\"type\":\"scatterpolargl\",\"marker\":{\"colorbar\":{\"outlinewidth\":0,\"ticks\":\"\"}}}],\"bar\":[{\"error_x\":{\"color\":\"#2a3f5f\"},\"error_y\":{\"color\":\"#2a3f5f\"},\"marker\":{\"line\":{\"color\":\"#E5ECF6\",\"width\":0.5},\"pattern\":{\"fillmode\":\"overlay\",\"size\":10,\"solidity\":0.2}},\"type\":\"bar\"}],\"scattergeo\":[{\"type\":\"scattergeo\",\"marker\":{\"colorbar\":{\"outlinewidth\":0,\"ticks\":\"\"}}}],\"scatterpolar\":[{\"type\":\"scatterpolar\",\"marker\":{\"colorbar\":{\"outlinewidth\":0,\"ticks\":\"\"}}}],\"histogram\":[{\"marker\":{\"pattern\":{\"fillmode\":\"overlay\",\"size\":10,\"solidity\":0.2}},\"type\":\"histogram\"}],\"scattergl\":[{\"type\":\"scattergl\",\"marker\":{\"colorbar\":{\"outlinewidth\":0,\"ticks\":\"\"}}}],\"scatter3d\":[{\"type\":\"scatter3d\",\"line\":{\"colorbar\":{\"outlinewidth\":0,\"ticks\":\"\"}},\"marker\":{\"colorbar\":{\"outlinewidth\":0,\"ticks\":\"\"}}}],\"scattermapbox\":[{\"type\":\"scattermapbox\",\"marker\":{\"colorbar\":{\"outlinewidth\":0,\"ticks\":\"\"}}}],\"scatterternary\":[{\"type\":\"scatterternary\",\"marker\":{\"colorbar\":{\"outlinewidth\":0,\"ticks\":\"\"}}}],\"scattercarpet\":[{\"type\":\"scattercarpet\",\"marker\":{\"colorbar\":{\"outlinewidth\":0,\"ticks\":\"\"}}}],\"carpet\":[{\"aaxis\":{\"endlinecolor\":\"#2a3f5f\",\"gridcolor\":\"white\",\"linecolor\":\"white\",\"minorgridcolor\":\"white\",\"startlinecolor\":\"#2a3f5f\"},\"baxis\":{\"endlinecolor\":\"#2a3f5f\",\"gridcolor\":\"white\",\"linecolor\":\"white\",\"minorgridcolor\":\"white\",\"startlinecolor\":\"#2a3f5f\"},\"type\":\"carpet\"}],\"table\":[{\"cells\":{\"fill\":{\"color\":\"#EBF0F8\"},\"line\":{\"color\":\"white\"}},\"header\":{\"fill\":{\"color\":\"#C8D4E3\"},\"line\":{\"color\":\"white\"}},\"type\":\"table\"}],\"barpolar\":[{\"marker\":{\"line\":{\"color\":\"#E5ECF6\",\"width\":0.5},\"pattern\":{\"fillmode\":\"overlay\",\"size\":10,\"solidity\":0.2}},\"type\":\"barpolar\"}],\"pie\":[{\"automargin\":true,\"type\":\"pie\"}]},\"layout\":{\"autotypenumbers\":\"strict\",\"colorway\":[\"#636efa\",\"#EF553B\",\"#00cc96\",\"#ab63fa\",\"#FFA15A\",\"#19d3f3\",\"#FF6692\",\"#B6E880\",\"#FF97FF\",\"#FECB52\"],\"font\":{\"color\":\"#2a3f5f\"},\"hovermode\":\"closest\",\"hoverlabel\":{\"align\":\"left\"},\"paper_bgcolor\":\"white\",\"plot_bgcolor\":\"#E5ECF6\",\"polar\":{\"bgcolor\":\"#E5ECF6\",\"angularaxis\":{\"gridcolor\":\"white\",\"linecolor\":\"white\",\"ticks\":\"\"},\"radialaxis\":{\"gridcolor\":\"white\",\"linecolor\":\"white\",\"ticks\":\"\"}},\"ternary\":{\"bgcolor\":\"#E5ECF6\",\"aaxis\":{\"gridcolor\":\"white\",\"linecolor\":\"white\",\"ticks\":\"\"},\"baxis\":{\"gridcolor\":\"white\",\"linecolor\":\"white\",\"ticks\":\"\"},\"caxis\":{\"gridcolor\":\"white\",\"linecolor\":\"white\",\"ticks\":\"\"}},\"coloraxis\":{\"colorbar\":{\"outlinewidth\":0,\"ticks\":\"\"}},\"colorscale\":{\"sequential\":[[0.0,\"#0d0887\"],[0.1111111111111111,\"#46039f\"],[0.2222222222222222,\"#7201a8\"],[0.3333333333333333,\"#9c179e\"],[0.4444444444444444,\"#bd3786\"],[0.5555555555555556,\"#d8576b\"],[0.6666666666666666,\"#ed7953\"],[0.7777777777777778,\"#fb9f3a\"],[0.8888888888888888,\"#fdca26\"],[1.0,\"#f0f921\"]],\"sequentialminus\":[[0.0,\"#0d0887\"],[0.1111111111111111,\"#46039f\"],[0.2222222222222222,\"#7201a8\"],[0.3333333333333333,\"#9c179e\"],[0.4444444444444444,\"#bd3786\"],[0.5555555555555556,\"#d8576b\"],[0.6666666666666666,\"#ed7953\"],[0.7777777777777778,\"#fb9f3a\"],[0.8888888888888888,\"#fdca26\"],[1.0,\"#f0f921\"]],\"diverging\":[[0,\"#8e0152\"],[0.1,\"#c51b7d\"],[0.2,\"#de77ae\"],[0.3,\"#f1b6da\"],[0.4,\"#fde0ef\"],[0.5,\"#f7f7f7\"],[0.6,\"#e6f5d0\"],[0.7,\"#b8e186\"],[0.8,\"#7fbc41\"],[0.9,\"#4d9221\"],[1,\"#276419\"]]},\"xaxis\":{\"gridcolor\":\"white\",\"linecolor\":\"white\",\"ticks\":\"\",\"title\":{\"standoff\":15},\"zerolinecolor\":\"white\",\"automargin\":true,\"zerolinewidth\":2},\"yaxis\":{\"gridcolor\":\"white\",\"linecolor\":\"white\",\"ticks\":\"\",\"title\":{\"standoff\":15},\"zerolinecolor\":\"white\",\"automargin\":true,\"zerolinewidth\":2},\"scene\":{\"xaxis\":{\"backgroundcolor\":\"#E5ECF6\",\"gridcolor\":\"white\",\"linecolor\":\"white\",\"showbackground\":true,\"ticks\":\"\",\"zerolinecolor\":\"white\",\"gridwidth\":2},\"yaxis\":{\"backgroundcolor\":\"#E5ECF6\",\"gridcolor\":\"white\",\"linecolor\":\"white\",\"showbackground\":true,\"ticks\":\"\",\"zerolinecolor\":\"white\",\"gridwidth\":2},\"zaxis\":{\"backgroundcolor\":\"#E5ECF6\",\"gridcolor\":\"white\",\"linecolor\":\"white\",\"showbackground\":true,\"ticks\":\"\",\"zerolinecolor\":\"white\",\"gridwidth\":2}},\"shapedefaults\":{\"line\":{\"color\":\"#2a3f5f\"}},\"annotationdefaults\":{\"arrowcolor\":\"#2a3f5f\",\"arrowhead\":0,\"arrowwidth\":1},\"geo\":{\"bgcolor\":\"white\",\"landcolor\":\"#E5ECF6\",\"subunitcolor\":\"white\",\"showland\":true,\"showlakes\":true,\"lakecolor\":\"white\"},\"title\":{\"x\":0.05},\"mapbox\":{\"style\":\"light\"}}},\"xaxis\":{\"anchor\":\"y\",\"domain\":[0.0,0.103125]},\"yaxis\":{\"anchor\":\"x\",\"domain\":[0.5700000000000001,1.0]},\"xaxis2\":{\"anchor\":\"y2\",\"domain\":[0.128125,0.23124999999999998]},\"yaxis2\":{\"anchor\":\"x2\",\"domain\":[0.5700000000000001,1.0]},\"xaxis3\":{\"anchor\":\"y3\",\"domain\":[0.25625,0.359375]},\"yaxis3\":{\"anchor\":\"x3\",\"domain\":[0.5700000000000001,1.0]},\"xaxis4\":{\"anchor\":\"y4\",\"domain\":[0.38437499999999997,0.48749999999999993]},\"yaxis4\":{\"anchor\":\"x4\",\"domain\":[0.5700000000000001,1.0]},\"xaxis5\":{\"anchor\":\"y5\",\"domain\":[0.5125,0.615625]},\"yaxis5\":{\"anchor\":\"x5\",\"domain\":[0.5700000000000001,1.0]},\"xaxis6\":{\"anchor\":\"y6\",\"domain\":[0.640625,0.74375]},\"yaxis6\":{\"anchor\":\"x6\",\"domain\":[0.5700000000000001,1.0]},\"xaxis7\":{\"anchor\":\"y7\",\"domain\":[0.76875,0.8718750000000001]},\"yaxis7\":{\"anchor\":\"x7\",\"domain\":[0.5700000000000001,1.0]},\"xaxis8\":{\"anchor\":\"y8\",\"domain\":[0.8968750000000001,1.0]},\"yaxis8\":{\"anchor\":\"x8\",\"domain\":[0.5700000000000001,1.0]},\"xaxis9\":{\"anchor\":\"y9\",\"domain\":[0.0,0.103125]},\"yaxis9\":{\"anchor\":\"x9\",\"domain\":[0.0,0.43]},\"xaxis10\":{\"anchor\":\"y10\",\"domain\":[0.128125,0.23124999999999998]},\"yaxis10\":{\"anchor\":\"x10\",\"domain\":[0.0,0.43]},\"xaxis11\":{\"anchor\":\"y11\",\"domain\":[0.25625,0.359375]},\"yaxis11\":{\"anchor\":\"x11\",\"domain\":[0.0,0.43]},\"xaxis12\":{\"anchor\":\"y12\",\"domain\":[0.38437499999999997,0.48749999999999993]},\"yaxis12\":{\"anchor\":\"x12\",\"domain\":[0.0,0.43]},\"xaxis13\":{\"anchor\":\"y13\",\"domain\":[0.5125,0.615625]},\"yaxis13\":{\"anchor\":\"x13\",\"domain\":[0.0,0.43]},\"xaxis14\":{\"anchor\":\"y14\",\"domain\":[0.640625,0.74375]},\"yaxis14\":{\"anchor\":\"x14\",\"domain\":[0.0,0.43]},\"xaxis15\":{\"anchor\":\"y15\",\"domain\":[0.76875,0.8718750000000001]},\"yaxis15\":{\"anchor\":\"x15\",\"domain\":[0.0,0.43]},\"xaxis16\":{\"anchor\":\"y16\",\"domain\":[0.8968750000000001,1.0]},\"yaxis16\":{\"anchor\":\"x16\",\"domain\":[0.0,0.43]},\"annotations\":[{\"font\":{\"size\":16},\"showarrow\":false,\"text\":\"Layer 0, Head 0\",\"x\":0.0515625,\"xanchor\":\"center\",\"xref\":\"paper\",\"y\":1.0,\"yanchor\":\"bottom\",\"yref\":\"paper\"},{\"font\":{\"size\":16},\"showarrow\":false,\"text\":\"Layer 0, Head 1\",\"x\":0.1796875,\"xanchor\":\"center\",\"xref\":\"paper\",\"y\":1.0,\"yanchor\":\"bottom\",\"yref\":\"paper\"},{\"font\":{\"size\":16},\"showarrow\":false,\"text\":\"Layer 0, Head 2\",\"x\":0.3078125,\"xanchor\":\"center\",\"xref\":\"paper\",\"y\":1.0,\"yanchor\":\"bottom\",\"yref\":\"paper\"},{\"font\":{\"size\":16},\"showarrow\":false,\"text\":\"Layer 0, Head 3\",\"x\":0.4359375,\"xanchor\":\"center\",\"xref\":\"paper\",\"y\":1.0,\"yanchor\":\"bottom\",\"yref\":\"paper\"},{\"font\":{\"size\":16},\"showarrow\":false,\"text\":\"Layer 0, Head 4\",\"x\":0.5640624999999999,\"xanchor\":\"center\",\"xref\":\"paper\",\"y\":1.0,\"yanchor\":\"bottom\",\"yref\":\"paper\"},{\"font\":{\"size\":16},\"showarrow\":false,\"text\":\"Layer 0, Head 5\",\"x\":0.6921875,\"xanchor\":\"center\",\"xref\":\"paper\",\"y\":1.0,\"yanchor\":\"bottom\",\"yref\":\"paper\"},{\"font\":{\"size\":16},\"showarrow\":false,\"text\":\"Layer 0, Head 6\",\"x\":0.8203125,\"xanchor\":\"center\",\"xref\":\"paper\",\"y\":1.0,\"yanchor\":\"bottom\",\"yref\":\"paper\"},{\"font\":{\"size\":16},\"showarrow\":false,\"text\":\"Layer 0, Head 7\",\"x\":0.9484375,\"xanchor\":\"center\",\"xref\":\"paper\",\"y\":1.0,\"yanchor\":\"bottom\",\"yref\":\"paper\"},{\"font\":{\"size\":16},\"showarrow\":false,\"text\":\"Layer 1, Head 0\",\"x\":0.0515625,\"xanchor\":\"center\",\"xref\":\"paper\",\"y\":0.43,\"yanchor\":\"bottom\",\"yref\":\"paper\"},{\"font\":{\"size\":16},\"showarrow\":false,\"text\":\"Layer 1, Head 1\",\"x\":0.1796875,\"xanchor\":\"center\",\"xref\":\"paper\",\"y\":0.43,\"yanchor\":\"bottom\",\"yref\":\"paper\"},{\"font\":{\"size\":16},\"showarrow\":false,\"text\":\"Layer 1, Head 2\",\"x\":0.3078125,\"xanchor\":\"center\",\"xref\":\"paper\",\"y\":0.43,\"yanchor\":\"bottom\",\"yref\":\"paper\"},{\"font\":{\"size\":16},\"showarrow\":false,\"text\":\"Layer 1, Head 3\",\"x\":0.4359375,\"xanchor\":\"center\",\"xref\":\"paper\",\"y\":0.43,\"yanchor\":\"bottom\",\"yref\":\"paper\"},{\"font\":{\"size\":16},\"showarrow\":false,\"text\":\"Layer 1, Head 4\",\"x\":0.5640624999999999,\"xanchor\":\"center\",\"xref\":\"paper\",\"y\":0.43,\"yanchor\":\"bottom\",\"yref\":\"paper\"},{\"font\":{\"size\":16},\"showarrow\":false,\"text\":\"Layer 1, Head 5\",\"x\":0.6921875,\"xanchor\":\"center\",\"xref\":\"paper\",\"y\":0.43,\"yanchor\":\"bottom\",\"yref\":\"paper\"},{\"font\":{\"size\":16},\"showarrow\":false,\"text\":\"Layer 1, Head 6\",\"x\":0.8203125,\"xanchor\":\"center\",\"xref\":\"paper\",\"y\":0.43,\"yanchor\":\"bottom\",\"yref\":\"paper\"},{\"font\":{\"size\":16},\"showarrow\":false,\"text\":\"Layer 1, Head 7\",\"x\":0.9484375,\"xanchor\":\"center\",\"xref\":\"paper\",\"y\":0.43,\"yanchor\":\"bottom\",\"yref\":\"paper\"}],\"margin\":{\"t\":100},\"title\":{\"text\":\"How much does each Head add to the Yours vs Mine direction, when a Tile is played\"},\"width\":1600,\"height\":500},                        {\"responsive\": true}                    ).then(function(){\n",
       "                            \n",
       "var gd = document.getElementById('0cbe8801-d0c1-4081-a544-c3372516a164');\n",
       "var x = new MutationObserver(function (mutations, observer) {{\n",
       "        var display = window.getComputedStyle(gd).display;\n",
       "        if (!display || display === 'none') {{\n",
       "            console.log([gd, 'removed!']);\n",
       "            Plotly.purge(gd);\n",
       "            observer.disconnect();\n",
       "        }}\n",
       "}});\n",
       "\n",
       "// Listen for the removal of the full notebook cells\n",
       "var notebookContainer = gd.closest('#notebook-container');\n",
       "if (notebookContainer) {{\n",
       "    x.observe(notebookContainer, {childList: true});\n",
       "}}\n",
       "\n",
       "// Listen for the clearing of the current output cell\n",
       "var outputEl = gd.closest('.output');\n",
       "if (outputEl) {{\n",
       "    x.observe(outputEl, {childList: true});\n",
       "}}\n",
       "\n",
       "                        })                };                });            </script>        </div>"
      ]
     },
     "metadata": {},
     "output_type": "display_data"
    }
   ],
   "source": [
    "mine_vs_yours : Float[Tensor, \"layer head rows cols\"] = t.zeros((8, 8, 8, 8))\n",
    "\n",
    "for layer in range(0, 8):\n",
    "    linear_probe = get_probe(layer, \"linear\", \"post\")\n",
    "    for head in range(8):\n",
    "        positions = list(range(1, 61))\n",
    "        # linear_probe : Float[Tensor, \"modes d_model rows cols options\"]= t.load(f\"probes/linear/resid_{layer}_linear.pth\").to(device).detach()\n",
    "        OV_layer_head = OV.AB[layer, head].detach()\n",
    "        # mine_vs_yours = t.zeros((8, 8))\n",
    "        for pos_int in positions:\n",
    "            pos_str = to_string(pos_int)\n",
    "            tile = string_to_tile(pos_str)\n",
    "            pos_empty = linear_probe[0, :, *tile, EMPTY]\n",
    "            pos_mine = linear_probe[0, :, *tile, MINE]\n",
    "            pos_yours = linear_probe[0, :, *tile, YOURS]\n",
    "            pos_emb = W_E[pos_int, :].detach()\n",
    "            result = einops.einsum(pos_emb, OV_layer_head, \"d_model_in, d_model_in d_model_out -> d_model_out\")\n",
    "            # mine_vs_yours[head, layer, *tile] = t.dot(result, pos_mine) - t.dot(result, pos_yours)\n",
    "            mine_vs_yours[head, layer, *tile] = cosine_similiarity(result, pos_yours - pos_mine)\n",
    "\n",
    "plot_boards_general(x_labels=[f\"Head {i}\" for i in range(8)], y_labels=[f\"Layer {i}\" for i in range(2)], boards=mine_vs_yours[:, :2], title_text = \"How much does each Head add to the Yours vs Mine direction, when a Tile is played\", save=True)\n",
    "# fig.show()\n"
   ]
  },
  {
   "cell_type": "markdown",
   "metadata": {},
   "source": [
    "- Next: Last Flipped Circuit\n",
    "    - Heads with High Attention to the Flip direction?\n",
    "        - I don't know if this makes sense, because there are flips in every move\n",
    "    - I don't know how this would be implemented...\n",
    "        - Maybe all the Flips write, but the last one is the strongest...\n",
    "    - For the Prove I need to distinguish the Heads Attending to MINE and Heads Attending to Yours\n",
    "        - Then I show FLIPPED @ OV_mine = MINE and FLIPPED @ OV_yours = yours"
   ]
  },
  {
   "cell_type": "code",
   "execution_count": 7,
   "metadata": {},
   "outputs": [
    {
     "name": "stdout",
     "output_type": "stream",
     "text": [
      "{'mine_far': [(0, 3), (0, 6), (1, 0)], 'yours_far': [(0, 0), (0, 7)], 'mine_close': [(1, 0), (1, 4), (1, 5), (1, 6), (2, 0), (2, 6), (2, 7), (3, 0), (4, 4), (4, 6)], 'yours_close': [(0, 2), (1, 2), (1, 3), (2, 1), (2, 3), (2, 4), (2, 5), (3, 1), (3, 2), (3, 3), (3, 4), (3, 5), (3, 6), (3, 7), (4, 0), (4, 1), (4, 2), (4, 3), (4, 7), (5, 0), (5, 3), (5, 4), (5, 5), (5, 7), (6, 2), (6, 5)], 'mine_last': [(1, 5), (3, 0)], 'yours_last': [(0, 2), (2, 3), (4, 5), (5, 7)], 'first': [(1, 1), (1, 7), (3, 2), (4, 0), (4, 3), (5, 0), (5, 3), (5, 4), (6, 0), (6, 1), (6, 2), (6, 3), (6, 4), (6, 5), (6, 6), (6, 7), (7, 1), (7, 4), (7, 5), (7, 6)], 'stripe': [(0, 1), (0, 4), (0, 5)]}\n"
     ]
    }
   ],
   "source": [
    "heads_dict = pickle.load(open(\"heads_dict.pkl\", \"rb\"))\n",
    "print(heads_dict)"
   ]
  },
  {
   "cell_type": "code",
   "execution_count": 21,
   "metadata": {},
   "outputs": [
    {
     "data": {
      "application/vnd.plotly.v1+json": {
       "config": {
        "plotlyServerURL": "https://plot.ly"
       },
       "data": [
        {
         "colorscale": [
          [
           0,
           "rgb(103,0,31)"
          ],
          [
           0.1,
           "rgb(178,24,43)"
          ],
          [
           0.2,
           "rgb(214,96,77)"
          ],
          [
           0.3,
           "rgb(244,165,130)"
          ],
          [
           0.4,
           "rgb(253,219,199)"
          ],
          [
           0.5,
           "rgb(247,247,247)"
          ],
          [
           0.6,
           "rgb(209,229,240)"
          ],
          [
           0.7,
           "rgb(146,197,222)"
          ],
          [
           0.8,
           "rgb(67,147,195)"
          ],
          [
           0.9,
           "rgb(33,102,172)"
          ],
          [
           1,
           "rgb(5,48,97)"
          ]
         ],
         "hoverongaps": false,
         "type": "heatmap",
         "x": [
          0,
          1,
          2,
          3,
          4,
          5,
          6,
          7
         ],
         "xaxis": "x",
         "y": [
          "H",
          "G",
          "F",
          "E",
          "D",
          "C",
          "B",
          "A"
         ],
         "yaxis": "y",
         "z": [
          [
           -0.4006201922893524,
           -0.3718768060207367,
           -0.38519635796546936,
           -0.30168354511260986,
           -0.23441825807094574,
           -0.3638027012348175,
           -0.04057956114411354,
           -0.09812261164188385
          ],
          [
           -0.12945562601089478,
           -0.05831454321742058,
           0.16604375839233398,
           0.1131049245595932,
           0.2360706329345703,
           0.12332481145858765,
           0.08928638696670532,
           0.0133901946246624
          ],
          [
           -0.050654031336307526,
           0.23626726865768433,
           0.12016215920448303,
           0.07433488219976425,
           0.06422344595193863,
           0.0394638255238533,
           0.05842623487114906,
           -0.2773440182209015
          ],
          [
           -0.32834890484809875,
           0.2461390346288681,
           0.2049323320388794,
           0.10641566663980484,
           0.090666264295578,
           0.05603564530611038,
           0.10688237845897675,
           -0.19424346089363098
          ],
          [
           -0.13556493818759918,
           0.30450478196144104,
           0.4067973792552948,
           0.38996899127960205,
           0.20568443834781647,
           0.11988809704780579,
           0.06443580985069275,
           -0.345315545797348
          ],
          [
           -0.2617681324481964,
           0.3897840678691864,
           0.3314484655857086,
           0.443840354681015,
           0.4592716693878174,
           0.22142890095710754,
           -0.007098345085978508,
           -0.2138020396232605
          ],
          [
           -0.16830924153327942,
           0.3626801073551178,
           0.42489510774612427,
           0.39534735679626465,
           0.44287049770355225,
           0.3404025435447693,
           0.14238372445106506,
           -0.19842058420181274
          ],
          [
           -0.5619140863418579,
           -0.48725661635398865,
           -0.43961066007614136,
           -0.4609984755516052,
           -0.3232000172138214,
           -0.4331319034099579,
           -0.36490994691848755,
           -0.4491328299045563
          ]
         ],
         "zmax": 0.7789613008499146,
         "zmin": -0.7789613008499146
        },
        {
         "colorscale": [
          [
           0,
           "rgb(103,0,31)"
          ],
          [
           0.1,
           "rgb(178,24,43)"
          ],
          [
           0.2,
           "rgb(214,96,77)"
          ],
          [
           0.3,
           "rgb(244,165,130)"
          ],
          [
           0.4,
           "rgb(253,219,199)"
          ],
          [
           0.5,
           "rgb(247,247,247)"
          ],
          [
           0.6,
           "rgb(209,229,240)"
          ],
          [
           0.7,
           "rgb(146,197,222)"
          ],
          [
           0.8,
           "rgb(67,147,195)"
          ],
          [
           0.9,
           "rgb(33,102,172)"
          ],
          [
           1,
           "rgb(5,48,97)"
          ]
         ],
         "hoverongaps": false,
         "type": "heatmap",
         "x": [
          0,
          1,
          2,
          3,
          4,
          5,
          6,
          7
         ],
         "xaxis": "x9",
         "y": [
          "H",
          "G",
          "F",
          "E",
          "D",
          "C",
          "B",
          "A"
         ],
         "yaxis": "y9",
         "z": [
          [
           -0.12069293856620789,
           -0.044198889285326004,
           -0.17435792088508606,
           -0.08869872987270355,
           -0.07011108100414276,
           -0.029072420671582222,
           -0.15440551936626434,
           0.0017616079421713948
          ],
          [
           0.053168877959251404,
           0.6485899686813354,
           0.6471691131591797,
           0.6547033786773682,
           0.6369673013687134,
           0.6279317140579224,
           0.5336346626281738,
           -0.04341185465455055
          ],
          [
           -0.026628674939274788,
           0.6574827432632446,
           0.5773406624794006,
           0.48176342248916626,
           0.5391581058502197,
           0.6007127165794373,
           0.5635190010070801,
           -0.037567138671875
          ],
          [
           0.05089515447616577,
           0.6855776309967041,
           0.6171436309814453,
           0.5909145474433899,
           0.6237467527389526,
           0.49680307507514954,
           0.3310900926589966,
           -0.008088819682598114
          ],
          [
           0.041956618428230286,
           0.49798333644866943,
           0.49484723806381226,
           0.5612308979034424,
           0.49273940920829773,
           0.23640385270118713,
           0.14190122485160828,
           0.0063788811676204205
          ],
          [
           0.05016857013106346,
           0.1739586889743805,
           0.2579832971096039,
           0.11684717983007431,
           0.17471840977668762,
           0.126035675406456,
           0.037756066769361496,
           0.014127921313047409
          ],
          [
           0.016782166436314583,
           0.01786944828927517,
           0.06769873946905136,
           0.039632510393857956,
           0.0707353726029396,
           0.07203833758831024,
           0.019152123481035233,
           0.014902192167937756
          ],
          [
           -0.012530759908258915,
           0.010658650659024715,
           -0.005970967933535576,
           0.024407029151916504,
           0.06784386932849884,
           0.07098237425088882,
           0.03531298041343689,
           -0.06856575608253479
          ]
         ],
         "zmax": 0.7789613008499146,
         "zmin": -0.7789613008499146
        },
        {
         "colorscale": [
          [
           0,
           "rgb(103,0,31)"
          ],
          [
           0.1,
           "rgb(178,24,43)"
          ],
          [
           0.2,
           "rgb(214,96,77)"
          ],
          [
           0.3,
           "rgb(244,165,130)"
          ],
          [
           0.4,
           "rgb(253,219,199)"
          ],
          [
           0.5,
           "rgb(247,247,247)"
          ],
          [
           0.6,
           "rgb(209,229,240)"
          ],
          [
           0.7,
           "rgb(146,197,222)"
          ],
          [
           0.8,
           "rgb(67,147,195)"
          ],
          [
           0.9,
           "rgb(33,102,172)"
          ],
          [
           1,
           "rgb(5,48,97)"
          ]
         ],
         "hoverongaps": false,
         "type": "heatmap",
         "x": [
          0,
          1,
          2,
          3,
          4,
          5,
          6,
          7
         ],
         "xaxis": "x17",
         "y": [
          "H",
          "G",
          "F",
          "E",
          "D",
          "C",
          "B",
          "A"
         ],
         "yaxis": "y17",
         "z": [
          [
           -0.015658246353268623,
           0.04421306774020195,
           -0.096233069896698,
           -0.07061289250850677,
           0.07531880587339401,
           0.11795783787965775,
           0.05356234684586525,
           -0.007601431105285883
          ],
          [
           -0.04906252771615982,
           0.6499639749526978,
           0.730128288269043,
           0.738739550113678,
           0.7195752263069153,
           0.7307785749435425,
           0.6741005182266235,
           -0.012642008252441883
          ],
          [
           -0.03768427297472954,
           0.7475203275680542,
           0.6756107211112976,
           0.6836856603622437,
           0.6412388682365417,
           0.7113276124000549,
           0.7609102725982666,
           -0.08454032242298126
          ],
          [
           0.13291816413402557,
           0.748033344745636,
           0.7115087509155273,
           0.6511562466621399,
           0.7034772038459778,
           0.6733196377754211,
           0.7526853680610657,
           0.08888546377420425
          ],
          [
           0.07888086140155792,
           0.7789613008499146,
           0.6224626302719116,
           0.6804945468902588,
           0.7237588763237,
           0.6511878967285156,
           0.7660264372825623,
           0.032495446503162384
          ],
          [
           0.15907621383666992,
           0.7205345630645752,
           0.7172857522964478,
           0.6575000286102295,
           0.7022812962532043,
           0.7090389728546143,
           0.7191411256790161,
           0.11323042213916779
          ],
          [
           0.08759093284606934,
           0.6885088682174683,
           0.7135164737701416,
           0.7234159111976624,
           0.7337897419929504,
           0.6859229207038879,
           0.6482031941413879,
           -0.00587973278015852
          ],
          [
           0.004773416556417942,
           -0.024343810975551605,
           0.0599595345556736,
           0.17980661988258362,
           0.0901019424200058,
           0.08365774154663086,
           -0.0971905067563057,
           -0.0053157503716647625
          ]
         ],
         "zmax": 0.7789613008499146,
         "zmin": -0.7789613008499146
        },
        {
         "colorscale": [
          [
           0,
           "rgb(103,0,31)"
          ],
          [
           0.1,
           "rgb(178,24,43)"
          ],
          [
           0.2,
           "rgb(214,96,77)"
          ],
          [
           0.3,
           "rgb(244,165,130)"
          ],
          [
           0.4,
           "rgb(253,219,199)"
          ],
          [
           0.5,
           "rgb(247,247,247)"
          ],
          [
           0.6,
           "rgb(209,229,240)"
          ],
          [
           0.7,
           "rgb(146,197,222)"
          ],
          [
           0.8,
           "rgb(67,147,195)"
          ],
          [
           0.9,
           "rgb(33,102,172)"
          ],
          [
           1,
           "rgb(5,48,97)"
          ]
         ],
         "hoverongaps": false,
         "type": "heatmap",
         "x": [
          0,
          1,
          2,
          3,
          4,
          5,
          6,
          7
         ],
         "xaxis": "x2",
         "y": [
          "H",
          "G",
          "F",
          "E",
          "D",
          "C",
          "B",
          "A"
         ],
         "yaxis": "y2",
         "z": [
          [
           0.19385497272014618,
           0.12193331122398376,
           0.06957339495420456,
           0.05795332044363022,
           -0.01208359282463789,
           -0.0164346806704998,
           0.05245967581868172,
           0.08376498520374298
          ],
          [
           -0.08728406578302383,
           -0.12987039983272552,
           0.025545338168740273,
           -0.001515780808404088,
           -0.06020941585302353,
           -0.003960291389375925,
           -0.02574731968343258,
           0.04590090736746788
          ],
          [
           -0.12232571095228195,
           0.015075361356139183,
           -0.0439409576356411,
           0.010796520859003067,
           0.009512634016573429,
           -0.02997167780995369,
           0.02021106332540512,
           0.0316263884305954
          ],
          [
           -0.13104380667209625,
           -0.023247404024004936,
           0.03978104889392853,
           0.016101878136396408,
           0.014820949174463749,
           0.07205156981945038,
           -0.04021826758980751,
           0.016651587560772896
          ],
          [
           -0.03567571938037872,
           -0.0626288652420044,
           0.09003528952598572,
           -0.045960426330566406,
           -0.010116694495081902,
           0.03570230305194855,
           0.03143806755542755,
           0.017565038055181503
          ],
          [
           -0.015276729129254818,
           -0.07949896901845932,
           -0.060126449912786484,
           -0.0011469016317278147,
           -0.0020757659804075956,
           -0.019738182425498962,
           -0.017358161509037018,
           0.04256582260131836
          ],
          [
           0.1506815254688263,
           -0.0614577978849411,
           -0.05667806789278984,
           -0.04736849665641785,
           -0.06325846910476685,
           -0.1120351031422615,
           -0.01550564356148243,
           0.12344013899564743
          ],
          [
           0.23811347782611847,
           0.12327982485294342,
           0.14541475474834442,
           -0.005294004920870066,
           0.11129934340715408,
           0.022398335859179497,
           -0.08310340344905853,
           0.1500828117132187
          ]
         ],
         "zmax": 0.7789613008499146,
         "zmin": -0.7789613008499146
        },
        {
         "colorscale": [
          [
           0,
           "rgb(103,0,31)"
          ],
          [
           0.1,
           "rgb(178,24,43)"
          ],
          [
           0.2,
           "rgb(214,96,77)"
          ],
          [
           0.3,
           "rgb(244,165,130)"
          ],
          [
           0.4,
           "rgb(253,219,199)"
          ],
          [
           0.5,
           "rgb(247,247,247)"
          ],
          [
           0.6,
           "rgb(209,229,240)"
          ],
          [
           0.7,
           "rgb(146,197,222)"
          ],
          [
           0.8,
           "rgb(67,147,195)"
          ],
          [
           0.9,
           "rgb(33,102,172)"
          ],
          [
           1,
           "rgb(5,48,97)"
          ]
         ],
         "hoverongaps": false,
         "type": "heatmap",
         "x": [
          0,
          1,
          2,
          3,
          4,
          5,
          6,
          7
         ],
         "xaxis": "x10",
         "y": [
          "H",
          "G",
          "F",
          "E",
          "D",
          "C",
          "B",
          "A"
         ],
         "yaxis": "y10",
         "z": [
          [
           0.04067837446928024,
           0.01942405290901661,
           0.05506567656993866,
           0.06553728133440018,
           0.2186274230480194,
           -0.03136412799358368,
           0.19154369831085205,
           0.2664102613925934
          ],
          [
           0.05984975025057793,
           -0.053015150129795074,
           -0.29441457986831665,
           -0.5567148923873901,
           -0.5721634030342102,
           -0.5619911551475525,
           -0.6949352025985718,
           0.24621416628360748
          ],
          [
           -0.0006976402946747839,
           0.00854059960693121,
           -0.030046308413147926,
           -0.3440755009651184,
           -0.4911969006061554,
           -0.5514077544212341,
           -0.6770116686820984,
           0.31016555428504944
          ],
          [
           0.11606908589601517,
           -0.006848180666565895,
           0.007554312702268362,
           -0.003461631014943123,
           -0.4424495995044708,
           -0.45651254057884216,
           -0.5947854518890381,
           0.14371639490127563
          ],
          [
           0.12854862213134766,
           -0.3854964077472687,
           -0.13830502331256866,
           -0.06853600591421127,
           -0.340798556804657,
           -0.4747212827205658,
           -0.6106120347976685,
           0.20497412979602814
          ],
          [
           0.2850090265274048,
           -0.6836945414543152,
           -0.5767548680305481,
           -0.441282719373703,
           -0.531223714351654,
           -0.46333739161491394,
           -0.5552340149879456,
           0.11391743272542953
          ],
          [
           0.30982181429862976,
           -0.5766317844390869,
           -0.5283990502357483,
           -0.5338318347930908,
           -0.5340999364852905,
           -0.5351372957229614,
           -0.6338434219360352,
           0.10313074290752411
          ],
          [
           0.33028653264045715,
           0.4104553461074829,
           0.36994099617004395,
           0.42444607615470886,
           0.19163687527179718,
           0.5795938968658447,
           0.5373154282569885,
           0.4525591731071472
          ]
         ],
         "zmax": 0.7789613008499146,
         "zmin": -0.7789613008499146
        },
        {
         "colorscale": [
          [
           0,
           "rgb(103,0,31)"
          ],
          [
           0.1,
           "rgb(178,24,43)"
          ],
          [
           0.2,
           "rgb(214,96,77)"
          ],
          [
           0.3,
           "rgb(244,165,130)"
          ],
          [
           0.4,
           "rgb(253,219,199)"
          ],
          [
           0.5,
           "rgb(247,247,247)"
          ],
          [
           0.6,
           "rgb(209,229,240)"
          ],
          [
           0.7,
           "rgb(146,197,222)"
          ],
          [
           0.8,
           "rgb(67,147,195)"
          ],
          [
           0.9,
           "rgb(33,102,172)"
          ],
          [
           1,
           "rgb(5,48,97)"
          ]
         ],
         "hoverongaps": false,
         "type": "heatmap",
         "x": [
          0,
          1,
          2,
          3,
          4,
          5,
          6,
          7
         ],
         "xaxis": "x18",
         "y": [
          "H",
          "G",
          "F",
          "E",
          "D",
          "C",
          "B",
          "A"
         ],
         "yaxis": "y18",
         "z": [
          [
           0.19466730952262878,
           0.24115918576717377,
           0.2056310772895813,
           0.19954045116901398,
           0.08221419900655746,
           0.0860547125339508,
           0.01524613332003355,
           0.016112729907035828
          ],
          [
           0.30951327085494995,
           -0.3258012533187866,
           -0.3163680136203766,
           -0.5174247622489929,
           -0.12828190624713898,
           0.034841831773519516,
           0.008806332014501095,
           0.1734505146741867
          ],
          [
           0.38406258821487427,
           -0.5455033779144287,
           -0.3503413200378418,
           -0.4336667060852051,
           -0.09583654254674911,
           0.01595185697078705,
           -0.002299362327903509,
           0.10620079934597015
          ],
          [
           0.23198576271533966,
           -0.46292901039123535,
           -0.45199212431907654,
           -0.42996644973754883,
           -0.011378827504813671,
           0.01994948275387287,
           0.0073635876178741455,
           0.20208048820495605
          ],
          [
           0.16467760503292084,
           -0.5995110869407654,
           -0.3896166682243347,
           -0.5343227982521057,
           -0.02760889381170273,
           0.04025430232286453,
           -0.0025301300920546055,
           0.07391390204429626
          ],
          [
           0.17326699197292328,
           -0.38984015583992004,
           -0.41757932305336,
           -0.38550692796707153,
           -0.12773549556732178,
           -0.11164899170398712,
           0.016096673905849457,
           0.0875287875533104
          ],
          [
           0.0545731857419014,
           -0.05260143429040909,
           -0.007183644454926252,
           -0.007751820143312216,
           0.0037545571103692055,
           -0.04569611698389053,
           0.030493997037410736,
           0.015813365578651428
          ],
          [
           0.13529819250106812,
           0.11439967155456543,
           0.1333893984556198,
           0.22121703624725342,
           0.15511277318000793,
           0.24726298451423645,
           0.08076588809490204,
           0.32501983642578125
          ]
         ],
         "zmax": 0.7789613008499146,
         "zmin": -0.7789613008499146
        },
        {
         "colorscale": [
          [
           0,
           "rgb(103,0,31)"
          ],
          [
           0.1,
           "rgb(178,24,43)"
          ],
          [
           0.2,
           "rgb(214,96,77)"
          ],
          [
           0.3,
           "rgb(244,165,130)"
          ],
          [
           0.4,
           "rgb(253,219,199)"
          ],
          [
           0.5,
           "rgb(247,247,247)"
          ],
          [
           0.6,
           "rgb(209,229,240)"
          ],
          [
           0.7,
           "rgb(146,197,222)"
          ],
          [
           0.8,
           "rgb(67,147,195)"
          ],
          [
           0.9,
           "rgb(33,102,172)"
          ],
          [
           1,
           "rgb(5,48,97)"
          ]
         ],
         "hoverongaps": false,
         "type": "heatmap",
         "x": [
          0,
          1,
          2,
          3,
          4,
          5,
          6,
          7
         ],
         "xaxis": "x3",
         "y": [
          "H",
          "G",
          "F",
          "E",
          "D",
          "C",
          "B",
          "A"
         ],
         "yaxis": "y3",
         "z": [
          [
           0.40656813979148865,
           0.14822128415107727,
           0.21297168731689453,
           0.19336089491844177,
           0.2061026394367218,
           0.15775519609451294,
           0.18230795860290527,
           0.5008048415184021
          ],
          [
           0.04810928553342819,
           -0.09128595888614655,
           -0.0473959781229496,
           -0.04128015413880348,
           -0.2105836272239685,
           -0.31430545449256897,
           0.185699924826622,
           0.09560813754796982
          ],
          [
           0.3012197017669678,
           -0.3003266155719757,
           -0.330569863319397,
           -0.3049732744693756,
           -0.18968594074249268,
           -0.24045637249946594,
           -0.21973223984241486,
           0.12345711886882782
          ],
          [
           0.46106550097465515,
           -0.2764923572540283,
           -0.1969982087612152,
           -0.19786018133163452,
           -0.2596834599971771,
           -0.306561678647995,
           -0.29259124398231506,
           0.22197891771793365
          ],
          [
           0.4568875730037689,
           -0.11764916777610779,
           -0.260702908039093,
           -0.2189013957977295,
           -0.27050647139549255,
           -0.3363247811794281,
           -0.2983815371990204,
           0.18241317570209503
          ],
          [
           0.46955636143684387,
           -0.21917928755283356,
           -0.17364074289798737,
           -0.2969290316104889,
           -0.27744871377944946,
           -0.35444384813308716,
           -0.17678382992744446,
           0.15538114309310913
          ],
          [
           0.28533032536506653,
           -0.1662600040435791,
           -0.09938597679138184,
           -0.21153883635997772,
           0.04371264576911926,
           -0.16629180312156677,
           0.05637310817837715,
           0.054377201944589615
          ],
          [
           0.437559574842453,
           0.16675080358982086,
           0.22221477329730988,
           0.17926931381225586,
           0.24617749452590942,
           0.22131507098674774,
           0.0705474317073822,
           0.26557761430740356
          ]
         ],
         "zmax": 0.7789613008499146,
         "zmin": -0.7789613008499146
        },
        {
         "colorscale": [
          [
           0,
           "rgb(103,0,31)"
          ],
          [
           0.1,
           "rgb(178,24,43)"
          ],
          [
           0.2,
           "rgb(214,96,77)"
          ],
          [
           0.3,
           "rgb(244,165,130)"
          ],
          [
           0.4,
           "rgb(253,219,199)"
          ],
          [
           0.5,
           "rgb(247,247,247)"
          ],
          [
           0.6,
           "rgb(209,229,240)"
          ],
          [
           0.7,
           "rgb(146,197,222)"
          ],
          [
           0.8,
           "rgb(67,147,195)"
          ],
          [
           0.9,
           "rgb(33,102,172)"
          ],
          [
           1,
           "rgb(5,48,97)"
          ]
         ],
         "hoverongaps": false,
         "type": "heatmap",
         "x": [
          0,
          1,
          2,
          3,
          4,
          5,
          6,
          7
         ],
         "xaxis": "x11",
         "y": [
          "H",
          "G",
          "F",
          "E",
          "D",
          "C",
          "B",
          "A"
         ],
         "yaxis": "y11",
         "z": [
          [
           -0.04426014423370361,
           0.13331684470176697,
           0.14991289377212524,
           0.052487440407276154,
           0.11198743432760239,
           0.2447567731142044,
           0.04665813967585564,
           -0.00014389166608452797
          ],
          [
           0.11158101260662079,
           0.0140598239377141,
           0.11284536123275757,
           0.2497803419828415,
           0.11575283110141754,
           0.15015988051891327,
           0.08120004832744598,
           -0.054851777851581573
          ],
          [
           0.14347481727600098,
           0.014251342043280602,
           0.3035062253475189,
           0.39729076623916626,
           0.4368864893913269,
           0.4864010512828827,
           0.46655890345573425,
           -0.20610792934894562
          ],
          [
           0.07518644630908966,
           0.014459894970059395,
           0.32025906443595886,
           0.4838602542877197,
           0.6103813052177429,
           0.4897415041923523,
           0.6982840299606323,
           -0.15692485868930817
          ],
          [
           0.1750669628381729,
           0.013224445283412933,
           0.08831869065761566,
           0.5741186738014221,
           0.5903241634368896,
           0.406212717294693,
           0.6574550271034241,
           -0.20457832515239716
          ],
          [
           0.19904476404190063,
           0.035824015736579895,
           0.09987884759902954,
           0.33506762981414795,
           0.5493620038032532,
           0.41547340154647827,
           0.5099214911460876,
           -0.18576768040657043
          ],
          [
           0.056880008429288864,
           0.020087065175175667,
           0.1261419653892517,
           0.5886736512184143,
           0.6858255863189697,
           0.5628072023391724,
           0.676922082901001,
           -0.16985808312892914
          ],
          [
           0.011260389350354671,
           0.09403336048126221,
           0.07972080260515213,
           0.0207718163728714,
           0.044113852083683014,
           -0.12331609427928925,
           -0.20337727665901184,
           -0.17456907033920288
          ]
         ],
         "zmax": 0.7789613008499146,
         "zmin": -0.7789613008499146
        },
        {
         "colorscale": [
          [
           0,
           "rgb(103,0,31)"
          ],
          [
           0.1,
           "rgb(178,24,43)"
          ],
          [
           0.2,
           "rgb(214,96,77)"
          ],
          [
           0.3,
           "rgb(244,165,130)"
          ],
          [
           0.4,
           "rgb(253,219,199)"
          ],
          [
           0.5,
           "rgb(247,247,247)"
          ],
          [
           0.6,
           "rgb(209,229,240)"
          ],
          [
           0.7,
           "rgb(146,197,222)"
          ],
          [
           0.8,
           "rgb(67,147,195)"
          ],
          [
           0.9,
           "rgb(33,102,172)"
          ],
          [
           1,
           "rgb(5,48,97)"
          ]
         ],
         "hoverongaps": false,
         "type": "heatmap",
         "x": [
          0,
          1,
          2,
          3,
          4,
          5,
          6,
          7
         ],
         "xaxis": "x19",
         "y": [
          "H",
          "G",
          "F",
          "E",
          "D",
          "C",
          "B",
          "A"
         ],
         "yaxis": "y19",
         "z": [
          [
           0.06751687824726105,
           0.12619492411613464,
           0.12558971345424652,
           0.2624777555465698,
           0.12520329654216766,
           0.22803977131843567,
           0.09430398792028427,
           0.19794441759586334
          ],
          [
           0.027999265119433403,
           0.036923207342624664,
           -0.020805373787879944,
           -0.019242046400904655,
           0.019310206174850464,
           0.024396296590566635,
           0.00918137189000845,
           0.2636358439922333
          ],
          [
           0.012629793956875801,
           -0.10801441967487335,
           -0.0869460329413414,
           -0.047579675912857056,
           0.029551206156611443,
           -0.07330754399299622,
           0.014890242367982864,
           0.1804143488407135
          ],
          [
           0.013515104539692402,
           -0.09351133555173874,
           -0.4544641971588135,
           -0.17554548382759094,
           -0.14241422712802887,
           -0.0030902819707989693,
           0.006705697160214186,
           0.1589648723602295
          ],
          [
           0.040537022054195404,
           -0.4107286036014557,
           -0.38558703660964966,
           -0.5524019002914429,
           -0.19510260224342346,
           -0.003652476705610752,
           -0.010344997979700565,
           0.15037494897842407
          ],
          [
           0.07934620976448059,
           -0.4988713562488556,
           -0.4926220178604126,
           -0.43401578068733215,
           -0.4246103763580322,
           -0.27891385555267334,
           -0.04500201717019081,
           0.21375130116939545
          ],
          [
           0.05842675641179085,
           -0.30251848697662354,
           -0.41523823142051697,
           -0.45787617564201355,
           -0.5780647397041321,
           -0.40240293741226196,
           0.056381937116384506,
           0.19742855429649353
          ],
          [
           0.1539601981639862,
           0.39782413840293884,
           0.22874321043491364,
           0.29375922679901123,
           0.0973692387342453,
           0.20576731860637665,
           0.464615136384964,
           0.27346178889274597
          ]
         ],
         "zmax": 0.7789613008499146,
         "zmin": -0.7789613008499146
        },
        {
         "colorscale": [
          [
           0,
           "rgb(103,0,31)"
          ],
          [
           0.1,
           "rgb(178,24,43)"
          ],
          [
           0.2,
           "rgb(214,96,77)"
          ],
          [
           0.3,
           "rgb(244,165,130)"
          ],
          [
           0.4,
           "rgb(253,219,199)"
          ],
          [
           0.5,
           "rgb(247,247,247)"
          ],
          [
           0.6,
           "rgb(209,229,240)"
          ],
          [
           0.7,
           "rgb(146,197,222)"
          ],
          [
           0.8,
           "rgb(67,147,195)"
          ],
          [
           0.9,
           "rgb(33,102,172)"
          ],
          [
           1,
           "rgb(5,48,97)"
          ]
         ],
         "hoverongaps": false,
         "type": "heatmap",
         "x": [
          0,
          1,
          2,
          3,
          4,
          5,
          6,
          7
         ],
         "xaxis": "x4",
         "y": [
          "H",
          "G",
          "F",
          "E",
          "D",
          "C",
          "B",
          "A"
         ],
         "yaxis": "y4",
         "z": [
          [
           0.4019230008125305,
           0.4561607539653778,
           0.1986788958311081,
           0.32385826110839844,
           0.3186632990837097,
           0.4607838988304138,
           0.17827604711055756,
           0.3575829565525055
          ],
          [
           0.2026345282793045,
           -0.13050691783428192,
           -0.12066613137722015,
           -0.0936431735754013,
           -0.14410264790058136,
           -0.21008242666721344,
           -0.043519046157598495,
           0.4666762948036194
          ],
          [
           0.25057485699653625,
           -0.1251922994852066,
           -0.3171100318431854,
           -0.12549366056919098,
           -0.3421747386455536,
           -0.22509343922138214,
           0.014361067675054073,
           0.3788807690143585
          ],
          [
           0.020743271335959435,
           -0.21473020315170288,
           -0.31331077218055725,
           -0.20849750936031342,
           -0.2711237370967865,
           -0.13825055956840515,
           -0.004668733105063438,
           0.4366764426231384
          ],
          [
           0.14935791492462158,
           -0.037034984678030014,
           -0.2877616286277771,
           -0.35273265838623047,
           -0.29925382137298584,
           -0.36459124088287354,
           -0.12430095672607422,
           0.3452455997467041
          ],
          [
           0.16885222494602203,
           -0.0790196880698204,
           -0.14351986348628998,
           -0.2701568901538849,
           -0.21395207941532135,
           -0.43943727016448975,
           -0.12786486744880676,
           0.2736775279045105
          ],
          [
           0.3335307538509369,
           0.16441169381141663,
           0.03086388297379017,
           -0.024787848815321922,
           -0.06399832665920258,
           -0.25710952281951904,
           -0.2690296173095703,
           0.2923250198364258
          ],
          [
           0.39559876918792725,
           0.4461781978607178,
           0.43005284667015076,
           0.4235009551048279,
           0.3238633871078491,
           0.284950315952301,
           0.36718666553497314,
           0.21157971024513245
          ]
         ],
         "zmax": 0.7789613008499146,
         "zmin": -0.7789613008499146
        },
        {
         "colorscale": [
          [
           0,
           "rgb(103,0,31)"
          ],
          [
           0.1,
           "rgb(178,24,43)"
          ],
          [
           0.2,
           "rgb(214,96,77)"
          ],
          [
           0.3,
           "rgb(244,165,130)"
          ],
          [
           0.4,
           "rgb(253,219,199)"
          ],
          [
           0.5,
           "rgb(247,247,247)"
          ],
          [
           0.6,
           "rgb(209,229,240)"
          ],
          [
           0.7,
           "rgb(146,197,222)"
          ],
          [
           0.8,
           "rgb(67,147,195)"
          ],
          [
           0.9,
           "rgb(33,102,172)"
          ],
          [
           1,
           "rgb(5,48,97)"
          ]
         ],
         "hoverongaps": false,
         "type": "heatmap",
         "x": [
          0,
          1,
          2,
          3,
          4,
          5,
          6,
          7
         ],
         "xaxis": "x12",
         "y": [
          "H",
          "G",
          "F",
          "E",
          "D",
          "C",
          "B",
          "A"
         ],
         "yaxis": "y12",
         "z": [
          [
           0.12130607664585114,
           0.10092922300100327,
           0.25180351734161377,
           0.19616037607192993,
           0.3712685704231262,
           0.20536071062088013,
           0.397320955991745,
           0.26678407192230225
          ],
          [
           0.0920403003692627,
           -0.19432313740253448,
           -0.5920867323875427,
           -0.47154200077056885,
           -0.31021925806999207,
           -0.3415338397026062,
           -0.5311509370803833,
           0.21223972737789154
          ],
          [
           0.06016383692622185,
           -0.13540148735046387,
           -0.5591909885406494,
           -0.45393258333206177,
           -0.3868483603000641,
           -0.4092538058757782,
           -0.5821908712387085,
           0.404159277677536
          ],
          [
           0.04627284035086632,
           0.05784546956419945,
           -0.5017721056938171,
           -0.45301637053489685,
           -0.355730801820755,
           -0.09893849492073059,
           -0.437969833612442,
           0.46008622646331787
          ],
          [
           0.04366636648774147,
           0.10384645313024521,
           -0.10724499076604843,
           -0.4798889756202698,
           -0.43511590361595154,
           -0.24212661385536194,
           -0.4574089050292969,
           0.45302775502204895
          ],
          [
           0.04580944404006004,
           0.053980905562639236,
           0.03435342758893967,
           -0.06132029369473457,
           -0.4545576870441437,
           -0.3969331383705139,
           -0.4786279797554016,
           0.3961329460144043
          ],
          [
           0.04118148609995842,
           0.03598131611943245,
           -0.011848771944642067,
           -0.2972669303417206,
           -0.4042035639286041,
           -0.20486465096473694,
           -0.3059735596179962,
           0.37668377161026
          ],
          [
           0.08781783282756805,
           0.13867789506912231,
           0.09371032565832138,
           0.1941279023885727,
           0.10849982500076294,
           0.18762971460819244,
           0.09085855633020401,
           0.37641000747680664
          ]
         ],
         "zmax": 0.7789613008499146,
         "zmin": -0.7789613008499146
        },
        {
         "colorscale": [
          [
           0,
           "rgb(103,0,31)"
          ],
          [
           0.1,
           "rgb(178,24,43)"
          ],
          [
           0.2,
           "rgb(214,96,77)"
          ],
          [
           0.3,
           "rgb(244,165,130)"
          ],
          [
           0.4,
           "rgb(253,219,199)"
          ],
          [
           0.5,
           "rgb(247,247,247)"
          ],
          [
           0.6,
           "rgb(209,229,240)"
          ],
          [
           0.7,
           "rgb(146,197,222)"
          ],
          [
           0.8,
           "rgb(67,147,195)"
          ],
          [
           0.9,
           "rgb(33,102,172)"
          ],
          [
           1,
           "rgb(5,48,97)"
          ]
         ],
         "hoverongaps": false,
         "type": "heatmap",
         "x": [
          0,
          1,
          2,
          3,
          4,
          5,
          6,
          7
         ],
         "xaxis": "x20",
         "y": [
          "H",
          "G",
          "F",
          "E",
          "D",
          "C",
          "B",
          "A"
         ],
         "yaxis": "y20",
         "z": [
          [
           0.25858762860298157,
           0.45242446660995483,
           0.5328092575073242,
           0.5109325647354126,
           0.5005983710289001,
           0.5067112445831299,
           0.25400495529174805,
           0.28114697337150574
          ],
          [
           0.08609594404697418,
           -0.10199672728776932,
           -0.4930276870727539,
           -0.5582029819488525,
           -0.3773256242275238,
           -0.5054871439933777,
           -0.3538960814476013,
           0.2973741888999939
          ],
          [
           0.05582042783498764,
           -0.12504436075687408,
           -0.5003653168678284,
           -0.5764940977096558,
           -0.4670414924621582,
           -0.48621225357055664,
           -0.5339887142181396,
           0.44586509466171265
          ],
          [
           0.04253168776631355,
           -0.3763185143470764,
           -0.48097074031829834,
           -0.21906636655330658,
           -0.038385793566703796,
           -0.2930387258529663,
           -0.4655764102935791,
           0.38462936878204346
          ],
          [
           0.10593491792678833,
           -0.11318765580654144,
           -0.3950675427913666,
           0.017618082463741302,
           0.014163968153297901,
           0.015367998741567135,
           -0.33343058824539185,
           0.3926618993282318
          ],
          [
           0.17538122832775116,
           -0.05560026690363884,
           -0.10024037212133408,
           -0.10470712929964066,
           -0.3532137870788574,
           -0.5174678564071655,
           -0.5995742678642273,
           0.4298589825630188
          ],
          [
           0.09116081148386002,
           0.0062506115064024925,
           -0.18273742496967316,
           -0.45196712017059326,
           -0.6545984148979187,
           -0.612907350063324,
           -0.5066874623298645,
           0.3851933181285858
          ],
          [
           0.20974493026733398,
           0.0558423288166523,
           0.10613945871591568,
           0.20302975177764893,
           0.31978270411491394,
           0.28912821412086487,
           0.38238057494163513,
           0.3456554710865021
          ]
         ],
         "zmax": 0.7789613008499146,
         "zmin": -0.7789613008499146
        },
        {
         "colorscale": [
          [
           0,
           "rgb(103,0,31)"
          ],
          [
           0.1,
           "rgb(178,24,43)"
          ],
          [
           0.2,
           "rgb(214,96,77)"
          ],
          [
           0.3,
           "rgb(244,165,130)"
          ],
          [
           0.4,
           "rgb(253,219,199)"
          ],
          [
           0.5,
           "rgb(247,247,247)"
          ],
          [
           0.6,
           "rgb(209,229,240)"
          ],
          [
           0.7,
           "rgb(146,197,222)"
          ],
          [
           0.8,
           "rgb(67,147,195)"
          ],
          [
           0.9,
           "rgb(33,102,172)"
          ],
          [
           1,
           "rgb(5,48,97)"
          ]
         ],
         "hoverongaps": false,
         "type": "heatmap",
         "x": [
          0,
          1,
          2,
          3,
          4,
          5,
          6,
          7
         ],
         "xaxis": "x5",
         "y": [
          "H",
          "G",
          "F",
          "E",
          "D",
          "C",
          "B",
          "A"
         ],
         "yaxis": "y5",
         "z": [
          [
           -0.029126795008778572,
           -0.09475469589233398,
           -0.13379576802253723,
           -0.06137474253773689,
           -0.02218570001423359,
           -0.08461247384548187,
           -0.36169493198394775,
           -0.5158109664916992
          ],
          [
           -0.30892500281333923,
           0.4831843376159668,
           0.52788245677948,
           0.4487435817718506,
           0.397906631231308,
           0.380373477935791,
           0.37710466980934143,
           -0.4058208167552948
          ],
          [
           -0.33799687027931213,
           0.47914761304855347,
           0.43683934211730957,
           0.20313097536563873,
           0.2573421001434326,
           0.3844289779663086,
           0.5176222920417786,
           -0.35457733273506165
          ],
          [
           -0.34423214197158813,
           0.3733677268028259,
           0.1722414791584015,
           0.07318528741598129,
           0.42987802624702454,
           0.4283725321292877,
           0.4968104660511017,
           -0.41097283363342285
          ],
          [
           -0.3525577783584595,
           0.0863555297255516,
           0.06925615668296814,
           0.09334610402584076,
           0.45451614260673523,
           0.5113564729690552,
           0.5291318893432617,
           -0.38851332664489746
          ],
          [
           -0.3609403073787689,
           0.05396943911910057,
           0.020634647458791733,
           0.07484716922044754,
           0.2910352647304535,
           0.5040197372436523,
           0.37861624360084534,
           -0.3594749867916107
          ],
          [
           -0.3171527087688446,
           0.09075930714607239,
           0.021213477477431297,
           0.11256317794322968,
           0.17701809108257294,
           0.5225266814231873,
           0.5152555108070374,
           -0.2413042187690735
          ],
          [
           -0.13673046231269836,
           -0.3029341399669647,
           -0.15510863065719604,
           -0.3098464608192444,
           -0.3771807551383972,
           -0.3396984040737152,
           -0.17921148240566254,
           -0.14143036305904388
          ]
         ],
         "zmax": 0.7789613008499146,
         "zmin": -0.7789613008499146
        },
        {
         "colorscale": [
          [
           0,
           "rgb(103,0,31)"
          ],
          [
           0.1,
           "rgb(178,24,43)"
          ],
          [
           0.2,
           "rgb(214,96,77)"
          ],
          [
           0.3,
           "rgb(244,165,130)"
          ],
          [
           0.4,
           "rgb(253,219,199)"
          ],
          [
           0.5,
           "rgb(247,247,247)"
          ],
          [
           0.6,
           "rgb(209,229,240)"
          ],
          [
           0.7,
           "rgb(146,197,222)"
          ],
          [
           0.8,
           "rgb(67,147,195)"
          ],
          [
           0.9,
           "rgb(33,102,172)"
          ],
          [
           1,
           "rgb(5,48,97)"
          ]
         ],
         "hoverongaps": false,
         "type": "heatmap",
         "x": [
          0,
          1,
          2,
          3,
          4,
          5,
          6,
          7
         ],
         "xaxis": "x13",
         "y": [
          "H",
          "G",
          "F",
          "E",
          "D",
          "C",
          "B",
          "A"
         ],
         "yaxis": "y13",
         "z": [
          [
           0.360008180141449,
           0.4080182909965515,
           0.36221078038215637,
           0.1813056468963623,
           0.4262312054634094,
           0.09730855375528336,
           0.1309911459684372,
           0.19875891506671906
          ],
          [
           0.30354392528533936,
           -0.6685822010040283,
           -0.6215739846229553,
           -0.5331172943115234,
           -0.47899359464645386,
           -0.537630558013916,
           -0.24170857667922974,
           0.0634111538529396
          ],
          [
           0.30120542645454407,
           -0.42239031195640564,
           -0.5347033143043518,
           -0.4319484531879425,
           -0.44122982025146484,
           -0.43995434045791626,
           -0.010988672263920307,
           0.057140983641147614
          ],
          [
           0.4305625855922699,
           -0.505232572555542,
           -0.6044191718101501,
           -0.457722932100296,
           -0.410987913608551,
           -0.0176220815628767,
           0.02748909778892994,
           0.043100301176309586
          ],
          [
           0.3120698928833008,
           -0.5092903971672058,
           -0.4927223026752472,
           -0.3574365973472595,
           -0.004770917817950249,
           0.03833451494574547,
           0.05943334475159645,
           0.0140662407502532
          ],
          [
           0.44159889221191406,
           -0.6395270228385925,
           -0.516838014125824,
           -0.09119493514299393,
           0.002035287907347083,
           0.030113253742456436,
           0.04488350450992584,
           0.026719002053141594
          ],
          [
           0.389860063791275,
           -0.5680623650550842,
           -0.5329963564872742,
           -0.0554671511054039,
           0.025766557082533836,
           0.04088706150650978,
           0.04383380711078644,
           0.03442271798849106
          ],
          [
           0.22709158062934875,
           0.20085006952285767,
           0.0076725659891963005,
           0.045433372259140015,
           0.014438391663134098,
           0.013494996353983879,
           0.041189227253198624,
           0.09425544738769531
          ]
         ],
         "zmax": 0.7789613008499146,
         "zmin": -0.7789613008499146
        },
        {
         "colorscale": [
          [
           0,
           "rgb(103,0,31)"
          ],
          [
           0.1,
           "rgb(178,24,43)"
          ],
          [
           0.2,
           "rgb(214,96,77)"
          ],
          [
           0.3,
           "rgb(244,165,130)"
          ],
          [
           0.4,
           "rgb(253,219,199)"
          ],
          [
           0.5,
           "rgb(247,247,247)"
          ],
          [
           0.6,
           "rgb(209,229,240)"
          ],
          [
           0.7,
           "rgb(146,197,222)"
          ],
          [
           0.8,
           "rgb(67,147,195)"
          ],
          [
           0.9,
           "rgb(33,102,172)"
          ],
          [
           1,
           "rgb(5,48,97)"
          ]
         ],
         "hoverongaps": false,
         "type": "heatmap",
         "x": [
          0,
          1,
          2,
          3,
          4,
          5,
          6,
          7
         ],
         "xaxis": "x21",
         "y": [
          "H",
          "G",
          "F",
          "E",
          "D",
          "C",
          "B",
          "A"
         ],
         "yaxis": "y21",
         "z": [
          [
           0.12596307694911957,
           0.3766027092933655,
           0.4982878267765045,
           0.44561225175857544,
           0.2787480354309082,
           0.31333115696907043,
           0.021163389086723328,
           0.04939749091863632
          ],
          [
           0.07622814178466797,
           -0.2232779562473297,
           -0.41551291942596436,
           -0.469086617231369,
           -0.4096109867095947,
           -0.40758052468299866,
           -0.027053605765104294,
           0.09647367149591446
          ],
          [
           0.07100915908813477,
           -0.2786557972431183,
           -0.4116270840167999,
           -0.5149893164634705,
           -0.412789523601532,
           -0.34244024753570557,
           -0.055913664400577545,
           0.05860019475221634
          ],
          [
           0.021915247663855553,
           0.046806760132312775,
           -0.3881707489490509,
           -0.48824813961982727,
           -0.4551231265068054,
           -0.3028961718082428,
           0.04268616437911987,
           0.0456106998026371
          ],
          [
           0.0227175485342741,
           0.045409366488456726,
           0.004951789975166321,
           -0.4268640875816345,
           -0.43414244055747986,
           -0.37648823857307434,
           0.035379402339458466,
           0.10300153493881226
          ],
          [
           0.09313006699085236,
           0.01853170059621334,
           -0.05621722713112831,
           -0.19450059533119202,
           -0.3190992772579193,
           -0.048745568841695786,
           0.027636941522359848,
           -0.016122814267873764
          ],
          [
           0.04746389389038086,
           0.005821690429002047,
           0.017645271494984627,
           0.03673194721341133,
           0.009571691043674946,
           0.005167312920093536,
           0.016912559047341347,
           0.026382163166999817
          ],
          [
           0.11932314932346344,
           0.12007348984479904,
           0.19430011510849,
           0.19670087099075317,
           0.23611189424991608,
           0.11395785957574844,
           0.08733828365802765,
           0.09361223131418228
          ]
         ],
         "zmax": 0.7789613008499146,
         "zmin": -0.7789613008499146
        },
        {
         "colorscale": [
          [
           0,
           "rgb(103,0,31)"
          ],
          [
           0.1,
           "rgb(178,24,43)"
          ],
          [
           0.2,
           "rgb(214,96,77)"
          ],
          [
           0.3,
           "rgb(244,165,130)"
          ],
          [
           0.4,
           "rgb(253,219,199)"
          ],
          [
           0.5,
           "rgb(247,247,247)"
          ],
          [
           0.6,
           "rgb(209,229,240)"
          ],
          [
           0.7,
           "rgb(146,197,222)"
          ],
          [
           0.8,
           "rgb(67,147,195)"
          ],
          [
           0.9,
           "rgb(33,102,172)"
          ],
          [
           1,
           "rgb(5,48,97)"
          ]
         ],
         "hoverongaps": false,
         "type": "heatmap",
         "x": [
          0,
          1,
          2,
          3,
          4,
          5,
          6,
          7
         ],
         "xaxis": "x6",
         "y": [
          "H",
          "G",
          "F",
          "E",
          "D",
          "C",
          "B",
          "A"
         ],
         "yaxis": "y6",
         "z": [
          [
           -0.0027716285549104214,
           -0.039621300995349884,
           -0.057409293949604034,
           -0.04057571664452553,
           -0.13502034544944763,
           -0.12847204506397247,
           -0.06096109747886658,
           -0.12961438298225403
          ],
          [
           0.019134268164634705,
           0.04881385713815689,
           0.12501898407936096,
           0.1322387307882309,
           0.17469605803489685,
           0.2206374555826187,
           0.11667686700820923,
           -0.13046251237392426
          ],
          [
           -0.030567221343517303,
           0.11387336254119873,
           0.34798097610473633,
           0.3594736158847809,
           0.34761881828308105,
           0.37470802664756775,
           0.36548691987991333,
           -0.037360671907663345
          ],
          [
           -0.021354319527745247,
           0.20557108521461487,
           0.3808043599128723,
           0.3721955716609955,
           0.4188880920410156,
           0.2768670320510864,
           0.35715147852897644,
           -0.09313639253377914
          ],
          [
           -0.03720782324671745,
           0.2553987503051758,
           0.4069085121154785,
           0.43263065814971924,
           0.46218663454055786,
           0.46326446533203125,
           0.3903852701187134,
           -0.05675441026687622
          ],
          [
           0.0076861088164150715,
           0.38454559445381165,
           0.2934110462665558,
           0.3566196858882904,
           0.3163180947303772,
           0.4334806501865387,
           0.3746055066585541,
           -0.16683007776737213
          ],
          [
           -0.011380297131836414,
           0.28874683380126953,
           0.3670769929885864,
           0.34510865807533264,
           0.27831482887268066,
           0.4082363247871399,
           0.3403809368610382,
           -0.13797177374362946
          ],
          [
           -0.21933427453041077,
           -0.170261412858963,
           -0.2595970928668976,
           -0.2807264029979706,
           -0.199493870139122,
           -0.1622931808233261,
           -0.2933211028575897,
           -0.25607535243034363
          ]
         ],
         "zmax": 0.7789613008499146,
         "zmin": -0.7789613008499146
        },
        {
         "colorscale": [
          [
           0,
           "rgb(103,0,31)"
          ],
          [
           0.1,
           "rgb(178,24,43)"
          ],
          [
           0.2,
           "rgb(214,96,77)"
          ],
          [
           0.3,
           "rgb(244,165,130)"
          ],
          [
           0.4,
           "rgb(253,219,199)"
          ],
          [
           0.5,
           "rgb(247,247,247)"
          ],
          [
           0.6,
           "rgb(209,229,240)"
          ],
          [
           0.7,
           "rgb(146,197,222)"
          ],
          [
           0.8,
           "rgb(67,147,195)"
          ],
          [
           0.9,
           "rgb(33,102,172)"
          ],
          [
           1,
           "rgb(5,48,97)"
          ]
         ],
         "hoverongaps": false,
         "type": "heatmap",
         "x": [
          0,
          1,
          2,
          3,
          4,
          5,
          6,
          7
         ],
         "xaxis": "x14",
         "y": [
          "H",
          "G",
          "F",
          "E",
          "D",
          "C",
          "B",
          "A"
         ],
         "yaxis": "y14",
         "z": [
          [
           0.1162145808339119,
           0.05433142930269241,
           0.03735208511352539,
           0.011786704882979393,
           0.03327267989516258,
           -0.005436290055513382,
           0.04543487727642059,
           0.1296955943107605
          ],
          [
           0.19721585512161255,
           -0.45284342765808105,
           -0.028817759826779366,
           0.0284553412348032,
           0.03224707394838333,
           0.004227592144161463,
           0.002113938797265291,
           0.18064361810684204
          ],
          [
           0.1007407009601593,
           -0.5942028164863586,
           -0.4093629717826843,
           0.041390709578990936,
           0.049408502876758575,
           0.03319292515516281,
           -0.04177112132310867,
           0.0233644787222147
          ],
          [
           0.4434492290019989,
           -0.672724723815918,
           -0.5788993835449219,
           -0.30389517545700073,
           -0.17696502804756165,
           -0.07381176948547363,
           -0.4100969135761261,
           -0.057695358991622925
          ],
          [
           0.22535526752471924,
           -0.4957880675792694,
           -0.4483543634414673,
           -0.4839969277381897,
           -0.5328778028488159,
           -0.4965842664241791,
           -0.5243740081787109,
           0.07121221721172333
          ],
          [
           0.42872828245162964,
           -0.6336883306503296,
           -0.5026846528053284,
           -0.25283050537109375,
           -0.5214431285858154,
           -0.45071521401405334,
           -0.5298486948013306,
           0.05699882283806801
          ],
          [
           0.2224409133195877,
           -0.4719267189502716,
           -0.477674275636673,
           -0.4910431206226349,
           -0.5741328597068787,
           -0.400857150554657,
           -0.622615396976471,
           0.1027284786105156
          ],
          [
           0.34834936261177063,
           0.48235297203063965,
           0.3362150192260742,
           0.22970589995384216,
           0.04330132529139519,
           0.4442402422428131,
           0.49691981077194214,
           0.420795202255249
          ]
         ],
         "zmax": 0.7789613008499146,
         "zmin": -0.7789613008499146
        },
        {
         "colorscale": [
          [
           0,
           "rgb(103,0,31)"
          ],
          [
           0.1,
           "rgb(178,24,43)"
          ],
          [
           0.2,
           "rgb(214,96,77)"
          ],
          [
           0.3,
           "rgb(244,165,130)"
          ],
          [
           0.4,
           "rgb(253,219,199)"
          ],
          [
           0.5,
           "rgb(247,247,247)"
          ],
          [
           0.6,
           "rgb(209,229,240)"
          ],
          [
           0.7,
           "rgb(146,197,222)"
          ],
          [
           0.8,
           "rgb(67,147,195)"
          ],
          [
           0.9,
           "rgb(33,102,172)"
          ],
          [
           1,
           "rgb(5,48,97)"
          ]
         ],
         "hoverongaps": false,
         "type": "heatmap",
         "x": [
          0,
          1,
          2,
          3,
          4,
          5,
          6,
          7
         ],
         "xaxis": "x22",
         "y": [
          "H",
          "G",
          "F",
          "E",
          "D",
          "C",
          "B",
          "A"
         ],
         "yaxis": "y22",
         "z": [
          [
           0.29560884833335876,
           0.07555922865867615,
           0.07001005858182907,
           0.15822665393352509,
           0.07593342661857605,
           0.2347879409790039,
           0.10266195982694626,
           0.05595773831009865
          ],
          [
           0.38911664485931396,
           0.045520953834056854,
           0.0359000526368618,
           0.024870913475751877,
           -0.48736003041267395,
           -0.6055288314819336,
           -0.4860180914402008,
           0.17875464260578156
          ],
          [
           0.3859711289405823,
           -0.34833037853240967,
           -0.12477707117795944,
           -0.34670543670654297,
           -0.5410681962966919,
           -0.5555652976036072,
           -0.6464755535125732,
           0.28020429611206055
          ],
          [
           0.3854134678840637,
           -0.6346063613891602,
           -0.5208863019943237,
           -0.4891379177570343,
           -0.5438761115074158,
           -0.531155526638031,
           -0.6698079705238342,
           0.37029004096984863
          ],
          [
           0.43922555446624756,
           -0.6309595108032227,
           -0.38230133056640625,
           -0.32413870096206665,
           -0.5560255646705627,
           -0.38064447045326233,
           -0.5514543652534485,
           0.27600640058517456
          ],
          [
           0.478773832321167,
           -0.4200347661972046,
           -0.5263127088546753,
           -0.36040636897087097,
           -0.23394730687141418,
           -0.24352692067623138,
           0.02411983348429203,
           0.1963924914598465
          ],
          [
           0.5400384068489075,
           -0.4563864469528198,
           -0.5207052230834961,
           -0.4376524090766907,
           -0.009650523774325848,
           0.02720138430595398,
           0.08849544823169708,
           0.06167615205049515
          ],
          [
           0.29303571581840515,
           0.43481767177581787,
           0.4608279764652252,
           0.3929014801979065,
           0.06795558333396912,
           0.08250082284212112,
           0.03484144061803818,
           0.07667238265275955
          ]
         ],
         "zmax": 0.7789613008499146,
         "zmin": -0.7789613008499146
        },
        {
         "colorscale": [
          [
           0,
           "rgb(103,0,31)"
          ],
          [
           0.1,
           "rgb(178,24,43)"
          ],
          [
           0.2,
           "rgb(214,96,77)"
          ],
          [
           0.3,
           "rgb(244,165,130)"
          ],
          [
           0.4,
           "rgb(253,219,199)"
          ],
          [
           0.5,
           "rgb(247,247,247)"
          ],
          [
           0.6,
           "rgb(209,229,240)"
          ],
          [
           0.7,
           "rgb(146,197,222)"
          ],
          [
           0.8,
           "rgb(67,147,195)"
          ],
          [
           0.9,
           "rgb(33,102,172)"
          ],
          [
           1,
           "rgb(5,48,97)"
          ]
         ],
         "hoverongaps": false,
         "type": "heatmap",
         "x": [
          0,
          1,
          2,
          3,
          4,
          5,
          6,
          7
         ],
         "xaxis": "x7",
         "y": [
          "H",
          "G",
          "F",
          "E",
          "D",
          "C",
          "B",
          "A"
         ],
         "yaxis": "y7",
         "z": [
          [
           -0.24894332885742188,
           -0.42033228278160095,
           -0.5040974617004395,
           -0.3381254971027374,
           -0.33618777990341187,
           -0.4993308186531067,
           -0.3521207273006439,
           -0.1508965939283371
          ],
          [
           -0.39007896184921265,
           0.4482826590538025,
           0.4113456606864929,
           0.35516732931137085,
           0.41535842418670654,
           0.468049019575119,
           0.44944432377815247,
           -0.08069225400686264
          ],
          [
           -0.3458957076072693,
           0.43774083256721497,
           0.3726882040500641,
           0.3826769292354584,
           0.40435177087783813,
           0.46844151616096497,
           0.4374476373195648,
           -0.25313541293144226
          ],
          [
           -0.4839542806148529,
           0.4538404941558838,
           0.45955172181129456,
           0.5527256727218628,
           0.5221059918403625,
           0.2937416434288025,
           0.21706156432628632,
           -0.034986164420843124
          ],
          [
           -0.22836697101593018,
           0.5169622898101807,
           0.45199713110923767,
           0.5117490291595459,
           0.11468177288770676,
           0.07043809443712234,
           0.0625956580042839,
           -0.029358766973018646
          ],
          [
           -0.28477516770362854,
           0.571606457233429,
           0.38286495208740234,
           0.1992141455411911,
           0.07424118369817734,
           0.02579243667423725,
           0.04979114979505539,
           -0.04912971332669258
          ],
          [
           -0.2617875933647156,
           0.3285134434700012,
           0.12923488020896912,
           0.06417309492826462,
           0.009868626482784748,
           0.03641945868730545,
           0.026901602745056152,
           0.029424335807561874
          ],
          [
           -0.03167502582073212,
           -0.0097016841173172,
           -0.03903830051422119,
           -0.06320685893297195,
           -0.03703944385051727,
           -0.02327781356871128,
           0.0026717460714280605,
           0.022767288610339165
          ]
         ],
         "zmax": 0.7789613008499146,
         "zmin": -0.7789613008499146
        },
        {
         "colorscale": [
          [
           0,
           "rgb(103,0,31)"
          ],
          [
           0.1,
           "rgb(178,24,43)"
          ],
          [
           0.2,
           "rgb(214,96,77)"
          ],
          [
           0.3,
           "rgb(244,165,130)"
          ],
          [
           0.4,
           "rgb(253,219,199)"
          ],
          [
           0.5,
           "rgb(247,247,247)"
          ],
          [
           0.6,
           "rgb(209,229,240)"
          ],
          [
           0.7,
           "rgb(146,197,222)"
          ],
          [
           0.8,
           "rgb(67,147,195)"
          ],
          [
           0.9,
           "rgb(33,102,172)"
          ],
          [
           1,
           "rgb(5,48,97)"
          ]
         ],
         "hoverongaps": false,
         "type": "heatmap",
         "x": [
          0,
          1,
          2,
          3,
          4,
          5,
          6,
          7
         ],
         "xaxis": "x15",
         "y": [
          "H",
          "G",
          "F",
          "E",
          "D",
          "C",
          "B",
          "A"
         ],
         "yaxis": "y15",
         "z": [
          [
           -0.02242012694478035,
           -0.07676617801189423,
           -0.03633635491132736,
           0.0047700186260044575,
           0.020250845700502396,
           0.02754277177155018,
           0.022408422082662582,
           0.011048911139369011
          ],
          [
           -0.073170967400074,
           0.612023115158081,
           0.5852851867675781,
           0.12039948999881744,
           0.09688118100166321,
           0.12285096198320389,
           0.012642797082662582,
           0.017030013725161552
          ],
          [
           -0.08770178258419037,
           0.686779260635376,
           0.6308696269989014,
           0.3727014660835266,
           0.09078901261091232,
           0.0612197183072567,
           0.06594519317150116,
           0.022815700620412827
          ],
          [
           -0.18686461448669434,
           0.7595108151435852,
           0.5838318467140198,
           0.5746498703956604,
           0.061590343713760376,
           0.04149267449975014,
           0.008599704131484032,
           0.04945061355829239
          ],
          [
           -0.06748189777135849,
           0.6256364583969116,
           0.3650498390197754,
           0.5959450006484985,
           0.55716472864151,
           0.4911907911300659,
           0.297329843044281,
           0.009244907647371292
          ],
          [
           -0.19932255148887634,
           0.6738455891609192,
           0.5611796379089355,
           0.4140504002571106,
           0.6131303310394287,
           0.5818147659301758,
           0.5787152647972107,
           -0.016672281548380852
          ],
          [
           -0.039837997406721115,
           0.5302518606185913,
           0.5992757081985474,
           0.6561912298202515,
           0.6915777921676636,
           0.6979313492774963,
           0.6939422488212585,
           -0.10329728573560715
          ],
          [
           -0.10995402187108994,
           -0.11807934939861298,
           -0.08238410204648972,
           -0.06123795732855797,
           -0.06696795672178268,
           -0.16326655447483063,
           -0.1375371366739273,
           -0.13149529695510864
          ]
         ],
         "zmax": 0.7789613008499146,
         "zmin": -0.7789613008499146
        },
        {
         "colorscale": [
          [
           0,
           "rgb(103,0,31)"
          ],
          [
           0.1,
           "rgb(178,24,43)"
          ],
          [
           0.2,
           "rgb(214,96,77)"
          ],
          [
           0.3,
           "rgb(244,165,130)"
          ],
          [
           0.4,
           "rgb(253,219,199)"
          ],
          [
           0.5,
           "rgb(247,247,247)"
          ],
          [
           0.6,
           "rgb(209,229,240)"
          ],
          [
           0.7,
           "rgb(146,197,222)"
          ],
          [
           0.8,
           "rgb(67,147,195)"
          ],
          [
           0.9,
           "rgb(33,102,172)"
          ],
          [
           1,
           "rgb(5,48,97)"
          ]
         ],
         "hoverongaps": false,
         "type": "heatmap",
         "x": [
          0,
          1,
          2,
          3,
          4,
          5,
          6,
          7
         ],
         "xaxis": "x23",
         "y": [
          "H",
          "G",
          "F",
          "E",
          "D",
          "C",
          "B",
          "A"
         ],
         "yaxis": "y23",
         "z": [
          [
           0.40185585618019104,
           0.37077340483665466,
           0.22832083702087402,
           0.2667769193649292,
           0.11695616692304611,
           0.22491884231567383,
           0.14318503439426422,
           0.15033091604709625
          ],
          [
           0.4276391565799713,
           -0.5490196943283081,
           -0.47261136770248413,
           -0.07975312322378159,
           -0.026152988895773888,
           -0.26868703961372375,
           -0.37282630801200867,
           0.2368849217891693
          ],
          [
           0.3822197914123535,
           -0.5779423713684082,
           -0.35812464356422424,
           -0.08904587477445602,
           -0.15537633001804352,
           -0.42475974559783936,
           -0.4589393734931946,
           0.322730153799057
          ],
          [
           0.2592979669570923,
           -0.46567264199256897,
           -0.08715363591909409,
           -0.027618538588285446,
           -0.47537046670913696,
           -0.24463443458080292,
           -0.48038041591644287,
           0.4932761788368225
          ],
          [
           0.12326337397098541,
           -0.07056114822626114,
           0.015317859128117561,
           -0.1925329715013504,
           -0.2078983187675476,
           -0.4083635210990906,
           -0.5018993616104126,
           0.11565703898668289
          ],
          [
           0.03877078741788864,
           0.004216792061924934,
           -0.013534348458051682,
           -0.006852997001260519,
           -0.32031816244125366,
           -0.4163386821746826,
           -0.5262349843978882,
           0.29209035634994507
          ],
          [
           0.02075253613293171,
           0.04600083827972412,
           0.04751890152692795,
           0.0028110877610743046,
           -0.0033492541406303644,
           -0.01613711751997471,
           -0.17462262511253357,
           0.3090544641017914
          ],
          [
           0.11702635139226913,
           0.06665296107530594,
           0.046517398208379745,
           0.02085167169570923,
           0.06069756671786308,
           0.09957028925418854,
           0.1634708046913147,
           0.3235367238521576
          ]
         ],
         "zmax": 0.7789613008499146,
         "zmin": -0.7789613008499146
        },
        {
         "colorscale": [
          [
           0,
           "rgb(103,0,31)"
          ],
          [
           0.1,
           "rgb(178,24,43)"
          ],
          [
           0.2,
           "rgb(214,96,77)"
          ],
          [
           0.3,
           "rgb(244,165,130)"
          ],
          [
           0.4,
           "rgb(253,219,199)"
          ],
          [
           0.5,
           "rgb(247,247,247)"
          ],
          [
           0.6,
           "rgb(209,229,240)"
          ],
          [
           0.7,
           "rgb(146,197,222)"
          ],
          [
           0.8,
           "rgb(67,147,195)"
          ],
          [
           0.9,
           "rgb(33,102,172)"
          ],
          [
           1,
           "rgb(5,48,97)"
          ]
         ],
         "hoverongaps": false,
         "type": "heatmap",
         "x": [
          0,
          1,
          2,
          3,
          4,
          5,
          6,
          7
         ],
         "xaxis": "x8",
         "y": [
          "H",
          "G",
          "F",
          "E",
          "D",
          "C",
          "B",
          "A"
         ],
         "yaxis": "y8",
         "z": [
          [
           0.05039457231760025,
           0.02528112754225731,
           0.04333879426121712,
           0.02758307196199894,
           -0.09536517411470413,
           -0.023912247270345688,
           0.07992350310087204,
           0.24519284069538116
          ],
          [
           0.015367199666798115,
           -0.02398301474750042,
           0.010501147247850895,
           0.0702495202422142,
           0.008012022823095322,
           -0.02813657931983471,
           -0.006658525671809912,
           -0.048265960067510605
          ],
          [
           0.0035305661149322987,
           -0.09618181735277176,
           -0.048156194388866425,
           0.012404529377818108,
           -0.03998434916138649,
           0.04779083654284477,
           -0.08773818612098694,
           0.007547902408987284
          ],
          [
           0.007144278846681118,
           -0.023891586810350418,
           -0.00540378550067544,
           -0.15703615546226501,
           -0.11400347203016281,
           -0.09955606609582901,
           -0.007684859447181225,
           -0.05474263057112694
          ],
          [
           0.09555701166391373,
           -0.08807831257581711,
           0.046283554285764694,
           -0.112210214138031,
           -0.14212916791439056,
           0.11326856166124344,
           -0.001401581335812807,
           -0.022038022056221962
          ],
          [
           0.07310746610164642,
           -0.08758720755577087,
           -0.10512234270572662,
           -0.05511650815606117,
           0.0034909036476165056,
           0.022611329331994057,
           -0.13456590473651886,
           0.041624393314123154
          ],
          [
           0.04773475229740143,
           0.04516599327325821,
           -0.04991121590137482,
           0.06988433748483658,
           0.08508745580911636,
           0.1092149168252945,
           0.055328067392110825,
           -0.2070779800415039
          ],
          [
           0.007558402605354786,
           0.03889758512377739,
           0.0269037876278162,
           -0.009050770662724972,
           0.018375353887677193,
           0.03577910736203194,
           0.004814507905393839,
           0.16156105697155
          ]
         ],
         "zmax": 0.7789613008499146,
         "zmin": -0.7789613008499146
        },
        {
         "colorscale": [
          [
           0,
           "rgb(103,0,31)"
          ],
          [
           0.1,
           "rgb(178,24,43)"
          ],
          [
           0.2,
           "rgb(214,96,77)"
          ],
          [
           0.3,
           "rgb(244,165,130)"
          ],
          [
           0.4,
           "rgb(253,219,199)"
          ],
          [
           0.5,
           "rgb(247,247,247)"
          ],
          [
           0.6,
           "rgb(209,229,240)"
          ],
          [
           0.7,
           "rgb(146,197,222)"
          ],
          [
           0.8,
           "rgb(67,147,195)"
          ],
          [
           0.9,
           "rgb(33,102,172)"
          ],
          [
           1,
           "rgb(5,48,97)"
          ]
         ],
         "hoverongaps": false,
         "type": "heatmap",
         "x": [
          0,
          1,
          2,
          3,
          4,
          5,
          6,
          7
         ],
         "xaxis": "x16",
         "y": [
          "H",
          "G",
          "F",
          "E",
          "D",
          "C",
          "B",
          "A"
         ],
         "yaxis": "y16",
         "z": [
          [
           -0.05790308117866516,
           0.16932809352874756,
           -0.06383232772350311,
           -0.13257654011249542,
           -0.10537973046302795,
           -0.044512804597616196,
           -0.014667564071714878,
           -0.20442527532577515
          ],
          [
           -0.15399444103240967,
           0.41044360399246216,
           0.6255172491073608,
           0.729254961013794,
           0.7576625347137451,
           0.7353914380073547,
           0.7089866399765015,
           -0.17281357944011688
          ],
          [
           -0.015133840963244438,
           0.17092308402061462,
           0.26527169346809387,
           0.5474880933761597,
           0.6041523814201355,
           0.6611648201942444,
           0.7184259295463562,
           -0.21640042960643768
          ],
          [
           -0.03103906288743019,
           0.1791442483663559,
           0.17643052339553833,
           0.1352841556072235,
           0.6546253561973572,
           0.48638495802879333,
           0.7047674059867859,
           -0.12532153725624084
          ],
          [
           0.0036194613203406334,
           0.5955184698104858,
           0.5222174525260925,
           0.2787616550922394,
           0.47567713260650635,
           0.6287668943405151,
           0.7251935005187988,
           -0.08195791393518448
          ],
          [
           -0.006320762913674116,
           0.7675184011459351,
           0.6982223987579346,
           0.5874276757240295,
           0.569122850894928,
           0.6050376892089844,
           0.6805082559585571,
           -0.005077911075204611
          ],
          [
           -0.007063610944896936,
           0.7562347650527954,
           0.7651629447937012,
           0.7274242639541626,
           0.6220693588256836,
           0.227828249335289,
           0.18082405626773834,
           0.003984640818089247
          ],
          [
           -0.2652939558029175,
           -0.15104703605175018,
           0.1422126442193985,
           0.0572504885494709,
           0.10697751492261887,
           0.029704460874199867,
           -0.00024109409423545003,
           -0.026060448959469795
          ]
         ],
         "zmax": 0.7789613008499146,
         "zmin": -0.7789613008499146
        },
        {
         "colorscale": [
          [
           0,
           "rgb(103,0,31)"
          ],
          [
           0.1,
           "rgb(178,24,43)"
          ],
          [
           0.2,
           "rgb(214,96,77)"
          ],
          [
           0.3,
           "rgb(244,165,130)"
          ],
          [
           0.4,
           "rgb(253,219,199)"
          ],
          [
           0.5,
           "rgb(247,247,247)"
          ],
          [
           0.6,
           "rgb(209,229,240)"
          ],
          [
           0.7,
           "rgb(146,197,222)"
          ],
          [
           0.8,
           "rgb(67,147,195)"
          ],
          [
           0.9,
           "rgb(33,102,172)"
          ],
          [
           1,
           "rgb(5,48,97)"
          ]
         ],
         "hoverongaps": false,
         "type": "heatmap",
         "x": [
          0,
          1,
          2,
          3,
          4,
          5,
          6,
          7
         ],
         "xaxis": "x24",
         "y": [
          "H",
          "G",
          "F",
          "E",
          "D",
          "C",
          "B",
          "A"
         ],
         "yaxis": "y24",
         "z": [
          [
           0.09017985314130783,
           0.04815933480858803,
           0.04914601892232895,
           0.09658423066139221,
           0.06932155787944794,
           0.09698830544948578,
           0.019090596586465836,
           0.024998867884278297
          ],
          [
           0.012220719829201698,
           0.022220777347683907,
           0.016622738912701607,
           0.029538050293922424,
           -0.00010450345871504396,
           -0.014606591314077377,
           0.02533179521560669,
           0.011089159175753593
          ],
          [
           0.0668451339006424,
           -0.0112669812515378,
           -0.005957562942057848,
           -0.03059874102473259,
           0.007155406288802624,
           0.0028844645712524652,
           -0.022367900237441063,
           0.008720441721379757
          ],
          [
           0.11882368475198746,
           0.039670851081609726,
           -0.021338870748877525,
           -0.34291598200798035,
           -0.280481219291687,
           -0.20684847235679626,
           -0.1647806465625763,
           0.25734788179397583
          ],
          [
           0.05673622339963913,
           -0.013052252121269703,
           -0.04476959630846977,
           -0.32725241780281067,
           -0.4460042417049408,
           -0.48004451394081116,
           -0.5327485799789429,
           0.20956619083881378
          ],
          [
           0.09435616433620453,
           -0.008043300360441208,
           -0.24727210402488708,
           -0.321845144033432,
           -0.4695795774459839,
           -0.39528512954711914,
           -0.41260194778442383,
           0.31783950328826904
          ],
          [
           0.04075871407985687,
           -0.0013060783967375755,
           -0.2719842791557312,
           -0.43986937403678894,
           -0.5068107843399048,
           -0.42006438970565796,
           -0.2245611995458603,
           0.2017090916633606
          ],
          [
           0.16394266486167908,
           0.1620265394449234,
           0.2601151764392853,
           0.35729342699050903,
           0.21601198613643646,
           0.43222272396087646,
           0.4479401707649231,
           0.2194899022579193
          ]
         ],
         "zmax": 0.7789613008499146,
         "zmin": -0.7789613008499146
        }
       ],
       "layout": {
        "annotations": [
         {
          "font": {
           "size": 16
          },
          "showarrow": false,
          "text": "Layer 1, Head 0",
          "x": 0.0515625,
          "xanchor": "center",
          "xref": "paper",
          "y": 1,
          "yanchor": "bottom",
          "yref": "paper"
         },
         {
          "font": {
           "size": 16
          },
          "showarrow": false,
          "text": "Layer 1, Head 1",
          "x": 0.1796875,
          "xanchor": "center",
          "xref": "paper",
          "y": 1,
          "yanchor": "bottom",
          "yref": "paper"
         },
         {
          "font": {
           "size": 16
          },
          "showarrow": false,
          "text": "Layer 1, Head 2",
          "x": 0.3078125,
          "xanchor": "center",
          "xref": "paper",
          "y": 1,
          "yanchor": "bottom",
          "yref": "paper"
         },
         {
          "font": {
           "size": 16
          },
          "showarrow": false,
          "text": "Layer 1, Head 3",
          "x": 0.4359375,
          "xanchor": "center",
          "xref": "paper",
          "y": 1,
          "yanchor": "bottom",
          "yref": "paper"
         },
         {
          "font": {
           "size": 16
          },
          "showarrow": false,
          "text": "Layer 1, Head 4",
          "x": 0.5640624999999999,
          "xanchor": "center",
          "xref": "paper",
          "y": 1,
          "yanchor": "bottom",
          "yref": "paper"
         },
         {
          "font": {
           "size": 16
          },
          "showarrow": false,
          "text": "Layer 1, Head 5",
          "x": 0.6921875,
          "xanchor": "center",
          "xref": "paper",
          "y": 1,
          "yanchor": "bottom",
          "yref": "paper"
         },
         {
          "font": {
           "size": 16
          },
          "showarrow": false,
          "text": "Layer 1, Head 6",
          "x": 0.8203125,
          "xanchor": "center",
          "xref": "paper",
          "y": 1,
          "yanchor": "bottom",
          "yref": "paper"
         },
         {
          "font": {
           "size": 16
          },
          "showarrow": false,
          "text": "Layer 1, Head 7",
          "x": 0.9484375,
          "xanchor": "center",
          "xref": "paper",
          "y": 1,
          "yanchor": "bottom",
          "yref": "paper"
         },
         {
          "font": {
           "size": 16
          },
          "showarrow": false,
          "text": "Layer 2, Head 0",
          "x": 0.0515625,
          "xanchor": "center",
          "xref": "paper",
          "y": 0.6333333333333333,
          "yanchor": "bottom",
          "yref": "paper"
         },
         {
          "font": {
           "size": 16
          },
          "showarrow": false,
          "text": "Layer 2, Head 1",
          "x": 0.1796875,
          "xanchor": "center",
          "xref": "paper",
          "y": 0.6333333333333333,
          "yanchor": "bottom",
          "yref": "paper"
         },
         {
          "font": {
           "size": 16
          },
          "showarrow": false,
          "text": "Layer 2, Head 2",
          "x": 0.3078125,
          "xanchor": "center",
          "xref": "paper",
          "y": 0.6333333333333333,
          "yanchor": "bottom",
          "yref": "paper"
         },
         {
          "font": {
           "size": 16
          },
          "showarrow": false,
          "text": "Layer 2, Head 3",
          "x": 0.4359375,
          "xanchor": "center",
          "xref": "paper",
          "y": 0.6333333333333333,
          "yanchor": "bottom",
          "yref": "paper"
         },
         {
          "font": {
           "size": 16
          },
          "showarrow": false,
          "text": "Layer 2, Head 4",
          "x": 0.5640624999999999,
          "xanchor": "center",
          "xref": "paper",
          "y": 0.6333333333333333,
          "yanchor": "bottom",
          "yref": "paper"
         },
         {
          "font": {
           "size": 16
          },
          "showarrow": false,
          "text": "Layer 2, Head 5",
          "x": 0.6921875,
          "xanchor": "center",
          "xref": "paper",
          "y": 0.6333333333333333,
          "yanchor": "bottom",
          "yref": "paper"
         },
         {
          "font": {
           "size": 16
          },
          "showarrow": false,
          "text": "Layer 2, Head 6",
          "x": 0.8203125,
          "xanchor": "center",
          "xref": "paper",
          "y": 0.6333333333333333,
          "yanchor": "bottom",
          "yref": "paper"
         },
         {
          "font": {
           "size": 16
          },
          "showarrow": false,
          "text": "Layer 2, Head 7",
          "x": 0.9484375,
          "xanchor": "center",
          "xref": "paper",
          "y": 0.6333333333333333,
          "yanchor": "bottom",
          "yref": "paper"
         },
         {
          "font": {
           "size": 16
          },
          "showarrow": false,
          "text": "Layer 3, Head 0",
          "x": 0.0515625,
          "xanchor": "center",
          "xref": "paper",
          "y": 0.26666666666666666,
          "yanchor": "bottom",
          "yref": "paper"
         },
         {
          "font": {
           "size": 16
          },
          "showarrow": false,
          "text": "Layer 3, Head 1",
          "x": 0.1796875,
          "xanchor": "center",
          "xref": "paper",
          "y": 0.26666666666666666,
          "yanchor": "bottom",
          "yref": "paper"
         },
         {
          "font": {
           "size": 16
          },
          "showarrow": false,
          "text": "Layer 3, Head 2",
          "x": 0.3078125,
          "xanchor": "center",
          "xref": "paper",
          "y": 0.26666666666666666,
          "yanchor": "bottom",
          "yref": "paper"
         },
         {
          "font": {
           "size": 16
          },
          "showarrow": false,
          "text": "Layer 3, Head 3",
          "x": 0.4359375,
          "xanchor": "center",
          "xref": "paper",
          "y": 0.26666666666666666,
          "yanchor": "bottom",
          "yref": "paper"
         },
         {
          "font": {
           "size": 16
          },
          "showarrow": false,
          "text": "Layer 3, Head 4",
          "x": 0.5640624999999999,
          "xanchor": "center",
          "xref": "paper",
          "y": 0.26666666666666666,
          "yanchor": "bottom",
          "yref": "paper"
         },
         {
          "font": {
           "size": 16
          },
          "showarrow": false,
          "text": "Layer 3, Head 5",
          "x": 0.6921875,
          "xanchor": "center",
          "xref": "paper",
          "y": 0.26666666666666666,
          "yanchor": "bottom",
          "yref": "paper"
         },
         {
          "font": {
           "size": 16
          },
          "showarrow": false,
          "text": "Layer 3, Head 6",
          "x": 0.8203125,
          "xanchor": "center",
          "xref": "paper",
          "y": 0.26666666666666666,
          "yanchor": "bottom",
          "yref": "paper"
         },
         {
          "font": {
           "size": 16
          },
          "showarrow": false,
          "text": "Layer 3, Head 7",
          "x": 0.9484375,
          "xanchor": "center",
          "xref": "paper",
          "y": 0.26666666666666666,
          "yanchor": "bottom",
          "yref": "paper"
         }
        ],
        "height": 700,
        "margin": {
         "t": 100
        },
        "template": {
         "data": {
          "bar": [
           {
            "error_x": {
             "color": "#2a3f5f"
            },
            "error_y": {
             "color": "#2a3f5f"
            },
            "marker": {
             "line": {
              "color": "#E5ECF6",
              "width": 0.5
             },
             "pattern": {
              "fillmode": "overlay",
              "size": 10,
              "solidity": 0.2
             }
            },
            "type": "bar"
           }
          ],
          "barpolar": [
           {
            "marker": {
             "line": {
              "color": "#E5ECF6",
              "width": 0.5
             },
             "pattern": {
              "fillmode": "overlay",
              "size": 10,
              "solidity": 0.2
             }
            },
            "type": "barpolar"
           }
          ],
          "carpet": [
           {
            "aaxis": {
             "endlinecolor": "#2a3f5f",
             "gridcolor": "white",
             "linecolor": "white",
             "minorgridcolor": "white",
             "startlinecolor": "#2a3f5f"
            },
            "baxis": {
             "endlinecolor": "#2a3f5f",
             "gridcolor": "white",
             "linecolor": "white",
             "minorgridcolor": "white",
             "startlinecolor": "#2a3f5f"
            },
            "type": "carpet"
           }
          ],
          "choropleth": [
           {
            "colorbar": {
             "outlinewidth": 0,
             "ticks": ""
            },
            "type": "choropleth"
           }
          ],
          "contour": [
           {
            "colorbar": {
             "outlinewidth": 0,
             "ticks": ""
            },
            "colorscale": [
             [
              0,
              "#0d0887"
             ],
             [
              0.1111111111111111,
              "#46039f"
             ],
             [
              0.2222222222222222,
              "#7201a8"
             ],
             [
              0.3333333333333333,
              "#9c179e"
             ],
             [
              0.4444444444444444,
              "#bd3786"
             ],
             [
              0.5555555555555556,
              "#d8576b"
             ],
             [
              0.6666666666666666,
              "#ed7953"
             ],
             [
              0.7777777777777778,
              "#fb9f3a"
             ],
             [
              0.8888888888888888,
              "#fdca26"
             ],
             [
              1,
              "#f0f921"
             ]
            ],
            "type": "contour"
           }
          ],
          "contourcarpet": [
           {
            "colorbar": {
             "outlinewidth": 0,
             "ticks": ""
            },
            "type": "contourcarpet"
           }
          ],
          "heatmap": [
           {
            "colorbar": {
             "outlinewidth": 0,
             "ticks": ""
            },
            "colorscale": [
             [
              0,
              "#0d0887"
             ],
             [
              0.1111111111111111,
              "#46039f"
             ],
             [
              0.2222222222222222,
              "#7201a8"
             ],
             [
              0.3333333333333333,
              "#9c179e"
             ],
             [
              0.4444444444444444,
              "#bd3786"
             ],
             [
              0.5555555555555556,
              "#d8576b"
             ],
             [
              0.6666666666666666,
              "#ed7953"
             ],
             [
              0.7777777777777778,
              "#fb9f3a"
             ],
             [
              0.8888888888888888,
              "#fdca26"
             ],
             [
              1,
              "#f0f921"
             ]
            ],
            "type": "heatmap"
           }
          ],
          "heatmapgl": [
           {
            "colorbar": {
             "outlinewidth": 0,
             "ticks": ""
            },
            "colorscale": [
             [
              0,
              "#0d0887"
             ],
             [
              0.1111111111111111,
              "#46039f"
             ],
             [
              0.2222222222222222,
              "#7201a8"
             ],
             [
              0.3333333333333333,
              "#9c179e"
             ],
             [
              0.4444444444444444,
              "#bd3786"
             ],
             [
              0.5555555555555556,
              "#d8576b"
             ],
             [
              0.6666666666666666,
              "#ed7953"
             ],
             [
              0.7777777777777778,
              "#fb9f3a"
             ],
             [
              0.8888888888888888,
              "#fdca26"
             ],
             [
              1,
              "#f0f921"
             ]
            ],
            "type": "heatmapgl"
           }
          ],
          "histogram": [
           {
            "marker": {
             "pattern": {
              "fillmode": "overlay",
              "size": 10,
              "solidity": 0.2
             }
            },
            "type": "histogram"
           }
          ],
          "histogram2d": [
           {
            "colorbar": {
             "outlinewidth": 0,
             "ticks": ""
            },
            "colorscale": [
             [
              0,
              "#0d0887"
             ],
             [
              0.1111111111111111,
              "#46039f"
             ],
             [
              0.2222222222222222,
              "#7201a8"
             ],
             [
              0.3333333333333333,
              "#9c179e"
             ],
             [
              0.4444444444444444,
              "#bd3786"
             ],
             [
              0.5555555555555556,
              "#d8576b"
             ],
             [
              0.6666666666666666,
              "#ed7953"
             ],
             [
              0.7777777777777778,
              "#fb9f3a"
             ],
             [
              0.8888888888888888,
              "#fdca26"
             ],
             [
              1,
              "#f0f921"
             ]
            ],
            "type": "histogram2d"
           }
          ],
          "histogram2dcontour": [
           {
            "colorbar": {
             "outlinewidth": 0,
             "ticks": ""
            },
            "colorscale": [
             [
              0,
              "#0d0887"
             ],
             [
              0.1111111111111111,
              "#46039f"
             ],
             [
              0.2222222222222222,
              "#7201a8"
             ],
             [
              0.3333333333333333,
              "#9c179e"
             ],
             [
              0.4444444444444444,
              "#bd3786"
             ],
             [
              0.5555555555555556,
              "#d8576b"
             ],
             [
              0.6666666666666666,
              "#ed7953"
             ],
             [
              0.7777777777777778,
              "#fb9f3a"
             ],
             [
              0.8888888888888888,
              "#fdca26"
             ],
             [
              1,
              "#f0f921"
             ]
            ],
            "type": "histogram2dcontour"
           }
          ],
          "mesh3d": [
           {
            "colorbar": {
             "outlinewidth": 0,
             "ticks": ""
            },
            "type": "mesh3d"
           }
          ],
          "parcoords": [
           {
            "line": {
             "colorbar": {
              "outlinewidth": 0,
              "ticks": ""
             }
            },
            "type": "parcoords"
           }
          ],
          "pie": [
           {
            "automargin": true,
            "type": "pie"
           }
          ],
          "scatter": [
           {
            "fillpattern": {
             "fillmode": "overlay",
             "size": 10,
             "solidity": 0.2
            },
            "type": "scatter"
           }
          ],
          "scatter3d": [
           {
            "line": {
             "colorbar": {
              "outlinewidth": 0,
              "ticks": ""
             }
            },
            "marker": {
             "colorbar": {
              "outlinewidth": 0,
              "ticks": ""
             }
            },
            "type": "scatter3d"
           }
          ],
          "scattercarpet": [
           {
            "marker": {
             "colorbar": {
              "outlinewidth": 0,
              "ticks": ""
             }
            },
            "type": "scattercarpet"
           }
          ],
          "scattergeo": [
           {
            "marker": {
             "colorbar": {
              "outlinewidth": 0,
              "ticks": ""
             }
            },
            "type": "scattergeo"
           }
          ],
          "scattergl": [
           {
            "marker": {
             "colorbar": {
              "outlinewidth": 0,
              "ticks": ""
             }
            },
            "type": "scattergl"
           }
          ],
          "scattermapbox": [
           {
            "marker": {
             "colorbar": {
              "outlinewidth": 0,
              "ticks": ""
             }
            },
            "type": "scattermapbox"
           }
          ],
          "scatterpolar": [
           {
            "marker": {
             "colorbar": {
              "outlinewidth": 0,
              "ticks": ""
             }
            },
            "type": "scatterpolar"
           }
          ],
          "scatterpolargl": [
           {
            "marker": {
             "colorbar": {
              "outlinewidth": 0,
              "ticks": ""
             }
            },
            "type": "scatterpolargl"
           }
          ],
          "scatterternary": [
           {
            "marker": {
             "colorbar": {
              "outlinewidth": 0,
              "ticks": ""
             }
            },
            "type": "scatterternary"
           }
          ],
          "surface": [
           {
            "colorbar": {
             "outlinewidth": 0,
             "ticks": ""
            },
            "colorscale": [
             [
              0,
              "#0d0887"
             ],
             [
              0.1111111111111111,
              "#46039f"
             ],
             [
              0.2222222222222222,
              "#7201a8"
             ],
             [
              0.3333333333333333,
              "#9c179e"
             ],
             [
              0.4444444444444444,
              "#bd3786"
             ],
             [
              0.5555555555555556,
              "#d8576b"
             ],
             [
              0.6666666666666666,
              "#ed7953"
             ],
             [
              0.7777777777777778,
              "#fb9f3a"
             ],
             [
              0.8888888888888888,
              "#fdca26"
             ],
             [
              1,
              "#f0f921"
             ]
            ],
            "type": "surface"
           }
          ],
          "table": [
           {
            "cells": {
             "fill": {
              "color": "#EBF0F8"
             },
             "line": {
              "color": "white"
             }
            },
            "header": {
             "fill": {
              "color": "#C8D4E3"
             },
             "line": {
              "color": "white"
             }
            },
            "type": "table"
           }
          ]
         },
         "layout": {
          "annotationdefaults": {
           "arrowcolor": "#2a3f5f",
           "arrowhead": 0,
           "arrowwidth": 1
          },
          "autotypenumbers": "strict",
          "coloraxis": {
           "colorbar": {
            "outlinewidth": 0,
            "ticks": ""
           }
          },
          "colorscale": {
           "diverging": [
            [
             0,
             "#8e0152"
            ],
            [
             0.1,
             "#c51b7d"
            ],
            [
             0.2,
             "#de77ae"
            ],
            [
             0.3,
             "#f1b6da"
            ],
            [
             0.4,
             "#fde0ef"
            ],
            [
             0.5,
             "#f7f7f7"
            ],
            [
             0.6,
             "#e6f5d0"
            ],
            [
             0.7,
             "#b8e186"
            ],
            [
             0.8,
             "#7fbc41"
            ],
            [
             0.9,
             "#4d9221"
            ],
            [
             1,
             "#276419"
            ]
           ],
           "sequential": [
            [
             0,
             "#0d0887"
            ],
            [
             0.1111111111111111,
             "#46039f"
            ],
            [
             0.2222222222222222,
             "#7201a8"
            ],
            [
             0.3333333333333333,
             "#9c179e"
            ],
            [
             0.4444444444444444,
             "#bd3786"
            ],
            [
             0.5555555555555556,
             "#d8576b"
            ],
            [
             0.6666666666666666,
             "#ed7953"
            ],
            [
             0.7777777777777778,
             "#fb9f3a"
            ],
            [
             0.8888888888888888,
             "#fdca26"
            ],
            [
             1,
             "#f0f921"
            ]
           ],
           "sequentialminus": [
            [
             0,
             "#0d0887"
            ],
            [
             0.1111111111111111,
             "#46039f"
            ],
            [
             0.2222222222222222,
             "#7201a8"
            ],
            [
             0.3333333333333333,
             "#9c179e"
            ],
            [
             0.4444444444444444,
             "#bd3786"
            ],
            [
             0.5555555555555556,
             "#d8576b"
            ],
            [
             0.6666666666666666,
             "#ed7953"
            ],
            [
             0.7777777777777778,
             "#fb9f3a"
            ],
            [
             0.8888888888888888,
             "#fdca26"
            ],
            [
             1,
             "#f0f921"
            ]
           ]
          },
          "colorway": [
           "#636efa",
           "#EF553B",
           "#00cc96",
           "#ab63fa",
           "#FFA15A",
           "#19d3f3",
           "#FF6692",
           "#B6E880",
           "#FF97FF",
           "#FECB52"
          ],
          "font": {
           "color": "#2a3f5f"
          },
          "geo": {
           "bgcolor": "white",
           "lakecolor": "white",
           "landcolor": "#E5ECF6",
           "showlakes": true,
           "showland": true,
           "subunitcolor": "white"
          },
          "hoverlabel": {
           "align": "left"
          },
          "hovermode": "closest",
          "mapbox": {
           "style": "light"
          },
          "paper_bgcolor": "white",
          "plot_bgcolor": "#E5ECF6",
          "polar": {
           "angularaxis": {
            "gridcolor": "white",
            "linecolor": "white",
            "ticks": ""
           },
           "bgcolor": "#E5ECF6",
           "radialaxis": {
            "gridcolor": "white",
            "linecolor": "white",
            "ticks": ""
           }
          },
          "scene": {
           "xaxis": {
            "backgroundcolor": "#E5ECF6",
            "gridcolor": "white",
            "gridwidth": 2,
            "linecolor": "white",
            "showbackground": true,
            "ticks": "",
            "zerolinecolor": "white"
           },
           "yaxis": {
            "backgroundcolor": "#E5ECF6",
            "gridcolor": "white",
            "gridwidth": 2,
            "linecolor": "white",
            "showbackground": true,
            "ticks": "",
            "zerolinecolor": "white"
           },
           "zaxis": {
            "backgroundcolor": "#E5ECF6",
            "gridcolor": "white",
            "gridwidth": 2,
            "linecolor": "white",
            "showbackground": true,
            "ticks": "",
            "zerolinecolor": "white"
           }
          },
          "shapedefaults": {
           "line": {
            "color": "#2a3f5f"
           }
          },
          "ternary": {
           "aaxis": {
            "gridcolor": "white",
            "linecolor": "white",
            "ticks": ""
           },
           "baxis": {
            "gridcolor": "white",
            "linecolor": "white",
            "ticks": ""
           },
           "bgcolor": "#E5ECF6",
           "caxis": {
            "gridcolor": "white",
            "linecolor": "white",
            "ticks": ""
           }
          },
          "title": {
           "x": 0.05
          },
          "xaxis": {
           "automargin": true,
           "gridcolor": "white",
           "linecolor": "white",
           "ticks": "",
           "title": {
            "standoff": 15
           },
           "zerolinecolor": "white",
           "zerolinewidth": 2
          },
          "yaxis": {
           "automargin": true,
           "gridcolor": "white",
           "linecolor": "white",
           "ticks": "",
           "title": {
            "standoff": 15
           },
           "zerolinecolor": "white",
           "zerolinewidth": 2
          }
         }
        },
        "title": {
         "text": "How much does each Head add to the Yours vs Mine direction, when Flipped AND Not Yours"
        },
        "width": 1600,
        "xaxis": {
         "anchor": "y",
         "domain": [
          0,
          0.103125
         ]
        },
        "xaxis10": {
         "anchor": "y10",
         "domain": [
          0.128125,
          0.23124999999999998
         ]
        },
        "xaxis11": {
         "anchor": "y11",
         "domain": [
          0.25625,
          0.359375
         ]
        },
        "xaxis12": {
         "anchor": "y12",
         "domain": [
          0.38437499999999997,
          0.48749999999999993
         ]
        },
        "xaxis13": {
         "anchor": "y13",
         "domain": [
          0.5125,
          0.615625
         ]
        },
        "xaxis14": {
         "anchor": "y14",
         "domain": [
          0.640625,
          0.74375
         ]
        },
        "xaxis15": {
         "anchor": "y15",
         "domain": [
          0.76875,
          0.8718750000000001
         ]
        },
        "xaxis16": {
         "anchor": "y16",
         "domain": [
          0.8968750000000001,
          1
         ]
        },
        "xaxis17": {
         "anchor": "y17",
         "domain": [
          0,
          0.103125
         ]
        },
        "xaxis18": {
         "anchor": "y18",
         "domain": [
          0.128125,
          0.23124999999999998
         ]
        },
        "xaxis19": {
         "anchor": "y19",
         "domain": [
          0.25625,
          0.359375
         ]
        },
        "xaxis2": {
         "anchor": "y2",
         "domain": [
          0.128125,
          0.23124999999999998
         ]
        },
        "xaxis20": {
         "anchor": "y20",
         "domain": [
          0.38437499999999997,
          0.48749999999999993
         ]
        },
        "xaxis21": {
         "anchor": "y21",
         "domain": [
          0.5125,
          0.615625
         ]
        },
        "xaxis22": {
         "anchor": "y22",
         "domain": [
          0.640625,
          0.74375
         ]
        },
        "xaxis23": {
         "anchor": "y23",
         "domain": [
          0.76875,
          0.8718750000000001
         ]
        },
        "xaxis24": {
         "anchor": "y24",
         "domain": [
          0.8968750000000001,
          1
         ]
        },
        "xaxis3": {
         "anchor": "y3",
         "domain": [
          0.25625,
          0.359375
         ]
        },
        "xaxis4": {
         "anchor": "y4",
         "domain": [
          0.38437499999999997,
          0.48749999999999993
         ]
        },
        "xaxis5": {
         "anchor": "y5",
         "domain": [
          0.5125,
          0.615625
         ]
        },
        "xaxis6": {
         "anchor": "y6",
         "domain": [
          0.640625,
          0.74375
         ]
        },
        "xaxis7": {
         "anchor": "y7",
         "domain": [
          0.76875,
          0.8718750000000001
         ]
        },
        "xaxis8": {
         "anchor": "y8",
         "domain": [
          0.8968750000000001,
          1
         ]
        },
        "xaxis9": {
         "anchor": "y9",
         "domain": [
          0,
          0.103125
         ]
        },
        "yaxis": {
         "anchor": "x",
         "domain": [
          0.7333333333333334,
          1
         ]
        },
        "yaxis10": {
         "anchor": "x10",
         "domain": [
          0.3666666666666667,
          0.6333333333333333
         ]
        },
        "yaxis11": {
         "anchor": "x11",
         "domain": [
          0.3666666666666667,
          0.6333333333333333
         ]
        },
        "yaxis12": {
         "anchor": "x12",
         "domain": [
          0.3666666666666667,
          0.6333333333333333
         ]
        },
        "yaxis13": {
         "anchor": "x13",
         "domain": [
          0.3666666666666667,
          0.6333333333333333
         ]
        },
        "yaxis14": {
         "anchor": "x14",
         "domain": [
          0.3666666666666667,
          0.6333333333333333
         ]
        },
        "yaxis15": {
         "anchor": "x15",
         "domain": [
          0.3666666666666667,
          0.6333333333333333
         ]
        },
        "yaxis16": {
         "anchor": "x16",
         "domain": [
          0.3666666666666667,
          0.6333333333333333
         ]
        },
        "yaxis17": {
         "anchor": "x17",
         "domain": [
          0,
          0.26666666666666666
         ]
        },
        "yaxis18": {
         "anchor": "x18",
         "domain": [
          0,
          0.26666666666666666
         ]
        },
        "yaxis19": {
         "anchor": "x19",
         "domain": [
          0,
          0.26666666666666666
         ]
        },
        "yaxis2": {
         "anchor": "x2",
         "domain": [
          0.7333333333333334,
          1
         ]
        },
        "yaxis20": {
         "anchor": "x20",
         "domain": [
          0,
          0.26666666666666666
         ]
        },
        "yaxis21": {
         "anchor": "x21",
         "domain": [
          0,
          0.26666666666666666
         ]
        },
        "yaxis22": {
         "anchor": "x22",
         "domain": [
          0,
          0.26666666666666666
         ]
        },
        "yaxis23": {
         "anchor": "x23",
         "domain": [
          0,
          0.26666666666666666
         ]
        },
        "yaxis24": {
         "anchor": "x24",
         "domain": [
          0,
          0.26666666666666666
         ]
        },
        "yaxis3": {
         "anchor": "x3",
         "domain": [
          0.7333333333333334,
          1
         ]
        },
        "yaxis4": {
         "anchor": "x4",
         "domain": [
          0.7333333333333334,
          1
         ]
        },
        "yaxis5": {
         "anchor": "x5",
         "domain": [
          0.7333333333333334,
          1
         ]
        },
        "yaxis6": {
         "anchor": "x6",
         "domain": [
          0.7333333333333334,
          1
         ]
        },
        "yaxis7": {
         "anchor": "x7",
         "domain": [
          0.7333333333333334,
          1
         ]
        },
        "yaxis8": {
         "anchor": "x8",
         "domain": [
          0.7333333333333334,
          1
         ]
        },
        "yaxis9": {
         "anchor": "x9",
         "domain": [
          0.3666666666666667,
          0.6333333333333333
         ]
        }
       }
      },
      "text/html": [
       "<div>                            <div id=\"3b9221f2-1504-4e44-91d7-c2eb2dfdf290\" class=\"plotly-graph-div\" style=\"height:700px; width:1600px;\"></div>            <script type=\"text/javascript\">                require([\"plotly\"], function(Plotly) {                    window.PLOTLYENV=window.PLOTLYENV || {};                                    if (document.getElementById(\"3b9221f2-1504-4e44-91d7-c2eb2dfdf290\")) {                    Plotly.newPlot(                        \"3b9221f2-1504-4e44-91d7-c2eb2dfdf290\",                        [{\"colorscale\":[[0.0,\"rgb(103,0,31)\"],[0.1,\"rgb(178,24,43)\"],[0.2,\"rgb(214,96,77)\"],[0.3,\"rgb(244,165,130)\"],[0.4,\"rgb(253,219,199)\"],[0.5,\"rgb(247,247,247)\"],[0.6,\"rgb(209,229,240)\"],[0.7,\"rgb(146,197,222)\"],[0.8,\"rgb(67,147,195)\"],[0.9,\"rgb(33,102,172)\"],[1.0,\"rgb(5,48,97)\"]],\"hoverongaps\":false,\"x\":[0,1,2,3,4,5,6,7],\"y\":[\"H\",\"G\",\"F\",\"E\",\"D\",\"C\",\"B\",\"A\"],\"z\":[[-0.4006201922893524,-0.3718768060207367,-0.38519635796546936,-0.30168354511260986,-0.23441825807094574,-0.3638027012348175,-0.04057956114411354,-0.09812261164188385],[-0.12945562601089478,-0.05831454321742058,0.16604375839233398,0.1131049245595932,0.2360706329345703,0.12332481145858765,0.08928638696670532,0.0133901946246624],[-0.050654031336307526,0.23626726865768433,0.12016215920448303,0.07433488219976425,0.06422344595193863,0.0394638255238533,0.05842623487114906,-0.2773440182209015],[-0.32834890484809875,0.2461390346288681,0.2049323320388794,0.10641566663980484,0.090666264295578,0.05603564530611038,0.10688237845897675,-0.19424346089363098],[-0.13556493818759918,0.30450478196144104,0.4067973792552948,0.38996899127960205,0.20568443834781647,0.11988809704780579,0.06443580985069275,-0.345315545797348],[-0.2617681324481964,0.3897840678691864,0.3314484655857086,0.443840354681015,0.4592716693878174,0.22142890095710754,-0.007098345085978508,-0.2138020396232605],[-0.16830924153327942,0.3626801073551178,0.42489510774612427,0.39534735679626465,0.44287049770355225,0.3404025435447693,0.14238372445106506,-0.19842058420181274],[-0.5619140863418579,-0.48725661635398865,-0.43961066007614136,-0.4609984755516052,-0.3232000172138214,-0.4331319034099579,-0.36490994691848755,-0.4491328299045563]],\"zmax\":0.7789613008499146,\"zmin\":-0.7789613008499146,\"type\":\"heatmap\",\"xaxis\":\"x\",\"yaxis\":\"y\"},{\"colorscale\":[[0.0,\"rgb(103,0,31)\"],[0.1,\"rgb(178,24,43)\"],[0.2,\"rgb(214,96,77)\"],[0.3,\"rgb(244,165,130)\"],[0.4,\"rgb(253,219,199)\"],[0.5,\"rgb(247,247,247)\"],[0.6,\"rgb(209,229,240)\"],[0.7,\"rgb(146,197,222)\"],[0.8,\"rgb(67,147,195)\"],[0.9,\"rgb(33,102,172)\"],[1.0,\"rgb(5,48,97)\"]],\"hoverongaps\":false,\"x\":[0,1,2,3,4,5,6,7],\"y\":[\"H\",\"G\",\"F\",\"E\",\"D\",\"C\",\"B\",\"A\"],\"z\":[[-0.12069293856620789,-0.044198889285326004,-0.17435792088508606,-0.08869872987270355,-0.07011108100414276,-0.029072420671582222,-0.15440551936626434,0.0017616079421713948],[0.053168877959251404,0.6485899686813354,0.6471691131591797,0.6547033786773682,0.6369673013687134,0.6279317140579224,0.5336346626281738,-0.04341185465455055],[-0.026628674939274788,0.6574827432632446,0.5773406624794006,0.48176342248916626,0.5391581058502197,0.6007127165794373,0.5635190010070801,-0.037567138671875],[0.05089515447616577,0.6855776309967041,0.6171436309814453,0.5909145474433899,0.6237467527389526,0.49680307507514954,0.3310900926589966,-0.008088819682598114],[0.041956618428230286,0.49798333644866943,0.49484723806381226,0.5612308979034424,0.49273940920829773,0.23640385270118713,0.14190122485160828,0.0063788811676204205],[0.05016857013106346,0.1739586889743805,0.2579832971096039,0.11684717983007431,0.17471840977668762,0.126035675406456,0.037756066769361496,0.014127921313047409],[0.016782166436314583,0.01786944828927517,0.06769873946905136,0.039632510393857956,0.0707353726029396,0.07203833758831024,0.019152123481035233,0.014902192167937756],[-0.012530759908258915,0.010658650659024715,-0.005970967933535576,0.024407029151916504,0.06784386932849884,0.07098237425088882,0.03531298041343689,-0.06856575608253479]],\"zmax\":0.7789613008499146,\"zmin\":-0.7789613008499146,\"type\":\"heatmap\",\"xaxis\":\"x9\",\"yaxis\":\"y9\"},{\"colorscale\":[[0.0,\"rgb(103,0,31)\"],[0.1,\"rgb(178,24,43)\"],[0.2,\"rgb(214,96,77)\"],[0.3,\"rgb(244,165,130)\"],[0.4,\"rgb(253,219,199)\"],[0.5,\"rgb(247,247,247)\"],[0.6,\"rgb(209,229,240)\"],[0.7,\"rgb(146,197,222)\"],[0.8,\"rgb(67,147,195)\"],[0.9,\"rgb(33,102,172)\"],[1.0,\"rgb(5,48,97)\"]],\"hoverongaps\":false,\"x\":[0,1,2,3,4,5,6,7],\"y\":[\"H\",\"G\",\"F\",\"E\",\"D\",\"C\",\"B\",\"A\"],\"z\":[[-0.015658246353268623,0.04421306774020195,-0.096233069896698,-0.07061289250850677,0.07531880587339401,0.11795783787965775,0.05356234684586525,-0.007601431105285883],[-0.04906252771615982,0.6499639749526978,0.730128288269043,0.738739550113678,0.7195752263069153,0.7307785749435425,0.6741005182266235,-0.012642008252441883],[-0.03768427297472954,0.7475203275680542,0.6756107211112976,0.6836856603622437,0.6412388682365417,0.7113276124000549,0.7609102725982666,-0.08454032242298126],[0.13291816413402557,0.748033344745636,0.7115087509155273,0.6511562466621399,0.7034772038459778,0.6733196377754211,0.7526853680610657,0.08888546377420425],[0.07888086140155792,0.7789613008499146,0.6224626302719116,0.6804945468902588,0.7237588763237,0.6511878967285156,0.7660264372825623,0.032495446503162384],[0.15907621383666992,0.7205345630645752,0.7172857522964478,0.6575000286102295,0.7022812962532043,0.7090389728546143,0.7191411256790161,0.11323042213916779],[0.08759093284606934,0.6885088682174683,0.7135164737701416,0.7234159111976624,0.7337897419929504,0.6859229207038879,0.6482031941413879,-0.00587973278015852],[0.004773416556417942,-0.024343810975551605,0.0599595345556736,0.17980661988258362,0.0901019424200058,0.08365774154663086,-0.0971905067563057,-0.0053157503716647625]],\"zmax\":0.7789613008499146,\"zmin\":-0.7789613008499146,\"type\":\"heatmap\",\"xaxis\":\"x17\",\"yaxis\":\"y17\"},{\"colorscale\":[[0.0,\"rgb(103,0,31)\"],[0.1,\"rgb(178,24,43)\"],[0.2,\"rgb(214,96,77)\"],[0.3,\"rgb(244,165,130)\"],[0.4,\"rgb(253,219,199)\"],[0.5,\"rgb(247,247,247)\"],[0.6,\"rgb(209,229,240)\"],[0.7,\"rgb(146,197,222)\"],[0.8,\"rgb(67,147,195)\"],[0.9,\"rgb(33,102,172)\"],[1.0,\"rgb(5,48,97)\"]],\"hoverongaps\":false,\"x\":[0,1,2,3,4,5,6,7],\"y\":[\"H\",\"G\",\"F\",\"E\",\"D\",\"C\",\"B\",\"A\"],\"z\":[[0.19385497272014618,0.12193331122398376,0.06957339495420456,0.05795332044363022,-0.01208359282463789,-0.0164346806704998,0.05245967581868172,0.08376498520374298],[-0.08728406578302383,-0.12987039983272552,0.025545338168740273,-0.001515780808404088,-0.06020941585302353,-0.003960291389375925,-0.02574731968343258,0.04590090736746788],[-0.12232571095228195,0.015075361356139183,-0.0439409576356411,0.010796520859003067,0.009512634016573429,-0.02997167780995369,0.02021106332540512,0.0316263884305954],[-0.13104380667209625,-0.023247404024004936,0.03978104889392853,0.016101878136396408,0.014820949174463749,0.07205156981945038,-0.04021826758980751,0.016651587560772896],[-0.03567571938037872,-0.0626288652420044,0.09003528952598572,-0.045960426330566406,-0.010116694495081902,0.03570230305194855,0.03143806755542755,0.017565038055181503],[-0.015276729129254818,-0.07949896901845932,-0.060126449912786484,-0.0011469016317278147,-0.0020757659804075956,-0.019738182425498962,-0.017358161509037018,0.04256582260131836],[0.1506815254688263,-0.0614577978849411,-0.05667806789278984,-0.04736849665641785,-0.06325846910476685,-0.1120351031422615,-0.01550564356148243,0.12344013899564743],[0.23811347782611847,0.12327982485294342,0.14541475474834442,-0.005294004920870066,0.11129934340715408,0.022398335859179497,-0.08310340344905853,0.1500828117132187]],\"zmax\":0.7789613008499146,\"zmin\":-0.7789613008499146,\"type\":\"heatmap\",\"xaxis\":\"x2\",\"yaxis\":\"y2\"},{\"colorscale\":[[0.0,\"rgb(103,0,31)\"],[0.1,\"rgb(178,24,43)\"],[0.2,\"rgb(214,96,77)\"],[0.3,\"rgb(244,165,130)\"],[0.4,\"rgb(253,219,199)\"],[0.5,\"rgb(247,247,247)\"],[0.6,\"rgb(209,229,240)\"],[0.7,\"rgb(146,197,222)\"],[0.8,\"rgb(67,147,195)\"],[0.9,\"rgb(33,102,172)\"],[1.0,\"rgb(5,48,97)\"]],\"hoverongaps\":false,\"x\":[0,1,2,3,4,5,6,7],\"y\":[\"H\",\"G\",\"F\",\"E\",\"D\",\"C\",\"B\",\"A\"],\"z\":[[0.04067837446928024,0.01942405290901661,0.05506567656993866,0.06553728133440018,0.2186274230480194,-0.03136412799358368,0.19154369831085205,0.2664102613925934],[0.05984975025057793,-0.053015150129795074,-0.29441457986831665,-0.5567148923873901,-0.5721634030342102,-0.5619911551475525,-0.6949352025985718,0.24621416628360748],[-0.0006976402946747839,0.00854059960693121,-0.030046308413147926,-0.3440755009651184,-0.4911969006061554,-0.5514077544212341,-0.6770116686820984,0.31016555428504944],[0.11606908589601517,-0.006848180666565895,0.007554312702268362,-0.003461631014943123,-0.4424495995044708,-0.45651254057884216,-0.5947854518890381,0.14371639490127563],[0.12854862213134766,-0.3854964077472687,-0.13830502331256866,-0.06853600591421127,-0.340798556804657,-0.4747212827205658,-0.6106120347976685,0.20497412979602814],[0.2850090265274048,-0.6836945414543152,-0.5767548680305481,-0.441282719373703,-0.531223714351654,-0.46333739161491394,-0.5552340149879456,0.11391743272542953],[0.30982181429862976,-0.5766317844390869,-0.5283990502357483,-0.5338318347930908,-0.5340999364852905,-0.5351372957229614,-0.6338434219360352,0.10313074290752411],[0.33028653264045715,0.4104553461074829,0.36994099617004395,0.42444607615470886,0.19163687527179718,0.5795938968658447,0.5373154282569885,0.4525591731071472]],\"zmax\":0.7789613008499146,\"zmin\":-0.7789613008499146,\"type\":\"heatmap\",\"xaxis\":\"x10\",\"yaxis\":\"y10\"},{\"colorscale\":[[0.0,\"rgb(103,0,31)\"],[0.1,\"rgb(178,24,43)\"],[0.2,\"rgb(214,96,77)\"],[0.3,\"rgb(244,165,130)\"],[0.4,\"rgb(253,219,199)\"],[0.5,\"rgb(247,247,247)\"],[0.6,\"rgb(209,229,240)\"],[0.7,\"rgb(146,197,222)\"],[0.8,\"rgb(67,147,195)\"],[0.9,\"rgb(33,102,172)\"],[1.0,\"rgb(5,48,97)\"]],\"hoverongaps\":false,\"x\":[0,1,2,3,4,5,6,7],\"y\":[\"H\",\"G\",\"F\",\"E\",\"D\",\"C\",\"B\",\"A\"],\"z\":[[0.19466730952262878,0.24115918576717377,0.2056310772895813,0.19954045116901398,0.08221419900655746,0.0860547125339508,0.01524613332003355,0.016112729907035828],[0.30951327085494995,-0.3258012533187866,-0.3163680136203766,-0.5174247622489929,-0.12828190624713898,0.034841831773519516,0.008806332014501095,0.1734505146741867],[0.38406258821487427,-0.5455033779144287,-0.3503413200378418,-0.4336667060852051,-0.09583654254674911,0.01595185697078705,-0.002299362327903509,0.10620079934597015],[0.23198576271533966,-0.46292901039123535,-0.45199212431907654,-0.42996644973754883,-0.011378827504813671,0.01994948275387287,0.0073635876178741455,0.20208048820495605],[0.16467760503292084,-0.5995110869407654,-0.3896166682243347,-0.5343227982521057,-0.02760889381170273,0.04025430232286453,-0.0025301300920546055,0.07391390204429626],[0.17326699197292328,-0.38984015583992004,-0.41757932305336,-0.38550692796707153,-0.12773549556732178,-0.11164899170398712,0.016096673905849457,0.0875287875533104],[0.0545731857419014,-0.05260143429040909,-0.007183644454926252,-0.007751820143312216,0.0037545571103692055,-0.04569611698389053,0.030493997037410736,0.015813365578651428],[0.13529819250106812,0.11439967155456543,0.1333893984556198,0.22121703624725342,0.15511277318000793,0.24726298451423645,0.08076588809490204,0.32501983642578125]],\"zmax\":0.7789613008499146,\"zmin\":-0.7789613008499146,\"type\":\"heatmap\",\"xaxis\":\"x18\",\"yaxis\":\"y18\"},{\"colorscale\":[[0.0,\"rgb(103,0,31)\"],[0.1,\"rgb(178,24,43)\"],[0.2,\"rgb(214,96,77)\"],[0.3,\"rgb(244,165,130)\"],[0.4,\"rgb(253,219,199)\"],[0.5,\"rgb(247,247,247)\"],[0.6,\"rgb(209,229,240)\"],[0.7,\"rgb(146,197,222)\"],[0.8,\"rgb(67,147,195)\"],[0.9,\"rgb(33,102,172)\"],[1.0,\"rgb(5,48,97)\"]],\"hoverongaps\":false,\"x\":[0,1,2,3,4,5,6,7],\"y\":[\"H\",\"G\",\"F\",\"E\",\"D\",\"C\",\"B\",\"A\"],\"z\":[[0.40656813979148865,0.14822128415107727,0.21297168731689453,0.19336089491844177,0.2061026394367218,0.15775519609451294,0.18230795860290527,0.5008048415184021],[0.04810928553342819,-0.09128595888614655,-0.0473959781229496,-0.04128015413880348,-0.2105836272239685,-0.31430545449256897,0.185699924826622,0.09560813754796982],[0.3012197017669678,-0.3003266155719757,-0.330569863319397,-0.3049732744693756,-0.18968594074249268,-0.24045637249946594,-0.21973223984241486,0.12345711886882782],[0.46106550097465515,-0.2764923572540283,-0.1969982087612152,-0.19786018133163452,-0.2596834599971771,-0.306561678647995,-0.29259124398231506,0.22197891771793365],[0.4568875730037689,-0.11764916777610779,-0.260702908039093,-0.2189013957977295,-0.27050647139549255,-0.3363247811794281,-0.2983815371990204,0.18241317570209503],[0.46955636143684387,-0.21917928755283356,-0.17364074289798737,-0.2969290316104889,-0.27744871377944946,-0.35444384813308716,-0.17678382992744446,0.15538114309310913],[0.28533032536506653,-0.1662600040435791,-0.09938597679138184,-0.21153883635997772,0.04371264576911926,-0.16629180312156677,0.05637310817837715,0.054377201944589615],[0.437559574842453,0.16675080358982086,0.22221477329730988,0.17926931381225586,0.24617749452590942,0.22131507098674774,0.0705474317073822,0.26557761430740356]],\"zmax\":0.7789613008499146,\"zmin\":-0.7789613008499146,\"type\":\"heatmap\",\"xaxis\":\"x3\",\"yaxis\":\"y3\"},{\"colorscale\":[[0.0,\"rgb(103,0,31)\"],[0.1,\"rgb(178,24,43)\"],[0.2,\"rgb(214,96,77)\"],[0.3,\"rgb(244,165,130)\"],[0.4,\"rgb(253,219,199)\"],[0.5,\"rgb(247,247,247)\"],[0.6,\"rgb(209,229,240)\"],[0.7,\"rgb(146,197,222)\"],[0.8,\"rgb(67,147,195)\"],[0.9,\"rgb(33,102,172)\"],[1.0,\"rgb(5,48,97)\"]],\"hoverongaps\":false,\"x\":[0,1,2,3,4,5,6,7],\"y\":[\"H\",\"G\",\"F\",\"E\",\"D\",\"C\",\"B\",\"A\"],\"z\":[[-0.04426014423370361,0.13331684470176697,0.14991289377212524,0.052487440407276154,0.11198743432760239,0.2447567731142044,0.04665813967585564,-0.00014389166608452797],[0.11158101260662079,0.0140598239377141,0.11284536123275757,0.2497803419828415,0.11575283110141754,0.15015988051891327,0.08120004832744598,-0.054851777851581573],[0.14347481727600098,0.014251342043280602,0.3035062253475189,0.39729076623916626,0.4368864893913269,0.4864010512828827,0.46655890345573425,-0.20610792934894562],[0.07518644630908966,0.014459894970059395,0.32025906443595886,0.4838602542877197,0.6103813052177429,0.4897415041923523,0.6982840299606323,-0.15692485868930817],[0.1750669628381729,0.013224445283412933,0.08831869065761566,0.5741186738014221,0.5903241634368896,0.406212717294693,0.6574550271034241,-0.20457832515239716],[0.19904476404190063,0.035824015736579895,0.09987884759902954,0.33506762981414795,0.5493620038032532,0.41547340154647827,0.5099214911460876,-0.18576768040657043],[0.056880008429288864,0.020087065175175667,0.1261419653892517,0.5886736512184143,0.6858255863189697,0.5628072023391724,0.676922082901001,-0.16985808312892914],[0.011260389350354671,0.09403336048126221,0.07972080260515213,0.0207718163728714,0.044113852083683014,-0.12331609427928925,-0.20337727665901184,-0.17456907033920288]],\"zmax\":0.7789613008499146,\"zmin\":-0.7789613008499146,\"type\":\"heatmap\",\"xaxis\":\"x11\",\"yaxis\":\"y11\"},{\"colorscale\":[[0.0,\"rgb(103,0,31)\"],[0.1,\"rgb(178,24,43)\"],[0.2,\"rgb(214,96,77)\"],[0.3,\"rgb(244,165,130)\"],[0.4,\"rgb(253,219,199)\"],[0.5,\"rgb(247,247,247)\"],[0.6,\"rgb(209,229,240)\"],[0.7,\"rgb(146,197,222)\"],[0.8,\"rgb(67,147,195)\"],[0.9,\"rgb(33,102,172)\"],[1.0,\"rgb(5,48,97)\"]],\"hoverongaps\":false,\"x\":[0,1,2,3,4,5,6,7],\"y\":[\"H\",\"G\",\"F\",\"E\",\"D\",\"C\",\"B\",\"A\"],\"z\":[[0.06751687824726105,0.12619492411613464,0.12558971345424652,0.2624777555465698,0.12520329654216766,0.22803977131843567,0.09430398792028427,0.19794441759586334],[0.027999265119433403,0.036923207342624664,-0.020805373787879944,-0.019242046400904655,0.019310206174850464,0.024396296590566635,0.00918137189000845,0.2636358439922333],[0.012629793956875801,-0.10801441967487335,-0.0869460329413414,-0.047579675912857056,0.029551206156611443,-0.07330754399299622,0.014890242367982864,0.1804143488407135],[0.013515104539692402,-0.09351133555173874,-0.4544641971588135,-0.17554548382759094,-0.14241422712802887,-0.0030902819707989693,0.006705697160214186,0.1589648723602295],[0.040537022054195404,-0.4107286036014557,-0.38558703660964966,-0.5524019002914429,-0.19510260224342346,-0.003652476705610752,-0.010344997979700565,0.15037494897842407],[0.07934620976448059,-0.4988713562488556,-0.4926220178604126,-0.43401578068733215,-0.4246103763580322,-0.27891385555267334,-0.04500201717019081,0.21375130116939545],[0.05842675641179085,-0.30251848697662354,-0.41523823142051697,-0.45787617564201355,-0.5780647397041321,-0.40240293741226196,0.056381937116384506,0.19742855429649353],[0.1539601981639862,0.39782413840293884,0.22874321043491364,0.29375922679901123,0.0973692387342453,0.20576731860637665,0.464615136384964,0.27346178889274597]],\"zmax\":0.7789613008499146,\"zmin\":-0.7789613008499146,\"type\":\"heatmap\",\"xaxis\":\"x19\",\"yaxis\":\"y19\"},{\"colorscale\":[[0.0,\"rgb(103,0,31)\"],[0.1,\"rgb(178,24,43)\"],[0.2,\"rgb(214,96,77)\"],[0.3,\"rgb(244,165,130)\"],[0.4,\"rgb(253,219,199)\"],[0.5,\"rgb(247,247,247)\"],[0.6,\"rgb(209,229,240)\"],[0.7,\"rgb(146,197,222)\"],[0.8,\"rgb(67,147,195)\"],[0.9,\"rgb(33,102,172)\"],[1.0,\"rgb(5,48,97)\"]],\"hoverongaps\":false,\"x\":[0,1,2,3,4,5,6,7],\"y\":[\"H\",\"G\",\"F\",\"E\",\"D\",\"C\",\"B\",\"A\"],\"z\":[[0.4019230008125305,0.4561607539653778,0.1986788958311081,0.32385826110839844,0.3186632990837097,0.4607838988304138,0.17827604711055756,0.3575829565525055],[0.2026345282793045,-0.13050691783428192,-0.12066613137722015,-0.0936431735754013,-0.14410264790058136,-0.21008242666721344,-0.043519046157598495,0.4666762948036194],[0.25057485699653625,-0.1251922994852066,-0.3171100318431854,-0.12549366056919098,-0.3421747386455536,-0.22509343922138214,0.014361067675054073,0.3788807690143585],[0.020743271335959435,-0.21473020315170288,-0.31331077218055725,-0.20849750936031342,-0.2711237370967865,-0.13825055956840515,-0.004668733105063438,0.4366764426231384],[0.14935791492462158,-0.037034984678030014,-0.2877616286277771,-0.35273265838623047,-0.29925382137298584,-0.36459124088287354,-0.12430095672607422,0.3452455997467041],[0.16885222494602203,-0.0790196880698204,-0.14351986348628998,-0.2701568901538849,-0.21395207941532135,-0.43943727016448975,-0.12786486744880676,0.2736775279045105],[0.3335307538509369,0.16441169381141663,0.03086388297379017,-0.024787848815321922,-0.06399832665920258,-0.25710952281951904,-0.2690296173095703,0.2923250198364258],[0.39559876918792725,0.4461781978607178,0.43005284667015076,0.4235009551048279,0.3238633871078491,0.284950315952301,0.36718666553497314,0.21157971024513245]],\"zmax\":0.7789613008499146,\"zmin\":-0.7789613008499146,\"type\":\"heatmap\",\"xaxis\":\"x4\",\"yaxis\":\"y4\"},{\"colorscale\":[[0.0,\"rgb(103,0,31)\"],[0.1,\"rgb(178,24,43)\"],[0.2,\"rgb(214,96,77)\"],[0.3,\"rgb(244,165,130)\"],[0.4,\"rgb(253,219,199)\"],[0.5,\"rgb(247,247,247)\"],[0.6,\"rgb(209,229,240)\"],[0.7,\"rgb(146,197,222)\"],[0.8,\"rgb(67,147,195)\"],[0.9,\"rgb(33,102,172)\"],[1.0,\"rgb(5,48,97)\"]],\"hoverongaps\":false,\"x\":[0,1,2,3,4,5,6,7],\"y\":[\"H\",\"G\",\"F\",\"E\",\"D\",\"C\",\"B\",\"A\"],\"z\":[[0.12130607664585114,0.10092922300100327,0.25180351734161377,0.19616037607192993,0.3712685704231262,0.20536071062088013,0.397320955991745,0.26678407192230225],[0.0920403003692627,-0.19432313740253448,-0.5920867323875427,-0.47154200077056885,-0.31021925806999207,-0.3415338397026062,-0.5311509370803833,0.21223972737789154],[0.06016383692622185,-0.13540148735046387,-0.5591909885406494,-0.45393258333206177,-0.3868483603000641,-0.4092538058757782,-0.5821908712387085,0.404159277677536],[0.04627284035086632,0.05784546956419945,-0.5017721056938171,-0.45301637053489685,-0.355730801820755,-0.09893849492073059,-0.437969833612442,0.46008622646331787],[0.04366636648774147,0.10384645313024521,-0.10724499076604843,-0.4798889756202698,-0.43511590361595154,-0.24212661385536194,-0.4574089050292969,0.45302775502204895],[0.04580944404006004,0.053980905562639236,0.03435342758893967,-0.06132029369473457,-0.4545576870441437,-0.3969331383705139,-0.4786279797554016,0.3961329460144043],[0.04118148609995842,0.03598131611943245,-0.011848771944642067,-0.2972669303417206,-0.4042035639286041,-0.20486465096473694,-0.3059735596179962,0.37668377161026],[0.08781783282756805,0.13867789506912231,0.09371032565832138,0.1941279023885727,0.10849982500076294,0.18762971460819244,0.09085855633020401,0.37641000747680664]],\"zmax\":0.7789613008499146,\"zmin\":-0.7789613008499146,\"type\":\"heatmap\",\"xaxis\":\"x12\",\"yaxis\":\"y12\"},{\"colorscale\":[[0.0,\"rgb(103,0,31)\"],[0.1,\"rgb(178,24,43)\"],[0.2,\"rgb(214,96,77)\"],[0.3,\"rgb(244,165,130)\"],[0.4,\"rgb(253,219,199)\"],[0.5,\"rgb(247,247,247)\"],[0.6,\"rgb(209,229,240)\"],[0.7,\"rgb(146,197,222)\"],[0.8,\"rgb(67,147,195)\"],[0.9,\"rgb(33,102,172)\"],[1.0,\"rgb(5,48,97)\"]],\"hoverongaps\":false,\"x\":[0,1,2,3,4,5,6,7],\"y\":[\"H\",\"G\",\"F\",\"E\",\"D\",\"C\",\"B\",\"A\"],\"z\":[[0.25858762860298157,0.45242446660995483,0.5328092575073242,0.5109325647354126,0.5005983710289001,0.5067112445831299,0.25400495529174805,0.28114697337150574],[0.08609594404697418,-0.10199672728776932,-0.4930276870727539,-0.5582029819488525,-0.3773256242275238,-0.5054871439933777,-0.3538960814476013,0.2973741888999939],[0.05582042783498764,-0.12504436075687408,-0.5003653168678284,-0.5764940977096558,-0.4670414924621582,-0.48621225357055664,-0.5339887142181396,0.44586509466171265],[0.04253168776631355,-0.3763185143470764,-0.48097074031829834,-0.21906636655330658,-0.038385793566703796,-0.2930387258529663,-0.4655764102935791,0.38462936878204346],[0.10593491792678833,-0.11318765580654144,-0.3950675427913666,0.017618082463741302,0.014163968153297901,0.015367998741567135,-0.33343058824539185,0.3926618993282318],[0.17538122832775116,-0.05560026690363884,-0.10024037212133408,-0.10470712929964066,-0.3532137870788574,-0.5174678564071655,-0.5995742678642273,0.4298589825630188],[0.09116081148386002,0.0062506115064024925,-0.18273742496967316,-0.45196712017059326,-0.6545984148979187,-0.612907350063324,-0.5066874623298645,0.3851933181285858],[0.20974493026733398,0.0558423288166523,0.10613945871591568,0.20302975177764893,0.31978270411491394,0.28912821412086487,0.38238057494163513,0.3456554710865021]],\"zmax\":0.7789613008499146,\"zmin\":-0.7789613008499146,\"type\":\"heatmap\",\"xaxis\":\"x20\",\"yaxis\":\"y20\"},{\"colorscale\":[[0.0,\"rgb(103,0,31)\"],[0.1,\"rgb(178,24,43)\"],[0.2,\"rgb(214,96,77)\"],[0.3,\"rgb(244,165,130)\"],[0.4,\"rgb(253,219,199)\"],[0.5,\"rgb(247,247,247)\"],[0.6,\"rgb(209,229,240)\"],[0.7,\"rgb(146,197,222)\"],[0.8,\"rgb(67,147,195)\"],[0.9,\"rgb(33,102,172)\"],[1.0,\"rgb(5,48,97)\"]],\"hoverongaps\":false,\"x\":[0,1,2,3,4,5,6,7],\"y\":[\"H\",\"G\",\"F\",\"E\",\"D\",\"C\",\"B\",\"A\"],\"z\":[[-0.029126795008778572,-0.09475469589233398,-0.13379576802253723,-0.06137474253773689,-0.02218570001423359,-0.08461247384548187,-0.36169493198394775,-0.5158109664916992],[-0.30892500281333923,0.4831843376159668,0.52788245677948,0.4487435817718506,0.397906631231308,0.380373477935791,0.37710466980934143,-0.4058208167552948],[-0.33799687027931213,0.47914761304855347,0.43683934211730957,0.20313097536563873,0.2573421001434326,0.3844289779663086,0.5176222920417786,-0.35457733273506165],[-0.34423214197158813,0.3733677268028259,0.1722414791584015,0.07318528741598129,0.42987802624702454,0.4283725321292877,0.4968104660511017,-0.41097283363342285],[-0.3525577783584595,0.0863555297255516,0.06925615668296814,0.09334610402584076,0.45451614260673523,0.5113564729690552,0.5291318893432617,-0.38851332664489746],[-0.3609403073787689,0.05396943911910057,0.020634647458791733,0.07484716922044754,0.2910352647304535,0.5040197372436523,0.37861624360084534,-0.3594749867916107],[-0.3171527087688446,0.09075930714607239,0.021213477477431297,0.11256317794322968,0.17701809108257294,0.5225266814231873,0.5152555108070374,-0.2413042187690735],[-0.13673046231269836,-0.3029341399669647,-0.15510863065719604,-0.3098464608192444,-0.3771807551383972,-0.3396984040737152,-0.17921148240566254,-0.14143036305904388]],\"zmax\":0.7789613008499146,\"zmin\":-0.7789613008499146,\"type\":\"heatmap\",\"xaxis\":\"x5\",\"yaxis\":\"y5\"},{\"colorscale\":[[0.0,\"rgb(103,0,31)\"],[0.1,\"rgb(178,24,43)\"],[0.2,\"rgb(214,96,77)\"],[0.3,\"rgb(244,165,130)\"],[0.4,\"rgb(253,219,199)\"],[0.5,\"rgb(247,247,247)\"],[0.6,\"rgb(209,229,240)\"],[0.7,\"rgb(146,197,222)\"],[0.8,\"rgb(67,147,195)\"],[0.9,\"rgb(33,102,172)\"],[1.0,\"rgb(5,48,97)\"]],\"hoverongaps\":false,\"x\":[0,1,2,3,4,5,6,7],\"y\":[\"H\",\"G\",\"F\",\"E\",\"D\",\"C\",\"B\",\"A\"],\"z\":[[0.360008180141449,0.4080182909965515,0.36221078038215637,0.1813056468963623,0.4262312054634094,0.09730855375528336,0.1309911459684372,0.19875891506671906],[0.30354392528533936,-0.6685822010040283,-0.6215739846229553,-0.5331172943115234,-0.47899359464645386,-0.537630558013916,-0.24170857667922974,0.0634111538529396],[0.30120542645454407,-0.42239031195640564,-0.5347033143043518,-0.4319484531879425,-0.44122982025146484,-0.43995434045791626,-0.010988672263920307,0.057140983641147614],[0.4305625855922699,-0.505232572555542,-0.6044191718101501,-0.457722932100296,-0.410987913608551,-0.0176220815628767,0.02748909778892994,0.043100301176309586],[0.3120698928833008,-0.5092903971672058,-0.4927223026752472,-0.3574365973472595,-0.004770917817950249,0.03833451494574547,0.05943334475159645,0.0140662407502532],[0.44159889221191406,-0.6395270228385925,-0.516838014125824,-0.09119493514299393,0.002035287907347083,0.030113253742456436,0.04488350450992584,0.026719002053141594],[0.389860063791275,-0.5680623650550842,-0.5329963564872742,-0.0554671511054039,0.025766557082533836,0.04088706150650978,0.04383380711078644,0.03442271798849106],[0.22709158062934875,0.20085006952285767,0.0076725659891963005,0.045433372259140015,0.014438391663134098,0.013494996353983879,0.041189227253198624,0.09425544738769531]],\"zmax\":0.7789613008499146,\"zmin\":-0.7789613008499146,\"type\":\"heatmap\",\"xaxis\":\"x13\",\"yaxis\":\"y13\"},{\"colorscale\":[[0.0,\"rgb(103,0,31)\"],[0.1,\"rgb(178,24,43)\"],[0.2,\"rgb(214,96,77)\"],[0.3,\"rgb(244,165,130)\"],[0.4,\"rgb(253,219,199)\"],[0.5,\"rgb(247,247,247)\"],[0.6,\"rgb(209,229,240)\"],[0.7,\"rgb(146,197,222)\"],[0.8,\"rgb(67,147,195)\"],[0.9,\"rgb(33,102,172)\"],[1.0,\"rgb(5,48,97)\"]],\"hoverongaps\":false,\"x\":[0,1,2,3,4,5,6,7],\"y\":[\"H\",\"G\",\"F\",\"E\",\"D\",\"C\",\"B\",\"A\"],\"z\":[[0.12596307694911957,0.3766027092933655,0.4982878267765045,0.44561225175857544,0.2787480354309082,0.31333115696907043,0.021163389086723328,0.04939749091863632],[0.07622814178466797,-0.2232779562473297,-0.41551291942596436,-0.469086617231369,-0.4096109867095947,-0.40758052468299866,-0.027053605765104294,0.09647367149591446],[0.07100915908813477,-0.2786557972431183,-0.4116270840167999,-0.5149893164634705,-0.412789523601532,-0.34244024753570557,-0.055913664400577545,0.05860019475221634],[0.021915247663855553,0.046806760132312775,-0.3881707489490509,-0.48824813961982727,-0.4551231265068054,-0.3028961718082428,0.04268616437911987,0.0456106998026371],[0.0227175485342741,0.045409366488456726,0.004951789975166321,-0.4268640875816345,-0.43414244055747986,-0.37648823857307434,0.035379402339458466,0.10300153493881226],[0.09313006699085236,0.01853170059621334,-0.05621722713112831,-0.19450059533119202,-0.3190992772579193,-0.048745568841695786,0.027636941522359848,-0.016122814267873764],[0.04746389389038086,0.005821690429002047,0.017645271494984627,0.03673194721341133,0.009571691043674946,0.005167312920093536,0.016912559047341347,0.026382163166999817],[0.11932314932346344,0.12007348984479904,0.19430011510849,0.19670087099075317,0.23611189424991608,0.11395785957574844,0.08733828365802765,0.09361223131418228]],\"zmax\":0.7789613008499146,\"zmin\":-0.7789613008499146,\"type\":\"heatmap\",\"xaxis\":\"x21\",\"yaxis\":\"y21\"},{\"colorscale\":[[0.0,\"rgb(103,0,31)\"],[0.1,\"rgb(178,24,43)\"],[0.2,\"rgb(214,96,77)\"],[0.3,\"rgb(244,165,130)\"],[0.4,\"rgb(253,219,199)\"],[0.5,\"rgb(247,247,247)\"],[0.6,\"rgb(209,229,240)\"],[0.7,\"rgb(146,197,222)\"],[0.8,\"rgb(67,147,195)\"],[0.9,\"rgb(33,102,172)\"],[1.0,\"rgb(5,48,97)\"]],\"hoverongaps\":false,\"x\":[0,1,2,3,4,5,6,7],\"y\":[\"H\",\"G\",\"F\",\"E\",\"D\",\"C\",\"B\",\"A\"],\"z\":[[-0.0027716285549104214,-0.039621300995349884,-0.057409293949604034,-0.04057571664452553,-0.13502034544944763,-0.12847204506397247,-0.06096109747886658,-0.12961438298225403],[0.019134268164634705,0.04881385713815689,0.12501898407936096,0.1322387307882309,0.17469605803489685,0.2206374555826187,0.11667686700820923,-0.13046251237392426],[-0.030567221343517303,0.11387336254119873,0.34798097610473633,0.3594736158847809,0.34761881828308105,0.37470802664756775,0.36548691987991333,-0.037360671907663345],[-0.021354319527745247,0.20557108521461487,0.3808043599128723,0.3721955716609955,0.4188880920410156,0.2768670320510864,0.35715147852897644,-0.09313639253377914],[-0.03720782324671745,0.2553987503051758,0.4069085121154785,0.43263065814971924,0.46218663454055786,0.46326446533203125,0.3903852701187134,-0.05675441026687622],[0.0076861088164150715,0.38454559445381165,0.2934110462665558,0.3566196858882904,0.3163180947303772,0.4334806501865387,0.3746055066585541,-0.16683007776737213],[-0.011380297131836414,0.28874683380126953,0.3670769929885864,0.34510865807533264,0.27831482887268066,0.4082363247871399,0.3403809368610382,-0.13797177374362946],[-0.21933427453041077,-0.170261412858963,-0.2595970928668976,-0.2807264029979706,-0.199493870139122,-0.1622931808233261,-0.2933211028575897,-0.25607535243034363]],\"zmax\":0.7789613008499146,\"zmin\":-0.7789613008499146,\"type\":\"heatmap\",\"xaxis\":\"x6\",\"yaxis\":\"y6\"},{\"colorscale\":[[0.0,\"rgb(103,0,31)\"],[0.1,\"rgb(178,24,43)\"],[0.2,\"rgb(214,96,77)\"],[0.3,\"rgb(244,165,130)\"],[0.4,\"rgb(253,219,199)\"],[0.5,\"rgb(247,247,247)\"],[0.6,\"rgb(209,229,240)\"],[0.7,\"rgb(146,197,222)\"],[0.8,\"rgb(67,147,195)\"],[0.9,\"rgb(33,102,172)\"],[1.0,\"rgb(5,48,97)\"]],\"hoverongaps\":false,\"x\":[0,1,2,3,4,5,6,7],\"y\":[\"H\",\"G\",\"F\",\"E\",\"D\",\"C\",\"B\",\"A\"],\"z\":[[0.1162145808339119,0.05433142930269241,0.03735208511352539,0.011786704882979393,0.03327267989516258,-0.005436290055513382,0.04543487727642059,0.1296955943107605],[0.19721585512161255,-0.45284342765808105,-0.028817759826779366,0.0284553412348032,0.03224707394838333,0.004227592144161463,0.002113938797265291,0.18064361810684204],[0.1007407009601593,-0.5942028164863586,-0.4093629717826843,0.041390709578990936,0.049408502876758575,0.03319292515516281,-0.04177112132310867,0.0233644787222147],[0.4434492290019989,-0.672724723815918,-0.5788993835449219,-0.30389517545700073,-0.17696502804756165,-0.07381176948547363,-0.4100969135761261,-0.057695358991622925],[0.22535526752471924,-0.4957880675792694,-0.4483543634414673,-0.4839969277381897,-0.5328778028488159,-0.4965842664241791,-0.5243740081787109,0.07121221721172333],[0.42872828245162964,-0.6336883306503296,-0.5026846528053284,-0.25283050537109375,-0.5214431285858154,-0.45071521401405334,-0.5298486948013306,0.05699882283806801],[0.2224409133195877,-0.4719267189502716,-0.477674275636673,-0.4910431206226349,-0.5741328597068787,-0.400857150554657,-0.622615396976471,0.1027284786105156],[0.34834936261177063,0.48235297203063965,0.3362150192260742,0.22970589995384216,0.04330132529139519,0.4442402422428131,0.49691981077194214,0.420795202255249]],\"zmax\":0.7789613008499146,\"zmin\":-0.7789613008499146,\"type\":\"heatmap\",\"xaxis\":\"x14\",\"yaxis\":\"y14\"},{\"colorscale\":[[0.0,\"rgb(103,0,31)\"],[0.1,\"rgb(178,24,43)\"],[0.2,\"rgb(214,96,77)\"],[0.3,\"rgb(244,165,130)\"],[0.4,\"rgb(253,219,199)\"],[0.5,\"rgb(247,247,247)\"],[0.6,\"rgb(209,229,240)\"],[0.7,\"rgb(146,197,222)\"],[0.8,\"rgb(67,147,195)\"],[0.9,\"rgb(33,102,172)\"],[1.0,\"rgb(5,48,97)\"]],\"hoverongaps\":false,\"x\":[0,1,2,3,4,5,6,7],\"y\":[\"H\",\"G\",\"F\",\"E\",\"D\",\"C\",\"B\",\"A\"],\"z\":[[0.29560884833335876,0.07555922865867615,0.07001005858182907,0.15822665393352509,0.07593342661857605,0.2347879409790039,0.10266195982694626,0.05595773831009865],[0.38911664485931396,0.045520953834056854,0.0359000526368618,0.024870913475751877,-0.48736003041267395,-0.6055288314819336,-0.4860180914402008,0.17875464260578156],[0.3859711289405823,-0.34833037853240967,-0.12477707117795944,-0.34670543670654297,-0.5410681962966919,-0.5555652976036072,-0.6464755535125732,0.28020429611206055],[0.3854134678840637,-0.6346063613891602,-0.5208863019943237,-0.4891379177570343,-0.5438761115074158,-0.531155526638031,-0.6698079705238342,0.37029004096984863],[0.43922555446624756,-0.6309595108032227,-0.38230133056640625,-0.32413870096206665,-0.5560255646705627,-0.38064447045326233,-0.5514543652534485,0.27600640058517456],[0.478773832321167,-0.4200347661972046,-0.5263127088546753,-0.36040636897087097,-0.23394730687141418,-0.24352692067623138,0.02411983348429203,0.1963924914598465],[0.5400384068489075,-0.4563864469528198,-0.5207052230834961,-0.4376524090766907,-0.009650523774325848,0.02720138430595398,0.08849544823169708,0.06167615205049515],[0.29303571581840515,0.43481767177581787,0.4608279764652252,0.3929014801979065,0.06795558333396912,0.08250082284212112,0.03484144061803818,0.07667238265275955]],\"zmax\":0.7789613008499146,\"zmin\":-0.7789613008499146,\"type\":\"heatmap\",\"xaxis\":\"x22\",\"yaxis\":\"y22\"},{\"colorscale\":[[0.0,\"rgb(103,0,31)\"],[0.1,\"rgb(178,24,43)\"],[0.2,\"rgb(214,96,77)\"],[0.3,\"rgb(244,165,130)\"],[0.4,\"rgb(253,219,199)\"],[0.5,\"rgb(247,247,247)\"],[0.6,\"rgb(209,229,240)\"],[0.7,\"rgb(146,197,222)\"],[0.8,\"rgb(67,147,195)\"],[0.9,\"rgb(33,102,172)\"],[1.0,\"rgb(5,48,97)\"]],\"hoverongaps\":false,\"x\":[0,1,2,3,4,5,6,7],\"y\":[\"H\",\"G\",\"F\",\"E\",\"D\",\"C\",\"B\",\"A\"],\"z\":[[-0.24894332885742188,-0.42033228278160095,-0.5040974617004395,-0.3381254971027374,-0.33618777990341187,-0.4993308186531067,-0.3521207273006439,-0.1508965939283371],[-0.39007896184921265,0.4482826590538025,0.4113456606864929,0.35516732931137085,0.41535842418670654,0.468049019575119,0.44944432377815247,-0.08069225400686264],[-0.3458957076072693,0.43774083256721497,0.3726882040500641,0.3826769292354584,0.40435177087783813,0.46844151616096497,0.4374476373195648,-0.25313541293144226],[-0.4839542806148529,0.4538404941558838,0.45955172181129456,0.5527256727218628,0.5221059918403625,0.2937416434288025,0.21706156432628632,-0.034986164420843124],[-0.22836697101593018,0.5169622898101807,0.45199713110923767,0.5117490291595459,0.11468177288770676,0.07043809443712234,0.0625956580042839,-0.029358766973018646],[-0.28477516770362854,0.571606457233429,0.38286495208740234,0.1992141455411911,0.07424118369817734,0.02579243667423725,0.04979114979505539,-0.04912971332669258],[-0.2617875933647156,0.3285134434700012,0.12923488020896912,0.06417309492826462,0.009868626482784748,0.03641945868730545,0.026901602745056152,0.029424335807561874],[-0.03167502582073212,-0.0097016841173172,-0.03903830051422119,-0.06320685893297195,-0.03703944385051727,-0.02327781356871128,0.0026717460714280605,0.022767288610339165]],\"zmax\":0.7789613008499146,\"zmin\":-0.7789613008499146,\"type\":\"heatmap\",\"xaxis\":\"x7\",\"yaxis\":\"y7\"},{\"colorscale\":[[0.0,\"rgb(103,0,31)\"],[0.1,\"rgb(178,24,43)\"],[0.2,\"rgb(214,96,77)\"],[0.3,\"rgb(244,165,130)\"],[0.4,\"rgb(253,219,199)\"],[0.5,\"rgb(247,247,247)\"],[0.6,\"rgb(209,229,240)\"],[0.7,\"rgb(146,197,222)\"],[0.8,\"rgb(67,147,195)\"],[0.9,\"rgb(33,102,172)\"],[1.0,\"rgb(5,48,97)\"]],\"hoverongaps\":false,\"x\":[0,1,2,3,4,5,6,7],\"y\":[\"H\",\"G\",\"F\",\"E\",\"D\",\"C\",\"B\",\"A\"],\"z\":[[-0.02242012694478035,-0.07676617801189423,-0.03633635491132736,0.0047700186260044575,0.020250845700502396,0.02754277177155018,0.022408422082662582,0.011048911139369011],[-0.073170967400074,0.612023115158081,0.5852851867675781,0.12039948999881744,0.09688118100166321,0.12285096198320389,0.012642797082662582,0.017030013725161552],[-0.08770178258419037,0.686779260635376,0.6308696269989014,0.3727014660835266,0.09078901261091232,0.0612197183072567,0.06594519317150116,0.022815700620412827],[-0.18686461448669434,0.7595108151435852,0.5838318467140198,0.5746498703956604,0.061590343713760376,0.04149267449975014,0.008599704131484032,0.04945061355829239],[-0.06748189777135849,0.6256364583969116,0.3650498390197754,0.5959450006484985,0.55716472864151,0.4911907911300659,0.297329843044281,0.009244907647371292],[-0.19932255148887634,0.6738455891609192,0.5611796379089355,0.4140504002571106,0.6131303310394287,0.5818147659301758,0.5787152647972107,-0.016672281548380852],[-0.039837997406721115,0.5302518606185913,0.5992757081985474,0.6561912298202515,0.6915777921676636,0.6979313492774963,0.6939422488212585,-0.10329728573560715],[-0.10995402187108994,-0.11807934939861298,-0.08238410204648972,-0.06123795732855797,-0.06696795672178268,-0.16326655447483063,-0.1375371366739273,-0.13149529695510864]],\"zmax\":0.7789613008499146,\"zmin\":-0.7789613008499146,\"type\":\"heatmap\",\"xaxis\":\"x15\",\"yaxis\":\"y15\"},{\"colorscale\":[[0.0,\"rgb(103,0,31)\"],[0.1,\"rgb(178,24,43)\"],[0.2,\"rgb(214,96,77)\"],[0.3,\"rgb(244,165,130)\"],[0.4,\"rgb(253,219,199)\"],[0.5,\"rgb(247,247,247)\"],[0.6,\"rgb(209,229,240)\"],[0.7,\"rgb(146,197,222)\"],[0.8,\"rgb(67,147,195)\"],[0.9,\"rgb(33,102,172)\"],[1.0,\"rgb(5,48,97)\"]],\"hoverongaps\":false,\"x\":[0,1,2,3,4,5,6,7],\"y\":[\"H\",\"G\",\"F\",\"E\",\"D\",\"C\",\"B\",\"A\"],\"z\":[[0.40185585618019104,0.37077340483665466,0.22832083702087402,0.2667769193649292,0.11695616692304611,0.22491884231567383,0.14318503439426422,0.15033091604709625],[0.4276391565799713,-0.5490196943283081,-0.47261136770248413,-0.07975312322378159,-0.026152988895773888,-0.26868703961372375,-0.37282630801200867,0.2368849217891693],[0.3822197914123535,-0.5779423713684082,-0.35812464356422424,-0.08904587477445602,-0.15537633001804352,-0.42475974559783936,-0.4589393734931946,0.322730153799057],[0.2592979669570923,-0.46567264199256897,-0.08715363591909409,-0.027618538588285446,-0.47537046670913696,-0.24463443458080292,-0.48038041591644287,0.4932761788368225],[0.12326337397098541,-0.07056114822626114,0.015317859128117561,-0.1925329715013504,-0.2078983187675476,-0.4083635210990906,-0.5018993616104126,0.11565703898668289],[0.03877078741788864,0.004216792061924934,-0.013534348458051682,-0.006852997001260519,-0.32031816244125366,-0.4163386821746826,-0.5262349843978882,0.29209035634994507],[0.02075253613293171,0.04600083827972412,0.04751890152692795,0.0028110877610743046,-0.0033492541406303644,-0.01613711751997471,-0.17462262511253357,0.3090544641017914],[0.11702635139226913,0.06665296107530594,0.046517398208379745,0.02085167169570923,0.06069756671786308,0.09957028925418854,0.1634708046913147,0.3235367238521576]],\"zmax\":0.7789613008499146,\"zmin\":-0.7789613008499146,\"type\":\"heatmap\",\"xaxis\":\"x23\",\"yaxis\":\"y23\"},{\"colorscale\":[[0.0,\"rgb(103,0,31)\"],[0.1,\"rgb(178,24,43)\"],[0.2,\"rgb(214,96,77)\"],[0.3,\"rgb(244,165,130)\"],[0.4,\"rgb(253,219,199)\"],[0.5,\"rgb(247,247,247)\"],[0.6,\"rgb(209,229,240)\"],[0.7,\"rgb(146,197,222)\"],[0.8,\"rgb(67,147,195)\"],[0.9,\"rgb(33,102,172)\"],[1.0,\"rgb(5,48,97)\"]],\"hoverongaps\":false,\"x\":[0,1,2,3,4,5,6,7],\"y\":[\"H\",\"G\",\"F\",\"E\",\"D\",\"C\",\"B\",\"A\"],\"z\":[[0.05039457231760025,0.02528112754225731,0.04333879426121712,0.02758307196199894,-0.09536517411470413,-0.023912247270345688,0.07992350310087204,0.24519284069538116],[0.015367199666798115,-0.02398301474750042,0.010501147247850895,0.0702495202422142,0.008012022823095322,-0.02813657931983471,-0.006658525671809912,-0.048265960067510605],[0.0035305661149322987,-0.09618181735277176,-0.048156194388866425,0.012404529377818108,-0.03998434916138649,0.04779083654284477,-0.08773818612098694,0.007547902408987284],[0.007144278846681118,-0.023891586810350418,-0.00540378550067544,-0.15703615546226501,-0.11400347203016281,-0.09955606609582901,-0.007684859447181225,-0.05474263057112694],[0.09555701166391373,-0.08807831257581711,0.046283554285764694,-0.112210214138031,-0.14212916791439056,0.11326856166124344,-0.001401581335812807,-0.022038022056221962],[0.07310746610164642,-0.08758720755577087,-0.10512234270572662,-0.05511650815606117,0.0034909036476165056,0.022611329331994057,-0.13456590473651886,0.041624393314123154],[0.04773475229740143,0.04516599327325821,-0.04991121590137482,0.06988433748483658,0.08508745580911636,0.1092149168252945,0.055328067392110825,-0.2070779800415039],[0.007558402605354786,0.03889758512377739,0.0269037876278162,-0.009050770662724972,0.018375353887677193,0.03577910736203194,0.004814507905393839,0.16156105697155]],\"zmax\":0.7789613008499146,\"zmin\":-0.7789613008499146,\"type\":\"heatmap\",\"xaxis\":\"x8\",\"yaxis\":\"y8\"},{\"colorscale\":[[0.0,\"rgb(103,0,31)\"],[0.1,\"rgb(178,24,43)\"],[0.2,\"rgb(214,96,77)\"],[0.3,\"rgb(244,165,130)\"],[0.4,\"rgb(253,219,199)\"],[0.5,\"rgb(247,247,247)\"],[0.6,\"rgb(209,229,240)\"],[0.7,\"rgb(146,197,222)\"],[0.8,\"rgb(67,147,195)\"],[0.9,\"rgb(33,102,172)\"],[1.0,\"rgb(5,48,97)\"]],\"hoverongaps\":false,\"x\":[0,1,2,3,4,5,6,7],\"y\":[\"H\",\"G\",\"F\",\"E\",\"D\",\"C\",\"B\",\"A\"],\"z\":[[-0.05790308117866516,0.16932809352874756,-0.06383232772350311,-0.13257654011249542,-0.10537973046302795,-0.044512804597616196,-0.014667564071714878,-0.20442527532577515],[-0.15399444103240967,0.41044360399246216,0.6255172491073608,0.729254961013794,0.7576625347137451,0.7353914380073547,0.7089866399765015,-0.17281357944011688],[-0.015133840963244438,0.17092308402061462,0.26527169346809387,0.5474880933761597,0.6041523814201355,0.6611648201942444,0.7184259295463562,-0.21640042960643768],[-0.03103906288743019,0.1791442483663559,0.17643052339553833,0.1352841556072235,0.6546253561973572,0.48638495802879333,0.7047674059867859,-0.12532153725624084],[0.0036194613203406334,0.5955184698104858,0.5222174525260925,0.2787616550922394,0.47567713260650635,0.6287668943405151,0.7251935005187988,-0.08195791393518448],[-0.006320762913674116,0.7675184011459351,0.6982223987579346,0.5874276757240295,0.569122850894928,0.6050376892089844,0.6805082559585571,-0.005077911075204611],[-0.007063610944896936,0.7562347650527954,0.7651629447937012,0.7274242639541626,0.6220693588256836,0.227828249335289,0.18082405626773834,0.003984640818089247],[-0.2652939558029175,-0.15104703605175018,0.1422126442193985,0.0572504885494709,0.10697751492261887,0.029704460874199867,-0.00024109409423545003,-0.026060448959469795]],\"zmax\":0.7789613008499146,\"zmin\":-0.7789613008499146,\"type\":\"heatmap\",\"xaxis\":\"x16\",\"yaxis\":\"y16\"},{\"colorscale\":[[0.0,\"rgb(103,0,31)\"],[0.1,\"rgb(178,24,43)\"],[0.2,\"rgb(214,96,77)\"],[0.3,\"rgb(244,165,130)\"],[0.4,\"rgb(253,219,199)\"],[0.5,\"rgb(247,247,247)\"],[0.6,\"rgb(209,229,240)\"],[0.7,\"rgb(146,197,222)\"],[0.8,\"rgb(67,147,195)\"],[0.9,\"rgb(33,102,172)\"],[1.0,\"rgb(5,48,97)\"]],\"hoverongaps\":false,\"x\":[0,1,2,3,4,5,6,7],\"y\":[\"H\",\"G\",\"F\",\"E\",\"D\",\"C\",\"B\",\"A\"],\"z\":[[0.09017985314130783,0.04815933480858803,0.04914601892232895,0.09658423066139221,0.06932155787944794,0.09698830544948578,0.019090596586465836,0.024998867884278297],[0.012220719829201698,0.022220777347683907,0.016622738912701607,0.029538050293922424,-0.00010450345871504396,-0.014606591314077377,0.02533179521560669,0.011089159175753593],[0.0668451339006424,-0.0112669812515378,-0.005957562942057848,-0.03059874102473259,0.007155406288802624,0.0028844645712524652,-0.022367900237441063,0.008720441721379757],[0.11882368475198746,0.039670851081609726,-0.021338870748877525,-0.34291598200798035,-0.280481219291687,-0.20684847235679626,-0.1647806465625763,0.25734788179397583],[0.05673622339963913,-0.013052252121269703,-0.04476959630846977,-0.32725241780281067,-0.4460042417049408,-0.48004451394081116,-0.5327485799789429,0.20956619083881378],[0.09435616433620453,-0.008043300360441208,-0.24727210402488708,-0.321845144033432,-0.4695795774459839,-0.39528512954711914,-0.41260194778442383,0.31783950328826904],[0.04075871407985687,-0.0013060783967375755,-0.2719842791557312,-0.43986937403678894,-0.5068107843399048,-0.42006438970565796,-0.2245611995458603,0.2017090916633606],[0.16394266486167908,0.1620265394449234,0.2601151764392853,0.35729342699050903,0.21601198613643646,0.43222272396087646,0.4479401707649231,0.2194899022579193]],\"zmax\":0.7789613008499146,\"zmin\":-0.7789613008499146,\"type\":\"heatmap\",\"xaxis\":\"x24\",\"yaxis\":\"y24\"}],                        {\"template\":{\"data\":{\"histogram2dcontour\":[{\"type\":\"histogram2dcontour\",\"colorbar\":{\"outlinewidth\":0,\"ticks\":\"\"},\"colorscale\":[[0.0,\"#0d0887\"],[0.1111111111111111,\"#46039f\"],[0.2222222222222222,\"#7201a8\"],[0.3333333333333333,\"#9c179e\"],[0.4444444444444444,\"#bd3786\"],[0.5555555555555556,\"#d8576b\"],[0.6666666666666666,\"#ed7953\"],[0.7777777777777778,\"#fb9f3a\"],[0.8888888888888888,\"#fdca26\"],[1.0,\"#f0f921\"]]}],\"choropleth\":[{\"type\":\"choropleth\",\"colorbar\":{\"outlinewidth\":0,\"ticks\":\"\"}}],\"histogram2d\":[{\"type\":\"histogram2d\",\"colorbar\":{\"outlinewidth\":0,\"ticks\":\"\"},\"colorscale\":[[0.0,\"#0d0887\"],[0.1111111111111111,\"#46039f\"],[0.2222222222222222,\"#7201a8\"],[0.3333333333333333,\"#9c179e\"],[0.4444444444444444,\"#bd3786\"],[0.5555555555555556,\"#d8576b\"],[0.6666666666666666,\"#ed7953\"],[0.7777777777777778,\"#fb9f3a\"],[0.8888888888888888,\"#fdca26\"],[1.0,\"#f0f921\"]]}],\"heatmap\":[{\"type\":\"heatmap\",\"colorbar\":{\"outlinewidth\":0,\"ticks\":\"\"},\"colorscale\":[[0.0,\"#0d0887\"],[0.1111111111111111,\"#46039f\"],[0.2222222222222222,\"#7201a8\"],[0.3333333333333333,\"#9c179e\"],[0.4444444444444444,\"#bd3786\"],[0.5555555555555556,\"#d8576b\"],[0.6666666666666666,\"#ed7953\"],[0.7777777777777778,\"#fb9f3a\"],[0.8888888888888888,\"#fdca26\"],[1.0,\"#f0f921\"]]}],\"heatmapgl\":[{\"type\":\"heatmapgl\",\"colorbar\":{\"outlinewidth\":0,\"ticks\":\"\"},\"colorscale\":[[0.0,\"#0d0887\"],[0.1111111111111111,\"#46039f\"],[0.2222222222222222,\"#7201a8\"],[0.3333333333333333,\"#9c179e\"],[0.4444444444444444,\"#bd3786\"],[0.5555555555555556,\"#d8576b\"],[0.6666666666666666,\"#ed7953\"],[0.7777777777777778,\"#fb9f3a\"],[0.8888888888888888,\"#fdca26\"],[1.0,\"#f0f921\"]]}],\"contourcarpet\":[{\"type\":\"contourcarpet\",\"colorbar\":{\"outlinewidth\":0,\"ticks\":\"\"}}],\"contour\":[{\"type\":\"contour\",\"colorbar\":{\"outlinewidth\":0,\"ticks\":\"\"},\"colorscale\":[[0.0,\"#0d0887\"],[0.1111111111111111,\"#46039f\"],[0.2222222222222222,\"#7201a8\"],[0.3333333333333333,\"#9c179e\"],[0.4444444444444444,\"#bd3786\"],[0.5555555555555556,\"#d8576b\"],[0.6666666666666666,\"#ed7953\"],[0.7777777777777778,\"#fb9f3a\"],[0.8888888888888888,\"#fdca26\"],[1.0,\"#f0f921\"]]}],\"surface\":[{\"type\":\"surface\",\"colorbar\":{\"outlinewidth\":0,\"ticks\":\"\"},\"colorscale\":[[0.0,\"#0d0887\"],[0.1111111111111111,\"#46039f\"],[0.2222222222222222,\"#7201a8\"],[0.3333333333333333,\"#9c179e\"],[0.4444444444444444,\"#bd3786\"],[0.5555555555555556,\"#d8576b\"],[0.6666666666666666,\"#ed7953\"],[0.7777777777777778,\"#fb9f3a\"],[0.8888888888888888,\"#fdca26\"],[1.0,\"#f0f921\"]]}],\"mesh3d\":[{\"type\":\"mesh3d\",\"colorbar\":{\"outlinewidth\":0,\"ticks\":\"\"}}],\"scatter\":[{\"fillpattern\":{\"fillmode\":\"overlay\",\"size\":10,\"solidity\":0.2},\"type\":\"scatter\"}],\"parcoords\":[{\"type\":\"parcoords\",\"line\":{\"colorbar\":{\"outlinewidth\":0,\"ticks\":\"\"}}}],\"scatterpolargl\":[{\"type\":\"scatterpolargl\",\"marker\":{\"colorbar\":{\"outlinewidth\":0,\"ticks\":\"\"}}}],\"bar\":[{\"error_x\":{\"color\":\"#2a3f5f\"},\"error_y\":{\"color\":\"#2a3f5f\"},\"marker\":{\"line\":{\"color\":\"#E5ECF6\",\"width\":0.5},\"pattern\":{\"fillmode\":\"overlay\",\"size\":10,\"solidity\":0.2}},\"type\":\"bar\"}],\"scattergeo\":[{\"type\":\"scattergeo\",\"marker\":{\"colorbar\":{\"outlinewidth\":0,\"ticks\":\"\"}}}],\"scatterpolar\":[{\"type\":\"scatterpolar\",\"marker\":{\"colorbar\":{\"outlinewidth\":0,\"ticks\":\"\"}}}],\"histogram\":[{\"marker\":{\"pattern\":{\"fillmode\":\"overlay\",\"size\":10,\"solidity\":0.2}},\"type\":\"histogram\"}],\"scattergl\":[{\"type\":\"scattergl\",\"marker\":{\"colorbar\":{\"outlinewidth\":0,\"ticks\":\"\"}}}],\"scatter3d\":[{\"type\":\"scatter3d\",\"line\":{\"colorbar\":{\"outlinewidth\":0,\"ticks\":\"\"}},\"marker\":{\"colorbar\":{\"outlinewidth\":0,\"ticks\":\"\"}}}],\"scattermapbox\":[{\"type\":\"scattermapbox\",\"marker\":{\"colorbar\":{\"outlinewidth\":0,\"ticks\":\"\"}}}],\"scatterternary\":[{\"type\":\"scatterternary\",\"marker\":{\"colorbar\":{\"outlinewidth\":0,\"ticks\":\"\"}}}],\"scattercarpet\":[{\"type\":\"scattercarpet\",\"marker\":{\"colorbar\":{\"outlinewidth\":0,\"ticks\":\"\"}}}],\"carpet\":[{\"aaxis\":{\"endlinecolor\":\"#2a3f5f\",\"gridcolor\":\"white\",\"linecolor\":\"white\",\"minorgridcolor\":\"white\",\"startlinecolor\":\"#2a3f5f\"},\"baxis\":{\"endlinecolor\":\"#2a3f5f\",\"gridcolor\":\"white\",\"linecolor\":\"white\",\"minorgridcolor\":\"white\",\"startlinecolor\":\"#2a3f5f\"},\"type\":\"carpet\"}],\"table\":[{\"cells\":{\"fill\":{\"color\":\"#EBF0F8\"},\"line\":{\"color\":\"white\"}},\"header\":{\"fill\":{\"color\":\"#C8D4E3\"},\"line\":{\"color\":\"white\"}},\"type\":\"table\"}],\"barpolar\":[{\"marker\":{\"line\":{\"color\":\"#E5ECF6\",\"width\":0.5},\"pattern\":{\"fillmode\":\"overlay\",\"size\":10,\"solidity\":0.2}},\"type\":\"barpolar\"}],\"pie\":[{\"automargin\":true,\"type\":\"pie\"}]},\"layout\":{\"autotypenumbers\":\"strict\",\"colorway\":[\"#636efa\",\"#EF553B\",\"#00cc96\",\"#ab63fa\",\"#FFA15A\",\"#19d3f3\",\"#FF6692\",\"#B6E880\",\"#FF97FF\",\"#FECB52\"],\"font\":{\"color\":\"#2a3f5f\"},\"hovermode\":\"closest\",\"hoverlabel\":{\"align\":\"left\"},\"paper_bgcolor\":\"white\",\"plot_bgcolor\":\"#E5ECF6\",\"polar\":{\"bgcolor\":\"#E5ECF6\",\"angularaxis\":{\"gridcolor\":\"white\",\"linecolor\":\"white\",\"ticks\":\"\"},\"radialaxis\":{\"gridcolor\":\"white\",\"linecolor\":\"white\",\"ticks\":\"\"}},\"ternary\":{\"bgcolor\":\"#E5ECF6\",\"aaxis\":{\"gridcolor\":\"white\",\"linecolor\":\"white\",\"ticks\":\"\"},\"baxis\":{\"gridcolor\":\"white\",\"linecolor\":\"white\",\"ticks\":\"\"},\"caxis\":{\"gridcolor\":\"white\",\"linecolor\":\"white\",\"ticks\":\"\"}},\"coloraxis\":{\"colorbar\":{\"outlinewidth\":0,\"ticks\":\"\"}},\"colorscale\":{\"sequential\":[[0.0,\"#0d0887\"],[0.1111111111111111,\"#46039f\"],[0.2222222222222222,\"#7201a8\"],[0.3333333333333333,\"#9c179e\"],[0.4444444444444444,\"#bd3786\"],[0.5555555555555556,\"#d8576b\"],[0.6666666666666666,\"#ed7953\"],[0.7777777777777778,\"#fb9f3a\"],[0.8888888888888888,\"#fdca26\"],[1.0,\"#f0f921\"]],\"sequentialminus\":[[0.0,\"#0d0887\"],[0.1111111111111111,\"#46039f\"],[0.2222222222222222,\"#7201a8\"],[0.3333333333333333,\"#9c179e\"],[0.4444444444444444,\"#bd3786\"],[0.5555555555555556,\"#d8576b\"],[0.6666666666666666,\"#ed7953\"],[0.7777777777777778,\"#fb9f3a\"],[0.8888888888888888,\"#fdca26\"],[1.0,\"#f0f921\"]],\"diverging\":[[0,\"#8e0152\"],[0.1,\"#c51b7d\"],[0.2,\"#de77ae\"],[0.3,\"#f1b6da\"],[0.4,\"#fde0ef\"],[0.5,\"#f7f7f7\"],[0.6,\"#e6f5d0\"],[0.7,\"#b8e186\"],[0.8,\"#7fbc41\"],[0.9,\"#4d9221\"],[1,\"#276419\"]]},\"xaxis\":{\"gridcolor\":\"white\",\"linecolor\":\"white\",\"ticks\":\"\",\"title\":{\"standoff\":15},\"zerolinecolor\":\"white\",\"automargin\":true,\"zerolinewidth\":2},\"yaxis\":{\"gridcolor\":\"white\",\"linecolor\":\"white\",\"ticks\":\"\",\"title\":{\"standoff\":15},\"zerolinecolor\":\"white\",\"automargin\":true,\"zerolinewidth\":2},\"scene\":{\"xaxis\":{\"backgroundcolor\":\"#E5ECF6\",\"gridcolor\":\"white\",\"linecolor\":\"white\",\"showbackground\":true,\"ticks\":\"\",\"zerolinecolor\":\"white\",\"gridwidth\":2},\"yaxis\":{\"backgroundcolor\":\"#E5ECF6\",\"gridcolor\":\"white\",\"linecolor\":\"white\",\"showbackground\":true,\"ticks\":\"\",\"zerolinecolor\":\"white\",\"gridwidth\":2},\"zaxis\":{\"backgroundcolor\":\"#E5ECF6\",\"gridcolor\":\"white\",\"linecolor\":\"white\",\"showbackground\":true,\"ticks\":\"\",\"zerolinecolor\":\"white\",\"gridwidth\":2}},\"shapedefaults\":{\"line\":{\"color\":\"#2a3f5f\"}},\"annotationdefaults\":{\"arrowcolor\":\"#2a3f5f\",\"arrowhead\":0,\"arrowwidth\":1},\"geo\":{\"bgcolor\":\"white\",\"landcolor\":\"#E5ECF6\",\"subunitcolor\":\"white\",\"showland\":true,\"showlakes\":true,\"lakecolor\":\"white\"},\"title\":{\"x\":0.05},\"mapbox\":{\"style\":\"light\"}}},\"xaxis\":{\"anchor\":\"y\",\"domain\":[0.0,0.103125]},\"yaxis\":{\"anchor\":\"x\",\"domain\":[0.7333333333333334,1.0]},\"xaxis2\":{\"anchor\":\"y2\",\"domain\":[0.128125,0.23124999999999998]},\"yaxis2\":{\"anchor\":\"x2\",\"domain\":[0.7333333333333334,1.0]},\"xaxis3\":{\"anchor\":\"y3\",\"domain\":[0.25625,0.359375]},\"yaxis3\":{\"anchor\":\"x3\",\"domain\":[0.7333333333333334,1.0]},\"xaxis4\":{\"anchor\":\"y4\",\"domain\":[0.38437499999999997,0.48749999999999993]},\"yaxis4\":{\"anchor\":\"x4\",\"domain\":[0.7333333333333334,1.0]},\"xaxis5\":{\"anchor\":\"y5\",\"domain\":[0.5125,0.615625]},\"yaxis5\":{\"anchor\":\"x5\",\"domain\":[0.7333333333333334,1.0]},\"xaxis6\":{\"anchor\":\"y6\",\"domain\":[0.640625,0.74375]},\"yaxis6\":{\"anchor\":\"x6\",\"domain\":[0.7333333333333334,1.0]},\"xaxis7\":{\"anchor\":\"y7\",\"domain\":[0.76875,0.8718750000000001]},\"yaxis7\":{\"anchor\":\"x7\",\"domain\":[0.7333333333333334,1.0]},\"xaxis8\":{\"anchor\":\"y8\",\"domain\":[0.8968750000000001,1.0]},\"yaxis8\":{\"anchor\":\"x8\",\"domain\":[0.7333333333333334,1.0]},\"xaxis9\":{\"anchor\":\"y9\",\"domain\":[0.0,0.103125]},\"yaxis9\":{\"anchor\":\"x9\",\"domain\":[0.3666666666666667,0.6333333333333333]},\"xaxis10\":{\"anchor\":\"y10\",\"domain\":[0.128125,0.23124999999999998]},\"yaxis10\":{\"anchor\":\"x10\",\"domain\":[0.3666666666666667,0.6333333333333333]},\"xaxis11\":{\"anchor\":\"y11\",\"domain\":[0.25625,0.359375]},\"yaxis11\":{\"anchor\":\"x11\",\"domain\":[0.3666666666666667,0.6333333333333333]},\"xaxis12\":{\"anchor\":\"y12\",\"domain\":[0.38437499999999997,0.48749999999999993]},\"yaxis12\":{\"anchor\":\"x12\",\"domain\":[0.3666666666666667,0.6333333333333333]},\"xaxis13\":{\"anchor\":\"y13\",\"domain\":[0.5125,0.615625]},\"yaxis13\":{\"anchor\":\"x13\",\"domain\":[0.3666666666666667,0.6333333333333333]},\"xaxis14\":{\"anchor\":\"y14\",\"domain\":[0.640625,0.74375]},\"yaxis14\":{\"anchor\":\"x14\",\"domain\":[0.3666666666666667,0.6333333333333333]},\"xaxis15\":{\"anchor\":\"y15\",\"domain\":[0.76875,0.8718750000000001]},\"yaxis15\":{\"anchor\":\"x15\",\"domain\":[0.3666666666666667,0.6333333333333333]},\"xaxis16\":{\"anchor\":\"y16\",\"domain\":[0.8968750000000001,1.0]},\"yaxis16\":{\"anchor\":\"x16\",\"domain\":[0.3666666666666667,0.6333333333333333]},\"xaxis17\":{\"anchor\":\"y17\",\"domain\":[0.0,0.103125]},\"yaxis17\":{\"anchor\":\"x17\",\"domain\":[0.0,0.26666666666666666]},\"xaxis18\":{\"anchor\":\"y18\",\"domain\":[0.128125,0.23124999999999998]},\"yaxis18\":{\"anchor\":\"x18\",\"domain\":[0.0,0.26666666666666666]},\"xaxis19\":{\"anchor\":\"y19\",\"domain\":[0.25625,0.359375]},\"yaxis19\":{\"anchor\":\"x19\",\"domain\":[0.0,0.26666666666666666]},\"xaxis20\":{\"anchor\":\"y20\",\"domain\":[0.38437499999999997,0.48749999999999993]},\"yaxis20\":{\"anchor\":\"x20\",\"domain\":[0.0,0.26666666666666666]},\"xaxis21\":{\"anchor\":\"y21\",\"domain\":[0.5125,0.615625]},\"yaxis21\":{\"anchor\":\"x21\",\"domain\":[0.0,0.26666666666666666]},\"xaxis22\":{\"anchor\":\"y22\",\"domain\":[0.640625,0.74375]},\"yaxis22\":{\"anchor\":\"x22\",\"domain\":[0.0,0.26666666666666666]},\"xaxis23\":{\"anchor\":\"y23\",\"domain\":[0.76875,0.8718750000000001]},\"yaxis23\":{\"anchor\":\"x23\",\"domain\":[0.0,0.26666666666666666]},\"xaxis24\":{\"anchor\":\"y24\",\"domain\":[0.8968750000000001,1.0]},\"yaxis24\":{\"anchor\":\"x24\",\"domain\":[0.0,0.26666666666666666]},\"annotations\":[{\"font\":{\"size\":16},\"showarrow\":false,\"text\":\"Layer 1, Head 0\",\"x\":0.0515625,\"xanchor\":\"center\",\"xref\":\"paper\",\"y\":1.0,\"yanchor\":\"bottom\",\"yref\":\"paper\"},{\"font\":{\"size\":16},\"showarrow\":false,\"text\":\"Layer 1, Head 1\",\"x\":0.1796875,\"xanchor\":\"center\",\"xref\":\"paper\",\"y\":1.0,\"yanchor\":\"bottom\",\"yref\":\"paper\"},{\"font\":{\"size\":16},\"showarrow\":false,\"text\":\"Layer 1, Head 2\",\"x\":0.3078125,\"xanchor\":\"center\",\"xref\":\"paper\",\"y\":1.0,\"yanchor\":\"bottom\",\"yref\":\"paper\"},{\"font\":{\"size\":16},\"showarrow\":false,\"text\":\"Layer 1, Head 3\",\"x\":0.4359375,\"xanchor\":\"center\",\"xref\":\"paper\",\"y\":1.0,\"yanchor\":\"bottom\",\"yref\":\"paper\"},{\"font\":{\"size\":16},\"showarrow\":false,\"text\":\"Layer 1, Head 4\",\"x\":0.5640624999999999,\"xanchor\":\"center\",\"xref\":\"paper\",\"y\":1.0,\"yanchor\":\"bottom\",\"yref\":\"paper\"},{\"font\":{\"size\":16},\"showarrow\":false,\"text\":\"Layer 1, Head 5\",\"x\":0.6921875,\"xanchor\":\"center\",\"xref\":\"paper\",\"y\":1.0,\"yanchor\":\"bottom\",\"yref\":\"paper\"},{\"font\":{\"size\":16},\"showarrow\":false,\"text\":\"Layer 1, Head 6\",\"x\":0.8203125,\"xanchor\":\"center\",\"xref\":\"paper\",\"y\":1.0,\"yanchor\":\"bottom\",\"yref\":\"paper\"},{\"font\":{\"size\":16},\"showarrow\":false,\"text\":\"Layer 1, Head 7\",\"x\":0.9484375,\"xanchor\":\"center\",\"xref\":\"paper\",\"y\":1.0,\"yanchor\":\"bottom\",\"yref\":\"paper\"},{\"font\":{\"size\":16},\"showarrow\":false,\"text\":\"Layer 2, Head 0\",\"x\":0.0515625,\"xanchor\":\"center\",\"xref\":\"paper\",\"y\":0.6333333333333333,\"yanchor\":\"bottom\",\"yref\":\"paper\"},{\"font\":{\"size\":16},\"showarrow\":false,\"text\":\"Layer 2, Head 1\",\"x\":0.1796875,\"xanchor\":\"center\",\"xref\":\"paper\",\"y\":0.6333333333333333,\"yanchor\":\"bottom\",\"yref\":\"paper\"},{\"font\":{\"size\":16},\"showarrow\":false,\"text\":\"Layer 2, Head 2\",\"x\":0.3078125,\"xanchor\":\"center\",\"xref\":\"paper\",\"y\":0.6333333333333333,\"yanchor\":\"bottom\",\"yref\":\"paper\"},{\"font\":{\"size\":16},\"showarrow\":false,\"text\":\"Layer 2, Head 3\",\"x\":0.4359375,\"xanchor\":\"center\",\"xref\":\"paper\",\"y\":0.6333333333333333,\"yanchor\":\"bottom\",\"yref\":\"paper\"},{\"font\":{\"size\":16},\"showarrow\":false,\"text\":\"Layer 2, Head 4\",\"x\":0.5640624999999999,\"xanchor\":\"center\",\"xref\":\"paper\",\"y\":0.6333333333333333,\"yanchor\":\"bottom\",\"yref\":\"paper\"},{\"font\":{\"size\":16},\"showarrow\":false,\"text\":\"Layer 2, Head 5\",\"x\":0.6921875,\"xanchor\":\"center\",\"xref\":\"paper\",\"y\":0.6333333333333333,\"yanchor\":\"bottom\",\"yref\":\"paper\"},{\"font\":{\"size\":16},\"showarrow\":false,\"text\":\"Layer 2, Head 6\",\"x\":0.8203125,\"xanchor\":\"center\",\"xref\":\"paper\",\"y\":0.6333333333333333,\"yanchor\":\"bottom\",\"yref\":\"paper\"},{\"font\":{\"size\":16},\"showarrow\":false,\"text\":\"Layer 2, Head 7\",\"x\":0.9484375,\"xanchor\":\"center\",\"xref\":\"paper\",\"y\":0.6333333333333333,\"yanchor\":\"bottom\",\"yref\":\"paper\"},{\"font\":{\"size\":16},\"showarrow\":false,\"text\":\"Layer 3, Head 0\",\"x\":0.0515625,\"xanchor\":\"center\",\"xref\":\"paper\",\"y\":0.26666666666666666,\"yanchor\":\"bottom\",\"yref\":\"paper\"},{\"font\":{\"size\":16},\"showarrow\":false,\"text\":\"Layer 3, Head 1\",\"x\":0.1796875,\"xanchor\":\"center\",\"xref\":\"paper\",\"y\":0.26666666666666666,\"yanchor\":\"bottom\",\"yref\":\"paper\"},{\"font\":{\"size\":16},\"showarrow\":false,\"text\":\"Layer 3, Head 2\",\"x\":0.3078125,\"xanchor\":\"center\",\"xref\":\"paper\",\"y\":0.26666666666666666,\"yanchor\":\"bottom\",\"yref\":\"paper\"},{\"font\":{\"size\":16},\"showarrow\":false,\"text\":\"Layer 3, Head 3\",\"x\":0.4359375,\"xanchor\":\"center\",\"xref\":\"paper\",\"y\":0.26666666666666666,\"yanchor\":\"bottom\",\"yref\":\"paper\"},{\"font\":{\"size\":16},\"showarrow\":false,\"text\":\"Layer 3, Head 4\",\"x\":0.5640624999999999,\"xanchor\":\"center\",\"xref\":\"paper\",\"y\":0.26666666666666666,\"yanchor\":\"bottom\",\"yref\":\"paper\"},{\"font\":{\"size\":16},\"showarrow\":false,\"text\":\"Layer 3, Head 5\",\"x\":0.6921875,\"xanchor\":\"center\",\"xref\":\"paper\",\"y\":0.26666666666666666,\"yanchor\":\"bottom\",\"yref\":\"paper\"},{\"font\":{\"size\":16},\"showarrow\":false,\"text\":\"Layer 3, Head 6\",\"x\":0.8203125,\"xanchor\":\"center\",\"xref\":\"paper\",\"y\":0.26666666666666666,\"yanchor\":\"bottom\",\"yref\":\"paper\"},{\"font\":{\"size\":16},\"showarrow\":false,\"text\":\"Layer 3, Head 7\",\"x\":0.9484375,\"xanchor\":\"center\",\"xref\":\"paper\",\"y\":0.26666666666666666,\"yanchor\":\"bottom\",\"yref\":\"paper\"}],\"margin\":{\"t\":100},\"title\":{\"text\":\"How much does each Head add to the Yours vs Mine direction, when Flipped AND Not Yours\"},\"width\":1600,\"height\":700},                        {\"responsive\": true}                    ).then(function(){\n",
       "                            \n",
       "var gd = document.getElementById('3b9221f2-1504-4e44-91d7-c2eb2dfdf290');\n",
       "var x = new MutationObserver(function (mutations, observer) {{\n",
       "        var display = window.getComputedStyle(gd).display;\n",
       "        if (!display || display === 'none') {{\n",
       "            console.log([gd, 'removed!']);\n",
       "            Plotly.purge(gd);\n",
       "            observer.disconnect();\n",
       "        }}\n",
       "}});\n",
       "\n",
       "// Listen for the removal of the full notebook cells\n",
       "var notebookContainer = gd.closest('#notebook-container');\n",
       "if (notebookContainer) {{\n",
       "    x.observe(notebookContainer, {childList: true});\n",
       "}}\n",
       "\n",
       "// Listen for the clearing of the current output cell\n",
       "var outputEl = gd.closest('.output');\n",
       "if (outputEl) {{\n",
       "    x.observe(outputEl, {childList: true});\n",
       "}}\n",
       "\n",
       "                        })                };                });            </script>        </div>"
      ]
     },
     "metadata": {},
     "output_type": "display_data"
    }
   ],
   "source": [
    "def plot_OV_circuits(input_direction_1 : Tuple[str, str], input_direction_2 : Tuple[str, str], output_direction_1 : Tuple[str, str], output_direction_2 : Tuple[str, str]):\n",
    "    direction1_vs_direction2 : Float[Tensor, \"layer head rows cols\"] = t.zeros((8, 8, 8, 8))\n",
    "    for layer in range(1, 8):\n",
    "        probe_prev_layer = t.zeros(size=(512, 8, 8)).to(device)\n",
    "        probe_this_layer_1 = get_probe(layer, output_direction_1[0], \"post\")\n",
    "        probe_this_layer_1 = probe_this_layer_1[0, :, :, :, get_direction_int(output_direction_1[1])]\n",
    "        probe_this_layer_2 = get_probe(layer, output_direction_2[0], \"post\")\n",
    "        probe_this_layer_2 = probe_this_layer_2[0, :, :, :, get_direction_int(output_direction_2[1])]\n",
    "        probe_prev_layer_1 = get_probe(layer, input_direction_1[0], \"post\")\n",
    "        probe_prev_layer_1 = probe_prev_layer_1[0, :, :, :, get_direction_int(input_direction_1[1])]\n",
    "        probe_prev_layer_2 = get_probe(layer, input_direction_2[0], \"post\")\n",
    "        probe_prev_layer_2 = probe_prev_layer_2[0, :, :, :, get_direction_int(input_direction_2[1])]\n",
    "        '''for probe_name in input_directions:\n",
    "            probe = get_probe(layer - 1, probe_name, \"post\")\n",
    "            for direction_name in input_directions[probe_name]:\n",
    "                probe_direction = probe[0, :, :, :, get_direction_int(direction_name)]\n",
    "                probe_prev_layer += probe_direction'''\n",
    "        probe_prev_layer = probe_prev_layer_1 - probe_prev_layer_2\n",
    "        for head in range(8):\n",
    "            positions = list(range(0, 64))\n",
    "            OV_layer_head = OV.AB[layer, head].detach()\n",
    "            # mine_vs_yours = t.zeros((8, 8))\n",
    "            for pos_str in positions:\n",
    "                # pos_str = to_string(pos_int)\n",
    "                tile = string_to_tile(pos_str)\n",
    "                result = einops.einsum(probe_prev_layer[:, *tile], OV_layer_head, \"d_model_in, d_model_in d_model_out -> d_model_out\")\n",
    "                # direction1_vs_direction2 = t.dot(result, probe_this_layer_1[:, *tile]) - t.dot(result, probe_this_layer_2[:, *tile])\n",
    "                # direction1_vs_direction2[head, layer, *tile] = cosine_similiarity(result, probe_this_layer_1[:, *tile]) - cosine_similiarity(result, probe_this_layer_2[:, *tile])\n",
    "                direction1_vs_direction2[head, layer, *tile] = cosine_similiarity(result, probe_this_layer_1[:, *tile] - probe_this_layer_2[:, *tile])\n",
    "    return direction1_vs_direction2\n",
    "\n",
    "\n",
    "input_direction1 = (\"flipped\", \"flipped\")\n",
    "input_direction2= (\"linear\", \"yours\")\n",
    "direction1 = (\"linear\", \"yours\")\n",
    "direction2 = (\"linear\", \"mine\")\n",
    "direction1_vs_direction2_flipped = plot_OV_circuits(input_direction1, input_direction2, direction1, direction2)\n",
    "'''input_directions = {\n",
    "    \"linear\": [\"yours\"]\n",
    "}\n",
    "direction1 = (\"linear\", \"mine\")\n",
    "direction2 = (\"linear\", \"yours\")\n",
    "direction1_vs_direction2_yours = plot_OV_circuits(input_directions, direction1, direction2)\n",
    "\n",
    "direction1_vs_direction2_flipped = direction1_vs_direction2_flipped[:, 1:3]\n",
    "direction1_vs_direction2_yours = direction1_vs_direction2_yours[:, 1:3]\n",
    "direction1_vs_direction2 = t.cat((direction1_vs_direction2_flipped, direction1_vs_direction2_yours), dim=1)'''\n",
    "\n",
    "plot_boards_general(\n",
    "        x_labels=[f\"Head {i}\" for i in range(8)],\n",
    "        y_labels=[f\"Layer {i}\" for i in range(1, 4)],\n",
    "        boards=direction1_vs_direction2_flipped[:, 1:4],\n",
    "        title_text = \"How much does each Head add to the Yours vs Mine direction, when Flipped AND Not Yours\",\n",
    "        save=True,\n",
    "    )"
   ]
  },
  {
   "cell_type": "markdown",
   "metadata": {},
   "source": [
    "# Old"
   ]
  },
  {
   "cell_type": "code",
   "execution_count": null,
   "metadata": {},
   "outputs": [],
   "source": [
    "# Ich will Heads aufteilen in MINE und YOURS attending und vielleicht wie far Back. Dann gabs auch noch First Token und Last token\n",
    "# attention to itself, last, mine, yours, first, how far back (how do I measure this what is the function with which this decreases?)\n",
    "# First do the mine / yours distinction then look at the function\n",
    "def get_mine_their_attention_score(QK : Float[Tensor, \"d_model_q d_model_k\"]):\n",
    "    mine_attn = 0\n",
    "    count = 0\n",
    "    for pos in range(60):\n",
    "        pos_emb = model.W_E[pos, :]\n",
    "        for pos_mine in range(pos- 2, 0, -2):\n",
    "            count += 1\n",
    "            pos_mine_emb = model.W_E[pos_mine, :]\n",
    "            attn = einops.einsum(pos_mine_emb, QK, pos_emb, \"d_model_q, d_model_q d_model_k, d_model_k -> \").item()\n",
    "            mine_attn += attn\n",
    "    return mine_attn / count\n",
    "\n",
    "for layer in range(8):\n",
    "    for head in range(8):\n",
    "        QK = model.OV.AB[layer, head]\n",
    "        # (f\"L{layer}H{head}: {get_mine_their_attention_score(QK)}\")\n",
    "\n",
    "get_mine_their_attention_score(QK)"
   ]
  }
 ],
 "metadata": {
  "kernelspec": {
   "display_name": "othello-env",
   "language": "python",
   "name": "python3"
  },
  "language_info": {
   "codemirror_mode": {
    "name": "ipython",
    "version": 3
   },
   "file_extension": ".py",
   "mimetype": "text/x-python",
   "name": "python",
   "nbconvert_exporter": "python",
   "pygments_lexer": "ipython3",
   "version": "3.11.9"
  }
 },
 "nbformat": 4,
 "nbformat_minor": 2
}
