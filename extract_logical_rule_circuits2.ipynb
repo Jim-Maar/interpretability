{
 "cells": [
  {
   "cell_type": "code",
   "execution_count": 1,
   "metadata": {},
   "outputs": [
    {
     "name": "stderr",
     "output_type": "stream",
     "text": [
      "/hpi/fs00/home/jim.maar/miniconda3/envs/othello-env/lib/python3.11/site-packages/accelerate/utils/imports.py:274: UserWarning: `ACCELERATE_DISABLE_RICH` is deprecated and will be removed in v0.22.0 and deactivated by default. Please use `ACCELERATE_ENABLE_RICH` if you wish to use `rich`.\n",
      "  warnings.warn(\n"
     ]
    }
   ],
   "source": [
    "from interpreting_neurons_utils import *"
   ]
  },
  {
   "cell_type": "markdown",
   "metadata": {},
   "source": [
    "- Focus Games\n",
    "    - Iterate over layer, neurons, games\n",
    "    - Iterate over games\n",
    "    - If neuron activation above threshold, do \n",
    "        - Get all probe features\n",
    "        - Do Cosine Similiarity / logit attribution\n",
    "        - Save Group of important Features (First just plot Histogram though)\n",
    "        - print fraction of Groups"
   ]
  },
  {
   "cell_type": "code",
   "execution_count": 15,
   "metadata": {},
   "outputs": [],
   "source": [
    "class ProbeMetadata:\n",
    "    def __init__(self, name, direction_int, row, col):\n",
    "        self.name = name\n",
    "        self.direction_int = direction_int\n",
    "        self.row = row\n",
    "        self.col = col\n",
    "        self.direction_str = get_direction_str(self.name, direction_int)\n",
    "        self.t = (row, col)\n",
    "        self.label = tuple_to_label(self.t)\n",
    "        self.weights = None\n",
    "        self.resid_dot_product = None\n",
    "\n",
    "    def get_probe(self, layer, module=\"mid\"):\n",
    "        if self.weights is None:\n",
    "            self.weights = get_probe(layer, self.name, module)[0, :, self.row, self.col, self.direction_int]\n",
    "        return self.weights\n",
    "\n",
    "    "
   ]
  },
  {
   "cell_type": "code",
   "execution_count": 16,
   "metadata": {},
   "outputs": [],
   "source": [
    "import pickle"
   ]
  },
  {
   "cell_type": "code",
   "execution_count": 17,
   "metadata": {},
   "outputs": [],
   "source": [
    "layer = 1\n",
    "coefficients = pickle.load(open(f\"coefficients/coefficients_L{layer}_{0}_{7}.pth\", \"rb\"))\n",
    "base_resid = pickle.load(open(f\"coefficients/base_resid_{0}_{7}.pth\", \"rb\"))"
   ]
  },
  {
   "cell_type": "code",
   "execution_count": 19,
   "metadata": {},
   "outputs": [
    {
     "name": "stdout",
     "output_type": "stream",
     "text": [
      "Game 0, pos 47, neuron 426, neuron_act 0.6182472705841064\n",
      "kock\n"
     ]
    },
    {
     "data": {
      "application/vnd.plotly.v1+json": {
       "config": {
        "plotlyServerURL": "https://plot.ly"
       },
       "data": [
        {
         "hovertemplate": "x=%{x}<br>y=%{y}<extra></extra>",
         "legendgroup": "",
         "marker": {
          "color": "#636efa",
          "symbol": "circle"
         },
         "mode": "markers",
         "name": "",
         "orientation": "h",
         "showlegend": false,
         "type": "scatter",
         "x": [
          0.28128090500831604,
          0.03733290359377861,
          0.019579337909817696,
          0.018639666959643364,
          0.014170249924063683,
          0.013218265026807785,
          0.013173242099583149,
          0.012284768745303154,
          0.011302974075078964,
          0.009952235966920853,
          0.008958360180258751,
          0.007103136740624905,
          0.006828377954661846,
          0.006625226233154535,
          0.00599328801035881,
          0.005925687029957771,
          0.005042141303420067,
          0.004951266571879387,
          0.0046042646281421185,
          0.004586279392242432,
          0.00407200213521719,
          0.003830770030617714,
          0.003738157683983445,
          0.003352057421579957,
          0.0032009563874453306,
          0.0020591006614267826,
          0.001977524720132351,
          0.0017122155986726284,
          0.001606055535376072,
          0.0007791903335601091,
          0.0005329032428562641,
          0.000308087095618248,
          0.0002680742181837559,
          -0.00013776984997093678,
          -0.000530301476828754,
          -0.0010742901358753443,
          -0.0025144792161881924,
          -0.0028311321511864662,
          -0.002865169197320938,
          -0.002961370162665844,
          -0.003385471412912011,
          -0.0033888223115354776,
          -0.003512183204293251,
          -0.003820042358711362,
          -0.0038709917571395636,
          -0.005075489170849323,
          -0.0056231883354485035,
          -0.0057192714884877205,
          -0.005814927630126476,
          -0.006289180833846331,
          -0.006396053358912468,
          -0.006479245610535145,
          -0.007253800984472036,
          -0.007551620248705149,
          -0.0076742214150726795,
          -0.008425163105130196,
          -0.00903304386883974,
          -0.009332838468253613,
          -0.009448297321796417,
          -0.010337530635297298,
          -0.010646205395460129,
          -0.011065068654716015,
          -0.011399537324905396,
          -0.014996916055679321,
          -0.02393065020442009,
          -0.025087649002671242,
          -0.03252524882555008
         ],
         "xaxis": "x",
         "y": [
          "E6 placed",
          "F6 mine",
          "G6 empty",
          "E5 flipped",
          "F5 flipped",
          "E7 mine",
          "F7 mine",
          "H6 mine",
          "H5 mine",
          "C7 mine",
          "G7 mine",
          "H2 mine",
          "B7 mine",
          "H4 mine",
          "H3 mine",
          "D0 mine",
          "B0 mine",
          "G2 mine",
          "A4 yours",
          "G3 mine",
          "A1 yours",
          "F0 yours",
          "C0 mine",
          "F1 mine",
          "H1 yours",
          "C1 mine",
          "B4 mine",
          "D6 yours",
          "E0 mine",
          "B3 mine",
          "G5 mine",
          "B1 yours",
          "B5 mine",
          "C5 mine",
          "H7 empty",
          "G4 yours",
          "C6 yours",
          "E1 yours",
          "F4 mine",
          "G1 empty",
          "A2 empty",
          "D2 mine",
          "B2 mine",
          "E6 yours",
          "D1 yours",
          "A3 empty",
          "D7 yours",
          "C2 yours",
          "B6 empty",
          "A5 empty",
          "H0 empty",
          "F5 yours",
          "F2 yours",
          "E5 yours",
          "C3 yours",
          "F3 yours",
          "D5 yours",
          "G0 empty",
          "C4 yours",
          "A0 empty",
          "E2 yours",
          "A6 empty",
          "A7 empty",
          "D4 mine",
          "D3 yours",
          "E4 yours",
          "E3 yours"
         ],
         "yaxis": "y"
        }
       ],
       "layout": {
        "height": 3000,
        "legend": {
         "tracegroupgap": 0
        },
        "margin": {
         "t": 60
        },
        "template": {
         "data": {
          "bar": [
           {
            "error_x": {
             "color": "#2a3f5f"
            },
            "error_y": {
             "color": "#2a3f5f"
            },
            "marker": {
             "line": {
              "color": "#E5ECF6",
              "width": 0.5
             },
             "pattern": {
              "fillmode": "overlay",
              "size": 10,
              "solidity": 0.2
             }
            },
            "type": "bar"
           }
          ],
          "barpolar": [
           {
            "marker": {
             "line": {
              "color": "#E5ECF6",
              "width": 0.5
             },
             "pattern": {
              "fillmode": "overlay",
              "size": 10,
              "solidity": 0.2
             }
            },
            "type": "barpolar"
           }
          ],
          "carpet": [
           {
            "aaxis": {
             "endlinecolor": "#2a3f5f",
             "gridcolor": "white",
             "linecolor": "white",
             "minorgridcolor": "white",
             "startlinecolor": "#2a3f5f"
            },
            "baxis": {
             "endlinecolor": "#2a3f5f",
             "gridcolor": "white",
             "linecolor": "white",
             "minorgridcolor": "white",
             "startlinecolor": "#2a3f5f"
            },
            "type": "carpet"
           }
          ],
          "choropleth": [
           {
            "colorbar": {
             "outlinewidth": 0,
             "ticks": ""
            },
            "type": "choropleth"
           }
          ],
          "contour": [
           {
            "colorbar": {
             "outlinewidth": 0,
             "ticks": ""
            },
            "colorscale": [
             [
              0,
              "#0d0887"
             ],
             [
              0.1111111111111111,
              "#46039f"
             ],
             [
              0.2222222222222222,
              "#7201a8"
             ],
             [
              0.3333333333333333,
              "#9c179e"
             ],
             [
              0.4444444444444444,
              "#bd3786"
             ],
             [
              0.5555555555555556,
              "#d8576b"
             ],
             [
              0.6666666666666666,
              "#ed7953"
             ],
             [
              0.7777777777777778,
              "#fb9f3a"
             ],
             [
              0.8888888888888888,
              "#fdca26"
             ],
             [
              1,
              "#f0f921"
             ]
            ],
            "type": "contour"
           }
          ],
          "contourcarpet": [
           {
            "colorbar": {
             "outlinewidth": 0,
             "ticks": ""
            },
            "type": "contourcarpet"
           }
          ],
          "heatmap": [
           {
            "colorbar": {
             "outlinewidth": 0,
             "ticks": ""
            },
            "colorscale": [
             [
              0,
              "#0d0887"
             ],
             [
              0.1111111111111111,
              "#46039f"
             ],
             [
              0.2222222222222222,
              "#7201a8"
             ],
             [
              0.3333333333333333,
              "#9c179e"
             ],
             [
              0.4444444444444444,
              "#bd3786"
             ],
             [
              0.5555555555555556,
              "#d8576b"
             ],
             [
              0.6666666666666666,
              "#ed7953"
             ],
             [
              0.7777777777777778,
              "#fb9f3a"
             ],
             [
              0.8888888888888888,
              "#fdca26"
             ],
             [
              1,
              "#f0f921"
             ]
            ],
            "type": "heatmap"
           }
          ],
          "heatmapgl": [
           {
            "colorbar": {
             "outlinewidth": 0,
             "ticks": ""
            },
            "colorscale": [
             [
              0,
              "#0d0887"
             ],
             [
              0.1111111111111111,
              "#46039f"
             ],
             [
              0.2222222222222222,
              "#7201a8"
             ],
             [
              0.3333333333333333,
              "#9c179e"
             ],
             [
              0.4444444444444444,
              "#bd3786"
             ],
             [
              0.5555555555555556,
              "#d8576b"
             ],
             [
              0.6666666666666666,
              "#ed7953"
             ],
             [
              0.7777777777777778,
              "#fb9f3a"
             ],
             [
              0.8888888888888888,
              "#fdca26"
             ],
             [
              1,
              "#f0f921"
             ]
            ],
            "type": "heatmapgl"
           }
          ],
          "histogram": [
           {
            "marker": {
             "pattern": {
              "fillmode": "overlay",
              "size": 10,
              "solidity": 0.2
             }
            },
            "type": "histogram"
           }
          ],
          "histogram2d": [
           {
            "colorbar": {
             "outlinewidth": 0,
             "ticks": ""
            },
            "colorscale": [
             [
              0,
              "#0d0887"
             ],
             [
              0.1111111111111111,
              "#46039f"
             ],
             [
              0.2222222222222222,
              "#7201a8"
             ],
             [
              0.3333333333333333,
              "#9c179e"
             ],
             [
              0.4444444444444444,
              "#bd3786"
             ],
             [
              0.5555555555555556,
              "#d8576b"
             ],
             [
              0.6666666666666666,
              "#ed7953"
             ],
             [
              0.7777777777777778,
              "#fb9f3a"
             ],
             [
              0.8888888888888888,
              "#fdca26"
             ],
             [
              1,
              "#f0f921"
             ]
            ],
            "type": "histogram2d"
           }
          ],
          "histogram2dcontour": [
           {
            "colorbar": {
             "outlinewidth": 0,
             "ticks": ""
            },
            "colorscale": [
             [
              0,
              "#0d0887"
             ],
             [
              0.1111111111111111,
              "#46039f"
             ],
             [
              0.2222222222222222,
              "#7201a8"
             ],
             [
              0.3333333333333333,
              "#9c179e"
             ],
             [
              0.4444444444444444,
              "#bd3786"
             ],
             [
              0.5555555555555556,
              "#d8576b"
             ],
             [
              0.6666666666666666,
              "#ed7953"
             ],
             [
              0.7777777777777778,
              "#fb9f3a"
             ],
             [
              0.8888888888888888,
              "#fdca26"
             ],
             [
              1,
              "#f0f921"
             ]
            ],
            "type": "histogram2dcontour"
           }
          ],
          "mesh3d": [
           {
            "colorbar": {
             "outlinewidth": 0,
             "ticks": ""
            },
            "type": "mesh3d"
           }
          ],
          "parcoords": [
           {
            "line": {
             "colorbar": {
              "outlinewidth": 0,
              "ticks": ""
             }
            },
            "type": "parcoords"
           }
          ],
          "pie": [
           {
            "automargin": true,
            "type": "pie"
           }
          ],
          "scatter": [
           {
            "fillpattern": {
             "fillmode": "overlay",
             "size": 10,
             "solidity": 0.2
            },
            "type": "scatter"
           }
          ],
          "scatter3d": [
           {
            "line": {
             "colorbar": {
              "outlinewidth": 0,
              "ticks": ""
             }
            },
            "marker": {
             "colorbar": {
              "outlinewidth": 0,
              "ticks": ""
             }
            },
            "type": "scatter3d"
           }
          ],
          "scattercarpet": [
           {
            "marker": {
             "colorbar": {
              "outlinewidth": 0,
              "ticks": ""
             }
            },
            "type": "scattercarpet"
           }
          ],
          "scattergeo": [
           {
            "marker": {
             "colorbar": {
              "outlinewidth": 0,
              "ticks": ""
             }
            },
            "type": "scattergeo"
           }
          ],
          "scattergl": [
           {
            "marker": {
             "colorbar": {
              "outlinewidth": 0,
              "ticks": ""
             }
            },
            "type": "scattergl"
           }
          ],
          "scattermapbox": [
           {
            "marker": {
             "colorbar": {
              "outlinewidth": 0,
              "ticks": ""
             }
            },
            "type": "scattermapbox"
           }
          ],
          "scatterpolar": [
           {
            "marker": {
             "colorbar": {
              "outlinewidth": 0,
              "ticks": ""
             }
            },
            "type": "scatterpolar"
           }
          ],
          "scatterpolargl": [
           {
            "marker": {
             "colorbar": {
              "outlinewidth": 0,
              "ticks": ""
             }
            },
            "type": "scatterpolargl"
           }
          ],
          "scatterternary": [
           {
            "marker": {
             "colorbar": {
              "outlinewidth": 0,
              "ticks": ""
             }
            },
            "type": "scatterternary"
           }
          ],
          "surface": [
           {
            "colorbar": {
             "outlinewidth": 0,
             "ticks": ""
            },
            "colorscale": [
             [
              0,
              "#0d0887"
             ],
             [
              0.1111111111111111,
              "#46039f"
             ],
             [
              0.2222222222222222,
              "#7201a8"
             ],
             [
              0.3333333333333333,
              "#9c179e"
             ],
             [
              0.4444444444444444,
              "#bd3786"
             ],
             [
              0.5555555555555556,
              "#d8576b"
             ],
             [
              0.6666666666666666,
              "#ed7953"
             ],
             [
              0.7777777777777778,
              "#fb9f3a"
             ],
             [
              0.8888888888888888,
              "#fdca26"
             ],
             [
              1,
              "#f0f921"
             ]
            ],
            "type": "surface"
           }
          ],
          "table": [
           {
            "cells": {
             "fill": {
              "color": "#EBF0F8"
             },
             "line": {
              "color": "white"
             }
            },
            "header": {
             "fill": {
              "color": "#C8D4E3"
             },
             "line": {
              "color": "white"
             }
            },
            "type": "table"
           }
          ]
         },
         "layout": {
          "annotationdefaults": {
           "arrowcolor": "#2a3f5f",
           "arrowhead": 0,
           "arrowwidth": 1
          },
          "autotypenumbers": "strict",
          "coloraxis": {
           "colorbar": {
            "outlinewidth": 0,
            "ticks": ""
           }
          },
          "colorscale": {
           "diverging": [
            [
             0,
             "#8e0152"
            ],
            [
             0.1,
             "#c51b7d"
            ],
            [
             0.2,
             "#de77ae"
            ],
            [
             0.3,
             "#f1b6da"
            ],
            [
             0.4,
             "#fde0ef"
            ],
            [
             0.5,
             "#f7f7f7"
            ],
            [
             0.6,
             "#e6f5d0"
            ],
            [
             0.7,
             "#b8e186"
            ],
            [
             0.8,
             "#7fbc41"
            ],
            [
             0.9,
             "#4d9221"
            ],
            [
             1,
             "#276419"
            ]
           ],
           "sequential": [
            [
             0,
             "#0d0887"
            ],
            [
             0.1111111111111111,
             "#46039f"
            ],
            [
             0.2222222222222222,
             "#7201a8"
            ],
            [
             0.3333333333333333,
             "#9c179e"
            ],
            [
             0.4444444444444444,
             "#bd3786"
            ],
            [
             0.5555555555555556,
             "#d8576b"
            ],
            [
             0.6666666666666666,
             "#ed7953"
            ],
            [
             0.7777777777777778,
             "#fb9f3a"
            ],
            [
             0.8888888888888888,
             "#fdca26"
            ],
            [
             1,
             "#f0f921"
            ]
           ],
           "sequentialminus": [
            [
             0,
             "#0d0887"
            ],
            [
             0.1111111111111111,
             "#46039f"
            ],
            [
             0.2222222222222222,
             "#7201a8"
            ],
            [
             0.3333333333333333,
             "#9c179e"
            ],
            [
             0.4444444444444444,
             "#bd3786"
            ],
            [
             0.5555555555555556,
             "#d8576b"
            ],
            [
             0.6666666666666666,
             "#ed7953"
            ],
            [
             0.7777777777777778,
             "#fb9f3a"
            ],
            [
             0.8888888888888888,
             "#fdca26"
            ],
            [
             1,
             "#f0f921"
            ]
           ]
          },
          "colorway": [
           "#636efa",
           "#EF553B",
           "#00cc96",
           "#ab63fa",
           "#FFA15A",
           "#19d3f3",
           "#FF6692",
           "#B6E880",
           "#FF97FF",
           "#FECB52"
          ],
          "font": {
           "color": "#2a3f5f"
          },
          "geo": {
           "bgcolor": "white",
           "lakecolor": "white",
           "landcolor": "#E5ECF6",
           "showlakes": true,
           "showland": true,
           "subunitcolor": "white"
          },
          "hoverlabel": {
           "align": "left"
          },
          "hovermode": "closest",
          "mapbox": {
           "style": "light"
          },
          "paper_bgcolor": "white",
          "plot_bgcolor": "#E5ECF6",
          "polar": {
           "angularaxis": {
            "gridcolor": "white",
            "linecolor": "white",
            "ticks": ""
           },
           "bgcolor": "#E5ECF6",
           "radialaxis": {
            "gridcolor": "white",
            "linecolor": "white",
            "ticks": ""
           }
          },
          "scene": {
           "xaxis": {
            "backgroundcolor": "#E5ECF6",
            "gridcolor": "white",
            "gridwidth": 2,
            "linecolor": "white",
            "showbackground": true,
            "ticks": "",
            "zerolinecolor": "white"
           },
           "yaxis": {
            "backgroundcolor": "#E5ECF6",
            "gridcolor": "white",
            "gridwidth": 2,
            "linecolor": "white",
            "showbackground": true,
            "ticks": "",
            "zerolinecolor": "white"
           },
           "zaxis": {
            "backgroundcolor": "#E5ECF6",
            "gridcolor": "white",
            "gridwidth": 2,
            "linecolor": "white",
            "showbackground": true,
            "ticks": "",
            "zerolinecolor": "white"
           }
          },
          "shapedefaults": {
           "line": {
            "color": "#2a3f5f"
           }
          },
          "ternary": {
           "aaxis": {
            "gridcolor": "white",
            "linecolor": "white",
            "ticks": ""
           },
           "baxis": {
            "gridcolor": "white",
            "linecolor": "white",
            "ticks": ""
           },
           "bgcolor": "#E5ECF6",
           "caxis": {
            "gridcolor": "white",
            "linecolor": "white",
            "ticks": ""
           }
          },
          "title": {
           "x": 0.05
          },
          "xaxis": {
           "automargin": true,
           "gridcolor": "white",
           "linecolor": "white",
           "ticks": "",
           "title": {
            "standoff": 15
           },
           "zerolinecolor": "white",
           "zerolinewidth": 2
          },
          "yaxis": {
           "automargin": true,
           "gridcolor": "white",
           "linecolor": "white",
           "ticks": "",
           "title": {
            "standoff": 15
           },
           "zerolinecolor": "white",
           "zerolinewidth": 2
          }
         }
        },
        "xaxis": {
         "anchor": "y",
         "domain": [
          0,
          1
         ],
         "title": {
          "text": "x"
         }
        },
        "yaxis": {
         "anchor": "x",
         "domain": [
          0,
          1
         ],
         "title": {
          "text": "y"
         }
        }
       }
      },
      "text/html": [
       "<div>                            <div id=\"ff10d298-4c0a-48be-a57c-03afd5cd34ef\" class=\"plotly-graph-div\" style=\"height:3000px; width:100%;\"></div>            <script type=\"text/javascript\">                require([\"plotly\"], function(Plotly) {                    window.PLOTLYENV=window.PLOTLYENV || {};                                    if (document.getElementById(\"ff10d298-4c0a-48be-a57c-03afd5cd34ef\")) {                    Plotly.newPlot(                        \"ff10d298-4c0a-48be-a57c-03afd5cd34ef\",                        [{\"hovertemplate\":\"x=%{x}\\u003cbr\\u003ey=%{y}\\u003cextra\\u003e\\u003c\\u002fextra\\u003e\",\"legendgroup\":\"\",\"marker\":{\"color\":\"#636efa\",\"symbol\":\"circle\"},\"mode\":\"markers\",\"name\":\"\",\"orientation\":\"h\",\"showlegend\":false,\"x\":[0.28128090500831604,0.03733290359377861,0.019579337909817696,0.018639666959643364,0.014170249924063683,0.013218265026807785,0.013173242099583149,0.012284768745303154,0.011302974075078964,0.009952235966920853,0.008958360180258751,0.007103136740624905,0.006828377954661846,0.006625226233154535,0.00599328801035881,0.005925687029957771,0.005042141303420067,0.004951266571879387,0.0046042646281421185,0.004586279392242432,0.00407200213521719,0.003830770030617714,0.003738157683983445,0.003352057421579957,0.0032009563874453306,0.0020591006614267826,0.001977524720132351,0.0017122155986726284,0.001606055535376072,0.0007791903335601091,0.0005329032428562641,0.000308087095618248,0.0002680742181837559,-0.00013776984997093678,-0.000530301476828754,-0.0010742901358753443,-0.0025144792161881924,-0.0028311321511864662,-0.002865169197320938,-0.002961370162665844,-0.003385471412912011,-0.0033888223115354776,-0.003512183204293251,-0.003820042358711362,-0.0038709917571395636,-0.005075489170849323,-0.0056231883354485035,-0.0057192714884877205,-0.005814927630126476,-0.006289180833846331,-0.006396053358912468,-0.006479245610535145,-0.007253800984472036,-0.007551620248705149,-0.0076742214150726795,-0.008425163105130196,-0.00903304386883974,-0.009332838468253613,-0.009448297321796417,-0.010337530635297298,-0.010646205395460129,-0.011065068654716015,-0.011399537324905396,-0.014996916055679321,-0.02393065020442009,-0.025087649002671242,-0.03252524882555008],\"xaxis\":\"x\",\"y\":[\"E6 placed\",\"F6 mine\",\"G6 empty\",\"E5 flipped\",\"F5 flipped\",\"E7 mine\",\"F7 mine\",\"H6 mine\",\"H5 mine\",\"C7 mine\",\"G7 mine\",\"H2 mine\",\"B7 mine\",\"H4 mine\",\"H3 mine\",\"D0 mine\",\"B0 mine\",\"G2 mine\",\"A4 yours\",\"G3 mine\",\"A1 yours\",\"F0 yours\",\"C0 mine\",\"F1 mine\",\"H1 yours\",\"C1 mine\",\"B4 mine\",\"D6 yours\",\"E0 mine\",\"B3 mine\",\"G5 mine\",\"B1 yours\",\"B5 mine\",\"C5 mine\",\"H7 empty\",\"G4 yours\",\"C6 yours\",\"E1 yours\",\"F4 mine\",\"G1 empty\",\"A2 empty\",\"D2 mine\",\"B2 mine\",\"E6 yours\",\"D1 yours\",\"A3 empty\",\"D7 yours\",\"C2 yours\",\"B6 empty\",\"A5 empty\",\"H0 empty\",\"F5 yours\",\"F2 yours\",\"E5 yours\",\"C3 yours\",\"F3 yours\",\"D5 yours\",\"G0 empty\",\"C4 yours\",\"A0 empty\",\"E2 yours\",\"A6 empty\",\"A7 empty\",\"D4 mine\",\"D3 yours\",\"E4 yours\",\"E3 yours\"],\"yaxis\":\"y\",\"type\":\"scatter\"}],                        {\"template\":{\"data\":{\"histogram2dcontour\":[{\"type\":\"histogram2dcontour\",\"colorbar\":{\"outlinewidth\":0,\"ticks\":\"\"},\"colorscale\":[[0.0,\"#0d0887\"],[0.1111111111111111,\"#46039f\"],[0.2222222222222222,\"#7201a8\"],[0.3333333333333333,\"#9c179e\"],[0.4444444444444444,\"#bd3786\"],[0.5555555555555556,\"#d8576b\"],[0.6666666666666666,\"#ed7953\"],[0.7777777777777778,\"#fb9f3a\"],[0.8888888888888888,\"#fdca26\"],[1.0,\"#f0f921\"]]}],\"choropleth\":[{\"type\":\"choropleth\",\"colorbar\":{\"outlinewidth\":0,\"ticks\":\"\"}}],\"histogram2d\":[{\"type\":\"histogram2d\",\"colorbar\":{\"outlinewidth\":0,\"ticks\":\"\"},\"colorscale\":[[0.0,\"#0d0887\"],[0.1111111111111111,\"#46039f\"],[0.2222222222222222,\"#7201a8\"],[0.3333333333333333,\"#9c179e\"],[0.4444444444444444,\"#bd3786\"],[0.5555555555555556,\"#d8576b\"],[0.6666666666666666,\"#ed7953\"],[0.7777777777777778,\"#fb9f3a\"],[0.8888888888888888,\"#fdca26\"],[1.0,\"#f0f921\"]]}],\"heatmap\":[{\"type\":\"heatmap\",\"colorbar\":{\"outlinewidth\":0,\"ticks\":\"\"},\"colorscale\":[[0.0,\"#0d0887\"],[0.1111111111111111,\"#46039f\"],[0.2222222222222222,\"#7201a8\"],[0.3333333333333333,\"#9c179e\"],[0.4444444444444444,\"#bd3786\"],[0.5555555555555556,\"#d8576b\"],[0.6666666666666666,\"#ed7953\"],[0.7777777777777778,\"#fb9f3a\"],[0.8888888888888888,\"#fdca26\"],[1.0,\"#f0f921\"]]}],\"heatmapgl\":[{\"type\":\"heatmapgl\",\"colorbar\":{\"outlinewidth\":0,\"ticks\":\"\"},\"colorscale\":[[0.0,\"#0d0887\"],[0.1111111111111111,\"#46039f\"],[0.2222222222222222,\"#7201a8\"],[0.3333333333333333,\"#9c179e\"],[0.4444444444444444,\"#bd3786\"],[0.5555555555555556,\"#d8576b\"],[0.6666666666666666,\"#ed7953\"],[0.7777777777777778,\"#fb9f3a\"],[0.8888888888888888,\"#fdca26\"],[1.0,\"#f0f921\"]]}],\"contourcarpet\":[{\"type\":\"contourcarpet\",\"colorbar\":{\"outlinewidth\":0,\"ticks\":\"\"}}],\"contour\":[{\"type\":\"contour\",\"colorbar\":{\"outlinewidth\":0,\"ticks\":\"\"},\"colorscale\":[[0.0,\"#0d0887\"],[0.1111111111111111,\"#46039f\"],[0.2222222222222222,\"#7201a8\"],[0.3333333333333333,\"#9c179e\"],[0.4444444444444444,\"#bd3786\"],[0.5555555555555556,\"#d8576b\"],[0.6666666666666666,\"#ed7953\"],[0.7777777777777778,\"#fb9f3a\"],[0.8888888888888888,\"#fdca26\"],[1.0,\"#f0f921\"]]}],\"surface\":[{\"type\":\"surface\",\"colorbar\":{\"outlinewidth\":0,\"ticks\":\"\"},\"colorscale\":[[0.0,\"#0d0887\"],[0.1111111111111111,\"#46039f\"],[0.2222222222222222,\"#7201a8\"],[0.3333333333333333,\"#9c179e\"],[0.4444444444444444,\"#bd3786\"],[0.5555555555555556,\"#d8576b\"],[0.6666666666666666,\"#ed7953\"],[0.7777777777777778,\"#fb9f3a\"],[0.8888888888888888,\"#fdca26\"],[1.0,\"#f0f921\"]]}],\"mesh3d\":[{\"type\":\"mesh3d\",\"colorbar\":{\"outlinewidth\":0,\"ticks\":\"\"}}],\"scatter\":[{\"fillpattern\":{\"fillmode\":\"overlay\",\"size\":10,\"solidity\":0.2},\"type\":\"scatter\"}],\"parcoords\":[{\"type\":\"parcoords\",\"line\":{\"colorbar\":{\"outlinewidth\":0,\"ticks\":\"\"}}}],\"scatterpolargl\":[{\"type\":\"scatterpolargl\",\"marker\":{\"colorbar\":{\"outlinewidth\":0,\"ticks\":\"\"}}}],\"bar\":[{\"error_x\":{\"color\":\"#2a3f5f\"},\"error_y\":{\"color\":\"#2a3f5f\"},\"marker\":{\"line\":{\"color\":\"#E5ECF6\",\"width\":0.5},\"pattern\":{\"fillmode\":\"overlay\",\"size\":10,\"solidity\":0.2}},\"type\":\"bar\"}],\"scattergeo\":[{\"type\":\"scattergeo\",\"marker\":{\"colorbar\":{\"outlinewidth\":0,\"ticks\":\"\"}}}],\"scatterpolar\":[{\"type\":\"scatterpolar\",\"marker\":{\"colorbar\":{\"outlinewidth\":0,\"ticks\":\"\"}}}],\"histogram\":[{\"marker\":{\"pattern\":{\"fillmode\":\"overlay\",\"size\":10,\"solidity\":0.2}},\"type\":\"histogram\"}],\"scattergl\":[{\"type\":\"scattergl\",\"marker\":{\"colorbar\":{\"outlinewidth\":0,\"ticks\":\"\"}}}],\"scatter3d\":[{\"type\":\"scatter3d\",\"line\":{\"colorbar\":{\"outlinewidth\":0,\"ticks\":\"\"}},\"marker\":{\"colorbar\":{\"outlinewidth\":0,\"ticks\":\"\"}}}],\"scattermapbox\":[{\"type\":\"scattermapbox\",\"marker\":{\"colorbar\":{\"outlinewidth\":0,\"ticks\":\"\"}}}],\"scatterternary\":[{\"type\":\"scatterternary\",\"marker\":{\"colorbar\":{\"outlinewidth\":0,\"ticks\":\"\"}}}],\"scattercarpet\":[{\"type\":\"scattercarpet\",\"marker\":{\"colorbar\":{\"outlinewidth\":0,\"ticks\":\"\"}}}],\"carpet\":[{\"aaxis\":{\"endlinecolor\":\"#2a3f5f\",\"gridcolor\":\"white\",\"linecolor\":\"white\",\"minorgridcolor\":\"white\",\"startlinecolor\":\"#2a3f5f\"},\"baxis\":{\"endlinecolor\":\"#2a3f5f\",\"gridcolor\":\"white\",\"linecolor\":\"white\",\"minorgridcolor\":\"white\",\"startlinecolor\":\"#2a3f5f\"},\"type\":\"carpet\"}],\"table\":[{\"cells\":{\"fill\":{\"color\":\"#EBF0F8\"},\"line\":{\"color\":\"white\"}},\"header\":{\"fill\":{\"color\":\"#C8D4E3\"},\"line\":{\"color\":\"white\"}},\"type\":\"table\"}],\"barpolar\":[{\"marker\":{\"line\":{\"color\":\"#E5ECF6\",\"width\":0.5},\"pattern\":{\"fillmode\":\"overlay\",\"size\":10,\"solidity\":0.2}},\"type\":\"barpolar\"}],\"pie\":[{\"automargin\":true,\"type\":\"pie\"}]},\"layout\":{\"autotypenumbers\":\"strict\",\"colorway\":[\"#636efa\",\"#EF553B\",\"#00cc96\",\"#ab63fa\",\"#FFA15A\",\"#19d3f3\",\"#FF6692\",\"#B6E880\",\"#FF97FF\",\"#FECB52\"],\"font\":{\"color\":\"#2a3f5f\"},\"hovermode\":\"closest\",\"hoverlabel\":{\"align\":\"left\"},\"paper_bgcolor\":\"white\",\"plot_bgcolor\":\"#E5ECF6\",\"polar\":{\"bgcolor\":\"#E5ECF6\",\"angularaxis\":{\"gridcolor\":\"white\",\"linecolor\":\"white\",\"ticks\":\"\"},\"radialaxis\":{\"gridcolor\":\"white\",\"linecolor\":\"white\",\"ticks\":\"\"}},\"ternary\":{\"bgcolor\":\"#E5ECF6\",\"aaxis\":{\"gridcolor\":\"white\",\"linecolor\":\"white\",\"ticks\":\"\"},\"baxis\":{\"gridcolor\":\"white\",\"linecolor\":\"white\",\"ticks\":\"\"},\"caxis\":{\"gridcolor\":\"white\",\"linecolor\":\"white\",\"ticks\":\"\"}},\"coloraxis\":{\"colorbar\":{\"outlinewidth\":0,\"ticks\":\"\"}},\"colorscale\":{\"sequential\":[[0.0,\"#0d0887\"],[0.1111111111111111,\"#46039f\"],[0.2222222222222222,\"#7201a8\"],[0.3333333333333333,\"#9c179e\"],[0.4444444444444444,\"#bd3786\"],[0.5555555555555556,\"#d8576b\"],[0.6666666666666666,\"#ed7953\"],[0.7777777777777778,\"#fb9f3a\"],[0.8888888888888888,\"#fdca26\"],[1.0,\"#f0f921\"]],\"sequentialminus\":[[0.0,\"#0d0887\"],[0.1111111111111111,\"#46039f\"],[0.2222222222222222,\"#7201a8\"],[0.3333333333333333,\"#9c179e\"],[0.4444444444444444,\"#bd3786\"],[0.5555555555555556,\"#d8576b\"],[0.6666666666666666,\"#ed7953\"],[0.7777777777777778,\"#fb9f3a\"],[0.8888888888888888,\"#fdca26\"],[1.0,\"#f0f921\"]],\"diverging\":[[0,\"#8e0152\"],[0.1,\"#c51b7d\"],[0.2,\"#de77ae\"],[0.3,\"#f1b6da\"],[0.4,\"#fde0ef\"],[0.5,\"#f7f7f7\"],[0.6,\"#e6f5d0\"],[0.7,\"#b8e186\"],[0.8,\"#7fbc41\"],[0.9,\"#4d9221\"],[1,\"#276419\"]]},\"xaxis\":{\"gridcolor\":\"white\",\"linecolor\":\"white\",\"ticks\":\"\",\"title\":{\"standoff\":15},\"zerolinecolor\":\"white\",\"automargin\":true,\"zerolinewidth\":2},\"yaxis\":{\"gridcolor\":\"white\",\"linecolor\":\"white\",\"ticks\":\"\",\"title\":{\"standoff\":15},\"zerolinecolor\":\"white\",\"automargin\":true,\"zerolinewidth\":2},\"scene\":{\"xaxis\":{\"backgroundcolor\":\"#E5ECF6\",\"gridcolor\":\"white\",\"linecolor\":\"white\",\"showbackground\":true,\"ticks\":\"\",\"zerolinecolor\":\"white\",\"gridwidth\":2},\"yaxis\":{\"backgroundcolor\":\"#E5ECF6\",\"gridcolor\":\"white\",\"linecolor\":\"white\",\"showbackground\":true,\"ticks\":\"\",\"zerolinecolor\":\"white\",\"gridwidth\":2},\"zaxis\":{\"backgroundcolor\":\"#E5ECF6\",\"gridcolor\":\"white\",\"linecolor\":\"white\",\"showbackground\":true,\"ticks\":\"\",\"zerolinecolor\":\"white\",\"gridwidth\":2}},\"shapedefaults\":{\"line\":{\"color\":\"#2a3f5f\"}},\"annotationdefaults\":{\"arrowcolor\":\"#2a3f5f\",\"arrowhead\":0,\"arrowwidth\":1},\"geo\":{\"bgcolor\":\"white\",\"landcolor\":\"#E5ECF6\",\"subunitcolor\":\"white\",\"showland\":true,\"showlakes\":true,\"lakecolor\":\"white\"},\"title\":{\"x\":0.05},\"mapbox\":{\"style\":\"light\"}}},\"xaxis\":{\"anchor\":\"y\",\"domain\":[0.0,1.0],\"title\":{\"text\":\"x\"}},\"yaxis\":{\"anchor\":\"x\",\"domain\":[0.0,1.0],\"title\":{\"text\":\"y\"}},\"legend\":{\"tracegroupgap\":0},\"margin\":{\"t\":60},\"height\":3000},                        {\"responsive\": true}                    ).then(function(){\n",
       "                            \n",
       "var gd = document.getElementById('ff10d298-4c0a-48be-a57c-03afd5cd34ef');\n",
       "var x = new MutationObserver(function (mutations, observer) {{\n",
       "        var display = window.getComputedStyle(gd).display;\n",
       "        if (!display || display === 'none') {{\n",
       "            console.log([gd, 'removed!']);\n",
       "            Plotly.purge(gd);\n",
       "            observer.disconnect();\n",
       "        }}\n",
       "}});\n",
       "\n",
       "// Listen for the removal of the full notebook cells\n",
       "var notebookContainer = gd.closest('#notebook-container');\n",
       "if (notebookContainer) {{\n",
       "    x.observe(notebookContainer, {childList: true});\n",
       "}}\n",
       "\n",
       "// Listen for the clearing of the current output cell\n",
       "var outputEl = gd.closest('.output');\n",
       "if (outputEl) {{\n",
       "    x.observe(outputEl, {childList: true});\n",
       "}}\n",
       "\n",
       "                        })                };                });            </script>        </div>"
      ]
     },
     "metadata": {},
     "output_type": "display_data"
    }
   ],
   "source": [
    "layer = 1\n",
    "neuron = 426\n",
    "\n",
    "module = f\"blocks.{layer}.ln2.hook_normalized\"\n",
    "\n",
    "threshold = 0.0025\n",
    "\n",
    "def get_relevant_probes(layer, game_idx, pos, neuron, everything = False):\n",
    "    relevant_probes = []\n",
    "    resid_mid = focus_cache[module][game_idx, pos]\n",
    "    for probe_name in [\"linear\", \"flipped\", \"placed\"]:\n",
    "        probe = get_probe(layer, probe_name, \"mid\")[0]\n",
    "        if everything:\n",
    "            probe_result = einops.einsum(resid_mid, probe, \"d_model, d_model rows cols options -> rows cols options\").softmax(dim=-1)\n",
    "            for row in range(8):\n",
    "                for col in range(8):\n",
    "                    for direction_int in range(probe_result.shape[2]):\n",
    "                        # direction_int = probe_result[row, col].item()\n",
    "                        probe_meta = ProbeMetadata(probe_name, direction_int, row, col)\n",
    "                        probe_meta.resid_dot_product = probe_result[row, col, direction_int].item()\n",
    "                        relevant_probes.append(probe_meta)\n",
    "        else:\n",
    "            probe_result = einops.einsum(resid_mid, probe, \"d_model, d_model rows cols options -> rows cols options\").argmax(dim=-1)\n",
    "            for row in range(8):\n",
    "                for col in range(8):\n",
    "                    direction_int = probe_result[row, col].item()\n",
    "                    if direction_int == 1 and (probe_name == \"flipped\" or probe_name == \"placed\"):\n",
    "                        continue\n",
    "                    probe_meta = ProbeMetadata(probe_name, direction_int, row, col)\n",
    "                    relevant_probes.append(probe_meta)\n",
    "    return relevant_probes\n",
    "\n",
    "def get_attribution_score(layer, neuron, probe_meta, everything = False):\n",
    "    neuron_weighs = get_w_in(model, layer, neuron)\n",
    "    if everything:\n",
    "        probe : Float[Tensor, \"d_model\"] = probe_meta.get_probe(layer) * probe_meta.resid_dot_product\n",
    "    else:\n",
    "        probe : Float[Tensor, \"d_model\"] = probe_meta.get_probe(layer) * coefficients[probe_meta.name][probe_meta.direction_str][probe_meta.t]\n",
    "    return einops.einsum(neuron_weighs, probe, \"d_model, d_model -> \").item()\n",
    "\n",
    "count = 0\n",
    "\n",
    "for game_idx in range(50):\n",
    "    for pos in range(59):\n",
    "        neuron_act = focus_cache[\"mlp_post\", layer][game_idx, pos, neuron]\n",
    "        if neuron_act < threshold:\n",
    "            continue\n",
    "        print(f\"Game {game_idx}, pos {pos}, neuron {neuron}, neuron_act {neuron_act}\")\n",
    "        relevant_probes = get_relevant_probes(layer, game_idx, pos, neuron)\n",
    "        for probe_meta in relevant_probes:\n",
    "            probe_meta.attribution_score = get_attribution_score(layer, neuron, probe_meta)\n",
    "        relevant_probes.sort(key=lambda x: x.attribution_score, reverse=True)\n",
    "        scores = [probe_meta.attribution_score for probe_meta in relevant_probes]\n",
    "        # plot histogram of scores using plotly px\n",
    "        # plotly histogram\n",
    "        lables = [f\"{probe_meta.label} {probe_meta.direction_str}\" for probe_meta in relevant_probes]\n",
    "        # fig = px.histogram(scores, nbins=50)\n",
    "        fig = px.scatter(y=lables, x=scores)\n",
    "        fig.update_layout(height = 3000)\n",
    "        fig.show()\n",
    "        count += 1\n",
    "        if count >= 1:\n",
    "            break\n",
    "    if count >= 1:\n",
    "            break\n",
    "\n"
   ]
  },
  {
   "cell_type": "code",
   "execution_count": null,
   "metadata": {},
   "outputs": [
    {
     "data": {
      "application/vnd.plotly.v1+json": {
       "config": {
        "plotlyServerURL": "https://plot.ly"
       },
       "data": [
        {
         "colorscale": [
          [
           0,
           "rgb(103,0,31)"
          ],
          [
           0.1,
           "rgb(178,24,43)"
          ],
          [
           0.2,
           "rgb(214,96,77)"
          ],
          [
           0.3,
           "rgb(244,165,130)"
          ],
          [
           0.4,
           "rgb(253,219,199)"
          ],
          [
           0.5,
           "rgb(247,247,247)"
          ],
          [
           0.6,
           "rgb(209,229,240)"
          ],
          [
           0.7,
           "rgb(146,197,222)"
          ],
          [
           0.8,
           "rgb(67,147,195)"
          ],
          [
           0.9,
           "rgb(33,102,172)"
          ],
          [
           1,
           "rgb(5,48,97)"
          ]
         ],
         "hoverongaps": false,
         "type": "heatmap",
         "x": [
          0,
          1,
          2,
          3,
          4,
          5,
          6,
          7
         ],
         "xaxis": "x",
         "y": [
          "H",
          "G",
          "F",
          "E",
          "D",
          "C",
          "B",
          "A"
         ],
         "yaxis": "y",
         "z": [
          [
           -0.06743796169757843,
           -0.07324443757534027,
           -0.0836513563990593,
           -0.06509403884410858,
           -0.06150210276246071,
           -0.035132940858602524,
           0.06007695570588112,
           -0.004798047244548798
          ],
          [
           -0.08818705379962921,
           -0.026717301458120346,
           -0.00436018779873848,
           0.007779526524245739,
           0.013143183663487434,
           -0.006179946940392256,
           0.14662641286849976,
           -0.03577850013971329
          ],
          [
           -0.08846139907836914,
           -0.04914603382349014,
           0.03109777718782425,
           0.03274228796362877,
           0.013334606774151325,
           0.07171878218650818,
           -0.14275985956192017,
           -0.020930670201778412
          ],
          [
           -0.05710037797689438,
           -0.013663887977600098,
           0.03001275286078453,
           0.20366080105304718,
           0.19985637068748474,
           0.03150864318013191,
           -0.10107341408729553,
           -0.06875747442245483
          ],
          [
           -0.04773730784654617,
           0.008742932230234146,
           0.0025554029271006584,
           0.18839240074157715,
           0.19636310636997223,
           0.05640321597456932,
           -0.04146893322467804,
           -0.04156053811311722
          ],
          [
           -0.06476864218711853,
           -0.01653904840350151,
           0.04038947448134422,
           0.09384313225746155,
           0.028680510818958282,
           -0.010736744850873947,
           0.0034835711121559143,
           -0.05560702085494995
          ],
          [
           -0.05469200760126114,
           -0.008774859830737114,
           -0.011584891006350517,
           -0.01404483150690794,
           -0.018775062635540962,
           -0.031698793172836304,
           -0.06374407559633255,
           -0.038248080760240555
          ],
          [
           -0.08283489942550659,
           -0.0674261748790741,
           -0.036520734429359436,
           -0.041609011590480804,
           -0.061663273721933365,
           -0.06676389276981354,
           -0.1114697977900505,
           -0.10257221758365631
          ]
         ],
         "zmax": 0.4190261662006378,
         "zmin": -0.4190261662006378
        },
        {
         "colorscale": [
          [
           0,
           "rgb(103,0,31)"
          ],
          [
           0.1,
           "rgb(178,24,43)"
          ],
          [
           0.2,
           "rgb(214,96,77)"
          ],
          [
           0.3,
           "rgb(244,165,130)"
          ],
          [
           0.4,
           "rgb(253,219,199)"
          ],
          [
           0.5,
           "rgb(247,247,247)"
          ],
          [
           0.6,
           "rgb(209,229,240)"
          ],
          [
           0.7,
           "rgb(146,197,222)"
          ],
          [
           0.8,
           "rgb(67,147,195)"
          ],
          [
           0.9,
           "rgb(33,102,172)"
          ],
          [
           1,
           "rgb(5,48,97)"
          ]
         ],
         "hoverongaps": false,
         "type": "heatmap",
         "x": [
          0,
          1,
          2,
          3,
          4,
          5,
          6,
          7
         ],
         "xaxis": "x2",
         "y": [
          "H",
          "G",
          "F",
          "E",
          "D",
          "C",
          "B",
          "A"
         ],
         "yaxis": "y2",
         "z": [
          [
           0.08145186305046082,
           0.06568004190921783,
           0.06700971722602844,
           0.05707445740699768,
           0.061867401003837585,
           0.07437311112880707,
           0.13331033289432526,
           0.07983984053134918
          ],
          [
           0.05682965740561485,
           0.05051616579294205,
           0.029453126713633537,
           0.033573415130376816,
           0.0019952431321144104,
           0.0038482798263430595,
           0.15953794121742249,
           0.06525599211454391
          ],
          [
           0.03336634859442711,
           0.026010185480117798,
           -0.003671666607260704,
           -0.011986812576651573,
           -0.016940850764513016,
           -0.04333698749542236,
           0.2542169988155365,
           0.12290404736995697
          ],
          [
           0.01963951624929905,
           0.013042746111750603,
           -0.0240786112844944,
           -0.09711754322052002,
           -0.0733339861035347,
           -0.05657092481851578,
           0.10871356725692749,
           0.14202696084976196
          ],
          [
           0.0387851744890213,
           0.014220893383026123,
           -0.020392943173646927,
           -0.10630308836698532,
           -0.07785488665103912,
           -0.06633268296718597,
           0.03706027939915657,
           0.06181733310222626
          ],
          [
           0.04347476363182068,
           0.017139188945293427,
           -0.04835503548383713,
           -0.029110988602042198,
           0.00404975563287735,
           -0.0008668163791298866,
           0.007599444128572941,
           0.07560914009809494
          ],
          [
           0.05742977559566498,
           0.0317961685359478,
           -0.022668151184916496,
           0.0055106147192418575,
           0.0110186617821455,
           0.0019728606566786766,
           0.012445298954844475,
           0.06465151160955429
          ],
          [
           0.028623418882489204,
           0.06619507074356079,
           0.04383126646280289,
           0.045625150203704834,
           0.05834142118692398,
           0.0528777614235878,
           0.0732591301202774,
           0.06764493882656097
          ]
         ],
         "zmax": 0.4190261662006378,
         "zmin": -0.4190261662006378
        },
        {
         "colorscale": [
          [
           0,
           "rgb(103,0,31)"
          ],
          [
           0.1,
           "rgb(178,24,43)"
          ],
          [
           0.2,
           "rgb(214,96,77)"
          ],
          [
           0.3,
           "rgb(244,165,130)"
          ],
          [
           0.4,
           "rgb(253,219,199)"
          ],
          [
           0.5,
           "rgb(247,247,247)"
          ],
          [
           0.6,
           "rgb(209,229,240)"
          ],
          [
           0.7,
           "rgb(146,197,222)"
          ],
          [
           0.8,
           "rgb(67,147,195)"
          ],
          [
           0.9,
           "rgb(33,102,172)"
          ],
          [
           1,
           "rgb(5,48,97)"
          ]
         ],
         "hoverongaps": false,
         "type": "heatmap",
         "x": [
          0,
          1,
          2,
          3,
          4,
          5,
          6,
          7
         ],
         "xaxis": "x3",
         "y": [
          "H",
          "G",
          "F",
          "E",
          "D",
          "C",
          "B",
          "A"
         ],
         "yaxis": "y3",
         "z": [
          [
           0.06809579581022263,
           0.036412231624126434,
           0.0605463832616806,
           0.02743501216173172,
           -0.003788616508245468,
           -0.05316060781478882,
           -0.20549236238002777,
           -0.0787762701511383
          ],
          [
           0.07034638524055481,
           -0.019824940711259842,
           -0.00979322288185358,
           -0.02114204876124859,
           -0.006924033164978027,
           -0.05094850808382034,
           -0.3925270140171051,
           -0.03667338564991951
          ],
          [
           0.044870100915431976,
           -0.0016258955001831055,
           -0.047593727707862854,
           -0.04736357182264328,
           -0.043983761221170425,
           -0.035260312259197235,
           -0.04940269514918327,
           -0.09604001045227051
          ],
          [
           0.023412887006998062,
           -0.014867336489260197,
           -0.06795859336853027,
           -0.12147000432014465,
           -0.10624716430902481,
           -0.045864004641771317,
           -0.02817555144429207,
           -0.0703182965517044
          ],
          [
           -0.006415027193725109,
           -0.025910399854183197,
           -0.024615153670310974,
           -0.10111862421035767,
           -0.10876215994358063,
           -0.05366327613592148,
           0.01232336275279522,
           -0.0403108112514019
          ],
          [
           0.007912112399935722,
           -0.016395647078752518,
           -0.033830732107162476,
           -0.04274367168545723,
           -0.059076376259326935,
           -0.03937116265296936,
           -0.015289172530174255,
           0.004131637513637543
          ],
          [
           0.043072644621133804,
           0.00371725857257843,
           -0.03323754295706749,
           -0.007828542031347752,
           -0.017202228307724,
           -0.01765863597393036,
           0.01058126613497734,
           0.003120735287666321
          ],
          [
           0.014835283160209656,
           0.030577410012483597,
           0.004389852285385132,
           0.03922785073518753,
           0.033875834196805954,
           0.0578065887093544,
           0.024455633014440536,
           0.05867603421211243
          ]
         ],
         "zmax": 0.4190261662006378,
         "zmin": -0.4190261662006378
        },
        {
         "colorscale": [
          [
           0,
           "rgb(103,0,31)"
          ],
          [
           0.1,
           "rgb(178,24,43)"
          ],
          [
           0.2,
           "rgb(214,96,77)"
          ],
          [
           0.3,
           "rgb(244,165,130)"
          ],
          [
           0.4,
           "rgb(253,219,199)"
          ],
          [
           0.5,
           "rgb(247,247,247)"
          ],
          [
           0.6,
           "rgb(209,229,240)"
          ],
          [
           0.7,
           "rgb(146,197,222)"
          ],
          [
           0.8,
           "rgb(67,147,195)"
          ],
          [
           0.9,
           "rgb(33,102,172)"
          ],
          [
           1,
           "rgb(5,48,97)"
          ]
         ],
         "hoverongaps": false,
         "type": "heatmap",
         "x": [
          0,
          1,
          2,
          3,
          4,
          5,
          6,
          7
         ],
         "xaxis": "x4",
         "y": [
          "H",
          "G",
          "F",
          "E",
          "D",
          "C",
          "B",
          "A"
         ],
         "yaxis": "y4",
         "z": [
          [
           0.20184656977653503,
           0.18907982110977173,
           0.17231130599975586,
           0.14226683974266052,
           0.154489666223526,
           0.14481130242347717,
           0.12493559718132019,
           0.21226060390472412
          ],
          [
           0.13668560981750488,
           0.16020505130290985,
           0.15960350632667542,
           0.18819954991340637,
           0.18376818299293518,
           0.12621109187602997,
           0.2337031364440918,
           0.1662604808807373
          ],
          [
           0.15034982562065125,
           0.17779460549354553,
           0.15531784296035767,
           0.14081677794456482,
           0.14885780215263367,
           0.13727210462093353,
           0.4190261662006378,
           0.1508674919605255
          ],
          [
           0.13469719886779785,
           0.16915488243103027,
           0.13298720121383667,
           0.14726240932941437,
           0.15400084853172302,
           0.20203888416290283,
           0.21697208285331726,
           0.15157103538513184
          ],
          [
           0.16563665866851807,
           0.15443497896194458,
           0.1548127382993698,
           0.13320806622505188,
           0.1361372470855713,
           0.1586262732744217,
           0.19017736613750458,
           0.15802216529846191
          ],
          [
           0.15990491211414337,
           0.18887744843959808,
           0.14079773426055908,
           0.124685138463974,
           0.15749850869178772,
           0.18681901693344116,
           0.17414462566375732,
           0.18190953135490417
          ],
          [
           0.17237861454486847,
           0.1352401077747345,
           0.13383181393146515,
           0.17339743673801422,
           0.1661345511674881,
           0.1558683216571808,
           0.18600142002105713,
           0.16252942383289337
          ],
          [
           0.21712973713874817,
           0.1789117157459259,
           0.1866144835948944,
           0.15219128131866455,
           0.15292249619960785,
           0.15058746933937073,
           0.15723486244678497,
           0.21124312281608582
          ]
         ],
         "zmax": 0.4190261662006378,
         "zmin": -0.4190261662006378
        },
        {
         "colorscale": [
          [
           0,
           "rgb(103,0,31)"
          ],
          [
           0.1,
           "rgb(178,24,43)"
          ],
          [
           0.2,
           "rgb(214,96,77)"
          ],
          [
           0.3,
           "rgb(244,165,130)"
          ],
          [
           0.4,
           "rgb(253,219,199)"
          ],
          [
           0.5,
           "rgb(247,247,247)"
          ],
          [
           0.6,
           "rgb(209,229,240)"
          ],
          [
           0.7,
           "rgb(146,197,222)"
          ],
          [
           0.8,
           "rgb(67,147,195)"
          ],
          [
           0.9,
           "rgb(33,102,172)"
          ],
          [
           1,
           "rgb(5,48,97)"
          ]
         ],
         "hoverongaps": false,
         "type": "heatmap",
         "x": [
          0,
          1,
          2,
          3,
          4,
          5,
          6,
          7
         ],
         "xaxis": "x5",
         "y": [
          "H",
          "G",
          "F",
          "E",
          "D",
          "C",
          "B",
          "A"
         ],
         "yaxis": "y5",
         "z": [
          [
           -0.20512428879737854,
           -0.18565821647644043,
           -0.17395302653312683,
           -0.14970171451568604,
           -0.14517244696617126,
           -0.16201569139957428,
           -0.13582150638103485,
           -0.2101464569568634
          ],
          [
           -0.1332038789987564,
           -0.14953865110874176,
           -0.15284954011440277,
           -0.18946999311447144,
           -0.1736835539340973,
           -0.11674883961677551,
           -0.23817630112171173,
           -0.17537754774093628
          ],
          [
           -0.14928191900253296,
           -0.1675221025943756,
           -0.170867919921875,
           -0.14132165908813477,
           -0.1508159190416336,
           -0.15437039732933044,
           -0.41863757371902466,
           -0.1588926613330841
          ],
          [
           -0.1506517231464386,
           -0.18200358748435974,
           -0.1280202567577362,
           -0.13657893240451813,
           -0.16355110704898834,
           -0.18117903172969818,
           -0.22921526432037354,
           -0.1356128454208374
          ],
          [
           -0.16649842262268066,
           -0.1507711559534073,
           -0.16638433933258057,
           -0.13590694963932037,
           -0.13124212622642517,
           -0.16335082054138184,
           -0.1870848834514618,
           -0.16425473988056183
          ],
          [
           -0.16102948784828186,
           -0.17273764312267303,
           -0.13932080566883087,
           -0.12714457511901855,
           -0.15816697478294373,
           -0.1950594186782837,
           -0.1694483608007431,
           -0.17773079872131348
          ],
          [
           -0.15978604555130005,
           -0.14327435195446014,
           -0.1327572613954544,
           -0.176542729139328,
           -0.17146417498588562,
           -0.15301650762557983,
           -0.2032206505537033,
           -0.16409346461296082
          ],
          [
           -0.21282167732715607,
           -0.18799015879631042,
           -0.17697899043560028,
           -0.16142742335796356,
           -0.14196649193763733,
           -0.15187346935272217,
           -0.1683790683746338,
           -0.21123521029949188
          ]
         ],
         "zmax": 0.4190261662006378,
         "zmin": -0.4190261662006378
        },
        {
         "colorscale": [
          [
           0,
           "rgb(103,0,31)"
          ],
          [
           0.1,
           "rgb(178,24,43)"
          ],
          [
           0.2,
           "rgb(214,96,77)"
          ],
          [
           0.3,
           "rgb(244,165,130)"
          ],
          [
           0.4,
           "rgb(253,219,199)"
          ],
          [
           0.5,
           "rgb(247,247,247)"
          ],
          [
           0.6,
           "rgb(209,229,240)"
          ],
          [
           0.7,
           "rgb(146,197,222)"
          ],
          [
           0.8,
           "rgb(67,147,195)"
          ],
          [
           0.9,
           "rgb(33,102,172)"
          ],
          [
           1,
           "rgb(5,48,97)"
          ]
         ],
         "hoverongaps": false,
         "type": "heatmap",
         "x": [
          0,
          1,
          2,
          3,
          4,
          5,
          6,
          7
         ],
         "xaxis": "x6",
         "y": [
          "H",
          "G",
          "F",
          "E",
          "D",
          "C",
          "B",
          "A"
         ],
         "yaxis": "y6",
         "z": [
          [
           0.15990646183490753,
           0.17495816946029663,
           0.16956931352615356,
           0.1414463222026825,
           0.19654151797294617,
           0.158345565199852,
           0.19312913715839386,
           0.12233193218708038
          ],
          [
           0.16407984495162964,
           0.16008798778057098,
           0.15801386535167694,
           0.16766130924224854,
           0.16136810183525085,
           0.24511805176734924,
           0.19104909896850586,
           0.17083555459976196
          ],
          [
           0.1571226865053177,
           0.16030210256576538,
           0.16567958891391754,
           0.15304291248321533,
           0.2058153748512268,
           0.21795588731765747,
           0.16863363981246948,
           0.1779632866382599
          ],
          [
           0.15091484785079956,
           0.16237951815128326,
           0.15466472506523132,
           0.1773001253604889,
           0.19769394397735596,
           0.17199571430683136,
           0.2946208119392395,
           0.15457269549369812
          ],
          [
           0.17081308364868164,
           0.15793286263942719,
           0.20135262608528137,
           0.19877701997756958,
           0.19856742024421692,
           0.19979941844940186,
           0.25126373767852783,
           0.11244098097085953
          ],
          [
           0.18658556044101715,
           0.1776057630777359,
           0.18444570899009705,
           0.14816051721572876,
           0.1597122848033905,
           0.16419178247451782,
           0.17350824177265167,
           0.14110305905342102
          ],
          [
           0.14231720566749573,
           0.18230639398097992,
           0.17918655276298523,
           0.15347585082054138,
           0.17170676589012146,
           0.16422954201698303,
           0.20516060292720795,
           0.1672690361738205
          ],
          [
           0.17295603454113007,
           0.16902905702590942,
           0.14280809462070465,
           0.1714261919260025,
           0.14294205605983734,
           0.1720271110534668,
           0.20384563505649567,
           0.17232659459114075
          ]
         ],
         "zmax": 0.4190261662006378,
         "zmin": -0.4190261662006378
        },
        {
         "colorscale": [
          [
           0,
           "rgb(103,0,31)"
          ],
          [
           0.1,
           "rgb(178,24,43)"
          ],
          [
           0.2,
           "rgb(214,96,77)"
          ],
          [
           0.3,
           "rgb(244,165,130)"
          ],
          [
           0.4,
           "rgb(253,219,199)"
          ],
          [
           0.5,
           "rgb(247,247,247)"
          ],
          [
           0.6,
           "rgb(209,229,240)"
          ],
          [
           0.7,
           "rgb(146,197,222)"
          ],
          [
           0.8,
           "rgb(67,147,195)"
          ],
          [
           0.9,
           "rgb(33,102,172)"
          ],
          [
           1,
           "rgb(5,48,97)"
          ]
         ],
         "hoverongaps": false,
         "type": "heatmap",
         "x": [
          0,
          1,
          2,
          3,
          4,
          5,
          6,
          7
         ],
         "xaxis": "x7",
         "y": [
          "H",
          "G",
          "F",
          "E",
          "D",
          "C",
          "B",
          "A"
         ],
         "yaxis": "y7",
         "z": [
          [
           -0.01736229658126831,
           0.0009502070024609566,
           0.00097731314599514,
           -0.014442592859268188,
           -0.010396160185337067,
           0.008719882927834988,
           -0.025695528835058212,
           -0.03058481402695179
          ],
          [
           -0.01669987291097641,
           -0.026948029175400734,
           0.017640914767980576,
           0.0010830499231815338,
           0.03194135054945946,
           0.016979899257421494,
           -0.06385684013366699,
           0.03009345382452011
          ],
          [
           0.002912992611527443,
           0.008128581568598747,
           0.01229918748140335,
           0.0012729568406939507,
           0.034535132348537445,
           -0.004079416394233704,
           -0.03562362492084503,
           0.01714843511581421
          ],
          [
           -0.016364194452762604,
           0.015926789492368698,
           0.012513717636466026,
           0.01944153383374214,
           0.01747841015458107,
           -0.021351629868149757,
           -0.011292312294244766,
           0.03440924733877182
          ],
          [
           -0.010383771732449532,
           -0.01836549863219261,
           0.03389596939086914,
           0.020272592082619667,
           0.02139963023364544,
           0.012667488306760788,
           -0.007558112032711506,
           0.014647021889686584
          ],
          [
           0.0004702061414718628,
           -0.006083684973418713,
           0.022034119814634323,
           -0.0071167051792144775,
           -0.005984471179544926,
           0.017427213490009308,
           0.015798529610037804,
           0.000023484230041503906
          ],
          [
           0.0015910668298602104,
           0.024520445615053177,
           -0.012233585119247437,
           -0.005542350001633167,
           -0.04232870787382126,
           -0.003164578229188919,
           0.024652879685163498,
           0.013194682076573372
          ],
          [
           0.014751048758625984,
           0.004079811275005341,
           -0.024082913994789124,
           0.010489258915185928,
           -0.003699943423271179,
           -0.006147418171167374,
           -0.008566467091441154,
           0.020024284720420837
          ]
         ],
         "zmax": 0.4190261662006378,
         "zmin": -0.4190261662006378
        },
        {
         "colorscale": [
          [
           0,
           "rgb(103,0,31)"
          ],
          [
           0.1,
           "rgb(178,24,43)"
          ],
          [
           0.2,
           "rgb(214,96,77)"
          ],
          [
           0.3,
           "rgb(244,165,130)"
          ],
          [
           0.4,
           "rgb(253,219,199)"
          ],
          [
           0.5,
           "rgb(247,247,247)"
          ],
          [
           0.6,
           "rgb(209,229,240)"
          ],
          [
           0.7,
           "rgb(146,197,222)"
          ],
          [
           0.8,
           "rgb(67,147,195)"
          ],
          [
           0.9,
           "rgb(33,102,172)"
          ],
          [
           1,
           "rgb(5,48,97)"
          ]
         ],
         "hoverongaps": false,
         "type": "heatmap",
         "x": [
          0,
          1,
          2,
          3,
          4,
          5,
          6,
          7
         ],
         "xaxis": "x8",
         "y": [
          "H",
          "G",
          "F",
          "E",
          "D",
          "C",
          "B",
          "A"
         ],
         "yaxis": "y8",
         "z": [
          [
           0.021501122042536736,
           -0.0033305641263723373,
           -0.007368487771600485,
           0.01119866594672203,
           0.003145011141896248,
           0.0002531427890062332,
           0.020838236436247826,
           -0.0006020879372954369
          ],
          [
           -0.00482899509370327,
           0.011623270809650421,
           -0.01558777503669262,
           -0.008748961612582207,
           0.009190941229462624,
           0.001027137041091919,
           0.09165789186954498,
           -0.004253663122653961
          ],
          [
           -0.008247023448348045,
           0.023661300539970398,
           -0.026821672916412354,
           -0.01576547510921955,
           -0.0334998294711113,
           -0.006963924504816532,
           0.17824646830558777,
           -0.006500042974948883
          ],
          [
           0.0012628333643078804,
           0.006799173541367054,
           0.011922870762646198,
           -0.03931918740272522,
           -0.016097260639071465,
           0.015451399609446526,
           0.01824050024151802,
           0.014136411249637604
          ],
          [
           0.014986586757004261,
           0.033815085887908936,
           -0.016005735844373703,
           -0.01459693256765604,
           -0.01890018954873085,
           -0.01711650937795639,
           -0.02726386860013008,
           0.007259253412485123
          ],
          [
           0.002551298588514328,
           0.03024698793888092,
           -0.011325345374643803,
           0.007311305962502956,
           0.030109990388154984,
           -0.024266429245471954,
           -0.05811595916748047,
           -0.0003192359581589699
          ],
          [
           0.012825706042349339,
           -0.015263540670275688,
           -0.0028583109378814697,
           0.04009518772363663,
           0.04353564605116844,
           -0.0060694459825754166,
           -0.03388211503624916,
           -0.007091849111020565
          ],
          [
           -0.004282968118786812,
           -0.014644138514995575,
           0.01478327065706253,
           -0.019957013428211212,
           -0.01791750267148018,
           0.003123849630355835,
           -0.010612839832901955,
           -0.009156420826911926
          ]
         ],
         "zmax": 0.4190261662006378,
         "zmin": -0.4190261662006378
        },
        {
         "colorscale": [
          [
           0,
           "rgb(103,0,31)"
          ],
          [
           0.1,
           "rgb(178,24,43)"
          ],
          [
           0.2,
           "rgb(214,96,77)"
          ],
          [
           0.3,
           "rgb(244,165,130)"
          ],
          [
           0.4,
           "rgb(253,219,199)"
          ],
          [
           0.5,
           "rgb(247,247,247)"
          ],
          [
           0.6,
           "rgb(209,229,240)"
          ],
          [
           0.7,
           "rgb(146,197,222)"
          ],
          [
           0.8,
           "rgb(67,147,195)"
          ],
          [
           0.9,
           "rgb(33,102,172)"
          ],
          [
           1,
           "rgb(5,48,97)"
          ]
         ],
         "hoverongaps": false,
         "type": "heatmap",
         "x": [
          0,
          1,
          2,
          3,
          4,
          5,
          6,
          7
         ],
         "xaxis": "x9",
         "y": [
          "H",
          "G",
          "F",
          "E",
          "D",
          "C",
          "B",
          "A"
         ],
         "yaxis": "y9",
         "z": [
          [
           0.0027334466576576233,
           0.004996863193809986,
           -0.027144623920321465,
           0.01853976398706436,
           0.017576396465301514,
           0.020285747945308685,
           0.030780000612139702,
           0.009187337011098862
          ],
          [
           0.029084721580147743,
           0.0005514062941074371,
           0.0020712176337838173,
           -0.01367274485528469,
           -0.008199229836463928,
           -0.013083890080451965,
           0.020192226395010948,
           -0.015250641852617264
          ],
          [
           0.0048782662488520145,
           0.021087132394313812,
           0.021978460252285004,
           -0.021025454625487328,
           0.01791766658425331,
           -0.011539071798324585,
           -0.1577473282814026,
           -0.03250451385974884
          ],
          [
           0.018459144979715347,
           -0.001841612160205841,
           -0.0074302442371845245,
           0.014918994158506393,
           -0.010382763110101223,
           0.04096538573503494,
           -0.005660747643560171,
           -0.027049846947193146
          ],
          [
           0.0008806772530078888,
           0.02891458198428154,
           -0.04694811999797821,
           0.00679816585034132,
           -0.024220608174800873,
           0.01754692569375038,
           0.06575185060501099,
           -0.03550068661570549
          ],
          [
           -0.007913906127214432,
           0.007465455215424299,
           -0.02601020783185959,
           -0.01045982725918293,
           -0.007816423662006855,
           -0.0019601909443736076,
           0.006427421234548092,
           0.0025281794369220734
          ],
          [
           -0.020583266392350197,
           -0.009385783225297928,
           -0.0031872824765741825,
           0.008298657834529877,
           0.02609068714082241,
           0.009580520913004875,
           -0.01477581076323986,
           0.0059907035902142525
          ],
          [
           -0.025513144209980965,
           0.00845247320830822,
           0.004055283963680267,
           0.003951335325837135,
           0.013816744089126587,
           -0.007952496409416199,
           0.026806235313415527,
           -0.01676725596189499
          ]
         ],
         "zmax": 0.4190261662006378,
         "zmin": -0.4190261662006378
        },
        {
         "colorscale": [
          [
           0,
           "rgb(103,0,31)"
          ],
          [
           0.1,
           "rgb(178,24,43)"
          ],
          [
           0.2,
           "rgb(214,96,77)"
          ],
          [
           0.3,
           "rgb(244,165,130)"
          ],
          [
           0.4,
           "rgb(253,219,199)"
          ],
          [
           0.5,
           "rgb(247,247,247)"
          ],
          [
           0.6,
           "rgb(209,229,240)"
          ],
          [
           0.7,
           "rgb(146,197,222)"
          ],
          [
           0.8,
           "rgb(67,147,195)"
          ],
          [
           0.9,
           "rgb(33,102,172)"
          ],
          [
           1,
           "rgb(5,48,97)"
          ]
         ],
         "hoverongaps": false,
         "type": "heatmap",
         "x": [
          0,
          1,
          2,
          3,
          4,
          5,
          6,
          7
         ],
         "xaxis": "x10",
         "y": [
          "H",
          "G",
          "F",
          "E",
          "D",
          "C",
          "B",
          "A"
         ],
         "yaxis": "y10",
         "z": [
          [
           0.033756889402866364,
           0.008463725447654724,
           0.023587316274642944,
           0.02371995709836483,
           0.010551400482654572,
           0.026319071650505066,
           0.015247181989252567,
           0.010451826266944408
          ],
          [
           0.020899252966046333,
           0.015239536762237549,
           0.007336249575018883,
           0.022158704698085785,
           0.019490854814648628,
           0.041940949857234955,
           -0.05865410715341568,
           0.017201300710439682
          ],
          [
           0.03714796528220177,
           0.02534257434308529,
           -0.0024579009041190147,
           0.03320475295186043,
           0.023184308782219887,
           0.03134051710367203,
           -0.29684677720069885,
           0.020345453172922134
          ],
          [
           0.02071889117360115,
           0.0015888088382780552,
           0.048886727541685104,
           0.018797941505908966,
           0.07633336633443832,
           0.06683887541294098,
           0.0014166850596666336,
           0.017132507637143135
          ],
          [
           0.01248311810195446,
           0.03689417615532875,
           0.0007317494601011276,
           -0.00633326917886734,
           0.022066261619329453,
           0.02205374650657177,
           0.03442656993865967,
           0.0003841286525130272
          ],
          [
           0.0003398694097995758,
           0.020489506423473358,
           0.021368447691202164,
           0.00037061236798763275,
           0.002025224734097719,
           -0.016924597322940826,
           0.012637697160243988,
           -0.001825941726565361
          ],
          [
           -0.0069577330723404884,
           0.025630952790379524,
           0.00022594258189201355,
           -0.012819158844649792,
           0.021877164021134377,
           0.002534475177526474,
           0.036508847028017044,
           0.013959757052361965
          ],
          [
           0.000492357648909092,
           0.007159952074289322,
           0.011913523077964783,
           -0.013849321752786636,
           0.0004409411922097206,
           0.01672213524580002,
           0.0018098140135407448,
           0.022637536749243736
          ]
         ],
         "zmax": 0.4190261662006378,
         "zmin": -0.4190261662006378
        },
        {
         "colorscale": [
          [
           0,
           "rgb(103,0,31)"
          ],
          [
           0.1,
           "rgb(178,24,43)"
          ],
          [
           0.2,
           "rgb(214,96,77)"
          ],
          [
           0.3,
           "rgb(244,165,130)"
          ],
          [
           0.4,
           "rgb(253,219,199)"
          ],
          [
           0.5,
           "rgb(247,247,247)"
          ],
          [
           0.6,
           "rgb(209,229,240)"
          ],
          [
           0.7,
           "rgb(146,197,222)"
          ],
          [
           0.8,
           "rgb(67,147,195)"
          ],
          [
           0.9,
           "rgb(33,102,172)"
          ],
          [
           1,
           "rgb(5,48,97)"
          ]
         ],
         "hoverongaps": false,
         "type": "heatmap",
         "x": [
          0,
          1,
          2,
          3,
          4,
          5,
          6,
          7
         ],
         "xaxis": "x11",
         "y": [
          "H",
          "G",
          "F",
          "E",
          "D",
          "C",
          "B",
          "A"
         ],
         "yaxis": "y11",
         "z": [
          [
           -0.004228958860039711,
           -0.021979346871376038,
           -0.013220243155956268,
           -0.005313078872859478,
           -0.009070420637726784,
           -0.05097834765911102,
           -0.015137244015932083,
           -0.028657827526330948
          ],
          [
           -0.013686425983905792,
           -0.029745979234576225,
           0.018533170223236084,
           -0.03522008657455444,
           -0.028243141248822212,
           -0.06783729046583176,
           0.034129850566387177,
           -0.031198017299175262
          ],
          [
           -0.03464512154459953,
           -0.01695086434483528,
           -0.016058212146162987,
           -0.023462703451514244,
           -0.008253696374595165,
           -0.04054559767246246,
           0.28683537244796753,
           -0.03554488718509674
          ],
          [
           -0.03829483315348625,
           -0.008533900603652,
           -0.036977618932724,
           -0.019693342968821526,
           -0.03906433284282684,
           -0.08775271475315094,
           0.020383281633257866,
           -0.008871199563145638
          ],
          [
           -0.0004380103200674057,
           -0.03846233710646629,
           -0.009426124393939972,
           0.02726663649082184,
           -0.048687420785427094,
           -0.012930658645927906,
           -0.048963867127895355,
           0.009468414820730686
          ],
          [
           0.009986106306314468,
           -0.01717037335038185,
           -0.02385103330016136,
           -0.02748183161020279,
           -0.0010505844838917255,
           0.028139468282461166,
           -0.030556971207261086,
           -0.006784908473491669
          ],
          [
           0.006698747165501118,
           -0.04591652750968933,
           0.007407007738947868,
           0.019411753863096237,
           0.005592120811343193,
           0.007297217845916748,
           -0.023218119516968727,
           -0.014024881646037102
          ],
          [
           -0.023494752123951912,
           -0.0158496405929327,
           -0.018472038209438324,
           -0.005849788896739483,
           -0.012498618103563786,
           -0.02754000574350357,
           -0.0012604929506778717,
           -0.009260548278689384
          ]
         ],
         "zmax": 0.4190261662006378,
         "zmin": -0.4190261662006378
        },
        {
         "colorscale": [
          [
           0,
           "rgb(103,0,31)"
          ],
          [
           0.1,
           "rgb(178,24,43)"
          ],
          [
           0.2,
           "rgb(214,96,77)"
          ],
          [
           0.3,
           "rgb(244,165,130)"
          ],
          [
           0.4,
           "rgb(253,219,199)"
          ],
          [
           0.5,
           "rgb(247,247,247)"
          ],
          [
           0.6,
           "rgb(209,229,240)"
          ],
          [
           0.7,
           "rgb(146,197,222)"
          ],
          [
           0.8,
           "rgb(67,147,195)"
          ],
          [
           0.9,
           "rgb(33,102,172)"
          ],
          [
           1,
           "rgb(5,48,97)"
          ]
         ],
         "hoverongaps": false,
         "type": "heatmap",
         "x": [
          0,
          1,
          2,
          3,
          4,
          5,
          6,
          7
         ],
         "xaxis": "x12",
         "y": [
          "H",
          "G",
          "F",
          "E",
          "D",
          "C",
          "B",
          "A"
         ],
         "yaxis": "y12",
         "z": [
          [
           0.04660634696483612,
           0.00894933007657528,
           0.029172247275710106,
           0.013623127713799477,
           0.017167095094919205,
           0.04701272398233414,
           -0.02732403203845024,
           0.028390634804964066
          ],
          [
           0.02278604730963707,
           0.011000299826264381,
           0.02225682884454727,
           0.027701156213879585,
           0.03893011808395386,
           0.02501397766172886,
           -0.014384767040610313,
           0.01082408707588911
          ],
          [
           0.016781391575932503,
           0.00817130133509636,
           0.06301222741603851,
           0.037159454077482224,
           0.016435272991657257,
           0.028038905933499336,
           0.05542377382516861,
           0.017009275034070015
          ],
          [
           0.011899273842573166,
           0.033064816147089005,
           0.0030940137803554535,
           0.03184996545314789,
           0.013305135071277618,
           0.04270506650209427,
           0.027396172285079956,
           0.015700872987508774
          ],
          [
           0.018878646194934845,
           0.004976328462362289,
           0.012224039062857628,
           0.028141740709543228,
           0.030976351350545883,
           0.04160931706428528,
           0.03854292631149292,
           0.026995956897735596
          ],
          [
           0.039340388029813766,
           0.017101744189858437,
           -0.008139153011143208,
           0.017446894198656082,
           0.030691329389810562,
           0.017584679648280144,
           0.009523781016469002,
           0.061038319021463394
          ],
          [
           0.03187388926744461,
           -0.009206060320138931,
           0.025022320449352264,
           0.05757923424243927,
           0.018233004957437515,
           0.048425622284412384,
           -0.009235979989171028,
           0.040158748626708984
          ],
          [
           0.011082480661571026,
           0.0328822061419487,
           0.027421269565820694,
           0.03732926398515701,
           0.011577612720429897,
           0.051235586404800415,
           0.016931848600506783,
           0.040174152702093124
          ]
         ],
         "zmax": 0.4190261662006378,
         "zmin": -0.4190261662006378
        }
       ],
       "layout": {
        "annotations": [
         {
          "font": {
           "size": 16
          },
          "showarrow": false,
          "text": "N426, L_E_in",
          "x": 0.034027777777777775,
          "xanchor": "center",
          "xref": "paper",
          "y": 1,
          "yanchor": "bottom",
          "yref": "paper"
         },
         {
          "font": {
           "size": 16
          },
          "showarrow": false,
          "text": "N426, L_M_in",
          "x": 0.11875,
          "xanchor": "center",
          "xref": "paper",
          "y": 1,
          "yanchor": "bottom",
          "yref": "paper"
         },
         {
          "font": {
           "size": 16
          },
          "showarrow": false,
          "text": "N426, L_Y_in",
          "x": 0.20347222222222222,
          "xanchor": "center",
          "xref": "paper",
          "y": 1,
          "yanchor": "bottom",
          "yref": "paper"
         },
         {
          "font": {
           "size": 16
          },
          "showarrow": false,
          "text": "N426, F_F_in",
          "x": 0.2881944444444444,
          "xanchor": "center",
          "xref": "paper",
          "y": 1,
          "yanchor": "bottom",
          "yref": "paper"
         },
         {
          "font": {
           "size": 16
          },
          "showarrow": false,
          "text": "N426, F_NF_in",
          "x": 0.3729166666666666,
          "xanchor": "center",
          "xref": "paper",
          "y": 1,
          "yanchor": "bottom",
          "yref": "paper"
         },
         {
          "font": {
           "size": 16
          },
          "showarrow": false,
          "text": "N426, P_P_in",
          "x": 0.4576388888888888,
          "xanchor": "center",
          "xref": "paper",
          "y": 1,
          "yanchor": "bottom",
          "yref": "paper"
         },
         {
          "font": {
           "size": 16
          },
          "showarrow": false,
          "text": "N426, L_E_out",
          "x": 0.5423611111111111,
          "xanchor": "center",
          "xref": "paper",
          "y": 1,
          "yanchor": "bottom",
          "yref": "paper"
         },
         {
          "font": {
           "size": 16
          },
          "showarrow": false,
          "text": "N426, L_M_out",
          "x": 0.6270833333333332,
          "xanchor": "center",
          "xref": "paper",
          "y": 1,
          "yanchor": "bottom",
          "yref": "paper"
         },
         {
          "font": {
           "size": 16
          },
          "showarrow": false,
          "text": "N426, L_Y_out",
          "x": 0.7118055555555555,
          "xanchor": "center",
          "xref": "paper",
          "y": 1,
          "yanchor": "bottom",
          "yref": "paper"
         },
         {
          "font": {
           "size": 16
          },
          "showarrow": false,
          "text": "N426, F_F_out",
          "x": 0.7965277777777777,
          "xanchor": "center",
          "xref": "paper",
          "y": 1,
          "yanchor": "bottom",
          "yref": "paper"
         },
         {
          "font": {
           "size": 16
          },
          "showarrow": false,
          "text": "N426, F_NF_out",
          "x": 0.8812499999999999,
          "xanchor": "center",
          "xref": "paper",
          "y": 1,
          "yanchor": "bottom",
          "yref": "paper"
         },
         {
          "font": {
           "size": 16
          },
          "showarrow": false,
          "text": "N426, P_P_out",
          "x": 0.9659722222222221,
          "xanchor": "center",
          "xref": "paper",
          "y": 1,
          "yanchor": "bottom",
          "yref": "paper"
         }
        ],
        "height": 300,
        "margin": {
         "t": 100
        },
        "template": {
         "data": {
          "bar": [
           {
            "error_x": {
             "color": "#2a3f5f"
            },
            "error_y": {
             "color": "#2a3f5f"
            },
            "marker": {
             "line": {
              "color": "#E5ECF6",
              "width": 0.5
             },
             "pattern": {
              "fillmode": "overlay",
              "size": 10,
              "solidity": 0.2
             }
            },
            "type": "bar"
           }
          ],
          "barpolar": [
           {
            "marker": {
             "line": {
              "color": "#E5ECF6",
              "width": 0.5
             },
             "pattern": {
              "fillmode": "overlay",
              "size": 10,
              "solidity": 0.2
             }
            },
            "type": "barpolar"
           }
          ],
          "carpet": [
           {
            "aaxis": {
             "endlinecolor": "#2a3f5f",
             "gridcolor": "white",
             "linecolor": "white",
             "minorgridcolor": "white",
             "startlinecolor": "#2a3f5f"
            },
            "baxis": {
             "endlinecolor": "#2a3f5f",
             "gridcolor": "white",
             "linecolor": "white",
             "minorgridcolor": "white",
             "startlinecolor": "#2a3f5f"
            },
            "type": "carpet"
           }
          ],
          "choropleth": [
           {
            "colorbar": {
             "outlinewidth": 0,
             "ticks": ""
            },
            "type": "choropleth"
           }
          ],
          "contour": [
           {
            "colorbar": {
             "outlinewidth": 0,
             "ticks": ""
            },
            "colorscale": [
             [
              0,
              "#0d0887"
             ],
             [
              0.1111111111111111,
              "#46039f"
             ],
             [
              0.2222222222222222,
              "#7201a8"
             ],
             [
              0.3333333333333333,
              "#9c179e"
             ],
             [
              0.4444444444444444,
              "#bd3786"
             ],
             [
              0.5555555555555556,
              "#d8576b"
             ],
             [
              0.6666666666666666,
              "#ed7953"
             ],
             [
              0.7777777777777778,
              "#fb9f3a"
             ],
             [
              0.8888888888888888,
              "#fdca26"
             ],
             [
              1,
              "#f0f921"
             ]
            ],
            "type": "contour"
           }
          ],
          "contourcarpet": [
           {
            "colorbar": {
             "outlinewidth": 0,
             "ticks": ""
            },
            "type": "contourcarpet"
           }
          ],
          "heatmap": [
           {
            "colorbar": {
             "outlinewidth": 0,
             "ticks": ""
            },
            "colorscale": [
             [
              0,
              "#0d0887"
             ],
             [
              0.1111111111111111,
              "#46039f"
             ],
             [
              0.2222222222222222,
              "#7201a8"
             ],
             [
              0.3333333333333333,
              "#9c179e"
             ],
             [
              0.4444444444444444,
              "#bd3786"
             ],
             [
              0.5555555555555556,
              "#d8576b"
             ],
             [
              0.6666666666666666,
              "#ed7953"
             ],
             [
              0.7777777777777778,
              "#fb9f3a"
             ],
             [
              0.8888888888888888,
              "#fdca26"
             ],
             [
              1,
              "#f0f921"
             ]
            ],
            "type": "heatmap"
           }
          ],
          "heatmapgl": [
           {
            "colorbar": {
             "outlinewidth": 0,
             "ticks": ""
            },
            "colorscale": [
             [
              0,
              "#0d0887"
             ],
             [
              0.1111111111111111,
              "#46039f"
             ],
             [
              0.2222222222222222,
              "#7201a8"
             ],
             [
              0.3333333333333333,
              "#9c179e"
             ],
             [
              0.4444444444444444,
              "#bd3786"
             ],
             [
              0.5555555555555556,
              "#d8576b"
             ],
             [
              0.6666666666666666,
              "#ed7953"
             ],
             [
              0.7777777777777778,
              "#fb9f3a"
             ],
             [
              0.8888888888888888,
              "#fdca26"
             ],
             [
              1,
              "#f0f921"
             ]
            ],
            "type": "heatmapgl"
           }
          ],
          "histogram": [
           {
            "marker": {
             "pattern": {
              "fillmode": "overlay",
              "size": 10,
              "solidity": 0.2
             }
            },
            "type": "histogram"
           }
          ],
          "histogram2d": [
           {
            "colorbar": {
             "outlinewidth": 0,
             "ticks": ""
            },
            "colorscale": [
             [
              0,
              "#0d0887"
             ],
             [
              0.1111111111111111,
              "#46039f"
             ],
             [
              0.2222222222222222,
              "#7201a8"
             ],
             [
              0.3333333333333333,
              "#9c179e"
             ],
             [
              0.4444444444444444,
              "#bd3786"
             ],
             [
              0.5555555555555556,
              "#d8576b"
             ],
             [
              0.6666666666666666,
              "#ed7953"
             ],
             [
              0.7777777777777778,
              "#fb9f3a"
             ],
             [
              0.8888888888888888,
              "#fdca26"
             ],
             [
              1,
              "#f0f921"
             ]
            ],
            "type": "histogram2d"
           }
          ],
          "histogram2dcontour": [
           {
            "colorbar": {
             "outlinewidth": 0,
             "ticks": ""
            },
            "colorscale": [
             [
              0,
              "#0d0887"
             ],
             [
              0.1111111111111111,
              "#46039f"
             ],
             [
              0.2222222222222222,
              "#7201a8"
             ],
             [
              0.3333333333333333,
              "#9c179e"
             ],
             [
              0.4444444444444444,
              "#bd3786"
             ],
             [
              0.5555555555555556,
              "#d8576b"
             ],
             [
              0.6666666666666666,
              "#ed7953"
             ],
             [
              0.7777777777777778,
              "#fb9f3a"
             ],
             [
              0.8888888888888888,
              "#fdca26"
             ],
             [
              1,
              "#f0f921"
             ]
            ],
            "type": "histogram2dcontour"
           }
          ],
          "mesh3d": [
           {
            "colorbar": {
             "outlinewidth": 0,
             "ticks": ""
            },
            "type": "mesh3d"
           }
          ],
          "parcoords": [
           {
            "line": {
             "colorbar": {
              "outlinewidth": 0,
              "ticks": ""
             }
            },
            "type": "parcoords"
           }
          ],
          "pie": [
           {
            "automargin": true,
            "type": "pie"
           }
          ],
          "scatter": [
           {
            "fillpattern": {
             "fillmode": "overlay",
             "size": 10,
             "solidity": 0.2
            },
            "type": "scatter"
           }
          ],
          "scatter3d": [
           {
            "line": {
             "colorbar": {
              "outlinewidth": 0,
              "ticks": ""
             }
            },
            "marker": {
             "colorbar": {
              "outlinewidth": 0,
              "ticks": ""
             }
            },
            "type": "scatter3d"
           }
          ],
          "scattercarpet": [
           {
            "marker": {
             "colorbar": {
              "outlinewidth": 0,
              "ticks": ""
             }
            },
            "type": "scattercarpet"
           }
          ],
          "scattergeo": [
           {
            "marker": {
             "colorbar": {
              "outlinewidth": 0,
              "ticks": ""
             }
            },
            "type": "scattergeo"
           }
          ],
          "scattergl": [
           {
            "marker": {
             "colorbar": {
              "outlinewidth": 0,
              "ticks": ""
             }
            },
            "type": "scattergl"
           }
          ],
          "scattermapbox": [
           {
            "marker": {
             "colorbar": {
              "outlinewidth": 0,
              "ticks": ""
             }
            },
            "type": "scattermapbox"
           }
          ],
          "scatterpolar": [
           {
            "marker": {
             "colorbar": {
              "outlinewidth": 0,
              "ticks": ""
             }
            },
            "type": "scatterpolar"
           }
          ],
          "scatterpolargl": [
           {
            "marker": {
             "colorbar": {
              "outlinewidth": 0,
              "ticks": ""
             }
            },
            "type": "scatterpolargl"
           }
          ],
          "scatterternary": [
           {
            "marker": {
             "colorbar": {
              "outlinewidth": 0,
              "ticks": ""
             }
            },
            "type": "scatterternary"
           }
          ],
          "surface": [
           {
            "colorbar": {
             "outlinewidth": 0,
             "ticks": ""
            },
            "colorscale": [
             [
              0,
              "#0d0887"
             ],
             [
              0.1111111111111111,
              "#46039f"
             ],
             [
              0.2222222222222222,
              "#7201a8"
             ],
             [
              0.3333333333333333,
              "#9c179e"
             ],
             [
              0.4444444444444444,
              "#bd3786"
             ],
             [
              0.5555555555555556,
              "#d8576b"
             ],
             [
              0.6666666666666666,
              "#ed7953"
             ],
             [
              0.7777777777777778,
              "#fb9f3a"
             ],
             [
              0.8888888888888888,
              "#fdca26"
             ],
             [
              1,
              "#f0f921"
             ]
            ],
            "type": "surface"
           }
          ],
          "table": [
           {
            "cells": {
             "fill": {
              "color": "#EBF0F8"
             },
             "line": {
              "color": "white"
             }
            },
            "header": {
             "fill": {
              "color": "#C8D4E3"
             },
             "line": {
              "color": "white"
             }
            },
            "type": "table"
           }
          ]
         },
         "layout": {
          "annotationdefaults": {
           "arrowcolor": "#2a3f5f",
           "arrowhead": 0,
           "arrowwidth": 1
          },
          "autotypenumbers": "strict",
          "coloraxis": {
           "colorbar": {
            "outlinewidth": 0,
            "ticks": ""
           }
          },
          "colorscale": {
           "diverging": [
            [
             0,
             "#8e0152"
            ],
            [
             0.1,
             "#c51b7d"
            ],
            [
             0.2,
             "#de77ae"
            ],
            [
             0.3,
             "#f1b6da"
            ],
            [
             0.4,
             "#fde0ef"
            ],
            [
             0.5,
             "#f7f7f7"
            ],
            [
             0.6,
             "#e6f5d0"
            ],
            [
             0.7,
             "#b8e186"
            ],
            [
             0.8,
             "#7fbc41"
            ],
            [
             0.9,
             "#4d9221"
            ],
            [
             1,
             "#276419"
            ]
           ],
           "sequential": [
            [
             0,
             "#0d0887"
            ],
            [
             0.1111111111111111,
             "#46039f"
            ],
            [
             0.2222222222222222,
             "#7201a8"
            ],
            [
             0.3333333333333333,
             "#9c179e"
            ],
            [
             0.4444444444444444,
             "#bd3786"
            ],
            [
             0.5555555555555556,
             "#d8576b"
            ],
            [
             0.6666666666666666,
             "#ed7953"
            ],
            [
             0.7777777777777778,
             "#fb9f3a"
            ],
            [
             0.8888888888888888,
             "#fdca26"
            ],
            [
             1,
             "#f0f921"
            ]
           ],
           "sequentialminus": [
            [
             0,
             "#0d0887"
            ],
            [
             0.1111111111111111,
             "#46039f"
            ],
            [
             0.2222222222222222,
             "#7201a8"
            ],
            [
             0.3333333333333333,
             "#9c179e"
            ],
            [
             0.4444444444444444,
             "#bd3786"
            ],
            [
             0.5555555555555556,
             "#d8576b"
            ],
            [
             0.6666666666666666,
             "#ed7953"
            ],
            [
             0.7777777777777778,
             "#fb9f3a"
            ],
            [
             0.8888888888888888,
             "#fdca26"
            ],
            [
             1,
             "#f0f921"
            ]
           ]
          },
          "colorway": [
           "#636efa",
           "#EF553B",
           "#00cc96",
           "#ab63fa",
           "#FFA15A",
           "#19d3f3",
           "#FF6692",
           "#B6E880",
           "#FF97FF",
           "#FECB52"
          ],
          "font": {
           "color": "#2a3f5f"
          },
          "geo": {
           "bgcolor": "white",
           "lakecolor": "white",
           "landcolor": "#E5ECF6",
           "showlakes": true,
           "showland": true,
           "subunitcolor": "white"
          },
          "hoverlabel": {
           "align": "left"
          },
          "hovermode": "closest",
          "mapbox": {
           "style": "light"
          },
          "paper_bgcolor": "white",
          "plot_bgcolor": "#E5ECF6",
          "polar": {
           "angularaxis": {
            "gridcolor": "white",
            "linecolor": "white",
            "ticks": ""
           },
           "bgcolor": "#E5ECF6",
           "radialaxis": {
            "gridcolor": "white",
            "linecolor": "white",
            "ticks": ""
           }
          },
          "scene": {
           "xaxis": {
            "backgroundcolor": "#E5ECF6",
            "gridcolor": "white",
            "gridwidth": 2,
            "linecolor": "white",
            "showbackground": true,
            "ticks": "",
            "zerolinecolor": "white"
           },
           "yaxis": {
            "backgroundcolor": "#E5ECF6",
            "gridcolor": "white",
            "gridwidth": 2,
            "linecolor": "white",
            "showbackground": true,
            "ticks": "",
            "zerolinecolor": "white"
           },
           "zaxis": {
            "backgroundcolor": "#E5ECF6",
            "gridcolor": "white",
            "gridwidth": 2,
            "linecolor": "white",
            "showbackground": true,
            "ticks": "",
            "zerolinecolor": "white"
           }
          },
          "shapedefaults": {
           "line": {
            "color": "#2a3f5f"
           }
          },
          "ternary": {
           "aaxis": {
            "gridcolor": "white",
            "linecolor": "white",
            "ticks": ""
           },
           "baxis": {
            "gridcolor": "white",
            "linecolor": "white",
            "ticks": ""
           },
           "bgcolor": "#E5ECF6",
           "caxis": {
            "gridcolor": "white",
            "linecolor": "white",
            "ticks": ""
           }
          },
          "title": {
           "x": 0.05
          },
          "xaxis": {
           "automargin": true,
           "gridcolor": "white",
           "linecolor": "white",
           "ticks": "",
           "title": {
            "standoff": 15
           },
           "zerolinecolor": "white",
           "zerolinewidth": 2
          },
          "yaxis": {
           "automargin": true,
           "gridcolor": "white",
           "linecolor": "white",
           "ticks": "",
           "title": {
            "standoff": 15
           },
           "zerolinecolor": "white",
           "zerolinewidth": 2
          }
         }
        },
        "title": {
         "text": "Neuon Weights L1_N426 Projected to different Linear Probes"
        },
        "width": 2400,
        "xaxis": {
         "anchor": "y",
         "domain": [
          0,
          0.06805555555555555
         ]
        },
        "xaxis10": {
         "anchor": "y10",
         "domain": [
          0.7625,
          0.8305555555555555
         ]
        },
        "xaxis11": {
         "anchor": "y11",
         "domain": [
          0.8472222222222221,
          0.9152777777777776
         ]
        },
        "xaxis12": {
         "anchor": "y12",
         "domain": [
          0.9319444444444444,
          0.9999999999999999
         ]
        },
        "xaxis2": {
         "anchor": "y2",
         "domain": [
          0.08472222222222221,
          0.15277777777777776
         ]
        },
        "xaxis3": {
         "anchor": "y3",
         "domain": [
          0.16944444444444443,
          0.2375
         ]
        },
        "xaxis4": {
         "anchor": "y4",
         "domain": [
          0.25416666666666665,
          0.3222222222222222
         ]
        },
        "xaxis5": {
         "anchor": "y5",
         "domain": [
          0.33888888888888885,
          0.4069444444444444
         ]
        },
        "xaxis6": {
         "anchor": "y6",
         "domain": [
          0.42361111111111105,
          0.4916666666666666
         ]
        },
        "xaxis7": {
         "anchor": "y7",
         "domain": [
          0.5083333333333333,
          0.5763888888888888
         ]
        },
        "xaxis8": {
         "anchor": "y8",
         "domain": [
          0.5930555555555554,
          0.661111111111111
         ]
        },
        "xaxis9": {
         "anchor": "y9",
         "domain": [
          0.6777777777777777,
          0.7458333333333332
         ]
        },
        "yaxis": {
         "anchor": "x",
         "domain": [
          0,
          1
         ]
        },
        "yaxis10": {
         "anchor": "x10",
         "domain": [
          0,
          1
         ]
        },
        "yaxis11": {
         "anchor": "x11",
         "domain": [
          0,
          1
         ]
        },
        "yaxis12": {
         "anchor": "x12",
         "domain": [
          0,
          1
         ]
        },
        "yaxis2": {
         "anchor": "x2",
         "domain": [
          0,
          1
         ]
        },
        "yaxis3": {
         "anchor": "x3",
         "domain": [
          0,
          1
         ]
        },
        "yaxis4": {
         "anchor": "x4",
         "domain": [
          0,
          1
         ]
        },
        "yaxis5": {
         "anchor": "x5",
         "domain": [
          0,
          1
         ]
        },
        "yaxis6": {
         "anchor": "x6",
         "domain": [
          0,
          1
         ]
        },
        "yaxis7": {
         "anchor": "x7",
         "domain": [
          0,
          1
         ]
        },
        "yaxis8": {
         "anchor": "x8",
         "domain": [
          0,
          1
         ]
        },
        "yaxis9": {
         "anchor": "x9",
         "domain": [
          0,
          1
         ]
        }
       }
      },
      "text/html": [
       "<div>                            <div id=\"c8374b09-a61d-4ca0-bfb6-e67d095f0154\" class=\"plotly-graph-div\" style=\"height:300px; width:2400px;\"></div>            <script type=\"text/javascript\">                require([\"plotly\"], function(Plotly) {                    window.PLOTLYENV=window.PLOTLYENV || {};                                    if (document.getElementById(\"c8374b09-a61d-4ca0-bfb6-e67d095f0154\")) {                    Plotly.newPlot(                        \"c8374b09-a61d-4ca0-bfb6-e67d095f0154\",                        [{\"colorscale\":[[0.0,\"rgb(103,0,31)\"],[0.1,\"rgb(178,24,43)\"],[0.2,\"rgb(214,96,77)\"],[0.3,\"rgb(244,165,130)\"],[0.4,\"rgb(253,219,199)\"],[0.5,\"rgb(247,247,247)\"],[0.6,\"rgb(209,229,240)\"],[0.7,\"rgb(146,197,222)\"],[0.8,\"rgb(67,147,195)\"],[0.9,\"rgb(33,102,172)\"],[1.0,\"rgb(5,48,97)\"]],\"hoverongaps\":false,\"x\":[0,1,2,3,4,5,6,7],\"y\":[\"H\",\"G\",\"F\",\"E\",\"D\",\"C\",\"B\",\"A\"],\"z\":[[-0.06743796169757843,-0.07324443757534027,-0.0836513563990593,-0.06509403884410858,-0.06150210276246071,-0.035132940858602524,0.06007695570588112,-0.004798047244548798],[-0.08818705379962921,-0.026717301458120346,-0.00436018779873848,0.007779526524245739,0.013143183663487434,-0.006179946940392256,0.14662641286849976,-0.03577850013971329],[-0.08846139907836914,-0.04914603382349014,0.03109777718782425,0.03274228796362877,0.013334606774151325,0.07171878218650818,-0.14275985956192017,-0.020930670201778412],[-0.05710037797689438,-0.013663887977600098,0.03001275286078453,0.20366080105304718,0.19985637068748474,0.03150864318013191,-0.10107341408729553,-0.06875747442245483],[-0.04773730784654617,0.008742932230234146,0.0025554029271006584,0.18839240074157715,0.19636310636997223,0.05640321597456932,-0.04146893322467804,-0.04156053811311722],[-0.06476864218711853,-0.01653904840350151,0.04038947448134422,0.09384313225746155,0.028680510818958282,-0.010736744850873947,0.0034835711121559143,-0.05560702085494995],[-0.05469200760126114,-0.008774859830737114,-0.011584891006350517,-0.01404483150690794,-0.018775062635540962,-0.031698793172836304,-0.06374407559633255,-0.038248080760240555],[-0.08283489942550659,-0.0674261748790741,-0.036520734429359436,-0.041609011590480804,-0.061663273721933365,-0.06676389276981354,-0.1114697977900505,-0.10257221758365631]],\"zmax\":0.4190261662006378,\"zmin\":-0.4190261662006378,\"type\":\"heatmap\",\"xaxis\":\"x\",\"yaxis\":\"y\"},{\"colorscale\":[[0.0,\"rgb(103,0,31)\"],[0.1,\"rgb(178,24,43)\"],[0.2,\"rgb(214,96,77)\"],[0.3,\"rgb(244,165,130)\"],[0.4,\"rgb(253,219,199)\"],[0.5,\"rgb(247,247,247)\"],[0.6,\"rgb(209,229,240)\"],[0.7,\"rgb(146,197,222)\"],[0.8,\"rgb(67,147,195)\"],[0.9,\"rgb(33,102,172)\"],[1.0,\"rgb(5,48,97)\"]],\"hoverongaps\":false,\"x\":[0,1,2,3,4,5,6,7],\"y\":[\"H\",\"G\",\"F\",\"E\",\"D\",\"C\",\"B\",\"A\"],\"z\":[[0.08145186305046082,0.06568004190921783,0.06700971722602844,0.05707445740699768,0.061867401003837585,0.07437311112880707,0.13331033289432526,0.07983984053134918],[0.05682965740561485,0.05051616579294205,0.029453126713633537,0.033573415130376816,0.0019952431321144104,0.0038482798263430595,0.15953794121742249,0.06525599211454391],[0.03336634859442711,0.026010185480117798,-0.003671666607260704,-0.011986812576651573,-0.016940850764513016,-0.04333698749542236,0.2542169988155365,0.12290404736995697],[0.01963951624929905,0.013042746111750603,-0.0240786112844944,-0.09711754322052002,-0.0733339861035347,-0.05657092481851578,0.10871356725692749,0.14202696084976196],[0.0387851744890213,0.014220893383026123,-0.020392943173646927,-0.10630308836698532,-0.07785488665103912,-0.06633268296718597,0.03706027939915657,0.06181733310222626],[0.04347476363182068,0.017139188945293427,-0.04835503548383713,-0.029110988602042198,0.00404975563287735,-0.0008668163791298866,0.007599444128572941,0.07560914009809494],[0.05742977559566498,0.0317961685359478,-0.022668151184916496,0.0055106147192418575,0.0110186617821455,0.0019728606566786766,0.012445298954844475,0.06465151160955429],[0.028623418882489204,0.06619507074356079,0.04383126646280289,0.045625150203704834,0.05834142118692398,0.0528777614235878,0.0732591301202774,0.06764493882656097]],\"zmax\":0.4190261662006378,\"zmin\":-0.4190261662006378,\"type\":\"heatmap\",\"xaxis\":\"x2\",\"yaxis\":\"y2\"},{\"colorscale\":[[0.0,\"rgb(103,0,31)\"],[0.1,\"rgb(178,24,43)\"],[0.2,\"rgb(214,96,77)\"],[0.3,\"rgb(244,165,130)\"],[0.4,\"rgb(253,219,199)\"],[0.5,\"rgb(247,247,247)\"],[0.6,\"rgb(209,229,240)\"],[0.7,\"rgb(146,197,222)\"],[0.8,\"rgb(67,147,195)\"],[0.9,\"rgb(33,102,172)\"],[1.0,\"rgb(5,48,97)\"]],\"hoverongaps\":false,\"x\":[0,1,2,3,4,5,6,7],\"y\":[\"H\",\"G\",\"F\",\"E\",\"D\",\"C\",\"B\",\"A\"],\"z\":[[0.06809579581022263,0.036412231624126434,0.0605463832616806,0.02743501216173172,-0.003788616508245468,-0.05316060781478882,-0.20549236238002777,-0.0787762701511383],[0.07034638524055481,-0.019824940711259842,-0.00979322288185358,-0.02114204876124859,-0.006924033164978027,-0.05094850808382034,-0.3925270140171051,-0.03667338564991951],[0.044870100915431976,-0.0016258955001831055,-0.047593727707862854,-0.04736357182264328,-0.043983761221170425,-0.035260312259197235,-0.04940269514918327,-0.09604001045227051],[0.023412887006998062,-0.014867336489260197,-0.06795859336853027,-0.12147000432014465,-0.10624716430902481,-0.045864004641771317,-0.02817555144429207,-0.0703182965517044],[-0.006415027193725109,-0.025910399854183197,-0.024615153670310974,-0.10111862421035767,-0.10876215994358063,-0.05366327613592148,0.01232336275279522,-0.0403108112514019],[0.007912112399935722,-0.016395647078752518,-0.033830732107162476,-0.04274367168545723,-0.059076376259326935,-0.03937116265296936,-0.015289172530174255,0.004131637513637543],[0.043072644621133804,0.00371725857257843,-0.03323754295706749,-0.007828542031347752,-0.017202228307724,-0.01765863597393036,0.01058126613497734,0.003120735287666321],[0.014835283160209656,0.030577410012483597,0.004389852285385132,0.03922785073518753,0.033875834196805954,0.0578065887093544,0.024455633014440536,0.05867603421211243]],\"zmax\":0.4190261662006378,\"zmin\":-0.4190261662006378,\"type\":\"heatmap\",\"xaxis\":\"x3\",\"yaxis\":\"y3\"},{\"colorscale\":[[0.0,\"rgb(103,0,31)\"],[0.1,\"rgb(178,24,43)\"],[0.2,\"rgb(214,96,77)\"],[0.3,\"rgb(244,165,130)\"],[0.4,\"rgb(253,219,199)\"],[0.5,\"rgb(247,247,247)\"],[0.6,\"rgb(209,229,240)\"],[0.7,\"rgb(146,197,222)\"],[0.8,\"rgb(67,147,195)\"],[0.9,\"rgb(33,102,172)\"],[1.0,\"rgb(5,48,97)\"]],\"hoverongaps\":false,\"x\":[0,1,2,3,4,5,6,7],\"y\":[\"H\",\"G\",\"F\",\"E\",\"D\",\"C\",\"B\",\"A\"],\"z\":[[0.20184656977653503,0.18907982110977173,0.17231130599975586,0.14226683974266052,0.154489666223526,0.14481130242347717,0.12493559718132019,0.21226060390472412],[0.13668560981750488,0.16020505130290985,0.15960350632667542,0.18819954991340637,0.18376818299293518,0.12621109187602997,0.2337031364440918,0.1662604808807373],[0.15034982562065125,0.17779460549354553,0.15531784296035767,0.14081677794456482,0.14885780215263367,0.13727210462093353,0.4190261662006378,0.1508674919605255],[0.13469719886779785,0.16915488243103027,0.13298720121383667,0.14726240932941437,0.15400084853172302,0.20203888416290283,0.21697208285331726,0.15157103538513184],[0.16563665866851807,0.15443497896194458,0.1548127382993698,0.13320806622505188,0.1361372470855713,0.1586262732744217,0.19017736613750458,0.15802216529846191],[0.15990491211414337,0.18887744843959808,0.14079773426055908,0.124685138463974,0.15749850869178772,0.18681901693344116,0.17414462566375732,0.18190953135490417],[0.17237861454486847,0.1352401077747345,0.13383181393146515,0.17339743673801422,0.1661345511674881,0.1558683216571808,0.18600142002105713,0.16252942383289337],[0.21712973713874817,0.1789117157459259,0.1866144835948944,0.15219128131866455,0.15292249619960785,0.15058746933937073,0.15723486244678497,0.21124312281608582]],\"zmax\":0.4190261662006378,\"zmin\":-0.4190261662006378,\"type\":\"heatmap\",\"xaxis\":\"x4\",\"yaxis\":\"y4\"},{\"colorscale\":[[0.0,\"rgb(103,0,31)\"],[0.1,\"rgb(178,24,43)\"],[0.2,\"rgb(214,96,77)\"],[0.3,\"rgb(244,165,130)\"],[0.4,\"rgb(253,219,199)\"],[0.5,\"rgb(247,247,247)\"],[0.6,\"rgb(209,229,240)\"],[0.7,\"rgb(146,197,222)\"],[0.8,\"rgb(67,147,195)\"],[0.9,\"rgb(33,102,172)\"],[1.0,\"rgb(5,48,97)\"]],\"hoverongaps\":false,\"x\":[0,1,2,3,4,5,6,7],\"y\":[\"H\",\"G\",\"F\",\"E\",\"D\",\"C\",\"B\",\"A\"],\"z\":[[-0.20512428879737854,-0.18565821647644043,-0.17395302653312683,-0.14970171451568604,-0.14517244696617126,-0.16201569139957428,-0.13582150638103485,-0.2101464569568634],[-0.1332038789987564,-0.14953865110874176,-0.15284954011440277,-0.18946999311447144,-0.1736835539340973,-0.11674883961677551,-0.23817630112171173,-0.17537754774093628],[-0.14928191900253296,-0.1675221025943756,-0.170867919921875,-0.14132165908813477,-0.1508159190416336,-0.15437039732933044,-0.41863757371902466,-0.1588926613330841],[-0.1506517231464386,-0.18200358748435974,-0.1280202567577362,-0.13657893240451813,-0.16355110704898834,-0.18117903172969818,-0.22921526432037354,-0.1356128454208374],[-0.16649842262268066,-0.1507711559534073,-0.16638433933258057,-0.13590694963932037,-0.13124212622642517,-0.16335082054138184,-0.1870848834514618,-0.16425473988056183],[-0.16102948784828186,-0.17273764312267303,-0.13932080566883087,-0.12714457511901855,-0.15816697478294373,-0.1950594186782837,-0.1694483608007431,-0.17773079872131348],[-0.15978604555130005,-0.14327435195446014,-0.1327572613954544,-0.176542729139328,-0.17146417498588562,-0.15301650762557983,-0.2032206505537033,-0.16409346461296082],[-0.21282167732715607,-0.18799015879631042,-0.17697899043560028,-0.16142742335796356,-0.14196649193763733,-0.15187346935272217,-0.1683790683746338,-0.21123521029949188]],\"zmax\":0.4190261662006378,\"zmin\":-0.4190261662006378,\"type\":\"heatmap\",\"xaxis\":\"x5\",\"yaxis\":\"y5\"},{\"colorscale\":[[0.0,\"rgb(103,0,31)\"],[0.1,\"rgb(178,24,43)\"],[0.2,\"rgb(214,96,77)\"],[0.3,\"rgb(244,165,130)\"],[0.4,\"rgb(253,219,199)\"],[0.5,\"rgb(247,247,247)\"],[0.6,\"rgb(209,229,240)\"],[0.7,\"rgb(146,197,222)\"],[0.8,\"rgb(67,147,195)\"],[0.9,\"rgb(33,102,172)\"],[1.0,\"rgb(5,48,97)\"]],\"hoverongaps\":false,\"x\":[0,1,2,3,4,5,6,7],\"y\":[\"H\",\"G\",\"F\",\"E\",\"D\",\"C\",\"B\",\"A\"],\"z\":[[0.15990646183490753,0.17495816946029663,0.16956931352615356,0.1414463222026825,0.19654151797294617,0.158345565199852,0.19312913715839386,0.12233193218708038],[0.16407984495162964,0.16008798778057098,0.15801386535167694,0.16766130924224854,0.16136810183525085,0.24511805176734924,0.19104909896850586,0.17083555459976196],[0.1571226865053177,0.16030210256576538,0.16567958891391754,0.15304291248321533,0.2058153748512268,0.21795588731765747,0.16863363981246948,0.1779632866382599],[0.15091484785079956,0.16237951815128326,0.15466472506523132,0.1773001253604889,0.19769394397735596,0.17199571430683136,0.2946208119392395,0.15457269549369812],[0.17081308364868164,0.15793286263942719,0.20135262608528137,0.19877701997756958,0.19856742024421692,0.19979941844940186,0.25126373767852783,0.11244098097085953],[0.18658556044101715,0.1776057630777359,0.18444570899009705,0.14816051721572876,0.1597122848033905,0.16419178247451782,0.17350824177265167,0.14110305905342102],[0.14231720566749573,0.18230639398097992,0.17918655276298523,0.15347585082054138,0.17170676589012146,0.16422954201698303,0.20516060292720795,0.1672690361738205],[0.17295603454113007,0.16902905702590942,0.14280809462070465,0.1714261919260025,0.14294205605983734,0.1720271110534668,0.20384563505649567,0.17232659459114075]],\"zmax\":0.4190261662006378,\"zmin\":-0.4190261662006378,\"type\":\"heatmap\",\"xaxis\":\"x6\",\"yaxis\":\"y6\"},{\"colorscale\":[[0.0,\"rgb(103,0,31)\"],[0.1,\"rgb(178,24,43)\"],[0.2,\"rgb(214,96,77)\"],[0.3,\"rgb(244,165,130)\"],[0.4,\"rgb(253,219,199)\"],[0.5,\"rgb(247,247,247)\"],[0.6,\"rgb(209,229,240)\"],[0.7,\"rgb(146,197,222)\"],[0.8,\"rgb(67,147,195)\"],[0.9,\"rgb(33,102,172)\"],[1.0,\"rgb(5,48,97)\"]],\"hoverongaps\":false,\"x\":[0,1,2,3,4,5,6,7],\"y\":[\"H\",\"G\",\"F\",\"E\",\"D\",\"C\",\"B\",\"A\"],\"z\":[[-0.01736229658126831,0.0009502070024609566,0.00097731314599514,-0.014442592859268188,-0.010396160185337067,0.008719882927834988,-0.025695528835058212,-0.03058481402695179],[-0.01669987291097641,-0.026948029175400734,0.017640914767980576,0.0010830499231815338,0.03194135054945946,0.016979899257421494,-0.06385684013366699,0.03009345382452011],[0.002912992611527443,0.008128581568598747,0.01229918748140335,0.0012729568406939507,0.034535132348537445,-0.004079416394233704,-0.03562362492084503,0.01714843511581421],[-0.016364194452762604,0.015926789492368698,0.012513717636466026,0.01944153383374214,0.01747841015458107,-0.021351629868149757,-0.011292312294244766,0.03440924733877182],[-0.010383771732449532,-0.01836549863219261,0.03389596939086914,0.020272592082619667,0.02139963023364544,0.012667488306760788,-0.007558112032711506,0.014647021889686584],[0.0004702061414718628,-0.006083684973418713,0.022034119814634323,-0.0071167051792144775,-0.005984471179544926,0.017427213490009308,0.015798529610037804,2.3484230041503906e-05],[0.0015910668298602104,0.024520445615053177,-0.012233585119247437,-0.005542350001633167,-0.04232870787382126,-0.003164578229188919,0.024652879685163498,0.013194682076573372],[0.014751048758625984,0.004079811275005341,-0.024082913994789124,0.010489258915185928,-0.003699943423271179,-0.006147418171167374,-0.008566467091441154,0.020024284720420837]],\"zmax\":0.4190261662006378,\"zmin\":-0.4190261662006378,\"type\":\"heatmap\",\"xaxis\":\"x7\",\"yaxis\":\"y7\"},{\"colorscale\":[[0.0,\"rgb(103,0,31)\"],[0.1,\"rgb(178,24,43)\"],[0.2,\"rgb(214,96,77)\"],[0.3,\"rgb(244,165,130)\"],[0.4,\"rgb(253,219,199)\"],[0.5,\"rgb(247,247,247)\"],[0.6,\"rgb(209,229,240)\"],[0.7,\"rgb(146,197,222)\"],[0.8,\"rgb(67,147,195)\"],[0.9,\"rgb(33,102,172)\"],[1.0,\"rgb(5,48,97)\"]],\"hoverongaps\":false,\"x\":[0,1,2,3,4,5,6,7],\"y\":[\"H\",\"G\",\"F\",\"E\",\"D\",\"C\",\"B\",\"A\"],\"z\":[[0.021501122042536736,-0.0033305641263723373,-0.007368487771600485,0.01119866594672203,0.003145011141896248,0.0002531427890062332,0.020838236436247826,-0.0006020879372954369],[-0.00482899509370327,0.011623270809650421,-0.01558777503669262,-0.008748961612582207,0.009190941229462624,0.001027137041091919,0.09165789186954498,-0.004253663122653961],[-0.008247023448348045,0.023661300539970398,-0.026821672916412354,-0.01576547510921955,-0.0334998294711113,-0.006963924504816532,0.17824646830558777,-0.006500042974948883],[0.0012628333643078804,0.006799173541367054,0.011922870762646198,-0.03931918740272522,-0.016097260639071465,0.015451399609446526,0.01824050024151802,0.014136411249637604],[0.014986586757004261,0.033815085887908936,-0.016005735844373703,-0.01459693256765604,-0.01890018954873085,-0.01711650937795639,-0.02726386860013008,0.007259253412485123],[0.002551298588514328,0.03024698793888092,-0.011325345374643803,0.007311305962502956,0.030109990388154984,-0.024266429245471954,-0.05811595916748047,-0.0003192359581589699],[0.012825706042349339,-0.015263540670275688,-0.0028583109378814697,0.04009518772363663,0.04353564605116844,-0.0060694459825754166,-0.03388211503624916,-0.007091849111020565],[-0.004282968118786812,-0.014644138514995575,0.01478327065706253,-0.019957013428211212,-0.01791750267148018,0.003123849630355835,-0.010612839832901955,-0.009156420826911926]],\"zmax\":0.4190261662006378,\"zmin\":-0.4190261662006378,\"type\":\"heatmap\",\"xaxis\":\"x8\",\"yaxis\":\"y8\"},{\"colorscale\":[[0.0,\"rgb(103,0,31)\"],[0.1,\"rgb(178,24,43)\"],[0.2,\"rgb(214,96,77)\"],[0.3,\"rgb(244,165,130)\"],[0.4,\"rgb(253,219,199)\"],[0.5,\"rgb(247,247,247)\"],[0.6,\"rgb(209,229,240)\"],[0.7,\"rgb(146,197,222)\"],[0.8,\"rgb(67,147,195)\"],[0.9,\"rgb(33,102,172)\"],[1.0,\"rgb(5,48,97)\"]],\"hoverongaps\":false,\"x\":[0,1,2,3,4,5,6,7],\"y\":[\"H\",\"G\",\"F\",\"E\",\"D\",\"C\",\"B\",\"A\"],\"z\":[[0.0027334466576576233,0.004996863193809986,-0.027144623920321465,0.01853976398706436,0.017576396465301514,0.020285747945308685,0.030780000612139702,0.009187337011098862],[0.029084721580147743,0.0005514062941074371,0.0020712176337838173,-0.01367274485528469,-0.008199229836463928,-0.013083890080451965,0.020192226395010948,-0.015250641852617264],[0.0048782662488520145,0.021087132394313812,0.021978460252285004,-0.021025454625487328,0.01791766658425331,-0.011539071798324585,-0.1577473282814026,-0.03250451385974884],[0.018459144979715347,-0.001841612160205841,-0.0074302442371845245,0.014918994158506393,-0.010382763110101223,0.04096538573503494,-0.005660747643560171,-0.027049846947193146],[0.0008806772530078888,0.02891458198428154,-0.04694811999797821,0.00679816585034132,-0.024220608174800873,0.01754692569375038,0.06575185060501099,-0.03550068661570549],[-0.007913906127214432,0.007465455215424299,-0.02601020783185959,-0.01045982725918293,-0.007816423662006855,-0.0019601909443736076,0.006427421234548092,0.0025281794369220734],[-0.020583266392350197,-0.009385783225297928,-0.0031872824765741825,0.008298657834529877,0.02609068714082241,0.009580520913004875,-0.01477581076323986,0.0059907035902142525],[-0.025513144209980965,0.00845247320830822,0.004055283963680267,0.003951335325837135,0.013816744089126587,-0.007952496409416199,0.026806235313415527,-0.01676725596189499]],\"zmax\":0.4190261662006378,\"zmin\":-0.4190261662006378,\"type\":\"heatmap\",\"xaxis\":\"x9\",\"yaxis\":\"y9\"},{\"colorscale\":[[0.0,\"rgb(103,0,31)\"],[0.1,\"rgb(178,24,43)\"],[0.2,\"rgb(214,96,77)\"],[0.3,\"rgb(244,165,130)\"],[0.4,\"rgb(253,219,199)\"],[0.5,\"rgb(247,247,247)\"],[0.6,\"rgb(209,229,240)\"],[0.7,\"rgb(146,197,222)\"],[0.8,\"rgb(67,147,195)\"],[0.9,\"rgb(33,102,172)\"],[1.0,\"rgb(5,48,97)\"]],\"hoverongaps\":false,\"x\":[0,1,2,3,4,5,6,7],\"y\":[\"H\",\"G\",\"F\",\"E\",\"D\",\"C\",\"B\",\"A\"],\"z\":[[0.033756889402866364,0.008463725447654724,0.023587316274642944,0.02371995709836483,0.010551400482654572,0.026319071650505066,0.015247181989252567,0.010451826266944408],[0.020899252966046333,0.015239536762237549,0.007336249575018883,0.022158704698085785,0.019490854814648628,0.041940949857234955,-0.05865410715341568,0.017201300710439682],[0.03714796528220177,0.02534257434308529,-0.0024579009041190147,0.03320475295186043,0.023184308782219887,0.03134051710367203,-0.29684677720069885,0.020345453172922134],[0.02071889117360115,0.0015888088382780552,0.048886727541685104,0.018797941505908966,0.07633336633443832,0.06683887541294098,0.0014166850596666336,0.017132507637143135],[0.01248311810195446,0.03689417615532875,0.0007317494601011276,-0.00633326917886734,0.022066261619329453,0.02205374650657177,0.03442656993865967,0.0003841286525130272],[0.0003398694097995758,0.020489506423473358,0.021368447691202164,0.00037061236798763275,0.002025224734097719,-0.016924597322940826,0.012637697160243988,-0.001825941726565361],[-0.0069577330723404884,0.025630952790379524,0.00022594258189201355,-0.012819158844649792,0.021877164021134377,0.002534475177526474,0.036508847028017044,0.013959757052361965],[0.000492357648909092,0.007159952074289322,0.011913523077964783,-0.013849321752786636,0.0004409411922097206,0.01672213524580002,0.0018098140135407448,0.022637536749243736]],\"zmax\":0.4190261662006378,\"zmin\":-0.4190261662006378,\"type\":\"heatmap\",\"xaxis\":\"x10\",\"yaxis\":\"y10\"},{\"colorscale\":[[0.0,\"rgb(103,0,31)\"],[0.1,\"rgb(178,24,43)\"],[0.2,\"rgb(214,96,77)\"],[0.3,\"rgb(244,165,130)\"],[0.4,\"rgb(253,219,199)\"],[0.5,\"rgb(247,247,247)\"],[0.6,\"rgb(209,229,240)\"],[0.7,\"rgb(146,197,222)\"],[0.8,\"rgb(67,147,195)\"],[0.9,\"rgb(33,102,172)\"],[1.0,\"rgb(5,48,97)\"]],\"hoverongaps\":false,\"x\":[0,1,2,3,4,5,6,7],\"y\":[\"H\",\"G\",\"F\",\"E\",\"D\",\"C\",\"B\",\"A\"],\"z\":[[-0.004228958860039711,-0.021979346871376038,-0.013220243155956268,-0.005313078872859478,-0.009070420637726784,-0.05097834765911102,-0.015137244015932083,-0.028657827526330948],[-0.013686425983905792,-0.029745979234576225,0.018533170223236084,-0.03522008657455444,-0.028243141248822212,-0.06783729046583176,0.034129850566387177,-0.031198017299175262],[-0.03464512154459953,-0.01695086434483528,-0.016058212146162987,-0.023462703451514244,-0.008253696374595165,-0.04054559767246246,0.28683537244796753,-0.03554488718509674],[-0.03829483315348625,-0.008533900603652,-0.036977618932724,-0.019693342968821526,-0.03906433284282684,-0.08775271475315094,0.020383281633257866,-0.008871199563145638],[-0.0004380103200674057,-0.03846233710646629,-0.009426124393939972,0.02726663649082184,-0.048687420785427094,-0.012930658645927906,-0.048963867127895355,0.009468414820730686],[0.009986106306314468,-0.01717037335038185,-0.02385103330016136,-0.02748183161020279,-0.0010505844838917255,0.028139468282461166,-0.030556971207261086,-0.006784908473491669],[0.006698747165501118,-0.04591652750968933,0.007407007738947868,0.019411753863096237,0.005592120811343193,0.007297217845916748,-0.023218119516968727,-0.014024881646037102],[-0.023494752123951912,-0.0158496405929327,-0.018472038209438324,-0.005849788896739483,-0.012498618103563786,-0.02754000574350357,-0.0012604929506778717,-0.009260548278689384]],\"zmax\":0.4190261662006378,\"zmin\":-0.4190261662006378,\"type\":\"heatmap\",\"xaxis\":\"x11\",\"yaxis\":\"y11\"},{\"colorscale\":[[0.0,\"rgb(103,0,31)\"],[0.1,\"rgb(178,24,43)\"],[0.2,\"rgb(214,96,77)\"],[0.3,\"rgb(244,165,130)\"],[0.4,\"rgb(253,219,199)\"],[0.5,\"rgb(247,247,247)\"],[0.6,\"rgb(209,229,240)\"],[0.7,\"rgb(146,197,222)\"],[0.8,\"rgb(67,147,195)\"],[0.9,\"rgb(33,102,172)\"],[1.0,\"rgb(5,48,97)\"]],\"hoverongaps\":false,\"x\":[0,1,2,3,4,5,6,7],\"y\":[\"H\",\"G\",\"F\",\"E\",\"D\",\"C\",\"B\",\"A\"],\"z\":[[0.04660634696483612,0.00894933007657528,0.029172247275710106,0.013623127713799477,0.017167095094919205,0.04701272398233414,-0.02732403203845024,0.028390634804964066],[0.02278604730963707,0.011000299826264381,0.02225682884454727,0.027701156213879585,0.03893011808395386,0.02501397766172886,-0.014384767040610313,0.01082408707588911],[0.016781391575932503,0.00817130133509636,0.06301222741603851,0.037159454077482224,0.016435272991657257,0.028038905933499336,0.05542377382516861,0.017009275034070015],[0.011899273842573166,0.033064816147089005,0.0030940137803554535,0.03184996545314789,0.013305135071277618,0.04270506650209427,0.027396172285079956,0.015700872987508774],[0.018878646194934845,0.004976328462362289,0.012224039062857628,0.028141740709543228,0.030976351350545883,0.04160931706428528,0.03854292631149292,0.026995956897735596],[0.039340388029813766,0.017101744189858437,-0.008139153011143208,0.017446894198656082,0.030691329389810562,0.017584679648280144,0.009523781016469002,0.061038319021463394],[0.03187388926744461,-0.009206060320138931,0.025022320449352264,0.05757923424243927,0.018233004957437515,0.048425622284412384,-0.009235979989171028,0.040158748626708984],[0.011082480661571026,0.0328822061419487,0.027421269565820694,0.03732926398515701,0.011577612720429897,0.051235586404800415,0.016931848600506783,0.040174152702093124]],\"zmax\":0.4190261662006378,\"zmin\":-0.4190261662006378,\"type\":\"heatmap\",\"xaxis\":\"x12\",\"yaxis\":\"y12\"}],                        {\"template\":{\"data\":{\"histogram2dcontour\":[{\"type\":\"histogram2dcontour\",\"colorbar\":{\"outlinewidth\":0,\"ticks\":\"\"},\"colorscale\":[[0.0,\"#0d0887\"],[0.1111111111111111,\"#46039f\"],[0.2222222222222222,\"#7201a8\"],[0.3333333333333333,\"#9c179e\"],[0.4444444444444444,\"#bd3786\"],[0.5555555555555556,\"#d8576b\"],[0.6666666666666666,\"#ed7953\"],[0.7777777777777778,\"#fb9f3a\"],[0.8888888888888888,\"#fdca26\"],[1.0,\"#f0f921\"]]}],\"choropleth\":[{\"type\":\"choropleth\",\"colorbar\":{\"outlinewidth\":0,\"ticks\":\"\"}}],\"histogram2d\":[{\"type\":\"histogram2d\",\"colorbar\":{\"outlinewidth\":0,\"ticks\":\"\"},\"colorscale\":[[0.0,\"#0d0887\"],[0.1111111111111111,\"#46039f\"],[0.2222222222222222,\"#7201a8\"],[0.3333333333333333,\"#9c179e\"],[0.4444444444444444,\"#bd3786\"],[0.5555555555555556,\"#d8576b\"],[0.6666666666666666,\"#ed7953\"],[0.7777777777777778,\"#fb9f3a\"],[0.8888888888888888,\"#fdca26\"],[1.0,\"#f0f921\"]]}],\"heatmap\":[{\"type\":\"heatmap\",\"colorbar\":{\"outlinewidth\":0,\"ticks\":\"\"},\"colorscale\":[[0.0,\"#0d0887\"],[0.1111111111111111,\"#46039f\"],[0.2222222222222222,\"#7201a8\"],[0.3333333333333333,\"#9c179e\"],[0.4444444444444444,\"#bd3786\"],[0.5555555555555556,\"#d8576b\"],[0.6666666666666666,\"#ed7953\"],[0.7777777777777778,\"#fb9f3a\"],[0.8888888888888888,\"#fdca26\"],[1.0,\"#f0f921\"]]}],\"heatmapgl\":[{\"type\":\"heatmapgl\",\"colorbar\":{\"outlinewidth\":0,\"ticks\":\"\"},\"colorscale\":[[0.0,\"#0d0887\"],[0.1111111111111111,\"#46039f\"],[0.2222222222222222,\"#7201a8\"],[0.3333333333333333,\"#9c179e\"],[0.4444444444444444,\"#bd3786\"],[0.5555555555555556,\"#d8576b\"],[0.6666666666666666,\"#ed7953\"],[0.7777777777777778,\"#fb9f3a\"],[0.8888888888888888,\"#fdca26\"],[1.0,\"#f0f921\"]]}],\"contourcarpet\":[{\"type\":\"contourcarpet\",\"colorbar\":{\"outlinewidth\":0,\"ticks\":\"\"}}],\"contour\":[{\"type\":\"contour\",\"colorbar\":{\"outlinewidth\":0,\"ticks\":\"\"},\"colorscale\":[[0.0,\"#0d0887\"],[0.1111111111111111,\"#46039f\"],[0.2222222222222222,\"#7201a8\"],[0.3333333333333333,\"#9c179e\"],[0.4444444444444444,\"#bd3786\"],[0.5555555555555556,\"#d8576b\"],[0.6666666666666666,\"#ed7953\"],[0.7777777777777778,\"#fb9f3a\"],[0.8888888888888888,\"#fdca26\"],[1.0,\"#f0f921\"]]}],\"surface\":[{\"type\":\"surface\",\"colorbar\":{\"outlinewidth\":0,\"ticks\":\"\"},\"colorscale\":[[0.0,\"#0d0887\"],[0.1111111111111111,\"#46039f\"],[0.2222222222222222,\"#7201a8\"],[0.3333333333333333,\"#9c179e\"],[0.4444444444444444,\"#bd3786\"],[0.5555555555555556,\"#d8576b\"],[0.6666666666666666,\"#ed7953\"],[0.7777777777777778,\"#fb9f3a\"],[0.8888888888888888,\"#fdca26\"],[1.0,\"#f0f921\"]]}],\"mesh3d\":[{\"type\":\"mesh3d\",\"colorbar\":{\"outlinewidth\":0,\"ticks\":\"\"}}],\"scatter\":[{\"fillpattern\":{\"fillmode\":\"overlay\",\"size\":10,\"solidity\":0.2},\"type\":\"scatter\"}],\"parcoords\":[{\"type\":\"parcoords\",\"line\":{\"colorbar\":{\"outlinewidth\":0,\"ticks\":\"\"}}}],\"scatterpolargl\":[{\"type\":\"scatterpolargl\",\"marker\":{\"colorbar\":{\"outlinewidth\":0,\"ticks\":\"\"}}}],\"bar\":[{\"error_x\":{\"color\":\"#2a3f5f\"},\"error_y\":{\"color\":\"#2a3f5f\"},\"marker\":{\"line\":{\"color\":\"#E5ECF6\",\"width\":0.5},\"pattern\":{\"fillmode\":\"overlay\",\"size\":10,\"solidity\":0.2}},\"type\":\"bar\"}],\"scattergeo\":[{\"type\":\"scattergeo\",\"marker\":{\"colorbar\":{\"outlinewidth\":0,\"ticks\":\"\"}}}],\"scatterpolar\":[{\"type\":\"scatterpolar\",\"marker\":{\"colorbar\":{\"outlinewidth\":0,\"ticks\":\"\"}}}],\"histogram\":[{\"marker\":{\"pattern\":{\"fillmode\":\"overlay\",\"size\":10,\"solidity\":0.2}},\"type\":\"histogram\"}],\"scattergl\":[{\"type\":\"scattergl\",\"marker\":{\"colorbar\":{\"outlinewidth\":0,\"ticks\":\"\"}}}],\"scatter3d\":[{\"type\":\"scatter3d\",\"line\":{\"colorbar\":{\"outlinewidth\":0,\"ticks\":\"\"}},\"marker\":{\"colorbar\":{\"outlinewidth\":0,\"ticks\":\"\"}}}],\"scattermapbox\":[{\"type\":\"scattermapbox\",\"marker\":{\"colorbar\":{\"outlinewidth\":0,\"ticks\":\"\"}}}],\"scatterternary\":[{\"type\":\"scatterternary\",\"marker\":{\"colorbar\":{\"outlinewidth\":0,\"ticks\":\"\"}}}],\"scattercarpet\":[{\"type\":\"scattercarpet\",\"marker\":{\"colorbar\":{\"outlinewidth\":0,\"ticks\":\"\"}}}],\"carpet\":[{\"aaxis\":{\"endlinecolor\":\"#2a3f5f\",\"gridcolor\":\"white\",\"linecolor\":\"white\",\"minorgridcolor\":\"white\",\"startlinecolor\":\"#2a3f5f\"},\"baxis\":{\"endlinecolor\":\"#2a3f5f\",\"gridcolor\":\"white\",\"linecolor\":\"white\",\"minorgridcolor\":\"white\",\"startlinecolor\":\"#2a3f5f\"},\"type\":\"carpet\"}],\"table\":[{\"cells\":{\"fill\":{\"color\":\"#EBF0F8\"},\"line\":{\"color\":\"white\"}},\"header\":{\"fill\":{\"color\":\"#C8D4E3\"},\"line\":{\"color\":\"white\"}},\"type\":\"table\"}],\"barpolar\":[{\"marker\":{\"line\":{\"color\":\"#E5ECF6\",\"width\":0.5},\"pattern\":{\"fillmode\":\"overlay\",\"size\":10,\"solidity\":0.2}},\"type\":\"barpolar\"}],\"pie\":[{\"automargin\":true,\"type\":\"pie\"}]},\"layout\":{\"autotypenumbers\":\"strict\",\"colorway\":[\"#636efa\",\"#EF553B\",\"#00cc96\",\"#ab63fa\",\"#FFA15A\",\"#19d3f3\",\"#FF6692\",\"#B6E880\",\"#FF97FF\",\"#FECB52\"],\"font\":{\"color\":\"#2a3f5f\"},\"hovermode\":\"closest\",\"hoverlabel\":{\"align\":\"left\"},\"paper_bgcolor\":\"white\",\"plot_bgcolor\":\"#E5ECF6\",\"polar\":{\"bgcolor\":\"#E5ECF6\",\"angularaxis\":{\"gridcolor\":\"white\",\"linecolor\":\"white\",\"ticks\":\"\"},\"radialaxis\":{\"gridcolor\":\"white\",\"linecolor\":\"white\",\"ticks\":\"\"}},\"ternary\":{\"bgcolor\":\"#E5ECF6\",\"aaxis\":{\"gridcolor\":\"white\",\"linecolor\":\"white\",\"ticks\":\"\"},\"baxis\":{\"gridcolor\":\"white\",\"linecolor\":\"white\",\"ticks\":\"\"},\"caxis\":{\"gridcolor\":\"white\",\"linecolor\":\"white\",\"ticks\":\"\"}},\"coloraxis\":{\"colorbar\":{\"outlinewidth\":0,\"ticks\":\"\"}},\"colorscale\":{\"sequential\":[[0.0,\"#0d0887\"],[0.1111111111111111,\"#46039f\"],[0.2222222222222222,\"#7201a8\"],[0.3333333333333333,\"#9c179e\"],[0.4444444444444444,\"#bd3786\"],[0.5555555555555556,\"#d8576b\"],[0.6666666666666666,\"#ed7953\"],[0.7777777777777778,\"#fb9f3a\"],[0.8888888888888888,\"#fdca26\"],[1.0,\"#f0f921\"]],\"sequentialminus\":[[0.0,\"#0d0887\"],[0.1111111111111111,\"#46039f\"],[0.2222222222222222,\"#7201a8\"],[0.3333333333333333,\"#9c179e\"],[0.4444444444444444,\"#bd3786\"],[0.5555555555555556,\"#d8576b\"],[0.6666666666666666,\"#ed7953\"],[0.7777777777777778,\"#fb9f3a\"],[0.8888888888888888,\"#fdca26\"],[1.0,\"#f0f921\"]],\"diverging\":[[0,\"#8e0152\"],[0.1,\"#c51b7d\"],[0.2,\"#de77ae\"],[0.3,\"#f1b6da\"],[0.4,\"#fde0ef\"],[0.5,\"#f7f7f7\"],[0.6,\"#e6f5d0\"],[0.7,\"#b8e186\"],[0.8,\"#7fbc41\"],[0.9,\"#4d9221\"],[1,\"#276419\"]]},\"xaxis\":{\"gridcolor\":\"white\",\"linecolor\":\"white\",\"ticks\":\"\",\"title\":{\"standoff\":15},\"zerolinecolor\":\"white\",\"automargin\":true,\"zerolinewidth\":2},\"yaxis\":{\"gridcolor\":\"white\",\"linecolor\":\"white\",\"ticks\":\"\",\"title\":{\"standoff\":15},\"zerolinecolor\":\"white\",\"automargin\":true,\"zerolinewidth\":2},\"scene\":{\"xaxis\":{\"backgroundcolor\":\"#E5ECF6\",\"gridcolor\":\"white\",\"linecolor\":\"white\",\"showbackground\":true,\"ticks\":\"\",\"zerolinecolor\":\"white\",\"gridwidth\":2},\"yaxis\":{\"backgroundcolor\":\"#E5ECF6\",\"gridcolor\":\"white\",\"linecolor\":\"white\",\"showbackground\":true,\"ticks\":\"\",\"zerolinecolor\":\"white\",\"gridwidth\":2},\"zaxis\":{\"backgroundcolor\":\"#E5ECF6\",\"gridcolor\":\"white\",\"linecolor\":\"white\",\"showbackground\":true,\"ticks\":\"\",\"zerolinecolor\":\"white\",\"gridwidth\":2}},\"shapedefaults\":{\"line\":{\"color\":\"#2a3f5f\"}},\"annotationdefaults\":{\"arrowcolor\":\"#2a3f5f\",\"arrowhead\":0,\"arrowwidth\":1},\"geo\":{\"bgcolor\":\"white\",\"landcolor\":\"#E5ECF6\",\"subunitcolor\":\"white\",\"showland\":true,\"showlakes\":true,\"lakecolor\":\"white\"},\"title\":{\"x\":0.05},\"mapbox\":{\"style\":\"light\"}}},\"xaxis\":{\"anchor\":\"y\",\"domain\":[0.0,0.06805555555555555]},\"yaxis\":{\"anchor\":\"x\",\"domain\":[0.0,1.0]},\"xaxis2\":{\"anchor\":\"y2\",\"domain\":[0.08472222222222221,0.15277777777777776]},\"yaxis2\":{\"anchor\":\"x2\",\"domain\":[0.0,1.0]},\"xaxis3\":{\"anchor\":\"y3\",\"domain\":[0.16944444444444443,0.2375]},\"yaxis3\":{\"anchor\":\"x3\",\"domain\":[0.0,1.0]},\"xaxis4\":{\"anchor\":\"y4\",\"domain\":[0.25416666666666665,0.3222222222222222]},\"yaxis4\":{\"anchor\":\"x4\",\"domain\":[0.0,1.0]},\"xaxis5\":{\"anchor\":\"y5\",\"domain\":[0.33888888888888885,0.4069444444444444]},\"yaxis5\":{\"anchor\":\"x5\",\"domain\":[0.0,1.0]},\"xaxis6\":{\"anchor\":\"y6\",\"domain\":[0.42361111111111105,0.4916666666666666]},\"yaxis6\":{\"anchor\":\"x6\",\"domain\":[0.0,1.0]},\"xaxis7\":{\"anchor\":\"y7\",\"domain\":[0.5083333333333333,0.5763888888888888]},\"yaxis7\":{\"anchor\":\"x7\",\"domain\":[0.0,1.0]},\"xaxis8\":{\"anchor\":\"y8\",\"domain\":[0.5930555555555554,0.661111111111111]},\"yaxis8\":{\"anchor\":\"x8\",\"domain\":[0.0,1.0]},\"xaxis9\":{\"anchor\":\"y9\",\"domain\":[0.6777777777777777,0.7458333333333332]},\"yaxis9\":{\"anchor\":\"x9\",\"domain\":[0.0,1.0]},\"xaxis10\":{\"anchor\":\"y10\",\"domain\":[0.7625,0.8305555555555555]},\"yaxis10\":{\"anchor\":\"x10\",\"domain\":[0.0,1.0]},\"xaxis11\":{\"anchor\":\"y11\",\"domain\":[0.8472222222222221,0.9152777777777776]},\"yaxis11\":{\"anchor\":\"x11\",\"domain\":[0.0,1.0]},\"xaxis12\":{\"anchor\":\"y12\",\"domain\":[0.9319444444444444,0.9999999999999999]},\"yaxis12\":{\"anchor\":\"x12\",\"domain\":[0.0,1.0]},\"annotations\":[{\"font\":{\"size\":16},\"showarrow\":false,\"text\":\"N426, L_E_in\",\"x\":0.034027777777777775,\"xanchor\":\"center\",\"xref\":\"paper\",\"y\":1.0,\"yanchor\":\"bottom\",\"yref\":\"paper\"},{\"font\":{\"size\":16},\"showarrow\":false,\"text\":\"N426, L_M_in\",\"x\":0.11875,\"xanchor\":\"center\",\"xref\":\"paper\",\"y\":1.0,\"yanchor\":\"bottom\",\"yref\":\"paper\"},{\"font\":{\"size\":16},\"showarrow\":false,\"text\":\"N426, L_Y_in\",\"x\":0.20347222222222222,\"xanchor\":\"center\",\"xref\":\"paper\",\"y\":1.0,\"yanchor\":\"bottom\",\"yref\":\"paper\"},{\"font\":{\"size\":16},\"showarrow\":false,\"text\":\"N426, F_F_in\",\"x\":0.2881944444444444,\"xanchor\":\"center\",\"xref\":\"paper\",\"y\":1.0,\"yanchor\":\"bottom\",\"yref\":\"paper\"},{\"font\":{\"size\":16},\"showarrow\":false,\"text\":\"N426, F_NF_in\",\"x\":0.3729166666666666,\"xanchor\":\"center\",\"xref\":\"paper\",\"y\":1.0,\"yanchor\":\"bottom\",\"yref\":\"paper\"},{\"font\":{\"size\":16},\"showarrow\":false,\"text\":\"N426, P_P_in\",\"x\":0.4576388888888888,\"xanchor\":\"center\",\"xref\":\"paper\",\"y\":1.0,\"yanchor\":\"bottom\",\"yref\":\"paper\"},{\"font\":{\"size\":16},\"showarrow\":false,\"text\":\"N426, L_E_out\",\"x\":0.5423611111111111,\"xanchor\":\"center\",\"xref\":\"paper\",\"y\":1.0,\"yanchor\":\"bottom\",\"yref\":\"paper\"},{\"font\":{\"size\":16},\"showarrow\":false,\"text\":\"N426, L_M_out\",\"x\":0.6270833333333332,\"xanchor\":\"center\",\"xref\":\"paper\",\"y\":1.0,\"yanchor\":\"bottom\",\"yref\":\"paper\"},{\"font\":{\"size\":16},\"showarrow\":false,\"text\":\"N426, L_Y_out\",\"x\":0.7118055555555555,\"xanchor\":\"center\",\"xref\":\"paper\",\"y\":1.0,\"yanchor\":\"bottom\",\"yref\":\"paper\"},{\"font\":{\"size\":16},\"showarrow\":false,\"text\":\"N426, F_F_out\",\"x\":0.7965277777777777,\"xanchor\":\"center\",\"xref\":\"paper\",\"y\":1.0,\"yanchor\":\"bottom\",\"yref\":\"paper\"},{\"font\":{\"size\":16},\"showarrow\":false,\"text\":\"N426, F_NF_out\",\"x\":0.8812499999999999,\"xanchor\":\"center\",\"xref\":\"paper\",\"y\":1.0,\"yanchor\":\"bottom\",\"yref\":\"paper\"},{\"font\":{\"size\":16},\"showarrow\":false,\"text\":\"N426, P_P_out\",\"x\":0.9659722222222221,\"xanchor\":\"center\",\"xref\":\"paper\",\"y\":1.0,\"yanchor\":\"bottom\",\"yref\":\"paper\"}],\"margin\":{\"t\":100},\"title\":{\"text\":\"Neuon Weights L1_N426 Projected to different Linear Probes\"},\"width\":2400,\"height\":300},                        {\"responsive\": true}                    ).then(function(){\n",
       "                            \n",
       "var gd = document.getElementById('c8374b09-a61d-4ca0-bfb6-e67d095f0154');\n",
       "var x = new MutationObserver(function (mutations, observer) {{\n",
       "        var display = window.getComputedStyle(gd).display;\n",
       "        if (!display || display === 'none') {{\n",
       "            console.log([gd, 'removed!']);\n",
       "            Plotly.purge(gd);\n",
       "            observer.disconnect();\n",
       "        }}\n",
       "}});\n",
       "\n",
       "// Listen for the removal of the full notebook cells\n",
       "var notebookContainer = gd.closest('#notebook-container');\n",
       "if (notebookContainer) {{\n",
       "    x.observe(notebookContainer, {childList: true});\n",
       "}}\n",
       "\n",
       "// Listen for the clearing of the current output cell\n",
       "var outputEl = gd.closest('.output');\n",
       "if (outputEl) {{\n",
       "    x.observe(outputEl, {childList: true});\n",
       "}}\n",
       "\n",
       "                        })                };                });            </script>        </div>"
      ]
     },
     "metadata": {},
     "output_type": "display_data"
    }
   ],
   "source": [
    "neurons = [t.Tensor([neuron]).to(device).to(t.int64)]\n",
    "\n",
    "probe_directions_new = {\n",
    "    \"linear\" : [\"empty\", \"mine\", \"yours\"],\n",
    "    \"flipped\" : [\"flipped\", \"not_flipped\"],\n",
    "    \"placed\" : [\"placed\"],\n",
    "}\n",
    "\n",
    "plot_neuron_weights(neurons, layer, title=f\"Neuon Weights L{layer}_N{neuron} Projected to different Linear Probes\", probe_names_and_directions=probe_directions_new)"
   ]
  },
  {
   "cell_type": "code",
   "execution_count": null,
   "metadata": {},
   "outputs": [
    {
     "name": "stdout",
     "output_type": "stream",
     "text": [
      "torch.Size([8, 1, 59, 8, 8])\n"
     ]
    },
    {
     "data": {
      "application/vnd.plotly.v1+json": {
       "config": {
        "plotlyServerURL": "https://plot.ly"
       },
       "data": [
        {
         "colorscale": [
          [
           0,
           "rgb(103,0,31)"
          ],
          [
           0.1,
           "rgb(178,24,43)"
          ],
          [
           0.2,
           "rgb(214,96,77)"
          ],
          [
           0.3,
           "rgb(244,165,130)"
          ],
          [
           0.4,
           "rgb(253,219,199)"
          ],
          [
           0.5,
           "rgb(247,247,247)"
          ],
          [
           0.6,
           "rgb(209,229,240)"
          ],
          [
           0.7,
           "rgb(146,197,222)"
          ],
          [
           0.8,
           "rgb(67,147,195)"
          ],
          [
           0.9,
           "rgb(33,102,172)"
          ],
          [
           1,
           "rgb(5,48,97)"
          ]
         ],
         "hoverongaps": false,
         "text": [
          [
           " ",
           " ",
           " ",
           " ",
           " ",
           " ",
           " ",
           " "
          ],
          [
           " ",
           " ",
           " ",
           " ",
           " ",
           " ",
           " ",
           " "
          ],
          [
           " ",
           "▓",
           " ",
           " ",
           " ",
           " ",
           " ",
           " "
          ],
          [
           " ",
           " ",
           " ",
           " ",
           " ",
           " ",
           " ",
           " "
          ],
          [
           " ",
           " ",
           " ",
           " ",
           " ",
           " ",
           " ",
           " "
          ],
          [
           " ",
           " ",
           " ",
           " ",
           " ",
           " ",
           " ",
           " "
          ],
          [
           " ",
           " ",
           " ",
           " ",
           " ",
           " ",
           " ",
           " "
          ],
          [
           " ",
           " ",
           " ",
           " ",
           " ",
           " ",
           " ",
           " "
          ]
         ],
         "texttemplate": "%{text}",
         "type": "heatmap",
         "x": [
          0,
          1,
          2,
          3,
          4,
          5,
          6,
          7
         ],
         "xaxis": "x",
         "y": [
          "H",
          "G",
          "F",
          "E",
          "D",
          "C",
          "B",
          "A"
         ],
         "yaxis": "y",
         "z": [
          [
           0.5,
           0.011458218097686768,
           0.7629413604736328,
           0.39155113697052,
           0.5155847072601318,
           0.4714882969856262,
           0.9809215664863586,
           0.4999937415122986
          ],
          [
           0.5,
           0.5,
           0.794864296913147,
           0.6693593263626099,
           0.38156819343566895,
           0.8210797309875488,
           0.5000008940696716,
           0.9639441967010498
          ],
          [
           0.004373908042907715,
           0.8961135745048523,
           0.4323711693286896,
           0.15285378694534302,
           0.6923264265060425,
           0.4332772493362427,
           0.857837438583374,
           0.9212738871574402
          ],
          [
           0.9999653100967407,
           0.5,
           0.4670102000236511,
           0.2912539839744568,
           0.5770214796066284,
           0.7247607111930847,
           0.4999999403953552,
           0.26654887199401855
          ],
          [
           0.9997658133506775,
           0.9053469896316528,
           0.06321710348129272,
           0.1288781762123108,
           0.4797708988189697,
           0.6753562688827515,
           0.19476932287216187,
           0.15975692868232727
          ],
          [
           0.5,
           0.7215558886528015,
           0.20958560705184937,
           0.47534656524658203,
           0.6390960216522217,
           0.3223922848701477,
           0.33168697357177734,
           0.3043181896209717
          ],
          [
           0.5,
           0.13813596963882446,
           0.7296568155288696,
           0.3319571018218994,
           0.3281680941581726,
           0.6677661538124084,
           0.500004231929779,
           0.9241408109664917
          ],
          [
           0.49999940395355225,
           0.5000309348106384,
           0.5000002980232239,
           0.49999991059303284,
           0.006171911954879761,
           0.49999484419822693,
           0.5000007748603821,
           0.49999988079071045
          ]
         ],
         "zmax": 1,
         "zmin": 0
        },
        {
         "colorscale": [
          [
           0,
           "rgb(103,0,31)"
          ],
          [
           0.1,
           "rgb(178,24,43)"
          ],
          [
           0.2,
           "rgb(214,96,77)"
          ],
          [
           0.3,
           "rgb(244,165,130)"
          ],
          [
           0.4,
           "rgb(253,219,199)"
          ],
          [
           0.5,
           "rgb(247,247,247)"
          ],
          [
           0.6,
           "rgb(209,229,240)"
          ],
          [
           0.7,
           "rgb(146,197,222)"
          ],
          [
           0.8,
           "rgb(67,147,195)"
          ],
          [
           0.9,
           "rgb(33,102,172)"
          ],
          [
           1,
           "rgb(5,48,97)"
          ]
         ],
         "hoverongaps": false,
         "text": [
          [
           " ",
           " ",
           " ",
           " ",
           " ",
           " ",
           " ",
           " "
          ],
          [
           " ",
           " ",
           " ",
           " ",
           " ",
           " ",
           " ",
           " "
          ],
          [
           " ",
           "█",
           " ",
           " ",
           " ",
           " ",
           " ",
           " "
          ],
          [
           " ",
           " ",
           " ",
           " ",
           " ",
           " ",
           " ",
           " "
          ],
          [
           " ",
           " ",
           " ",
           " ",
           " ",
           " ",
           " ",
           " "
          ],
          [
           " ",
           " ",
           "░",
           " ",
           " ",
           " ",
           " ",
           " "
          ],
          [
           " ",
           " ",
           " ",
           " ",
           " ",
           " ",
           " ",
           " "
          ],
          [
           " ",
           " ",
           " ",
           " ",
           " ",
           " ",
           " ",
           " "
          ]
         ],
         "texttemplate": "%{text}",
         "type": "heatmap",
         "x": [
          0,
          1,
          2,
          3,
          4,
          5,
          6,
          7
         ],
         "xaxis": "x2",
         "y": [
          "H",
          "G",
          "F",
          "E",
          "D",
          "C",
          "B",
          "A"
         ],
         "yaxis": "y2",
         "z": [
          [
           0.4998771548271179,
           0.0032394826412200928,
           0.8643537163734436,
           0.18207469582557678,
           0.1932309865951538,
           0.5371562242507935,
           0.9966331720352173,
           0.5000061392784119
          ],
          [
           0.4999943673610687,
           0.49999940395355225,
           0.9456417560577393,
           0.695848286151886,
           0.3209419846534729,
           0.9797141551971436,
           0.500037431716919,
           0.9963445067405701
          ],
          [
           0.0005437731742858887,
           0.8359659910202026,
           0.40139877796173096,
           0.13358700275421143,
           0.8633532524108887,
           0.7552543878555298,
           0.9199714064598083,
           0.9984824657440186
          ],
          [
           0.9906771183013916,
           0.5,
           0.08199349045753479,
           0.38217777013778687,
           0.5014474391937256,
           0.8900578022003174,
           0.49999985098838806,
           0.9762414693832397
          ],
          [
           0.9994877576828003,
           0.11486783623695374,
           0.0596335232257843,
           0.041033804416656494,
           0.6526891589164734,
           0.4069073796272278,
           0.043456196784973145,
           0.9910246133804321
          ],
          [
           0.4999997019767761,
           0.7142330408096313,
           0.05714213848114014,
           0.499573290348053,
           0.25212639570236206,
           0.17681434750556946,
           0.07002601027488708,
           0.9811753034591675
          ],
          [
           0.5000007748603821,
           0.010922878980636597,
           0.990890622138977,
           0.2955363094806671,
           0.2361527681350708,
           0.49193447828292847,
           0.4999978542327881,
           0.9990924596786499
          ],
          [
           0.49994713068008423,
           0.49995771050453186,
           0.4999747574329376,
           0.49990788102149963,
           0.00008779764175415039,
           0.49733495712280273,
           0.4999615550041199,
           0.4999367296695709
          ]
         ],
         "zmax": 1,
         "zmin": 0
        },
        {
         "colorscale": [
          [
           0,
           "rgb(103,0,31)"
          ],
          [
           0.1,
           "rgb(178,24,43)"
          ],
          [
           0.2,
           "rgb(214,96,77)"
          ],
          [
           0.3,
           "rgb(244,165,130)"
          ],
          [
           0.4,
           "rgb(253,219,199)"
          ],
          [
           0.5,
           "rgb(247,247,247)"
          ],
          [
           0.6,
           "rgb(209,229,240)"
          ],
          [
           0.7,
           "rgb(146,197,222)"
          ],
          [
           0.8,
           "rgb(67,147,195)"
          ],
          [
           0.9,
           "rgb(33,102,172)"
          ],
          [
           1,
           "rgb(5,48,97)"
          ]
         ],
         "hoverongaps": false,
         "text": [
          [
           " ",
           " ",
           " ",
           " ",
           " ",
           " ",
           " ",
           " "
          ],
          [
           " ",
           " ",
           " ",
           " ",
           " ",
           " ",
           " ",
           " "
          ],
          [
           " ",
           "█",
           " ",
           " ",
           " ",
           " ",
           " ",
           " "
          ],
          [
           " ",
           " ",
           " ",
           " ",
           " ",
           " ",
           " ",
           " "
          ],
          [
           " ",
           "▓",
           " ",
           " ",
           " ",
           " ",
           " ",
           " "
          ],
          [
           " ",
           " ",
           "░",
           " ",
           " ",
           " ",
           " ",
           " "
          ],
          [
           " ",
           " ",
           " ",
           " ",
           " ",
           " ",
           " ",
           " "
          ],
          [
           " ",
           " ",
           " ",
           " ",
           " ",
           " ",
           " ",
           " "
          ]
         ],
         "texttemplate": "%{text}",
         "type": "heatmap",
         "x": [
          0,
          1,
          2,
          3,
          4,
          5,
          6,
          7
         ],
         "xaxis": "x3",
         "y": [
          "H",
          "G",
          "F",
          "E",
          "D",
          "C",
          "B",
          "A"
         ],
         "yaxis": "y3",
         "z": [
          [
           0.49997225403785706,
           0.0025126636028289795,
           0.9898886680603027,
           0.9969997406005859,
           0.9894635677337646,
           0.9935463666915894,
           0.9986398816108704,
           0.4999587833881378
          ],
          [
           0.49999845027923584,
           0.5000001788139343,
           0.9987164735794067,
           0.8452550172805786,
           0.07227781414985657,
           0.9853326678276062,
           0.4996410012245178,
           0.9989196062088013
          ],
          [
           0.00013944506645202637,
           0.9936871528625488,
           0.024298280477523804,
           0.002394735813140869,
           0.6532290577888489,
           0.9422143697738647,
           0.9405324459075928,
           0.993459939956665
          ],
          [
           0.9996367692947388,
           0.4999981224536896,
           0.03345143795013428,
           0.17268621921539307,
           0.37574049830436707,
           0.7206738591194153,
           0.5000011324882507,
           0.9977241158485413
          ],
          [
           0.9999595880508423,
           0.08921518921852112,
           0.016379058361053467,
           0.009383589029312134,
           0.7351868748664856,
           0.22400516271591187,
           0.10527634620666504,
           0.9792789220809937
          ],
          [
           0.500054121017456,
           0.9982625246047974,
           0.2314404547214508,
           0.24517697095870972,
           0.1690559983253479,
           0.13022178411483765,
           0.03122413158416748,
           0.9953839182853699
          ],
          [
           0.49998635053634644,
           0.01911693811416626,
           0.9993610382080078,
           0.6723076105117798,
           0.22198796272277832,
           0.28860560059547424,
           0.4997676610946655,
           0.9903241395950317
          ],
          [
           0.4998916983604431,
           0.4994509816169739,
           0.49994876980781555,
           0.5000088214874268,
           0.004696011543273926,
           0.4987178146839142,
           0.4999696910381317,
           0.49988582730293274
          ]
         ],
         "zmax": 1,
         "zmin": 0
        },
        {
         "colorscale": [
          [
           0,
           "rgb(103,0,31)"
          ],
          [
           0.1,
           "rgb(178,24,43)"
          ],
          [
           0.2,
           "rgb(214,96,77)"
          ],
          [
           0.3,
           "rgb(244,165,130)"
          ],
          [
           0.4,
           "rgb(253,219,199)"
          ],
          [
           0.5,
           "rgb(247,247,247)"
          ],
          [
           0.6,
           "rgb(209,229,240)"
          ],
          [
           0.7,
           "rgb(146,197,222)"
          ],
          [
           0.8,
           "rgb(67,147,195)"
          ],
          [
           0.9,
           "rgb(33,102,172)"
          ],
          [
           1,
           "rgb(5,48,97)"
          ]
         ],
         "hoverongaps": false,
         "text": [
          [
           " ",
           " ",
           " ",
           " ",
           " ",
           " ",
           " ",
           " "
          ],
          [
           " ",
           " ",
           " ",
           " ",
           " ",
           " ",
           " ",
           " "
          ],
          [
           " ",
           "█",
           " ",
           " ",
           " ",
           " ",
           " ",
           " "
          ],
          [
           " ",
           " ",
           " ",
           " ",
           " ",
           " ",
           " ",
           " "
          ],
          [
           " ",
           " ",
           " ",
           " ",
           " ",
           " ",
           " ",
           " "
          ],
          [
           " ",
           " ",
           " ",
           " ",
           " ",
           " ",
           " ",
           " "
          ],
          [
           " ",
           " ",
           " ",
           " ",
           " ",
           " ",
           " ",
           " "
          ],
          [
           " ",
           " ",
           " ",
           " ",
           " ",
           " ",
           " ",
           " "
          ]
         ],
         "texttemplate": "%{text}",
         "type": "heatmap",
         "x": [
          0,
          1,
          2,
          3,
          4,
          5,
          6,
          7
         ],
         "xaxis": "x4",
         "y": [
          "H",
          "G",
          "F",
          "E",
          "D",
          "C",
          "B",
          "A"
         ],
         "yaxis": "y4",
         "z": [
          [
           0.49991557002067566,
           0.0004534125328063965,
           0.979370653629303,
           0.998214840888977,
           0.9946866035461426,
           0.9936821460723877,
           0.9972240924835205,
           0.5000032186508179
          ],
          [
           0.4999851882457733,
           0.5000090003013611,
           0.9904892444610596,
           0.9246726036071777,
           0.1501511037349701,
           0.9630743265151978,
           0.5013574361801147,
           0.9967209100723267
          ],
          [
           0.009447544813156128,
           0.9990283250808716,
           0.00817456841468811,
           0.008473187685012817,
           0.9769436120986938,
           0.9353431463241577,
           0.9681702256202698,
           0.9834766387939453
          ],
          [
           0.9928218722343445,
           0.49992138147354126,
           0.005748540163040161,
           0.07980823516845703,
           0.13893762230873108,
           0.7634314298629761,
           0.4999736547470093,
           0.9852131605148315
          ],
          [
           0.9997097253799438,
           0.02574017643928528,
           0.005230158567428589,
           0.0392281711101532,
           0.9268379807472229,
           0.06066632270812988,
           0.04816931486129761,
           0.991390585899353
          ],
          [
           0.5000365376472473,
           0.9979289770126343,
           0.1101563572883606,
           0.00717848539352417,
           0.01754772663116455,
           0.04267364740371704,
           0.0073728859424591064,
           0.9760951995849609
          ],
          [
           0.5001583099365234,
           0.006512194871902466,
           0.996383786201477,
           0.06031963229179382,
           0.010041624307632446,
           0.027723252773284912,
           0.4987507164478302,
           0.9969304800033569
          ],
          [
           0.5001418590545654,
           0.5026543140411377,
           0.5001410841941833,
           0.4998202323913574,
           0.0020738840103149414,
           0.4984534680843353,
           0.5000117421150208,
           0.49974945187568665
          ]
         ],
         "zmax": 1,
         "zmin": 0
        },
        {
         "colorscale": [
          [
           0,
           "rgb(103,0,31)"
          ],
          [
           0.1,
           "rgb(178,24,43)"
          ],
          [
           0.2,
           "rgb(214,96,77)"
          ],
          [
           0.3,
           "rgb(244,165,130)"
          ],
          [
           0.4,
           "rgb(253,219,199)"
          ],
          [
           0.5,
           "rgb(247,247,247)"
          ],
          [
           0.6,
           "rgb(209,229,240)"
          ],
          [
           0.7,
           "rgb(146,197,222)"
          ],
          [
           0.8,
           "rgb(67,147,195)"
          ],
          [
           0.9,
           "rgb(33,102,172)"
          ],
          [
           1,
           "rgb(5,48,97)"
          ]
         ],
         "hoverongaps": false,
         "text": [
          [
           " ",
           " ",
           " ",
           " ",
           " ",
           " ",
           " ",
           " "
          ],
          [
           " ",
           " ",
           " ",
           " ",
           " ",
           " ",
           " ",
           " "
          ],
          [
           " ",
           "█",
           " ",
           " ",
           " ",
           " ",
           " ",
           " "
          ],
          [
           " ",
           " ",
           " ",
           " ",
           " ",
           " ",
           " ",
           " "
          ],
          [
           " ",
           " ",
           " ",
           " ",
           " ",
           " ",
           " ",
           " "
          ],
          [
           " ",
           " ",
           " ",
           " ",
           " ",
           " ",
           " ",
           " "
          ],
          [
           " ",
           " ",
           " ",
           " ",
           " ",
           " ",
           " ",
           " "
          ],
          [
           " ",
           " ",
           " ",
           " ",
           " ",
           " ",
           " ",
           " "
          ]
         ],
         "texttemplate": "%{text}",
         "type": "heatmap",
         "x": [
          0,
          1,
          2,
          3,
          4,
          5,
          6,
          7
         ],
         "xaxis": "x5",
         "y": [
          "H",
          "G",
          "F",
          "E",
          "D",
          "C",
          "B",
          "A"
         ],
         "yaxis": "y5",
         "z": [
          [
           0.500053346157074,
           0.0004911124706268311,
           0.9882069826126099,
           0.9987910985946655,
           0.9992631673812866,
           0.9933081865310669,
           0.9999186992645264,
           0.5001204013824463
          ],
          [
           0.4999970495700836,
           0.5000070929527283,
           0.9965211153030396,
           0.9831609129905701,
           0.06158018112182617,
           0.9183460474014282,
           0.500174343585968,
           0.9981473684310913
          ],
          [
           0.0063010454177856445,
           0.9990925788879395,
           0.008731961250305176,
           0.01838669180870056,
           0.9960230588912964,
           0.9580838680267334,
           0.9886162877082825,
           0.9961283206939697
          ],
          [
           0.9990092515945435,
           0.4999968111515045,
           0.06472077965736389,
           0.24197912216186523,
           0.24077874422073364,
           0.9971051216125488,
           0.4999465048313141,
           0.9843040108680725
          ],
          [
           0.9999991655349731,
           0.0001475811004638672,
           0.001784294843673706,
           0.01516801118850708,
           0.997369110584259,
           0.030374616384506226,
           0.007343381643295288,
           0.9917676448822021
          ],
          [
           0.5000438690185547,
           0.9997040033340454,
           0.00018712878227233887,
           0.02040424942970276,
           0.006956309080123901,
           0.02754509449005127,
           0.030066370964050293,
           0.9754838943481445
          ],
          [
           0.5000293850898743,
           0.003853440284729004,
           0.9993663430213928,
           0.003409862518310547,
           0.008204072713851929,
           0.005456060171127319,
           0.49966031312942505,
           0.9862689971923828
          ],
          [
           0.4991195797920227,
           0.49884945154190063,
           0.4999743103981018,
           0.5000331997871399,
           0.0010650455951690674,
           0.5000989437103271,
           0.5001330971717834,
           0.49901971220970154
          ]
         ],
         "zmax": 1,
         "zmin": 0
        },
        {
         "colorscale": [
          [
           0,
           "rgb(103,0,31)"
          ],
          [
           0.1,
           "rgb(178,24,43)"
          ],
          [
           0.2,
           "rgb(214,96,77)"
          ],
          [
           0.3,
           "rgb(244,165,130)"
          ],
          [
           0.4,
           "rgb(253,219,199)"
          ],
          [
           0.5,
           "rgb(247,247,247)"
          ],
          [
           0.6,
           "rgb(209,229,240)"
          ],
          [
           0.7,
           "rgb(146,197,222)"
          ],
          [
           0.8,
           "rgb(67,147,195)"
          ],
          [
           0.9,
           "rgb(33,102,172)"
          ],
          [
           1,
           "rgb(5,48,97)"
          ]
         ],
         "hoverongaps": false,
         "text": [
          [
           " ",
           " ",
           " ",
           " ",
           " ",
           " ",
           " ",
           " "
          ],
          [
           " ",
           " ",
           " ",
           " ",
           " ",
           " ",
           " ",
           " "
          ],
          [
           " ",
           "█",
           " ",
           " ",
           " ",
           " ",
           " ",
           " "
          ],
          [
           " ",
           "▒",
           " ",
           " ",
           " ",
           " ",
           " ",
           " "
          ],
          [
           " ",
           " ",
           " ",
           " ",
           " ",
           " ",
           " ",
           " "
          ],
          [
           " ",
           " ",
           " ",
           " ",
           " ",
           " ",
           " ",
           " "
          ],
          [
           " ",
           " ",
           " ",
           " ",
           " ",
           " ",
           " ",
           " "
          ],
          [
           " ",
           " ",
           " ",
           " ",
           " ",
           " ",
           " ",
           " "
          ]
         ],
         "texttemplate": "%{text}",
         "type": "heatmap",
         "x": [
          0,
          1,
          2,
          3,
          4,
          5,
          6,
          7
         ],
         "xaxis": "x6",
         "y": [
          "H",
          "G",
          "F",
          "E",
          "D",
          "C",
          "B",
          "A"
         ],
         "yaxis": "y6",
         "z": [
          [
           0.5000020861625671,
           0.0008275806903839111,
           0.9997972249984741,
           0.9996811747550964,
           0.9985686540603638,
           0.9998831748962402,
           0.9999945163726807,
           0.5000978112220764
          ],
          [
           0.5,
           0.4999999701976776,
           0.9661974906921387,
           0.9677578806877136,
           0.0007397234439849854,
           0.996641218662262,
           0.5000002980232239,
           0.9995870590209961
          ],
          [
           0.00008824467658996582,
           0.9955441951751709,
           0.0016616284847259521,
           0.001224219799041748,
           0.9927387237548828,
           0.9959465265274048,
           0.9994141459465027,
           0.9974367618560791
          ],
          [
           0.9969301223754883,
           0.4999990463256836,
           0.0008034408092498779,
           0.05191105604171753,
           0.08144232630729675,
           0.9976387023925781,
           0.49999842047691345,
           0.994391918182373
          ],
          [
           0.9999974966049194,
           0.0035364627838134766,
           0.002052605152130127,
           0.0032115280628204346,
           0.9987349510192871,
           0.0037857890129089355,
           0.0019438862800598145,
           0.9867556691169739
          ],
          [
           0.5000001788139343,
           0.9999079704284668,
           0.0014515817165374756,
           0.0009214580059051514,
           0.009595751762390137,
           0.01062658429145813,
           0.005080580711364746,
           0.9924463629722595
          ],
          [
           0.5,
           0.00009748339653015137,
           0.9999717473983765,
           0.000029861927032470703,
           0.0009872019290924072,
           0.0001768171787261963,
           0.4997050166130066,
           0.9857535362243652
          ],
          [
           0.4994890093803406,
           0.5,
           0.5,
           0.49997642636299133,
           0.00018203258514404297,
           0.49999627470970154,
           0.4995056688785553,
           0.49939194321632385
          ]
         ],
         "zmax": 1,
         "zmin": 0
        },
        {
         "colorscale": [
          [
           0,
           "rgb(103,0,31)"
          ],
          [
           0.1,
           "rgb(178,24,43)"
          ],
          [
           0.2,
           "rgb(214,96,77)"
          ],
          [
           0.3,
           "rgb(244,165,130)"
          ],
          [
           0.4,
           "rgb(253,219,199)"
          ],
          [
           0.5,
           "rgb(247,247,247)"
          ],
          [
           0.6,
           "rgb(209,229,240)"
          ],
          [
           0.7,
           "rgb(146,197,222)"
          ],
          [
           0.8,
           "rgb(67,147,195)"
          ],
          [
           0.9,
           "rgb(33,102,172)"
          ],
          [
           1,
           "rgb(5,48,97)"
          ]
         ],
         "hoverongaps": false,
         "text": [
          [
           " ",
           " ",
           " ",
           " ",
           " ",
           " ",
           " ",
           " "
          ],
          [
           " ",
           " ",
           " ",
           " ",
           " ",
           " ",
           " ",
           " "
          ],
          [
           " ",
           "█",
           " ",
           " ",
           " ",
           " ",
           " ",
           " "
          ],
          [
           " ",
           " ",
           " ",
           " ",
           " ",
           " ",
           " ",
           " "
          ],
          [
           " ",
           " ",
           " ",
           " ",
           " ",
           " ",
           " ",
           " "
          ],
          [
           " ",
           " ",
           " ",
           " ",
           " ",
           " ",
           " ",
           " "
          ],
          [
           " ",
           " ",
           " ",
           " ",
           " ",
           " ",
           " ",
           " "
          ],
          [
           " ",
           " ",
           " ",
           " ",
           " ",
           " ",
           " ",
           " "
          ]
         ],
         "texttemplate": "%{text}",
         "type": "heatmap",
         "x": [
          0,
          1,
          2,
          3,
          4,
          5,
          6,
          7
         ],
         "xaxis": "x7",
         "y": [
          "H",
          "G",
          "F",
          "E",
          "D",
          "C",
          "B",
          "A"
         ],
         "yaxis": "y7",
         "z": [
          [
           0.5000003576278687,
           0.009831905364990234,
           0.9999707937240601,
           0.9979437589645386,
           0.9997832775115967,
           0.999822735786438,
           0.9999983310699463,
           0.5
          ],
          [
           0.5,
           0.5,
           0.9869780540466309,
           0.9745361804962158,
           0.00042742490768432617,
           0.9997923374176025,
           0.5,
           0.999817430973053
          ],
          [
           0.0016787350177764893,
           0.9992705583572388,
           0.00515332818031311,
           0.002174288034439087,
           0.9985259771347046,
           0.9990755319595337,
           0.9995927214622498,
           0.9999913573265076
          ],
          [
           0.9990276098251343,
           0.5,
           0.0005300641059875488,
           0.004639565944671631,
           0.009846776723861694,
           0.9986139535903931,
           0.5,
           0.9899994134902954
          ],
          [
           0.9999867677688599,
           0.00017318129539489746,
           0.0006808042526245117,
           0.011279642581939697,
           0.9939360022544861,
           0.0017258822917938232,
           0.0016530752182006836,
           0.9987925291061401
          ],
          [
           0.5000001192092896,
           0.9999831914901733,
           0.005798906087875366,
           0.014542877674102783,
           0.008771181106567383,
           0.004594326019287109,
           0.0008335113525390625,
           0.9949804544448853
          ],
          [
           0.5,
           0.0038779377937316895,
           0.9996387958526611,
           0.00016701221466064453,
           0.0006403028964996338,
           0.0002713203430175781,
           0.4999999701976776,
           0.9963923096656799
          ],
          [
           0.475205659866333,
           0.5,
           0.5,
           0.5002670884132385,
           0.0011427700519561768,
           0.4999871551990509,
           0.49680426716804504,
           0.5001347661018372
          ]
         ],
         "zmax": 1,
         "zmin": 0
        },
        {
         "colorscale": [
          [
           0,
           "rgb(103,0,31)"
          ],
          [
           0.1,
           "rgb(178,24,43)"
          ],
          [
           0.2,
           "rgb(214,96,77)"
          ],
          [
           0.3,
           "rgb(244,165,130)"
          ],
          [
           0.4,
           "rgb(253,219,199)"
          ],
          [
           0.5,
           "rgb(247,247,247)"
          ],
          [
           0.6,
           "rgb(209,229,240)"
          ],
          [
           0.7,
           "rgb(146,197,222)"
          ],
          [
           0.8,
           "rgb(67,147,195)"
          ],
          [
           0.9,
           "rgb(33,102,172)"
          ],
          [
           1,
           "rgb(5,48,97)"
          ]
         ],
         "hoverongaps": false,
         "text": [
          [
           " ",
           " ",
           " ",
           " ",
           " ",
           " ",
           " ",
           " "
          ],
          [
           " ",
           " ",
           " ",
           " ",
           " ",
           " ",
           " ",
           " "
          ],
          [
           " ",
           "█",
           " ",
           " ",
           " ",
           " ",
           " ",
           " "
          ],
          [
           " ",
           " ",
           " ",
           " ",
           " ",
           " ",
           " ",
           " "
          ],
          [
           " ",
           " ",
           " ",
           " ",
           " ",
           " ",
           " ",
           " "
          ],
          [
           " ",
           " ",
           " ",
           " ",
           " ",
           " ",
           " ",
           " "
          ],
          [
           " ",
           " ",
           " ",
           " ",
           " ",
           " ",
           " ",
           " "
          ],
          [
           " ",
           " ",
           " ",
           " ",
           " ",
           " ",
           " ",
           " "
          ]
         ],
         "texttemplate": "%{text}",
         "type": "heatmap",
         "x": [
          0,
          1,
          2,
          3,
          4,
          5,
          6,
          7
         ],
         "xaxis": "x8",
         "y": [
          "H",
          "G",
          "F",
          "E",
          "D",
          "C",
          "B",
          "A"
         ],
         "yaxis": "y8",
         "z": [
          [
           0.5000025033950806,
           0.00601804256439209,
           0.9999759197235107,
           0.9979641437530518,
           0.9996531009674072,
           0.9999836683273315,
           0.999998927116394,
           0.5
          ],
          [
           0.5,
           0.5,
           0.9809294939041138,
           0.9950531721115112,
           0.0004944801330566406,
           0.9999643564224243,
           0.5,
           0.9997041821479797
          ],
          [
           0.0014505088329315186,
           0.999884843826294,
           0.028729021549224854,
           0.014815300703048706,
           0.9974496364593506,
           0.9993410706520081,
           0.9990615844726562,
           0.9999647736549377
          ],
          [
           0.9999680519104004,
           0.500001847743988,
           0.0027372539043426514,
           0.02467206120491028,
           0.028021037578582764,
           0.997704803943634,
           0.5,
           0.9972482323646545
          ],
          [
           0.9999979734420776,
           0.002348482608795166,
           0.002466142177581787,
           0.006146907806396484,
           0.9852547645568848,
           0.002757430076599121,
           0.0037031471729278564,
           0.9851367473602295
          ],
          [
           0.5000017285346985,
           0.9996662139892578,
           0.009927928447723389,
           0.011106908321380615,
           0.004907369613647461,
           0.010212302207946777,
           0.000682443380355835,
           0.98595130443573
          ],
          [
           0.5,
           0.000917285680770874,
           0.9999425411224365,
           0.0013654232025146484,
           0.0012729167938232422,
           0.0008313953876495361,
           0.4999907910823822,
           0.9856228828430176
          ],
          [
           0.44064807891845703,
           0.5,
           0.5,
           0.5093103051185608,
           0.00015795230865478516,
           0.49975821375846863,
           0.4993179440498352,
           0.5038638114929199
          ]
         ],
         "zmax": 1,
         "zmin": 0
        },
        {
         "colorscale": [
          [
           0,
           "rgb(103,0,31)"
          ],
          [
           0.1,
           "rgb(178,24,43)"
          ],
          [
           0.2,
           "rgb(214,96,77)"
          ],
          [
           0.3,
           "rgb(244,165,130)"
          ],
          [
           0.4,
           "rgb(253,219,199)"
          ],
          [
           0.5,
           "rgb(247,247,247)"
          ],
          [
           0.6,
           "rgb(209,229,240)"
          ],
          [
           0.7,
           "rgb(146,197,222)"
          ],
          [
           0.8,
           "rgb(67,147,195)"
          ],
          [
           0.9,
           "rgb(33,102,172)"
          ],
          [
           1,
           "rgb(5,48,97)"
          ]
         ],
         "hoverongaps": false,
         "text": [
          [
           " ",
           " ",
           " ",
           " ",
           " ",
           " ",
           " ",
           " "
          ],
          [
           " ",
           " ",
           " ",
           " ",
           " ",
           " ",
           " ",
           " "
          ],
          [
           " ",
           " ",
           " ",
           " ",
           " ",
           " ",
           " ",
           " "
          ],
          [
           " ",
           " ",
           " ",
           " ",
           " ",
           " ",
           " ",
           " "
          ],
          [
           " ",
           " ",
           " ",
           " ",
           "▒",
           " ",
           " ",
           " "
          ],
          [
           " ",
           " ",
           " ",
           "▓",
           " ",
           " ",
           " ",
           " "
          ],
          [
           " ",
           " ",
           "█",
           " ",
           " ",
           " ",
           " ",
           " "
          ],
          [
           " ",
           " ",
           " ",
           " ",
           " ",
           " ",
           " ",
           " "
          ]
         ],
         "texttemplate": "%{text}",
         "type": "heatmap",
         "x": [
          0,
          1,
          2,
          3,
          4,
          5,
          6,
          7
         ],
         "xaxis": "x9",
         "y": [
          "H",
          "G",
          "F",
          "E",
          "D",
          "C",
          "B",
          "A"
         ],
         "yaxis": "y9",
         "z": [
          [
           0.5000016093254089,
           0.06006023287773132,
           0.7378899455070496,
           0.3172086477279663,
           0.37328046560287476,
           0.4634317457675934,
           0.9636547565460205,
           0.500002384185791
          ],
          [
           0.4999845325946808,
           0.5,
           0.7823060750961304,
           0.4913371205329895,
           0.2640712261199951,
           0.718513011932373,
           0.5000106692314148,
           0.9804624915122986
          ],
          [
           0.05735296010971069,
           0.5763058066368103,
           0.5484879016876221,
           0.106233149766922,
           0.7057182788848877,
           0.35032540559768677,
           0.5291032195091248,
           0.9540063738822937
          ],
          [
           0.9943363666534424,
           0.5,
           0.7661588191986084,
           0.6958191990852356,
           0.3919556140899658,
           0.32335150241851807,
           0.500007688999176,
           0.4701002240180969
          ],
          [
           0.9962340593338013,
           0.9649490118026733,
           0.7674553394317627,
           0.19725435972213745,
           0.17145708203315735,
           0.7632467150688171,
           0.12102213501930237,
           0.20128664374351501
          ],
          [
           0.5,
           0.9189413785934448,
           0.4684397578239441,
           0.047628939151763916,
           0.43956440687179565,
           0.3806314468383789,
           0.18723243474960327,
           0.4213537573814392
          ],
          [
           0.4999999701976776,
           0.013521671295166016,
           0.01870638132095337,
           0.7127662897109985,
           0.4716581404209137,
           0.6916563510894775,
           0.5000028014183044,
           0.9748373031616211
          ],
          [
           0.5,
           0.00044208765029907227,
           0.5,
           0.5,
           0.01209285855293274,
           0.5000000596046448,
           0.5000000596046448,
           0.5000001788139343
          ]
         ],
         "zmax": 1,
         "zmin": 0
        },
        {
         "colorscale": [
          [
           0,
           "rgb(103,0,31)"
          ],
          [
           0.1,
           "rgb(178,24,43)"
          ],
          [
           0.2,
           "rgb(214,96,77)"
          ],
          [
           0.3,
           "rgb(244,165,130)"
          ],
          [
           0.4,
           "rgb(253,219,199)"
          ],
          [
           0.5,
           "rgb(247,247,247)"
          ],
          [
           0.6,
           "rgb(209,229,240)"
          ],
          [
           0.7,
           "rgb(146,197,222)"
          ],
          [
           0.8,
           "rgb(67,147,195)"
          ],
          [
           0.9,
           "rgb(33,102,172)"
          ],
          [
           1,
           "rgb(5,48,97)"
          ]
         ],
         "hoverongaps": false,
         "text": [
          [
           " ",
           " ",
           " ",
           " ",
           " ",
           " ",
           " ",
           " "
          ],
          [
           " ",
           " ",
           " ",
           " ",
           " ",
           " ",
           " ",
           " "
          ],
          [
           " ",
           " ",
           " ",
           " ",
           " ",
           " ",
           " ",
           " "
          ],
          [
           " ",
           " ",
           " ",
           " ",
           " ",
           " ",
           " ",
           " "
          ],
          [
           " ",
           " ",
           " ",
           " ",
           " ",
           " ",
           " ",
           " "
          ],
          [
           " ",
           " ",
           " ",
           " ",
           " ",
           " ",
           " ",
           " "
          ],
          [
           " ",
           " ",
           "█",
           " ",
           " ",
           " ",
           " ",
           " "
          ],
          [
           " ",
           " ",
           " ",
           " ",
           " ",
           " ",
           " ",
           " "
          ]
         ],
         "texttemplate": "%{text}",
         "type": "heatmap",
         "x": [
          0,
          1,
          2,
          3,
          4,
          5,
          6,
          7
         ],
         "xaxis": "x10",
         "y": [
          "H",
          "G",
          "F",
          "E",
          "D",
          "C",
          "B",
          "A"
         ],
         "yaxis": "y10",
         "z": [
          [
           0.5000125765800476,
           0.018334895372390747,
           0.9746500253677368,
           0.7907751798629761,
           0.8797362446784973,
           0.9874378442764282,
           0.9997361302375793,
           0.5000011920928955
          ],
          [
           0.5000920295715332,
           0.5000011920928955,
           0.9463143944740295,
           0.8125705122947693,
           0.7484973669052124,
           0.9718203544616699,
           0.5000218152999878,
           0.9997762441635132
          ],
          [
           0.004114508628845215,
           0.9329440593719482,
           0.14119598269462585,
           0.1834876537322998,
           0.8973655700683594,
           0.6939460039138794,
           0.9130674600601196,
           0.9922348260879517
          ],
          [
           0.9993827939033508,
           0.5000007748603821,
           0.06802666187286377,
           0.3912736773490906,
           0.2756999135017395,
           0.798154354095459,
           0.5000252723693848,
           0.36388882994651794
          ],
          [
           0.9999565482139587,
           0.46094614267349243,
           0.02983275055885315,
           0.04106101393699646,
           0.2720569372177124,
           0.4963892102241516,
           0.06584465503692627,
           0.060735225677490234
          ],
          [
           0.5000021457672119,
           0.9950475692749023,
           0.014600157737731934,
           0.0034262239933013916,
           0.382378488779068,
           0.15275433659553528,
           0.040779441595077515,
           0.7150318622589111
          ],
          [
           0.50001060962677,
           0.00012487173080444336,
           0.0022652149200439453,
           0.35393092036247253,
           0.09497436881065369,
           0.3910480737686157,
           0.49999773502349854,
           0.9906352162361145
          ],
          [
           0.5,
           0.012924373149871826,
           0.5000002384185791,
           0.5,
           0.005615681409835815,
           0.5000043511390686,
           0.5000503659248352,
           0.5000004768371582
          ]
         ],
         "zmax": 1,
         "zmin": 0
        },
        {
         "colorscale": [
          [
           0,
           "rgb(103,0,31)"
          ],
          [
           0.1,
           "rgb(178,24,43)"
          ],
          [
           0.2,
           "rgb(214,96,77)"
          ],
          [
           0.3,
           "rgb(244,165,130)"
          ],
          [
           0.4,
           "rgb(253,219,199)"
          ],
          [
           0.5,
           "rgb(247,247,247)"
          ],
          [
           0.6,
           "rgb(209,229,240)"
          ],
          [
           0.7,
           "rgb(146,197,222)"
          ],
          [
           0.8,
           "rgb(67,147,195)"
          ],
          [
           0.9,
           "rgb(33,102,172)"
          ],
          [
           1,
           "rgb(5,48,97)"
          ]
         ],
         "hoverongaps": false,
         "text": [
          [
           " ",
           " ",
           " ",
           " ",
           " ",
           " ",
           " ",
           " "
          ],
          [
           " ",
           " ",
           " ",
           " ",
           " ",
           " ",
           " ",
           " "
          ],
          [
           " ",
           " ",
           " ",
           " ",
           " ",
           " ",
           " ",
           " "
          ],
          [
           " ",
           " ",
           " ",
           " ",
           " ",
           " ",
           " ",
           " "
          ],
          [
           " ",
           " ",
           " ",
           " ",
           " ",
           " ",
           " ",
           " "
          ],
          [
           " ",
           " ",
           " ",
           " ",
           " ",
           " ",
           " ",
           " "
          ],
          [
           " ",
           " ",
           "█",
           " ",
           " ",
           " ",
           " ",
           " "
          ],
          [
           " ",
           " ",
           " ",
           " ",
           " ",
           " ",
           " ",
           " "
          ]
         ],
         "texttemplate": "%{text}",
         "type": "heatmap",
         "x": [
          0,
          1,
          2,
          3,
          4,
          5,
          6,
          7
         ],
         "xaxis": "x11",
         "y": [
          "H",
          "G",
          "F",
          "E",
          "D",
          "C",
          "B",
          "A"
         ],
         "yaxis": "y11",
         "z": [
          [
           0.49999743700027466,
           0.0018776953220367432,
           0.9938705563545227,
           0.9554822444915771,
           0.9719102382659912,
           0.9808632135391235,
           0.999191164970398,
           0.49998724460601807
          ],
          [
           0.4999213218688965,
           0.500054657459259,
           0.9902869462966919,
           0.6182144284248352,
           0.43079471588134766,
           0.988354504108429,
           0.5000789165496826,
           0.9985020160675049
          ],
          [
           0.0002155900001525879,
           0.9928741455078125,
           0.015783190727233887,
           0.005789905786514282,
           0.8271641731262207,
           0.9607051014900208,
           0.9912396669387817,
           0.9993070363998413
          ],
          [
           0.999718189239502,
           0.4999266564846039,
           0.04276806116104126,
           0.10220050811767578,
           0.4705185890197754,
           0.5645815134048462,
           0.500034749507904,
           0.9989296197891235
          ],
          [
           0.9995501041412354,
           0.011879801750183105,
           0.0022947192192077637,
           0.008419454097747803,
           0.6942870616912842,
           0.05769014358520508,
           0.0745747983455658,
           0.9935288429260254
          ],
          [
           0.500005304813385,
           0.9975796937942505,
           0.17471927404403687,
           0.0007451176643371582,
           0.0908588171005249,
           0.005661636590957642,
           0.01719418168067932,
           0.9988905191421509
          ],
          [
           0.5000258684158325,
           0.000362396240234375,
           0.0005055665969848633,
           0.5336441397666931,
           0.03300786018371582,
           0.13605642318725586,
           0.49999263882637024,
           0.9990874528884888
          ],
          [
           0.4999999701976776,
           0.007133364677429199,
           0.5000022649765015,
           0.49999862909317017,
           0.0007340908050537109,
           0.49995869398117065,
           0.4995289444923401,
           0.49998655915260315
          ]
         ],
         "zmax": 1,
         "zmin": 0
        },
        {
         "colorscale": [
          [
           0,
           "rgb(103,0,31)"
          ],
          [
           0.1,
           "rgb(178,24,43)"
          ],
          [
           0.2,
           "rgb(214,96,77)"
          ],
          [
           0.3,
           "rgb(244,165,130)"
          ],
          [
           0.4,
           "rgb(253,219,199)"
          ],
          [
           0.5,
           "rgb(247,247,247)"
          ],
          [
           0.6,
           "rgb(209,229,240)"
          ],
          [
           0.7,
           "rgb(146,197,222)"
          ],
          [
           0.8,
           "rgb(67,147,195)"
          ],
          [
           0.9,
           "rgb(33,102,172)"
          ],
          [
           1,
           "rgb(5,48,97)"
          ]
         ],
         "hoverongaps": false,
         "text": [
          [
           " ",
           " ",
           " ",
           " ",
           " ",
           " ",
           " ",
           " "
          ],
          [
           " ",
           " ",
           " ",
           " ",
           " ",
           " ",
           " ",
           " "
          ],
          [
           " ",
           " ",
           " ",
           " ",
           " ",
           " ",
           " ",
           " "
          ],
          [
           " ",
           " ",
           " ",
           " ",
           " ",
           " ",
           " ",
           " "
          ],
          [
           " ",
           " ",
           " ",
           " ",
           " ",
           " ",
           " ",
           " "
          ],
          [
           " ",
           " ",
           " ",
           " ",
           " ",
           " ",
           " ",
           " "
          ],
          [
           " ",
           " ",
           "█",
           " ",
           " ",
           " ",
           " ",
           " "
          ],
          [
           " ",
           " ",
           " ",
           " ",
           " ",
           " ",
           " ",
           " "
          ]
         ],
         "texttemplate": "%{text}",
         "type": "heatmap",
         "x": [
          0,
          1,
          2,
          3,
          4,
          5,
          6,
          7
         ],
         "xaxis": "x12",
         "y": [
          "H",
          "G",
          "F",
          "E",
          "D",
          "C",
          "B",
          "A"
         ],
         "yaxis": "y12",
         "z": [
          [
           0.5000184178352356,
           0.009483307600021362,
           0.9982314109802246,
           0.9959903955459595,
           0.9993934035301208,
           0.9931061267852783,
           0.9998670816421509,
           0.5000048875808716
          ],
          [
           0.5000138878822327,
           0.501042902469635,
           0.9989867210388184,
           0.9568139910697937,
           0.21852624416351318,
           0.914566695690155,
           0.5003291964530945,
           0.9981399774551392
          ],
          [
           0.0019872188568115234,
           0.9995827078819275,
           0.013130486011505127,
           0.025223582983016968,
           0.9913324117660522,
           0.9826244115829468,
           0.9900349378585815,
           0.9953926801681519
          ],
          [
           0.999822735786438,
           0.4997723400592804,
           0.008184462785720825,
           0.04320782423019409,
           0.15557286143302917,
           0.6161965131759644,
           0.50006103515625,
           0.9966999292373657
          ],
          [
           0.9992884993553162,
           0.29679346084594727,
           0.002457737922668457,
           0.008501499891281128,
           0.9764420986175537,
           0.11720752716064453,
           0.10528621077537537,
           0.9914051294326782
          ],
          [
           0.5000540614128113,
           0.9997932314872742,
           0.03830611705780029,
           0.0006103515625,
           0.01819571852684021,
           0.010824143886566162,
           0.028110653162002563,
           0.9975219964981079
          ],
          [
           0.49994122982025146,
           0.003434687852859497,
           0.0009874999523162842,
           0.011744469404220581,
           0.006133854389190674,
           0.003805786371231079,
           0.49997881054878235,
           0.9755887985229492
          ],
          [
           0.4999890923500061,
           0.0014990568161010742,
           0.5000354051589966,
           0.5000001788139343,
           0.0025776326656341553,
           0.49985024333000183,
           0.4998818039894104,
           0.4996607303619385
          ]
         ],
         "zmax": 1,
         "zmin": 0
        },
        {
         "colorscale": [
          [
           0,
           "rgb(103,0,31)"
          ],
          [
           0.1,
           "rgb(178,24,43)"
          ],
          [
           0.2,
           "rgb(214,96,77)"
          ],
          [
           0.3,
           "rgb(244,165,130)"
          ],
          [
           0.4,
           "rgb(253,219,199)"
          ],
          [
           0.5,
           "rgb(247,247,247)"
          ],
          [
           0.6,
           "rgb(209,229,240)"
          ],
          [
           0.7,
           "rgb(146,197,222)"
          ],
          [
           0.8,
           "rgb(67,147,195)"
          ],
          [
           0.9,
           "rgb(33,102,172)"
          ],
          [
           1,
           "rgb(5,48,97)"
          ]
         ],
         "hoverongaps": false,
         "text": [
          [
           " ",
           " ",
           " ",
           " ",
           " ",
           " ",
           " ",
           " "
          ],
          [
           " ",
           " ",
           " ",
           " ",
           " ",
           " ",
           " ",
           " "
          ],
          [
           " ",
           " ",
           " ",
           " ",
           " ",
           " ",
           " ",
           " "
          ],
          [
           " ",
           " ",
           " ",
           " ",
           " ",
           " ",
           " ",
           " "
          ],
          [
           " ",
           " ",
           " ",
           " ",
           " ",
           " ",
           " ",
           " "
          ],
          [
           " ",
           " ",
           " ",
           " ",
           " ",
           " ",
           " ",
           " "
          ],
          [
           " ",
           " ",
           "█",
           " ",
           " ",
           " ",
           " ",
           " "
          ],
          [
           " ",
           " ",
           " ",
           " ",
           " ",
           " ",
           " ",
           " "
          ]
         ],
         "texttemplate": "%{text}",
         "type": "heatmap",
         "x": [
          0,
          1,
          2,
          3,
          4,
          5,
          6,
          7
         ],
         "xaxis": "x13",
         "y": [
          "H",
          "G",
          "F",
          "E",
          "D",
          "C",
          "B",
          "A"
         ],
         "yaxis": "y13",
         "z": [
          [
           0.49998462200164795,
           0.057724833488464355,
           0.999187707901001,
           0.9983961582183838,
           0.9990147352218628,
           0.9997379779815674,
           0.9997918009757996,
           0.5002411007881165
          ],
          [
           0.5001066327095032,
           0.5000945329666138,
           0.9993956089019775,
           0.9941155910491943,
           0.08081108331680298,
           0.9724612832069397,
           0.5009271502494812,
           0.9966310858726501
          ],
          [
           0.000387340784072876,
           0.999813437461853,
           0.0036087632179260254,
           0.03419899940490723,
           0.9907345771789551,
           0.9378721714019775,
           0.9899269938468933,
           0.9981600046157837
          ],
          [
           0.999652087688446,
           0.49998679757118225,
           0.00804850459098816,
           0.16233202815055847,
           0.032428205013275146,
           0.9709358215332031,
           0.5000089406967163,
           0.9991846084594727
          ],
          [
           0.999608039855957,
           0.0011947453022003174,
           0.000282973051071167,
           0.0013755261898040771,
           0.9774720668792725,
           0.026110917329788208,
           0.011464178562164307,
           0.9950741529464722
          ],
          [
           0.4999989867210388,
           0.9996641874313354,
           0.023651719093322754,
           0.00016263127326965332,
           0.0023079514503479004,
           0.009722381830215454,
           0.024826407432556152,
           0.9998327493667603
          ],
          [
           0.49996325373649597,
           0.0019057989120483398,
           0.00018990039825439453,
           0.007644474506378174,
           0.0047904253005981445,
           0.00040918588638305664,
           0.49998319149017334,
           0.9990037083625793
          ],
          [
           0.49997127056121826,
           0.0016345083713531494,
           0.49997368454933167,
           0.4999949336051941,
           0.00047087669372558594,
           0.499808669090271,
           0.4999350607395172,
           0.49876049160957336
          ]
         ],
         "zmax": 1,
         "zmin": 0
        },
        {
         "colorscale": [
          [
           0,
           "rgb(103,0,31)"
          ],
          [
           0.1,
           "rgb(178,24,43)"
          ],
          [
           0.2,
           "rgb(214,96,77)"
          ],
          [
           0.3,
           "rgb(244,165,130)"
          ],
          [
           0.4,
           "rgb(253,219,199)"
          ],
          [
           0.5,
           "rgb(247,247,247)"
          ],
          [
           0.6,
           "rgb(209,229,240)"
          ],
          [
           0.7,
           "rgb(146,197,222)"
          ],
          [
           0.8,
           "rgb(67,147,195)"
          ],
          [
           0.9,
           "rgb(33,102,172)"
          ],
          [
           1,
           "rgb(5,48,97)"
          ]
         ],
         "hoverongaps": false,
         "text": [
          [
           " ",
           " ",
           " ",
           " ",
           " ",
           " ",
           " ",
           " "
          ],
          [
           " ",
           " ",
           " ",
           " ",
           " ",
           " ",
           " ",
           " "
          ],
          [
           " ",
           " ",
           " ",
           " ",
           " ",
           " ",
           " ",
           " "
          ],
          [
           " ",
           " ",
           " ",
           " ",
           " ",
           " ",
           " ",
           " "
          ],
          [
           " ",
           " ",
           " ",
           " ",
           " ",
           " ",
           " ",
           " "
          ],
          [
           " ",
           " ",
           " ",
           " ",
           " ",
           " ",
           " ",
           " "
          ],
          [
           " ",
           " ",
           "█",
           " ",
           " ",
           " ",
           " ",
           " "
          ],
          [
           " ",
           " ",
           " ",
           " ",
           " ",
           " ",
           " ",
           " "
          ]
         ],
         "texttemplate": "%{text}",
         "type": "heatmap",
         "x": [
          0,
          1,
          2,
          3,
          4,
          5,
          6,
          7
         ],
         "xaxis": "x14",
         "y": [
          "H",
          "G",
          "F",
          "E",
          "D",
          "C",
          "B",
          "A"
         ],
         "yaxis": "y14",
         "z": [
          [
           0.5,
           0.12455376982688904,
           0.995419979095459,
           0.9998266696929932,
           0.9982644319534302,
           0.9999929666519165,
           0.9999680519104004,
           0.500022292137146
          ],
          [
           0.5,
           0.5,
           0.9981983304023743,
           0.9965129494667053,
           0.011356264352798462,
           0.997815728187561,
           0.5000113844871521,
           0.9562150239944458
          ],
          [
           0.0000604093074798584,
           0.9994684457778931,
           0.00015312433242797852,
           0.005271434783935547,
           0.9958779215812683,
           0.9920780658721924,
           0.9980119466781616,
           0.9926902055740356
          ],
          [
           0.9999798536300659,
           0.4999992847442627,
           0.0068070292472839355,
           0.08570665121078491,
           0.02981323003768921,
           0.9667829275131226,
           0.5000020265579224,
           0.9998385310173035
          ],
          [
           0.9995360374450684,
           0.0018631815910339355,
           0.00040024518966674805,
           0.004034757614135742,
           0.9900802969932556,
           0.021649658679962158,
           0.019038647413253784,
           0.9676694273948669
          ],
          [
           0.5,
           0.999434232711792,
           0.0013754963874816895,
           0.012876808643341064,
           0.002227276563644409,
           0.006233245134353638,
           0.006692051887512207,
           0.9964185953140259
          ],
          [
           0.5,
           0.00010535120964050293,
           0.0004246532917022705,
           0.0007738173007965088,
           0.007118910551071167,
           0.00005632638931274414,
           0.49999991059303284,
           0.9969525337219238
          ],
          [
           0.5,
           0.00009524822235107422,
           0.5,
           0.49999570846557617,
           0.00009986758232116699,
           0.4999988079071045,
           0.5,
           0.49784180521965027
          ]
         ],
         "zmax": 1,
         "zmin": 0
        },
        {
         "colorscale": [
          [
           0,
           "rgb(103,0,31)"
          ],
          [
           0.1,
           "rgb(178,24,43)"
          ],
          [
           0.2,
           "rgb(214,96,77)"
          ],
          [
           0.3,
           "rgb(244,165,130)"
          ],
          [
           0.4,
           "rgb(253,219,199)"
          ],
          [
           0.5,
           "rgb(247,247,247)"
          ],
          [
           0.6,
           "rgb(209,229,240)"
          ],
          [
           0.7,
           "rgb(146,197,222)"
          ],
          [
           0.8,
           "rgb(67,147,195)"
          ],
          [
           0.9,
           "rgb(33,102,172)"
          ],
          [
           1,
           "rgb(5,48,97)"
          ]
         ],
         "hoverongaps": false,
         "text": [
          [
           " ",
           " ",
           " ",
           " ",
           " ",
           " ",
           " ",
           " "
          ],
          [
           " ",
           " ",
           " ",
           " ",
           " ",
           " ",
           " ",
           " "
          ],
          [
           " ",
           " ",
           " ",
           " ",
           " ",
           " ",
           " ",
           " "
          ],
          [
           " ",
           " ",
           " ",
           " ",
           " ",
           " ",
           " ",
           " "
          ],
          [
           " ",
           " ",
           " ",
           " ",
           " ",
           " ",
           " ",
           " "
          ],
          [
           " ",
           " ",
           " ",
           " ",
           " ",
           " ",
           " ",
           " "
          ],
          [
           " ",
           " ",
           "█",
           " ",
           " ",
           " ",
           " ",
           " "
          ],
          [
           " ",
           " ",
           " ",
           " ",
           " ",
           " ",
           " ",
           " "
          ]
         ],
         "texttemplate": "%{text}",
         "type": "heatmap",
         "x": [
          0,
          1,
          2,
          3,
          4,
          5,
          6,
          7
         ],
         "xaxis": "x15",
         "y": [
          "H",
          "G",
          "F",
          "E",
          "D",
          "C",
          "B",
          "A"
         ],
         "yaxis": "y15",
         "z": [
          [
           0.5,
           0.06110331416130066,
           0.998851478099823,
           0.9998239874839783,
           0.9999070167541504,
           0.9999903440475464,
           0.9999963045120239,
           0.5000000596046448
          ],
          [
           0.5,
           0.5,
           0.9977375268936157,
           0.9695535898208618,
           0.028207451105117798,
           0.999418318271637,
           0.5000000596046448,
           0.9598380327224731
          ],
          [
           0.0009107589721679688,
           0.994521975517273,
           0.0018728077411651611,
           0.00027483701705932617,
           0.9987907409667969,
           0.9993997812271118,
           0.999509334564209,
           0.9975420236587524
          ],
          [
           0.9999567270278931,
           0.5000049471855164,
           0.009102195501327515,
           0.00674775242805481,
           0.023905247449874878,
           0.9924077987670898,
           0.5,
           0.9999555349349976
          ],
          [
           0.999035120010376,
           0.000010848045349121094,
           0.00034797191619873047,
           0.0002472102642059326,
           0.9928042888641357,
           0.0006117820739746094,
           0.002739161252975464,
           0.997207522392273
          ],
          [
           0.5,
           0.9997496008872986,
           0.0005878210067749023,
           0.0030726492404937744,
           0.0002579987049102783,
           0.005880504846572876,
           0.00008058547973632812,
           0.9819028377532959
          ],
          [
           0.5,
           0.000931471586227417,
           0.003299504518508911,
           0.00033402442932128906,
           0.00005778670310974121,
           0.000002592802047729492,
           0.5,
           0.9937511086463928
          ],
          [
           0.5,
           0.0006708204746246338,
           0.5,
           0.4999998211860657,
           0.002340465784072876,
           0.5,
           0.5,
           0.5004295110702515
          ]
         ],
         "zmax": 1,
         "zmin": 0
        },
        {
         "colorscale": [
          [
           0,
           "rgb(103,0,31)"
          ],
          [
           0.1,
           "rgb(178,24,43)"
          ],
          [
           0.2,
           "rgb(214,96,77)"
          ],
          [
           0.3,
           "rgb(244,165,130)"
          ],
          [
           0.4,
           "rgb(253,219,199)"
          ],
          [
           0.5,
           "rgb(247,247,247)"
          ],
          [
           0.6,
           "rgb(209,229,240)"
          ],
          [
           0.7,
           "rgb(146,197,222)"
          ],
          [
           0.8,
           "rgb(67,147,195)"
          ],
          [
           0.9,
           "rgb(33,102,172)"
          ],
          [
           1,
           "rgb(5,48,97)"
          ]
         ],
         "hoverongaps": false,
         "text": [
          [
           " ",
           " ",
           " ",
           " ",
           " ",
           " ",
           " ",
           " "
          ],
          [
           " ",
           " ",
           " ",
           " ",
           " ",
           " ",
           " ",
           " "
          ],
          [
           " ",
           " ",
           " ",
           " ",
           " ",
           " ",
           " ",
           " "
          ],
          [
           " ",
           " ",
           " ",
           " ",
           " ",
           " ",
           " ",
           " "
          ],
          [
           " ",
           " ",
           " ",
           " ",
           " ",
           " ",
           " ",
           " "
          ],
          [
           " ",
           " ",
           " ",
           " ",
           " ",
           " ",
           " ",
           " "
          ],
          [
           " ",
           " ",
           "█",
           " ",
           " ",
           " ",
           " ",
           " "
          ],
          [
           " ",
           " ",
           " ",
           " ",
           " ",
           " ",
           " ",
           " "
          ]
         ],
         "texttemplate": "%{text}",
         "type": "heatmap",
         "x": [
          0,
          1,
          2,
          3,
          4,
          5,
          6,
          7
         ],
         "xaxis": "x16",
         "y": [
          "H",
          "G",
          "F",
          "E",
          "D",
          "C",
          "B",
          "A"
         ],
         "yaxis": "y16",
         "z": [
          [
           0.5,
           0.09328955411911011,
           0.9949967861175537,
           0.999855637550354,
           0.999945878982544,
           0.9999851584434509,
           0.9999953508377075,
           0.49999773502349854
          ],
          [
           0.5000326037406921,
           0.5,
           0.9706441164016724,
           0.9977983832359314,
           0.006765872240066528,
           0.9999410510063171,
           0.5000033974647522,
           0.9743441939353943
          ],
          [
           0.00001481175422668457,
           0.9985630512237549,
           0.0031656622886657715,
           0.0012267231941223145,
           0.9997174739837646,
           0.9967769980430603,
           0.9996020793914795,
           0.999306857585907
          ],
          [
           0.9998520016670227,
           0.46331366896629333,
           0.0017479956150054932,
           0.019916236400604248,
           0.012211918830871582,
           0.998213529586792,
           0.49999985098838806,
           0.9965859651565552
          ],
          [
           0.9994854927062988,
           0.0000413358211517334,
           0.00018861889839172363,
           0.00021705031394958496,
           0.9900447130203247,
           0.001642674207687378,
           0.0014608204364776611,
           0.9356327056884766
          ],
          [
           0.5,
           0.9999874830245972,
           0.00016188621520996094,
           0.0038567185401916504,
           0.0013526082038879395,
           0.009301096200942993,
           0.0004157423973083496,
           0.9976596832275391
          ],
          [
           0.5000037550926208,
           0.005037397146224976,
           0.0018380284309387207,
           0.0003757476806640625,
           0.00008124113082885742,
           3.8743019104003906e-7,
           0.5,
           0.9908515214920044
          ],
          [
           0.5,
           0.0002624690532684326,
           0.5,
           0.5000717043876648,
           0.0009860694408416748,
           0.5,
           0.5,
           0.5103254914283752
          ]
         ],
         "zmax": 1,
         "zmin": 0
        },
        {
         "colorscale": [
          [
           0,
           "rgb(103,0,31)"
          ],
          [
           0.1,
           "rgb(178,24,43)"
          ],
          [
           0.2,
           "rgb(214,96,77)"
          ],
          [
           0.3,
           "rgb(244,165,130)"
          ],
          [
           0.4,
           "rgb(253,219,199)"
          ],
          [
           0.5,
           "rgb(247,247,247)"
          ],
          [
           0.6,
           "rgb(209,229,240)"
          ],
          [
           0.7,
           "rgb(146,197,222)"
          ],
          [
           0.8,
           "rgb(67,147,195)"
          ],
          [
           0.9,
           "rgb(33,102,172)"
          ],
          [
           1,
           "rgb(5,48,97)"
          ]
         ],
         "hoverongaps": false,
         "text": [
          [
           " ",
           " ",
           " ",
           " ",
           " ",
           " ",
           " ",
           " "
          ],
          [
           " ",
           " ",
           " ",
           " ",
           " ",
           " ",
           " ",
           " "
          ],
          [
           " ",
           " ",
           " ",
           " ",
           " ",
           " ",
           " ",
           " "
          ],
          [
           " ",
           " ",
           " ",
           " ",
           " ",
           " ",
           " ",
           " "
          ],
          [
           " ",
           " ",
           " ",
           " ",
           " ",
           " ",
           " ",
           " "
          ],
          [
           " ",
           "█",
           "░",
           "▒",
           " ",
           " ",
           " ",
           " "
          ],
          [
           " ",
           " ",
           " ",
           " ",
           " ",
           " ",
           " ",
           " "
          ],
          [
           " ",
           " ",
           " ",
           " ",
           " ",
           " ",
           " ",
           " "
          ]
         ],
         "texttemplate": "%{text}",
         "type": "heatmap",
         "x": [
          0,
          1,
          2,
          3,
          4,
          5,
          6,
          7
         ],
         "xaxis": "x17",
         "y": [
          "H",
          "G",
          "F",
          "E",
          "D",
          "C",
          "B",
          "A"
         ],
         "yaxis": "y17",
         "z": [
          [
           0.5000000596046448,
           0.036801815032958984,
           0.5947214365005493,
           0.2435142695903778,
           0.3077106177806854,
           0.4161165654659271,
           0.9432014226913452,
           0.4999995231628418
          ],
          [
           0.4999999701976776,
           0.4999851584434509,
           0.5189000368118286,
           0.29349055886268616,
           0.2460092306137085,
           0.8420192003250122,
           0.49999961256980896,
           0.9229300022125244
          ],
          [
           0.0017245709896087646,
           0.72165846824646,
           0.4546526372432709,
           0.4665692448616028,
           0.6979306936264038,
           0.3829490542411804,
           0.6898743510246277,
           0.9069589376449585
          ],
          [
           0.9576780796051025,
           0.5000002384185791,
           0.7577721476554871,
           0.7563461065292358,
           0.6317383646965027,
           0.5075515508651733,
           0.4999849498271942,
           0.2916256785392761
          ],
          [
           0.9990816116333008,
           0.9829801321029663,
           0.10988903045654297,
           0.1311112642288208,
           0.3233296573162079,
           0.7798831462860107,
           0.15848127007484436,
           0.08409446477890015
          ],
          [
           0.99993896484375,
           0.9930098056793213,
           0.9454116225242615,
           0.47458845376968384,
           0.858126163482666,
           0.4388226866722107,
           0.28730544447898865,
           0.3002740740776062
          ],
          [
           0.5,
           0.0006235241889953613,
           0.16146469116210938,
           0.585438072681427,
           0.42263737320899963,
           0.751285195350647,
           0.5000002980232239,
           0.957022488117218
          ],
          [
           0.4999908208847046,
           0.0006480813026428223,
           0.49999985098838806,
           0.4999944865703583,
           0.11432582139968872,
           0.499997615814209,
           0.4999984800815582,
           0.4999992549419403
          ]
         ],
         "zmax": 1,
         "zmin": 0
        },
        {
         "colorscale": [
          [
           0,
           "rgb(103,0,31)"
          ],
          [
           0.1,
           "rgb(178,24,43)"
          ],
          [
           0.2,
           "rgb(214,96,77)"
          ],
          [
           0.3,
           "rgb(244,165,130)"
          ],
          [
           0.4,
           "rgb(253,219,199)"
          ],
          [
           0.5,
           "rgb(247,247,247)"
          ],
          [
           0.6,
           "rgb(209,229,240)"
          ],
          [
           0.7,
           "rgb(146,197,222)"
          ],
          [
           0.8,
           "rgb(67,147,195)"
          ],
          [
           0.9,
           "rgb(33,102,172)"
          ],
          [
           1,
           "rgb(5,48,97)"
          ]
         ],
         "hoverongaps": false,
         "text": [
          [
           " ",
           " ",
           " ",
           " ",
           " ",
           " ",
           " ",
           " "
          ],
          [
           " ",
           " ",
           " ",
           " ",
           " ",
           " ",
           " ",
           " "
          ],
          [
           " ",
           " ",
           " ",
           " ",
           " ",
           " ",
           " ",
           " "
          ],
          [
           " ",
           " ",
           " ",
           " ",
           " ",
           " ",
           " ",
           " "
          ],
          [
           " ",
           "░",
           " ",
           " ",
           " ",
           " ",
           " ",
           " "
          ],
          [
           " ",
           "█",
           "▓",
           "▓",
           "░",
           " ",
           " ",
           " "
          ],
          [
           " ",
           " ",
           " ",
           " ",
           " ",
           " ",
           " ",
           " "
          ],
          [
           " ",
           " ",
           " ",
           " ",
           " ",
           " ",
           " ",
           " "
          ]
         ],
         "texttemplate": "%{text}",
         "type": "heatmap",
         "x": [
          0,
          1,
          2,
          3,
          4,
          5,
          6,
          7
         ],
         "xaxis": "x18",
         "y": [
          "H",
          "G",
          "F",
          "E",
          "D",
          "C",
          "B",
          "A"
         ],
         "yaxis": "y18",
         "z": [
          [
           0.500002920627594,
           0.04051735997200012,
           0.6749382019042969,
           0.3060867190361023,
           0.3578721284866333,
           0.4759119153022766,
           0.9792613387107849,
           0.4999997317790985
          ],
          [
           0.49999943375587463,
           0.4999988079071045,
           0.8955365419387817,
           0.6370388269424438,
           0.30630749464035034,
           0.927497386932373,
           0.5000109672546387,
           0.9989428520202637
          ],
          [
           0.017330050468444824,
           0.9713072776794434,
           0.299875944852829,
           0.6196277141571045,
           0.881432831287384,
           0.8480848073959351,
           0.9335281848907471,
           0.9996224045753479
          ],
          [
           0.9987651705741882,
           0.5000002980232239,
           0.18941950798034668,
           0.30701375007629395,
           0.5442925095558167,
           0.6792063117027283,
           0.5000134706497192,
           0.9898499250411987
          ],
          [
           0.999765932559967,
           0.9956904053688049,
           0.05702868103981018,
           0.08692669868469238,
           0.2535088062286377,
           0.45075613260269165,
           0.043051064014434814,
           0.9972637891769409
          ],
          [
           0.9998735189437866,
           0.9951322078704834,
           0.9752113819122314,
           0.5346781015396118,
           0.7473804950714111,
           0.3805631995201111,
           0.2359115481376648,
           0.9979814291000366
          ],
          [
           0.4999999403953552,
           0.0005992650985717773,
           0.1450580358505249,
           0.5727159976959229,
           0.1470974087715149,
           0.6536765098571777,
           0.4999887943267822,
           0.999519944190979
          ],
          [
           0.4999919533729553,
           0.0005255043506622314,
           0.4999977648258209,
           0.499926894903183,
           0.0017563998699188232,
           0.4997784197330475,
           0.49997013807296753,
           0.4999757707118988
          ]
         ],
         "zmax": 1,
         "zmin": 0
        },
        {
         "colorscale": [
          [
           0,
           "rgb(103,0,31)"
          ],
          [
           0.1,
           "rgb(178,24,43)"
          ],
          [
           0.2,
           "rgb(214,96,77)"
          ],
          [
           0.3,
           "rgb(244,165,130)"
          ],
          [
           0.4,
           "rgb(253,219,199)"
          ],
          [
           0.5,
           "rgb(247,247,247)"
          ],
          [
           0.6,
           "rgb(209,229,240)"
          ],
          [
           0.7,
           "rgb(146,197,222)"
          ],
          [
           0.8,
           "rgb(67,147,195)"
          ],
          [
           0.9,
           "rgb(33,102,172)"
          ],
          [
           1,
           "rgb(5,48,97)"
          ]
         ],
         "hoverongaps": false,
         "text": [
          [
           " ",
           " ",
           " ",
           " ",
           " ",
           " ",
           " ",
           " "
          ],
          [
           " ",
           " ",
           " ",
           " ",
           " ",
           " ",
           " ",
           " "
          ],
          [
           " ",
           " ",
           " ",
           "█",
           " ",
           " ",
           " ",
           " "
          ],
          [
           " ",
           " ",
           "█",
           " ",
           " ",
           " ",
           " ",
           " "
          ],
          [
           " ",
           "▓",
           " ",
           " ",
           " ",
           " ",
           " ",
           " "
          ],
          [
           " ",
           " ",
           " ",
           " ",
           " ",
           " ",
           " ",
           " "
          ],
          [
           " ",
           " ",
           " ",
           " ",
           " ",
           " ",
           " ",
           " "
          ],
          [
           " ",
           " ",
           " ",
           " ",
           " ",
           " ",
           " ",
           " "
          ]
         ],
         "texttemplate": "%{text}",
         "type": "heatmap",
         "x": [
          0,
          1,
          2,
          3,
          4,
          5,
          6,
          7
         ],
         "xaxis": "x19",
         "y": [
          "H",
          "G",
          "F",
          "E",
          "D",
          "C",
          "B",
          "A"
         ],
         "yaxis": "y19",
         "z": [
          [
           0.5000017285346985,
           0.00280645489692688,
           0.9557773470878601,
           0.9757485389709473,
           0.9952380657196045,
           0.9922823905944824,
           0.9989055395126343,
           0.4999648332595825
          ],
          [
           0.4999866187572479,
           0.49999940395355225,
           0.9840183854103088,
           0.43189340829849243,
           0.8080382347106934,
           0.9829185009002686,
           0.49982476234436035,
           0.9997331500053406
          ],
          [
           0.0003572702407836914,
           0.9752542972564697,
           0.02292025089263916,
           0.48074012994766235,
           0.7688336968421936,
           0.9556248784065247,
           0.9816300868988037,
           0.9987377524375916
          ],
          [
           0.9875644445419312,
           0.49999532103538513,
           0.5355279445648193,
           0.22355031967163086,
           0.5407426953315735,
           0.7918868064880371,
           0.5000066757202148,
           0.9984132051467896
          ],
          [
           0.9949876070022583,
           0.9632420539855957,
           0.024182826280593872,
           0.03753441572189331,
           0.3495228886604309,
           0.21330863237380981,
           0.04902702569961548,
           0.9680472612380981
          ],
          [
           0.9834467172622681,
           0.9994487762451172,
           0.27923154830932617,
           0.042989492416381836,
           0.6276609897613525,
           0.44856470823287964,
           0.3341977000236511,
           0.9998412132263184
          ],
          [
           0.49999353289604187,
           0.0064220130443573,
           0.052555859088897705,
           0.7929433584213257,
           0.15854978561401367,
           0.3172294497489929,
           0.49979567527770996,
           0.9983208775520325
          ],
          [
           0.4999941289424896,
           0.005753159523010254,
           0.4999921917915344,
           0.500007688999176,
           0.0006085336208343506,
           0.4991629421710968,
           0.49996912479400635,
           0.49998289346694946
          ]
         ],
         "zmax": 1,
         "zmin": 0
        },
        {
         "colorscale": [
          [
           0,
           "rgb(103,0,31)"
          ],
          [
           0.1,
           "rgb(178,24,43)"
          ],
          [
           0.2,
           "rgb(214,96,77)"
          ],
          [
           0.3,
           "rgb(244,165,130)"
          ],
          [
           0.4,
           "rgb(253,219,199)"
          ],
          [
           0.5,
           "rgb(247,247,247)"
          ],
          [
           0.6,
           "rgb(209,229,240)"
          ],
          [
           0.7,
           "rgb(146,197,222)"
          ],
          [
           0.8,
           "rgb(67,147,195)"
          ],
          [
           0.9,
           "rgb(33,102,172)"
          ],
          [
           1,
           "rgb(5,48,97)"
          ]
         ],
         "hoverongaps": false,
         "text": [
          [
           " ",
           " ",
           " ",
           " ",
           " ",
           " ",
           " ",
           " "
          ],
          [
           " ",
           " ",
           " ",
           " ",
           "▒",
           " ",
           " ",
           " "
          ],
          [
           " ",
           " ",
           " ",
           "█",
           " ",
           " ",
           " ",
           " "
          ],
          [
           " ",
           " ",
           "█",
           " ",
           " ",
           " ",
           " ",
           " "
          ],
          [
           " ",
           "█",
           " ",
           " ",
           " ",
           " ",
           " ",
           " "
          ],
          [
           " ",
           " ",
           " ",
           " ",
           " ",
           " ",
           " ",
           " "
          ],
          [
           " ",
           " ",
           " ",
           " ",
           " ",
           " ",
           " ",
           " "
          ],
          [
           " ",
           " ",
           " ",
           " ",
           " ",
           " ",
           " ",
           " "
          ]
         ],
         "texttemplate": "%{text}",
         "type": "heatmap",
         "x": [
          0,
          1,
          2,
          3,
          4,
          5,
          6,
          7
         ],
         "xaxis": "x20",
         "y": [
          "H",
          "G",
          "F",
          "E",
          "D",
          "C",
          "B",
          "A"
         ],
         "yaxis": "y20",
         "z": [
          [
           0.5001711845397949,
           0.0006473660469055176,
           0.9901851415634155,
           0.9990741014480591,
           0.9960802793502808,
           0.9992536306381226,
           0.9989742040634155,
           0.500032365322113
          ],
          [
           0.49996891617774963,
           0.5000467896461487,
           0.9880427718162537,
           0.7954393625259399,
           0.9831080436706543,
           0.9219862222671509,
           0.5024191737174988,
           0.9997764229774475
          ],
          [
           0.007502228021621704,
           0.9996988773345947,
           0.0038085877895355225,
           0.94256192445755,
           0.8000848293304443,
           0.8745884895324707,
           0.9789291024208069,
           0.9961349964141846
          ],
          [
           0.9979416131973267,
           0.49999144673347473,
           0.3464858829975128,
           0.1246824562549591,
           0.27337393164634705,
           0.8412878513336182,
           0.4998037815093994,
           0.9976646304130554
          ],
          [
           0.9969477653503418,
           0.9984625577926636,
           0.003109961748123169,
           0.04958432912826538,
           0.8930613994598389,
           0.07323434948921204,
           0.029687583446502686,
           0.9975786209106445
          ],
          [
           0.9757920503616333,
           0.9899224638938904,
           0.4940797984600067,
           0.017814338207244873,
           0.03913012146949768,
           0.018464326858520508,
           0.020297646522521973,
           0.9978833198547363
          ],
          [
           0.4999834895133972,
           0.00012499094009399414,
           0.004200547933578491,
           0.14485234022140503,
           0.008507490158081055,
           0.07881933450698853,
           0.4999355673789978,
           0.9988031387329102
          ],
          [
           0.4999341070652008,
           0.0011660456657409668,
           0.4999719262123108,
           0.49927958846092224,
           0.0017020702362060547,
           0.49920088052749634,
           0.49997588992118835,
           0.500206470489502
          ]
         ],
         "zmax": 1,
         "zmin": 0
        },
        {
         "colorscale": [
          [
           0,
           "rgb(103,0,31)"
          ],
          [
           0.1,
           "rgb(178,24,43)"
          ],
          [
           0.2,
           "rgb(214,96,77)"
          ],
          [
           0.3,
           "rgb(244,165,130)"
          ],
          [
           0.4,
           "rgb(253,219,199)"
          ],
          [
           0.5,
           "rgb(247,247,247)"
          ],
          [
           0.6,
           "rgb(209,229,240)"
          ],
          [
           0.7,
           "rgb(146,197,222)"
          ],
          [
           0.8,
           "rgb(67,147,195)"
          ],
          [
           0.9,
           "rgb(33,102,172)"
          ],
          [
           1,
           "rgb(5,48,97)"
          ]
         ],
         "hoverongaps": false,
         "text": [
          [
           " ",
           " ",
           " ",
           " ",
           " ",
           " ",
           " ",
           " "
          ],
          [
           " ",
           " ",
           " ",
           " ",
           "█",
           " ",
           " ",
           " "
          ],
          [
           " ",
           " ",
           " ",
           "█",
           " ",
           " ",
           " ",
           " "
          ],
          [
           " ",
           " ",
           "█",
           " ",
           " ",
           " ",
           " ",
           " "
          ],
          [
           " ",
           "█",
           " ",
           " ",
           " ",
           " ",
           " ",
           " "
          ],
          [
           " ",
           " ",
           " ",
           " ",
           " ",
           " ",
           " ",
           " "
          ],
          [
           " ",
           " ",
           " ",
           " ",
           " ",
           " ",
           " ",
           " "
          ],
          [
           " ",
           " ",
           " ",
           " ",
           " ",
           " ",
           " ",
           " "
          ]
         ],
         "texttemplate": "%{text}",
         "type": "heatmap",
         "x": [
          0,
          1,
          2,
          3,
          4,
          5,
          6,
          7
         ],
         "xaxis": "x21",
         "y": [
          "H",
          "G",
          "F",
          "E",
          "D",
          "C",
          "B",
          "A"
         ],
         "yaxis": "y21",
         "z": [
          [
           0.5000579953193665,
           0.0006944537162780762,
           0.9819176197052002,
           0.9985566139221191,
           0.9976792335510254,
           0.9986447095870972,
           0.9999690651893616,
           0.5000978708267212
          ],
          [
           0.4999372363090515,
           0.5000221133232117,
           0.9973330497741699,
           0.9557690024375916,
           0.9983586072921753,
           0.9614834189414978,
           0.5000954270362854,
           0.9996193647384644
          ],
          [
           0.0004710853099822998,
           0.9999476671218872,
           0.005492746829986572,
           0.9954811334609985,
           0.9604005217552185,
           0.9869920611381531,
           0.9766978025436401,
           0.9986770153045654
          ],
          [
           0.9996143579483032,
           0.5000015497207642,
           0.993624210357666,
           0.045126140117645264,
           0.07921302318572998,
           0.994310736656189,
           0.4999646842479706,
           0.9968489408493042
          ],
          [
           0.9990309476852417,
           0.9951351284980774,
           0.0019361376762390137,
           0.027604132890701294,
           0.9851261377334595,
           0.06643563508987427,
           0.008068203926086426,
           0.9690711498260498
          ],
          [
           0.9992592334747314,
           0.9946649670600891,
           0.05204808712005615,
           0.006927400827407837,
           0.005167543888092041,
           0.02000439167022705,
           0.04470023512840271,
           0.9980311989784241
          ],
          [
           0.4999871253967285,
           0.001203984022140503,
           0.002472430467605591,
           0.03289586305618286,
           0.004573315382003784,
           0.004755556583404541,
           0.4999503791332245,
           0.9995164275169373
          ],
          [
           0.5000227689743042,
           0.0039411187171936035,
           0.4999518394470215,
           0.4997400939464569,
           0.001970350742340088,
           0.49966827034950256,
           0.5000396370887756,
           0.4998149275779724
          ]
         ],
         "zmax": 1,
         "zmin": 0
        },
        {
         "colorscale": [
          [
           0,
           "rgb(103,0,31)"
          ],
          [
           0.1,
           "rgb(178,24,43)"
          ],
          [
           0.2,
           "rgb(214,96,77)"
          ],
          [
           0.3,
           "rgb(244,165,130)"
          ],
          [
           0.4,
           "rgb(253,219,199)"
          ],
          [
           0.5,
           "rgb(247,247,247)"
          ],
          [
           0.6,
           "rgb(209,229,240)"
          ],
          [
           0.7,
           "rgb(146,197,222)"
          ],
          [
           0.8,
           "rgb(67,147,195)"
          ],
          [
           0.9,
           "rgb(33,102,172)"
          ],
          [
           1,
           "rgb(5,48,97)"
          ]
         ],
         "hoverongaps": false,
         "text": [
          [
           " ",
           " ",
           " ",
           " ",
           " ",
           " ",
           " ",
           " "
          ],
          [
           " ",
           " ",
           " ",
           " ",
           "█",
           " ",
           " ",
           " "
          ],
          [
           " ",
           " ",
           " ",
           "█",
           " ",
           " ",
           " ",
           " "
          ],
          [
           " ",
           " ",
           "█",
           " ",
           " ",
           " ",
           " ",
           " "
          ],
          [
           "░",
           "█",
           " ",
           " ",
           " ",
           " ",
           " ",
           " "
          ],
          [
           " ",
           " ",
           " ",
           " ",
           " ",
           " ",
           " ",
           " "
          ],
          [
           " ",
           " ",
           " ",
           " ",
           " ",
           " ",
           " ",
           " "
          ],
          [
           " ",
           " ",
           " ",
           " ",
           " ",
           " ",
           " ",
           " "
          ]
         ],
         "texttemplate": "%{text}",
         "type": "heatmap",
         "x": [
          0,
          1,
          2,
          3,
          4,
          5,
          6,
          7
         ],
         "xaxis": "x22",
         "y": [
          "H",
          "G",
          "F",
          "E",
          "D",
          "C",
          "B",
          "A"
         ],
         "yaxis": "y22",
         "z": [
          [
           0.5000001788139343,
           0.0006550252437591553,
           0.998909592628479,
           0.9999399781227112,
           0.9999529123306274,
           0.9999562501907349,
           0.9999386072158813,
           0.5000054240226746
          ],
          [
           0.5,
           0.4999997019767761,
           0.9911082983016968,
           0.9906181693077087,
           0.9932117462158203,
           0.9912999868392944,
           0.4999999701976776,
           0.9998838901519775
          ],
          [
           0.000008940696716308594,
           0.9998981952667236,
           0.0006913542747497559,
           0.9990376234054565,
           0.9848005771636963,
           0.9975889325141907,
           0.9990524053573608,
           0.9998058676719666
          ],
          [
           0.9997290372848511,
           0.4999999701976776,
           0.9999077320098877,
           0.25272679328918457,
           0.019939184188842773,
           0.998291015625,
           0.49999991059303284,
           0.9990614652633667
          ],
          [
           0.9998781681060791,
           0.9993966817855835,
           0.07425320148468018,
           0.003607511520385742,
           0.9968823194503784,
           0.006984412670135498,
           0.006785571575164795,
           0.9928622841835022
          ],
          [
           0.9997855424880981,
           0.9994808435440063,
           0.006391286849975586,
           0.0007918477058410645,
           0.005255758762359619,
           0.0016916096210479736,
           0.013212859630584717,
           0.9972542524337769
          ],
          [
           0.5,
           0.00003209710121154785,
           0.014115005731582642,
           0.0008715689182281494,
           0.00013533234596252441,
           0.0002606809139251709,
           0.4999915063381195,
           0.9990454912185669
          ],
          [
           0.4999828040599823,
           0.00016123056411743164,
           0.499994695186615,
           0.4999898076057434,
           0.00006633996963500977,
           0.5000277161598206,
           0.5001325607299805,
           0.5003069043159485
          ]
         ],
         "zmax": 1,
         "zmin": 0
        },
        {
         "colorscale": [
          [
           0,
           "rgb(103,0,31)"
          ],
          [
           0.1,
           "rgb(178,24,43)"
          ],
          [
           0.2,
           "rgb(214,96,77)"
          ],
          [
           0.3,
           "rgb(244,165,130)"
          ],
          [
           0.4,
           "rgb(253,219,199)"
          ],
          [
           0.5,
           "rgb(247,247,247)"
          ],
          [
           0.6,
           "rgb(209,229,240)"
          ],
          [
           0.7,
           "rgb(146,197,222)"
          ],
          [
           0.8,
           "rgb(67,147,195)"
          ],
          [
           0.9,
           "rgb(33,102,172)"
          ],
          [
           1,
           "rgb(5,48,97)"
          ]
         ],
         "hoverongaps": false,
         "text": [
          [
           " ",
           " ",
           " ",
           " ",
           " ",
           " ",
           " ",
           " "
          ],
          [
           " ",
           " ",
           " ",
           " ",
           "█",
           " ",
           " ",
           " "
          ],
          [
           " ",
           " ",
           " ",
           "█",
           " ",
           " ",
           " ",
           " "
          ],
          [
           " ",
           " ",
           "█",
           " ",
           " ",
           " ",
           " ",
           " "
          ],
          [
           "▒",
           "█",
           " ",
           " ",
           " ",
           " ",
           " ",
           " "
          ],
          [
           " ",
           " ",
           " ",
           " ",
           " ",
           " ",
           " ",
           " "
          ],
          [
           " ",
           " ",
           " ",
           " ",
           " ",
           " ",
           " ",
           " "
          ],
          [
           " ",
           " ",
           " ",
           " ",
           " ",
           " ",
           " ",
           " "
          ]
         ],
         "texttemplate": "%{text}",
         "type": "heatmap",
         "x": [
          0,
          1,
          2,
          3,
          4,
          5,
          6,
          7
         ],
         "xaxis": "x23",
         "y": [
          "H",
          "G",
          "F",
          "E",
          "D",
          "C",
          "B",
          "A"
         ],
         "yaxis": "y23",
         "z": [
          [
           0.5000000596046448,
           0.0007258951663970947,
           0.9823616743087769,
           0.9639924764633179,
           0.9999897480010986,
           0.9995630383491516,
           0.999932050704956,
           0.5
          ],
          [
           0.5,
           0.5,
           0.9992562532424927,
           0.997627317905426,
           0.9934234619140625,
           0.9993375539779663,
           0.5,
           0.999152421951294
          ],
          [
           0.000021785497665405273,
           0.9992879033088684,
           0.0001068115234375,
           0.9936740398406982,
           0.9881632924079895,
           0.994472861289978,
           0.9999285936355591,
           0.9999954700469971
          ],
          [
           0.9992225170135498,
           0.5,
           0.9902969598770142,
           0.0030704140663146973,
           0.007150143384933472,
           0.9944289922714233,
           0.5,
           0.9999861717224121
          ],
          [
           0.999727725982666,
           0.9970042705535889,
           0.007010906934738159,
           0.002297341823577881,
           0.9860694408416748,
           0.002472221851348877,
           0.03466886281967163,
           0.9966217279434204
          ],
          [
           0.9964307546615601,
           0.9999687671661377,
           0.002726435661315918,
           0.001067042350769043,
           0.004807621240615845,
           0.00009620189666748047,
           0.003354012966156006,
           0.9999250173568726
          ],
          [
           0.5,
           0.000022411346435546875,
           0.00588873028755188,
           0.00009328126907348633,
           0.00021272897720336914,
           0.00005647540092468262,
           0.49998778104782104,
           0.9999208450317383
          ],
          [
           0.4999723732471466,
           0.00010785460472106934,
           0.5,
           0.5,
           0.0021723508834838867,
           0.49999991059303284,
           0.4999493658542633,
           0.5032076835632324
          ]
         ],
         "zmax": 1,
         "zmin": 0
        },
        {
         "colorscale": [
          [
           0,
           "rgb(103,0,31)"
          ],
          [
           0.1,
           "rgb(178,24,43)"
          ],
          [
           0.2,
           "rgb(214,96,77)"
          ],
          [
           0.3,
           "rgb(244,165,130)"
          ],
          [
           0.4,
           "rgb(253,219,199)"
          ],
          [
           0.5,
           "rgb(247,247,247)"
          ],
          [
           0.6,
           "rgb(209,229,240)"
          ],
          [
           0.7,
           "rgb(146,197,222)"
          ],
          [
           0.8,
           "rgb(67,147,195)"
          ],
          [
           0.9,
           "rgb(33,102,172)"
          ],
          [
           1,
           "rgb(5,48,97)"
          ]
         ],
         "hoverongaps": false,
         "text": [
          [
           " ",
           " ",
           " ",
           " ",
           " ",
           " ",
           " ",
           " "
          ],
          [
           " ",
           " ",
           " ",
           " ",
           "█",
           " ",
           " ",
           " "
          ],
          [
           " ",
           " ",
           " ",
           "█",
           " ",
           " ",
           " ",
           " "
          ],
          [
           " ",
           " ",
           "█",
           " ",
           " ",
           " ",
           " ",
           " "
          ],
          [
           " ",
           "█",
           " ",
           " ",
           " ",
           " ",
           " ",
           " "
          ],
          [
           " ",
           " ",
           " ",
           " ",
           " ",
           " ",
           " ",
           " "
          ],
          [
           " ",
           " ",
           " ",
           " ",
           " ",
           " ",
           " ",
           " "
          ],
          [
           " ",
           " ",
           " ",
           " ",
           " ",
           " ",
           " ",
           " "
          ]
         ],
         "texttemplate": "%{text}",
         "type": "heatmap",
         "x": [
          0,
          1,
          2,
          3,
          4,
          5,
          6,
          7
         ],
         "xaxis": "x24",
         "y": [
          "H",
          "G",
          "F",
          "E",
          "D",
          "C",
          "B",
          "A"
         ],
         "yaxis": "y24",
         "z": [
          [
           0.5000046491622925,
           0.0008218586444854736,
           0.9960728883743286,
           0.9958592057228088,
           0.999982476234436,
           0.9999666213989258,
           0.9999904632568359,
           0.5
          ],
          [
           0.5,
           0.5000010132789612,
           0.9988959431648254,
           0.9983965754508972,
           0.9445275068283081,
           0.9999489784240723,
           0.5,
           0.999703049659729
          ],
          [
           0.0000749826431274414,
           0.9999449253082275,
           0.008117496967315674,
           0.99158775806427,
           0.9977928400039673,
           0.9950066804885864,
           0.9999059438705444,
           0.9999909996986389
          ],
          [
           0.9996532201766968,
           0.5,
           0.9908673763275146,
           0.03704315423965454,
           0.01387748122215271,
           0.9976246356964111,
           0.5,
           0.9999140501022339
          ],
          [
           0.9999392032623291,
           0.9950873851776123,
           0.022808939218521118,
           0.009312450885772705,
           0.9850178360939026,
           0.004670262336730957,
           0.05900910496711731,
           0.9881026744842529
          ],
          [
           0.9902312755584717,
           0.9996047019958496,
           0.007179677486419678,
           0.004063010215759277,
           0.0015349388122558594,
           0.0013566911220550537,
           0.0022819340229034424,
           0.9998099207878113
          ],
          [
           0.5,
           0.000022798776626586914,
           0.049881577491760254,
           0.00015369057655334473,
           0.0003248751163482666,
           0.00007751584053039551,
           0.49925413727760315,
           0.999971866607666
          ],
          [
           0.4999149441719055,
           0.0019879937171936035,
           0.5000382661819458,
           0.5000150799751282,
           0.00056496262550354,
           0.513792097568512,
           0.501203179359436,
           0.561786949634552
          ]
         ],
         "zmax": 1,
         "zmin": 0
        },
        {
         "colorscale": [
          [
           0,
           "rgb(103,0,31)"
          ],
          [
           0.1,
           "rgb(178,24,43)"
          ],
          [
           0.2,
           "rgb(214,96,77)"
          ],
          [
           0.3,
           "rgb(244,165,130)"
          ],
          [
           0.4,
           "rgb(253,219,199)"
          ],
          [
           0.5,
           "rgb(247,247,247)"
          ],
          [
           0.6,
           "rgb(209,229,240)"
          ],
          [
           0.7,
           "rgb(146,197,222)"
          ],
          [
           0.8,
           "rgb(67,147,195)"
          ],
          [
           0.9,
           "rgb(33,102,172)"
          ],
          [
           1,
           "rgb(5,48,97)"
          ]
         ],
         "hoverongaps": false,
         "text": [
          [
           " ",
           " ",
           " ",
           " ",
           " ",
           " ",
           " ",
           " "
          ],
          [
           " ",
           " ",
           " ",
           " ",
           " ",
           " ",
           " ",
           " "
          ],
          [
           " ",
           " ",
           " ",
           " ",
           " ",
           " ",
           " ",
           " "
          ],
          [
           " ",
           " ",
           "▓",
           " ",
           " ",
           " ",
           " ",
           " "
          ],
          [
           " ",
           "▓",
           " ",
           " ",
           " ",
           " ",
           " ",
           " "
          ],
          [
           " ",
           "█",
           " ",
           " ",
           " ",
           " ",
           " ",
           " "
          ],
          [
           " ",
           "░",
           " ",
           " ",
           " ",
           " ",
           " ",
           " "
          ],
          [
           " ",
           " ",
           " ",
           " ",
           " ",
           " ",
           " ",
           " "
          ]
         ],
         "texttemplate": "%{text}",
         "type": "heatmap",
         "x": [
          0,
          1,
          2,
          3,
          4,
          5,
          6,
          7
         ],
         "xaxis": "x25",
         "y": [
          "H",
          "G",
          "F",
          "E",
          "D",
          "C",
          "B",
          "A"
         ],
         "yaxis": "y25",
         "z": [
          [
           0.5000002980232239,
           0.012767583131790161,
           0.5532612800598145,
           0.29889607429504395,
           0.8051332831382751,
           0.5539746284484863,
           0.9773935079574585,
           0.5000174641609192
          ],
          [
           0.49996793270111084,
           0.5,
           0.8252403140068054,
           0.5337651371955872,
           0.5978167057037354,
           0.7753838300704956,
           0.5000481009483337,
           0.9810336232185364
          ],
          [
           0.002817988395690918,
           0.588441014289856,
           0.32513999938964844,
           0.2063400149345398,
           0.7618733644485474,
           0.4487607479095459,
           0.7109057307243347,
           0.9499883651733398
          ],
          [
           0.9067070484161377,
           0.0023488402366638184,
           0.07884815335273743,
           0.1298549771308899,
           0.467288076877594,
           0.42707133293151855,
           0.5,
           0.322330117225647
          ],
          [
           0.9973636269569397,
           0.14968812465667725,
           0.050864577293395996,
           0.2623947262763977,
           0.5591062307357788,
           0.672110915184021,
           0.20677435398101807,
           0.22356081008911133
          ],
          [
           0.9993109703063965,
           0.05594053864479065,
           0.8177178502082825,
           0.19935989379882812,
           0.7708284854888916,
           0.45383793115615845,
           0.31333810091018677,
           0.5129150152206421
          ],
          [
           0.5000009536743164,
           0.00017213821411132812,
           0.24551117420196533,
           0.5833759903907776,
           0.30530864000320435,
           0.6512948870658875,
           0.5000178813934326,
           0.8823894262313843
          ],
          [
           0.5000045299530029,
           0.00036454200744628906,
           0.4999978840351105,
           0.5001389980316162,
           0.06602659821510315,
           0.5000012516975403,
           0.500007152557373,
           0.5000057816505432
          ]
         ],
         "zmax": 1,
         "zmin": 0
        },
        {
         "colorscale": [
          [
           0,
           "rgb(103,0,31)"
          ],
          [
           0.1,
           "rgb(178,24,43)"
          ],
          [
           0.2,
           "rgb(214,96,77)"
          ],
          [
           0.3,
           "rgb(244,165,130)"
          ],
          [
           0.4,
           "rgb(253,219,199)"
          ],
          [
           0.5,
           "rgb(247,247,247)"
          ],
          [
           0.6,
           "rgb(209,229,240)"
          ],
          [
           0.7,
           "rgb(146,197,222)"
          ],
          [
           0.8,
           "rgb(67,147,195)"
          ],
          [
           0.9,
           "rgb(33,102,172)"
          ],
          [
           1,
           "rgb(5,48,97)"
          ]
         ],
         "hoverongaps": false,
         "text": [
          [
           " ",
           " ",
           " ",
           " ",
           " ",
           " ",
           " ",
           " "
          ],
          [
           " ",
           " ",
           " ",
           " ",
           " ",
           " ",
           " ",
           " "
          ],
          [
           " ",
           " ",
           " ",
           " ",
           " ",
           " ",
           " ",
           " "
          ],
          [
           " ",
           " ",
           "░",
           " ",
           " ",
           " ",
           " ",
           " "
          ],
          [
           " ",
           "█",
           " ",
           " ",
           " ",
           " ",
           " ",
           " "
          ],
          [
           " ",
           "▒",
           " ",
           " ",
           " ",
           " ",
           " ",
           " "
          ],
          [
           " ",
           " ",
           " ",
           " ",
           " ",
           " ",
           " ",
           " "
          ],
          [
           " ",
           " ",
           " ",
           " ",
           " ",
           " ",
           " ",
           " "
          ]
         ],
         "texttemplate": "%{text}",
         "type": "heatmap",
         "x": [
          0,
          1,
          2,
          3,
          4,
          5,
          6,
          7
         ],
         "xaxis": "x26",
         "y": [
          "H",
          "G",
          "F",
          "E",
          "D",
          "C",
          "B",
          "A"
         ],
         "yaxis": "y26",
         "z": [
          [
           0.5000004172325134,
           0.050175249576568604,
           0.9901175498962402,
           0.7218266725540161,
           0.7432675957679749,
           0.9513958692550659,
           0.998607337474823,
           0.5000039339065552
          ],
          [
           0.5000135898590088,
           0.5,
           0.9684164524078369,
           0.7475757598876953,
           0.8005722761154175,
           0.9596545696258545,
           0.5000242590904236,
           0.9989960193634033
          ],
          [
           0.0006746053695678711,
           0.9701825380325317,
           0.016688019037246704,
           0.5368320941925049,
           0.8875642418861389,
           0.6234727501869202,
           0.7821277379989624,
           0.9964826703071594
          ],
          [
           0.9987896680831909,
           0.00466686487197876,
           0.019752204418182373,
           0.08334001898765564,
           0.21082323789596558,
           0.3172594904899597,
           0.5000001192092896,
           0.5627380013465881
          ],
          [
           0.9999792575836182,
           0.022241294384002686,
           0.0033398568630218506,
           0.1620466113090515,
           0.1385589838027954,
           0.4594181776046753,
           0.10723361372947693,
           0.12560585141181946
          ],
          [
           0.9999896287918091,
           0.6306032538414001,
           0.8790621757507324,
           0.050405025482177734,
           0.7518874406814575,
           0.4284837543964386,
           0.05479249358177185,
           0.8972417116165161
          ],
          [
           0.5000050663948059,
           0.001504451036453247,
           0.008014321327209473,
           0.38550737500190735,
           0.1283508539199829,
           0.41459038853645325,
           0.5004762411117554,
           0.9916907548904419
          ],
          [
           0.5000019669532776,
           0.00018426775932312012,
           0.5000004172325134,
           0.5000141859054565,
           0.0020413100719451904,
           0.5000290274620056,
           0.5003349781036377,
           0.500062108039856
          ]
         ],
         "zmax": 1,
         "zmin": 0
        },
        {
         "colorscale": [
          [
           0,
           "rgb(103,0,31)"
          ],
          [
           0.1,
           "rgb(178,24,43)"
          ],
          [
           0.2,
           "rgb(214,96,77)"
          ],
          [
           0.3,
           "rgb(244,165,130)"
          ],
          [
           0.4,
           "rgb(253,219,199)"
          ],
          [
           0.5,
           "rgb(247,247,247)"
          ],
          [
           0.6,
           "rgb(209,229,240)"
          ],
          [
           0.7,
           "rgb(146,197,222)"
          ],
          [
           0.8,
           "rgb(67,147,195)"
          ],
          [
           0.9,
           "rgb(33,102,172)"
          ],
          [
           1,
           "rgb(5,48,97)"
          ]
         ],
         "hoverongaps": false,
         "text": [
          [
           " ",
           " ",
           " ",
           " ",
           " ",
           " ",
           " ",
           " "
          ],
          [
           " ",
           " ",
           " ",
           " ",
           " ",
           " ",
           " ",
           " "
          ],
          [
           " ",
           " ",
           " ",
           " ",
           " ",
           " ",
           " ",
           " "
          ],
          [
           " ",
           " ",
           "▓",
           " ",
           " ",
           " ",
           " ",
           " "
          ],
          [
           " ",
           "█",
           " ",
           " ",
           " ",
           " ",
           " ",
           " "
          ],
          [
           " ",
           "█",
           " ",
           " ",
           " ",
           " ",
           " ",
           " "
          ],
          [
           " ",
           " ",
           " ",
           " ",
           " ",
           " ",
           " ",
           " "
          ],
          [
           " ",
           " ",
           " ",
           " ",
           " ",
           " ",
           " ",
           " "
          ]
         ],
         "texttemplate": "%{text}",
         "type": "heatmap",
         "x": [
          0,
          1,
          2,
          3,
          4,
          5,
          6,
          7
         ],
         "xaxis": "x27",
         "y": [
          "H",
          "G",
          "F",
          "E",
          "D",
          "C",
          "B",
          "A"
         ],
         "yaxis": "y27",
         "z": [
          [
           0.5000003576278687,
           0.0027653276920318604,
           0.9944576025009155,
           0.9950237274169922,
           0.9990624189376831,
           0.9956698417663574,
           0.9997649192810059,
           0.49999284744262695
          ],
          [
           0.5001148581504822,
           0.500000536441803,
           0.9982492923736572,
           0.5473208427429199,
           0.4611799120903015,
           0.9764987230300903,
           0.500349223613739,
           0.9985688924789429
          ],
          [
           0.0002633333206176758,
           0.997697651386261,
           0.01002916693687439,
           0.006594568490982056,
           0.7171849012374878,
           0.9648861289024353,
           0.973974883556366,
           0.9946303367614746
          ],
          [
           0.9997256994247437,
           0.00013372302055358887,
           0.006859004497528076,
           0.02453678846359253,
           0.3067246079444885,
           0.384144127368927,
           0.5000026226043701,
           0.9823433756828308
          ],
          [
           0.9990772008895874,
           0.003896355628967285,
           0.003139793872833252,
           0.04998442530632019,
           0.137320876121521,
           0.044444650411605835,
           0.07259669899940491,
           0.8342475891113281
          ],
          [
           0.9999646544456482,
           0.19337224960327148,
           0.9951637983322144,
           0.7316015362739563,
           0.7675811648368835,
           0.18105685710906982,
           0.3150947690010071,
           0.9995707273483276
          ],
          [
           0.5000030398368835,
           0.00016227364540100098,
           0.0027093887329101562,
           0.2867088317871094,
           0.15383151173591614,
           0.16175079345703125,
           0.5000407099723816,
           0.999646782875061
          ],
          [
           0.5000452399253845,
           0.002699434757232666,
           0.4999951720237732,
           0.499978631734848,
           0.0026144087314605713,
           0.5000006556510925,
           0.5001807808876038,
           0.5000334978103638
          ]
         ],
         "zmax": 1,
         "zmin": 0
        },
        {
         "colorscale": [
          [
           0,
           "rgb(103,0,31)"
          ],
          [
           0.1,
           "rgb(178,24,43)"
          ],
          [
           0.2,
           "rgb(214,96,77)"
          ],
          [
           0.3,
           "rgb(244,165,130)"
          ],
          [
           0.4,
           "rgb(253,219,199)"
          ],
          [
           0.5,
           "rgb(247,247,247)"
          ],
          [
           0.6,
           "rgb(209,229,240)"
          ],
          [
           0.7,
           "rgb(146,197,222)"
          ],
          [
           0.8,
           "rgb(67,147,195)"
          ],
          [
           0.9,
           "rgb(33,102,172)"
          ],
          [
           1,
           "rgb(5,48,97)"
          ]
         ],
         "hoverongaps": false,
         "text": [
          [
           " ",
           " ",
           " ",
           " ",
           " ",
           " ",
           " ",
           " "
          ],
          [
           " ",
           " ",
           " ",
           " ",
           " ",
           " ",
           " ",
           " "
          ],
          [
           " ",
           " ",
           " ",
           " ",
           " ",
           " ",
           " ",
           " "
          ],
          [
           " ",
           " ",
           "█",
           " ",
           " ",
           " ",
           " ",
           " "
          ],
          [
           " ",
           "█",
           " ",
           " ",
           " ",
           " ",
           " ",
           " "
          ],
          [
           " ",
           "█",
           " ",
           " ",
           " ",
           " ",
           " ",
           " "
          ],
          [
           " ",
           " ",
           " ",
           " ",
           " ",
           " ",
           " ",
           " "
          ],
          [
           " ",
           " ",
           " ",
           " ",
           " ",
           " ",
           " ",
           " "
          ]
         ],
         "texttemplate": "%{text}",
         "type": "heatmap",
         "x": [
          0,
          1,
          2,
          3,
          4,
          5,
          6,
          7
         ],
         "xaxis": "x28",
         "y": [
          "H",
          "G",
          "F",
          "E",
          "D",
          "C",
          "B",
          "A"
         ],
         "yaxis": "y28",
         "z": [
          [
           0.5001040697097778,
           0.0023232996463775635,
           0.998547375202179,
           0.9944847226142883,
           0.9977521896362305,
           0.9806442260742188,
           0.9997972249984741,
           0.5001004338264465
          ],
          [
           0.49959129095077515,
           0.5001602172851562,
           0.9994829297065735,
           0.9503668546676636,
           0.9588427543640137,
           0.9185657501220703,
           0.5002425312995911,
           0.9981819987297058
          ],
          [
           0.00031369924545288086,
           0.9992091059684753,
           0.024088531732559204,
           0.8701992034912109,
           0.976516842842102,
           0.9698787927627563,
           0.9887078404426575,
           0.9943658709526062
          ],
          [
           0.9955577850341797,
           0.000017434358596801758,
           0.00766262412071228,
           0.004152178764343262,
           0.3204822540283203,
           0.28734374046325684,
           0.5000255703926086,
           0.9997611045837402
          ],
          [
           0.9982953071594238,
           0.000505596399307251,
           0.002558887004852295,
           0.03785252571105957,
           0.8296675086021423,
           0.09523072838783264,
           0.02550375461578369,
           0.9964364767074585
          ],
          [
           0.9995665550231934,
           0.004216104745864868,
           0.1936294138431549,
           0.0032075047492980957,
           0.12108466029167175,
           0.06349480152130127,
           0.06472894549369812,
           0.9991263151168823
          ],
          [
           0.49998578429222107,
           0.00019556283950805664,
           0.00016188621520996094,
           0.03134956955909729,
           0.004521489143371582,
           0.007874101400375366,
           0.49997806549072266,
           0.9895089268684387
          ],
          [
           0.5001450777053833,
           0.0031201839447021484,
           0.49965110421180725,
           0.4998231828212738,
           0.0005687475204467773,
           0.4999838173389435,
           0.5014148950576782,
           0.49996283650398254
          ]
         ],
         "zmax": 1,
         "zmin": 0
        },
        {
         "colorscale": [
          [
           0,
           "rgb(103,0,31)"
          ],
          [
           0.1,
           "rgb(178,24,43)"
          ],
          [
           0.2,
           "rgb(214,96,77)"
          ],
          [
           0.3,
           "rgb(244,165,130)"
          ],
          [
           0.4,
           "rgb(253,219,199)"
          ],
          [
           0.5,
           "rgb(247,247,247)"
          ],
          [
           0.6,
           "rgb(209,229,240)"
          ],
          [
           0.7,
           "rgb(146,197,222)"
          ],
          [
           0.8,
           "rgb(67,147,195)"
          ],
          [
           0.9,
           "rgb(33,102,172)"
          ],
          [
           1,
           "rgb(5,48,97)"
          ]
         ],
         "hoverongaps": false,
         "text": [
          [
           " ",
           " ",
           " ",
           " ",
           " ",
           " ",
           " ",
           " "
          ],
          [
           " ",
           " ",
           " ",
           " ",
           " ",
           " ",
           " ",
           " "
          ],
          [
           " ",
           " ",
           " ",
           " ",
           " ",
           " ",
           " ",
           " "
          ],
          [
           " ",
           " ",
           "█",
           " ",
           " ",
           " ",
           " ",
           " "
          ],
          [
           " ",
           "█",
           " ",
           " ",
           " ",
           " ",
           " ",
           " "
          ],
          [
           " ",
           "█",
           " ",
           " ",
           " ",
           " ",
           " ",
           " "
          ],
          [
           " ",
           " ",
           " ",
           " ",
           " ",
           " ",
           " ",
           " "
          ],
          [
           " ",
           " ",
           " ",
           " ",
           " ",
           " ",
           " ",
           " "
          ]
         ],
         "texttemplate": "%{text}",
         "type": "heatmap",
         "x": [
          0,
          1,
          2,
          3,
          4,
          5,
          6,
          7
         ],
         "xaxis": "x29",
         "y": [
          "H",
          "G",
          "F",
          "E",
          "D",
          "C",
          "B",
          "A"
         ],
         "yaxis": "y29",
         "z": [
          [
           0.49999549984931946,
           0.03293916583061218,
           0.9997843503952026,
           0.9987188577651978,
           0.9986725449562073,
           0.9992291927337646,
           0.9999673962593079,
           0.5000301003456116
          ],
          [
           0.5001027584075928,
           0.5000427961349487,
           0.997725784778595,
           0.8819073438644409,
           0.964617133140564,
           0.9708249568939209,
           0.5002115368843079,
           0.9901812076568604
          ],
          [
           0.00006183981895446777,
           0.9998055696487427,
           0.008711159229278564,
           0.9982390403747559,
           0.9893430471420288,
           0.9780737161636353,
           0.9972094297409058,
           0.9928985238075256
          ],
          [
           0.9983997344970703,
           0.0008259713649749756,
           0.04379302263259888,
           0.013590097427368164,
           0.1151776909828186,
           0.9943310618400574,
           0.50002521276474,
           0.9996777772903442
          ],
          [
           0.9998651146888733,
           0.006774157285690308,
           0.0010148584842681885,
           0.009656459093093872,
           0.9882141351699829,
           0.00783202052116394,
           0.015975594520568848,
           0.9955992698669434
          ],
          [
           0.997497022151947,
           0.0026665329933166504,
           0.11977413296699524,
           0.017797410488128662,
           0.0032614469528198242,
           0.018663138151168823,
           0.02103370428085327,
           0.9996074438095093
          ],
          [
           0.49996715784072876,
           0.00011229515075683594,
           0.0008985400199890137,
           0.005055099725723267,
           0.0013970136642456055,
           0.0025703012943267822,
           0.49999338388442993,
           0.9973026514053345
          ],
          [
           0.49998754262924194,
           0.001218348741531372,
           0.4988044798374176,
           0.49975675344467163,
           0.00007033348083496094,
           0.49988266825675964,
           0.4998341500759125,
           0.4999086558818817
          ]
         ],
         "zmax": 1,
         "zmin": 0
        },
        {
         "colorscale": [
          [
           0,
           "rgb(103,0,31)"
          ],
          [
           0.1,
           "rgb(178,24,43)"
          ],
          [
           0.2,
           "rgb(214,96,77)"
          ],
          [
           0.3,
           "rgb(244,165,130)"
          ],
          [
           0.4,
           "rgb(253,219,199)"
          ],
          [
           0.5,
           "rgb(247,247,247)"
          ],
          [
           0.6,
           "rgb(209,229,240)"
          ],
          [
           0.7,
           "rgb(146,197,222)"
          ],
          [
           0.8,
           "rgb(67,147,195)"
          ],
          [
           0.9,
           "rgb(33,102,172)"
          ],
          [
           1,
           "rgb(5,48,97)"
          ]
         ],
         "hoverongaps": false,
         "text": [
          [
           " ",
           " ",
           " ",
           " ",
           " ",
           " ",
           " ",
           " "
          ],
          [
           " ",
           " ",
           " ",
           " ",
           " ",
           " ",
           " ",
           " "
          ],
          [
           " ",
           " ",
           " ",
           " ",
           " ",
           " ",
           " ",
           " "
          ],
          [
           " ",
           " ",
           "█",
           " ",
           " ",
           " ",
           " ",
           " "
          ],
          [
           " ",
           "█",
           " ",
           " ",
           " ",
           " ",
           " ",
           " "
          ],
          [
           " ",
           "█",
           " ",
           " ",
           " ",
           " ",
           " ",
           " "
          ],
          [
           " ",
           " ",
           " ",
           " ",
           " ",
           " ",
           " ",
           " "
          ],
          [
           " ",
           " ",
           " ",
           " ",
           " ",
           " ",
           " ",
           " "
          ]
         ],
         "texttemplate": "%{text}",
         "type": "heatmap",
         "x": [
          0,
          1,
          2,
          3,
          4,
          5,
          6,
          7
         ],
         "xaxis": "x30",
         "y": [
          "H",
          "G",
          "F",
          "E",
          "D",
          "C",
          "B",
          "A"
         ],
         "yaxis": "y30",
         "z": [
          [
           0.5,
           0.00916057825088501,
           0.9967048764228821,
           0.9993267059326172,
           0.9965303540229797,
           0.9997117519378662,
           0.9999434947967529,
           0.500018835067749
          ],
          [
           0.49999991059303284,
           0.5,
           0.9989851713180542,
           0.993995189666748,
           0.9576643109321594,
           0.9984449148178101,
           0.5000531673431396,
           0.9909113645553589
          ],
          [
           0.0000060498714447021484,
           0.9996872544288635,
           0.000679314136505127,
           0.9874123334884644,
           0.9985076785087585,
           0.9985098838806152,
           0.9951236248016357,
           0.9719249606132507
          ],
          [
           0.9999492168426514,
           0.0047442615032196045,
           0.00498846173286438,
           0.0008363127708435059,
           0.050907254219055176,
           0.9972410202026367,
           0.500052273273468,
           0.9999946355819702
          ],
          [
           0.9998903274536133,
           0.016749262809753418,
           0.0006285607814788818,
           0.012390285730361938,
           0.9869071245193481,
           0.00757145881652832,
           0.03178635239601135,
           0.998519778251648
          ],
          [
           0.9999556541442871,
           0.007801681756973267,
           0.0022172927856445312,
           0.018672794103622437,
           0.002990543842315674,
           0.012912988662719727,
           0.020812034606933594,
           0.9840350151062012
          ],
          [
           0.5,
           0.00010332465171813965,
           0.0008134245872497559,
           0.0025993287563323975,
           0.004930436611175537,
           0.0000832974910736084,
           0.4999999403953552,
           0.9504305124282837
          ],
          [
           0.5,
           0.000021338462829589844,
           0.4999609887599945,
           0.4999932646751404,
           0.000010967254638671875,
           0.5,
           0.5,
           0.49985772371292114
          ]
         ],
         "zmax": 1,
         "zmin": 0
        },
        {
         "colorscale": [
          [
           0,
           "rgb(103,0,31)"
          ],
          [
           0.1,
           "rgb(178,24,43)"
          ],
          [
           0.2,
           "rgb(214,96,77)"
          ],
          [
           0.3,
           "rgb(244,165,130)"
          ],
          [
           0.4,
           "rgb(253,219,199)"
          ],
          [
           0.5,
           "rgb(247,247,247)"
          ],
          [
           0.6,
           "rgb(209,229,240)"
          ],
          [
           0.7,
           "rgb(146,197,222)"
          ],
          [
           0.8,
           "rgb(67,147,195)"
          ],
          [
           0.9,
           "rgb(33,102,172)"
          ],
          [
           1,
           "rgb(5,48,97)"
          ]
         ],
         "hoverongaps": false,
         "text": [
          [
           " ",
           " ",
           " ",
           " ",
           " ",
           " ",
           " ",
           " "
          ],
          [
           " ",
           " ",
           " ",
           " ",
           " ",
           " ",
           " ",
           " "
          ],
          [
           " ",
           " ",
           " ",
           " ",
           " ",
           " ",
           " ",
           " "
          ],
          [
           " ",
           " ",
           "█",
           " ",
           " ",
           " ",
           " ",
           " "
          ],
          [
           " ",
           "█",
           " ",
           " ",
           " ",
           " ",
           " ",
           " "
          ],
          [
           " ",
           "█",
           " ",
           " ",
           " ",
           " ",
           " ",
           " "
          ],
          [
           " ",
           " ",
           " ",
           " ",
           " ",
           " ",
           " ",
           " "
          ],
          [
           " ",
           " ",
           " ",
           " ",
           " ",
           " ",
           " ",
           " "
          ]
         ],
         "texttemplate": "%{text}",
         "type": "heatmap",
         "x": [
          0,
          1,
          2,
          3,
          4,
          5,
          6,
          7
         ],
         "xaxis": "x31",
         "y": [
          "H",
          "G",
          "F",
          "E",
          "D",
          "C",
          "B",
          "A"
         ],
         "yaxis": "y31",
         "z": [
          [
           0.5,
           0.010196536779403687,
           0.9993796348571777,
           0.9997947216033936,
           0.9999092817306519,
           0.9998419284820557,
           0.9999250173568726,
           0.4999997913837433
          ],
          [
           0.49997180700302124,
           0.5,
           0.9990864992141724,
           0.9841098785400391,
           0.9993659257888794,
           0.999316930770874,
           0.5000007748603821,
           0.9890776872634888
          ],
          [
           0.00009223818778991699,
           0.9850051403045654,
           0.001278907060623169,
           0.9933907985687256,
           0.9984879493713379,
           0.9997171759605408,
           0.9994664788246155,
           0.9957625269889832
          ],
          [
           0.9999148845672607,
           0.0014732778072357178,
           0.05124363303184509,
           0.008577018976211548,
           0.012408971786499023,
           0.999626874923706,
           0.5,
           0.9999992847442627
          ],
          [
           0.999935507774353,
           0.004601508378982544,
           0.0008866190910339355,
           0.0004705190658569336,
           0.9924838542938232,
           0.003817349672317505,
           0.0030745863914489746,
           0.9997637867927551
          ],
          [
           0.9999868869781494,
           0.002974957227706909,
           0.011244148015975952,
           0.0006260275840759277,
           0.0008393526077270508,
           0.012037605047225952,
           0.00015819072723388672,
           0.9856654405593872
          ],
          [
           0.5,
           0.000006794929504394531,
           0.0027742981910705566,
           0.00024646520614624023,
           0.00011739134788513184,
           0.000004887580871582031,
           0.5,
           0.9761396646499634
          ],
          [
           0.5,
           0.00003758072853088379,
           0.5,
           0.4999999701976776,
           0.00023621320724487305,
           0.5,
           0.5,
           0.4999982416629791
          ]
         ],
         "zmax": 1,
         "zmin": 0
        },
        {
         "colorscale": [
          [
           0,
           "rgb(103,0,31)"
          ],
          [
           0.1,
           "rgb(178,24,43)"
          ],
          [
           0.2,
           "rgb(214,96,77)"
          ],
          [
           0.3,
           "rgb(244,165,130)"
          ],
          [
           0.4,
           "rgb(253,219,199)"
          ],
          [
           0.5,
           "rgb(247,247,247)"
          ],
          [
           0.6,
           "rgb(209,229,240)"
          ],
          [
           0.7,
           "rgb(146,197,222)"
          ],
          [
           0.8,
           "rgb(67,147,195)"
          ],
          [
           0.9,
           "rgb(33,102,172)"
          ],
          [
           1,
           "rgb(5,48,97)"
          ]
         ],
         "hoverongaps": false,
         "text": [
          [
           " ",
           " ",
           " ",
           " ",
           " ",
           " ",
           " ",
           " "
          ],
          [
           " ",
           " ",
           " ",
           " ",
           " ",
           " ",
           " ",
           " "
          ],
          [
           " ",
           " ",
           " ",
           " ",
           " ",
           " ",
           " ",
           " "
          ],
          [
           " ",
           " ",
           "█",
           " ",
           " ",
           " ",
           " ",
           " "
          ],
          [
           " ",
           "█",
           " ",
           " ",
           " ",
           " ",
           " ",
           " "
          ],
          [
           " ",
           "█",
           " ",
           " ",
           " ",
           " ",
           " ",
           " "
          ],
          [
           " ",
           " ",
           " ",
           " ",
           " ",
           " ",
           " ",
           " "
          ],
          [
           " ",
           " ",
           " ",
           " ",
           " ",
           " ",
           " ",
           " "
          ]
         ],
         "texttemplate": "%{text}",
         "type": "heatmap",
         "x": [
          0,
          1,
          2,
          3,
          4,
          5,
          6,
          7
         ],
         "xaxis": "x32",
         "y": [
          "H",
          "G",
          "F",
          "E",
          "D",
          "C",
          "B",
          "A"
         ],
         "yaxis": "y32",
         "z": [
          [
           0.5,
           0.1926487386226654,
           0.9957583546638489,
           0.9999699592590332,
           0.9999631643295288,
           0.999514639377594,
           0.9997855424880981,
           0.4999995529651642
          ],
          [
           0.5000410079956055,
           0.5,
           0.9586217403411865,
           0.9982043504714966,
           0.9992576837539673,
           0.9999430179595947,
           0.5000083446502686,
           0.9956356883049011
          ],
          [
           0.000018030405044555664,
           0.9958046078681946,
           0.00465807318687439,
           0.9984995722770691,
           0.9989480376243591,
           0.9974437952041626,
           0.9997125864028931,
           0.9992460012435913
          ],
          [
           0.9990541338920593,
           0.00017210841178894043,
           0.02656373381614685,
           0.0050848424434661865,
           0.005293786525726318,
           0.9996294379234314,
           0.49999991059303284,
           0.9999443292617798
          ],
          [
           0.9999884366989136,
           0.0039237141609191895,
           0.0003878772258758545,
           0.0008814632892608643,
           0.9647058248519897,
           0.0013391673564910889,
           0.0010738372802734375,
           0.9952678084373474
          ],
          [
           0.999996542930603,
           0.007231026887893677,
           0.0004165470600128174,
           0.00008484721183776855,
           0.0011695027351379395,
           0.003624469041824341,
           0.0004073679447174072,
           0.9943137168884277
          ],
          [
           0.5,
           0.000007718801498413086,
           0.000391542911529541,
           0.0001264512538909912,
           0.000010222196578979492,
           0.0000032186508178710938,
           0.5,
           0.9054946303367615
          ],
          [
           0.5,
           0.000008344650268554688,
           0.499994158744812,
           0.49999523162841797,
           0.000011056661605834961,
           0.5,
           0.5,
           0.5000511407852173
          ]
         ],
         "zmax": 1,
         "zmin": 0
        },
        {
         "colorscale": [
          [
           0,
           "rgb(103,0,31)"
          ],
          [
           0.1,
           "rgb(178,24,43)"
          ],
          [
           0.2,
           "rgb(214,96,77)"
          ],
          [
           0.3,
           "rgb(244,165,130)"
          ],
          [
           0.4,
           "rgb(253,219,199)"
          ],
          [
           0.5,
           "rgb(247,247,247)"
          ],
          [
           0.6,
           "rgb(209,229,240)"
          ],
          [
           0.7,
           "rgb(146,197,222)"
          ],
          [
           0.8,
           "rgb(67,147,195)"
          ],
          [
           0.9,
           "rgb(33,102,172)"
          ],
          [
           1,
           "rgb(5,48,97)"
          ]
         ],
         "hoverongaps": false,
         "text": [
          [
           " ",
           " ",
           " ",
           " ",
           " ",
           " ",
           " ",
           " "
          ],
          [
           " ",
           " ",
           " ",
           " ",
           " ",
           " ",
           " ",
           " "
          ],
          [
           " ",
           " ",
           " ",
           " ",
           " ",
           " ",
           " ",
           " "
          ],
          [
           " ",
           " ",
           " ",
           "░",
           " ",
           " ",
           " ",
           " "
          ],
          [
           " ",
           " ",
           "█",
           " ",
           " ",
           " ",
           " ",
           " "
          ],
          [
           " ",
           "█",
           " ",
           " ",
           " ",
           " ",
           " ",
           " "
          ],
          [
           " ",
           "█",
           "█",
           "░",
           " ",
           " ",
           " ",
           " "
          ],
          [
           " ",
           " ",
           " ",
           " ",
           " ",
           " ",
           " ",
           " "
          ]
         ],
         "texttemplate": "%{text}",
         "type": "heatmap",
         "x": [
          0,
          1,
          2,
          3,
          4,
          5,
          6,
          7
         ],
         "xaxis": "x33",
         "y": [
          "H",
          "G",
          "F",
          "E",
          "D",
          "C",
          "B",
          "A"
         ],
         "yaxis": "y33",
         "z": [
          [
           0.4999997913837433,
           0.05393403768539429,
           0.6547876596450806,
           0.26947563886642456,
           0.5340541005134583,
           0.6189254522323608,
           0.9877556562423706,
           0.4999981224536896
          ],
          [
           0.49999991059303284,
           0.4999648928642273,
           0.3453506827354431,
           0.30498096346855164,
           0.17946559190750122,
           0.899612545967102,
           0.5000013709068298,
           0.7951956987380981
          ],
          [
           0.014047622680664062,
           0.27385133504867554,
           0.28219151496887207,
           0.4104328751564026,
           0.8152300715446472,
           0.4671410918235779,
           0.7100301384925842,
           0.8067253828048706
          ],
          [
           0.9824326038360596,
           0.042455583810806274,
           0.2768535912036896,
           0.6733754873275757,
           0.5721004009246826,
           0.5630351901054382,
           0.4999767541885376,
           0.2794029116630554
          ],
          [
           0.9830485582351685,
           0.5737684369087219,
           0.5452911257743835,
           0.27058953046798706,
           0.4894775152206421,
           0.8152843713760376,
           0.32295554876327515,
           0.2907172739505768
          ],
          [
           0.9991257786750793,
           0.9934779405593872,
           0.6503891348838806,
           0.20768767595291138,
           0.9248120784759521,
           0.5518481135368347,
           0.46315479278564453,
           0.48239588737487793
          ],
          [
           0.9996531009674072,
           0.525438666343689,
           0.7614119052886963,
           0.8324246406555176,
           0.601292073726654,
           0.9218490123748779,
           0.5,
           0.9474490880966187
          ],
          [
           0.5,
           0.0007128417491912842,
           0.49999675154685974,
           0.49998366832733154,
           0.07346305251121521,
           0.4999985694885254,
           0.5000006556510925,
           0.49999892711639404
          ]
         ],
         "zmax": 1,
         "zmin": 0
        },
        {
         "colorscale": [
          [
           0,
           "rgb(103,0,31)"
          ],
          [
           0.1,
           "rgb(178,24,43)"
          ],
          [
           0.2,
           "rgb(214,96,77)"
          ],
          [
           0.3,
           "rgb(244,165,130)"
          ],
          [
           0.4,
           "rgb(253,219,199)"
          ],
          [
           0.5,
           "rgb(247,247,247)"
          ],
          [
           0.6,
           "rgb(209,229,240)"
          ],
          [
           0.7,
           "rgb(146,197,222)"
          ],
          [
           0.8,
           "rgb(67,147,195)"
          ],
          [
           0.9,
           "rgb(33,102,172)"
          ],
          [
           1,
           "rgb(5,48,97)"
          ]
         ],
         "hoverongaps": false,
         "text": [
          [
           " ",
           " ",
           " ",
           " ",
           " ",
           " ",
           " ",
           " "
          ],
          [
           " ",
           " ",
           " ",
           " ",
           " ",
           " ",
           " ",
           " "
          ],
          [
           " ",
           " ",
           " ",
           " ",
           " ",
           " ",
           " ",
           " "
          ],
          [
           " ",
           " ",
           " ",
           "░",
           " ",
           " ",
           " ",
           " "
          ],
          [
           " ",
           " ",
           "▒",
           " ",
           " ",
           " ",
           " ",
           " "
          ],
          [
           " ",
           "▓",
           " ",
           " ",
           " ",
           " ",
           " ",
           " "
          ],
          [
           " ",
           "█",
           "▓",
           "░",
           " ",
           " ",
           " ",
           " "
          ],
          [
           " ",
           " ",
           " ",
           " ",
           " ",
           " ",
           " ",
           " "
          ]
         ],
         "texttemplate": "%{text}",
         "type": "heatmap",
         "x": [
          0,
          1,
          2,
          3,
          4,
          5,
          6,
          7
         ],
         "xaxis": "x34",
         "y": [
          "H",
          "G",
          "F",
          "E",
          "D",
          "C",
          "B",
          "A"
         ],
         "yaxis": "y34",
         "z": [
          [
           0.500024676322937,
           0.02594161033630371,
           0.40145525336265564,
           0.0922161340713501,
           0.36066800355911255,
           0.5160727500915527,
           0.9982492327690125,
           0.5000008344650269
          ],
          [
           0.5000001788139343,
           0.49999377131462097,
           0.7465838193893433,
           0.6661240458488464,
           0.3835391402244568,
           0.9479875564575195,
           0.5000013709068298,
           0.9938987493515015
          ],
          [
           0.14362642168998718,
           0.8778323531150818,
           0.2022227942943573,
           0.5060116648674011,
           0.9647952318191528,
           0.8009312152862549,
           0.6778813004493713,
           0.9967364072799683
          ],
          [
           0.9997420907020569,
           0.03656771779060364,
           0.1260189712047577,
           0.8290950059890747,
           0.46797946095466614,
           0.3489806056022644,
           0.5000041723251343,
           0.7088291049003601
          ],
          [
           0.999991774559021,
           0.10229542851448059,
           0.5966188907623291,
           0.4165409505367279,
           0.48524555563926697,
           0.7881169319152832,
           0.1303396224975586,
           0.9568413496017456
          ],
          [
           0.9999074935913086,
           0.9939860105514526,
           0.828315258026123,
           0.1920248568058014,
           0.8743795156478882,
           0.30823373794555664,
           0.25226303935050964,
           0.9635458588600159
          ],
          [
           0.999962568283081,
           0.8650605082511902,
           0.9893725514411926,
           0.9684618711471558,
           0.21091711521148682,
           0.7702862024307251,
           0.49999988079071045,
           0.9991449117660522
          ],
          [
           0.5000001192092896,
           0.0013976693153381348,
           0.4999980926513672,
           0.49993911385536194,
           0.0031201541423797607,
           0.49996712803840637,
           0.49994176626205444,
           0.4999803304672241
          ]
         ],
         "zmax": 1,
         "zmin": 0
        },
        {
         "colorscale": [
          [
           0,
           "rgb(103,0,31)"
          ],
          [
           0.1,
           "rgb(178,24,43)"
          ],
          [
           0.2,
           "rgb(214,96,77)"
          ],
          [
           0.3,
           "rgb(244,165,130)"
          ],
          [
           0.4,
           "rgb(253,219,199)"
          ],
          [
           0.5,
           "rgb(247,247,247)"
          ],
          [
           0.6,
           "rgb(209,229,240)"
          ],
          [
           0.7,
           "rgb(146,197,222)"
          ],
          [
           0.8,
           "rgb(67,147,195)"
          ],
          [
           0.9,
           "rgb(33,102,172)"
          ],
          [
           1,
           "rgb(5,48,97)"
          ]
         ],
         "hoverongaps": false,
         "text": [
          [
           " ",
           " ",
           " ",
           " ",
           " ",
           " ",
           " ",
           " "
          ],
          [
           " ",
           " ",
           " ",
           " ",
           " ",
           " ",
           " ",
           " "
          ],
          [
           " ",
           " ",
           " ",
           " ",
           " ",
           " ",
           " ",
           " "
          ],
          [
           " ",
           " ",
           " ",
           "░",
           " ",
           " ",
           " ",
           " "
          ],
          [
           " ",
           " ",
           "░",
           " ",
           " ",
           " ",
           " ",
           " "
          ],
          [
           " ",
           " ",
           " ",
           " ",
           " ",
           " ",
           " ",
           " "
          ],
          [
           " ",
           "█",
           "█",
           " ",
           " ",
           " ",
           " ",
           " "
          ],
          [
           " ",
           " ",
           " ",
           " ",
           " ",
           " ",
           " ",
           " "
          ]
         ],
         "texttemplate": "%{text}",
         "type": "heatmap",
         "x": [
          0,
          1,
          2,
          3,
          4,
          5,
          6,
          7
         ],
         "xaxis": "x35",
         "y": [
          "H",
          "G",
          "F",
          "E",
          "D",
          "C",
          "B",
          "A"
         ],
         "yaxis": "y35",
         "z": [
          [
           0.5000061392784119,
           0.005275547504425049,
           0.9037462472915649,
           0.9209396839141846,
           0.9401324987411499,
           0.9383960962295532,
           0.9993704557418823,
           0.49997347593307495
          ],
          [
           0.4999733865261078,
           0.49999672174453735,
           0.9228414297103882,
           0.3511989116668701,
           0.39908385276794434,
           0.9847576022148132,
           0.49993714690208435,
           0.9983341693878174
          ],
          [
           0.0006526410579681396,
           0.9343665838241577,
           0.007722795009613037,
           0.017604291439056396,
           0.9805887341499329,
           0.8849361538887024,
           0.964542806148529,
           0.9987783432006836
          ],
          [
           0.9944252967834473,
           0.0055509209632873535,
           0.036878108978271484,
           0.665036678314209,
           0.2864992320537567,
           0.3437103033065796,
           0.5000014901161194,
           0.9962515234947205
          ],
          [
           0.9966398477554321,
           0.05342945456504822,
           0.1759679615497589,
           0.09994247555732727,
           0.4681892395019531,
           0.5012586116790771,
           0.06104364991188049,
           0.9964959621429443
          ],
          [
           0.9966529607772827,
           0.9993422031402588,
           0.990736722946167,
           0.3120930790901184,
           0.8778338432312012,
           0.37259146571159363,
           0.19665801525115967,
           0.9994836449623108
          ],
          [
           0.9859384894371033,
           0.5902401208877563,
           0.9258264303207397,
           0.9560700058937073,
           0.07106199860572815,
           0.16465529799461365,
           0.4999963641166687,
           0.9991810321807861
          ],
          [
           0.5000005960464478,
           0.002001166343688965,
           0.5000078082084656,
           0.5000031590461731,
           0.0015296339988708496,
           0.4999341368675232,
           0.49990952014923096,
           0.49999526143074036
          ]
         ],
         "zmax": 1,
         "zmin": 0
        },
        {
         "colorscale": [
          [
           0,
           "rgb(103,0,31)"
          ],
          [
           0.1,
           "rgb(178,24,43)"
          ],
          [
           0.2,
           "rgb(214,96,77)"
          ],
          [
           0.3,
           "rgb(244,165,130)"
          ],
          [
           0.4,
           "rgb(253,219,199)"
          ],
          [
           0.5,
           "rgb(247,247,247)"
          ],
          [
           0.6,
           "rgb(209,229,240)"
          ],
          [
           0.7,
           "rgb(146,197,222)"
          ],
          [
           0.8,
           "rgb(67,147,195)"
          ],
          [
           0.9,
           "rgb(33,102,172)"
          ],
          [
           1,
           "rgb(5,48,97)"
          ]
         ],
         "hoverongaps": false,
         "text": [
          [
           " ",
           " ",
           " ",
           " ",
           " ",
           " ",
           " ",
           " "
          ],
          [
           " ",
           " ",
           " ",
           " ",
           " ",
           " ",
           " ",
           " "
          ],
          [
           " ",
           " ",
           " ",
           " ",
           " ",
           " ",
           " ",
           " "
          ],
          [
           " ",
           " ",
           " ",
           "▓",
           " ",
           " ",
           " ",
           " "
          ],
          [
           " ",
           " ",
           "█",
           " ",
           " ",
           " ",
           " ",
           " "
          ],
          [
           " ",
           "█",
           " ",
           " ",
           " ",
           " ",
           " ",
           " "
          ],
          [
           " ",
           "▒",
           "░",
           " ",
           " ",
           " ",
           " ",
           " "
          ],
          [
           " ",
           " ",
           " ",
           " ",
           " ",
           " ",
           " ",
           " "
          ]
         ],
         "texttemplate": "%{text}",
         "type": "heatmap",
         "x": [
          0,
          1,
          2,
          3,
          4,
          5,
          6,
          7
         ],
         "xaxis": "x36",
         "y": [
          "H",
          "G",
          "F",
          "E",
          "D",
          "C",
          "B",
          "A"
         ],
         "yaxis": "y36",
         "z": [
          [
           0.5001049637794495,
           0.005566388368606567,
           0.9971060752868652,
           0.9968616962432861,
           0.9987302422523499,
           0.9984904527664185,
           0.9998323917388916,
           0.5001018047332764
          ],
          [
           0.49990731477737427,
           0.500087320804596,
           0.9947587847709656,
           0.8744582533836365,
           0.7982288599014282,
           0.8045909404754639,
           0.5007185935974121,
           0.9992896318435669
          ],
          [
           0.0012688040733337402,
           0.9935802221298218,
           0.04627653956413269,
           0.79050612449646,
           0.9873168468475342,
           0.9165658354759216,
           0.9823510646820068,
           0.9978377819061279
          ],
          [
           0.9842572808265686,
           0.02454635500907898,
           0.02689090371131897,
           0.858643114566803,
           0.27227094769477844,
           0.4788373112678528,
           0.4995601177215576,
           0.9986411929130554
          ],
          [
           0.998803436756134,
           0.0020017027854919434,
           0.9125864505767822,
           0.02917557954788208,
           0.7945771217346191,
           0.032443493604660034,
           0.02259787917137146,
           0.9966506361961365
          ],
          [
           0.989851176738739,
           0.9974238872528076,
           0.7379474639892578,
           0.11274325847625732,
           0.07142141461372375,
           0.12793266773223877,
           0.06368929147720337,
           0.993640661239624
          ],
          [
           0.9983144998550415,
           0.02711084485054016,
           0.3516676425933838,
           0.3097432851791382,
           0.02458593249320984,
           0.010207384824752808,
           0.4999314546585083,
           0.9965529441833496
          ],
          [
           0.5009322166442871,
           0.019781142473220825,
           0.5000540018081665,
           0.49989649653434753,
           0.0009534955024719238,
           0.49917739629745483,
           0.4997483193874359,
           0.49851080775260925
          ]
         ],
         "zmax": 1,
         "zmin": 0
        },
        {
         "colorscale": [
          [
           0,
           "rgb(103,0,31)"
          ],
          [
           0.1,
           "rgb(178,24,43)"
          ],
          [
           0.2,
           "rgb(214,96,77)"
          ],
          [
           0.3,
           "rgb(244,165,130)"
          ],
          [
           0.4,
           "rgb(253,219,199)"
          ],
          [
           0.5,
           "rgb(247,247,247)"
          ],
          [
           0.6,
           "rgb(209,229,240)"
          ],
          [
           0.7,
           "rgb(146,197,222)"
          ],
          [
           0.8,
           "rgb(67,147,195)"
          ],
          [
           0.9,
           "rgb(33,102,172)"
          ],
          [
           1,
           "rgb(5,48,97)"
          ]
         ],
         "hoverongaps": false,
         "text": [
          [
           " ",
           " ",
           " ",
           " ",
           " ",
           " ",
           " ",
           " "
          ],
          [
           " ",
           " ",
           " ",
           " ",
           " ",
           " ",
           " ",
           " "
          ],
          [
           " ",
           " ",
           " ",
           " ",
           " ",
           " ",
           " ",
           " "
          ],
          [
           " ",
           " ",
           " ",
           "█",
           " ",
           " ",
           " ",
           " "
          ],
          [
           " ",
           " ",
           "█",
           " ",
           " ",
           " ",
           " ",
           " "
          ],
          [
           "░",
           "█",
           " ",
           " ",
           " ",
           " ",
           " ",
           " "
          ],
          [
           " ",
           " ",
           " ",
           " ",
           " ",
           " ",
           " ",
           " "
          ],
          [
           " ",
           " ",
           " ",
           " ",
           " ",
           " ",
           " ",
           " "
          ]
         ],
         "texttemplate": "%{text}",
         "type": "heatmap",
         "x": [
          0,
          1,
          2,
          3,
          4,
          5,
          6,
          7
         ],
         "xaxis": "x37",
         "y": [
          "H",
          "G",
          "F",
          "E",
          "D",
          "C",
          "B",
          "A"
         ],
         "yaxis": "y37",
         "z": [
          [
           0.5000044703483582,
           0.002716153860092163,
           0.9929026961326599,
           0.9924889802932739,
           0.999322772026062,
           0.9924353361129761,
           0.9999951720237732,
           0.5002209544181824
          ],
          [
           0.4998057782649994,
           0.4999953508377075,
           0.9978740811347961,
           0.9793652296066284,
           0.9396176338195801,
           0.9445584416389465,
           0.5004138350486755,
           0.9969313144683838
          ],
          [
           0.00032779574394226074,
           0.9980098009109497,
           0.052040278911590576,
           0.9841271638870239,
           0.999828040599823,
           0.9674007892608643,
           0.9921406507492065,
           0.992988109588623
          ],
          [
           0.9773924350738525,
           0.0007915496826171875,
           0.04191210865974426,
           0.996036171913147,
           0.12829500436782837,
           0.9729408025741577,
           0.4999745190143585,
           0.9986439943313599
          ],
          [
           0.9998666048049927,
           0.0003903806209564209,
           0.9959452152252197,
           0.038103461265563965,
           0.9372281432151794,
           0.13008230924606323,
           0.009892910718917847,
           0.9379560947418213
          ],
          [
           0.99127197265625,
           0.9972079992294312,
           0.09414628148078918,
           0.014348804950714111,
           0.002253413200378418,
           0.007227212190628052,
           0.09882450103759766,
           0.9945355653762817
          ],
          [
           0.9999412298202515,
           0.00039145350456237793,
           0.002474755048751831,
           0.0036454498767852783,
           0.002471417188644409,
           0.0011695921421051025,
           0.49966663122177124,
           0.9993647336959839
          ],
          [
           0.5006242990493774,
           0.020989656448364258,
           0.5004047751426697,
           0.4997106194496155,
           0.012943536043167114,
           0.49982526898384094,
           0.500364363193512,
           0.4986974895000458
          ]
         ],
         "zmax": 1,
         "zmin": 0
        },
        {
         "colorscale": [
          [
           0,
           "rgb(103,0,31)"
          ],
          [
           0.1,
           "rgb(178,24,43)"
          ],
          [
           0.2,
           "rgb(214,96,77)"
          ],
          [
           0.3,
           "rgb(244,165,130)"
          ],
          [
           0.4,
           "rgb(253,219,199)"
          ],
          [
           0.5,
           "rgb(247,247,247)"
          ],
          [
           0.6,
           "rgb(209,229,240)"
          ],
          [
           0.7,
           "rgb(146,197,222)"
          ],
          [
           0.8,
           "rgb(67,147,195)"
          ],
          [
           0.9,
           "rgb(33,102,172)"
          ],
          [
           1,
           "rgb(5,48,97)"
          ]
         ],
         "hoverongaps": false,
         "text": [
          [
           " ",
           " ",
           " ",
           " ",
           " ",
           " ",
           " ",
           " "
          ],
          [
           " ",
           " ",
           " ",
           " ",
           " ",
           " ",
           " ",
           " "
          ],
          [
           " ",
           " ",
           " ",
           " ",
           " ",
           " ",
           " ",
           " "
          ],
          [
           " ",
           " ",
           " ",
           "█",
           " ",
           " ",
           " ",
           " "
          ],
          [
           " ",
           " ",
           "█",
           " ",
           " ",
           " ",
           " ",
           " "
          ],
          [
           " ",
           "█",
           " ",
           " ",
           " ",
           " ",
           " ",
           " "
          ],
          [
           " ",
           " ",
           " ",
           " ",
           " ",
           " ",
           " ",
           " "
          ],
          [
           " ",
           " ",
           " ",
           " ",
           " ",
           " ",
           " ",
           " "
          ]
         ],
         "texttemplate": "%{text}",
         "type": "heatmap",
         "x": [
          0,
          1,
          2,
          3,
          4,
          5,
          6,
          7
         ],
         "xaxis": "x38",
         "y": [
          "H",
          "G",
          "F",
          "E",
          "D",
          "C",
          "B",
          "A"
         ],
         "yaxis": "y38",
         "z": [
          [
           0.4999982416629791,
           0.008714616298675537,
           0.9853142499923706,
           0.9990072250366211,
           0.9997161626815796,
           0.99820876121521,
           0.9999856948852539,
           0.5000005960464478
          ],
          [
           0.5,
           0.5,
           0.9956346154212952,
           0.9775379300117493,
           0.9867203235626221,
           0.9694243669509888,
           0.5,
           0.9999249577522278
          ],
          [
           0.0005438029766082764,
           0.9998288154602051,
           0.022170573472976685,
           0.996476411819458,
           0.9996337890625,
           0.9906764626502991,
           0.9928791522979736,
           0.9922637343406677
          ],
          [
           0.9970719218254089,
           0.008485227823257446,
           0.017247319221496582,
           0.998542308807373,
           0.03486683964729309,
           0.9895616769790649,
           0.4999997615814209,
           0.9996144771575928
          ],
          [
           0.9999967813491821,
           0.010506302118301392,
           0.9996799230575562,
           0.006118148565292358,
           0.9895281195640564,
           0.003366410732269287,
           0.0030927658081054688,
           0.9957191944122314
          ],
          [
           0.9995083808898926,
           0.9999141693115234,
           0.05165374279022217,
           0.0329950749874115,
           0.005833446979522705,
           0.0030135512351989746,
           0.028791099786758423,
           0.9989539384841919
          ],
          [
           0.9999978542327881,
           0.000031948089599609375,
           0.004271388053894043,
           0.00045558810234069824,
           0.00020757317543029785,
           0.0000870823860168457,
           0.49999162554740906,
           0.9979745745658875
          ],
          [
           0.5001840591430664,
           0.001921921968460083,
           0.5000013113021851,
           0.4999949038028717,
           0.0004124641418457031,
           0.500003457069397,
           0.4998852610588074,
           0.5033063292503357
          ]
         ],
         "zmax": 1,
         "zmin": 0
        },
        {
         "colorscale": [
          [
           0,
           "rgb(103,0,31)"
          ],
          [
           0.1,
           "rgb(178,24,43)"
          ],
          [
           0.2,
           "rgb(214,96,77)"
          ],
          [
           0.3,
           "rgb(244,165,130)"
          ],
          [
           0.4,
           "rgb(253,219,199)"
          ],
          [
           0.5,
           "rgb(247,247,247)"
          ],
          [
           0.6,
           "rgb(209,229,240)"
          ],
          [
           0.7,
           "rgb(146,197,222)"
          ],
          [
           0.8,
           "rgb(67,147,195)"
          ],
          [
           0.9,
           "rgb(33,102,172)"
          ],
          [
           1,
           "rgb(5,48,97)"
          ]
         ],
         "hoverongaps": false,
         "text": [
          [
           " ",
           " ",
           " ",
           " ",
           " ",
           " ",
           " ",
           " "
          ],
          [
           " ",
           " ",
           " ",
           " ",
           " ",
           " ",
           " ",
           " "
          ],
          [
           " ",
           " ",
           " ",
           " ",
           " ",
           " ",
           " ",
           " "
          ],
          [
           " ",
           " ",
           " ",
           "█",
           " ",
           " ",
           " ",
           " "
          ],
          [
           " ",
           " ",
           "█",
           " ",
           " ",
           " ",
           " ",
           " "
          ],
          [
           " ",
           "█",
           " ",
           " ",
           " ",
           " ",
           " ",
           " "
          ],
          [
           " ",
           " ",
           " ",
           " ",
           " ",
           " ",
           " ",
           " "
          ],
          [
           " ",
           " ",
           " ",
           " ",
           " ",
           " ",
           " ",
           " "
          ]
         ],
         "texttemplate": "%{text}",
         "type": "heatmap",
         "x": [
          0,
          1,
          2,
          3,
          4,
          5,
          6,
          7
         ],
         "xaxis": "x39",
         "y": [
          "H",
          "G",
          "F",
          "E",
          "D",
          "C",
          "B",
          "A"
         ],
         "yaxis": "y39",
         "z": [
          [
           0.49988868832588196,
           0.0003438591957092285,
           0.9359205365180969,
           0.96532142162323,
           0.9983433485031128,
           0.9995613098144531,
           0.9999634027481079,
           0.5
          ],
          [
           0.5,
           0.5,
           0.9866527318954468,
           0.9945226907730103,
           0.9969215393066406,
           0.9111461043357849,
           0.5,
           0.999840497970581
          ],
          [
           0.0072258710861206055,
           0.9999569654464722,
           0.00569191575050354,
           0.9981034994125366,
           0.997201681137085,
           0.9915448427200317,
           0.9998327493667603,
           0.9999610185623169
          ],
          [
           0.969780683517456,
           0.0668153166770935,
           0.00963166356086731,
           0.9836494326591492,
           0.004125028848648071,
           0.9815598726272583,
           0.5,
           0.9996991157531738
          ],
          [
           0.9999936819076538,
           0.016421109437942505,
           0.9952415823936462,
           0.002495020627975464,
           0.9994729161262512,
           0.003048419952392578,
           0.0006553232669830322,
           0.9962097406387329
          ],
          [
           0.9975271224975586,
           0.9998054504394531,
           0.00410771369934082,
           0.0037208497524261475,
           0.00011733174324035645,
           0.000589519739151001,
           0.00023820996284484863,
           0.9993484020233154
          ],
          [
           0.9999947547912598,
           0.0000037848949432373047,
           0.0003031790256500244,
           0.00011864304542541504,
           0.0014096498489379883,
           0.00010412931442260742,
           0.5,
           0.9998180866241455
          ],
          [
           0.5,
           0.00040918588638305664,
           0.5,
           0.5,
           0.0004722774028778076,
           0.4999999403953552,
           0.4857286512851715,
           0.51308274269104
          ]
         ],
         "zmax": 1,
         "zmin": 0
        },
        {
         "colorscale": [
          [
           0,
           "rgb(103,0,31)"
          ],
          [
           0.1,
           "rgb(178,24,43)"
          ],
          [
           0.2,
           "rgb(214,96,77)"
          ],
          [
           0.3,
           "rgb(244,165,130)"
          ],
          [
           0.4,
           "rgb(253,219,199)"
          ],
          [
           0.5,
           "rgb(247,247,247)"
          ],
          [
           0.6,
           "rgb(209,229,240)"
          ],
          [
           0.7,
           "rgb(146,197,222)"
          ],
          [
           0.8,
           "rgb(67,147,195)"
          ],
          [
           0.9,
           "rgb(33,102,172)"
          ],
          [
           1,
           "rgb(5,48,97)"
          ]
         ],
         "hoverongaps": false,
         "text": [
          [
           " ",
           " ",
           " ",
           " ",
           " ",
           " ",
           " ",
           " "
          ],
          [
           " ",
           " ",
           " ",
           " ",
           " ",
           " ",
           " ",
           " "
          ],
          [
           " ",
           " ",
           " ",
           " ",
           " ",
           " ",
           " ",
           " "
          ],
          [
           " ",
           " ",
           " ",
           "█",
           " ",
           " ",
           " ",
           " "
          ],
          [
           " ",
           " ",
           "█",
           " ",
           " ",
           " ",
           " ",
           " "
          ],
          [
           " ",
           "█",
           " ",
           " ",
           " ",
           " ",
           " ",
           " "
          ],
          [
           " ",
           " ",
           " ",
           " ",
           " ",
           " ",
           " ",
           " "
          ],
          [
           " ",
           " ",
           " ",
           " ",
           " ",
           " ",
           " ",
           " "
          ]
         ],
         "texttemplate": "%{text}",
         "type": "heatmap",
         "x": [
          0,
          1,
          2,
          3,
          4,
          5,
          6,
          7
         ],
         "xaxis": "x40",
         "y": [
          "H",
          "G",
          "F",
          "E",
          "D",
          "C",
          "B",
          "A"
         ],
         "yaxis": "y40",
         "z": [
          [
           0.4999281167984009,
           0.004873037338256836,
           0.9939926862716675,
           0.9954277873039246,
           0.9994568824768066,
           0.9994813799858093,
           0.9999887943267822,
           0.5
          ],
          [
           0.5,
           0.5,
           0.9971206188201904,
           0.9983848333358765,
           0.9972380995750427,
           0.9982059597969055,
           0.5,
           0.9980124831199646
          ],
          [
           0.026559829711914062,
           0.9999819993972778,
           0.05285876989364624,
           0.9993922710418701,
           0.999504566192627,
           0.9949349164962769,
           0.9991978406906128,
           0.9998351335525513
          ],
          [
           0.9744194149971008,
           0.08209913969039917,
           0.002056300640106201,
           0.9933242797851562,
           0.007923245429992676,
           0.9955437183380127,
           0.5,
           0.9992799758911133
          ],
          [
           0.9999995231628418,
           0.028363943099975586,
           0.9991975426673889,
           0.007507383823394775,
           0.997194766998291,
           0.0023640692234039307,
           0.020741909742355347,
           0.9929754137992859
          ],
          [
           0.9985558986663818,
           0.9999414682388306,
           0.002901911735534668,
           0.04140132665634155,
           0.00019305944442749023,
           0.001852273941040039,
           0.0004962682723999023,
           0.9976674914360046
          ],
          [
           0.9999998807907104,
           0.0000017583370208740234,
           0.014587968587875366,
           0.0001259446144104004,
           0.0029229819774627686,
           0.00007587671279907227,
           0.4999999701976776,
           0.9994696378707886
          ],
          [
           0.5,
           0.007432460784912109,
           0.5000002384185791,
           0.5000142455101013,
           0.000371783971786499,
           0.4999043345451355,
           0.4611760973930359,
           0.5029493570327759
          ]
         ],
         "zmax": 1,
         "zmin": 0
        },
        {
         "colorscale": [
          [
           0,
           "rgb(103,0,31)"
          ],
          [
           0.1,
           "rgb(178,24,43)"
          ],
          [
           0.2,
           "rgb(214,96,77)"
          ],
          [
           0.3,
           "rgb(244,165,130)"
          ],
          [
           0.4,
           "rgb(253,219,199)"
          ],
          [
           0.5,
           "rgb(247,247,247)"
          ],
          [
           0.6,
           "rgb(209,229,240)"
          ],
          [
           0.7,
           "rgb(146,197,222)"
          ],
          [
           0.8,
           "rgb(67,147,195)"
          ],
          [
           0.9,
           "rgb(33,102,172)"
          ],
          [
           1,
           "rgb(5,48,97)"
          ]
         ],
         "hoverongaps": false,
         "text": [
          [
           " ",
           " ",
           " ",
           " ",
           " ",
           " ",
           " ",
           " "
          ],
          [
           " ",
           " ",
           " ",
           " ",
           " ",
           " ",
           " ",
           " "
          ],
          [
           " ",
           " ",
           " ",
           " ",
           " ",
           "▒",
           " ",
           " "
          ],
          [
           " ",
           " ",
           " ",
           "░",
           "▒",
           "▓",
           " ",
           " "
          ],
          [
           " ",
           " ",
           " ",
           " ",
           " ",
           "▓",
           " ",
           " "
          ],
          [
           " ",
           " ",
           " ",
           " ",
           "▒",
           " ",
           " ",
           " "
          ],
          [
           " ",
           " ",
           " ",
           " ",
           " ",
           " ",
           " ",
           " "
          ],
          [
           " ",
           " ",
           " ",
           " ",
           " ",
           " ",
           " ",
           " "
          ]
         ],
         "texttemplate": "%{text}",
         "type": "heatmap",
         "x": [
          0,
          1,
          2,
          3,
          4,
          5,
          6,
          7
         ],
         "xaxis": "x41",
         "y": [
          "H",
          "G",
          "F",
          "E",
          "D",
          "C",
          "B",
          "A"
         ],
         "yaxis": "y41",
         "z": [
          [
           0.5000052452087402,
           0.08467963337898254,
           0.6663386821746826,
           0.2646668255329132,
           0.8827790021896362,
           0.8687089681625366,
           0.9990066885948181,
           0.5000137686729431
          ],
          [
           0.4999889135360718,
           0.4999825358390808,
           0.5325822830200195,
           0.40984243154525757,
           0.1474856436252594,
           0.8953083753585815,
           0.5,
           0.9893255233764648
          ],
          [
           0.031317174434661865,
           0.12161391973495483,
           0.3551883101463318,
           0.20155245065689087,
           0.8236915469169617,
           0.01044723391532898,
           0.9718221426010132,
           0.9529128670692444
          ],
          [
           0.9637430906295776,
           0.19310259819030762,
           0.5700289011001587,
           0.4587540626525879,
           0.1515594720840454,
           0.03375157713890076,
           0.0025722086429595947,
           0.19969159364700317
          ],
          [
           0.9866601228713989,
           0.84494948387146,
           0.7414710521697998,
           0.269899845123291,
           0.6673983335494995,
           0.12472465634346008,
           0.08342057466506958,
           0.023227453231811523
          ],
          [
           0.9975762963294983,
           0.9858731031417847,
           0.4978318214416504,
           0.4206571578979492,
           0.4129529595375061,
           0.5463932752609253,
           0.21790486574172974,
           0.09421265125274658
          ],
          [
           0.9998664855957031,
           0.49555036425590515,
           0.7813420295715332,
           0.5900969505310059,
           0.4793808162212372,
           0.6825070977210999,
           0.5000001788139343,
           0.9061770439147949
          ],
          [
           0.5000020265579224,
           0.021760493516921997,
           0.5000003576278687,
           0.5000112652778625,
           0.03448551893234253,
           0.49996137619018555,
           0.5000009536743164,
           0.5000247955322266
          ]
         ],
         "zmax": 1,
         "zmin": 0
        },
        {
         "colorscale": [
          [
           0,
           "rgb(103,0,31)"
          ],
          [
           0.1,
           "rgb(178,24,43)"
          ],
          [
           0.2,
           "rgb(214,96,77)"
          ],
          [
           0.3,
           "rgb(244,165,130)"
          ],
          [
           0.4,
           "rgb(253,219,199)"
          ],
          [
           0.5,
           "rgb(247,247,247)"
          ],
          [
           0.6,
           "rgb(209,229,240)"
          ],
          [
           0.7,
           "rgb(146,197,222)"
          ],
          [
           0.8,
           "rgb(67,147,195)"
          ],
          [
           0.9,
           "rgb(33,102,172)"
          ],
          [
           1,
           "rgb(5,48,97)"
          ]
         ],
         "hoverongaps": false,
         "text": [
          [
           " ",
           " ",
           " ",
           " ",
           " ",
           " ",
           " ",
           " "
          ],
          [
           " ",
           " ",
           " ",
           " ",
           " ",
           " ",
           " ",
           " "
          ],
          [
           " ",
           " ",
           " ",
           " ",
           " ",
           "▓",
           " ",
           " "
          ],
          [
           " ",
           " ",
           " ",
           " ",
           "▓",
           "▓",
           " ",
           " "
          ],
          [
           " ",
           " ",
           " ",
           " ",
           " ",
           "▒",
           " ",
           " "
          ],
          [
           " ",
           " ",
           " ",
           " ",
           " ",
           " ",
           " ",
           " "
          ],
          [
           " ",
           " ",
           " ",
           " ",
           " ",
           " ",
           " ",
           " "
          ],
          [
           " ",
           " ",
           " ",
           " ",
           " ",
           " ",
           " ",
           " "
          ]
         ],
         "texttemplate": "%{text}",
         "type": "heatmap",
         "x": [
          0,
          1,
          2,
          3,
          4,
          5,
          6,
          7
         ],
         "xaxis": "x42",
         "y": [
          "H",
          "G",
          "F",
          "E",
          "D",
          "C",
          "B",
          "A"
         ],
         "yaxis": "y42",
         "z": [
          [
           0.4999999403953552,
           0.008083879947662354,
           0.9868133068084717,
           0.8556334972381592,
           0.8149112462997437,
           0.9202742576599121,
           0.9999430775642395,
           0.49999934434890747
          ],
          [
           0.5000392198562622,
           0.5000060796737671,
           0.9472267627716064,
           0.8047823905944824,
           0.10909831523895264,
           0.9585145711898804,
           0.5000000596046448,
           0.9995402097702026
          ],
          [
           0.002230823040008545,
           0.776149570941925,
           0.44565218687057495,
           0.5377779006958008,
           0.9570238590240479,
           0.015647023916244507,
           0.9744783639907837,
           0.9964417219161987
          ],
          [
           0.9946638345718384,
           0.027067214250564575,
           0.061775028705596924,
           0.252172589302063,
           0.07123899459838867,
           0.016400635242462158,
           0.006335616111755371,
           0.5337762236595154
          ],
          [
           0.9992644786834717,
           0.217604398727417,
           0.40630704164505005,
           0.14718523621559143,
           0.7275799512863159,
           0.09148669242858887,
           0.01517784595489502,
           0.11052188277244568
          ],
          [
           0.999580979347229,
           0.9841419458389282,
           0.32358992099761963,
           0.16556480526924133,
           0.5640770792961121,
           0.4983331859111786,
           0.02247193455696106,
           0.8676438927650452
          ],
          [
           0.9999446868896484,
           0.060120731592178345,
           0.6854970455169678,
           0.9017413854598999,
           0.5409361720085144,
           0.7075678706169128,
           0.5,
           0.9957293272018433
          ],
          [
           0.5000000596046448,
           0.0019912123680114746,
           0.500006914138794,
           0.5000725984573364,
           0.006063550710678101,
           0.5000559687614441,
           0.5000209212303162,
           0.500005841255188
          ]
         ],
         "zmax": 1,
         "zmin": 0
        },
        {
         "colorscale": [
          [
           0,
           "rgb(103,0,31)"
          ],
          [
           0.1,
           "rgb(178,24,43)"
          ],
          [
           0.2,
           "rgb(214,96,77)"
          ],
          [
           0.3,
           "rgb(244,165,130)"
          ],
          [
           0.4,
           "rgb(253,219,199)"
          ],
          [
           0.5,
           "rgb(247,247,247)"
          ],
          [
           0.6,
           "rgb(209,229,240)"
          ],
          [
           0.7,
           "rgb(146,197,222)"
          ],
          [
           0.8,
           "rgb(67,147,195)"
          ],
          [
           0.9,
           "rgb(33,102,172)"
          ],
          [
           1,
           "rgb(5,48,97)"
          ]
         ],
         "hoverongaps": false,
         "text": [
          [
           " ",
           " ",
           " ",
           " ",
           " ",
           " ",
           " ",
           " "
          ],
          [
           " ",
           " ",
           " ",
           " ",
           " ",
           " ",
           " ",
           " "
          ],
          [
           " ",
           " ",
           " ",
           " ",
           " ",
           "▓",
           " ",
           " "
          ],
          [
           " ",
           " ",
           " ",
           " ",
           "░",
           "▓",
           " ",
           " "
          ],
          [
           " ",
           " ",
           " ",
           " ",
           " ",
           " ",
           " ",
           " "
          ],
          [
           " ",
           " ",
           " ",
           " ",
           " ",
           " ",
           " ",
           " "
          ],
          [
           " ",
           " ",
           " ",
           " ",
           " ",
           " ",
           " ",
           " "
          ],
          [
           " ",
           " ",
           " ",
           " ",
           " ",
           " ",
           " ",
           " "
          ]
         ],
         "texttemplate": "%{text}",
         "type": "heatmap",
         "x": [
          0,
          1,
          2,
          3,
          4,
          5,
          6,
          7
         ],
         "xaxis": "x43",
         "y": [
          "H",
          "G",
          "F",
          "E",
          "D",
          "C",
          "B",
          "A"
         ],
         "yaxis": "y43",
         "z": [
          [
           0.4999993145465851,
           0.00021767616271972656,
           0.9839347004890442,
           0.9998133182525635,
           0.998466968536377,
           0.9817439317703247,
           0.9976986646652222,
           0.4999934434890747
          ],
          [
           0.5000539422035217,
           0.5000489354133606,
           0.9870302081108093,
           0.6012235879898071,
           0.28465479612350464,
           0.9956228733062744,
           0.500001072883606,
           0.9978126287460327
          ],
          [
           0.0007474422454833984,
           0.9632462859153748,
           0.027534961700439453,
           0.03556323051452637,
           0.895317018032074,
           0.03166311979293823,
           0.9832072257995605,
           0.9987283945083618
          ],
          [
           0.9991250038146973,
           0.0018361210823059082,
           0.009664982557296753,
           0.13030704855918884,
           0.028762757778167725,
           0.001402825117111206,
           0.0007294118404388428,
           0.9191692471504211
          ],
          [
           0.9989690780639648,
           0.1753464937210083,
           0.47133302688598633,
           0.027993470430374146,
           0.48282766342163086,
           0.07942813634872437,
           0.003974884748458862,
           0.6882115006446838
          ],
          [
           0.9996368288993835,
           0.9854686260223389,
           0.9120497107505798,
           0.49768999218940735,
           0.6777387261390686,
           0.05562525987625122,
           0.02845156192779541,
           0.9937639236450195
          ],
          [
           0.9995664358139038,
           0.831297755241394,
           0.8730315566062927,
           0.9426630735397339,
           0.4503835439682007,
           0.1498798131942749,
           0.5000000596046448,
           0.9981412887573242
          ],
          [
           0.4999920129776001,
           0.009239226579666138,
           0.5000677704811096,
           0.5000232458114624,
           0.0031478703022003174,
           0.4999738037586212,
           0.5000083446502686,
           0.49998027086257935
          ]
         ],
         "zmax": 1,
         "zmin": 0
        },
        {
         "colorscale": [
          [
           0,
           "rgb(103,0,31)"
          ],
          [
           0.1,
           "rgb(178,24,43)"
          ],
          [
           0.2,
           "rgb(214,96,77)"
          ],
          [
           0.3,
           "rgb(244,165,130)"
          ],
          [
           0.4,
           "rgb(253,219,199)"
          ],
          [
           0.5,
           "rgb(247,247,247)"
          ],
          [
           0.6,
           "rgb(209,229,240)"
          ],
          [
           0.7,
           "rgb(146,197,222)"
          ],
          [
           0.8,
           "rgb(67,147,195)"
          ],
          [
           0.9,
           "rgb(33,102,172)"
          ],
          [
           1,
           "rgb(5,48,97)"
          ]
         ],
         "hoverongaps": false,
         "text": [
          [
           " ",
           " ",
           " ",
           " ",
           " ",
           " ",
           " ",
           " "
          ],
          [
           " ",
           " ",
           " ",
           " ",
           " ",
           " ",
           " ",
           " "
          ],
          [
           " ",
           " ",
           " ",
           " ",
           " ",
           " ",
           " ",
           " "
          ],
          [
           " ",
           " ",
           " ",
           " ",
           "▒",
           "█",
           " ",
           " "
          ],
          [
           " ",
           " ",
           " ",
           " ",
           " ",
           " ",
           " ",
           " "
          ],
          [
           " ",
           " ",
           " ",
           " ",
           " ",
           " ",
           " ",
           " "
          ],
          [
           " ",
           " ",
           " ",
           " ",
           " ",
           " ",
           " ",
           " "
          ],
          [
           " ",
           " ",
           " ",
           " ",
           " ",
           " ",
           " ",
           " "
          ]
         ],
         "texttemplate": "%{text}",
         "type": "heatmap",
         "x": [
          0,
          1,
          2,
          3,
          4,
          5,
          6,
          7
         ],
         "xaxis": "x44",
         "y": [
          "H",
          "G",
          "F",
          "E",
          "D",
          "C",
          "B",
          "A"
         ],
         "yaxis": "y44",
         "z": [
          [
           0.49998947978019714,
           0.011908382177352905,
           0.9984013438224792,
           0.9997217655181885,
           0.9999219179153442,
           0.9965884685516357,
           0.9996527433395386,
           0.499906450510025
          ],
          [
           0.49996086955070496,
           0.5031513571739197,
           0.9985113143920898,
           0.8786028623580933,
           0.850558340549469,
           0.9784733653068542,
           0.5000007748603821,
           0.9981467723846436
          ],
          [
           0.0011966228485107422,
           0.992800235748291,
           0.022879987955093384,
           0.8210546970367432,
           0.990234911441803,
           0.7637816667556763,
           0.993749737739563,
           0.9921811819076538
          ],
          [
           0.9984265565872192,
           0.004223078489303589,
           0.021797925233840942,
           0.2650667428970337,
           0.02734014391899109,
           0.006207376718521118,
           0.008373290300369263,
           0.9995346069335938
          ],
          [
           0.9975377321243286,
           0.05293351411819458,
           0.325717568397522,
           0.018103033304214478,
           0.8697149157524109,
           0.031924664974212646,
           0.007656753063201904,
           0.9964601993560791
          ],
          [
           0.998507022857666,
           0.9956715106964111,
           0.8103144764900208,
           0.06070622801780701,
           0.2128680944442749,
           0.13317188620567322,
           0.040951669216156006,
           0.9972349405288696
          ],
          [
           0.999484658241272,
           0.9018012285232544,
           0.9571160674095154,
           0.8290616273880005,
           0.11176791787147522,
           0.02873939275741577,
           0.49998971819877625,
           0.9838793277740479
          ],
          [
           0.49994832277297974,
           0.005603581666946411,
           0.499827116727829,
           0.49969246983528137,
           0.0018899142742156982,
           0.49915504455566406,
           0.5000507235527039,
           0.4997897148132324
          ]
         ],
         "zmax": 1,
         "zmin": 0
        },
        {
         "colorscale": [
          [
           0,
           "rgb(103,0,31)"
          ],
          [
           0.1,
           "rgb(178,24,43)"
          ],
          [
           0.2,
           "rgb(214,96,77)"
          ],
          [
           0.3,
           "rgb(244,165,130)"
          ],
          [
           0.4,
           "rgb(253,219,199)"
          ],
          [
           0.5,
           "rgb(247,247,247)"
          ],
          [
           0.6,
           "rgb(209,229,240)"
          ],
          [
           0.7,
           "rgb(146,197,222)"
          ],
          [
           0.8,
           "rgb(67,147,195)"
          ],
          [
           0.9,
           "rgb(33,102,172)"
          ],
          [
           1,
           "rgb(5,48,97)"
          ]
         ],
         "hoverongaps": false,
         "text": [
          [
           " ",
           " ",
           " ",
           " ",
           " ",
           " ",
           " ",
           " "
          ],
          [
           " ",
           " ",
           " ",
           " ",
           " ",
           " ",
           " ",
           " "
          ],
          [
           " ",
           " ",
           " ",
           " ",
           " ",
           " ",
           " ",
           " "
          ],
          [
           " ",
           " ",
           " ",
           " ",
           "▒",
           "█",
           " ",
           " "
          ],
          [
           " ",
           " ",
           " ",
           " ",
           " ",
           " ",
           " ",
           " "
          ],
          [
           " ",
           " ",
           " ",
           " ",
           " ",
           " ",
           " ",
           " "
          ],
          [
           " ",
           " ",
           " ",
           " ",
           " ",
           " ",
           " ",
           " "
          ],
          [
           " ",
           " ",
           " ",
           " ",
           " ",
           " ",
           " ",
           " "
          ]
         ],
         "texttemplate": "%{text}",
         "type": "heatmap",
         "x": [
          0,
          1,
          2,
          3,
          4,
          5,
          6,
          7
         ],
         "xaxis": "x45",
         "y": [
          "H",
          "G",
          "F",
          "E",
          "D",
          "C",
          "B",
          "A"
         ],
         "yaxis": "y45",
         "z": [
          [
           0.4999934732913971,
           0.01146283745765686,
           0.9977962374687195,
           0.9995630979537964,
           0.9942806959152222,
           0.97594153881073,
           0.9994488954544067,
           0.4999822676181793
          ],
          [
           0.500110387802124,
           0.5008582472801208,
           0.9949535131454468,
           0.9221535921096802,
           0.9614348411560059,
           0.9628217220306396,
           0.5000043511390686,
           0.9977755546569824
          ],
          [
           0.0007728040218353271,
           0.9971615076065063,
           0.012389838695526123,
           0.9891656637191772,
           0.985541820526123,
           0.7377116680145264,
           0.9971552491188049,
           0.9995180368423462
          ],
          [
           0.9996393918991089,
           0.004271507263183594,
           0.03348058462142944,
           0.42153263092041016,
           0.0028502047061920166,
           0.005403876304626465,
           0.0725151002407074,
           0.99915611743927
          ],
          [
           0.9998653531074524,
           0.012796849012374878,
           0.4391857385635376,
           0.01607796549797058,
           0.9775863885879517,
           0.007933616638183594,
           0.008031398057937622,
           0.9984815716743469
          ],
          [
           0.9970793724060059,
           0.9852930307388306,
           0.25766611099243164,
           0.029009729623794556,
           0.005477935075759888,
           0.023778289556503296,
           0.020705223083496094,
           0.9976440668106079
          ],
          [
           0.9972957372665405,
           0.08863908052444458,
           0.7450705766677856,
           0.0862421989440918,
           0.01873171329498291,
           0.007093459367752075,
           0.4999738335609436,
           0.9956097602844238
          ],
          [
           0.49989262223243713,
           0.0019867122173309326,
           0.49992886185646057,
           0.4999641478061676,
           0.0006569623947143555,
           0.4996960163116455,
           0.49994561076164246,
           0.49972209334373474
          ]
         ],
         "zmax": 1,
         "zmin": 0
        },
        {
         "colorscale": [
          [
           0,
           "rgb(103,0,31)"
          ],
          [
           0.1,
           "rgb(178,24,43)"
          ],
          [
           0.2,
           "rgb(214,96,77)"
          ],
          [
           0.3,
           "rgb(244,165,130)"
          ],
          [
           0.4,
           "rgb(253,219,199)"
          ],
          [
           0.5,
           "rgb(247,247,247)"
          ],
          [
           0.6,
           "rgb(209,229,240)"
          ],
          [
           0.7,
           "rgb(146,197,222)"
          ],
          [
           0.8,
           "rgb(67,147,195)"
          ],
          [
           0.9,
           "rgb(33,102,172)"
          ],
          [
           1,
           "rgb(5,48,97)"
          ]
         ],
         "hoverongaps": false,
         "text": [
          [
           " ",
           " ",
           " ",
           " ",
           " ",
           " ",
           " ",
           " "
          ],
          [
           " ",
           " ",
           " ",
           " ",
           " ",
           " ",
           " ",
           " "
          ],
          [
           " ",
           " ",
           " ",
           " ",
           " ",
           " ",
           " ",
           " "
          ],
          [
           " ",
           " ",
           " ",
           " ",
           " ",
           "█",
           " ",
           " "
          ],
          [
           " ",
           " ",
           " ",
           " ",
           " ",
           " ",
           " ",
           " "
          ],
          [
           " ",
           " ",
           " ",
           " ",
           " ",
           " ",
           " ",
           " "
          ],
          [
           " ",
           " ",
           " ",
           " ",
           " ",
           " ",
           " ",
           " "
          ],
          [
           " ",
           " ",
           " ",
           " ",
           " ",
           " ",
           " ",
           " "
          ]
         ],
         "texttemplate": "%{text}",
         "type": "heatmap",
         "x": [
          0,
          1,
          2,
          3,
          4,
          5,
          6,
          7
         ],
         "xaxis": "x46",
         "y": [
          "H",
          "G",
          "F",
          "E",
          "D",
          "C",
          "B",
          "A"
         ],
         "yaxis": "y46",
         "z": [
          [
           0.4999999701976776,
           0.003980129957199097,
           0.9855077862739563,
           0.9974097013473511,
           0.9980759620666504,
           0.9904838800430298,
           0.9999690055847168,
           0.4999919533729553
          ],
          [
           0.5,
           0.5,
           0.9921561479568481,
           0.9942257404327393,
           0.9828122854232788,
           0.9874781370162964,
           0.5,
           0.9992244839668274
          ],
          [
           0.000009566545486450195,
           0.9931764006614685,
           0.001827925443649292,
           0.9859218597412109,
           0.9945347309112549,
           0.9525768756866455,
           0.9918867945671082,
           0.9988446831703186
          ],
          [
           0.9999293088912964,
           0.004109323024749756,
           0.19700828194618225,
           0.9848873615264893,
           0.004919588565826416,
           0.0029165148735046387,
           0.12734827399253845,
           0.9999933242797852
          ],
          [
           0.9999086856842041,
           0.019443809986114502,
           0.9768332242965698,
           0.006275534629821777,
           0.9866769313812256,
           0.019419997930526733,
           0.05269715189933777,
           0.9995310306549072
          ],
          [
           0.9998511075973511,
           0.992234468460083,
           0.010862261056900024,
           0.018102914094924927,
           0.011037647724151611,
           0.003110259771347046,
           0.07444298267364502,
           0.9989610910415649
          ],
          [
           0.9991074800491333,
           0.00015747547149658203,
           0.013235867023468018,
           0.012167304754257202,
           0.020077168941497803,
           0.0001448988914489746,
           0.5,
           0.9979429841041565
          ],
          [
           0.5,
           0.00018209218978881836,
           0.5,
           0.4999992251396179,
           0.00041729211807250977,
           0.5,
           0.5,
           0.4998721778392792
          ]
         ],
         "zmax": 1,
         "zmin": 0
        },
        {
         "colorscale": [
          [
           0,
           "rgb(103,0,31)"
          ],
          [
           0.1,
           "rgb(178,24,43)"
          ],
          [
           0.2,
           "rgb(214,96,77)"
          ],
          [
           0.3,
           "rgb(244,165,130)"
          ],
          [
           0.4,
           "rgb(253,219,199)"
          ],
          [
           0.5,
           "rgb(247,247,247)"
          ],
          [
           0.6,
           "rgb(209,229,240)"
          ],
          [
           0.7,
           "rgb(146,197,222)"
          ],
          [
           0.8,
           "rgb(67,147,195)"
          ],
          [
           0.9,
           "rgb(33,102,172)"
          ],
          [
           1,
           "rgb(5,48,97)"
          ]
         ],
         "hoverongaps": false,
         "text": [
          [
           " ",
           " ",
           " ",
           " ",
           " ",
           " ",
           " ",
           " "
          ],
          [
           " ",
           " ",
           " ",
           " ",
           " ",
           " ",
           " ",
           " "
          ],
          [
           " ",
           " ",
           " ",
           " ",
           " ",
           " ",
           " ",
           " "
          ],
          [
           " ",
           " ",
           " ",
           " ",
           " ",
           "█",
           " ",
           " "
          ],
          [
           " ",
           " ",
           " ",
           " ",
           " ",
           " ",
           " ",
           " "
          ],
          [
           " ",
           " ",
           " ",
           " ",
           " ",
           " ",
           " ",
           " "
          ],
          [
           " ",
           " ",
           " ",
           " ",
           " ",
           " ",
           " ",
           " "
          ],
          [
           " ",
           " ",
           " ",
           " ",
           " ",
           " ",
           " ",
           " "
          ]
         ],
         "texttemplate": "%{text}",
         "type": "heatmap",
         "x": [
          0,
          1,
          2,
          3,
          4,
          5,
          6,
          7
         ],
         "xaxis": "x47",
         "y": [
          "H",
          "G",
          "F",
          "E",
          "D",
          "C",
          "B",
          "A"
         ],
         "yaxis": "y47",
         "z": [
          [
           0.5,
           0.0068822503089904785,
           0.9860822558403015,
           0.9998914003372192,
           0.999329686164856,
           0.9837195873260498,
           0.999991774559021,
           0.4999999701976776
          ],
          [
           0.49980056285858154,
           0.5,
           0.9989506006240845,
           0.8705241084098816,
           0.9998477697372437,
           0.9879259467124939,
           0.5,
           0.991282045841217
          ],
          [
           0.00004050135612487793,
           0.9639536142349243,
           0.00015926361083984375,
           0.9975531101226807,
           0.9977885484695435,
           0.9949276447296143,
           0.9990389347076416,
           0.9997719526290894
          ],
          [
           0.9987694025039673,
           0.0006725788116455078,
           0.8352062702178955,
           0.9947644472122192,
           0.01308983564376831,
           0.0205136239528656,
           0.046102821826934814,
           0.9999992847442627
          ],
          [
           0.9946445226669312,
           0.17236703634262085,
           0.9963229894638062,
           0.0006848573684692383,
           0.9962105751037598,
           0.004913538694381714,
           0.008893877267837524,
           0.9999368190765381
          ],
          [
           0.9993358850479126,
           0.994816243648529,
           0.00041478872299194336,
           0.0006427168846130371,
           0.0032828450202941895,
           0.022957414388656616,
           0.0007449686527252197,
           0.999548614025116
          ],
          [
           0.9998105764389038,
           0.0000260770320892334,
           0.01887887716293335,
           0.0008268654346466064,
           0.00007152557373046875,
           0.000028967857360839844,
           0.5000011920928955,
           0.9945737719535828
          ],
          [
           0.5,
           0.0013972222805023193,
           0.5,
           0.5,
           0.0010130703449249268,
           0.5,
           0.5,
           0.5000019669532776
          ]
         ],
         "zmax": 1,
         "zmin": 0
        },
        {
         "colorscale": [
          [
           0,
           "rgb(103,0,31)"
          ],
          [
           0.1,
           "rgb(178,24,43)"
          ],
          [
           0.2,
           "rgb(214,96,77)"
          ],
          [
           0.3,
           "rgb(244,165,130)"
          ],
          [
           0.4,
           "rgb(253,219,199)"
          ],
          [
           0.5,
           "rgb(247,247,247)"
          ],
          [
           0.6,
           "rgb(209,229,240)"
          ],
          [
           0.7,
           "rgb(146,197,222)"
          ],
          [
           0.8,
           "rgb(67,147,195)"
          ],
          [
           0.9,
           "rgb(33,102,172)"
          ],
          [
           1,
           "rgb(5,48,97)"
          ]
         ],
         "hoverongaps": false,
         "text": [
          [
           " ",
           " ",
           " ",
           " ",
           " ",
           " ",
           " ",
           " "
          ],
          [
           " ",
           " ",
           " ",
           " ",
           " ",
           " ",
           " ",
           " "
          ],
          [
           " ",
           " ",
           " ",
           " ",
           " ",
           " ",
           " ",
           " "
          ],
          [
           " ",
           " ",
           " ",
           " ",
           " ",
           "█",
           " ",
           " "
          ],
          [
           " ",
           " ",
           " ",
           " ",
           " ",
           " ",
           " ",
           " "
          ],
          [
           " ",
           " ",
           " ",
           " ",
           " ",
           " ",
           " ",
           " "
          ],
          [
           " ",
           " ",
           " ",
           " ",
           " ",
           " ",
           " ",
           " "
          ],
          [
           " ",
           " ",
           " ",
           " ",
           " ",
           " ",
           " ",
           " "
          ]
         ],
         "texttemplate": "%{text}",
         "type": "heatmap",
         "x": [
          0,
          1,
          2,
          3,
          4,
          5,
          6,
          7
         ],
         "xaxis": "x48",
         "y": [
          "H",
          "G",
          "F",
          "E",
          "D",
          "C",
          "B",
          "A"
         ],
         "yaxis": "y48",
         "z": [
          [
           0.5,
           0.1448366940021515,
           0.9988018274307251,
           0.9999430179595947,
           0.9991159439086914,
           0.9893553256988525,
           0.9999206066131592,
           0.4999956786632538
          ],
          [
           0.49992817640304565,
           0.5,
           0.9738683700561523,
           0.9932123422622681,
           0.9997497797012329,
           0.999089241027832,
           0.5,
           0.9959391355514526
          ],
          [
           0.0000027418136596679688,
           0.9774372577667236,
           0.0025981664657592773,
           0.9997327327728271,
           0.9990805983543396,
           0.9840214252471924,
           0.9994102716445923,
           0.9999719858169556
          ],
          [
           0.9983683228492737,
           0.00016579031944274902,
           0.7659815549850464,
           0.9914827346801758,
           0.002300649881362915,
           0.17656487226486206,
           0.03381416201591492,
           0.9999969005584717
          ],
          [
           0.9991222023963928,
           0.3143773674964905,
           0.9994349479675293,
           0.00040289759635925293,
           0.9896020293235779,
           0.004064649343490601,
           0.006377518177032471,
           0.9972536563873291
          ],
          [
           0.9996068477630615,
           0.9985151290893555,
           0.000826030969619751,
           0.00024500489234924316,
           0.02013835310935974,
           0.06598314642906189,
           0.0004343092441558838,
           0.999798059463501
          ],
          [
           0.9999762773513794,
           0.00009211897850036621,
           0.0013828277587890625,
           0.00018784403800964355,
           0.00001049041748046875,
           0.0000030994415283203125,
           0.4999839961528778,
           0.9811066389083862
          ],
          [
           0.5,
           0.009030640125274658,
           0.49998044967651367,
           0.49999988079071045,
           0.0001735389232635498,
           0.5,
           0.5,
           0.5009973645210266
          ]
         ],
         "zmax": 1,
         "zmin": 0
        }
       ],
       "layout": {
        "annotations": [
         {
          "font": {
           "size": 16
          },
          "showarrow": false,
          "text": "P: 42, T: E0, L: 0, M: N",
          "x": 0.0515625,
          "xanchor": "center",
          "xref": "paper",
          "y": 0.9999999999999998,
          "yanchor": "bottom",
          "yref": "paper"
         },
         {
          "font": {
           "size": 16
          },
          "showarrow": false,
          "text": "P: 42, T: E0, L: 1, M: N",
          "x": 0.1796875,
          "xanchor": "center",
          "xref": "paper",
          "y": 0.9999999999999998,
          "yanchor": "bottom",
          "yref": "paper"
         },
         {
          "font": {
           "size": 16
          },
          "showarrow": false,
          "text": "P: 42, T: E0, L: 2, M: N",
          "x": 0.3078125,
          "xanchor": "center",
          "xref": "paper",
          "y": 0.9999999999999998,
          "yanchor": "bottom",
          "yref": "paper"
         },
         {
          "font": {
           "size": 16
          },
          "showarrow": false,
          "text": "P: 42, T: E0, L: 3, M: N",
          "x": 0.4359375,
          "xanchor": "center",
          "xref": "paper",
          "y": 0.9999999999999998,
          "yanchor": "bottom",
          "yref": "paper"
         },
         {
          "font": {
           "size": 16
          },
          "showarrow": false,
          "text": "P: 42, T: E0, L: 4, M: N",
          "x": 0.5640624999999999,
          "xanchor": "center",
          "xref": "paper",
          "y": 0.9999999999999998,
          "yanchor": "bottom",
          "yref": "paper"
         },
         {
          "font": {
           "size": 16
          },
          "showarrow": false,
          "text": "P: 42, T: E0, L: 5, M: N",
          "x": 0.6921875,
          "xanchor": "center",
          "xref": "paper",
          "y": 0.9999999999999998,
          "yanchor": "bottom",
          "yref": "paper"
         },
         {
          "font": {
           "size": 16
          },
          "showarrow": false,
          "text": "P: 42, T: E0, L: 6, M: N",
          "x": 0.8203125,
          "xanchor": "center",
          "xref": "paper",
          "y": 0.9999999999999998,
          "yanchor": "bottom",
          "yref": "paper"
         },
         {
          "font": {
           "size": 16
          },
          "showarrow": false,
          "text": "P: 42, T: E0, L: 7, M: N",
          "x": 0.9484375,
          "xanchor": "center",
          "xref": "paper",
          "y": 0.9999999999999998,
          "yanchor": "bottom",
          "yref": "paper"
         },
         {
          "font": {
           "size": 16
          },
          "showarrow": false,
          "text": "P: 43, T: A1, L: 0, M: N",
          "x": 0.0515625,
          "xanchor": "center",
          "xref": "paper",
          "y": 0.825287356321839,
          "yanchor": "bottom",
          "yref": "paper"
         },
         {
          "font": {
           "size": 16
          },
          "showarrow": false,
          "text": "P: 43, T: A1, L: 1, M: N",
          "x": 0.1796875,
          "xanchor": "center",
          "xref": "paper",
          "y": 0.825287356321839,
          "yanchor": "bottom",
          "yref": "paper"
         },
         {
          "font": {
           "size": 16
          },
          "showarrow": false,
          "text": "P: 43, T: A1, L: 2, M: N",
          "x": 0.3078125,
          "xanchor": "center",
          "xref": "paper",
          "y": 0.825287356321839,
          "yanchor": "bottom",
          "yref": "paper"
         },
         {
          "font": {
           "size": 16
          },
          "showarrow": false,
          "text": "P: 43, T: A1, L: 3, M: N",
          "x": 0.4359375,
          "xanchor": "center",
          "xref": "paper",
          "y": 0.825287356321839,
          "yanchor": "bottom",
          "yref": "paper"
         },
         {
          "font": {
           "size": 16
          },
          "showarrow": false,
          "text": "P: 43, T: A1, L: 4, M: N",
          "x": 0.5640624999999999,
          "xanchor": "center",
          "xref": "paper",
          "y": 0.825287356321839,
          "yanchor": "bottom",
          "yref": "paper"
         },
         {
          "font": {
           "size": 16
          },
          "showarrow": false,
          "text": "P: 43, T: A1, L: 5, M: N",
          "x": 0.6921875,
          "xanchor": "center",
          "xref": "paper",
          "y": 0.825287356321839,
          "yanchor": "bottom",
          "yref": "paper"
         },
         {
          "font": {
           "size": 16
          },
          "showarrow": false,
          "text": "P: 43, T: A1, L: 6, M: N",
          "x": 0.8203125,
          "xanchor": "center",
          "xref": "paper",
          "y": 0.825287356321839,
          "yanchor": "bottom",
          "yref": "paper"
         },
         {
          "font": {
           "size": 16
          },
          "showarrow": false,
          "text": "P: 43, T: A1, L: 7, M: N",
          "x": 0.9484375,
          "xanchor": "center",
          "xref": "paper",
          "y": 0.825287356321839,
          "yanchor": "bottom",
          "yref": "paper"
         },
         {
          "font": {
           "size": 16
          },
          "showarrow": false,
          "text": "P: 44, T: C0, L: 0, M: N",
          "x": 0.0515625,
          "xanchor": "center",
          "xref": "paper",
          "y": 0.650574712643678,
          "yanchor": "bottom",
          "yref": "paper"
         },
         {
          "font": {
           "size": 16
          },
          "showarrow": false,
          "text": "P: 44, T: C0, L: 1, M: N",
          "x": 0.1796875,
          "xanchor": "center",
          "xref": "paper",
          "y": 0.650574712643678,
          "yanchor": "bottom",
          "yref": "paper"
         },
         {
          "font": {
           "size": 16
          },
          "showarrow": false,
          "text": "P: 44, T: C0, L: 2, M: N",
          "x": 0.3078125,
          "xanchor": "center",
          "xref": "paper",
          "y": 0.650574712643678,
          "yanchor": "bottom",
          "yref": "paper"
         },
         {
          "font": {
           "size": 16
          },
          "showarrow": false,
          "text": "P: 44, T: C0, L: 3, M: N",
          "x": 0.4359375,
          "xanchor": "center",
          "xref": "paper",
          "y": 0.650574712643678,
          "yanchor": "bottom",
          "yref": "paper"
         },
         {
          "font": {
           "size": 16
          },
          "showarrow": false,
          "text": "P: 44, T: C0, L: 4, M: N",
          "x": 0.5640624999999999,
          "xanchor": "center",
          "xref": "paper",
          "y": 0.650574712643678,
          "yanchor": "bottom",
          "yref": "paper"
         },
         {
          "font": {
           "size": 16
          },
          "showarrow": false,
          "text": "P: 44, T: C0, L: 5, M: N",
          "x": 0.6921875,
          "xanchor": "center",
          "xref": "paper",
          "y": 0.650574712643678,
          "yanchor": "bottom",
          "yref": "paper"
         },
         {
          "font": {
           "size": 16
          },
          "showarrow": false,
          "text": "P: 44, T: C0, L: 6, M: N",
          "x": 0.8203125,
          "xanchor": "center",
          "xref": "paper",
          "y": 0.650574712643678,
          "yanchor": "bottom",
          "yref": "paper"
         },
         {
          "font": {
           "size": 16
          },
          "showarrow": false,
          "text": "P: 44, T: C0, L: 7, M: N",
          "x": 0.9484375,
          "xanchor": "center",
          "xref": "paper",
          "y": 0.650574712643678,
          "yanchor": "bottom",
          "yref": "paper"
         },
         {
          "font": {
           "size": 16
          },
          "showarrow": false,
          "text": "P: 45, T: E1, L: 0, M: N",
          "x": 0.0515625,
          "xanchor": "center",
          "xref": "paper",
          "y": 0.4758620689655172,
          "yanchor": "bottom",
          "yref": "paper"
         },
         {
          "font": {
           "size": 16
          },
          "showarrow": false,
          "text": "P: 45, T: E1, L: 1, M: N",
          "x": 0.1796875,
          "xanchor": "center",
          "xref": "paper",
          "y": 0.4758620689655172,
          "yanchor": "bottom",
          "yref": "paper"
         },
         {
          "font": {
           "size": 16
          },
          "showarrow": false,
          "text": "P: 45, T: E1, L: 2, M: N",
          "x": 0.3078125,
          "xanchor": "center",
          "xref": "paper",
          "y": 0.4758620689655172,
          "yanchor": "bottom",
          "yref": "paper"
         },
         {
          "font": {
           "size": 16
          },
          "showarrow": false,
          "text": "P: 45, T: E1, L: 3, M: N",
          "x": 0.4359375,
          "xanchor": "center",
          "xref": "paper",
          "y": 0.4758620689655172,
          "yanchor": "bottom",
          "yref": "paper"
         },
         {
          "font": {
           "size": 16
          },
          "showarrow": false,
          "text": "P: 45, T: E1, L: 4, M: N",
          "x": 0.5640624999999999,
          "xanchor": "center",
          "xref": "paper",
          "y": 0.4758620689655172,
          "yanchor": "bottom",
          "yref": "paper"
         },
         {
          "font": {
           "size": 16
          },
          "showarrow": false,
          "text": "P: 45, T: E1, L: 5, M: N",
          "x": 0.6921875,
          "xanchor": "center",
          "xref": "paper",
          "y": 0.4758620689655172,
          "yanchor": "bottom",
          "yref": "paper"
         },
         {
          "font": {
           "size": 16
          },
          "showarrow": false,
          "text": "P: 45, T: E1, L: 6, M: N",
          "x": 0.8203125,
          "xanchor": "center",
          "xref": "paper",
          "y": 0.4758620689655172,
          "yanchor": "bottom",
          "yref": "paper"
         },
         {
          "font": {
           "size": 16
          },
          "showarrow": false,
          "text": "P: 45, T: E1, L: 7, M: N",
          "x": 0.9484375,
          "xanchor": "center",
          "xref": "paper",
          "y": 0.4758620689655172,
          "yanchor": "bottom",
          "yref": "paper"
         },
         {
          "font": {
           "size": 16
          },
          "showarrow": false,
          "text": "P: 46, T: B0, L: 0, M: N",
          "x": 0.0515625,
          "xanchor": "center",
          "xref": "paper",
          "y": 0.30114942528735633,
          "yanchor": "bottom",
          "yref": "paper"
         },
         {
          "font": {
           "size": 16
          },
          "showarrow": false,
          "text": "P: 46, T: B0, L: 1, M: N",
          "x": 0.1796875,
          "xanchor": "center",
          "xref": "paper",
          "y": 0.30114942528735633,
          "yanchor": "bottom",
          "yref": "paper"
         },
         {
          "font": {
           "size": 16
          },
          "showarrow": false,
          "text": "P: 46, T: B0, L: 2, M: N",
          "x": 0.3078125,
          "xanchor": "center",
          "xref": "paper",
          "y": 0.30114942528735633,
          "yanchor": "bottom",
          "yref": "paper"
         },
         {
          "font": {
           "size": 16
          },
          "showarrow": false,
          "text": "P: 46, T: B0, L: 3, M: N",
          "x": 0.4359375,
          "xanchor": "center",
          "xref": "paper",
          "y": 0.30114942528735633,
          "yanchor": "bottom",
          "yref": "paper"
         },
         {
          "font": {
           "size": 16
          },
          "showarrow": false,
          "text": "P: 46, T: B0, L: 4, M: N",
          "x": 0.5640624999999999,
          "xanchor": "center",
          "xref": "paper",
          "y": 0.30114942528735633,
          "yanchor": "bottom",
          "yref": "paper"
         },
         {
          "font": {
           "size": 16
          },
          "showarrow": false,
          "text": "P: 46, T: B0, L: 5, M: N",
          "x": 0.6921875,
          "xanchor": "center",
          "xref": "paper",
          "y": 0.30114942528735633,
          "yanchor": "bottom",
          "yref": "paper"
         },
         {
          "font": {
           "size": 16
          },
          "showarrow": false,
          "text": "P: 46, T: B0, L: 6, M: N",
          "x": 0.8203125,
          "xanchor": "center",
          "xref": "paper",
          "y": 0.30114942528735633,
          "yanchor": "bottom",
          "yref": "paper"
         },
         {
          "font": {
           "size": 16
          },
          "showarrow": false,
          "text": "P: 46, T: B0, L: 7, M: N",
          "x": 0.9484375,
          "xanchor": "center",
          "xref": "paper",
          "y": 0.30114942528735633,
          "yanchor": "bottom",
          "yref": "paper"
         },
         {
          "font": {
           "size": 16
          },
          "showarrow": false,
          "text": "P: 47, T: E6, L: 0, M: N",
          "x": 0.0515625,
          "xanchor": "center",
          "xref": "paper",
          "y": 0.1264367816091954,
          "yanchor": "bottom",
          "yref": "paper"
         },
         {
          "font": {
           "size": 16
          },
          "showarrow": false,
          "text": "P: 47, T: E6, L: 1, M: N",
          "x": 0.1796875,
          "xanchor": "center",
          "xref": "paper",
          "y": 0.1264367816091954,
          "yanchor": "bottom",
          "yref": "paper"
         },
         {
          "font": {
           "size": 16
          },
          "showarrow": false,
          "text": "P: 47, T: E6, L: 2, M: N",
          "x": 0.3078125,
          "xanchor": "center",
          "xref": "paper",
          "y": 0.1264367816091954,
          "yanchor": "bottom",
          "yref": "paper"
         },
         {
          "font": {
           "size": 16
          },
          "showarrow": false,
          "text": "P: 47, T: E6, L: 3, M: N",
          "x": 0.4359375,
          "xanchor": "center",
          "xref": "paper",
          "y": 0.1264367816091954,
          "yanchor": "bottom",
          "yref": "paper"
         },
         {
          "font": {
           "size": 16
          },
          "showarrow": false,
          "text": "P: 47, T: E6, L: 4, M: N",
          "x": 0.5640624999999999,
          "xanchor": "center",
          "xref": "paper",
          "y": 0.1264367816091954,
          "yanchor": "bottom",
          "yref": "paper"
         },
         {
          "font": {
           "size": 16
          },
          "showarrow": false,
          "text": "P: 47, T: E6, L: 5, M: N",
          "x": 0.6921875,
          "xanchor": "center",
          "xref": "paper",
          "y": 0.1264367816091954,
          "yanchor": "bottom",
          "yref": "paper"
         },
         {
          "font": {
           "size": 16
          },
          "showarrow": false,
          "text": "P: 47, T: E6, L: 6, M: N",
          "x": 0.8203125,
          "xanchor": "center",
          "xref": "paper",
          "y": 0.1264367816091954,
          "yanchor": "bottom",
          "yref": "paper"
         },
         {
          "font": {
           "size": 16
          },
          "showarrow": false,
          "text": "P: 47, T: E6, L: 7, M: N",
          "x": 0.9484375,
          "xanchor": "center",
          "xref": "paper",
          "y": 0.1264367816091954,
          "yanchor": "bottom",
          "yref": "paper"
         }
        ],
        "height": 1450,
        "margin": {
         "t": 100
        },
        "template": {
         "data": {
          "bar": [
           {
            "error_x": {
             "color": "#2a3f5f"
            },
            "error_y": {
             "color": "#2a3f5f"
            },
            "marker": {
             "line": {
              "color": "#E5ECF6",
              "width": 0.5
             },
             "pattern": {
              "fillmode": "overlay",
              "size": 10,
              "solidity": 0.2
             }
            },
            "type": "bar"
           }
          ],
          "barpolar": [
           {
            "marker": {
             "line": {
              "color": "#E5ECF6",
              "width": 0.5
             },
             "pattern": {
              "fillmode": "overlay",
              "size": 10,
              "solidity": 0.2
             }
            },
            "type": "barpolar"
           }
          ],
          "carpet": [
           {
            "aaxis": {
             "endlinecolor": "#2a3f5f",
             "gridcolor": "white",
             "linecolor": "white",
             "minorgridcolor": "white",
             "startlinecolor": "#2a3f5f"
            },
            "baxis": {
             "endlinecolor": "#2a3f5f",
             "gridcolor": "white",
             "linecolor": "white",
             "minorgridcolor": "white",
             "startlinecolor": "#2a3f5f"
            },
            "type": "carpet"
           }
          ],
          "choropleth": [
           {
            "colorbar": {
             "outlinewidth": 0,
             "ticks": ""
            },
            "type": "choropleth"
           }
          ],
          "contour": [
           {
            "colorbar": {
             "outlinewidth": 0,
             "ticks": ""
            },
            "colorscale": [
             [
              0,
              "#0d0887"
             ],
             [
              0.1111111111111111,
              "#46039f"
             ],
             [
              0.2222222222222222,
              "#7201a8"
             ],
             [
              0.3333333333333333,
              "#9c179e"
             ],
             [
              0.4444444444444444,
              "#bd3786"
             ],
             [
              0.5555555555555556,
              "#d8576b"
             ],
             [
              0.6666666666666666,
              "#ed7953"
             ],
             [
              0.7777777777777778,
              "#fb9f3a"
             ],
             [
              0.8888888888888888,
              "#fdca26"
             ],
             [
              1,
              "#f0f921"
             ]
            ],
            "type": "contour"
           }
          ],
          "contourcarpet": [
           {
            "colorbar": {
             "outlinewidth": 0,
             "ticks": ""
            },
            "type": "contourcarpet"
           }
          ],
          "heatmap": [
           {
            "colorbar": {
             "outlinewidth": 0,
             "ticks": ""
            },
            "colorscale": [
             [
              0,
              "#0d0887"
             ],
             [
              0.1111111111111111,
              "#46039f"
             ],
             [
              0.2222222222222222,
              "#7201a8"
             ],
             [
              0.3333333333333333,
              "#9c179e"
             ],
             [
              0.4444444444444444,
              "#bd3786"
             ],
             [
              0.5555555555555556,
              "#d8576b"
             ],
             [
              0.6666666666666666,
              "#ed7953"
             ],
             [
              0.7777777777777778,
              "#fb9f3a"
             ],
             [
              0.8888888888888888,
              "#fdca26"
             ],
             [
              1,
              "#f0f921"
             ]
            ],
            "type": "heatmap"
           }
          ],
          "heatmapgl": [
           {
            "colorbar": {
             "outlinewidth": 0,
             "ticks": ""
            },
            "colorscale": [
             [
              0,
              "#0d0887"
             ],
             [
              0.1111111111111111,
              "#46039f"
             ],
             [
              0.2222222222222222,
              "#7201a8"
             ],
             [
              0.3333333333333333,
              "#9c179e"
             ],
             [
              0.4444444444444444,
              "#bd3786"
             ],
             [
              0.5555555555555556,
              "#d8576b"
             ],
             [
              0.6666666666666666,
              "#ed7953"
             ],
             [
              0.7777777777777778,
              "#fb9f3a"
             ],
             [
              0.8888888888888888,
              "#fdca26"
             ],
             [
              1,
              "#f0f921"
             ]
            ],
            "type": "heatmapgl"
           }
          ],
          "histogram": [
           {
            "marker": {
             "pattern": {
              "fillmode": "overlay",
              "size": 10,
              "solidity": 0.2
             }
            },
            "type": "histogram"
           }
          ],
          "histogram2d": [
           {
            "colorbar": {
             "outlinewidth": 0,
             "ticks": ""
            },
            "colorscale": [
             [
              0,
              "#0d0887"
             ],
             [
              0.1111111111111111,
              "#46039f"
             ],
             [
              0.2222222222222222,
              "#7201a8"
             ],
             [
              0.3333333333333333,
              "#9c179e"
             ],
             [
              0.4444444444444444,
              "#bd3786"
             ],
             [
              0.5555555555555556,
              "#d8576b"
             ],
             [
              0.6666666666666666,
              "#ed7953"
             ],
             [
              0.7777777777777778,
              "#fb9f3a"
             ],
             [
              0.8888888888888888,
              "#fdca26"
             ],
             [
              1,
              "#f0f921"
             ]
            ],
            "type": "histogram2d"
           }
          ],
          "histogram2dcontour": [
           {
            "colorbar": {
             "outlinewidth": 0,
             "ticks": ""
            },
            "colorscale": [
             [
              0,
              "#0d0887"
             ],
             [
              0.1111111111111111,
              "#46039f"
             ],
             [
              0.2222222222222222,
              "#7201a8"
             ],
             [
              0.3333333333333333,
              "#9c179e"
             ],
             [
              0.4444444444444444,
              "#bd3786"
             ],
             [
              0.5555555555555556,
              "#d8576b"
             ],
             [
              0.6666666666666666,
              "#ed7953"
             ],
             [
              0.7777777777777778,
              "#fb9f3a"
             ],
             [
              0.8888888888888888,
              "#fdca26"
             ],
             [
              1,
              "#f0f921"
             ]
            ],
            "type": "histogram2dcontour"
           }
          ],
          "mesh3d": [
           {
            "colorbar": {
             "outlinewidth": 0,
             "ticks": ""
            },
            "type": "mesh3d"
           }
          ],
          "parcoords": [
           {
            "line": {
             "colorbar": {
              "outlinewidth": 0,
              "ticks": ""
             }
            },
            "type": "parcoords"
           }
          ],
          "pie": [
           {
            "automargin": true,
            "type": "pie"
           }
          ],
          "scatter": [
           {
            "fillpattern": {
             "fillmode": "overlay",
             "size": 10,
             "solidity": 0.2
            },
            "type": "scatter"
           }
          ],
          "scatter3d": [
           {
            "line": {
             "colorbar": {
              "outlinewidth": 0,
              "ticks": ""
             }
            },
            "marker": {
             "colorbar": {
              "outlinewidth": 0,
              "ticks": ""
             }
            },
            "type": "scatter3d"
           }
          ],
          "scattercarpet": [
           {
            "marker": {
             "colorbar": {
              "outlinewidth": 0,
              "ticks": ""
             }
            },
            "type": "scattercarpet"
           }
          ],
          "scattergeo": [
           {
            "marker": {
             "colorbar": {
              "outlinewidth": 0,
              "ticks": ""
             }
            },
            "type": "scattergeo"
           }
          ],
          "scattergl": [
           {
            "marker": {
             "colorbar": {
              "outlinewidth": 0,
              "ticks": ""
             }
            },
            "type": "scattergl"
           }
          ],
          "scattermapbox": [
           {
            "marker": {
             "colorbar": {
              "outlinewidth": 0,
              "ticks": ""
             }
            },
            "type": "scattermapbox"
           }
          ],
          "scatterpolar": [
           {
            "marker": {
             "colorbar": {
              "outlinewidth": 0,
              "ticks": ""
             }
            },
            "type": "scatterpolar"
           }
          ],
          "scatterpolargl": [
           {
            "marker": {
             "colorbar": {
              "outlinewidth": 0,
              "ticks": ""
             }
            },
            "type": "scatterpolargl"
           }
          ],
          "scatterternary": [
           {
            "marker": {
             "colorbar": {
              "outlinewidth": 0,
              "ticks": ""
             }
            },
            "type": "scatterternary"
           }
          ],
          "surface": [
           {
            "colorbar": {
             "outlinewidth": 0,
             "ticks": ""
            },
            "colorscale": [
             [
              0,
              "#0d0887"
             ],
             [
              0.1111111111111111,
              "#46039f"
             ],
             [
              0.2222222222222222,
              "#7201a8"
             ],
             [
              0.3333333333333333,
              "#9c179e"
             ],
             [
              0.4444444444444444,
              "#bd3786"
             ],
             [
              0.5555555555555556,
              "#d8576b"
             ],
             [
              0.6666666666666666,
              "#ed7953"
             ],
             [
              0.7777777777777778,
              "#fb9f3a"
             ],
             [
              0.8888888888888888,
              "#fdca26"
             ],
             [
              1,
              "#f0f921"
             ]
            ],
            "type": "surface"
           }
          ],
          "table": [
           {
            "cells": {
             "fill": {
              "color": "#EBF0F8"
             },
             "line": {
              "color": "white"
             }
            },
            "header": {
             "fill": {
              "color": "#C8D4E3"
             },
             "line": {
              "color": "white"
             }
            },
            "type": "table"
           }
          ]
         },
         "layout": {
          "annotationdefaults": {
           "arrowcolor": "#2a3f5f",
           "arrowhead": 0,
           "arrowwidth": 1
          },
          "autotypenumbers": "strict",
          "coloraxis": {
           "colorbar": {
            "outlinewidth": 0,
            "ticks": ""
           }
          },
          "colorscale": {
           "diverging": [
            [
             0,
             "#8e0152"
            ],
            [
             0.1,
             "#c51b7d"
            ],
            [
             0.2,
             "#de77ae"
            ],
            [
             0.3,
             "#f1b6da"
            ],
            [
             0.4,
             "#fde0ef"
            ],
            [
             0.5,
             "#f7f7f7"
            ],
            [
             0.6,
             "#e6f5d0"
            ],
            [
             0.7,
             "#b8e186"
            ],
            [
             0.8,
             "#7fbc41"
            ],
            [
             0.9,
             "#4d9221"
            ],
            [
             1,
             "#276419"
            ]
           ],
           "sequential": [
            [
             0,
             "#0d0887"
            ],
            [
             0.1111111111111111,
             "#46039f"
            ],
            [
             0.2222222222222222,
             "#7201a8"
            ],
            [
             0.3333333333333333,
             "#9c179e"
            ],
            [
             0.4444444444444444,
             "#bd3786"
            ],
            [
             0.5555555555555556,
             "#d8576b"
            ],
            [
             0.6666666666666666,
             "#ed7953"
            ],
            [
             0.7777777777777778,
             "#fb9f3a"
            ],
            [
             0.8888888888888888,
             "#fdca26"
            ],
            [
             1,
             "#f0f921"
            ]
           ],
           "sequentialminus": [
            [
             0,
             "#0d0887"
            ],
            [
             0.1111111111111111,
             "#46039f"
            ],
            [
             0.2222222222222222,
             "#7201a8"
            ],
            [
             0.3333333333333333,
             "#9c179e"
            ],
            [
             0.4444444444444444,
             "#bd3786"
            ],
            [
             0.5555555555555556,
             "#d8576b"
            ],
            [
             0.6666666666666666,
             "#ed7953"
            ],
            [
             0.7777777777777778,
             "#fb9f3a"
            ],
            [
             0.8888888888888888,
             "#fdca26"
            ],
            [
             1,
             "#f0f921"
            ]
           ]
          },
          "colorway": [
           "#636efa",
           "#EF553B",
           "#00cc96",
           "#ab63fa",
           "#FFA15A",
           "#19d3f3",
           "#FF6692",
           "#B6E880",
           "#FF97FF",
           "#FECB52"
          ],
          "font": {
           "color": "#2a3f5f"
          },
          "geo": {
           "bgcolor": "white",
           "lakecolor": "white",
           "landcolor": "#E5ECF6",
           "showlakes": true,
           "showland": true,
           "subunitcolor": "white"
          },
          "hoverlabel": {
           "align": "left"
          },
          "hovermode": "closest",
          "mapbox": {
           "style": "light"
          },
          "paper_bgcolor": "white",
          "plot_bgcolor": "#E5ECF6",
          "polar": {
           "angularaxis": {
            "gridcolor": "white",
            "linecolor": "white",
            "ticks": ""
           },
           "bgcolor": "#E5ECF6",
           "radialaxis": {
            "gridcolor": "white",
            "linecolor": "white",
            "ticks": ""
           }
          },
          "scene": {
           "xaxis": {
            "backgroundcolor": "#E5ECF6",
            "gridcolor": "white",
            "gridwidth": 2,
            "linecolor": "white",
            "showbackground": true,
            "ticks": "",
            "zerolinecolor": "white"
           },
           "yaxis": {
            "backgroundcolor": "#E5ECF6",
            "gridcolor": "white",
            "gridwidth": 2,
            "linecolor": "white",
            "showbackground": true,
            "ticks": "",
            "zerolinecolor": "white"
           },
           "zaxis": {
            "backgroundcolor": "#E5ECF6",
            "gridcolor": "white",
            "gridwidth": 2,
            "linecolor": "white",
            "showbackground": true,
            "ticks": "",
            "zerolinecolor": "white"
           }
          },
          "shapedefaults": {
           "line": {
            "color": "#2a3f5f"
           }
          },
          "ternary": {
           "aaxis": {
            "gridcolor": "white",
            "linecolor": "white",
            "ticks": ""
           },
           "baxis": {
            "gridcolor": "white",
            "linecolor": "white",
            "ticks": ""
           },
           "bgcolor": "#E5ECF6",
           "caxis": {
            "gridcolor": "white",
            "linecolor": "white",
            "ticks": ""
           }
          },
          "title": {
           "x": 0.05
          },
          "xaxis": {
           "automargin": true,
           "gridcolor": "white",
           "linecolor": "white",
           "ticks": "",
           "title": {
            "standoff": 15
           },
           "zerolinecolor": "white",
           "zerolinewidth": 2
          },
          "yaxis": {
           "automargin": true,
           "gridcolor": "white",
           "linecolor": "white",
           "ticks": "",
           "title": {
            "standoff": 15
           },
           "zerolinecolor": "white",
           "zerolinewidth": 2
          }
         }
        },
        "title": {
         "text": "Probe Results per Position per Layer, Mode: N"
        },
        "width": 1800,
        "xaxis": {
         "anchor": "y",
         "domain": [
          0,
          0.103125
         ]
        },
        "xaxis10": {
         "anchor": "y10",
         "domain": [
          0.128125,
          0.23124999999999998
         ]
        },
        "xaxis11": {
         "anchor": "y11",
         "domain": [
          0.25625,
          0.359375
         ]
        },
        "xaxis12": {
         "anchor": "y12",
         "domain": [
          0.38437499999999997,
          0.48749999999999993
         ]
        },
        "xaxis13": {
         "anchor": "y13",
         "domain": [
          0.5125,
          0.615625
         ]
        },
        "xaxis14": {
         "anchor": "y14",
         "domain": [
          0.640625,
          0.74375
         ]
        },
        "xaxis15": {
         "anchor": "y15",
         "domain": [
          0.76875,
          0.8718750000000001
         ]
        },
        "xaxis16": {
         "anchor": "y16",
         "domain": [
          0.8968750000000001,
          1
         ]
        },
        "xaxis17": {
         "anchor": "y17",
         "domain": [
          0,
          0.103125
         ]
        },
        "xaxis18": {
         "anchor": "y18",
         "domain": [
          0.128125,
          0.23124999999999998
         ]
        },
        "xaxis19": {
         "anchor": "y19",
         "domain": [
          0.25625,
          0.359375
         ]
        },
        "xaxis2": {
         "anchor": "y2",
         "domain": [
          0.128125,
          0.23124999999999998
         ]
        },
        "xaxis20": {
         "anchor": "y20",
         "domain": [
          0.38437499999999997,
          0.48749999999999993
         ]
        },
        "xaxis21": {
         "anchor": "y21",
         "domain": [
          0.5125,
          0.615625
         ]
        },
        "xaxis22": {
         "anchor": "y22",
         "domain": [
          0.640625,
          0.74375
         ]
        },
        "xaxis23": {
         "anchor": "y23",
         "domain": [
          0.76875,
          0.8718750000000001
         ]
        },
        "xaxis24": {
         "anchor": "y24",
         "domain": [
          0.8968750000000001,
          1
         ]
        },
        "xaxis25": {
         "anchor": "y25",
         "domain": [
          0,
          0.103125
         ]
        },
        "xaxis26": {
         "anchor": "y26",
         "domain": [
          0.128125,
          0.23124999999999998
         ]
        },
        "xaxis27": {
         "anchor": "y27",
         "domain": [
          0.25625,
          0.359375
         ]
        },
        "xaxis28": {
         "anchor": "y28",
         "domain": [
          0.38437499999999997,
          0.48749999999999993
         ]
        },
        "xaxis29": {
         "anchor": "y29",
         "domain": [
          0.5125,
          0.615625
         ]
        },
        "xaxis3": {
         "anchor": "y3",
         "domain": [
          0.25625,
          0.359375
         ]
        },
        "xaxis30": {
         "anchor": "y30",
         "domain": [
          0.640625,
          0.74375
         ]
        },
        "xaxis31": {
         "anchor": "y31",
         "domain": [
          0.76875,
          0.8718750000000001
         ]
        },
        "xaxis32": {
         "anchor": "y32",
         "domain": [
          0.8968750000000001,
          1
         ]
        },
        "xaxis33": {
         "anchor": "y33",
         "domain": [
          0,
          0.103125
         ]
        },
        "xaxis34": {
         "anchor": "y34",
         "domain": [
          0.128125,
          0.23124999999999998
         ]
        },
        "xaxis35": {
         "anchor": "y35",
         "domain": [
          0.25625,
          0.359375
         ]
        },
        "xaxis36": {
         "anchor": "y36",
         "domain": [
          0.38437499999999997,
          0.48749999999999993
         ]
        },
        "xaxis37": {
         "anchor": "y37",
         "domain": [
          0.5125,
          0.615625
         ]
        },
        "xaxis38": {
         "anchor": "y38",
         "domain": [
          0.640625,
          0.74375
         ]
        },
        "xaxis39": {
         "anchor": "y39",
         "domain": [
          0.76875,
          0.8718750000000001
         ]
        },
        "xaxis4": {
         "anchor": "y4",
         "domain": [
          0.38437499999999997,
          0.48749999999999993
         ]
        },
        "xaxis40": {
         "anchor": "y40",
         "domain": [
          0.8968750000000001,
          1
         ]
        },
        "xaxis41": {
         "anchor": "y41",
         "domain": [
          0,
          0.103125
         ]
        },
        "xaxis42": {
         "anchor": "y42",
         "domain": [
          0.128125,
          0.23124999999999998
         ]
        },
        "xaxis43": {
         "anchor": "y43",
         "domain": [
          0.25625,
          0.359375
         ]
        },
        "xaxis44": {
         "anchor": "y44",
         "domain": [
          0.38437499999999997,
          0.48749999999999993
         ]
        },
        "xaxis45": {
         "anchor": "y45",
         "domain": [
          0.5125,
          0.615625
         ]
        },
        "xaxis46": {
         "anchor": "y46",
         "domain": [
          0.640625,
          0.74375
         ]
        },
        "xaxis47": {
         "anchor": "y47",
         "domain": [
          0.76875,
          0.8718750000000001
         ]
        },
        "xaxis48": {
         "anchor": "y48",
         "domain": [
          0.8968750000000001,
          1
         ]
        },
        "xaxis5": {
         "anchor": "y5",
         "domain": [
          0.5125,
          0.615625
         ]
        },
        "xaxis6": {
         "anchor": "y6",
         "domain": [
          0.640625,
          0.74375
         ]
        },
        "xaxis7": {
         "anchor": "y7",
         "domain": [
          0.76875,
          0.8718750000000001
         ]
        },
        "xaxis8": {
         "anchor": "y8",
         "domain": [
          0.8968750000000001,
          1
         ]
        },
        "xaxis9": {
         "anchor": "y9",
         "domain": [
          0,
          0.103125
         ]
        },
        "yaxis": {
         "anchor": "x",
         "domain": [
          0.8735632183908044,
          0.9999999999999998
         ]
        },
        "yaxis10": {
         "anchor": "x10",
         "domain": [
          0.6988505747126437,
          0.825287356321839
         ]
        },
        "yaxis11": {
         "anchor": "x11",
         "domain": [
          0.6988505747126437,
          0.825287356321839
         ]
        },
        "yaxis12": {
         "anchor": "x12",
         "domain": [
          0.6988505747126437,
          0.825287356321839
         ]
        },
        "yaxis13": {
         "anchor": "x13",
         "domain": [
          0.6988505747126437,
          0.825287356321839
         ]
        },
        "yaxis14": {
         "anchor": "x14",
         "domain": [
          0.6988505747126437,
          0.825287356321839
         ]
        },
        "yaxis15": {
         "anchor": "x15",
         "domain": [
          0.6988505747126437,
          0.825287356321839
         ]
        },
        "yaxis16": {
         "anchor": "x16",
         "domain": [
          0.6988505747126437,
          0.825287356321839
         ]
        },
        "yaxis17": {
         "anchor": "x17",
         "domain": [
          0.5241379310344827,
          0.650574712643678
         ]
        },
        "yaxis18": {
         "anchor": "x18",
         "domain": [
          0.5241379310344827,
          0.650574712643678
         ]
        },
        "yaxis19": {
         "anchor": "x19",
         "domain": [
          0.5241379310344827,
          0.650574712643678
         ]
        },
        "yaxis2": {
         "anchor": "x2",
         "domain": [
          0.8735632183908044,
          0.9999999999999998
         ]
        },
        "yaxis20": {
         "anchor": "x20",
         "domain": [
          0.5241379310344827,
          0.650574712643678
         ]
        },
        "yaxis21": {
         "anchor": "x21",
         "domain": [
          0.5241379310344827,
          0.650574712643678
         ]
        },
        "yaxis22": {
         "anchor": "x22",
         "domain": [
          0.5241379310344827,
          0.650574712643678
         ]
        },
        "yaxis23": {
         "anchor": "x23",
         "domain": [
          0.5241379310344827,
          0.650574712643678
         ]
        },
        "yaxis24": {
         "anchor": "x24",
         "domain": [
          0.5241379310344827,
          0.650574712643678
         ]
        },
        "yaxis25": {
         "anchor": "x25",
         "domain": [
          0.34942528735632183,
          0.4758620689655172
         ]
        },
        "yaxis26": {
         "anchor": "x26",
         "domain": [
          0.34942528735632183,
          0.4758620689655172
         ]
        },
        "yaxis27": {
         "anchor": "x27",
         "domain": [
          0.34942528735632183,
          0.4758620689655172
         ]
        },
        "yaxis28": {
         "anchor": "x28",
         "domain": [
          0.34942528735632183,
          0.4758620689655172
         ]
        },
        "yaxis29": {
         "anchor": "x29",
         "domain": [
          0.34942528735632183,
          0.4758620689655172
         ]
        },
        "yaxis3": {
         "anchor": "x3",
         "domain": [
          0.8735632183908044,
          0.9999999999999998
         ]
        },
        "yaxis30": {
         "anchor": "x30",
         "domain": [
          0.34942528735632183,
          0.4758620689655172
         ]
        },
        "yaxis31": {
         "anchor": "x31",
         "domain": [
          0.34942528735632183,
          0.4758620689655172
         ]
        },
        "yaxis32": {
         "anchor": "x32",
         "domain": [
          0.34942528735632183,
          0.4758620689655172
         ]
        },
        "yaxis33": {
         "anchor": "x33",
         "domain": [
          0.17471264367816092,
          0.30114942528735633
         ]
        },
        "yaxis34": {
         "anchor": "x34",
         "domain": [
          0.17471264367816092,
          0.30114942528735633
         ]
        },
        "yaxis35": {
         "anchor": "x35",
         "domain": [
          0.17471264367816092,
          0.30114942528735633
         ]
        },
        "yaxis36": {
         "anchor": "x36",
         "domain": [
          0.17471264367816092,
          0.30114942528735633
         ]
        },
        "yaxis37": {
         "anchor": "x37",
         "domain": [
          0.17471264367816092,
          0.30114942528735633
         ]
        },
        "yaxis38": {
         "anchor": "x38",
         "domain": [
          0.17471264367816092,
          0.30114942528735633
         ]
        },
        "yaxis39": {
         "anchor": "x39",
         "domain": [
          0.17471264367816092,
          0.30114942528735633
         ]
        },
        "yaxis4": {
         "anchor": "x4",
         "domain": [
          0.8735632183908044,
          0.9999999999999998
         ]
        },
        "yaxis40": {
         "anchor": "x40",
         "domain": [
          0.17471264367816092,
          0.30114942528735633
         ]
        },
        "yaxis41": {
         "anchor": "x41",
         "domain": [
          0,
          0.1264367816091954
         ]
        },
        "yaxis42": {
         "anchor": "x42",
         "domain": [
          0,
          0.1264367816091954
         ]
        },
        "yaxis43": {
         "anchor": "x43",
         "domain": [
          0,
          0.1264367816091954
         ]
        },
        "yaxis44": {
         "anchor": "x44",
         "domain": [
          0,
          0.1264367816091954
         ]
        },
        "yaxis45": {
         "anchor": "x45",
         "domain": [
          0,
          0.1264367816091954
         ]
        },
        "yaxis46": {
         "anchor": "x46",
         "domain": [
          0,
          0.1264367816091954
         ]
        },
        "yaxis47": {
         "anchor": "x47",
         "domain": [
          0,
          0.1264367816091954
         ]
        },
        "yaxis48": {
         "anchor": "x48",
         "domain": [
          0,
          0.1264367816091954
         ]
        },
        "yaxis5": {
         "anchor": "x5",
         "domain": [
          0.8735632183908044,
          0.9999999999999998
         ]
        },
        "yaxis6": {
         "anchor": "x6",
         "domain": [
          0.8735632183908044,
          0.9999999999999998
         ]
        },
        "yaxis7": {
         "anchor": "x7",
         "domain": [
          0.8735632183908044,
          0.9999999999999998
         ]
        },
        "yaxis8": {
         "anchor": "x8",
         "domain": [
          0.8735632183908044,
          0.9999999999999998
         ]
        },
        "yaxis9": {
         "anchor": "x9",
         "domain": [
          0.6988505747126437,
          0.825287356321839
         ]
        }
       }
      },
      "text/html": [
       "<div>                            <div id=\"1d1fe3ca-2402-4dee-941d-cbd1fd6a2042\" class=\"plotly-graph-div\" style=\"height:1450px; width:1800px;\"></div>            <script type=\"text/javascript\">                require([\"plotly\"], function(Plotly) {                    window.PLOTLYENV=window.PLOTLYENV || {};                                    if (document.getElementById(\"1d1fe3ca-2402-4dee-941d-cbd1fd6a2042\")) {                    Plotly.newPlot(                        \"1d1fe3ca-2402-4dee-941d-cbd1fd6a2042\",                        [{\"colorscale\":[[0.0,\"rgb(103,0,31)\"],[0.1,\"rgb(178,24,43)\"],[0.2,\"rgb(214,96,77)\"],[0.3,\"rgb(244,165,130)\"],[0.4,\"rgb(253,219,199)\"],[0.5,\"rgb(247,247,247)\"],[0.6,\"rgb(209,229,240)\"],[0.7,\"rgb(146,197,222)\"],[0.8,\"rgb(67,147,195)\"],[0.9,\"rgb(33,102,172)\"],[1.0,\"rgb(5,48,97)\"]],\"hoverongaps\":false,\"text\":[[\" \",\" \",\" \",\" \",\" \",\" \",\" \",\" \"],[\" \",\" \",\" \",\" \",\" \",\" \",\" \",\" \"],[\" \",\"\\u2593\",\" \",\" \",\" \",\" \",\" \",\" \"],[\" \",\" \",\" \",\" \",\" \",\" \",\" \",\" \"],[\" \",\" \",\" \",\" \",\" \",\" \",\" \",\" \"],[\" \",\" \",\" \",\" \",\" \",\" \",\" \",\" \"],[\" \",\" \",\" \",\" \",\" \",\" \",\" \",\" \"],[\" \",\" \",\" \",\" \",\" \",\" \",\" \",\" \"]],\"texttemplate\":\"%{text}\",\"x\":[0,1,2,3,4,5,6,7],\"y\":[\"H\",\"G\",\"F\",\"E\",\"D\",\"C\",\"B\",\"A\"],\"z\":[[0.5,0.011458218097686768,0.7629413604736328,0.39155113697052,0.5155847072601318,0.4714882969856262,0.9809215664863586,0.4999937415122986],[0.5,0.5,0.794864296913147,0.6693593263626099,0.38156819343566895,0.8210797309875488,0.5000008940696716,0.9639441967010498],[0.004373908042907715,0.8961135745048523,0.4323711693286896,0.15285378694534302,0.6923264265060425,0.4332772493362427,0.857837438583374,0.9212738871574402],[0.9999653100967407,0.5,0.4670102000236511,0.2912539839744568,0.5770214796066284,0.7247607111930847,0.4999999403953552,0.26654887199401855],[0.9997658133506775,0.9053469896316528,0.06321710348129272,0.1288781762123108,0.4797708988189697,0.6753562688827515,0.19476932287216187,0.15975692868232727],[0.5,0.7215558886528015,0.20958560705184937,0.47534656524658203,0.6390960216522217,0.3223922848701477,0.33168697357177734,0.3043181896209717],[0.5,0.13813596963882446,0.7296568155288696,0.3319571018218994,0.3281680941581726,0.6677661538124084,0.500004231929779,0.9241408109664917],[0.49999940395355225,0.5000309348106384,0.5000002980232239,0.49999991059303284,0.006171911954879761,0.49999484419822693,0.5000007748603821,0.49999988079071045]],\"zmax\":1.0,\"zmin\":0.0,\"type\":\"heatmap\",\"xaxis\":\"x\",\"yaxis\":\"y\"},{\"colorscale\":[[0.0,\"rgb(103,0,31)\"],[0.1,\"rgb(178,24,43)\"],[0.2,\"rgb(214,96,77)\"],[0.3,\"rgb(244,165,130)\"],[0.4,\"rgb(253,219,199)\"],[0.5,\"rgb(247,247,247)\"],[0.6,\"rgb(209,229,240)\"],[0.7,\"rgb(146,197,222)\"],[0.8,\"rgb(67,147,195)\"],[0.9,\"rgb(33,102,172)\"],[1.0,\"rgb(5,48,97)\"]],\"hoverongaps\":false,\"text\":[[\" \",\" \",\" \",\" \",\" \",\" \",\" \",\" \"],[\" \",\" \",\" \",\" \",\" \",\" \",\" \",\" \"],[\" \",\"\\u2588\",\" \",\" \",\" \",\" \",\" \",\" \"],[\" \",\" \",\" \",\" \",\" \",\" \",\" \",\" \"],[\" \",\" \",\" \",\" \",\" \",\" \",\" \",\" \"],[\" \",\" \",\"\\u2591\",\" \",\" \",\" \",\" \",\" \"],[\" \",\" \",\" \",\" \",\" \",\" \",\" \",\" \"],[\" \",\" \",\" \",\" \",\" \",\" \",\" \",\" \"]],\"texttemplate\":\"%{text}\",\"x\":[0,1,2,3,4,5,6,7],\"y\":[\"H\",\"G\",\"F\",\"E\",\"D\",\"C\",\"B\",\"A\"],\"z\":[[0.4998771548271179,0.0032394826412200928,0.8643537163734436,0.18207469582557678,0.1932309865951538,0.5371562242507935,0.9966331720352173,0.5000061392784119],[0.4999943673610687,0.49999940395355225,0.9456417560577393,0.695848286151886,0.3209419846534729,0.9797141551971436,0.500037431716919,0.9963445067405701],[0.0005437731742858887,0.8359659910202026,0.40139877796173096,0.13358700275421143,0.8633532524108887,0.7552543878555298,0.9199714064598083,0.9984824657440186],[0.9906771183013916,0.5,0.08199349045753479,0.38217777013778687,0.5014474391937256,0.8900578022003174,0.49999985098838806,0.9762414693832397],[0.9994877576828003,0.11486783623695374,0.0596335232257843,0.041033804416656494,0.6526891589164734,0.4069073796272278,0.043456196784973145,0.9910246133804321],[0.4999997019767761,0.7142330408096313,0.05714213848114014,0.499573290348053,0.25212639570236206,0.17681434750556946,0.07002601027488708,0.9811753034591675],[0.5000007748603821,0.010922878980636597,0.990890622138977,0.2955363094806671,0.2361527681350708,0.49193447828292847,0.4999978542327881,0.9990924596786499],[0.49994713068008423,0.49995771050453186,0.4999747574329376,0.49990788102149963,8.779764175415039e-05,0.49733495712280273,0.4999615550041199,0.4999367296695709]],\"zmax\":1.0,\"zmin\":0.0,\"type\":\"heatmap\",\"xaxis\":\"x2\",\"yaxis\":\"y2\"},{\"colorscale\":[[0.0,\"rgb(103,0,31)\"],[0.1,\"rgb(178,24,43)\"],[0.2,\"rgb(214,96,77)\"],[0.3,\"rgb(244,165,130)\"],[0.4,\"rgb(253,219,199)\"],[0.5,\"rgb(247,247,247)\"],[0.6,\"rgb(209,229,240)\"],[0.7,\"rgb(146,197,222)\"],[0.8,\"rgb(67,147,195)\"],[0.9,\"rgb(33,102,172)\"],[1.0,\"rgb(5,48,97)\"]],\"hoverongaps\":false,\"text\":[[\" \",\" \",\" \",\" \",\" \",\" \",\" \",\" \"],[\" \",\" \",\" \",\" \",\" \",\" \",\" \",\" \"],[\" \",\"\\u2588\",\" \",\" \",\" \",\" \",\" \",\" \"],[\" \",\" \",\" \",\" \",\" \",\" \",\" \",\" \"],[\" \",\"\\u2593\",\" \",\" \",\" \",\" \",\" \",\" \"],[\" \",\" \",\"\\u2591\",\" \",\" \",\" \",\" \",\" \"],[\" \",\" \",\" \",\" \",\" \",\" \",\" \",\" \"],[\" \",\" \",\" \",\" \",\" \",\" \",\" \",\" \"]],\"texttemplate\":\"%{text}\",\"x\":[0,1,2,3,4,5,6,7],\"y\":[\"H\",\"G\",\"F\",\"E\",\"D\",\"C\",\"B\",\"A\"],\"z\":[[0.49997225403785706,0.0025126636028289795,0.9898886680603027,0.9969997406005859,0.9894635677337646,0.9935463666915894,0.9986398816108704,0.4999587833881378],[0.49999845027923584,0.5000001788139343,0.9987164735794067,0.8452550172805786,0.07227781414985657,0.9853326678276062,0.4996410012245178,0.9989196062088013],[0.00013944506645202637,0.9936871528625488,0.024298280477523804,0.002394735813140869,0.6532290577888489,0.9422143697738647,0.9405324459075928,0.993459939956665],[0.9996367692947388,0.4999981224536896,0.03345143795013428,0.17268621921539307,0.37574049830436707,0.7206738591194153,0.5000011324882507,0.9977241158485413],[0.9999595880508423,0.08921518921852112,0.016379058361053467,0.009383589029312134,0.7351868748664856,0.22400516271591187,0.10527634620666504,0.9792789220809937],[0.500054121017456,0.9982625246047974,0.2314404547214508,0.24517697095870972,0.1690559983253479,0.13022178411483765,0.03122413158416748,0.9953839182853699],[0.49998635053634644,0.01911693811416626,0.9993610382080078,0.6723076105117798,0.22198796272277832,0.28860560059547424,0.4997676610946655,0.9903241395950317],[0.4998916983604431,0.4994509816169739,0.49994876980781555,0.5000088214874268,0.004696011543273926,0.4987178146839142,0.4999696910381317,0.49988582730293274]],\"zmax\":1.0,\"zmin\":0.0,\"type\":\"heatmap\",\"xaxis\":\"x3\",\"yaxis\":\"y3\"},{\"colorscale\":[[0.0,\"rgb(103,0,31)\"],[0.1,\"rgb(178,24,43)\"],[0.2,\"rgb(214,96,77)\"],[0.3,\"rgb(244,165,130)\"],[0.4,\"rgb(253,219,199)\"],[0.5,\"rgb(247,247,247)\"],[0.6,\"rgb(209,229,240)\"],[0.7,\"rgb(146,197,222)\"],[0.8,\"rgb(67,147,195)\"],[0.9,\"rgb(33,102,172)\"],[1.0,\"rgb(5,48,97)\"]],\"hoverongaps\":false,\"text\":[[\" \",\" \",\" \",\" \",\" \",\" \",\" \",\" \"],[\" \",\" \",\" \",\" \",\" \",\" \",\" \",\" \"],[\" \",\"\\u2588\",\" \",\" \",\" \",\" \",\" \",\" \"],[\" \",\" \",\" \",\" \",\" \",\" \",\" \",\" \"],[\" \",\" \",\" \",\" \",\" \",\" \",\" \",\" \"],[\" \",\" \",\" \",\" \",\" \",\" \",\" \",\" \"],[\" \",\" \",\" \",\" \",\" \",\" \",\" \",\" \"],[\" \",\" \",\" \",\" \",\" \",\" \",\" \",\" \"]],\"texttemplate\":\"%{text}\",\"x\":[0,1,2,3,4,5,6,7],\"y\":[\"H\",\"G\",\"F\",\"E\",\"D\",\"C\",\"B\",\"A\"],\"z\":[[0.49991557002067566,0.0004534125328063965,0.979370653629303,0.998214840888977,0.9946866035461426,0.9936821460723877,0.9972240924835205,0.5000032186508179],[0.4999851882457733,0.5000090003013611,0.9904892444610596,0.9246726036071777,0.1501511037349701,0.9630743265151978,0.5013574361801147,0.9967209100723267],[0.009447544813156128,0.9990283250808716,0.00817456841468811,0.008473187685012817,0.9769436120986938,0.9353431463241577,0.9681702256202698,0.9834766387939453],[0.9928218722343445,0.49992138147354126,0.005748540163040161,0.07980823516845703,0.13893762230873108,0.7634314298629761,0.4999736547470093,0.9852131605148315],[0.9997097253799438,0.02574017643928528,0.005230158567428589,0.0392281711101532,0.9268379807472229,0.06066632270812988,0.04816931486129761,0.991390585899353],[0.5000365376472473,0.9979289770126343,0.1101563572883606,0.00717848539352417,0.01754772663116455,0.04267364740371704,0.0073728859424591064,0.9760951995849609],[0.5001583099365234,0.006512194871902466,0.996383786201477,0.06031963229179382,0.010041624307632446,0.027723252773284912,0.4987507164478302,0.9969304800033569],[0.5001418590545654,0.5026543140411377,0.5001410841941833,0.4998202323913574,0.0020738840103149414,0.4984534680843353,0.5000117421150208,0.49974945187568665]],\"zmax\":1.0,\"zmin\":0.0,\"type\":\"heatmap\",\"xaxis\":\"x4\",\"yaxis\":\"y4\"},{\"colorscale\":[[0.0,\"rgb(103,0,31)\"],[0.1,\"rgb(178,24,43)\"],[0.2,\"rgb(214,96,77)\"],[0.3,\"rgb(244,165,130)\"],[0.4,\"rgb(253,219,199)\"],[0.5,\"rgb(247,247,247)\"],[0.6,\"rgb(209,229,240)\"],[0.7,\"rgb(146,197,222)\"],[0.8,\"rgb(67,147,195)\"],[0.9,\"rgb(33,102,172)\"],[1.0,\"rgb(5,48,97)\"]],\"hoverongaps\":false,\"text\":[[\" \",\" \",\" \",\" \",\" \",\" \",\" \",\" \"],[\" \",\" \",\" \",\" \",\" \",\" \",\" \",\" \"],[\" \",\"\\u2588\",\" \",\" \",\" \",\" \",\" \",\" \"],[\" \",\" \",\" \",\" \",\" \",\" \",\" \",\" \"],[\" \",\" \",\" \",\" \",\" \",\" \",\" \",\" \"],[\" \",\" \",\" \",\" \",\" \",\" \",\" \",\" \"],[\" \",\" \",\" \",\" \",\" \",\" \",\" \",\" \"],[\" \",\" \",\" \",\" \",\" \",\" \",\" \",\" \"]],\"texttemplate\":\"%{text}\",\"x\":[0,1,2,3,4,5,6,7],\"y\":[\"H\",\"G\",\"F\",\"E\",\"D\",\"C\",\"B\",\"A\"],\"z\":[[0.500053346157074,0.0004911124706268311,0.9882069826126099,0.9987910985946655,0.9992631673812866,0.9933081865310669,0.9999186992645264,0.5001204013824463],[0.4999970495700836,0.5000070929527283,0.9965211153030396,0.9831609129905701,0.06158018112182617,0.9183460474014282,0.500174343585968,0.9981473684310913],[0.0063010454177856445,0.9990925788879395,0.008731961250305176,0.01838669180870056,0.9960230588912964,0.9580838680267334,0.9886162877082825,0.9961283206939697],[0.9990092515945435,0.4999968111515045,0.06472077965736389,0.24197912216186523,0.24077874422073364,0.9971051216125488,0.4999465048313141,0.9843040108680725],[0.9999991655349731,0.0001475811004638672,0.001784294843673706,0.01516801118850708,0.997369110584259,0.030374616384506226,0.007343381643295288,0.9917676448822021],[0.5000438690185547,0.9997040033340454,0.00018712878227233887,0.02040424942970276,0.006956309080123901,0.02754509449005127,0.030066370964050293,0.9754838943481445],[0.5000293850898743,0.003853440284729004,0.9993663430213928,0.003409862518310547,0.008204072713851929,0.005456060171127319,0.49966031312942505,0.9862689971923828],[0.4991195797920227,0.49884945154190063,0.4999743103981018,0.5000331997871399,0.0010650455951690674,0.5000989437103271,0.5001330971717834,0.49901971220970154]],\"zmax\":1.0,\"zmin\":0.0,\"type\":\"heatmap\",\"xaxis\":\"x5\",\"yaxis\":\"y5\"},{\"colorscale\":[[0.0,\"rgb(103,0,31)\"],[0.1,\"rgb(178,24,43)\"],[0.2,\"rgb(214,96,77)\"],[0.3,\"rgb(244,165,130)\"],[0.4,\"rgb(253,219,199)\"],[0.5,\"rgb(247,247,247)\"],[0.6,\"rgb(209,229,240)\"],[0.7,\"rgb(146,197,222)\"],[0.8,\"rgb(67,147,195)\"],[0.9,\"rgb(33,102,172)\"],[1.0,\"rgb(5,48,97)\"]],\"hoverongaps\":false,\"text\":[[\" \",\" \",\" \",\" \",\" \",\" \",\" \",\" \"],[\" \",\" \",\" \",\" \",\" \",\" \",\" \",\" \"],[\" \",\"\\u2588\",\" \",\" \",\" \",\" \",\" \",\" \"],[\" \",\"\\u2592\",\" \",\" \",\" \",\" \",\" \",\" \"],[\" \",\" \",\" \",\" \",\" \",\" \",\" \",\" \"],[\" \",\" \",\" \",\" \",\" \",\" \",\" \",\" \"],[\" \",\" \",\" \",\" \",\" \",\" \",\" \",\" \"],[\" \",\" \",\" \",\" \",\" \",\" \",\" \",\" \"]],\"texttemplate\":\"%{text}\",\"x\":[0,1,2,3,4,5,6,7],\"y\":[\"H\",\"G\",\"F\",\"E\",\"D\",\"C\",\"B\",\"A\"],\"z\":[[0.5000020861625671,0.0008275806903839111,0.9997972249984741,0.9996811747550964,0.9985686540603638,0.9998831748962402,0.9999945163726807,0.5000978112220764],[0.5,0.4999999701976776,0.9661974906921387,0.9677578806877136,0.0007397234439849854,0.996641218662262,0.5000002980232239,0.9995870590209961],[8.824467658996582e-05,0.9955441951751709,0.0016616284847259521,0.001224219799041748,0.9927387237548828,0.9959465265274048,0.9994141459465027,0.9974367618560791],[0.9969301223754883,0.4999990463256836,0.0008034408092498779,0.05191105604171753,0.08144232630729675,0.9976387023925781,0.49999842047691345,0.994391918182373],[0.9999974966049194,0.0035364627838134766,0.002052605152130127,0.0032115280628204346,0.9987349510192871,0.0037857890129089355,0.0019438862800598145,0.9867556691169739],[0.5000001788139343,0.9999079704284668,0.0014515817165374756,0.0009214580059051514,0.009595751762390137,0.01062658429145813,0.005080580711364746,0.9924463629722595],[0.5,9.748339653015137e-05,0.9999717473983765,2.9861927032470703e-05,0.0009872019290924072,0.0001768171787261963,0.4997050166130066,0.9857535362243652],[0.4994890093803406,0.5,0.5,0.49997642636299133,0.00018203258514404297,0.49999627470970154,0.4995056688785553,0.49939194321632385]],\"zmax\":1.0,\"zmin\":0.0,\"type\":\"heatmap\",\"xaxis\":\"x6\",\"yaxis\":\"y6\"},{\"colorscale\":[[0.0,\"rgb(103,0,31)\"],[0.1,\"rgb(178,24,43)\"],[0.2,\"rgb(214,96,77)\"],[0.3,\"rgb(244,165,130)\"],[0.4,\"rgb(253,219,199)\"],[0.5,\"rgb(247,247,247)\"],[0.6,\"rgb(209,229,240)\"],[0.7,\"rgb(146,197,222)\"],[0.8,\"rgb(67,147,195)\"],[0.9,\"rgb(33,102,172)\"],[1.0,\"rgb(5,48,97)\"]],\"hoverongaps\":false,\"text\":[[\" \",\" \",\" \",\" \",\" \",\" \",\" \",\" \"],[\" \",\" \",\" \",\" \",\" \",\" \",\" \",\" \"],[\" \",\"\\u2588\",\" \",\" \",\" \",\" \",\" \",\" \"],[\" \",\" \",\" \",\" \",\" \",\" \",\" \",\" \"],[\" \",\" \",\" \",\" \",\" \",\" \",\" \",\" \"],[\" \",\" \",\" \",\" \",\" \",\" \",\" \",\" \"],[\" \",\" \",\" \",\" \",\" \",\" \",\" \",\" \"],[\" \",\" \",\" \",\" \",\" \",\" \",\" \",\" \"]],\"texttemplate\":\"%{text}\",\"x\":[0,1,2,3,4,5,6,7],\"y\":[\"H\",\"G\",\"F\",\"E\",\"D\",\"C\",\"B\",\"A\"],\"z\":[[0.5000003576278687,0.009831905364990234,0.9999707937240601,0.9979437589645386,0.9997832775115967,0.999822735786438,0.9999983310699463,0.5],[0.5,0.5,0.9869780540466309,0.9745361804962158,0.00042742490768432617,0.9997923374176025,0.5,0.999817430973053],[0.0016787350177764893,0.9992705583572388,0.00515332818031311,0.002174288034439087,0.9985259771347046,0.9990755319595337,0.9995927214622498,0.9999913573265076],[0.9990276098251343,0.5,0.0005300641059875488,0.004639565944671631,0.009846776723861694,0.9986139535903931,0.5,0.9899994134902954],[0.9999867677688599,0.00017318129539489746,0.0006808042526245117,0.011279642581939697,0.9939360022544861,0.0017258822917938232,0.0016530752182006836,0.9987925291061401],[0.5000001192092896,0.9999831914901733,0.005798906087875366,0.014542877674102783,0.008771181106567383,0.004594326019287109,0.0008335113525390625,0.9949804544448853],[0.5,0.0038779377937316895,0.9996387958526611,0.00016701221466064453,0.0006403028964996338,0.0002713203430175781,0.4999999701976776,0.9963923096656799],[0.475205659866333,0.5,0.5,0.5002670884132385,0.0011427700519561768,0.4999871551990509,0.49680426716804504,0.5001347661018372]],\"zmax\":1.0,\"zmin\":0.0,\"type\":\"heatmap\",\"xaxis\":\"x7\",\"yaxis\":\"y7\"},{\"colorscale\":[[0.0,\"rgb(103,0,31)\"],[0.1,\"rgb(178,24,43)\"],[0.2,\"rgb(214,96,77)\"],[0.3,\"rgb(244,165,130)\"],[0.4,\"rgb(253,219,199)\"],[0.5,\"rgb(247,247,247)\"],[0.6,\"rgb(209,229,240)\"],[0.7,\"rgb(146,197,222)\"],[0.8,\"rgb(67,147,195)\"],[0.9,\"rgb(33,102,172)\"],[1.0,\"rgb(5,48,97)\"]],\"hoverongaps\":false,\"text\":[[\" \",\" \",\" \",\" \",\" \",\" \",\" \",\" \"],[\" \",\" \",\" \",\" \",\" \",\" \",\" \",\" \"],[\" \",\"\\u2588\",\" \",\" \",\" \",\" \",\" \",\" \"],[\" \",\" \",\" \",\" \",\" \",\" \",\" \",\" \"],[\" \",\" \",\" \",\" \",\" \",\" \",\" \",\" \"],[\" \",\" \",\" \",\" \",\" \",\" \",\" \",\" \"],[\" \",\" \",\" \",\" \",\" \",\" \",\" \",\" \"],[\" \",\" \",\" \",\" \",\" \",\" \",\" \",\" \"]],\"texttemplate\":\"%{text}\",\"x\":[0,1,2,3,4,5,6,7],\"y\":[\"H\",\"G\",\"F\",\"E\",\"D\",\"C\",\"B\",\"A\"],\"z\":[[0.5000025033950806,0.00601804256439209,0.9999759197235107,0.9979641437530518,0.9996531009674072,0.9999836683273315,0.999998927116394,0.5],[0.5,0.5,0.9809294939041138,0.9950531721115112,0.0004944801330566406,0.9999643564224243,0.5,0.9997041821479797],[0.0014505088329315186,0.999884843826294,0.028729021549224854,0.014815300703048706,0.9974496364593506,0.9993410706520081,0.9990615844726562,0.9999647736549377],[0.9999680519104004,0.500001847743988,0.0027372539043426514,0.02467206120491028,0.028021037578582764,0.997704803943634,0.5,0.9972482323646545],[0.9999979734420776,0.002348482608795166,0.002466142177581787,0.006146907806396484,0.9852547645568848,0.002757430076599121,0.0037031471729278564,0.9851367473602295],[0.5000017285346985,0.9996662139892578,0.009927928447723389,0.011106908321380615,0.004907369613647461,0.010212302207946777,0.000682443380355835,0.98595130443573],[0.5,0.000917285680770874,0.9999425411224365,0.0013654232025146484,0.0012729167938232422,0.0008313953876495361,0.4999907910823822,0.9856228828430176],[0.44064807891845703,0.5,0.5,0.5093103051185608,0.00015795230865478516,0.49975821375846863,0.4993179440498352,0.5038638114929199]],\"zmax\":1.0,\"zmin\":0.0,\"type\":\"heatmap\",\"xaxis\":\"x8\",\"yaxis\":\"y8\"},{\"colorscale\":[[0.0,\"rgb(103,0,31)\"],[0.1,\"rgb(178,24,43)\"],[0.2,\"rgb(214,96,77)\"],[0.3,\"rgb(244,165,130)\"],[0.4,\"rgb(253,219,199)\"],[0.5,\"rgb(247,247,247)\"],[0.6,\"rgb(209,229,240)\"],[0.7,\"rgb(146,197,222)\"],[0.8,\"rgb(67,147,195)\"],[0.9,\"rgb(33,102,172)\"],[1.0,\"rgb(5,48,97)\"]],\"hoverongaps\":false,\"text\":[[\" \",\" \",\" \",\" \",\" \",\" \",\" \",\" \"],[\" \",\" \",\" \",\" \",\" \",\" \",\" \",\" \"],[\" \",\" \",\" \",\" \",\" \",\" \",\" \",\" \"],[\" \",\" \",\" \",\" \",\" \",\" \",\" \",\" \"],[\" \",\" \",\" \",\" \",\"\\u2592\",\" \",\" \",\" \"],[\" \",\" \",\" \",\"\\u2593\",\" \",\" \",\" \",\" \"],[\" \",\" \",\"\\u2588\",\" \",\" \",\" \",\" \",\" \"],[\" \",\" \",\" \",\" \",\" \",\" \",\" \",\" \"]],\"texttemplate\":\"%{text}\",\"x\":[0,1,2,3,4,5,6,7],\"y\":[\"H\",\"G\",\"F\",\"E\",\"D\",\"C\",\"B\",\"A\"],\"z\":[[0.5000016093254089,0.06006023287773132,0.7378899455070496,0.3172086477279663,0.37328046560287476,0.4634317457675934,0.9636547565460205,0.500002384185791],[0.4999845325946808,0.5,0.7823060750961304,0.4913371205329895,0.2640712261199951,0.718513011932373,0.5000106692314148,0.9804624915122986],[0.05735296010971069,0.5763058066368103,0.5484879016876221,0.106233149766922,0.7057182788848877,0.35032540559768677,0.5291032195091248,0.9540063738822937],[0.9943363666534424,0.5,0.7661588191986084,0.6958191990852356,0.3919556140899658,0.32335150241851807,0.500007688999176,0.4701002240180969],[0.9962340593338013,0.9649490118026733,0.7674553394317627,0.19725435972213745,0.17145708203315735,0.7632467150688171,0.12102213501930237,0.20128664374351501],[0.5,0.9189413785934448,0.4684397578239441,0.047628939151763916,0.43956440687179565,0.3806314468383789,0.18723243474960327,0.4213537573814392],[0.4999999701976776,0.013521671295166016,0.01870638132095337,0.7127662897109985,0.4716581404209137,0.6916563510894775,0.5000028014183044,0.9748373031616211],[0.5,0.00044208765029907227,0.5,0.5,0.01209285855293274,0.5000000596046448,0.5000000596046448,0.5000001788139343]],\"zmax\":1.0,\"zmin\":0.0,\"type\":\"heatmap\",\"xaxis\":\"x9\",\"yaxis\":\"y9\"},{\"colorscale\":[[0.0,\"rgb(103,0,31)\"],[0.1,\"rgb(178,24,43)\"],[0.2,\"rgb(214,96,77)\"],[0.3,\"rgb(244,165,130)\"],[0.4,\"rgb(253,219,199)\"],[0.5,\"rgb(247,247,247)\"],[0.6,\"rgb(209,229,240)\"],[0.7,\"rgb(146,197,222)\"],[0.8,\"rgb(67,147,195)\"],[0.9,\"rgb(33,102,172)\"],[1.0,\"rgb(5,48,97)\"]],\"hoverongaps\":false,\"text\":[[\" \",\" \",\" \",\" \",\" \",\" \",\" \",\" \"],[\" \",\" \",\" \",\" \",\" \",\" \",\" \",\" \"],[\" \",\" \",\" \",\" \",\" \",\" \",\" \",\" \"],[\" \",\" \",\" \",\" \",\" \",\" \",\" \",\" \"],[\" \",\" \",\" \",\" \",\" \",\" \",\" \",\" \"],[\" \",\" \",\" \",\" \",\" \",\" \",\" \",\" \"],[\" \",\" \",\"\\u2588\",\" \",\" \",\" \",\" \",\" \"],[\" \",\" \",\" \",\" \",\" \",\" \",\" \",\" \"]],\"texttemplate\":\"%{text}\",\"x\":[0,1,2,3,4,5,6,7],\"y\":[\"H\",\"G\",\"F\",\"E\",\"D\",\"C\",\"B\",\"A\"],\"z\":[[0.5000125765800476,0.018334895372390747,0.9746500253677368,0.7907751798629761,0.8797362446784973,0.9874378442764282,0.9997361302375793,0.5000011920928955],[0.5000920295715332,0.5000011920928955,0.9463143944740295,0.8125705122947693,0.7484973669052124,0.9718203544616699,0.5000218152999878,0.9997762441635132],[0.004114508628845215,0.9329440593719482,0.14119598269462585,0.1834876537322998,0.8973655700683594,0.6939460039138794,0.9130674600601196,0.9922348260879517],[0.9993827939033508,0.5000007748603821,0.06802666187286377,0.3912736773490906,0.2756999135017395,0.798154354095459,0.5000252723693848,0.36388882994651794],[0.9999565482139587,0.46094614267349243,0.02983275055885315,0.04106101393699646,0.2720569372177124,0.4963892102241516,0.06584465503692627,0.060735225677490234],[0.5000021457672119,0.9950475692749023,0.014600157737731934,0.0034262239933013916,0.382378488779068,0.15275433659553528,0.040779441595077515,0.7150318622589111],[0.50001060962677,0.00012487173080444336,0.0022652149200439453,0.35393092036247253,0.09497436881065369,0.3910480737686157,0.49999773502349854,0.9906352162361145],[0.5,0.012924373149871826,0.5000002384185791,0.5,0.005615681409835815,0.5000043511390686,0.5000503659248352,0.5000004768371582]],\"zmax\":1.0,\"zmin\":0.0,\"type\":\"heatmap\",\"xaxis\":\"x10\",\"yaxis\":\"y10\"},{\"colorscale\":[[0.0,\"rgb(103,0,31)\"],[0.1,\"rgb(178,24,43)\"],[0.2,\"rgb(214,96,77)\"],[0.3,\"rgb(244,165,130)\"],[0.4,\"rgb(253,219,199)\"],[0.5,\"rgb(247,247,247)\"],[0.6,\"rgb(209,229,240)\"],[0.7,\"rgb(146,197,222)\"],[0.8,\"rgb(67,147,195)\"],[0.9,\"rgb(33,102,172)\"],[1.0,\"rgb(5,48,97)\"]],\"hoverongaps\":false,\"text\":[[\" \",\" \",\" \",\" \",\" \",\" \",\" \",\" \"],[\" \",\" \",\" \",\" \",\" \",\" \",\" \",\" \"],[\" \",\" \",\" \",\" \",\" \",\" \",\" \",\" \"],[\" \",\" \",\" \",\" \",\" \",\" \",\" \",\" \"],[\" \",\" \",\" \",\" \",\" \",\" \",\" \",\" \"],[\" \",\" \",\" \",\" \",\" \",\" \",\" \",\" \"],[\" \",\" \",\"\\u2588\",\" \",\" \",\" \",\" \",\" \"],[\" \",\" \",\" \",\" \",\" \",\" \",\" \",\" \"]],\"texttemplate\":\"%{text}\",\"x\":[0,1,2,3,4,5,6,7],\"y\":[\"H\",\"G\",\"F\",\"E\",\"D\",\"C\",\"B\",\"A\"],\"z\":[[0.49999743700027466,0.0018776953220367432,0.9938705563545227,0.9554822444915771,0.9719102382659912,0.9808632135391235,0.999191164970398,0.49998724460601807],[0.4999213218688965,0.500054657459259,0.9902869462966919,0.6182144284248352,0.43079471588134766,0.988354504108429,0.5000789165496826,0.9985020160675049],[0.0002155900001525879,0.9928741455078125,0.015783190727233887,0.005789905786514282,0.8271641731262207,0.9607051014900208,0.9912396669387817,0.9993070363998413],[0.999718189239502,0.4999266564846039,0.04276806116104126,0.10220050811767578,0.4705185890197754,0.5645815134048462,0.500034749507904,0.9989296197891235],[0.9995501041412354,0.011879801750183105,0.0022947192192077637,0.008419454097747803,0.6942870616912842,0.05769014358520508,0.0745747983455658,0.9935288429260254],[0.500005304813385,0.9975796937942505,0.17471927404403687,0.0007451176643371582,0.0908588171005249,0.005661636590957642,0.01719418168067932,0.9988905191421509],[0.5000258684158325,0.000362396240234375,0.0005055665969848633,0.5336441397666931,0.03300786018371582,0.13605642318725586,0.49999263882637024,0.9990874528884888],[0.4999999701976776,0.007133364677429199,0.5000022649765015,0.49999862909317017,0.0007340908050537109,0.49995869398117065,0.4995289444923401,0.49998655915260315]],\"zmax\":1.0,\"zmin\":0.0,\"type\":\"heatmap\",\"xaxis\":\"x11\",\"yaxis\":\"y11\"},{\"colorscale\":[[0.0,\"rgb(103,0,31)\"],[0.1,\"rgb(178,24,43)\"],[0.2,\"rgb(214,96,77)\"],[0.3,\"rgb(244,165,130)\"],[0.4,\"rgb(253,219,199)\"],[0.5,\"rgb(247,247,247)\"],[0.6,\"rgb(209,229,240)\"],[0.7,\"rgb(146,197,222)\"],[0.8,\"rgb(67,147,195)\"],[0.9,\"rgb(33,102,172)\"],[1.0,\"rgb(5,48,97)\"]],\"hoverongaps\":false,\"text\":[[\" \",\" \",\" \",\" \",\" \",\" \",\" \",\" \"],[\" \",\" \",\" \",\" \",\" \",\" \",\" \",\" \"],[\" \",\" \",\" \",\" \",\" \",\" \",\" \",\" \"],[\" \",\" \",\" \",\" \",\" \",\" \",\" \",\" \"],[\" \",\" \",\" \",\" \",\" \",\" \",\" \",\" \"],[\" \",\" \",\" \",\" \",\" \",\" \",\" \",\" \"],[\" \",\" \",\"\\u2588\",\" \",\" \",\" \",\" \",\" \"],[\" \",\" \",\" \",\" \",\" \",\" \",\" \",\" \"]],\"texttemplate\":\"%{text}\",\"x\":[0,1,2,3,4,5,6,7],\"y\":[\"H\",\"G\",\"F\",\"E\",\"D\",\"C\",\"B\",\"A\"],\"z\":[[0.5000184178352356,0.009483307600021362,0.9982314109802246,0.9959903955459595,0.9993934035301208,0.9931061267852783,0.9998670816421509,0.5000048875808716],[0.5000138878822327,0.501042902469635,0.9989867210388184,0.9568139910697937,0.21852624416351318,0.914566695690155,0.5003291964530945,0.9981399774551392],[0.0019872188568115234,0.9995827078819275,0.013130486011505127,0.025223582983016968,0.9913324117660522,0.9826244115829468,0.9900349378585815,0.9953926801681519],[0.999822735786438,0.4997723400592804,0.008184462785720825,0.04320782423019409,0.15557286143302917,0.6161965131759644,0.50006103515625,0.9966999292373657],[0.9992884993553162,0.29679346084594727,0.002457737922668457,0.008501499891281128,0.9764420986175537,0.11720752716064453,0.10528621077537537,0.9914051294326782],[0.5000540614128113,0.9997932314872742,0.03830611705780029,0.0006103515625,0.01819571852684021,0.010824143886566162,0.028110653162002563,0.9975219964981079],[0.49994122982025146,0.003434687852859497,0.0009874999523162842,0.011744469404220581,0.006133854389190674,0.003805786371231079,0.49997881054878235,0.9755887985229492],[0.4999890923500061,0.0014990568161010742,0.5000354051589966,0.5000001788139343,0.0025776326656341553,0.49985024333000183,0.4998818039894104,0.4996607303619385]],\"zmax\":1.0,\"zmin\":0.0,\"type\":\"heatmap\",\"xaxis\":\"x12\",\"yaxis\":\"y12\"},{\"colorscale\":[[0.0,\"rgb(103,0,31)\"],[0.1,\"rgb(178,24,43)\"],[0.2,\"rgb(214,96,77)\"],[0.3,\"rgb(244,165,130)\"],[0.4,\"rgb(253,219,199)\"],[0.5,\"rgb(247,247,247)\"],[0.6,\"rgb(209,229,240)\"],[0.7,\"rgb(146,197,222)\"],[0.8,\"rgb(67,147,195)\"],[0.9,\"rgb(33,102,172)\"],[1.0,\"rgb(5,48,97)\"]],\"hoverongaps\":false,\"text\":[[\" \",\" \",\" \",\" \",\" \",\" \",\" \",\" \"],[\" \",\" \",\" \",\" \",\" \",\" \",\" \",\" \"],[\" \",\" \",\" \",\" \",\" \",\" \",\" \",\" \"],[\" \",\" \",\" \",\" \",\" \",\" \",\" \",\" \"],[\" \",\" \",\" \",\" \",\" \",\" \",\" \",\" \"],[\" \",\" \",\" \",\" \",\" \",\" \",\" \",\" \"],[\" \",\" \",\"\\u2588\",\" \",\" \",\" \",\" \",\" \"],[\" \",\" \",\" \",\" \",\" \",\" \",\" \",\" \"]],\"texttemplate\":\"%{text}\",\"x\":[0,1,2,3,4,5,6,7],\"y\":[\"H\",\"G\",\"F\",\"E\",\"D\",\"C\",\"B\",\"A\"],\"z\":[[0.49998462200164795,0.057724833488464355,0.999187707901001,0.9983961582183838,0.9990147352218628,0.9997379779815674,0.9997918009757996,0.5002411007881165],[0.5001066327095032,0.5000945329666138,0.9993956089019775,0.9941155910491943,0.08081108331680298,0.9724612832069397,0.5009271502494812,0.9966310858726501],[0.000387340784072876,0.999813437461853,0.0036087632179260254,0.03419899940490723,0.9907345771789551,0.9378721714019775,0.9899269938468933,0.9981600046157837],[0.999652087688446,0.49998679757118225,0.00804850459098816,0.16233202815055847,0.032428205013275146,0.9709358215332031,0.5000089406967163,0.9991846084594727],[0.999608039855957,0.0011947453022003174,0.000282973051071167,0.0013755261898040771,0.9774720668792725,0.026110917329788208,0.011464178562164307,0.9950741529464722],[0.4999989867210388,0.9996641874313354,0.023651719093322754,0.00016263127326965332,0.0023079514503479004,0.009722381830215454,0.024826407432556152,0.9998327493667603],[0.49996325373649597,0.0019057989120483398,0.00018990039825439453,0.007644474506378174,0.0047904253005981445,0.00040918588638305664,0.49998319149017334,0.9990037083625793],[0.49997127056121826,0.0016345083713531494,0.49997368454933167,0.4999949336051941,0.00047087669372558594,0.499808669090271,0.4999350607395172,0.49876049160957336]],\"zmax\":1.0,\"zmin\":0.0,\"type\":\"heatmap\",\"xaxis\":\"x13\",\"yaxis\":\"y13\"},{\"colorscale\":[[0.0,\"rgb(103,0,31)\"],[0.1,\"rgb(178,24,43)\"],[0.2,\"rgb(214,96,77)\"],[0.3,\"rgb(244,165,130)\"],[0.4,\"rgb(253,219,199)\"],[0.5,\"rgb(247,247,247)\"],[0.6,\"rgb(209,229,240)\"],[0.7,\"rgb(146,197,222)\"],[0.8,\"rgb(67,147,195)\"],[0.9,\"rgb(33,102,172)\"],[1.0,\"rgb(5,48,97)\"]],\"hoverongaps\":false,\"text\":[[\" \",\" \",\" \",\" \",\" \",\" \",\" \",\" \"],[\" \",\" \",\" \",\" \",\" \",\" \",\" \",\" \"],[\" \",\" \",\" \",\" \",\" \",\" \",\" \",\" \"],[\" \",\" \",\" \",\" \",\" \",\" \",\" \",\" \"],[\" \",\" \",\" \",\" \",\" \",\" \",\" \",\" \"],[\" \",\" \",\" \",\" \",\" \",\" \",\" \",\" \"],[\" \",\" \",\"\\u2588\",\" \",\" \",\" \",\" \",\" \"],[\" \",\" \",\" \",\" \",\" \",\" \",\" \",\" \"]],\"texttemplate\":\"%{text}\",\"x\":[0,1,2,3,4,5,6,7],\"y\":[\"H\",\"G\",\"F\",\"E\",\"D\",\"C\",\"B\",\"A\"],\"z\":[[0.5,0.12455376982688904,0.995419979095459,0.9998266696929932,0.9982644319534302,0.9999929666519165,0.9999680519104004,0.500022292137146],[0.5,0.5,0.9981983304023743,0.9965129494667053,0.011356264352798462,0.997815728187561,0.5000113844871521,0.9562150239944458],[6.04093074798584e-05,0.9994684457778931,0.00015312433242797852,0.005271434783935547,0.9958779215812683,0.9920780658721924,0.9980119466781616,0.9926902055740356],[0.9999798536300659,0.4999992847442627,0.0068070292472839355,0.08570665121078491,0.02981323003768921,0.9667829275131226,0.5000020265579224,0.9998385310173035],[0.9995360374450684,0.0018631815910339355,0.00040024518966674805,0.004034757614135742,0.9900802969932556,0.021649658679962158,0.019038647413253784,0.9676694273948669],[0.5,0.999434232711792,0.0013754963874816895,0.012876808643341064,0.002227276563644409,0.006233245134353638,0.006692051887512207,0.9964185953140259],[0.5,0.00010535120964050293,0.0004246532917022705,0.0007738173007965088,0.007118910551071167,5.632638931274414e-05,0.49999991059303284,0.9969525337219238],[0.5,9.524822235107422e-05,0.5,0.49999570846557617,9.986758232116699e-05,0.4999988079071045,0.5,0.49784180521965027]],\"zmax\":1.0,\"zmin\":0.0,\"type\":\"heatmap\",\"xaxis\":\"x14\",\"yaxis\":\"y14\"},{\"colorscale\":[[0.0,\"rgb(103,0,31)\"],[0.1,\"rgb(178,24,43)\"],[0.2,\"rgb(214,96,77)\"],[0.3,\"rgb(244,165,130)\"],[0.4,\"rgb(253,219,199)\"],[0.5,\"rgb(247,247,247)\"],[0.6,\"rgb(209,229,240)\"],[0.7,\"rgb(146,197,222)\"],[0.8,\"rgb(67,147,195)\"],[0.9,\"rgb(33,102,172)\"],[1.0,\"rgb(5,48,97)\"]],\"hoverongaps\":false,\"text\":[[\" \",\" \",\" \",\" \",\" \",\" \",\" \",\" \"],[\" \",\" \",\" \",\" \",\" \",\" \",\" \",\" \"],[\" \",\" \",\" \",\" \",\" \",\" \",\" \",\" \"],[\" \",\" \",\" \",\" \",\" \",\" \",\" \",\" \"],[\" \",\" \",\" \",\" \",\" \",\" \",\" \",\" \"],[\" \",\" \",\" \",\" \",\" \",\" \",\" \",\" \"],[\" \",\" \",\"\\u2588\",\" \",\" \",\" \",\" \",\" \"],[\" \",\" \",\" \",\" \",\" \",\" \",\" \",\" \"]],\"texttemplate\":\"%{text}\",\"x\":[0,1,2,3,4,5,6,7],\"y\":[\"H\",\"G\",\"F\",\"E\",\"D\",\"C\",\"B\",\"A\"],\"z\":[[0.5,0.06110331416130066,0.998851478099823,0.9998239874839783,0.9999070167541504,0.9999903440475464,0.9999963045120239,0.5000000596046448],[0.5,0.5,0.9977375268936157,0.9695535898208618,0.028207451105117798,0.999418318271637,0.5000000596046448,0.9598380327224731],[0.0009107589721679688,0.994521975517273,0.0018728077411651611,0.00027483701705932617,0.9987907409667969,0.9993997812271118,0.999509334564209,0.9975420236587524],[0.9999567270278931,0.5000049471855164,0.009102195501327515,0.00674775242805481,0.023905247449874878,0.9924077987670898,0.5,0.9999555349349976],[0.999035120010376,1.0848045349121094e-05,0.00034797191619873047,0.0002472102642059326,0.9928042888641357,0.0006117820739746094,0.002739161252975464,0.997207522392273],[0.5,0.9997496008872986,0.0005878210067749023,0.0030726492404937744,0.0002579987049102783,0.005880504846572876,8.058547973632812e-05,0.9819028377532959],[0.5,0.000931471586227417,0.003299504518508911,0.00033402442932128906,5.778670310974121e-05,2.592802047729492e-06,0.5,0.9937511086463928],[0.5,0.0006708204746246338,0.5,0.4999998211860657,0.002340465784072876,0.5,0.5,0.5004295110702515]],\"zmax\":1.0,\"zmin\":0.0,\"type\":\"heatmap\",\"xaxis\":\"x15\",\"yaxis\":\"y15\"},{\"colorscale\":[[0.0,\"rgb(103,0,31)\"],[0.1,\"rgb(178,24,43)\"],[0.2,\"rgb(214,96,77)\"],[0.3,\"rgb(244,165,130)\"],[0.4,\"rgb(253,219,199)\"],[0.5,\"rgb(247,247,247)\"],[0.6,\"rgb(209,229,240)\"],[0.7,\"rgb(146,197,222)\"],[0.8,\"rgb(67,147,195)\"],[0.9,\"rgb(33,102,172)\"],[1.0,\"rgb(5,48,97)\"]],\"hoverongaps\":false,\"text\":[[\" \",\" \",\" \",\" \",\" \",\" \",\" \",\" \"],[\" \",\" \",\" \",\" \",\" \",\" \",\" \",\" \"],[\" \",\" \",\" \",\" \",\" \",\" \",\" \",\" \"],[\" \",\" \",\" \",\" \",\" \",\" \",\" \",\" \"],[\" \",\" \",\" \",\" \",\" \",\" \",\" \",\" \"],[\" \",\" \",\" \",\" \",\" \",\" \",\" \",\" \"],[\" \",\" \",\"\\u2588\",\" \",\" \",\" \",\" \",\" \"],[\" \",\" \",\" \",\" \",\" \",\" \",\" \",\" \"]],\"texttemplate\":\"%{text}\",\"x\":[0,1,2,3,4,5,6,7],\"y\":[\"H\",\"G\",\"F\",\"E\",\"D\",\"C\",\"B\",\"A\"],\"z\":[[0.5,0.09328955411911011,0.9949967861175537,0.999855637550354,0.999945878982544,0.9999851584434509,0.9999953508377075,0.49999773502349854],[0.5000326037406921,0.5,0.9706441164016724,0.9977983832359314,0.006765872240066528,0.9999410510063171,0.5000033974647522,0.9743441939353943],[1.481175422668457e-05,0.9985630512237549,0.0031656622886657715,0.0012267231941223145,0.9997174739837646,0.9967769980430603,0.9996020793914795,0.999306857585907],[0.9998520016670227,0.46331366896629333,0.0017479956150054932,0.019916236400604248,0.012211918830871582,0.998213529586792,0.49999985098838806,0.9965859651565552],[0.9994854927062988,4.13358211517334e-05,0.00018861889839172363,0.00021705031394958496,0.9900447130203247,0.001642674207687378,0.0014608204364776611,0.9356327056884766],[0.5,0.9999874830245972,0.00016188621520996094,0.0038567185401916504,0.0013526082038879395,0.009301096200942993,0.0004157423973083496,0.9976596832275391],[0.5000037550926208,0.005037397146224976,0.0018380284309387207,0.0003757476806640625,8.124113082885742e-05,3.8743019104003906e-07,0.5,0.9908515214920044],[0.5,0.0002624690532684326,0.5,0.5000717043876648,0.0009860694408416748,0.5,0.5,0.5103254914283752]],\"zmax\":1.0,\"zmin\":0.0,\"type\":\"heatmap\",\"xaxis\":\"x16\",\"yaxis\":\"y16\"},{\"colorscale\":[[0.0,\"rgb(103,0,31)\"],[0.1,\"rgb(178,24,43)\"],[0.2,\"rgb(214,96,77)\"],[0.3,\"rgb(244,165,130)\"],[0.4,\"rgb(253,219,199)\"],[0.5,\"rgb(247,247,247)\"],[0.6,\"rgb(209,229,240)\"],[0.7,\"rgb(146,197,222)\"],[0.8,\"rgb(67,147,195)\"],[0.9,\"rgb(33,102,172)\"],[1.0,\"rgb(5,48,97)\"]],\"hoverongaps\":false,\"text\":[[\" \",\" \",\" \",\" \",\" \",\" \",\" \",\" \"],[\" \",\" \",\" \",\" \",\" \",\" \",\" \",\" \"],[\" \",\" \",\" \",\" \",\" \",\" \",\" \",\" \"],[\" \",\" \",\" \",\" \",\" \",\" \",\" \",\" \"],[\" \",\" \",\" \",\" \",\" \",\" \",\" \",\" \"],[\" \",\"\\u2588\",\"\\u2591\",\"\\u2592\",\" \",\" \",\" \",\" \"],[\" \",\" \",\" \",\" \",\" \",\" \",\" \",\" \"],[\" \",\" \",\" \",\" \",\" \",\" \",\" \",\" \"]],\"texttemplate\":\"%{text}\",\"x\":[0,1,2,3,4,5,6,7],\"y\":[\"H\",\"G\",\"F\",\"E\",\"D\",\"C\",\"B\",\"A\"],\"z\":[[0.5000000596046448,0.036801815032958984,0.5947214365005493,0.2435142695903778,0.3077106177806854,0.4161165654659271,0.9432014226913452,0.4999995231628418],[0.4999999701976776,0.4999851584434509,0.5189000368118286,0.29349055886268616,0.2460092306137085,0.8420192003250122,0.49999961256980896,0.9229300022125244],[0.0017245709896087646,0.72165846824646,0.4546526372432709,0.4665692448616028,0.6979306936264038,0.3829490542411804,0.6898743510246277,0.9069589376449585],[0.9576780796051025,0.5000002384185791,0.7577721476554871,0.7563461065292358,0.6317383646965027,0.5075515508651733,0.4999849498271942,0.2916256785392761],[0.9990816116333008,0.9829801321029663,0.10988903045654297,0.1311112642288208,0.3233296573162079,0.7798831462860107,0.15848127007484436,0.08409446477890015],[0.99993896484375,0.9930098056793213,0.9454116225242615,0.47458845376968384,0.858126163482666,0.4388226866722107,0.28730544447898865,0.3002740740776062],[0.5,0.0006235241889953613,0.16146469116210938,0.585438072681427,0.42263737320899963,0.751285195350647,0.5000002980232239,0.957022488117218],[0.4999908208847046,0.0006480813026428223,0.49999985098838806,0.4999944865703583,0.11432582139968872,0.499997615814209,0.4999984800815582,0.4999992549419403]],\"zmax\":1.0,\"zmin\":0.0,\"type\":\"heatmap\",\"xaxis\":\"x17\",\"yaxis\":\"y17\"},{\"colorscale\":[[0.0,\"rgb(103,0,31)\"],[0.1,\"rgb(178,24,43)\"],[0.2,\"rgb(214,96,77)\"],[0.3,\"rgb(244,165,130)\"],[0.4,\"rgb(253,219,199)\"],[0.5,\"rgb(247,247,247)\"],[0.6,\"rgb(209,229,240)\"],[0.7,\"rgb(146,197,222)\"],[0.8,\"rgb(67,147,195)\"],[0.9,\"rgb(33,102,172)\"],[1.0,\"rgb(5,48,97)\"]],\"hoverongaps\":false,\"text\":[[\" \",\" \",\" \",\" \",\" \",\" \",\" \",\" \"],[\" \",\" \",\" \",\" \",\" \",\" \",\" \",\" \"],[\" \",\" \",\" \",\" \",\" \",\" \",\" \",\" \"],[\" \",\" \",\" \",\" \",\" \",\" \",\" \",\" \"],[\" \",\"\\u2591\",\" \",\" \",\" \",\" \",\" \",\" \"],[\" \",\"\\u2588\",\"\\u2593\",\"\\u2593\",\"\\u2591\",\" \",\" \",\" \"],[\" \",\" \",\" \",\" \",\" \",\" \",\" \",\" \"],[\" \",\" \",\" \",\" \",\" \",\" \",\" \",\" \"]],\"texttemplate\":\"%{text}\",\"x\":[0,1,2,3,4,5,6,7],\"y\":[\"H\",\"G\",\"F\",\"E\",\"D\",\"C\",\"B\",\"A\"],\"z\":[[0.500002920627594,0.04051735997200012,0.6749382019042969,0.3060867190361023,0.3578721284866333,0.4759119153022766,0.9792613387107849,0.4999997317790985],[0.49999943375587463,0.4999988079071045,0.8955365419387817,0.6370388269424438,0.30630749464035034,0.927497386932373,0.5000109672546387,0.9989428520202637],[0.017330050468444824,0.9713072776794434,0.299875944852829,0.6196277141571045,0.881432831287384,0.8480848073959351,0.9335281848907471,0.9996224045753479],[0.9987651705741882,0.5000002980232239,0.18941950798034668,0.30701375007629395,0.5442925095558167,0.6792063117027283,0.5000134706497192,0.9898499250411987],[0.999765932559967,0.9956904053688049,0.05702868103981018,0.08692669868469238,0.2535088062286377,0.45075613260269165,0.043051064014434814,0.9972637891769409],[0.9998735189437866,0.9951322078704834,0.9752113819122314,0.5346781015396118,0.7473804950714111,0.3805631995201111,0.2359115481376648,0.9979814291000366],[0.4999999403953552,0.0005992650985717773,0.1450580358505249,0.5727159976959229,0.1470974087715149,0.6536765098571777,0.4999887943267822,0.999519944190979],[0.4999919533729553,0.0005255043506622314,0.4999977648258209,0.499926894903183,0.0017563998699188232,0.4997784197330475,0.49997013807296753,0.4999757707118988]],\"zmax\":1.0,\"zmin\":0.0,\"type\":\"heatmap\",\"xaxis\":\"x18\",\"yaxis\":\"y18\"},{\"colorscale\":[[0.0,\"rgb(103,0,31)\"],[0.1,\"rgb(178,24,43)\"],[0.2,\"rgb(214,96,77)\"],[0.3,\"rgb(244,165,130)\"],[0.4,\"rgb(253,219,199)\"],[0.5,\"rgb(247,247,247)\"],[0.6,\"rgb(209,229,240)\"],[0.7,\"rgb(146,197,222)\"],[0.8,\"rgb(67,147,195)\"],[0.9,\"rgb(33,102,172)\"],[1.0,\"rgb(5,48,97)\"]],\"hoverongaps\":false,\"text\":[[\" \",\" \",\" \",\" \",\" \",\" \",\" \",\" \"],[\" \",\" \",\" \",\" \",\" \",\" \",\" \",\" \"],[\" \",\" \",\" \",\"\\u2588\",\" \",\" \",\" \",\" \"],[\" \",\" \",\"\\u2588\",\" \",\" \",\" \",\" \",\" \"],[\" \",\"\\u2593\",\" \",\" \",\" \",\" \",\" \",\" \"],[\" \",\" \",\" \",\" \",\" \",\" \",\" \",\" \"],[\" \",\" \",\" \",\" \",\" \",\" \",\" \",\" \"],[\" \",\" \",\" \",\" \",\" \",\" \",\" \",\" \"]],\"texttemplate\":\"%{text}\",\"x\":[0,1,2,3,4,5,6,7],\"y\":[\"H\",\"G\",\"F\",\"E\",\"D\",\"C\",\"B\",\"A\"],\"z\":[[0.5000017285346985,0.00280645489692688,0.9557773470878601,0.9757485389709473,0.9952380657196045,0.9922823905944824,0.9989055395126343,0.4999648332595825],[0.4999866187572479,0.49999940395355225,0.9840183854103088,0.43189340829849243,0.8080382347106934,0.9829185009002686,0.49982476234436035,0.9997331500053406],[0.0003572702407836914,0.9752542972564697,0.02292025089263916,0.48074012994766235,0.7688336968421936,0.9556248784065247,0.9816300868988037,0.9987377524375916],[0.9875644445419312,0.49999532103538513,0.5355279445648193,0.22355031967163086,0.5407426953315735,0.7918868064880371,0.5000066757202148,0.9984132051467896],[0.9949876070022583,0.9632420539855957,0.024182826280593872,0.03753441572189331,0.3495228886604309,0.21330863237380981,0.04902702569961548,0.9680472612380981],[0.9834467172622681,0.9994487762451172,0.27923154830932617,0.042989492416381836,0.6276609897613525,0.44856470823287964,0.3341977000236511,0.9998412132263184],[0.49999353289604187,0.0064220130443573,0.052555859088897705,0.7929433584213257,0.15854978561401367,0.3172294497489929,0.49979567527770996,0.9983208775520325],[0.4999941289424896,0.005753159523010254,0.4999921917915344,0.500007688999176,0.0006085336208343506,0.4991629421710968,0.49996912479400635,0.49998289346694946]],\"zmax\":1.0,\"zmin\":0.0,\"type\":\"heatmap\",\"xaxis\":\"x19\",\"yaxis\":\"y19\"},{\"colorscale\":[[0.0,\"rgb(103,0,31)\"],[0.1,\"rgb(178,24,43)\"],[0.2,\"rgb(214,96,77)\"],[0.3,\"rgb(244,165,130)\"],[0.4,\"rgb(253,219,199)\"],[0.5,\"rgb(247,247,247)\"],[0.6,\"rgb(209,229,240)\"],[0.7,\"rgb(146,197,222)\"],[0.8,\"rgb(67,147,195)\"],[0.9,\"rgb(33,102,172)\"],[1.0,\"rgb(5,48,97)\"]],\"hoverongaps\":false,\"text\":[[\" \",\" \",\" \",\" \",\" \",\" \",\" \",\" \"],[\" \",\" \",\" \",\" \",\"\\u2592\",\" \",\" \",\" \"],[\" \",\" \",\" \",\"\\u2588\",\" \",\" \",\" \",\" \"],[\" \",\" \",\"\\u2588\",\" \",\" \",\" \",\" \",\" \"],[\" \",\"\\u2588\",\" \",\" \",\" \",\" \",\" \",\" \"],[\" \",\" \",\" \",\" \",\" \",\" \",\" \",\" \"],[\" \",\" \",\" \",\" \",\" \",\" \",\" \",\" \"],[\" \",\" \",\" \",\" \",\" \",\" \",\" \",\" \"]],\"texttemplate\":\"%{text}\",\"x\":[0,1,2,3,4,5,6,7],\"y\":[\"H\",\"G\",\"F\",\"E\",\"D\",\"C\",\"B\",\"A\"],\"z\":[[0.5001711845397949,0.0006473660469055176,0.9901851415634155,0.9990741014480591,0.9960802793502808,0.9992536306381226,0.9989742040634155,0.500032365322113],[0.49996891617774963,0.5000467896461487,0.9880427718162537,0.7954393625259399,0.9831080436706543,0.9219862222671509,0.5024191737174988,0.9997764229774475],[0.007502228021621704,0.9996988773345947,0.0038085877895355225,0.94256192445755,0.8000848293304443,0.8745884895324707,0.9789291024208069,0.9961349964141846],[0.9979416131973267,0.49999144673347473,0.3464858829975128,0.1246824562549591,0.27337393164634705,0.8412878513336182,0.4998037815093994,0.9976646304130554],[0.9969477653503418,0.9984625577926636,0.003109961748123169,0.04958432912826538,0.8930613994598389,0.07323434948921204,0.029687583446502686,0.9975786209106445],[0.9757920503616333,0.9899224638938904,0.4940797984600067,0.017814338207244873,0.03913012146949768,0.018464326858520508,0.020297646522521973,0.9978833198547363],[0.4999834895133972,0.00012499094009399414,0.004200547933578491,0.14485234022140503,0.008507490158081055,0.07881933450698853,0.4999355673789978,0.9988031387329102],[0.4999341070652008,0.0011660456657409668,0.4999719262123108,0.49927958846092224,0.0017020702362060547,0.49920088052749634,0.49997588992118835,0.500206470489502]],\"zmax\":1.0,\"zmin\":0.0,\"type\":\"heatmap\",\"xaxis\":\"x20\",\"yaxis\":\"y20\"},{\"colorscale\":[[0.0,\"rgb(103,0,31)\"],[0.1,\"rgb(178,24,43)\"],[0.2,\"rgb(214,96,77)\"],[0.3,\"rgb(244,165,130)\"],[0.4,\"rgb(253,219,199)\"],[0.5,\"rgb(247,247,247)\"],[0.6,\"rgb(209,229,240)\"],[0.7,\"rgb(146,197,222)\"],[0.8,\"rgb(67,147,195)\"],[0.9,\"rgb(33,102,172)\"],[1.0,\"rgb(5,48,97)\"]],\"hoverongaps\":false,\"text\":[[\" \",\" \",\" \",\" \",\" \",\" \",\" \",\" \"],[\" \",\" \",\" \",\" \",\"\\u2588\",\" \",\" \",\" \"],[\" \",\" \",\" \",\"\\u2588\",\" \",\" \",\" \",\" \"],[\" \",\" \",\"\\u2588\",\" \",\" \",\" \",\" \",\" \"],[\" \",\"\\u2588\",\" \",\" \",\" \",\" \",\" \",\" \"],[\" \",\" \",\" \",\" \",\" \",\" \",\" \",\" \"],[\" \",\" \",\" \",\" \",\" \",\" \",\" \",\" \"],[\" \",\" \",\" \",\" \",\" \",\" \",\" \",\" \"]],\"texttemplate\":\"%{text}\",\"x\":[0,1,2,3,4,5,6,7],\"y\":[\"H\",\"G\",\"F\",\"E\",\"D\",\"C\",\"B\",\"A\"],\"z\":[[0.5000579953193665,0.0006944537162780762,0.9819176197052002,0.9985566139221191,0.9976792335510254,0.9986447095870972,0.9999690651893616,0.5000978708267212],[0.4999372363090515,0.5000221133232117,0.9973330497741699,0.9557690024375916,0.9983586072921753,0.9614834189414978,0.5000954270362854,0.9996193647384644],[0.0004710853099822998,0.9999476671218872,0.005492746829986572,0.9954811334609985,0.9604005217552185,0.9869920611381531,0.9766978025436401,0.9986770153045654],[0.9996143579483032,0.5000015497207642,0.993624210357666,0.045126140117645264,0.07921302318572998,0.994310736656189,0.4999646842479706,0.9968489408493042],[0.9990309476852417,0.9951351284980774,0.0019361376762390137,0.027604132890701294,0.9851261377334595,0.06643563508987427,0.008068203926086426,0.9690711498260498],[0.9992592334747314,0.9946649670600891,0.05204808712005615,0.006927400827407837,0.005167543888092041,0.02000439167022705,0.04470023512840271,0.9980311989784241],[0.4999871253967285,0.001203984022140503,0.002472430467605591,0.03289586305618286,0.004573315382003784,0.004755556583404541,0.4999503791332245,0.9995164275169373],[0.5000227689743042,0.0039411187171936035,0.4999518394470215,0.4997400939464569,0.001970350742340088,0.49966827034950256,0.5000396370887756,0.4998149275779724]],\"zmax\":1.0,\"zmin\":0.0,\"type\":\"heatmap\",\"xaxis\":\"x21\",\"yaxis\":\"y21\"},{\"colorscale\":[[0.0,\"rgb(103,0,31)\"],[0.1,\"rgb(178,24,43)\"],[0.2,\"rgb(214,96,77)\"],[0.3,\"rgb(244,165,130)\"],[0.4,\"rgb(253,219,199)\"],[0.5,\"rgb(247,247,247)\"],[0.6,\"rgb(209,229,240)\"],[0.7,\"rgb(146,197,222)\"],[0.8,\"rgb(67,147,195)\"],[0.9,\"rgb(33,102,172)\"],[1.0,\"rgb(5,48,97)\"]],\"hoverongaps\":false,\"text\":[[\" \",\" \",\" \",\" \",\" \",\" \",\" \",\" \"],[\" \",\" \",\" \",\" \",\"\\u2588\",\" \",\" \",\" \"],[\" \",\" \",\" \",\"\\u2588\",\" \",\" \",\" \",\" \"],[\" \",\" \",\"\\u2588\",\" \",\" \",\" \",\" \",\" \"],[\"\\u2591\",\"\\u2588\",\" \",\" \",\" \",\" \",\" \",\" \"],[\" \",\" \",\" \",\" \",\" \",\" \",\" \",\" \"],[\" \",\" \",\" \",\" \",\" \",\" \",\" \",\" \"],[\" \",\" \",\" \",\" \",\" \",\" \",\" \",\" \"]],\"texttemplate\":\"%{text}\",\"x\":[0,1,2,3,4,5,6,7],\"y\":[\"H\",\"G\",\"F\",\"E\",\"D\",\"C\",\"B\",\"A\"],\"z\":[[0.5000001788139343,0.0006550252437591553,0.998909592628479,0.9999399781227112,0.9999529123306274,0.9999562501907349,0.9999386072158813,0.5000054240226746],[0.5,0.4999997019767761,0.9911082983016968,0.9906181693077087,0.9932117462158203,0.9912999868392944,0.4999999701976776,0.9998838901519775],[8.940696716308594e-06,0.9998981952667236,0.0006913542747497559,0.9990376234054565,0.9848005771636963,0.9975889325141907,0.9990524053573608,0.9998058676719666],[0.9997290372848511,0.4999999701976776,0.9999077320098877,0.25272679328918457,0.019939184188842773,0.998291015625,0.49999991059303284,0.9990614652633667],[0.9998781681060791,0.9993966817855835,0.07425320148468018,0.003607511520385742,0.9968823194503784,0.006984412670135498,0.006785571575164795,0.9928622841835022],[0.9997855424880981,0.9994808435440063,0.006391286849975586,0.0007918477058410645,0.005255758762359619,0.0016916096210479736,0.013212859630584717,0.9972542524337769],[0.5,3.209710121154785e-05,0.014115005731582642,0.0008715689182281494,0.00013533234596252441,0.0002606809139251709,0.4999915063381195,0.9990454912185669],[0.4999828040599823,0.00016123056411743164,0.499994695186615,0.4999898076057434,6.633996963500977e-05,0.5000277161598206,0.5001325607299805,0.5003069043159485]],\"zmax\":1.0,\"zmin\":0.0,\"type\":\"heatmap\",\"xaxis\":\"x22\",\"yaxis\":\"y22\"},{\"colorscale\":[[0.0,\"rgb(103,0,31)\"],[0.1,\"rgb(178,24,43)\"],[0.2,\"rgb(214,96,77)\"],[0.3,\"rgb(244,165,130)\"],[0.4,\"rgb(253,219,199)\"],[0.5,\"rgb(247,247,247)\"],[0.6,\"rgb(209,229,240)\"],[0.7,\"rgb(146,197,222)\"],[0.8,\"rgb(67,147,195)\"],[0.9,\"rgb(33,102,172)\"],[1.0,\"rgb(5,48,97)\"]],\"hoverongaps\":false,\"text\":[[\" \",\" \",\" \",\" \",\" \",\" \",\" \",\" \"],[\" \",\" \",\" \",\" \",\"\\u2588\",\" \",\" \",\" \"],[\" \",\" \",\" \",\"\\u2588\",\" \",\" \",\" \",\" \"],[\" \",\" \",\"\\u2588\",\" \",\" \",\" \",\" \",\" \"],[\"\\u2592\",\"\\u2588\",\" \",\" \",\" \",\" \",\" \",\" \"],[\" \",\" \",\" \",\" \",\" \",\" \",\" \",\" \"],[\" \",\" \",\" \",\" \",\" \",\" \",\" \",\" \"],[\" \",\" \",\" \",\" \",\" \",\" \",\" \",\" \"]],\"texttemplate\":\"%{text}\",\"x\":[0,1,2,3,4,5,6,7],\"y\":[\"H\",\"G\",\"F\",\"E\",\"D\",\"C\",\"B\",\"A\"],\"z\":[[0.5000000596046448,0.0007258951663970947,0.9823616743087769,0.9639924764633179,0.9999897480010986,0.9995630383491516,0.999932050704956,0.5],[0.5,0.5,0.9992562532424927,0.997627317905426,0.9934234619140625,0.9993375539779663,0.5,0.999152421951294],[2.1785497665405273e-05,0.9992879033088684,0.0001068115234375,0.9936740398406982,0.9881632924079895,0.994472861289978,0.9999285936355591,0.9999954700469971],[0.9992225170135498,0.5,0.9902969598770142,0.0030704140663146973,0.007150143384933472,0.9944289922714233,0.5,0.9999861717224121],[0.999727725982666,0.9970042705535889,0.007010906934738159,0.002297341823577881,0.9860694408416748,0.002472221851348877,0.03466886281967163,0.9966217279434204],[0.9964307546615601,0.9999687671661377,0.002726435661315918,0.001067042350769043,0.004807621240615845,9.620189666748047e-05,0.003354012966156006,0.9999250173568726],[0.5,2.2411346435546875e-05,0.00588873028755188,9.328126907348633e-05,0.00021272897720336914,5.647540092468262e-05,0.49998778104782104,0.9999208450317383],[0.4999723732471466,0.00010785460472106934,0.5,0.5,0.0021723508834838867,0.49999991059303284,0.4999493658542633,0.5032076835632324]],\"zmax\":1.0,\"zmin\":0.0,\"type\":\"heatmap\",\"xaxis\":\"x23\",\"yaxis\":\"y23\"},{\"colorscale\":[[0.0,\"rgb(103,0,31)\"],[0.1,\"rgb(178,24,43)\"],[0.2,\"rgb(214,96,77)\"],[0.3,\"rgb(244,165,130)\"],[0.4,\"rgb(253,219,199)\"],[0.5,\"rgb(247,247,247)\"],[0.6,\"rgb(209,229,240)\"],[0.7,\"rgb(146,197,222)\"],[0.8,\"rgb(67,147,195)\"],[0.9,\"rgb(33,102,172)\"],[1.0,\"rgb(5,48,97)\"]],\"hoverongaps\":false,\"text\":[[\" \",\" \",\" \",\" \",\" \",\" \",\" \",\" \"],[\" \",\" \",\" \",\" \",\"\\u2588\",\" \",\" \",\" \"],[\" \",\" \",\" \",\"\\u2588\",\" \",\" \",\" \",\" \"],[\" \",\" \",\"\\u2588\",\" \",\" \",\" \",\" \",\" \"],[\" \",\"\\u2588\",\" \",\" \",\" \",\" \",\" \",\" \"],[\" \",\" \",\" \",\" \",\" \",\" \",\" \",\" \"],[\" \",\" \",\" \",\" \",\" \",\" \",\" \",\" \"],[\" \",\" \",\" \",\" \",\" \",\" \",\" \",\" \"]],\"texttemplate\":\"%{text}\",\"x\":[0,1,2,3,4,5,6,7],\"y\":[\"H\",\"G\",\"F\",\"E\",\"D\",\"C\",\"B\",\"A\"],\"z\":[[0.5000046491622925,0.0008218586444854736,0.9960728883743286,0.9958592057228088,0.999982476234436,0.9999666213989258,0.9999904632568359,0.5],[0.5,0.5000010132789612,0.9988959431648254,0.9983965754508972,0.9445275068283081,0.9999489784240723,0.5,0.999703049659729],[7.49826431274414e-05,0.9999449253082275,0.008117496967315674,0.99158775806427,0.9977928400039673,0.9950066804885864,0.9999059438705444,0.9999909996986389],[0.9996532201766968,0.5,0.9908673763275146,0.03704315423965454,0.01387748122215271,0.9976246356964111,0.5,0.9999140501022339],[0.9999392032623291,0.9950873851776123,0.022808939218521118,0.009312450885772705,0.9850178360939026,0.004670262336730957,0.05900910496711731,0.9881026744842529],[0.9902312755584717,0.9996047019958496,0.007179677486419678,0.004063010215759277,0.0015349388122558594,0.0013566911220550537,0.0022819340229034424,0.9998099207878113],[0.5,2.2798776626586914e-05,0.049881577491760254,0.00015369057655334473,0.0003248751163482666,7.751584053039551e-05,0.49925413727760315,0.999971866607666],[0.4999149441719055,0.0019879937171936035,0.5000382661819458,0.5000150799751282,0.00056496262550354,0.513792097568512,0.501203179359436,0.561786949634552]],\"zmax\":1.0,\"zmin\":0.0,\"type\":\"heatmap\",\"xaxis\":\"x24\",\"yaxis\":\"y24\"},{\"colorscale\":[[0.0,\"rgb(103,0,31)\"],[0.1,\"rgb(178,24,43)\"],[0.2,\"rgb(214,96,77)\"],[0.3,\"rgb(244,165,130)\"],[0.4,\"rgb(253,219,199)\"],[0.5,\"rgb(247,247,247)\"],[0.6,\"rgb(209,229,240)\"],[0.7,\"rgb(146,197,222)\"],[0.8,\"rgb(67,147,195)\"],[0.9,\"rgb(33,102,172)\"],[1.0,\"rgb(5,48,97)\"]],\"hoverongaps\":false,\"text\":[[\" \",\" \",\" \",\" \",\" \",\" \",\" \",\" \"],[\" \",\" \",\" \",\" \",\" \",\" \",\" \",\" \"],[\" \",\" \",\" \",\" \",\" \",\" \",\" \",\" \"],[\" \",\" \",\"\\u2593\",\" \",\" \",\" \",\" \",\" \"],[\" \",\"\\u2593\",\" \",\" \",\" \",\" \",\" \",\" \"],[\" \",\"\\u2588\",\" \",\" \",\" \",\" \",\" \",\" \"],[\" \",\"\\u2591\",\" \",\" \",\" \",\" \",\" \",\" \"],[\" \",\" \",\" \",\" \",\" \",\" \",\" \",\" \"]],\"texttemplate\":\"%{text}\",\"x\":[0,1,2,3,4,5,6,7],\"y\":[\"H\",\"G\",\"F\",\"E\",\"D\",\"C\",\"B\",\"A\"],\"z\":[[0.5000002980232239,0.012767583131790161,0.5532612800598145,0.29889607429504395,0.8051332831382751,0.5539746284484863,0.9773935079574585,0.5000174641609192],[0.49996793270111084,0.5,0.8252403140068054,0.5337651371955872,0.5978167057037354,0.7753838300704956,0.5000481009483337,0.9810336232185364],[0.002817988395690918,0.588441014289856,0.32513999938964844,0.2063400149345398,0.7618733644485474,0.4487607479095459,0.7109057307243347,0.9499883651733398],[0.9067070484161377,0.0023488402366638184,0.07884815335273743,0.1298549771308899,0.467288076877594,0.42707133293151855,0.5,0.322330117225647],[0.9973636269569397,0.14968812465667725,0.050864577293395996,0.2623947262763977,0.5591062307357788,0.672110915184021,0.20677435398101807,0.22356081008911133],[0.9993109703063965,0.05594053864479065,0.8177178502082825,0.19935989379882812,0.7708284854888916,0.45383793115615845,0.31333810091018677,0.5129150152206421],[0.5000009536743164,0.00017213821411132812,0.24551117420196533,0.5833759903907776,0.30530864000320435,0.6512948870658875,0.5000178813934326,0.8823894262313843],[0.5000045299530029,0.00036454200744628906,0.4999978840351105,0.5001389980316162,0.06602659821510315,0.5000012516975403,0.500007152557373,0.5000057816505432]],\"zmax\":1.0,\"zmin\":0.0,\"type\":\"heatmap\",\"xaxis\":\"x25\",\"yaxis\":\"y25\"},{\"colorscale\":[[0.0,\"rgb(103,0,31)\"],[0.1,\"rgb(178,24,43)\"],[0.2,\"rgb(214,96,77)\"],[0.3,\"rgb(244,165,130)\"],[0.4,\"rgb(253,219,199)\"],[0.5,\"rgb(247,247,247)\"],[0.6,\"rgb(209,229,240)\"],[0.7,\"rgb(146,197,222)\"],[0.8,\"rgb(67,147,195)\"],[0.9,\"rgb(33,102,172)\"],[1.0,\"rgb(5,48,97)\"]],\"hoverongaps\":false,\"text\":[[\" \",\" \",\" \",\" \",\" \",\" \",\" \",\" \"],[\" \",\" \",\" \",\" \",\" \",\" \",\" \",\" \"],[\" \",\" \",\" \",\" \",\" \",\" \",\" \",\" \"],[\" \",\" \",\"\\u2591\",\" \",\" \",\" \",\" \",\" \"],[\" \",\"\\u2588\",\" \",\" \",\" \",\" \",\" \",\" \"],[\" \",\"\\u2592\",\" \",\" \",\" \",\" \",\" \",\" \"],[\" \",\" \",\" \",\" \",\" \",\" \",\" \",\" \"],[\" \",\" \",\" \",\" \",\" \",\" \",\" \",\" \"]],\"texttemplate\":\"%{text}\",\"x\":[0,1,2,3,4,5,6,7],\"y\":[\"H\",\"G\",\"F\",\"E\",\"D\",\"C\",\"B\",\"A\"],\"z\":[[0.5000004172325134,0.050175249576568604,0.9901175498962402,0.7218266725540161,0.7432675957679749,0.9513958692550659,0.998607337474823,0.5000039339065552],[0.5000135898590088,0.5,0.9684164524078369,0.7475757598876953,0.8005722761154175,0.9596545696258545,0.5000242590904236,0.9989960193634033],[0.0006746053695678711,0.9701825380325317,0.016688019037246704,0.5368320941925049,0.8875642418861389,0.6234727501869202,0.7821277379989624,0.9964826703071594],[0.9987896680831909,0.00466686487197876,0.019752204418182373,0.08334001898765564,0.21082323789596558,0.3172594904899597,0.5000001192092896,0.5627380013465881],[0.9999792575836182,0.022241294384002686,0.0033398568630218506,0.1620466113090515,0.1385589838027954,0.4594181776046753,0.10723361372947693,0.12560585141181946],[0.9999896287918091,0.6306032538414001,0.8790621757507324,0.050405025482177734,0.7518874406814575,0.4284837543964386,0.05479249358177185,0.8972417116165161],[0.5000050663948059,0.001504451036453247,0.008014321327209473,0.38550737500190735,0.1283508539199829,0.41459038853645325,0.5004762411117554,0.9916907548904419],[0.5000019669532776,0.00018426775932312012,0.5000004172325134,0.5000141859054565,0.0020413100719451904,0.5000290274620056,0.5003349781036377,0.500062108039856]],\"zmax\":1.0,\"zmin\":0.0,\"type\":\"heatmap\",\"xaxis\":\"x26\",\"yaxis\":\"y26\"},{\"colorscale\":[[0.0,\"rgb(103,0,31)\"],[0.1,\"rgb(178,24,43)\"],[0.2,\"rgb(214,96,77)\"],[0.3,\"rgb(244,165,130)\"],[0.4,\"rgb(253,219,199)\"],[0.5,\"rgb(247,247,247)\"],[0.6,\"rgb(209,229,240)\"],[0.7,\"rgb(146,197,222)\"],[0.8,\"rgb(67,147,195)\"],[0.9,\"rgb(33,102,172)\"],[1.0,\"rgb(5,48,97)\"]],\"hoverongaps\":false,\"text\":[[\" \",\" \",\" \",\" \",\" \",\" \",\" \",\" \"],[\" \",\" \",\" \",\" \",\" \",\" \",\" \",\" \"],[\" \",\" \",\" \",\" \",\" \",\" \",\" \",\" \"],[\" \",\" \",\"\\u2593\",\" \",\" \",\" \",\" \",\" \"],[\" \",\"\\u2588\",\" \",\" \",\" \",\" \",\" \",\" \"],[\" \",\"\\u2588\",\" \",\" \",\" \",\" \",\" \",\" \"],[\" \",\" \",\" \",\" \",\" \",\" \",\" \",\" \"],[\" \",\" \",\" \",\" \",\" \",\" \",\" \",\" \"]],\"texttemplate\":\"%{text}\",\"x\":[0,1,2,3,4,5,6,7],\"y\":[\"H\",\"G\",\"F\",\"E\",\"D\",\"C\",\"B\",\"A\"],\"z\":[[0.5000003576278687,0.0027653276920318604,0.9944576025009155,0.9950237274169922,0.9990624189376831,0.9956698417663574,0.9997649192810059,0.49999284744262695],[0.5001148581504822,0.500000536441803,0.9982492923736572,0.5473208427429199,0.4611799120903015,0.9764987230300903,0.500349223613739,0.9985688924789429],[0.0002633333206176758,0.997697651386261,0.01002916693687439,0.006594568490982056,0.7171849012374878,0.9648861289024353,0.973974883556366,0.9946303367614746],[0.9997256994247437,0.00013372302055358887,0.006859004497528076,0.02453678846359253,0.3067246079444885,0.384144127368927,0.5000026226043701,0.9823433756828308],[0.9990772008895874,0.003896355628967285,0.003139793872833252,0.04998442530632019,0.137320876121521,0.044444650411605835,0.07259669899940491,0.8342475891113281],[0.9999646544456482,0.19337224960327148,0.9951637983322144,0.7316015362739563,0.7675811648368835,0.18105685710906982,0.3150947690010071,0.9995707273483276],[0.5000030398368835,0.00016227364540100098,0.0027093887329101562,0.2867088317871094,0.15383151173591614,0.16175079345703125,0.5000407099723816,0.999646782875061],[0.5000452399253845,0.002699434757232666,0.4999951720237732,0.499978631734848,0.0026144087314605713,0.5000006556510925,0.5001807808876038,0.5000334978103638]],\"zmax\":1.0,\"zmin\":0.0,\"type\":\"heatmap\",\"xaxis\":\"x27\",\"yaxis\":\"y27\"},{\"colorscale\":[[0.0,\"rgb(103,0,31)\"],[0.1,\"rgb(178,24,43)\"],[0.2,\"rgb(214,96,77)\"],[0.3,\"rgb(244,165,130)\"],[0.4,\"rgb(253,219,199)\"],[0.5,\"rgb(247,247,247)\"],[0.6,\"rgb(209,229,240)\"],[0.7,\"rgb(146,197,222)\"],[0.8,\"rgb(67,147,195)\"],[0.9,\"rgb(33,102,172)\"],[1.0,\"rgb(5,48,97)\"]],\"hoverongaps\":false,\"text\":[[\" \",\" \",\" \",\" \",\" \",\" \",\" \",\" \"],[\" \",\" \",\" \",\" \",\" \",\" \",\" \",\" \"],[\" \",\" \",\" \",\" \",\" \",\" \",\" \",\" \"],[\" \",\" \",\"\\u2588\",\" \",\" \",\" \",\" \",\" \"],[\" \",\"\\u2588\",\" \",\" \",\" \",\" \",\" \",\" \"],[\" \",\"\\u2588\",\" \",\" \",\" \",\" \",\" \",\" \"],[\" \",\" \",\" \",\" \",\" \",\" \",\" \",\" \"],[\" \",\" \",\" \",\" \",\" \",\" \",\" \",\" \"]],\"texttemplate\":\"%{text}\",\"x\":[0,1,2,3,4,5,6,7],\"y\":[\"H\",\"G\",\"F\",\"E\",\"D\",\"C\",\"B\",\"A\"],\"z\":[[0.5001040697097778,0.0023232996463775635,0.998547375202179,0.9944847226142883,0.9977521896362305,0.9806442260742188,0.9997972249984741,0.5001004338264465],[0.49959129095077515,0.5001602172851562,0.9994829297065735,0.9503668546676636,0.9588427543640137,0.9185657501220703,0.5002425312995911,0.9981819987297058],[0.00031369924545288086,0.9992091059684753,0.024088531732559204,0.8701992034912109,0.976516842842102,0.9698787927627563,0.9887078404426575,0.9943658709526062],[0.9955577850341797,1.7434358596801758e-05,0.00766262412071228,0.004152178764343262,0.3204822540283203,0.28734374046325684,0.5000255703926086,0.9997611045837402],[0.9982953071594238,0.000505596399307251,0.002558887004852295,0.03785252571105957,0.8296675086021423,0.09523072838783264,0.02550375461578369,0.9964364767074585],[0.9995665550231934,0.004216104745864868,0.1936294138431549,0.0032075047492980957,0.12108466029167175,0.06349480152130127,0.06472894549369812,0.9991263151168823],[0.49998578429222107,0.00019556283950805664,0.00016188621520996094,0.03134956955909729,0.004521489143371582,0.007874101400375366,0.49997806549072266,0.9895089268684387],[0.5001450777053833,0.0031201839447021484,0.49965110421180725,0.4998231828212738,0.0005687475204467773,0.4999838173389435,0.5014148950576782,0.49996283650398254]],\"zmax\":1.0,\"zmin\":0.0,\"type\":\"heatmap\",\"xaxis\":\"x28\",\"yaxis\":\"y28\"},{\"colorscale\":[[0.0,\"rgb(103,0,31)\"],[0.1,\"rgb(178,24,43)\"],[0.2,\"rgb(214,96,77)\"],[0.3,\"rgb(244,165,130)\"],[0.4,\"rgb(253,219,199)\"],[0.5,\"rgb(247,247,247)\"],[0.6,\"rgb(209,229,240)\"],[0.7,\"rgb(146,197,222)\"],[0.8,\"rgb(67,147,195)\"],[0.9,\"rgb(33,102,172)\"],[1.0,\"rgb(5,48,97)\"]],\"hoverongaps\":false,\"text\":[[\" \",\" \",\" \",\" \",\" \",\" \",\" \",\" \"],[\" \",\" \",\" \",\" \",\" \",\" \",\" \",\" \"],[\" \",\" \",\" \",\" \",\" \",\" \",\" \",\" \"],[\" \",\" \",\"\\u2588\",\" \",\" \",\" \",\" \",\" \"],[\" \",\"\\u2588\",\" \",\" \",\" \",\" \",\" \",\" \"],[\" \",\"\\u2588\",\" \",\" \",\" \",\" \",\" \",\" \"],[\" \",\" \",\" \",\" \",\" \",\" \",\" \",\" \"],[\" \",\" \",\" \",\" \",\" \",\" \",\" \",\" \"]],\"texttemplate\":\"%{text}\",\"x\":[0,1,2,3,4,5,6,7],\"y\":[\"H\",\"G\",\"F\",\"E\",\"D\",\"C\",\"B\",\"A\"],\"z\":[[0.49999549984931946,0.03293916583061218,0.9997843503952026,0.9987188577651978,0.9986725449562073,0.9992291927337646,0.9999673962593079,0.5000301003456116],[0.5001027584075928,0.5000427961349487,0.997725784778595,0.8819073438644409,0.964617133140564,0.9708249568939209,0.5002115368843079,0.9901812076568604],[6.183981895446777e-05,0.9998055696487427,0.008711159229278564,0.9982390403747559,0.9893430471420288,0.9780737161636353,0.9972094297409058,0.9928985238075256],[0.9983997344970703,0.0008259713649749756,0.04379302263259888,0.013590097427368164,0.1151776909828186,0.9943310618400574,0.50002521276474,0.9996777772903442],[0.9998651146888733,0.006774157285690308,0.0010148584842681885,0.009656459093093872,0.9882141351699829,0.00783202052116394,0.015975594520568848,0.9955992698669434],[0.997497022151947,0.0026665329933166504,0.11977413296699524,0.017797410488128662,0.0032614469528198242,0.018663138151168823,0.02103370428085327,0.9996074438095093],[0.49996715784072876,0.00011229515075683594,0.0008985400199890137,0.005055099725723267,0.0013970136642456055,0.0025703012943267822,0.49999338388442993,0.9973026514053345],[0.49998754262924194,0.001218348741531372,0.4988044798374176,0.49975675344467163,7.033348083496094e-05,0.49988266825675964,0.4998341500759125,0.4999086558818817]],\"zmax\":1.0,\"zmin\":0.0,\"type\":\"heatmap\",\"xaxis\":\"x29\",\"yaxis\":\"y29\"},{\"colorscale\":[[0.0,\"rgb(103,0,31)\"],[0.1,\"rgb(178,24,43)\"],[0.2,\"rgb(214,96,77)\"],[0.3,\"rgb(244,165,130)\"],[0.4,\"rgb(253,219,199)\"],[0.5,\"rgb(247,247,247)\"],[0.6,\"rgb(209,229,240)\"],[0.7,\"rgb(146,197,222)\"],[0.8,\"rgb(67,147,195)\"],[0.9,\"rgb(33,102,172)\"],[1.0,\"rgb(5,48,97)\"]],\"hoverongaps\":false,\"text\":[[\" \",\" \",\" \",\" \",\" \",\" \",\" \",\" \"],[\" \",\" \",\" \",\" \",\" \",\" \",\" \",\" \"],[\" \",\" \",\" \",\" \",\" \",\" \",\" \",\" \"],[\" \",\" \",\"\\u2588\",\" \",\" \",\" \",\" \",\" \"],[\" \",\"\\u2588\",\" \",\" \",\" \",\" \",\" \",\" \"],[\" \",\"\\u2588\",\" \",\" \",\" \",\" \",\" \",\" \"],[\" \",\" \",\" \",\" \",\" \",\" \",\" \",\" \"],[\" \",\" \",\" \",\" \",\" \",\" \",\" \",\" \"]],\"texttemplate\":\"%{text}\",\"x\":[0,1,2,3,4,5,6,7],\"y\":[\"H\",\"G\",\"F\",\"E\",\"D\",\"C\",\"B\",\"A\"],\"z\":[[0.5,0.00916057825088501,0.9967048764228821,0.9993267059326172,0.9965303540229797,0.9997117519378662,0.9999434947967529,0.500018835067749],[0.49999991059303284,0.5,0.9989851713180542,0.993995189666748,0.9576643109321594,0.9984449148178101,0.5000531673431396,0.9909113645553589],[6.0498714447021484e-06,0.9996872544288635,0.000679314136505127,0.9874123334884644,0.9985076785087585,0.9985098838806152,0.9951236248016357,0.9719249606132507],[0.9999492168426514,0.0047442615032196045,0.00498846173286438,0.0008363127708435059,0.050907254219055176,0.9972410202026367,0.500052273273468,0.9999946355819702],[0.9998903274536133,0.016749262809753418,0.0006285607814788818,0.012390285730361938,0.9869071245193481,0.00757145881652832,0.03178635239601135,0.998519778251648],[0.9999556541442871,0.007801681756973267,0.0022172927856445312,0.018672794103622437,0.002990543842315674,0.012912988662719727,0.020812034606933594,0.9840350151062012],[0.5,0.00010332465171813965,0.0008134245872497559,0.0025993287563323975,0.004930436611175537,8.32974910736084e-05,0.4999999403953552,0.9504305124282837],[0.5,2.1338462829589844e-05,0.4999609887599945,0.4999932646751404,1.0967254638671875e-05,0.5,0.5,0.49985772371292114]],\"zmax\":1.0,\"zmin\":0.0,\"type\":\"heatmap\",\"xaxis\":\"x30\",\"yaxis\":\"y30\"},{\"colorscale\":[[0.0,\"rgb(103,0,31)\"],[0.1,\"rgb(178,24,43)\"],[0.2,\"rgb(214,96,77)\"],[0.3,\"rgb(244,165,130)\"],[0.4,\"rgb(253,219,199)\"],[0.5,\"rgb(247,247,247)\"],[0.6,\"rgb(209,229,240)\"],[0.7,\"rgb(146,197,222)\"],[0.8,\"rgb(67,147,195)\"],[0.9,\"rgb(33,102,172)\"],[1.0,\"rgb(5,48,97)\"]],\"hoverongaps\":false,\"text\":[[\" \",\" \",\" \",\" \",\" \",\" \",\" \",\" \"],[\" \",\" \",\" \",\" \",\" \",\" \",\" \",\" \"],[\" \",\" \",\" \",\" \",\" \",\" \",\" \",\" \"],[\" \",\" \",\"\\u2588\",\" \",\" \",\" \",\" \",\" \"],[\" \",\"\\u2588\",\" \",\" \",\" \",\" \",\" \",\" \"],[\" \",\"\\u2588\",\" \",\" \",\" \",\" \",\" \",\" \"],[\" \",\" \",\" \",\" \",\" \",\" \",\" \",\" \"],[\" \",\" \",\" \",\" \",\" \",\" \",\" \",\" \"]],\"texttemplate\":\"%{text}\",\"x\":[0,1,2,3,4,5,6,7],\"y\":[\"H\",\"G\",\"F\",\"E\",\"D\",\"C\",\"B\",\"A\"],\"z\":[[0.5,0.010196536779403687,0.9993796348571777,0.9997947216033936,0.9999092817306519,0.9998419284820557,0.9999250173568726,0.4999997913837433],[0.49997180700302124,0.5,0.9990864992141724,0.9841098785400391,0.9993659257888794,0.999316930770874,0.5000007748603821,0.9890776872634888],[9.223818778991699e-05,0.9850051403045654,0.001278907060623169,0.9933907985687256,0.9984879493713379,0.9997171759605408,0.9994664788246155,0.9957625269889832],[0.9999148845672607,0.0014732778072357178,0.05124363303184509,0.008577018976211548,0.012408971786499023,0.999626874923706,0.5,0.9999992847442627],[0.999935507774353,0.004601508378982544,0.0008866190910339355,0.0004705190658569336,0.9924838542938232,0.003817349672317505,0.0030745863914489746,0.9997637867927551],[0.9999868869781494,0.002974957227706909,0.011244148015975952,0.0006260275840759277,0.0008393526077270508,0.012037605047225952,0.00015819072723388672,0.9856654405593872],[0.5,6.794929504394531e-06,0.0027742981910705566,0.00024646520614624023,0.00011739134788513184,4.887580871582031e-06,0.5,0.9761396646499634],[0.5,3.758072853088379e-05,0.5,0.4999999701976776,0.00023621320724487305,0.5,0.5,0.4999982416629791]],\"zmax\":1.0,\"zmin\":0.0,\"type\":\"heatmap\",\"xaxis\":\"x31\",\"yaxis\":\"y31\"},{\"colorscale\":[[0.0,\"rgb(103,0,31)\"],[0.1,\"rgb(178,24,43)\"],[0.2,\"rgb(214,96,77)\"],[0.3,\"rgb(244,165,130)\"],[0.4,\"rgb(253,219,199)\"],[0.5,\"rgb(247,247,247)\"],[0.6,\"rgb(209,229,240)\"],[0.7,\"rgb(146,197,222)\"],[0.8,\"rgb(67,147,195)\"],[0.9,\"rgb(33,102,172)\"],[1.0,\"rgb(5,48,97)\"]],\"hoverongaps\":false,\"text\":[[\" \",\" \",\" \",\" \",\" \",\" \",\" \",\" \"],[\" \",\" \",\" \",\" \",\" \",\" \",\" \",\" \"],[\" \",\" \",\" \",\" \",\" \",\" \",\" \",\" \"],[\" \",\" \",\"\\u2588\",\" \",\" \",\" \",\" \",\" \"],[\" \",\"\\u2588\",\" \",\" \",\" \",\" \",\" \",\" \"],[\" \",\"\\u2588\",\" \",\" \",\" \",\" \",\" \",\" \"],[\" \",\" \",\" \",\" \",\" \",\" \",\" \",\" \"],[\" \",\" \",\" \",\" \",\" \",\" \",\" \",\" \"]],\"texttemplate\":\"%{text}\",\"x\":[0,1,2,3,4,5,6,7],\"y\":[\"H\",\"G\",\"F\",\"E\",\"D\",\"C\",\"B\",\"A\"],\"z\":[[0.5,0.1926487386226654,0.9957583546638489,0.9999699592590332,0.9999631643295288,0.999514639377594,0.9997855424880981,0.4999995529651642],[0.5000410079956055,0.5,0.9586217403411865,0.9982043504714966,0.9992576837539673,0.9999430179595947,0.5000083446502686,0.9956356883049011],[1.8030405044555664e-05,0.9958046078681946,0.00465807318687439,0.9984995722770691,0.9989480376243591,0.9974437952041626,0.9997125864028931,0.9992460012435913],[0.9990541338920593,0.00017210841178894043,0.02656373381614685,0.0050848424434661865,0.005293786525726318,0.9996294379234314,0.49999991059303284,0.9999443292617798],[0.9999884366989136,0.0039237141609191895,0.0003878772258758545,0.0008814632892608643,0.9647058248519897,0.0013391673564910889,0.0010738372802734375,0.9952678084373474],[0.999996542930603,0.007231026887893677,0.0004165470600128174,8.484721183776855e-05,0.0011695027351379395,0.003624469041824341,0.0004073679447174072,0.9943137168884277],[0.5,7.718801498413086e-06,0.000391542911529541,0.0001264512538909912,1.0222196578979492e-05,3.2186508178710938e-06,0.5,0.9054946303367615],[0.5,8.344650268554688e-06,0.499994158744812,0.49999523162841797,1.1056661605834961e-05,0.5,0.5,0.5000511407852173]],\"zmax\":1.0,\"zmin\":0.0,\"type\":\"heatmap\",\"xaxis\":\"x32\",\"yaxis\":\"y32\"},{\"colorscale\":[[0.0,\"rgb(103,0,31)\"],[0.1,\"rgb(178,24,43)\"],[0.2,\"rgb(214,96,77)\"],[0.3,\"rgb(244,165,130)\"],[0.4,\"rgb(253,219,199)\"],[0.5,\"rgb(247,247,247)\"],[0.6,\"rgb(209,229,240)\"],[0.7,\"rgb(146,197,222)\"],[0.8,\"rgb(67,147,195)\"],[0.9,\"rgb(33,102,172)\"],[1.0,\"rgb(5,48,97)\"]],\"hoverongaps\":false,\"text\":[[\" \",\" \",\" \",\" \",\" \",\" \",\" \",\" \"],[\" \",\" \",\" \",\" \",\" \",\" \",\" \",\" \"],[\" \",\" \",\" \",\" \",\" \",\" \",\" \",\" \"],[\" \",\" \",\" \",\"\\u2591\",\" \",\" \",\" \",\" \"],[\" \",\" \",\"\\u2588\",\" \",\" \",\" \",\" \",\" \"],[\" \",\"\\u2588\",\" \",\" \",\" \",\" \",\" \",\" \"],[\" \",\"\\u2588\",\"\\u2588\",\"\\u2591\",\" \",\" \",\" \",\" \"],[\" \",\" \",\" \",\" \",\" \",\" \",\" \",\" \"]],\"texttemplate\":\"%{text}\",\"x\":[0,1,2,3,4,5,6,7],\"y\":[\"H\",\"G\",\"F\",\"E\",\"D\",\"C\",\"B\",\"A\"],\"z\":[[0.4999997913837433,0.05393403768539429,0.6547876596450806,0.26947563886642456,0.5340541005134583,0.6189254522323608,0.9877556562423706,0.4999981224536896],[0.49999991059303284,0.4999648928642273,0.3453506827354431,0.30498096346855164,0.17946559190750122,0.899612545967102,0.5000013709068298,0.7951956987380981],[0.014047622680664062,0.27385133504867554,0.28219151496887207,0.4104328751564026,0.8152300715446472,0.4671410918235779,0.7100301384925842,0.8067253828048706],[0.9824326038360596,0.042455583810806274,0.2768535912036896,0.6733754873275757,0.5721004009246826,0.5630351901054382,0.4999767541885376,0.2794029116630554],[0.9830485582351685,0.5737684369087219,0.5452911257743835,0.27058953046798706,0.4894775152206421,0.8152843713760376,0.32295554876327515,0.2907172739505768],[0.9991257786750793,0.9934779405593872,0.6503891348838806,0.20768767595291138,0.9248120784759521,0.5518481135368347,0.46315479278564453,0.48239588737487793],[0.9996531009674072,0.525438666343689,0.7614119052886963,0.8324246406555176,0.601292073726654,0.9218490123748779,0.5,0.9474490880966187],[0.5,0.0007128417491912842,0.49999675154685974,0.49998366832733154,0.07346305251121521,0.4999985694885254,0.5000006556510925,0.49999892711639404]],\"zmax\":1.0,\"zmin\":0.0,\"type\":\"heatmap\",\"xaxis\":\"x33\",\"yaxis\":\"y33\"},{\"colorscale\":[[0.0,\"rgb(103,0,31)\"],[0.1,\"rgb(178,24,43)\"],[0.2,\"rgb(214,96,77)\"],[0.3,\"rgb(244,165,130)\"],[0.4,\"rgb(253,219,199)\"],[0.5,\"rgb(247,247,247)\"],[0.6,\"rgb(209,229,240)\"],[0.7,\"rgb(146,197,222)\"],[0.8,\"rgb(67,147,195)\"],[0.9,\"rgb(33,102,172)\"],[1.0,\"rgb(5,48,97)\"]],\"hoverongaps\":false,\"text\":[[\" \",\" \",\" \",\" \",\" \",\" \",\" \",\" \"],[\" \",\" \",\" \",\" \",\" \",\" \",\" \",\" \"],[\" \",\" \",\" \",\" \",\" \",\" \",\" \",\" \"],[\" \",\" \",\" \",\"\\u2591\",\" \",\" \",\" \",\" \"],[\" \",\" \",\"\\u2592\",\" \",\" \",\" \",\" \",\" \"],[\" \",\"\\u2593\",\" \",\" \",\" \",\" \",\" \",\" \"],[\" \",\"\\u2588\",\"\\u2593\",\"\\u2591\",\" \",\" \",\" \",\" \"],[\" \",\" \",\" \",\" \",\" \",\" \",\" \",\" \"]],\"texttemplate\":\"%{text}\",\"x\":[0,1,2,3,4,5,6,7],\"y\":[\"H\",\"G\",\"F\",\"E\",\"D\",\"C\",\"B\",\"A\"],\"z\":[[0.500024676322937,0.02594161033630371,0.40145525336265564,0.0922161340713501,0.36066800355911255,0.5160727500915527,0.9982492327690125,0.5000008344650269],[0.5000001788139343,0.49999377131462097,0.7465838193893433,0.6661240458488464,0.3835391402244568,0.9479875564575195,0.5000013709068298,0.9938987493515015],[0.14362642168998718,0.8778323531150818,0.2022227942943573,0.5060116648674011,0.9647952318191528,0.8009312152862549,0.6778813004493713,0.9967364072799683],[0.9997420907020569,0.03656771779060364,0.1260189712047577,0.8290950059890747,0.46797946095466614,0.3489806056022644,0.5000041723251343,0.7088291049003601],[0.999991774559021,0.10229542851448059,0.5966188907623291,0.4165409505367279,0.48524555563926697,0.7881169319152832,0.1303396224975586,0.9568413496017456],[0.9999074935913086,0.9939860105514526,0.828315258026123,0.1920248568058014,0.8743795156478882,0.30823373794555664,0.25226303935050964,0.9635458588600159],[0.999962568283081,0.8650605082511902,0.9893725514411926,0.9684618711471558,0.21091711521148682,0.7702862024307251,0.49999988079071045,0.9991449117660522],[0.5000001192092896,0.0013976693153381348,0.4999980926513672,0.49993911385536194,0.0031201541423797607,0.49996712803840637,0.49994176626205444,0.4999803304672241]],\"zmax\":1.0,\"zmin\":0.0,\"type\":\"heatmap\",\"xaxis\":\"x34\",\"yaxis\":\"y34\"},{\"colorscale\":[[0.0,\"rgb(103,0,31)\"],[0.1,\"rgb(178,24,43)\"],[0.2,\"rgb(214,96,77)\"],[0.3,\"rgb(244,165,130)\"],[0.4,\"rgb(253,219,199)\"],[0.5,\"rgb(247,247,247)\"],[0.6,\"rgb(209,229,240)\"],[0.7,\"rgb(146,197,222)\"],[0.8,\"rgb(67,147,195)\"],[0.9,\"rgb(33,102,172)\"],[1.0,\"rgb(5,48,97)\"]],\"hoverongaps\":false,\"text\":[[\" \",\" \",\" \",\" \",\" \",\" \",\" \",\" \"],[\" \",\" \",\" \",\" \",\" \",\" \",\" \",\" \"],[\" \",\" \",\" \",\" \",\" \",\" \",\" \",\" \"],[\" \",\" \",\" \",\"\\u2591\",\" \",\" \",\" \",\" \"],[\" \",\" \",\"\\u2591\",\" \",\" \",\" \",\" \",\" \"],[\" \",\" \",\" \",\" \",\" \",\" \",\" \",\" \"],[\" \",\"\\u2588\",\"\\u2588\",\" \",\" \",\" \",\" \",\" \"],[\" \",\" \",\" \",\" \",\" \",\" \",\" \",\" \"]],\"texttemplate\":\"%{text}\",\"x\":[0,1,2,3,4,5,6,7],\"y\":[\"H\",\"G\",\"F\",\"E\",\"D\",\"C\",\"B\",\"A\"],\"z\":[[0.5000061392784119,0.005275547504425049,0.9037462472915649,0.9209396839141846,0.9401324987411499,0.9383960962295532,0.9993704557418823,0.49997347593307495],[0.4999733865261078,0.49999672174453735,0.9228414297103882,0.3511989116668701,0.39908385276794434,0.9847576022148132,0.49993714690208435,0.9983341693878174],[0.0006526410579681396,0.9343665838241577,0.007722795009613037,0.017604291439056396,0.9805887341499329,0.8849361538887024,0.964542806148529,0.9987783432006836],[0.9944252967834473,0.0055509209632873535,0.036878108978271484,0.665036678314209,0.2864992320537567,0.3437103033065796,0.5000014901161194,0.9962515234947205],[0.9966398477554321,0.05342945456504822,0.1759679615497589,0.09994247555732727,0.4681892395019531,0.5012586116790771,0.06104364991188049,0.9964959621429443],[0.9966529607772827,0.9993422031402588,0.990736722946167,0.3120930790901184,0.8778338432312012,0.37259146571159363,0.19665801525115967,0.9994836449623108],[0.9859384894371033,0.5902401208877563,0.9258264303207397,0.9560700058937073,0.07106199860572815,0.16465529799461365,0.4999963641166687,0.9991810321807861],[0.5000005960464478,0.002001166343688965,0.5000078082084656,0.5000031590461731,0.0015296339988708496,0.4999341368675232,0.49990952014923096,0.49999526143074036]],\"zmax\":1.0,\"zmin\":0.0,\"type\":\"heatmap\",\"xaxis\":\"x35\",\"yaxis\":\"y35\"},{\"colorscale\":[[0.0,\"rgb(103,0,31)\"],[0.1,\"rgb(178,24,43)\"],[0.2,\"rgb(214,96,77)\"],[0.3,\"rgb(244,165,130)\"],[0.4,\"rgb(253,219,199)\"],[0.5,\"rgb(247,247,247)\"],[0.6,\"rgb(209,229,240)\"],[0.7,\"rgb(146,197,222)\"],[0.8,\"rgb(67,147,195)\"],[0.9,\"rgb(33,102,172)\"],[1.0,\"rgb(5,48,97)\"]],\"hoverongaps\":false,\"text\":[[\" \",\" \",\" \",\" \",\" \",\" \",\" \",\" \"],[\" \",\" \",\" \",\" \",\" \",\" \",\" \",\" \"],[\" \",\" \",\" \",\" \",\" \",\" \",\" \",\" \"],[\" \",\" \",\" \",\"\\u2593\",\" \",\" \",\" \",\" \"],[\" \",\" \",\"\\u2588\",\" \",\" \",\" \",\" \",\" \"],[\" \",\"\\u2588\",\" \",\" \",\" \",\" \",\" \",\" \"],[\" \",\"\\u2592\",\"\\u2591\",\" \",\" \",\" \",\" \",\" \"],[\" \",\" \",\" \",\" \",\" \",\" \",\" \",\" \"]],\"texttemplate\":\"%{text}\",\"x\":[0,1,2,3,4,5,6,7],\"y\":[\"H\",\"G\",\"F\",\"E\",\"D\",\"C\",\"B\",\"A\"],\"z\":[[0.5001049637794495,0.005566388368606567,0.9971060752868652,0.9968616962432861,0.9987302422523499,0.9984904527664185,0.9998323917388916,0.5001018047332764],[0.49990731477737427,0.500087320804596,0.9947587847709656,0.8744582533836365,0.7982288599014282,0.8045909404754639,0.5007185935974121,0.9992896318435669],[0.0012688040733337402,0.9935802221298218,0.04627653956413269,0.79050612449646,0.9873168468475342,0.9165658354759216,0.9823510646820068,0.9978377819061279],[0.9842572808265686,0.02454635500907898,0.02689090371131897,0.858643114566803,0.27227094769477844,0.4788373112678528,0.4995601177215576,0.9986411929130554],[0.998803436756134,0.0020017027854919434,0.9125864505767822,0.02917557954788208,0.7945771217346191,0.032443493604660034,0.02259787917137146,0.9966506361961365],[0.989851176738739,0.9974238872528076,0.7379474639892578,0.11274325847625732,0.07142141461372375,0.12793266773223877,0.06368929147720337,0.993640661239624],[0.9983144998550415,0.02711084485054016,0.3516676425933838,0.3097432851791382,0.02458593249320984,0.010207384824752808,0.4999314546585083,0.9965529441833496],[0.5009322166442871,0.019781142473220825,0.5000540018081665,0.49989649653434753,0.0009534955024719238,0.49917739629745483,0.4997483193874359,0.49851080775260925]],\"zmax\":1.0,\"zmin\":0.0,\"type\":\"heatmap\",\"xaxis\":\"x36\",\"yaxis\":\"y36\"},{\"colorscale\":[[0.0,\"rgb(103,0,31)\"],[0.1,\"rgb(178,24,43)\"],[0.2,\"rgb(214,96,77)\"],[0.3,\"rgb(244,165,130)\"],[0.4,\"rgb(253,219,199)\"],[0.5,\"rgb(247,247,247)\"],[0.6,\"rgb(209,229,240)\"],[0.7,\"rgb(146,197,222)\"],[0.8,\"rgb(67,147,195)\"],[0.9,\"rgb(33,102,172)\"],[1.0,\"rgb(5,48,97)\"]],\"hoverongaps\":false,\"text\":[[\" \",\" \",\" \",\" \",\" \",\" \",\" \",\" \"],[\" \",\" \",\" \",\" \",\" \",\" \",\" \",\" \"],[\" \",\" \",\" \",\" \",\" \",\" \",\" \",\" \"],[\" \",\" \",\" \",\"\\u2588\",\" \",\" \",\" \",\" \"],[\" \",\" \",\"\\u2588\",\" \",\" \",\" \",\" \",\" \"],[\"\\u2591\",\"\\u2588\",\" \",\" \",\" \",\" \",\" \",\" \"],[\" \",\" \",\" \",\" \",\" \",\" \",\" \",\" \"],[\" \",\" \",\" \",\" \",\" \",\" \",\" \",\" \"]],\"texttemplate\":\"%{text}\",\"x\":[0,1,2,3,4,5,6,7],\"y\":[\"H\",\"G\",\"F\",\"E\",\"D\",\"C\",\"B\",\"A\"],\"z\":[[0.5000044703483582,0.002716153860092163,0.9929026961326599,0.9924889802932739,0.999322772026062,0.9924353361129761,0.9999951720237732,0.5002209544181824],[0.4998057782649994,0.4999953508377075,0.9978740811347961,0.9793652296066284,0.9396176338195801,0.9445584416389465,0.5004138350486755,0.9969313144683838],[0.00032779574394226074,0.9980098009109497,0.052040278911590576,0.9841271638870239,0.999828040599823,0.9674007892608643,0.9921406507492065,0.992988109588623],[0.9773924350738525,0.0007915496826171875,0.04191210865974426,0.996036171913147,0.12829500436782837,0.9729408025741577,0.4999745190143585,0.9986439943313599],[0.9998666048049927,0.0003903806209564209,0.9959452152252197,0.038103461265563965,0.9372281432151794,0.13008230924606323,0.009892910718917847,0.9379560947418213],[0.99127197265625,0.9972079992294312,0.09414628148078918,0.014348804950714111,0.002253413200378418,0.007227212190628052,0.09882450103759766,0.9945355653762817],[0.9999412298202515,0.00039145350456237793,0.002474755048751831,0.0036454498767852783,0.002471417188644409,0.0011695921421051025,0.49966663122177124,0.9993647336959839],[0.5006242990493774,0.020989656448364258,0.5004047751426697,0.4997106194496155,0.012943536043167114,0.49982526898384094,0.500364363193512,0.4986974895000458]],\"zmax\":1.0,\"zmin\":0.0,\"type\":\"heatmap\",\"xaxis\":\"x37\",\"yaxis\":\"y37\"},{\"colorscale\":[[0.0,\"rgb(103,0,31)\"],[0.1,\"rgb(178,24,43)\"],[0.2,\"rgb(214,96,77)\"],[0.3,\"rgb(244,165,130)\"],[0.4,\"rgb(253,219,199)\"],[0.5,\"rgb(247,247,247)\"],[0.6,\"rgb(209,229,240)\"],[0.7,\"rgb(146,197,222)\"],[0.8,\"rgb(67,147,195)\"],[0.9,\"rgb(33,102,172)\"],[1.0,\"rgb(5,48,97)\"]],\"hoverongaps\":false,\"text\":[[\" \",\" \",\" \",\" \",\" \",\" \",\" \",\" \"],[\" \",\" \",\" \",\" \",\" \",\" \",\" \",\" \"],[\" \",\" \",\" \",\" \",\" \",\" \",\" \",\" \"],[\" \",\" \",\" \",\"\\u2588\",\" \",\" \",\" \",\" \"],[\" \",\" \",\"\\u2588\",\" \",\" \",\" \",\" \",\" \"],[\" \",\"\\u2588\",\" \",\" \",\" \",\" \",\" \",\" \"],[\" \",\" \",\" \",\" \",\" \",\" \",\" \",\" \"],[\" \",\" \",\" \",\" \",\" \",\" \",\" \",\" \"]],\"texttemplate\":\"%{text}\",\"x\":[0,1,2,3,4,5,6,7],\"y\":[\"H\",\"G\",\"F\",\"E\",\"D\",\"C\",\"B\",\"A\"],\"z\":[[0.4999982416629791,0.008714616298675537,0.9853142499923706,0.9990072250366211,0.9997161626815796,0.99820876121521,0.9999856948852539,0.5000005960464478],[0.5,0.5,0.9956346154212952,0.9775379300117493,0.9867203235626221,0.9694243669509888,0.5,0.9999249577522278],[0.0005438029766082764,0.9998288154602051,0.022170573472976685,0.996476411819458,0.9996337890625,0.9906764626502991,0.9928791522979736,0.9922637343406677],[0.9970719218254089,0.008485227823257446,0.017247319221496582,0.998542308807373,0.03486683964729309,0.9895616769790649,0.4999997615814209,0.9996144771575928],[0.9999967813491821,0.010506302118301392,0.9996799230575562,0.006118148565292358,0.9895281195640564,0.003366410732269287,0.0030927658081054688,0.9957191944122314],[0.9995083808898926,0.9999141693115234,0.05165374279022217,0.0329950749874115,0.005833446979522705,0.0030135512351989746,0.028791099786758423,0.9989539384841919],[0.9999978542327881,3.1948089599609375e-05,0.004271388053894043,0.00045558810234069824,0.00020757317543029785,8.70823860168457e-05,0.49999162554740906,0.9979745745658875],[0.5001840591430664,0.001921921968460083,0.5000013113021851,0.4999949038028717,0.0004124641418457031,0.500003457069397,0.4998852610588074,0.5033063292503357]],\"zmax\":1.0,\"zmin\":0.0,\"type\":\"heatmap\",\"xaxis\":\"x38\",\"yaxis\":\"y38\"},{\"colorscale\":[[0.0,\"rgb(103,0,31)\"],[0.1,\"rgb(178,24,43)\"],[0.2,\"rgb(214,96,77)\"],[0.3,\"rgb(244,165,130)\"],[0.4,\"rgb(253,219,199)\"],[0.5,\"rgb(247,247,247)\"],[0.6,\"rgb(209,229,240)\"],[0.7,\"rgb(146,197,222)\"],[0.8,\"rgb(67,147,195)\"],[0.9,\"rgb(33,102,172)\"],[1.0,\"rgb(5,48,97)\"]],\"hoverongaps\":false,\"text\":[[\" \",\" \",\" \",\" \",\" \",\" \",\" \",\" \"],[\" \",\" \",\" \",\" \",\" \",\" \",\" \",\" \"],[\" \",\" \",\" \",\" \",\" \",\" \",\" \",\" \"],[\" \",\" \",\" \",\"\\u2588\",\" \",\" \",\" \",\" \"],[\" \",\" \",\"\\u2588\",\" \",\" \",\" \",\" \",\" \"],[\" \",\"\\u2588\",\" \",\" \",\" \",\" \",\" \",\" \"],[\" \",\" \",\" \",\" \",\" \",\" \",\" \",\" \"],[\" \",\" \",\" \",\" \",\" \",\" \",\" \",\" \"]],\"texttemplate\":\"%{text}\",\"x\":[0,1,2,3,4,5,6,7],\"y\":[\"H\",\"G\",\"F\",\"E\",\"D\",\"C\",\"B\",\"A\"],\"z\":[[0.49988868832588196,0.0003438591957092285,0.9359205365180969,0.96532142162323,0.9983433485031128,0.9995613098144531,0.9999634027481079,0.5],[0.5,0.5,0.9866527318954468,0.9945226907730103,0.9969215393066406,0.9111461043357849,0.5,0.999840497970581],[0.0072258710861206055,0.9999569654464722,0.00569191575050354,0.9981034994125366,0.997201681137085,0.9915448427200317,0.9998327493667603,0.9999610185623169],[0.969780683517456,0.0668153166770935,0.00963166356086731,0.9836494326591492,0.004125028848648071,0.9815598726272583,0.5,0.9996991157531738],[0.9999936819076538,0.016421109437942505,0.9952415823936462,0.002495020627975464,0.9994729161262512,0.003048419952392578,0.0006553232669830322,0.9962097406387329],[0.9975271224975586,0.9998054504394531,0.00410771369934082,0.0037208497524261475,0.00011733174324035645,0.000589519739151001,0.00023820996284484863,0.9993484020233154],[0.9999947547912598,3.7848949432373047e-06,0.0003031790256500244,0.00011864304542541504,0.0014096498489379883,0.00010412931442260742,0.5,0.9998180866241455],[0.5,0.00040918588638305664,0.5,0.5,0.0004722774028778076,0.4999999403953552,0.4857286512851715,0.51308274269104]],\"zmax\":1.0,\"zmin\":0.0,\"type\":\"heatmap\",\"xaxis\":\"x39\",\"yaxis\":\"y39\"},{\"colorscale\":[[0.0,\"rgb(103,0,31)\"],[0.1,\"rgb(178,24,43)\"],[0.2,\"rgb(214,96,77)\"],[0.3,\"rgb(244,165,130)\"],[0.4,\"rgb(253,219,199)\"],[0.5,\"rgb(247,247,247)\"],[0.6,\"rgb(209,229,240)\"],[0.7,\"rgb(146,197,222)\"],[0.8,\"rgb(67,147,195)\"],[0.9,\"rgb(33,102,172)\"],[1.0,\"rgb(5,48,97)\"]],\"hoverongaps\":false,\"text\":[[\" \",\" \",\" \",\" \",\" \",\" \",\" \",\" \"],[\" \",\" \",\" \",\" \",\" \",\" \",\" \",\" \"],[\" \",\" \",\" \",\" \",\" \",\" \",\" \",\" \"],[\" \",\" \",\" \",\"\\u2588\",\" \",\" \",\" \",\" \"],[\" \",\" \",\"\\u2588\",\" \",\" \",\" \",\" \",\" \"],[\" \",\"\\u2588\",\" \",\" \",\" \",\" \",\" \",\" \"],[\" \",\" \",\" \",\" \",\" \",\" \",\" \",\" \"],[\" \",\" \",\" \",\" \",\" \",\" \",\" \",\" \"]],\"texttemplate\":\"%{text}\",\"x\":[0,1,2,3,4,5,6,7],\"y\":[\"H\",\"G\",\"F\",\"E\",\"D\",\"C\",\"B\",\"A\"],\"z\":[[0.4999281167984009,0.004873037338256836,0.9939926862716675,0.9954277873039246,0.9994568824768066,0.9994813799858093,0.9999887943267822,0.5],[0.5,0.5,0.9971206188201904,0.9983848333358765,0.9972380995750427,0.9982059597969055,0.5,0.9980124831199646],[0.026559829711914062,0.9999819993972778,0.05285876989364624,0.9993922710418701,0.999504566192627,0.9949349164962769,0.9991978406906128,0.9998351335525513],[0.9744194149971008,0.08209913969039917,0.002056300640106201,0.9933242797851562,0.007923245429992676,0.9955437183380127,0.5,0.9992799758911133],[0.9999995231628418,0.028363943099975586,0.9991975426673889,0.007507383823394775,0.997194766998291,0.0023640692234039307,0.020741909742355347,0.9929754137992859],[0.9985558986663818,0.9999414682388306,0.002901911735534668,0.04140132665634155,0.00019305944442749023,0.001852273941040039,0.0004962682723999023,0.9976674914360046],[0.9999998807907104,1.7583370208740234e-06,0.014587968587875366,0.0001259446144104004,0.0029229819774627686,7.587671279907227e-05,0.4999999701976776,0.9994696378707886],[0.5,0.007432460784912109,0.5000002384185791,0.5000142455101013,0.000371783971786499,0.4999043345451355,0.4611760973930359,0.5029493570327759]],\"zmax\":1.0,\"zmin\":0.0,\"type\":\"heatmap\",\"xaxis\":\"x40\",\"yaxis\":\"y40\"},{\"colorscale\":[[0.0,\"rgb(103,0,31)\"],[0.1,\"rgb(178,24,43)\"],[0.2,\"rgb(214,96,77)\"],[0.3,\"rgb(244,165,130)\"],[0.4,\"rgb(253,219,199)\"],[0.5,\"rgb(247,247,247)\"],[0.6,\"rgb(209,229,240)\"],[0.7,\"rgb(146,197,222)\"],[0.8,\"rgb(67,147,195)\"],[0.9,\"rgb(33,102,172)\"],[1.0,\"rgb(5,48,97)\"]],\"hoverongaps\":false,\"text\":[[\" \",\" \",\" \",\" \",\" \",\" \",\" \",\" \"],[\" \",\" \",\" \",\" \",\" \",\" \",\" \",\" \"],[\" \",\" \",\" \",\" \",\" \",\"\\u2592\",\" \",\" \"],[\" \",\" \",\" \",\"\\u2591\",\"\\u2592\",\"\\u2593\",\" \",\" \"],[\" \",\" \",\" \",\" \",\" \",\"\\u2593\",\" \",\" \"],[\" \",\" \",\" \",\" \",\"\\u2592\",\" \",\" \",\" \"],[\" \",\" \",\" \",\" \",\" \",\" \",\" \",\" \"],[\" \",\" \",\" \",\" \",\" \",\" \",\" \",\" \"]],\"texttemplate\":\"%{text}\",\"x\":[0,1,2,3,4,5,6,7],\"y\":[\"H\",\"G\",\"F\",\"E\",\"D\",\"C\",\"B\",\"A\"],\"z\":[[0.5000052452087402,0.08467963337898254,0.6663386821746826,0.2646668255329132,0.8827790021896362,0.8687089681625366,0.9990066885948181,0.5000137686729431],[0.4999889135360718,0.4999825358390808,0.5325822830200195,0.40984243154525757,0.1474856436252594,0.8953083753585815,0.5,0.9893255233764648],[0.031317174434661865,0.12161391973495483,0.3551883101463318,0.20155245065689087,0.8236915469169617,0.01044723391532898,0.9718221426010132,0.9529128670692444],[0.9637430906295776,0.19310259819030762,0.5700289011001587,0.4587540626525879,0.1515594720840454,0.03375157713890076,0.0025722086429595947,0.19969159364700317],[0.9866601228713989,0.84494948387146,0.7414710521697998,0.269899845123291,0.6673983335494995,0.12472465634346008,0.08342057466506958,0.023227453231811523],[0.9975762963294983,0.9858731031417847,0.4978318214416504,0.4206571578979492,0.4129529595375061,0.5463932752609253,0.21790486574172974,0.09421265125274658],[0.9998664855957031,0.49555036425590515,0.7813420295715332,0.5900969505310059,0.4793808162212372,0.6825070977210999,0.5000001788139343,0.9061770439147949],[0.5000020265579224,0.021760493516921997,0.5000003576278687,0.5000112652778625,0.03448551893234253,0.49996137619018555,0.5000009536743164,0.5000247955322266]],\"zmax\":1.0,\"zmin\":0.0,\"type\":\"heatmap\",\"xaxis\":\"x41\",\"yaxis\":\"y41\"},{\"colorscale\":[[0.0,\"rgb(103,0,31)\"],[0.1,\"rgb(178,24,43)\"],[0.2,\"rgb(214,96,77)\"],[0.3,\"rgb(244,165,130)\"],[0.4,\"rgb(253,219,199)\"],[0.5,\"rgb(247,247,247)\"],[0.6,\"rgb(209,229,240)\"],[0.7,\"rgb(146,197,222)\"],[0.8,\"rgb(67,147,195)\"],[0.9,\"rgb(33,102,172)\"],[1.0,\"rgb(5,48,97)\"]],\"hoverongaps\":false,\"text\":[[\" \",\" \",\" \",\" \",\" \",\" \",\" \",\" \"],[\" \",\" \",\" \",\" \",\" \",\" \",\" \",\" \"],[\" \",\" \",\" \",\" \",\" \",\"\\u2593\",\" \",\" \"],[\" \",\" \",\" \",\" \",\"\\u2593\",\"\\u2593\",\" \",\" \"],[\" \",\" \",\" \",\" \",\" \",\"\\u2592\",\" \",\" \"],[\" \",\" \",\" \",\" \",\" \",\" \",\" \",\" \"],[\" \",\" \",\" \",\" \",\" \",\" \",\" \",\" \"],[\" \",\" \",\" \",\" \",\" \",\" \",\" \",\" \"]],\"texttemplate\":\"%{text}\",\"x\":[0,1,2,3,4,5,6,7],\"y\":[\"H\",\"G\",\"F\",\"E\",\"D\",\"C\",\"B\",\"A\"],\"z\":[[0.4999999403953552,0.008083879947662354,0.9868133068084717,0.8556334972381592,0.8149112462997437,0.9202742576599121,0.9999430775642395,0.49999934434890747],[0.5000392198562622,0.5000060796737671,0.9472267627716064,0.8047823905944824,0.10909831523895264,0.9585145711898804,0.5000000596046448,0.9995402097702026],[0.002230823040008545,0.776149570941925,0.44565218687057495,0.5377779006958008,0.9570238590240479,0.015647023916244507,0.9744783639907837,0.9964417219161987],[0.9946638345718384,0.027067214250564575,0.061775028705596924,0.252172589302063,0.07123899459838867,0.016400635242462158,0.006335616111755371,0.5337762236595154],[0.9992644786834717,0.217604398727417,0.40630704164505005,0.14718523621559143,0.7275799512863159,0.09148669242858887,0.01517784595489502,0.11052188277244568],[0.999580979347229,0.9841419458389282,0.32358992099761963,0.16556480526924133,0.5640770792961121,0.4983331859111786,0.02247193455696106,0.8676438927650452],[0.9999446868896484,0.060120731592178345,0.6854970455169678,0.9017413854598999,0.5409361720085144,0.7075678706169128,0.5,0.9957293272018433],[0.5000000596046448,0.0019912123680114746,0.500006914138794,0.5000725984573364,0.006063550710678101,0.5000559687614441,0.5000209212303162,0.500005841255188]],\"zmax\":1.0,\"zmin\":0.0,\"type\":\"heatmap\",\"xaxis\":\"x42\",\"yaxis\":\"y42\"},{\"colorscale\":[[0.0,\"rgb(103,0,31)\"],[0.1,\"rgb(178,24,43)\"],[0.2,\"rgb(214,96,77)\"],[0.3,\"rgb(244,165,130)\"],[0.4,\"rgb(253,219,199)\"],[0.5,\"rgb(247,247,247)\"],[0.6,\"rgb(209,229,240)\"],[0.7,\"rgb(146,197,222)\"],[0.8,\"rgb(67,147,195)\"],[0.9,\"rgb(33,102,172)\"],[1.0,\"rgb(5,48,97)\"]],\"hoverongaps\":false,\"text\":[[\" \",\" \",\" \",\" \",\" \",\" \",\" \",\" \"],[\" \",\" \",\" \",\" \",\" \",\" \",\" \",\" \"],[\" \",\" \",\" \",\" \",\" \",\"\\u2593\",\" \",\" \"],[\" \",\" \",\" \",\" \",\"\\u2591\",\"\\u2593\",\" \",\" \"],[\" \",\" \",\" \",\" \",\" \",\" \",\" \",\" \"],[\" \",\" \",\" \",\" \",\" \",\" \",\" \",\" \"],[\" \",\" \",\" \",\" \",\" \",\" \",\" \",\" \"],[\" \",\" \",\" \",\" \",\" \",\" \",\" \",\" \"]],\"texttemplate\":\"%{text}\",\"x\":[0,1,2,3,4,5,6,7],\"y\":[\"H\",\"G\",\"F\",\"E\",\"D\",\"C\",\"B\",\"A\"],\"z\":[[0.4999993145465851,0.00021767616271972656,0.9839347004890442,0.9998133182525635,0.998466968536377,0.9817439317703247,0.9976986646652222,0.4999934434890747],[0.5000539422035217,0.5000489354133606,0.9870302081108093,0.6012235879898071,0.28465479612350464,0.9956228733062744,0.500001072883606,0.9978126287460327],[0.0007474422454833984,0.9632462859153748,0.027534961700439453,0.03556323051452637,0.895317018032074,0.03166311979293823,0.9832072257995605,0.9987283945083618],[0.9991250038146973,0.0018361210823059082,0.009664982557296753,0.13030704855918884,0.028762757778167725,0.001402825117111206,0.0007294118404388428,0.9191692471504211],[0.9989690780639648,0.1753464937210083,0.47133302688598633,0.027993470430374146,0.48282766342163086,0.07942813634872437,0.003974884748458862,0.6882115006446838],[0.9996368288993835,0.9854686260223389,0.9120497107505798,0.49768999218940735,0.6777387261390686,0.05562525987625122,0.02845156192779541,0.9937639236450195],[0.9995664358139038,0.831297755241394,0.8730315566062927,0.9426630735397339,0.4503835439682007,0.1498798131942749,0.5000000596046448,0.9981412887573242],[0.4999920129776001,0.009239226579666138,0.5000677704811096,0.5000232458114624,0.0031478703022003174,0.4999738037586212,0.5000083446502686,0.49998027086257935]],\"zmax\":1.0,\"zmin\":0.0,\"type\":\"heatmap\",\"xaxis\":\"x43\",\"yaxis\":\"y43\"},{\"colorscale\":[[0.0,\"rgb(103,0,31)\"],[0.1,\"rgb(178,24,43)\"],[0.2,\"rgb(214,96,77)\"],[0.3,\"rgb(244,165,130)\"],[0.4,\"rgb(253,219,199)\"],[0.5,\"rgb(247,247,247)\"],[0.6,\"rgb(209,229,240)\"],[0.7,\"rgb(146,197,222)\"],[0.8,\"rgb(67,147,195)\"],[0.9,\"rgb(33,102,172)\"],[1.0,\"rgb(5,48,97)\"]],\"hoverongaps\":false,\"text\":[[\" \",\" \",\" \",\" \",\" \",\" \",\" \",\" \"],[\" \",\" \",\" \",\" \",\" \",\" \",\" \",\" \"],[\" \",\" \",\" \",\" \",\" \",\" \",\" \",\" \"],[\" \",\" \",\" \",\" \",\"\\u2592\",\"\\u2588\",\" \",\" \"],[\" \",\" \",\" \",\" \",\" \",\" \",\" \",\" \"],[\" \",\" \",\" \",\" \",\" \",\" \",\" \",\" \"],[\" \",\" \",\" \",\" \",\" \",\" \",\" \",\" \"],[\" \",\" \",\" \",\" \",\" \",\" \",\" \",\" \"]],\"texttemplate\":\"%{text}\",\"x\":[0,1,2,3,4,5,6,7],\"y\":[\"H\",\"G\",\"F\",\"E\",\"D\",\"C\",\"B\",\"A\"],\"z\":[[0.49998947978019714,0.011908382177352905,0.9984013438224792,0.9997217655181885,0.9999219179153442,0.9965884685516357,0.9996527433395386,0.499906450510025],[0.49996086955070496,0.5031513571739197,0.9985113143920898,0.8786028623580933,0.850558340549469,0.9784733653068542,0.5000007748603821,0.9981467723846436],[0.0011966228485107422,0.992800235748291,0.022879987955093384,0.8210546970367432,0.990234911441803,0.7637816667556763,0.993749737739563,0.9921811819076538],[0.9984265565872192,0.004223078489303589,0.021797925233840942,0.2650667428970337,0.02734014391899109,0.006207376718521118,0.008373290300369263,0.9995346069335938],[0.9975377321243286,0.05293351411819458,0.325717568397522,0.018103033304214478,0.8697149157524109,0.031924664974212646,0.007656753063201904,0.9964601993560791],[0.998507022857666,0.9956715106964111,0.8103144764900208,0.06070622801780701,0.2128680944442749,0.13317188620567322,0.040951669216156006,0.9972349405288696],[0.999484658241272,0.9018012285232544,0.9571160674095154,0.8290616273880005,0.11176791787147522,0.02873939275741577,0.49998971819877625,0.9838793277740479],[0.49994832277297974,0.005603581666946411,0.499827116727829,0.49969246983528137,0.0018899142742156982,0.49915504455566406,0.5000507235527039,0.4997897148132324]],\"zmax\":1.0,\"zmin\":0.0,\"type\":\"heatmap\",\"xaxis\":\"x44\",\"yaxis\":\"y44\"},{\"colorscale\":[[0.0,\"rgb(103,0,31)\"],[0.1,\"rgb(178,24,43)\"],[0.2,\"rgb(214,96,77)\"],[0.3,\"rgb(244,165,130)\"],[0.4,\"rgb(253,219,199)\"],[0.5,\"rgb(247,247,247)\"],[0.6,\"rgb(209,229,240)\"],[0.7,\"rgb(146,197,222)\"],[0.8,\"rgb(67,147,195)\"],[0.9,\"rgb(33,102,172)\"],[1.0,\"rgb(5,48,97)\"]],\"hoverongaps\":false,\"text\":[[\" \",\" \",\" \",\" \",\" \",\" \",\" \",\" \"],[\" \",\" \",\" \",\" \",\" \",\" \",\" \",\" \"],[\" \",\" \",\" \",\" \",\" \",\" \",\" \",\" \"],[\" \",\" \",\" \",\" \",\"\\u2592\",\"\\u2588\",\" \",\" \"],[\" \",\" \",\" \",\" \",\" \",\" \",\" \",\" \"],[\" \",\" \",\" \",\" \",\" \",\" \",\" \",\" \"],[\" \",\" \",\" \",\" \",\" \",\" \",\" \",\" \"],[\" \",\" \",\" \",\" \",\" \",\" \",\" \",\" \"]],\"texttemplate\":\"%{text}\",\"x\":[0,1,2,3,4,5,6,7],\"y\":[\"H\",\"G\",\"F\",\"E\",\"D\",\"C\",\"B\",\"A\"],\"z\":[[0.4999934732913971,0.01146283745765686,0.9977962374687195,0.9995630979537964,0.9942806959152222,0.97594153881073,0.9994488954544067,0.4999822676181793],[0.500110387802124,0.5008582472801208,0.9949535131454468,0.9221535921096802,0.9614348411560059,0.9628217220306396,0.5000043511390686,0.9977755546569824],[0.0007728040218353271,0.9971615076065063,0.012389838695526123,0.9891656637191772,0.985541820526123,0.7377116680145264,0.9971552491188049,0.9995180368423462],[0.9996393918991089,0.004271507263183594,0.03348058462142944,0.42153263092041016,0.0028502047061920166,0.005403876304626465,0.0725151002407074,0.99915611743927],[0.9998653531074524,0.012796849012374878,0.4391857385635376,0.01607796549797058,0.9775863885879517,0.007933616638183594,0.008031398057937622,0.9984815716743469],[0.9970793724060059,0.9852930307388306,0.25766611099243164,0.029009729623794556,0.005477935075759888,0.023778289556503296,0.020705223083496094,0.9976440668106079],[0.9972957372665405,0.08863908052444458,0.7450705766677856,0.0862421989440918,0.01873171329498291,0.007093459367752075,0.4999738335609436,0.9956097602844238],[0.49989262223243713,0.0019867122173309326,0.49992886185646057,0.4999641478061676,0.0006569623947143555,0.4996960163116455,0.49994561076164246,0.49972209334373474]],\"zmax\":1.0,\"zmin\":0.0,\"type\":\"heatmap\",\"xaxis\":\"x45\",\"yaxis\":\"y45\"},{\"colorscale\":[[0.0,\"rgb(103,0,31)\"],[0.1,\"rgb(178,24,43)\"],[0.2,\"rgb(214,96,77)\"],[0.3,\"rgb(244,165,130)\"],[0.4,\"rgb(253,219,199)\"],[0.5,\"rgb(247,247,247)\"],[0.6,\"rgb(209,229,240)\"],[0.7,\"rgb(146,197,222)\"],[0.8,\"rgb(67,147,195)\"],[0.9,\"rgb(33,102,172)\"],[1.0,\"rgb(5,48,97)\"]],\"hoverongaps\":false,\"text\":[[\" \",\" \",\" \",\" \",\" \",\" \",\" \",\" \"],[\" \",\" \",\" \",\" \",\" \",\" \",\" \",\" \"],[\" \",\" \",\" \",\" \",\" \",\" \",\" \",\" \"],[\" \",\" \",\" \",\" \",\" \",\"\\u2588\",\" \",\" \"],[\" \",\" \",\" \",\" \",\" \",\" \",\" \",\" \"],[\" \",\" \",\" \",\" \",\" \",\" \",\" \",\" \"],[\" \",\" \",\" \",\" \",\" \",\" \",\" \",\" \"],[\" \",\" \",\" \",\" \",\" \",\" \",\" \",\" \"]],\"texttemplate\":\"%{text}\",\"x\":[0,1,2,3,4,5,6,7],\"y\":[\"H\",\"G\",\"F\",\"E\",\"D\",\"C\",\"B\",\"A\"],\"z\":[[0.4999999701976776,0.003980129957199097,0.9855077862739563,0.9974097013473511,0.9980759620666504,0.9904838800430298,0.9999690055847168,0.4999919533729553],[0.5,0.5,0.9921561479568481,0.9942257404327393,0.9828122854232788,0.9874781370162964,0.5,0.9992244839668274],[9.566545486450195e-06,0.9931764006614685,0.001827925443649292,0.9859218597412109,0.9945347309112549,0.9525768756866455,0.9918867945671082,0.9988446831703186],[0.9999293088912964,0.004109323024749756,0.19700828194618225,0.9848873615264893,0.004919588565826416,0.0029165148735046387,0.12734827399253845,0.9999933242797852],[0.9999086856842041,0.019443809986114502,0.9768332242965698,0.006275534629821777,0.9866769313812256,0.019419997930526733,0.05269715189933777,0.9995310306549072],[0.9998511075973511,0.992234468460083,0.010862261056900024,0.018102914094924927,0.011037647724151611,0.003110259771347046,0.07444298267364502,0.9989610910415649],[0.9991074800491333,0.00015747547149658203,0.013235867023468018,0.012167304754257202,0.020077168941497803,0.0001448988914489746,0.5,0.9979429841041565],[0.5,0.00018209218978881836,0.5,0.4999992251396179,0.00041729211807250977,0.5,0.5,0.4998721778392792]],\"zmax\":1.0,\"zmin\":0.0,\"type\":\"heatmap\",\"xaxis\":\"x46\",\"yaxis\":\"y46\"},{\"colorscale\":[[0.0,\"rgb(103,0,31)\"],[0.1,\"rgb(178,24,43)\"],[0.2,\"rgb(214,96,77)\"],[0.3,\"rgb(244,165,130)\"],[0.4,\"rgb(253,219,199)\"],[0.5,\"rgb(247,247,247)\"],[0.6,\"rgb(209,229,240)\"],[0.7,\"rgb(146,197,222)\"],[0.8,\"rgb(67,147,195)\"],[0.9,\"rgb(33,102,172)\"],[1.0,\"rgb(5,48,97)\"]],\"hoverongaps\":false,\"text\":[[\" \",\" \",\" \",\" \",\" \",\" \",\" \",\" \"],[\" \",\" \",\" \",\" \",\" \",\" \",\" \",\" \"],[\" \",\" \",\" \",\" \",\" \",\" \",\" \",\" \"],[\" \",\" \",\" \",\" \",\" \",\"\\u2588\",\" \",\" \"],[\" \",\" \",\" \",\" \",\" \",\" \",\" \",\" \"],[\" \",\" \",\" \",\" \",\" \",\" \",\" \",\" \"],[\" \",\" \",\" \",\" \",\" \",\" \",\" \",\" \"],[\" \",\" \",\" \",\" \",\" \",\" \",\" \",\" \"]],\"texttemplate\":\"%{text}\",\"x\":[0,1,2,3,4,5,6,7],\"y\":[\"H\",\"G\",\"F\",\"E\",\"D\",\"C\",\"B\",\"A\"],\"z\":[[0.5,0.0068822503089904785,0.9860822558403015,0.9998914003372192,0.999329686164856,0.9837195873260498,0.999991774559021,0.4999999701976776],[0.49980056285858154,0.5,0.9989506006240845,0.8705241084098816,0.9998477697372437,0.9879259467124939,0.5,0.991282045841217],[4.050135612487793e-05,0.9639536142349243,0.00015926361083984375,0.9975531101226807,0.9977885484695435,0.9949276447296143,0.9990389347076416,0.9997719526290894],[0.9987694025039673,0.0006725788116455078,0.8352062702178955,0.9947644472122192,0.01308983564376831,0.0205136239528656,0.046102821826934814,0.9999992847442627],[0.9946445226669312,0.17236703634262085,0.9963229894638062,0.0006848573684692383,0.9962105751037598,0.004913538694381714,0.008893877267837524,0.9999368190765381],[0.9993358850479126,0.994816243648529,0.00041478872299194336,0.0006427168846130371,0.0032828450202941895,0.022957414388656616,0.0007449686527252197,0.999548614025116],[0.9998105764389038,2.60770320892334e-05,0.01887887716293335,0.0008268654346466064,7.152557373046875e-05,2.8967857360839844e-05,0.5000011920928955,0.9945737719535828],[0.5,0.0013972222805023193,0.5,0.5,0.0010130703449249268,0.5,0.5,0.5000019669532776]],\"zmax\":1.0,\"zmin\":0.0,\"type\":\"heatmap\",\"xaxis\":\"x47\",\"yaxis\":\"y47\"},{\"colorscale\":[[0.0,\"rgb(103,0,31)\"],[0.1,\"rgb(178,24,43)\"],[0.2,\"rgb(214,96,77)\"],[0.3,\"rgb(244,165,130)\"],[0.4,\"rgb(253,219,199)\"],[0.5,\"rgb(247,247,247)\"],[0.6,\"rgb(209,229,240)\"],[0.7,\"rgb(146,197,222)\"],[0.8,\"rgb(67,147,195)\"],[0.9,\"rgb(33,102,172)\"],[1.0,\"rgb(5,48,97)\"]],\"hoverongaps\":false,\"text\":[[\" \",\" \",\" \",\" \",\" \",\" \",\" \",\" \"],[\" \",\" \",\" \",\" \",\" \",\" \",\" \",\" \"],[\" \",\" \",\" \",\" \",\" \",\" \",\" \",\" \"],[\" \",\" \",\" \",\" \",\" \",\"\\u2588\",\" \",\" \"],[\" \",\" \",\" \",\" \",\" \",\" \",\" \",\" \"],[\" \",\" \",\" \",\" \",\" \",\" \",\" \",\" \"],[\" \",\" \",\" \",\" \",\" \",\" \",\" \",\" \"],[\" \",\" \",\" \",\" \",\" \",\" \",\" \",\" \"]],\"texttemplate\":\"%{text}\",\"x\":[0,1,2,3,4,5,6,7],\"y\":[\"H\",\"G\",\"F\",\"E\",\"D\",\"C\",\"B\",\"A\"],\"z\":[[0.5,0.1448366940021515,0.9988018274307251,0.9999430179595947,0.9991159439086914,0.9893553256988525,0.9999206066131592,0.4999956786632538],[0.49992817640304565,0.5,0.9738683700561523,0.9932123422622681,0.9997497797012329,0.999089241027832,0.5,0.9959391355514526],[2.7418136596679688e-06,0.9774372577667236,0.0025981664657592773,0.9997327327728271,0.9990805983543396,0.9840214252471924,0.9994102716445923,0.9999719858169556],[0.9983683228492737,0.00016579031944274902,0.7659815549850464,0.9914827346801758,0.002300649881362915,0.17656487226486206,0.03381416201591492,0.9999969005584717],[0.9991222023963928,0.3143773674964905,0.9994349479675293,0.00040289759635925293,0.9896020293235779,0.004064649343490601,0.006377518177032471,0.9972536563873291],[0.9996068477630615,0.9985151290893555,0.000826030969619751,0.00024500489234924316,0.02013835310935974,0.06598314642906189,0.0004343092441558838,0.999798059463501],[0.9999762773513794,9.211897850036621e-05,0.0013828277587890625,0.00018784403800964355,1.049041748046875e-05,3.0994415283203125e-06,0.4999839961528778,0.9811066389083862],[0.5,0.009030640125274658,0.49998044967651367,0.49999988079071045,0.0001735389232635498,0.5,0.5,0.5009973645210266]],\"zmax\":1.0,\"zmin\":0.0,\"type\":\"heatmap\",\"xaxis\":\"x48\",\"yaxis\":\"y48\"}],                        {\"template\":{\"data\":{\"histogram2dcontour\":[{\"type\":\"histogram2dcontour\",\"colorbar\":{\"outlinewidth\":0,\"ticks\":\"\"},\"colorscale\":[[0.0,\"#0d0887\"],[0.1111111111111111,\"#46039f\"],[0.2222222222222222,\"#7201a8\"],[0.3333333333333333,\"#9c179e\"],[0.4444444444444444,\"#bd3786\"],[0.5555555555555556,\"#d8576b\"],[0.6666666666666666,\"#ed7953\"],[0.7777777777777778,\"#fb9f3a\"],[0.8888888888888888,\"#fdca26\"],[1.0,\"#f0f921\"]]}],\"choropleth\":[{\"type\":\"choropleth\",\"colorbar\":{\"outlinewidth\":0,\"ticks\":\"\"}}],\"histogram2d\":[{\"type\":\"histogram2d\",\"colorbar\":{\"outlinewidth\":0,\"ticks\":\"\"},\"colorscale\":[[0.0,\"#0d0887\"],[0.1111111111111111,\"#46039f\"],[0.2222222222222222,\"#7201a8\"],[0.3333333333333333,\"#9c179e\"],[0.4444444444444444,\"#bd3786\"],[0.5555555555555556,\"#d8576b\"],[0.6666666666666666,\"#ed7953\"],[0.7777777777777778,\"#fb9f3a\"],[0.8888888888888888,\"#fdca26\"],[1.0,\"#f0f921\"]]}],\"heatmap\":[{\"type\":\"heatmap\",\"colorbar\":{\"outlinewidth\":0,\"ticks\":\"\"},\"colorscale\":[[0.0,\"#0d0887\"],[0.1111111111111111,\"#46039f\"],[0.2222222222222222,\"#7201a8\"],[0.3333333333333333,\"#9c179e\"],[0.4444444444444444,\"#bd3786\"],[0.5555555555555556,\"#d8576b\"],[0.6666666666666666,\"#ed7953\"],[0.7777777777777778,\"#fb9f3a\"],[0.8888888888888888,\"#fdca26\"],[1.0,\"#f0f921\"]]}],\"heatmapgl\":[{\"type\":\"heatmapgl\",\"colorbar\":{\"outlinewidth\":0,\"ticks\":\"\"},\"colorscale\":[[0.0,\"#0d0887\"],[0.1111111111111111,\"#46039f\"],[0.2222222222222222,\"#7201a8\"],[0.3333333333333333,\"#9c179e\"],[0.4444444444444444,\"#bd3786\"],[0.5555555555555556,\"#d8576b\"],[0.6666666666666666,\"#ed7953\"],[0.7777777777777778,\"#fb9f3a\"],[0.8888888888888888,\"#fdca26\"],[1.0,\"#f0f921\"]]}],\"contourcarpet\":[{\"type\":\"contourcarpet\",\"colorbar\":{\"outlinewidth\":0,\"ticks\":\"\"}}],\"contour\":[{\"type\":\"contour\",\"colorbar\":{\"outlinewidth\":0,\"ticks\":\"\"},\"colorscale\":[[0.0,\"#0d0887\"],[0.1111111111111111,\"#46039f\"],[0.2222222222222222,\"#7201a8\"],[0.3333333333333333,\"#9c179e\"],[0.4444444444444444,\"#bd3786\"],[0.5555555555555556,\"#d8576b\"],[0.6666666666666666,\"#ed7953\"],[0.7777777777777778,\"#fb9f3a\"],[0.8888888888888888,\"#fdca26\"],[1.0,\"#f0f921\"]]}],\"surface\":[{\"type\":\"surface\",\"colorbar\":{\"outlinewidth\":0,\"ticks\":\"\"},\"colorscale\":[[0.0,\"#0d0887\"],[0.1111111111111111,\"#46039f\"],[0.2222222222222222,\"#7201a8\"],[0.3333333333333333,\"#9c179e\"],[0.4444444444444444,\"#bd3786\"],[0.5555555555555556,\"#d8576b\"],[0.6666666666666666,\"#ed7953\"],[0.7777777777777778,\"#fb9f3a\"],[0.8888888888888888,\"#fdca26\"],[1.0,\"#f0f921\"]]}],\"mesh3d\":[{\"type\":\"mesh3d\",\"colorbar\":{\"outlinewidth\":0,\"ticks\":\"\"}}],\"scatter\":[{\"fillpattern\":{\"fillmode\":\"overlay\",\"size\":10,\"solidity\":0.2},\"type\":\"scatter\"}],\"parcoords\":[{\"type\":\"parcoords\",\"line\":{\"colorbar\":{\"outlinewidth\":0,\"ticks\":\"\"}}}],\"scatterpolargl\":[{\"type\":\"scatterpolargl\",\"marker\":{\"colorbar\":{\"outlinewidth\":0,\"ticks\":\"\"}}}],\"bar\":[{\"error_x\":{\"color\":\"#2a3f5f\"},\"error_y\":{\"color\":\"#2a3f5f\"},\"marker\":{\"line\":{\"color\":\"#E5ECF6\",\"width\":0.5},\"pattern\":{\"fillmode\":\"overlay\",\"size\":10,\"solidity\":0.2}},\"type\":\"bar\"}],\"scattergeo\":[{\"type\":\"scattergeo\",\"marker\":{\"colorbar\":{\"outlinewidth\":0,\"ticks\":\"\"}}}],\"scatterpolar\":[{\"type\":\"scatterpolar\",\"marker\":{\"colorbar\":{\"outlinewidth\":0,\"ticks\":\"\"}}}],\"histogram\":[{\"marker\":{\"pattern\":{\"fillmode\":\"overlay\",\"size\":10,\"solidity\":0.2}},\"type\":\"histogram\"}],\"scattergl\":[{\"type\":\"scattergl\",\"marker\":{\"colorbar\":{\"outlinewidth\":0,\"ticks\":\"\"}}}],\"scatter3d\":[{\"type\":\"scatter3d\",\"line\":{\"colorbar\":{\"outlinewidth\":0,\"ticks\":\"\"}},\"marker\":{\"colorbar\":{\"outlinewidth\":0,\"ticks\":\"\"}}}],\"scattermapbox\":[{\"type\":\"scattermapbox\",\"marker\":{\"colorbar\":{\"outlinewidth\":0,\"ticks\":\"\"}}}],\"scatterternary\":[{\"type\":\"scatterternary\",\"marker\":{\"colorbar\":{\"outlinewidth\":0,\"ticks\":\"\"}}}],\"scattercarpet\":[{\"type\":\"scattercarpet\",\"marker\":{\"colorbar\":{\"outlinewidth\":0,\"ticks\":\"\"}}}],\"carpet\":[{\"aaxis\":{\"endlinecolor\":\"#2a3f5f\",\"gridcolor\":\"white\",\"linecolor\":\"white\",\"minorgridcolor\":\"white\",\"startlinecolor\":\"#2a3f5f\"},\"baxis\":{\"endlinecolor\":\"#2a3f5f\",\"gridcolor\":\"white\",\"linecolor\":\"white\",\"minorgridcolor\":\"white\",\"startlinecolor\":\"#2a3f5f\"},\"type\":\"carpet\"}],\"table\":[{\"cells\":{\"fill\":{\"color\":\"#EBF0F8\"},\"line\":{\"color\":\"white\"}},\"header\":{\"fill\":{\"color\":\"#C8D4E3\"},\"line\":{\"color\":\"white\"}},\"type\":\"table\"}],\"barpolar\":[{\"marker\":{\"line\":{\"color\":\"#E5ECF6\",\"width\":0.5},\"pattern\":{\"fillmode\":\"overlay\",\"size\":10,\"solidity\":0.2}},\"type\":\"barpolar\"}],\"pie\":[{\"automargin\":true,\"type\":\"pie\"}]},\"layout\":{\"autotypenumbers\":\"strict\",\"colorway\":[\"#636efa\",\"#EF553B\",\"#00cc96\",\"#ab63fa\",\"#FFA15A\",\"#19d3f3\",\"#FF6692\",\"#B6E880\",\"#FF97FF\",\"#FECB52\"],\"font\":{\"color\":\"#2a3f5f\"},\"hovermode\":\"closest\",\"hoverlabel\":{\"align\":\"left\"},\"paper_bgcolor\":\"white\",\"plot_bgcolor\":\"#E5ECF6\",\"polar\":{\"bgcolor\":\"#E5ECF6\",\"angularaxis\":{\"gridcolor\":\"white\",\"linecolor\":\"white\",\"ticks\":\"\"},\"radialaxis\":{\"gridcolor\":\"white\",\"linecolor\":\"white\",\"ticks\":\"\"}},\"ternary\":{\"bgcolor\":\"#E5ECF6\",\"aaxis\":{\"gridcolor\":\"white\",\"linecolor\":\"white\",\"ticks\":\"\"},\"baxis\":{\"gridcolor\":\"white\",\"linecolor\":\"white\",\"ticks\":\"\"},\"caxis\":{\"gridcolor\":\"white\",\"linecolor\":\"white\",\"ticks\":\"\"}},\"coloraxis\":{\"colorbar\":{\"outlinewidth\":0,\"ticks\":\"\"}},\"colorscale\":{\"sequential\":[[0.0,\"#0d0887\"],[0.1111111111111111,\"#46039f\"],[0.2222222222222222,\"#7201a8\"],[0.3333333333333333,\"#9c179e\"],[0.4444444444444444,\"#bd3786\"],[0.5555555555555556,\"#d8576b\"],[0.6666666666666666,\"#ed7953\"],[0.7777777777777778,\"#fb9f3a\"],[0.8888888888888888,\"#fdca26\"],[1.0,\"#f0f921\"]],\"sequentialminus\":[[0.0,\"#0d0887\"],[0.1111111111111111,\"#46039f\"],[0.2222222222222222,\"#7201a8\"],[0.3333333333333333,\"#9c179e\"],[0.4444444444444444,\"#bd3786\"],[0.5555555555555556,\"#d8576b\"],[0.6666666666666666,\"#ed7953\"],[0.7777777777777778,\"#fb9f3a\"],[0.8888888888888888,\"#fdca26\"],[1.0,\"#f0f921\"]],\"diverging\":[[0,\"#8e0152\"],[0.1,\"#c51b7d\"],[0.2,\"#de77ae\"],[0.3,\"#f1b6da\"],[0.4,\"#fde0ef\"],[0.5,\"#f7f7f7\"],[0.6,\"#e6f5d0\"],[0.7,\"#b8e186\"],[0.8,\"#7fbc41\"],[0.9,\"#4d9221\"],[1,\"#276419\"]]},\"xaxis\":{\"gridcolor\":\"white\",\"linecolor\":\"white\",\"ticks\":\"\",\"title\":{\"standoff\":15},\"zerolinecolor\":\"white\",\"automargin\":true,\"zerolinewidth\":2},\"yaxis\":{\"gridcolor\":\"white\",\"linecolor\":\"white\",\"ticks\":\"\",\"title\":{\"standoff\":15},\"zerolinecolor\":\"white\",\"automargin\":true,\"zerolinewidth\":2},\"scene\":{\"xaxis\":{\"backgroundcolor\":\"#E5ECF6\",\"gridcolor\":\"white\",\"linecolor\":\"white\",\"showbackground\":true,\"ticks\":\"\",\"zerolinecolor\":\"white\",\"gridwidth\":2},\"yaxis\":{\"backgroundcolor\":\"#E5ECF6\",\"gridcolor\":\"white\",\"linecolor\":\"white\",\"showbackground\":true,\"ticks\":\"\",\"zerolinecolor\":\"white\",\"gridwidth\":2},\"zaxis\":{\"backgroundcolor\":\"#E5ECF6\",\"gridcolor\":\"white\",\"linecolor\":\"white\",\"showbackground\":true,\"ticks\":\"\",\"zerolinecolor\":\"white\",\"gridwidth\":2}},\"shapedefaults\":{\"line\":{\"color\":\"#2a3f5f\"}},\"annotationdefaults\":{\"arrowcolor\":\"#2a3f5f\",\"arrowhead\":0,\"arrowwidth\":1},\"geo\":{\"bgcolor\":\"white\",\"landcolor\":\"#E5ECF6\",\"subunitcolor\":\"white\",\"showland\":true,\"showlakes\":true,\"lakecolor\":\"white\"},\"title\":{\"x\":0.05},\"mapbox\":{\"style\":\"light\"}}},\"xaxis\":{\"anchor\":\"y\",\"domain\":[0.0,0.103125]},\"yaxis\":{\"anchor\":\"x\",\"domain\":[0.8735632183908044,0.9999999999999998]},\"xaxis2\":{\"anchor\":\"y2\",\"domain\":[0.128125,0.23124999999999998]},\"yaxis2\":{\"anchor\":\"x2\",\"domain\":[0.8735632183908044,0.9999999999999998]},\"xaxis3\":{\"anchor\":\"y3\",\"domain\":[0.25625,0.359375]},\"yaxis3\":{\"anchor\":\"x3\",\"domain\":[0.8735632183908044,0.9999999999999998]},\"xaxis4\":{\"anchor\":\"y4\",\"domain\":[0.38437499999999997,0.48749999999999993]},\"yaxis4\":{\"anchor\":\"x4\",\"domain\":[0.8735632183908044,0.9999999999999998]},\"xaxis5\":{\"anchor\":\"y5\",\"domain\":[0.5125,0.615625]},\"yaxis5\":{\"anchor\":\"x5\",\"domain\":[0.8735632183908044,0.9999999999999998]},\"xaxis6\":{\"anchor\":\"y6\",\"domain\":[0.640625,0.74375]},\"yaxis6\":{\"anchor\":\"x6\",\"domain\":[0.8735632183908044,0.9999999999999998]},\"xaxis7\":{\"anchor\":\"y7\",\"domain\":[0.76875,0.8718750000000001]},\"yaxis7\":{\"anchor\":\"x7\",\"domain\":[0.8735632183908044,0.9999999999999998]},\"xaxis8\":{\"anchor\":\"y8\",\"domain\":[0.8968750000000001,1.0]},\"yaxis8\":{\"anchor\":\"x8\",\"domain\":[0.8735632183908044,0.9999999999999998]},\"xaxis9\":{\"anchor\":\"y9\",\"domain\":[0.0,0.103125]},\"yaxis9\":{\"anchor\":\"x9\",\"domain\":[0.6988505747126437,0.825287356321839]},\"xaxis10\":{\"anchor\":\"y10\",\"domain\":[0.128125,0.23124999999999998]},\"yaxis10\":{\"anchor\":\"x10\",\"domain\":[0.6988505747126437,0.825287356321839]},\"xaxis11\":{\"anchor\":\"y11\",\"domain\":[0.25625,0.359375]},\"yaxis11\":{\"anchor\":\"x11\",\"domain\":[0.6988505747126437,0.825287356321839]},\"xaxis12\":{\"anchor\":\"y12\",\"domain\":[0.38437499999999997,0.48749999999999993]},\"yaxis12\":{\"anchor\":\"x12\",\"domain\":[0.6988505747126437,0.825287356321839]},\"xaxis13\":{\"anchor\":\"y13\",\"domain\":[0.5125,0.615625]},\"yaxis13\":{\"anchor\":\"x13\",\"domain\":[0.6988505747126437,0.825287356321839]},\"xaxis14\":{\"anchor\":\"y14\",\"domain\":[0.640625,0.74375]},\"yaxis14\":{\"anchor\":\"x14\",\"domain\":[0.6988505747126437,0.825287356321839]},\"xaxis15\":{\"anchor\":\"y15\",\"domain\":[0.76875,0.8718750000000001]},\"yaxis15\":{\"anchor\":\"x15\",\"domain\":[0.6988505747126437,0.825287356321839]},\"xaxis16\":{\"anchor\":\"y16\",\"domain\":[0.8968750000000001,1.0]},\"yaxis16\":{\"anchor\":\"x16\",\"domain\":[0.6988505747126437,0.825287356321839]},\"xaxis17\":{\"anchor\":\"y17\",\"domain\":[0.0,0.103125]},\"yaxis17\":{\"anchor\":\"x17\",\"domain\":[0.5241379310344827,0.650574712643678]},\"xaxis18\":{\"anchor\":\"y18\",\"domain\":[0.128125,0.23124999999999998]},\"yaxis18\":{\"anchor\":\"x18\",\"domain\":[0.5241379310344827,0.650574712643678]},\"xaxis19\":{\"anchor\":\"y19\",\"domain\":[0.25625,0.359375]},\"yaxis19\":{\"anchor\":\"x19\",\"domain\":[0.5241379310344827,0.650574712643678]},\"xaxis20\":{\"anchor\":\"y20\",\"domain\":[0.38437499999999997,0.48749999999999993]},\"yaxis20\":{\"anchor\":\"x20\",\"domain\":[0.5241379310344827,0.650574712643678]},\"xaxis21\":{\"anchor\":\"y21\",\"domain\":[0.5125,0.615625]},\"yaxis21\":{\"anchor\":\"x21\",\"domain\":[0.5241379310344827,0.650574712643678]},\"xaxis22\":{\"anchor\":\"y22\",\"domain\":[0.640625,0.74375]},\"yaxis22\":{\"anchor\":\"x22\",\"domain\":[0.5241379310344827,0.650574712643678]},\"xaxis23\":{\"anchor\":\"y23\",\"domain\":[0.76875,0.8718750000000001]},\"yaxis23\":{\"anchor\":\"x23\",\"domain\":[0.5241379310344827,0.650574712643678]},\"xaxis24\":{\"anchor\":\"y24\",\"domain\":[0.8968750000000001,1.0]},\"yaxis24\":{\"anchor\":\"x24\",\"domain\":[0.5241379310344827,0.650574712643678]},\"xaxis25\":{\"anchor\":\"y25\",\"domain\":[0.0,0.103125]},\"yaxis25\":{\"anchor\":\"x25\",\"domain\":[0.34942528735632183,0.4758620689655172]},\"xaxis26\":{\"anchor\":\"y26\",\"domain\":[0.128125,0.23124999999999998]},\"yaxis26\":{\"anchor\":\"x26\",\"domain\":[0.34942528735632183,0.4758620689655172]},\"xaxis27\":{\"anchor\":\"y27\",\"domain\":[0.25625,0.359375]},\"yaxis27\":{\"anchor\":\"x27\",\"domain\":[0.34942528735632183,0.4758620689655172]},\"xaxis28\":{\"anchor\":\"y28\",\"domain\":[0.38437499999999997,0.48749999999999993]},\"yaxis28\":{\"anchor\":\"x28\",\"domain\":[0.34942528735632183,0.4758620689655172]},\"xaxis29\":{\"anchor\":\"y29\",\"domain\":[0.5125,0.615625]},\"yaxis29\":{\"anchor\":\"x29\",\"domain\":[0.34942528735632183,0.4758620689655172]},\"xaxis30\":{\"anchor\":\"y30\",\"domain\":[0.640625,0.74375]},\"yaxis30\":{\"anchor\":\"x30\",\"domain\":[0.34942528735632183,0.4758620689655172]},\"xaxis31\":{\"anchor\":\"y31\",\"domain\":[0.76875,0.8718750000000001]},\"yaxis31\":{\"anchor\":\"x31\",\"domain\":[0.34942528735632183,0.4758620689655172]},\"xaxis32\":{\"anchor\":\"y32\",\"domain\":[0.8968750000000001,1.0]},\"yaxis32\":{\"anchor\":\"x32\",\"domain\":[0.34942528735632183,0.4758620689655172]},\"xaxis33\":{\"anchor\":\"y33\",\"domain\":[0.0,0.103125]},\"yaxis33\":{\"anchor\":\"x33\",\"domain\":[0.17471264367816092,0.30114942528735633]},\"xaxis34\":{\"anchor\":\"y34\",\"domain\":[0.128125,0.23124999999999998]},\"yaxis34\":{\"anchor\":\"x34\",\"domain\":[0.17471264367816092,0.30114942528735633]},\"xaxis35\":{\"anchor\":\"y35\",\"domain\":[0.25625,0.359375]},\"yaxis35\":{\"anchor\":\"x35\",\"domain\":[0.17471264367816092,0.30114942528735633]},\"xaxis36\":{\"anchor\":\"y36\",\"domain\":[0.38437499999999997,0.48749999999999993]},\"yaxis36\":{\"anchor\":\"x36\",\"domain\":[0.17471264367816092,0.30114942528735633]},\"xaxis37\":{\"anchor\":\"y37\",\"domain\":[0.5125,0.615625]},\"yaxis37\":{\"anchor\":\"x37\",\"domain\":[0.17471264367816092,0.30114942528735633]},\"xaxis38\":{\"anchor\":\"y38\",\"domain\":[0.640625,0.74375]},\"yaxis38\":{\"anchor\":\"x38\",\"domain\":[0.17471264367816092,0.30114942528735633]},\"xaxis39\":{\"anchor\":\"y39\",\"domain\":[0.76875,0.8718750000000001]},\"yaxis39\":{\"anchor\":\"x39\",\"domain\":[0.17471264367816092,0.30114942528735633]},\"xaxis40\":{\"anchor\":\"y40\",\"domain\":[0.8968750000000001,1.0]},\"yaxis40\":{\"anchor\":\"x40\",\"domain\":[0.17471264367816092,0.30114942528735633]},\"xaxis41\":{\"anchor\":\"y41\",\"domain\":[0.0,0.103125]},\"yaxis41\":{\"anchor\":\"x41\",\"domain\":[0.0,0.1264367816091954]},\"xaxis42\":{\"anchor\":\"y42\",\"domain\":[0.128125,0.23124999999999998]},\"yaxis42\":{\"anchor\":\"x42\",\"domain\":[0.0,0.1264367816091954]},\"xaxis43\":{\"anchor\":\"y43\",\"domain\":[0.25625,0.359375]},\"yaxis43\":{\"anchor\":\"x43\",\"domain\":[0.0,0.1264367816091954]},\"xaxis44\":{\"anchor\":\"y44\",\"domain\":[0.38437499999999997,0.48749999999999993]},\"yaxis44\":{\"anchor\":\"x44\",\"domain\":[0.0,0.1264367816091954]},\"xaxis45\":{\"anchor\":\"y45\",\"domain\":[0.5125,0.615625]},\"yaxis45\":{\"anchor\":\"x45\",\"domain\":[0.0,0.1264367816091954]},\"xaxis46\":{\"anchor\":\"y46\",\"domain\":[0.640625,0.74375]},\"yaxis46\":{\"anchor\":\"x46\",\"domain\":[0.0,0.1264367816091954]},\"xaxis47\":{\"anchor\":\"y47\",\"domain\":[0.76875,0.8718750000000001]},\"yaxis47\":{\"anchor\":\"x47\",\"domain\":[0.0,0.1264367816091954]},\"xaxis48\":{\"anchor\":\"y48\",\"domain\":[0.8968750000000001,1.0]},\"yaxis48\":{\"anchor\":\"x48\",\"domain\":[0.0,0.1264367816091954]},\"annotations\":[{\"font\":{\"size\":16},\"showarrow\":false,\"text\":\"P: 42, T: E0, L: 0, M: N\",\"x\":0.0515625,\"xanchor\":\"center\",\"xref\":\"paper\",\"y\":0.9999999999999998,\"yanchor\":\"bottom\",\"yref\":\"paper\"},{\"font\":{\"size\":16},\"showarrow\":false,\"text\":\"P: 42, T: E0, L: 1, M: N\",\"x\":0.1796875,\"xanchor\":\"center\",\"xref\":\"paper\",\"y\":0.9999999999999998,\"yanchor\":\"bottom\",\"yref\":\"paper\"},{\"font\":{\"size\":16},\"showarrow\":false,\"text\":\"P: 42, T: E0, L: 2, M: N\",\"x\":0.3078125,\"xanchor\":\"center\",\"xref\":\"paper\",\"y\":0.9999999999999998,\"yanchor\":\"bottom\",\"yref\":\"paper\"},{\"font\":{\"size\":16},\"showarrow\":false,\"text\":\"P: 42, T: E0, L: 3, M: N\",\"x\":0.4359375,\"xanchor\":\"center\",\"xref\":\"paper\",\"y\":0.9999999999999998,\"yanchor\":\"bottom\",\"yref\":\"paper\"},{\"font\":{\"size\":16},\"showarrow\":false,\"text\":\"P: 42, T: E0, L: 4, M: N\",\"x\":0.5640624999999999,\"xanchor\":\"center\",\"xref\":\"paper\",\"y\":0.9999999999999998,\"yanchor\":\"bottom\",\"yref\":\"paper\"},{\"font\":{\"size\":16},\"showarrow\":false,\"text\":\"P: 42, T: E0, L: 5, M: N\",\"x\":0.6921875,\"xanchor\":\"center\",\"xref\":\"paper\",\"y\":0.9999999999999998,\"yanchor\":\"bottom\",\"yref\":\"paper\"},{\"font\":{\"size\":16},\"showarrow\":false,\"text\":\"P: 42, T: E0, L: 6, M: N\",\"x\":0.8203125,\"xanchor\":\"center\",\"xref\":\"paper\",\"y\":0.9999999999999998,\"yanchor\":\"bottom\",\"yref\":\"paper\"},{\"font\":{\"size\":16},\"showarrow\":false,\"text\":\"P: 42, T: E0, L: 7, M: N\",\"x\":0.9484375,\"xanchor\":\"center\",\"xref\":\"paper\",\"y\":0.9999999999999998,\"yanchor\":\"bottom\",\"yref\":\"paper\"},{\"font\":{\"size\":16},\"showarrow\":false,\"text\":\"P: 43, T: A1, L: 0, M: N\",\"x\":0.0515625,\"xanchor\":\"center\",\"xref\":\"paper\",\"y\":0.825287356321839,\"yanchor\":\"bottom\",\"yref\":\"paper\"},{\"font\":{\"size\":16},\"showarrow\":false,\"text\":\"P: 43, T: A1, L: 1, M: N\",\"x\":0.1796875,\"xanchor\":\"center\",\"xref\":\"paper\",\"y\":0.825287356321839,\"yanchor\":\"bottom\",\"yref\":\"paper\"},{\"font\":{\"size\":16},\"showarrow\":false,\"text\":\"P: 43, T: A1, L: 2, M: N\",\"x\":0.3078125,\"xanchor\":\"center\",\"xref\":\"paper\",\"y\":0.825287356321839,\"yanchor\":\"bottom\",\"yref\":\"paper\"},{\"font\":{\"size\":16},\"showarrow\":false,\"text\":\"P: 43, T: A1, L: 3, M: N\",\"x\":0.4359375,\"xanchor\":\"center\",\"xref\":\"paper\",\"y\":0.825287356321839,\"yanchor\":\"bottom\",\"yref\":\"paper\"},{\"font\":{\"size\":16},\"showarrow\":false,\"text\":\"P: 43, T: A1, L: 4, M: N\",\"x\":0.5640624999999999,\"xanchor\":\"center\",\"xref\":\"paper\",\"y\":0.825287356321839,\"yanchor\":\"bottom\",\"yref\":\"paper\"},{\"font\":{\"size\":16},\"showarrow\":false,\"text\":\"P: 43, T: A1, L: 5, M: N\",\"x\":0.6921875,\"xanchor\":\"center\",\"xref\":\"paper\",\"y\":0.825287356321839,\"yanchor\":\"bottom\",\"yref\":\"paper\"},{\"font\":{\"size\":16},\"showarrow\":false,\"text\":\"P: 43, T: A1, L: 6, M: N\",\"x\":0.8203125,\"xanchor\":\"center\",\"xref\":\"paper\",\"y\":0.825287356321839,\"yanchor\":\"bottom\",\"yref\":\"paper\"},{\"font\":{\"size\":16},\"showarrow\":false,\"text\":\"P: 43, T: A1, L: 7, M: N\",\"x\":0.9484375,\"xanchor\":\"center\",\"xref\":\"paper\",\"y\":0.825287356321839,\"yanchor\":\"bottom\",\"yref\":\"paper\"},{\"font\":{\"size\":16},\"showarrow\":false,\"text\":\"P: 44, T: C0, L: 0, M: N\",\"x\":0.0515625,\"xanchor\":\"center\",\"xref\":\"paper\",\"y\":0.650574712643678,\"yanchor\":\"bottom\",\"yref\":\"paper\"},{\"font\":{\"size\":16},\"showarrow\":false,\"text\":\"P: 44, T: C0, L: 1, M: N\",\"x\":0.1796875,\"xanchor\":\"center\",\"xref\":\"paper\",\"y\":0.650574712643678,\"yanchor\":\"bottom\",\"yref\":\"paper\"},{\"font\":{\"size\":16},\"showarrow\":false,\"text\":\"P: 44, T: C0, L: 2, M: N\",\"x\":0.3078125,\"xanchor\":\"center\",\"xref\":\"paper\",\"y\":0.650574712643678,\"yanchor\":\"bottom\",\"yref\":\"paper\"},{\"font\":{\"size\":16},\"showarrow\":false,\"text\":\"P: 44, T: C0, L: 3, M: N\",\"x\":0.4359375,\"xanchor\":\"center\",\"xref\":\"paper\",\"y\":0.650574712643678,\"yanchor\":\"bottom\",\"yref\":\"paper\"},{\"font\":{\"size\":16},\"showarrow\":false,\"text\":\"P: 44, T: C0, L: 4, M: N\",\"x\":0.5640624999999999,\"xanchor\":\"center\",\"xref\":\"paper\",\"y\":0.650574712643678,\"yanchor\":\"bottom\",\"yref\":\"paper\"},{\"font\":{\"size\":16},\"showarrow\":false,\"text\":\"P: 44, T: C0, L: 5, M: N\",\"x\":0.6921875,\"xanchor\":\"center\",\"xref\":\"paper\",\"y\":0.650574712643678,\"yanchor\":\"bottom\",\"yref\":\"paper\"},{\"font\":{\"size\":16},\"showarrow\":false,\"text\":\"P: 44, T: C0, L: 6, M: N\",\"x\":0.8203125,\"xanchor\":\"center\",\"xref\":\"paper\",\"y\":0.650574712643678,\"yanchor\":\"bottom\",\"yref\":\"paper\"},{\"font\":{\"size\":16},\"showarrow\":false,\"text\":\"P: 44, T: C0, L: 7, M: N\",\"x\":0.9484375,\"xanchor\":\"center\",\"xref\":\"paper\",\"y\":0.650574712643678,\"yanchor\":\"bottom\",\"yref\":\"paper\"},{\"font\":{\"size\":16},\"showarrow\":false,\"text\":\"P: 45, T: E1, L: 0, M: N\",\"x\":0.0515625,\"xanchor\":\"center\",\"xref\":\"paper\",\"y\":0.4758620689655172,\"yanchor\":\"bottom\",\"yref\":\"paper\"},{\"font\":{\"size\":16},\"showarrow\":false,\"text\":\"P: 45, T: E1, L: 1, M: N\",\"x\":0.1796875,\"xanchor\":\"center\",\"xref\":\"paper\",\"y\":0.4758620689655172,\"yanchor\":\"bottom\",\"yref\":\"paper\"},{\"font\":{\"size\":16},\"showarrow\":false,\"text\":\"P: 45, T: E1, L: 2, M: N\",\"x\":0.3078125,\"xanchor\":\"center\",\"xref\":\"paper\",\"y\":0.4758620689655172,\"yanchor\":\"bottom\",\"yref\":\"paper\"},{\"font\":{\"size\":16},\"showarrow\":false,\"text\":\"P: 45, T: E1, L: 3, M: N\",\"x\":0.4359375,\"xanchor\":\"center\",\"xref\":\"paper\",\"y\":0.4758620689655172,\"yanchor\":\"bottom\",\"yref\":\"paper\"},{\"font\":{\"size\":16},\"showarrow\":false,\"text\":\"P: 45, T: E1, L: 4, M: N\",\"x\":0.5640624999999999,\"xanchor\":\"center\",\"xref\":\"paper\",\"y\":0.4758620689655172,\"yanchor\":\"bottom\",\"yref\":\"paper\"},{\"font\":{\"size\":16},\"showarrow\":false,\"text\":\"P: 45, T: E1, L: 5, M: N\",\"x\":0.6921875,\"xanchor\":\"center\",\"xref\":\"paper\",\"y\":0.4758620689655172,\"yanchor\":\"bottom\",\"yref\":\"paper\"},{\"font\":{\"size\":16},\"showarrow\":false,\"text\":\"P: 45, T: E1, L: 6, M: N\",\"x\":0.8203125,\"xanchor\":\"center\",\"xref\":\"paper\",\"y\":0.4758620689655172,\"yanchor\":\"bottom\",\"yref\":\"paper\"},{\"font\":{\"size\":16},\"showarrow\":false,\"text\":\"P: 45, T: E1, L: 7, M: N\",\"x\":0.9484375,\"xanchor\":\"center\",\"xref\":\"paper\",\"y\":0.4758620689655172,\"yanchor\":\"bottom\",\"yref\":\"paper\"},{\"font\":{\"size\":16},\"showarrow\":false,\"text\":\"P: 46, T: B0, L: 0, M: N\",\"x\":0.0515625,\"xanchor\":\"center\",\"xref\":\"paper\",\"y\":0.30114942528735633,\"yanchor\":\"bottom\",\"yref\":\"paper\"},{\"font\":{\"size\":16},\"showarrow\":false,\"text\":\"P: 46, T: B0, L: 1, M: N\",\"x\":0.1796875,\"xanchor\":\"center\",\"xref\":\"paper\",\"y\":0.30114942528735633,\"yanchor\":\"bottom\",\"yref\":\"paper\"},{\"font\":{\"size\":16},\"showarrow\":false,\"text\":\"P: 46, T: B0, L: 2, M: N\",\"x\":0.3078125,\"xanchor\":\"center\",\"xref\":\"paper\",\"y\":0.30114942528735633,\"yanchor\":\"bottom\",\"yref\":\"paper\"},{\"font\":{\"size\":16},\"showarrow\":false,\"text\":\"P: 46, T: B0, L: 3, M: N\",\"x\":0.4359375,\"xanchor\":\"center\",\"xref\":\"paper\",\"y\":0.30114942528735633,\"yanchor\":\"bottom\",\"yref\":\"paper\"},{\"font\":{\"size\":16},\"showarrow\":false,\"text\":\"P: 46, T: B0, L: 4, M: N\",\"x\":0.5640624999999999,\"xanchor\":\"center\",\"xref\":\"paper\",\"y\":0.30114942528735633,\"yanchor\":\"bottom\",\"yref\":\"paper\"},{\"font\":{\"size\":16},\"showarrow\":false,\"text\":\"P: 46, T: B0, L: 5, M: N\",\"x\":0.6921875,\"xanchor\":\"center\",\"xref\":\"paper\",\"y\":0.30114942528735633,\"yanchor\":\"bottom\",\"yref\":\"paper\"},{\"font\":{\"size\":16},\"showarrow\":false,\"text\":\"P: 46, T: B0, L: 6, M: N\",\"x\":0.8203125,\"xanchor\":\"center\",\"xref\":\"paper\",\"y\":0.30114942528735633,\"yanchor\":\"bottom\",\"yref\":\"paper\"},{\"font\":{\"size\":16},\"showarrow\":false,\"text\":\"P: 46, T: B0, L: 7, M: N\",\"x\":0.9484375,\"xanchor\":\"center\",\"xref\":\"paper\",\"y\":0.30114942528735633,\"yanchor\":\"bottom\",\"yref\":\"paper\"},{\"font\":{\"size\":16},\"showarrow\":false,\"text\":\"P: 47, T: E6, L: 0, M: N\",\"x\":0.0515625,\"xanchor\":\"center\",\"xref\":\"paper\",\"y\":0.1264367816091954,\"yanchor\":\"bottom\",\"yref\":\"paper\"},{\"font\":{\"size\":16},\"showarrow\":false,\"text\":\"P: 47, T: E6, L: 1, M: N\",\"x\":0.1796875,\"xanchor\":\"center\",\"xref\":\"paper\",\"y\":0.1264367816091954,\"yanchor\":\"bottom\",\"yref\":\"paper\"},{\"font\":{\"size\":16},\"showarrow\":false,\"text\":\"P: 47, T: E6, L: 2, M: N\",\"x\":0.3078125,\"xanchor\":\"center\",\"xref\":\"paper\",\"y\":0.1264367816091954,\"yanchor\":\"bottom\",\"yref\":\"paper\"},{\"font\":{\"size\":16},\"showarrow\":false,\"text\":\"P: 47, T: E6, L: 3, M: N\",\"x\":0.4359375,\"xanchor\":\"center\",\"xref\":\"paper\",\"y\":0.1264367816091954,\"yanchor\":\"bottom\",\"yref\":\"paper\"},{\"font\":{\"size\":16},\"showarrow\":false,\"text\":\"P: 47, T: E6, L: 4, M: N\",\"x\":0.5640624999999999,\"xanchor\":\"center\",\"xref\":\"paper\",\"y\":0.1264367816091954,\"yanchor\":\"bottom\",\"yref\":\"paper\"},{\"font\":{\"size\":16},\"showarrow\":false,\"text\":\"P: 47, T: E6, L: 5, M: N\",\"x\":0.6921875,\"xanchor\":\"center\",\"xref\":\"paper\",\"y\":0.1264367816091954,\"yanchor\":\"bottom\",\"yref\":\"paper\"},{\"font\":{\"size\":16},\"showarrow\":false,\"text\":\"P: 47, T: E6, L: 6, M: N\",\"x\":0.8203125,\"xanchor\":\"center\",\"xref\":\"paper\",\"y\":0.1264367816091954,\"yanchor\":\"bottom\",\"yref\":\"paper\"},{\"font\":{\"size\":16},\"showarrow\":false,\"text\":\"P: 47, T: E6, L: 7, M: N\",\"x\":0.9484375,\"xanchor\":\"center\",\"xref\":\"paper\",\"y\":0.1264367816091954,\"yanchor\":\"bottom\",\"yref\":\"paper\"}],\"margin\":{\"t\":100},\"title\":{\"text\":\"Probe Results per Position per Layer, Mode: N\"},\"width\":1800,\"height\":1450},                        {\"responsive\": true}                    ).then(function(){\n",
       "                            \n",
       "var gd = document.getElementById('1d1fe3ca-2402-4dee-941d-cbd1fd6a2042');\n",
       "var x = new MutationObserver(function (mutations, observer) {{\n",
       "        var display = window.getComputedStyle(gd).display;\n",
       "        if (!display || display === 'none') {{\n",
       "            console.log([gd, 'removed!']);\n",
       "            Plotly.purge(gd);\n",
       "            observer.disconnect();\n",
       "        }}\n",
       "}});\n",
       "\n",
       "// Listen for the removal of the full notebook cells\n",
       "var notebookContainer = gd.closest('#notebook-container');\n",
       "if (notebookContainer) {{\n",
       "    x.observe(notebookContainer, {childList: true});\n",
       "}}\n",
       "\n",
       "// Listen for the clearing of the current output cell\n",
       "var outputEl = gd.closest('.output');\n",
       "if (outputEl) {{\n",
       "    x.observe(outputEl, {childList: true});\n",
       "}}\n",
       "\n",
       "                        })                };                });            </script>        </div>"
      ]
     },
     "metadata": {},
     "output_type": "display_data"
    }
   ],
   "source": [
    "# top_games, top_moves = get_max_acitvations_of_neuron(focus_cache, layer, neuron, 10)\n",
    "# for i in range(len(top_games)):\n",
    "game = 0\n",
    "pos = 47\n",
    "# pos = top_moves[i].item()\n",
    "vis_args = VisualzeBoardArguments()\n",
    "vis_args.start_pos = pos-5\n",
    "vis_args.end_pos = pos+1\n",
    "# vis_args.include_attn_only = True\n",
    "# vis_args.include_mlp_only = True\n",
    "# plot_game(focus_games_string, game)\n",
    "\n",
    "visualize_game(\n",
    "    focus_games_string[game, :59],\n",
    "    vis_args,\n",
    "    model,\n",
    ")\n",
    "# break"
   ]
  }
 ],
 "metadata": {
  "kernelspec": {
   "display_name": "othello-env",
   "language": "python",
   "name": "python3"
  },
  "language_info": {
   "codemirror_mode": {
    "name": "ipython",
    "version": 3
   },
   "file_extension": ".py",
   "mimetype": "text/x-python",
   "name": "python",
   "nbconvert_exporter": "python",
   "pygments_lexer": "ipython3",
   "version": "3.11.9"
  }
 },
 "nbformat": 4,
 "nbformat_minor": 2
}
