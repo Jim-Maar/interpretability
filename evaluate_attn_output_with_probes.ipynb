{
 "cells": [
  {
   "cell_type": "code",
   "execution_count": 1,
   "metadata": {},
   "outputs": [
    {
     "name": "stderr",
     "output_type": "stream",
     "text": [
      "/hpi/fs00/home/jim.maar/miniconda3/envs/othello-env/lib/python3.11/site-packages/accelerate/utils/imports.py:274: UserWarning: `ACCELERATE_DISABLE_RICH` is deprecated and will be removed in v0.22.0 and deactivated by default. Please use `ACCELERATE_ENABLE_RICH` if you wish to use `rich`.\n",
      "  warnings.warn(\n"
     ]
    }
   ],
   "source": [
    "from utils import *"
   ]
  },
  {
   "cell_type": "code",
   "execution_count": 2,
   "metadata": {},
   "outputs": [],
   "source": [
    "board = OthelloBoardState()"
   ]
  },
  {
   "cell_type": "code",
   "execution_count": null,
   "metadata": {},
   "outputs": [
    {
     "name": "stderr",
     "output_type": "stream",
     "text": [
      "100%|██████████| 1/1 [00:00<00:00,  4.54it/s]"
     ]
    },
    {
     "name": "stdout",
     "output_type": "stream",
     "text": [
      "Layer 0 Resid Post Accuracy: 0.8166054487228394 Attn Out Accuracy: 0.7224854826927185\n",
      "Layer 1 Resid Post Accuracy: 0.894166111946106 Attn Out Accuracy: 0.8383472561836243\n",
      "Layer 2 Resid Post Accuracy: 0.940862238407135 Attn Out Accuracy: 0.8972365856170654\n",
      "Layer 3 Resid Post Accuracy: 0.9653728008270264 Attn Out Accuracy: 0.9023836255073547\n",
      "Layer 4 Resid Post Accuracy: 0.9817723631858826 Attn Out Accuracy: 0.9289707541465759\n",
      "Layer 5 Resid Post Accuracy: 0.9924746751785278 Attn Out Accuracy: 0.8762224316596985\n",
      "Layer 6 Resid Post Accuracy: 1.0 Attn Out Accuracy: 0.6971229910850525\n",
      "Layer 7 Resid Post Accuracy: 0.9945334792137146 Attn Out Accuracy: 0.17141437530517578\n"
     ]
    },
    {
     "name": "stderr",
     "output_type": "stream",
     "text": [
      "\n"
     ]
    }
   ],
   "source": [
    "batch_size = 30\n",
    "num_games = 30\n",
    "\n",
    "def get_accuracy_from_boardstates(pred_board_state : Float[Tensor, \"batch pos row col\"], real_board_state : Float[Tensor, \"batch pos row col\"], not_flipped_real : Float[Tensor, \"batch pos row col\"]):\n",
    "    return ((pred_board_state == real_board_state) & not_flipped_real & (real_board_state != EMPTY)).float().sum() / (not_flipped_real & (real_board_state != EMPTY)).float().sum()\n",
    "\n",
    "for batch in tqdm(range(0, num_games, batch_size)):\n",
    "    indeces = t.arange(batch, batch + batch_size)\n",
    "    games = board_seqs_int[indeces].to(device)\n",
    "    # logits = model(games[:, :-1])\n",
    "    _, cache = model.run_with_cache(games[:, :-1])\n",
    "\n",
    "    board_states = []\n",
    "    for i in range(batch, batch+batch_size):\n",
    "        moves = board_seqs_int[i]\n",
    "        board = OthelloBoardState()\n",
    "        board_states_game = []\n",
    "        for move in moves:\n",
    "            move = to_string(move.item())\n",
    "            board.umpire(move)\n",
    "            board_states_game += [board.state]\n",
    "        board_states += [board_states_game]\n",
    "    \n",
    "    board_states = t.tensor(board_states).to(device)\n",
    "\n",
    "    resid_post_6 = cache['resid_post', 6]\n",
    "    linear_probe_6 = get_probe(6, \"linear\", \"post\")[0]\n",
    "    flipped_probe_6 = get_probe(6, \"flipped\", \"post\")[0]\n",
    "    real_board_state = einops.einsum(resid_post_6, linear_probe_6, 'b p d, d r c o -> b p r c o').argmax(-1)\n",
    "    not_flipped_real = einops.einsum(resid_post_6, flipped_probe_6, 'b p d, d r c o -> b p r c o').argmax(-1) == NOT_FLIPPED\n",
    "\n",
    "    for layer in range(8):\n",
    "        resid_post = cache['resid_post', layer]\n",
    "        attn_out = cache['attn_out', layer]\n",
    "        linear_probe = get_probe(layer, \"linear\", \"post\")[0]\n",
    "        pred_board_state_resid_post = einops.einsum(resid_post, linear_probe, 'b p d, d r c o -> b p r c o').argmax(-1)\n",
    "        pred_board_state_attn_out = einops.einsum(attn_out, linear_probe, 'b p d, d r c o -> b p r c o').argmax(-1)\n",
    "        accuracy_resid_post = get_accuracy_from_boardstates(pred_board_state_resid_post, real_board_state, not_flipped_real)\n",
    "        accuracy_attn_out = get_accuracy_from_boardstates(pred_board_state_attn_out, real_board_state, not_flipped_real)\n",
    "        print(f\"Layer {layer} Resid Post Accuracy: {accuracy_resid_post.item()} Attn Out Accuracy: {accuracy_attn_out.item()}\")"
   ]
  },
  {
   "cell_type": "code",
   "execution_count": null,
   "metadata": {},
   "outputs": [],
   "source": []
  }
 ],
 "metadata": {
  "kernelspec": {
   "display_name": "othello-env",
   "language": "python",
   "name": "python3"
  },
  "language_info": {
   "codemirror_mode": {
    "name": "ipython",
    "version": 3
   },
   "file_extension": ".py",
   "mimetype": "text/x-python",
   "name": "python",
   "nbconvert_exporter": "python",
   "pygments_lexer": "ipython3",
   "version": "3.11.9"
  }
 },
 "nbformat": 4,
 "nbformat_minor": 2
}
