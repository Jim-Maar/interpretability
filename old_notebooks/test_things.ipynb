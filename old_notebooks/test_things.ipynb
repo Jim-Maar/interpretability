{
 "cells": [
  {
   "cell_type": "code",
   "execution_count": 20,
   "metadata": {},
   "outputs": [],
   "source": [
    "import torch as t\n",
    "\n",
    "def get_diagonal(y, x, up : bool):\n",
    "    if up:\n",
    "        return [(y - i, x + i) for i in range(max(-x, y - 7), min(y, 7 - x) + 1)]\n",
    "    else:\n",
    "        return [(y + i, x + i) for i in range(max(-x, -y), min(7 - y, 7 - x) + 1)]"
   ]
  },
  {
   "cell_type": "code",
   "execution_count": 28,
   "metadata": {},
   "outputs": [
    {
     "name": "stdout",
     "output_type": "stream",
     "text": [
      "tensor([[ 1,  1,  0,  0,  1,  0,  0,  0],\n",
      "        [ 0,  0, -1,  0,  0,  1,  0,  0],\n",
      "        [-1,  0,  1,  0, -1,  1,  1, -1],\n",
      "        [ 0,  0,  0,  0,  1,  0,  0, -1],\n",
      "        [ 0,  0,  0,  0,  1,  0,  0, -1],\n",
      "        [ 0,  0,  1,  0,  0,  0,  0, -1],\n",
      "        [ 0,  0,  0,  1,  1,  0,  0,  0],\n",
      "        [ 0,  0,  0,  0,  0,  0,  0,  0]], dtype=torch.int32)\n",
      "[(0, 2), (1, 3), (2, 4), (3, 5), (4, 6), (5, 7)]\n",
      "tensor([[ 1,  1,  8,  0,  1,  0,  0,  0],\n",
      "        [ 0,  0, -1,  8,  0,  1,  0,  0],\n",
      "        [-1,  0,  1,  0,  8,  1,  1, -1],\n",
      "        [ 0,  0,  0,  0,  1,  8,  0, -1],\n",
      "        [ 0,  0,  0,  0,  1,  0,  8, -1],\n",
      "        [ 0,  0,  1,  0,  0,  0,  0,  8],\n",
      "        [ 0,  0,  0,  1,  1,  0,  0,  0],\n",
      "        [ 0,  0,  0,  0,  0,  0,  0,  0]], dtype=torch.int32)\n"
     ]
    }
   ],
   "source": [
    "a = t.randn(8, 8).to(t.int)\n",
    "print(a)\n",
    "diagonal = get_diagonal(1, 3, False)\n",
    "print(diagonal)\n",
    "for y, x in diagonal:\n",
    "    a[y, x] = 8\n",
    "print(a)"
   ]
  }
 ],
 "metadata": {
  "kernelspec": {
   "display_name": "othello-env",
   "language": "python",
   "name": "python3"
  },
  "language_info": {
   "codemirror_mode": {
    "name": "ipython",
    "version": 3
   },
   "file_extension": ".py",
   "mimetype": "text/x-python",
   "name": "python",
   "nbconvert_exporter": "python",
   "pygments_lexer": "ipython3",
   "version": "3.11.9"
  }
 },
 "nbformat": 4,
 "nbformat_minor": 2
}
