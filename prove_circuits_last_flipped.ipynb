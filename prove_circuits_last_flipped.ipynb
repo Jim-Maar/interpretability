{
 "cells": [
  {
   "cell_type": "code",
   "execution_count": 1,
   "metadata": {},
   "outputs": [
    {
     "name": "stderr",
     "output_type": "stream",
     "text": [
      "/hpi/fs00/home/jim.maar/miniconda3/envs/othello-env/lib/python3.11/site-packages/accelerate/utils/imports.py:274: UserWarning: `ACCELERATE_DISABLE_RICH` is deprecated and will be removed in v0.22.0 and deactivated by default. Please use `ACCELERATE_ENABLE_RICH` if you wish to use `rich`.\n",
      "  warnings.warn(\n"
     ]
    },
    {
     "name": "stdout",
     "output_type": "stream",
     "text": [
      "interpretability\n",
      "focus states: (50, 60, 8, 8)\n",
      "focus_valid_moves (50, 60, 64)\n"
     ]
    }
   ],
   "source": [
    "import os, sys\n",
    "chapter = \"chapter1_transformer_interp\"\n",
    "repo = \"ARENA_3.0\"\n",
    "chapter_dir = r\"./\" if chapter in os.listdir() else os.getcwd().split(chapter)[0]\n",
    "sys.path.append(chapter_dir + f\"{chapter}/exercises\")\n",
    "\n",
    "import os\n",
    "os.environ[\"ACCELERATE_DISABLE_RICH\"] = \"1\"\n",
    "import sys\n",
    "import torch as t\n",
    "import torch.nn as nn\n",
    "import torch.nn.functional as F\n",
    "import torch.optim as optim\n",
    "from torch import Tensor\n",
    "from torch.utils.data import DataLoader\n",
    "import numpy as np\n",
    "import einops\n",
    "from ipywidgets import interact\n",
    "import plotly.express as px\n",
    "from ipywidgets import interact\n",
    "from pathlib import Path\n",
    "import itertools\n",
    "import random\n",
    "from IPython.display import display\n",
    "from jaxtyping import Float, Int, Bool, Shaped, jaxtyped\n",
    "from typing import List, Union, Optional, Tuple, Callable, Dict\n",
    "import typeguard\n",
    "from functools import partial\n",
    "# from torcheval.metrics.functional import multiclass_f1_score\n",
    "from sklearn.metrics import f1_score as multiclass_f1_score\n",
    "import copy\n",
    "from transformers import AutoModelForCausalLM, AutoConfig, AutoTokenizer\n",
    "import dataclasses\n",
    "import datasets\n",
    "from IPython.display import HTML\n",
    "import transformer_lens\n",
    "import transformer_lens.utils as utils\n",
    "from transformer_lens.hook_points import HookedRootModule, HookPoint\n",
    "from transformer_lens import HookedTransformer, HookedTransformerConfig, FactoredMatrix, ActivationCache\n",
    "from tqdm.notebook import tqdm\n",
    "from dataclasses import dataclass\n",
    "from rich import print as rprint\n",
    "import pandas as pd\n",
    "\n",
    "# Make sure exercises are in the path\n",
    "# exercises_dir = Path(f\"{os.getcwd().split(chapter)[0]}/{chapter}/exercises\").resolve()\n",
    "# section_dir = exercises_dir / \"part6_othellogpt\"\n",
    "# section_dir = \"interpretability\"\n",
    "# if str(exercises_dir) not in sys.path: sys.path.append(str(exercises_dir))\n",
    "\n",
    "from plotly_utils import imshow\n",
    "from neel_plotly import scatter, line\n",
    "# from generate_patches import generate_patch\n",
    "from pprint import pprint\n",
    "from utils import plot_game\n",
    "from training_utils import get_state_stack_num_flipped\n",
    "from utils import plot_probe_outputs\n",
    "from utils import seq_to_state_stack\n",
    "from utils import VisualzeBoardArguments\n",
    "from utils import visualize_game\n",
    "\n",
    "import plotly.graph_objects as go\n",
    "from plotly.subplots import make_subplots\n",
    "from utils import plot_boards_general\n",
    "import numpy as np\n",
    "import pickle\n",
    "\n",
    "# import part6_othellogpt.tests as tests\n",
    "\n",
    "t.manual_seed(42)\n",
    "\n",
    "device = t.device(\"cuda\" if t.cuda.is_available() else \"cpu\")\n",
    "\n",
    "MAIN = __name__ == \"__main__\"\n",
    "\n",
    "cfg = HookedTransformerConfig(\n",
    "    n_layers = 8,\n",
    "    d_model = 512,\n",
    "    d_head = 64,\n",
    "    n_heads = 8,\n",
    "    d_mlp = 2048,\n",
    "    d_vocab = 61,\n",
    "    n_ctx = 59,\n",
    "    act_fn=\"gelu\",\n",
    "    normalization_type=\"LNPre\",\n",
    "    device=device,\n",
    ")\n",
    "model = HookedTransformer(cfg)\n",
    "\n",
    "sd = utils.download_file_from_hf(\"NeelNanda/Othello-GPT-Transformer-Lens\", \"synthetic_model.pth\")\n",
    "# champion_ship_sd = utils.download_file_from_hf(\"NeelNanda/Othello-GPT-Transformer-Lens\", \"championship_model.pth\")\n",
    "model.load_state_dict(sd)\n",
    "\n",
    "# An example input\n",
    "sample_input = t.tensor([[\n",
    "    20, 19, 18, 10,  2,  1, 27,  3, 41, 42, 34, 12,  4, 40, 11, 29, 43, 13, 48, 56,\n",
    "    33, 39, 22, 44, 24,  5, 46,  6, 32, 36, 51, 58, 52, 60, 21, 53, 26, 31, 37,  9,\n",
    "    25, 38, 23, 50, 45, 17, 47, 28, 35, 30, 54, 16, 59, 49, 57, 14, 15, 55, 7\n",
    "]]).to(device)\n",
    "\n",
    "# The argmax of the output (ie the most likely next move from each position)\n",
    "sample_output = t.tensor([[\n",
    "    21, 41, 40, 34, 40, 41,  3, 11, 21, 43, 40, 21, 28, 50, 33, 50, 33,  5, 33,  5,\n",
    "    52, 46, 14, 46, 14, 47, 38, 57, 36, 50, 38, 15, 28, 26, 28, 59, 50, 28, 14, 28,\n",
    "    28, 28, 28, 45, 28, 35, 15, 14, 30, 59, 49, 59, 15, 15, 14, 15,  8,  7,  8\n",
    "]]).to(device)\n",
    "\n",
    "assert (model(sample_input).argmax(dim=-1) == sample_output.to(device)).all()\n",
    "\n",
    "# os.chdir(section_dir)\n",
    "section_dir = Path.cwd()\n",
    "sys.path.append(str(section_dir))\n",
    "print(section_dir.name)\n",
    "\n",
    "OTHELLO_ROOT = (section_dir / \"othello_world\").resolve()\n",
    "OTHELLO_MECHINT_ROOT = (OTHELLO_ROOT / \"mechanistic_interpretability\").resolve()\n",
    "\n",
    "# if not OTHELLO_ROOT.exists():\n",
    "#     !git clone https://github.com/likenneth/othello_world\n",
    "\n",
    "sys.path.append(str(OTHELLO_MECHINT_ROOT))\n",
    "\n",
    "from mech_interp_othello_utils import (\n",
    "    plot_board,\n",
    "    plot_single_board,\n",
    "    plot_board_log_probs,\n",
    "    to_string,\n",
    "    to_int,\n",
    "    int_to_label,\n",
    "    string_to_label,\n",
    "    OthelloBoardState\n",
    ")\n",
    "\n",
    "# Load board data as ints (i.e. 0 to 60)\n",
    "board_seqs_int = t.tensor(np.load(OTHELLO_MECHINT_ROOT / \"board_seqs_int_small.npy\"), dtype=t.long)\n",
    "# Load board data as \"strings\" (i.e. 0 to 63 with middle squares skipped out)\n",
    "board_seqs_string = t.tensor(np.load(OTHELLO_MECHINT_ROOT / \"board_seqs_string_small.npy\"), dtype=t.long)\n",
    "\n",
    "assert all([middle_sq not in board_seqs_string for middle_sq in [27, 28, 35, 36]])\n",
    "assert board_seqs_int.max() == 60\n",
    "\n",
    "num_games, length_of_game = board_seqs_int.shape\n",
    "\n",
    "# Define possible indices (excluding the four center squares)\n",
    "stoi_indices = [i for i in range(64) if i not in [27, 28, 35, 36]]\n",
    "\n",
    "# Define our rows, and the function that converts an index into a (row, column) label, e.g. `E2`\n",
    "alpha = \"ABCDEFGH\"\n",
    "\n",
    "def to_board_label(i):\n",
    "    return f\"{alpha[i//8]}{i%8}\"\n",
    "\n",
    "# Get our list of board labels\n",
    "board_labels = list(map(to_board_label, stoi_indices))\n",
    "full_board_labels = list(map(to_board_label, range(64)))\n",
    "\n",
    "def plot_square_as_board(state, diverging_scale=True, **kwargs):\n",
    "    \"\"\"Takes a square input (8 by 8) and plot it as a board. Can do a stack of boards via facet_col=0\"\"\"\n",
    "    kwargs = {\n",
    "        \"y\": [i for i in alpha],\n",
    "        \"x\": [str(i) for i in range(8)],\n",
    "        \"color_continuous_scale\": \"RdBu\" if diverging_scale else \"Blues\",\n",
    "        \"color_continuous_midpoint\": 0. if diverging_scale else None,\n",
    "        \"aspect\": \"equal\",\n",
    "        **kwargs\n",
    "    }\n",
    "    imshow(state, **kwargs)\n",
    "\n",
    "start = 0\n",
    "num_games = 50\n",
    "focus_games_int = board_seqs_int[start : start + num_games]\n",
    "focus_games_string = board_seqs_string[start: start + num_games]\n",
    "\n",
    "focus_logits, focus_cache = model.run_with_cache(focus_games_int[:, :-1].to(device))\n",
    "focus_logits.shape\n",
    "\n",
    "def one_hot(list_of_ints, num_classes=64):\n",
    "    out = t.zeros((num_classes,), dtype=t.float32)\n",
    "    out[list_of_ints] = 1.\n",
    "    return out\n",
    "\n",
    "focus_states = np.zeros((num_games, 60, 8, 8), dtype=np.float32)\n",
    "focus_valid_moves = t.zeros((num_games, 60, 64), dtype=t.float32)\n",
    "\n",
    "for i in (range(num_games)):\n",
    "    board = OthelloBoardState()\n",
    "    for j in range(60):\n",
    "        board.umpire(focus_games_string[i, j].item())\n",
    "        focus_states[i, j] = board.state\n",
    "        focus_valid_moves[i, j] = one_hot(board.get_valid_moves())\n",
    "\n",
    "print(\"focus states:\", focus_states.shape)\n",
    "print(\"focus_valid_moves\", tuple(focus_valid_moves.shape))\n",
    "\n",
    "# full_linear_probe = t.load(OTHELLO_MECHINT_ROOT / \"main_linear_probe.pth\", map_location=device)\n",
    "\n",
    "rows = 8\n",
    "cols = 8\n",
    "options = 3\n",
    "\n",
    "black_to_play_index = 0\n",
    "white_to_play_index = 1\n",
    "blank_index = 0\n",
    "their_index = 1\n",
    "my_index = 2\n",
    "\n",
    "# Creating values for linear probe (converting the \"black/white to play\" notation into \"me/them to play\")\n",
    "\n",
    "from utils import *"
   ]
  },
  {
   "cell_type": "code",
   "execution_count": 2,
   "metadata": {},
   "outputs": [],
   "source": [
    "def get_estimated_attention_pattern(num_games):\n",
    "    estimated_attention_pattern : Float[Tensor, \"layer head pos_from pos_to\"] = t.zeros((8, 8, 59, 59)).to(device)\n",
    "    estimated_attention_pattern_variance = t.zeros((8, 8)).to(device)\n",
    "    for layer in range(8):\n",
    "        _, cache = model.run_with_cache(\n",
    "            board_seqs_int[:num_games, :-1].to(device),\n",
    "            return_type=None,\n",
    "            names_filter = lambda name : name in [utils.get_act_name(\"pattern\", layer)]\n",
    "        )\n",
    "        attention_pattern = cache[\"pattern\", layer]\n",
    "        estimated_attention_pattern[layer] = attention_pattern.mean(dim=0)\n",
    "        estimated_attention_pattern_variance[layer] = attention_pattern.var(dim=0).mean()\n",
    "    estimated_attention_pattern_variance = estimated_attention_pattern_variance.mean()\n",
    "    print(estimated_attention_pattern_variance)\n",
    "    return estimated_attention_pattern\n",
    "\n",
    "def get_avg_resid(layer, num_games):\n",
    "    _, cache = model.run_with_cache(\n",
    "        board_seqs_int[:num_games, :-1].to(device),\n",
    "        return_type=None,\n",
    "        names_filter = lambda name : name in [f\"blocks.{layer}.ln1.hook_normalized\"]\n",
    "    )\n",
    "    return cache[f\"blocks.{layer}.ln1.hook_normalized\"].mean(dim=0)"
   ]
  },
  {
   "cell_type": "code",
   "execution_count": 3,
   "metadata": {},
   "outputs": [
    {
     "name": "stdout",
     "output_type": "stream",
     "text": [
      "tensor(0.0007, device='cuda:0')\n"
     ]
    }
   ],
   "source": [
    "'''# Wenn ich so an allen stellen etwas ändere muss ich wirklich schon beim coden alles testen, so viel es geht!!!\n",
    "layer = 1\n",
    "tile_tuple = (4, 4)\n",
    "probe_flipped_b = get_probe(layer-1, \"flipped\", \"post\")[0, :, *tile_tuple, FLIPPED].detach()\n",
    "yours_probe_b = get_probe(layer, \"linear\", \"mid\")[0, :, *tile_tuple, YOURS].detach()\n",
    "mine_probe_b = get_probe(layer, \"linear\", \"mid\")[0, :, *tile_tuple, MINE].detach()\n",
    "probe_flipped_normalized_b = probe_flipped_b / probe_flipped_b.norm()\n",
    "flipped_after_OV_b = einops.einsum(probe_flipped_normalized_b, OV.AB[layer, :], \"d_model_in, head_idx d_model_in d_model_out -> head_idx d_model_out\")\n",
    "conversion_factors_yours_b = einops.einsum(flipped_after_OV_b, yours_probe_b, \"head_idx d_model, d_model -> head_idx\")\n",
    "conversion_factors_mine_b = einops.einsum(flipped_after_OV_b, mine_probe_b, \"head_idx d_model, d_model -> head_idx\")\n",
    "\n",
    "avg_resids_b = focus_cache[f\"blocks.{layer}.ln1.hook_normalized\"].mean(dim=0)\n",
    "projection_b = einops.repeat(avg_resids_b @ probe_flipped_b, \"pos -> pos d_model\", d_model=512) / (probe_flipped_b @ probe_flipped_b) * probe_flipped_b\n",
    "avg_resids_without_flipped_b = avg_resids_b - projection_b\n",
    "avg_resids_after_OV_b = einops.einsum(avg_resids_without_flipped_b, OV.AB[layer, :], \"pos d_model_in, head_idx d_model_in d_model_out -> head_idx pos d_model_out\")\n",
    "avg_resids_yours_bias_b = einops.einsum(avg_resids_after_OV_b, yours_probe_b, \"head_idx pos d_model, d_model -> head_idx pos\")\n",
    "avg_resids_mine_bias_b = einops.einsum(avg_resids_after_OV_b, mine_probe_b, \"head_idx pos d_model, d_model -> head_idx pos\")'''\n",
    "\n",
    "# All the Things needed later for all layers head row col\n",
    "# Bei den layout von dimensionen sollte man immer darauf achten, je wahrscheinlicher es ist, dass eine dimension für mul oder add benutz wird, desto weiter nach rechts sollte sie sein\n",
    "# TODO: Does it make more sense if this is normalized? NO Because we want the Logit and thats not normalized! (DONE)\n",
    "num_games = 200\n",
    "\n",
    "OV = model.OV\n",
    "flipped_probe : Float[Tensor, \"d_model layer row col\"] = t.Tensor(size=(512, 8, 8, 8)).to(device)\n",
    "flipped_probe_normalized : Float[Tensor, \"d_model layer row col\"] = t.Tensor(size=(512, 8, 8, 8)).to(device)\n",
    "yours_probe : Float[Tensor, \"d_model layer row col\"] = t.Tensor(size=(512, 8, 8, 8)).to(device)\n",
    "mine_probe : Float[Tensor, \"d_model layer row col\"] = t.Tensor(size=(512, 8, 8, 8)).to(device)\n",
    "empty_probe : Float[Tensor, \"d_model layer row col\"] = t.Tensor(size=(512, 8, 8, 8)).to(device)\n",
    "conversion_factors_mine : Float[Tensor, \"layer head_idx row col\"] = t.Tensor(size=(8, 8, 8, 8)).to(device)\n",
    "conversion_factors_yours : Float[Tensor, \"layer head_idx row col\"] = t.Tensor(size=(8, 8, 8, 8)).to(device) \n",
    "avg_resids_mine_bias : Float[Tensor, \"layer head_idx pos_to row col\"] = t.Tensor(size=(8, 8, 59, 8, 8)).to(device)\n",
    "avg_resids_yours_bias : Float[Tensor, \"layer head_idx pos_to row col\"] = t.Tensor(size=(8, 8, 59, 8, 8)).to(device)\n",
    "avg_resids_without_flipped : Float[Tensor, \"layer d_model pos_to row col\"] = t.Tensor(size=(8, 512, 59, 8, 8)).to(device)\n",
    "\n",
    "for layer in range(1, 8):\n",
    "    flipped_probe_s = get_probe(layer-1, \"flipped\", \"post\")[0, :, :, :, FLIPPED].detach()\n",
    "    flipped_probe[:, layer, :, :] = flipped_probe_s\n",
    "    flipped_probe_normalized = flipped_probe / flipped_probe.norm(dim=0)\n",
    "    yours_probe_s = get_probe(layer, \"linear\", \"mid\")[0, :, :, :, YOURS].detach()\n",
    "    yours_probe[:, layer, :, :] = yours_probe_s\n",
    "    mine_probe_s = get_probe(layer, \"linear\", \"mid\")[0, :, :, :, MINE].detach()\n",
    "    mine_probe[:, layer, :, :] = mine_probe_s\n",
    "    empty_probe_s = get_probe(layer, \"linear\", \"mid\")[0, :, :, :, EMPTY].detach()\n",
    "    empty_probe[:, layer, :, :] = empty_probe_s\n",
    "\n",
    "    # avg_resids = focus_cache[f\"blocks.{layer}.ln1.hook_normalized\"].mean(dim=0)\n",
    "    avg_resids = get_avg_resid(layer, 200)\n",
    "    projection = einops.einsum(avg_resids, flipped_probe_s, \"p d, d r c -> p r c\") / einops.einsum(flipped_probe_s, flipped_probe_s, \"d r c, d r c -> r c\") * einops.repeat(flipped_probe_s, \"d r c -> d p r c\", p=59)\n",
    "    avg_resids_without_flipped_s = einops.repeat(avg_resids, \"pos_to d_model -> d_model pos_to row col\", row = 8, col = 8) - projection\n",
    "    avg_resids_without_flipped[layer] = avg_resids_without_flipped_s\n",
    "    avg_resids_after_OV = einops.einsum(avg_resids_without_flipped_s, OV.AB[layer, :], \"d_model_in pos_to row col, head_idx d_model_in d_model_out -> d_model_out head_idx pos_to row col\")\n",
    "    avg_resids_yours_bias[layer] = einops.einsum(avg_resids_after_OV, yours_probe_s, \"d_model head_idx pos_to row col, d_model row col -> head_idx pos_to row col\")\n",
    "    avg_resids_mine_bias[layer] = einops.einsum(avg_resids_after_OV, mine_probe_s, \"d_model head_idx pos_to row col, d_model row col -> head_idx pos_to row col\")\n",
    "\n",
    "flipped_after_OV = einops.einsum(flipped_probe_normalized, OV.AB, \"d_model_in layer row col, layer head_idx d_model_in d_model_out -> d_model_out layer head_idx row col\")\n",
    "conversion_factors_yours = einops.einsum(flipped_after_OV, yours_probe, \"d_model layer head_idx row col, d_model layer row col -> layer head_idx row col\")\n",
    "conversion_factors_mine = einops.einsum(flipped_after_OV, mine_probe, \"d_model layer head_idx row col, d_model layer row col -> layer head_idx row col\")\n",
    "\n",
    "# TODO: Make this work (DONE)\n",
    "def get_probe_dir2(resid : Float[Tensor, \"batch pos d_model\"], layer : int, row, col):\n",
    "    flipped_probe_normalized_small = flipped_probe_normalized[:, layer, row, col]\n",
    "    avg_resids_without_flipped_small = avg_resids_without_flipped[layer, :, :, row, col]\n",
    "    flipped_in_resid : Float[Tensor, \"batch pos\"] = resid @ flipped_probe_normalized_small\n",
    "    dir = einops.repeat(avg_resids_without_flipped_small, \"d_model pos -> batch pos d_model\", batch=200) + einops.repeat(flipped_in_resid, \"batch pos -> batch pos d_model\", d_model=512) * flipped_probe_normalized_small\n",
    "    return dir\n",
    "\n",
    "estimated_attention_pattern = get_estimated_attention_pattern(200)"
   ]
  },
  {
   "cell_type": "code",
   "execution_count": 19,
   "metadata": {},
   "outputs": [],
   "source": [
    "from jaxtyping import Float, Int, Bool, Shaped, jaxtyped\n",
    "from typing import List, Union, Optional, Tuple, Callable, Dict\n"
   ]
  },
  {
   "cell_type": "code",
   "execution_count": 111,
   "metadata": {},
   "outputs": [],
   "source": [
    "DEBUG = False\n",
    "\n",
    "def add_bias(yours_logits_pred, mine_logits_pred, layer, tile_tuple):\n",
    "    yours_probe_s = yours_probe[:, layer, *tile_tuple]\n",
    "    mine_probe_s = mine_probe[:, layer, *tile_tuple]\n",
    "    bias = model.b_O[layer]\n",
    "    yours_logit_bias = einops.einsum(bias, yours_probe_s, \"d_model, d_model -> \")\n",
    "    yours_logits_pred += yours_logit_bias\n",
    "    mine_logit_bias = einops.einsum(bias, mine_probe_s, \"d_model, d_model -> \")\n",
    "    mine_logits_pred += mine_logit_bias\n",
    "    return yours_logits_pred, mine_logits_pred\n",
    "\n",
    "def get_attn_pattern(layer, use_attn_pattern_approx, cache = None) -> Float[Tensor, \"head pos_from pos_to\"]:\n",
    "    assert cache is not None or use_attn_pattern_approx\n",
    "    if use_attn_pattern_approx:\n",
    "        attention_pattern = einops.repeat(estimated_attention_pattern[layer, :, :], \"head pos_from pos_to -> batch head pos_from pos_to\", batch=200)\n",
    "    else:\n",
    "        attention_pattern : Float[Tensor, \"head_idx pos_from pos_to\"] = cache[\"pattern\", layer][:, :, :]\n",
    "    return attention_pattern\n",
    "\n",
    "def get_yours_and_mine_pred_old(\n",
    "        resid_real : Float[Tensor, \"batch pos d_model\"],\n",
    "        layer : int, \n",
    "        tile_tuple : Tuple[int, int],\n",
    "        cache,\n",
    "        use_attn_pattern_approx : bool = True\n",
    "    ):\n",
    "    yours_logits_pred = t.zeros((200, 59)).to(device)\n",
    "    mine_logits_pred = t.zeros((200, 59)).to(device)\n",
    "    for head in range(8):\n",
    "        yours_probe_s = yours_probe[:, layer, *tile_tuple]\n",
    "        mine_probe_s = mine_probe[:, layer, *tile_tuple]\n",
    "        resid = get_probe_dir2(resid_real, layer, *tile_tuple) # TODO: this could be wrong i guess\n",
    "        # resid = resid_real\n",
    "        # print(f\"resid shape: {resid.shape}\")\n",
    "        # test_probe_dir(resid_real, resid)\n",
    "        head_V = model.W_V[layer, head]\n",
    "        head_v = einops.einsum(resid, head_V, \"batch pos d_model, d_model d_head -> batch pos d_head\")\n",
    "        attention_pattern = get_attn_pattern(layer, use_attn_pattern_approx, cache)[:, head]\n",
    "        # attention_pattern : Float[Tensor, \"pos\"] = focus_cache[\"pattern\", layer][:, head, pos_from]\n",
    "        z = einops.repeat(head_v, \"batch pos_to d_head -> batch pos_from pos_to d_head\", pos_from = 59) * einops.repeat(attention_pattern, \"batch pos_from pos_to -> batch pos_from pos_to d_head\", d_head=64)\n",
    "        z = einops.reduce(z, \"batch pos_from pod_to d_head -> batch pos_from d_head\", \"sum\")\n",
    "        # z = focus_cache[\"z\", layer][:, pos_from, head] # TODO: Remove\n",
    "        result = einops.einsum(z, model.W_O[layer, head], \"batch pos_from d_head, d_head d_model -> batch pos_from d_model\")\n",
    "        yours_logit_head = einops.einsum(result, yours_probe_s, \"batch pos_from d_model, d_model -> batch pos_from\")\n",
    "        yours_logits_pred += yours_logit_head\n",
    "        mine_logit_head = einops.einsum(result, mine_probe_s, \"batch pos_from d_model, d_model -> batch pos_from\")\n",
    "        mine_logits_pred += mine_logit_head\n",
    "        # attn_out_fake += result\n",
    "    yours_logits_pred, mine_logits_pred = add_bias(yours_logits_pred, mine_logits_pred, layer, tile_tuple)\n",
    "    return yours_logits_pred, mine_logits_pred\n",
    "        \n",
    "\n",
    "def get_yours_and_mine_pred_math2(\n",
    "        resid_real : Float[Tensor, \"batch pos d_model\"],\n",
    "        layer : int,\n",
    "        tile_tuple : tuple[int, int],\n",
    "        cache,\n",
    "        use_attn_pattern_approx=True,\n",
    "    ):\n",
    "    # flipped_probe_normalized[layer] acutally means the flipped probe of the previous layer\n",
    "    flipped_probe_normalized_s : Float[Tensor, \"d_model\"] = flipped_probe_normalized[:, layer, *tile_tuple]\n",
    "    conversion_factors_mine_s : Float[Tensor, \"head_idx\"] = conversion_factors_mine[layer, :, *tile_tuple]\n",
    "    conversion_factors_yours_s : Float[Tensor, \"head_idx\"] = conversion_factors_yours[layer, :, *tile_tuple]\n",
    "    avg_resids_mine_bias_s : Float[Tensor, \"head_idx pos_to\"] = avg_resids_mine_bias[layer, :, :, *tile_tuple]\n",
    "    avg_resids_yours_bias_s : Float[Tensor, \"head_idx pos_to\"] = avg_resids_yours_bias[layer, :, :, *tile_tuple]\n",
    "    # \"layer head_idx pos_to row col\"\n",
    "    # TODO: Use Avg Resid, Dont Remove negative Flipped Logits\n",
    "    attention_pattern : Float[Tensor, \"head pos_from pos_to\"] = get_attn_pattern(layer, use_attn_pattern_approx, cache)\n",
    "    flipped_logit = einops.einsum(resid_real, flipped_probe_normalized_s, \"batch pos_to d_model, d_model -> batch pos_to\")\n",
    "    # not_flipped_logit = einops.einsum(resid_real, probe_not_flipped_normalized, \"batch pos d_model, d_model -> batch pos\")\n",
    "    # Negative Logits are doing a lot work ..\n",
    "    # flipped_logit = flipped_logit * ((flipped_logit > not_flipped_logit) & (flipped_logit > 0)).to(device)\n",
    "    # flipped_logit = t.max(flipped_logit, t.zeros_like(flipped_logit).to(device))\n",
    "    flipped_logit = einops.repeat(flipped_logit, \"batch pos_to -> batch head_idx pos_to\", head_idx=8)\n",
    "    yours_logits_pred = einops.repeat(flipped_logit * einops.repeat(conversion_factors_yours_s, \"head_idx -> head_idx pos_to\", pos_to=59) + avg_resids_yours_bias_s, \"batch head_idx pos_to -> batch head_idx pos_from pos_to\", pos_from=59) * attention_pattern\n",
    "    yours_logits_pred = einops.reduce(yours_logits_pred, \"batch head_idx pos_from pos_to -> batch pos_from\", \"sum\")\n",
    "    mine_logits_pred = einops.repeat(flipped_logit * einops.repeat(conversion_factors_mine_s, \"head_idx -> head_idx pos_to\", pos_to=59) + avg_resids_mine_bias_s, \"batch head_idx pos_to -> batch head_idx pos_from pos_to\", pos_from=59) * attention_pattern\n",
    "    mine_logits_pred = einops.reduce(mine_logits_pred, \"batch head_idx pos_from pos_to -> batch pos_from\", \"sum\")\n",
    "    yours_logits_pred, mine_logits_pred = add_bias(yours_logits_pred, mine_logits_pred, layer, tile_tuple)\n",
    "    return yours_logits_pred, mine_logits_pred\n",
    "\n",
    "def get_logits_real(cache, layer, tile_tuple):\n",
    "    attn_out = cache[\"attn_out\", layer]\n",
    "    yours_probe_s = yours_probe[:, layer, *tile_tuple]\n",
    "    mine_probe_s = mine_probe[:, layer, *tile_tuple]\n",
    "    empty_probe_s = empty_probe[:, layer, *tile_tuple]\n",
    "    yours_logits = einops.einsum(attn_out, yours_probe_s, \"batch pos_from d_model, d_model -> batch pos_from\")\n",
    "    mine_logits = einops.einsum(attn_out, mine_probe_s, \"batch pos_from d_model, d_model -> batch pos_from\")\n",
    "    empty_logits = einops.einsum(attn_out, empty_probe_s, \"batch pos_from d_model, d_model -> batch pos_from\")\n",
    "    return yours_logits, mine_logits, empty_logits\n",
    "\n",
    "def get_mind_change_mask(cache, layer, tile_tuple):\n",
    "    resid_real = cache[f\"blocks.{layer}.ln1.hook_normalized\"]\n",
    "    resid_mid = cache[f\"blocks.{layer}.hook_resid_mid\"]\n",
    "    yours_probe_mid_layer = yours_probe[:, layer, *tile_tuple]\n",
    "    mine_probe_mid_layer = mine_probe[:, layer, *tile_tuple]\n",
    "    yours_probe_prev_layer = get_probe(layer-1, \"linear\", \"post\")[0, :, *tile_tuple, YOURS].detach()\n",
    "    mine_probe_prev_layer = get_probe(layer-1, \"linear\", \"post\")[0, :, *tile_tuple, MINE].detach()\n",
    "    yours_logits_prev_layer = einops.einsum(resid_real, yours_probe_prev_layer, \"batch pos d_model, d_model -> batch pos\")\n",
    "    mine_logits_prev_layer = einops.einsum(resid_real, mine_probe_prev_layer, \"batch pos d_model, d_model -> batch pos\")\n",
    "    yours_logits_mid_layer = einops.einsum(resid_mid, yours_probe_mid_layer, \"batch pos d_model, d_model -> batch pos\")\n",
    "    mine_logits_mid_layer = einops.einsum(resid_mid, mine_probe_mid_layer, \"batch pos d_model, d_model -> batch pos\")\n",
    "    mask = t.ones(size=(200, 59)).to(device)\n",
    "    mask[(yours_logits_mid_layer < mine_logits_mid_layer) & (yours_logits_prev_layer < mine_logits_prev_layer)] = 0\n",
    "    mask[(mine_logits_mid_layer < yours_logits_mid_layer) & (mine_logits_prev_layer < yours_logits_prev_layer)] = 0\n",
    "    return mask.to(dtype=t.int)\n",
    "\n",
    "# Input: resid_real, Outpu: logits pred and real\n",
    "def get_yours_and_mine_pred(cache, layer, tile_label, use_attn_pattern_approx, func_to_evaluate, only_mind_changes=False):\n",
    "    # TODO: Output Cool Ass Dataframe\n",
    "    # resid_real is correct. I thought it should be layer -1 but NO!\n",
    "    resid_real = cache[f\"blocks.{layer}.ln1.hook_normalized\"]\n",
    "    tile_tuple = label_to_tuple(tile_label)\n",
    "    yours_logits_pred, mine_logits_pred = func_to_evaluate(resid_real, layer, tile_tuple, cache, use_attn_pattern_approx)\n",
    "    yours_logits, mine_logits, empty_logits = get_logits_real(cache, layer, tile_tuple)\n",
    "    all_logits = t.stack([empty_logits, mine_logits, yours_logits], dim=-1)\n",
    "    mask = all_logits.argmax(dim=-1) != 0\n",
    "    logits_diff = yours_logits - mine_logits\n",
    "    logits_pred_diff = yours_logits_pred - mine_logits_pred\n",
    "    # TOOD: Evaluate only on not empty tiles\n",
    "    # correct = (logits_pred_diff > 0) == (logits_diff > 0)\n",
    "    if only_mind_changes:\n",
    "        mind_change_mask = get_mind_change_mask(cache, layer, tile_tuple)\n",
    "        mask = mask * mind_change_mask\n",
    "    # correct = correct * mask\n",
    "    # return correct.float().sum(dim=0) / mask.sum(dim=0)\n",
    "\n",
    "    # remove everything where mask is 0\n",
    "    # logits_diff = logits_diff[mask]\n",
    "    # logits_pred_diff = logits_pred_diff[mask]\n",
    "    return logits_diff, logits_pred_diff, mask\n",
    "\n",
    "def get_scores(logit_diff, logit_diff_preds, mask):\n",
    "    # calculate tp, tn, fp, fn\n",
    "    if DEBUG:\n",
    "        mask = t.ones_like(mask).to(device)\n",
    "    tp = einops.reduce((logit_diff > 0) & (logit_diff_preds > 0) & mask, \"batch pos -> pos\", \"sum\")\n",
    "    tn = einops.reduce((logit_diff < 0) & (logit_diff_preds < 0) & mask, \"batch pos -> pos\", \"sum\")\n",
    "    fp = einops.reduce((logit_diff < 0) & (logit_diff_preds > 0) & mask, \"batch pos -> pos\", \"sum\")\n",
    "    fn = einops.reduce((logit_diff > 0) & (logit_diff_preds < 0) & mask, \"batch pos -> pos\", \"sum\")\n",
    "    return tp, tn, fp, fn\n",
    "\n",
    "def get_yours_and_mine_pred_results(num_batches, batch_size, use_attn_pattern_approx, func_to_evaluate, only_mind_changes=False, start=200):\n",
    "    # TODO: Seperate the batches used for attention approximation and the rest\n",
    "    results = {\n",
    "        \"TP\" : t.zeros((8, 59, 8, 8)).to(device),\n",
    "        \"TN\" : t.zeros((8, 59, 8, 8)).to(device),\n",
    "        \"FP\" : t.zeros((8, 59, 8, 8)).to(device),\n",
    "        \"FN\" : t.zeros((8, 59, 8, 8)).to(device),\n",
    "    }\n",
    "\n",
    "    for layer in range(1, 8):\n",
    "        for batch in range(num_batches):\n",
    "            indeces = t.arange(start + batch * batch_size, start + (batch + 1) * batch_size).to(dtype=t.int)\n",
    "            _, cache = model.run_with_cache(\n",
    "                board_seqs_int[indeces, :-1].to(device),\n",
    "                return_type=None,\n",
    "                names_filter=lambda name: name in [f\"blocks.{layer}.ln1.hook_normalized\", f\"blocks.{layer}.hook_resid_mid\", utils.get_act_name(\"attn_out\", layer), f\"blocks.{layer}.attn.hook_pattern\"]\n",
    "            )\n",
    "            for row in range(8):\n",
    "                for col in range(8):\n",
    "                    if DEBUG:\n",
    "                        row, col = 3, 3\n",
    "                    tile_label = tuple_to_label((row, col))\n",
    "                    # get logits pred, real\n",
    "                    logits_diff, logits_diff_pred, mask = get_yours_and_mine_pred(cache, layer, tile_label, use_attn_pattern_approx, func_to_evaluate, only_mind_changes)\n",
    "                    tp, tn, fp, fn = get_scores(logits_diff, logits_diff_pred, mask)\n",
    "                    if DEBUG:\n",
    "                        print(tp[10], tn[10], fp[10], fn[10])\n",
    "                    results[\"TP\"][layer, :, row, col] += tp\n",
    "                    results[\"TN\"][layer, :, row, col] += tn\n",
    "                    results[\"FP\"][layer, :, row, col] += fp\n",
    "                    results[\"FN\"][layer, :, row, col] += fn\n",
    "                    if DEBUG:\n",
    "                        break\n",
    "                if DEBUG:\n",
    "                    break\n",
    "        if DEBUG:\n",
    "            break\n",
    "    return results\n",
    "\n",
    "EPSILON = 1e-6\n",
    "def get_score_from_results(results : dict[str, Tensor], dimensions : list[str]):\n",
    "    # TODO: Also do Weighted F1 (mhhh idk. I have to think about useful metrics here ...)\n",
    "    assert all([dimension in [\"layer\", \"pos\", \"row\", \"col\"] for dimension in dimensions])\n",
    "    scores = {}\n",
    "    # compress results to the specified dimensions\n",
    "    results_compressed = {}\n",
    "    for key in results.keys():\n",
    "        results_compressed[key] = einops.reduce(results[key], f\"layer pos row col -> {' '.join(dimensions)}\", \"sum\")\n",
    "    # calculate scores\n",
    "    tp = results_compressed[\"TP\"]\n",
    "    tn = results_compressed[\"TN\"]\n",
    "    fp = results_compressed[\"FP\"]\n",
    "    fn = results_compressed[\"FN\"]\n",
    "    scores[\"Accuracy\"] = (tp + tn) / (tp + tn + fp + fn + EPSILON)\n",
    "    scores[\"Precision\"] = tp / (tp + fp + EPSILON)\n",
    "    scores[\"Recall\"] = tp / (tp + fn + EPSILON)\n",
    "    scores[\"F1\"] = 2 * (scores[\"Precision\"] * scores[\"Recall\"]) / (scores[\"Precision\"] + scores[\"Recall\"])\n",
    "    return scores\n",
    "\n",
    "def evaluate_yours_and_mine_pred(num_batches, batch_size, use_attn_pattern_approx, func_to_evaluate, only_mind_changes=False):\n",
    "    results = get_yours_and_mine_pred_results(num_batches, batch_size, use_attn_pattern_approx, func_to_evaluate, only_mind_changes)\n",
    "    scores = get_score_from_results(results, [\"layer\", \"pos\", \"row\", \"col\"])\n",
    "    return scores"
   ]
  },
  {
   "cell_type": "code",
   "execution_count": 46,
   "metadata": {},
   "outputs": [
    {
     "name": "stdout",
     "output_type": "stream",
     "text": [
      "Using Attention Pattern Approximation\n",
      "Math\n"
     ]
    },
    {
     "name": "stdout",
     "output_type": "stream",
     "text": [
      "tensor(76, device='cuda:0') tensor(93, device='cuda:0') tensor(9, device='cuda:0') tensor(22, device='cuda:0')\n",
      "tensor(73, device='cuda:0') tensor(94, device='cuda:0') tensor(8, device='cuda:0') tensor(25, device='cuda:0')\n",
      "tensor(81, device='cuda:0') tensor(93, device='cuda:0') tensor(4, device='cuda:0') tensor(22, device='cuda:0')\n",
      "tensor(79, device='cuda:0') tensor(91, device='cuda:0') tensor(4, device='cuda:0') tensor(26, device='cuda:0')\n",
      "tensor(69, device='cuda:0') tensor(103, device='cuda:0') tensor(9, device='cuda:0') tensor(19, device='cuda:0')\n",
      "tensor(78, device='cuda:0') tensor(86, device='cuda:0') tensor(8, device='cuda:0') tensor(28, device='cuda:0')\n",
      "tensor(63, device='cuda:0') tensor(103, device='cuda:0') tensor(7, device='cuda:0') tensor(27, device='cuda:0')\n",
      "tensor(84, device='cuda:0') tensor(87, device='cuda:0') tensor(9, device='cuda:0') tensor(20, device='cuda:0')\n",
      "tensor(74, device='cuda:0') tensor(92, device='cuda:0') tensor(4, device='cuda:0') tensor(30, device='cuda:0')\n",
      "tensor(77, device='cuda:0') tensor(83, device='cuda:0') tensor(13, device='cuda:0') tensor(27, device='cuda:0')\n",
      "Math Acc: 0.8395\n",
      "Test\n",
      "tensor(76, device='cuda:0') tensor(93, device='cuda:0') tensor(9, device='cuda:0') tensor(22, device='cuda:0')\n",
      "tensor(73, device='cuda:0') tensor(94, device='cuda:0') tensor(8, device='cuda:0') tensor(25, device='cuda:0')\n",
      "tensor(81, device='cuda:0') tensor(93, device='cuda:0') tensor(4, device='cuda:0') tensor(22, device='cuda:0')\n",
      "tensor(79, device='cuda:0') tensor(91, device='cuda:0') tensor(4, device='cuda:0') tensor(26, device='cuda:0')\n",
      "tensor(69, device='cuda:0') tensor(103, device='cuda:0') tensor(9, device='cuda:0') tensor(19, device='cuda:0')\n",
      "tensor(78, device='cuda:0') tensor(86, device='cuda:0') tensor(8, device='cuda:0') tensor(28, device='cuda:0')\n",
      "tensor(63, device='cuda:0') tensor(103, device='cuda:0') tensor(7, device='cuda:0') tensor(27, device='cuda:0')\n",
      "tensor(84, device='cuda:0') tensor(87, device='cuda:0') tensor(9, device='cuda:0') tensor(20, device='cuda:0')\n",
      "tensor(74, device='cuda:0') tensor(92, device='cuda:0') tensor(4, device='cuda:0') tensor(30, device='cuda:0')\n",
      "tensor(77, device='cuda:0') tensor(83, device='cuda:0') tensor(13, device='cuda:0') tensor(27, device='cuda:0')\n",
      "Real Acc: 0.8395\n",
      "Using Attention Pattern\n",
      "Math\n",
      "tensor(76, device='cuda:0') tensor(93, device='cuda:0') tensor(9, device='cuda:0') tensor(22, device='cuda:0')\n",
      "tensor(77, device='cuda:0') tensor(95, device='cuda:0') tensor(7, device='cuda:0') tensor(21, device='cuda:0')\n",
      "tensor(80, device='cuda:0') tensor(92, device='cuda:0') tensor(5, device='cuda:0') tensor(23, device='cuda:0')\n",
      "tensor(79, device='cuda:0') tensor(92, device='cuda:0') tensor(3, device='cuda:0') tensor(26, device='cuda:0')\n",
      "tensor(66, device='cuda:0') tensor(102, device='cuda:0') tensor(10, device='cuda:0') tensor(22, device='cuda:0')\n",
      "tensor(83, device='cuda:0') tensor(83, device='cuda:0') tensor(11, device='cuda:0') tensor(23, device='cuda:0')\n",
      "tensor(66, device='cuda:0') tensor(99, device='cuda:0') tensor(11, device='cuda:0') tensor(24, device='cuda:0')\n",
      "tensor(79, device='cuda:0') tensor(86, device='cuda:0') tensor(10, device='cuda:0') tensor(25, device='cuda:0')\n",
      "tensor(76, device='cuda:0') tensor(92, device='cuda:0') tensor(4, device='cuda:0') tensor(28, device='cuda:0')\n",
      "tensor(77, device='cuda:0') tensor(86, device='cuda:0') tensor(10, device='cuda:0') tensor(27, device='cuda:0')\n",
      "Math Acc: 0.8395\n",
      "Test\n",
      "tensor(76, device='cuda:0') tensor(93, device='cuda:0') tensor(9, device='cuda:0') tensor(22, device='cuda:0')\n",
      "tensor(77, device='cuda:0') tensor(95, device='cuda:0') tensor(7, device='cuda:0') tensor(21, device='cuda:0')\n",
      "tensor(80, device='cuda:0') tensor(92, device='cuda:0') tensor(5, device='cuda:0') tensor(23, device='cuda:0')\n",
      "tensor(79, device='cuda:0') tensor(92, device='cuda:0') tensor(3, device='cuda:0') tensor(26, device='cuda:0')\n",
      "tensor(66, device='cuda:0') tensor(102, device='cuda:0') tensor(10, device='cuda:0') tensor(22, device='cuda:0')\n",
      "tensor(83, device='cuda:0') tensor(83, device='cuda:0') tensor(11, device='cuda:0') tensor(23, device='cuda:0')\n",
      "tensor(66, device='cuda:0') tensor(99, device='cuda:0') tensor(11, device='cuda:0') tensor(24, device='cuda:0')\n",
      "tensor(79, device='cuda:0') tensor(86, device='cuda:0') tensor(10, device='cuda:0') tensor(25, device='cuda:0')\n",
      "tensor(76, device='cuda:0') tensor(92, device='cuda:0') tensor(4, device='cuda:0') tensor(28, device='cuda:0')\n",
      "tensor(77, device='cuda:0') tensor(86, device='cuda:0') tensor(10, device='cuda:0') tensor(27, device='cuda:0')\n",
      "Real Acc: 0.8395\n"
     ]
    }
   ],
   "source": [
    "DEBUG = True\n",
    "batches = 10\n",
    "batch_size = 200\n",
    "only_mind_changes = False\n",
    "for use_attn_pattern_approx in [True, False]:\n",
    "    if use_attn_pattern_approx:\n",
    "        print(\"Using Attention Pattern Approximation\")\n",
    "        approx_str = \"approx\"\n",
    "    else:\n",
    "        print(\"Using Attention Pattern\")\n",
    "        approx_str = \"real\"\n",
    "    print(\"Math\")\n",
    "    results_math = get_yours_and_mine_pred_results(batches, batch_size, use_attn_pattern_approx, get_yours_and_mine_pred_math2, only_mind_changes)\n",
    "    scores_math = get_score_from_results(results_math, [\"layer\", \"pos\", \"row\", \"col\"])\n",
    "    print(f\"Math Acc: {scores_math['Accuracy'][1, 10, *label_to_tuple('D3')].item():.4f}\")\n",
    "    with open(f\"results_math_{approx_str}_tesing.pkl\", \"wb\") as file:\n",
    "        pickle.dump(results_math, file)\n",
    "    print(\"Test\")\n",
    "    results_test = get_yours_and_mine_pred_results(batches, batch_size, use_attn_pattern_approx, get_yours_and_mine_pred_old, only_mind_changes)\n",
    "    scores_test = get_score_from_results(results_test, [\"layer\", \"pos\", \"row\", \"col\"])\n",
    "    print(f\"Real Acc: {scores_test['Accuracy'][1, 10, *label_to_tuple('D3')].item():.4f}\")\n",
    "    with open(f\"results_test_{approx_str}_testing.pkl\", \"wb\") as file:\n",
    "        pickle.dump(results_test, file)"
   ]
  },
  {
   "cell_type": "code",
   "execution_count": null,
   "metadata": {},
   "outputs": [],
   "source": [
    "# TODO: First get results for math version and test version, then make score with interesting two dimensions, then create heatmap ...\n",
    "# TODO: Übelegen was dann kommt\n",
    "# TODO: Nur Falls es langsam ist ... Alle Tiles gleichzeitig (Könnte maybe keinen Sinn machen, vielleicht will ich ja andere Tiles beim input mit rein nehmen so)"
   ]
  },
  {
   "cell_type": "code",
   "execution_count": 36,
   "metadata": {},
   "outputs": [],
   "source": [
    "'''# save results_math and results_test using pickle\n",
    "with open(\"results_math.pkl\", \"wb\") as file:\n",
    "    pickle.dump(results_math, file)\n",
    "with open(\"results_test.pkl\", \"wb\") as file:\n",
    "    pickle.dump(results_test, file)'''"
   ]
  },
  {
   "cell_type": "code",
   "execution_count": 39,
   "metadata": {},
   "outputs": [
    {
     "name": "stdout",
     "output_type": "stream",
     "text": [
      "Math Acc: 0.44\n",
      "Real Acc: 0.44\n"
     ]
    }
   ],
   "source": [
    "print(f\"Math Acc: {scores_math['Accuracy'][1, 10, *label_to_tuple('C3')].item():.2f}\") # This should be > 0.8\n",
    "print(f\"Real Acc: {scores_test['Accuracy'][1, 10, *label_to_tuple('C3')].item():.2f}\") # This should be the same\n"
   ]
  },
  {
   "cell_type": "code",
   "execution_count": 128,
   "metadata": {},
   "outputs": [],
   "source": [
    "# load results_math and results_test using pickle\n",
    "with open(\"results_test_approx.pkl\", \"rb\") as file:\n",
    "    results_math_approx = pickle.load(file)"
   ]
  },
  {
   "cell_type": "code",
   "execution_count": 152,
   "metadata": {},
   "outputs": [
    {
     "data": {
      "text/plain": [
       "tensor(31., device='cuda:0')"
      ]
     },
     "execution_count": 152,
     "metadata": {},
     "output_type": "execute_result"
    }
   ],
   "source": [
    "results_math_approx[\"TP\"][3, 12, 0, 2]"
   ]
  },
  {
   "cell_type": "code",
   "execution_count": 130,
   "metadata": {},
   "outputs": [],
   "source": [
    "scores = get_score_from_results(results_math_approx, [\"layer\", \"pos\", \"row\", \"col\"])"
   ]
  },
  {
   "cell_type": "code",
   "execution_count": 131,
   "metadata": {},
   "outputs": [
    {
     "data": {
      "text/plain": [
       "tensor(0.6997, device='cuda:0')"
      ]
     },
     "execution_count": 131,
     "metadata": {},
     "output_type": "execute_result"
    }
   ],
   "source": [
    "scores[\"Accuracy\"][6, 43, 2, 2]"
   ]
  },
  {
   "cell_type": "code",
   "execution_count": 132,
   "metadata": {},
   "outputs": [],
   "source": [
    "scores_vis = get_score_from_results(results_math_approx, [\"row\", \"col\"])"
   ]
  },
  {
   "cell_type": "code",
   "execution_count": 206,
   "metadata": {},
   "outputs": [],
   "source": [
    "def get_scores_tensor(results, dimensions, metric, title, layer=None, pos=None, row=None, col=None, save=False):\n",
    "    # results_compressed = results[layer, pos, row, col]\n",
    "    results_compressed = {}\n",
    "    for key in results.keys():\n",
    "        results_compressed[key] = results[key]\n",
    "        if layer is not None:\n",
    "            results_compressed[key] = results_compressed[key][layer].unsqueeze(0)\n",
    "        if pos is not None:\n",
    "            results_compressed[key] = results_compressed[key][:, pos].unsqueeze(1)\n",
    "        if row is not None:\n",
    "            results_compressed[key] = results_compressed[key][:, :, row].unsqueeze(2)\n",
    "        if col is not None:\n",
    "            results_compressed[key] = results_compressed[key][:, :, :, col].unsqueeze(3)\n",
    "    scores = get_score_from_results(results_compressed, dimensions)\n",
    "    scores = scores[metric]\n",
    "    # print(scores.shape)\n",
    "    # print(scores[:4, :4])\n",
    "    if dimensions == [\"layer\", \"pos\", \"row\", \"col\"]:\n",
    "        scores = einops.reduce(scores, \"layer pos row col -> pos row col\", \"max\")\n",
    "        scores = einops.reduce(scores, \"pos row col -> row col\", \"mean\")\n",
    "    if dimensions == [\"layer\", \"row\", \"col\"]:\n",
    "        scores = einops.reduce(scores, \"layer row col -> row col\", \"max\")\n",
    "    # print(scores.shape)\n",
    "    # print(scores[:4, :4])\n",
    "    scores = scores.cpu().numpy()\n",
    "    return scores\n"
   ]
  },
  {
   "cell_type": "code",
   "execution_count": 207,
   "metadata": {},
   "outputs": [
    {
     "data": {
      "application/vnd.plotly.v1+json": {
       "config": {
        "plotlyServerURL": "https://plot.ly"
       },
       "data": [
        {
         "coloraxis": "coloraxis",
         "hovertemplate": "col: %{x}<br>row: %{y}<br>Accuracy: %{z}<extra></extra>",
         "name": "0",
         "type": "heatmap",
         "xaxis": "x",
         "yaxis": "y",
         "z": [
          [
           0.433066,
           0.47317073,
           0.48401362,
           0.60895956,
           0.507472,
           0.55928046,
           0.4246231,
           0.4976526
          ],
          [
           0.5219066,
           0.61527354,
           0.62003475,
           0.6143706,
           0.6357578,
           0.6572083,
           0.66744184,
           0.36498675
          ],
          [
           0.49675435,
           0.68650645,
           0.6826016,
           0.6959125,
           0.72531193,
           0.70092994,
           0.6648126,
           0.5552774
          ],
          [
           0.4346209,
           0.59930426,
           0.72158164,
           0.6842,
           0.73651046,
           0.69570404,
           0.6579166,
           0.36806968
          ],
          [
           0.39597702,
           0.6106567,
           0.740004,
           0.6966348,
           0.7510751,
           0.73140097,
           0.63842255,
           0.61770993
          ],
          [
           0.5366918,
           0.5871128,
           0.6653396,
           0.5872742,
           0.7248162,
           0.6375775,
           0.62117267,
           0.48924547
          ],
          [
           0.5070565,
           0.6705747,
           0.6476325,
           0.6540368,
           0.594644,
           0.624412,
           0.66488415,
           0.5787546
          ],
          [
           0.45249406,
           0.3972934,
           0.5251685,
           0.4319222,
           0.58406013,
           0.49710193,
           0.6095764,
           0.5652174
          ]
         ]
        }
       ],
       "layout": {
        "coloraxis": {
         "colorbar": {
          "title": {
           "text": "Accuracy"
          }
         },
         "colorscale": [
          [
           0,
           "#0d0887"
          ],
          [
           0.1111111111111111,
           "#46039f"
          ],
          [
           0.2222222222222222,
           "#7201a8"
          ],
          [
           0.3333333333333333,
           "#9c179e"
          ],
          [
           0.4444444444444444,
           "#bd3786"
          ],
          [
           0.5555555555555556,
           "#d8576b"
          ],
          [
           0.6666666666666666,
           "#ed7953"
          ],
          [
           0.7777777777777778,
           "#fb9f3a"
          ],
          [
           0.8888888888888888,
           "#fdca26"
          ],
          [
           1,
           "#f0f921"
          ]
         ]
        },
        "template": {
         "data": {
          "bar": [
           {
            "error_x": {
             "color": "#2a3f5f"
            },
            "error_y": {
             "color": "#2a3f5f"
            },
            "marker": {
             "line": {
              "color": "#E5ECF6",
              "width": 0.5
             },
             "pattern": {
              "fillmode": "overlay",
              "size": 10,
              "solidity": 0.2
             }
            },
            "type": "bar"
           }
          ],
          "barpolar": [
           {
            "marker": {
             "line": {
              "color": "#E5ECF6",
              "width": 0.5
             },
             "pattern": {
              "fillmode": "overlay",
              "size": 10,
              "solidity": 0.2
             }
            },
            "type": "barpolar"
           }
          ],
          "carpet": [
           {
            "aaxis": {
             "endlinecolor": "#2a3f5f",
             "gridcolor": "white",
             "linecolor": "white",
             "minorgridcolor": "white",
             "startlinecolor": "#2a3f5f"
            },
            "baxis": {
             "endlinecolor": "#2a3f5f",
             "gridcolor": "white",
             "linecolor": "white",
             "minorgridcolor": "white",
             "startlinecolor": "#2a3f5f"
            },
            "type": "carpet"
           }
          ],
          "choropleth": [
           {
            "colorbar": {
             "outlinewidth": 0,
             "ticks": ""
            },
            "type": "choropleth"
           }
          ],
          "contour": [
           {
            "colorbar": {
             "outlinewidth": 0,
             "ticks": ""
            },
            "colorscale": [
             [
              0,
              "#0d0887"
             ],
             [
              0.1111111111111111,
              "#46039f"
             ],
             [
              0.2222222222222222,
              "#7201a8"
             ],
             [
              0.3333333333333333,
              "#9c179e"
             ],
             [
              0.4444444444444444,
              "#bd3786"
             ],
             [
              0.5555555555555556,
              "#d8576b"
             ],
             [
              0.6666666666666666,
              "#ed7953"
             ],
             [
              0.7777777777777778,
              "#fb9f3a"
             ],
             [
              0.8888888888888888,
              "#fdca26"
             ],
             [
              1,
              "#f0f921"
             ]
            ],
            "type": "contour"
           }
          ],
          "contourcarpet": [
           {
            "colorbar": {
             "outlinewidth": 0,
             "ticks": ""
            },
            "type": "contourcarpet"
           }
          ],
          "heatmap": [
           {
            "colorbar": {
             "outlinewidth": 0,
             "ticks": ""
            },
            "colorscale": [
             [
              0,
              "#0d0887"
             ],
             [
              0.1111111111111111,
              "#46039f"
             ],
             [
              0.2222222222222222,
              "#7201a8"
             ],
             [
              0.3333333333333333,
              "#9c179e"
             ],
             [
              0.4444444444444444,
              "#bd3786"
             ],
             [
              0.5555555555555556,
              "#d8576b"
             ],
             [
              0.6666666666666666,
              "#ed7953"
             ],
             [
              0.7777777777777778,
              "#fb9f3a"
             ],
             [
              0.8888888888888888,
              "#fdca26"
             ],
             [
              1,
              "#f0f921"
             ]
            ],
            "type": "heatmap"
           }
          ],
          "heatmapgl": [
           {
            "colorbar": {
             "outlinewidth": 0,
             "ticks": ""
            },
            "colorscale": [
             [
              0,
              "#0d0887"
             ],
             [
              0.1111111111111111,
              "#46039f"
             ],
             [
              0.2222222222222222,
              "#7201a8"
             ],
             [
              0.3333333333333333,
              "#9c179e"
             ],
             [
              0.4444444444444444,
              "#bd3786"
             ],
             [
              0.5555555555555556,
              "#d8576b"
             ],
             [
              0.6666666666666666,
              "#ed7953"
             ],
             [
              0.7777777777777778,
              "#fb9f3a"
             ],
             [
              0.8888888888888888,
              "#fdca26"
             ],
             [
              1,
              "#f0f921"
             ]
            ],
            "type": "heatmapgl"
           }
          ],
          "histogram": [
           {
            "marker": {
             "pattern": {
              "fillmode": "overlay",
              "size": 10,
              "solidity": 0.2
             }
            },
            "type": "histogram"
           }
          ],
          "histogram2d": [
           {
            "colorbar": {
             "outlinewidth": 0,
             "ticks": ""
            },
            "colorscale": [
             [
              0,
              "#0d0887"
             ],
             [
              0.1111111111111111,
              "#46039f"
             ],
             [
              0.2222222222222222,
              "#7201a8"
             ],
             [
              0.3333333333333333,
              "#9c179e"
             ],
             [
              0.4444444444444444,
              "#bd3786"
             ],
             [
              0.5555555555555556,
              "#d8576b"
             ],
             [
              0.6666666666666666,
              "#ed7953"
             ],
             [
              0.7777777777777778,
              "#fb9f3a"
             ],
             [
              0.8888888888888888,
              "#fdca26"
             ],
             [
              1,
              "#f0f921"
             ]
            ],
            "type": "histogram2d"
           }
          ],
          "histogram2dcontour": [
           {
            "colorbar": {
             "outlinewidth": 0,
             "ticks": ""
            },
            "colorscale": [
             [
              0,
              "#0d0887"
             ],
             [
              0.1111111111111111,
              "#46039f"
             ],
             [
              0.2222222222222222,
              "#7201a8"
             ],
             [
              0.3333333333333333,
              "#9c179e"
             ],
             [
              0.4444444444444444,
              "#bd3786"
             ],
             [
              0.5555555555555556,
              "#d8576b"
             ],
             [
              0.6666666666666666,
              "#ed7953"
             ],
             [
              0.7777777777777778,
              "#fb9f3a"
             ],
             [
              0.8888888888888888,
              "#fdca26"
             ],
             [
              1,
              "#f0f921"
             ]
            ],
            "type": "histogram2dcontour"
           }
          ],
          "mesh3d": [
           {
            "colorbar": {
             "outlinewidth": 0,
             "ticks": ""
            },
            "type": "mesh3d"
           }
          ],
          "parcoords": [
           {
            "line": {
             "colorbar": {
              "outlinewidth": 0,
              "ticks": ""
             }
            },
            "type": "parcoords"
           }
          ],
          "pie": [
           {
            "automargin": true,
            "type": "pie"
           }
          ],
          "scatter": [
           {
            "fillpattern": {
             "fillmode": "overlay",
             "size": 10,
             "solidity": 0.2
            },
            "type": "scatter"
           }
          ],
          "scatter3d": [
           {
            "line": {
             "colorbar": {
              "outlinewidth": 0,
              "ticks": ""
             }
            },
            "marker": {
             "colorbar": {
              "outlinewidth": 0,
              "ticks": ""
             }
            },
            "type": "scatter3d"
           }
          ],
          "scattercarpet": [
           {
            "marker": {
             "colorbar": {
              "outlinewidth": 0,
              "ticks": ""
             }
            },
            "type": "scattercarpet"
           }
          ],
          "scattergeo": [
           {
            "marker": {
             "colorbar": {
              "outlinewidth": 0,
              "ticks": ""
             }
            },
            "type": "scattergeo"
           }
          ],
          "scattergl": [
           {
            "marker": {
             "colorbar": {
              "outlinewidth": 0,
              "ticks": ""
             }
            },
            "type": "scattergl"
           }
          ],
          "scattermapbox": [
           {
            "marker": {
             "colorbar": {
              "outlinewidth": 0,
              "ticks": ""
             }
            },
            "type": "scattermapbox"
           }
          ],
          "scatterpolar": [
           {
            "marker": {
             "colorbar": {
              "outlinewidth": 0,
              "ticks": ""
             }
            },
            "type": "scatterpolar"
           }
          ],
          "scatterpolargl": [
           {
            "marker": {
             "colorbar": {
              "outlinewidth": 0,
              "ticks": ""
             }
            },
            "type": "scatterpolargl"
           }
          ],
          "scatterternary": [
           {
            "marker": {
             "colorbar": {
              "outlinewidth": 0,
              "ticks": ""
             }
            },
            "type": "scatterternary"
           }
          ],
          "surface": [
           {
            "colorbar": {
             "outlinewidth": 0,
             "ticks": ""
            },
            "colorscale": [
             [
              0,
              "#0d0887"
             ],
             [
              0.1111111111111111,
              "#46039f"
             ],
             [
              0.2222222222222222,
              "#7201a8"
             ],
             [
              0.3333333333333333,
              "#9c179e"
             ],
             [
              0.4444444444444444,
              "#bd3786"
             ],
             [
              0.5555555555555556,
              "#d8576b"
             ],
             [
              0.6666666666666666,
              "#ed7953"
             ],
             [
              0.7777777777777778,
              "#fb9f3a"
             ],
             [
              0.8888888888888888,
              "#fdca26"
             ],
             [
              1,
              "#f0f921"
             ]
            ],
            "type": "surface"
           }
          ],
          "table": [
           {
            "cells": {
             "fill": {
              "color": "#EBF0F8"
             },
             "line": {
              "color": "white"
             }
            },
            "header": {
             "fill": {
              "color": "#C8D4E3"
             },
             "line": {
              "color": "white"
             }
            },
            "type": "table"
           }
          ]
         },
         "layout": {
          "annotationdefaults": {
           "arrowcolor": "#2a3f5f",
           "arrowhead": 0,
           "arrowwidth": 1
          },
          "autotypenumbers": "strict",
          "coloraxis": {
           "colorbar": {
            "outlinewidth": 0,
            "ticks": ""
           }
          },
          "colorscale": {
           "diverging": [
            [
             0,
             "#8e0152"
            ],
            [
             0.1,
             "#c51b7d"
            ],
            [
             0.2,
             "#de77ae"
            ],
            [
             0.3,
             "#f1b6da"
            ],
            [
             0.4,
             "#fde0ef"
            ],
            [
             0.5,
             "#f7f7f7"
            ],
            [
             0.6,
             "#e6f5d0"
            ],
            [
             0.7,
             "#b8e186"
            ],
            [
             0.8,
             "#7fbc41"
            ],
            [
             0.9,
             "#4d9221"
            ],
            [
             1,
             "#276419"
            ]
           ],
           "sequential": [
            [
             0,
             "#0d0887"
            ],
            [
             0.1111111111111111,
             "#46039f"
            ],
            [
             0.2222222222222222,
             "#7201a8"
            ],
            [
             0.3333333333333333,
             "#9c179e"
            ],
            [
             0.4444444444444444,
             "#bd3786"
            ],
            [
             0.5555555555555556,
             "#d8576b"
            ],
            [
             0.6666666666666666,
             "#ed7953"
            ],
            [
             0.7777777777777778,
             "#fb9f3a"
            ],
            [
             0.8888888888888888,
             "#fdca26"
            ],
            [
             1,
             "#f0f921"
            ]
           ],
           "sequentialminus": [
            [
             0,
             "#0d0887"
            ],
            [
             0.1111111111111111,
             "#46039f"
            ],
            [
             0.2222222222222222,
             "#7201a8"
            ],
            [
             0.3333333333333333,
             "#9c179e"
            ],
            [
             0.4444444444444444,
             "#bd3786"
            ],
            [
             0.5555555555555556,
             "#d8576b"
            ],
            [
             0.6666666666666666,
             "#ed7953"
            ],
            [
             0.7777777777777778,
             "#fb9f3a"
            ],
            [
             0.8888888888888888,
             "#fdca26"
            ],
            [
             1,
             "#f0f921"
            ]
           ]
          },
          "colorway": [
           "#636efa",
           "#EF553B",
           "#00cc96",
           "#ab63fa",
           "#FFA15A",
           "#19d3f3",
           "#FF6692",
           "#B6E880",
           "#FF97FF",
           "#FECB52"
          ],
          "font": {
           "color": "#2a3f5f"
          },
          "geo": {
           "bgcolor": "white",
           "lakecolor": "white",
           "landcolor": "#E5ECF6",
           "showlakes": true,
           "showland": true,
           "subunitcolor": "white"
          },
          "hoverlabel": {
           "align": "left"
          },
          "hovermode": "closest",
          "mapbox": {
           "style": "light"
          },
          "paper_bgcolor": "white",
          "plot_bgcolor": "#E5ECF6",
          "polar": {
           "angularaxis": {
            "gridcolor": "white",
            "linecolor": "white",
            "ticks": ""
           },
           "bgcolor": "#E5ECF6",
           "radialaxis": {
            "gridcolor": "white",
            "linecolor": "white",
            "ticks": ""
           }
          },
          "scene": {
           "xaxis": {
            "backgroundcolor": "#E5ECF6",
            "gridcolor": "white",
            "gridwidth": 2,
            "linecolor": "white",
            "showbackground": true,
            "ticks": "",
            "zerolinecolor": "white"
           },
           "yaxis": {
            "backgroundcolor": "#E5ECF6",
            "gridcolor": "white",
            "gridwidth": 2,
            "linecolor": "white",
            "showbackground": true,
            "ticks": "",
            "zerolinecolor": "white"
           },
           "zaxis": {
            "backgroundcolor": "#E5ECF6",
            "gridcolor": "white",
            "gridwidth": 2,
            "linecolor": "white",
            "showbackground": true,
            "ticks": "",
            "zerolinecolor": "white"
           }
          },
          "shapedefaults": {
           "line": {
            "color": "#2a3f5f"
           }
          },
          "ternary": {
           "aaxis": {
            "gridcolor": "white",
            "linecolor": "white",
            "ticks": ""
           },
           "baxis": {
            "gridcolor": "white",
            "linecolor": "white",
            "ticks": ""
           },
           "bgcolor": "#E5ECF6",
           "caxis": {
            "gridcolor": "white",
            "linecolor": "white",
            "ticks": ""
           }
          },
          "title": {
           "x": 0.05
          },
          "xaxis": {
           "automargin": true,
           "gridcolor": "white",
           "linecolor": "white",
           "ticks": "",
           "title": {
            "standoff": 15
           },
           "zerolinecolor": "white",
           "zerolinewidth": 2
          },
          "yaxis": {
           "automargin": true,
           "gridcolor": "white",
           "linecolor": "white",
           "ticks": "",
           "title": {
            "standoff": 15
           },
           "zerolinecolor": "white",
           "zerolinewidth": 2
          }
         }
        },
        "title": {
         "text": "Accuracy of the Last-Flipped Heuristic of all Board Tile"
        },
        "xaxis": {
         "anchor": "y",
         "constrain": "domain",
         "domain": [
          0,
          1
         ],
         "scaleanchor": "y",
         "title": {
          "text": "col"
         }
        },
        "yaxis": {
         "anchor": "x",
         "autorange": "reversed",
         "constrain": "domain",
         "domain": [
          0,
          1
         ],
         "title": {
          "text": "row"
         }
        }
       }
      },
      "text/html": [
       "<div>                            <div id=\"af98fa7d-43d5-4098-b05d-4cd3ba560612\" class=\"plotly-graph-div\" style=\"height:525px; width:100%;\"></div>            <script type=\"text/javascript\">                require([\"plotly\"], function(Plotly) {                    window.PLOTLYENV=window.PLOTLYENV || {};                                    if (document.getElementById(\"af98fa7d-43d5-4098-b05d-4cd3ba560612\")) {                    Plotly.newPlot(                        \"af98fa7d-43d5-4098-b05d-4cd3ba560612\",                        [{\"coloraxis\":\"coloraxis\",\"name\":\"0\",\"z\":[[0.433066,0.47317073,0.48401362,0.60895956,0.507472,0.55928046,0.4246231,0.4976526],[0.5219066,0.61527354,0.62003475,0.6143706,0.6357578,0.6572083,0.66744184,0.36498675],[0.49675435,0.68650645,0.6826016,0.6959125,0.72531193,0.70092994,0.6648126,0.5552774],[0.4346209,0.59930426,0.72158164,0.6842,0.73651046,0.69570404,0.6579166,0.36806968],[0.39597702,0.6106567,0.740004,0.6966348,0.7510751,0.73140097,0.63842255,0.61770993],[0.5366918,0.5871128,0.6653396,0.5872742,0.7248162,0.6375775,0.62117267,0.48924547],[0.5070565,0.6705747,0.6476325,0.6540368,0.594644,0.624412,0.66488415,0.5787546],[0.45249406,0.3972934,0.5251685,0.4319222,0.58406013,0.49710193,0.6095764,0.5652174]],\"type\":\"heatmap\",\"xaxis\":\"x\",\"yaxis\":\"y\",\"hovertemplate\":\"col: %{x}\\u003cbr\\u003erow: %{y}\\u003cbr\\u003eAccuracy: %{z}\\u003cextra\\u003e\\u003c\\u002fextra\\u003e\"}],                        {\"template\":{\"data\":{\"histogram2dcontour\":[{\"type\":\"histogram2dcontour\",\"colorbar\":{\"outlinewidth\":0,\"ticks\":\"\"},\"colorscale\":[[0.0,\"#0d0887\"],[0.1111111111111111,\"#46039f\"],[0.2222222222222222,\"#7201a8\"],[0.3333333333333333,\"#9c179e\"],[0.4444444444444444,\"#bd3786\"],[0.5555555555555556,\"#d8576b\"],[0.6666666666666666,\"#ed7953\"],[0.7777777777777778,\"#fb9f3a\"],[0.8888888888888888,\"#fdca26\"],[1.0,\"#f0f921\"]]}],\"choropleth\":[{\"type\":\"choropleth\",\"colorbar\":{\"outlinewidth\":0,\"ticks\":\"\"}}],\"histogram2d\":[{\"type\":\"histogram2d\",\"colorbar\":{\"outlinewidth\":0,\"ticks\":\"\"},\"colorscale\":[[0.0,\"#0d0887\"],[0.1111111111111111,\"#46039f\"],[0.2222222222222222,\"#7201a8\"],[0.3333333333333333,\"#9c179e\"],[0.4444444444444444,\"#bd3786\"],[0.5555555555555556,\"#d8576b\"],[0.6666666666666666,\"#ed7953\"],[0.7777777777777778,\"#fb9f3a\"],[0.8888888888888888,\"#fdca26\"],[1.0,\"#f0f921\"]]}],\"heatmap\":[{\"type\":\"heatmap\",\"colorbar\":{\"outlinewidth\":0,\"ticks\":\"\"},\"colorscale\":[[0.0,\"#0d0887\"],[0.1111111111111111,\"#46039f\"],[0.2222222222222222,\"#7201a8\"],[0.3333333333333333,\"#9c179e\"],[0.4444444444444444,\"#bd3786\"],[0.5555555555555556,\"#d8576b\"],[0.6666666666666666,\"#ed7953\"],[0.7777777777777778,\"#fb9f3a\"],[0.8888888888888888,\"#fdca26\"],[1.0,\"#f0f921\"]]}],\"heatmapgl\":[{\"type\":\"heatmapgl\",\"colorbar\":{\"outlinewidth\":0,\"ticks\":\"\"},\"colorscale\":[[0.0,\"#0d0887\"],[0.1111111111111111,\"#46039f\"],[0.2222222222222222,\"#7201a8\"],[0.3333333333333333,\"#9c179e\"],[0.4444444444444444,\"#bd3786\"],[0.5555555555555556,\"#d8576b\"],[0.6666666666666666,\"#ed7953\"],[0.7777777777777778,\"#fb9f3a\"],[0.8888888888888888,\"#fdca26\"],[1.0,\"#f0f921\"]]}],\"contourcarpet\":[{\"type\":\"contourcarpet\",\"colorbar\":{\"outlinewidth\":0,\"ticks\":\"\"}}],\"contour\":[{\"type\":\"contour\",\"colorbar\":{\"outlinewidth\":0,\"ticks\":\"\"},\"colorscale\":[[0.0,\"#0d0887\"],[0.1111111111111111,\"#46039f\"],[0.2222222222222222,\"#7201a8\"],[0.3333333333333333,\"#9c179e\"],[0.4444444444444444,\"#bd3786\"],[0.5555555555555556,\"#d8576b\"],[0.6666666666666666,\"#ed7953\"],[0.7777777777777778,\"#fb9f3a\"],[0.8888888888888888,\"#fdca26\"],[1.0,\"#f0f921\"]]}],\"surface\":[{\"type\":\"surface\",\"colorbar\":{\"outlinewidth\":0,\"ticks\":\"\"},\"colorscale\":[[0.0,\"#0d0887\"],[0.1111111111111111,\"#46039f\"],[0.2222222222222222,\"#7201a8\"],[0.3333333333333333,\"#9c179e\"],[0.4444444444444444,\"#bd3786\"],[0.5555555555555556,\"#d8576b\"],[0.6666666666666666,\"#ed7953\"],[0.7777777777777778,\"#fb9f3a\"],[0.8888888888888888,\"#fdca26\"],[1.0,\"#f0f921\"]]}],\"mesh3d\":[{\"type\":\"mesh3d\",\"colorbar\":{\"outlinewidth\":0,\"ticks\":\"\"}}],\"scatter\":[{\"fillpattern\":{\"fillmode\":\"overlay\",\"size\":10,\"solidity\":0.2},\"type\":\"scatter\"}],\"parcoords\":[{\"type\":\"parcoords\",\"line\":{\"colorbar\":{\"outlinewidth\":0,\"ticks\":\"\"}}}],\"scatterpolargl\":[{\"type\":\"scatterpolargl\",\"marker\":{\"colorbar\":{\"outlinewidth\":0,\"ticks\":\"\"}}}],\"bar\":[{\"error_x\":{\"color\":\"#2a3f5f\"},\"error_y\":{\"color\":\"#2a3f5f\"},\"marker\":{\"line\":{\"color\":\"#E5ECF6\",\"width\":0.5},\"pattern\":{\"fillmode\":\"overlay\",\"size\":10,\"solidity\":0.2}},\"type\":\"bar\"}],\"scattergeo\":[{\"type\":\"scattergeo\",\"marker\":{\"colorbar\":{\"outlinewidth\":0,\"ticks\":\"\"}}}],\"scatterpolar\":[{\"type\":\"scatterpolar\",\"marker\":{\"colorbar\":{\"outlinewidth\":0,\"ticks\":\"\"}}}],\"histogram\":[{\"marker\":{\"pattern\":{\"fillmode\":\"overlay\",\"size\":10,\"solidity\":0.2}},\"type\":\"histogram\"}],\"scattergl\":[{\"type\":\"scattergl\",\"marker\":{\"colorbar\":{\"outlinewidth\":0,\"ticks\":\"\"}}}],\"scatter3d\":[{\"type\":\"scatter3d\",\"line\":{\"colorbar\":{\"outlinewidth\":0,\"ticks\":\"\"}},\"marker\":{\"colorbar\":{\"outlinewidth\":0,\"ticks\":\"\"}}}],\"scattermapbox\":[{\"type\":\"scattermapbox\",\"marker\":{\"colorbar\":{\"outlinewidth\":0,\"ticks\":\"\"}}}],\"scatterternary\":[{\"type\":\"scatterternary\",\"marker\":{\"colorbar\":{\"outlinewidth\":0,\"ticks\":\"\"}}}],\"scattercarpet\":[{\"type\":\"scattercarpet\",\"marker\":{\"colorbar\":{\"outlinewidth\":0,\"ticks\":\"\"}}}],\"carpet\":[{\"aaxis\":{\"endlinecolor\":\"#2a3f5f\",\"gridcolor\":\"white\",\"linecolor\":\"white\",\"minorgridcolor\":\"white\",\"startlinecolor\":\"#2a3f5f\"},\"baxis\":{\"endlinecolor\":\"#2a3f5f\",\"gridcolor\":\"white\",\"linecolor\":\"white\",\"minorgridcolor\":\"white\",\"startlinecolor\":\"#2a3f5f\"},\"type\":\"carpet\"}],\"table\":[{\"cells\":{\"fill\":{\"color\":\"#EBF0F8\"},\"line\":{\"color\":\"white\"}},\"header\":{\"fill\":{\"color\":\"#C8D4E3\"},\"line\":{\"color\":\"white\"}},\"type\":\"table\"}],\"barpolar\":[{\"marker\":{\"line\":{\"color\":\"#E5ECF6\",\"width\":0.5},\"pattern\":{\"fillmode\":\"overlay\",\"size\":10,\"solidity\":0.2}},\"type\":\"barpolar\"}],\"pie\":[{\"automargin\":true,\"type\":\"pie\"}]},\"layout\":{\"autotypenumbers\":\"strict\",\"colorway\":[\"#636efa\",\"#EF553B\",\"#00cc96\",\"#ab63fa\",\"#FFA15A\",\"#19d3f3\",\"#FF6692\",\"#B6E880\",\"#FF97FF\",\"#FECB52\"],\"font\":{\"color\":\"#2a3f5f\"},\"hovermode\":\"closest\",\"hoverlabel\":{\"align\":\"left\"},\"paper_bgcolor\":\"white\",\"plot_bgcolor\":\"#E5ECF6\",\"polar\":{\"bgcolor\":\"#E5ECF6\",\"angularaxis\":{\"gridcolor\":\"white\",\"linecolor\":\"white\",\"ticks\":\"\"},\"radialaxis\":{\"gridcolor\":\"white\",\"linecolor\":\"white\",\"ticks\":\"\"}},\"ternary\":{\"bgcolor\":\"#E5ECF6\",\"aaxis\":{\"gridcolor\":\"white\",\"linecolor\":\"white\",\"ticks\":\"\"},\"baxis\":{\"gridcolor\":\"white\",\"linecolor\":\"white\",\"ticks\":\"\"},\"caxis\":{\"gridcolor\":\"white\",\"linecolor\":\"white\",\"ticks\":\"\"}},\"coloraxis\":{\"colorbar\":{\"outlinewidth\":0,\"ticks\":\"\"}},\"colorscale\":{\"sequential\":[[0.0,\"#0d0887\"],[0.1111111111111111,\"#46039f\"],[0.2222222222222222,\"#7201a8\"],[0.3333333333333333,\"#9c179e\"],[0.4444444444444444,\"#bd3786\"],[0.5555555555555556,\"#d8576b\"],[0.6666666666666666,\"#ed7953\"],[0.7777777777777778,\"#fb9f3a\"],[0.8888888888888888,\"#fdca26\"],[1.0,\"#f0f921\"]],\"sequentialminus\":[[0.0,\"#0d0887\"],[0.1111111111111111,\"#46039f\"],[0.2222222222222222,\"#7201a8\"],[0.3333333333333333,\"#9c179e\"],[0.4444444444444444,\"#bd3786\"],[0.5555555555555556,\"#d8576b\"],[0.6666666666666666,\"#ed7953\"],[0.7777777777777778,\"#fb9f3a\"],[0.8888888888888888,\"#fdca26\"],[1.0,\"#f0f921\"]],\"diverging\":[[0,\"#8e0152\"],[0.1,\"#c51b7d\"],[0.2,\"#de77ae\"],[0.3,\"#f1b6da\"],[0.4,\"#fde0ef\"],[0.5,\"#f7f7f7\"],[0.6,\"#e6f5d0\"],[0.7,\"#b8e186\"],[0.8,\"#7fbc41\"],[0.9,\"#4d9221\"],[1,\"#276419\"]]},\"xaxis\":{\"gridcolor\":\"white\",\"linecolor\":\"white\",\"ticks\":\"\",\"title\":{\"standoff\":15},\"zerolinecolor\":\"white\",\"automargin\":true,\"zerolinewidth\":2},\"yaxis\":{\"gridcolor\":\"white\",\"linecolor\":\"white\",\"ticks\":\"\",\"title\":{\"standoff\":15},\"zerolinecolor\":\"white\",\"automargin\":true,\"zerolinewidth\":2},\"scene\":{\"xaxis\":{\"backgroundcolor\":\"#E5ECF6\",\"gridcolor\":\"white\",\"linecolor\":\"white\",\"showbackground\":true,\"ticks\":\"\",\"zerolinecolor\":\"white\",\"gridwidth\":2},\"yaxis\":{\"backgroundcolor\":\"#E5ECF6\",\"gridcolor\":\"white\",\"linecolor\":\"white\",\"showbackground\":true,\"ticks\":\"\",\"zerolinecolor\":\"white\",\"gridwidth\":2},\"zaxis\":{\"backgroundcolor\":\"#E5ECF6\",\"gridcolor\":\"white\",\"linecolor\":\"white\",\"showbackground\":true,\"ticks\":\"\",\"zerolinecolor\":\"white\",\"gridwidth\":2}},\"shapedefaults\":{\"line\":{\"color\":\"#2a3f5f\"}},\"annotationdefaults\":{\"arrowcolor\":\"#2a3f5f\",\"arrowhead\":0,\"arrowwidth\":1},\"geo\":{\"bgcolor\":\"white\",\"landcolor\":\"#E5ECF6\",\"subunitcolor\":\"white\",\"showland\":true,\"showlakes\":true,\"lakecolor\":\"white\"},\"title\":{\"x\":0.05},\"mapbox\":{\"style\":\"light\"}}},\"xaxis\":{\"anchor\":\"y\",\"domain\":[0.0,1.0],\"scaleanchor\":\"y\",\"constrain\":\"domain\",\"title\":{\"text\":\"col\"}},\"yaxis\":{\"anchor\":\"x\",\"domain\":[0.0,1.0],\"autorange\":\"reversed\",\"constrain\":\"domain\",\"title\":{\"text\":\"row\"}},\"coloraxis\":{\"colorbar\":{\"title\":{\"text\":\"Accuracy\"}},\"colorscale\":[[0.0,\"#0d0887\"],[0.1111111111111111,\"#46039f\"],[0.2222222222222222,\"#7201a8\"],[0.3333333333333333,\"#9c179e\"],[0.4444444444444444,\"#bd3786\"],[0.5555555555555556,\"#d8576b\"],[0.6666666666666666,\"#ed7953\"],[0.7777777777777778,\"#fb9f3a\"],[0.8888888888888888,\"#fdca26\"],[1.0,\"#f0f921\"]]},\"title\":{\"text\":\"Accuracy of the Last-Flipped Heuristic of all Board Tile\"}},                        {\"responsive\": true}                    ).then(function(){\n",
       "                            \n",
       "var gd = document.getElementById('af98fa7d-43d5-4098-b05d-4cd3ba560612');\n",
       "var x = new MutationObserver(function (mutations, observer) {{\n",
       "        var display = window.getComputedStyle(gd).display;\n",
       "        if (!display || display === 'none') {{\n",
       "            console.log([gd, 'removed!']);\n",
       "            Plotly.purge(gd);\n",
       "            observer.disconnect();\n",
       "        }}\n",
       "}});\n",
       "\n",
       "// Listen for the removal of the full notebook cells\n",
       "var notebookContainer = gd.closest('#notebook-container');\n",
       "if (notebookContainer) {{\n",
       "    x.observe(notebookContainer, {childList: true});\n",
       "}}\n",
       "\n",
       "// Listen for the clearing of the current output cell\n",
       "var outputEl = gd.closest('.output');\n",
       "if (outputEl) {{\n",
       "    x.observe(outputEl, {childList: true});\n",
       "}}\n",
       "\n",
       "                        })                };                });            </script>        </div>"
      ]
     },
     "metadata": {},
     "output_type": "display_data"
    }
   ],
   "source": [
    "# Create a plotly headmap of scores_vis[\"Accuracy\"]\n",
    "# Notes\n",
    "# Also ich finde diesen Plot cool. (Vielleicht average ich aber doch lieber alles zusammen)\n",
    "save = False\n",
    "dimensions = [\"layer\", \"row\", \"col\"]\n",
    "metric = \"Accuracy\"\n",
    "title = \"Accuracy of the Last-Flipped Heuristic of all Board Tile\"\n",
    "\n",
    "scores = get_scores_tensor(\n",
    "    results_math_approx,\n",
    "    dimensions,\n",
    "    metric,\n",
    "    title,\n",
    "    layer = None,\n",
    "    pos = None,\n",
    "    row = None,\n",
    "    col = None,\n",
    ")\n",
    "\n",
    "fig = px.imshow(scores, labels=dict(x=dimensions[-1], y=dimensions[-2], color=metric), title=title)\n",
    "fig.show()\n",
    "if save:\n",
    "    save_plotly(fig, title)\n",
    "# "
   ]
  },
  {
   "cell_type": "code",
   "execution_count": 212,
   "metadata": {},
   "outputs": [
    {
     "data": {
      "text/plain": [
       "torch.Size([8, 8, 8])"
      ]
     },
     "execution_count": 212,
     "metadata": {},
     "output_type": "execute_result"
    }
   ],
   "source": [
    "scores = get_score_from_results(results_math_approx, [\"layer\", \"row\", \"col\"])[\"Accuracy\"]\n",
    "scores.shape"
   ]
  },
  {
   "cell_type": "code",
   "execution_count": 227,
   "metadata": {},
   "outputs": [],
   "source": [
    "def plot_boards_general(x_labels : List[str],\n",
    "                        y_labels : List[str],\n",
    "                        boards : Float[Tensor, \"x y rows cols\"],\n",
    "                        size_of_board : Int = 200,\n",
    "                        margin_t : Int = 100,\n",
    "                        title_text : str = \"\",\n",
    "                        color_range  : str = \"symmetric\",\n",
    "                        static_image : bool = False,\n",
    "                        save : bool = False):\n",
    "    # TODO: add attn/mlp only\n",
    "    # TODO: Change Width and Height accordingly\n",
    "    boards = boards.flip(2)\n",
    "    x_len, y_len, rows, cols = boards.shape\n",
    "    subplot_titles = [f\"{y_label}, {x_label}\" for y_label in y_labels for x_label in x_labels]\n",
    "    # subplot_titles = [f\"P: {i}, T: {label_list[i]}, L: {j}\" for i in range(vis_args.start_pos, vis_args.end_pos) for j in range(vis_args.layers)]\n",
    "    width = x_len * size_of_board\n",
    "    height = y_len * size_of_board + margin_t\n",
    "    vertical_spacing = 70 / height\n",
    "    fig = make_subplots(rows=y_len, cols=x_len, subplot_titles=subplot_titles, vertical_spacing=vertical_spacing)\n",
    "    boards_min = boards.min().item()\n",
    "    boards_max = boards.max().item()        \n",
    "    abs_max = max(abs(boards_min), abs(boards_max))\n",
    "    if color_range == \"symmetric\":\n",
    "        begin = -abs_max\n",
    "        end = abs_max\n",
    "    else:\n",
    "        begin = boards_min\n",
    "        end = boards_max\n",
    "    for x in range(x_len):\n",
    "        for y in range(y_len):\n",
    "            heatmap = go.Heatmap(\n",
    "                z=boards[x, y].cpu(),\n",
    "                x=list(range(0, rows)),\n",
    "                y=reverse_alpha,\n",
    "                hoverongaps = False,\n",
    "                zmin=begin,\n",
    "                zmax=end,\n",
    "            )\n",
    "            fig.add_trace(\n",
    "                heatmap,\n",
    "                row=y + 1,\n",
    "                col=x + 1\n",
    "            )\n",
    "    fig.layout.update(width=width, height=height, margin_t=margin_t, title_text=title_text) \n",
    "    if static_image:\n",
    "        # count the number of images in the last_plot directory\n",
    "        num_images = len(list(Path(\"last_plot\").glob(\"*.png\")))\n",
    "        fig.write_image(f'last_plot/last_plot{num_images+1}.png')\n",
    "    else:\n",
    "        fig.show()\n",
    "    if save:\n",
    "        save_plotly(fig, title_text)"
   ]
  },
  {
   "cell_type": "code",
   "execution_count": 244,
   "metadata": {},
   "outputs": [
    {
     "name": "stdout",
     "output_type": "stream",
     "text": [
      "torch.Size([8, 6, 8, 8])\n"
     ]
    },
    {
     "data": {
      "application/vnd.plotly.v1+json": {
       "config": {
        "plotlyServerURL": "https://plot.ly"
       },
       "data": [
        {
         "hoverongaps": false,
         "type": "heatmap",
         "x": [
          0,
          1,
          2,
          3,
          4,
          5,
          6,
          7
         ],
         "xaxis": "x",
         "y": [
          "H",
          "G",
          "F",
          "E",
          "D",
          "C",
          "B",
          "A"
         ],
         "yaxis": "y",
         "z": [
          [
           0.50030035,
           0.6647223,
           0.6726276,
           0.6244535,
           0.72365373,
           0.63340056,
           0.69775975,
           0.49368793
          ],
          [
           0.60595065,
           0.67686766,
           0.7552351,
           0.6797031,
           0.7133634,
           0.70989203,
           0.61112905,
           0.6981557
          ],
          [
           0.5427579,
           0.73643214,
           0.7327045,
           0.7562319,
           0.6614202,
           0.69208175,
           0.68584424,
           0.656687
          ],
          [
           0.570113,
           0.7326425,
           0.6386069,
           0.7658904,
           0.74368143,
           0.70659846,
           0.7343381,
           0.6678625
          ],
          [
           0.5646611,
           0.7514558,
           0.6799925,
           0.7355246,
           0.75914407,
           0.714386,
           0.7002485,
           0.64366436
          ],
          [
           0.5386035,
           0.66954505,
           0.68371576,
           0.7440654,
           0.68856055,
           0.72762907,
           0.6188203,
           0.6274876
          ],
          [
           0.57106674,
           0.6122876,
           0.6530044,
           0.6533074,
           0.6649061,
           0.7110144,
           0.63064325,
           0.510972
          ],
          [
           0.5255872,
           0.6230458,
           0.608541,
           0.6418025,
           0.6505778,
           0.6609021,
           0.6375821,
           0.50675666
          ]
         ],
         "zmax": 0.9228473901748657,
         "zmin": 0.4591295123100281
        },
        {
         "hoverongaps": false,
         "type": "heatmap",
         "x": [
          0,
          1,
          2,
          3,
          4,
          5,
          6,
          7
         ],
         "xaxis": "x2",
         "y": [
          "H",
          "G",
          "F",
          "E",
          "D",
          "C",
          "B",
          "A"
         ],
         "yaxis": "y2",
         "z": [
          [
           0.59095114,
           0.6135387,
           0.62060905,
           0.6802336,
           0.71502644,
           0.66592854,
           0.65346414,
           0.4913586
          ],
          [
           0.67924213,
           0.68999827,
           0.72195363,
           0.7212641,
           0.7001756,
           0.731743,
           0.7355487,
           0.6028317
          ],
          [
           0.6658912,
           0.69910866,
           0.7191074,
           0.6891614,
           0.75523394,
           0.7294313,
           0.73114145,
           0.6597863
          ],
          [
           0.6764605,
           0.6995711,
           0.73504597,
           0.69674,
           0.72502667,
           0.73224556,
           0.6986609,
           0.66080016
          ],
          [
           0.62709415,
           0.7038416,
           0.7115899,
           0.71622443,
           0.7103346,
           0.6807454,
           0.7165427,
           0.594182
          ],
          [
           0.61846626,
           0.68032527,
           0.7304333,
           0.7387175,
           0.71843785,
           0.747953,
           0.7273096,
           0.7309465
          ],
          [
           0.5866517,
           0.7057122,
           0.66975117,
           0.71742076,
           0.7264579,
           0.74248147,
           0.74338865,
           0.5894406
          ],
          [
           0.49243283,
           0.6149459,
           0.64041364,
           0.6794311,
           0.6653991,
           0.6960505,
           0.5984553,
           0.509465
          ]
         ],
         "zmax": 0.9228473901748657,
         "zmin": 0.4591295123100281
        },
        {
         "hoverongaps": false,
         "type": "heatmap",
         "x": [
          0,
          1,
          2,
          3,
          4,
          5,
          6,
          7
         ],
         "xaxis": "x3",
         "y": [
          "H",
          "G",
          "F",
          "E",
          "D",
          "C",
          "B",
          "A"
         ],
         "yaxis": "y3",
         "z": [
          [
           0.5665791,
           0.67608875,
           0.68178,
           0.79461515,
           0.82771814,
           0.7463496,
           0.6512894,
           0.5767466
          ],
          [
           0.6671527,
           0.6671604,
           0.59938985,
           0.59319264,
           0.5870472,
           0.6028658,
           0.60721123,
           0.6676509
          ],
          [
           0.7372498,
           0.63083786,
           0.5845995,
           0.61610216,
           0.634556,
           0.66326356,
           0.60153925,
           0.7503534
          ],
          [
           0.7313277,
           0.60415006,
           0.65253854,
           0.678179,
           0.6653291,
           0.6172164,
           0.6115637,
           0.7489102
          ],
          [
           0.71839476,
           0.5829156,
           0.5844846,
           0.63503754,
           0.6001008,
           0.63344055,
           0.5791326,
           0.73638517
          ],
          [
           0.66598225,
           0.5989287,
           0.59337133,
           0.57157266,
           0.6396324,
           0.6554325,
           0.60879356,
           0.8107516
          ],
          [
           0.6167866,
           0.5511509,
           0.63693655,
           0.58403516,
           0.58519304,
           0.63271534,
           0.5938149,
           0.5788578
          ],
          [
           0.6051641,
           0.59732306,
           0.6655828,
           0.79515505,
           0.70376176,
           0.7408517,
           0.7180354,
           0.61305636
          ]
         ],
         "zmax": 0.9228473901748657,
         "zmin": 0.4591295123100281
        },
        {
         "hoverongaps": false,
         "type": "heatmap",
         "x": [
          0,
          1,
          2,
          3,
          4,
          5,
          6,
          7
         ],
         "xaxis": "x4",
         "y": [
          "H",
          "G",
          "F",
          "E",
          "D",
          "C",
          "B",
          "A"
         ],
         "yaxis": "y4",
         "z": [
          [
           0.54773307,
           0.63655806,
           0.66571265,
           0.62942904,
           0.8267051,
           0.6295964,
           0.6683793,
           0.56135386
          ],
          [
           0.6181948,
           0.60391873,
           0.6318022,
           0.61965674,
           0.6701462,
           0.69129956,
           0.6242116,
           0.6296763
          ],
          [
           0.7020442,
           0.62265784,
           0.6536236,
           0.6655152,
           0.66100395,
           0.64311033,
           0.6700536,
           0.68983185
          ],
          [
           0.7220467,
           0.66141444,
           0.64642525,
           0.70085233,
           0.652486,
           0.6340582,
           0.6111095,
           0.690359
          ],
          [
           0.68785363,
           0.7020365,
           0.65658194,
           0.66255975,
           0.70168984,
           0.62917644,
           0.5912993,
           0.6472607
          ],
          [
           0.64718723,
           0.6489612,
           0.7246559,
           0.6652057,
           0.6686598,
           0.6527585,
           0.6890914,
           0.73350096
          ],
          [
           0.6117593,
           0.6257762,
           0.6178655,
           0.62961507,
           0.6799647,
           0.6092252,
           0.6695258,
           0.59461933
          ],
          [
           0.5610695,
           0.5669519,
           0.69827396,
           0.6943766,
           0.7276323,
           0.6259934,
           0.6627242,
           0.55820376
          ]
         ],
         "zmax": 0.9228473901748657,
         "zmin": 0.4591295123100281
        },
        {
         "hoverongaps": false,
         "type": "heatmap",
         "x": [
          0,
          1,
          2,
          3,
          4,
          5,
          6,
          7
         ],
         "xaxis": "x5",
         "y": [
          "H",
          "G",
          "F",
          "E",
          "D",
          "C",
          "B",
          "A"
         ],
         "yaxis": "y5",
         "z": [
          [
           0.5413591,
           0.6093456,
           0.5881892,
           0.5011701,
           0.6293389,
           0.5963597,
           0.50764966,
           0.67072654
          ],
          [
           0.5348063,
           0.71454597,
           0.6886331,
           0.6539837,
           0.6581342,
           0.74711657,
           0.71513814,
           0.5231894
          ],
          [
           0.55319166,
           0.75546336,
           0.66802114,
           0.6616461,
           0.70363784,
           0.680789,
           0.67052907,
           0.5684183
          ],
          [
           0.6278868,
           0.64890987,
           0.69253945,
           0.682432,
           0.6746721,
           0.6729578,
           0.70543647,
           0.588696
          ],
          [
           0.51807374,
           0.65460134,
           0.64757526,
           0.63096833,
           0.68726504,
           0.6567499,
           0.6945886,
           0.59370786
          ],
          [
           0.52903664,
           0.6871294,
           0.7453667,
           0.6670684,
           0.6753761,
           0.74674106,
           0.72822285,
           0.5839412
          ],
          [
           0.52451766,
           0.6752846,
           0.6833893,
           0.69007176,
           0.7021486,
           0.762757,
           0.80109745,
           0.5271073
          ],
          [
           0.47612074,
           0.557557,
           0.5284053,
           0.6355687,
           0.58270735,
           0.6312471,
           0.55091375,
           0.57405436
          ]
         ],
         "zmax": 0.9228473901748657,
         "zmin": 0.4591295123100281
        },
        {
         "hoverongaps": false,
         "type": "heatmap",
         "x": [
          0,
          1,
          2,
          3,
          4,
          5,
          6,
          7
         ],
         "xaxis": "x6",
         "y": [
          "H",
          "G",
          "F",
          "E",
          "D",
          "C",
          "B",
          "A"
         ],
         "yaxis": "y6",
         "z": [
          [
           0.73539835,
           0.5544631,
           0.64689606,
           0.64032394,
           0.6449643,
           0.8156576,
           0.7531773,
           0.5220902
          ],
          [
           0.77467096,
           0.7134973,
           0.6992755,
           0.7285893,
           0.7125287,
           0.71237886,
           0.7119457,
           0.6754475
          ],
          [
           0.7840489,
           0.7768345,
           0.69499195,
           0.65707815,
           0.72202945,
           0.70024073,
           0.7115306,
           0.73175347
          ],
          [
           0.77305555,
           0.68117446,
           0.73028636,
           0.6310216,
           0.63265353,
           0.662026,
           0.67028123,
           0.7584701
          ],
          [
           0.76609933,
           0.7191405,
           0.5891404,
           0.6375702,
           0.6761889,
           0.712731,
           0.6934441,
           0.8312972
          ],
          [
           0.8173113,
           0.6637444,
           0.70507324,
           0.64611983,
           0.66815144,
           0.7119489,
           0.69048905,
           0.91643476
          ],
          [
           0.71255845,
           0.6464446,
           0.6542847,
           0.69106823,
           0.70635295,
           0.72514707,
           0.69734085,
           0.8161841
          ],
          [
           0.8015487,
           0.4591295,
           0.5360693,
           0.81902885,
           0.7939782,
           0.86143416,
           0.6827475,
           0.797813
          ]
         ],
         "zmax": 0.9228473901748657,
         "zmin": 0.4591295123100281
        },
        {
         "hoverongaps": false,
         "type": "heatmap",
         "x": [
          0,
          1,
          2,
          3,
          4,
          5,
          6,
          7
         ],
         "xaxis": "x7",
         "y": [
          "H",
          "G",
          "F",
          "E",
          "D",
          "C",
          "B",
          "A"
         ],
         "yaxis": "y7",
         "z": [
          [
           0.7167083,
           0.6480149,
           0.65758026,
           0.6092658,
           0.5934387,
           0.71926427,
           0.6642099,
           0.5634709
          ],
          [
           0.8046579,
           0.79686177,
           0.68003595,
           0.5999576,
           0.6185837,
           0.5514718,
           0.5654615,
           0.74184793
          ],
          [
           0.87934816,
           0.82840043,
           0.55134726,
           0.54035646,
           0.585015,
           0.57356644,
           0.74434984,
           0.70007783
          ],
          [
           0.71263576,
           0.5372846,
           0.51291394,
           0.5153867,
           0.48953038,
           0.54708296,
           0.71071815,
           0.69585925
          ],
          [
           0.6304181,
           0.5708301,
           0.5808994,
           0.5266418,
           0.58197635,
           0.60040474,
           0.5275861,
           0.6623697
          ],
          [
           0.624568,
           0.5602368,
           0.5795276,
           0.5927776,
           0.5141787,
           0.55705935,
           0.75870615,
           0.6013092
          ],
          [
           0.5748695,
           0.56379133,
           0.5999054,
           0.61860317,
           0.7242882,
           0.6086495,
           0.9228474,
           0.5528531
          ],
          [
           0.5686249,
           0.71473175,
           0.6411546,
           0.6266072,
           0.6426396,
           0.6025381,
           0.6795245,
           0.8296856
          ]
         ],
         "zmax": 0.9228473901748657,
         "zmin": 0.4591295123100281
        }
       ],
       "layout": {
        "annotations": [
         {
          "font": {
           "size": 16
          },
          "showarrow": false,
          "text": ", Layer 1",
          "x": 0.05918367346938775,
          "xanchor": "center",
          "xref": "paper",
          "y": 1,
          "yanchor": "bottom",
          "yref": "paper"
         },
         {
          "font": {
           "size": 16
          },
          "showarrow": false,
          "text": ", Layer 2",
          "x": 0.2061224489795918,
          "xanchor": "center",
          "xref": "paper",
          "y": 1,
          "yanchor": "bottom",
          "yref": "paper"
         },
         {
          "font": {
           "size": 16
          },
          "showarrow": false,
          "text": ", Layer 3",
          "x": 0.3530612244897959,
          "xanchor": "center",
          "xref": "paper",
          "y": 1,
          "yanchor": "bottom",
          "yref": "paper"
         },
         {
          "font": {
           "size": 16
          },
          "showarrow": false,
          "text": ", Layer 4",
          "x": 0.49999999999999994,
          "xanchor": "center",
          "xref": "paper",
          "y": 1,
          "yanchor": "bottom",
          "yref": "paper"
         },
         {
          "font": {
           "size": 16
          },
          "showarrow": false,
          "text": ", Layer 5",
          "x": 0.6469387755102041,
          "xanchor": "center",
          "xref": "paper",
          "y": 1,
          "yanchor": "bottom",
          "yref": "paper"
         },
         {
          "font": {
           "size": 16
          },
          "showarrow": false,
          "text": ", Layer 6",
          "x": 0.7938775510204081,
          "xanchor": "center",
          "xref": "paper",
          "y": 1,
          "yanchor": "bottom",
          "yref": "paper"
         },
         {
          "font": {
           "size": 16
          },
          "showarrow": false,
          "text": ", Layer 7",
          "x": 0.9408163265306122,
          "xanchor": "center",
          "xref": "paper",
          "y": 1,
          "yanchor": "bottom",
          "yref": "paper"
         }
        ],
        "height": 300,
        "margin": {
         "t": 100
        },
        "template": {
         "data": {
          "bar": [
           {
            "error_x": {
             "color": "#2a3f5f"
            },
            "error_y": {
             "color": "#2a3f5f"
            },
            "marker": {
             "line": {
              "color": "#E5ECF6",
              "width": 0.5
             },
             "pattern": {
              "fillmode": "overlay",
              "size": 10,
              "solidity": 0.2
             }
            },
            "type": "bar"
           }
          ],
          "barpolar": [
           {
            "marker": {
             "line": {
              "color": "#E5ECF6",
              "width": 0.5
             },
             "pattern": {
              "fillmode": "overlay",
              "size": 10,
              "solidity": 0.2
             }
            },
            "type": "barpolar"
           }
          ],
          "carpet": [
           {
            "aaxis": {
             "endlinecolor": "#2a3f5f",
             "gridcolor": "white",
             "linecolor": "white",
             "minorgridcolor": "white",
             "startlinecolor": "#2a3f5f"
            },
            "baxis": {
             "endlinecolor": "#2a3f5f",
             "gridcolor": "white",
             "linecolor": "white",
             "minorgridcolor": "white",
             "startlinecolor": "#2a3f5f"
            },
            "type": "carpet"
           }
          ],
          "choropleth": [
           {
            "colorbar": {
             "outlinewidth": 0,
             "ticks": ""
            },
            "type": "choropleth"
           }
          ],
          "contour": [
           {
            "colorbar": {
             "outlinewidth": 0,
             "ticks": ""
            },
            "colorscale": [
             [
              0,
              "#0d0887"
             ],
             [
              0.1111111111111111,
              "#46039f"
             ],
             [
              0.2222222222222222,
              "#7201a8"
             ],
             [
              0.3333333333333333,
              "#9c179e"
             ],
             [
              0.4444444444444444,
              "#bd3786"
             ],
             [
              0.5555555555555556,
              "#d8576b"
             ],
             [
              0.6666666666666666,
              "#ed7953"
             ],
             [
              0.7777777777777778,
              "#fb9f3a"
             ],
             [
              0.8888888888888888,
              "#fdca26"
             ],
             [
              1,
              "#f0f921"
             ]
            ],
            "type": "contour"
           }
          ],
          "contourcarpet": [
           {
            "colorbar": {
             "outlinewidth": 0,
             "ticks": ""
            },
            "type": "contourcarpet"
           }
          ],
          "heatmap": [
           {
            "colorbar": {
             "outlinewidth": 0,
             "ticks": ""
            },
            "colorscale": [
             [
              0,
              "#0d0887"
             ],
             [
              0.1111111111111111,
              "#46039f"
             ],
             [
              0.2222222222222222,
              "#7201a8"
             ],
             [
              0.3333333333333333,
              "#9c179e"
             ],
             [
              0.4444444444444444,
              "#bd3786"
             ],
             [
              0.5555555555555556,
              "#d8576b"
             ],
             [
              0.6666666666666666,
              "#ed7953"
             ],
             [
              0.7777777777777778,
              "#fb9f3a"
             ],
             [
              0.8888888888888888,
              "#fdca26"
             ],
             [
              1,
              "#f0f921"
             ]
            ],
            "type": "heatmap"
           }
          ],
          "heatmapgl": [
           {
            "colorbar": {
             "outlinewidth": 0,
             "ticks": ""
            },
            "colorscale": [
             [
              0,
              "#0d0887"
             ],
             [
              0.1111111111111111,
              "#46039f"
             ],
             [
              0.2222222222222222,
              "#7201a8"
             ],
             [
              0.3333333333333333,
              "#9c179e"
             ],
             [
              0.4444444444444444,
              "#bd3786"
             ],
             [
              0.5555555555555556,
              "#d8576b"
             ],
             [
              0.6666666666666666,
              "#ed7953"
             ],
             [
              0.7777777777777778,
              "#fb9f3a"
             ],
             [
              0.8888888888888888,
              "#fdca26"
             ],
             [
              1,
              "#f0f921"
             ]
            ],
            "type": "heatmapgl"
           }
          ],
          "histogram": [
           {
            "marker": {
             "pattern": {
              "fillmode": "overlay",
              "size": 10,
              "solidity": 0.2
             }
            },
            "type": "histogram"
           }
          ],
          "histogram2d": [
           {
            "colorbar": {
             "outlinewidth": 0,
             "ticks": ""
            },
            "colorscale": [
             [
              0,
              "#0d0887"
             ],
             [
              0.1111111111111111,
              "#46039f"
             ],
             [
              0.2222222222222222,
              "#7201a8"
             ],
             [
              0.3333333333333333,
              "#9c179e"
             ],
             [
              0.4444444444444444,
              "#bd3786"
             ],
             [
              0.5555555555555556,
              "#d8576b"
             ],
             [
              0.6666666666666666,
              "#ed7953"
             ],
             [
              0.7777777777777778,
              "#fb9f3a"
             ],
             [
              0.8888888888888888,
              "#fdca26"
             ],
             [
              1,
              "#f0f921"
             ]
            ],
            "type": "histogram2d"
           }
          ],
          "histogram2dcontour": [
           {
            "colorbar": {
             "outlinewidth": 0,
             "ticks": ""
            },
            "colorscale": [
             [
              0,
              "#0d0887"
             ],
             [
              0.1111111111111111,
              "#46039f"
             ],
             [
              0.2222222222222222,
              "#7201a8"
             ],
             [
              0.3333333333333333,
              "#9c179e"
             ],
             [
              0.4444444444444444,
              "#bd3786"
             ],
             [
              0.5555555555555556,
              "#d8576b"
             ],
             [
              0.6666666666666666,
              "#ed7953"
             ],
             [
              0.7777777777777778,
              "#fb9f3a"
             ],
             [
              0.8888888888888888,
              "#fdca26"
             ],
             [
              1,
              "#f0f921"
             ]
            ],
            "type": "histogram2dcontour"
           }
          ],
          "mesh3d": [
           {
            "colorbar": {
             "outlinewidth": 0,
             "ticks": ""
            },
            "type": "mesh3d"
           }
          ],
          "parcoords": [
           {
            "line": {
             "colorbar": {
              "outlinewidth": 0,
              "ticks": ""
             }
            },
            "type": "parcoords"
           }
          ],
          "pie": [
           {
            "automargin": true,
            "type": "pie"
           }
          ],
          "scatter": [
           {
            "fillpattern": {
             "fillmode": "overlay",
             "size": 10,
             "solidity": 0.2
            },
            "type": "scatter"
           }
          ],
          "scatter3d": [
           {
            "line": {
             "colorbar": {
              "outlinewidth": 0,
              "ticks": ""
             }
            },
            "marker": {
             "colorbar": {
              "outlinewidth": 0,
              "ticks": ""
             }
            },
            "type": "scatter3d"
           }
          ],
          "scattercarpet": [
           {
            "marker": {
             "colorbar": {
              "outlinewidth": 0,
              "ticks": ""
             }
            },
            "type": "scattercarpet"
           }
          ],
          "scattergeo": [
           {
            "marker": {
             "colorbar": {
              "outlinewidth": 0,
              "ticks": ""
             }
            },
            "type": "scattergeo"
           }
          ],
          "scattergl": [
           {
            "marker": {
             "colorbar": {
              "outlinewidth": 0,
              "ticks": ""
             }
            },
            "type": "scattergl"
           }
          ],
          "scattermapbox": [
           {
            "marker": {
             "colorbar": {
              "outlinewidth": 0,
              "ticks": ""
             }
            },
            "type": "scattermapbox"
           }
          ],
          "scatterpolar": [
           {
            "marker": {
             "colorbar": {
              "outlinewidth": 0,
              "ticks": ""
             }
            },
            "type": "scatterpolar"
           }
          ],
          "scatterpolargl": [
           {
            "marker": {
             "colorbar": {
              "outlinewidth": 0,
              "ticks": ""
             }
            },
            "type": "scatterpolargl"
           }
          ],
          "scatterternary": [
           {
            "marker": {
             "colorbar": {
              "outlinewidth": 0,
              "ticks": ""
             }
            },
            "type": "scatterternary"
           }
          ],
          "surface": [
           {
            "colorbar": {
             "outlinewidth": 0,
             "ticks": ""
            },
            "colorscale": [
             [
              0,
              "#0d0887"
             ],
             [
              0.1111111111111111,
              "#46039f"
             ],
             [
              0.2222222222222222,
              "#7201a8"
             ],
             [
              0.3333333333333333,
              "#9c179e"
             ],
             [
              0.4444444444444444,
              "#bd3786"
             ],
             [
              0.5555555555555556,
              "#d8576b"
             ],
             [
              0.6666666666666666,
              "#ed7953"
             ],
             [
              0.7777777777777778,
              "#fb9f3a"
             ],
             [
              0.8888888888888888,
              "#fdca26"
             ],
             [
              1,
              "#f0f921"
             ]
            ],
            "type": "surface"
           }
          ],
          "table": [
           {
            "cells": {
             "fill": {
              "color": "#EBF0F8"
             },
             "line": {
              "color": "white"
             }
            },
            "header": {
             "fill": {
              "color": "#C8D4E3"
             },
             "line": {
              "color": "white"
             }
            },
            "type": "table"
           }
          ]
         },
         "layout": {
          "annotationdefaults": {
           "arrowcolor": "#2a3f5f",
           "arrowhead": 0,
           "arrowwidth": 1
          },
          "autotypenumbers": "strict",
          "coloraxis": {
           "colorbar": {
            "outlinewidth": 0,
            "ticks": ""
           }
          },
          "colorscale": {
           "diverging": [
            [
             0,
             "#8e0152"
            ],
            [
             0.1,
             "#c51b7d"
            ],
            [
             0.2,
             "#de77ae"
            ],
            [
             0.3,
             "#f1b6da"
            ],
            [
             0.4,
             "#fde0ef"
            ],
            [
             0.5,
             "#f7f7f7"
            ],
            [
             0.6,
             "#e6f5d0"
            ],
            [
             0.7,
             "#b8e186"
            ],
            [
             0.8,
             "#7fbc41"
            ],
            [
             0.9,
             "#4d9221"
            ],
            [
             1,
             "#276419"
            ]
           ],
           "sequential": [
            [
             0,
             "#0d0887"
            ],
            [
             0.1111111111111111,
             "#46039f"
            ],
            [
             0.2222222222222222,
             "#7201a8"
            ],
            [
             0.3333333333333333,
             "#9c179e"
            ],
            [
             0.4444444444444444,
             "#bd3786"
            ],
            [
             0.5555555555555556,
             "#d8576b"
            ],
            [
             0.6666666666666666,
             "#ed7953"
            ],
            [
             0.7777777777777778,
             "#fb9f3a"
            ],
            [
             0.8888888888888888,
             "#fdca26"
            ],
            [
             1,
             "#f0f921"
            ]
           ],
           "sequentialminus": [
            [
             0,
             "#0d0887"
            ],
            [
             0.1111111111111111,
             "#46039f"
            ],
            [
             0.2222222222222222,
             "#7201a8"
            ],
            [
             0.3333333333333333,
             "#9c179e"
            ],
            [
             0.4444444444444444,
             "#bd3786"
            ],
            [
             0.5555555555555556,
             "#d8576b"
            ],
            [
             0.6666666666666666,
             "#ed7953"
            ],
            [
             0.7777777777777778,
             "#fb9f3a"
            ],
            [
             0.8888888888888888,
             "#fdca26"
            ],
            [
             1,
             "#f0f921"
            ]
           ]
          },
          "colorway": [
           "#636efa",
           "#EF553B",
           "#00cc96",
           "#ab63fa",
           "#FFA15A",
           "#19d3f3",
           "#FF6692",
           "#B6E880",
           "#FF97FF",
           "#FECB52"
          ],
          "font": {
           "color": "#2a3f5f"
          },
          "geo": {
           "bgcolor": "white",
           "lakecolor": "white",
           "landcolor": "#E5ECF6",
           "showlakes": true,
           "showland": true,
           "subunitcolor": "white"
          },
          "hoverlabel": {
           "align": "left"
          },
          "hovermode": "closest",
          "mapbox": {
           "style": "light"
          },
          "paper_bgcolor": "white",
          "plot_bgcolor": "#E5ECF6",
          "polar": {
           "angularaxis": {
            "gridcolor": "white",
            "linecolor": "white",
            "ticks": ""
           },
           "bgcolor": "#E5ECF6",
           "radialaxis": {
            "gridcolor": "white",
            "linecolor": "white",
            "ticks": ""
           }
          },
          "scene": {
           "xaxis": {
            "backgroundcolor": "#E5ECF6",
            "gridcolor": "white",
            "gridwidth": 2,
            "linecolor": "white",
            "showbackground": true,
            "ticks": "",
            "zerolinecolor": "white"
           },
           "yaxis": {
            "backgroundcolor": "#E5ECF6",
            "gridcolor": "white",
            "gridwidth": 2,
            "linecolor": "white",
            "showbackground": true,
            "ticks": "",
            "zerolinecolor": "white"
           },
           "zaxis": {
            "backgroundcolor": "#E5ECF6",
            "gridcolor": "white",
            "gridwidth": 2,
            "linecolor": "white",
            "showbackground": true,
            "ticks": "",
            "zerolinecolor": "white"
           }
          },
          "shapedefaults": {
           "line": {
            "color": "#2a3f5f"
           }
          },
          "ternary": {
           "aaxis": {
            "gridcolor": "white",
            "linecolor": "white",
            "ticks": ""
           },
           "baxis": {
            "gridcolor": "white",
            "linecolor": "white",
            "ticks": ""
           },
           "bgcolor": "#E5ECF6",
           "caxis": {
            "gridcolor": "white",
            "linecolor": "white",
            "ticks": ""
           }
          },
          "title": {
           "x": 0.05
          },
          "xaxis": {
           "automargin": true,
           "gridcolor": "white",
           "linecolor": "white",
           "ticks": "",
           "title": {
            "standoff": 15
           },
           "zerolinecolor": "white",
           "zerolinewidth": 2
          },
          "yaxis": {
           "automargin": true,
           "gridcolor": "white",
           "linecolor": "white",
           "ticks": "",
           "title": {
            "standoff": 15
           },
           "zerolinecolor": "white",
           "zerolinewidth": 2
          }
         }
        },
        "title": {
         "text": "Accuracy of the Last-Flipped Heuristic of all Board Tile over the Layers"
        },
        "width": 1400,
        "xaxis": {
         "anchor": "y",
         "domain": [
          0,
          0.1183673469387755
         ]
        },
        "xaxis2": {
         "anchor": "y2",
         "domain": [
          0.14693877551020407,
          0.26530612244897955
         ]
        },
        "xaxis3": {
         "anchor": "y3",
         "domain": [
          0.29387755102040813,
          0.4122448979591836
         ]
        },
        "xaxis4": {
         "anchor": "y4",
         "domain": [
          0.4408163265306122,
          0.5591836734693877
         ]
        },
        "xaxis5": {
         "anchor": "y5",
         "domain": [
          0.5877551020408163,
          0.7061224489795918
         ]
        },
        "xaxis6": {
         "anchor": "y6",
         "domain": [
          0.7346938775510204,
          0.8530612244897959
         ]
        },
        "xaxis7": {
         "anchor": "y7",
         "domain": [
          0.8816326530612244,
          0.9999999999999999
         ]
        },
        "yaxis": {
         "anchor": "x",
         "domain": [
          0,
          1
         ]
        },
        "yaxis2": {
         "anchor": "x2",
         "domain": [
          0,
          1
         ]
        },
        "yaxis3": {
         "anchor": "x3",
         "domain": [
          0,
          1
         ]
        },
        "yaxis4": {
         "anchor": "x4",
         "domain": [
          0,
          1
         ]
        },
        "yaxis5": {
         "anchor": "x5",
         "domain": [
          0,
          1
         ]
        },
        "yaxis6": {
         "anchor": "x6",
         "domain": [
          0,
          1
         ]
        },
        "yaxis7": {
         "anchor": "x7",
         "domain": [
          0,
          1
         ]
        }
       }
      },
      "text/html": [
       "<div>                            <div id=\"2e2c40e1-4486-4c9f-830f-defeaf47b777\" class=\"plotly-graph-div\" style=\"height:300px; width:1400px;\"></div>            <script type=\"text/javascript\">                require([\"plotly\"], function(Plotly) {                    window.PLOTLYENV=window.PLOTLYENV || {};                                    if (document.getElementById(\"2e2c40e1-4486-4c9f-830f-defeaf47b777\")) {                    Plotly.newPlot(                        \"2e2c40e1-4486-4c9f-830f-defeaf47b777\",                        [{\"hoverongaps\":false,\"x\":[0,1,2,3,4,5,6,7],\"y\":[\"H\",\"G\",\"F\",\"E\",\"D\",\"C\",\"B\",\"A\"],\"z\":[[0.50030035,0.6647223,0.6726276,0.6244535,0.72365373,0.63340056,0.69775975,0.49368793],[0.60595065,0.67686766,0.7552351,0.6797031,0.7133634,0.70989203,0.61112905,0.6981557],[0.5427579,0.73643214,0.7327045,0.7562319,0.6614202,0.69208175,0.68584424,0.656687],[0.570113,0.7326425,0.6386069,0.7658904,0.74368143,0.70659846,0.7343381,0.6678625],[0.5646611,0.7514558,0.6799925,0.7355246,0.75914407,0.714386,0.7002485,0.64366436],[0.5386035,0.66954505,0.68371576,0.7440654,0.68856055,0.72762907,0.6188203,0.6274876],[0.57106674,0.6122876,0.6530044,0.6533074,0.6649061,0.7110144,0.63064325,0.510972],[0.5255872,0.6230458,0.608541,0.6418025,0.6505778,0.6609021,0.6375821,0.50675666]],\"zmax\":0.9228473901748657,\"zmin\":0.4591295123100281,\"type\":\"heatmap\",\"xaxis\":\"x\",\"yaxis\":\"y\"},{\"hoverongaps\":false,\"x\":[0,1,2,3,4,5,6,7],\"y\":[\"H\",\"G\",\"F\",\"E\",\"D\",\"C\",\"B\",\"A\"],\"z\":[[0.59095114,0.6135387,0.62060905,0.6802336,0.71502644,0.66592854,0.65346414,0.4913586],[0.67924213,0.68999827,0.72195363,0.7212641,0.7001756,0.731743,0.7355487,0.6028317],[0.6658912,0.69910866,0.7191074,0.6891614,0.75523394,0.7294313,0.73114145,0.6597863],[0.6764605,0.6995711,0.73504597,0.69674,0.72502667,0.73224556,0.6986609,0.66080016],[0.62709415,0.7038416,0.7115899,0.71622443,0.7103346,0.6807454,0.7165427,0.594182],[0.61846626,0.68032527,0.7304333,0.7387175,0.71843785,0.747953,0.7273096,0.7309465],[0.5866517,0.7057122,0.66975117,0.71742076,0.7264579,0.74248147,0.74338865,0.5894406],[0.49243283,0.6149459,0.64041364,0.6794311,0.6653991,0.6960505,0.5984553,0.509465]],\"zmax\":0.9228473901748657,\"zmin\":0.4591295123100281,\"type\":\"heatmap\",\"xaxis\":\"x2\",\"yaxis\":\"y2\"},{\"hoverongaps\":false,\"x\":[0,1,2,3,4,5,6,7],\"y\":[\"H\",\"G\",\"F\",\"E\",\"D\",\"C\",\"B\",\"A\"],\"z\":[[0.5665791,0.67608875,0.68178,0.79461515,0.82771814,0.7463496,0.6512894,0.5767466],[0.6671527,0.6671604,0.59938985,0.59319264,0.5870472,0.6028658,0.60721123,0.6676509],[0.7372498,0.63083786,0.5845995,0.61610216,0.634556,0.66326356,0.60153925,0.7503534],[0.7313277,0.60415006,0.65253854,0.678179,0.6653291,0.6172164,0.6115637,0.7489102],[0.71839476,0.5829156,0.5844846,0.63503754,0.6001008,0.63344055,0.5791326,0.73638517],[0.66598225,0.5989287,0.59337133,0.57157266,0.6396324,0.6554325,0.60879356,0.8107516],[0.6167866,0.5511509,0.63693655,0.58403516,0.58519304,0.63271534,0.5938149,0.5788578],[0.6051641,0.59732306,0.6655828,0.79515505,0.70376176,0.7408517,0.7180354,0.61305636]],\"zmax\":0.9228473901748657,\"zmin\":0.4591295123100281,\"type\":\"heatmap\",\"xaxis\":\"x3\",\"yaxis\":\"y3\"},{\"hoverongaps\":false,\"x\":[0,1,2,3,4,5,6,7],\"y\":[\"H\",\"G\",\"F\",\"E\",\"D\",\"C\",\"B\",\"A\"],\"z\":[[0.54773307,0.63655806,0.66571265,0.62942904,0.8267051,0.6295964,0.6683793,0.56135386],[0.6181948,0.60391873,0.6318022,0.61965674,0.6701462,0.69129956,0.6242116,0.6296763],[0.7020442,0.62265784,0.6536236,0.6655152,0.66100395,0.64311033,0.6700536,0.68983185],[0.7220467,0.66141444,0.64642525,0.70085233,0.652486,0.6340582,0.6111095,0.690359],[0.68785363,0.7020365,0.65658194,0.66255975,0.70168984,0.62917644,0.5912993,0.6472607],[0.64718723,0.6489612,0.7246559,0.6652057,0.6686598,0.6527585,0.6890914,0.73350096],[0.6117593,0.6257762,0.6178655,0.62961507,0.6799647,0.6092252,0.6695258,0.59461933],[0.5610695,0.5669519,0.69827396,0.6943766,0.7276323,0.6259934,0.6627242,0.55820376]],\"zmax\":0.9228473901748657,\"zmin\":0.4591295123100281,\"type\":\"heatmap\",\"xaxis\":\"x4\",\"yaxis\":\"y4\"},{\"hoverongaps\":false,\"x\":[0,1,2,3,4,5,6,7],\"y\":[\"H\",\"G\",\"F\",\"E\",\"D\",\"C\",\"B\",\"A\"],\"z\":[[0.5413591,0.6093456,0.5881892,0.5011701,0.6293389,0.5963597,0.50764966,0.67072654],[0.5348063,0.71454597,0.6886331,0.6539837,0.6581342,0.74711657,0.71513814,0.5231894],[0.55319166,0.75546336,0.66802114,0.6616461,0.70363784,0.680789,0.67052907,0.5684183],[0.6278868,0.64890987,0.69253945,0.682432,0.6746721,0.6729578,0.70543647,0.588696],[0.51807374,0.65460134,0.64757526,0.63096833,0.68726504,0.6567499,0.6945886,0.59370786],[0.52903664,0.6871294,0.7453667,0.6670684,0.6753761,0.74674106,0.72822285,0.5839412],[0.52451766,0.6752846,0.6833893,0.69007176,0.7021486,0.762757,0.80109745,0.5271073],[0.47612074,0.557557,0.5284053,0.6355687,0.58270735,0.6312471,0.55091375,0.57405436]],\"zmax\":0.9228473901748657,\"zmin\":0.4591295123100281,\"type\":\"heatmap\",\"xaxis\":\"x5\",\"yaxis\":\"y5\"},{\"hoverongaps\":false,\"x\":[0,1,2,3,4,5,6,7],\"y\":[\"H\",\"G\",\"F\",\"E\",\"D\",\"C\",\"B\",\"A\"],\"z\":[[0.73539835,0.5544631,0.64689606,0.64032394,0.6449643,0.8156576,0.7531773,0.5220902],[0.77467096,0.7134973,0.6992755,0.7285893,0.7125287,0.71237886,0.7119457,0.6754475],[0.7840489,0.7768345,0.69499195,0.65707815,0.72202945,0.70024073,0.7115306,0.73175347],[0.77305555,0.68117446,0.73028636,0.6310216,0.63265353,0.662026,0.67028123,0.7584701],[0.76609933,0.7191405,0.5891404,0.6375702,0.6761889,0.712731,0.6934441,0.8312972],[0.8173113,0.6637444,0.70507324,0.64611983,0.66815144,0.7119489,0.69048905,0.91643476],[0.71255845,0.6464446,0.6542847,0.69106823,0.70635295,0.72514707,0.69734085,0.8161841],[0.8015487,0.4591295,0.5360693,0.81902885,0.7939782,0.86143416,0.6827475,0.797813]],\"zmax\":0.9228473901748657,\"zmin\":0.4591295123100281,\"type\":\"heatmap\",\"xaxis\":\"x6\",\"yaxis\":\"y6\"},{\"hoverongaps\":false,\"x\":[0,1,2,3,4,5,6,7],\"y\":[\"H\",\"G\",\"F\",\"E\",\"D\",\"C\",\"B\",\"A\"],\"z\":[[0.7167083,0.6480149,0.65758026,0.6092658,0.5934387,0.71926427,0.6642099,0.5634709],[0.8046579,0.79686177,0.68003595,0.5999576,0.6185837,0.5514718,0.5654615,0.74184793],[0.87934816,0.82840043,0.55134726,0.54035646,0.585015,0.57356644,0.74434984,0.70007783],[0.71263576,0.5372846,0.51291394,0.5153867,0.48953038,0.54708296,0.71071815,0.69585925],[0.6304181,0.5708301,0.5808994,0.5266418,0.58197635,0.60040474,0.5275861,0.6623697],[0.624568,0.5602368,0.5795276,0.5927776,0.5141787,0.55705935,0.75870615,0.6013092],[0.5748695,0.56379133,0.5999054,0.61860317,0.7242882,0.6086495,0.9228474,0.5528531],[0.5686249,0.71473175,0.6411546,0.6266072,0.6426396,0.6025381,0.6795245,0.8296856]],\"zmax\":0.9228473901748657,\"zmin\":0.4591295123100281,\"type\":\"heatmap\",\"xaxis\":\"x7\",\"yaxis\":\"y7\"}],                        {\"template\":{\"data\":{\"histogram2dcontour\":[{\"type\":\"histogram2dcontour\",\"colorbar\":{\"outlinewidth\":0,\"ticks\":\"\"},\"colorscale\":[[0.0,\"#0d0887\"],[0.1111111111111111,\"#46039f\"],[0.2222222222222222,\"#7201a8\"],[0.3333333333333333,\"#9c179e\"],[0.4444444444444444,\"#bd3786\"],[0.5555555555555556,\"#d8576b\"],[0.6666666666666666,\"#ed7953\"],[0.7777777777777778,\"#fb9f3a\"],[0.8888888888888888,\"#fdca26\"],[1.0,\"#f0f921\"]]}],\"choropleth\":[{\"type\":\"choropleth\",\"colorbar\":{\"outlinewidth\":0,\"ticks\":\"\"}}],\"histogram2d\":[{\"type\":\"histogram2d\",\"colorbar\":{\"outlinewidth\":0,\"ticks\":\"\"},\"colorscale\":[[0.0,\"#0d0887\"],[0.1111111111111111,\"#46039f\"],[0.2222222222222222,\"#7201a8\"],[0.3333333333333333,\"#9c179e\"],[0.4444444444444444,\"#bd3786\"],[0.5555555555555556,\"#d8576b\"],[0.6666666666666666,\"#ed7953\"],[0.7777777777777778,\"#fb9f3a\"],[0.8888888888888888,\"#fdca26\"],[1.0,\"#f0f921\"]]}],\"heatmap\":[{\"type\":\"heatmap\",\"colorbar\":{\"outlinewidth\":0,\"ticks\":\"\"},\"colorscale\":[[0.0,\"#0d0887\"],[0.1111111111111111,\"#46039f\"],[0.2222222222222222,\"#7201a8\"],[0.3333333333333333,\"#9c179e\"],[0.4444444444444444,\"#bd3786\"],[0.5555555555555556,\"#d8576b\"],[0.6666666666666666,\"#ed7953\"],[0.7777777777777778,\"#fb9f3a\"],[0.8888888888888888,\"#fdca26\"],[1.0,\"#f0f921\"]]}],\"heatmapgl\":[{\"type\":\"heatmapgl\",\"colorbar\":{\"outlinewidth\":0,\"ticks\":\"\"},\"colorscale\":[[0.0,\"#0d0887\"],[0.1111111111111111,\"#46039f\"],[0.2222222222222222,\"#7201a8\"],[0.3333333333333333,\"#9c179e\"],[0.4444444444444444,\"#bd3786\"],[0.5555555555555556,\"#d8576b\"],[0.6666666666666666,\"#ed7953\"],[0.7777777777777778,\"#fb9f3a\"],[0.8888888888888888,\"#fdca26\"],[1.0,\"#f0f921\"]]}],\"contourcarpet\":[{\"type\":\"contourcarpet\",\"colorbar\":{\"outlinewidth\":0,\"ticks\":\"\"}}],\"contour\":[{\"type\":\"contour\",\"colorbar\":{\"outlinewidth\":0,\"ticks\":\"\"},\"colorscale\":[[0.0,\"#0d0887\"],[0.1111111111111111,\"#46039f\"],[0.2222222222222222,\"#7201a8\"],[0.3333333333333333,\"#9c179e\"],[0.4444444444444444,\"#bd3786\"],[0.5555555555555556,\"#d8576b\"],[0.6666666666666666,\"#ed7953\"],[0.7777777777777778,\"#fb9f3a\"],[0.8888888888888888,\"#fdca26\"],[1.0,\"#f0f921\"]]}],\"surface\":[{\"type\":\"surface\",\"colorbar\":{\"outlinewidth\":0,\"ticks\":\"\"},\"colorscale\":[[0.0,\"#0d0887\"],[0.1111111111111111,\"#46039f\"],[0.2222222222222222,\"#7201a8\"],[0.3333333333333333,\"#9c179e\"],[0.4444444444444444,\"#bd3786\"],[0.5555555555555556,\"#d8576b\"],[0.6666666666666666,\"#ed7953\"],[0.7777777777777778,\"#fb9f3a\"],[0.8888888888888888,\"#fdca26\"],[1.0,\"#f0f921\"]]}],\"mesh3d\":[{\"type\":\"mesh3d\",\"colorbar\":{\"outlinewidth\":0,\"ticks\":\"\"}}],\"scatter\":[{\"fillpattern\":{\"fillmode\":\"overlay\",\"size\":10,\"solidity\":0.2},\"type\":\"scatter\"}],\"parcoords\":[{\"type\":\"parcoords\",\"line\":{\"colorbar\":{\"outlinewidth\":0,\"ticks\":\"\"}}}],\"scatterpolargl\":[{\"type\":\"scatterpolargl\",\"marker\":{\"colorbar\":{\"outlinewidth\":0,\"ticks\":\"\"}}}],\"bar\":[{\"error_x\":{\"color\":\"#2a3f5f\"},\"error_y\":{\"color\":\"#2a3f5f\"},\"marker\":{\"line\":{\"color\":\"#E5ECF6\",\"width\":0.5},\"pattern\":{\"fillmode\":\"overlay\",\"size\":10,\"solidity\":0.2}},\"type\":\"bar\"}],\"scattergeo\":[{\"type\":\"scattergeo\",\"marker\":{\"colorbar\":{\"outlinewidth\":0,\"ticks\":\"\"}}}],\"scatterpolar\":[{\"type\":\"scatterpolar\",\"marker\":{\"colorbar\":{\"outlinewidth\":0,\"ticks\":\"\"}}}],\"histogram\":[{\"marker\":{\"pattern\":{\"fillmode\":\"overlay\",\"size\":10,\"solidity\":0.2}},\"type\":\"histogram\"}],\"scattergl\":[{\"type\":\"scattergl\",\"marker\":{\"colorbar\":{\"outlinewidth\":0,\"ticks\":\"\"}}}],\"scatter3d\":[{\"type\":\"scatter3d\",\"line\":{\"colorbar\":{\"outlinewidth\":0,\"ticks\":\"\"}},\"marker\":{\"colorbar\":{\"outlinewidth\":0,\"ticks\":\"\"}}}],\"scattermapbox\":[{\"type\":\"scattermapbox\",\"marker\":{\"colorbar\":{\"outlinewidth\":0,\"ticks\":\"\"}}}],\"scatterternary\":[{\"type\":\"scatterternary\",\"marker\":{\"colorbar\":{\"outlinewidth\":0,\"ticks\":\"\"}}}],\"scattercarpet\":[{\"type\":\"scattercarpet\",\"marker\":{\"colorbar\":{\"outlinewidth\":0,\"ticks\":\"\"}}}],\"carpet\":[{\"aaxis\":{\"endlinecolor\":\"#2a3f5f\",\"gridcolor\":\"white\",\"linecolor\":\"white\",\"minorgridcolor\":\"white\",\"startlinecolor\":\"#2a3f5f\"},\"baxis\":{\"endlinecolor\":\"#2a3f5f\",\"gridcolor\":\"white\",\"linecolor\":\"white\",\"minorgridcolor\":\"white\",\"startlinecolor\":\"#2a3f5f\"},\"type\":\"carpet\"}],\"table\":[{\"cells\":{\"fill\":{\"color\":\"#EBF0F8\"},\"line\":{\"color\":\"white\"}},\"header\":{\"fill\":{\"color\":\"#C8D4E3\"},\"line\":{\"color\":\"white\"}},\"type\":\"table\"}],\"barpolar\":[{\"marker\":{\"line\":{\"color\":\"#E5ECF6\",\"width\":0.5},\"pattern\":{\"fillmode\":\"overlay\",\"size\":10,\"solidity\":0.2}},\"type\":\"barpolar\"}],\"pie\":[{\"automargin\":true,\"type\":\"pie\"}]},\"layout\":{\"autotypenumbers\":\"strict\",\"colorway\":[\"#636efa\",\"#EF553B\",\"#00cc96\",\"#ab63fa\",\"#FFA15A\",\"#19d3f3\",\"#FF6692\",\"#B6E880\",\"#FF97FF\",\"#FECB52\"],\"font\":{\"color\":\"#2a3f5f\"},\"hovermode\":\"closest\",\"hoverlabel\":{\"align\":\"left\"},\"paper_bgcolor\":\"white\",\"plot_bgcolor\":\"#E5ECF6\",\"polar\":{\"bgcolor\":\"#E5ECF6\",\"angularaxis\":{\"gridcolor\":\"white\",\"linecolor\":\"white\",\"ticks\":\"\"},\"radialaxis\":{\"gridcolor\":\"white\",\"linecolor\":\"white\",\"ticks\":\"\"}},\"ternary\":{\"bgcolor\":\"#E5ECF6\",\"aaxis\":{\"gridcolor\":\"white\",\"linecolor\":\"white\",\"ticks\":\"\"},\"baxis\":{\"gridcolor\":\"white\",\"linecolor\":\"white\",\"ticks\":\"\"},\"caxis\":{\"gridcolor\":\"white\",\"linecolor\":\"white\",\"ticks\":\"\"}},\"coloraxis\":{\"colorbar\":{\"outlinewidth\":0,\"ticks\":\"\"}},\"colorscale\":{\"sequential\":[[0.0,\"#0d0887\"],[0.1111111111111111,\"#46039f\"],[0.2222222222222222,\"#7201a8\"],[0.3333333333333333,\"#9c179e\"],[0.4444444444444444,\"#bd3786\"],[0.5555555555555556,\"#d8576b\"],[0.6666666666666666,\"#ed7953\"],[0.7777777777777778,\"#fb9f3a\"],[0.8888888888888888,\"#fdca26\"],[1.0,\"#f0f921\"]],\"sequentialminus\":[[0.0,\"#0d0887\"],[0.1111111111111111,\"#46039f\"],[0.2222222222222222,\"#7201a8\"],[0.3333333333333333,\"#9c179e\"],[0.4444444444444444,\"#bd3786\"],[0.5555555555555556,\"#d8576b\"],[0.6666666666666666,\"#ed7953\"],[0.7777777777777778,\"#fb9f3a\"],[0.8888888888888888,\"#fdca26\"],[1.0,\"#f0f921\"]],\"diverging\":[[0,\"#8e0152\"],[0.1,\"#c51b7d\"],[0.2,\"#de77ae\"],[0.3,\"#f1b6da\"],[0.4,\"#fde0ef\"],[0.5,\"#f7f7f7\"],[0.6,\"#e6f5d0\"],[0.7,\"#b8e186\"],[0.8,\"#7fbc41\"],[0.9,\"#4d9221\"],[1,\"#276419\"]]},\"xaxis\":{\"gridcolor\":\"white\",\"linecolor\":\"white\",\"ticks\":\"\",\"title\":{\"standoff\":15},\"zerolinecolor\":\"white\",\"automargin\":true,\"zerolinewidth\":2},\"yaxis\":{\"gridcolor\":\"white\",\"linecolor\":\"white\",\"ticks\":\"\",\"title\":{\"standoff\":15},\"zerolinecolor\":\"white\",\"automargin\":true,\"zerolinewidth\":2},\"scene\":{\"xaxis\":{\"backgroundcolor\":\"#E5ECF6\",\"gridcolor\":\"white\",\"linecolor\":\"white\",\"showbackground\":true,\"ticks\":\"\",\"zerolinecolor\":\"white\",\"gridwidth\":2},\"yaxis\":{\"backgroundcolor\":\"#E5ECF6\",\"gridcolor\":\"white\",\"linecolor\":\"white\",\"showbackground\":true,\"ticks\":\"\",\"zerolinecolor\":\"white\",\"gridwidth\":2},\"zaxis\":{\"backgroundcolor\":\"#E5ECF6\",\"gridcolor\":\"white\",\"linecolor\":\"white\",\"showbackground\":true,\"ticks\":\"\",\"zerolinecolor\":\"white\",\"gridwidth\":2}},\"shapedefaults\":{\"line\":{\"color\":\"#2a3f5f\"}},\"annotationdefaults\":{\"arrowcolor\":\"#2a3f5f\",\"arrowhead\":0,\"arrowwidth\":1},\"geo\":{\"bgcolor\":\"white\",\"landcolor\":\"#E5ECF6\",\"subunitcolor\":\"white\",\"showland\":true,\"showlakes\":true,\"lakecolor\":\"white\"},\"title\":{\"x\":0.05},\"mapbox\":{\"style\":\"light\"}}},\"xaxis\":{\"anchor\":\"y\",\"domain\":[0.0,0.1183673469387755]},\"yaxis\":{\"anchor\":\"x\",\"domain\":[0.0,1.0]},\"xaxis2\":{\"anchor\":\"y2\",\"domain\":[0.14693877551020407,0.26530612244897955]},\"yaxis2\":{\"anchor\":\"x2\",\"domain\":[0.0,1.0]},\"xaxis3\":{\"anchor\":\"y3\",\"domain\":[0.29387755102040813,0.4122448979591836]},\"yaxis3\":{\"anchor\":\"x3\",\"domain\":[0.0,1.0]},\"xaxis4\":{\"anchor\":\"y4\",\"domain\":[0.4408163265306122,0.5591836734693877]},\"yaxis4\":{\"anchor\":\"x4\",\"domain\":[0.0,1.0]},\"xaxis5\":{\"anchor\":\"y5\",\"domain\":[0.5877551020408163,0.7061224489795918]},\"yaxis5\":{\"anchor\":\"x5\",\"domain\":[0.0,1.0]},\"xaxis6\":{\"anchor\":\"y6\",\"domain\":[0.7346938775510204,0.8530612244897959]},\"yaxis6\":{\"anchor\":\"x6\",\"domain\":[0.0,1.0]},\"xaxis7\":{\"anchor\":\"y7\",\"domain\":[0.8816326530612244,0.9999999999999999]},\"yaxis7\":{\"anchor\":\"x7\",\"domain\":[0.0,1.0]},\"annotations\":[{\"font\":{\"size\":16},\"showarrow\":false,\"text\":\", Layer 1\",\"x\":0.05918367346938775,\"xanchor\":\"center\",\"xref\":\"paper\",\"y\":1.0,\"yanchor\":\"bottom\",\"yref\":\"paper\"},{\"font\":{\"size\":16},\"showarrow\":false,\"text\":\", Layer 2\",\"x\":0.2061224489795918,\"xanchor\":\"center\",\"xref\":\"paper\",\"y\":1.0,\"yanchor\":\"bottom\",\"yref\":\"paper\"},{\"font\":{\"size\":16},\"showarrow\":false,\"text\":\", Layer 3\",\"x\":0.3530612244897959,\"xanchor\":\"center\",\"xref\":\"paper\",\"y\":1.0,\"yanchor\":\"bottom\",\"yref\":\"paper\"},{\"font\":{\"size\":16},\"showarrow\":false,\"text\":\", Layer 4\",\"x\":0.49999999999999994,\"xanchor\":\"center\",\"xref\":\"paper\",\"y\":1.0,\"yanchor\":\"bottom\",\"yref\":\"paper\"},{\"font\":{\"size\":16},\"showarrow\":false,\"text\":\", Layer 5\",\"x\":0.6469387755102041,\"xanchor\":\"center\",\"xref\":\"paper\",\"y\":1.0,\"yanchor\":\"bottom\",\"yref\":\"paper\"},{\"font\":{\"size\":16},\"showarrow\":false,\"text\":\", Layer 6\",\"x\":0.7938775510204081,\"xanchor\":\"center\",\"xref\":\"paper\",\"y\":1.0,\"yanchor\":\"bottom\",\"yref\":\"paper\"},{\"font\":{\"size\":16},\"showarrow\":false,\"text\":\", Layer 7\",\"x\":0.9408163265306122,\"xanchor\":\"center\",\"xref\":\"paper\",\"y\":1.0,\"yanchor\":\"bottom\",\"yref\":\"paper\"}],\"margin\":{\"t\":100},\"title\":{\"text\":\"Accuracy of the Last-Flipped Heuristic of all Board Tile over the Layers\"},\"width\":1400,\"height\":300},                        {\"responsive\": true}                    ).then(function(){\n",
       "                            \n",
       "var gd = document.getElementById('2e2c40e1-4486-4c9f-830f-defeaf47b777');\n",
       "var x = new MutationObserver(function (mutations, observer) {{\n",
       "        var display = window.getComputedStyle(gd).display;\n",
       "        if (!display || display === 'none') {{\n",
       "            console.log([gd, 'removed!']);\n",
       "            Plotly.purge(gd);\n",
       "            observer.disconnect();\n",
       "        }}\n",
       "}});\n",
       "\n",
       "// Listen for the removal of the full notebook cells\n",
       "var notebookContainer = gd.closest('#notebook-container');\n",
       "if (notebookContainer) {{\n",
       "    x.observe(notebookContainer, {childList: true});\n",
       "}}\n",
       "\n",
       "// Listen for the clearing of the current output cell\n",
       "var outputEl = gd.closest('.output');\n",
       "if (outputEl) {{\n",
       "    x.observe(outputEl, {childList: true});\n",
       "}}\n",
       "\n",
       "                        })                };                });            </script>        </div>"
      ]
     },
     "metadata": {},
     "output_type": "display_data"
    }
   ],
   "source": [
    "# Ich mache noch schnell den Plot für alle Layer und dann kann ich ja morgen den Part schreiben\n",
    "\n",
    "scores = t.zeros((8, 6, 8, 8))\n",
    "\n",
    "for interval in range(6):\n",
    "    results_new ={}\n",
    "    for key in results_math_approx.keys():\n",
    "        results_new[key] = results_math_approx[key][:, interval*10:(interval+1)*20]\n",
    "    scores[:, interval, :, :] = get_score_from_results(results_new, [\"layer\", \"row\", \"col\"])[\"Accuracy\"]\n",
    "\n",
    "print(scores.shape)\n",
    "# It would be interesting to see the \n",
    "# TODO: Next: It would be interesting to visualize Rows with the first 10 moves, then the next 10 moves, and so on\n",
    "\n",
    "'''plot_boards_general(\n",
    "    x_labels=[f\"Layer {i}\" for i in range(1, 8)],\n",
    "    y_labels=[f\"Interval {i}\" for i in range(6)],\n",
    "    boards=scores[1:],\n",
    "    color_range=\"non_symmetric\",\n",
    "    title_text=\"Accuracy of the Last-Flipped Heuristic of all Board Tile over the Layers and Positions\",\n",
    "    save=True,\n",
    ")'''\n",
    "\n",
    "scores = get_score_from_results(results_new, [\"layer\", \"row\", \"col\"])[\"Accuracy\"]\n",
    "plot_boards_general(\n",
    "    x_labels=[f\"Layer {i}\" for i in range(1, 8)],\n",
    "    y_labels=[\"\"],\n",
    "    boards=scores[1:].unsqueeze(1),\n",
    "    color_range=\"non_symmetric\",\n",
    "    title_text=\"Accuracy of the Last-Flipped Heuristic of all Board Tile over the Layers\",\n",
    "    save=True,\n",
    ")"
   ]
  },
  {
   "cell_type": "code",
   "execution_count": 153,
   "metadata": {},
   "outputs": [
    {
     "data": {
      "application/vnd.plotly.v1+json": {
       "config": {
        "plotlyServerURL": "https://plot.ly"
       },
       "data": [
        {
         "coloraxis": "coloraxis",
         "hovertemplate": "pos: %{x}<br>layer: %{y}<br>Accuracy: %{z}<extra></extra>",
         "name": "0",
         "type": "heatmap",
         "xaxis": "x",
         "yaxis": "y",
         "z": [
          [
           0,
           0,
           0,
           0,
           0,
           0,
           0,
           0,
           0,
           0,
           0,
           0,
           0,
           0,
           0,
           0,
           0,
           0,
           0,
           0,
           0,
           0,
           0,
           0,
           0,
           0,
           0,
           0,
           0,
           0,
           0,
           0,
           0,
           0,
           0,
           0,
           0,
           0,
           0,
           0,
           0,
           0,
           0,
           0,
           0,
           0,
           0,
           0,
           0,
           0,
           0,
           0,
           0,
           0,
           0,
           0,
           0,
           0,
           0
          ],
          [
           1,
           1,
           0.7187,
           0.8426,
           0.68525,
           0.89185,
           0.83695,
           0.8076,
           0.85025,
           0.84195,
           0.8399,
           0.77875,
           0.82765,
           0.78575,
           0.8310416,
           0.82162327,
           0.8257913,
           0.8144629,
           0.819541,
           0.78978693,
           0.80019003,
           0.715572,
           0.7839676,
           0.7533904,
           0.78922623,
           0.6605445,
           0.7623168,
           0.701497,
           0.79407793,
           0.70486635,
           0.79584795,
           0.7381286,
           0.79138523,
           0.695748,
           0.798379,
           0.76637435,
           0.76768386,
           0.782698,
           0.7759423,
           0.77880806,
           0.75499177,
           0.7764411,
           0.73602563,
           0.7824778,
           0.7351219,
           0.76043546,
           0.7496621,
           0.7507024,
           0.7479475,
           0.75192165,
           0.7437913,
           0.74444777,
           0.73879516,
           0.7278754,
           0.755382,
           0.7105726,
           0.75846887,
           0.69816905,
           0.7420339
          ],
          [
           1,
           0.49955,
           0.6678,
           0.7798,
           0.7184,
           0.7293,
           0.72075,
           0.69615,
           0.716,
           0.72935,
           0.7441,
           0.7502,
           0.7492749,
           0.7537377,
           0.73210984,
           0.7655,
           0.7324465,
           0.76085,
           0.70547056,
           0.7317366,
           0.6842,
           0.68893445,
           0.67165077,
           0.7218222,
           0.6685337,
           0.64395756,
           0.6206552,
           0.6575644,
           0.66419816,
           0.69154155,
           0.6840288,
           0.71207416,
           0.68743426,
           0.6769501,
           0.69074696,
           0.7100045,
           0.7482454,
           0.7429763,
           0.75197184,
           0.7420735,
           0.7570869,
           0.7529483,
           0.7583115,
           0.7503535,
           0.7562169,
           0.749696,
           0.7511621,
           0.73021436,
           0.73679686,
           0.7179775,
           0.7243775,
           0.72036755,
           0.72026765,
           0.71249425,
           0.7146614,
           0.72453386,
           0.70948845,
           0.7155342,
           0.7044908
          ],
          [
           1,
           0.9155,
           0.6182,
           0.84175,
           0.68185,
           0.8135,
           0.6975,
           0.7302,
           0.65345,
           0.7706,
           0.67515,
           0.75081265,
           0.6639332,
           0.7561134,
           0.60843045,
           0.7661682,
           0.59983,
           0.71895164,
           0.6081804,
           0.764956,
           0.59317964,
           0.7819301,
           0.6097,
           0.72329783,
           0.6094328,
           0.73715544,
           0.5872881,
           0.7180026,
           0.5607402,
           0.7161013,
           0.5575075,
           0.6876157,
           0.56258756,
           0.67882884,
           0.5948759,
           0.65747046,
           0.62313396,
           0.6594551,
           0.58583176,
           0.6761446,
           0.591133,
           0.65348524,
           0.61959916,
           0.66782284,
           0.5869488,
           0.6795001,
           0.57441413,
           0.69211364,
           0.58531874,
           0.6997724,
           0.57868147,
           0.68980026,
           0.5939738,
           0.70162153,
           0.59835017,
           0.68408734,
           0.59275925,
           0.67587113,
           0.59916294
          ],
          [
           1,
           0.7512,
           0.4996,
           0.84805,
           0.70925,
           0.79405,
           0.74515,
           0.7736,
           0.7759,
           0.7747,
           0.76265,
           0.75635,
           0.7699885,
           0.76635,
           0.71105,
           0.77385,
           0.69636965,
           0.7623,
           0.6818,
           0.76505,
           0.67108357,
           0.7496,
           0.70495576,
           0.72772276,
           0.70645595,
           0.74046105,
           0.69531953,
           0.72332233,
           0.71257126,
           0.7262363,
           0.71653664,
           0.71230614,
           0.69795364,
           0.71816546,
           0.7027081,
           0.6930312,
           0.7225868,
           0.67857677,
           0.6985066,
           0.7028231,
           0.6884901,
           0.70254844,
           0.68388325,
           0.7080431,
           0.69081426,
           0.6889981,
           0.6876697,
           0.69850504,
           0.66150445,
           0.6922036,
           0.6654763,
           0.67598355,
           0.67004925,
           0.68270916,
           0.65577143,
           0.6711258,
           0.64707655,
           0.6630473,
           0.63187915
          ],
          [
           1,
           0.8347,
           0.74355,
           0.7499,
           0.84265,
           0.77555,
           0.8189,
           0.75735,
           0.79,
           0.7316,
           0.74285,
           0.74035,
           0.74555,
           0.7379,
           0.75955,
           0.7282,
           0.7592,
           0.734,
           0.75063753,
           0.7319732,
           0.7378869,
           0.7123856,
           0.73283666,
           0.71752936,
           0.7193219,
           0.7054911,
           0.71397847,
           0.70452046,
           0.7086772,
           0.6986096,
           0.6978943,
           0.7042317,
           0.69032127,
           0.6849137,
           0.6828829,
           0.68394715,
           0.6864021,
           0.6766944,
           0.68201613,
           0.67704475,
           0.6776181,
           0.67050517,
           0.6732792,
           0.6722445,
           0.668003,
           0.6624261,
           0.6613518,
           0.6576495,
           0.6539137,
           0.65466475,
           0.6463219,
           0.64345086,
           0.6434979,
           0.6401481,
           0.63083315,
           0.62404925,
           0.62418056,
           0.6163041,
           0.61
          ],
          [
           1,
           0.57935,
           0.9648,
           0.779,
           0.7408,
           0.75205,
           0.69695,
           0.72855,
           0.69055,
           0.69485,
           0.67585,
           0.6781,
           0.660433,
           0.6583,
           0.64763236,
           0.6421821,
           0.6316447,
           0.62606263,
           0.6283128,
           0.6099915,
           0.6311262,
           0.59681934,
           0.613334,
           0.59375936,
           0.62331814,
           0.5881676,
           0.616054,
           0.5864466,
           0.6226491,
           0.5759668,
           0.6197479,
           0.5669118,
           0.61982894,
           0.57085687,
           0.60759306,
           0.57733095,
           0.6007502,
           0.58721745,
           0.6207552,
           0.5859379,
           0.6211742,
           0.59092957,
           0.63783187,
           0.59331864,
           0.64356434,
           0.5873,
           0.6484,
           0.5776289,
           0.65915,
           0.5958,
           0.65555,
           0.619731,
           0.64725,
           0.63125,
           0.6428,
           0.6386,
           0.64635,
           0.63905,
           0.61755
          ],
          [
           1,
           0.66635,
           0.42555,
           0.54915,
           0.5389,
           0.54925,
           0.44225,
           0.52945,
           0.5508,
           0.5305,
           0.5545,
           0.5211,
           0.5813,
           0.51085,
           0.61415,
           0.51245,
           0.6108,
           0.50755,
           0.6233,
           0.50555,
           0.566,
           0.5032,
           0.61595,
           0.5067,
           0.57715,
           0.502,
           0.5828,
           0.50892544,
           0.5641,
           0.500675,
           0.57317865,
           0.5133,
           0.52855,
           0.5174759,
           0.53847694,
           0.53852695,
           0.56555,
           0.52985,
           0.55775,
           0.52295,
           0.54525,
           0.5281764,
           0.5406,
           0.52702636,
           0.5324,
           0.5279764,
           0.5185,
           0.53185,
           0.51615,
           0.539727,
           0.5131,
           0.54595,
           0.5063753,
           0.54895,
           0.49935,
           0.5466,
           0.51135,
           0.4973,
           0.5708
          ]
         ]
        }
       ],
       "layout": {
        "coloraxis": {
         "colorbar": {
          "title": {
           "text": "Accuracy"
          }
         },
         "colorscale": [
          [
           0,
           "#0d0887"
          ],
          [
           0.1111111111111111,
           "#46039f"
          ],
          [
           0.2222222222222222,
           "#7201a8"
          ],
          [
           0.3333333333333333,
           "#9c179e"
          ],
          [
           0.4444444444444444,
           "#bd3786"
          ],
          [
           0.5555555555555556,
           "#d8576b"
          ],
          [
           0.6666666666666666,
           "#ed7953"
          ],
          [
           0.7777777777777778,
           "#fb9f3a"
          ],
          [
           0.8888888888888888,
           "#fdca26"
          ],
          [
           1,
           "#f0f921"
          ]
         ]
        },
        "template": {
         "data": {
          "bar": [
           {
            "error_x": {
             "color": "#2a3f5f"
            },
            "error_y": {
             "color": "#2a3f5f"
            },
            "marker": {
             "line": {
              "color": "#E5ECF6",
              "width": 0.5
             },
             "pattern": {
              "fillmode": "overlay",
              "size": 10,
              "solidity": 0.2
             }
            },
            "type": "bar"
           }
          ],
          "barpolar": [
           {
            "marker": {
             "line": {
              "color": "#E5ECF6",
              "width": 0.5
             },
             "pattern": {
              "fillmode": "overlay",
              "size": 10,
              "solidity": 0.2
             }
            },
            "type": "barpolar"
           }
          ],
          "carpet": [
           {
            "aaxis": {
             "endlinecolor": "#2a3f5f",
             "gridcolor": "white",
             "linecolor": "white",
             "minorgridcolor": "white",
             "startlinecolor": "#2a3f5f"
            },
            "baxis": {
             "endlinecolor": "#2a3f5f",
             "gridcolor": "white",
             "linecolor": "white",
             "minorgridcolor": "white",
             "startlinecolor": "#2a3f5f"
            },
            "type": "carpet"
           }
          ],
          "choropleth": [
           {
            "colorbar": {
             "outlinewidth": 0,
             "ticks": ""
            },
            "type": "choropleth"
           }
          ],
          "contour": [
           {
            "colorbar": {
             "outlinewidth": 0,
             "ticks": ""
            },
            "colorscale": [
             [
              0,
              "#0d0887"
             ],
             [
              0.1111111111111111,
              "#46039f"
             ],
             [
              0.2222222222222222,
              "#7201a8"
             ],
             [
              0.3333333333333333,
              "#9c179e"
             ],
             [
              0.4444444444444444,
              "#bd3786"
             ],
             [
              0.5555555555555556,
              "#d8576b"
             ],
             [
              0.6666666666666666,
              "#ed7953"
             ],
             [
              0.7777777777777778,
              "#fb9f3a"
             ],
             [
              0.8888888888888888,
              "#fdca26"
             ],
             [
              1,
              "#f0f921"
             ]
            ],
            "type": "contour"
           }
          ],
          "contourcarpet": [
           {
            "colorbar": {
             "outlinewidth": 0,
             "ticks": ""
            },
            "type": "contourcarpet"
           }
          ],
          "heatmap": [
           {
            "colorbar": {
             "outlinewidth": 0,
             "ticks": ""
            },
            "colorscale": [
             [
              0,
              "#0d0887"
             ],
             [
              0.1111111111111111,
              "#46039f"
             ],
             [
              0.2222222222222222,
              "#7201a8"
             ],
             [
              0.3333333333333333,
              "#9c179e"
             ],
             [
              0.4444444444444444,
              "#bd3786"
             ],
             [
              0.5555555555555556,
              "#d8576b"
             ],
             [
              0.6666666666666666,
              "#ed7953"
             ],
             [
              0.7777777777777778,
              "#fb9f3a"
             ],
             [
              0.8888888888888888,
              "#fdca26"
             ],
             [
              1,
              "#f0f921"
             ]
            ],
            "type": "heatmap"
           }
          ],
          "heatmapgl": [
           {
            "colorbar": {
             "outlinewidth": 0,
             "ticks": ""
            },
            "colorscale": [
             [
              0,
              "#0d0887"
             ],
             [
              0.1111111111111111,
              "#46039f"
             ],
             [
              0.2222222222222222,
              "#7201a8"
             ],
             [
              0.3333333333333333,
              "#9c179e"
             ],
             [
              0.4444444444444444,
              "#bd3786"
             ],
             [
              0.5555555555555556,
              "#d8576b"
             ],
             [
              0.6666666666666666,
              "#ed7953"
             ],
             [
              0.7777777777777778,
              "#fb9f3a"
             ],
             [
              0.8888888888888888,
              "#fdca26"
             ],
             [
              1,
              "#f0f921"
             ]
            ],
            "type": "heatmapgl"
           }
          ],
          "histogram": [
           {
            "marker": {
             "pattern": {
              "fillmode": "overlay",
              "size": 10,
              "solidity": 0.2
             }
            },
            "type": "histogram"
           }
          ],
          "histogram2d": [
           {
            "colorbar": {
             "outlinewidth": 0,
             "ticks": ""
            },
            "colorscale": [
             [
              0,
              "#0d0887"
             ],
             [
              0.1111111111111111,
              "#46039f"
             ],
             [
              0.2222222222222222,
              "#7201a8"
             ],
             [
              0.3333333333333333,
              "#9c179e"
             ],
             [
              0.4444444444444444,
              "#bd3786"
             ],
             [
              0.5555555555555556,
              "#d8576b"
             ],
             [
              0.6666666666666666,
              "#ed7953"
             ],
             [
              0.7777777777777778,
              "#fb9f3a"
             ],
             [
              0.8888888888888888,
              "#fdca26"
             ],
             [
              1,
              "#f0f921"
             ]
            ],
            "type": "histogram2d"
           }
          ],
          "histogram2dcontour": [
           {
            "colorbar": {
             "outlinewidth": 0,
             "ticks": ""
            },
            "colorscale": [
             [
              0,
              "#0d0887"
             ],
             [
              0.1111111111111111,
              "#46039f"
             ],
             [
              0.2222222222222222,
              "#7201a8"
             ],
             [
              0.3333333333333333,
              "#9c179e"
             ],
             [
              0.4444444444444444,
              "#bd3786"
             ],
             [
              0.5555555555555556,
              "#d8576b"
             ],
             [
              0.6666666666666666,
              "#ed7953"
             ],
             [
              0.7777777777777778,
              "#fb9f3a"
             ],
             [
              0.8888888888888888,
              "#fdca26"
             ],
             [
              1,
              "#f0f921"
             ]
            ],
            "type": "histogram2dcontour"
           }
          ],
          "mesh3d": [
           {
            "colorbar": {
             "outlinewidth": 0,
             "ticks": ""
            },
            "type": "mesh3d"
           }
          ],
          "parcoords": [
           {
            "line": {
             "colorbar": {
              "outlinewidth": 0,
              "ticks": ""
             }
            },
            "type": "parcoords"
           }
          ],
          "pie": [
           {
            "automargin": true,
            "type": "pie"
           }
          ],
          "scatter": [
           {
            "fillpattern": {
             "fillmode": "overlay",
             "size": 10,
             "solidity": 0.2
            },
            "type": "scatter"
           }
          ],
          "scatter3d": [
           {
            "line": {
             "colorbar": {
              "outlinewidth": 0,
              "ticks": ""
             }
            },
            "marker": {
             "colorbar": {
              "outlinewidth": 0,
              "ticks": ""
             }
            },
            "type": "scatter3d"
           }
          ],
          "scattercarpet": [
           {
            "marker": {
             "colorbar": {
              "outlinewidth": 0,
              "ticks": ""
             }
            },
            "type": "scattercarpet"
           }
          ],
          "scattergeo": [
           {
            "marker": {
             "colorbar": {
              "outlinewidth": 0,
              "ticks": ""
             }
            },
            "type": "scattergeo"
           }
          ],
          "scattergl": [
           {
            "marker": {
             "colorbar": {
              "outlinewidth": 0,
              "ticks": ""
             }
            },
            "type": "scattergl"
           }
          ],
          "scattermapbox": [
           {
            "marker": {
             "colorbar": {
              "outlinewidth": 0,
              "ticks": ""
             }
            },
            "type": "scattermapbox"
           }
          ],
          "scatterpolar": [
           {
            "marker": {
             "colorbar": {
              "outlinewidth": 0,
              "ticks": ""
             }
            },
            "type": "scatterpolar"
           }
          ],
          "scatterpolargl": [
           {
            "marker": {
             "colorbar": {
              "outlinewidth": 0,
              "ticks": ""
             }
            },
            "type": "scatterpolargl"
           }
          ],
          "scatterternary": [
           {
            "marker": {
             "colorbar": {
              "outlinewidth": 0,
              "ticks": ""
             }
            },
            "type": "scatterternary"
           }
          ],
          "surface": [
           {
            "colorbar": {
             "outlinewidth": 0,
             "ticks": ""
            },
            "colorscale": [
             [
              0,
              "#0d0887"
             ],
             [
              0.1111111111111111,
              "#46039f"
             ],
             [
              0.2222222222222222,
              "#7201a8"
             ],
             [
              0.3333333333333333,
              "#9c179e"
             ],
             [
              0.4444444444444444,
              "#bd3786"
             ],
             [
              0.5555555555555556,
              "#d8576b"
             ],
             [
              0.6666666666666666,
              "#ed7953"
             ],
             [
              0.7777777777777778,
              "#fb9f3a"
             ],
             [
              0.8888888888888888,
              "#fdca26"
             ],
             [
              1,
              "#f0f921"
             ]
            ],
            "type": "surface"
           }
          ],
          "table": [
           {
            "cells": {
             "fill": {
              "color": "#EBF0F8"
             },
             "line": {
              "color": "white"
             }
            },
            "header": {
             "fill": {
              "color": "#C8D4E3"
             },
             "line": {
              "color": "white"
             }
            },
            "type": "table"
           }
          ]
         },
         "layout": {
          "annotationdefaults": {
           "arrowcolor": "#2a3f5f",
           "arrowhead": 0,
           "arrowwidth": 1
          },
          "autotypenumbers": "strict",
          "coloraxis": {
           "colorbar": {
            "outlinewidth": 0,
            "ticks": ""
           }
          },
          "colorscale": {
           "diverging": [
            [
             0,
             "#8e0152"
            ],
            [
             0.1,
             "#c51b7d"
            ],
            [
             0.2,
             "#de77ae"
            ],
            [
             0.3,
             "#f1b6da"
            ],
            [
             0.4,
             "#fde0ef"
            ],
            [
             0.5,
             "#f7f7f7"
            ],
            [
             0.6,
             "#e6f5d0"
            ],
            [
             0.7,
             "#b8e186"
            ],
            [
             0.8,
             "#7fbc41"
            ],
            [
             0.9,
             "#4d9221"
            ],
            [
             1,
             "#276419"
            ]
           ],
           "sequential": [
            [
             0,
             "#0d0887"
            ],
            [
             0.1111111111111111,
             "#46039f"
            ],
            [
             0.2222222222222222,
             "#7201a8"
            ],
            [
             0.3333333333333333,
             "#9c179e"
            ],
            [
             0.4444444444444444,
             "#bd3786"
            ],
            [
             0.5555555555555556,
             "#d8576b"
            ],
            [
             0.6666666666666666,
             "#ed7953"
            ],
            [
             0.7777777777777778,
             "#fb9f3a"
            ],
            [
             0.8888888888888888,
             "#fdca26"
            ],
            [
             1,
             "#f0f921"
            ]
           ],
           "sequentialminus": [
            [
             0,
             "#0d0887"
            ],
            [
             0.1111111111111111,
             "#46039f"
            ],
            [
             0.2222222222222222,
             "#7201a8"
            ],
            [
             0.3333333333333333,
             "#9c179e"
            ],
            [
             0.4444444444444444,
             "#bd3786"
            ],
            [
             0.5555555555555556,
             "#d8576b"
            ],
            [
             0.6666666666666666,
             "#ed7953"
            ],
            [
             0.7777777777777778,
             "#fb9f3a"
            ],
            [
             0.8888888888888888,
             "#fdca26"
            ],
            [
             1,
             "#f0f921"
            ]
           ]
          },
          "colorway": [
           "#636efa",
           "#EF553B",
           "#00cc96",
           "#ab63fa",
           "#FFA15A",
           "#19d3f3",
           "#FF6692",
           "#B6E880",
           "#FF97FF",
           "#FECB52"
          ],
          "font": {
           "color": "#2a3f5f"
          },
          "geo": {
           "bgcolor": "white",
           "lakecolor": "white",
           "landcolor": "#E5ECF6",
           "showlakes": true,
           "showland": true,
           "subunitcolor": "white"
          },
          "hoverlabel": {
           "align": "left"
          },
          "hovermode": "closest",
          "mapbox": {
           "style": "light"
          },
          "paper_bgcolor": "white",
          "plot_bgcolor": "#E5ECF6",
          "polar": {
           "angularaxis": {
            "gridcolor": "white",
            "linecolor": "white",
            "ticks": ""
           },
           "bgcolor": "#E5ECF6",
           "radialaxis": {
            "gridcolor": "white",
            "linecolor": "white",
            "ticks": ""
           }
          },
          "scene": {
           "xaxis": {
            "backgroundcolor": "#E5ECF6",
            "gridcolor": "white",
            "gridwidth": 2,
            "linecolor": "white",
            "showbackground": true,
            "ticks": "",
            "zerolinecolor": "white"
           },
           "yaxis": {
            "backgroundcolor": "#E5ECF6",
            "gridcolor": "white",
            "gridwidth": 2,
            "linecolor": "white",
            "showbackground": true,
            "ticks": "",
            "zerolinecolor": "white"
           },
           "zaxis": {
            "backgroundcolor": "#E5ECF6",
            "gridcolor": "white",
            "gridwidth": 2,
            "linecolor": "white",
            "showbackground": true,
            "ticks": "",
            "zerolinecolor": "white"
           }
          },
          "shapedefaults": {
           "line": {
            "color": "#2a3f5f"
           }
          },
          "ternary": {
           "aaxis": {
            "gridcolor": "white",
            "linecolor": "white",
            "ticks": ""
           },
           "baxis": {
            "gridcolor": "white",
            "linecolor": "white",
            "ticks": ""
           },
           "bgcolor": "#E5ECF6",
           "caxis": {
            "gridcolor": "white",
            "linecolor": "white",
            "ticks": ""
           }
          },
          "title": {
           "x": 0.05
          },
          "xaxis": {
           "automargin": true,
           "gridcolor": "white",
           "linecolor": "white",
           "ticks": "",
           "title": {
            "standoff": 15
           },
           "zerolinecolor": "white",
           "zerolinewidth": 2
          },
          "yaxis": {
           "automargin": true,
           "gridcolor": "white",
           "linecolor": "white",
           "ticks": "",
           "title": {
            "standoff": 15
           },
           "zerolinecolor": "white",
           "zerolinewidth": 2
          }
         }
        },
        "title": {
         "text": "Accuracy of the Board over all Layers and Positions"
        },
        "xaxis": {
         "anchor": "y",
         "constrain": "domain",
         "domain": [
          0,
          1
         ],
         "scaleanchor": "y",
         "title": {
          "text": "pos"
         }
        },
        "yaxis": {
         "anchor": "x",
         "autorange": "reversed",
         "constrain": "domain",
         "domain": [
          0,
          1
         ],
         "title": {
          "text": "layer"
         }
        }
       }
      },
      "text/html": [
       "<div>                            <div id=\"a18ecf18-98f8-40b9-a35b-590fc4001a4d\" class=\"plotly-graph-div\" style=\"height:525px; width:100%;\"></div>            <script type=\"text/javascript\">                require([\"plotly\"], function(Plotly) {                    window.PLOTLYENV=window.PLOTLYENV || {};                                    if (document.getElementById(\"a18ecf18-98f8-40b9-a35b-590fc4001a4d\")) {                    Plotly.newPlot(                        \"a18ecf18-98f8-40b9-a35b-590fc4001a4d\",                        [{\"coloraxis\":\"coloraxis\",\"name\":\"0\",\"z\":[[0.0,0.0,0.0,0.0,0.0,0.0,0.0,0.0,0.0,0.0,0.0,0.0,0.0,0.0,0.0,0.0,0.0,0.0,0.0,0.0,0.0,0.0,0.0,0.0,0.0,0.0,0.0,0.0,0.0,0.0,0.0,0.0,0.0,0.0,0.0,0.0,0.0,0.0,0.0,0.0,0.0,0.0,0.0,0.0,0.0,0.0,0.0,0.0,0.0,0.0,0.0,0.0,0.0,0.0,0.0,0.0,0.0,0.0,0.0],[1.0,1.0,0.7187,0.8426,0.68525,0.89185,0.83695,0.8076,0.85025,0.84195,0.8399,0.77875,0.82765,0.78575,0.8310416,0.82162327,0.8257913,0.8144629,0.819541,0.78978693,0.80019003,0.715572,0.7839676,0.7533904,0.78922623,0.6605445,0.7623168,0.701497,0.79407793,0.70486635,0.79584795,0.7381286,0.79138523,0.695748,0.798379,0.76637435,0.76768386,0.782698,0.7759423,0.77880806,0.75499177,0.7764411,0.73602563,0.7824778,0.7351219,0.76043546,0.7496621,0.7507024,0.7479475,0.75192165,0.7437913,0.74444777,0.73879516,0.7278754,0.755382,0.7105726,0.75846887,0.69816905,0.7420339],[1.0,0.49955,0.6678,0.7798,0.7184,0.7293,0.72075,0.69615,0.716,0.72935,0.7441,0.7502,0.7492749,0.7537377,0.73210984,0.7655,0.7324465,0.76085,0.70547056,0.7317366,0.6842,0.68893445,0.67165077,0.7218222,0.6685337,0.64395756,0.6206552,0.6575644,0.66419816,0.69154155,0.6840288,0.71207416,0.68743426,0.6769501,0.69074696,0.7100045,0.7482454,0.7429763,0.75197184,0.7420735,0.7570869,0.7529483,0.7583115,0.7503535,0.7562169,0.749696,0.7511621,0.73021436,0.73679686,0.7179775,0.7243775,0.72036755,0.72026765,0.71249425,0.7146614,0.72453386,0.70948845,0.7155342,0.7044908],[1.0,0.9155,0.6182,0.84175,0.68185,0.8135,0.6975,0.7302,0.65345,0.7706,0.67515,0.75081265,0.6639332,0.7561134,0.60843045,0.7661682,0.59983,0.71895164,0.6081804,0.764956,0.59317964,0.7819301,0.6097,0.72329783,0.6094328,0.73715544,0.5872881,0.7180026,0.5607402,0.7161013,0.5575075,0.6876157,0.56258756,0.67882884,0.5948759,0.65747046,0.62313396,0.6594551,0.58583176,0.6761446,0.591133,0.65348524,0.61959916,0.66782284,0.5869488,0.6795001,0.57441413,0.69211364,0.58531874,0.6997724,0.57868147,0.68980026,0.5939738,0.70162153,0.59835017,0.68408734,0.59275925,0.67587113,0.59916294],[1.0,0.7512,0.4996,0.84805,0.70925,0.79405,0.74515,0.7736,0.7759,0.7747,0.76265,0.75635,0.7699885,0.76635,0.71105,0.77385,0.69636965,0.7623,0.6818,0.76505,0.67108357,0.7496,0.70495576,0.72772276,0.70645595,0.74046105,0.69531953,0.72332233,0.71257126,0.7262363,0.71653664,0.71230614,0.69795364,0.71816546,0.7027081,0.6930312,0.7225868,0.67857677,0.6985066,0.7028231,0.6884901,0.70254844,0.68388325,0.7080431,0.69081426,0.6889981,0.6876697,0.69850504,0.66150445,0.6922036,0.6654763,0.67598355,0.67004925,0.68270916,0.65577143,0.6711258,0.64707655,0.6630473,0.63187915],[1.0,0.8347,0.74355,0.7499,0.84265,0.77555,0.8189,0.75735,0.79,0.7316,0.74285,0.74035,0.74555,0.7379,0.75955,0.7282,0.7592,0.734,0.75063753,0.7319732,0.7378869,0.7123856,0.73283666,0.71752936,0.7193219,0.7054911,0.71397847,0.70452046,0.7086772,0.6986096,0.6978943,0.7042317,0.69032127,0.6849137,0.6828829,0.68394715,0.6864021,0.6766944,0.68201613,0.67704475,0.6776181,0.67050517,0.6732792,0.6722445,0.668003,0.6624261,0.6613518,0.6576495,0.6539137,0.65466475,0.6463219,0.64345086,0.6434979,0.6401481,0.63083315,0.62404925,0.62418056,0.6163041,0.61],[1.0,0.57935,0.9648,0.779,0.7408,0.75205,0.69695,0.72855,0.69055,0.69485,0.67585,0.6781,0.660433,0.6583,0.64763236,0.6421821,0.6316447,0.62606263,0.6283128,0.6099915,0.6311262,0.59681934,0.613334,0.59375936,0.62331814,0.5881676,0.616054,0.5864466,0.6226491,0.5759668,0.6197479,0.5669118,0.61982894,0.57085687,0.60759306,0.57733095,0.6007502,0.58721745,0.6207552,0.5859379,0.6211742,0.59092957,0.63783187,0.59331864,0.64356434,0.5873,0.6484,0.5776289,0.65915,0.5958,0.65555,0.619731,0.64725,0.63125,0.6428,0.6386,0.64635,0.63905,0.61755],[1.0,0.66635,0.42555,0.54915,0.5389,0.54925,0.44225,0.52945,0.5508,0.5305,0.5545,0.5211,0.5813,0.51085,0.61415,0.51245,0.6108,0.50755,0.6233,0.50555,0.566,0.5032,0.61595,0.5067,0.57715,0.502,0.5828,0.50892544,0.5641,0.500675,0.57317865,0.5133,0.52855,0.5174759,0.53847694,0.53852695,0.56555,0.52985,0.55775,0.52295,0.54525,0.5281764,0.5406,0.52702636,0.5324,0.5279764,0.5185,0.53185,0.51615,0.539727,0.5131,0.54595,0.5063753,0.54895,0.49935,0.5466,0.51135,0.4973,0.5708]],\"type\":\"heatmap\",\"xaxis\":\"x\",\"yaxis\":\"y\",\"hovertemplate\":\"pos: %{x}\\u003cbr\\u003elayer: %{y}\\u003cbr\\u003eAccuracy: %{z}\\u003cextra\\u003e\\u003c\\u002fextra\\u003e\"}],                        {\"template\":{\"data\":{\"histogram2dcontour\":[{\"type\":\"histogram2dcontour\",\"colorbar\":{\"outlinewidth\":0,\"ticks\":\"\"},\"colorscale\":[[0.0,\"#0d0887\"],[0.1111111111111111,\"#46039f\"],[0.2222222222222222,\"#7201a8\"],[0.3333333333333333,\"#9c179e\"],[0.4444444444444444,\"#bd3786\"],[0.5555555555555556,\"#d8576b\"],[0.6666666666666666,\"#ed7953\"],[0.7777777777777778,\"#fb9f3a\"],[0.8888888888888888,\"#fdca26\"],[1.0,\"#f0f921\"]]}],\"choropleth\":[{\"type\":\"choropleth\",\"colorbar\":{\"outlinewidth\":0,\"ticks\":\"\"}}],\"histogram2d\":[{\"type\":\"histogram2d\",\"colorbar\":{\"outlinewidth\":0,\"ticks\":\"\"},\"colorscale\":[[0.0,\"#0d0887\"],[0.1111111111111111,\"#46039f\"],[0.2222222222222222,\"#7201a8\"],[0.3333333333333333,\"#9c179e\"],[0.4444444444444444,\"#bd3786\"],[0.5555555555555556,\"#d8576b\"],[0.6666666666666666,\"#ed7953\"],[0.7777777777777778,\"#fb9f3a\"],[0.8888888888888888,\"#fdca26\"],[1.0,\"#f0f921\"]]}],\"heatmap\":[{\"type\":\"heatmap\",\"colorbar\":{\"outlinewidth\":0,\"ticks\":\"\"},\"colorscale\":[[0.0,\"#0d0887\"],[0.1111111111111111,\"#46039f\"],[0.2222222222222222,\"#7201a8\"],[0.3333333333333333,\"#9c179e\"],[0.4444444444444444,\"#bd3786\"],[0.5555555555555556,\"#d8576b\"],[0.6666666666666666,\"#ed7953\"],[0.7777777777777778,\"#fb9f3a\"],[0.8888888888888888,\"#fdca26\"],[1.0,\"#f0f921\"]]}],\"heatmapgl\":[{\"type\":\"heatmapgl\",\"colorbar\":{\"outlinewidth\":0,\"ticks\":\"\"},\"colorscale\":[[0.0,\"#0d0887\"],[0.1111111111111111,\"#46039f\"],[0.2222222222222222,\"#7201a8\"],[0.3333333333333333,\"#9c179e\"],[0.4444444444444444,\"#bd3786\"],[0.5555555555555556,\"#d8576b\"],[0.6666666666666666,\"#ed7953\"],[0.7777777777777778,\"#fb9f3a\"],[0.8888888888888888,\"#fdca26\"],[1.0,\"#f0f921\"]]}],\"contourcarpet\":[{\"type\":\"contourcarpet\",\"colorbar\":{\"outlinewidth\":0,\"ticks\":\"\"}}],\"contour\":[{\"type\":\"contour\",\"colorbar\":{\"outlinewidth\":0,\"ticks\":\"\"},\"colorscale\":[[0.0,\"#0d0887\"],[0.1111111111111111,\"#46039f\"],[0.2222222222222222,\"#7201a8\"],[0.3333333333333333,\"#9c179e\"],[0.4444444444444444,\"#bd3786\"],[0.5555555555555556,\"#d8576b\"],[0.6666666666666666,\"#ed7953\"],[0.7777777777777778,\"#fb9f3a\"],[0.8888888888888888,\"#fdca26\"],[1.0,\"#f0f921\"]]}],\"surface\":[{\"type\":\"surface\",\"colorbar\":{\"outlinewidth\":0,\"ticks\":\"\"},\"colorscale\":[[0.0,\"#0d0887\"],[0.1111111111111111,\"#46039f\"],[0.2222222222222222,\"#7201a8\"],[0.3333333333333333,\"#9c179e\"],[0.4444444444444444,\"#bd3786\"],[0.5555555555555556,\"#d8576b\"],[0.6666666666666666,\"#ed7953\"],[0.7777777777777778,\"#fb9f3a\"],[0.8888888888888888,\"#fdca26\"],[1.0,\"#f0f921\"]]}],\"mesh3d\":[{\"type\":\"mesh3d\",\"colorbar\":{\"outlinewidth\":0,\"ticks\":\"\"}}],\"scatter\":[{\"fillpattern\":{\"fillmode\":\"overlay\",\"size\":10,\"solidity\":0.2},\"type\":\"scatter\"}],\"parcoords\":[{\"type\":\"parcoords\",\"line\":{\"colorbar\":{\"outlinewidth\":0,\"ticks\":\"\"}}}],\"scatterpolargl\":[{\"type\":\"scatterpolargl\",\"marker\":{\"colorbar\":{\"outlinewidth\":0,\"ticks\":\"\"}}}],\"bar\":[{\"error_x\":{\"color\":\"#2a3f5f\"},\"error_y\":{\"color\":\"#2a3f5f\"},\"marker\":{\"line\":{\"color\":\"#E5ECF6\",\"width\":0.5},\"pattern\":{\"fillmode\":\"overlay\",\"size\":10,\"solidity\":0.2}},\"type\":\"bar\"}],\"scattergeo\":[{\"type\":\"scattergeo\",\"marker\":{\"colorbar\":{\"outlinewidth\":0,\"ticks\":\"\"}}}],\"scatterpolar\":[{\"type\":\"scatterpolar\",\"marker\":{\"colorbar\":{\"outlinewidth\":0,\"ticks\":\"\"}}}],\"histogram\":[{\"marker\":{\"pattern\":{\"fillmode\":\"overlay\",\"size\":10,\"solidity\":0.2}},\"type\":\"histogram\"}],\"scattergl\":[{\"type\":\"scattergl\",\"marker\":{\"colorbar\":{\"outlinewidth\":0,\"ticks\":\"\"}}}],\"scatter3d\":[{\"type\":\"scatter3d\",\"line\":{\"colorbar\":{\"outlinewidth\":0,\"ticks\":\"\"}},\"marker\":{\"colorbar\":{\"outlinewidth\":0,\"ticks\":\"\"}}}],\"scattermapbox\":[{\"type\":\"scattermapbox\",\"marker\":{\"colorbar\":{\"outlinewidth\":0,\"ticks\":\"\"}}}],\"scatterternary\":[{\"type\":\"scatterternary\",\"marker\":{\"colorbar\":{\"outlinewidth\":0,\"ticks\":\"\"}}}],\"scattercarpet\":[{\"type\":\"scattercarpet\",\"marker\":{\"colorbar\":{\"outlinewidth\":0,\"ticks\":\"\"}}}],\"carpet\":[{\"aaxis\":{\"endlinecolor\":\"#2a3f5f\",\"gridcolor\":\"white\",\"linecolor\":\"white\",\"minorgridcolor\":\"white\",\"startlinecolor\":\"#2a3f5f\"},\"baxis\":{\"endlinecolor\":\"#2a3f5f\",\"gridcolor\":\"white\",\"linecolor\":\"white\",\"minorgridcolor\":\"white\",\"startlinecolor\":\"#2a3f5f\"},\"type\":\"carpet\"}],\"table\":[{\"cells\":{\"fill\":{\"color\":\"#EBF0F8\"},\"line\":{\"color\":\"white\"}},\"header\":{\"fill\":{\"color\":\"#C8D4E3\"},\"line\":{\"color\":\"white\"}},\"type\":\"table\"}],\"barpolar\":[{\"marker\":{\"line\":{\"color\":\"#E5ECF6\",\"width\":0.5},\"pattern\":{\"fillmode\":\"overlay\",\"size\":10,\"solidity\":0.2}},\"type\":\"barpolar\"}],\"pie\":[{\"automargin\":true,\"type\":\"pie\"}]},\"layout\":{\"autotypenumbers\":\"strict\",\"colorway\":[\"#636efa\",\"#EF553B\",\"#00cc96\",\"#ab63fa\",\"#FFA15A\",\"#19d3f3\",\"#FF6692\",\"#B6E880\",\"#FF97FF\",\"#FECB52\"],\"font\":{\"color\":\"#2a3f5f\"},\"hovermode\":\"closest\",\"hoverlabel\":{\"align\":\"left\"},\"paper_bgcolor\":\"white\",\"plot_bgcolor\":\"#E5ECF6\",\"polar\":{\"bgcolor\":\"#E5ECF6\",\"angularaxis\":{\"gridcolor\":\"white\",\"linecolor\":\"white\",\"ticks\":\"\"},\"radialaxis\":{\"gridcolor\":\"white\",\"linecolor\":\"white\",\"ticks\":\"\"}},\"ternary\":{\"bgcolor\":\"#E5ECF6\",\"aaxis\":{\"gridcolor\":\"white\",\"linecolor\":\"white\",\"ticks\":\"\"},\"baxis\":{\"gridcolor\":\"white\",\"linecolor\":\"white\",\"ticks\":\"\"},\"caxis\":{\"gridcolor\":\"white\",\"linecolor\":\"white\",\"ticks\":\"\"}},\"coloraxis\":{\"colorbar\":{\"outlinewidth\":0,\"ticks\":\"\"}},\"colorscale\":{\"sequential\":[[0.0,\"#0d0887\"],[0.1111111111111111,\"#46039f\"],[0.2222222222222222,\"#7201a8\"],[0.3333333333333333,\"#9c179e\"],[0.4444444444444444,\"#bd3786\"],[0.5555555555555556,\"#d8576b\"],[0.6666666666666666,\"#ed7953\"],[0.7777777777777778,\"#fb9f3a\"],[0.8888888888888888,\"#fdca26\"],[1.0,\"#f0f921\"]],\"sequentialminus\":[[0.0,\"#0d0887\"],[0.1111111111111111,\"#46039f\"],[0.2222222222222222,\"#7201a8\"],[0.3333333333333333,\"#9c179e\"],[0.4444444444444444,\"#bd3786\"],[0.5555555555555556,\"#d8576b\"],[0.6666666666666666,\"#ed7953\"],[0.7777777777777778,\"#fb9f3a\"],[0.8888888888888888,\"#fdca26\"],[1.0,\"#f0f921\"]],\"diverging\":[[0,\"#8e0152\"],[0.1,\"#c51b7d\"],[0.2,\"#de77ae\"],[0.3,\"#f1b6da\"],[0.4,\"#fde0ef\"],[0.5,\"#f7f7f7\"],[0.6,\"#e6f5d0\"],[0.7,\"#b8e186\"],[0.8,\"#7fbc41\"],[0.9,\"#4d9221\"],[1,\"#276419\"]]},\"xaxis\":{\"gridcolor\":\"white\",\"linecolor\":\"white\",\"ticks\":\"\",\"title\":{\"standoff\":15},\"zerolinecolor\":\"white\",\"automargin\":true,\"zerolinewidth\":2},\"yaxis\":{\"gridcolor\":\"white\",\"linecolor\":\"white\",\"ticks\":\"\",\"title\":{\"standoff\":15},\"zerolinecolor\":\"white\",\"automargin\":true,\"zerolinewidth\":2},\"scene\":{\"xaxis\":{\"backgroundcolor\":\"#E5ECF6\",\"gridcolor\":\"white\",\"linecolor\":\"white\",\"showbackground\":true,\"ticks\":\"\",\"zerolinecolor\":\"white\",\"gridwidth\":2},\"yaxis\":{\"backgroundcolor\":\"#E5ECF6\",\"gridcolor\":\"white\",\"linecolor\":\"white\",\"showbackground\":true,\"ticks\":\"\",\"zerolinecolor\":\"white\",\"gridwidth\":2},\"zaxis\":{\"backgroundcolor\":\"#E5ECF6\",\"gridcolor\":\"white\",\"linecolor\":\"white\",\"showbackground\":true,\"ticks\":\"\",\"zerolinecolor\":\"white\",\"gridwidth\":2}},\"shapedefaults\":{\"line\":{\"color\":\"#2a3f5f\"}},\"annotationdefaults\":{\"arrowcolor\":\"#2a3f5f\",\"arrowhead\":0,\"arrowwidth\":1},\"geo\":{\"bgcolor\":\"white\",\"landcolor\":\"#E5ECF6\",\"subunitcolor\":\"white\",\"showland\":true,\"showlakes\":true,\"lakecolor\":\"white\"},\"title\":{\"x\":0.05},\"mapbox\":{\"style\":\"light\"}}},\"xaxis\":{\"anchor\":\"y\",\"domain\":[0.0,1.0],\"scaleanchor\":\"y\",\"constrain\":\"domain\",\"title\":{\"text\":\"pos\"}},\"yaxis\":{\"anchor\":\"x\",\"domain\":[0.0,1.0],\"autorange\":\"reversed\",\"constrain\":\"domain\",\"title\":{\"text\":\"layer\"}},\"coloraxis\":{\"colorbar\":{\"title\":{\"text\":\"Accuracy\"}},\"colorscale\":[[0.0,\"#0d0887\"],[0.1111111111111111,\"#46039f\"],[0.2222222222222222,\"#7201a8\"],[0.3333333333333333,\"#9c179e\"],[0.4444444444444444,\"#bd3786\"],[0.5555555555555556,\"#d8576b\"],[0.6666666666666666,\"#ed7953\"],[0.7777777777777778,\"#fb9f3a\"],[0.8888888888888888,\"#fdca26\"],[1.0,\"#f0f921\"]]},\"title\":{\"text\":\"Accuracy of the Board over all Layers and Positions\"}},                        {\"responsive\": true}                    ).then(function(){\n",
       "                            \n",
       "var gd = document.getElementById('a18ecf18-98f8-40b9-a35b-590fc4001a4d');\n",
       "var x = new MutationObserver(function (mutations, observer) {{\n",
       "        var display = window.getComputedStyle(gd).display;\n",
       "        if (!display || display === 'none') {{\n",
       "            console.log([gd, 'removed!']);\n",
       "            Plotly.purge(gd);\n",
       "            observer.disconnect();\n",
       "        }}\n",
       "}});\n",
       "\n",
       "// Listen for the removal of the full notebook cells\n",
       "var notebookContainer = gd.closest('#notebook-container');\n",
       "if (notebookContainer) {{\n",
       "    x.observe(notebookContainer, {childList: true});\n",
       "}}\n",
       "\n",
       "// Listen for the clearing of the current output cell\n",
       "var outputEl = gd.closest('.output');\n",
       "if (outputEl) {{\n",
       "    x.observe(outputEl, {childList: true});\n",
       "}}\n",
       "\n",
       "                        })                };                });            </script>        </div>"
      ]
     },
     "metadata": {},
     "output_type": "display_data"
    }
   ],
   "source": [
    "create_heatmap(\n",
    "    results_math_approx,\n",
    "    [\"layer\", \"pos\"],\n",
    "    \"Accuracy\",\n",
    "    \"Accuracy of the Board over all Layers and Positions\",\n",
    "    layer = None,\n",
    "    pos = None,\n",
    "    row = 3,\n",
    "    col = 3,\n",
    "    save=False\n",
    ")"
   ]
  },
  {
   "cell_type": "code",
   "execution_count": 64,
   "metadata": {},
   "outputs": [
    {
     "data": {
      "text/plain": [
       "tensor([0.5919, 0.6293, 0.6652, 0.6617, 0.7093, 0.6949, 0.7123, 0.5914],\n",
       "       device='cuda:0')"
      ]
     },
     "execution_count": 64,
     "metadata": {},
     "output_type": "execute_result"
    }
   ],
   "source": [
    "scores_vis[\"Accuracy\"][1][:]"
   ]
  }
 ],
 "metadata": {
  "kernelspec": {
   "display_name": "othello-env",
   "language": "python",
   "name": "python3"
  },
  "language_info": {
   "codemirror_mode": {
    "name": "ipython",
    "version": 3
   },
   "file_extension": ".py",
   "mimetype": "text/x-python",
   "name": "python",
   "nbconvert_exporter": "python",
   "pygments_lexer": "ipython3",
   "version": "3.11.9"
  }
 },
 "nbformat": 4,
 "nbformat_minor": 2
}
